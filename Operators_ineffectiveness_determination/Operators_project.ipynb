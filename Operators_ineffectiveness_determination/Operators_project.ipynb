{
 "cells": [
  {
   "cell_type": "markdown",
   "metadata": {},
   "source": [
    "# Определение неэффективных операторов\n",
    "\n",
    "Клиенты провайдера виртуальной телефонии — колл-центры, которые распределяют входящие вызовы на операторов и совершают исходящие вызовы силами операторов. Также операторы могут делать внутренние вызовы — вызовы друг между другом внутри сети виртуальной телефонии.\n",
    "\n",
    "Провайдеру необходимо помочь определить неэффективных операторов. Признаки низкой эффективности оператора:\n",
    "- много пропущенных входящих вызовов,\n",
    "- долгое ожидания ответа при входящих внешних вызовах,\n",
    "- мало исходящих вывозов — в случае тех колл-центров, что специализируются на обзвонах, а не обработке входящих звонков.\n",
    "\n",
    "Заказчиком исследования является продуктовый менеджер из отдела продуктовой разработки провадера. В дальнейшем на основе исследования будет разработан алгоритм для встраивания в сервис как отдельный функционал. Выявление неэффективных сотрудников позволит в будущем увеличить ценность сервиса для клиента, а значит потенциально увеличит время жизни клиента.\n",
    "\n",
    "\n",
    "**Ход исследования:**\n",
    "\n",
    "Данные со статистикой использования услуг провайдера и описание клиентов мы получим из файлов `telecom_dataset.csv` и `telecom_clients.csv`, соответтсвенно \n",
    "\n",
    "О качестве данных ничего не известно. Поэтому перед проведением исследовательского анализа нам понадобится сделать их обзор. Мы проверим данные на ошибки и затем на этапе предобработки мз исправим.\n",
    "\n",
    "**Этапы исследования:**\n",
    "1. Загрузка и изучение данных.\n",
    "2. Предобработка данных.\n",
    "3. Расчеты и добавление метрик, необходимых для исследования.\n",
    "4. Исследовательский анализ данных.\n",
    "5. Решение основных вопросов заказчика.\n",
    "6. Проверка статистических гипотез.\n",
    "7. Общий вывод и рекомендации для заказчика.\n",
    "8. Презентация результатов исследования."
   ]
  },
  {
   "cell_type": "markdown",
   "metadata": {},
   "source": [
    "## Обзор данных"
   ]
  },
  {
   "cell_type": "code",
   "execution_count": 1,
   "metadata": {},
   "outputs": [],
   "source": [
    "import pandas as pd\n",
    "import seaborn as sns\n",
    "import numpy as np\n",
    "import math as mth\n",
    "from scipy import stats as st\n",
    "import datetime as dt\n",
    "import matplotlib.pyplot as plt\n",
    "import warnings\n",
    "warnings.filterwarnings(\"ignore\")"
   ]
  },
  {
   "cell_type": "code",
   "execution_count": 2,
   "metadata": {},
   "outputs": [],
   "source": [
    "# функция для первичного анализа датасета\n",
    "def primary_analysis (data):\n",
    "    display(data.head(5))\n",
    "    display(data.info())\n",
    "    display(data.describe())\n",
    "    print('\\nКоличество уникальных значений в столбцах:')\n",
    "    print(data.nunique())\n",
    "    print(\"\\nКоличество явных дубликатов: {}, что составляет {:,.1%} от общего объема.\".format(data.duplicated().sum(), data.duplicated().mean()))"
   ]
  },
  {
   "cell_type": "markdown",
   "metadata": {},
   "source": [
    "### Информация об использовании услуг"
   ]
  },
  {
   "cell_type": "code",
   "execution_count": 3,
   "metadata": {},
   "outputs": [
    {
     "data": {
      "text/html": [
       "<div>\n",
       "<style scoped>\n",
       "    .dataframe tbody tr th:only-of-type {\n",
       "        vertical-align: middle;\n",
       "    }\n",
       "\n",
       "    .dataframe tbody tr th {\n",
       "        vertical-align: top;\n",
       "    }\n",
       "\n",
       "    .dataframe thead th {\n",
       "        text-align: right;\n",
       "    }\n",
       "</style>\n",
       "<table border=\"1\" class=\"dataframe\">\n",
       "  <thead>\n",
       "    <tr style=\"text-align: right;\">\n",
       "      <th></th>\n",
       "      <th>user_id</th>\n",
       "      <th>date</th>\n",
       "      <th>direction</th>\n",
       "      <th>internal</th>\n",
       "      <th>operator_id</th>\n",
       "      <th>is_missed_call</th>\n",
       "      <th>calls_count</th>\n",
       "      <th>call_duration</th>\n",
       "      <th>total_call_duration</th>\n",
       "    </tr>\n",
       "  </thead>\n",
       "  <tbody>\n",
       "    <tr>\n",
       "      <th>0</th>\n",
       "      <td>166377</td>\n",
       "      <td>2019-08-04 00:00:00+03:00</td>\n",
       "      <td>in</td>\n",
       "      <td>False</td>\n",
       "      <td>NaN</td>\n",
       "      <td>True</td>\n",
       "      <td>2</td>\n",
       "      <td>0</td>\n",
       "      <td>4</td>\n",
       "    </tr>\n",
       "    <tr>\n",
       "      <th>1</th>\n",
       "      <td>166377</td>\n",
       "      <td>2019-08-05 00:00:00+03:00</td>\n",
       "      <td>out</td>\n",
       "      <td>True</td>\n",
       "      <td>880022.0</td>\n",
       "      <td>True</td>\n",
       "      <td>3</td>\n",
       "      <td>0</td>\n",
       "      <td>5</td>\n",
       "    </tr>\n",
       "    <tr>\n",
       "      <th>2</th>\n",
       "      <td>166377</td>\n",
       "      <td>2019-08-05 00:00:00+03:00</td>\n",
       "      <td>out</td>\n",
       "      <td>True</td>\n",
       "      <td>880020.0</td>\n",
       "      <td>True</td>\n",
       "      <td>1</td>\n",
       "      <td>0</td>\n",
       "      <td>1</td>\n",
       "    </tr>\n",
       "    <tr>\n",
       "      <th>3</th>\n",
       "      <td>166377</td>\n",
       "      <td>2019-08-05 00:00:00+03:00</td>\n",
       "      <td>out</td>\n",
       "      <td>True</td>\n",
       "      <td>880020.0</td>\n",
       "      <td>False</td>\n",
       "      <td>1</td>\n",
       "      <td>10</td>\n",
       "      <td>18</td>\n",
       "    </tr>\n",
       "    <tr>\n",
       "      <th>4</th>\n",
       "      <td>166377</td>\n",
       "      <td>2019-08-05 00:00:00+03:00</td>\n",
       "      <td>out</td>\n",
       "      <td>False</td>\n",
       "      <td>880022.0</td>\n",
       "      <td>True</td>\n",
       "      <td>3</td>\n",
       "      <td>0</td>\n",
       "      <td>25</td>\n",
       "    </tr>\n",
       "  </tbody>\n",
       "</table>\n",
       "</div>"
      ],
      "text/plain": [
       "   user_id                       date direction internal  operator_id  \\\n",
       "0   166377  2019-08-04 00:00:00+03:00        in    False          NaN   \n",
       "1   166377  2019-08-05 00:00:00+03:00       out     True     880022.0   \n",
       "2   166377  2019-08-05 00:00:00+03:00       out     True     880020.0   \n",
       "3   166377  2019-08-05 00:00:00+03:00       out     True     880020.0   \n",
       "4   166377  2019-08-05 00:00:00+03:00       out    False     880022.0   \n",
       "\n",
       "   is_missed_call  calls_count  call_duration  total_call_duration  \n",
       "0            True            2              0                    4  \n",
       "1            True            3              0                    5  \n",
       "2            True            1              0                    1  \n",
       "3           False            1             10                   18  \n",
       "4            True            3              0                   25  "
      ]
     },
     "metadata": {},
     "output_type": "display_data"
    },
    {
     "name": "stdout",
     "output_type": "stream",
     "text": [
      "<class 'pandas.core.frame.DataFrame'>\n",
      "RangeIndex: 53902 entries, 0 to 53901\n",
      "Data columns (total 9 columns):\n",
      " #   Column               Non-Null Count  Dtype  \n",
      "---  ------               --------------  -----  \n",
      " 0   user_id              53902 non-null  int64  \n",
      " 1   date                 53902 non-null  object \n",
      " 2   direction            53902 non-null  object \n",
      " 3   internal             53785 non-null  object \n",
      " 4   operator_id          45730 non-null  float64\n",
      " 5   is_missed_call       53902 non-null  bool   \n",
      " 6   calls_count          53902 non-null  int64  \n",
      " 7   call_duration        53902 non-null  int64  \n",
      " 8   total_call_duration  53902 non-null  int64  \n",
      "dtypes: bool(1), float64(1), int64(4), object(3)\n",
      "memory usage: 3.3+ MB\n"
     ]
    },
    {
     "data": {
      "text/plain": [
       "None"
      ]
     },
     "metadata": {},
     "output_type": "display_data"
    },
    {
     "data": {
      "text/html": [
       "<div>\n",
       "<style scoped>\n",
       "    .dataframe tbody tr th:only-of-type {\n",
       "        vertical-align: middle;\n",
       "    }\n",
       "\n",
       "    .dataframe tbody tr th {\n",
       "        vertical-align: top;\n",
       "    }\n",
       "\n",
       "    .dataframe thead th {\n",
       "        text-align: right;\n",
       "    }\n",
       "</style>\n",
       "<table border=\"1\" class=\"dataframe\">\n",
       "  <thead>\n",
       "    <tr style=\"text-align: right;\">\n",
       "      <th></th>\n",
       "      <th>user_id</th>\n",
       "      <th>operator_id</th>\n",
       "      <th>calls_count</th>\n",
       "      <th>call_duration</th>\n",
       "      <th>total_call_duration</th>\n",
       "    </tr>\n",
       "  </thead>\n",
       "  <tbody>\n",
       "    <tr>\n",
       "      <th>count</th>\n",
       "      <td>53902.000000</td>\n",
       "      <td>45730.000000</td>\n",
       "      <td>53902.000000</td>\n",
       "      <td>53902.000000</td>\n",
       "      <td>53902.000000</td>\n",
       "    </tr>\n",
       "    <tr>\n",
       "      <th>mean</th>\n",
       "      <td>167295.344477</td>\n",
       "      <td>916535.993002</td>\n",
       "      <td>16.451245</td>\n",
       "      <td>866.684427</td>\n",
       "      <td>1157.133297</td>\n",
       "    </tr>\n",
       "    <tr>\n",
       "      <th>std</th>\n",
       "      <td>598.883775</td>\n",
       "      <td>21254.123136</td>\n",
       "      <td>62.917170</td>\n",
       "      <td>3731.791202</td>\n",
       "      <td>4403.468763</td>\n",
       "    </tr>\n",
       "    <tr>\n",
       "      <th>min</th>\n",
       "      <td>166377.000000</td>\n",
       "      <td>879896.000000</td>\n",
       "      <td>1.000000</td>\n",
       "      <td>0.000000</td>\n",
       "      <td>0.000000</td>\n",
       "    </tr>\n",
       "    <tr>\n",
       "      <th>25%</th>\n",
       "      <td>166782.000000</td>\n",
       "      <td>900788.000000</td>\n",
       "      <td>1.000000</td>\n",
       "      <td>0.000000</td>\n",
       "      <td>47.000000</td>\n",
       "    </tr>\n",
       "    <tr>\n",
       "      <th>50%</th>\n",
       "      <td>167162.000000</td>\n",
       "      <td>913938.000000</td>\n",
       "      <td>4.000000</td>\n",
       "      <td>38.000000</td>\n",
       "      <td>210.000000</td>\n",
       "    </tr>\n",
       "    <tr>\n",
       "      <th>75%</th>\n",
       "      <td>167819.000000</td>\n",
       "      <td>937708.000000</td>\n",
       "      <td>12.000000</td>\n",
       "      <td>572.000000</td>\n",
       "      <td>902.000000</td>\n",
       "    </tr>\n",
       "    <tr>\n",
       "      <th>max</th>\n",
       "      <td>168606.000000</td>\n",
       "      <td>973286.000000</td>\n",
       "      <td>4817.000000</td>\n",
       "      <td>144395.000000</td>\n",
       "      <td>166155.000000</td>\n",
       "    </tr>\n",
       "  </tbody>\n",
       "</table>\n",
       "</div>"
      ],
      "text/plain": [
       "             user_id    operator_id   calls_count  call_duration  \\\n",
       "count   53902.000000   45730.000000  53902.000000   53902.000000   \n",
       "mean   167295.344477  916535.993002     16.451245     866.684427   \n",
       "std       598.883775   21254.123136     62.917170    3731.791202   \n",
       "min    166377.000000  879896.000000      1.000000       0.000000   \n",
       "25%    166782.000000  900788.000000      1.000000       0.000000   \n",
       "50%    167162.000000  913938.000000      4.000000      38.000000   \n",
       "75%    167819.000000  937708.000000     12.000000     572.000000   \n",
       "max    168606.000000  973286.000000   4817.000000  144395.000000   \n",
       "\n",
       "       total_call_duration  \n",
       "count         53902.000000  \n",
       "mean           1157.133297  \n",
       "std            4403.468763  \n",
       "min               0.000000  \n",
       "25%              47.000000  \n",
       "50%             210.000000  \n",
       "75%             902.000000  \n",
       "max          166155.000000  "
      ]
     },
     "metadata": {},
     "output_type": "display_data"
    },
    {
     "name": "stdout",
     "output_type": "stream",
     "text": [
      "\n",
      "Количество уникальных значений в столбцах:\n",
      "user_id                 307\n",
      "date                    119\n",
      "direction                 2\n",
      "internal                  2\n",
      "operator_id            1092\n",
      "is_missed_call            2\n",
      "calls_count             502\n",
      "call_duration          5373\n",
      "total_call_duration    6040\n",
      "dtype: int64\n",
      "\n",
      "Количество явных дубликатов: 4900, что составляет 9.1% от общего объема.\n"
     ]
    }
   ],
   "source": [
    "data = pd.read_csv('telecom_dataset.csv')\n",
    "primary_analysis(data)"
   ]
  },
  {
   "cell_type": "markdown",
   "metadata": {},
   "source": [
    "Описание столбцов в `telecom_clients.csv` согласно документации:\n",
    "* `user_id` — идентификатор клиентского аккаунта в сервисе;\n",
    "* `date` — дата статистики;\n",
    "* `direction` — направление вызовов (out - исходящий вызов, in — входящий вызов);\n",
    "* `internal` — является ли звонок внутренним звонком между операторами клиента;\n",
    "* `operator_id` — идентификатор оператора;\n",
    "* `is_missed_call` — является ли звонок пропущенным;\n",
    "* `calls_count` — количество звонков;\n",
    "* `call_duration` — длительность звонка (без учета времени ожидания) в минутах;\n",
    "* `total_call_duration` — длительность звонка (с учетом времени ожидания) в минутах.\n",
    "\n",
    "В каждой строке таблицы представлены данные о звонках операторов. \n",
    "В столбцах `date`, `operator_id` и `internal` тип данных  не соответствует документации и имеются пропуски. Также в датасете есть явные дубликаты."
   ]
  },
  {
   "cell_type": "markdown",
   "metadata": {},
   "source": [
    "### Информация о клиентах"
   ]
  },
  {
   "cell_type": "code",
   "execution_count": 4,
   "metadata": {},
   "outputs": [
    {
     "data": {
      "text/html": [
       "<div>\n",
       "<style scoped>\n",
       "    .dataframe tbody tr th:only-of-type {\n",
       "        vertical-align: middle;\n",
       "    }\n",
       "\n",
       "    .dataframe tbody tr th {\n",
       "        vertical-align: top;\n",
       "    }\n",
       "\n",
       "    .dataframe thead th {\n",
       "        text-align: right;\n",
       "    }\n",
       "</style>\n",
       "<table border=\"1\" class=\"dataframe\">\n",
       "  <thead>\n",
       "    <tr style=\"text-align: right;\">\n",
       "      <th></th>\n",
       "      <th>user_id</th>\n",
       "      <th>tariff_plan</th>\n",
       "      <th>date_start</th>\n",
       "    </tr>\n",
       "  </thead>\n",
       "  <tbody>\n",
       "    <tr>\n",
       "      <th>0</th>\n",
       "      <td>166713</td>\n",
       "      <td>A</td>\n",
       "      <td>2019-08-15</td>\n",
       "    </tr>\n",
       "    <tr>\n",
       "      <th>1</th>\n",
       "      <td>166901</td>\n",
       "      <td>A</td>\n",
       "      <td>2019-08-23</td>\n",
       "    </tr>\n",
       "    <tr>\n",
       "      <th>2</th>\n",
       "      <td>168527</td>\n",
       "      <td>A</td>\n",
       "      <td>2019-10-29</td>\n",
       "    </tr>\n",
       "    <tr>\n",
       "      <th>3</th>\n",
       "      <td>167097</td>\n",
       "      <td>A</td>\n",
       "      <td>2019-09-01</td>\n",
       "    </tr>\n",
       "    <tr>\n",
       "      <th>4</th>\n",
       "      <td>168193</td>\n",
       "      <td>A</td>\n",
       "      <td>2019-10-16</td>\n",
       "    </tr>\n",
       "  </tbody>\n",
       "</table>\n",
       "</div>"
      ],
      "text/plain": [
       "   user_id tariff_plan  date_start\n",
       "0   166713           A  2019-08-15\n",
       "1   166901           A  2019-08-23\n",
       "2   168527           A  2019-10-29\n",
       "3   167097           A  2019-09-01\n",
       "4   168193           A  2019-10-16"
      ]
     },
     "metadata": {},
     "output_type": "display_data"
    },
    {
     "name": "stdout",
     "output_type": "stream",
     "text": [
      "<class 'pandas.core.frame.DataFrame'>\n",
      "RangeIndex: 732 entries, 0 to 731\n",
      "Data columns (total 3 columns):\n",
      " #   Column       Non-Null Count  Dtype \n",
      "---  ------       --------------  ----- \n",
      " 0   user_id      732 non-null    int64 \n",
      " 1   tariff_plan  732 non-null    object\n",
      " 2   date_start   732 non-null    object\n",
      "dtypes: int64(1), object(2)\n",
      "memory usage: 17.3+ KB\n"
     ]
    },
    {
     "data": {
      "text/plain": [
       "None"
      ]
     },
     "metadata": {},
     "output_type": "display_data"
    },
    {
     "data": {
      "text/html": [
       "<div>\n",
       "<style scoped>\n",
       "    .dataframe tbody tr th:only-of-type {\n",
       "        vertical-align: middle;\n",
       "    }\n",
       "\n",
       "    .dataframe tbody tr th {\n",
       "        vertical-align: top;\n",
       "    }\n",
       "\n",
       "    .dataframe thead th {\n",
       "        text-align: right;\n",
       "    }\n",
       "</style>\n",
       "<table border=\"1\" class=\"dataframe\">\n",
       "  <thead>\n",
       "    <tr style=\"text-align: right;\">\n",
       "      <th></th>\n",
       "      <th>user_id</th>\n",
       "    </tr>\n",
       "  </thead>\n",
       "  <tbody>\n",
       "    <tr>\n",
       "      <th>count</th>\n",
       "      <td>732.000000</td>\n",
       "    </tr>\n",
       "    <tr>\n",
       "      <th>mean</th>\n",
       "      <td>167431.927596</td>\n",
       "    </tr>\n",
       "    <tr>\n",
       "      <th>std</th>\n",
       "      <td>633.810383</td>\n",
       "    </tr>\n",
       "    <tr>\n",
       "      <th>min</th>\n",
       "      <td>166373.000000</td>\n",
       "    </tr>\n",
       "    <tr>\n",
       "      <th>25%</th>\n",
       "      <td>166900.750000</td>\n",
       "    </tr>\n",
       "    <tr>\n",
       "      <th>50%</th>\n",
       "      <td>167432.000000</td>\n",
       "    </tr>\n",
       "    <tr>\n",
       "      <th>75%</th>\n",
       "      <td>167973.000000</td>\n",
       "    </tr>\n",
       "    <tr>\n",
       "      <th>max</th>\n",
       "      <td>168606.000000</td>\n",
       "    </tr>\n",
       "  </tbody>\n",
       "</table>\n",
       "</div>"
      ],
      "text/plain": [
       "             user_id\n",
       "count     732.000000\n",
       "mean   167431.927596\n",
       "std       633.810383\n",
       "min    166373.000000\n",
       "25%    166900.750000\n",
       "50%    167432.000000\n",
       "75%    167973.000000\n",
       "max    168606.000000"
      ]
     },
     "metadata": {},
     "output_type": "display_data"
    },
    {
     "name": "stdout",
     "output_type": "stream",
     "text": [
      "\n",
      "Количество уникальных значений в столбцах:\n",
      "user_id        732\n",
      "tariff_plan      3\n",
      "date_start      73\n",
      "dtype: int64\n",
      "\n",
      "Количество явных дубликатов: 0, что составляет 0.0% от общего объема.\n"
     ]
    },
    {
     "data": {
      "text/plain": [
       "array(['A', 'C', 'B'], dtype=object)"
      ]
     },
     "execution_count": 4,
     "metadata": {},
     "output_type": "execute_result"
    }
   ],
   "source": [
    "clients = pd.read_csv('telecom_clients.csv')\n",
    "primary_analysis(clients)\n",
    "clients['tariff_plan'].unique()"
   ]
  },
  {
   "cell_type": "markdown",
   "metadata": {},
   "source": [
    "Описание столбцов `telecom_clients.csv` согласно документации:\n",
    "* `user_id` — идентификатор клиентского аккаунта в сервисе;\n",
    "* `tariff_plan` — текущий тарифный план клиента;\n",
    "* `date_start` — дата регистрации клиентв в сервисе.\n",
    "\n",
    "В каждой строке таблицы — данные о клиентах. В датасете нет пропусков, тип данных в `date_start` не соответствует документации. Кроме того, в данных содержится информация о 732 уникальных клиентах, в то время как в датасете `data` их всего 307."
   ]
  },
  {
   "cell_type": "markdown",
   "metadata": {},
   "source": [
    "### Вывод:\n",
    "Предварительно можно утверждать, что данных достаточно для проведения исследования. Но в данных есть пропуски и дубликаты, которые необходимо обработать перед проведением исследования."
   ]
  },
  {
   "cell_type": "markdown",
   "metadata": {},
   "source": [
    "## Предобработка данных"
   ]
  },
  {
   "cell_type": "markdown",
   "metadata": {},
   "source": [
    "### Пропущенные значения\n",
    "Проанализируем и обработаем пропуски в столбцах `operator_id`: "
   ]
  },
  {
   "cell_type": "code",
   "execution_count": 5,
   "metadata": {
    "scrolled": true
   },
   "outputs": [
    {
     "name": "stdout",
     "output_type": "stream",
     "text": [
      "\n",
      "Столбец internal\n",
      "False    0.949584\n",
      "True     0.043441\n",
      "dtype: float64\n",
      "\n",
      "Столбец direction\n",
      "in     0.975526\n",
      "out    0.024474\n",
      "dtype: float64\n",
      "\n",
      "Столбец is_missed_call\n",
      "False    0.014929\n",
      "True     0.985071\n",
      "dtype: float64\n"
     ]
    }
   ],
   "source": [
    "df = data[data['operator_id'].isna()]\n",
    "print('\\nСтолбец', df.groupby('internal').size() / len(df))\n",
    "print('\\nСтолбец', df.groupby('direction').size() / len(df))\n",
    "print('\\nСтолбец', df.groupby('is_missed_call').size() / len(df))"
   ]
  },
  {
   "cell_type": "markdown",
   "metadata": {},
   "source": [
    "Свыше 95% записей с пропусками в столбце `operator_id` является пропущенными внешними входящими звонками. \n",
    "Вероятнтее всего, пропуски связаны с особенностью обработки входящих звонков платформой: пока звонки находятся в очереди ожидания ответа и не распределены, оператор неизвестен. Аналогичным образом платформа работает и для внутренних звонков. Учтем эту особенность при последующем анализе данных. Заполним пропуски в стобце `operator_id`:"
   ]
  },
  {
   "cell_type": "code",
   "execution_count": 6,
   "metadata": {},
   "outputs": [],
   "source": [
    "# для пропущенных звонков, которые находились в очереди ожидания, заполним пропуски в 'operator_id' заглушкой -1\n",
    "data['operator_id'] = data['operator_id'].fillna(-1) "
   ]
  },
  {
   "cell_type": "markdown",
   "metadata": {},
   "source": [
    "Проанализируем оставшую часть записей с пропусками в стобце `operator_id`, где были исходящие звонки и непропущенные звонки:  "
   ]
  },
  {
   "cell_type": "code",
   "execution_count": 7,
   "metadata": {
    "scrolled": false
   },
   "outputs": [
    {
     "data": {
      "text/html": [
       "<div>\n",
       "<style scoped>\n",
       "    .dataframe tbody tr th:only-of-type {\n",
       "        vertical-align: middle;\n",
       "    }\n",
       "\n",
       "    .dataframe tbody tr th {\n",
       "        vertical-align: top;\n",
       "    }\n",
       "\n",
       "    .dataframe thead th {\n",
       "        text-align: right;\n",
       "    }\n",
       "</style>\n",
       "<table border=\"1\" class=\"dataframe\">\n",
       "  <thead>\n",
       "    <tr style=\"text-align: right;\">\n",
       "      <th></th>\n",
       "      <th>user_id</th>\n",
       "      <th>date</th>\n",
       "      <th>direction</th>\n",
       "      <th>internal</th>\n",
       "      <th>operator_id</th>\n",
       "      <th>is_missed_call</th>\n",
       "      <th>calls_count</th>\n",
       "      <th>call_duration</th>\n",
       "      <th>total_call_duration</th>\n",
       "    </tr>\n",
       "  </thead>\n",
       "  <tbody>\n",
       "    <tr>\n",
       "      <th>455</th>\n",
       "      <td>166377</td>\n",
       "      <td>2019-11-06 00:00:00+03:00</td>\n",
       "      <td>out</td>\n",
       "      <td>False</td>\n",
       "      <td>NaN</td>\n",
       "      <td>True</td>\n",
       "      <td>1</td>\n",
       "      <td>0</td>\n",
       "      <td>1</td>\n",
       "    </tr>\n",
       "    <tr>\n",
       "      <th>2402</th>\n",
       "      <td>166407</td>\n",
       "      <td>2019-10-10 00:00:00+03:00</td>\n",
       "      <td>out</td>\n",
       "      <td>True</td>\n",
       "      <td>NaN</td>\n",
       "      <td>True</td>\n",
       "      <td>1</td>\n",
       "      <td>0</td>\n",
       "      <td>0</td>\n",
       "    </tr>\n",
       "    <tr>\n",
       "      <th>3241</th>\n",
       "      <td>166485</td>\n",
       "      <td>2019-10-15 00:00:00+03:00</td>\n",
       "      <td>out</td>\n",
       "      <td>True</td>\n",
       "      <td>NaN</td>\n",
       "      <td>True</td>\n",
       "      <td>2</td>\n",
       "      <td>0</td>\n",
       "      <td>8</td>\n",
       "    </tr>\n",
       "    <tr>\n",
       "      <th>3271</th>\n",
       "      <td>166485</td>\n",
       "      <td>2019-10-18 00:00:00+03:00</td>\n",
       "      <td>out</td>\n",
       "      <td>True</td>\n",
       "      <td>NaN</td>\n",
       "      <td>True</td>\n",
       "      <td>3</td>\n",
       "      <td>0</td>\n",
       "      <td>11</td>\n",
       "    </tr>\n",
       "    <tr>\n",
       "      <th>3276</th>\n",
       "      <td>166485</td>\n",
       "      <td>2019-10-18 00:00:00+03:00</td>\n",
       "      <td>out</td>\n",
       "      <td>True</td>\n",
       "      <td>NaN</td>\n",
       "      <td>True</td>\n",
       "      <td>3</td>\n",
       "      <td>0</td>\n",
       "      <td>11</td>\n",
       "    </tr>\n",
       "  </tbody>\n",
       "</table>\n",
       "</div>"
      ],
      "text/plain": [
       "      user_id                       date direction internal  operator_id  \\\n",
       "455    166377  2019-11-06 00:00:00+03:00       out    False          NaN   \n",
       "2402   166407  2019-10-10 00:00:00+03:00       out     True          NaN   \n",
       "3241   166485  2019-10-15 00:00:00+03:00       out     True          NaN   \n",
       "3271   166485  2019-10-18 00:00:00+03:00       out     True          NaN   \n",
       "3276   166485  2019-10-18 00:00:00+03:00       out     True          NaN   \n",
       "\n",
       "      is_missed_call  calls_count  call_duration  total_call_duration  \n",
       "455             True            1              0                    1  \n",
       "2402            True            1              0                    0  \n",
       "3241            True            2              0                    8  \n",
       "3271            True            3              0                   11  \n",
       "3276            True            3              0                   11  "
      ]
     },
     "metadata": {},
     "output_type": "display_data"
    },
    {
     "name": "stdout",
     "output_type": "stream",
     "text": [
      "0.371%\n"
     ]
    },
    {
     "data": {
      "text/html": [
       "<div>\n",
       "<style scoped>\n",
       "    .dataframe tbody tr th:only-of-type {\n",
       "        vertical-align: middle;\n",
       "    }\n",
       "\n",
       "    .dataframe tbody tr th {\n",
       "        vertical-align: top;\n",
       "    }\n",
       "\n",
       "    .dataframe thead th {\n",
       "        text-align: right;\n",
       "    }\n",
       "</style>\n",
       "<table border=\"1\" class=\"dataframe\">\n",
       "  <thead>\n",
       "    <tr style=\"text-align: right;\">\n",
       "      <th></th>\n",
       "      <th>user_id</th>\n",
       "      <th>date</th>\n",
       "      <th>direction</th>\n",
       "      <th>internal</th>\n",
       "      <th>operator_id</th>\n",
       "      <th>is_missed_call</th>\n",
       "      <th>calls_count</th>\n",
       "      <th>call_duration</th>\n",
       "      <th>total_call_duration</th>\n",
       "    </tr>\n",
       "  </thead>\n",
       "  <tbody>\n",
       "    <tr>\n",
       "      <th>698</th>\n",
       "      <td>166399</td>\n",
       "      <td>2019-08-12 00:00:00+03:00</td>\n",
       "      <td>in</td>\n",
       "      <td>False</td>\n",
       "      <td>NaN</td>\n",
       "      <td>False</td>\n",
       "      <td>1</td>\n",
       "      <td>10</td>\n",
       "      <td>55</td>\n",
       "    </tr>\n",
       "    <tr>\n",
       "      <th>704</th>\n",
       "      <td>166399</td>\n",
       "      <td>2019-09-02 00:00:00+03:00</td>\n",
       "      <td>in</td>\n",
       "      <td>False</td>\n",
       "      <td>NaN</td>\n",
       "      <td>False</td>\n",
       "      <td>1</td>\n",
       "      <td>68</td>\n",
       "      <td>115</td>\n",
       "    </tr>\n",
       "    <tr>\n",
       "      <th>4089</th>\n",
       "      <td>166503</td>\n",
       "      <td>2019-09-26 00:00:00+03:00</td>\n",
       "      <td>out</td>\n",
       "      <td>False</td>\n",
       "      <td>NaN</td>\n",
       "      <td>False</td>\n",
       "      <td>1</td>\n",
       "      <td>213</td>\n",
       "      <td>220</td>\n",
       "    </tr>\n",
       "    <tr>\n",
       "      <th>4136</th>\n",
       "      <td>166503</td>\n",
       "      <td>2019-10-09 00:00:00+03:00</td>\n",
       "      <td>in</td>\n",
       "      <td>False</td>\n",
       "      <td>NaN</td>\n",
       "      <td>False</td>\n",
       "      <td>1</td>\n",
       "      <td>374</td>\n",
       "      <td>405</td>\n",
       "    </tr>\n",
       "    <tr>\n",
       "      <th>4198</th>\n",
       "      <td>166503</td>\n",
       "      <td>2019-10-21 00:00:00+03:00</td>\n",
       "      <td>out</td>\n",
       "      <td>True</td>\n",
       "      <td>NaN</td>\n",
       "      <td>False</td>\n",
       "      <td>2</td>\n",
       "      <td>382</td>\n",
       "      <td>397</td>\n",
       "    </tr>\n",
       "  </tbody>\n",
       "</table>\n",
       "</div>"
      ],
      "text/plain": [
       "      user_id                       date direction internal  operator_id  \\\n",
       "698    166399  2019-08-12 00:00:00+03:00        in    False          NaN   \n",
       "704    166399  2019-09-02 00:00:00+03:00        in    False          NaN   \n",
       "4089   166503  2019-09-26 00:00:00+03:00       out    False          NaN   \n",
       "4136   166503  2019-10-09 00:00:00+03:00        in    False          NaN   \n",
       "4198   166503  2019-10-21 00:00:00+03:00       out     True          NaN   \n",
       "\n",
       "      is_missed_call  calls_count  call_duration  total_call_duration  \n",
       "698            False            1             10                   55  \n",
       "704            False            1             68                  115  \n",
       "4089           False            1            213                  220  \n",
       "4136           False            1            374                  405  \n",
       "4198           False            2            382                  397  "
      ]
     },
     "metadata": {},
     "output_type": "display_data"
    },
    {
     "name": "stdout",
     "output_type": "stream",
     "text": [
      "0.226%\n"
     ]
    }
   ],
   "source": [
    "display(df.query('direction==\"out\"').head(5))\n",
    "print(\"{:,.3%}\".format(len(df.query('direction==\"out\"'))/len(data)))\n",
    "\n",
    "display(df.query('is_missed_call==False').head(5))\n",
    "print(\"{:,.3%}\".format(len(df.query('is_missed_call==False'))/len(data)))"
   ]
  },
  {
   "cell_type": "markdown",
   "metadata": {},
   "source": [
    "Природа подобных данных не ясна; мы не сможем их использовать для дальнейшго анализа эффективности операторов. \n",
    "Поскольку доля подобных записей мала, отбросим их:"
   ]
  },
  {
   "cell_type": "code",
   "execution_count": 8,
   "metadata": {},
   "outputs": [
    {
     "name": "stdout",
     "output_type": "stream",
     "text": [
      "<class 'pandas.core.frame.DataFrame'>\n",
      "Int64Index: 53629 entries, 0 to 53901\n",
      "Data columns (total 9 columns):\n",
      " #   Column               Non-Null Count  Dtype  \n",
      "---  ------               --------------  -----  \n",
      " 0   user_id              53629 non-null  int64  \n",
      " 1   date                 53629 non-null  object \n",
      " 2   direction            53629 non-null  object \n",
      " 3   internal             53514 non-null  object \n",
      " 4   operator_id          53629 non-null  float64\n",
      " 5   is_missed_call       53629 non-null  bool   \n",
      " 6   calls_count          53629 non-null  int64  \n",
      " 7   call_duration        53629 non-null  int64  \n",
      " 8   total_call_duration  53629 non-null  int64  \n",
      "dtypes: bool(1), float64(1), int64(4), object(3)\n",
      "memory usage: 3.7+ MB\n"
     ]
    }
   ],
   "source": [
    "data = data.query('operator_id!=-1 | is_missed_call==True')\n",
    "data = data.query('operator_id!=-1 | direction==\"in\"')\n",
    "data.info()"
   ]
  },
  {
   "cell_type": "markdown",
   "metadata": {},
   "source": [
    "Пропуски в столбце `internal` пока оставим без изменений."
   ]
  },
  {
   "cell_type": "markdown",
   "metadata": {},
   "source": [
    "### Изменение типов данных\n",
    "Изменим типы данных в столбцах, чтобы они соответствовали предоставленной документации, и заодно оптимизируем размер датасета:"
   ]
  },
  {
   "cell_type": "code",
   "execution_count": 9,
   "metadata": {},
   "outputs": [
    {
     "name": "stdout",
     "output_type": "stream",
     "text": [
      "<class 'pandas.core.frame.DataFrame'>\n",
      "Int64Index: 53629 entries, 0 to 53901\n",
      "Data columns (total 9 columns):\n",
      " #   Column               Non-Null Count  Dtype \n",
      "---  ------               --------------  ----- \n",
      " 0   user_id              53629 non-null  int32 \n",
      " 1   date                 53629 non-null  object\n",
      " 2   direction            53629 non-null  object\n",
      " 3   internal             53629 non-null  bool  \n",
      " 4   operator_id          53629 non-null  int32 \n",
      " 5   is_missed_call       53629 non-null  bool  \n",
      " 6   calls_count          53629 non-null  int16 \n",
      " 7   call_duration        53629 non-null  int32 \n",
      " 8   total_call_duration  53629 non-null  int32 \n",
      "dtypes: bool(2), int16(1), int32(4), object(2)\n",
      "memory usage: 2.3+ MB\n"
     ]
    }
   ],
   "source": [
    "data['date'] = pd.to_datetime(data['date']).dt.date\n",
    "data['operator_id'] = data['operator_id'].astype('int32')\n",
    "data['user_id'] = data['user_id'].astype('int32')\n",
    "data['calls_count'] = data['calls_count'].astype('int16')\n",
    "data['call_duration'] = data['call_duration'].astype('int32')\n",
    "data['total_call_duration'] = data['total_call_duration'].astype('int32')\n",
    "data['internal'] = data['internal'].astype('bool')\n",
    "data.info()"
   ]
  },
  {
   "cell_type": "markdown",
   "metadata": {},
   "source": [
    "### Обработка дубликатов"
   ]
  },
  {
   "cell_type": "code",
   "execution_count": 10,
   "metadata": {},
   "outputs": [
    {
     "name": "stdout",
     "output_type": "stream",
     "text": [
      "<class 'pandas.core.frame.DataFrame'>\n",
      "RangeIndex: 48748 entries, 0 to 48747\n",
      "Data columns (total 9 columns):\n",
      " #   Column               Non-Null Count  Dtype \n",
      "---  ------               --------------  ----- \n",
      " 0   user_id              48748 non-null  int32 \n",
      " 1   date                 48748 non-null  object\n",
      " 2   direction            48748 non-null  object\n",
      " 3   internal             48748 non-null  bool  \n",
      " 4   operator_id          48748 non-null  int32 \n",
      " 5   is_missed_call       48748 non-null  bool  \n",
      " 6   calls_count          48748 non-null  int16 \n",
      " 7   call_duration        48748 non-null  int32 \n",
      " 8   total_call_duration  48748 non-null  int32 \n",
      "dtypes: bool(2), int16(1), int32(4), object(2)\n",
      "memory usage: 1.7+ MB\n"
     ]
    }
   ],
   "source": [
    "#обработаем явные дубликаты\n",
    "data = data.drop_duplicates().reset_index(drop=True)\n",
    "data.info()"
   ]
  },
  {
   "cell_type": "markdown",
   "metadata": {},
   "source": [
    "### Ошибки в данных\n",
    "\n",
    "Теперь исследуем данные на наличие ошибок и аномалий: "
   ]
  },
  {
   "cell_type": "code",
   "execution_count": 11,
   "metadata": {},
   "outputs": [
    {
     "data": {
      "text/html": [
       "<div>\n",
       "<style scoped>\n",
       "    .dataframe tbody tr th:only-of-type {\n",
       "        vertical-align: middle;\n",
       "    }\n",
       "\n",
       "    .dataframe tbody tr th {\n",
       "        vertical-align: top;\n",
       "    }\n",
       "\n",
       "    .dataframe thead th {\n",
       "        text-align: right;\n",
       "    }\n",
       "</style>\n",
       "<table border=\"1\" class=\"dataframe\">\n",
       "  <thead>\n",
       "    <tr style=\"text-align: right;\">\n",
       "      <th></th>\n",
       "      <th>user_id</th>\n",
       "      <th>operator_id</th>\n",
       "      <th>calls_count</th>\n",
       "      <th>call_duration</th>\n",
       "      <th>total_call_duration</th>\n",
       "    </tr>\n",
       "  </thead>\n",
       "  <tbody>\n",
       "    <tr>\n",
       "      <th>count</th>\n",
       "      <td>48748.000000</td>\n",
       "      <td>48748.000000</td>\n",
       "      <td>48748.000000</td>\n",
       "      <td>48748.000000</td>\n",
       "      <td>48748.000000</td>\n",
       "    </tr>\n",
       "    <tr>\n",
       "      <th>mean</th>\n",
       "      <td>167293.149093</td>\n",
       "      <td>781116.568064</td>\n",
       "      <td>16.524616</td>\n",
       "      <td>860.586486</td>\n",
       "      <td>1152.196747</td>\n",
       "    </tr>\n",
       "    <tr>\n",
       "      <th>std</th>\n",
       "      <td>597.674210</td>\n",
       "      <td>325814.186153</td>\n",
       "      <td>63.760732</td>\n",
       "      <td>3768.964082</td>\n",
       "      <td>4449.194581</td>\n",
       "    </tr>\n",
       "    <tr>\n",
       "      <th>min</th>\n",
       "      <td>166377.000000</td>\n",
       "      <td>-1.000000</td>\n",
       "      <td>1.000000</td>\n",
       "      <td>0.000000</td>\n",
       "      <td>0.000000</td>\n",
       "    </tr>\n",
       "    <tr>\n",
       "      <th>25%</th>\n",
       "      <td>166782.000000</td>\n",
       "      <td>890422.000000</td>\n",
       "      <td>1.000000</td>\n",
       "      <td>0.000000</td>\n",
       "      <td>47.000000</td>\n",
       "    </tr>\n",
       "    <tr>\n",
       "      <th>50%</th>\n",
       "      <td>167158.000000</td>\n",
       "      <td>906408.000000</td>\n",
       "      <td>4.000000</td>\n",
       "      <td>37.000000</td>\n",
       "      <td>210.000000</td>\n",
       "    </tr>\n",
       "    <tr>\n",
       "      <th>75%</th>\n",
       "      <td>167816.000000</td>\n",
       "      <td>930020.000000</td>\n",
       "      <td>12.000000</td>\n",
       "      <td>570.000000</td>\n",
       "      <td>901.000000</td>\n",
       "    </tr>\n",
       "    <tr>\n",
       "      <th>max</th>\n",
       "      <td>168606.000000</td>\n",
       "      <td>973286.000000</td>\n",
       "      <td>4817.000000</td>\n",
       "      <td>144395.000000</td>\n",
       "      <td>166155.000000</td>\n",
       "    </tr>\n",
       "  </tbody>\n",
       "</table>\n",
       "</div>"
      ],
      "text/plain": [
       "             user_id    operator_id   calls_count  call_duration  \\\n",
       "count   48748.000000   48748.000000  48748.000000   48748.000000   \n",
       "mean   167293.149093  781116.568064     16.524616     860.586486   \n",
       "std       597.674210  325814.186153     63.760732    3768.964082   \n",
       "min    166377.000000      -1.000000      1.000000       0.000000   \n",
       "25%    166782.000000  890422.000000      1.000000       0.000000   \n",
       "50%    167158.000000  906408.000000      4.000000      37.000000   \n",
       "75%    167816.000000  930020.000000     12.000000     570.000000   \n",
       "max    168606.000000  973286.000000   4817.000000  144395.000000   \n",
       "\n",
       "       total_call_duration  \n",
       "count         48748.000000  \n",
       "mean           1152.196747  \n",
       "std            4449.194581  \n",
       "min               0.000000  \n",
       "25%              47.000000  \n",
       "50%             210.000000  \n",
       "75%             901.000000  \n",
       "max          166155.000000  "
      ]
     },
     "metadata": {},
     "output_type": "display_data"
    }
   ],
   "source": [
    "display(data.describe())"
   ]
  },
  {
   "cell_type": "markdown",
   "metadata": {},
   "source": [
    "В данных имеются недопустимые значения:\n",
    "* Максимальное значение столбца `calls_count` составляет 4817 звонков: в реальности совершить такое количество звонков за день невозможно;\n",
    "* В документации к данным указано, что длительность звонков в столбцах `call_duration` и `total_call_duration` указана в минутах: характерные значения столбцов указывают на то, что длительность звонков посчитана в секундах;\n",
    "* После приведения единиц измерения максимальное значение длительности звонков за день в `call_duration` и `total_call_duration` составляет 40 и 46 часов, соответственно, что невозможно. "
   ]
  },
  {
   "cell_type": "markdown",
   "metadata": {},
   "source": [
    "Определим 90, 95 и 99 перцентиль значений каждого проблемного столбца:"
   ]
  },
  {
   "cell_type": "code",
   "execution_count": 12,
   "metadata": {
    "scrolled": false
   },
   "outputs": [
    {
     "name": "stdout",
     "output_type": "stream",
     "text": [
      "calls_count\n",
      "[ 35.  62. 166.]\n",
      "call_duration\n",
      "[ 2082.    3700.65 10202.83]\n",
      "total_call_duration\n",
      "[ 2602.3   4502.   12809.59]\n"
     ]
    }
   ],
   "source": [
    "col_names = ['calls_count', 'call_duration', 'total_call_duration']\n",
    "for col in col_names:\n",
    "    print(col)\n",
    "    print(np.percentile(data[col], [90, 95, 99]))"
   ]
  },
  {
   "cell_type": "markdown",
   "metadata": {},
   "source": [
    "Не более 5% записей датасета имеют больше 62 звонков, длительность дольше 3700.65 сек (без учета ожидания) и 4502 сек (с учетом ожидания). Примем эти значения в качестве верхних границ для значений столбцов. Проблемные данные сохраним в отдельный датасет и сообщим о них администратору БД:"
   ]
  },
  {
   "cell_type": "code",
   "execution_count": 13,
   "metadata": {},
   "outputs": [
    {
     "data": {
      "text/html": [
       "<div>\n",
       "<style scoped>\n",
       "    .dataframe tbody tr th:only-of-type {\n",
       "        vertical-align: middle;\n",
       "    }\n",
       "\n",
       "    .dataframe tbody tr th {\n",
       "        vertical-align: top;\n",
       "    }\n",
       "\n",
       "    .dataframe thead th {\n",
       "        text-align: right;\n",
       "    }\n",
       "</style>\n",
       "<table border=\"1\" class=\"dataframe\">\n",
       "  <thead>\n",
       "    <tr style=\"text-align: right;\">\n",
       "      <th></th>\n",
       "      <th>user_id</th>\n",
       "      <th>operator_id</th>\n",
       "      <th>calls_count</th>\n",
       "      <th>call_duration</th>\n",
       "      <th>total_call_duration</th>\n",
       "    </tr>\n",
       "  </thead>\n",
       "  <tbody>\n",
       "    <tr>\n",
       "      <th>count</th>\n",
       "      <td>45005.000000</td>\n",
       "      <td>45005.000000</td>\n",
       "      <td>45005.000000</td>\n",
       "      <td>45005.000000</td>\n",
       "      <td>45005.000000</td>\n",
       "    </tr>\n",
       "    <tr>\n",
       "      <th>mean</th>\n",
       "      <td>167274.613932</td>\n",
       "      <td>773733.185979</td>\n",
       "      <td>7.821198</td>\n",
       "      <td>383.748272</td>\n",
       "      <td>520.398156</td>\n",
       "    </tr>\n",
       "    <tr>\n",
       "      <th>std</th>\n",
       "      <td>587.599165</td>\n",
       "      <td>332545.818274</td>\n",
       "      <td>10.764663</td>\n",
       "      <td>704.309921</td>\n",
       "      <td>788.795392</td>\n",
       "    </tr>\n",
       "    <tr>\n",
       "      <th>min</th>\n",
       "      <td>166377.000000</td>\n",
       "      <td>-1.000000</td>\n",
       "      <td>1.000000</td>\n",
       "      <td>0.000000</td>\n",
       "      <td>0.000000</td>\n",
       "    </tr>\n",
       "    <tr>\n",
       "      <th>25%</th>\n",
       "      <td>166782.000000</td>\n",
       "      <td>890416.000000</td>\n",
       "      <td>1.000000</td>\n",
       "      <td>0.000000</td>\n",
       "      <td>41.000000</td>\n",
       "    </tr>\n",
       "    <tr>\n",
       "      <th>50%</th>\n",
       "      <td>167150.000000</td>\n",
       "      <td>906400.000000</td>\n",
       "      <td>3.000000</td>\n",
       "      <td>27.000000</td>\n",
       "      <td>168.000000</td>\n",
       "    </tr>\n",
       "    <tr>\n",
       "      <th>75%</th>\n",
       "      <td>167756.000000</td>\n",
       "      <td>929424.000000</td>\n",
       "      <td>9.000000</td>\n",
       "      <td>429.000000</td>\n",
       "      <td>635.000000</td>\n",
       "    </tr>\n",
       "    <tr>\n",
       "      <th>max</th>\n",
       "      <td>168606.000000</td>\n",
       "      <td>973286.000000</td>\n",
       "      <td>62.000000</td>\n",
       "      <td>3700.000000</td>\n",
       "      <td>4488.000000</td>\n",
       "    </tr>\n",
       "  </tbody>\n",
       "</table>\n",
       "</div>"
      ],
      "text/plain": [
       "             user_id    operator_id   calls_count  call_duration  \\\n",
       "count   45005.000000   45005.000000  45005.000000   45005.000000   \n",
       "mean   167274.613932  773733.185979      7.821198     383.748272   \n",
       "std       587.599165  332545.818274     10.764663     704.309921   \n",
       "min    166377.000000      -1.000000      1.000000       0.000000   \n",
       "25%    166782.000000  890416.000000      1.000000       0.000000   \n",
       "50%    167150.000000  906400.000000      3.000000      27.000000   \n",
       "75%    167756.000000  929424.000000      9.000000     429.000000   \n",
       "max    168606.000000  973286.000000     62.000000    3700.000000   \n",
       "\n",
       "       total_call_duration  \n",
       "count         45005.000000  \n",
       "mean            520.398156  \n",
       "std             788.795392  \n",
       "min               0.000000  \n",
       "25%              41.000000  \n",
       "50%             168.000000  \n",
       "75%             635.000000  \n",
       "max            4488.000000  "
      ]
     },
     "metadata": {},
     "output_type": "display_data"
    }
   ],
   "source": [
    "problematic_data = data.query('calls_count>62 & call_duration>3700 & total_call_duration>4502')\n",
    "data = data.query('calls_count<=62 & call_duration<=3700 & total_call_duration<=4502')\n",
    "display(data.describe())"
   ]
  },
  {
   "cell_type": "markdown",
   "metadata": {},
   "source": [
    "Проанализируем подробнее столбец `call_duration` для записей с пропущенными выовами:"
   ]
  },
  {
   "cell_type": "code",
   "execution_count": 14,
   "metadata": {
    "scrolled": true
   },
   "outputs": [
    {
     "data": {
      "text/html": [
       "<div>\n",
       "<style scoped>\n",
       "    .dataframe tbody tr th:only-of-type {\n",
       "        vertical-align: middle;\n",
       "    }\n",
       "\n",
       "    .dataframe tbody tr th {\n",
       "        vertical-align: top;\n",
       "    }\n",
       "\n",
       "    .dataframe thead th {\n",
       "        text-align: right;\n",
       "    }\n",
       "</style>\n",
       "<table border=\"1\" class=\"dataframe\">\n",
       "  <thead>\n",
       "    <tr style=\"text-align: right;\">\n",
       "      <th></th>\n",
       "      <th>user_id</th>\n",
       "      <th>date</th>\n",
       "      <th>direction</th>\n",
       "      <th>internal</th>\n",
       "      <th>operator_id</th>\n",
       "      <th>is_missed_call</th>\n",
       "      <th>calls_count</th>\n",
       "      <th>call_duration</th>\n",
       "      <th>total_call_duration</th>\n",
       "    </tr>\n",
       "  </thead>\n",
       "  <tbody>\n",
       "    <tr>\n",
       "      <th>1468</th>\n",
       "      <td>166405</td>\n",
       "      <td>2019-11-19</td>\n",
       "      <td>in</td>\n",
       "      <td>False</td>\n",
       "      <td>939478</td>\n",
       "      <td>True</td>\n",
       "      <td>1</td>\n",
       "      <td>165</td>\n",
       "      <td>173</td>\n",
       "    </tr>\n",
       "    <tr>\n",
       "      <th>1495</th>\n",
       "      <td>166405</td>\n",
       "      <td>2019-11-21</td>\n",
       "      <td>in</td>\n",
       "      <td>False</td>\n",
       "      <td>882686</td>\n",
       "      <td>True</td>\n",
       "      <td>1</td>\n",
       "      <td>1</td>\n",
       "      <td>5</td>\n",
       "    </tr>\n",
       "    <tr>\n",
       "      <th>1515</th>\n",
       "      <td>166405</td>\n",
       "      <td>2019-11-22</td>\n",
       "      <td>in</td>\n",
       "      <td>False</td>\n",
       "      <td>882686</td>\n",
       "      <td>True</td>\n",
       "      <td>1</td>\n",
       "      <td>1</td>\n",
       "      <td>5</td>\n",
       "    </tr>\n",
       "    <tr>\n",
       "      <th>2086</th>\n",
       "      <td>166407</td>\n",
       "      <td>2019-09-23</td>\n",
       "      <td>in</td>\n",
       "      <td>False</td>\n",
       "      <td>888534</td>\n",
       "      <td>True</td>\n",
       "      <td>1</td>\n",
       "      <td>133</td>\n",
       "      <td>156</td>\n",
       "    </tr>\n",
       "    <tr>\n",
       "      <th>2621</th>\n",
       "      <td>166482</td>\n",
       "      <td>2019-11-05</td>\n",
       "      <td>in</td>\n",
       "      <td>False</td>\n",
       "      <td>934074</td>\n",
       "      <td>True</td>\n",
       "      <td>1</td>\n",
       "      <td>1</td>\n",
       "      <td>15</td>\n",
       "    </tr>\n",
       "  </tbody>\n",
       "</table>\n",
       "</div>"
      ],
      "text/plain": [
       "      user_id        date direction  internal  operator_id  is_missed_call  \\\n",
       "1468   166405  2019-11-19        in     False       939478            True   \n",
       "1495   166405  2019-11-21        in     False       882686            True   \n",
       "1515   166405  2019-11-22        in     False       882686            True   \n",
       "2086   166407  2019-09-23        in     False       888534            True   \n",
       "2621   166482  2019-11-05        in     False       934074            True   \n",
       "\n",
       "      calls_count  call_duration  total_call_duration  \n",
       "1468            1            165                  173  \n",
       "1495            1              1                    5  \n",
       "1515            1              1                    5  \n",
       "2086            1            133                  156  \n",
       "2621            1              1                   15  "
      ]
     },
     "metadata": {},
     "output_type": "display_data"
    },
    {
     "name": "stdout",
     "output_type": "stream",
     "text": [
      "0.658%\n"
     ]
    }
   ],
   "source": [
    "display(data.query('is_missed_call==True & call_duration>0').head(5))\n",
    "print(\"{:,.3%}\".format(len(data.query('is_missed_call==True & call_duration>0'))/len(data)))"
   ]
  },
  {
   "cell_type": "markdown",
   "metadata": {},
   "source": [
    "Если звонок является пропущенным, то длительность разговора должна быть равна 0. Природа подобных записей непонятна. \n",
    "Поскольку доля подобных записей мала, отбросим их: "
   ]
  },
  {
   "cell_type": "code",
   "execution_count": 15,
   "metadata": {
    "scrolled": true
   },
   "outputs": [
    {
     "name": "stdout",
     "output_type": "stream",
     "text": [
      "<class 'pandas.core.frame.DataFrame'>\n",
      "Int64Index: 44709 entries, 0 to 48747\n",
      "Data columns (total 9 columns):\n",
      " #   Column               Non-Null Count  Dtype \n",
      "---  ------               --------------  ----- \n",
      " 0   user_id              44709 non-null  int32 \n",
      " 1   date                 44709 non-null  object\n",
      " 2   direction            44709 non-null  object\n",
      " 3   internal             44709 non-null  bool  \n",
      " 4   operator_id          44709 non-null  int32 \n",
      " 5   is_missed_call       44709 non-null  bool  \n",
      " 6   calls_count          44709 non-null  int16 \n",
      " 7   call_duration        44709 non-null  int32 \n",
      " 8   total_call_duration  44709 non-null  int32 \n",
      "dtypes: bool(2), int16(1), int32(4), object(2)\n",
      "memory usage: 1.9+ MB\n"
     ]
    }
   ],
   "source": [
    "data = data.query('is_missed_call==False | call_duration==0')\n",
    "data.info()"
   ]
  },
  {
   "cell_type": "markdown",
   "metadata": {},
   "source": [
    "### Вывод:  \n",
    "Данные готовы для проведения исследовательского анализа."
   ]
  },
  {
   "cell_type": "markdown",
   "metadata": {},
   "source": [
    "## Расчеты и добавление метрик, необходимых для исследования"
   ]
  },
  {
   "cell_type": "markdown",
   "metadata": {},
   "source": [
    "### Длительность периода\n",
    "\n",
    "Рассчитаем даты начала и конца периода для выборки, а также его длительность:"
   ]
  },
  {
   "cell_type": "code",
   "execution_count": 16,
   "metadata": {},
   "outputs": [
    {
     "name": "stdout",
     "output_type": "stream",
     "text": [
      "Дата начала периода: 2019-08-02\n",
      "Дата окончания периода: 2019-11-28\n",
      "Итого дней: 118\n"
     ]
    }
   ],
   "source": [
    "print('Дата начала периода:', data['date'].min())\n",
    "print('Дата окончания периода:', data['date'].max())\n",
    "c_days = (data['date'].max() - data['date'].min()).days\n",
    "print('Итого дней:', c_days)"
   ]
  },
  {
   "cell_type": "markdown",
   "metadata": {},
   "source": [
    "### Анализ статистических данных"
   ]
  },
  {
   "cell_type": "markdown",
   "metadata": {},
   "source": [
    "Проанализируем распределение ежедневного количества звонков, длительности звонка с учетом и без учета ожидания:"
   ]
  },
  {
   "cell_type": "code",
   "execution_count": 17,
   "metadata": {
    "scrolled": false
   },
   "outputs": [
    {
     "data": {
      "image/png": "[encoded data removed]",
      "text/plain": [
       "<Figure size 720x432 with 1 Axes>"
      ]
     },
     "metadata": {
      "needs_background": "light"
     },
     "output_type": "display_data"
    }
   ],
   "source": [
    "plt.title('Распределение количества звонков:')\n",
    "plt.xlabel('Количество звонков')\n",
    "plt.ylabel('Количество')\n",
    "data['calls_count'].hist(bins=50, range = (0, 60), figsize=(10,6))\n",
    "plt.show();"
   ]
  },
  {
   "cell_type": "code",
   "execution_count": 18,
   "metadata": {
    "scrolled": false
   },
   "outputs": [
    {
     "data": {
      "image/png": "[encoded data removed]",
      "text/plain": [
       "<Figure size 1008x288 with 1 Axes>"
      ]
     },
     "metadata": {},
     "output_type": "display_data"
    }
   ],
   "source": [
    "sns.set(rc={'figure.figsize':(14,4)})\n",
    "plt.title('Распределение количества звонков:')\n",
    "sns.boxplot(data=data, x='calls_count').set(xlim=(0, 30))\n",
    "plt.show();"
   ]
  },
  {
   "cell_type": "markdown",
   "metadata": {},
   "source": [
    "**Выврд:** нормальные значения количества вызовов распределены в диапазоне от 0 до 21, значения за пределами диапазона являются выбросами."
   ]
  },
  {
   "cell_type": "code",
   "execution_count": 19,
   "metadata": {},
   "outputs": [
    {
     "data": {
      "image/png": "[encoded data removed]",
      "text/plain": [
       "<Figure size 720x432 with 1 Axes>"
      ]
     },
     "metadata": {},
     "output_type": "display_data"
    }
   ],
   "source": [
    "plt.title('Распределение длительности звонков (без учета времени ожидания):')\n",
    "plt.xlabel('Длительность звонка')\n",
    "plt.ylabel('Количество')\n",
    "data['call_duration'].hist(bins=50, range = (0, 6000), figsize=(10,6))\n",
    "plt.show();"
   ]
  },
  {
   "cell_type": "code",
   "execution_count": 20,
   "metadata": {
    "scrolled": true
   },
   "outputs": [
    {
     "data": {
      "image/png": "[encoded data removed]",
      "text/plain": [
       "<Figure size 1008x288 with 1 Axes>"
      ]
     },
     "metadata": {},
     "output_type": "display_data"
    }
   ],
   "source": [
    "sns.set(rc={'figure.figsize':(14,4)})\n",
    "plt.title('Распределение длительности звонков (без учета времени ожидания):')\n",
    "sns.boxplot(data=data, x='call_duration').set(xlim=(0, 1200))\n",
    "plt.show();"
   ]
  },
  {
   "cell_type": "markdown",
   "metadata": {},
   "source": [
    "**Вывод:** нормальные значения длительности звонков (без учета времени ожидания) распределены в диапазоне от 0 до 1140 сек, значения за пределами диапазона являются выбросами."
   ]
  },
  {
   "cell_type": "code",
   "execution_count": 21,
   "metadata": {
    "scrolled": false
   },
   "outputs": [
    {
     "data": {
      "image/png": "[encoded data removed]",
      "text/plain": [
       "<Figure size 1008x432 with 1 Axes>"
      ]
     },
     "metadata": {},
     "output_type": "display_data"
    }
   ],
   "source": [
    "plt.title('Распределение длительности звонка (с учетом времени ожидания):')\n",
    "plt.xlabel('Длительность звонка')\n",
    "plt.ylabel('Количество')\n",
    "data['total_call_duration'].hist(bins=50, range = (0, 3000), figsize=(14,6))\n",
    "plt.show();"
   ]
  },
  {
   "cell_type": "code",
   "execution_count": 22,
   "metadata": {
    "scrolled": false
   },
   "outputs": [
    {
     "data": {
      "image/png": "[encoded data removed]",
      "text/plain": [
       "<Figure size 1008x288 with 1 Axes>"
      ]
     },
     "metadata": {},
     "output_type": "display_data"
    }
   ],
   "source": [
    "sns.set(rc={'figure.figsize':(14,4)})\n",
    "sns.boxplot(data=data, x='total_call_duration').set(xlim=(0, 1700))\n",
    "plt.show();"
   ]
  },
  {
   "cell_type": "markdown",
   "metadata": {},
   "source": [
    "**Вывод:** нормальные значения длительности звонков (с учетом времени ожидания) распределены в диапазоне от 0 до 1550 сек, значения за пределами диапазона являются выбросами."
   ]
  },
  {
   "cell_type": "markdown",
   "metadata": {},
   "source": [
    "Проанализируем распределение клиентов по тарифным планам:"
   ]
  },
  {
   "cell_type": "code",
   "execution_count": 23,
   "metadata": {},
   "outputs": [
    {
     "data": {
      "image/png": "[encoded data removed]",
      "text/plain": [
       "<Figure size 1080x504 with 1 Axes>"
      ]
     },
     "metadata": {},
     "output_type": "display_data"
    }
   ],
   "source": [
    "# список уникальных user_id из датасета data\n",
    "unique_user_id = data.user_id.unique()\n",
    "\n",
    "sns.set(rc={'figure.figsize':(15,7)})\n",
    "fig, ax = plt.subplots()\n",
    "ax.set_title('Распределение клиентов по тарифам:')\n",
    "ax = sns.countplot(x='tariff_plan', data=clients.query('user_id in @unique_user_id'))\n",
    "ax.set_xlabel('Тариф')\n",
    "ax.set_ylabel('Количество клиентов, шт.')\n",
    "plt.show();"
   ]
  },
  {
   "cell_type": "markdown",
   "metadata": {},
   "source": [
    "**Вывод:** наибольшее количество клиентов использует тариф C, меньше всего абонентов у тарифа А."
   ]
  },
  {
   "cell_type": "markdown",
   "metadata": {},
   "source": [
    "### Классификация звонков"
   ]
  },
  {
   "cell_type": "markdown",
   "metadata": {},
   "source": [
    "Для каждой записи датасета классифиципуем тип звонка: `ad` - если звонок был исходящим внешним, `hotline` - для всех остальных"
   ]
  },
  {
   "cell_type": "code",
   "execution_count": 24,
   "metadata": {
    "scrolled": true
   },
   "outputs": [
    {
     "data": {
      "text/html": [
       "<div>\n",
       "<style scoped>\n",
       "    .dataframe tbody tr th:only-of-type {\n",
       "        vertical-align: middle;\n",
       "    }\n",
       "\n",
       "    .dataframe tbody tr th {\n",
       "        vertical-align: top;\n",
       "    }\n",
       "\n",
       "    .dataframe thead th {\n",
       "        text-align: right;\n",
       "    }\n",
       "</style>\n",
       "<table border=\"1\" class=\"dataframe\">\n",
       "  <thead>\n",
       "    <tr style=\"text-align: right;\">\n",
       "      <th></th>\n",
       "      <th>user_id</th>\n",
       "      <th>date</th>\n",
       "      <th>direction</th>\n",
       "      <th>internal</th>\n",
       "      <th>operator_id</th>\n",
       "      <th>is_missed_call</th>\n",
       "      <th>calls_count</th>\n",
       "      <th>call_duration</th>\n",
       "      <th>total_call_duration</th>\n",
       "      <th>call_type</th>\n",
       "    </tr>\n",
       "  </thead>\n",
       "  <tbody>\n",
       "    <tr>\n",
       "      <th>0</th>\n",
       "      <td>166377</td>\n",
       "      <td>2019-08-04</td>\n",
       "      <td>in</td>\n",
       "      <td>False</td>\n",
       "      <td>-1</td>\n",
       "      <td>True</td>\n",
       "      <td>2</td>\n",
       "      <td>0</td>\n",
       "      <td>4</td>\n",
       "      <td>hotline</td>\n",
       "    </tr>\n",
       "    <tr>\n",
       "      <th>1</th>\n",
       "      <td>166377</td>\n",
       "      <td>2019-08-05</td>\n",
       "      <td>out</td>\n",
       "      <td>True</td>\n",
       "      <td>880022</td>\n",
       "      <td>True</td>\n",
       "      <td>3</td>\n",
       "      <td>0</td>\n",
       "      <td>5</td>\n",
       "      <td>hotline</td>\n",
       "    </tr>\n",
       "    <tr>\n",
       "      <th>2</th>\n",
       "      <td>166377</td>\n",
       "      <td>2019-08-05</td>\n",
       "      <td>out</td>\n",
       "      <td>True</td>\n",
       "      <td>880020</td>\n",
       "      <td>True</td>\n",
       "      <td>1</td>\n",
       "      <td>0</td>\n",
       "      <td>1</td>\n",
       "      <td>hotline</td>\n",
       "    </tr>\n",
       "    <tr>\n",
       "      <th>3</th>\n",
       "      <td>166377</td>\n",
       "      <td>2019-08-05</td>\n",
       "      <td>out</td>\n",
       "      <td>True</td>\n",
       "      <td>880020</td>\n",
       "      <td>False</td>\n",
       "      <td>1</td>\n",
       "      <td>10</td>\n",
       "      <td>18</td>\n",
       "      <td>hotline</td>\n",
       "    </tr>\n",
       "    <tr>\n",
       "      <th>4</th>\n",
       "      <td>166377</td>\n",
       "      <td>2019-08-05</td>\n",
       "      <td>out</td>\n",
       "      <td>False</td>\n",
       "      <td>880022</td>\n",
       "      <td>True</td>\n",
       "      <td>3</td>\n",
       "      <td>0</td>\n",
       "      <td>25</td>\n",
       "      <td>ad</td>\n",
       "    </tr>\n",
       "  </tbody>\n",
       "</table>\n",
       "</div>"
      ],
      "text/plain": [
       "   user_id        date direction  internal  operator_id  is_missed_call  \\\n",
       "0   166377  2019-08-04        in     False           -1            True   \n",
       "1   166377  2019-08-05       out      True       880022            True   \n",
       "2   166377  2019-08-05       out      True       880020            True   \n",
       "3   166377  2019-08-05       out      True       880020           False   \n",
       "4   166377  2019-08-05       out     False       880022            True   \n",
       "\n",
       "   calls_count  call_duration  total_call_duration call_type  \n",
       "0            2              0                    4   hotline  \n",
       "1            3              0                    5   hotline  \n",
       "2            1              0                    1   hotline  \n",
       "3            1             10                   18   hotline  \n",
       "4            3              0                   25        ad  "
      ]
     },
     "metadata": {},
     "output_type": "display_data"
    }
   ],
   "source": [
    "# функция call_type опредеяет тип звонка\n",
    "def call_type(data):\n",
    "    if data['direction'] == 'out' and data['internal']==False:\n",
    "        return 'ad'\n",
    "    else:\n",
    "        return 'hotline'\n",
    "\n",
    "data['call_type'] = data.apply(call_type, axis=1)\n",
    "display(data.head(5))"
   ]
  },
  {
   "cell_type": "markdown",
   "metadata": {},
   "source": [
    "### Классификация клиентов"
   ]
  },
  {
   "cell_type": "markdown",
   "metadata": {},
   "source": [
    "Классифицируем клиентов по двум типам:\n",
    "* Call-центры, которые распределяют входящие вызовы по своим операторам (1-ый тип): если у CALL-центра преобладают звонки с типом `hotline`;\n",
    "* Call-центры, которые обеспечивают исходящие вызовы от своих операторов (2-ой тип): если у CALL-центра преобладают звонки с типом `ad`."
   ]
  },
  {
   "cell_type": "code",
   "execution_count": 25,
   "metadata": {
    "scrolled": false
   },
   "outputs": [
    {
     "data": {
      "text/html": [
       "<div>\n",
       "<style scoped>\n",
       "    .dataframe tbody tr th:only-of-type {\n",
       "        vertical-align: middle;\n",
       "    }\n",
       "\n",
       "    .dataframe tbody tr th {\n",
       "        vertical-align: top;\n",
       "    }\n",
       "\n",
       "    .dataframe thead th {\n",
       "        text-align: right;\n",
       "    }\n",
       "</style>\n",
       "<table border=\"1\" class=\"dataframe\">\n",
       "  <thead>\n",
       "    <tr style=\"text-align: right;\">\n",
       "      <th></th>\n",
       "      <th>user_id</th>\n",
       "      <th>date</th>\n",
       "      <th>direction</th>\n",
       "      <th>internal</th>\n",
       "      <th>operator_id</th>\n",
       "      <th>is_missed_call</th>\n",
       "      <th>calls_count</th>\n",
       "      <th>call_duration</th>\n",
       "      <th>total_call_duration</th>\n",
       "      <th>call_type</th>\n",
       "      <th>client_type</th>\n",
       "    </tr>\n",
       "  </thead>\n",
       "  <tbody>\n",
       "    <tr>\n",
       "      <th>0</th>\n",
       "      <td>166377</td>\n",
       "      <td>2019-08-04</td>\n",
       "      <td>in</td>\n",
       "      <td>False</td>\n",
       "      <td>-1</td>\n",
       "      <td>True</td>\n",
       "      <td>2</td>\n",
       "      <td>0</td>\n",
       "      <td>4</td>\n",
       "      <td>hotline</td>\n",
       "      <td>1</td>\n",
       "    </tr>\n",
       "    <tr>\n",
       "      <th>1</th>\n",
       "      <td>166377</td>\n",
       "      <td>2019-08-05</td>\n",
       "      <td>out</td>\n",
       "      <td>True</td>\n",
       "      <td>880022</td>\n",
       "      <td>True</td>\n",
       "      <td>3</td>\n",
       "      <td>0</td>\n",
       "      <td>5</td>\n",
       "      <td>hotline</td>\n",
       "      <td>1</td>\n",
       "    </tr>\n",
       "    <tr>\n",
       "      <th>2</th>\n",
       "      <td>166377</td>\n",
       "      <td>2019-08-05</td>\n",
       "      <td>out</td>\n",
       "      <td>True</td>\n",
       "      <td>880020</td>\n",
       "      <td>True</td>\n",
       "      <td>1</td>\n",
       "      <td>0</td>\n",
       "      <td>1</td>\n",
       "      <td>hotline</td>\n",
       "      <td>1</td>\n",
       "    </tr>\n",
       "    <tr>\n",
       "      <th>3</th>\n",
       "      <td>166377</td>\n",
       "      <td>2019-08-05</td>\n",
       "      <td>out</td>\n",
       "      <td>True</td>\n",
       "      <td>880020</td>\n",
       "      <td>False</td>\n",
       "      <td>1</td>\n",
       "      <td>10</td>\n",
       "      <td>18</td>\n",
       "      <td>hotline</td>\n",
       "      <td>1</td>\n",
       "    </tr>\n",
       "    <tr>\n",
       "      <th>4</th>\n",
       "      <td>166377</td>\n",
       "      <td>2019-08-05</td>\n",
       "      <td>out</td>\n",
       "      <td>False</td>\n",
       "      <td>880022</td>\n",
       "      <td>True</td>\n",
       "      <td>3</td>\n",
       "      <td>0</td>\n",
       "      <td>25</td>\n",
       "      <td>ad</td>\n",
       "      <td>1</td>\n",
       "    </tr>\n",
       "  </tbody>\n",
       "</table>\n",
       "</div>"
      ],
      "text/plain": [
       "   user_id        date direction  internal  operator_id  is_missed_call  \\\n",
       "0   166377  2019-08-04        in     False           -1            True   \n",
       "1   166377  2019-08-05       out      True       880022            True   \n",
       "2   166377  2019-08-05       out      True       880020            True   \n",
       "3   166377  2019-08-05       out      True       880020           False   \n",
       "4   166377  2019-08-05       out     False       880022            True   \n",
       "\n",
       "   calls_count  call_duration  total_call_duration call_type  client_type  \n",
       "0            2              0                    4   hotline            1  \n",
       "1            3              0                    5   hotline            1  \n",
       "2            1              0                    1   hotline            1  \n",
       "3            1             10                   18   hotline            1  \n",
       "4            3              0                   25        ad            1  "
      ]
     },
     "metadata": {},
     "output_type": "display_data"
    }
   ],
   "source": [
    "# сводная таблица с операторами, а также количеством и долей звонков каждого типа \n",
    "stat = data.pivot_table(index=['user_id'], columns=['call_type'], values=['calls_count'], aggfunc=['sum'], fill_value=0).reset_index()\n",
    "stat.columns = ['user_id','hotline', 'ads']\n",
    "stat['hotline_share'] = stat['hotline'] / (stat['hotline'] + stat ['ads'])\n",
    "stat['ad_share'] = 1-stat['hotline_share']\n",
    "stat.reset_index(drop=True)\n",
    "\n",
    "# функция client_type классифицирует клиентов в зависимости от того, какая доля звонков преобладает\n",
    "def client_type(data):\n",
    "    if data['ad_share'] > data['hotline_share']:\n",
    "        return 2\n",
    "    else:\n",
    "        return 1\n",
    "    \n",
    "stat['client_type'] = stat.apply(client_type, axis=1)\n",
    "\n",
    "# функция classify_type записывает тип клиента в датасет data\n",
    "def classify_type(data):\n",
    "    tmp = stat.query('user_id==@data.user_id').reset_index(drop=True)\n",
    "    return tmp.client_type[0]\n",
    "\n",
    "data['client_type'] = data.apply(classify_type, axis=1)\n",
    "display(data.head(5))"
   ]
  },
  {
   "cell_type": "markdown",
   "metadata": {},
   "source": [
    "### Распределение клиентов по типу\n",
    "\n",
    "Изучим распределение клиентов в зависимости от их типа:"
   ]
  },
  {
   "cell_type": "code",
   "execution_count": 26,
   "metadata": {},
   "outputs": [
    {
     "name": "stdout",
     "output_type": "stream",
     "text": [
      "client_type\n",
      "1    128\n",
      "2    179\n",
      "dtype: int64\n"
     ]
    },
    {
     "data": {
      "image/png": "[encoded data removed]",
      "text/plain": [
       "<Figure size 720x288 with 1 Axes>"
      ]
     },
     "metadata": {},
     "output_type": "display_data"
    }
   ],
   "source": [
    "print(stat.groupby('client_type').size())\n",
    "\n",
    "sns.set(rc={'figure.figsize':(10,4)})\n",
    "fig, ax = plt.subplots()\n",
    "#sns.set_style('ticks')\n",
    "sns.set_style('whitegrid')\n",
    "ax.set_title('Распределение клиентов по типу:')\n",
    "ax = sns.countplot(x='client_type', data=stat)\n",
    "ax.set_xlabel('Тип клиента')\n",
    "ax.set_ylabel('Количество клиентов, шт.')\n",
    "plt.show();"
   ]
  },
  {
   "cell_type": "markdown",
   "metadata": {},
   "source": [
    "**Вывод:** у провайдера 129 клиентов 1-го типа и 179 клиентов 2-го типа."
   ]
  },
  {
   "cell_type": "markdown",
   "metadata": {},
   "source": [
    "###  ТОП-5 клиентов по количеству операторов"
   ]
  },
  {
   "cell_type": "markdown",
   "metadata": {},
   "source": [
    "Определим ТОП-5 клиентов каждого типа по количеству операторов:"
   ]
  },
  {
   "cell_type": "code",
   "execution_count": 27,
   "metadata": {
    "scrolled": false
   },
   "outputs": [
    {
     "name": "stdout",
     "output_type": "stream",
     "text": [
      "\n",
      "ТОП-5 клиентов 1-го типа:\n"
     ]
    },
    {
     "data": {
      "text/html": [
       "<div>\n",
       "<style scoped>\n",
       "    .dataframe tbody tr th:only-of-type {\n",
       "        vertical-align: middle;\n",
       "    }\n",
       "\n",
       "    .dataframe tbody tr th {\n",
       "        vertical-align: top;\n",
       "    }\n",
       "\n",
       "    .dataframe thead th {\n",
       "        text-align: right;\n",
       "    }\n",
       "</style>\n",
       "<table border=\"1\" class=\"dataframe\">\n",
       "  <thead>\n",
       "    <tr style=\"text-align: right;\">\n",
       "      <th></th>\n",
       "      <th>index</th>\n",
       "      <th>user_id</th>\n",
       "      <th>total_operators</th>\n",
       "    </tr>\n",
       "  </thead>\n",
       "  <tbody>\n",
       "    <tr>\n",
       "      <th>0</th>\n",
       "      <td>113</td>\n",
       "      <td>168187</td>\n",
       "      <td>51</td>\n",
       "    </tr>\n",
       "    <tr>\n",
       "      <th>1</th>\n",
       "      <td>77</td>\n",
       "      <td>167626</td>\n",
       "      <td>49</td>\n",
       "    </tr>\n",
       "    <tr>\n",
       "      <th>2</th>\n",
       "      <td>71</td>\n",
       "      <td>167497</td>\n",
       "      <td>31</td>\n",
       "    </tr>\n",
       "    <tr>\n",
       "      <th>3</th>\n",
       "      <td>116</td>\n",
       "      <td>168252</td>\n",
       "      <td>29</td>\n",
       "    </tr>\n",
       "    <tr>\n",
       "      <th>4</th>\n",
       "      <td>121</td>\n",
       "      <td>168361</td>\n",
       "      <td>28</td>\n",
       "    </tr>\n",
       "  </tbody>\n",
       "</table>\n",
       "</div>"
      ],
      "text/plain": [
       "   index  user_id  total_operators\n",
       "0    113   168187               51\n",
       "1     77   167626               49\n",
       "2     71   167497               31\n",
       "3    116   168252               29\n",
       "4    121   168361               28"
      ]
     },
     "metadata": {},
     "output_type": "display_data"
    },
    {
     "data": {
      "image/png": "[encoded data removed]",
      "text/plain": [
       "<Figure size 720x504 with 1 Axes>"
      ]
     },
     "metadata": {},
     "output_type": "display_data"
    },
    {
     "name": "stdout",
     "output_type": "stream",
     "text": [
      "\n",
      "ТОП-5 клиентов 2-го типа:\n"
     ]
    },
    {
     "data": {
      "text/html": [
       "<div>\n",
       "<style scoped>\n",
       "    .dataframe tbody tr th:only-of-type {\n",
       "        vertical-align: middle;\n",
       "    }\n",
       "\n",
       "    .dataframe tbody tr th {\n",
       "        vertical-align: top;\n",
       "    }\n",
       "\n",
       "    .dataframe thead th {\n",
       "        text-align: right;\n",
       "    }\n",
       "</style>\n",
       "<table border=\"1\" class=\"dataframe\">\n",
       "  <thead>\n",
       "    <tr style=\"text-align: right;\">\n",
       "      <th></th>\n",
       "      <th>index</th>\n",
       "      <th>user_id</th>\n",
       "      <th>total_operators</th>\n",
       "    </tr>\n",
       "  </thead>\n",
       "  <tbody>\n",
       "    <tr>\n",
       "      <th>0</th>\n",
       "      <td>37</td>\n",
       "      <td>166916</td>\n",
       "      <td>17</td>\n",
       "    </tr>\n",
       "    <tr>\n",
       "      <th>1</th>\n",
       "      <td>66</td>\n",
       "      <td>167176</td>\n",
       "      <td>16</td>\n",
       "    </tr>\n",
       "    <tr>\n",
       "      <th>2</th>\n",
       "      <td>91</td>\n",
       "      <td>167521</td>\n",
       "      <td>13</td>\n",
       "    </tr>\n",
       "    <tr>\n",
       "      <th>3</th>\n",
       "      <td>86</td>\n",
       "      <td>167445</td>\n",
       "      <td>12</td>\n",
       "    </tr>\n",
       "    <tr>\n",
       "      <th>4</th>\n",
       "      <td>142</td>\n",
       "      <td>168073</td>\n",
       "      <td>12</td>\n",
       "    </tr>\n",
       "  </tbody>\n",
       "</table>\n",
       "</div>"
      ],
      "text/plain": [
       "   index  user_id  total_operators\n",
       "0     37   166916               17\n",
       "1     66   167176               16\n",
       "2     91   167521               13\n",
       "3     86   167445               12\n",
       "4    142   168073               12"
      ]
     },
     "metadata": {},
     "output_type": "display_data"
    },
    {
     "data": {
      "image/png": "[encoded data removed]",
      "text/plain": [
       "<Figure size 720x504 with 1 Axes>"
      ]
     },
     "metadata": {},
     "output_type": "display_data"
    }
   ],
   "source": [
    "types = data['client_type'].unique()\n",
    "\n",
    "for t in types:\n",
    "    tmp = data.query('client_type==@t').pivot_table(index=['user_id'], values=['operator_id'], aggfunc=['nunique']).reset_index()\n",
    "    tmp.columns = ['user_id', 'total_operators']\n",
    "    tmp = tmp.sort_values(by='total_operators', ascending=False).reset_index().head(5)\n",
    "    print(\"\\nТОП-5 клиентов {}-го типа:\".format(t))\n",
    "    display(tmp)\n",
    "     \n",
    "    sns.set(rc={'figure.figsize':(10, 7)})\n",
    "    sns.set_style('whitegrid')\n",
    "    sns.barplot(x='user_id', y='total_operators', data=tmp, order=tmp.sort_values('total_operators', ascending=False).user_id)\n",
    "    plt.ylabel('Количество операторов, шт.')\n",
    "    plt.xlabel('ID клиента')\n",
    "    plt.title(\"\\nТОП-5 клиентов {}-го типа по количеству операторов:\".format(t))\n",
    "    plt.show();"
   ]
  },
  {
   "cell_type": "markdown",
   "metadata": {},
   "source": [
    "**Вывод:** \n",
    "* Идентификаторы ТОП-5 клиентов 1-го типа по количеству операторов: 168187, 167626, 167497, 168252, 168361;\n",
    "* Идентификаторы ТОП-5 клиентов 2-го типа по количеству операторов: 166916, 167176, 167521, 167445, 168073."
   ]
  },
  {
   "cell_type": "markdown",
   "metadata": {},
   "source": [
    "### Расчет метрик  для операторов"
   ]
  },
  {
   "cell_type": "markdown",
   "metadata": {},
   "source": [
    "В зависимости от типа клиента рассчитаем для каждого оператора соответствующие метрики за период:\n",
    "* Для клиентов 1-го типа:\n",
    "    * общее количество входящих звонков;\n",
    "    * общее количество пропущенных входящих звонков;\n",
    "    * среднее время ожидания пропущенных входящих звонков;\n",
    "    * общая длительность исходящих звонков;\n",
    "* Для клиентов 2-го типа:\n",
    "    * общее количество исходящих звонков;"
   ]
  },
  {
   "cell_type": "code",
   "execution_count": 28,
   "metadata": {
    "scrolled": true
   },
   "outputs": [
    {
     "data": {
      "text/html": [
       "<div>\n",
       "<style scoped>\n",
       "    .dataframe tbody tr th:only-of-type {\n",
       "        vertical-align: middle;\n",
       "    }\n",
       "\n",
       "    .dataframe tbody tr th {\n",
       "        vertical-align: top;\n",
       "    }\n",
       "\n",
       "    .dataframe thead th {\n",
       "        text-align: right;\n",
       "    }\n",
       "</style>\n",
       "<table border=\"1\" class=\"dataframe\">\n",
       "  <thead>\n",
       "    <tr style=\"text-align: right;\">\n",
       "      <th></th>\n",
       "      <th>user_id</th>\n",
       "      <th>operator_id</th>\n",
       "      <th>not_missed_calls</th>\n",
       "      <th>missed_calls</th>\n",
       "      <th>total_calls</th>\n",
       "    </tr>\n",
       "  </thead>\n",
       "  <tbody>\n",
       "    <tr>\n",
       "      <th>0</th>\n",
       "      <td>166377</td>\n",
       "      <td>-1</td>\n",
       "      <td>0</td>\n",
       "      <td>94</td>\n",
       "      <td>94</td>\n",
       "    </tr>\n",
       "    <tr>\n",
       "      <th>1</th>\n",
       "      <td>166377</td>\n",
       "      <td>880020</td>\n",
       "      <td>7</td>\n",
       "      <td>0</td>\n",
       "      <td>7</td>\n",
       "    </tr>\n",
       "    <tr>\n",
       "      <th>2</th>\n",
       "      <td>166377</td>\n",
       "      <td>880022</td>\n",
       "      <td>8</td>\n",
       "      <td>0</td>\n",
       "      <td>8</td>\n",
       "    </tr>\n",
       "    <tr>\n",
       "      <th>3</th>\n",
       "      <td>166377</td>\n",
       "      <td>880026</td>\n",
       "      <td>24</td>\n",
       "      <td>0</td>\n",
       "      <td>24</td>\n",
       "    </tr>\n",
       "    <tr>\n",
       "      <th>4</th>\n",
       "      <td>166377</td>\n",
       "      <td>880028</td>\n",
       "      <td>63</td>\n",
       "      <td>0</td>\n",
       "      <td>63</td>\n",
       "    </tr>\n",
       "  </tbody>\n",
       "</table>\n",
       "</div>"
      ],
      "text/plain": [
       "   user_id  operator_id  not_missed_calls  missed_calls  total_calls\n",
       "0   166377           -1                 0            94           94\n",
       "1   166377       880020                 7             0            7\n",
       "2   166377       880022                 8             0            8\n",
       "3   166377       880026                24             0           24\n",
       "4   166377       880028                63             0           63"
      ]
     },
     "metadata": {},
     "output_type": "display_data"
    }
   ],
   "source": [
    "# сводная таблица по клиентам 1-го типа с информацией об операторах и статистикой входящих звонков\n",
    "incoming_calls = data.query('direction==\"in\" & client_type==1').pivot_table(\n",
    "    index=['user_id', 'operator_id'],\n",
    "    columns=['is_missed_call'],\n",
    "    values=['calls_count'], \n",
    "    aggfunc={\"calls_count\": sum},\n",
    "    fill_value=0\n",
    ").reset_index()\n",
    "incoming_calls.columns = ['user_id', 'operator_id', 'not_missed_calls', 'missed_calls']\n",
    "incoming_calls['total_calls'] = incoming_calls['missed_calls'] + incoming_calls['not_missed_calls']\n",
    "\n",
    "display(incoming_calls.head(5))"
   ]
  },
  {
   "cell_type": "code",
   "execution_count": 29,
   "metadata": {},
   "outputs": [
    {
     "data": {
      "text/html": [
       "<div>\n",
       "<style scoped>\n",
       "    .dataframe tbody tr th:only-of-type {\n",
       "        vertical-align: middle;\n",
       "    }\n",
       "\n",
       "    .dataframe tbody tr th {\n",
       "        vertical-align: top;\n",
       "    }\n",
       "\n",
       "    .dataframe thead th {\n",
       "        text-align: right;\n",
       "    }\n",
       "</style>\n",
       "<table border=\"1\" class=\"dataframe\">\n",
       "  <thead>\n",
       "    <tr style=\"text-align: right;\">\n",
       "      <th></th>\n",
       "      <th>user_id</th>\n",
       "      <th>operator_id</th>\n",
       "      <th>mean_wt</th>\n",
       "    </tr>\n",
       "  </thead>\n",
       "  <tbody>\n",
       "    <tr>\n",
       "      <th>0</th>\n",
       "      <td>166377</td>\n",
       "      <td>-1</td>\n",
       "      <td>18.212798</td>\n",
       "    </tr>\n",
       "    <tr>\n",
       "      <th>1</th>\n",
       "      <td>166405</td>\n",
       "      <td>-1</td>\n",
       "      <td>17.749833</td>\n",
       "    </tr>\n",
       "    <tr>\n",
       "      <th>2</th>\n",
       "      <td>166405</td>\n",
       "      <td>882684</td>\n",
       "      <td>16.500000</td>\n",
       "    </tr>\n",
       "    <tr>\n",
       "      <th>3</th>\n",
       "      <td>166405</td>\n",
       "      <td>882686</td>\n",
       "      <td>12.666667</td>\n",
       "    </tr>\n",
       "    <tr>\n",
       "      <th>4</th>\n",
       "      <td>166405</td>\n",
       "      <td>882690</td>\n",
       "      <td>60.000000</td>\n",
       "    </tr>\n",
       "  </tbody>\n",
       "</table>\n",
       "</div>"
      ],
      "text/plain": [
       "   user_id  operator_id    mean_wt\n",
       "0   166377           -1  18.212798\n",
       "1   166405           -1  17.749833\n",
       "2   166405       882684  16.500000\n",
       "3   166405       882686  12.666667\n",
       "4   166405       882690  60.000000"
      ]
     },
     "metadata": {},
     "output_type": "display_data"
    }
   ],
   "source": [
    "# добавим в датасет data столбец со временем ожидания для звонков \n",
    "data['waiting_time'] = (data['total_call_duration'] - data['call_duration']) / data['calls_count'] \n",
    "#display(data.head(5))\n",
    "\n",
    "# сводная таблица по клиентам 1-го типа с информацией об операторах и средним временем ожидания пропущенных входящих звонков\n",
    "mc_waiting_time = data.query('direction==\"in\" & is_missed_call==True & client_type==1').pivot_table(\n",
    "    index=['user_id','operator_id'],\n",
    "    values=['waiting_time'], \n",
    "    aggfunc=['mean'],\n",
    "    fill_value=0\n",
    ").reset_index()\n",
    "mc_waiting_time.columns = ['user_id','operator_id', 'mean_wt']\n",
    "display(mc_waiting_time.head(5))"
   ]
  },
  {
   "cell_type": "code",
   "execution_count": 30,
   "metadata": {},
   "outputs": [
    {
     "data": {
      "text/html": [
       "<div>\n",
       "<style scoped>\n",
       "    .dataframe tbody tr th:only-of-type {\n",
       "        vertical-align: middle;\n",
       "    }\n",
       "\n",
       "    .dataframe tbody tr th {\n",
       "        vertical-align: top;\n",
       "    }\n",
       "\n",
       "    .dataframe thead th {\n",
       "        text-align: right;\n",
       "    }\n",
       "</style>\n",
       "<table border=\"1\" class=\"dataframe\">\n",
       "  <thead>\n",
       "    <tr style=\"text-align: right;\">\n",
       "      <th></th>\n",
       "      <th>user_id</th>\n",
       "      <th>operator_id</th>\n",
       "      <th>total_calls</th>\n",
       "      <th>total_days</th>\n",
       "      <th>total_calls_duration</th>\n",
       "    </tr>\n",
       "  </thead>\n",
       "  <tbody>\n",
       "    <tr>\n",
       "      <th>0</th>\n",
       "      <td>166407</td>\n",
       "      <td>888532</td>\n",
       "      <td>2</td>\n",
       "      <td>2</td>\n",
       "      <td>25</td>\n",
       "    </tr>\n",
       "    <tr>\n",
       "      <th>1</th>\n",
       "      <td>166407</td>\n",
       "      <td>888534</td>\n",
       "      <td>128</td>\n",
       "      <td>36</td>\n",
       "      <td>9541</td>\n",
       "    </tr>\n",
       "    <tr>\n",
       "      <th>2</th>\n",
       "      <td>166407</td>\n",
       "      <td>888536</td>\n",
       "      <td>1</td>\n",
       "      <td>1</td>\n",
       "      <td>114</td>\n",
       "    </tr>\n",
       "    <tr>\n",
       "      <th>3</th>\n",
       "      <td>166407</td>\n",
       "      <td>888538</td>\n",
       "      <td>2</td>\n",
       "      <td>2</td>\n",
       "      <td>395</td>\n",
       "    </tr>\n",
       "    <tr>\n",
       "      <th>4</th>\n",
       "      <td>166407</td>\n",
       "      <td>888540</td>\n",
       "      <td>1</td>\n",
       "      <td>1</td>\n",
       "      <td>222</td>\n",
       "    </tr>\n",
       "  </tbody>\n",
       "</table>\n",
       "</div>"
      ],
      "text/plain": [
       "   user_id  operator_id  total_calls  total_days  total_calls_duration\n",
       "0   166407       888532            2           2                    25\n",
       "1   166407       888534          128          36                  9541\n",
       "2   166407       888536            1           1                   114\n",
       "3   166407       888538            2           2                   395\n",
       "4   166407       888540            1           1                   222"
      ]
     },
     "metadata": {},
     "output_type": "display_data"
    }
   ],
   "source": [
    "# сводная таблица по клиентам 2-го типа с информацией об операторах, общим количеством исходящих звонков, отбратоннах дней и продолжительностью звонков \n",
    "outgoing_calls = data.query('direction==\"out\" & call_type==\"ad\" & client_type==2').pivot_table(\n",
    "    index=['user_id','operator_id'],\n",
    "    values=['date', 'calls_count','total_call_duration'], \n",
    "    aggfunc={'date': pd.Series.nunique, 'calls_count': np.sum,'total_call_duration': np.sum},\n",
    ").reset_index()\n",
    "#display(outgoing_calls.sort_values(by='date', ascending=False).head(10))\n",
    "outgoing_calls.columns = ['user_id','operator_id', 'total_calls', 'total_days', 'total_calls_duration']\n",
    "\n",
    "display(outgoing_calls.head(5))"
   ]
  },
  {
   "cell_type": "markdown",
   "metadata": {},
   "source": [
    "### Вывод:"
   ]
  },
  {
   "cell_type": "markdown",
   "metadata": {},
   "source": [
    "Данные, необходимые для проведения исследовательского анализа, подготовлены."
   ]
  },
  {
   "cell_type": "markdown",
   "metadata": {},
   "source": [
    "## Исследовательский анализ данных"
   ]
  },
  {
   "cell_type": "markdown",
   "metadata": {},
   "source": [
    "Для клиентов 1-го типа определим пороги показателей эффективности CAR (\"call abandonment rate\" - показатель необработанных звонков) и ASA (\"average speed of answer\" - среднее время ответа); для клиентов 2-го типа найдем норматив по ежедневному количеству звонков."
   ]
  },
  {
   "cell_type": "markdown",
   "metadata": {},
   "source": [
    "### Порог показателя эффективности CAR"
   ]
  },
  {
   "cell_type": "markdown",
   "metadata": {},
   "source": [
    "Расссчитаем CAR- порог эффективноси общей доли пропущенных звонков, которую не следует превышать. \n",
    "Найдем для каждого CALL-центра 1-го типа отношение количества пропущенных входящих звонков к общему количеству входящих звонков:"
   ]
  },
  {
   "cell_type": "code",
   "execution_count": 31,
   "metadata": {},
   "outputs": [
    {
     "data": {
      "text/html": [
       "<div>\n",
       "<style scoped>\n",
       "    .dataframe tbody tr th:only-of-type {\n",
       "        vertical-align: middle;\n",
       "    }\n",
       "\n",
       "    .dataframe tbody tr th {\n",
       "        vertical-align: top;\n",
       "    }\n",
       "\n",
       "    .dataframe thead th {\n",
       "        text-align: right;\n",
       "    }\n",
       "</style>\n",
       "<table border=\"1\" class=\"dataframe\">\n",
       "  <thead>\n",
       "    <tr style=\"text-align: right;\">\n",
       "      <th></th>\n",
       "      <th>user_id</th>\n",
       "      <th>missed_calls</th>\n",
       "      <th>total_calls</th>\n",
       "      <th>user_car</th>\n",
       "    </tr>\n",
       "  </thead>\n",
       "  <tbody>\n",
       "    <tr>\n",
       "      <th>11</th>\n",
       "      <td>166619</td>\n",
       "      <td>1</td>\n",
       "      <td>3</td>\n",
       "      <td>0.333333</td>\n",
       "    </tr>\n",
       "    <tr>\n",
       "      <th>71</th>\n",
       "      <td>167626</td>\n",
       "      <td>16</td>\n",
       "      <td>141</td>\n",
       "      <td>0.113475</td>\n",
       "    </tr>\n",
       "    <tr>\n",
       "      <th>17</th>\n",
       "      <td>166688</td>\n",
       "      <td>1</td>\n",
       "      <td>9</td>\n",
       "      <td>0.111111</td>\n",
       "    </tr>\n",
       "    <tr>\n",
       "      <th>107</th>\n",
       "      <td>168253</td>\n",
       "      <td>8</td>\n",
       "      <td>72</td>\n",
       "      <td>0.111111</td>\n",
       "    </tr>\n",
       "    <tr>\n",
       "      <th>38</th>\n",
       "      <td>167002</td>\n",
       "      <td>1</td>\n",
       "      <td>17</td>\n",
       "      <td>0.058824</td>\n",
       "    </tr>\n",
       "  </tbody>\n",
       "</table>\n",
       "</div>"
      ],
      "text/plain": [
       "     user_id  missed_calls  total_calls  user_car\n",
       "11    166619             1            3  0.333333\n",
       "71    167626            16          141  0.113475\n",
       "17    166688             1            9  0.111111\n",
       "107   168253             8           72  0.111111\n",
       "38    167002             1           17  0.058824"
      ]
     },
     "metadata": {},
     "output_type": "display_data"
    },
    {
     "data": {
      "image/png": "[encoded data removed]",
      "text/plain": [
       "<Figure size 720x504 with 1 Axes>"
      ]
     },
     "metadata": {},
     "output_type": "display_data"
    }
   ],
   "source": [
    "# при оасчете не будем учитывать пропущенные входящие звонки, которые находились в очереди ожидания\n",
    "CAR = incoming_calls.query('operator_id!=-1').pivot_table(index=['user_id'], values=['missed_calls', 'total_calls'], aggfunc='sum').reset_index()\n",
    "CAR['user_car'] = CAR['missed_calls'] / CAR ['total_calls']\n",
    "display(CAR.sort_values(by='user_car').sort_values(by='user_car', ascending=False).head(5))\n",
    "\n",
    "plt.title('Распределение значения порога CAR у клиентов:')\n",
    "plt.xlabel('Порог CAR')\n",
    "plt.ylabel('Количество клиентов')\n",
    "plt.hist(CAR['user_car'])\n",
    "plt.show();"
   ]
  },
  {
   "cell_type": "markdown",
   "metadata": {},
   "source": [
    "**Вывод:** у большинства клиентов значение порога CAR близко к 0."
   ]
  },
  {
   "cell_type": "markdown",
   "metadata": {},
   "source": [
    "### Порог показателя эффективности ASA"
   ]
  },
  {
   "cell_type": "markdown",
   "metadata": {},
   "source": [
    "Для расчета порога ASA нам нужно определить, сколько времени клиент, который звонит на горячую линию, готов ждать и когда бросает трубку? Для этого найдем среднее время ожидания пропущенных входящих звонков для операторов из выборки: "
   ]
  },
  {
   "cell_type": "code",
   "execution_count": 32,
   "metadata": {},
   "outputs": [
    {
     "data": {
      "image/png": "[encoded data removed]",
      "text/plain": [
       "<Figure size 720x504 with 1 Axes>"
      ]
     },
     "metadata": {},
     "output_type": "display_data"
    },
    {
     "data": {
      "image/png": "[encoded data removed]",
      "text/plain": [
       "<Figure size 1008x288 with 1 Axes>"
      ]
     },
     "metadata": {},
     "output_type": "display_data"
    }
   ],
   "source": [
    "# при оасчете не будем учитывать пропущенные входящие звонки, которые находились в очереди ожидания\n",
    "sns.set_style('whitegrid')\n",
    "plt.title('Распределение среднего времени ожидания пропущенных входящих звонков у клиентов:')\n",
    "plt.xlabel('Среднее время ожидания, мин')\n",
    "plt.ylabel('Количество клиентов')\n",
    "plt.hist(mc_waiting_time.query('operator_id!=-1')['mean_wt'])\n",
    "plt.show();\n",
    "\n",
    "sns.set(rc={'figure.figsize':(14,4)})\n",
    "sns.boxplot(data=mc_waiting_time.query('operator_id!=-1'), x='mean_wt').set(xlim=(0, 45))\n",
    "plt.show();"
   ]
  },
  {
   "cell_type": "markdown",
   "metadata": {},
   "source": [
    "Найдем значения 1-го, 2-го и 3-го квартиля для `mean_wt`:"
   ]
  },
  {
   "cell_type": "code",
   "execution_count": 33,
   "metadata": {},
   "outputs": [
    {
     "name": "stdout",
     "output_type": "stream",
     "text": [
      "[ 7.375 12.    21.   ]\n"
     ]
    }
   ],
   "source": [
    "print(np.percentile(mc_waiting_time.query('operator_id!=-1')['mean_wt'], [25, 50, 75]))   \n",
    "asa = np.percentile(mc_waiting_time.query('operator_id!=-1')['mean_wt'], 50)"
   ]
  },
  {
   "cell_type": "markdown",
   "metadata": {},
   "source": [
    "**Вывод:** в качестве порога времени ожидания возьмем значение медианы, равное 12 мин."
   ]
  },
  {
   "cell_type": "markdown",
   "metadata": {},
   "source": [
    "### Норматив по ежедневному количеству звонков"
   ]
  },
  {
   "cell_type": "markdown",
   "metadata": {},
   "source": [
    "Для расчета норматива по ежедневному количеству звонов сначала найдем AHT (\"average handling time\" - среднее время обработки звонка) для выборки, как отношение общей длительности исходящих звонков к общему количеству звонков. При расчете также следует учесть т.н. \"период бездействия\", в течение которого оператор завершает обработку предыдущего звонка и готовится к следующему. Возьмем период бездействия, равный 18% рабочего времени оператора:"
   ]
  },
  {
   "cell_type": "code",
   "execution_count": 34,
   "metadata": {},
   "outputs": [
    {
     "name": "stdout",
     "output_type": "stream",
     "text": [
      "AHT=94.5 мин\n"
     ]
    }
   ],
   "source": [
    "idle_period = 0.18 # коэффицент периода бездействия\n",
    "aht = outgoing_calls['total_calls_duration'].sum() / outgoing_calls['total_calls'].sum() * (1 + idle_period)\n",
    "print(\"AHT={:,.1f} мин\".format(aht))"
   ]
  },
  {
   "cell_type": "markdown",
   "metadata": {},
   "source": [
    "Теперь найдем отношение продолжительности рабочего дня оператора (условимся, что у оператора 8-ми часовая смена с перерывом 1ч на обед) к найденному AHT для выборки:"
   ]
  },
  {
   "cell_type": "code",
   "execution_count": 35,
   "metadata": {},
   "outputs": [
    {
     "name": "stdout",
     "output_type": "stream",
     "text": [
      "Норматив по ежедневному количеству звонков для выборки: 4\n"
     ]
    }
   ],
   "source": [
    "wd_duration = 7 * 60\n",
    "cdc_norm = round(wd_duration / aht)\n",
    "print('Норматив по ежедневному количеству звонков для выборки:', cdc_norm)"
   ]
  },
  {
   "cell_type": "markdown",
   "metadata": {},
   "source": [
    "**Вывод:** с учетом среднего временного промежутка для обработки одного звонка, равного 94,5 минутам, норматив по количеству звонков составляет 4 звонка в день."
   ]
  },
  {
   "cell_type": "markdown",
   "metadata": {},
   "source": [
    "### Индивидуальные показатели эффективности для операторов"
   ]
  },
  {
   "cell_type": "markdown",
   "metadata": {},
   "source": [
    "Для каждого оператора рассчитаем индивидуальные показатели CAR и ASA (для клиентов 1-го типа) и среднее количество исходящих звонков в день (для клиентов 2-го типа):\n",
    "* Индивидуальные показатели CAR:"
   ]
  },
  {
   "cell_type": "code",
   "execution_count": 36,
   "metadata": {
    "scrolled": false
   },
   "outputs": [
    {
     "data": {
      "text/html": [
       "<div>\n",
       "<style scoped>\n",
       "    .dataframe tbody tr th:only-of-type {\n",
       "        vertical-align: middle;\n",
       "    }\n",
       "\n",
       "    .dataframe tbody tr th {\n",
       "        vertical-align: top;\n",
       "    }\n",
       "\n",
       "    .dataframe thead th {\n",
       "        text-align: right;\n",
       "    }\n",
       "</style>\n",
       "<table border=\"1\" class=\"dataframe\">\n",
       "  <thead>\n",
       "    <tr style=\"text-align: right;\">\n",
       "      <th></th>\n",
       "      <th>user_id</th>\n",
       "      <th>operator_id</th>\n",
       "      <th>not_missed_calls</th>\n",
       "      <th>missed_calls</th>\n",
       "      <th>total_calls</th>\n",
       "      <th>car</th>\n",
       "    </tr>\n",
       "  </thead>\n",
       "  <tbody>\n",
       "    <tr>\n",
       "      <th>0</th>\n",
       "      <td>166377</td>\n",
       "      <td>-1</td>\n",
       "      <td>0</td>\n",
       "      <td>94</td>\n",
       "      <td>94</td>\n",
       "      <td>1.0</td>\n",
       "    </tr>\n",
       "    <tr>\n",
       "      <th>1</th>\n",
       "      <td>166377</td>\n",
       "      <td>880020</td>\n",
       "      <td>7</td>\n",
       "      <td>0</td>\n",
       "      <td>7</td>\n",
       "      <td>0.0</td>\n",
       "    </tr>\n",
       "    <tr>\n",
       "      <th>2</th>\n",
       "      <td>166377</td>\n",
       "      <td>880022</td>\n",
       "      <td>8</td>\n",
       "      <td>0</td>\n",
       "      <td>8</td>\n",
       "      <td>0.0</td>\n",
       "    </tr>\n",
       "    <tr>\n",
       "      <th>3</th>\n",
       "      <td>166377</td>\n",
       "      <td>880026</td>\n",
       "      <td>24</td>\n",
       "      <td>0</td>\n",
       "      <td>24</td>\n",
       "      <td>0.0</td>\n",
       "    </tr>\n",
       "    <tr>\n",
       "      <th>4</th>\n",
       "      <td>166377</td>\n",
       "      <td>880028</td>\n",
       "      <td>63</td>\n",
       "      <td>0</td>\n",
       "      <td>63</td>\n",
       "      <td>0.0</td>\n",
       "    </tr>\n",
       "  </tbody>\n",
       "</table>\n",
       "</div>"
      ],
      "text/plain": [
       "   user_id  operator_id  not_missed_calls  missed_calls  total_calls  car\n",
       "0   166377           -1                 0            94           94  1.0\n",
       "1   166377       880020                 7             0            7  0.0\n",
       "2   166377       880022                 8             0            8  0.0\n",
       "3   166377       880026                24             0           24  0.0\n",
       "4   166377       880028                63             0           63  0.0"
      ]
     },
     "metadata": {},
     "output_type": "display_data"
    }
   ],
   "source": [
    "incoming_calls['car'] = incoming_calls['missed_calls'] / incoming_calls ['total_calls']\n",
    "display(incoming_calls.head(5))"
   ]
  },
  {
   "cell_type": "markdown",
   "metadata": {},
   "source": [
    "* Индивидуальные показатели ASA (для пропущенных и непропущенных звонков):"
   ]
  },
  {
   "cell_type": "code",
   "execution_count": 37,
   "metadata": {},
   "outputs": [
    {
     "data": {
      "text/html": [
       "<div>\n",
       "<style scoped>\n",
       "    .dataframe tbody tr th:only-of-type {\n",
       "        vertical-align: middle;\n",
       "    }\n",
       "\n",
       "    .dataframe tbody tr th {\n",
       "        vertical-align: top;\n",
       "    }\n",
       "\n",
       "    .dataframe thead th {\n",
       "        text-align: right;\n",
       "    }\n",
       "</style>\n",
       "<table border=\"1\" class=\"dataframe\">\n",
       "  <thead>\n",
       "    <tr style=\"text-align: right;\">\n",
       "      <th></th>\n",
       "      <th>user_id</th>\n",
       "      <th>operator_id</th>\n",
       "      <th>mean_wt</th>\n",
       "    </tr>\n",
       "  </thead>\n",
       "  <tbody>\n",
       "    <tr>\n",
       "      <th>0</th>\n",
       "      <td>166377</td>\n",
       "      <td>-1</td>\n",
       "      <td>18.212798</td>\n",
       "    </tr>\n",
       "    <tr>\n",
       "      <th>1</th>\n",
       "      <td>166377</td>\n",
       "      <td>880020</td>\n",
       "      <td>7.714286</td>\n",
       "    </tr>\n",
       "    <tr>\n",
       "      <th>2</th>\n",
       "      <td>166377</td>\n",
       "      <td>880022</td>\n",
       "      <td>14.000000</td>\n",
       "    </tr>\n",
       "    <tr>\n",
       "      <th>3</th>\n",
       "      <td>166377</td>\n",
       "      <td>880026</td>\n",
       "      <td>5.935185</td>\n",
       "    </tr>\n",
       "    <tr>\n",
       "      <th>4</th>\n",
       "      <td>166377</td>\n",
       "      <td>880028</td>\n",
       "      <td>6.106504</td>\n",
       "    </tr>\n",
       "  </tbody>\n",
       "</table>\n",
       "</div>"
      ],
      "text/plain": [
       "   user_id  operator_id    mean_wt\n",
       "0   166377           -1  18.212798\n",
       "1   166377       880020   7.714286\n",
       "2   166377       880022  14.000000\n",
       "3   166377       880026   5.935185\n",
       "4   166377       880028   6.106504"
      ]
     },
     "metadata": {},
     "output_type": "display_data"
    }
   ],
   "source": [
    "total_waiting_time = data.query('direction==\"in\" & client_type==1').pivot_table(\n",
    "    index=['user_id','operator_id'],\n",
    "    values=['waiting_time'], \n",
    "    aggfunc=['mean'],\n",
    "    fill_value=0\n",
    ").reset_index()\n",
    "total_waiting_time.columns = ['user_id','operator_id', 'mean_wt']\n",
    "display(total_waiting_time.head(5))"
   ]
  },
  {
   "cell_type": "markdown",
   "metadata": {},
   "source": [
    "* Среднее ежедневное количество исходящих звонков (calls daily count):"
   ]
  },
  {
   "cell_type": "code",
   "execution_count": 38,
   "metadata": {},
   "outputs": [
    {
     "data": {
      "text/html": [
       "<div>\n",
       "<style scoped>\n",
       "    .dataframe tbody tr th:only-of-type {\n",
       "        vertical-align: middle;\n",
       "    }\n",
       "\n",
       "    .dataframe tbody tr th {\n",
       "        vertical-align: top;\n",
       "    }\n",
       "\n",
       "    .dataframe thead th {\n",
       "        text-align: right;\n",
       "    }\n",
       "</style>\n",
       "<table border=\"1\" class=\"dataframe\">\n",
       "  <thead>\n",
       "    <tr style=\"text-align: right;\">\n",
       "      <th></th>\n",
       "      <th>user_id</th>\n",
       "      <th>operator_id</th>\n",
       "      <th>total_calls</th>\n",
       "      <th>total_days</th>\n",
       "      <th>total_calls_duration</th>\n",
       "      <th>cdc</th>\n",
       "    </tr>\n",
       "  </thead>\n",
       "  <tbody>\n",
       "    <tr>\n",
       "      <th>155</th>\n",
       "      <td>167653</td>\n",
       "      <td>939708</td>\n",
       "      <td>36</td>\n",
       "      <td>1</td>\n",
       "      <td>2819</td>\n",
       "      <td>36</td>\n",
       "    </tr>\n",
       "    <tr>\n",
       "      <th>12</th>\n",
       "      <td>166582</td>\n",
       "      <td>885890</td>\n",
       "      <td>136</td>\n",
       "      <td>4</td>\n",
       "      <td>6446</td>\n",
       "      <td>34</td>\n",
       "    </tr>\n",
       "    <tr>\n",
       "      <th>160</th>\n",
       "      <td>167827</td>\n",
       "      <td>929426</td>\n",
       "      <td>384</td>\n",
       "      <td>12</td>\n",
       "      <td>16315</td>\n",
       "      <td>32</td>\n",
       "    </tr>\n",
       "    <tr>\n",
       "      <th>154</th>\n",
       "      <td>167653</td>\n",
       "      <td>939706</td>\n",
       "      <td>513</td>\n",
       "      <td>17</td>\n",
       "      <td>20781</td>\n",
       "      <td>30</td>\n",
       "    </tr>\n",
       "    <tr>\n",
       "      <th>69</th>\n",
       "      <td>167016</td>\n",
       "      <td>962902</td>\n",
       "      <td>360</td>\n",
       "      <td>12</td>\n",
       "      <td>21449</td>\n",
       "      <td>30</td>\n",
       "    </tr>\n",
       "  </tbody>\n",
       "</table>\n",
       "</div>"
      ],
      "text/plain": [
       "     user_id  operator_id  total_calls  total_days  total_calls_duration  cdc\n",
       "155   167653       939708           36           1                  2819   36\n",
       "12    166582       885890          136           4                  6446   34\n",
       "160   167827       929426          384          12                 16315   32\n",
       "154   167653       939706          513          17                 20781   30\n",
       "69    167016       962902          360          12                 21449   30"
      ]
     },
     "metadata": {},
     "output_type": "display_data"
    }
   ],
   "source": [
    "outgoing_calls['cdc'] = outgoing_calls['total_calls'] / outgoing_calls['total_days'] \n",
    "outgoing_calls['cdc'] = outgoing_calls['cdc'].astype('int16')\n",
    "display(outgoing_calls.sort_values(by='cdc', ascending=False).head(5))"
   ]
  },
  {
   "cell_type": "markdown",
   "metadata": {},
   "source": [
    "### Оценка эффективности операторов"
   ]
  },
  {
   "cell_type": "markdown",
   "metadata": {},
   "source": [
    "Сопоставим индивидуальные показатели каждого оператора с пороговым значениями и сделаем вывод, эффективен оператор (метрика эффективности равна 1) или же неэффективен (метрика эффективности равна 0):\n",
    "* Клиенты 1-го типа: если CAR или ASA ниже порога для выборки, оператор неэффективен"
   ]
  },
  {
   "cell_type": "code",
   "execution_count": 39,
   "metadata": {},
   "outputs": [
    {
     "name": "stdout",
     "output_type": "stream",
     "text": [
      "<class 'pandas.core.frame.DataFrame'>\n",
      "RangeIndex: 115 entries, 0 to 114\n",
      "Data columns (total 4 columns):\n",
      " #   Column        Non-Null Count  Dtype  \n",
      "---  ------        --------------  -----  \n",
      " 0   user_id       115 non-null    int64  \n",
      " 1   missed_calls  115 non-null    int64  \n",
      " 2   total_calls   115 non-null    int64  \n",
      " 3   user_car      115 non-null    float64\n",
      "dtypes: float64(1), int64(3)\n",
      "memory usage: 3.7 KB\n"
     ]
    }
   ],
   "source": [
    "CAR.info()"
   ]
  },
  {
   "cell_type": "code",
   "execution_count": 40,
   "metadata": {
    "scrolled": false
   },
   "outputs": [
    {
     "data": {
      "text/html": [
       "<div>\n",
       "<style scoped>\n",
       "    .dataframe tbody tr th:only-of-type {\n",
       "        vertical-align: middle;\n",
       "    }\n",
       "\n",
       "    .dataframe tbody tr th {\n",
       "        vertical-align: top;\n",
       "    }\n",
       "\n",
       "    .dataframe thead th {\n",
       "        text-align: right;\n",
       "    }\n",
       "</style>\n",
       "<table border=\"1\" class=\"dataframe\">\n",
       "  <thead>\n",
       "    <tr style=\"text-align: right;\">\n",
       "      <th></th>\n",
       "      <th>user_id</th>\n",
       "      <th>operator_id</th>\n",
       "      <th>not_missed_calls</th>\n",
       "      <th>missed_calls</th>\n",
       "      <th>total_calls</th>\n",
       "      <th>car</th>\n",
       "      <th>mean_wt</th>\n",
       "      <th>user_car</th>\n",
       "    </tr>\n",
       "  </thead>\n",
       "  <tbody>\n",
       "    <tr>\n",
       "      <th>0</th>\n",
       "      <td>166377</td>\n",
       "      <td>-1</td>\n",
       "      <td>0</td>\n",
       "      <td>94</td>\n",
       "      <td>94</td>\n",
       "      <td>1.000000</td>\n",
       "      <td>18.212798</td>\n",
       "      <td>0.000000</td>\n",
       "    </tr>\n",
       "    <tr>\n",
       "      <th>1</th>\n",
       "      <td>166377</td>\n",
       "      <td>880020</td>\n",
       "      <td>7</td>\n",
       "      <td>0</td>\n",
       "      <td>7</td>\n",
       "      <td>0.000000</td>\n",
       "      <td>7.714286</td>\n",
       "      <td>0.000000</td>\n",
       "    </tr>\n",
       "    <tr>\n",
       "      <th>2</th>\n",
       "      <td>166377</td>\n",
       "      <td>880022</td>\n",
       "      <td>8</td>\n",
       "      <td>0</td>\n",
       "      <td>8</td>\n",
       "      <td>0.000000</td>\n",
       "      <td>14.000000</td>\n",
       "      <td>0.000000</td>\n",
       "    </tr>\n",
       "    <tr>\n",
       "      <th>3</th>\n",
       "      <td>166377</td>\n",
       "      <td>880026</td>\n",
       "      <td>24</td>\n",
       "      <td>0</td>\n",
       "      <td>24</td>\n",
       "      <td>0.000000</td>\n",
       "      <td>5.935185</td>\n",
       "      <td>0.000000</td>\n",
       "    </tr>\n",
       "    <tr>\n",
       "      <th>4</th>\n",
       "      <td>166377</td>\n",
       "      <td>880028</td>\n",
       "      <td>63</td>\n",
       "      <td>0</td>\n",
       "      <td>63</td>\n",
       "      <td>0.000000</td>\n",
       "      <td>6.106504</td>\n",
       "      <td>0.000000</td>\n",
       "    </tr>\n",
       "    <tr>\n",
       "      <th>5</th>\n",
       "      <td>166405</td>\n",
       "      <td>-1</td>\n",
       "      <td>0</td>\n",
       "      <td>2272</td>\n",
       "      <td>2272</td>\n",
       "      <td>1.000000</td>\n",
       "      <td>17.749833</td>\n",
       "      <td>0.009964</td>\n",
       "    </tr>\n",
       "    <tr>\n",
       "      <th>6</th>\n",
       "      <td>166405</td>\n",
       "      <td>882684</td>\n",
       "      <td>276</td>\n",
       "      <td>4</td>\n",
       "      <td>280</td>\n",
       "      <td>0.014286</td>\n",
       "      <td>17.588709</td>\n",
       "      <td>0.009964</td>\n",
       "    </tr>\n",
       "    <tr>\n",
       "      <th>7</th>\n",
       "      <td>166405</td>\n",
       "      <td>882686</td>\n",
       "      <td>416</td>\n",
       "      <td>4</td>\n",
       "      <td>420</td>\n",
       "      <td>0.009524</td>\n",
       "      <td>16.109736</td>\n",
       "      <td>0.009964</td>\n",
       "    </tr>\n",
       "    <tr>\n",
       "      <th>8</th>\n",
       "      <td>166405</td>\n",
       "      <td>882688</td>\n",
       "      <td>15</td>\n",
       "      <td>0</td>\n",
       "      <td>15</td>\n",
       "      <td>0.000000</td>\n",
       "      <td>42.650000</td>\n",
       "      <td>0.009964</td>\n",
       "    </tr>\n",
       "    <tr>\n",
       "      <th>9</th>\n",
       "      <td>166405</td>\n",
       "      <td>882690</td>\n",
       "      <td>169</td>\n",
       "      <td>2</td>\n",
       "      <td>171</td>\n",
       "      <td>0.011696</td>\n",
       "      <td>40.165580</td>\n",
       "      <td>0.009964</td>\n",
       "    </tr>\n",
       "  </tbody>\n",
       "</table>\n",
       "</div>"
      ],
      "text/plain": [
       "   user_id  operator_id  not_missed_calls  missed_calls  total_calls  \\\n",
       "0   166377           -1                 0            94           94   \n",
       "1   166377       880020                 7             0            7   \n",
       "2   166377       880022                 8             0            8   \n",
       "3   166377       880026                24             0           24   \n",
       "4   166377       880028                63             0           63   \n",
       "5   166405           -1                 0          2272         2272   \n",
       "6   166405       882684               276             4          280   \n",
       "7   166405       882686               416             4          420   \n",
       "8   166405       882688                15             0           15   \n",
       "9   166405       882690               169             2          171   \n",
       "\n",
       "        car    mean_wt  user_car  \n",
       "0  1.000000  18.212798  0.000000  \n",
       "1  0.000000   7.714286  0.000000  \n",
       "2  0.000000  14.000000  0.000000  \n",
       "3  0.000000   5.935185  0.000000  \n",
       "4  0.000000   6.106504  0.000000  \n",
       "5  1.000000  17.749833  0.009964  \n",
       "6  0.014286  17.588709  0.009964  \n",
       "7  0.009524  16.109736  0.009964  \n",
       "8  0.000000  42.650000  0.009964  \n",
       "9  0.011696  40.165580  0.009964  "
      ]
     },
     "metadata": {},
     "output_type": "display_data"
    }
   ],
   "source": [
    "# объединим датасеты incoming_calls, waiting_time и CAR  \n",
    "incoming_calls = incoming_calls.merge(total_waiting_time, on=[\"user_id\",\"operator_id\"])\n",
    "incoming_calls = incoming_calls.merge(CAR[['user_id','user_car']], on=[\"user_id\"])\n",
    "\n",
    "display(incoming_calls.head(10))"
   ]
  },
  {
   "cell_type": "code",
   "execution_count": 41,
   "metadata": {},
   "outputs": [
    {
     "data": {
      "text/html": [
       "<div>\n",
       "<style scoped>\n",
       "    .dataframe tbody tr th:only-of-type {\n",
       "        vertical-align: middle;\n",
       "    }\n",
       "\n",
       "    .dataframe tbody tr th {\n",
       "        vertical-align: top;\n",
       "    }\n",
       "\n",
       "    .dataframe thead th {\n",
       "        text-align: right;\n",
       "    }\n",
       "</style>\n",
       "<table border=\"1\" class=\"dataframe\">\n",
       "  <thead>\n",
       "    <tr style=\"text-align: right;\">\n",
       "      <th></th>\n",
       "      <th>user_id</th>\n",
       "      <th>operator_id</th>\n",
       "      <th>not_missed_calls</th>\n",
       "      <th>missed_calls</th>\n",
       "      <th>total_calls</th>\n",
       "      <th>car</th>\n",
       "      <th>mean_wt</th>\n",
       "      <th>user_car</th>\n",
       "      <th>eff</th>\n",
       "    </tr>\n",
       "  </thead>\n",
       "  <tbody>\n",
       "    <tr>\n",
       "      <th>0</th>\n",
       "      <td>166377</td>\n",
       "      <td>-1</td>\n",
       "      <td>0</td>\n",
       "      <td>94</td>\n",
       "      <td>94</td>\n",
       "      <td>1.0</td>\n",
       "      <td>18.212798</td>\n",
       "      <td>0.0</td>\n",
       "      <td>0</td>\n",
       "    </tr>\n",
       "    <tr>\n",
       "      <th>1</th>\n",
       "      <td>166377</td>\n",
       "      <td>880020</td>\n",
       "      <td>7</td>\n",
       "      <td>0</td>\n",
       "      <td>7</td>\n",
       "      <td>0.0</td>\n",
       "      <td>7.714286</td>\n",
       "      <td>0.0</td>\n",
       "      <td>1</td>\n",
       "    </tr>\n",
       "    <tr>\n",
       "      <th>2</th>\n",
       "      <td>166377</td>\n",
       "      <td>880022</td>\n",
       "      <td>8</td>\n",
       "      <td>0</td>\n",
       "      <td>8</td>\n",
       "      <td>0.0</td>\n",
       "      <td>14.000000</td>\n",
       "      <td>0.0</td>\n",
       "      <td>1</td>\n",
       "    </tr>\n",
       "    <tr>\n",
       "      <th>3</th>\n",
       "      <td>166377</td>\n",
       "      <td>880026</td>\n",
       "      <td>24</td>\n",
       "      <td>0</td>\n",
       "      <td>24</td>\n",
       "      <td>0.0</td>\n",
       "      <td>5.935185</td>\n",
       "      <td>0.0</td>\n",
       "      <td>1</td>\n",
       "    </tr>\n",
       "    <tr>\n",
       "      <th>4</th>\n",
       "      <td>166377</td>\n",
       "      <td>880028</td>\n",
       "      <td>63</td>\n",
       "      <td>0</td>\n",
       "      <td>63</td>\n",
       "      <td>0.0</td>\n",
       "      <td>6.106504</td>\n",
       "      <td>0.0</td>\n",
       "      <td>1</td>\n",
       "    </tr>\n",
       "  </tbody>\n",
       "</table>\n",
       "</div>"
      ],
      "text/plain": [
       "   user_id  operator_id  not_missed_calls  missed_calls  total_calls  car  \\\n",
       "0   166377           -1                 0            94           94  1.0   \n",
       "1   166377       880020                 7             0            7  0.0   \n",
       "2   166377       880022                 8             0            8  0.0   \n",
       "3   166377       880026                24             0           24  0.0   \n",
       "4   166377       880028                63             0           63  0.0   \n",
       "\n",
       "     mean_wt  user_car  eff  \n",
       "0  18.212798       0.0    0  \n",
       "1   7.714286       0.0    1  \n",
       "2  14.000000       0.0    1  \n",
       "3   5.935185       0.0    1  \n",
       "4   6.106504       0.0    1  "
      ]
     },
     "metadata": {},
     "output_type": "display_data"
    }
   ],
   "source": [
    "# функция возвращает значение 1, если оператор эффективен, и 0 - если нет\n",
    "def efficiency_type_1(df):\n",
    "    if df.car<=df.user_car or df.mean_wt<=asa:\n",
    "        return 1\n",
    "    else:\n",
    "        return 0\n",
    "    \n",
    "incoming_calls['eff'] = incoming_calls.apply(efficiency_type_1, axis=1)\n",
    "display(incoming_calls.head(5))"
   ]
  },
  {
   "cell_type": "markdown",
   "metadata": {},
   "source": [
    "Проанализируем соотношение эффективных и неэффективных операторов для клиентов 1-го типа:"
   ]
  },
  {
   "cell_type": "code",
   "execution_count": 42,
   "metadata": {},
   "outputs": [
    {
     "data": {
      "text/html": [
       "<style type=\"text/css\">\n",
       "</style>\n",
       "<table id=\"T_e2895\">\n",
       "  <thead>\n",
       "    <tr>\n",
       "      <th class=\"blank level0\" >&nbsp;</th>\n",
       "      <th id=\"T_e2895_level0_col0\" class=\"col_heading level0 col0\" >eff</th>\n",
       "      <th id=\"T_e2895_level0_col1\" class=\"col_heading level0 col1\" >count</th>\n",
       "      <th id=\"T_e2895_level0_col2\" class=\"col_heading level0 col2\" >share</th>\n",
       "    </tr>\n",
       "  </thead>\n",
       "  <tbody>\n",
       "    <tr>\n",
       "      <th id=\"T_e2895_level0_row0\" class=\"row_heading level0 row0\" >0</th>\n",
       "      <td id=\"T_e2895_row0_col0\" class=\"data row0 col0\" >неэффективные</td>\n",
       "      <td id=\"T_e2895_row0_col1\" class=\"data row0 col1\" >109</td>\n",
       "      <td id=\"T_e2895_row0_col2\" class=\"data row0 col2\" >21.2%</td>\n",
       "    </tr>\n",
       "    <tr>\n",
       "      <th id=\"T_e2895_level0_row1\" class=\"row_heading level0 row1\" >1</th>\n",
       "      <td id=\"T_e2895_row1_col0\" class=\"data row1 col0\" >эффективные</td>\n",
       "      <td id=\"T_e2895_row1_col1\" class=\"data row1 col1\" >405</td>\n",
       "      <td id=\"T_e2895_row1_col2\" class=\"data row1 col2\" >78.8%</td>\n",
       "    </tr>\n",
       "  </tbody>\n",
       "</table>\n"
      ],
      "text/plain": [
       "<pandas.io.formats.style.Styler at 0x2b5b479d0a0>"
      ]
     },
     "metadata": {},
     "output_type": "display_data"
    },
    {
     "data": {
      "image/png": "[encoded data removed]",
      "text/plain": [
       "<Figure size 576x576 with 1 Axes>"
      ]
     },
     "metadata": {},
     "output_type": "display_data"
    }
   ],
   "source": [
    "results_type_1 = incoming_calls.pivot_table(index='eff', values='operator_id', aggfunc='count').reset_index()\n",
    "results_type_1.columns = ['eff', 'count']\n",
    "results_type_1['share'] = results_type_1['count'] / results_type_1['count'].sum() \n",
    "results_type_1 = results_type_1.replace({0:'неэффективные', 1:'эффективные'})\n",
    "display(results_type_1.style.format({'share': '{:,.1%}'.format}))\n",
    "\n",
    "sns.set(rc={'figure.figsize':(8, 8)})\n",
    "plt.pie(results_type_1['share'], labels = results_type_1['eff'], autopct='%.1f%%')\n",
    "plt.title('Соотношение эффективных и неэффективных операторов для клиентов 1-го типа:');\n",
    "plt.show()"
   ]
  },
  {
   "cell_type": "markdown",
   "metadata": {},
   "source": [
    "**Вывод:** для клиентов 1-го типа доля неэфективных операторов составляет 21.2% (106 операторов)."
   ]
  },
  {
   "cell_type": "markdown",
   "metadata": {},
   "source": [
    "* Клиенты 2-го типа: если среднее количество исходящих звонков в день ниже норматива, оператор неэффективен."
   ]
  },
  {
   "cell_type": "code",
   "execution_count": 43,
   "metadata": {
    "scrolled": false
   },
   "outputs": [
    {
     "data": {
      "text/html": [
       "<div>\n",
       "<style scoped>\n",
       "    .dataframe tbody tr th:only-of-type {\n",
       "        vertical-align: middle;\n",
       "    }\n",
       "\n",
       "    .dataframe tbody tr th {\n",
       "        vertical-align: top;\n",
       "    }\n",
       "\n",
       "    .dataframe thead th {\n",
       "        text-align: right;\n",
       "    }\n",
       "</style>\n",
       "<table border=\"1\" class=\"dataframe\">\n",
       "  <thead>\n",
       "    <tr style=\"text-align: right;\">\n",
       "      <th></th>\n",
       "      <th>user_id</th>\n",
       "      <th>operator_id</th>\n",
       "      <th>total_calls</th>\n",
       "      <th>total_days</th>\n",
       "      <th>total_calls_duration</th>\n",
       "      <th>cdc</th>\n",
       "      <th>eff</th>\n",
       "    </tr>\n",
       "  </thead>\n",
       "  <tbody>\n",
       "    <tr>\n",
       "      <th>0</th>\n",
       "      <td>166407</td>\n",
       "      <td>888532</td>\n",
       "      <td>2</td>\n",
       "      <td>2</td>\n",
       "      <td>25</td>\n",
       "      <td>1.0</td>\n",
       "      <td>0</td>\n",
       "    </tr>\n",
       "    <tr>\n",
       "      <th>130</th>\n",
       "      <td>167445</td>\n",
       "      <td>921062</td>\n",
       "      <td>3</td>\n",
       "      <td>2</td>\n",
       "      <td>48</td>\n",
       "      <td>1.5</td>\n",
       "      <td>0</td>\n",
       "    </tr>\n",
       "    <tr>\n",
       "      <th>131</th>\n",
       "      <td>167445</td>\n",
       "      <td>935956</td>\n",
       "      <td>1</td>\n",
       "      <td>1</td>\n",
       "      <td>187</td>\n",
       "      <td>1.0</td>\n",
       "      <td>0</td>\n",
       "    </tr>\n",
       "    <tr>\n",
       "      <th>133</th>\n",
       "      <td>167451</td>\n",
       "      <td>914168</td>\n",
       "      <td>10</td>\n",
       "      <td>4</td>\n",
       "      <td>1047</td>\n",
       "      <td>2.5</td>\n",
       "      <td>0</td>\n",
       "    </tr>\n",
       "    <tr>\n",
       "      <th>134</th>\n",
       "      <td>167451</td>\n",
       "      <td>914170</td>\n",
       "      <td>4</td>\n",
       "      <td>2</td>\n",
       "      <td>373</td>\n",
       "      <td>2.0</td>\n",
       "      <td>0</td>\n",
       "    </tr>\n",
       "  </tbody>\n",
       "</table>\n",
       "</div>"
      ],
      "text/plain": [
       "     user_id  operator_id  total_calls  total_days  total_calls_duration  cdc  \\\n",
       "0     166407       888532            2           2                    25  1.0   \n",
       "130   167445       921062            3           2                    48  1.5   \n",
       "131   167445       935956            1           1                   187  1.0   \n",
       "133   167451       914168           10           4                  1047  2.5   \n",
       "134   167451       914170            4           2                   373  2.0   \n",
       "\n",
       "     eff  \n",
       "0      0  \n",
       "130    0  \n",
       "131    0  \n",
       "133    0  \n",
       "134    0  "
      ]
     },
     "metadata": {},
     "output_type": "display_data"
    }
   ],
   "source": [
    "outgoing_calls['cdc'] = outgoing_calls['total_calls'] / outgoing_calls['total_days'] \n",
    "\n",
    "# функция возвращает значение 1, если оператор эффективен, и 0 - если нет\n",
    "def efficiency_type_2(df):\n",
    "    if df.cdc >= cdc_norm:\n",
    "        return 1\n",
    "    else:\n",
    "        return 0\n",
    "    \n",
    "outgoing_calls['eff'] = outgoing_calls.apply(efficiency_type_2, axis=1)\n",
    "display(outgoing_calls.sort_values(by='eff').head(5))"
   ]
  },
  {
   "cell_type": "code",
   "execution_count": 44,
   "metadata": {},
   "outputs": [
    {
     "data": {
      "text/html": [
       "<style type=\"text/css\">\n",
       "</style>\n",
       "<table id=\"T_91c86\">\n",
       "  <thead>\n",
       "    <tr>\n",
       "      <th class=\"blank level0\" >&nbsp;</th>\n",
       "      <th id=\"T_91c86_level0_col0\" class=\"col_heading level0 col0\" >eff</th>\n",
       "      <th id=\"T_91c86_level0_col1\" class=\"col_heading level0 col1\" >count</th>\n",
       "      <th id=\"T_91c86_level0_col2\" class=\"col_heading level0 col2\" >share</th>\n",
       "    </tr>\n",
       "  </thead>\n",
       "  <tbody>\n",
       "    <tr>\n",
       "      <th id=\"T_91c86_level0_row0\" class=\"row_heading level0 row0\" >0</th>\n",
       "      <td id=\"T_91c86_row0_col0\" class=\"data row0 col0\" >неэффективные</td>\n",
       "      <td id=\"T_91c86_row0_col1\" class=\"data row0 col1\" >153</td>\n",
       "      <td id=\"T_91c86_row0_col2\" class=\"data row0 col2\" >67.1%</td>\n",
       "    </tr>\n",
       "    <tr>\n",
       "      <th id=\"T_91c86_level0_row1\" class=\"row_heading level0 row1\" >1</th>\n",
       "      <td id=\"T_91c86_row1_col0\" class=\"data row1 col0\" >эффективные</td>\n",
       "      <td id=\"T_91c86_row1_col1\" class=\"data row1 col1\" >75</td>\n",
       "      <td id=\"T_91c86_row1_col2\" class=\"data row1 col2\" >32.9%</td>\n",
       "    </tr>\n",
       "  </tbody>\n",
       "</table>\n"
      ],
      "text/plain": [
       "<pandas.io.formats.style.Styler at 0x2b5b48cbfd0>"
      ]
     },
     "metadata": {},
     "output_type": "display_data"
    },
    {
     "data": {
      "image/png": "[encoded data removed]",
      "text/plain": [
       "<Figure size 576x576 with 1 Axes>"
      ]
     },
     "metadata": {},
     "output_type": "display_data"
    }
   ],
   "source": [
    "results_type_2 = outgoing_calls.pivot_table(index='eff', values='operator_id', aggfunc='count').reset_index()\n",
    "results_type_2.columns = ['eff', 'count']\n",
    "results_type_2['share'] = results_type_2['count'] / results_type_2['count'].sum() \n",
    "results_type_2 = results_type_2.replace({0:'неэффективные', 1:'эффективные'})\n",
    "display(results_type_2.style.format({'share': '{:,.1%}'.format}))\n",
    "\n",
    "sns.set(rc={'figure.figsize':(8, 8)})\n",
    "plt.pie(results_type_2['share'], labels = results_type_2['eff'], autopct='%.1f%%')\n",
    "plt.title('Соотношение эффективных и неэффективных операторов для клиентов 2-го типа:');\n",
    "plt.show()"
   ]
  },
  {
   "cell_type": "markdown",
   "metadata": {},
   "source": [
    "**Вывод:** у клиентов 2-го типа доля неэфективных операторов составляет 67.1% (153 операторов)."
   ]
  },
  {
   "cell_type": "markdown",
   "metadata": {},
   "source": [
    "## Решение основных вопросов заказчика"
   ]
  },
  {
   "cell_type": "markdown",
   "metadata": {},
   "source": [
    "### Количество клиентов, у которых есть неэффективные операторы\n",
    "\n",
    "Найдем количество клиентов каждого типа с неэффективными операторами"
   ]
  },
  {
   "cell_type": "code",
   "execution_count": 45,
   "metadata": {},
   "outputs": [
    {
     "name": "stdout",
     "output_type": "stream",
     "text": [
      "Количество клиентов 1-го типа с неэффективными операторами: 76\n",
      "Количество клиентов 2-го типа с неэффективными операторами: 75\n"
     ]
    }
   ],
   "source": [
    "print(\"Количество клиентов 1-го типа с неэффективными операторами:\", incoming_calls.query('eff==0')['user_id'].nunique())\n",
    "print(\"Количество клиентов 2-го типа с неэффективными операторами:\", outgoing_calls.query('eff==0')['user_id'].nunique())"
   ]
  },
  {
   "cell_type": "markdown",
   "metadata": {},
   "source": [
    "### ТОП-5 компаний с самым боьшим количеством неэффективных операторов"
   ]
  },
  {
   "cell_type": "markdown",
   "metadata": {},
   "source": [
    "Найдем для каждого типа клиентов ТОП-5 компаний с самым большим количеством неэффективных операторов и определии их долю от общего количества операторов в компании:"
   ]
  },
  {
   "cell_type": "code",
   "execution_count": 46,
   "metadata": {},
   "outputs": [
    {
     "data": {
      "text/html": [
       "<div>\n",
       "<style scoped>\n",
       "    .dataframe tbody tr th:only-of-type {\n",
       "        vertical-align: middle;\n",
       "    }\n",
       "\n",
       "    .dataframe tbody tr th {\n",
       "        vertical-align: top;\n",
       "    }\n",
       "\n",
       "    .dataframe thead th {\n",
       "        text-align: right;\n",
       "    }\n",
       "</style>\n",
       "<table border=\"1\" class=\"dataframe\">\n",
       "  <thead>\n",
       "    <tr style=\"text-align: right;\">\n",
       "      <th></th>\n",
       "      <th>user_id</th>\n",
       "      <th>operators</th>\n",
       "      <th>efficient_operators</th>\n",
       "      <th>non_efficient_operators</th>\n",
       "      <th>share</th>\n",
       "    </tr>\n",
       "  </thead>\n",
       "  <tbody>\n",
       "    <tr>\n",
       "      <th>66</th>\n",
       "      <td>167497</td>\n",
       "      <td>27</td>\n",
       "      <td>21</td>\n",
       "      <td>6</td>\n",
       "      <td>0.222222</td>\n",
       "    </tr>\n",
       "    <tr>\n",
       "      <th>103</th>\n",
       "      <td>168187</td>\n",
       "      <td>42</td>\n",
       "      <td>37</td>\n",
       "      <td>5</td>\n",
       "      <td>0.119048</td>\n",
       "    </tr>\n",
       "    <tr>\n",
       "      <th>1</th>\n",
       "      <td>166405</td>\n",
       "      <td>11</td>\n",
       "      <td>7</td>\n",
       "      <td>4</td>\n",
       "      <td>0.363636</td>\n",
       "    </tr>\n",
       "    <tr>\n",
       "      <th>23</th>\n",
       "      <td>166782</td>\n",
       "      <td>6</td>\n",
       "      <td>3</td>\n",
       "      <td>3</td>\n",
       "      <td>0.500000</td>\n",
       "    </tr>\n",
       "    <tr>\n",
       "      <th>17</th>\n",
       "      <td>166688</td>\n",
       "      <td>3</td>\n",
       "      <td>1</td>\n",
       "      <td>2</td>\n",
       "      <td>0.666667</td>\n",
       "    </tr>\n",
       "  </tbody>\n",
       "</table>\n",
       "</div>"
      ],
      "text/plain": [
       "     user_id  operators  efficient_operators  non_efficient_operators  \\\n",
       "66    167497         27                   21                        6   \n",
       "103   168187         42                   37                        5   \n",
       "1     166405         11                    7                        4   \n",
       "23    166782          6                    3                        3   \n",
       "17    166688          3                    1                        2   \n",
       "\n",
       "        share  \n",
       "66   0.222222  \n",
       "103  0.119048  \n",
       "1    0.363636  \n",
       "23   0.500000  \n",
       "17   0.666667  "
      ]
     },
     "metadata": {},
     "output_type": "display_data"
    },
    {
     "data": {
      "image/png": "[encoded data removed]",
      "text/plain": [
       "<Figure size 1008x504 with 1 Axes>"
      ]
     },
     "metadata": {},
     "output_type": "display_data"
    }
   ],
   "source": [
    "results_type_1 = incoming_calls.pivot_table(index=['user_id'], values=['eff'], aggfunc=['count', 'sum']).reset_index()\n",
    "results_type_1.columns = ['user_id', 'operators', 'efficient_operators']\n",
    "results_type_1['non_efficient_operators'] = results_type_1['operators'] - results_type_1['efficient_operators']\n",
    "results_type_1['share'] = results_type_1['non_efficient_operators'] / results_type_1['operators']\n",
    "results_type_1 = results_type_1.sort_values(by='non_efficient_operators', ascending=False)\n",
    "display(results_type_1.head(5))\n",
    "\n",
    "sns.set(rc={'figure.figsize':(14, 7)})\n",
    "sns.set_style('whitegrid')\n",
    "sns.barplot(x='user_id', y='non_efficient_operators', data=results_type_1.head(5), order=results_type_1.head(5).sort_values(by='non_efficient_operators', ascending=False).user_id)\n",
    "plt.ylabel('Количество операторов, шт.')\n",
    "plt.xlabel('Идентификатор клиента')\n",
    "plt.title(\"\\nТОП-5 клиентов 1-го типа по количеству неэффективных операторов:\")\n",
    "plt.show();"
   ]
  },
  {
   "cell_type": "code",
   "execution_count": 47,
   "metadata": {
    "scrolled": false
   },
   "outputs": [
    {
     "data": {
      "text/html": [
       "<div>\n",
       "<style scoped>\n",
       "    .dataframe tbody tr th:only-of-type {\n",
       "        vertical-align: middle;\n",
       "    }\n",
       "\n",
       "    .dataframe tbody tr th {\n",
       "        vertical-align: top;\n",
       "    }\n",
       "\n",
       "    .dataframe thead th {\n",
       "        text-align: right;\n",
       "    }\n",
       "</style>\n",
       "<table border=\"1\" class=\"dataframe\">\n",
       "  <thead>\n",
       "    <tr style=\"text-align: right;\">\n",
       "      <th></th>\n",
       "      <th>user_id</th>\n",
       "      <th>operators</th>\n",
       "      <th>efficient_operators</th>\n",
       "      <th>non_efficient_operators</th>\n",
       "      <th>share</th>\n",
       "    </tr>\n",
       "  </thead>\n",
       "  <tbody>\n",
       "    <tr>\n",
       "      <th>16</th>\n",
       "      <td>166916</td>\n",
       "      <td>14</td>\n",
       "      <td>3</td>\n",
       "      <td>11</td>\n",
       "      <td>0.785714</td>\n",
       "    </tr>\n",
       "    <tr>\n",
       "      <th>0</th>\n",
       "      <td>166407</td>\n",
       "      <td>7</td>\n",
       "      <td>1</td>\n",
       "      <td>6</td>\n",
       "      <td>0.857143</td>\n",
       "    </tr>\n",
       "    <tr>\n",
       "      <th>50</th>\n",
       "      <td>167521</td>\n",
       "      <td>8</td>\n",
       "      <td>2</td>\n",
       "      <td>6</td>\n",
       "      <td>0.750000</td>\n",
       "    </tr>\n",
       "    <tr>\n",
       "      <th>47</th>\n",
       "      <td>167445</td>\n",
       "      <td>11</td>\n",
       "      <td>6</td>\n",
       "      <td>5</td>\n",
       "      <td>0.454545</td>\n",
       "    </tr>\n",
       "    <tr>\n",
       "      <th>44</th>\n",
       "      <td>167359</td>\n",
       "      <td>8</td>\n",
       "      <td>4</td>\n",
       "      <td>4</td>\n",
       "      <td>0.500000</td>\n",
       "    </tr>\n",
       "  </tbody>\n",
       "</table>\n",
       "</div>"
      ],
      "text/plain": [
       "    user_id  operators  efficient_operators  non_efficient_operators     share\n",
       "16   166916         14                    3                       11  0.785714\n",
       "0    166407          7                    1                        6  0.857143\n",
       "50   167521          8                    2                        6  0.750000\n",
       "47   167445         11                    6                        5  0.454545\n",
       "44   167359          8                    4                        4  0.500000"
      ]
     },
     "metadata": {},
     "output_type": "display_data"
    },
    {
     "data": {
      "image/png": "[encoded data removed]",
      "text/plain": [
       "<Figure size 1008x504 with 1 Axes>"
      ]
     },
     "metadata": {},
     "output_type": "display_data"
    }
   ],
   "source": [
    "results_type_2 = outgoing_calls.pivot_table(index=['user_id'], values=['eff'], aggfunc=['count', 'sum']).reset_index()\n",
    "results_type_2.columns = ['user_id', 'operators', 'efficient_operators']\n",
    "results_type_2['non_efficient_operators'] = results_type_2['operators'] - results_type_2['efficient_operators']\n",
    "results_type_2['share'] = results_type_2['non_efficient_operators'] / results_type_2['operators']\n",
    "results_type_2 = results_type_2.sort_values(by='non_efficient_operators', ascending=False)\n",
    "display(results_type_2.head(5))\n",
    "\n",
    "sns.set(rc={'figure.figsize':(14, 7)})\n",
    "sns.set_style('whitegrid')\n",
    "sns.barplot(x='user_id', y='non_efficient_operators', data=results_type_2.head(5), order=results_type_2.head(5).sort_values(by='non_efficient_operators', ascending=False).user_id)\n",
    "plt.ylabel('Количество операторов, шт.')\n",
    "plt.xlabel('Идентификатор клиента')\n",
    "plt.title(\"\\nТОП-5 клиентов 2-го типа по количеству неэффективных операторов:\")\n",
    "plt.show();"
   ]
  },
  {
   "cell_type": "markdown",
   "metadata": {},
   "source": [
    "## Проверка статистических гипотез"
   ]
  },
  {
   "cell_type": "markdown",
   "metadata": {},
   "source": [
    "Мы хотим проверим следующие гипотезы:\n",
    "* Доля неэффективных операторов у клиентов 1-го и 2-го типа различается;\n",
    "* Среднее время ожидания у клиентов на тарифном плане В выше, чем у клиентов на тарифном плане А;"
   ]
  },
  {
   "cell_type": "markdown",
   "metadata": {},
   "source": [
    "### Двухсторонняя проверка: доля неэффективных операторов у клиентов 1-го и 2-го типа различается"
   ]
  },
  {
   "cell_type": "markdown",
   "metadata": {},
   "source": [
    "Проверим, находят ли статистические критерии разницу между долями неэффективных операторов у клиентов 1-го и 2-го типа.\n",
    "\n",
    "Введем нулевую и алтернативную гипотезы:\n",
    "\n",
    "$$\n",
    "\\left\\{\n",
    "    \\begin{array}\\\\\n",
    "        H_{0}: {Доля \\ неэффективных \\ операторов \\ у \\ клиентов \\ 1-го \\ и \\ 2-го \\ типа \\ одинакоаы.}\\\\\n",
    "        H_{1}: {Между \\ долями \\ неэффективных \\ операторов \\ у \\ клиентов \\ 1-го \\ и \\ 2-го \\ типа \\ есть \\ значимая \\ разница.}\n",
    "    \\end{array}\n",
    "\\right.\n",
    "$$\n",
    "\n",
    "Критический уровень статистической значимости: alpha = 0.05\n",
    "\n",
    "Рассчитаем статистическую значимость различий между выборками:"
   ]
  },
  {
   "cell_type": "code",
   "execution_count": 49,
   "metadata": {
    "scrolled": true
   },
   "outputs": [
    {
     "name": "stdout",
     "output_type": "stream",
     "text": [
      "p-value: 0.000\n",
      "Относительное различие между выборками: 2.16441\n",
      "Отвергаем нулевую гипотезу: между выборками есть значимая разница\n"
     ]
    }
   ],
   "source": [
    "# функция, реализующая z-тест для набора данных\n",
    "def z_test (a_trials, b_trials, a_succeses, b_succeses, alpha):\n",
    "\n",
    "    successes = np.array([a_succeses, b_succeses])\n",
    "    trials = np.array([a_trials, b_trials])\n",
    "    \n",
    "    # пропорция успехов в первой группе:\n",
    "    p1 = successes[0]/trials[0]\n",
    "    # пропорция успехов во второй группе:\n",
    "    p2 = successes[1]/trials[1]\n",
    "    # пропорция успехов в комбинированном датасете:\n",
    "    p_combined = (successes[0] + successes[1]) / (trials[0] + trials[1])\n",
    "\n",
    "    # разница пропорций в датасетах\n",
    "    difference = p1 - p2\n",
    "\n",
    "    # считаем статистику в ст.отклонениях стандартного нормального распределения\n",
    "    z_value = difference / mth.sqrt(\n",
    "        p_combined * (1 - p_combined) * (1/trials[0] + 1/trials[1]))\n",
    "\n",
    "    # задаем стандартное нормальное распределение (среднее 0, ст.отклонение 1)\n",
    "    distr = st.norm(0, 1)  \n",
    "\n",
    "    p_value = (1 - distr.cdf(abs(z_value))) * 2\n",
    "\n",
    "    print('p-value: {0:.3f}'.format(p_value))\n",
    "    return p_value\n",
    "\n",
    "alpha = 0.05 # критический уровень статистической значимости\n",
    "\n",
    "total_operators_type_1 = results_type_1.operators.sum()\n",
    "non_efficient_operators_type_1 = results_type_1.non_efficient_operators.sum()\n",
    "total_operators_type_2 = results_type_2.operators.sum()\n",
    "non_efficient_operators_type_2 = results_type_2.non_efficient_operators.sum()\n",
    "\n",
    "# определим статистическую значимость различий между выборками\n",
    "p_value = z_test(total_operators_type_1, total_operators_type_2, non_efficient_operators_type_1, non_efficient_operators_type_2, alpha)\n",
    "\n",
    "# относительное различие в конверсии между группами\n",
    "print('Относительное различие между выборками: {0:.5f}'.format((non_efficient_operators_type_2 / total_operators_type_2)/(non_efficient_operators_type_1 / total_operators_type_1)-1)) \n",
    "\n",
    "if p_value < alpha:\n",
    "    print('Отвергаем нулевую гипотезу: между выборками есть значимая разница')\n",
    "else:\n",
    "    print(\n",
    "        'Не получилось отвергнуть нулевую гипотезу: нет оснований считать выборки разными'\n",
    "    )"
   ]
  },
  {
   "cell_type": "markdown",
   "metadata": {},
   "source": [
    "**Вывод:** p-value = 0. Значит нулевую гипотезу о том, что доля неэффективных операторов у клиентов 1-го и 2-го типа одинакова, отвергаем."
   ]
  },
  {
   "cell_type": "markdown",
   "metadata": {},
   "source": [
    "### Проверка нормальности распределения среднего времени ожидания"
   ]
  },
  {
   "cell_type": "markdown",
   "metadata": {},
   "source": [
    "Для удобства объединим датасет waiting_time с нужными столбцами датасета clients и разделим его на клиентов с тарифом А и B:"
   ]
  },
  {
   "cell_type": "code",
   "execution_count": 50,
   "metadata": {
    "scrolled": false
   },
   "outputs": [
    {
     "data": {
      "text/html": [
       "<div>\n",
       "<style scoped>\n",
       "    .dataframe tbody tr th:only-of-type {\n",
       "        vertical-align: middle;\n",
       "    }\n",
       "\n",
       "    .dataframe tbody tr th {\n",
       "        vertical-align: top;\n",
       "    }\n",
       "\n",
       "    .dataframe thead th {\n",
       "        text-align: right;\n",
       "    }\n",
       "</style>\n",
       "<table border=\"1\" class=\"dataframe\">\n",
       "  <thead>\n",
       "    <tr style=\"text-align: right;\">\n",
       "      <th></th>\n",
       "      <th>user_id</th>\n",
       "      <th>operator_id</th>\n",
       "      <th>mean_wt</th>\n",
       "      <th>tariff_plan</th>\n",
       "    </tr>\n",
       "  </thead>\n",
       "  <tbody>\n",
       "    <tr>\n",
       "      <th>49</th>\n",
       "      <td>166609</td>\n",
       "      <td>-1</td>\n",
       "      <td>13.170000</td>\n",
       "      <td>A</td>\n",
       "    </tr>\n",
       "    <tr>\n",
       "      <th>50</th>\n",
       "      <td>166609</td>\n",
       "      <td>886146</td>\n",
       "      <td>9.000000</td>\n",
       "      <td>A</td>\n",
       "    </tr>\n",
       "    <tr>\n",
       "      <th>51</th>\n",
       "      <td>166609</td>\n",
       "      <td>892798</td>\n",
       "      <td>43.000000</td>\n",
       "      <td>A</td>\n",
       "    </tr>\n",
       "    <tr>\n",
       "      <th>96</th>\n",
       "      <td>166725</td>\n",
       "      <td>-1</td>\n",
       "      <td>11.602984</td>\n",
       "      <td>A</td>\n",
       "    </tr>\n",
       "    <tr>\n",
       "      <th>97</th>\n",
       "      <td>166725</td>\n",
       "      <td>889754</td>\n",
       "      <td>8.163595</td>\n",
       "      <td>A</td>\n",
       "    </tr>\n",
       "  </tbody>\n",
       "</table>\n",
       "</div>"
      ],
      "text/plain": [
       "    user_id  operator_id    mean_wt tariff_plan\n",
       "49   166609           -1  13.170000           A\n",
       "50   166609       886146   9.000000           A\n",
       "51   166609       892798  43.000000           A\n",
       "96   166725           -1  11.602984           A\n",
       "97   166725       889754   8.163595           A"
      ]
     },
     "metadata": {},
     "output_type": "display_data"
    },
    {
     "data": {
      "text/html": [
       "<div>\n",
       "<style scoped>\n",
       "    .dataframe tbody tr th:only-of-type {\n",
       "        vertical-align: middle;\n",
       "    }\n",
       "\n",
       "    .dataframe tbody tr th {\n",
       "        vertical-align: top;\n",
       "    }\n",
       "\n",
       "    .dataframe thead th {\n",
       "        text-align: right;\n",
       "    }\n",
       "</style>\n",
       "<table border=\"1\" class=\"dataframe\">\n",
       "  <thead>\n",
       "    <tr style=\"text-align: right;\">\n",
       "      <th></th>\n",
       "      <th>user_id</th>\n",
       "      <th>operator_id</th>\n",
       "      <th>mean_wt</th>\n",
       "      <th>tariff_plan</th>\n",
       "    </tr>\n",
       "  </thead>\n",
       "  <tbody>\n",
       "    <tr>\n",
       "      <th>0</th>\n",
       "      <td>166377</td>\n",
       "      <td>-1</td>\n",
       "      <td>18.212798</td>\n",
       "      <td>B</td>\n",
       "    </tr>\n",
       "    <tr>\n",
       "      <th>1</th>\n",
       "      <td>166377</td>\n",
       "      <td>880020</td>\n",
       "      <td>7.714286</td>\n",
       "      <td>B</td>\n",
       "    </tr>\n",
       "    <tr>\n",
       "      <th>2</th>\n",
       "      <td>166377</td>\n",
       "      <td>880022</td>\n",
       "      <td>14.000000</td>\n",
       "      <td>B</td>\n",
       "    </tr>\n",
       "    <tr>\n",
       "      <th>3</th>\n",
       "      <td>166377</td>\n",
       "      <td>880026</td>\n",
       "      <td>5.935185</td>\n",
       "      <td>B</td>\n",
       "    </tr>\n",
       "    <tr>\n",
       "      <th>4</th>\n",
       "      <td>166377</td>\n",
       "      <td>880028</td>\n",
       "      <td>6.106504</td>\n",
       "      <td>B</td>\n",
       "    </tr>\n",
       "  </tbody>\n",
       "</table>\n",
       "</div>"
      ],
      "text/plain": [
       "   user_id  operator_id    mean_wt tariff_plan\n",
       "0   166377           -1  18.212798           B\n",
       "1   166377       880020   7.714286           B\n",
       "2   166377       880022  14.000000           B\n",
       "3   166377       880026   5.935185           B\n",
       "4   166377       880028   6.106504           B"
      ]
     },
     "metadata": {},
     "output_type": "display_data"
    }
   ],
   "source": [
    "total_waiting_time = total_waiting_time.merge(clients.query('user_id in @unique_user_id')[['user_id','tariff_plan']], on=[\"user_id\"])\n",
    "tariff_A = total_waiting_time.query('tariff_plan==\"A\"')\n",
    "tariff_B = total_waiting_time.query('tariff_plan==\"B\"')\n",
    "display(tariff_A.head(5))\n",
    "display(tariff_B.head(5))"
   ]
  },
  {
   "cell_type": "code",
   "execution_count": 51,
   "metadata": {},
   "outputs": [
    {
     "data": {
      "image/png": "[encoded data removed]",
      "text/plain": [
       "<Figure size 1008x504 with 1 Axes>"
      ]
     },
     "metadata": {},
     "output_type": "display_data"
    }
   ],
   "source": [
    "sns.distplot(tariff_A['mean_wt'], label='A')\n",
    "sns.distplot(tariff_B['mean_wt'], label='B');"
   ]
  },
  {
   "cell_type": "markdown",
   "metadata": {},
   "source": [
    "**Проверка распределения при помощи QQ-графиков**"
   ]
  },
  {
   "cell_type": "code",
   "execution_count": 52,
   "metadata": {
    "scrolled": true
   },
   "outputs": [
    {
     "data": {
      "image/png": "[encoded data removed]",
      "text/plain": [
       "<Figure size 864x576 with 2 Axes>"
      ]
     },
     "metadata": {},
     "output_type": "display_data"
    }
   ],
   "source": [
    "plt.figure(figsize =(12,8))\n",
    "plt.subplot(2,2,1)\n",
    "st.probplot(tariff_A['mean_wt'], dist=\"norm\", plot=plt)\n",
    "plt.subplot(2,2,2)\n",
    "st.probplot(tariff_B['mean_wt'], dist=\"norm\", plot=plt)\n",
    "plt.show()"
   ]
  },
  {
   "cell_type": "markdown",
   "metadata": {},
   "source": [
    "В соответствии с графиками делаем вывод, что среднее время ожидания у клиентов распределено не нормально."
   ]
  },
  {
   "cell_type": "markdown",
   "metadata": {},
   "source": [
    "**Проверка при помощи критерия Шапиро-Уилка:**"
   ]
  },
  {
   "cell_type": "markdown",
   "metadata": {},
   "source": [
    "Критерий Шапиро-Уилка:\n",
    "\n",
    "$$\n",
    "\\left\\{\n",
    "    \\begin{array}\\\\\n",
    "        H_{0}: {Среднее \\ время \\ ожидания \\ распределено \\ нормально.}\\\\\n",
    "        H_{1}: {Среднее \\ время \\ ожидания \\ распределено \\ не \\ нормально.}\n",
    "    \\end{array}\n",
    "\\right.\n",
    "$$"
   ]
  },
  {
   "cell_type": "code",
   "execution_count": 53,
   "metadata": {},
   "outputs": [
    {
     "name": "stdout",
     "output_type": "stream",
     "text": [
      "W-statistic: 0.772562, p-value: 0.000000\n",
      "W-statistic: 0.792653, p-value: 0.000000\n"
     ]
    }
   ],
   "source": [
    "print(\"W-statistic: %f, p-value: %f\" % st.shapiro(tariff_A['mean_wt']))\n",
    "print(\"W-statistic: %f, p-value: %f\" % st.shapiro(tariff_B['mean_wt']))"
   ]
  },
  {
   "cell_type": "markdown",
   "metadata": {},
   "source": [
    "Отвергаем нулевую гипотезу: распределения не являются нормальными"
   ]
  },
  {
   "cell_type": "markdown",
   "metadata": {},
   "source": [
    "### Односторонняя проверка: среднее время ожидания у клиентов на тарифном плане В выше, чем у клиентов на тарифном плане А"
   ]
  },
  {
   "cell_type": "markdown",
   "metadata": {},
   "source": [
    "Введем нулевую и альтернативную гипотезы:"
   ]
  },
  {
   "cell_type": "markdown",
   "metadata": {},
   "source": [
    "$$\n",
    "\\left\\{\n",
    "    \\begin{array}\\\\\n",
    "        H_{0}: {Среднее \\ время \\ ожидания \\ у \\ клиентов \\ на \\ тарифном \\ плане \\ А \\ и \\ В \\ одинаково.}\\\\\n",
    "        H_{1}: {Среднее \\ время \\ ожидания \\ у \\ клиентов \\ на \\ тарифном \\ плане \\ В \\ выше, \\ чем \\ у \\ клиентов \\ на\\ тарифном \\ плане \\ А.}\n",
    "    \\end{array}\n",
    "\\right.\n",
    "$$"
   ]
  },
  {
   "cell_type": "markdown",
   "metadata": {},
   "source": [
    "Уровень значимости: α = 0.05\n",
    "\n",
    "Посчитаем p-value, используя ttest из библиотеки scipy для сравнения средних двух независимых выборок.\n",
    "\n",
    "Если p-value будет меньше α, то нулевую гипотезу о равенстве среднего времени ожидания у клиентов отвергаем. Иначе сделаем вывод, что данные не позволили нам отвергнуть нулевую гипотезу.\n"
   ]
  },
  {
   "cell_type": "code",
   "execution_count": 54,
   "metadata": {},
   "outputs": [
    {
     "name": "stdout",
     "output_type": "stream",
     "text": [
      "p-значение: 0.05967937595651875\n",
      "Не получилось отвергнуть нулевую гипотезу\n"
     ]
    }
   ],
   "source": [
    "alpha = 0.05\n",
    "\n",
    "results = st.ttest_ind(tariff_B['mean_wt'], tariff_A['mean_wt'], equal_var=False)\n",
    "print(\"p-значение:\", results.pvalue / 2)\n",
    "\n",
    "if (results.pvalue / 2 < alpha) and (tariff_B['mean_wt'].mean() > tariff_A['mean_wt'].mean()):\n",
    "    print(\"Отвергаем нулевую гипотезу\")\n",
    "else:\n",
    "    print(\"Не получилось отвергнуть нулевую гипотезу\")"
   ]
  },
  {
   "cell_type": "markdown",
   "metadata": {},
   "source": [
    "**Вывод:** p-value получилось больше выбранного уровня α = 0.05. Поэтому данные не позволили нам отвергнуть нулевую гипотезу: среднее время ожидания у клиентов на тарифном плане А и тарифном плане В значимо не отличается. "
   ]
  },
  {
   "cell_type": "markdown",
   "metadata": {},
   "source": [
    "## Общий вывод и рекомендации для заказчика"
   ]
  },
  {
   "cell_type": "markdown",
   "metadata": {},
   "source": [
    "Чтобы помочь телеком-провайдеру определить неэффективных операторов мы использовали входные данные со статистикой использования услуг и описанием клиентов.\n",
    "\n",
    "Данные были проверены на наличие ошибок и оценки их влияния на исследование; была выполнена предобработка данных, которая в себя включала поиск пропущенных значений, приведение типов, обработку дубликатов, обработку ошибок и аномалий.\n",
    "\n",
    "После этого была выполнена классификация клиентов и провелен исследовательский анализ данных и получены следующие результаты:\n",
    "1. У провайдера 129 клиентов 1-го типа (Call-центры, которые распределяют входящие вызовы по своим операторам) и 179 клиентов 2-го типа (Call-центры, которые обеспечивают исходящие вызовы от своих операторов);\n",
    "2. ТОП-5 клиентов по количество операторов:\n",
    "    * Идентификаторы клиентов 1-го типа: 168187, 167626, 167497, 168252, 168361;\n",
    "    * Идентификаторы клиентов 2-го типа: 166916, 167176, 167521, 167445, 168073;\n",
    "\n",
    "3. Пороги показателей эффективности для клиентов 1-го типа:\n",
    "    * Доля пропущенных звонков, которую не следует превышать рассчитана индивидуально для каждого клиента (см.п.5.1);\n",
    "    * Среднее время ожидания ответа: 12.0 мин.\n",
    "4. Пороги показателей эффективности для клиентов 2-го типа:\n",
    "    * Среднее время обработки исходящего вызова (с учетом периода бездействия): 94.5 мин;\n",
    "    * Норматив по количеству звонков: 4 звонка в день;\n",
    "5. Количество клиентов с неэффективными операторами:\n",
    "    * 1-ый тип: 76 операторов;\n",
    "    * 2-ой тип: 75 операторов;\n",
    "5. Доля неэффективных операторов:\n",
    "    * Для клиентов 1-го типа: 21.2% (106 операторов);\n",
    "    * Для клиентов 2-го типа: 67.1% (153 оператора).;\n",
    "6. ТОП-5 клиентов с самым большим количеством неэффективных операторов: \n",
    "    * Идентификаторы клиентов 1-го типа: 167497, 168187, 166405, 166782, 166688;\n",
    "    * Идентификаторы клиентов 2-го типа: 166916, 166407, 167521, 167445, 167359;\n",
    "    \n",
    "7. Проверка гипотез:    \n",
    "    * На имеющихся данных, на уровне значимости 5%, есть основания отвергнуть нулевую гипотезу: доля неэффективных операторов у клиентов 1-го и 2-го типа различается;\n",
    "    * На имеющихся данных, на уровне значимости 5%, есть основания не отвергать нулевую гипотезу: среднее время ожидания у клиентов на тарифном плане А и тарифном плане В не отличается;\n",
    "    \n",
    "**Рекомендации для заказчика:**\n",
    "\n",
    "Ожидается, что планируемый функционал для определения неэффективных операторов будет востребован у клиентов телеком-провайдера, в первую очередь у CALL-центров, которые обеспечивают исходящие вызовы от своих операторов. Рекомендуется, чтобы инструмент предоставлял возможность регулярного выявления неэффективных операторов для оперативного контроля и повышения эффективности работы CALL-центра. Выявление неэффективных сотрудников позволит в дальнейшем увеличить ценность сервиса телеком-провайдера, а значит потенциально увеличит время жизни клиента. "
   ]
  },
  {
   "cell_type": "markdown",
   "metadata": {},
   "source": [
    "## Материалы по итогу исследования:\n",
    "1. [Презентация](https://drive.google.com/file/d/1wMBczzNtWElz3BugKOmJBH7uL_ODaIcM/view?usp=sharing)\n",
    "2. [Дашборд](https://public.tableau.com/app/profile/igor6948/viz/Final_dash_16650008119210/Dashboard1?publish=yes)"
   ]
  },
  {
   "cell_type": "code",
   "execution_count": null,
   "metadata": {},
   "outputs": [],
   "source": []
  }
 ],
 "metadata": {
  "ExecuteTimeLog": [
   {
    "duration": 63,
    "start_time": "2022-10-01T15:39:50.607Z"
   },
   {
    "duration": 1500,
    "start_time": "2022-10-01T15:44:44.219Z"
   },
   {
    "duration": 4,
    "start_time": "2022-10-01T15:44:56.638Z"
   },
   {
    "duration": 151,
    "start_time": "2022-10-01T15:45:22.587Z"
   },
   {
    "duration": 67,
    "start_time": "2022-10-01T15:45:42.267Z"
   },
   {
    "duration": 45,
    "start_time": "2022-10-01T15:47:38.500Z"
   },
   {
    "duration": 277,
    "start_time": "2022-10-01T15:47:49.960Z"
   },
   {
    "duration": 120,
    "start_time": "2022-10-01T15:48:58.028Z"
   },
   {
    "duration": 4,
    "start_time": "2022-10-01T15:54:23.721Z"
   },
   {
    "duration": 37,
    "start_time": "2022-10-01T15:54:54.922Z"
   },
   {
    "duration": 4,
    "start_time": "2022-10-01T15:56:52.502Z"
   },
   {
    "duration": 80,
    "start_time": "2022-10-01T16:00:00.617Z"
   },
   {
    "duration": 62,
    "start_time": "2022-10-01T16:00:07.036Z"
   },
   {
    "duration": 4,
    "start_time": "2022-10-01T16:00:42.202Z"
   },
   {
    "duration": 10,
    "start_time": "2022-10-01T16:00:42.208Z"
   },
   {
    "duration": 189,
    "start_time": "2022-10-01T16:00:42.219Z"
   },
   {
    "duration": 51,
    "start_time": "2022-10-01T16:00:42.410Z"
   },
   {
    "duration": 3,
    "start_time": "2022-10-01T16:00:42.463Z"
   },
   {
    "duration": 34,
    "start_time": "2022-10-01T16:00:46.239Z"
   },
   {
    "duration": 134,
    "start_time": "2022-10-01T16:01:30.212Z"
   },
   {
    "duration": 32,
    "start_time": "2022-10-01T16:01:58.940Z"
   },
   {
    "duration": 98,
    "start_time": "2022-10-01T16:02:37.869Z"
   },
   {
    "duration": 100,
    "start_time": "2022-10-01T16:02:59.734Z"
   },
   {
    "duration": 20,
    "start_time": "2022-10-01T16:03:47.931Z"
   },
   {
    "duration": 88,
    "start_time": "2022-10-01T16:03:57.917Z"
   },
   {
    "duration": 0,
    "start_time": "2022-10-01T16:06:01.922Z"
   },
   {
    "duration": 15,
    "start_time": "2022-10-01T16:06:12.872Z"
   },
   {
    "duration": 27,
    "start_time": "2022-10-01T16:06:21.397Z"
   },
   {
    "duration": 12551,
    "start_time": "2022-10-01T16:26:54.950Z"
   },
   {
    "duration": 140,
    "start_time": "2022-10-01T16:28:48.116Z"
   },
   {
    "duration": 220,
    "start_time": "2022-10-01T16:29:05.333Z"
   },
   {
    "duration": 147,
    "start_time": "2022-10-01T16:29:15.649Z"
   },
   {
    "duration": 13136,
    "start_time": "2022-10-01T16:30:03.175Z"
   },
   {
    "duration": 139,
    "start_time": "2022-10-01T16:30:27.833Z"
   },
   {
    "duration": 176,
    "start_time": "2022-10-01T16:30:31.855Z"
   },
   {
    "duration": 15060,
    "start_time": "2022-10-01T16:32:02.099Z"
   },
   {
    "duration": 333,
    "start_time": "2022-10-01T16:32:49.664Z"
   },
   {
    "duration": 1179,
    "start_time": "2022-10-01T16:33:15.026Z"
   },
   {
    "duration": 338,
    "start_time": "2022-10-01T16:33:30.395Z"
   },
   {
    "duration": 14,
    "start_time": "2022-10-01T16:35:34.148Z"
   },
   {
    "duration": 420,
    "start_time": "2022-10-01T16:55:34.043Z"
   },
   {
    "duration": 320,
    "start_time": "2022-10-01T16:55:38.839Z"
   },
   {
    "duration": 345,
    "start_time": "2022-10-01T16:55:45.201Z"
   },
   {
    "duration": 314,
    "start_time": "2022-10-01T17:01:36.162Z"
   },
   {
    "duration": 374,
    "start_time": "2022-10-01T17:02:46.034Z"
   },
   {
    "duration": 332,
    "start_time": "2022-10-01T17:02:47.673Z"
   },
   {
    "duration": 19,
    "start_time": "2022-10-01T17:02:57.004Z"
   },
   {
    "duration": 305,
    "start_time": "2022-10-01T17:03:01.599Z"
   },
   {
    "duration": 346,
    "start_time": "2022-10-01T17:04:33.939Z"
   },
   {
    "duration": 346,
    "start_time": "2022-10-01T17:05:01.056Z"
   },
   {
    "duration": 386,
    "start_time": "2022-10-01T17:14:56.032Z"
   },
   {
    "duration": 273,
    "start_time": "2022-10-01T17:15:20.147Z"
   },
   {
    "duration": 530,
    "start_time": "2022-10-01T17:16:26.182Z"
   },
   {
    "duration": 195,
    "start_time": "2022-10-01T17:17:14.899Z"
   },
   {
    "duration": 122,
    "start_time": "2022-10-01T17:19:29.489Z"
   },
   {
    "duration": 210,
    "start_time": "2022-10-01T17:19:45.515Z"
   },
   {
    "duration": 201,
    "start_time": "2022-10-01T17:20:05.608Z"
   },
   {
    "duration": 209,
    "start_time": "2022-10-01T17:20:40.404Z"
   },
   {
    "duration": 202,
    "start_time": "2022-10-01T17:21:23.413Z"
   },
   {
    "duration": 251,
    "start_time": "2022-10-01T17:22:07.488Z"
   },
   {
    "duration": 248,
    "start_time": "2022-10-01T17:22:20.989Z"
   },
   {
    "duration": 236,
    "start_time": "2022-10-01T17:22:27.515Z"
   },
   {
    "duration": 221,
    "start_time": "2022-10-01T17:22:31.397Z"
   },
   {
    "duration": 219,
    "start_time": "2022-10-01T17:22:40.094Z"
   },
   {
    "duration": 221,
    "start_time": "2022-10-01T17:24:47.583Z"
   },
   {
    "duration": 219,
    "start_time": "2022-10-01T17:25:54.399Z"
   },
   {
    "duration": 270,
    "start_time": "2022-10-01T17:26:25.127Z"
   },
   {
    "duration": 239,
    "start_time": "2022-10-01T17:26:44.913Z"
   },
   {
    "duration": 262,
    "start_time": "2022-10-01T17:27:12.509Z"
   },
   {
    "duration": 279,
    "start_time": "2022-10-01T17:27:25.114Z"
   },
   {
    "duration": 614,
    "start_time": "2022-10-01T17:27:59.210Z"
   },
   {
    "duration": 227,
    "start_time": "2022-10-01T17:28:08.192Z"
   },
   {
    "duration": 405,
    "start_time": "2022-10-01T17:38:16.121Z"
   },
   {
    "duration": 47,
    "start_time": "2022-10-01T17:38:39.879Z"
   },
   {
    "duration": 49,
    "start_time": "2022-10-01T18:01:36.489Z"
   },
   {
    "duration": 62,
    "start_time": "2022-10-01T18:02:00.966Z"
   },
   {
    "duration": 54,
    "start_time": "2022-10-01T18:02:42.908Z"
   },
   {
    "duration": 31,
    "start_time": "2022-10-01T18:04:07.360Z"
   },
   {
    "duration": 28,
    "start_time": "2022-10-01T18:04:15.734Z"
   },
   {
    "duration": 39,
    "start_time": "2022-10-01T18:04:24.180Z"
   },
   {
    "duration": 78,
    "start_time": "2022-10-01T18:04:33.769Z"
   },
   {
    "duration": 54,
    "start_time": "2022-10-01T18:05:55.436Z"
   },
   {
    "duration": 82,
    "start_time": "2022-10-01T18:14:06.866Z"
   },
   {
    "duration": 64,
    "start_time": "2022-10-01T18:27:25.741Z"
   },
   {
    "duration": 109,
    "start_time": "2022-10-01T18:29:32.038Z"
   },
   {
    "duration": 0,
    "start_time": "2022-10-01T18:31:22.273Z"
   },
   {
    "duration": 0,
    "start_time": "2022-10-01T18:31:22.275Z"
   },
   {
    "duration": 0,
    "start_time": "2022-10-01T18:31:22.276Z"
   },
   {
    "duration": 1,
    "start_time": "2022-10-01T18:31:22.277Z"
   },
   {
    "duration": 0,
    "start_time": "2022-10-01T18:31:22.281Z"
   },
   {
    "duration": 0,
    "start_time": "2022-10-01T18:31:22.282Z"
   },
   {
    "duration": 0,
    "start_time": "2022-10-01T18:31:22.283Z"
   },
   {
    "duration": 0,
    "start_time": "2022-10-01T18:31:22.285Z"
   },
   {
    "duration": 0,
    "start_time": "2022-10-01T18:31:22.286Z"
   },
   {
    "duration": 1,
    "start_time": "2022-10-01T18:31:22.287Z"
   },
   {
    "duration": 0,
    "start_time": "2022-10-01T18:31:22.290Z"
   },
   {
    "duration": 0,
    "start_time": "2022-10-01T18:31:22.291Z"
   },
   {
    "duration": 0,
    "start_time": "2022-10-01T18:31:22.292Z"
   },
   {
    "duration": 0,
    "start_time": "2022-10-01T18:31:22.294Z"
   },
   {
    "duration": 1188,
    "start_time": "2022-10-01T18:31:49.647Z"
   },
   {
    "duration": 3,
    "start_time": "2022-10-01T18:31:50.837Z"
   },
   {
    "duration": 198,
    "start_time": "2022-10-01T18:31:50.842Z"
   },
   {
    "duration": 57,
    "start_time": "2022-10-01T18:31:51.042Z"
   },
   {
    "duration": 3,
    "start_time": "2022-10-01T18:31:51.101Z"
   },
   {
    "duration": 45,
    "start_time": "2022-10-01T18:31:51.106Z"
   },
   {
    "duration": 47,
    "start_time": "2022-10-01T18:31:51.153Z"
   },
   {
    "duration": 108,
    "start_time": "2022-10-01T18:31:51.202Z"
   },
   {
    "duration": 260,
    "start_time": "2022-10-01T18:31:51.312Z"
   },
   {
    "duration": 250,
    "start_time": "2022-10-01T18:31:51.574Z"
   },
   {
    "duration": 231,
    "start_time": "2022-10-01T18:31:51.826Z"
   },
   {
    "duration": 37,
    "start_time": "2022-10-01T18:31:52.059Z"
   },
   {
    "duration": 418,
    "start_time": "2022-10-01T18:31:52.098Z"
   },
   {
    "duration": 37589,
    "start_time": "2022-10-01T18:31:52.518Z"
   },
   {
    "duration": 37,
    "start_time": "2022-10-01T18:37:33.445Z"
   },
   {
    "duration": 38,
    "start_time": "2022-10-01T18:38:21.000Z"
   },
   {
    "duration": 39,
    "start_time": "2022-10-01T18:38:34.152Z"
   },
   {
    "duration": 34,
    "start_time": "2022-10-01T18:39:19.626Z"
   },
   {
    "duration": 0,
    "start_time": "2022-10-01T18:40:45.982Z"
   },
   {
    "duration": 0,
    "start_time": "2022-10-01T18:40:45.984Z"
   },
   {
    "duration": 0,
    "start_time": "2022-10-01T18:40:45.986Z"
   },
   {
    "duration": 0,
    "start_time": "2022-10-01T18:40:45.987Z"
   },
   {
    "duration": 0,
    "start_time": "2022-10-01T18:40:45.989Z"
   },
   {
    "duration": 0,
    "start_time": "2022-10-01T18:40:45.990Z"
   },
   {
    "duration": 0,
    "start_time": "2022-10-01T18:40:45.992Z"
   },
   {
    "duration": 0,
    "start_time": "2022-10-01T18:40:45.993Z"
   },
   {
    "duration": 0,
    "start_time": "2022-10-01T18:40:45.994Z"
   },
   {
    "duration": 0,
    "start_time": "2022-10-01T18:40:45.996Z"
   },
   {
    "duration": 0,
    "start_time": "2022-10-01T18:40:45.997Z"
   },
   {
    "duration": 0,
    "start_time": "2022-10-01T18:40:45.998Z"
   },
   {
    "duration": 0,
    "start_time": "2022-10-01T18:40:45.999Z"
   },
   {
    "duration": 0,
    "start_time": "2022-10-01T18:40:46.000Z"
   },
   {
    "duration": 0,
    "start_time": "2022-10-01T18:41:26.853Z"
   },
   {
    "duration": 1208,
    "start_time": "2022-10-01T18:41:35.274Z"
   },
   {
    "duration": 4,
    "start_time": "2022-10-01T18:41:36.483Z"
   },
   {
    "duration": 188,
    "start_time": "2022-10-01T18:41:36.489Z"
   },
   {
    "duration": 54,
    "start_time": "2022-10-01T18:41:36.679Z"
   },
   {
    "duration": 4,
    "start_time": "2022-10-01T18:41:36.735Z"
   },
   {
    "duration": 43,
    "start_time": "2022-10-01T18:41:36.741Z"
   },
   {
    "duration": 27,
    "start_time": "2022-10-01T18:41:36.786Z"
   },
   {
    "duration": 124,
    "start_time": "2022-10-01T18:41:36.815Z"
   },
   {
    "duration": 263,
    "start_time": "2022-10-01T18:41:36.942Z"
   },
   {
    "duration": 228,
    "start_time": "2022-10-01T18:41:37.207Z"
   },
   {
    "duration": 232,
    "start_time": "2022-10-01T18:41:37.437Z"
   },
   {
    "duration": 21,
    "start_time": "2022-10-01T18:41:37.671Z"
   },
   {
    "duration": 400,
    "start_time": "2022-10-01T18:41:37.693Z"
   },
   {
    "duration": 0,
    "start_time": "2022-10-01T18:42:16.392Z"
   },
   {
    "duration": 16,
    "start_time": "2022-10-01T18:43:06.234Z"
   },
   {
    "duration": 3,
    "start_time": "2022-10-01T18:43:41.788Z"
   },
   {
    "duration": 7,
    "start_time": "2022-10-01T18:43:41.793Z"
   },
   {
    "duration": 163,
    "start_time": "2022-10-01T18:43:41.802Z"
   },
   {
    "duration": 49,
    "start_time": "2022-10-01T18:43:41.977Z"
   },
   {
    "duration": 3,
    "start_time": "2022-10-01T18:43:42.028Z"
   },
   {
    "duration": 34,
    "start_time": "2022-10-01T18:43:42.032Z"
   },
   {
    "duration": 34,
    "start_time": "2022-10-01T18:43:42.068Z"
   },
   {
    "duration": 101,
    "start_time": "2022-10-01T18:43:42.104Z"
   },
   {
    "duration": 242,
    "start_time": "2022-10-01T18:43:42.207Z"
   },
   {
    "duration": 240,
    "start_time": "2022-10-01T18:43:42.451Z"
   },
   {
    "duration": 216,
    "start_time": "2022-10-01T18:43:42.693Z"
   },
   {
    "duration": 15,
    "start_time": "2022-10-01T18:43:42.911Z"
   },
   {
    "duration": 405,
    "start_time": "2022-10-01T18:43:42.928Z"
   },
   {
    "duration": 37485,
    "start_time": "2022-10-01T18:43:43.335Z"
   },
   {
    "duration": 1505,
    "start_time": "2022-10-02T14:00:52.970Z"
   },
   {
    "duration": 4,
    "start_time": "2022-10-02T14:00:54.477Z"
   },
   {
    "duration": 455,
    "start_time": "2022-10-02T14:00:54.483Z"
   },
   {
    "duration": 87,
    "start_time": "2022-10-02T14:00:54.941Z"
   },
   {
    "duration": 5,
    "start_time": "2022-10-02T14:00:55.030Z"
   },
   {
    "duration": 120,
    "start_time": "2022-10-02T14:00:55.036Z"
   },
   {
    "duration": 42,
    "start_time": "2022-10-02T14:00:55.158Z"
   },
   {
    "duration": 108,
    "start_time": "2022-10-02T14:00:55.201Z"
   },
   {
    "duration": 254,
    "start_time": "2022-10-02T14:00:55.310Z"
   },
   {
    "duration": 231,
    "start_time": "2022-10-02T14:00:55.566Z"
   },
   {
    "duration": 248,
    "start_time": "2022-10-02T14:00:55.799Z"
   },
   {
    "duration": 18,
    "start_time": "2022-10-02T14:00:56.049Z"
   },
   {
    "duration": 417,
    "start_time": "2022-10-02T14:00:56.069Z"
   },
   {
    "duration": 37862,
    "start_time": "2022-10-02T14:00:56.489Z"
   },
   {
    "duration": 23,
    "start_time": "2022-10-02T14:03:58.968Z"
   },
   {
    "duration": 11,
    "start_time": "2022-10-02T14:04:07.706Z"
   },
   {
    "duration": 20,
    "start_time": "2022-10-02T14:05:41.996Z"
   },
   {
    "duration": 26,
    "start_time": "2022-10-02T14:06:03.334Z"
   },
   {
    "duration": 5,
    "start_time": "2022-10-02T14:06:11.892Z"
   },
   {
    "duration": 3,
    "start_time": "2022-10-02T14:06:21.126Z"
   },
   {
    "duration": 17,
    "start_time": "2022-10-02T14:06:25.169Z"
   },
   {
    "duration": 8,
    "start_time": "2022-10-02T14:06:53.129Z"
   },
   {
    "duration": 9,
    "start_time": "2022-10-02T14:16:58.281Z"
   },
   {
    "duration": 8,
    "start_time": "2022-10-02T14:17:45.645Z"
   },
   {
    "duration": 3,
    "start_time": "2022-10-02T14:20:17.731Z"
   },
   {
    "duration": 12,
    "start_time": "2022-10-02T14:21:45.573Z"
   },
   {
    "duration": 4,
    "start_time": "2022-10-02T14:22:17.282Z"
   },
   {
    "duration": 38,
    "start_time": "2022-10-02T14:22:17.289Z"
   },
   {
    "duration": 207,
    "start_time": "2022-10-02T14:22:17.329Z"
   },
   {
    "duration": 57,
    "start_time": "2022-10-02T14:22:17.538Z"
   },
   {
    "duration": 19,
    "start_time": "2022-10-02T14:22:19.841Z"
   },
   {
    "duration": 4,
    "start_time": "2022-10-02T14:22:33.506Z"
   },
   {
    "duration": 16,
    "start_time": "2022-10-02T14:22:33.512Z"
   },
   {
    "duration": 201,
    "start_time": "2022-10-02T14:22:33.529Z"
   },
   {
    "duration": 54,
    "start_time": "2022-10-02T14:22:33.732Z"
   },
   {
    "duration": 21,
    "start_time": "2022-10-02T14:22:55.427Z"
   },
   {
    "duration": 19,
    "start_time": "2022-10-02T14:24:35.567Z"
   },
   {
    "duration": 25,
    "start_time": "2022-10-02T14:26:29.165Z"
   },
   {
    "duration": 674,
    "start_time": "2022-10-02T14:27:01.341Z"
   },
   {
    "duration": 23,
    "start_time": "2022-10-02T14:27:08.189Z"
   },
   {
    "duration": 19,
    "start_time": "2022-10-02T14:27:30.928Z"
   },
   {
    "duration": 4,
    "start_time": "2022-10-02T14:27:36.719Z"
   },
   {
    "duration": 16,
    "start_time": "2022-10-02T14:27:40.885Z"
   },
   {
    "duration": 16,
    "start_time": "2022-10-02T14:27:43.694Z"
   },
   {
    "duration": 16,
    "start_time": "2022-10-02T14:27:54.998Z"
   },
   {
    "duration": 19,
    "start_time": "2022-10-02T14:28:10.615Z"
   },
   {
    "duration": 21,
    "start_time": "2022-10-02T14:28:18.512Z"
   },
   {
    "duration": 4,
    "start_time": "2022-10-02T14:28:40.325Z"
   },
   {
    "duration": 8,
    "start_time": "2022-10-02T14:28:40.331Z"
   },
   {
    "duration": 188,
    "start_time": "2022-10-02T14:28:40.341Z"
   },
   {
    "duration": 54,
    "start_time": "2022-10-02T14:28:40.532Z"
   },
   {
    "duration": 22,
    "start_time": "2022-10-02T14:28:44.233Z"
   },
   {
    "duration": 18,
    "start_time": "2022-10-02T14:29:49.421Z"
   },
   {
    "duration": 19,
    "start_time": "2022-10-02T14:30:28.994Z"
   },
   {
    "duration": 19,
    "start_time": "2022-10-02T14:30:43.418Z"
   },
   {
    "duration": 17,
    "start_time": "2022-10-02T14:30:54.306Z"
   },
   {
    "duration": 24,
    "start_time": "2022-10-02T14:31:25.484Z"
   },
   {
    "duration": 18,
    "start_time": "2022-10-02T14:31:32.713Z"
   },
   {
    "duration": 16,
    "start_time": "2022-10-02T14:31:38.749Z"
   },
   {
    "duration": 17,
    "start_time": "2022-10-02T14:32:03.644Z"
   },
   {
    "duration": 17,
    "start_time": "2022-10-02T14:32:17.727Z"
   },
   {
    "duration": 97,
    "start_time": "2022-10-02T14:34:45.788Z"
   },
   {
    "duration": 31,
    "start_time": "2022-10-02T14:35:11.983Z"
   },
   {
    "duration": 17,
    "start_time": "2022-10-02T14:35:56.950Z"
   },
   {
    "duration": 23,
    "start_time": "2022-10-02T14:36:12.052Z"
   },
   {
    "duration": 14,
    "start_time": "2022-10-02T14:36:39.827Z"
   },
   {
    "duration": 16,
    "start_time": "2022-10-02T14:36:52.259Z"
   },
   {
    "duration": 72,
    "start_time": "2022-10-02T14:37:13.874Z"
   },
   {
    "duration": 61,
    "start_time": "2022-10-02T14:37:24.941Z"
   },
   {
    "duration": 2,
    "start_time": "2022-10-02T14:38:30.948Z"
   },
   {
    "duration": 4,
    "start_time": "2022-10-02T14:39:22.451Z"
   },
   {
    "duration": 40,
    "start_time": "2022-10-02T14:40:11.712Z"
   },
   {
    "duration": 2,
    "start_time": "2022-10-02T14:42:27.500Z"
   },
   {
    "duration": 277,
    "start_time": "2022-10-02T14:56:15.985Z"
   },
   {
    "duration": 252,
    "start_time": "2022-10-02T14:56:25.862Z"
   },
   {
    "duration": 5,
    "start_time": "2022-10-02T14:59:31.089Z"
   },
   {
    "duration": 27,
    "start_time": "2022-10-02T14:59:31.096Z"
   },
   {
    "duration": 211,
    "start_time": "2022-10-02T14:59:31.125Z"
   },
   {
    "duration": 67,
    "start_time": "2022-10-02T14:59:31.337Z"
   },
   {
    "duration": 2,
    "start_time": "2022-10-02T14:59:31.407Z"
   },
   {
    "duration": 19,
    "start_time": "2022-10-02T14:59:31.411Z"
   },
   {
    "duration": 52,
    "start_time": "2022-10-02T14:59:31.432Z"
   },
   {
    "duration": 30,
    "start_time": "2022-10-02T14:59:31.485Z"
   },
   {
    "duration": 118,
    "start_time": "2022-10-02T14:59:31.517Z"
   },
   {
    "duration": 52,
    "start_time": "2022-10-02T14:59:31.637Z"
   },
   {
    "duration": 24,
    "start_time": "2022-10-02T14:59:31.693Z"
   },
   {
    "duration": 301,
    "start_time": "2022-10-02T14:59:31.719Z"
   },
   {
    "duration": 261,
    "start_time": "2022-10-02T14:59:32.022Z"
   },
   {
    "duration": 249,
    "start_time": "2022-10-02T14:59:32.290Z"
   },
   {
    "duration": 404,
    "start_time": "2022-10-02T14:59:32.540Z"
   },
   {
    "duration": 38885,
    "start_time": "2022-10-02T14:59:32.946Z"
   },
   {
    "duration": 18,
    "start_time": "2022-10-02T15:02:33.041Z"
   },
   {
    "duration": 355,
    "start_time": "2022-10-02T15:02:44.989Z"
   },
   {
    "duration": 10,
    "start_time": "2022-10-02T15:03:26.834Z"
   },
   {
    "duration": 16,
    "start_time": "2022-10-02T15:03:41.307Z"
   },
   {
    "duration": 187,
    "start_time": "2022-10-02T15:06:35.874Z"
   },
   {
    "duration": 173,
    "start_time": "2022-10-02T15:07:27.853Z"
   },
   {
    "duration": 159,
    "start_time": "2022-10-02T15:07:53.387Z"
   },
   {
    "duration": 171,
    "start_time": "2022-10-02T15:08:50.821Z"
   },
   {
    "duration": 65,
    "start_time": "2022-10-02T15:12:27.645Z"
   },
   {
    "duration": 71,
    "start_time": "2022-10-02T15:12:45.362Z"
   },
   {
    "duration": 66,
    "start_time": "2022-10-02T16:07:17.955Z"
   },
   {
    "duration": 73,
    "start_time": "2022-10-02T16:07:52.675Z"
   },
   {
    "duration": 65,
    "start_time": "2022-10-02T16:09:23.559Z"
   },
   {
    "duration": 23,
    "start_time": "2022-10-02T16:15:36.447Z"
   },
   {
    "duration": 23,
    "start_time": "2022-10-02T16:15:50.685Z"
   },
   {
    "duration": 192,
    "start_time": "2022-10-02T16:16:09.001Z"
   },
   {
    "duration": 185,
    "start_time": "2022-10-02T16:16:37.130Z"
   },
   {
    "duration": 171,
    "start_time": "2022-10-02T16:16:56.498Z"
   },
   {
    "duration": 188,
    "start_time": "2022-10-02T16:18:08.196Z"
   },
   {
    "duration": 167,
    "start_time": "2022-10-02T16:21:44.227Z"
   },
   {
    "duration": 29,
    "start_time": "2022-10-02T16:23:19.392Z"
   },
   {
    "duration": 176,
    "start_time": "2022-10-02T16:24:59.991Z"
   },
   {
    "duration": 27,
    "start_time": "2022-10-02T16:35:13.964Z"
   },
   {
    "duration": 29,
    "start_time": "2022-10-02T16:35:25.206Z"
   },
   {
    "duration": 1243,
    "start_time": "2022-10-02T16:45:08.042Z"
   },
   {
    "duration": 1263,
    "start_time": "2022-10-02T16:45:21.755Z"
   },
   {
    "duration": 27,
    "start_time": "2022-10-02T16:46:20.823Z"
   },
   {
    "duration": 34,
    "start_time": "2022-10-02T16:47:01.489Z"
   },
   {
    "duration": 9,
    "start_time": "2022-10-02T16:47:47.522Z"
   },
   {
    "duration": 40,
    "start_time": "2022-10-02T16:48:08.530Z"
   },
   {
    "duration": 32,
    "start_time": "2022-10-02T16:48:55.255Z"
   },
   {
    "duration": 42,
    "start_time": "2022-10-02T16:49:04.884Z"
   },
   {
    "duration": 30,
    "start_time": "2022-10-02T16:49:51.151Z"
   },
   {
    "duration": 48,
    "start_time": "2022-10-02T16:50:33.956Z"
   },
   {
    "duration": 49,
    "start_time": "2022-10-02T16:52:37.421Z"
   },
   {
    "duration": 17,
    "start_time": "2022-10-02T16:52:53.355Z"
   },
   {
    "duration": 268,
    "start_time": "2022-10-02T16:52:57.075Z"
   },
   {
    "duration": 275,
    "start_time": "2022-10-02T16:53:18.155Z"
   },
   {
    "duration": 266,
    "start_time": "2022-10-02T16:53:33.075Z"
   },
   {
    "duration": 288,
    "start_time": "2022-10-02T16:53:40.688Z"
   },
   {
    "duration": 292,
    "start_time": "2022-10-02T16:53:48.395Z"
   },
   {
    "duration": 255,
    "start_time": "2022-10-02T16:53:57.130Z"
   },
   {
    "duration": 289,
    "start_time": "2022-10-02T16:54:12.121Z"
   },
   {
    "duration": 171,
    "start_time": "2022-10-02T16:54:35.730Z"
   },
   {
    "duration": 485,
    "start_time": "2022-10-02T16:55:11.627Z"
   },
   {
    "duration": 38871,
    "start_time": "2022-10-02T16:55:35.497Z"
   },
   {
    "duration": 49,
    "start_time": "2022-10-02T16:57:58.084Z"
   },
   {
    "duration": 61,
    "start_time": "2022-10-02T16:58:29.118Z"
   },
   {
    "duration": 33,
    "start_time": "2022-10-02T16:58:53.438Z"
   },
   {
    "duration": 42,
    "start_time": "2022-10-02T16:59:14.670Z"
   },
   {
    "duration": 39,
    "start_time": "2022-10-02T17:00:10.636Z"
   },
   {
    "duration": 1216,
    "start_time": "2022-10-02T17:01:24.238Z"
   },
   {
    "duration": 39,
    "start_time": "2022-10-02T17:02:06.409Z"
   },
   {
    "duration": 1282,
    "start_time": "2022-10-02T18:21:01.772Z"
   },
   {
    "duration": 3,
    "start_time": "2022-10-02T18:21:03.057Z"
   },
   {
    "duration": 227,
    "start_time": "2022-10-02T18:21:03.061Z"
   },
   {
    "duration": 97,
    "start_time": "2022-10-02T18:21:03.290Z"
   },
   {
    "duration": 2,
    "start_time": "2022-10-02T18:21:03.388Z"
   },
   {
    "duration": 5,
    "start_time": "2022-10-02T18:21:03.392Z"
   },
   {
    "duration": 34,
    "start_time": "2022-10-02T18:21:03.398Z"
   },
   {
    "duration": 24,
    "start_time": "2022-10-02T18:21:03.433Z"
   },
   {
    "duration": 93,
    "start_time": "2022-10-02T18:21:03.458Z"
   },
   {
    "duration": 31,
    "start_time": "2022-10-02T18:21:03.553Z"
   },
   {
    "duration": 42,
    "start_time": "2022-10-02T18:21:03.585Z"
   },
   {
    "duration": 38,
    "start_time": "2022-10-02T18:21:03.629Z"
   },
   {
    "duration": 13,
    "start_time": "2022-10-02T18:21:03.668Z"
   },
   {
    "duration": 214,
    "start_time": "2022-10-02T18:21:03.682Z"
   },
   {
    "duration": 192,
    "start_time": "2022-10-02T18:21:03.897Z"
   },
   {
    "duration": 182,
    "start_time": "2022-10-02T18:21:04.091Z"
   },
   {
    "duration": 171,
    "start_time": "2022-10-02T18:21:04.275Z"
   },
   {
    "duration": 385,
    "start_time": "2022-10-02T18:21:04.448Z"
   },
   {
    "duration": 35,
    "start_time": "2022-10-02T18:21:04.834Z"
   },
   {
    "duration": 43,
    "start_time": "2022-10-02T18:25:54.892Z"
   },
   {
    "duration": 114,
    "start_time": "2022-10-02T18:28:39.842Z"
   },
   {
    "duration": 117,
    "start_time": "2022-10-02T18:29:05.393Z"
   },
   {
    "duration": 202,
    "start_time": "2022-10-02T18:29:21.319Z"
   },
   {
    "duration": 170,
    "start_time": "2022-10-02T18:29:32.719Z"
   },
   {
    "duration": 193,
    "start_time": "2022-10-02T18:29:44.124Z"
   },
   {
    "duration": 113,
    "start_time": "2022-10-02T18:29:57.425Z"
   },
   {
    "duration": 132,
    "start_time": "2022-10-02T18:30:08.294Z"
   },
   {
    "duration": 129,
    "start_time": "2022-10-02T18:30:19.128Z"
   },
   {
    "duration": 196,
    "start_time": "2022-10-02T18:30:41.091Z"
   },
   {
    "duration": 181,
    "start_time": "2022-10-02T18:30:49.320Z"
   },
   {
    "duration": 202,
    "start_time": "2022-10-02T18:30:57.556Z"
   },
   {
    "duration": 196,
    "start_time": "2022-10-02T18:31:02.172Z"
   },
   {
    "duration": 207,
    "start_time": "2022-10-02T18:31:32.829Z"
   },
   {
    "duration": 128,
    "start_time": "2022-10-02T18:31:36.873Z"
   },
   {
    "duration": 215,
    "start_time": "2022-10-02T18:31:42.862Z"
   },
   {
    "duration": 119,
    "start_time": "2022-10-02T18:31:47.222Z"
   },
   {
    "duration": 219,
    "start_time": "2022-10-02T18:31:56.830Z"
   },
   {
    "duration": 126,
    "start_time": "2022-10-02T18:32:21.978Z"
   },
   {
    "duration": 115,
    "start_time": "2022-10-02T18:32:29.834Z"
   },
   {
    "duration": 132,
    "start_time": "2022-10-02T18:43:26.658Z"
   },
   {
    "duration": 115,
    "start_time": "2022-10-02T18:44:03.035Z"
   },
   {
    "duration": 121,
    "start_time": "2022-10-02T18:44:11.980Z"
   },
   {
    "duration": 106,
    "start_time": "2022-10-02T18:44:46.695Z"
   },
   {
    "duration": 125,
    "start_time": "2022-10-02T18:44:53.335Z"
   },
   {
    "duration": 106,
    "start_time": "2022-10-02T18:44:56.729Z"
   },
   {
    "duration": 109,
    "start_time": "2022-10-02T18:48:20.973Z"
   },
   {
    "duration": 27,
    "start_time": "2022-10-02T18:48:31.569Z"
   },
   {
    "duration": 34,
    "start_time": "2022-10-02T18:50:01.465Z"
   },
   {
    "duration": 150,
    "start_time": "2022-10-02T18:53:13.069Z"
   },
   {
    "duration": 135,
    "start_time": "2022-10-02T18:53:32.636Z"
   },
   {
    "duration": 201,
    "start_time": "2022-10-02T18:53:37.580Z"
   },
   {
    "duration": 31,
    "start_time": "2022-10-02T19:24:24.894Z"
   },
   {
    "duration": 31,
    "start_time": "2022-10-02T19:24:38.594Z"
   },
   {
    "duration": 32,
    "start_time": "2022-10-02T19:25:12.893Z"
   },
   {
    "duration": 37,
    "start_time": "2022-10-02T19:25:32.793Z"
   },
   {
    "duration": 31,
    "start_time": "2022-10-02T19:25:45.373Z"
   },
   {
    "duration": 30,
    "start_time": "2022-10-02T19:26:31.626Z"
   },
   {
    "duration": 31,
    "start_time": "2022-10-02T19:27:02.362Z"
   },
   {
    "duration": 55,
    "start_time": "2022-10-02T19:27:14.250Z"
   },
   {
    "duration": 32,
    "start_time": "2022-10-02T19:27:26.745Z"
   },
   {
    "duration": 31,
    "start_time": "2022-10-02T19:27:45.649Z"
   },
   {
    "duration": 96,
    "start_time": "2022-10-02T19:28:29.080Z"
   },
   {
    "duration": 33,
    "start_time": "2022-10-02T19:29:02.990Z"
   },
   {
    "duration": 30,
    "start_time": "2022-10-02T19:34:28.367Z"
   },
   {
    "duration": 49,
    "start_time": "2022-10-02T19:34:40.780Z"
   },
   {
    "duration": 57752,
    "start_time": "2022-10-02T19:39:54.524Z"
   },
   {
    "duration": 32,
    "start_time": "2022-10-02T19:42:56.305Z"
   },
   {
    "duration": 1624,
    "start_time": "2022-10-02T19:44:09.157Z"
   },
   {
    "duration": 33,
    "start_time": "2022-10-02T19:44:53.515Z"
   },
   {
    "duration": 31,
    "start_time": "2022-10-02T19:47:03.082Z"
   },
   {
    "duration": 777,
    "start_time": "2022-10-02T19:47:48.351Z"
   },
   {
    "duration": 552,
    "start_time": "2022-10-02T19:48:12.902Z"
   },
   {
    "duration": 28476,
    "start_time": "2022-10-02T19:51:16.694Z"
   },
   {
    "duration": 28408,
    "start_time": "2022-10-02T19:52:11.537Z"
   },
   {
    "duration": 52,
    "start_time": "2022-10-02T19:54:17.565Z"
   },
   {
    "duration": 844,
    "start_time": "2022-10-02T19:55:48.690Z"
   },
   {
    "duration": 436175,
    "start_time": "2022-10-02T19:56:07.086Z"
   },
   {
    "duration": 0,
    "start_time": "2022-10-02T20:03:23.263Z"
   },
   {
    "duration": 141,
    "start_time": "2022-10-02T20:03:29.043Z"
   },
   {
    "duration": 125,
    "start_time": "2022-10-02T20:03:44.444Z"
   },
   {
    "duration": 238,
    "start_time": "2022-10-02T20:11:49.505Z"
   },
   {
    "duration": 49,
    "start_time": "2022-10-03T03:25:33.740Z"
   },
   {
    "duration": 1320,
    "start_time": "2022-10-03T03:25:42.132Z"
   },
   {
    "duration": 4,
    "start_time": "2022-10-03T03:25:43.453Z"
   },
   {
    "duration": 235,
    "start_time": "2022-10-03T03:25:43.459Z"
   },
   {
    "duration": 96,
    "start_time": "2022-10-03T03:25:43.696Z"
   },
   {
    "duration": 2,
    "start_time": "2022-10-03T03:25:43.794Z"
   },
   {
    "duration": 8,
    "start_time": "2022-10-03T03:25:43.798Z"
   },
   {
    "duration": 45,
    "start_time": "2022-10-03T03:25:43.807Z"
   },
   {
    "duration": 35,
    "start_time": "2022-10-03T03:25:43.853Z"
   },
   {
    "duration": 94,
    "start_time": "2022-10-03T03:25:43.889Z"
   },
   {
    "duration": 33,
    "start_time": "2022-10-03T03:25:43.985Z"
   },
   {
    "duration": 28,
    "start_time": "2022-10-03T03:25:44.020Z"
   },
   {
    "duration": 67,
    "start_time": "2022-10-03T03:25:44.050Z"
   },
   {
    "duration": 13,
    "start_time": "2022-10-03T03:25:44.118Z"
   },
   {
    "duration": 222,
    "start_time": "2022-10-03T03:25:44.133Z"
   },
   {
    "duration": 139,
    "start_time": "2022-10-03T03:25:44.357Z"
   },
   {
    "duration": 225,
    "start_time": "2022-10-03T03:25:44.497Z"
   },
   {
    "duration": 141,
    "start_time": "2022-10-03T03:25:44.724Z"
   },
   {
    "duration": 248,
    "start_time": "2022-10-03T03:25:44.866Z"
   },
   {
    "duration": 127,
    "start_time": "2022-10-03T03:25:45.115Z"
   },
   {
    "duration": 47,
    "start_time": "2022-10-03T03:25:45.245Z"
   },
   {
    "duration": 176,
    "start_time": "2022-10-03T03:25:45.295Z"
   },
   {
    "duration": 278,
    "start_time": "2022-10-03T03:25:45.476Z"
   },
   {
    "duration": 151,
    "start_time": "2022-10-03T03:25:48.038Z"
   },
   {
    "duration": 0,
    "start_time": "2022-10-03T03:29:25.896Z"
   },
   {
    "duration": 4,
    "start_time": "2022-10-03T03:29:32.475Z"
   },
   {
    "duration": 21,
    "start_time": "2022-10-03T03:29:32.481Z"
   },
   {
    "duration": 167,
    "start_time": "2022-10-03T03:29:32.504Z"
   },
   {
    "duration": 53,
    "start_time": "2022-10-03T03:29:32.677Z"
   },
   {
    "duration": 3,
    "start_time": "2022-10-03T03:29:32.732Z"
   },
   {
    "duration": 15,
    "start_time": "2022-10-03T03:29:32.736Z"
   },
   {
    "duration": 54,
    "start_time": "2022-10-03T03:29:32.753Z"
   },
   {
    "duration": 22,
    "start_time": "2022-10-03T03:29:32.808Z"
   },
   {
    "duration": 90,
    "start_time": "2022-10-03T03:29:32.831Z"
   },
   {
    "duration": 58,
    "start_time": "2022-10-03T03:29:32.922Z"
   },
   {
    "duration": 25,
    "start_time": "2022-10-03T03:29:32.982Z"
   },
   {
    "duration": 42,
    "start_time": "2022-10-03T03:29:33.009Z"
   },
   {
    "duration": 35,
    "start_time": "2022-10-03T03:29:33.052Z"
   },
   {
    "duration": 230,
    "start_time": "2022-10-03T03:29:33.089Z"
   },
   {
    "duration": 140,
    "start_time": "2022-10-03T03:29:33.321Z"
   },
   {
    "duration": 251,
    "start_time": "2022-10-03T03:29:33.463Z"
   },
   {
    "duration": 147,
    "start_time": "2022-10-03T03:29:33.716Z"
   },
   {
    "duration": 246,
    "start_time": "2022-10-03T03:29:33.865Z"
   },
   {
    "duration": 124,
    "start_time": "2022-10-03T03:29:34.113Z"
   },
   {
    "duration": 39,
    "start_time": "2022-10-03T03:29:34.238Z"
   },
   {
    "duration": 152,
    "start_time": "2022-10-03T03:29:34.278Z"
   },
   {
    "duration": 299,
    "start_time": "2022-10-03T03:29:34.432Z"
   },
   {
    "duration": 0,
    "start_time": "2022-10-03T03:33:29.665Z"
   },
   {
    "duration": 0,
    "start_time": "2022-10-03T03:33:29.666Z"
   },
   {
    "duration": 0,
    "start_time": "2022-10-03T03:33:29.667Z"
   },
   {
    "duration": 0,
    "start_time": "2022-10-03T03:33:29.677Z"
   },
   {
    "duration": 0,
    "start_time": "2022-10-03T03:33:29.678Z"
   },
   {
    "duration": 0,
    "start_time": "2022-10-03T03:33:29.679Z"
   },
   {
    "duration": 0,
    "start_time": "2022-10-03T03:33:29.680Z"
   },
   {
    "duration": 0,
    "start_time": "2022-10-03T03:33:29.681Z"
   },
   {
    "duration": 0,
    "start_time": "2022-10-03T03:33:29.682Z"
   },
   {
    "duration": 0,
    "start_time": "2022-10-03T03:33:29.683Z"
   },
   {
    "duration": 0,
    "start_time": "2022-10-03T03:33:29.685Z"
   },
   {
    "duration": 0,
    "start_time": "2022-10-03T03:33:29.685Z"
   },
   {
    "duration": 0,
    "start_time": "2022-10-03T03:33:29.687Z"
   },
   {
    "duration": 0,
    "start_time": "2022-10-03T03:33:29.688Z"
   },
   {
    "duration": 0,
    "start_time": "2022-10-03T03:33:29.689Z"
   },
   {
    "duration": 0,
    "start_time": "2022-10-03T03:33:29.690Z"
   },
   {
    "duration": 0,
    "start_time": "2022-10-03T03:33:29.691Z"
   },
   {
    "duration": 0,
    "start_time": "2022-10-03T03:33:29.692Z"
   },
   {
    "duration": 0,
    "start_time": "2022-10-03T03:33:29.693Z"
   },
   {
    "duration": 0,
    "start_time": "2022-10-03T03:33:29.694Z"
   },
   {
    "duration": 0,
    "start_time": "2022-10-03T03:33:29.694Z"
   },
   {
    "duration": 0,
    "start_time": "2022-10-03T03:33:29.696Z"
   },
   {
    "duration": 0,
    "start_time": "2022-10-03T03:33:29.697Z"
   },
   {
    "duration": 1132,
    "start_time": "2022-10-03T03:33:33.442Z"
   },
   {
    "duration": 4,
    "start_time": "2022-10-03T03:33:34.576Z"
   },
   {
    "duration": 172,
    "start_time": "2022-10-03T03:33:34.581Z"
   },
   {
    "duration": 50,
    "start_time": "2022-10-03T03:33:34.755Z"
   },
   {
    "duration": 2,
    "start_time": "2022-10-03T03:33:34.807Z"
   },
   {
    "duration": 13,
    "start_time": "2022-10-03T03:33:34.811Z"
   },
   {
    "duration": 35,
    "start_time": "2022-10-03T03:33:34.825Z"
   },
   {
    "duration": 35,
    "start_time": "2022-10-03T03:33:34.861Z"
   },
   {
    "duration": 97,
    "start_time": "2022-10-03T03:33:34.897Z"
   },
   {
    "duration": 35,
    "start_time": "2022-10-03T03:33:34.996Z"
   },
   {
    "duration": 50,
    "start_time": "2022-10-03T03:33:35.033Z"
   },
   {
    "duration": 42,
    "start_time": "2022-10-03T03:33:35.085Z"
   },
   {
    "duration": 13,
    "start_time": "2022-10-03T03:33:35.129Z"
   },
   {
    "duration": 275,
    "start_time": "2022-10-03T03:33:35.143Z"
   },
   {
    "duration": 142,
    "start_time": "2022-10-03T03:33:35.419Z"
   },
   {
    "duration": 230,
    "start_time": "2022-10-03T03:33:35.562Z"
   },
   {
    "duration": 138,
    "start_time": "2022-10-03T03:33:35.794Z"
   },
   {
    "duration": 249,
    "start_time": "2022-10-03T03:33:35.934Z"
   },
   {
    "duration": 127,
    "start_time": "2022-10-03T03:33:36.185Z"
   },
   {
    "duration": 28,
    "start_time": "2022-10-03T03:33:36.313Z"
   },
   {
    "duration": 177,
    "start_time": "2022-10-03T03:33:36.343Z"
   },
   {
    "duration": 308,
    "start_time": "2022-10-03T03:33:36.521Z"
   },
   {
    "duration": 128,
    "start_time": "2022-10-03T03:33:36.831Z"
   },
   {
    "duration": 170,
    "start_time": "2022-10-03T03:33:36.960Z"
   },
   {
    "duration": 51,
    "start_time": "2022-10-03T03:40:54.274Z"
   },
   {
    "duration": 5170,
    "start_time": "2022-10-03T03:41:03.234Z"
   },
   {
    "duration": 54,
    "start_time": "2022-10-03T03:44:07.542Z"
   },
   {
    "duration": 12631,
    "start_time": "2022-10-03T03:44:15.616Z"
   },
   {
    "duration": 1382,
    "start_time": "2022-10-03T03:44:55.914Z"
   },
   {
    "duration": 9585,
    "start_time": "2022-10-03T03:47:24.105Z"
   },
   {
    "duration": 1041,
    "start_time": "2022-10-03T03:48:57.124Z"
   },
   {
    "duration": 1209,
    "start_time": "2022-10-03T03:49:29.840Z"
   },
   {
    "duration": 1559,
    "start_time": "2022-10-03T03:51:43.580Z"
   },
   {
    "duration": 799,
    "start_time": "2022-10-03T03:53:44.122Z"
   },
   {
    "duration": 10683,
    "start_time": "2022-10-03T03:54:08.776Z"
   },
   {
    "duration": 62,
    "start_time": "2022-10-03T03:54:35.817Z"
   },
   {
    "duration": 24763,
    "start_time": "2022-10-03T03:54:45.261Z"
   },
   {
    "duration": 560,
    "start_time": "2022-10-03T03:57:48.973Z"
   },
   {
    "duration": 5390,
    "start_time": "2022-10-03T03:59:09.519Z"
   },
   {
    "duration": 1350,
    "start_time": "2022-10-03T04:01:05.944Z"
   },
   {
    "duration": 5,
    "start_time": "2022-10-03T04:01:17.986Z"
   },
   {
    "duration": 9,
    "start_time": "2022-10-03T04:01:17.993Z"
   },
   {
    "duration": 177,
    "start_time": "2022-10-03T04:01:18.004Z"
   },
   {
    "duration": 54,
    "start_time": "2022-10-03T04:01:18.183Z"
   },
   {
    "duration": 2,
    "start_time": "2022-10-03T04:01:18.239Z"
   },
   {
    "duration": 7,
    "start_time": "2022-10-03T04:01:18.243Z"
   },
   {
    "duration": 45,
    "start_time": "2022-10-03T04:01:18.252Z"
   },
   {
    "duration": 24,
    "start_time": "2022-10-03T04:01:18.298Z"
   },
   {
    "duration": 110,
    "start_time": "2022-10-03T04:01:18.324Z"
   },
   {
    "duration": 55,
    "start_time": "2022-10-03T04:01:18.436Z"
   },
   {
    "duration": 26,
    "start_time": "2022-10-03T04:01:18.493Z"
   },
   {
    "duration": 70,
    "start_time": "2022-10-03T04:01:18.521Z"
   },
   {
    "duration": 14,
    "start_time": "2022-10-03T04:01:18.593Z"
   },
   {
    "duration": 276,
    "start_time": "2022-10-03T04:01:18.609Z"
   },
   {
    "duration": 146,
    "start_time": "2022-10-03T04:01:18.886Z"
   },
   {
    "duration": 246,
    "start_time": "2022-10-03T04:01:19.034Z"
   },
   {
    "duration": 144,
    "start_time": "2022-10-03T04:01:19.282Z"
   },
   {
    "duration": 263,
    "start_time": "2022-10-03T04:01:19.428Z"
   },
   {
    "duration": 234,
    "start_time": "2022-10-03T04:01:19.693Z"
   },
   {
    "duration": 30,
    "start_time": "2022-10-03T04:01:19.929Z"
   },
   {
    "duration": 169,
    "start_time": "2022-10-03T04:01:19.961Z"
   },
   {
    "duration": 295,
    "start_time": "2022-10-03T04:01:20.131Z"
   },
   {
    "duration": 5046,
    "start_time": "2022-10-03T04:02:54.371Z"
   },
   {
    "duration": 61,
    "start_time": "2022-10-03T04:05:28.560Z"
   },
   {
    "duration": 18308,
    "start_time": "2022-10-03T04:05:39.406Z"
   },
   {
    "duration": 3,
    "start_time": "2022-10-03T04:07:17.895Z"
   },
   {
    "duration": 6,
    "start_time": "2022-10-03T04:07:17.901Z"
   },
   {
    "duration": 194,
    "start_time": "2022-10-03T04:07:17.909Z"
   },
   {
    "duration": 55,
    "start_time": "2022-10-03T04:07:18.105Z"
   },
   {
    "duration": 2,
    "start_time": "2022-10-03T04:07:18.162Z"
   },
   {
    "duration": 13,
    "start_time": "2022-10-03T04:07:18.166Z"
   },
   {
    "duration": 38,
    "start_time": "2022-10-03T04:07:18.181Z"
   },
   {
    "duration": 25,
    "start_time": "2022-10-03T04:07:18.220Z"
   },
   {
    "duration": 130,
    "start_time": "2022-10-03T04:07:18.246Z"
   },
   {
    "duration": 40,
    "start_time": "2022-10-03T04:07:18.378Z"
   },
   {
    "duration": 59,
    "start_time": "2022-10-03T04:07:18.419Z"
   },
   {
    "duration": 59,
    "start_time": "2022-10-03T04:07:18.480Z"
   },
   {
    "duration": 39,
    "start_time": "2022-10-03T04:07:18.543Z"
   },
   {
    "duration": 259,
    "start_time": "2022-10-03T04:07:18.585Z"
   },
   {
    "duration": 159,
    "start_time": "2022-10-03T04:07:18.845Z"
   },
   {
    "duration": 245,
    "start_time": "2022-10-03T04:07:19.006Z"
   },
   {
    "duration": 146,
    "start_time": "2022-10-03T04:07:19.253Z"
   },
   {
    "duration": 264,
    "start_time": "2022-10-03T04:07:19.401Z"
   },
   {
    "duration": 142,
    "start_time": "2022-10-03T04:07:19.667Z"
   },
   {
    "duration": 32,
    "start_time": "2022-10-03T04:07:19.811Z"
   },
   {
    "duration": 181,
    "start_time": "2022-10-03T04:07:19.844Z"
   },
   {
    "duration": 320,
    "start_time": "2022-10-03T04:07:20.027Z"
   },
   {
    "duration": 171,
    "start_time": "2022-10-03T04:07:44.082Z"
   },
   {
    "duration": 150,
    "start_time": "2022-10-03T04:07:55.452Z"
   },
   {
    "duration": 4892,
    "start_time": "2022-10-03T04:08:10.137Z"
   },
   {
    "duration": 5494,
    "start_time": "2022-10-03T04:08:35.175Z"
   },
   {
    "duration": 4620,
    "start_time": "2022-10-03T04:10:08.034Z"
   },
   {
    "duration": 5370,
    "start_time": "2022-10-03T04:10:57.926Z"
   },
   {
    "duration": 55,
    "start_time": "2022-10-03T04:13:17.616Z"
   },
   {
    "duration": 12401,
    "start_time": "2022-10-03T04:13:25.283Z"
   },
   {
    "duration": 11733,
    "start_time": "2022-10-03T04:15:26.669Z"
   },
   {
    "duration": 4457,
    "start_time": "2022-10-03T04:18:56.521Z"
   },
   {
    "duration": 3901,
    "start_time": "2022-10-03T04:19:56.795Z"
   },
   {
    "duration": 4131,
    "start_time": "2022-10-03T04:21:14.201Z"
   },
   {
    "duration": 893,
    "start_time": "2022-10-03T04:22:54.572Z"
   },
   {
    "duration": 829,
    "start_time": "2022-10-03T04:23:08.308Z"
   },
   {
    "duration": 3221,
    "start_time": "2022-10-03T04:23:20.303Z"
   },
   {
    "duration": 7542,
    "start_time": "2022-10-03T04:23:40.036Z"
   },
   {
    "duration": 9440,
    "start_time": "2022-10-03T04:24:00.207Z"
   },
   {
    "duration": 280,
    "start_time": "2022-10-03T04:25:21.956Z"
   },
   {
    "duration": 4,
    "start_time": "2022-10-03T04:25:36.236Z"
   },
   {
    "duration": 11,
    "start_time": "2022-10-03T04:25:36.242Z"
   },
   {
    "duration": 165,
    "start_time": "2022-10-03T04:25:36.254Z"
   },
   {
    "duration": 51,
    "start_time": "2022-10-03T04:25:36.421Z"
   },
   {
    "duration": 3,
    "start_time": "2022-10-03T04:25:36.473Z"
   },
   {
    "duration": 8,
    "start_time": "2022-10-03T04:25:36.477Z"
   },
   {
    "duration": 37,
    "start_time": "2022-10-03T04:25:36.486Z"
   },
   {
    "duration": 21,
    "start_time": "2022-10-03T04:25:36.525Z"
   },
   {
    "duration": 101,
    "start_time": "2022-10-03T04:25:36.549Z"
   },
   {
    "duration": 54,
    "start_time": "2022-10-03T04:25:36.652Z"
   },
   {
    "duration": 27,
    "start_time": "2022-10-03T04:25:36.708Z"
   },
   {
    "duration": 72,
    "start_time": "2022-10-03T04:25:36.737Z"
   },
   {
    "duration": 14,
    "start_time": "2022-10-03T04:25:36.811Z"
   },
   {
    "duration": 302,
    "start_time": "2022-10-03T04:25:36.827Z"
   },
   {
    "duration": 152,
    "start_time": "2022-10-03T04:25:37.131Z"
   },
   {
    "duration": 235,
    "start_time": "2022-10-03T04:25:37.284Z"
   },
   {
    "duration": 143,
    "start_time": "2022-10-03T04:25:37.520Z"
   },
   {
    "duration": 273,
    "start_time": "2022-10-03T04:25:37.665Z"
   },
   {
    "duration": 120,
    "start_time": "2022-10-03T04:25:37.940Z"
   },
   {
    "duration": 34,
    "start_time": "2022-10-03T04:25:38.062Z"
   },
   {
    "duration": 161,
    "start_time": "2022-10-03T04:25:38.097Z"
   },
   {
    "duration": 306,
    "start_time": "2022-10-03T04:25:38.259Z"
   },
   {
    "duration": 380,
    "start_time": "2022-10-03T04:25:38.754Z"
   },
   {
    "duration": 40,
    "start_time": "2022-10-03T04:26:12.505Z"
   },
   {
    "duration": 272,
    "start_time": "2022-10-03T04:27:08.811Z"
   },
   {
    "duration": 3745,
    "start_time": "2022-10-03T04:27:21.371Z"
   },
   {
    "duration": 45,
    "start_time": "2022-10-03T04:28:02.561Z"
   },
   {
    "duration": 4339,
    "start_time": "2022-10-03T04:28:09.382Z"
   },
   {
    "duration": 54,
    "start_time": "2022-10-03T04:32:47.559Z"
   },
   {
    "duration": 3757,
    "start_time": "2022-10-03T04:33:01.729Z"
   },
   {
    "duration": 49,
    "start_time": "2022-10-03T04:33:19.727Z"
   },
   {
    "duration": 3625,
    "start_time": "2022-10-03T04:33:38.887Z"
   },
   {
    "duration": 4,
    "start_time": "2022-10-03T04:33:59.185Z"
   },
   {
    "duration": 9,
    "start_time": "2022-10-03T04:33:59.191Z"
   },
   {
    "duration": 180,
    "start_time": "2022-10-03T04:33:59.202Z"
   },
   {
    "duration": 54,
    "start_time": "2022-10-03T04:33:59.385Z"
   },
   {
    "duration": 2,
    "start_time": "2022-10-03T04:33:59.441Z"
   },
   {
    "duration": 8,
    "start_time": "2022-10-03T04:33:59.445Z"
   },
   {
    "duration": 44,
    "start_time": "2022-10-03T04:33:59.455Z"
   },
   {
    "duration": 24,
    "start_time": "2022-10-03T04:33:59.501Z"
   },
   {
    "duration": 107,
    "start_time": "2022-10-03T04:33:59.527Z"
   },
   {
    "duration": 54,
    "start_time": "2022-10-03T04:33:59.636Z"
   },
   {
    "duration": 27,
    "start_time": "2022-10-03T04:33:59.693Z"
   },
   {
    "duration": 69,
    "start_time": "2022-10-03T04:33:59.721Z"
   },
   {
    "duration": 14,
    "start_time": "2022-10-03T04:33:59.791Z"
   },
   {
    "duration": 258,
    "start_time": "2022-10-03T04:33:59.807Z"
   },
   {
    "duration": 151,
    "start_time": "2022-10-03T04:34:00.067Z"
   },
   {
    "duration": 231,
    "start_time": "2022-10-03T04:34:00.220Z"
   },
   {
    "duration": 150,
    "start_time": "2022-10-03T04:34:00.453Z"
   },
   {
    "duration": 280,
    "start_time": "2022-10-03T04:34:00.605Z"
   },
   {
    "duration": 134,
    "start_time": "2022-10-03T04:34:00.887Z"
   },
   {
    "duration": 30,
    "start_time": "2022-10-03T04:34:01.022Z"
   },
   {
    "duration": 164,
    "start_time": "2022-10-03T04:34:01.054Z"
   },
   {
    "duration": 301,
    "start_time": "2022-10-03T04:34:01.220Z"
   },
   {
    "duration": 7274,
    "start_time": "2022-10-03T04:34:01.523Z"
   },
   {
    "duration": 4555,
    "start_time": "2022-10-03T04:34:26.754Z"
   },
   {
    "duration": 4050,
    "start_time": "2022-10-03T04:38:32.429Z"
   },
   {
    "duration": 3349,
    "start_time": "2022-10-03T04:39:48.584Z"
   },
   {
    "duration": 3291,
    "start_time": "2022-10-03T04:40:22.833Z"
   },
   {
    "duration": 2662,
    "start_time": "2022-10-03T04:40:57.198Z"
   },
   {
    "duration": 1529,
    "start_time": "2022-10-03T04:41:47.531Z"
   },
   {
    "duration": 1583,
    "start_time": "2022-10-03T04:42:32.297Z"
   },
   {
    "duration": 2549,
    "start_time": "2022-10-03T04:43:22.504Z"
   },
   {
    "duration": 2498,
    "start_time": "2022-10-03T04:44:36.786Z"
   },
   {
    "duration": 55997,
    "start_time": "2022-10-03T04:45:38.349Z"
   },
   {
    "duration": 3,
    "start_time": "2022-10-03T04:47:47.252Z"
   },
   {
    "duration": 5,
    "start_time": "2022-10-03T04:47:47.286Z"
   },
   {
    "duration": 162,
    "start_time": "2022-10-03T04:47:47.294Z"
   },
   {
    "duration": 52,
    "start_time": "2022-10-03T04:47:47.458Z"
   },
   {
    "duration": 2,
    "start_time": "2022-10-03T04:47:47.512Z"
   },
   {
    "duration": 9,
    "start_time": "2022-10-03T04:47:47.516Z"
   },
   {
    "duration": 45,
    "start_time": "2022-10-03T04:47:47.526Z"
   },
   {
    "duration": 23,
    "start_time": "2022-10-03T04:47:47.577Z"
   },
   {
    "duration": 110,
    "start_time": "2022-10-03T04:47:47.602Z"
   },
   {
    "duration": 64,
    "start_time": "2022-10-03T04:47:47.714Z"
   },
   {
    "duration": 31,
    "start_time": "2022-10-03T04:47:47.780Z"
   },
   {
    "duration": 67,
    "start_time": "2022-10-03T04:47:47.813Z"
   },
   {
    "duration": 19,
    "start_time": "2022-10-03T04:47:47.884Z"
   },
   {
    "duration": 263,
    "start_time": "2022-10-03T04:47:47.905Z"
   },
   {
    "duration": 146,
    "start_time": "2022-10-03T04:47:48.177Z"
   },
   {
    "duration": 242,
    "start_time": "2022-10-03T04:47:48.325Z"
   },
   {
    "duration": 147,
    "start_time": "2022-10-03T04:47:48.569Z"
   },
   {
    "duration": 259,
    "start_time": "2022-10-03T04:47:48.718Z"
   },
   {
    "duration": 135,
    "start_time": "2022-10-03T04:47:48.979Z"
   },
   {
    "duration": 31,
    "start_time": "2022-10-03T04:47:49.116Z"
   },
   {
    "duration": 176,
    "start_time": "2022-10-03T04:47:49.148Z"
   },
   {
    "duration": 298,
    "start_time": "2022-10-03T04:47:49.325Z"
   },
   {
    "duration": 54815,
    "start_time": "2022-10-03T04:47:58.647Z"
   },
   {
    "duration": 7,
    "start_time": "2022-10-03T04:50:01.157Z"
   },
   {
    "duration": 9,
    "start_time": "2022-10-03T04:50:54.587Z"
   },
   {
    "duration": 17,
    "start_time": "2022-10-03T04:51:01.724Z"
   },
   {
    "duration": 11,
    "start_time": "2022-10-03T04:51:39.614Z"
   },
   {
    "duration": 8,
    "start_time": "2022-10-03T05:02:17.332Z"
   },
   {
    "duration": 19,
    "start_time": "2022-10-03T05:02:58.862Z"
   },
   {
    "duration": 5,
    "start_time": "2022-10-03T05:04:10.702Z"
   },
   {
    "duration": 26,
    "start_time": "2022-10-03T05:04:20.901Z"
   },
   {
    "duration": 16,
    "start_time": "2022-10-03T05:51:37.491Z"
   },
   {
    "duration": 21,
    "start_time": "2022-10-03T05:53:32.121Z"
   },
   {
    "duration": 19,
    "start_time": "2022-10-03T05:53:39.293Z"
   },
   {
    "duration": 232,
    "start_time": "2022-10-03T05:53:57.385Z"
   },
   {
    "duration": 23,
    "start_time": "2022-10-03T05:54:05.244Z"
   },
   {
    "duration": 21,
    "start_time": "2022-10-03T05:57:13.152Z"
   },
   {
    "duration": 35,
    "start_time": "2022-10-03T05:58:47.862Z"
   },
   {
    "duration": 33,
    "start_time": "2022-10-03T05:58:57.701Z"
   },
   {
    "duration": 32,
    "start_time": "2022-10-03T06:00:25.936Z"
   },
   {
    "duration": 33,
    "start_time": "2022-10-03T06:00:33.758Z"
   },
   {
    "duration": 33,
    "start_time": "2022-10-03T06:00:51.308Z"
   },
   {
    "duration": 1262,
    "start_time": "2022-10-03T15:32:07.666Z"
   },
   {
    "duration": 4,
    "start_time": "2022-10-03T15:32:08.929Z"
   },
   {
    "duration": 224,
    "start_time": "2022-10-03T15:32:08.934Z"
   },
   {
    "duration": 93,
    "start_time": "2022-10-03T15:32:09.160Z"
   },
   {
    "duration": 3,
    "start_time": "2022-10-03T15:32:09.254Z"
   },
   {
    "duration": 6,
    "start_time": "2022-10-03T15:32:09.258Z"
   },
   {
    "duration": 36,
    "start_time": "2022-10-03T15:32:09.265Z"
   },
   {
    "duration": 24,
    "start_time": "2022-10-03T15:32:09.303Z"
   },
   {
    "duration": 99,
    "start_time": "2022-10-03T15:32:09.328Z"
   },
   {
    "duration": 39,
    "start_time": "2022-10-03T15:32:09.430Z"
   },
   {
    "duration": 46,
    "start_time": "2022-10-03T15:32:09.470Z"
   },
   {
    "duration": 39,
    "start_time": "2022-10-03T15:32:09.518Z"
   },
   {
    "duration": 11,
    "start_time": "2022-10-03T15:32:09.558Z"
   },
   {
    "duration": 210,
    "start_time": "2022-10-03T15:32:09.572Z"
   },
   {
    "duration": 125,
    "start_time": "2022-10-03T15:32:09.783Z"
   },
   {
    "duration": 210,
    "start_time": "2022-10-03T15:32:09.910Z"
   },
   {
    "duration": 125,
    "start_time": "2022-10-03T15:32:10.122Z"
   },
   {
    "duration": 226,
    "start_time": "2022-10-03T15:32:10.248Z"
   },
   {
    "duration": 118,
    "start_time": "2022-10-03T15:32:10.476Z"
   },
   {
    "duration": 31,
    "start_time": "2022-10-03T15:32:10.600Z"
   },
   {
    "duration": 162,
    "start_time": "2022-10-03T15:32:10.633Z"
   },
   {
    "duration": 278,
    "start_time": "2022-10-03T15:32:10.796Z"
   },
   {
    "duration": 50072,
    "start_time": "2022-10-03T15:32:11.075Z"
   },
   {
    "duration": 24,
    "start_time": "2022-10-03T15:33:01.149Z"
   },
   {
    "duration": 147,
    "start_time": "2022-10-03T15:33:01.174Z"
   },
   {
    "duration": 161,
    "start_time": "2022-10-03T15:33:01.322Z"
   },
   {
    "duration": 89,
    "start_time": "2022-10-03T15:35:20.038Z"
   },
   {
    "duration": 9,
    "start_time": "2022-10-03T15:35:53.282Z"
   },
   {
    "duration": 3,
    "start_time": "2022-10-03T15:36:40.586Z"
   },
   {
    "duration": 77,
    "start_time": "2022-10-03T15:38:06.212Z"
   },
   {
    "duration": 122,
    "start_time": "2022-10-03T15:46:19.298Z"
   },
   {
    "duration": 257,
    "start_time": "2022-10-03T15:49:22.177Z"
   },
   {
    "duration": 163,
    "start_time": "2022-10-03T15:50:46.297Z"
   },
   {
    "duration": 311,
    "start_time": "2022-10-03T15:52:10.618Z"
   },
   {
    "duration": 337,
    "start_time": "2022-10-03T15:52:48.477Z"
   },
   {
    "duration": 396,
    "start_time": "2022-10-03T15:53:24.232Z"
   },
   {
    "duration": 408,
    "start_time": "2022-10-03T15:55:41.758Z"
   },
   {
    "duration": 328,
    "start_time": "2022-10-03T15:56:57.084Z"
   },
   {
    "duration": 118,
    "start_time": "2022-10-03T15:57:10.432Z"
   },
   {
    "duration": 344,
    "start_time": "2022-10-03T15:57:13.315Z"
   },
   {
    "duration": 9640,
    "start_time": "2022-10-03T15:57:24.281Z"
   },
   {
    "duration": 321,
    "start_time": "2022-10-03T15:57:52.437Z"
   },
   {
    "duration": 484,
    "start_time": "2022-10-03T16:01:14.251Z"
   },
   {
    "duration": 340,
    "start_time": "2022-10-03T16:03:14.156Z"
   },
   {
    "duration": 480,
    "start_time": "2022-10-03T16:04:01.766Z"
   },
   {
    "duration": 305,
    "start_time": "2022-10-03T16:04:11.795Z"
   },
   {
    "duration": 322,
    "start_time": "2022-10-03T16:04:47.115Z"
   },
   {
    "duration": 307,
    "start_time": "2022-10-03T16:05:07.652Z"
   },
   {
    "duration": 412,
    "start_time": "2022-10-03T16:05:29.272Z"
   },
   {
    "duration": 78,
    "start_time": "2022-10-03T16:08:59.290Z"
   },
   {
    "duration": 325,
    "start_time": "2022-10-03T16:09:06.719Z"
   },
   {
    "duration": 372,
    "start_time": "2022-10-03T16:09:18.972Z"
   },
   {
    "duration": 317,
    "start_time": "2022-10-03T16:10:15.706Z"
   },
   {
    "duration": 348,
    "start_time": "2022-10-03T16:11:01.156Z"
   },
   {
    "duration": 307,
    "start_time": "2022-10-03T16:11:09.735Z"
   },
   {
    "duration": 9975,
    "start_time": "2022-10-03T16:13:20.625Z"
   },
   {
    "duration": 359,
    "start_time": "2022-10-03T16:13:36.899Z"
   },
   {
    "duration": 5,
    "start_time": "2022-10-03T16:56:18.796Z"
   },
   {
    "duration": 9,
    "start_time": "2022-10-03T16:56:18.803Z"
   },
   {
    "duration": 204,
    "start_time": "2022-10-03T16:56:18.827Z"
   },
   {
    "duration": 61,
    "start_time": "2022-10-03T16:56:19.033Z"
   },
   {
    "duration": 4,
    "start_time": "2022-10-03T16:56:19.096Z"
   },
   {
    "duration": 88,
    "start_time": "2022-10-03T16:56:19.103Z"
   },
   {
    "duration": 24,
    "start_time": "2022-10-03T16:56:19.194Z"
   },
   {
    "duration": 125,
    "start_time": "2022-10-03T16:56:19.220Z"
   },
   {
    "duration": 27,
    "start_time": "2022-10-03T16:56:19.347Z"
   },
   {
    "duration": 73,
    "start_time": "2022-10-03T16:56:19.376Z"
   },
   {
    "duration": 27,
    "start_time": "2022-10-03T16:56:19.451Z"
   },
   {
    "duration": 282,
    "start_time": "2022-10-03T16:56:19.480Z"
   },
   {
    "duration": 131,
    "start_time": "2022-10-03T16:56:19.764Z"
   },
   {
    "duration": 233,
    "start_time": "2022-10-03T16:56:19.900Z"
   },
   {
    "duration": 145,
    "start_time": "2022-10-03T16:56:20.135Z"
   },
   {
    "duration": 278,
    "start_time": "2022-10-03T16:56:20.283Z"
   },
   {
    "duration": 141,
    "start_time": "2022-10-03T16:56:20.563Z"
   },
   {
    "duration": 33,
    "start_time": "2022-10-03T16:56:20.706Z"
   },
   {
    "duration": 283,
    "start_time": "2022-10-03T16:56:20.741Z"
   },
   {
    "duration": 278,
    "start_time": "2022-10-03T16:56:21.025Z"
   },
   {
    "duration": 51594,
    "start_time": "2022-10-03T16:56:21.304Z"
   },
   {
    "duration": 22,
    "start_time": "2022-10-03T16:57:12.899Z"
   },
   {
    "duration": 128,
    "start_time": "2022-10-03T16:57:12.923Z"
   },
   {
    "duration": 331,
    "start_time": "2022-10-03T16:57:13.053Z"
   },
   {
    "duration": 268,
    "start_time": "2022-10-03T16:58:28.857Z"
   },
   {
    "duration": 36,
    "start_time": "2022-10-03T17:00:19.319Z"
   },
   {
    "duration": 5,
    "start_time": "2022-10-03T17:03:39.814Z"
   },
   {
    "duration": 24,
    "start_time": "2022-10-03T17:04:07.515Z"
   },
   {
    "duration": 337,
    "start_time": "2022-10-03T17:04:44.011Z"
   },
   {
    "duration": 322,
    "start_time": "2022-10-03T17:05:33.788Z"
   },
   {
    "duration": 478,
    "start_time": "2022-10-03T17:05:54.348Z"
   },
   {
    "duration": 60,
    "start_time": "2022-10-03T17:23:21.704Z"
   },
   {
    "duration": 78,
    "start_time": "2022-10-03T17:23:30.417Z"
   },
   {
    "duration": 22,
    "start_time": "2022-10-03T17:23:42.814Z"
   },
   {
    "duration": 26,
    "start_time": "2022-10-03T17:24:00.427Z"
   },
   {
    "duration": 9,
    "start_time": "2022-10-03T17:25:19.071Z"
   },
   {
    "duration": 29,
    "start_time": "2022-10-03T17:25:26.937Z"
   },
   {
    "duration": 23,
    "start_time": "2022-10-03T17:26:53.922Z"
   },
   {
    "duration": 19,
    "start_time": "2022-10-03T17:28:51.818Z"
   },
   {
    "duration": 25,
    "start_time": "2022-10-03T17:29:08.760Z"
   },
   {
    "duration": 28,
    "start_time": "2022-10-03T17:30:54.153Z"
   },
   {
    "duration": 698,
    "start_time": "2022-10-03T17:31:59.236Z"
   },
   {
    "duration": 26,
    "start_time": "2022-10-03T17:32:06.778Z"
   },
   {
    "duration": 31,
    "start_time": "2022-10-03T17:33:04.481Z"
   },
   {
    "duration": 23,
    "start_time": "2022-10-03T17:36:06.511Z"
   },
   {
    "duration": 13,
    "start_time": "2022-10-03T17:48:12.080Z"
   },
   {
    "duration": 23,
    "start_time": "2022-10-03T17:50:44.050Z"
   },
   {
    "duration": 23,
    "start_time": "2022-10-03T17:52:37.000Z"
   },
   {
    "duration": 22,
    "start_time": "2022-10-03T17:53:15.280Z"
   },
   {
    "duration": 19,
    "start_time": "2022-10-03T18:01:09.306Z"
   },
   {
    "duration": 20,
    "start_time": "2022-10-03T18:02:51.649Z"
   },
   {
    "duration": 26,
    "start_time": "2022-10-03T18:17:55.724Z"
   },
   {
    "duration": 24,
    "start_time": "2022-10-03T18:19:17.828Z"
   },
   {
    "duration": 26,
    "start_time": "2022-10-03T18:23:02.013Z"
   },
   {
    "duration": 27,
    "start_time": "2022-10-03T18:23:54.538Z"
   },
   {
    "duration": 20,
    "start_time": "2022-10-03T18:24:40.236Z"
   },
   {
    "duration": 11,
    "start_time": "2022-10-03T18:28:33.697Z"
   },
   {
    "duration": 17,
    "start_time": "2022-10-03T18:29:00.820Z"
   },
   {
    "duration": 16,
    "start_time": "2022-10-03T18:30:12.302Z"
   },
   {
    "duration": 17,
    "start_time": "2022-10-03T18:31:40.269Z"
   },
   {
    "duration": 17,
    "start_time": "2022-10-03T18:32:04.757Z"
   },
   {
    "duration": 17,
    "start_time": "2022-10-03T18:32:14.725Z"
   },
   {
    "duration": 17,
    "start_time": "2022-10-03T18:32:30.580Z"
   },
   {
    "duration": 1413,
    "start_time": "2022-10-04T03:20:33.552Z"
   },
   {
    "duration": 4,
    "start_time": "2022-10-04T03:20:34.967Z"
   },
   {
    "duration": 282,
    "start_time": "2022-10-04T03:20:34.976Z"
   },
   {
    "duration": 97,
    "start_time": "2022-10-04T03:20:35.261Z"
   },
   {
    "duration": 4,
    "start_time": "2022-10-04T03:20:35.360Z"
   },
   {
    "duration": 56,
    "start_time": "2022-10-04T03:20:35.365Z"
   },
   {
    "duration": 24,
    "start_time": "2022-10-04T03:20:35.423Z"
   },
   {
    "duration": 90,
    "start_time": "2022-10-04T03:20:35.448Z"
   },
   {
    "duration": 37,
    "start_time": "2022-10-04T03:20:35.540Z"
   },
   {
    "duration": 44,
    "start_time": "2022-10-04T03:20:35.580Z"
   },
   {
    "duration": 12,
    "start_time": "2022-10-04T03:20:35.626Z"
   },
   {
    "duration": 237,
    "start_time": "2022-10-04T03:20:35.640Z"
   },
   {
    "duration": 138,
    "start_time": "2022-10-04T03:20:35.879Z"
   },
   {
    "duration": 240,
    "start_time": "2022-10-04T03:20:36.018Z"
   },
   {
    "duration": 142,
    "start_time": "2022-10-04T03:20:36.260Z"
   },
   {
    "duration": 239,
    "start_time": "2022-10-04T03:20:36.404Z"
   },
   {
    "duration": 124,
    "start_time": "2022-10-04T03:20:36.645Z"
   },
   {
    "duration": 32,
    "start_time": "2022-10-04T03:20:36.771Z"
   },
   {
    "duration": 167,
    "start_time": "2022-10-04T03:20:36.804Z"
   },
   {
    "duration": 305,
    "start_time": "2022-10-04T03:20:36.976Z"
   },
   {
    "duration": 53427,
    "start_time": "2022-10-04T03:20:37.282Z"
   },
   {
    "duration": 25,
    "start_time": "2022-10-04T03:21:30.713Z"
   },
   {
    "duration": 161,
    "start_time": "2022-10-04T03:21:30.740Z"
   },
   {
    "duration": 374,
    "start_time": "2022-10-04T03:21:30.903Z"
   },
   {
    "duration": 39,
    "start_time": "2022-10-04T03:21:31.279Z"
   },
   {
    "duration": 20,
    "start_time": "2022-10-04T03:21:31.320Z"
   },
   {
    "duration": 59,
    "start_time": "2022-10-04T03:21:31.342Z"
   },
   {
    "duration": 122,
    "start_time": "2022-10-04T03:21:31.404Z"
   },
   {
    "duration": 12,
    "start_time": "2022-10-04T03:24:10.829Z"
   },
   {
    "duration": 18,
    "start_time": "2022-10-04T03:24:18.895Z"
   },
   {
    "duration": 16,
    "start_time": "2022-10-04T03:25:57.611Z"
   },
   {
    "duration": 22,
    "start_time": "2022-10-04T03:26:24.872Z"
   },
   {
    "duration": 17,
    "start_time": "2022-10-04T03:32:29.747Z"
   },
   {
    "duration": 18,
    "start_time": "2022-10-04T03:32:57.885Z"
   },
   {
    "duration": 25,
    "start_time": "2022-10-04T03:37:56.384Z"
   },
   {
    "duration": 4,
    "start_time": "2022-10-04T03:42:43.874Z"
   },
   {
    "duration": 9,
    "start_time": "2022-10-04T03:47:30.778Z"
   },
   {
    "duration": 6,
    "start_time": "2022-10-04T03:48:41.831Z"
   },
   {
    "duration": 163,
    "start_time": "2022-10-04T03:51:55.889Z"
   },
   {
    "duration": 166,
    "start_time": "2022-10-04T03:52:09.685Z"
   },
   {
    "duration": 200,
    "start_time": "2022-10-04T03:59:09.188Z"
   },
   {
    "duration": 210,
    "start_time": "2022-10-04T03:59:22.443Z"
   },
   {
    "duration": 205,
    "start_time": "2022-10-04T04:00:03.445Z"
   },
   {
    "duration": 5,
    "start_time": "2022-10-04T04:00:08.080Z"
   },
   {
    "duration": 193,
    "start_time": "2022-10-04T04:00:37.734Z"
   },
   {
    "duration": 4,
    "start_time": "2022-10-04T04:03:13.124Z"
   },
   {
    "duration": 5,
    "start_time": "2022-10-04T04:03:22.635Z"
   },
   {
    "duration": 4,
    "start_time": "2022-10-04T04:03:42.111Z"
   },
   {
    "duration": 4,
    "start_time": "2022-10-04T04:03:52.366Z"
   },
   {
    "duration": 182,
    "start_time": "2022-10-04T04:06:22.106Z"
   },
   {
    "duration": 173,
    "start_time": "2022-10-04T04:07:04.193Z"
   },
   {
    "duration": 11,
    "start_time": "2022-10-04T04:15:01.869Z"
   },
   {
    "duration": 7,
    "start_time": "2022-10-04T04:15:22.187Z"
   },
   {
    "duration": 4,
    "start_time": "2022-10-04T04:15:59.646Z"
   },
   {
    "duration": 4,
    "start_time": "2022-10-04T04:16:54.702Z"
   },
   {
    "duration": 4,
    "start_time": "2022-10-04T04:17:04.426Z"
   },
   {
    "duration": 3,
    "start_time": "2022-10-04T04:17:18.785Z"
   },
   {
    "duration": 2,
    "start_time": "2022-10-04T04:26:08.673Z"
   },
   {
    "duration": 4,
    "start_time": "2022-10-04T04:29:22.099Z"
   },
   {
    "duration": 4,
    "start_time": "2022-10-04T04:29:56.375Z"
   },
   {
    "duration": 50,
    "start_time": "2022-10-04T05:44:18.984Z"
   },
   {
    "duration": 51,
    "start_time": "2022-10-04T05:44:30.081Z"
   },
   {
    "duration": 86,
    "start_time": "2022-10-04T05:44:34.311Z"
   },
   {
    "duration": 10,
    "start_time": "2022-10-04T05:44:44.704Z"
   },
   {
    "duration": 5,
    "start_time": "2022-10-04T05:46:28.729Z"
   },
   {
    "duration": 10,
    "start_time": "2022-10-04T05:54:46.563Z"
   },
   {
    "duration": 5,
    "start_time": "2022-10-04T05:56:27.944Z"
   },
   {
    "duration": 258,
    "start_time": "2022-10-04T06:00:54.175Z"
   },
   {
    "duration": 188,
    "start_time": "2022-10-04T06:01:11.961Z"
   },
   {
    "duration": 220,
    "start_time": "2022-10-04T06:02:03.068Z"
   },
   {
    "duration": 24,
    "start_time": "2022-10-04T06:02:12.281Z"
   },
   {
    "duration": 203,
    "start_time": "2022-10-04T06:03:00.386Z"
   },
   {
    "duration": 192,
    "start_time": "2022-10-04T06:04:38.931Z"
   },
   {
    "duration": 5,
    "start_time": "2022-10-04T06:05:24.946Z"
   },
   {
    "duration": 4,
    "start_time": "2022-10-04T06:05:58.148Z"
   },
   {
    "duration": 5,
    "start_time": "2022-10-04T06:06:14.952Z"
   },
   {
    "duration": 4,
    "start_time": "2022-10-04T06:06:26.520Z"
   },
   {
    "duration": 36,
    "start_time": "2022-10-04T06:17:45.982Z"
   },
   {
    "duration": 25,
    "start_time": "2022-10-04T06:18:34.376Z"
   },
   {
    "duration": 23,
    "start_time": "2022-10-04T06:18:45.854Z"
   },
   {
    "duration": 182,
    "start_time": "2022-10-04T06:19:00.251Z"
   },
   {
    "duration": 167,
    "start_time": "2022-10-04T06:19:13.900Z"
   },
   {
    "duration": 167,
    "start_time": "2022-10-04T06:19:33.195Z"
   },
   {
    "duration": 4,
    "start_time": "2022-10-04T06:19:57.281Z"
   },
   {
    "duration": 10,
    "start_time": "2022-10-04T06:20:14.123Z"
   },
   {
    "duration": 24,
    "start_time": "2022-10-04T06:22:59.245Z"
   },
   {
    "duration": 31,
    "start_time": "2022-10-04T06:23:31.623Z"
   },
   {
    "duration": 4,
    "start_time": "2022-10-04T06:30:18.135Z"
   },
   {
    "duration": 1538,
    "start_time": "2022-10-04T10:12:16.597Z"
   },
   {
    "duration": 5,
    "start_time": "2022-10-04T10:12:18.137Z"
   },
   {
    "duration": 828,
    "start_time": "2022-10-04T10:12:18.143Z"
   },
   {
    "duration": 96,
    "start_time": "2022-10-04T10:12:18.974Z"
   },
   {
    "duration": 5,
    "start_time": "2022-10-04T10:12:19.072Z"
   },
   {
    "duration": 49,
    "start_time": "2022-10-04T10:12:19.078Z"
   },
   {
    "duration": 27,
    "start_time": "2022-10-04T10:12:19.129Z"
   },
   {
    "duration": 156,
    "start_time": "2022-10-04T10:12:19.158Z"
   },
   {
    "duration": 35,
    "start_time": "2022-10-04T10:12:19.317Z"
   },
   {
    "duration": 92,
    "start_time": "2022-10-04T10:12:19.355Z"
   },
   {
    "duration": 41,
    "start_time": "2022-10-04T10:12:19.450Z"
   },
   {
    "duration": 277,
    "start_time": "2022-10-04T10:12:19.493Z"
   },
   {
    "duration": 157,
    "start_time": "2022-10-04T10:12:19.772Z"
   },
   {
    "duration": 269,
    "start_time": "2022-10-04T10:12:19.931Z"
   },
   {
    "duration": 164,
    "start_time": "2022-10-04T10:12:20.202Z"
   },
   {
    "duration": 303,
    "start_time": "2022-10-04T10:12:20.368Z"
   },
   {
    "duration": 158,
    "start_time": "2022-10-04T10:12:20.673Z"
   },
   {
    "duration": 34,
    "start_time": "2022-10-04T10:12:20.833Z"
   },
   {
    "duration": 193,
    "start_time": "2022-10-04T10:12:20.868Z"
   },
   {
    "duration": 331,
    "start_time": "2022-10-04T10:12:21.063Z"
   },
   {
    "duration": 56889,
    "start_time": "2022-10-04T10:12:21.396Z"
   },
   {
    "duration": 33,
    "start_time": "2022-10-04T10:13:18.289Z"
   },
   {
    "duration": 167,
    "start_time": "2022-10-04T10:13:18.324Z"
   },
   {
    "duration": 379,
    "start_time": "2022-10-04T10:13:18.493Z"
   },
   {
    "duration": 39,
    "start_time": "2022-10-04T10:13:18.874Z"
   },
   {
    "duration": 38,
    "start_time": "2022-10-04T10:13:18.915Z"
   },
   {
    "duration": 49,
    "start_time": "2022-10-04T10:13:18.955Z"
   },
   {
    "duration": 221,
    "start_time": "2022-10-04T10:13:19.008Z"
   },
   {
    "duration": 200,
    "start_time": "2022-10-04T10:13:19.231Z"
   },
   {
    "duration": 5,
    "start_time": "2022-10-04T10:13:19.433Z"
   },
   {
    "duration": 8,
    "start_time": "2022-10-04T10:13:19.440Z"
   },
   {
    "duration": 6,
    "start_time": "2022-10-04T10:13:19.450Z"
   },
   {
    "duration": 38,
    "start_time": "2022-10-04T10:13:19.457Z"
   },
   {
    "duration": 10,
    "start_time": "2022-10-04T10:13:19.497Z"
   },
   {
    "duration": 195,
    "start_time": "2022-10-04T10:16:33.428Z"
   },
   {
    "duration": 13,
    "start_time": "2022-10-04T10:18:04.340Z"
   },
   {
    "duration": 15,
    "start_time": "2022-10-04T10:18:58.101Z"
   },
   {
    "duration": 132,
    "start_time": "2022-10-04T10:25:36.598Z"
   },
   {
    "duration": 114,
    "start_time": "2022-10-04T10:27:40.944Z"
   },
   {
    "duration": 111,
    "start_time": "2022-10-04T10:34:18.056Z"
   },
   {
    "duration": 17,
    "start_time": "2022-10-04T10:34:33.197Z"
   },
   {
    "duration": 16,
    "start_time": "2022-10-04T10:34:43.964Z"
   },
   {
    "duration": 17,
    "start_time": "2022-10-04T10:34:55.432Z"
   },
   {
    "duration": 1349,
    "start_time": "2022-10-04T10:35:45.829Z"
   },
   {
    "duration": 15,
    "start_time": "2022-10-04T10:38:23.733Z"
   },
   {
    "duration": 445,
    "start_time": "2022-10-04T10:39:16.144Z"
   },
   {
    "duration": 22,
    "start_time": "2022-10-04T10:40:32.066Z"
   },
   {
    "duration": 29,
    "start_time": "2022-10-04T10:40:51.348Z"
   },
   {
    "duration": 374,
    "start_time": "2022-10-04T10:41:07.558Z"
   },
   {
    "duration": 327,
    "start_time": "2022-10-04T10:41:26.023Z"
   },
   {
    "duration": 26,
    "start_time": "2022-10-04T10:42:07.299Z"
   },
   {
    "duration": 15,
    "start_time": "2022-10-04T10:44:12.276Z"
   },
   {
    "duration": 340,
    "start_time": "2022-10-04T10:44:29.750Z"
   },
   {
    "duration": 18,
    "start_time": "2022-10-04T10:44:50.192Z"
   },
   {
    "duration": 17,
    "start_time": "2022-10-04T10:46:07.914Z"
   },
   {
    "duration": 21,
    "start_time": "2022-10-04T10:46:11.100Z"
   },
   {
    "duration": 18,
    "start_time": "2022-10-04T10:47:34.718Z"
   },
   {
    "duration": 30,
    "start_time": "2022-10-04T10:47:58.188Z"
   },
   {
    "duration": 20,
    "start_time": "2022-10-04T10:48:16.824Z"
   },
   {
    "duration": 107,
    "start_time": "2022-10-04T10:50:36.024Z"
   },
   {
    "duration": 88,
    "start_time": "2022-10-04T10:51:30.550Z"
   },
   {
    "duration": 3,
    "start_time": "2022-10-04T10:52:07.651Z"
   },
   {
    "duration": 8,
    "start_time": "2022-10-04T10:52:07.657Z"
   },
   {
    "duration": 196,
    "start_time": "2022-10-04T10:52:07.667Z"
   },
   {
    "duration": 57,
    "start_time": "2022-10-04T10:52:07.865Z"
   },
   {
    "duration": 4,
    "start_time": "2022-10-04T10:52:07.925Z"
   },
   {
    "duration": 70,
    "start_time": "2022-10-04T10:52:07.931Z"
   },
   {
    "duration": 25,
    "start_time": "2022-10-04T10:52:08.003Z"
   },
   {
    "duration": 120,
    "start_time": "2022-10-04T10:52:08.030Z"
   },
   {
    "duration": 51,
    "start_time": "2022-10-04T10:52:08.151Z"
   },
   {
    "duration": 55,
    "start_time": "2022-10-04T10:52:08.205Z"
   },
   {
    "duration": 50,
    "start_time": "2022-10-04T10:52:08.262Z"
   },
   {
    "duration": 297,
    "start_time": "2022-10-04T10:52:08.314Z"
   },
   {
    "duration": 167,
    "start_time": "2022-10-04T10:52:08.614Z"
   },
   {
    "duration": 278,
    "start_time": "2022-10-04T10:52:08.789Z"
   },
   {
    "duration": 245,
    "start_time": "2022-10-04T10:52:09.069Z"
   },
   {
    "duration": 299,
    "start_time": "2022-10-04T10:52:09.316Z"
   },
   {
    "duration": 157,
    "start_time": "2022-10-04T10:52:09.617Z"
   },
   {
    "duration": 41,
    "start_time": "2022-10-04T10:52:09.776Z"
   },
   {
    "duration": 215,
    "start_time": "2022-10-04T10:52:09.819Z"
   },
   {
    "duration": 335,
    "start_time": "2022-10-04T10:52:10.036Z"
   },
   {
    "duration": 58469,
    "start_time": "2022-10-04T10:52:10.373Z"
   },
   {
    "duration": 32,
    "start_time": "2022-10-04T10:53:08.844Z"
   },
   {
    "duration": 157,
    "start_time": "2022-10-04T10:53:08.890Z"
   },
   {
    "duration": 405,
    "start_time": "2022-10-04T10:53:09.050Z"
   },
   {
    "duration": 40,
    "start_time": "2022-10-04T10:53:09.457Z"
   },
   {
    "duration": 36,
    "start_time": "2022-10-04T10:53:09.498Z"
   },
   {
    "duration": 118,
    "start_time": "2022-10-04T10:53:09.536Z"
   },
   {
    "duration": 220,
    "start_time": "2022-10-04T10:53:09.656Z"
   },
   {
    "duration": 206,
    "start_time": "2022-10-04T10:53:09.878Z"
   },
   {
    "duration": 7,
    "start_time": "2022-10-04T10:53:10.085Z"
   },
   {
    "duration": 52,
    "start_time": "2022-10-04T10:53:10.094Z"
   },
   {
    "duration": 67,
    "start_time": "2022-10-04T10:53:10.148Z"
   },
   {
    "duration": 254,
    "start_time": "2022-10-04T10:53:10.217Z"
   },
   {
    "duration": 17,
    "start_time": "2022-10-04T10:54:53.170Z"
   },
   {
    "duration": 1433,
    "start_time": "2022-10-04T10:56:22.992Z"
   },
   {
    "duration": 16,
    "start_time": "2022-10-04T10:56:37.880Z"
   },
   {
    "duration": 15,
    "start_time": "2022-10-04T10:57:14.647Z"
   },
   {
    "duration": 17,
    "start_time": "2022-10-04T10:58:13.029Z"
   },
   {
    "duration": 109,
    "start_time": "2022-10-04T11:00:27.729Z"
   },
   {
    "duration": 84,
    "start_time": "2022-10-04T11:00:32.798Z"
   },
   {
    "duration": 80,
    "start_time": "2022-10-04T11:00:41.261Z"
   },
   {
    "duration": 82,
    "start_time": "2022-10-04T11:00:47.628Z"
   },
   {
    "duration": 180,
    "start_time": "2022-10-04T11:01:46.797Z"
   },
   {
    "duration": 4,
    "start_time": "2022-10-04T11:02:01.632Z"
   },
   {
    "duration": 17,
    "start_time": "2022-10-04T11:02:01.641Z"
   },
   {
    "duration": 241,
    "start_time": "2022-10-04T11:02:01.660Z"
   },
   {
    "duration": 75,
    "start_time": "2022-10-04T11:02:01.904Z"
   },
   {
    "duration": 8,
    "start_time": "2022-10-04T11:02:01.981Z"
   },
   {
    "duration": 54,
    "start_time": "2022-10-04T11:02:01.991Z"
   },
   {
    "duration": 42,
    "start_time": "2022-10-04T11:02:02.047Z"
   },
   {
    "duration": 140,
    "start_time": "2022-10-04T11:02:02.091Z"
   },
   {
    "duration": 29,
    "start_time": "2022-10-04T11:02:02.233Z"
   },
   {
    "duration": 68,
    "start_time": "2022-10-04T11:02:02.263Z"
   },
   {
    "duration": 18,
    "start_time": "2022-10-04T11:02:02.332Z"
   },
   {
    "duration": 273,
    "start_time": "2022-10-04T11:02:02.353Z"
   },
   {
    "duration": 154,
    "start_time": "2022-10-04T11:02:02.628Z"
   },
   {
    "duration": 257,
    "start_time": "2022-10-04T11:02:02.789Z"
   },
   {
    "duration": 159,
    "start_time": "2022-10-04T11:02:03.048Z"
   },
   {
    "duration": 270,
    "start_time": "2022-10-04T11:02:03.209Z"
   },
   {
    "duration": 143,
    "start_time": "2022-10-04T11:02:03.481Z"
   },
   {
    "duration": 36,
    "start_time": "2022-10-04T11:02:03.626Z"
   },
   {
    "duration": 203,
    "start_time": "2022-10-04T11:02:03.664Z"
   },
   {
    "duration": 314,
    "start_time": "2022-10-04T11:02:03.869Z"
   },
   {
    "duration": 58559,
    "start_time": "2022-10-04T11:02:04.185Z"
   },
   {
    "duration": 4,
    "start_time": "2022-10-04T11:03:03.637Z"
   },
   {
    "duration": 7,
    "start_time": "2022-10-04T11:03:03.643Z"
   },
   {
    "duration": 197,
    "start_time": "2022-10-04T11:03:03.652Z"
   },
   {
    "duration": 58,
    "start_time": "2022-10-04T11:03:03.851Z"
   },
   {
    "duration": 3,
    "start_time": "2022-10-04T11:03:03.911Z"
   },
   {
    "duration": 42,
    "start_time": "2022-10-04T11:03:03.916Z"
   },
   {
    "duration": 48,
    "start_time": "2022-10-04T11:03:03.960Z"
   },
   {
    "duration": 120,
    "start_time": "2022-10-04T11:03:04.010Z"
   },
   {
    "duration": 30,
    "start_time": "2022-10-04T11:03:04.132Z"
   },
   {
    "duration": 67,
    "start_time": "2022-10-04T11:03:04.163Z"
   },
   {
    "duration": 18,
    "start_time": "2022-10-04T11:03:04.231Z"
   },
   {
    "duration": 273,
    "start_time": "2022-10-04T11:03:04.251Z"
   },
   {
    "duration": 156,
    "start_time": "2022-10-04T11:03:04.526Z"
   },
   {
    "duration": 262,
    "start_time": "2022-10-04T11:03:04.684Z"
   },
   {
    "duration": 164,
    "start_time": "2022-10-04T11:03:04.948Z"
   },
   {
    "duration": 280,
    "start_time": "2022-10-04T11:03:05.114Z"
   },
   {
    "duration": 143,
    "start_time": "2022-10-04T11:03:05.395Z"
   },
   {
    "duration": 35,
    "start_time": "2022-10-04T11:03:05.540Z"
   },
   {
    "duration": 183,
    "start_time": "2022-10-04T11:03:05.577Z"
   },
   {
    "duration": 345,
    "start_time": "2022-10-04T11:03:05.762Z"
   },
   {
    "duration": 58983,
    "start_time": "2022-10-04T11:03:06.108Z"
   },
   {
    "duration": 29,
    "start_time": "2022-10-04T11:04:05.093Z"
   },
   {
    "duration": 168,
    "start_time": "2022-10-04T11:04:05.124Z"
   },
   {
    "duration": 403,
    "start_time": "2022-10-04T11:04:05.294Z"
   },
   {
    "duration": 30,
    "start_time": "2022-10-04T11:04:05.699Z"
   },
   {
    "duration": 59,
    "start_time": "2022-10-04T11:04:05.731Z"
   },
   {
    "duration": 79,
    "start_time": "2022-10-04T11:04:05.792Z"
   },
   {
    "duration": 215,
    "start_time": "2022-10-04T11:04:05.890Z"
   },
   {
    "duration": 194,
    "start_time": "2022-10-04T11:04:06.111Z"
   },
   {
    "duration": 5,
    "start_time": "2022-10-04T11:04:06.307Z"
   },
   {
    "duration": 1593,
    "start_time": "2022-10-04T11:04:06.314Z"
   },
   {
    "duration": 0,
    "start_time": "2022-10-04T11:04:07.908Z"
   },
   {
    "duration": 0,
    "start_time": "2022-10-04T11:04:07.910Z"
   },
   {
    "duration": 0,
    "start_time": "2022-10-04T11:04:07.912Z"
   },
   {
    "duration": 83,
    "start_time": "2022-10-04T11:11:02.430Z"
   },
   {
    "duration": 81,
    "start_time": "2022-10-04T11:11:18.666Z"
   },
   {
    "duration": 84,
    "start_time": "2022-10-04T11:12:09.327Z"
   },
   {
    "duration": 72,
    "start_time": "2022-10-04T11:12:59.005Z"
   },
   {
    "duration": 108,
    "start_time": "2022-10-04T11:14:31.957Z"
   },
   {
    "duration": 1379,
    "start_time": "2022-10-04T11:15:06.593Z"
   },
   {
    "duration": 4,
    "start_time": "2022-10-04T11:15:07.974Z"
   },
   {
    "duration": 214,
    "start_time": "2022-10-04T11:15:07.980Z"
   },
   {
    "duration": 58,
    "start_time": "2022-10-04T11:15:08.196Z"
   },
   {
    "duration": 3,
    "start_time": "2022-10-04T11:15:08.256Z"
   },
   {
    "duration": 53,
    "start_time": "2022-10-04T11:15:08.261Z"
   },
   {
    "duration": 26,
    "start_time": "2022-10-04T11:15:08.316Z"
   },
   {
    "duration": 112,
    "start_time": "2022-10-04T11:15:08.344Z"
   },
   {
    "duration": 43,
    "start_time": "2022-10-04T11:15:08.458Z"
   },
   {
    "duration": 55,
    "start_time": "2022-10-04T11:15:08.503Z"
   },
   {
    "duration": 36,
    "start_time": "2022-10-04T11:15:08.560Z"
   },
   {
    "duration": 253,
    "start_time": "2022-10-04T11:15:08.598Z"
   },
   {
    "duration": 165,
    "start_time": "2022-10-04T11:15:08.852Z"
   },
   {
    "duration": 265,
    "start_time": "2022-10-04T11:15:09.019Z"
   },
   {
    "duration": 158,
    "start_time": "2022-10-04T11:15:09.289Z"
   },
   {
    "duration": 285,
    "start_time": "2022-10-04T11:15:09.449Z"
   },
   {
    "duration": 155,
    "start_time": "2022-10-04T11:15:09.736Z"
   },
   {
    "duration": 34,
    "start_time": "2022-10-04T11:15:09.893Z"
   },
   {
    "duration": 189,
    "start_time": "2022-10-04T11:15:09.929Z"
   },
   {
    "duration": 323,
    "start_time": "2022-10-04T11:15:10.121Z"
   },
   {
    "duration": 57252,
    "start_time": "2022-10-04T11:15:10.446Z"
   },
   {
    "duration": 41,
    "start_time": "2022-10-04T11:16:07.700Z"
   },
   {
    "duration": 170,
    "start_time": "2022-10-04T11:16:07.743Z"
   },
   {
    "duration": 410,
    "start_time": "2022-10-04T11:16:07.915Z"
   },
   {
    "duration": 31,
    "start_time": "2022-10-04T11:16:08.327Z"
   },
   {
    "duration": 54,
    "start_time": "2022-10-04T11:16:08.361Z"
   },
   {
    "duration": 96,
    "start_time": "2022-10-04T11:16:08.417Z"
   },
   {
    "duration": 230,
    "start_time": "2022-10-04T11:16:08.517Z"
   },
   {
    "duration": 202,
    "start_time": "2022-10-04T11:16:08.749Z"
   },
   {
    "duration": 5,
    "start_time": "2022-10-04T11:16:08.954Z"
   },
   {
    "duration": 15,
    "start_time": "2022-10-04T11:16:08.961Z"
   },
   {
    "duration": 7,
    "start_time": "2022-10-04T11:16:08.990Z"
   },
   {
    "duration": 198,
    "start_time": "2022-10-04T11:16:08.999Z"
   },
   {
    "duration": 15,
    "start_time": "2022-10-04T11:16:09.198Z"
   },
   {
    "duration": 76,
    "start_time": "2022-10-04T11:18:30.615Z"
   },
   {
    "duration": 189,
    "start_time": "2022-10-04T11:18:42.420Z"
   },
   {
    "duration": 194,
    "start_time": "2022-10-04T11:19:13.854Z"
   },
   {
    "duration": 4,
    "start_time": "2022-10-04T11:19:22.848Z"
   },
   {
    "duration": 4,
    "start_time": "2022-10-04T11:19:27.677Z"
   },
   {
    "duration": 189,
    "start_time": "2022-10-04T11:19:55.369Z"
   },
   {
    "duration": 17,
    "start_time": "2022-10-04T11:20:04.638Z"
   },
   {
    "duration": 15,
    "start_time": "2022-10-04T11:20:27.085Z"
   },
   {
    "duration": 17,
    "start_time": "2022-10-04T11:20:44.461Z"
   },
   {
    "duration": 4,
    "start_time": "2022-10-04T11:23:12.453Z"
   },
   {
    "duration": 13,
    "start_time": "2022-10-04T11:23:56.953Z"
   },
   {
    "duration": 185,
    "start_time": "2022-10-04T11:24:25.665Z"
   },
   {
    "duration": 34,
    "start_time": "2022-10-04T11:27:04.166Z"
   },
   {
    "duration": 9,
    "start_time": "2022-10-04T11:35:23.766Z"
   },
   {
    "duration": 10,
    "start_time": "2022-10-04T11:35:28.880Z"
   },
   {
    "duration": 263,
    "start_time": "2022-10-04T11:36:23.574Z"
   },
   {
    "duration": 12,
    "start_time": "2022-10-04T11:50:05.242Z"
   },
   {
    "duration": 9,
    "start_time": "2022-10-04T11:50:14.483Z"
   },
   {
    "duration": 7,
    "start_time": "2022-10-04T11:50:33.505Z"
   },
   {
    "duration": 14,
    "start_time": "2022-10-04T11:50:50.602Z"
   },
   {
    "duration": 16,
    "start_time": "2022-10-04T11:55:20.310Z"
   },
   {
    "duration": 178,
    "start_time": "2022-10-04T11:56:37.498Z"
   },
   {
    "duration": 113,
    "start_time": "2022-10-04T11:56:56.838Z"
   },
   {
    "duration": 4,
    "start_time": "2022-10-04T11:57:18.918Z"
   },
   {
    "duration": 9,
    "start_time": "2022-10-04T11:57:18.924Z"
   },
   {
    "duration": 202,
    "start_time": "2022-10-04T11:57:18.935Z"
   },
   {
    "duration": 57,
    "start_time": "2022-10-04T11:57:19.140Z"
   },
   {
    "duration": 3,
    "start_time": "2022-10-04T11:57:19.200Z"
   },
   {
    "duration": 50,
    "start_time": "2022-10-04T11:57:19.205Z"
   },
   {
    "duration": 39,
    "start_time": "2022-10-04T11:57:19.257Z"
   },
   {
    "duration": 133,
    "start_time": "2022-10-04T11:57:19.298Z"
   },
   {
    "duration": 30,
    "start_time": "2022-10-04T11:57:19.433Z"
   },
   {
    "duration": 72,
    "start_time": "2022-10-04T11:57:19.465Z"
   },
   {
    "duration": 18,
    "start_time": "2022-10-04T11:57:19.539Z"
   },
   {
    "duration": 273,
    "start_time": "2022-10-04T11:57:19.559Z"
   },
   {
    "duration": 162,
    "start_time": "2022-10-04T11:57:19.834Z"
   },
   {
    "duration": 261,
    "start_time": "2022-10-04T11:57:19.999Z"
   },
   {
    "duration": 164,
    "start_time": "2022-10-04T11:57:20.262Z"
   },
   {
    "duration": 269,
    "start_time": "2022-10-04T11:57:20.427Z"
   },
   {
    "duration": 154,
    "start_time": "2022-10-04T11:57:20.698Z"
   },
   {
    "duration": 36,
    "start_time": "2022-10-04T11:57:20.854Z"
   },
   {
    "duration": 182,
    "start_time": "2022-10-04T11:57:20.892Z"
   },
   {
    "duration": 309,
    "start_time": "2022-10-04T11:57:21.076Z"
   },
   {
    "duration": 57736,
    "start_time": "2022-10-04T11:57:21.388Z"
   },
   {
    "duration": 28,
    "start_time": "2022-10-04T11:58:19.125Z"
   },
   {
    "duration": 163,
    "start_time": "2022-10-04T11:58:19.155Z"
   },
   {
    "duration": 385,
    "start_time": "2022-10-04T11:58:19.320Z"
   },
   {
    "duration": 28,
    "start_time": "2022-10-04T11:58:19.707Z"
   },
   {
    "duration": 53,
    "start_time": "2022-10-04T11:58:19.737Z"
   },
   {
    "duration": 72,
    "start_time": "2022-10-04T11:58:19.792Z"
   },
   {
    "duration": 210,
    "start_time": "2022-10-04T11:58:19.866Z"
   },
   {
    "duration": 209,
    "start_time": "2022-10-04T11:58:20.077Z"
   },
   {
    "duration": 4,
    "start_time": "2022-10-04T11:58:20.289Z"
   },
   {
    "duration": 19,
    "start_time": "2022-10-04T11:58:20.295Z"
   },
   {
    "duration": 17,
    "start_time": "2022-10-04T11:58:20.317Z"
   },
   {
    "duration": 207,
    "start_time": "2022-10-04T11:58:20.336Z"
   },
   {
    "duration": 180,
    "start_time": "2022-10-04T11:58:20.545Z"
   },
   {
    "duration": 14,
    "start_time": "2022-10-04T11:58:41.513Z"
   },
   {
    "duration": 176,
    "start_time": "2022-10-04T11:59:01.579Z"
   },
   {
    "duration": 179,
    "start_time": "2022-10-04T11:59:10.471Z"
   },
   {
    "duration": 190,
    "start_time": "2022-10-04T11:59:57.379Z"
   },
   {
    "duration": 14,
    "start_time": "2022-10-04T12:00:23.768Z"
   },
   {
    "duration": 16,
    "start_time": "2022-10-04T12:00:28.657Z"
   },
   {
    "duration": 4,
    "start_time": "2022-10-04T12:01:12.240Z"
   },
   {
    "duration": 11,
    "start_time": "2022-10-04T12:01:12.248Z"
   },
   {
    "duration": 232,
    "start_time": "2022-10-04T12:01:12.263Z"
   },
   {
    "duration": 57,
    "start_time": "2022-10-04T12:01:12.497Z"
   },
   {
    "duration": 4,
    "start_time": "2022-10-04T12:01:12.556Z"
   },
   {
    "duration": 58,
    "start_time": "2022-10-04T12:01:12.562Z"
   },
   {
    "duration": 25,
    "start_time": "2022-10-04T12:01:12.622Z"
   },
   {
    "duration": 142,
    "start_time": "2022-10-04T12:01:12.649Z"
   },
   {
    "duration": 32,
    "start_time": "2022-10-04T12:01:12.793Z"
   },
   {
    "duration": 72,
    "start_time": "2022-10-04T12:01:12.827Z"
   },
   {
    "duration": 18,
    "start_time": "2022-10-04T12:01:12.901Z"
   },
   {
    "duration": 296,
    "start_time": "2022-10-04T12:01:12.922Z"
   },
   {
    "duration": 257,
    "start_time": "2022-10-04T12:01:13.220Z"
   },
   {
    "duration": 265,
    "start_time": "2022-10-04T12:01:13.479Z"
   },
   {
    "duration": 163,
    "start_time": "2022-10-04T12:01:13.746Z"
   },
   {
    "duration": 281,
    "start_time": "2022-10-04T12:01:13.911Z"
   },
   {
    "duration": 143,
    "start_time": "2022-10-04T12:01:14.194Z"
   },
   {
    "duration": 33,
    "start_time": "2022-10-04T12:01:14.339Z"
   },
   {
    "duration": 196,
    "start_time": "2022-10-04T12:01:14.374Z"
   },
   {
    "duration": 324,
    "start_time": "2022-10-04T12:01:14.572Z"
   },
   {
    "duration": 60033,
    "start_time": "2022-10-04T12:01:14.898Z"
   },
   {
    "duration": 31,
    "start_time": "2022-10-04T12:02:14.933Z"
   },
   {
    "duration": 156,
    "start_time": "2022-10-04T12:02:14.966Z"
   },
   {
    "duration": 390,
    "start_time": "2022-10-04T12:02:15.124Z"
   },
   {
    "duration": 28,
    "start_time": "2022-10-04T12:02:15.516Z"
   },
   {
    "duration": 55,
    "start_time": "2022-10-04T12:02:15.545Z"
   },
   {
    "duration": 72,
    "start_time": "2022-10-04T12:02:15.602Z"
   },
   {
    "duration": 307,
    "start_time": "2022-10-04T12:02:15.675Z"
   },
   {
    "duration": 197,
    "start_time": "2022-10-04T12:02:15.984Z"
   },
   {
    "duration": 5,
    "start_time": "2022-10-04T12:02:16.188Z"
   },
   {
    "duration": 24,
    "start_time": "2022-10-04T12:02:16.195Z"
   },
   {
    "duration": 21,
    "start_time": "2022-10-04T12:02:16.221Z"
   },
   {
    "duration": 185,
    "start_time": "2022-10-04T12:02:16.244Z"
   },
   {
    "duration": 182,
    "start_time": "2022-10-04T12:02:16.431Z"
   },
   {
    "duration": 1310,
    "start_time": "2022-10-04T12:02:16.615Z"
   },
   {
    "duration": 0,
    "start_time": "2022-10-04T12:02:17.927Z"
   },
   {
    "duration": 0,
    "start_time": "2022-10-04T12:02:17.928Z"
   },
   {
    "duration": 197,
    "start_time": "2022-10-04T12:03:03.393Z"
   },
   {
    "duration": 179,
    "start_time": "2022-10-04T12:03:15.972Z"
   },
   {
    "duration": 15,
    "start_time": "2022-10-04T12:03:16.153Z"
   },
   {
    "duration": 25,
    "start_time": "2022-10-04T12:03:16.169Z"
   },
   {
    "duration": 19,
    "start_time": "2022-10-04T12:05:09.870Z"
   },
   {
    "duration": 28,
    "start_time": "2022-10-04T12:05:25.669Z"
   },
   {
    "duration": 34,
    "start_time": "2022-10-04T12:11:19.404Z"
   },
   {
    "duration": 40,
    "start_time": "2022-10-04T12:11:38.726Z"
   },
   {
    "duration": 42,
    "start_time": "2022-10-04T12:11:54.591Z"
   },
   {
    "duration": 43,
    "start_time": "2022-10-04T12:14:19.373Z"
   },
   {
    "duration": 4,
    "start_time": "2022-10-04T12:15:06.084Z"
   },
   {
    "duration": 5,
    "start_time": "2022-10-04T12:15:06.093Z"
   },
   {
    "duration": 197,
    "start_time": "2022-10-04T12:15:06.113Z"
   },
   {
    "duration": 60,
    "start_time": "2022-10-04T12:15:06.313Z"
   },
   {
    "duration": 4,
    "start_time": "2022-10-04T12:15:06.375Z"
   },
   {
    "duration": 42,
    "start_time": "2022-10-04T12:15:06.390Z"
   },
   {
    "duration": 27,
    "start_time": "2022-10-04T12:15:06.434Z"
   },
   {
    "duration": 159,
    "start_time": "2022-10-04T12:15:06.463Z"
   },
   {
    "duration": 31,
    "start_time": "2022-10-04T12:15:06.624Z"
   },
   {
    "duration": 84,
    "start_time": "2022-10-04T12:15:06.657Z"
   },
   {
    "duration": 19,
    "start_time": "2022-10-04T12:15:06.744Z"
   },
   {
    "duration": 294,
    "start_time": "2022-10-04T12:15:06.766Z"
   },
   {
    "duration": 169,
    "start_time": "2022-10-04T12:15:07.061Z"
   },
   {
    "duration": 299,
    "start_time": "2022-10-04T12:15:07.233Z"
   },
   {
    "duration": 193,
    "start_time": "2022-10-04T12:15:07.534Z"
   },
   {
    "duration": 387,
    "start_time": "2022-10-04T12:15:07.730Z"
   },
   {
    "duration": 146,
    "start_time": "2022-10-04T12:15:08.120Z"
   },
   {
    "duration": 48,
    "start_time": "2022-10-04T12:15:08.268Z"
   },
   {
    "duration": 192,
    "start_time": "2022-10-04T12:15:08.319Z"
   },
   {
    "duration": 338,
    "start_time": "2022-10-04T12:15:08.513Z"
   },
   {
    "duration": 59915,
    "start_time": "2022-10-04T12:15:08.853Z"
   },
   {
    "duration": 34,
    "start_time": "2022-10-04T12:16:08.769Z"
   },
   {
    "duration": 155,
    "start_time": "2022-10-04T12:16:08.805Z"
   },
   {
    "duration": 449,
    "start_time": "2022-10-04T12:16:08.963Z"
   },
   {
    "duration": 32,
    "start_time": "2022-10-04T12:16:09.414Z"
   },
   {
    "duration": 57,
    "start_time": "2022-10-04T12:16:09.448Z"
   },
   {
    "duration": 103,
    "start_time": "2022-10-04T12:16:09.507Z"
   },
   {
    "duration": 232,
    "start_time": "2022-10-04T12:16:09.611Z"
   },
   {
    "duration": 221,
    "start_time": "2022-10-04T12:16:09.846Z"
   },
   {
    "duration": 6,
    "start_time": "2022-10-04T12:16:10.071Z"
   },
   {
    "duration": 17,
    "start_time": "2022-10-04T12:16:10.079Z"
   },
   {
    "duration": 10,
    "start_time": "2022-10-04T12:16:10.099Z"
   },
   {
    "duration": 274,
    "start_time": "2022-10-04T12:16:10.112Z"
   },
   {
    "duration": 210,
    "start_time": "2022-10-04T12:16:10.390Z"
   },
   {
    "duration": 312,
    "start_time": "2022-10-04T12:16:10.602Z"
   },
   {
    "duration": 49,
    "start_time": "2022-10-04T12:16:10.915Z"
   },
   {
    "duration": 36,
    "start_time": "2022-10-04T12:16:10.965Z"
   },
   {
    "duration": 23,
    "start_time": "2022-10-04T12:20:56.786Z"
   },
   {
    "duration": 200,
    "start_time": "2022-10-04T12:21:02.309Z"
   },
   {
    "duration": 5,
    "start_time": "2022-10-04T12:21:11.123Z"
   },
   {
    "duration": 6,
    "start_time": "2022-10-04T12:21:11.133Z"
   },
   {
    "duration": 202,
    "start_time": "2022-10-04T12:21:11.154Z"
   },
   {
    "duration": 69,
    "start_time": "2022-10-04T12:21:11.358Z"
   },
   {
    "duration": 4,
    "start_time": "2022-10-04T12:21:11.429Z"
   },
   {
    "duration": 74,
    "start_time": "2022-10-04T12:21:11.435Z"
   },
   {
    "duration": 42,
    "start_time": "2022-10-04T12:21:11.512Z"
   },
   {
    "duration": 145,
    "start_time": "2022-10-04T12:21:11.556Z"
   },
   {
    "duration": 45,
    "start_time": "2022-10-04T12:21:11.704Z"
   },
   {
    "duration": 83,
    "start_time": "2022-10-04T12:21:11.750Z"
   },
   {
    "duration": 29,
    "start_time": "2022-10-04T12:21:11.836Z"
   },
   {
    "duration": 363,
    "start_time": "2022-10-04T12:21:11.868Z"
   },
   {
    "duration": 167,
    "start_time": "2022-10-04T12:21:12.233Z"
   },
   {
    "duration": 273,
    "start_time": "2022-10-04T12:21:12.402Z"
   },
   {
    "duration": 166,
    "start_time": "2022-10-04T12:21:12.677Z"
   },
   {
    "duration": 289,
    "start_time": "2022-10-04T12:21:12.845Z"
   },
   {
    "duration": 145,
    "start_time": "2022-10-04T12:21:13.136Z"
   },
   {
    "duration": 38,
    "start_time": "2022-10-04T12:21:13.283Z"
   },
   {
    "duration": 207,
    "start_time": "2022-10-04T12:21:13.323Z"
   },
   {
    "duration": 340,
    "start_time": "2022-10-04T12:21:13.532Z"
   },
   {
    "duration": 60833,
    "start_time": "2022-10-04T12:21:13.875Z"
   },
   {
    "duration": 29,
    "start_time": "2022-10-04T12:22:14.710Z"
   },
   {
    "duration": 162,
    "start_time": "2022-10-04T12:22:14.740Z"
   },
   {
    "duration": 390,
    "start_time": "2022-10-04T12:22:14.904Z"
   },
   {
    "duration": 33,
    "start_time": "2022-10-04T12:22:15.296Z"
   },
   {
    "duration": 59,
    "start_time": "2022-10-04T12:22:15.331Z"
   },
   {
    "duration": 98,
    "start_time": "2022-10-04T12:22:15.392Z"
   },
   {
    "duration": 223,
    "start_time": "2022-10-04T12:22:15.492Z"
   },
   {
    "duration": 200,
    "start_time": "2022-10-04T12:22:15.718Z"
   },
   {
    "duration": 4,
    "start_time": "2022-10-04T12:22:15.923Z"
   },
   {
    "duration": 11,
    "start_time": "2022-10-04T12:22:15.929Z"
   },
   {
    "duration": 6,
    "start_time": "2022-10-04T12:22:15.941Z"
   },
   {
    "duration": 208,
    "start_time": "2022-10-04T12:22:15.949Z"
   },
   {
    "duration": 184,
    "start_time": "2022-10-04T12:22:16.159Z"
   },
   {
    "duration": 196,
    "start_time": "2022-10-04T12:22:16.345Z"
   },
   {
    "duration": 56,
    "start_time": "2022-10-04T12:22:16.543Z"
   },
   {
    "duration": 0,
    "start_time": "2022-10-04T12:22:16.602Z"
   },
   {
    "duration": 46,
    "start_time": "2022-10-04T12:24:07.999Z"
   },
   {
    "duration": 4,
    "start_time": "2022-10-04T12:25:12.765Z"
   },
   {
    "duration": 20,
    "start_time": "2022-10-04T12:25:12.775Z"
   },
   {
    "duration": 245,
    "start_time": "2022-10-04T12:25:12.797Z"
   },
   {
    "duration": 54,
    "start_time": "2022-10-04T12:25:13.044Z"
   },
   {
    "duration": 3,
    "start_time": "2022-10-04T12:25:13.100Z"
   },
   {
    "duration": 54,
    "start_time": "2022-10-04T12:25:13.105Z"
   },
   {
    "duration": 43,
    "start_time": "2022-10-04T12:25:13.161Z"
   },
   {
    "duration": 112,
    "start_time": "2022-10-04T12:25:13.206Z"
   },
   {
    "duration": 28,
    "start_time": "2022-10-04T12:25:13.320Z"
   },
   {
    "duration": 79,
    "start_time": "2022-10-04T12:25:13.350Z"
   },
   {
    "duration": 19,
    "start_time": "2022-10-04T12:25:13.431Z"
   },
   {
    "duration": 289,
    "start_time": "2022-10-04T12:25:13.453Z"
   },
   {
    "duration": 266,
    "start_time": "2022-10-04T12:25:13.744Z"
   },
   {
    "duration": 257,
    "start_time": "2022-10-04T12:25:14.012Z"
   },
   {
    "duration": 151,
    "start_time": "2022-10-04T12:25:14.271Z"
   },
   {
    "duration": 277,
    "start_time": "2022-10-04T12:25:14.424Z"
   },
   {
    "duration": 153,
    "start_time": "2022-10-04T12:25:14.703Z"
   },
   {
    "duration": 41,
    "start_time": "2022-10-04T12:25:14.858Z"
   },
   {
    "duration": 184,
    "start_time": "2022-10-04T12:25:14.900Z"
   },
   {
    "duration": 321,
    "start_time": "2022-10-04T12:25:15.086Z"
   },
   {
    "duration": 58711,
    "start_time": "2022-10-04T12:25:15.409Z"
   },
   {
    "duration": 29,
    "start_time": "2022-10-04T12:26:14.121Z"
   },
   {
    "duration": 163,
    "start_time": "2022-10-04T12:26:14.151Z"
   },
   {
    "duration": 393,
    "start_time": "2022-10-04T12:26:14.316Z"
   },
   {
    "duration": 32,
    "start_time": "2022-10-04T12:26:14.711Z"
   },
   {
    "duration": 59,
    "start_time": "2022-10-04T12:26:14.745Z"
   },
   {
    "duration": 73,
    "start_time": "2022-10-04T12:26:14.805Z"
   },
   {
    "duration": 301,
    "start_time": "2022-10-04T12:26:14.888Z"
   },
   {
    "duration": 204,
    "start_time": "2022-10-04T12:26:15.191Z"
   },
   {
    "duration": 6,
    "start_time": "2022-10-04T12:26:15.400Z"
   },
   {
    "duration": 22,
    "start_time": "2022-10-04T12:26:15.408Z"
   },
   {
    "duration": 12,
    "start_time": "2022-10-04T12:26:15.432Z"
   },
   {
    "duration": 188,
    "start_time": "2022-10-04T12:26:15.446Z"
   },
   {
    "duration": 202,
    "start_time": "2022-10-04T12:26:15.636Z"
   },
   {
    "duration": 211,
    "start_time": "2022-10-04T12:26:15.840Z"
   },
   {
    "duration": 59,
    "start_time": "2022-10-04T12:26:16.053Z"
   },
   {
    "duration": 13,
    "start_time": "2022-10-04T12:26:16.114Z"
   },
   {
    "duration": 4,
    "start_time": "2022-10-04T12:35:43.553Z"
   },
   {
    "duration": 5,
    "start_time": "2022-10-04T12:35:43.564Z"
   },
   {
    "duration": 188,
    "start_time": "2022-10-04T12:35:43.583Z"
   },
   {
    "duration": 54,
    "start_time": "2022-10-04T12:35:43.773Z"
   },
   {
    "duration": 4,
    "start_time": "2022-10-04T12:35:43.828Z"
   },
   {
    "duration": 62,
    "start_time": "2022-10-04T12:35:43.835Z"
   },
   {
    "duration": 27,
    "start_time": "2022-10-04T12:35:43.899Z"
   },
   {
    "duration": 127,
    "start_time": "2022-10-04T12:35:43.928Z"
   },
   {
    "duration": 54,
    "start_time": "2022-10-04T12:35:44.057Z"
   },
   {
    "duration": 55,
    "start_time": "2022-10-04T12:35:44.114Z"
   },
   {
    "duration": 21,
    "start_time": "2022-10-04T12:35:44.188Z"
   },
   {
    "duration": 278,
    "start_time": "2022-10-04T12:35:44.213Z"
   },
   {
    "duration": 168,
    "start_time": "2022-10-04T12:35:44.493Z"
   },
   {
    "duration": 258,
    "start_time": "2022-10-04T12:35:44.663Z"
   },
   {
    "duration": 156,
    "start_time": "2022-10-04T12:35:44.924Z"
   },
   {
    "duration": 276,
    "start_time": "2022-10-04T12:35:45.088Z"
   },
   {
    "duration": 242,
    "start_time": "2022-10-04T12:35:45.366Z"
   },
   {
    "duration": 35,
    "start_time": "2022-10-04T12:35:45.610Z"
   },
   {
    "duration": 195,
    "start_time": "2022-10-04T12:35:45.647Z"
   },
   {
    "duration": 324,
    "start_time": "2022-10-04T12:35:45.844Z"
   },
   {
    "duration": 60489,
    "start_time": "2022-10-04T12:35:46.170Z"
   },
   {
    "duration": 39,
    "start_time": "2022-10-04T12:36:46.662Z"
   },
   {
    "duration": 175,
    "start_time": "2022-10-04T12:36:46.703Z"
   },
   {
    "duration": 370,
    "start_time": "2022-10-04T12:36:46.888Z"
   },
   {
    "duration": 41,
    "start_time": "2022-10-04T12:36:47.260Z"
   },
   {
    "duration": 35,
    "start_time": "2022-10-04T12:36:47.303Z"
   },
   {
    "duration": 106,
    "start_time": "2022-10-04T12:36:47.340Z"
   },
   {
    "duration": 215,
    "start_time": "2022-10-04T12:36:47.448Z"
   },
   {
    "duration": 207,
    "start_time": "2022-10-04T12:36:47.666Z"
   },
   {
    "duration": 13,
    "start_time": "2022-10-04T12:36:47.877Z"
   },
   {
    "duration": 10,
    "start_time": "2022-10-04T12:36:47.892Z"
   },
   {
    "duration": 6,
    "start_time": "2022-10-04T12:36:47.905Z"
   },
   {
    "duration": 199,
    "start_time": "2022-10-04T12:36:47.912Z"
   },
   {
    "duration": 199,
    "start_time": "2022-10-04T12:36:48.113Z"
   },
   {
    "duration": 197,
    "start_time": "2022-10-04T12:36:48.314Z"
   },
   {
    "duration": 29,
    "start_time": "2022-10-04T12:36:48.513Z"
   },
   {
    "duration": 0,
    "start_time": "2022-10-04T12:36:48.544Z"
   },
   {
    "duration": 50,
    "start_time": "2022-10-04T12:37:03.622Z"
   },
   {
    "duration": 35,
    "start_time": "2022-10-04T12:40:30.006Z"
   },
   {
    "duration": 6,
    "start_time": "2022-10-04T12:48:56.559Z"
   },
   {
    "duration": 20,
    "start_time": "2022-10-04T12:53:43.137Z"
   },
   {
    "duration": 4,
    "start_time": "2022-10-04T12:54:08.283Z"
   },
   {
    "duration": 4,
    "start_time": "2022-10-04T12:54:08.385Z"
   },
   {
    "duration": 200,
    "start_time": "2022-10-04T12:54:08.392Z"
   },
   {
    "duration": 58,
    "start_time": "2022-10-04T12:54:08.594Z"
   },
   {
    "duration": 4,
    "start_time": "2022-10-04T12:54:08.654Z"
   },
   {
    "duration": 54,
    "start_time": "2022-10-04T12:54:08.661Z"
   },
   {
    "duration": 30,
    "start_time": "2022-10-04T12:54:08.717Z"
   },
   {
    "duration": 119,
    "start_time": "2022-10-04T12:54:08.749Z"
   },
   {
    "duration": 28,
    "start_time": "2022-10-04T12:54:08.889Z"
   },
   {
    "duration": 50,
    "start_time": "2022-10-04T12:54:08.919Z"
   },
   {
    "duration": 20,
    "start_time": "2022-10-04T12:54:08.990Z"
   },
   {
    "duration": 291,
    "start_time": "2022-10-04T12:54:09.013Z"
   },
   {
    "duration": 247,
    "start_time": "2022-10-04T12:54:09.306Z"
   },
   {
    "duration": 257,
    "start_time": "2022-10-04T12:54:09.555Z"
   },
   {
    "duration": 157,
    "start_time": "2022-10-04T12:54:09.815Z"
   },
   {
    "duration": 282,
    "start_time": "2022-10-04T12:54:09.974Z"
   },
   {
    "duration": 151,
    "start_time": "2022-10-04T12:54:10.259Z"
   },
   {
    "duration": 34,
    "start_time": "2022-10-04T12:54:10.412Z"
   },
   {
    "duration": 181,
    "start_time": "2022-10-04T12:54:10.448Z"
   },
   {
    "duration": 330,
    "start_time": "2022-10-04T12:54:10.631Z"
   },
   {
    "duration": 58689,
    "start_time": "2022-10-04T12:54:10.963Z"
   },
   {
    "duration": 37,
    "start_time": "2022-10-04T12:55:09.654Z"
   },
   {
    "duration": 143,
    "start_time": "2022-10-04T12:55:09.693Z"
   },
   {
    "duration": 384,
    "start_time": "2022-10-04T12:55:09.838Z"
   },
   {
    "duration": 31,
    "start_time": "2022-10-04T12:55:10.224Z"
   },
   {
    "duration": 56,
    "start_time": "2022-10-04T12:55:10.256Z"
   },
   {
    "duration": 97,
    "start_time": "2022-10-04T12:55:10.313Z"
   },
   {
    "duration": 313,
    "start_time": "2022-10-04T12:55:10.412Z"
   },
   {
    "duration": 213,
    "start_time": "2022-10-04T12:55:10.727Z"
   },
   {
    "duration": 5,
    "start_time": "2022-10-04T12:55:10.942Z"
   },
   {
    "duration": 24,
    "start_time": "2022-10-04T12:55:10.949Z"
   },
   {
    "duration": 13,
    "start_time": "2022-10-04T12:55:10.975Z"
   },
   {
    "duration": 199,
    "start_time": "2022-10-04T12:55:10.990Z"
   },
   {
    "duration": 198,
    "start_time": "2022-10-04T12:55:11.191Z"
   },
   {
    "duration": 211,
    "start_time": "2022-10-04T12:55:11.391Z"
   },
   {
    "duration": 12,
    "start_time": "2022-10-04T12:55:11.605Z"
   },
   {
    "duration": 22,
    "start_time": "2022-10-04T12:55:11.619Z"
   },
   {
    "duration": 1498,
    "start_time": "2022-10-04T12:55:11.643Z"
   },
   {
    "duration": 17,
    "start_time": "2022-10-04T12:56:09.809Z"
   },
   {
    "duration": 4,
    "start_time": "2022-10-04T12:57:50.856Z"
   },
   {
    "duration": 288,
    "start_time": "2022-10-04T13:06:02.075Z"
   },
   {
    "duration": 22,
    "start_time": "2022-10-04T13:06:12.033Z"
   },
   {
    "duration": 16,
    "start_time": "2022-10-04T13:07:18.958Z"
   },
   {
    "duration": 15,
    "start_time": "2022-10-04T14:52:02.614Z"
   },
   {
    "duration": 17,
    "start_time": "2022-10-04T14:52:08.539Z"
   },
   {
    "duration": 81,
    "start_time": "2022-10-04T14:56:15.594Z"
   },
   {
    "duration": 23,
    "start_time": "2022-10-04T14:56:46.540Z"
   },
   {
    "duration": 21,
    "start_time": "2022-10-04T14:58:50.426Z"
   },
   {
    "duration": 21,
    "start_time": "2022-10-04T14:59:05.924Z"
   },
   {
    "duration": 1237,
    "start_time": "2022-10-04T15:02:30.751Z"
   },
   {
    "duration": 1350,
    "start_time": "2022-10-04T15:03:17.600Z"
   },
   {
    "duration": 24,
    "start_time": "2022-10-04T15:03:37.098Z"
   },
   {
    "duration": 27,
    "start_time": "2022-10-04T15:04:28.282Z"
   },
   {
    "duration": 73,
    "start_time": "2022-10-04T15:08:49.277Z"
   },
   {
    "duration": 115,
    "start_time": "2022-10-04T15:09:23.952Z"
   },
   {
    "duration": 75,
    "start_time": "2022-10-04T15:09:42.216Z"
   },
   {
    "duration": 20,
    "start_time": "2022-10-04T15:10:02.342Z"
   },
   {
    "duration": 81,
    "start_time": "2022-10-04T15:10:30.236Z"
   },
   {
    "duration": 183,
    "start_time": "2022-10-04T15:10:58.936Z"
   },
   {
    "duration": 187,
    "start_time": "2022-10-04T15:11:07.963Z"
   },
   {
    "duration": 222,
    "start_time": "2022-10-04T15:12:03.935Z"
   },
   {
    "duration": 4672,
    "start_time": "2022-10-04T15:12:38.891Z"
   },
   {
    "duration": 191,
    "start_time": "2022-10-04T15:13:09.364Z"
   },
   {
    "duration": 244,
    "start_time": "2022-10-04T15:13:18.563Z"
   },
   {
    "duration": 198,
    "start_time": "2022-10-04T15:14:00.251Z"
   },
   {
    "duration": 243,
    "start_time": "2022-10-04T15:14:56.818Z"
   },
   {
    "duration": 260,
    "start_time": "2022-10-04T15:15:17.667Z"
   },
   {
    "duration": 4604,
    "start_time": "2022-10-04T15:15:28.270Z"
   },
   {
    "duration": 371,
    "start_time": "2022-10-04T15:15:40.296Z"
   },
   {
    "duration": 245,
    "start_time": "2022-10-04T15:17:28.937Z"
   },
   {
    "duration": 4,
    "start_time": "2022-10-04T18:09:32.874Z"
   },
   {
    "duration": 21,
    "start_time": "2022-10-04T18:09:32.887Z"
   },
   {
    "duration": 203,
    "start_time": "2022-10-04T18:09:32.910Z"
   },
   {
    "duration": 59,
    "start_time": "2022-10-04T18:09:33.116Z"
   },
   {
    "duration": 4,
    "start_time": "2022-10-04T18:09:33.190Z"
   },
   {
    "duration": 48,
    "start_time": "2022-10-04T18:09:33.197Z"
   },
   {
    "duration": 50,
    "start_time": "2022-10-04T18:09:33.247Z"
   },
   {
    "duration": 153,
    "start_time": "2022-10-04T18:09:33.299Z"
   },
   {
    "duration": 50,
    "start_time": "2022-10-04T18:09:33.454Z"
   },
   {
    "duration": 47,
    "start_time": "2022-10-04T18:09:33.506Z"
   },
   {
    "duration": 37,
    "start_time": "2022-10-04T18:09:33.555Z"
   },
   {
    "duration": 258,
    "start_time": "2022-10-04T18:09:33.595Z"
   },
   {
    "duration": 156,
    "start_time": "2022-10-04T18:09:33.855Z"
   },
   {
    "duration": 252,
    "start_time": "2022-10-04T18:09:34.012Z"
   },
   {
    "duration": 159,
    "start_time": "2022-10-04T18:09:34.266Z"
   },
   {
    "duration": 287,
    "start_time": "2022-10-04T18:09:34.427Z"
   },
   {
    "duration": 133,
    "start_time": "2022-10-04T18:09:34.716Z"
   },
   {
    "duration": 48,
    "start_time": "2022-10-04T18:09:34.850Z"
   },
   {
    "duration": 206,
    "start_time": "2022-10-04T18:09:34.901Z"
   },
   {
    "duration": 372,
    "start_time": "2022-10-04T18:09:35.109Z"
   },
   {
    "duration": 59055,
    "start_time": "2022-10-04T18:09:35.483Z"
   },
   {
    "duration": 27,
    "start_time": "2022-10-04T18:10:34.540Z"
   },
   {
    "duration": 164,
    "start_time": "2022-10-04T18:10:34.570Z"
   },
   {
    "duration": 394,
    "start_time": "2022-10-04T18:10:34.736Z"
   },
   {
    "duration": 30,
    "start_time": "2022-10-04T18:10:35.132Z"
   },
   {
    "duration": 59,
    "start_time": "2022-10-04T18:10:35.164Z"
   },
   {
    "duration": 100,
    "start_time": "2022-10-04T18:10:35.225Z"
   },
   {
    "duration": 230,
    "start_time": "2022-10-04T18:10:35.326Z"
   },
   {
    "duration": 189,
    "start_time": "2022-10-04T18:10:35.558Z"
   },
   {
    "duration": 6,
    "start_time": "2022-10-04T18:10:35.750Z"
   },
   {
    "duration": 11,
    "start_time": "2022-10-04T18:10:35.757Z"
   },
   {
    "duration": 4,
    "start_time": "2022-10-04T18:10:35.790Z"
   },
   {
    "duration": 214,
    "start_time": "2022-10-04T18:10:35.795Z"
   },
   {
    "duration": 183,
    "start_time": "2022-10-04T18:10:36.011Z"
   },
   {
    "duration": 186,
    "start_time": "2022-10-04T18:10:36.196Z"
   },
   {
    "duration": 10,
    "start_time": "2022-10-04T18:10:36.389Z"
   },
   {
    "duration": 16,
    "start_time": "2022-10-04T18:10:36.401Z"
   },
   {
    "duration": 0,
    "start_time": "2022-10-04T18:10:36.419Z"
   },
   {
    "duration": 0,
    "start_time": "2022-10-04T18:10:36.421Z"
   },
   {
    "duration": 0,
    "start_time": "2022-10-04T18:10:36.422Z"
   },
   {
    "duration": 18,
    "start_time": "2022-10-04T18:17:13.974Z"
   },
   {
    "duration": 17,
    "start_time": "2022-10-04T18:17:20.243Z"
   },
   {
    "duration": 16,
    "start_time": "2022-10-04T18:17:28.848Z"
   },
   {
    "duration": 231,
    "start_time": "2022-10-04T18:17:28.866Z"
   },
   {
    "duration": 254,
    "start_time": "2022-10-04T18:17:29.099Z"
   },
   {
    "duration": 10,
    "start_time": "2022-10-04T18:17:29.355Z"
   },
   {
    "duration": 12,
    "start_time": "2022-10-04T18:18:50.980Z"
   },
   {
    "duration": 4,
    "start_time": "2022-10-04T18:27:35.604Z"
   },
   {
    "duration": 10,
    "start_time": "2022-10-04T18:27:51.302Z"
   },
   {
    "duration": 20,
    "start_time": "2022-10-04T18:28:16.216Z"
   },
   {
    "duration": 4,
    "start_time": "2022-10-04T18:30:27.686Z"
   },
   {
    "duration": 4,
    "start_time": "2022-10-04T18:30:27.696Z"
   },
   {
    "duration": 216,
    "start_time": "2022-10-04T18:30:27.710Z"
   },
   {
    "duration": 70,
    "start_time": "2022-10-04T18:30:27.929Z"
   },
   {
    "duration": 5,
    "start_time": "2022-10-04T18:30:28.002Z"
   },
   {
    "duration": 48,
    "start_time": "2022-10-04T18:30:28.010Z"
   },
   {
    "duration": 57,
    "start_time": "2022-10-04T18:30:28.060Z"
   },
   {
    "duration": 242,
    "start_time": "2022-10-04T18:30:28.119Z"
   },
   {
    "duration": 45,
    "start_time": "2022-10-04T18:30:28.363Z"
   },
   {
    "duration": 54,
    "start_time": "2022-10-04T18:30:28.410Z"
   },
   {
    "duration": 42,
    "start_time": "2022-10-04T18:30:28.466Z"
   },
   {
    "duration": 279,
    "start_time": "2022-10-04T18:30:28.512Z"
   },
   {
    "duration": 164,
    "start_time": "2022-10-04T18:30:28.793Z"
   },
   {
    "duration": 257,
    "start_time": "2022-10-04T18:30:28.959Z"
   },
   {
    "duration": 170,
    "start_time": "2022-10-04T18:30:29.218Z"
   },
   {
    "duration": 276,
    "start_time": "2022-10-04T18:30:29.390Z"
   },
   {
    "duration": 140,
    "start_time": "2022-10-04T18:30:29.667Z"
   },
   {
    "duration": 33,
    "start_time": "2022-10-04T18:30:29.809Z"
   },
   {
    "duration": 185,
    "start_time": "2022-10-04T18:30:29.844Z"
   },
   {
    "duration": 313,
    "start_time": "2022-10-04T18:30:30.032Z"
   },
   {
    "duration": 60258,
    "start_time": "2022-10-04T18:30:30.347Z"
   },
   {
    "duration": 28,
    "start_time": "2022-10-04T18:31:30.607Z"
   },
   {
    "duration": 174,
    "start_time": "2022-10-04T18:31:30.637Z"
   },
   {
    "duration": 482,
    "start_time": "2022-10-04T18:31:30.813Z"
   },
   {
    "duration": 28,
    "start_time": "2022-10-04T18:31:31.297Z"
   },
   {
    "duration": 33,
    "start_time": "2022-10-04T18:31:31.327Z"
   },
   {
    "duration": 131,
    "start_time": "2022-10-04T18:31:31.362Z"
   },
   {
    "duration": 207,
    "start_time": "2022-10-04T18:31:31.495Z"
   },
   {
    "duration": 186,
    "start_time": "2022-10-04T18:31:31.705Z"
   },
   {
    "duration": 5,
    "start_time": "2022-10-04T18:31:31.895Z"
   },
   {
    "duration": 9,
    "start_time": "2022-10-04T18:31:31.902Z"
   },
   {
    "duration": 6,
    "start_time": "2022-10-04T18:31:31.913Z"
   },
   {
    "duration": 217,
    "start_time": "2022-10-04T18:31:31.921Z"
   },
   {
    "duration": 237,
    "start_time": "2022-10-04T18:31:32.140Z"
   },
   {
    "duration": 205,
    "start_time": "2022-10-04T18:31:32.379Z"
   },
   {
    "duration": 12,
    "start_time": "2022-10-04T18:31:32.590Z"
   },
   {
    "duration": 22,
    "start_time": "2022-10-04T18:31:32.603Z"
   },
   {
    "duration": 17,
    "start_time": "2022-10-04T18:31:32.627Z"
   },
   {
    "duration": 270,
    "start_time": "2022-10-04T18:31:32.646Z"
   },
   {
    "duration": 251,
    "start_time": "2022-10-04T18:31:32.918Z"
   },
   {
    "duration": 33,
    "start_time": "2022-10-04T18:31:33.170Z"
   },
   {
    "duration": 34,
    "start_time": "2022-10-04T18:38:16.065Z"
   },
   {
    "duration": 35,
    "start_time": "2022-10-04T18:39:09.986Z"
   },
   {
    "duration": 4,
    "start_time": "2022-10-04T18:40:36.429Z"
   },
   {
    "duration": 22,
    "start_time": "2022-10-04T18:40:36.438Z"
   },
   {
    "duration": 229,
    "start_time": "2022-10-04T18:40:36.462Z"
   },
   {
    "duration": 55,
    "start_time": "2022-10-04T18:40:36.693Z"
   },
   {
    "duration": 4,
    "start_time": "2022-10-04T18:40:36.750Z"
   },
   {
    "duration": 62,
    "start_time": "2022-10-04T18:40:36.757Z"
   },
   {
    "duration": 27,
    "start_time": "2022-10-04T18:40:36.821Z"
   },
   {
    "duration": 141,
    "start_time": "2022-10-04T18:40:36.849Z"
   },
   {
    "duration": 28,
    "start_time": "2022-10-04T18:40:36.992Z"
   },
   {
    "duration": 72,
    "start_time": "2022-10-04T18:40:37.022Z"
   },
   {
    "duration": 20,
    "start_time": "2022-10-04T18:40:37.096Z"
   },
   {
    "duration": 272,
    "start_time": "2022-10-04T18:40:37.119Z"
   },
   {
    "duration": 250,
    "start_time": "2022-10-04T18:40:37.392Z"
   },
   {
    "duration": 246,
    "start_time": "2022-10-04T18:40:37.644Z"
   },
   {
    "duration": 155,
    "start_time": "2022-10-04T18:40:37.892Z"
   },
   {
    "duration": 297,
    "start_time": "2022-10-04T18:40:38.049Z"
   },
   {
    "duration": 141,
    "start_time": "2022-10-04T18:40:38.348Z"
   },
   {
    "duration": 31,
    "start_time": "2022-10-04T18:40:38.491Z"
   },
   {
    "duration": 185,
    "start_time": "2022-10-04T18:40:38.524Z"
   },
   {
    "duration": 308,
    "start_time": "2022-10-04T18:40:38.711Z"
   },
   {
    "duration": 58562,
    "start_time": "2022-10-04T18:40:39.020Z"
   },
   {
    "duration": 30,
    "start_time": "2022-10-04T18:41:37.589Z"
   },
   {
    "duration": 186,
    "start_time": "2022-10-04T18:41:37.622Z"
   },
   {
    "duration": 433,
    "start_time": "2022-10-04T18:41:37.809Z"
   },
   {
    "duration": 56,
    "start_time": "2022-10-04T18:41:38.244Z"
   },
   {
    "duration": 35,
    "start_time": "2022-10-04T18:41:38.301Z"
   },
   {
    "duration": 96,
    "start_time": "2022-10-04T18:41:38.338Z"
   },
   {
    "duration": 199,
    "start_time": "2022-10-04T18:41:38.436Z"
   },
   {
    "duration": 284,
    "start_time": "2022-10-04T18:41:38.636Z"
   },
   {
    "duration": 5,
    "start_time": "2022-10-04T18:41:38.924Z"
   },
   {
    "duration": 17,
    "start_time": "2022-10-04T18:41:38.931Z"
   },
   {
    "duration": 8,
    "start_time": "2022-10-04T18:41:38.950Z"
   },
   {
    "duration": 242,
    "start_time": "2022-10-04T18:41:38.960Z"
   },
   {
    "duration": 199,
    "start_time": "2022-10-04T18:41:39.204Z"
   },
   {
    "duration": 186,
    "start_time": "2022-10-04T18:41:39.405Z"
   },
   {
    "duration": 11,
    "start_time": "2022-10-04T18:41:39.593Z"
   },
   {
    "duration": 22,
    "start_time": "2022-10-04T18:41:39.606Z"
   },
   {
    "duration": 16,
    "start_time": "2022-10-04T18:41:39.629Z"
   },
   {
    "duration": 310,
    "start_time": "2022-10-04T18:41:39.647Z"
   },
   {
    "duration": 314,
    "start_time": "2022-10-04T18:41:39.959Z"
   },
   {
    "duration": 40,
    "start_time": "2022-10-04T18:41:40.275Z"
   },
   {
    "duration": 29,
    "start_time": "2022-10-04T18:44:00.246Z"
   },
   {
    "duration": 248,
    "start_time": "2022-10-04T18:46:10.081Z"
   },
   {
    "duration": 226,
    "start_time": "2022-10-04T18:46:55.767Z"
   },
   {
    "duration": 141,
    "start_time": "2022-10-04T18:48:22.374Z"
   },
   {
    "duration": 5,
    "start_time": "2022-10-04T18:49:58.006Z"
   },
   {
    "duration": 10,
    "start_time": "2022-10-04T18:49:58.017Z"
   },
   {
    "duration": 201,
    "start_time": "2022-10-04T18:49:58.033Z"
   },
   {
    "duration": 57,
    "start_time": "2022-10-04T18:49:58.644Z"
   },
   {
    "duration": 5,
    "start_time": "2022-10-04T18:49:58.704Z"
   },
   {
    "duration": 48,
    "start_time": "2022-10-04T18:49:58.711Z"
   },
   {
    "duration": 54,
    "start_time": "2022-10-04T18:49:58.761Z"
   },
   {
    "duration": 123,
    "start_time": "2022-10-04T18:49:58.816Z"
   },
   {
    "duration": 52,
    "start_time": "2022-10-04T18:49:58.941Z"
   },
   {
    "duration": 52,
    "start_time": "2022-10-04T18:49:58.995Z"
   },
   {
    "duration": 22,
    "start_time": "2022-10-04T18:49:59.049Z"
   },
   {
    "duration": 288,
    "start_time": "2022-10-04T18:49:59.073Z"
   },
   {
    "duration": 168,
    "start_time": "2022-10-04T18:49:59.365Z"
   },
   {
    "duration": 344,
    "start_time": "2022-10-04T18:49:59.535Z"
   },
   {
    "duration": 154,
    "start_time": "2022-10-04T18:49:59.881Z"
   },
   {
    "duration": 289,
    "start_time": "2022-10-04T18:50:00.037Z"
   },
   {
    "duration": 148,
    "start_time": "2022-10-04T18:50:00.328Z"
   },
   {
    "duration": 42,
    "start_time": "2022-10-04T18:50:00.478Z"
   },
   {
    "duration": 188,
    "start_time": "2022-10-04T18:50:00.522Z"
   },
   {
    "duration": 340,
    "start_time": "2022-10-04T18:50:00.711Z"
   },
   {
    "duration": 59313,
    "start_time": "2022-10-04T18:50:01.053Z"
   },
   {
    "duration": 34,
    "start_time": "2022-10-04T18:51:00.368Z"
   },
   {
    "duration": 156,
    "start_time": "2022-10-04T18:51:00.404Z"
   },
   {
    "duration": 394,
    "start_time": "2022-10-04T18:51:00.561Z"
   },
   {
    "duration": 41,
    "start_time": "2022-10-04T18:51:00.957Z"
   },
   {
    "duration": 36,
    "start_time": "2022-10-04T18:51:01.001Z"
   },
   {
    "duration": 96,
    "start_time": "2022-10-04T18:51:01.038Z"
   },
   {
    "duration": 212,
    "start_time": "2022-10-04T18:51:01.136Z"
   },
   {
    "duration": 292,
    "start_time": "2022-10-04T18:51:01.350Z"
   },
   {
    "duration": 6,
    "start_time": "2022-10-04T18:51:01.643Z"
   },
   {
    "duration": 14,
    "start_time": "2022-10-04T18:51:01.652Z"
   },
   {
    "duration": 28,
    "start_time": "2022-10-04T18:51:01.668Z"
   },
   {
    "duration": 204,
    "start_time": "2022-10-04T18:51:01.698Z"
   },
   {
    "duration": 259,
    "start_time": "2022-10-04T18:51:01.904Z"
   },
   {
    "duration": 217,
    "start_time": "2022-10-04T18:51:02.165Z"
   },
   {
    "duration": 10,
    "start_time": "2022-10-04T18:51:02.389Z"
   },
   {
    "duration": 20,
    "start_time": "2022-10-04T18:51:02.401Z"
   },
   {
    "duration": 19,
    "start_time": "2022-10-04T18:51:02.424Z"
   },
   {
    "duration": 310,
    "start_time": "2022-10-04T18:51:02.444Z"
   },
   {
    "duration": 301,
    "start_time": "2022-10-04T18:51:02.756Z"
   },
   {
    "duration": 38,
    "start_time": "2022-10-04T18:51:03.059Z"
   },
   {
    "duration": 292,
    "start_time": "2022-10-04T18:51:03.100Z"
   },
   {
    "duration": 293,
    "start_time": "2022-10-04T18:51:03.394Z"
   },
   {
    "duration": 67,
    "start_time": "2022-10-04T18:54:49.138Z"
   },
   {
    "duration": 6,
    "start_time": "2022-10-04T18:57:07.538Z"
   },
   {
    "duration": 6,
    "start_time": "2022-10-04T19:08:37.749Z"
   },
   {
    "duration": 5,
    "start_time": "2022-10-04T19:11:42.935Z"
   },
   {
    "duration": 16,
    "start_time": "2022-10-04T19:49:05.990Z"
   },
   {
    "duration": 13,
    "start_time": "2022-10-04T19:49:18.773Z"
   },
   {
    "duration": 12,
    "start_time": "2022-10-04T19:49:23.924Z"
   },
   {
    "duration": 4,
    "start_time": "2022-10-04T20:02:59.920Z"
   },
   {
    "duration": 10,
    "start_time": "2022-10-04T20:05:07.421Z"
   },
   {
    "duration": 251,
    "start_time": "2022-10-04T20:07:22.886Z"
   },
   {
    "duration": 258,
    "start_time": "2022-10-04T20:08:10.071Z"
   },
   {
    "duration": 5,
    "start_time": "2022-10-04T20:08:39.251Z"
   },
   {
    "duration": 6,
    "start_time": "2022-10-04T20:09:44.940Z"
   },
   {
    "duration": 6,
    "start_time": "2022-10-04T20:09:59.390Z"
   },
   {
    "duration": 3,
    "start_time": "2022-10-04T20:14:35.879Z"
   },
   {
    "duration": 8,
    "start_time": "2022-10-04T20:18:31.084Z"
   },
   {
    "duration": 53,
    "start_time": "2022-10-05T08:40:32.477Z"
   },
   {
    "duration": 1356,
    "start_time": "2022-10-05T08:40:38.344Z"
   },
   {
    "duration": 3,
    "start_time": "2022-10-05T08:40:39.702Z"
   },
   {
    "duration": 258,
    "start_time": "2022-10-05T08:40:39.706Z"
   },
   {
    "duration": 93,
    "start_time": "2022-10-05T08:40:39.965Z"
   },
   {
    "duration": 3,
    "start_time": "2022-10-05T08:40:40.060Z"
   },
   {
    "duration": 70,
    "start_time": "2022-10-05T08:40:40.065Z"
   },
   {
    "duration": 25,
    "start_time": "2022-10-05T08:40:40.136Z"
   },
   {
    "duration": 92,
    "start_time": "2022-10-05T08:40:40.163Z"
   },
   {
    "duration": 24,
    "start_time": "2022-10-05T08:40:40.257Z"
   },
   {
    "duration": 60,
    "start_time": "2022-10-05T08:40:40.283Z"
   },
   {
    "duration": 80,
    "start_time": "2022-10-05T08:40:40.344Z"
   },
   {
    "duration": 14,
    "start_time": "2022-10-05T08:40:41.374Z"
   },
   {
    "duration": 415,
    "start_time": "2022-10-05T08:45:05.994Z"
   },
   {
    "duration": 43,
    "start_time": "2022-10-05T10:08:39.503Z"
   },
   {
    "duration": 1333,
    "start_time": "2022-10-05T10:08:47.016Z"
   },
   {
    "duration": 4,
    "start_time": "2022-10-05T10:08:48.351Z"
   },
   {
    "duration": 740,
    "start_time": "2022-10-05T10:08:48.356Z"
   },
   {
    "duration": 79,
    "start_time": "2022-10-05T10:08:49.098Z"
   },
   {
    "duration": 3,
    "start_time": "2022-10-05T10:08:49.179Z"
   },
   {
    "duration": 39,
    "start_time": "2022-10-05T10:08:49.184Z"
   },
   {
    "duration": 21,
    "start_time": "2022-10-05T10:08:49.225Z"
   },
   {
    "duration": 90,
    "start_time": "2022-10-05T10:08:49.247Z"
   },
   {
    "duration": 22,
    "start_time": "2022-10-05T10:08:49.339Z"
   },
   {
    "duration": 63,
    "start_time": "2022-10-05T10:08:49.363Z"
   },
   {
    "duration": 13,
    "start_time": "2022-10-05T10:08:49.428Z"
   },
   {
    "duration": 63,
    "start_time": "2022-10-05T10:09:51.257Z"
   },
   {
    "duration": 44,
    "start_time": "2022-10-05T10:09:59.838Z"
   },
   {
    "duration": 228,
    "start_time": "2022-10-05T10:11:44.347Z"
   },
   {
    "duration": 257,
    "start_time": "2022-10-05T10:12:46.973Z"
   },
   {
    "duration": 244,
    "start_time": "2022-10-05T10:14:30.693Z"
   },
   {
    "duration": 298,
    "start_time": "2022-10-05T10:14:54.681Z"
   },
   {
    "duration": 203,
    "start_time": "2022-10-05T10:15:53.215Z"
   },
   {
    "duration": 473,
    "start_time": "2022-10-05T10:17:08.734Z"
   },
   {
    "duration": 178,
    "start_time": "2022-10-05T10:18:55.122Z"
   },
   {
    "duration": 4,
    "start_time": "2022-10-05T10:23:07.702Z"
   },
   {
    "duration": 4,
    "start_time": "2022-10-05T10:23:20.790Z"
   },
   {
    "duration": 4,
    "start_time": "2022-10-05T10:23:36.818Z"
   },
   {
    "duration": 166,
    "start_time": "2022-10-05T10:24:11.902Z"
   },
   {
    "duration": 182,
    "start_time": "2022-10-05T10:24:45.344Z"
   },
   {
    "duration": 130,
    "start_time": "2022-10-05T10:25:17.403Z"
   },
   {
    "duration": 139,
    "start_time": "2022-10-05T10:27:11.323Z"
   },
   {
    "duration": 146,
    "start_time": "2022-10-05T10:27:51.723Z"
   },
   {
    "duration": 129,
    "start_time": "2022-10-05T10:28:10.029Z"
   },
   {
    "duration": 149,
    "start_time": "2022-10-05T10:29:54.606Z"
   },
   {
    "duration": 151,
    "start_time": "2022-10-05T10:33:53.634Z"
   },
   {
    "duration": 199,
    "start_time": "2022-10-05T10:34:29.101Z"
   },
   {
    "duration": 13,
    "start_time": "2022-10-05T10:34:51.421Z"
   },
   {
    "duration": 12,
    "start_time": "2022-10-05T10:35:18.181Z"
   },
   {
    "duration": 12,
    "start_time": "2022-10-05T10:35:47.122Z"
   },
   {
    "duration": 14,
    "start_time": "2022-10-05T10:37:48.487Z"
   },
   {
    "duration": 36,
    "start_time": "2022-10-05T10:44:14.085Z"
   },
   {
    "duration": 10,
    "start_time": "2022-10-05T11:56:43.809Z"
   },
   {
    "duration": 15,
    "start_time": "2022-10-05T11:57:42.924Z"
   },
   {
    "duration": 41,
    "start_time": "2022-10-05T11:58:05.118Z"
   },
   {
    "duration": 23,
    "start_time": "2022-10-05T11:58:44.609Z"
   },
   {
    "duration": 4,
    "start_time": "2022-10-05T11:58:52.810Z"
   },
   {
    "duration": 8,
    "start_time": "2022-10-05T11:58:52.815Z"
   },
   {
    "duration": 209,
    "start_time": "2022-10-05T11:58:52.825Z"
   },
   {
    "duration": 56,
    "start_time": "2022-10-05T11:58:53.037Z"
   },
   {
    "duration": 24,
    "start_time": "2022-10-05T11:58:53.095Z"
   },
   {
    "duration": 13,
    "start_time": "2022-10-05T11:59:23.437Z"
   },
   {
    "duration": 17,
    "start_time": "2022-10-05T12:30:17.996Z"
   },
   {
    "duration": 15,
    "start_time": "2022-10-05T12:30:24.501Z"
   },
   {
    "duration": 9,
    "start_time": "2022-10-05T12:31:23.373Z"
   },
   {
    "duration": 14,
    "start_time": "2022-10-05T12:32:29.656Z"
   },
   {
    "duration": 9,
    "start_time": "2022-10-05T12:32:38.849Z"
   },
   {
    "duration": 18,
    "start_time": "2022-10-05T12:32:53.313Z"
   },
   {
    "duration": 13,
    "start_time": "2022-10-05T12:33:23.209Z"
   },
   {
    "duration": 28,
    "start_time": "2022-10-05T12:34:01.518Z"
   },
   {
    "duration": 43,
    "start_time": "2022-10-05T12:34:34.131Z"
   },
   {
    "duration": 32,
    "start_time": "2022-10-05T12:34:58.952Z"
   },
   {
    "duration": 35,
    "start_time": "2022-10-05T12:35:20.247Z"
   },
   {
    "duration": 58,
    "start_time": "2022-10-05T12:38:12.063Z"
   },
   {
    "duration": 68,
    "start_time": "2022-10-05T12:38:19.311Z"
   },
   {
    "duration": 57,
    "start_time": "2022-10-05T12:38:56.384Z"
   },
   {
    "duration": 49,
    "start_time": "2022-10-05T12:39:17.937Z"
   },
   {
    "duration": 82,
    "start_time": "2022-10-05T12:52:28.039Z"
   },
   {
    "duration": 28,
    "start_time": "2022-10-05T12:52:40.922Z"
   },
   {
    "duration": 70,
    "start_time": "2022-10-05T12:52:54.471Z"
   },
   {
    "duration": 7,
    "start_time": "2022-10-05T12:53:09.272Z"
   },
   {
    "duration": 10,
    "start_time": "2022-10-05T12:53:28.427Z"
   },
   {
    "duration": 4,
    "start_time": "2022-10-05T12:53:36.106Z"
   },
   {
    "duration": 15,
    "start_time": "2022-10-05T12:53:36.112Z"
   },
   {
    "duration": 193,
    "start_time": "2022-10-05T12:53:36.130Z"
   },
   {
    "duration": 48,
    "start_time": "2022-10-05T12:53:36.325Z"
   },
   {
    "duration": 25,
    "start_time": "2022-10-05T12:53:36.375Z"
   },
   {
    "duration": 15,
    "start_time": "2022-10-05T12:53:38.286Z"
   },
   {
    "duration": 9,
    "start_time": "2022-10-05T12:53:44.708Z"
   },
   {
    "duration": 3,
    "start_time": "2022-10-05T12:54:02.090Z"
   },
   {
    "duration": 21,
    "start_time": "2022-10-05T12:54:02.095Z"
   },
   {
    "duration": 171,
    "start_time": "2022-10-05T12:54:02.118Z"
   },
   {
    "duration": 49,
    "start_time": "2022-10-05T12:54:02.291Z"
   },
   {
    "duration": 10,
    "start_time": "2022-10-05T12:54:02.341Z"
   },
   {
    "duration": 76,
    "start_time": "2022-10-05T12:54:16.356Z"
   },
   {
    "duration": 18,
    "start_time": "2022-10-05T12:54:34.302Z"
   },
   {
    "duration": 4,
    "start_time": "2022-10-05T12:54:46.329Z"
   },
   {
    "duration": 7,
    "start_time": "2022-10-05T12:54:46.335Z"
   },
   {
    "duration": 165,
    "start_time": "2022-10-05T12:54:46.343Z"
   },
   {
    "duration": 61,
    "start_time": "2022-10-05T12:54:46.510Z"
   },
   {
    "duration": 13,
    "start_time": "2022-10-05T12:54:46.574Z"
   },
   {
    "duration": 20,
    "start_time": "2022-10-05T12:55:04.718Z"
   },
   {
    "duration": 9,
    "start_time": "2022-10-05T12:57:49.116Z"
   },
   {
    "duration": 1215,
    "start_time": "2022-10-05T12:58:14.853Z"
   },
   {
    "duration": 4,
    "start_time": "2022-10-05T12:58:34.052Z"
   },
   {
    "duration": 39,
    "start_time": "2022-10-05T12:58:34.057Z"
   },
   {
    "duration": 169,
    "start_time": "2022-10-05T12:58:34.098Z"
   },
   {
    "duration": 49,
    "start_time": "2022-10-05T12:58:34.268Z"
   },
   {
    "duration": 11,
    "start_time": "2022-10-05T12:58:34.318Z"
   },
   {
    "duration": 40,
    "start_time": "2022-10-05T12:58:36.081Z"
   },
   {
    "duration": 60,
    "start_time": "2022-10-05T12:59:14.816Z"
   },
   {
    "duration": 4,
    "start_time": "2022-10-05T12:59:53.557Z"
   },
   {
    "duration": 36,
    "start_time": "2022-10-05T13:05:50.603Z"
   },
   {
    "duration": 25,
    "start_time": "2022-10-05T13:06:41.417Z"
   },
   {
    "duration": 49,
    "start_time": "2022-10-05T13:11:53.477Z"
   },
   {
    "duration": 10,
    "start_time": "2022-10-05T13:12:29.904Z"
   },
   {
    "duration": 3,
    "start_time": "2022-10-05T13:12:47.597Z"
   },
   {
    "duration": 35,
    "start_time": "2022-10-05T13:12:51.817Z"
   },
   {
    "duration": 4,
    "start_time": "2022-10-05T13:13:14.068Z"
   },
   {
    "duration": 19,
    "start_time": "2022-10-05T13:13:14.073Z"
   },
   {
    "duration": 169,
    "start_time": "2022-10-05T13:13:14.093Z"
   },
   {
    "duration": 49,
    "start_time": "2022-10-05T13:13:14.264Z"
   },
   {
    "duration": 12,
    "start_time": "2022-10-05T13:13:14.315Z"
   },
   {
    "duration": 3,
    "start_time": "2022-10-05T13:13:14.328Z"
   },
   {
    "duration": 29,
    "start_time": "2022-10-05T13:13:14.333Z"
   },
   {
    "duration": 28,
    "start_time": "2022-10-05T13:13:18.980Z"
   },
   {
    "duration": 22,
    "start_time": "2022-10-05T13:13:32.843Z"
   },
   {
    "duration": 25,
    "start_time": "2022-10-05T13:13:42.504Z"
   },
   {
    "duration": 4,
    "start_time": "2022-10-05T13:14:08.683Z"
   },
   {
    "duration": 3,
    "start_time": "2022-10-05T13:14:08.699Z"
   },
   {
    "duration": 150,
    "start_time": "2022-10-05T13:14:08.704Z"
   },
   {
    "duration": 47,
    "start_time": "2022-10-05T13:14:08.855Z"
   },
   {
    "duration": 10,
    "start_time": "2022-10-05T13:14:08.904Z"
   },
   {
    "duration": 32,
    "start_time": "2022-10-05T13:14:08.916Z"
   },
   {
    "duration": 16,
    "start_time": "2022-10-05T13:14:32.460Z"
   },
   {
    "duration": 4,
    "start_time": "2022-10-05T13:14:41.378Z"
   },
   {
    "duration": 13,
    "start_time": "2022-10-05T13:14:41.385Z"
   },
   {
    "duration": 187,
    "start_time": "2022-10-05T13:14:41.400Z"
   },
   {
    "duration": 53,
    "start_time": "2022-10-05T13:14:41.588Z"
   },
   {
    "duration": 14,
    "start_time": "2022-10-05T13:14:41.643Z"
   },
   {
    "duration": 16,
    "start_time": "2022-10-05T13:14:42.942Z"
   },
   {
    "duration": 33,
    "start_time": "2022-10-05T13:17:04.840Z"
   },
   {
    "duration": 4,
    "start_time": "2022-10-05T13:18:05.661Z"
   },
   {
    "duration": 12,
    "start_time": "2022-10-05T13:18:05.667Z"
   },
   {
    "duration": 190,
    "start_time": "2022-10-05T13:18:05.680Z"
   },
   {
    "duration": 53,
    "start_time": "2022-10-05T13:18:05.872Z"
   },
   {
    "duration": 12,
    "start_time": "2022-10-05T13:18:05.926Z"
   },
   {
    "duration": 18,
    "start_time": "2022-10-05T13:18:05.939Z"
   },
   {
    "duration": 26,
    "start_time": "2022-10-05T13:18:05.959Z"
   },
   {
    "duration": 66,
    "start_time": "2022-10-05T13:18:05.987Z"
   },
   {
    "duration": 30,
    "start_time": "2022-10-05T13:18:06.056Z"
   },
   {
    "duration": 36,
    "start_time": "2022-10-05T13:18:06.088Z"
   },
   {
    "duration": 74,
    "start_time": "2022-10-05T13:18:06.126Z"
   },
   {
    "duration": 25,
    "start_time": "2022-10-05T13:18:06.222Z"
   },
   {
    "duration": 36,
    "start_time": "2022-10-05T13:18:06.249Z"
   },
   {
    "duration": 10,
    "start_time": "2022-10-05T13:18:06.287Z"
   },
   {
    "duration": 168,
    "start_time": "2022-10-05T13:18:06.298Z"
   },
   {
    "duration": 15,
    "start_time": "2022-10-05T13:18:06.468Z"
   },
   {
    "duration": 15,
    "start_time": "2022-10-05T13:18:06.485Z"
   },
   {
    "duration": 213,
    "start_time": "2022-10-05T13:18:06.502Z"
   },
   {
    "duration": 145,
    "start_time": "2022-10-05T13:18:06.716Z"
   },
   {
    "duration": 239,
    "start_time": "2022-10-05T13:18:06.863Z"
   },
   {
    "duration": 142,
    "start_time": "2022-10-05T13:18:07.104Z"
   },
   {
    "duration": 263,
    "start_time": "2022-10-05T13:18:07.247Z"
   },
   {
    "duration": 120,
    "start_time": "2022-10-05T13:18:07.511Z"
   },
   {
    "duration": 24,
    "start_time": "2022-10-05T13:18:07.634Z"
   },
   {
    "duration": 164,
    "start_time": "2022-10-05T13:18:07.660Z"
   },
   {
    "duration": 83,
    "start_time": "2022-10-05T13:18:07.825Z"
   },
   {
    "duration": 479,
    "start_time": "2022-10-05T13:18:07.909Z"
   },
   {
    "duration": 0,
    "start_time": "2022-10-05T13:18:08.390Z"
   },
   {
    "duration": 0,
    "start_time": "2022-10-05T13:18:08.391Z"
   },
   {
    "duration": 0,
    "start_time": "2022-10-05T13:18:08.391Z"
   },
   {
    "duration": 0,
    "start_time": "2022-10-05T13:18:08.392Z"
   },
   {
    "duration": 0,
    "start_time": "2022-10-05T13:18:08.393Z"
   },
   {
    "duration": 0,
    "start_time": "2022-10-05T13:18:08.394Z"
   },
   {
    "duration": 0,
    "start_time": "2022-10-05T13:18:08.395Z"
   },
   {
    "duration": 0,
    "start_time": "2022-10-05T13:18:08.396Z"
   },
   {
    "duration": 0,
    "start_time": "2022-10-05T13:18:08.397Z"
   },
   {
    "duration": 0,
    "start_time": "2022-10-05T13:18:08.398Z"
   },
   {
    "duration": 0,
    "start_time": "2022-10-05T13:18:08.399Z"
   },
   {
    "duration": 0,
    "start_time": "2022-10-05T13:18:08.400Z"
   },
   {
    "duration": 0,
    "start_time": "2022-10-05T13:18:08.401Z"
   },
   {
    "duration": 0,
    "start_time": "2022-10-05T13:18:08.401Z"
   },
   {
    "duration": 0,
    "start_time": "2022-10-05T13:18:08.403Z"
   },
   {
    "duration": 0,
    "start_time": "2022-10-05T13:18:08.403Z"
   },
   {
    "duration": 0,
    "start_time": "2022-10-05T13:18:08.405Z"
   },
   {
    "duration": 0,
    "start_time": "2022-10-05T13:18:08.405Z"
   },
   {
    "duration": 0,
    "start_time": "2022-10-05T13:18:08.406Z"
   },
   {
    "duration": 0,
    "start_time": "2022-10-05T13:18:08.407Z"
   },
   {
    "duration": 0,
    "start_time": "2022-10-05T13:18:08.407Z"
   },
   {
    "duration": 0,
    "start_time": "2022-10-05T13:18:08.408Z"
   },
   {
    "duration": 0,
    "start_time": "2022-10-05T13:18:08.409Z"
   },
   {
    "duration": 0,
    "start_time": "2022-10-05T13:18:08.410Z"
   },
   {
    "duration": 0,
    "start_time": "2022-10-05T13:18:08.411Z"
   },
   {
    "duration": 0,
    "start_time": "2022-10-05T13:18:08.412Z"
   },
   {
    "duration": 3,
    "start_time": "2022-10-05T13:18:18.883Z"
   },
   {
    "duration": 6,
    "start_time": "2022-10-05T13:18:18.888Z"
   },
   {
    "duration": 159,
    "start_time": "2022-10-05T13:18:18.895Z"
   },
   {
    "duration": 49,
    "start_time": "2022-10-05T13:18:19.055Z"
   },
   {
    "duration": 10,
    "start_time": "2022-10-05T13:18:19.106Z"
   },
   {
    "duration": 14,
    "start_time": "2022-10-05T13:18:19.118Z"
   },
   {
    "duration": 36,
    "start_time": "2022-10-05T13:18:21.437Z"
   },
   {
    "duration": 27,
    "start_time": "2022-10-05T13:19:00.188Z"
   },
   {
    "duration": 4,
    "start_time": "2022-10-05T13:19:26.540Z"
   },
   {
    "duration": 7,
    "start_time": "2022-10-05T13:19:26.546Z"
   },
   {
    "duration": 174,
    "start_time": "2022-10-05T13:19:26.555Z"
   },
   {
    "duration": 51,
    "start_time": "2022-10-05T13:19:26.731Z"
   },
   {
    "duration": 11,
    "start_time": "2022-10-05T13:19:26.784Z"
   },
   {
    "duration": 17,
    "start_time": "2022-10-05T13:19:26.796Z"
   },
   {
    "duration": 25,
    "start_time": "2022-10-05T13:19:26.822Z"
   },
   {
    "duration": 34,
    "start_time": "2022-10-05T13:19:39.924Z"
   },
   {
    "duration": 58,
    "start_time": "2022-10-05T13:25:10.137Z"
   },
   {
    "duration": 3,
    "start_time": "2022-10-05T13:25:14.008Z"
   },
   {
    "duration": 21,
    "start_time": "2022-10-05T13:25:14.013Z"
   },
   {
    "duration": 157,
    "start_time": "2022-10-05T13:25:14.036Z"
   },
   {
    "duration": 48,
    "start_time": "2022-10-05T13:25:14.195Z"
   },
   {
    "duration": 11,
    "start_time": "2022-10-05T13:25:14.244Z"
   },
   {
    "duration": 14,
    "start_time": "2022-10-05T13:25:14.256Z"
   },
   {
    "duration": 22,
    "start_time": "2022-10-05T13:25:14.272Z"
   },
   {
    "duration": 45,
    "start_time": "2022-10-05T13:25:14.322Z"
   },
   {
    "duration": 444,
    "start_time": "2022-10-05T13:25:21.454Z"
   },
   {
    "duration": 26,
    "start_time": "2022-10-05T13:25:58.543Z"
   },
   {
    "duration": 4,
    "start_time": "2022-10-05T13:26:11.110Z"
   },
   {
    "duration": 13,
    "start_time": "2022-10-05T13:26:11.116Z"
   },
   {
    "duration": 161,
    "start_time": "2022-10-05T13:26:11.131Z"
   },
   {
    "duration": 47,
    "start_time": "2022-10-05T13:26:11.294Z"
   },
   {
    "duration": 10,
    "start_time": "2022-10-05T13:26:11.343Z"
   },
   {
    "duration": 20,
    "start_time": "2022-10-05T13:26:11.355Z"
   },
   {
    "duration": 50,
    "start_time": "2022-10-05T13:26:11.377Z"
   },
   {
    "duration": 30,
    "start_time": "2022-10-05T13:26:19.498Z"
   },
   {
    "duration": 4,
    "start_time": "2022-10-05T13:26:54.000Z"
   },
   {
    "duration": 15,
    "start_time": "2022-10-05T13:26:54.006Z"
   },
   {
    "duration": 162,
    "start_time": "2022-10-05T13:26:54.022Z"
   },
   {
    "duration": 49,
    "start_time": "2022-10-05T13:26:54.186Z"
   },
   {
    "duration": 10,
    "start_time": "2022-10-05T13:26:54.237Z"
   },
   {
    "duration": 16,
    "start_time": "2022-10-05T13:26:54.249Z"
   },
   {
    "duration": 55,
    "start_time": "2022-10-05T13:26:54.267Z"
   },
   {
    "duration": 37,
    "start_time": "2022-10-05T13:27:33.492Z"
   },
   {
    "duration": 31,
    "start_time": "2022-10-05T13:28:16.094Z"
   },
   {
    "duration": 910,
    "start_time": "2022-10-05T13:35:49.081Z"
   },
   {
    "duration": 22,
    "start_time": "2022-10-05T13:36:18.753Z"
   },
   {
    "duration": 108,
    "start_time": "2022-10-05T13:36:33.053Z"
   },
   {
    "duration": 3,
    "start_time": "2022-10-05T13:37:02.104Z"
   },
   {
    "duration": 552,
    "start_time": "2022-10-05T13:37:12.194Z"
   },
   {
    "duration": 465,
    "start_time": "2022-10-05T13:38:15.079Z"
   },
   {
    "duration": 24,
    "start_time": "2022-10-05T13:38:32.475Z"
   },
   {
    "duration": 29,
    "start_time": "2022-10-05T13:40:25.359Z"
   },
   {
    "duration": 4,
    "start_time": "2022-10-05T13:40:30.782Z"
   },
   {
    "duration": 34,
    "start_time": "2022-10-05T13:40:30.788Z"
   },
   {
    "duration": 172,
    "start_time": "2022-10-05T13:40:30.824Z"
   },
   {
    "duration": 62,
    "start_time": "2022-10-05T13:40:30.998Z"
   },
   {
    "duration": 11,
    "start_time": "2022-10-05T13:40:31.061Z"
   },
   {
    "duration": 56,
    "start_time": "2022-10-05T13:40:31.073Z"
   },
   {
    "duration": 47,
    "start_time": "2022-10-05T13:40:31.130Z"
   },
   {
    "duration": 28,
    "start_time": "2022-10-05T13:40:31.178Z"
   },
   {
    "duration": 23,
    "start_time": "2022-10-05T13:40:33.142Z"
   },
   {
    "duration": 22,
    "start_time": "2022-10-05T13:43:50.176Z"
   },
   {
    "duration": 4,
    "start_time": "2022-10-05T13:43:55.001Z"
   },
   {
    "duration": 16,
    "start_time": "2022-10-05T13:43:55.007Z"
   },
   {
    "duration": 183,
    "start_time": "2022-10-05T13:43:55.025Z"
   },
   {
    "duration": 47,
    "start_time": "2022-10-05T13:43:55.210Z"
   },
   {
    "duration": 12,
    "start_time": "2022-10-05T13:43:55.258Z"
   },
   {
    "duration": 15,
    "start_time": "2022-10-05T13:43:55.271Z"
   },
   {
    "duration": 42,
    "start_time": "2022-10-05T13:43:55.288Z"
   },
   {
    "duration": 27,
    "start_time": "2022-10-05T13:43:57.634Z"
   },
   {
    "duration": 22,
    "start_time": "2022-10-05T13:44:32.243Z"
   },
   {
    "duration": 4,
    "start_time": "2022-10-05T13:44:50.919Z"
   },
   {
    "duration": 17,
    "start_time": "2022-10-05T13:44:50.924Z"
   },
   {
    "duration": 190,
    "start_time": "2022-10-05T13:44:50.942Z"
   },
   {
    "duration": 51,
    "start_time": "2022-10-05T13:44:51.134Z"
   },
   {
    "duration": 12,
    "start_time": "2022-10-05T13:44:51.187Z"
   },
   {
    "duration": 27,
    "start_time": "2022-10-05T13:44:51.201Z"
   },
   {
    "duration": 30,
    "start_time": "2022-10-05T13:44:51.230Z"
   },
   {
    "duration": 35,
    "start_time": "2022-10-05T13:44:53.473Z"
   },
   {
    "duration": 4,
    "start_time": "2022-10-05T13:45:52.400Z"
   },
   {
    "duration": 13,
    "start_time": "2022-10-05T13:45:52.406Z"
   },
   {
    "duration": 170,
    "start_time": "2022-10-05T13:45:52.421Z"
   },
   {
    "duration": 50,
    "start_time": "2022-10-05T13:45:52.592Z"
   },
   {
    "duration": 13,
    "start_time": "2022-10-05T13:45:52.644Z"
   },
   {
    "duration": 33,
    "start_time": "2022-10-05T13:45:52.659Z"
   },
   {
    "duration": 43,
    "start_time": "2022-10-05T13:45:52.694Z"
   },
   {
    "duration": 26,
    "start_time": "2022-10-05T13:45:54.876Z"
   },
   {
    "duration": 3,
    "start_time": "2022-10-05T13:46:37.255Z"
   },
   {
    "duration": 29,
    "start_time": "2022-10-05T13:46:37.260Z"
   },
   {
    "duration": 183,
    "start_time": "2022-10-05T13:46:37.290Z"
   },
   {
    "duration": 50,
    "start_time": "2022-10-05T13:46:37.475Z"
   },
   {
    "duration": 12,
    "start_time": "2022-10-05T13:46:37.527Z"
   },
   {
    "duration": 24,
    "start_time": "2022-10-05T13:46:37.540Z"
   },
   {
    "duration": 44,
    "start_time": "2022-10-05T13:46:37.565Z"
   },
   {
    "duration": 29,
    "start_time": "2022-10-05T13:46:39.299Z"
   },
   {
    "duration": 4,
    "start_time": "2022-10-05T13:50:28.362Z"
   },
   {
    "duration": 21,
    "start_time": "2022-10-05T13:50:28.367Z"
   },
   {
    "duration": 170,
    "start_time": "2022-10-05T13:50:28.390Z"
   },
   {
    "duration": 51,
    "start_time": "2022-10-05T13:50:28.561Z"
   },
   {
    "duration": 14,
    "start_time": "2022-10-05T13:50:28.614Z"
   },
   {
    "duration": 18,
    "start_time": "2022-10-05T13:50:28.630Z"
   },
   {
    "duration": 25,
    "start_time": "2022-10-05T13:50:28.650Z"
   },
   {
    "duration": 32,
    "start_time": "2022-10-05T13:50:30.505Z"
   },
   {
    "duration": 26,
    "start_time": "2022-10-05T13:50:52.775Z"
   },
   {
    "duration": 4,
    "start_time": "2022-10-05T13:51:33.011Z"
   },
   {
    "duration": 8,
    "start_time": "2022-10-05T13:51:33.016Z"
   },
   {
    "duration": 163,
    "start_time": "2022-10-05T13:51:33.026Z"
   },
   {
    "duration": 55,
    "start_time": "2022-10-05T13:51:33.190Z"
   },
   {
    "duration": 10,
    "start_time": "2022-10-05T13:51:33.247Z"
   },
   {
    "duration": 15,
    "start_time": "2022-10-05T13:51:33.258Z"
   },
   {
    "duration": 48,
    "start_time": "2022-10-05T13:51:33.274Z"
   },
   {
    "duration": 38,
    "start_time": "2022-10-05T13:51:35.907Z"
   },
   {
    "duration": 9,
    "start_time": "2022-10-05T13:53:24.048Z"
   },
   {
    "duration": 9,
    "start_time": "2022-10-05T13:53:29.692Z"
   },
   {
    "duration": 16,
    "start_time": "2022-10-05T13:53:58.148Z"
   },
   {
    "duration": 85,
    "start_time": "2022-10-05T13:54:21.511Z"
   },
   {
    "duration": 28,
    "start_time": "2022-10-05T13:54:30.152Z"
   },
   {
    "duration": 3,
    "start_time": "2022-10-05T13:54:55.571Z"
   },
   {
    "duration": 14,
    "start_time": "2022-10-05T13:54:55.579Z"
   },
   {
    "duration": 163,
    "start_time": "2022-10-05T13:54:55.594Z"
   },
   {
    "duration": 51,
    "start_time": "2022-10-05T13:54:55.759Z"
   },
   {
    "duration": 14,
    "start_time": "2022-10-05T13:54:55.811Z"
   },
   {
    "duration": 17,
    "start_time": "2022-10-05T13:54:55.827Z"
   },
   {
    "duration": 30,
    "start_time": "2022-10-05T13:54:55.845Z"
   },
   {
    "duration": 61,
    "start_time": "2022-10-05T13:54:55.877Z"
   },
   {
    "duration": 30,
    "start_time": "2022-10-05T13:54:55.940Z"
   },
   {
    "duration": 29,
    "start_time": "2022-10-05T13:55:00.425Z"
   },
   {
    "duration": 35,
    "start_time": "2022-10-05T13:57:32.728Z"
   },
   {
    "duration": 4,
    "start_time": "2022-10-05T13:58:01.780Z"
   },
   {
    "duration": 24,
    "start_time": "2022-10-05T13:58:01.785Z"
   },
   {
    "duration": 178,
    "start_time": "2022-10-05T13:58:01.811Z"
   },
   {
    "duration": 52,
    "start_time": "2022-10-05T13:58:01.991Z"
   },
   {
    "duration": 11,
    "start_time": "2022-10-05T13:58:02.045Z"
   },
   {
    "duration": 27,
    "start_time": "2022-10-05T13:58:02.057Z"
   },
   {
    "duration": 31,
    "start_time": "2022-10-05T13:58:02.086Z"
   },
   {
    "duration": 26,
    "start_time": "2022-10-05T13:58:03.948Z"
   },
   {
    "duration": 35,
    "start_time": "2022-10-05T14:00:51.449Z"
   },
   {
    "duration": 23,
    "start_time": "2022-10-05T14:01:01.472Z"
   },
   {
    "duration": 76,
    "start_time": "2022-10-05T14:01:17.652Z"
   },
   {
    "duration": 24,
    "start_time": "2022-10-05T14:02:07.977Z"
   },
   {
    "duration": 1921,
    "start_time": "2022-10-05T14:06:29.925Z"
   },
   {
    "duration": 1955,
    "start_time": "2022-10-05T14:07:05.565Z"
   },
   {
    "duration": 9,
    "start_time": "2022-10-05T14:07:21.581Z"
   },
   {
    "duration": 14,
    "start_time": "2022-10-05T14:08:16.383Z"
   },
   {
    "duration": 41,
    "start_time": "2022-10-05T14:10:58.061Z"
   },
   {
    "duration": 5,
    "start_time": "2022-10-05T14:12:48.125Z"
   },
   {
    "duration": 14,
    "start_time": "2022-10-05T14:13:31.933Z"
   },
   {
    "duration": 16,
    "start_time": "2022-10-05T14:19:22.293Z"
   },
   {
    "duration": 24,
    "start_time": "2022-10-05T14:20:12.726Z"
   },
   {
    "duration": 26,
    "start_time": "2022-10-05T14:22:09.199Z"
   },
   {
    "duration": 106,
    "start_time": "2022-10-05T14:22:39.769Z"
   },
   {
    "duration": 92,
    "start_time": "2022-10-05T14:22:49.907Z"
   },
   {
    "duration": 14,
    "start_time": "2022-10-05T14:23:06.678Z"
   },
   {
    "duration": 4,
    "start_time": "2022-10-05T14:23:11.123Z"
   },
   {
    "duration": 5,
    "start_time": "2022-10-05T14:23:11.129Z"
   },
   {
    "duration": 156,
    "start_time": "2022-10-05T14:23:11.135Z"
   },
   {
    "duration": 47,
    "start_time": "2022-10-05T14:23:11.293Z"
   },
   {
    "duration": 11,
    "start_time": "2022-10-05T14:23:11.342Z"
   },
   {
    "duration": 4,
    "start_time": "2022-10-05T14:23:11.354Z"
   },
   {
    "duration": 31,
    "start_time": "2022-10-05T14:23:11.360Z"
   },
   {
    "duration": 50,
    "start_time": "2022-10-05T14:23:11.393Z"
   },
   {
    "duration": 53,
    "start_time": "2022-10-05T14:23:11.446Z"
   },
   {
    "duration": 46,
    "start_time": "2022-10-05T14:23:11.501Z"
   },
   {
    "duration": 112,
    "start_time": "2022-10-05T14:23:11.550Z"
   },
   {
    "duration": 37,
    "start_time": "2022-10-05T14:23:11.664Z"
   },
   {
    "duration": 23,
    "start_time": "2022-10-05T14:23:11.703Z"
   },
   {
    "duration": 17,
    "start_time": "2022-10-05T14:23:13.189Z"
   },
   {
    "duration": 27,
    "start_time": "2022-10-05T14:23:18.141Z"
   },
   {
    "duration": 20,
    "start_time": "2022-10-05T14:23:54.246Z"
   },
   {
    "duration": 439,
    "start_time": "2022-10-05T14:32:40.369Z"
   },
   {
    "duration": 16,
    "start_time": "2022-10-05T14:36:01.005Z"
   },
   {
    "duration": 9,
    "start_time": "2022-10-05T14:36:51.486Z"
   },
   {
    "duration": 5,
    "start_time": "2022-10-05T14:36:57.879Z"
   },
   {
    "duration": 7,
    "start_time": "2022-10-05T14:36:57.886Z"
   },
   {
    "duration": 157,
    "start_time": "2022-10-05T14:36:57.895Z"
   },
   {
    "duration": 48,
    "start_time": "2022-10-05T14:36:58.054Z"
   },
   {
    "duration": 10,
    "start_time": "2022-10-05T14:36:58.103Z"
   },
   {
    "duration": 11,
    "start_time": "2022-10-05T14:36:58.114Z"
   },
   {
    "duration": 25,
    "start_time": "2022-10-05T14:36:58.126Z"
   },
   {
    "duration": 23,
    "start_time": "2022-10-05T14:36:58.152Z"
   },
   {
    "duration": 46,
    "start_time": "2022-10-05T14:36:58.177Z"
   },
   {
    "duration": 21,
    "start_time": "2022-10-05T14:36:58.225Z"
   },
   {
    "duration": 14,
    "start_time": "2022-10-05T14:36:58.247Z"
   },
   {
    "duration": 23,
    "start_time": "2022-10-05T14:36:58.262Z"
   },
   {
    "duration": 5,
    "start_time": "2022-10-05T14:36:58.286Z"
   },
   {
    "duration": 41,
    "start_time": "2022-10-05T14:36:58.293Z"
   },
   {
    "duration": 18,
    "start_time": "2022-10-05T14:36:58.336Z"
   },
   {
    "duration": 3,
    "start_time": "2022-10-05T14:37:00.367Z"
   },
   {
    "duration": 3,
    "start_time": "2022-10-05T14:37:54.206Z"
   },
   {
    "duration": 4,
    "start_time": "2022-10-05T14:38:03.368Z"
   },
   {
    "duration": 9,
    "start_time": "2022-10-05T14:38:06.355Z"
   },
   {
    "duration": 3,
    "start_time": "2022-10-05T14:38:10.293Z"
   },
   {
    "duration": 9,
    "start_time": "2022-10-05T14:38:15.840Z"
   },
   {
    "duration": 3,
    "start_time": "2022-10-05T14:38:19.382Z"
   },
   {
    "duration": 16,
    "start_time": "2022-10-05T14:39:11.749Z"
   },
   {
    "duration": 15,
    "start_time": "2022-10-05T14:39:38.073Z"
   },
   {
    "duration": 216,
    "start_time": "2022-10-05T14:40:48.524Z"
   },
   {
    "duration": 202,
    "start_time": "2022-10-05T14:40:56.702Z"
   },
   {
    "duration": 205,
    "start_time": "2022-10-05T14:41:20.198Z"
   },
   {
    "duration": 117,
    "start_time": "2022-10-05T14:41:24.105Z"
   },
   {
    "duration": 122,
    "start_time": "2022-10-05T14:41:44.599Z"
   },
   {
    "duration": 123,
    "start_time": "2022-10-05T14:41:49.124Z"
   },
   {
    "duration": 130,
    "start_time": "2022-10-05T14:41:54.685Z"
   },
   {
    "duration": 223,
    "start_time": "2022-10-05T14:42:09.364Z"
   },
   {
    "duration": 127,
    "start_time": "2022-10-05T14:42:15.287Z"
   },
   {
    "duration": 139,
    "start_time": "2022-10-05T14:42:21.569Z"
   },
   {
    "duration": 119,
    "start_time": "2022-10-05T14:42:24.330Z"
   },
   {
    "duration": 126,
    "start_time": "2022-10-05T14:42:27.756Z"
   },
   {
    "duration": 34,
    "start_time": "2022-10-05T14:43:24.627Z"
   },
   {
    "duration": 239,
    "start_time": "2022-10-05T14:43:47.831Z"
   },
   {
    "duration": 288,
    "start_time": "2022-10-05T14:46:54.937Z"
   },
   {
    "duration": 271,
    "start_time": "2022-10-05T14:47:07.874Z"
   },
   {
    "duration": 50990,
    "start_time": "2022-10-05T14:50:20.485Z"
   },
   {
    "duration": 22,
    "start_time": "2022-10-05T14:52:12.649Z"
   },
   {
    "duration": 112,
    "start_time": "2022-10-05T14:54:04.479Z"
   },
   {
    "duration": 306,
    "start_time": "2022-10-05T14:54:38.481Z"
   },
   {
    "duration": 160,
    "start_time": "2022-10-05T14:56:33.246Z"
   },
   {
    "duration": 184,
    "start_time": "2022-10-05T14:57:14.378Z"
   },
   {
    "duration": 308,
    "start_time": "2022-10-05T14:58:34.606Z"
   },
   {
    "duration": 356,
    "start_time": "2022-10-05T14:58:46.111Z"
   },
   {
    "duration": 392,
    "start_time": "2022-10-05T14:59:43.157Z"
   },
   {
    "duration": 27,
    "start_time": "2022-10-05T15:00:51.644Z"
   },
   {
    "duration": 25,
    "start_time": "2022-10-05T15:06:10.546Z"
   },
   {
    "duration": 26,
    "start_time": "2022-10-05T15:08:50.645Z"
   },
   {
    "duration": 24,
    "start_time": "2022-10-05T15:10:39.584Z"
   },
   {
    "duration": 30,
    "start_time": "2022-10-05T15:12:11.333Z"
   },
   {
    "duration": 29,
    "start_time": "2022-10-05T15:13:08.802Z"
   },
   {
    "duration": 5,
    "start_time": "2022-10-05T15:13:17.925Z"
   },
   {
    "duration": 22,
    "start_time": "2022-10-05T15:13:22.178Z"
   },
   {
    "duration": 21,
    "start_time": "2022-10-05T15:13:26.562Z"
   },
   {
    "duration": 37,
    "start_time": "2022-10-05T15:14:25.182Z"
   },
   {
    "duration": 23,
    "start_time": "2022-10-05T15:14:51.457Z"
   },
   {
    "duration": 58,
    "start_time": "2022-10-05T15:15:26.674Z"
   },
   {
    "duration": 69,
    "start_time": "2022-10-05T15:15:31.120Z"
   },
   {
    "duration": 63,
    "start_time": "2022-10-05T15:17:26.967Z"
   },
   {
    "duration": 62,
    "start_time": "2022-10-05T15:18:57.779Z"
   },
   {
    "duration": 63,
    "start_time": "2022-10-05T15:19:46.372Z"
   },
   {
    "duration": 66,
    "start_time": "2022-10-05T15:20:17.924Z"
   },
   {
    "duration": 176,
    "start_time": "2022-10-05T15:21:56.212Z"
   },
   {
    "duration": 160,
    "start_time": "2022-10-05T15:26:46.358Z"
   },
   {
    "duration": 164,
    "start_time": "2022-10-05T15:27:29.233Z"
   },
   {
    "duration": 162,
    "start_time": "2022-10-05T15:28:15.624Z"
   },
   {
    "duration": 185,
    "start_time": "2022-10-05T15:28:26.082Z"
   },
   {
    "duration": 153,
    "start_time": "2022-10-05T15:29:09.182Z"
   },
   {
    "duration": 164,
    "start_time": "2022-10-05T15:32:18.554Z"
   },
   {
    "duration": 157,
    "start_time": "2022-10-05T15:33:50.479Z"
   },
   {
    "duration": 186,
    "start_time": "2022-10-05T15:43:18.362Z"
   },
   {
    "duration": 151,
    "start_time": "2022-10-05T15:44:28.432Z"
   },
   {
    "duration": 5,
    "start_time": "2022-10-05T15:44:45.383Z"
   },
   {
    "duration": 73,
    "start_time": "2022-10-05T15:45:46.772Z"
   },
   {
    "duration": 8,
    "start_time": "2022-10-05T15:45:58.970Z"
   },
   {
    "duration": 221,
    "start_time": "2022-10-05T15:46:55.476Z"
   },
   {
    "duration": 170,
    "start_time": "2022-10-05T15:47:18.421Z"
   },
   {
    "duration": 194,
    "start_time": "2022-10-05T15:47:26.060Z"
   },
   {
    "duration": 4,
    "start_time": "2022-10-05T15:49:30.573Z"
   },
   {
    "duration": 10,
    "start_time": "2022-10-05T15:50:44.504Z"
   },
   {
    "duration": 4,
    "start_time": "2022-10-05T15:50:52.358Z"
   },
   {
    "duration": 4,
    "start_time": "2022-10-05T15:51:18.797Z"
   },
   {
    "duration": 151,
    "start_time": "2022-10-05T15:52:17.574Z"
   },
   {
    "duration": 131,
    "start_time": "2022-10-05T15:53:04.569Z"
   },
   {
    "duration": 158,
    "start_time": "2022-10-05T15:53:18.974Z"
   },
   {
    "duration": 150,
    "start_time": "2022-10-05T16:05:34.487Z"
   },
   {
    "duration": 3,
    "start_time": "2022-10-05T16:06:44.177Z"
   },
   {
    "duration": 4,
    "start_time": "2022-10-05T16:06:48.051Z"
   },
   {
    "duration": 4,
    "start_time": "2022-10-05T16:07:08.044Z"
   },
   {
    "duration": 3,
    "start_time": "2022-10-05T16:07:46.174Z"
   },
   {
    "duration": 4,
    "start_time": "2022-10-05T16:07:53.628Z"
   },
   {
    "duration": 145,
    "start_time": "2022-10-05T16:07:58.005Z"
   },
   {
    "duration": 129,
    "start_time": "2022-10-05T16:08:01.210Z"
   },
   {
    "duration": 158,
    "start_time": "2022-10-05T16:08:09.802Z"
   },
   {
    "duration": 191,
    "start_time": "2022-10-05T16:10:17.103Z"
   },
   {
    "duration": 174,
    "start_time": "2022-10-05T16:11:33.606Z"
   },
   {
    "duration": 8,
    "start_time": "2022-10-05T16:12:22.726Z"
   },
   {
    "duration": 7,
    "start_time": "2022-10-05T16:12:34.788Z"
   },
   {
    "duration": 228,
    "start_time": "2022-10-05T16:12:44.082Z"
   },
   {
    "duration": 175,
    "start_time": "2022-10-05T16:13:46.178Z"
   },
   {
    "duration": 9,
    "start_time": "2022-10-05T16:13:50.049Z"
   },
   {
    "duration": 9,
    "start_time": "2022-10-05T16:14:36.830Z"
   },
   {
    "duration": 11,
    "start_time": "2022-10-05T16:15:14.024Z"
   },
   {
    "duration": 16,
    "start_time": "2022-10-05T16:15:18.822Z"
   },
   {
    "duration": 4,
    "start_time": "2022-10-05T16:15:29.204Z"
   },
   {
    "duration": 9,
    "start_time": "2022-10-05T16:15:29.210Z"
   },
   {
    "duration": 158,
    "start_time": "2022-10-05T16:15:29.221Z"
   },
   {
    "duration": 58,
    "start_time": "2022-10-05T16:15:29.381Z"
   },
   {
    "duration": 10,
    "start_time": "2022-10-05T16:15:29.441Z"
   },
   {
    "duration": 3,
    "start_time": "2022-10-05T16:15:29.452Z"
   },
   {
    "duration": 25,
    "start_time": "2022-10-05T16:15:29.457Z"
   },
   {
    "duration": 54,
    "start_time": "2022-10-05T16:15:29.484Z"
   },
   {
    "duration": 33,
    "start_time": "2022-10-05T16:15:29.540Z"
   },
   {
    "duration": 22,
    "start_time": "2022-10-05T16:15:29.575Z"
   },
   {
    "duration": 32,
    "start_time": "2022-10-05T16:15:29.601Z"
   },
   {
    "duration": 23,
    "start_time": "2022-10-05T16:15:29.635Z"
   },
   {
    "duration": 5,
    "start_time": "2022-10-05T16:15:29.659Z"
   },
   {
    "duration": 18,
    "start_time": "2022-10-05T16:15:29.665Z"
   },
   {
    "duration": 43,
    "start_time": "2022-10-05T16:15:29.684Z"
   },
   {
    "duration": 2,
    "start_time": "2022-10-05T16:15:29.728Z"
   },
   {
    "duration": 15,
    "start_time": "2022-10-05T16:15:29.731Z"
   },
   {
    "duration": 241,
    "start_time": "2022-10-05T16:15:29.747Z"
   },
   {
    "duration": 142,
    "start_time": "2022-10-05T16:15:29.990Z"
   },
   {
    "duration": 224,
    "start_time": "2022-10-05T16:15:30.133Z"
   },
   {
    "duration": 132,
    "start_time": "2022-10-05T16:15:30.358Z"
   },
   {
    "duration": 238,
    "start_time": "2022-10-05T16:15:30.491Z"
   },
   {
    "duration": 129,
    "start_time": "2022-10-05T16:15:30.731Z"
   },
   {
    "duration": 30,
    "start_time": "2022-10-05T16:15:30.861Z"
   },
   {
    "duration": 171,
    "start_time": "2022-10-05T16:15:30.892Z"
   },
   {
    "duration": 311,
    "start_time": "2022-10-05T16:15:31.066Z"
   },
   {
    "duration": 52388,
    "start_time": "2022-10-05T16:15:31.379Z"
   },
   {
    "duration": 124,
    "start_time": "2022-10-05T16:16:23.768Z"
   },
   {
    "duration": 324,
    "start_time": "2022-10-05T16:16:23.895Z"
   },
   {
    "duration": 25,
    "start_time": "2022-10-05T16:16:24.221Z"
   },
   {
    "duration": 22,
    "start_time": "2022-10-05T16:16:24.247Z"
   },
   {
    "duration": 73,
    "start_time": "2022-10-05T16:16:24.270Z"
   },
   {
    "duration": 177,
    "start_time": "2022-10-05T16:16:24.345Z"
   },
   {
    "duration": 159,
    "start_time": "2022-10-05T16:16:24.524Z"
   },
   {
    "duration": 9,
    "start_time": "2022-10-05T16:16:24.684Z"
   },
   {
    "duration": 10,
    "start_time": "2022-10-05T16:16:24.695Z"
   },
   {
    "duration": 16,
    "start_time": "2022-10-05T16:16:24.706Z"
   },
   {
    "duration": 12,
    "start_time": "2022-10-05T16:16:24.724Z"
   },
   {
    "duration": 7,
    "start_time": "2022-10-05T16:16:24.738Z"
   },
   {
    "duration": 18,
    "start_time": "2022-10-05T16:16:24.746Z"
   },
   {
    "duration": 10,
    "start_time": "2022-10-05T16:16:24.765Z"
   },
   {
    "duration": 15,
    "start_time": "2022-10-05T16:16:53.440Z"
   },
   {
    "duration": 13,
    "start_time": "2022-10-05T16:17:02.583Z"
   },
   {
    "duration": 197,
    "start_time": "2022-10-05T16:17:11.125Z"
   },
   {
    "duration": 196,
    "start_time": "2022-10-05T16:17:37.382Z"
   },
   {
    "duration": 212,
    "start_time": "2022-10-05T16:18:32.553Z"
   },
   {
    "duration": 7,
    "start_time": "2022-10-05T16:27:58.992Z"
   },
   {
    "duration": 3,
    "start_time": "2022-10-05T16:28:03.513Z"
   },
   {
    "duration": 33,
    "start_time": "2022-10-05T16:35:04.942Z"
   },
   {
    "duration": 5,
    "start_time": "2022-10-05T16:35:26.115Z"
   },
   {
    "duration": 24,
    "start_time": "2022-10-05T16:35:26.123Z"
   },
   {
    "duration": 173,
    "start_time": "2022-10-05T16:35:26.149Z"
   },
   {
    "duration": 46,
    "start_time": "2022-10-05T16:35:26.323Z"
   },
   {
    "duration": 11,
    "start_time": "2022-10-05T16:35:26.371Z"
   },
   {
    "duration": 9,
    "start_time": "2022-10-05T16:35:26.383Z"
   },
   {
    "duration": 36,
    "start_time": "2022-10-05T16:35:26.394Z"
   },
   {
    "duration": 24,
    "start_time": "2022-10-05T16:35:26.431Z"
   },
   {
    "duration": 32,
    "start_time": "2022-10-05T16:35:26.457Z"
   },
   {
    "duration": 43,
    "start_time": "2022-10-05T16:35:26.491Z"
   },
   {
    "duration": 15,
    "start_time": "2022-10-05T16:35:26.535Z"
   },
   {
    "duration": 25,
    "start_time": "2022-10-05T16:35:26.552Z"
   },
   {
    "duration": 5,
    "start_time": "2022-10-05T16:35:26.579Z"
   },
   {
    "duration": 40,
    "start_time": "2022-10-05T16:35:26.586Z"
   },
   {
    "duration": 16,
    "start_time": "2022-10-05T16:35:26.628Z"
   },
   {
    "duration": 2,
    "start_time": "2022-10-05T16:35:26.645Z"
   },
   {
    "duration": 25,
    "start_time": "2022-10-05T16:35:30.971Z"
   },
   {
    "duration": 4,
    "start_time": "2022-10-05T16:39:05.821Z"
   },
   {
    "duration": 9,
    "start_time": "2022-10-05T16:39:05.827Z"
   },
   {
    "duration": 163,
    "start_time": "2022-10-05T16:39:05.838Z"
   },
   {
    "duration": 60,
    "start_time": "2022-10-05T16:39:06.002Z"
   },
   {
    "duration": 16,
    "start_time": "2022-10-05T16:39:06.065Z"
   },
   {
    "duration": 6,
    "start_time": "2022-10-05T16:39:06.083Z"
   },
   {
    "duration": 53,
    "start_time": "2022-10-05T16:39:06.092Z"
   },
   {
    "duration": 35,
    "start_time": "2022-10-05T16:39:06.147Z"
   },
   {
    "duration": 54,
    "start_time": "2022-10-05T16:39:06.187Z"
   },
   {
    "duration": 23,
    "start_time": "2022-10-05T16:39:06.243Z"
   },
   {
    "duration": 16,
    "start_time": "2022-10-05T16:39:06.267Z"
   },
   {
    "duration": 49,
    "start_time": "2022-10-05T16:39:06.284Z"
   },
   {
    "duration": 12,
    "start_time": "2022-10-05T16:39:09.329Z"
   },
   {
    "duration": 4,
    "start_time": "2022-10-05T16:40:42.744Z"
   },
   {
    "duration": 602,
    "start_time": "2022-10-05T16:40:55.676Z"
   },
   {
    "duration": 6,
    "start_time": "2022-10-05T16:54:21.490Z"
   },
   {
    "duration": 443,
    "start_time": "2022-10-05T17:17:23.470Z"
   },
   {
    "duration": 5,
    "start_time": "2022-10-05T17:17:37.736Z"
   },
   {
    "duration": 7,
    "start_time": "2022-10-05T17:17:37.743Z"
   },
   {
    "duration": 195,
    "start_time": "2022-10-05T17:17:37.752Z"
   },
   {
    "duration": 50,
    "start_time": "2022-10-05T17:17:37.950Z"
   },
   {
    "duration": 11,
    "start_time": "2022-10-05T17:17:38.001Z"
   },
   {
    "duration": 4,
    "start_time": "2022-10-05T17:17:38.021Z"
   },
   {
    "duration": 27,
    "start_time": "2022-10-05T17:17:38.027Z"
   },
   {
    "duration": 26,
    "start_time": "2022-10-05T17:17:38.055Z"
   },
   {
    "duration": 61,
    "start_time": "2022-10-05T17:17:38.083Z"
   },
   {
    "duration": 31,
    "start_time": "2022-10-05T17:17:38.146Z"
   },
   {
    "duration": 16,
    "start_time": "2022-10-05T17:17:38.180Z"
   },
   {
    "duration": 54,
    "start_time": "2022-10-05T17:17:38.197Z"
   },
   {
    "duration": 486,
    "start_time": "2022-10-05T17:17:38.253Z"
   },
   {
    "duration": 29,
    "start_time": "2022-10-05T17:49:17.752Z"
   },
   {
    "duration": 42,
    "start_time": "2022-10-05T17:49:23.786Z"
   },
   {
    "duration": 3,
    "start_time": "2022-10-05T17:49:34.442Z"
   },
   {
    "duration": 4,
    "start_time": "2022-10-05T17:49:34.465Z"
   },
   {
    "duration": 174,
    "start_time": "2022-10-05T17:49:34.472Z"
   },
   {
    "duration": 49,
    "start_time": "2022-10-05T17:49:34.648Z"
   },
   {
    "duration": 11,
    "start_time": "2022-10-05T17:49:34.699Z"
   },
   {
    "duration": 9,
    "start_time": "2022-10-05T17:49:34.712Z"
   },
   {
    "duration": 25,
    "start_time": "2022-10-05T17:49:34.723Z"
   },
   {
    "duration": 23,
    "start_time": "2022-10-05T17:49:34.749Z"
   },
   {
    "duration": 54,
    "start_time": "2022-10-05T17:49:34.774Z"
   },
   {
    "duration": 22,
    "start_time": "2022-10-05T17:49:34.830Z"
   },
   {
    "duration": 14,
    "start_time": "2022-10-05T17:49:34.854Z"
   },
   {
    "duration": 22,
    "start_time": "2022-10-05T17:49:34.870Z"
   },
   {
    "duration": 473,
    "start_time": "2022-10-05T17:49:34.893Z"
   },
   {
    "duration": 16,
    "start_time": "2022-10-05T17:49:35.368Z"
   },
   {
    "duration": 39,
    "start_time": "2022-10-05T17:49:35.385Z"
   },
   {
    "duration": 2,
    "start_time": "2022-10-05T17:49:35.425Z"
   },
   {
    "duration": 16,
    "start_time": "2022-10-05T17:49:35.429Z"
   },
   {
    "duration": 217,
    "start_time": "2022-10-05T17:49:35.447Z"
   },
   {
    "duration": 126,
    "start_time": "2022-10-05T17:49:35.666Z"
   },
   {
    "duration": 307,
    "start_time": "2022-10-05T17:49:35.793Z"
   },
   {
    "duration": 156,
    "start_time": "2022-10-05T17:49:36.102Z"
   },
   {
    "duration": 215,
    "start_time": "2022-10-05T17:49:36.259Z"
   },
   {
    "duration": 116,
    "start_time": "2022-10-05T17:49:36.476Z"
   },
   {
    "duration": 34,
    "start_time": "2022-10-05T17:49:36.593Z"
   },
   {
    "duration": 138,
    "start_time": "2022-10-05T17:49:36.628Z"
   },
   {
    "duration": 273,
    "start_time": "2022-10-05T17:49:36.767Z"
   },
   {
    "duration": 52451,
    "start_time": "2022-10-05T17:49:37.042Z"
   },
   {
    "duration": 124,
    "start_time": "2022-10-05T17:50:29.494Z"
   },
   {
    "duration": 320,
    "start_time": "2022-10-05T17:50:29.622Z"
   },
   {
    "duration": 26,
    "start_time": "2022-10-05T17:50:29.944Z"
   },
   {
    "duration": 20,
    "start_time": "2022-10-05T17:50:29.972Z"
   },
   {
    "duration": 73,
    "start_time": "2022-10-05T17:50:29.993Z"
   },
   {
    "duration": 13,
    "start_time": "2022-10-05T17:54:01.021Z"
   },
   {
    "duration": 9,
    "start_time": "2022-10-05T17:54:41.808Z"
   },
   {
    "duration": 14,
    "start_time": "2022-10-05T17:54:55.370Z"
   },
   {
    "duration": 13,
    "start_time": "2022-10-05T17:56:19.783Z"
   },
   {
    "duration": 16,
    "start_time": "2022-10-05T17:57:11.456Z"
   },
   {
    "duration": 16,
    "start_time": "2022-10-05T18:19:54.979Z"
   },
   {
    "duration": 4,
    "start_time": "2022-10-05T18:20:35.970Z"
   },
   {
    "duration": 7,
    "start_time": "2022-10-05T18:20:35.976Z"
   },
   {
    "duration": 203,
    "start_time": "2022-10-05T18:20:35.985Z"
   },
   {
    "duration": 59,
    "start_time": "2022-10-05T18:20:36.190Z"
   },
   {
    "duration": 14,
    "start_time": "2022-10-05T18:20:36.251Z"
   },
   {
    "duration": 4,
    "start_time": "2022-10-05T18:20:36.267Z"
   },
   {
    "duration": 53,
    "start_time": "2022-10-05T18:20:36.273Z"
   },
   {
    "duration": 25,
    "start_time": "2022-10-05T18:20:36.328Z"
   },
   {
    "duration": 34,
    "start_time": "2022-10-05T18:20:36.355Z"
   },
   {
    "duration": 41,
    "start_time": "2022-10-05T18:20:36.392Z"
   },
   {
    "duration": 15,
    "start_time": "2022-10-05T18:20:36.435Z"
   },
   {
    "duration": 24,
    "start_time": "2022-10-05T18:20:36.452Z"
   },
   {
    "duration": 555,
    "start_time": "2022-10-05T18:20:36.478Z"
   },
   {
    "duration": 15,
    "start_time": "2022-10-05T18:20:37.034Z"
   },
   {
    "duration": 16,
    "start_time": "2022-10-05T18:20:37.050Z"
   },
   {
    "duration": 2,
    "start_time": "2022-10-05T18:20:37.067Z"
   },
   {
    "duration": 17,
    "start_time": "2022-10-05T18:20:37.071Z"
   },
   {
    "duration": 235,
    "start_time": "2022-10-05T18:20:37.089Z"
   },
   {
    "duration": 141,
    "start_time": "2022-10-05T18:20:37.326Z"
   },
   {
    "duration": 207,
    "start_time": "2022-10-05T18:20:37.468Z"
   },
   {
    "duration": 138,
    "start_time": "2022-10-05T18:20:37.677Z"
   },
   {
    "duration": 249,
    "start_time": "2022-10-05T18:20:37.817Z"
   },
   {
    "duration": 115,
    "start_time": "2022-10-05T18:20:38.067Z"
   },
   {
    "duration": 24,
    "start_time": "2022-10-05T18:20:38.183Z"
   },
   {
    "duration": 152,
    "start_time": "2022-10-05T18:20:38.208Z"
   },
   {
    "duration": 286,
    "start_time": "2022-10-05T18:20:38.362Z"
   },
   {
    "duration": 57819,
    "start_time": "2022-10-05T18:20:38.650Z"
   },
   {
    "duration": 125,
    "start_time": "2022-10-05T18:21:36.472Z"
   },
   {
    "duration": 408,
    "start_time": "2022-10-05T18:21:36.598Z"
   },
   {
    "duration": 35,
    "start_time": "2022-10-05T18:21:37.007Z"
   },
   {
    "duration": 21,
    "start_time": "2022-10-05T18:21:37.044Z"
   },
   {
    "duration": 68,
    "start_time": "2022-10-05T18:21:37.067Z"
   },
   {
    "duration": 194,
    "start_time": "2022-10-05T18:21:37.137Z"
   },
   {
    "duration": 171,
    "start_time": "2022-10-05T18:21:37.333Z"
   },
   {
    "duration": 8,
    "start_time": "2022-10-05T18:21:37.505Z"
   },
   {
    "duration": 19,
    "start_time": "2022-10-05T18:21:37.521Z"
   },
   {
    "duration": 12,
    "start_time": "2022-10-05T18:21:37.541Z"
   },
   {
    "duration": 12,
    "start_time": "2022-10-05T18:21:37.554Z"
   },
   {
    "duration": 12,
    "start_time": "2022-10-05T18:21:37.568Z"
   },
   {
    "duration": 15,
    "start_time": "2022-10-05T18:21:37.582Z"
   },
   {
    "duration": 10,
    "start_time": "2022-10-05T18:21:37.599Z"
   },
   {
    "duration": 25,
    "start_time": "2022-10-05T18:21:37.611Z"
   },
   {
    "duration": 16,
    "start_time": "2022-10-05T18:21:37.637Z"
   },
   {
    "duration": 232,
    "start_time": "2022-10-05T18:21:37.654Z"
   },
   {
    "duration": 215,
    "start_time": "2022-10-05T18:21:37.887Z"
   },
   {
    "duration": 9,
    "start_time": "2022-10-05T18:21:38.103Z"
   },
   {
    "duration": 25,
    "start_time": "2022-10-05T18:21:38.113Z"
   },
   {
    "duration": 230,
    "start_time": "2022-10-05T18:21:38.139Z"
   },
   {
    "duration": 233,
    "start_time": "2022-10-05T18:21:38.370Z"
   },
   {
    "duration": 4,
    "start_time": "2022-10-05T18:21:38.604Z"
   },
   {
    "duration": 14,
    "start_time": "2022-10-05T18:21:38.610Z"
   },
   {
    "duration": 15,
    "start_time": "2022-10-05T18:21:38.626Z"
   },
   {
    "duration": 4,
    "start_time": "2022-10-05T18:23:06.498Z"
   },
   {
    "duration": 8,
    "start_time": "2022-10-05T18:23:06.504Z"
   },
   {
    "duration": 173,
    "start_time": "2022-10-05T18:23:06.514Z"
   },
   {
    "duration": 54,
    "start_time": "2022-10-05T18:23:06.689Z"
   },
   {
    "duration": 11,
    "start_time": "2022-10-05T18:23:06.745Z"
   },
   {
    "duration": 35,
    "start_time": "2022-10-05T18:23:06.758Z"
   },
   {
    "duration": 45,
    "start_time": "2022-10-05T18:23:06.795Z"
   },
   {
    "duration": 56,
    "start_time": "2022-10-05T18:23:06.841Z"
   },
   {
    "duration": 44,
    "start_time": "2022-10-05T18:23:06.898Z"
   },
   {
    "duration": 26,
    "start_time": "2022-10-05T18:23:06.943Z"
   },
   {
    "duration": 18,
    "start_time": "2022-10-05T18:23:06.972Z"
   },
   {
    "duration": 50,
    "start_time": "2022-10-05T18:23:06.991Z"
   },
   {
    "duration": 528,
    "start_time": "2022-10-05T18:23:07.044Z"
   },
   {
    "duration": 15,
    "start_time": "2022-10-05T18:23:07.573Z"
   },
   {
    "duration": 36,
    "start_time": "2022-10-05T18:23:07.590Z"
   },
   {
    "duration": 2,
    "start_time": "2022-10-05T18:23:07.628Z"
   },
   {
    "duration": 41,
    "start_time": "2022-10-05T18:23:07.631Z"
   },
   {
    "duration": 341,
    "start_time": "2022-10-05T18:23:07.673Z"
   },
   {
    "duration": 137,
    "start_time": "2022-10-05T18:23:08.016Z"
   },
   {
    "duration": 209,
    "start_time": "2022-10-05T18:23:08.154Z"
   },
   {
    "duration": 130,
    "start_time": "2022-10-05T18:23:08.364Z"
   },
   {
    "duration": 220,
    "start_time": "2022-10-05T18:23:08.496Z"
   },
   {
    "duration": 132,
    "start_time": "2022-10-05T18:23:08.718Z"
   },
   {
    "duration": 28,
    "start_time": "2022-10-05T18:23:08.851Z"
   },
   {
    "duration": 151,
    "start_time": "2022-10-05T18:23:08.880Z"
   },
   {
    "duration": 271,
    "start_time": "2022-10-05T18:23:09.032Z"
   },
   {
    "duration": 53662,
    "start_time": "2022-10-05T18:23:09.304Z"
   },
   {
    "duration": 118,
    "start_time": "2022-10-05T18:24:02.968Z"
   },
   {
    "duration": 438,
    "start_time": "2022-10-05T18:24:03.088Z"
   },
   {
    "duration": 29,
    "start_time": "2022-10-05T18:24:03.534Z"
   },
   {
    "duration": 20,
    "start_time": "2022-10-05T18:24:03.565Z"
   },
   {
    "duration": 62,
    "start_time": "2022-10-05T18:24:03.587Z"
   },
   {
    "duration": 183,
    "start_time": "2022-10-05T18:24:03.651Z"
   },
   {
    "duration": 154,
    "start_time": "2022-10-05T18:24:03.836Z"
   },
   {
    "duration": 8,
    "start_time": "2022-10-05T18:24:03.991Z"
   },
   {
    "duration": 30,
    "start_time": "2022-10-05T18:24:04.000Z"
   },
   {
    "duration": 9,
    "start_time": "2022-10-05T18:24:04.033Z"
   },
   {
    "duration": 25,
    "start_time": "2022-10-05T18:24:04.043Z"
   },
   {
    "duration": 34,
    "start_time": "2022-10-05T18:24:04.069Z"
   },
   {
    "duration": 12,
    "start_time": "2022-10-05T18:24:04.105Z"
   },
   {
    "duration": 25,
    "start_time": "2022-10-05T18:24:04.119Z"
   },
   {
    "duration": 31,
    "start_time": "2022-10-05T18:24:04.145Z"
   },
   {
    "duration": 31,
    "start_time": "2022-10-05T18:24:04.177Z"
   },
   {
    "duration": 225,
    "start_time": "2022-10-05T18:24:04.210Z"
   },
   {
    "duration": 220,
    "start_time": "2022-10-05T18:24:04.437Z"
   },
   {
    "duration": 10,
    "start_time": "2022-10-05T18:24:04.658Z"
   },
   {
    "duration": 61,
    "start_time": "2022-10-05T18:24:04.669Z"
   },
   {
    "duration": 236,
    "start_time": "2022-10-05T18:24:04.731Z"
   },
   {
    "duration": 244,
    "start_time": "2022-10-05T18:24:04.969Z"
   },
   {
    "duration": 3,
    "start_time": "2022-10-05T18:24:05.215Z"
   },
   {
    "duration": 25,
    "start_time": "2022-10-05T18:24:05.222Z"
   },
   {
    "duration": 16,
    "start_time": "2022-10-05T18:24:05.248Z"
   },
   {
    "duration": 1541,
    "start_time": "2022-10-06T09:45:07.801Z"
   },
   {
    "duration": 9,
    "start_time": "2022-10-06T09:45:09.345Z"
   },
   {
    "duration": 291,
    "start_time": "2022-10-06T09:45:09.356Z"
   },
   {
    "duration": 100,
    "start_time": "2022-10-06T09:45:09.655Z"
   },
   {
    "duration": 17,
    "start_time": "2022-10-06T09:45:09.756Z"
   },
   {
    "duration": 7,
    "start_time": "2022-10-06T09:45:09.775Z"
   },
   {
    "duration": 52,
    "start_time": "2022-10-06T09:45:09.784Z"
   },
   {
    "duration": 48,
    "start_time": "2022-10-06T09:45:09.837Z"
   },
   {
    "duration": 42,
    "start_time": "2022-10-06T09:45:09.886Z"
   },
   {
    "duration": 50,
    "start_time": "2022-10-06T09:45:09.931Z"
   },
   {
    "duration": 19,
    "start_time": "2022-10-06T09:45:09.983Z"
   },
   {
    "duration": 53,
    "start_time": "2022-10-06T09:45:10.004Z"
   },
   {
    "duration": 545,
    "start_time": "2022-10-06T09:45:10.058Z"
   },
   {
    "duration": 17,
    "start_time": "2022-10-06T09:45:10.605Z"
   },
   {
    "duration": 41,
    "start_time": "2022-10-06T09:45:10.624Z"
   },
   {
    "duration": 3,
    "start_time": "2022-10-06T09:45:10.667Z"
   },
   {
    "duration": 30,
    "start_time": "2022-10-06T09:45:10.672Z"
   },
   {
    "duration": 246,
    "start_time": "2022-10-06T09:45:10.704Z"
   },
   {
    "duration": 165,
    "start_time": "2022-10-06T09:45:10.953Z"
   },
   {
    "duration": 280,
    "start_time": "2022-10-06T09:45:11.120Z"
   },
   {
    "duration": 219,
    "start_time": "2022-10-06T09:45:11.403Z"
   },
   {
    "duration": 424,
    "start_time": "2022-10-06T09:45:11.624Z"
   },
   {
    "duration": 167,
    "start_time": "2022-10-06T09:45:12.050Z"
   },
   {
    "duration": 54,
    "start_time": "2022-10-06T09:45:12.219Z"
   },
   {
    "duration": 216,
    "start_time": "2022-10-06T09:45:12.276Z"
   },
   {
    "duration": 356,
    "start_time": "2022-10-06T09:45:12.494Z"
   },
   {
    "duration": 56151,
    "start_time": "2022-10-06T09:45:12.853Z"
   },
   {
    "duration": 173,
    "start_time": "2022-10-06T09:46:09.008Z"
   },
   {
    "duration": 416,
    "start_time": "2022-10-06T09:46:09.184Z"
   },
   {
    "duration": 30,
    "start_time": "2022-10-06T09:46:09.602Z"
   },
   {
    "duration": 41,
    "start_time": "2022-10-06T09:46:09.634Z"
   },
   {
    "duration": 87,
    "start_time": "2022-10-06T09:46:09.677Z"
   },
   {
    "duration": 230,
    "start_time": "2022-10-06T09:46:09.766Z"
   },
   {
    "duration": 206,
    "start_time": "2022-10-06T09:46:09.997Z"
   },
   {
    "duration": 9,
    "start_time": "2022-10-06T09:46:10.205Z"
   },
   {
    "duration": 41,
    "start_time": "2022-10-06T09:46:10.217Z"
   },
   {
    "duration": 14,
    "start_time": "2022-10-06T09:46:10.260Z"
   },
   {
    "duration": 18,
    "start_time": "2022-10-06T09:46:10.276Z"
   },
   {
    "duration": 49,
    "start_time": "2022-10-06T09:46:10.296Z"
   },
   {
    "duration": 36,
    "start_time": "2022-10-06T09:46:10.346Z"
   },
   {
    "duration": 28,
    "start_time": "2022-10-06T09:46:10.384Z"
   },
   {
    "duration": 21,
    "start_time": "2022-10-06T09:46:10.414Z"
   },
   {
    "duration": 20,
    "start_time": "2022-10-06T09:46:10.438Z"
   },
   {
    "duration": 275,
    "start_time": "2022-10-06T09:46:10.460Z"
   },
   {
    "duration": 391,
    "start_time": "2022-10-06T09:46:10.737Z"
   },
   {
    "duration": 12,
    "start_time": "2022-10-06T09:46:11.130Z"
   },
   {
    "duration": 45,
    "start_time": "2022-10-06T09:46:11.153Z"
   },
   {
    "duration": 300,
    "start_time": "2022-10-06T09:46:11.200Z"
   },
   {
    "duration": 359,
    "start_time": "2022-10-06T09:46:11.502Z"
   },
   {
    "duration": 5,
    "start_time": "2022-10-06T09:46:11.863Z"
   },
   {
    "duration": 23,
    "start_time": "2022-10-06T09:46:11.870Z"
   },
   {
    "duration": 27,
    "start_time": "2022-10-06T09:46:11.894Z"
   },
   {
    "duration": 38,
    "start_time": "2022-10-06T09:47:22.868Z"
   },
   {
    "duration": 18,
    "start_time": "2022-10-06T09:48:51.303Z"
   },
   {
    "duration": 5,
    "start_time": "2022-10-06T09:48:59.206Z"
   },
   {
    "duration": 15,
    "start_time": "2022-10-06T09:48:59.215Z"
   },
   {
    "duration": 236,
    "start_time": "2022-10-06T09:48:59.235Z"
   },
   {
    "duration": 56,
    "start_time": "2022-10-06T09:48:59.473Z"
   },
   {
    "duration": 13,
    "start_time": "2022-10-06T09:48:59.531Z"
   },
   {
    "duration": 10,
    "start_time": "2022-10-06T09:48:59.546Z"
   },
   {
    "duration": 50,
    "start_time": "2022-10-06T09:48:59.558Z"
   },
   {
    "duration": 42,
    "start_time": "2022-10-06T09:48:59.610Z"
   },
   {
    "duration": 51,
    "start_time": "2022-10-06T09:48:59.654Z"
   },
   {
    "duration": 54,
    "start_time": "2022-10-06T09:48:59.708Z"
   },
   {
    "duration": 16,
    "start_time": "2022-10-06T09:49:13.238Z"
   },
   {
    "duration": 4,
    "start_time": "2022-10-06T09:49:49.539Z"
   },
   {
    "duration": 4,
    "start_time": "2022-10-06T09:49:49.550Z"
   },
   {
    "duration": 188,
    "start_time": "2022-10-06T09:49:49.570Z"
   },
   {
    "duration": 55,
    "start_time": "2022-10-06T09:49:49.760Z"
   },
   {
    "duration": 12,
    "start_time": "2022-10-06T09:49:49.817Z"
   },
   {
    "duration": 4,
    "start_time": "2022-10-06T09:49:49.831Z"
   },
   {
    "duration": 40,
    "start_time": "2022-10-06T09:49:49.836Z"
   },
   {
    "duration": 29,
    "start_time": "2022-10-06T09:49:49.878Z"
   },
   {
    "duration": 67,
    "start_time": "2022-10-06T09:49:49.909Z"
   },
   {
    "duration": 23,
    "start_time": "2022-10-06T09:49:49.977Z"
   },
   {
    "duration": 41,
    "start_time": "2022-10-06T09:49:55.614Z"
   },
   {
    "duration": 32,
    "start_time": "2022-10-06T09:50:15.441Z"
   },
   {
    "duration": 30,
    "start_time": "2022-10-06T09:50:45.276Z"
   },
   {
    "duration": 9,
    "start_time": "2022-10-06T09:57:24.595Z"
   },
   {
    "duration": 4,
    "start_time": "2022-10-06T09:57:37.584Z"
   },
   {
    "duration": 4,
    "start_time": "2022-10-06T09:57:37.601Z"
   },
   {
    "duration": 186,
    "start_time": "2022-10-06T09:57:37.615Z"
   },
   {
    "duration": 56,
    "start_time": "2022-10-06T09:57:37.804Z"
   },
   {
    "duration": 14,
    "start_time": "2022-10-06T09:57:37.862Z"
   },
   {
    "duration": 3,
    "start_time": "2022-10-06T09:57:37.878Z"
   },
   {
    "duration": 30,
    "start_time": "2022-10-06T09:57:37.883Z"
   },
   {
    "duration": 65,
    "start_time": "2022-10-06T09:57:37.915Z"
   },
   {
    "duration": 48,
    "start_time": "2022-10-06T09:57:37.982Z"
   },
   {
    "duration": 50,
    "start_time": "2022-10-06T09:57:38.032Z"
   },
   {
    "duration": 29,
    "start_time": "2022-10-06T09:57:38.084Z"
   },
   {
    "duration": 7,
    "start_time": "2022-10-06T09:57:53.821Z"
   },
   {
    "duration": 159,
    "start_time": "2022-10-06T10:04:11.531Z"
   },
   {
    "duration": 12,
    "start_time": "2022-10-06T10:07:10.293Z"
   },
   {
    "duration": 9,
    "start_time": "2022-10-06T10:12:44.733Z"
   },
   {
    "duration": 216,
    "start_time": "2022-10-06T10:14:41.076Z"
   },
   {
    "duration": 529,
    "start_time": "2022-10-06T10:15:02.290Z"
   },
   {
    "duration": 529,
    "start_time": "2022-10-06T10:15:54.280Z"
   },
   {
    "duration": 654,
    "start_time": "2022-10-06T10:16:37.702Z"
   },
   {
    "duration": 9,
    "start_time": "2022-10-06T10:17:43.094Z"
   },
   {
    "duration": 20,
    "start_time": "2022-10-06T10:27:09.783Z"
   },
   {
    "duration": 30,
    "start_time": "2022-10-06T10:27:42.774Z"
   },
   {
    "duration": 68,
    "start_time": "2022-10-06T10:28:31.578Z"
   },
   {
    "duration": 5,
    "start_time": "2022-10-06T10:28:42.124Z"
   },
   {
    "duration": 9,
    "start_time": "2022-10-06T10:28:42.137Z"
   },
   {
    "duration": 204,
    "start_time": "2022-10-06T10:28:42.151Z"
   },
   {
    "duration": 55,
    "start_time": "2022-10-06T10:28:42.357Z"
   },
   {
    "duration": 13,
    "start_time": "2022-10-06T10:28:42.413Z"
   },
   {
    "duration": 10,
    "start_time": "2022-10-06T10:28:42.428Z"
   },
   {
    "duration": 45,
    "start_time": "2022-10-06T10:28:42.440Z"
   },
   {
    "duration": 31,
    "start_time": "2022-10-06T10:28:42.487Z"
   },
   {
    "duration": 80,
    "start_time": "2022-10-06T10:28:42.520Z"
   },
   {
    "duration": 33,
    "start_time": "2022-10-06T10:28:42.602Z"
   },
   {
    "duration": 44,
    "start_time": "2022-10-06T10:28:42.636Z"
   },
   {
    "duration": 8,
    "start_time": "2022-10-06T10:28:42.682Z"
   },
   {
    "duration": 54,
    "start_time": "2022-10-06T10:28:55.989Z"
   },
   {
    "duration": 53,
    "start_time": "2022-10-06T10:37:27.694Z"
   },
   {
    "duration": 4,
    "start_time": "2022-10-06T10:37:44.794Z"
   },
   {
    "duration": 9,
    "start_time": "2022-10-06T10:37:44.805Z"
   },
   {
    "duration": 193,
    "start_time": "2022-10-06T10:37:44.824Z"
   },
   {
    "duration": 56,
    "start_time": "2022-10-06T10:37:45.019Z"
   },
   {
    "duration": 13,
    "start_time": "2022-10-06T10:37:45.077Z"
   },
   {
    "duration": 6,
    "start_time": "2022-10-06T10:37:45.093Z"
   },
   {
    "duration": 54,
    "start_time": "2022-10-06T10:37:45.100Z"
   },
   {
    "duration": 30,
    "start_time": "2022-10-06T10:37:45.156Z"
   },
   {
    "duration": 46,
    "start_time": "2022-10-06T10:37:45.188Z"
   },
   {
    "duration": 34,
    "start_time": "2022-10-06T10:37:45.254Z"
   },
   {
    "duration": 28,
    "start_time": "2022-10-06T10:37:45.290Z"
   },
   {
    "duration": 8,
    "start_time": "2022-10-06T10:37:45.320Z"
   },
   {
    "duration": 64,
    "start_time": "2022-10-06T10:37:50.757Z"
   },
   {
    "duration": 4,
    "start_time": "2022-10-06T10:39:33.404Z"
   },
   {
    "duration": 5,
    "start_time": "2022-10-06T10:39:33.517Z"
   },
   {
    "duration": 183,
    "start_time": "2022-10-06T10:39:33.524Z"
   },
   {
    "duration": 59,
    "start_time": "2022-10-06T10:39:33.709Z"
   },
   {
    "duration": 15,
    "start_time": "2022-10-06T10:39:33.770Z"
   },
   {
    "duration": 4,
    "start_time": "2022-10-06T10:39:33.787Z"
   },
   {
    "duration": 63,
    "start_time": "2022-10-06T10:39:33.793Z"
   },
   {
    "duration": 31,
    "start_time": "2022-10-06T10:39:33.857Z"
   },
   {
    "duration": 69,
    "start_time": "2022-10-06T10:39:33.890Z"
   },
   {
    "duration": 36,
    "start_time": "2022-10-06T10:39:33.961Z"
   },
   {
    "duration": 32,
    "start_time": "2022-10-06T10:39:34.000Z"
   },
   {
    "duration": 8,
    "start_time": "2022-10-06T10:39:34.055Z"
   },
   {
    "duration": 72,
    "start_time": "2022-10-06T10:39:36.931Z"
   },
   {
    "duration": 6,
    "start_time": "2022-10-06T10:41:48.257Z"
   },
   {
    "duration": 9,
    "start_time": "2022-10-06T10:41:48.266Z"
   },
   {
    "duration": 221,
    "start_time": "2022-10-06T10:41:48.278Z"
   },
   {
    "duration": 61,
    "start_time": "2022-10-06T10:41:48.501Z"
   },
   {
    "duration": 15,
    "start_time": "2022-10-06T10:41:48.565Z"
   },
   {
    "duration": 5,
    "start_time": "2022-10-06T10:41:48.582Z"
   },
   {
    "duration": 30,
    "start_time": "2022-10-06T10:41:48.589Z"
   },
   {
    "duration": 59,
    "start_time": "2022-10-06T10:41:48.621Z"
   },
   {
    "duration": 45,
    "start_time": "2022-10-06T10:41:48.682Z"
   },
   {
    "duration": 55,
    "start_time": "2022-10-06T10:41:48.729Z"
   },
   {
    "duration": 30,
    "start_time": "2022-10-06T10:41:48.786Z"
   },
   {
    "duration": 8,
    "start_time": "2022-10-06T10:41:48.818Z"
   },
   {
    "duration": 73,
    "start_time": "2022-10-06T10:41:52.044Z"
   },
   {
    "duration": 4,
    "start_time": "2022-10-06T10:46:37.162Z"
   },
   {
    "duration": 6,
    "start_time": "2022-10-06T10:46:37.170Z"
   },
   {
    "duration": 185,
    "start_time": "2022-10-06T10:46:37.189Z"
   },
   {
    "duration": 59,
    "start_time": "2022-10-06T10:46:37.376Z"
   },
   {
    "duration": 14,
    "start_time": "2022-10-06T10:46:37.437Z"
   },
   {
    "duration": 3,
    "start_time": "2022-10-06T10:46:37.454Z"
   },
   {
    "duration": 31,
    "start_time": "2022-10-06T10:46:37.459Z"
   },
   {
    "duration": 28,
    "start_time": "2022-10-06T10:46:37.492Z"
   },
   {
    "duration": 67,
    "start_time": "2022-10-06T10:46:37.522Z"
   },
   {
    "duration": 32,
    "start_time": "2022-10-06T10:46:37.591Z"
   },
   {
    "duration": 47,
    "start_time": "2022-10-06T10:46:37.626Z"
   },
   {
    "duration": 8,
    "start_time": "2022-10-06T10:46:37.676Z"
   },
   {
    "duration": 32,
    "start_time": "2022-10-06T10:46:42.333Z"
   },
   {
    "duration": 28,
    "start_time": "2022-10-06T10:47:23.787Z"
   },
   {
    "duration": 95,
    "start_time": "2022-10-06T10:50:32.780Z"
   },
   {
    "duration": 6,
    "start_time": "2022-10-06T10:51:31.419Z"
   },
   {
    "duration": 106,
    "start_time": "2022-10-06T10:51:31.432Z"
   },
   {
    "duration": 298,
    "start_time": "2022-10-06T10:51:31.541Z"
   },
   {
    "duration": 60,
    "start_time": "2022-10-06T10:51:31.842Z"
   },
   {
    "duration": 20,
    "start_time": "2022-10-06T10:51:31.905Z"
   },
   {
    "duration": 29,
    "start_time": "2022-10-06T10:51:31.927Z"
   },
   {
    "duration": 38,
    "start_time": "2022-10-06T10:51:31.958Z"
   },
   {
    "duration": 30,
    "start_time": "2022-10-06T10:51:31.998Z"
   },
   {
    "duration": 62,
    "start_time": "2022-10-06T10:51:32.055Z"
   },
   {
    "duration": 59,
    "start_time": "2022-10-06T10:51:32.119Z"
   },
   {
    "duration": 34,
    "start_time": "2022-10-06T10:51:32.180Z"
   },
   {
    "duration": 9,
    "start_time": "2022-10-06T10:51:32.217Z"
   },
   {
    "duration": 83,
    "start_time": "2022-10-06T10:51:34.805Z"
   },
   {
    "duration": 7,
    "start_time": "2022-10-06T10:59:05.184Z"
   },
   {
    "duration": 4,
    "start_time": "2022-10-06T10:59:05.257Z"
   },
   {
    "duration": 180,
    "start_time": "2022-10-06T10:59:05.264Z"
   },
   {
    "duration": 65,
    "start_time": "2022-10-06T10:59:05.446Z"
   },
   {
    "duration": 15,
    "start_time": "2022-10-06T10:59:05.513Z"
   },
   {
    "duration": 5,
    "start_time": "2022-10-06T10:59:05.530Z"
   },
   {
    "duration": 55,
    "start_time": "2022-10-06T10:59:05.537Z"
   },
   {
    "duration": 67,
    "start_time": "2022-10-06T10:59:05.595Z"
   },
   {
    "duration": 48,
    "start_time": "2022-10-06T10:59:05.665Z"
   },
   {
    "duration": 50,
    "start_time": "2022-10-06T10:59:05.715Z"
   },
   {
    "duration": 32,
    "start_time": "2022-10-06T10:59:05.767Z"
   },
   {
    "duration": 8,
    "start_time": "2022-10-06T10:59:05.802Z"
   },
   {
    "duration": 69,
    "start_time": "2022-10-06T10:59:10.063Z"
   },
   {
    "duration": 4,
    "start_time": "2022-10-06T11:03:04.039Z"
   },
   {
    "duration": 7,
    "start_time": "2022-10-06T11:03:04.053Z"
   },
   {
    "duration": 195,
    "start_time": "2022-10-06T11:03:04.071Z"
   },
   {
    "duration": 57,
    "start_time": "2022-10-06T11:03:04.269Z"
   },
   {
    "duration": 14,
    "start_time": "2022-10-06T11:03:04.327Z"
   },
   {
    "duration": 11,
    "start_time": "2022-10-06T11:03:04.343Z"
   },
   {
    "duration": 33,
    "start_time": "2022-10-06T11:03:04.356Z"
   },
   {
    "duration": 30,
    "start_time": "2022-10-06T11:03:04.391Z"
   },
   {
    "duration": 77,
    "start_time": "2022-10-06T11:03:04.423Z"
   },
   {
    "duration": 53,
    "start_time": "2022-10-06T11:03:04.502Z"
   },
   {
    "duration": 30,
    "start_time": "2022-10-06T11:03:04.557Z"
   },
   {
    "duration": 7,
    "start_time": "2022-10-06T11:03:04.590Z"
   },
   {
    "duration": 41,
    "start_time": "2022-10-06T11:03:10.431Z"
   },
   {
    "duration": 58,
    "start_time": "2022-10-06T11:04:13.542Z"
   },
   {
    "duration": 14,
    "start_time": "2022-10-06T11:04:33.335Z"
   },
   {
    "duration": 67,
    "start_time": "2022-10-06T11:05:34.060Z"
   },
   {
    "duration": 21,
    "start_time": "2022-10-06T11:06:25.590Z"
   },
   {
    "duration": 22,
    "start_time": "2022-10-06T11:06:32.507Z"
   },
   {
    "duration": 12,
    "start_time": "2022-10-06T11:06:50.301Z"
   },
   {
    "duration": 22,
    "start_time": "2022-10-06T11:07:00.017Z"
   },
   {
    "duration": 32,
    "start_time": "2022-10-06T11:07:38.418Z"
   },
   {
    "duration": 244,
    "start_time": "2022-10-06T11:07:49.731Z"
   },
   {
    "duration": 274,
    "start_time": "2022-10-06T11:08:24.124Z"
   },
   {
    "duration": 279,
    "start_time": "2022-10-06T11:12:10.782Z"
   },
   {
    "duration": 153,
    "start_time": "2022-10-06T11:12:15.362Z"
   },
   {
    "duration": 280,
    "start_time": "2022-10-06T11:14:35.389Z"
   },
   {
    "duration": 137,
    "start_time": "2022-10-06T11:14:38.767Z"
   },
   {
    "duration": 166,
    "start_time": "2022-10-06T11:14:51.158Z"
   },
   {
    "duration": 156,
    "start_time": "2022-10-06T11:14:59.132Z"
   },
   {
    "duration": 257,
    "start_time": "2022-10-06T11:15:05.077Z"
   },
   {
    "duration": 183,
    "start_time": "2022-10-06T11:16:13.520Z"
   },
   {
    "duration": 384,
    "start_time": "2022-10-06T11:16:45.358Z"
   },
   {
    "duration": 68790,
    "start_time": "2022-10-06T11:17:05.652Z"
   },
   {
    "duration": 149,
    "start_time": "2022-10-06T11:18:24.941Z"
   },
   {
    "duration": 447,
    "start_time": "2022-10-06T11:18:40.402Z"
   },
   {
    "duration": 67511,
    "start_time": "2022-10-06T11:38:31.381Z"
   },
   {
    "duration": 20,
    "start_time": "2022-10-06T11:39:38.895Z"
   },
   {
    "duration": 13,
    "start_time": "2022-10-06T11:40:46.632Z"
   },
   {
    "duration": 11,
    "start_time": "2022-10-06T11:40:58.388Z"
   },
   {
    "duration": 27,
    "start_time": "2022-10-06T11:46:59.242Z"
   },
   {
    "duration": 27,
    "start_time": "2022-10-06T11:47:57.307Z"
   },
   {
    "duration": 63,
    "start_time": "2022-10-06T11:48:32.464Z"
   },
   {
    "duration": 237,
    "start_time": "2022-10-06T11:49:37.225Z"
   },
   {
    "duration": 193,
    "start_time": "2022-10-06T11:50:34.502Z"
   },
   {
    "duration": 359,
    "start_time": "2022-10-06T11:53:49.914Z"
   },
   {
    "duration": 10,
    "start_time": "2022-10-06T11:54:29.060Z"
   },
   {
    "duration": 604,
    "start_time": "2022-10-06T11:56:26.782Z"
   },
   {
    "duration": 617,
    "start_time": "2022-10-06T11:56:40.656Z"
   },
   {
    "duration": 380,
    "start_time": "2022-10-06T11:57:35.490Z"
   },
   {
    "duration": 358,
    "start_time": "2022-10-06T11:59:16.866Z"
   },
   {
    "duration": 350,
    "start_time": "2022-10-06T12:00:20.168Z"
   },
   {
    "duration": 451,
    "start_time": "2022-10-06T12:01:02.062Z"
   },
   {
    "duration": 351,
    "start_time": "2022-10-06T12:04:39.189Z"
   },
   {
    "duration": 203,
    "start_time": "2022-10-06T12:10:04.047Z"
   },
   {
    "duration": 238,
    "start_time": "2022-10-06T12:10:24.544Z"
   },
   {
    "duration": 4,
    "start_time": "2022-10-06T12:13:19.633Z"
   },
   {
    "duration": 10,
    "start_time": "2022-10-06T12:13:19.639Z"
   },
   {
    "duration": 188,
    "start_time": "2022-10-06T12:13:19.653Z"
   },
   {
    "duration": 68,
    "start_time": "2022-10-06T12:13:19.843Z"
   },
   {
    "duration": 13,
    "start_time": "2022-10-06T12:13:19.913Z"
   },
   {
    "duration": 26,
    "start_time": "2022-10-06T12:13:19.929Z"
   },
   {
    "duration": 28,
    "start_time": "2022-10-06T12:13:19.957Z"
   },
   {
    "duration": 30,
    "start_time": "2022-10-06T12:13:19.987Z"
   },
   {
    "duration": 81,
    "start_time": "2022-10-06T12:13:20.018Z"
   },
   {
    "duration": 54,
    "start_time": "2022-10-06T12:13:20.101Z"
   },
   {
    "duration": 29,
    "start_time": "2022-10-06T12:13:20.157Z"
   },
   {
    "duration": 8,
    "start_time": "2022-10-06T12:13:20.190Z"
   },
   {
    "duration": 57,
    "start_time": "2022-10-06T12:13:20.199Z"
   },
   {
    "duration": 0,
    "start_time": "2022-10-06T12:13:20.259Z"
   },
   {
    "duration": 0,
    "start_time": "2022-10-06T12:13:20.260Z"
   },
   {
    "duration": 0,
    "start_time": "2022-10-06T12:13:20.261Z"
   },
   {
    "duration": 0,
    "start_time": "2022-10-06T12:13:20.263Z"
   },
   {
    "duration": 0,
    "start_time": "2022-10-06T12:13:20.264Z"
   },
   {
    "duration": 0,
    "start_time": "2022-10-06T12:13:20.265Z"
   },
   {
    "duration": 0,
    "start_time": "2022-10-06T12:13:20.266Z"
   },
   {
    "duration": 0,
    "start_time": "2022-10-06T12:13:20.267Z"
   },
   {
    "duration": 0,
    "start_time": "2022-10-06T12:13:20.269Z"
   },
   {
    "duration": 0,
    "start_time": "2022-10-06T12:13:20.270Z"
   },
   {
    "duration": 0,
    "start_time": "2022-10-06T12:13:20.271Z"
   },
   {
    "duration": 0,
    "start_time": "2022-10-06T12:13:20.272Z"
   },
   {
    "duration": 0,
    "start_time": "2022-10-06T12:13:20.273Z"
   },
   {
    "duration": 0,
    "start_time": "2022-10-06T12:13:20.275Z"
   },
   {
    "duration": 0,
    "start_time": "2022-10-06T12:13:20.276Z"
   },
   {
    "duration": 0,
    "start_time": "2022-10-06T12:13:20.277Z"
   },
   {
    "duration": 0,
    "start_time": "2022-10-06T12:13:20.279Z"
   },
   {
    "duration": 1,
    "start_time": "2022-10-06T12:13:20.280Z"
   },
   {
    "duration": 0,
    "start_time": "2022-10-06T12:13:20.282Z"
   },
   {
    "duration": 0,
    "start_time": "2022-10-06T12:13:20.283Z"
   },
   {
    "duration": 0,
    "start_time": "2022-10-06T12:13:20.285Z"
   },
   {
    "duration": 0,
    "start_time": "2022-10-06T12:13:20.286Z"
   },
   {
    "duration": 0,
    "start_time": "2022-10-06T12:13:20.288Z"
   },
   {
    "duration": 0,
    "start_time": "2022-10-06T12:13:20.289Z"
   },
   {
    "duration": 0,
    "start_time": "2022-10-06T12:13:20.291Z"
   },
   {
    "duration": 17,
    "start_time": "2022-10-06T12:13:20.356Z"
   },
   {
    "duration": 19,
    "start_time": "2022-10-06T12:13:20.375Z"
   },
   {
    "duration": 73,
    "start_time": "2022-10-06T12:13:20.395Z"
   },
   {
    "duration": 0,
    "start_time": "2022-10-06T12:13:20.470Z"
   },
   {
    "duration": 0,
    "start_time": "2022-10-06T12:13:20.472Z"
   },
   {
    "duration": 0,
    "start_time": "2022-10-06T12:13:20.473Z"
   },
   {
    "duration": 0,
    "start_time": "2022-10-06T12:13:20.475Z"
   },
   {
    "duration": 0,
    "start_time": "2022-10-06T12:13:20.476Z"
   },
   {
    "duration": 0,
    "start_time": "2022-10-06T12:13:20.478Z"
   },
   {
    "duration": 0,
    "start_time": "2022-10-06T12:13:20.480Z"
   },
   {
    "duration": 0,
    "start_time": "2022-10-06T12:13:20.481Z"
   },
   {
    "duration": 0,
    "start_time": "2022-10-06T12:13:20.482Z"
   },
   {
    "duration": 6,
    "start_time": "2022-10-06T12:13:20.484Z"
   },
   {
    "duration": 4,
    "start_time": "2022-10-06T12:14:57.051Z"
   },
   {
    "duration": 22,
    "start_time": "2022-10-06T12:14:57.061Z"
   },
   {
    "duration": 206,
    "start_time": "2022-10-06T12:14:57.086Z"
   },
   {
    "duration": 57,
    "start_time": "2022-10-06T12:14:57.294Z"
   },
   {
    "duration": 13,
    "start_time": "2022-10-06T12:14:57.353Z"
   },
   {
    "duration": 3,
    "start_time": "2022-10-06T12:14:57.368Z"
   },
   {
    "duration": 31,
    "start_time": "2022-10-06T12:14:57.373Z"
   },
   {
    "duration": 60,
    "start_time": "2022-10-06T12:14:57.405Z"
   },
   {
    "duration": 46,
    "start_time": "2022-10-06T12:14:57.466Z"
   },
   {
    "duration": 54,
    "start_time": "2022-10-06T12:14:57.514Z"
   },
   {
    "duration": 29,
    "start_time": "2022-10-06T12:14:57.569Z"
   },
   {
    "duration": 7,
    "start_time": "2022-10-06T12:14:57.600Z"
   },
   {
    "duration": 78,
    "start_time": "2022-10-06T12:14:57.609Z"
   },
   {
    "duration": 15,
    "start_time": "2022-10-06T12:14:57.689Z"
   },
   {
    "duration": 19,
    "start_time": "2022-10-06T12:14:57.706Z"
   },
   {
    "duration": 27,
    "start_time": "2022-10-06T12:14:57.727Z"
   },
   {
    "duration": 21,
    "start_time": "2022-10-06T12:14:57.756Z"
   },
   {
    "duration": 256,
    "start_time": "2022-10-06T12:14:57.779Z"
   },
   {
    "duration": 159,
    "start_time": "2022-10-06T12:14:58.036Z"
   },
   {
    "duration": 244,
    "start_time": "2022-10-06T12:14:58.197Z"
   },
   {
    "duration": 155,
    "start_time": "2022-10-06T12:14:58.443Z"
   },
   {
    "duration": 288,
    "start_time": "2022-10-06T12:14:58.600Z"
   },
   {
    "duration": 248,
    "start_time": "2022-10-06T12:14:58.890Z"
   },
   {
    "duration": 173,
    "start_time": "2022-10-06T12:14:59.140Z"
   },
   {
    "duration": 345,
    "start_time": "2022-10-06T12:14:59.315Z"
   },
   {
    "duration": 65769,
    "start_time": "2022-10-06T12:14:59.662Z"
   },
   {
    "duration": 161,
    "start_time": "2022-10-06T12:16:05.432Z"
   },
   {
    "duration": 401,
    "start_time": "2022-10-06T12:16:05.595Z"
   },
   {
    "duration": 29,
    "start_time": "2022-10-06T12:16:05.998Z"
   },
   {
    "duration": 34,
    "start_time": "2022-10-06T12:16:06.031Z"
   },
   {
    "duration": 57,
    "start_time": "2022-10-06T12:16:06.067Z"
   },
   {
    "duration": 240,
    "start_time": "2022-10-06T12:16:06.125Z"
   },
   {
    "duration": 376,
    "start_time": "2022-10-06T12:16:06.367Z"
   },
   {
    "duration": 9,
    "start_time": "2022-10-06T12:16:06.755Z"
   },
   {
    "duration": 28,
    "start_time": "2022-10-06T12:16:06.766Z"
   },
   {
    "duration": 6,
    "start_time": "2022-10-06T12:16:06.796Z"
   },
   {
    "duration": 15,
    "start_time": "2022-10-06T12:16:06.804Z"
   },
   {
    "duration": 12,
    "start_time": "2022-10-06T12:16:06.821Z"
   },
   {
    "duration": 28,
    "start_time": "2022-10-06T12:16:06.835Z"
   },
   {
    "duration": 13,
    "start_time": "2022-10-06T12:16:06.866Z"
   },
   {
    "duration": 19,
    "start_time": "2022-10-06T12:16:06.881Z"
   },
   {
    "duration": 19,
    "start_time": "2022-10-06T12:16:06.902Z"
   },
   {
    "duration": 271,
    "start_time": "2022-10-06T12:16:06.923Z"
   },
   {
    "duration": 258,
    "start_time": "2022-10-06T12:16:07.196Z"
   },
   {
    "duration": 119,
    "start_time": "2022-10-06T12:16:07.456Z"
   },
   {
    "duration": 27,
    "start_time": "2022-10-06T12:16:07.577Z"
   },
   {
    "duration": 260,
    "start_time": "2022-10-06T12:16:07.606Z"
   },
   {
    "duration": 274,
    "start_time": "2022-10-06T12:16:07.868Z"
   },
   {
    "duration": 10,
    "start_time": "2022-10-06T12:16:08.144Z"
   },
   {
    "duration": 9,
    "start_time": "2022-10-06T12:16:08.155Z"
   },
   {
    "duration": 10,
    "start_time": "2022-10-06T12:16:08.165Z"
   },
   {
    "duration": 348,
    "start_time": "2022-10-06T12:17:54.976Z"
   },
   {
    "duration": 10,
    "start_time": "2022-10-06T12:18:21.885Z"
   },
   {
    "duration": 11,
    "start_time": "2022-10-06T12:18:57.786Z"
   },
   {
    "duration": 22,
    "start_time": "2022-10-06T12:22:32.738Z"
   },
   {
    "duration": 5,
    "start_time": "2022-10-06T12:22:51.930Z"
   },
   {
    "duration": 12,
    "start_time": "2022-10-06T12:22:51.941Z"
   },
   {
    "duration": 193,
    "start_time": "2022-10-06T12:22:51.963Z"
   },
   {
    "duration": 58,
    "start_time": "2022-10-06T12:22:52.159Z"
   },
   {
    "duration": 13,
    "start_time": "2022-10-06T12:22:52.218Z"
   },
   {
    "duration": 4,
    "start_time": "2022-10-06T12:22:52.233Z"
   },
   {
    "duration": 44,
    "start_time": "2022-10-06T12:22:52.239Z"
   },
   {
    "duration": 30,
    "start_time": "2022-10-06T12:22:52.285Z"
   },
   {
    "duration": 76,
    "start_time": "2022-10-06T12:22:52.316Z"
   },
   {
    "duration": 37,
    "start_time": "2022-10-06T12:22:52.394Z"
   },
   {
    "duration": 46,
    "start_time": "2022-10-06T12:22:52.433Z"
   },
   {
    "duration": 8,
    "start_time": "2022-10-06T12:22:52.483Z"
   },
   {
    "duration": 80,
    "start_time": "2022-10-06T12:22:52.493Z"
   },
   {
    "duration": 16,
    "start_time": "2022-10-06T12:22:52.575Z"
   },
   {
    "duration": 19,
    "start_time": "2022-10-06T12:22:52.593Z"
   },
   {
    "duration": 2,
    "start_time": "2022-10-06T12:22:52.614Z"
   },
   {
    "duration": 50,
    "start_time": "2022-10-06T12:22:52.618Z"
   },
   {
    "duration": 273,
    "start_time": "2022-10-06T12:22:52.670Z"
   },
   {
    "duration": 169,
    "start_time": "2022-10-06T12:22:52.945Z"
   },
   {
    "duration": 246,
    "start_time": "2022-10-06T12:22:53.116Z"
   },
   {
    "duration": 155,
    "start_time": "2022-10-06T12:22:53.364Z"
   },
   {
    "duration": 265,
    "start_time": "2022-10-06T12:22:53.521Z"
   },
   {
    "duration": 149,
    "start_time": "2022-10-06T12:22:53.788Z"
   },
   {
    "duration": 283,
    "start_time": "2022-10-06T12:22:53.939Z"
   },
   {
    "duration": 358,
    "start_time": "2022-10-06T12:22:54.224Z"
   },
   {
    "duration": 66437,
    "start_time": "2022-10-06T12:22:54.584Z"
   },
   {
    "duration": 148,
    "start_time": "2022-10-06T12:24:01.023Z"
   },
   {
    "duration": 449,
    "start_time": "2022-10-06T12:24:01.173Z"
   },
   {
    "duration": 35,
    "start_time": "2022-10-06T12:24:01.624Z"
   },
   {
    "duration": 37,
    "start_time": "2022-10-06T12:24:01.663Z"
   },
   {
    "duration": 88,
    "start_time": "2022-10-06T12:24:01.703Z"
   },
   {
    "duration": 229,
    "start_time": "2022-10-06T12:24:01.793Z"
   },
   {
    "duration": 358,
    "start_time": "2022-10-06T12:24:02.025Z"
   },
   {
    "duration": 10,
    "start_time": "2022-10-06T12:24:02.385Z"
   },
   {
    "duration": 17,
    "start_time": "2022-10-06T12:24:15.936Z"
   },
   {
    "duration": 18,
    "start_time": "2022-10-06T12:32:29.400Z"
   },
   {
    "duration": 17,
    "start_time": "2022-10-06T12:32:53.402Z"
   },
   {
    "duration": 5,
    "start_time": "2022-10-06T12:34:01.469Z"
   },
   {
    "duration": 4,
    "start_time": "2022-10-06T12:34:13.939Z"
   },
   {
    "duration": 4,
    "start_time": "2022-10-06T12:35:18.412Z"
   },
   {
    "duration": 11,
    "start_time": "2022-10-06T12:41:49.855Z"
   },
   {
    "duration": 8,
    "start_time": "2022-10-06T12:43:28.614Z"
   },
   {
    "duration": 30,
    "start_time": "2022-10-06T12:45:39.385Z"
   },
   {
    "duration": 12,
    "start_time": "2022-10-06T12:52:40.482Z"
   },
   {
    "duration": 24,
    "start_time": "2022-10-06T12:52:45.969Z"
   },
   {
    "duration": 12,
    "start_time": "2022-10-06T12:53:49.679Z"
   },
   {
    "duration": 12,
    "start_time": "2022-10-06T12:54:05.104Z"
   },
   {
    "duration": 12,
    "start_time": "2022-10-06T12:54:24.108Z"
   },
   {
    "duration": 13,
    "start_time": "2022-10-06T12:54:40.969Z"
   },
   {
    "duration": 13,
    "start_time": "2022-10-06T12:55:05.966Z"
   },
   {
    "duration": 12,
    "start_time": "2022-10-06T12:55:28.942Z"
   },
   {
    "duration": 13,
    "start_time": "2022-10-06T12:56:12.437Z"
   },
   {
    "duration": 12,
    "start_time": "2022-10-06T12:56:17.094Z"
   },
   {
    "duration": 13,
    "start_time": "2022-10-06T12:57:30.377Z"
   },
   {
    "duration": 4,
    "start_time": "2022-10-06T13:00:43.928Z"
   },
   {
    "duration": 4,
    "start_time": "2022-10-06T13:00:43.955Z"
   },
   {
    "duration": 220,
    "start_time": "2022-10-06T13:00:43.961Z"
   },
   {
    "duration": 56,
    "start_time": "2022-10-06T13:00:44.184Z"
   },
   {
    "duration": 17,
    "start_time": "2022-10-06T13:00:44.242Z"
   },
   {
    "duration": 3,
    "start_time": "2022-10-06T13:00:44.261Z"
   },
   {
    "duration": 32,
    "start_time": "2022-10-06T13:00:44.265Z"
   },
   {
    "duration": 28,
    "start_time": "2022-10-06T13:00:44.299Z"
   },
   {
    "duration": 71,
    "start_time": "2022-10-06T13:00:44.328Z"
   },
   {
    "duration": 60,
    "start_time": "2022-10-06T13:00:44.401Z"
   },
   {
    "duration": 38,
    "start_time": "2022-10-06T13:00:44.463Z"
   },
   {
    "duration": 7,
    "start_time": "2022-10-06T13:00:44.504Z"
   },
   {
    "duration": 77,
    "start_time": "2022-10-06T13:00:44.513Z"
   },
   {
    "duration": 17,
    "start_time": "2022-10-06T13:00:44.592Z"
   },
   {
    "duration": 47,
    "start_time": "2022-10-06T13:00:44.610Z"
   },
   {
    "duration": 3,
    "start_time": "2022-10-06T13:00:44.659Z"
   },
   {
    "duration": 24,
    "start_time": "2022-10-06T13:00:44.664Z"
   },
   {
    "duration": 272,
    "start_time": "2022-10-06T13:00:44.689Z"
   },
   {
    "duration": 163,
    "start_time": "2022-10-06T13:00:44.963Z"
   },
   {
    "duration": 358,
    "start_time": "2022-10-06T13:00:45.128Z"
   },
   {
    "duration": 181,
    "start_time": "2022-10-06T13:00:45.487Z"
   },
   {
    "duration": 271,
    "start_time": "2022-10-06T13:00:45.670Z"
   },
   {
    "duration": 144,
    "start_time": "2022-10-06T13:00:45.943Z"
   },
   {
    "duration": 178,
    "start_time": "2022-10-06T13:00:46.089Z"
   },
   {
    "duration": 367,
    "start_time": "2022-10-06T13:00:46.269Z"
   },
   {
    "duration": 68322,
    "start_time": "2022-10-06T13:00:46.638Z"
   },
   {
    "duration": 162,
    "start_time": "2022-10-06T13:01:54.961Z"
   },
   {
    "duration": 414,
    "start_time": "2022-10-06T13:01:55.125Z"
   },
   {
    "duration": 35,
    "start_time": "2022-10-06T13:01:55.541Z"
   },
   {
    "duration": 69,
    "start_time": "2022-10-06T13:01:55.579Z"
   },
   {
    "duration": 71,
    "start_time": "2022-10-06T13:01:55.650Z"
   },
   {
    "duration": 222,
    "start_time": "2022-10-06T13:01:55.723Z"
   },
   {
    "duration": 448,
    "start_time": "2022-10-06T13:01:55.946Z"
   },
   {
    "duration": 9,
    "start_time": "2022-10-06T13:01:56.396Z"
   },
   {
    "duration": 31,
    "start_time": "2022-10-06T13:01:56.407Z"
   },
   {
    "duration": 10,
    "start_time": "2022-10-06T13:01:56.439Z"
   },
   {
    "duration": 26,
    "start_time": "2022-10-06T13:01:56.451Z"
   },
   {
    "duration": 31,
    "start_time": "2022-10-06T13:01:56.480Z"
   },
   {
    "duration": 11,
    "start_time": "2022-10-06T13:01:56.513Z"
   },
   {
    "duration": 40,
    "start_time": "2022-10-06T13:03:37.325Z"
   },
   {
    "duration": 7,
    "start_time": "2022-10-06T13:04:45.387Z"
   },
   {
    "duration": 14,
    "start_time": "2022-10-06T13:04:45.399Z"
   },
   {
    "duration": 229,
    "start_time": "2022-10-06T13:04:45.425Z"
   },
   {
    "duration": 60,
    "start_time": "2022-10-06T13:04:45.657Z"
   },
   {
    "duration": 12,
    "start_time": "2022-10-06T13:04:45.719Z"
   },
   {
    "duration": 6,
    "start_time": "2022-10-06T13:04:45.733Z"
   },
   {
    "duration": 38,
    "start_time": "2022-10-06T13:04:45.740Z"
   },
   {
    "duration": 34,
    "start_time": "2022-10-06T13:04:45.780Z"
   },
   {
    "duration": 72,
    "start_time": "2022-10-06T13:04:45.816Z"
   },
   {
    "duration": 36,
    "start_time": "2022-10-06T13:04:45.890Z"
   },
   {
    "duration": 54,
    "start_time": "2022-10-06T13:04:45.928Z"
   },
   {
    "duration": 8,
    "start_time": "2022-10-06T13:04:45.986Z"
   },
   {
    "duration": 81,
    "start_time": "2022-10-06T13:04:45.997Z"
   },
   {
    "duration": 18,
    "start_time": "2022-10-06T13:04:46.080Z"
   },
   {
    "duration": 19,
    "start_time": "2022-10-06T13:04:46.100Z"
   },
   {
    "duration": 2,
    "start_time": "2022-10-06T13:04:46.121Z"
   },
   {
    "duration": 15,
    "start_time": "2022-10-06T13:04:46.154Z"
   },
   {
    "duration": 262,
    "start_time": "2022-10-06T13:04:46.171Z"
   },
   {
    "duration": 156,
    "start_time": "2022-10-06T13:04:46.435Z"
   },
   {
    "duration": 264,
    "start_time": "2022-10-06T13:04:46.593Z"
   },
   {
    "duration": 168,
    "start_time": "2022-10-06T13:04:46.859Z"
   },
   {
    "duration": 281,
    "start_time": "2022-10-06T13:04:47.030Z"
   },
   {
    "duration": 154,
    "start_time": "2022-10-06T13:04:47.313Z"
   },
   {
    "duration": 250,
    "start_time": "2022-10-06T13:04:47.469Z"
   },
   {
    "duration": 360,
    "start_time": "2022-10-06T13:04:47.721Z"
   },
   {
    "duration": 67998,
    "start_time": "2022-10-06T13:04:48.083Z"
   },
   {
    "duration": 144,
    "start_time": "2022-10-06T13:05:56.083Z"
   },
   {
    "duration": 400,
    "start_time": "2022-10-06T13:05:56.229Z"
   },
   {
    "duration": 36,
    "start_time": "2022-10-06T13:05:56.631Z"
   },
   {
    "duration": 28,
    "start_time": "2022-10-06T13:05:56.671Z"
   },
   {
    "duration": 84,
    "start_time": "2022-10-06T13:05:56.701Z"
   },
   {
    "duration": 235,
    "start_time": "2022-10-06T13:05:56.787Z"
   },
   {
    "duration": 366,
    "start_time": "2022-10-06T13:05:57.024Z"
   },
   {
    "duration": 10,
    "start_time": "2022-10-06T13:05:57.392Z"
   },
   {
    "duration": 36,
    "start_time": "2022-10-06T13:05:57.404Z"
   },
   {
    "duration": 14,
    "start_time": "2022-10-06T13:05:57.442Z"
   },
   {
    "duration": 23,
    "start_time": "2022-10-06T13:05:57.458Z"
   },
   {
    "duration": 36,
    "start_time": "2022-10-06T13:05:57.484Z"
   },
   {
    "duration": 17,
    "start_time": "2022-10-06T13:05:57.522Z"
   },
   {
    "duration": 43,
    "start_time": "2022-10-06T13:06:08.320Z"
   },
   {
    "duration": 13,
    "start_time": "2022-10-06T13:08:31.012Z"
   },
   {
    "duration": 23,
    "start_time": "2022-10-06T13:11:45.240Z"
   },
   {
    "duration": 15,
    "start_time": "2022-10-06T13:12:26.522Z"
   },
   {
    "duration": 20,
    "start_time": "2022-10-06T13:13:23.455Z"
   },
   {
    "duration": 195,
    "start_time": "2022-10-06T13:16:51.953Z"
   },
   {
    "duration": 194,
    "start_time": "2022-10-06T13:17:47.738Z"
   },
   {
    "duration": 187,
    "start_time": "2022-10-06T13:17:58.624Z"
   },
   {
    "duration": 10,
    "start_time": "2022-10-06T13:23:29.594Z"
   },
   {
    "duration": 17,
    "start_time": "2022-10-06T13:23:36.862Z"
   },
   {
    "duration": 3264,
    "start_time": "2022-10-06T13:23:43.689Z"
   },
   {
    "duration": 1685,
    "start_time": "2022-10-06T13:23:56.669Z"
   },
   {
    "duration": 5,
    "start_time": "2022-10-06T13:24:24.842Z"
   },
   {
    "duration": 10,
    "start_time": "2022-10-06T13:29:00.458Z"
   },
   {
    "duration": 11,
    "start_time": "2022-10-06T13:29:10.305Z"
   },
   {
    "duration": 11,
    "start_time": "2022-10-06T13:30:22.633Z"
   },
   {
    "duration": 10,
    "start_time": "2022-10-06T13:30:33.344Z"
   },
   {
    "duration": 151,
    "start_time": "2022-10-06T13:30:43.346Z"
   },
   {
    "duration": 18,
    "start_time": "2022-10-06T13:33:17.920Z"
   },
   {
    "duration": 14,
    "start_time": "2022-10-06T13:33:23.723Z"
   },
   {
    "duration": 86,
    "start_time": "2022-10-06T13:37:05.454Z"
   },
   {
    "duration": 28,
    "start_time": "2022-10-06T13:38:11.360Z"
   },
   {
    "duration": 20,
    "start_time": "2022-10-06T13:38:54.847Z"
   },
   {
    "duration": 446,
    "start_time": "2022-10-06T13:39:25.895Z"
   },
   {
    "duration": 153,
    "start_time": "2022-10-06T13:39:38.815Z"
   },
   {
    "duration": 158,
    "start_time": "2022-10-06T13:40:54.100Z"
   },
   {
    "duration": 78,
    "start_time": "2022-10-06T13:41:15.766Z"
   },
   {
    "duration": 72,
    "start_time": "2022-10-06T13:41:45.379Z"
   },
   {
    "duration": 72,
    "start_time": "2022-10-06T13:43:27.235Z"
   },
   {
    "duration": 16,
    "start_time": "2022-10-06T13:43:37.761Z"
   },
   {
    "duration": 21,
    "start_time": "2022-10-06T13:43:44.909Z"
   },
   {
    "duration": 24,
    "start_time": "2022-10-06T13:43:53.549Z"
   },
   {
    "duration": 71,
    "start_time": "2022-10-06T13:44:50.887Z"
   },
   {
    "duration": 242,
    "start_time": "2022-10-06T13:52:07.131Z"
   },
   {
    "duration": 232,
    "start_time": "2022-10-06T13:52:27.508Z"
   },
   {
    "duration": 11,
    "start_time": "2022-10-06T13:53:02.089Z"
   },
   {
    "duration": 423,
    "start_time": "2022-10-06T13:55:09.948Z"
   },
   {
    "duration": 26,
    "start_time": "2022-10-06T13:55:10.373Z"
   },
   {
    "duration": 4,
    "start_time": "2022-10-06T13:55:10.400Z"
   },
   {
    "duration": 10,
    "start_time": "2022-10-06T13:55:10.406Z"
   },
   {
    "duration": 186,
    "start_time": "2022-10-06T13:55:10.418Z"
   },
   {
    "duration": 107,
    "start_time": "2022-10-06T13:55:10.606Z"
   },
   {
    "duration": 14,
    "start_time": "2022-10-06T13:55:10.756Z"
   },
   {
    "duration": 3,
    "start_time": "2022-10-06T13:55:10.772Z"
   },
   {
    "duration": 33,
    "start_time": "2022-10-06T13:55:10.777Z"
   },
   {
    "duration": 52,
    "start_time": "2022-10-06T13:55:10.811Z"
   },
   {
    "duration": 99,
    "start_time": "2022-10-06T13:55:10.865Z"
   },
   {
    "duration": 36,
    "start_time": "2022-10-06T13:55:10.966Z"
   },
   {
    "duration": 55,
    "start_time": "2022-10-06T13:55:11.005Z"
   },
   {
    "duration": 8,
    "start_time": "2022-10-06T13:55:11.062Z"
   },
   {
    "duration": 53,
    "start_time": "2022-10-06T13:55:11.072Z"
   },
   {
    "duration": 27,
    "start_time": "2022-10-06T13:55:11.127Z"
   },
   {
    "duration": 32,
    "start_time": "2022-10-06T13:55:11.157Z"
   },
   {
    "duration": 4,
    "start_time": "2022-10-06T13:55:11.191Z"
   },
   {
    "duration": 25,
    "start_time": "2022-10-06T13:55:11.197Z"
   },
   {
    "duration": 686,
    "start_time": "2022-10-06T13:55:11.225Z"
   },
   {
    "duration": 209,
    "start_time": "2022-10-06T13:55:11.913Z"
   },
   {
    "duration": 461,
    "start_time": "2022-10-06T13:55:12.124Z"
   },
   {
    "duration": 314,
    "start_time": "2022-10-06T13:55:12.587Z"
   },
   {
    "duration": 534,
    "start_time": "2022-10-06T13:55:12.955Z"
   },
   {
    "duration": 298,
    "start_time": "2022-10-06T13:55:13.492Z"
   },
   {
    "duration": 362,
    "start_time": "2022-10-06T13:55:13.792Z"
   },
   {
    "duration": 366,
    "start_time": "2022-10-06T13:55:14.156Z"
   },
   {
    "duration": 69288,
    "start_time": "2022-10-06T13:55:14.523Z"
   },
   {
    "duration": 156,
    "start_time": "2022-10-06T13:56:23.813Z"
   },
   {
    "duration": 417,
    "start_time": "2022-10-06T13:56:23.970Z"
   },
   {
    "duration": 39,
    "start_time": "2022-10-06T13:56:24.390Z"
   },
   {
    "duration": 38,
    "start_time": "2022-10-06T13:56:24.431Z"
   },
   {
    "duration": 84,
    "start_time": "2022-10-06T13:56:24.471Z"
   },
   {
    "duration": 349,
    "start_time": "2022-10-06T13:56:24.557Z"
   },
   {
    "duration": 356,
    "start_time": "2022-10-06T13:56:24.908Z"
   },
   {
    "duration": 9,
    "start_time": "2022-10-06T13:56:25.266Z"
   },
   {
    "duration": 16,
    "start_time": "2022-10-06T13:56:25.277Z"
   },
   {
    "duration": 9,
    "start_time": "2022-10-06T13:56:25.295Z"
   },
   {
    "duration": 15,
    "start_time": "2022-10-06T13:56:25.305Z"
   },
   {
    "duration": 48,
    "start_time": "2022-10-06T13:56:25.326Z"
   },
   {
    "duration": 13,
    "start_time": "2022-10-06T13:56:25.378Z"
   },
   {
    "duration": 11,
    "start_time": "2022-10-06T13:56:25.395Z"
   },
   {
    "duration": 59,
    "start_time": "2022-10-06T13:56:25.408Z"
   },
   {
    "duration": 22,
    "start_time": "2022-10-06T13:56:25.469Z"
   },
   {
    "duration": 114,
    "start_time": "2022-10-06T13:56:25.493Z"
   },
   {
    "duration": 16,
    "start_time": "2022-10-06T13:56:25.609Z"
   },
   {
    "duration": 98,
    "start_time": "2022-10-06T13:56:25.627Z"
   },
   {
    "duration": 271,
    "start_time": "2022-10-06T13:56:25.727Z"
   },
   {
    "duration": 263,
    "start_time": "2022-10-06T13:56:25.999Z"
   },
   {
    "duration": 11,
    "start_time": "2022-10-06T13:56:26.264Z"
   },
   {
    "duration": 10,
    "start_time": "2022-10-06T13:56:53.708Z"
   },
   {
    "duration": 25,
    "start_time": "2022-10-06T14:04:19.135Z"
   },
   {
    "duration": 95,
    "start_time": "2022-10-06T14:05:04.806Z"
   },
   {
    "duration": 34,
    "start_time": "2022-10-06T14:05:15.496Z"
   },
   {
    "duration": 271,
    "start_time": "2022-10-06T14:07:25.186Z"
   },
   {
    "duration": 291,
    "start_time": "2022-10-06T14:07:32.742Z"
   },
   {
    "duration": 6,
    "start_time": "2022-10-06T14:07:47.481Z"
   },
   {
    "duration": 5,
    "start_time": "2022-10-06T14:08:26.724Z"
   },
   {
    "duration": 4,
    "start_time": "2022-10-06T15:11:24.519Z"
   },
   {
    "duration": 4,
    "start_time": "2022-10-06T15:11:24.540Z"
   },
   {
    "duration": 174,
    "start_time": "2022-10-06T15:11:24.570Z"
   },
   {
    "duration": 54,
    "start_time": "2022-10-06T15:11:24.755Z"
   },
   {
    "duration": 13,
    "start_time": "2022-10-06T15:11:24.811Z"
   },
   {
    "duration": 19,
    "start_time": "2022-10-06T15:11:24.826Z"
   },
   {
    "duration": 37,
    "start_time": "2022-10-06T15:11:24.847Z"
   },
   {
    "duration": 28,
    "start_time": "2022-10-06T15:11:24.886Z"
   },
   {
    "duration": 75,
    "start_time": "2022-10-06T15:11:24.916Z"
   },
   {
    "duration": 36,
    "start_time": "2022-10-06T15:11:24.993Z"
   },
   {
    "duration": 48,
    "start_time": "2022-10-06T15:11:25.030Z"
   },
   {
    "duration": 7,
    "start_time": "2022-10-06T15:11:25.081Z"
   },
   {
    "duration": 77,
    "start_time": "2022-10-06T15:11:25.089Z"
   },
   {
    "duration": 17,
    "start_time": "2022-10-06T15:11:25.167Z"
   },
   {
    "duration": 30,
    "start_time": "2022-10-06T15:11:25.186Z"
   },
   {
    "duration": 3,
    "start_time": "2022-10-06T15:11:25.217Z"
   },
   {
    "duration": 39,
    "start_time": "2022-10-06T15:11:25.221Z"
   },
   {
    "duration": 279,
    "start_time": "2022-10-06T15:11:25.262Z"
   },
   {
    "duration": 272,
    "start_time": "2022-10-06T15:11:25.553Z"
   },
   {
    "duration": 265,
    "start_time": "2022-10-06T15:11:25.828Z"
   },
   {
    "duration": 161,
    "start_time": "2022-10-06T15:11:26.095Z"
   },
   {
    "duration": 278,
    "start_time": "2022-10-06T15:11:26.258Z"
   },
   {
    "duration": 155,
    "start_time": "2022-10-06T15:11:26.538Z"
   },
   {
    "duration": 182,
    "start_time": "2022-10-06T15:11:26.695Z"
   },
   {
    "duration": 388,
    "start_time": "2022-10-06T15:11:26.879Z"
   },
   {
    "duration": 68767,
    "start_time": "2022-10-06T15:11:27.268Z"
   },
   {
    "duration": 145,
    "start_time": "2022-10-06T15:12:36.036Z"
   },
   {
    "duration": 401,
    "start_time": "2022-10-06T15:12:36.184Z"
   },
   {
    "duration": 33,
    "start_time": "2022-10-06T15:12:36.587Z"
   },
   {
    "duration": 46,
    "start_time": "2022-10-06T15:12:36.624Z"
   },
   {
    "duration": 62,
    "start_time": "2022-10-06T15:12:36.672Z"
   },
   {
    "duration": 250,
    "start_time": "2022-10-06T15:12:36.735Z"
   },
   {
    "duration": 494,
    "start_time": "2022-10-06T15:12:36.987Z"
   },
   {
    "duration": 13,
    "start_time": "2022-10-06T15:12:37.483Z"
   },
   {
    "duration": 50,
    "start_time": "2022-10-06T15:12:37.498Z"
   },
   {
    "duration": 23,
    "start_time": "2022-10-06T15:12:37.550Z"
   },
   {
    "duration": 22,
    "start_time": "2022-10-06T15:12:37.575Z"
   },
   {
    "duration": 28,
    "start_time": "2022-10-06T15:12:37.599Z"
   },
   {
    "duration": 11,
    "start_time": "2022-10-06T15:12:37.629Z"
   },
   {
    "duration": 17,
    "start_time": "2022-10-06T15:12:37.642Z"
   },
   {
    "duration": 25,
    "start_time": "2022-10-06T15:12:37.661Z"
   },
   {
    "duration": 21,
    "start_time": "2022-10-06T15:12:37.688Z"
   },
   {
    "duration": 96,
    "start_time": "2022-10-06T15:12:37.711Z"
   },
   {
    "duration": 15,
    "start_time": "2022-10-06T15:12:37.809Z"
   },
   {
    "duration": 85,
    "start_time": "2022-10-06T15:12:37.826Z"
   },
   {
    "duration": 267,
    "start_time": "2022-10-06T15:12:37.913Z"
   },
   {
    "duration": 261,
    "start_time": "2022-10-06T15:12:38.182Z"
   },
   {
    "duration": 12,
    "start_time": "2022-10-06T15:12:38.445Z"
   },
   {
    "duration": 35,
    "start_time": "2022-10-06T15:12:38.459Z"
   },
   {
    "duration": 295,
    "start_time": "2022-10-06T15:12:38.495Z"
   },
   {
    "duration": 285,
    "start_time": "2022-10-06T15:12:38.793Z"
   },
   {
    "duration": 5,
    "start_time": "2022-10-06T15:12:39.080Z"
   },
   {
    "duration": 9,
    "start_time": "2022-10-06T15:12:39.086Z"
   },
   {
    "duration": 46,
    "start_time": "2022-10-06T15:19:26.627Z"
   },
   {
    "duration": 49,
    "start_time": "2022-10-06T15:20:56.822Z"
   },
   {
    "duration": 160,
    "start_time": "2022-10-06T15:24:04.365Z"
   },
   {
    "duration": 161,
    "start_time": "2022-10-06T15:24:30.313Z"
   },
   {
    "duration": 279,
    "start_time": "2022-10-06T15:24:47.914Z"
   },
   {
    "duration": 167,
    "start_time": "2022-10-06T15:25:18.091Z"
   },
   {
    "duration": 4,
    "start_time": "2022-10-06T15:25:47.193Z"
   },
   {
    "duration": 10,
    "start_time": "2022-10-06T15:25:47.200Z"
   },
   {
    "duration": 203,
    "start_time": "2022-10-06T15:25:47.212Z"
   },
   {
    "duration": 57,
    "start_time": "2022-10-06T15:25:47.418Z"
   },
   {
    "duration": 13,
    "start_time": "2022-10-06T15:25:47.476Z"
   },
   {
    "duration": 3,
    "start_time": "2022-10-06T15:25:47.491Z"
   },
   {
    "duration": 58,
    "start_time": "2022-10-06T15:25:47.496Z"
   },
   {
    "duration": 31,
    "start_time": "2022-10-06T15:25:47.556Z"
   },
   {
    "duration": 47,
    "start_time": "2022-10-06T15:25:47.589Z"
   },
   {
    "duration": 34,
    "start_time": "2022-10-06T15:25:47.657Z"
   },
   {
    "duration": 28,
    "start_time": "2022-10-06T15:25:47.693Z"
   },
   {
    "duration": 33,
    "start_time": "2022-10-06T15:25:47.723Z"
   },
   {
    "duration": 41,
    "start_time": "2022-10-06T15:25:47.758Z"
   },
   {
    "duration": 17,
    "start_time": "2022-10-06T15:25:47.800Z"
   },
   {
    "duration": 44,
    "start_time": "2022-10-06T15:25:47.818Z"
   },
   {
    "duration": 2,
    "start_time": "2022-10-06T15:25:47.864Z"
   },
   {
    "duration": 38,
    "start_time": "2022-10-06T15:25:47.868Z"
   },
   {
    "duration": 248,
    "start_time": "2022-10-06T15:25:47.907Z"
   },
   {
    "duration": 163,
    "start_time": "2022-10-06T15:25:48.157Z"
   },
   {
    "duration": 151,
    "start_time": "2022-10-06T15:26:06.481Z"
   },
   {
    "duration": 145,
    "start_time": "2022-10-06T15:26:18.695Z"
   },
   {
    "duration": 170,
    "start_time": "2022-10-06T15:26:23.240Z"
   },
   {
    "duration": 158,
    "start_time": "2022-10-06T15:26:28.710Z"
   },
   {
    "duration": 4,
    "start_time": "2022-10-06T15:31:28.778Z"
   },
   {
    "duration": 12,
    "start_time": "2022-10-06T15:31:28.783Z"
   },
   {
    "duration": 200,
    "start_time": "2022-10-06T15:31:28.800Z"
   },
   {
    "duration": 64,
    "start_time": "2022-10-06T15:31:29.003Z"
   },
   {
    "duration": 15,
    "start_time": "2022-10-06T15:31:29.069Z"
   },
   {
    "duration": 4,
    "start_time": "2022-10-06T15:31:29.086Z"
   },
   {
    "duration": 63,
    "start_time": "2022-10-06T15:31:29.091Z"
   },
   {
    "duration": 30,
    "start_time": "2022-10-06T15:31:29.156Z"
   },
   {
    "duration": 71,
    "start_time": "2022-10-06T15:31:29.188Z"
   },
   {
    "duration": 35,
    "start_time": "2022-10-06T15:31:29.261Z"
   },
   {
    "duration": 27,
    "start_time": "2022-10-06T15:31:29.298Z"
   },
   {
    "duration": 31,
    "start_time": "2022-10-06T15:31:29.328Z"
   },
   {
    "duration": 50,
    "start_time": "2022-10-06T15:31:29.361Z"
   },
   {
    "duration": 16,
    "start_time": "2022-10-06T15:31:29.412Z"
   },
   {
    "duration": 49,
    "start_time": "2022-10-06T15:31:29.430Z"
   },
   {
    "duration": 3,
    "start_time": "2022-10-06T15:31:29.481Z"
   },
   {
    "duration": 40,
    "start_time": "2022-10-06T15:31:29.485Z"
   },
   {
    "duration": 258,
    "start_time": "2022-10-06T15:31:29.527Z"
   },
   {
    "duration": 267,
    "start_time": "2022-10-06T15:31:36.149Z"
   },
   {
    "duration": 248,
    "start_time": "2022-10-06T15:33:23.184Z"
   },
   {
    "duration": 267,
    "start_time": "2022-10-06T15:34:02.795Z"
   },
   {
    "duration": 144,
    "start_time": "2022-10-06T15:34:17.495Z"
   },
   {
    "duration": 180,
    "start_time": "2022-10-06T15:34:32.506Z"
   },
   {
    "duration": 149,
    "start_time": "2022-10-06T15:36:22.993Z"
   },
   {
    "duration": 152,
    "start_time": "2022-10-06T15:36:30.944Z"
   },
   {
    "duration": 152,
    "start_time": "2022-10-06T15:37:19.681Z"
   },
   {
    "duration": 273,
    "start_time": "2022-10-06T15:38:00.578Z"
   },
   {
    "duration": 136,
    "start_time": "2022-10-06T15:43:24.294Z"
   },
   {
    "duration": 245,
    "start_time": "2022-10-06T15:43:37.935Z"
   },
   {
    "duration": 129,
    "start_time": "2022-10-06T15:44:44.870Z"
   },
   {
    "duration": 139,
    "start_time": "2022-10-06T15:44:55.659Z"
   },
   {
    "duration": 154,
    "start_time": "2022-10-06T15:46:39.647Z"
   },
   {
    "duration": 127,
    "start_time": "2022-10-06T15:46:50.465Z"
   },
   {
    "duration": 205,
    "start_time": "2022-10-06T15:52:23.241Z"
   },
   {
    "duration": 208,
    "start_time": "2022-10-06T15:53:20.384Z"
   },
   {
    "duration": 4,
    "start_time": "2022-10-06T17:28:29.100Z"
   },
   {
    "duration": 7,
    "start_time": "2022-10-06T17:28:29.107Z"
   },
   {
    "duration": 239,
    "start_time": "2022-10-06T17:28:29.116Z"
   },
   {
    "duration": 54,
    "start_time": "2022-10-06T17:28:29.357Z"
   },
   {
    "duration": 12,
    "start_time": "2022-10-06T17:28:29.413Z"
   },
   {
    "duration": 3,
    "start_time": "2022-10-06T17:28:29.427Z"
   },
   {
    "duration": 42,
    "start_time": "2022-10-06T17:28:29.432Z"
   },
   {
    "duration": 28,
    "start_time": "2022-10-06T17:28:29.476Z"
   },
   {
    "duration": 64,
    "start_time": "2022-10-06T17:28:29.505Z"
   },
   {
    "duration": 33,
    "start_time": "2022-10-06T17:28:29.571Z"
   },
   {
    "duration": 26,
    "start_time": "2022-10-06T17:28:29.605Z"
   },
   {
    "duration": 8,
    "start_time": "2022-10-06T17:28:29.653Z"
   },
   {
    "duration": 36,
    "start_time": "2022-10-06T17:28:29.663Z"
   },
   {
    "duration": 17,
    "start_time": "2022-10-06T17:28:29.701Z"
   },
   {
    "duration": 45,
    "start_time": "2022-10-06T17:28:29.720Z"
   },
   {
    "duration": 2,
    "start_time": "2022-10-06T17:28:29.767Z"
   },
   {
    "duration": 17,
    "start_time": "2022-10-06T17:28:29.771Z"
   },
   {
    "duration": 270,
    "start_time": "2022-10-06T17:28:29.790Z"
   },
   {
    "duration": 150,
    "start_time": "2022-10-06T17:28:30.062Z"
   },
   {
    "duration": 251,
    "start_time": "2022-10-06T17:28:30.214Z"
   },
   {
    "duration": 302,
    "start_time": "2022-10-06T17:28:30.467Z"
   },
   {
    "duration": 283,
    "start_time": "2022-10-06T17:28:30.771Z"
   },
   {
    "duration": 165,
    "start_time": "2022-10-06T17:28:31.056Z"
   },
   {
    "duration": 176,
    "start_time": "2022-10-06T17:28:31.223Z"
   },
   {
    "duration": 410,
    "start_time": "2022-10-06T17:28:31.400Z"
   },
   {
    "duration": 67981,
    "start_time": "2022-10-06T17:28:31.811Z"
   },
   {
    "duration": 137,
    "start_time": "2022-10-06T17:29:39.794Z"
   },
   {
    "duration": 371,
    "start_time": "2022-10-06T17:29:39.933Z"
   },
   {
    "duration": 29,
    "start_time": "2022-10-06T17:29:40.306Z"
   },
   {
    "duration": 35,
    "start_time": "2022-10-06T17:29:40.339Z"
   },
   {
    "duration": 53,
    "start_time": "2022-10-06T17:29:40.375Z"
   },
   {
    "duration": 234,
    "start_time": "2022-10-06T17:29:40.430Z"
   },
   {
    "duration": 337,
    "start_time": "2022-10-06T17:29:40.666Z"
   },
   {
    "duration": 10,
    "start_time": "2022-10-06T17:29:41.005Z"
   },
   {
    "duration": 16,
    "start_time": "2022-10-06T17:29:41.016Z"
   },
   {
    "duration": 7,
    "start_time": "2022-10-06T17:29:41.034Z"
   },
   {
    "duration": 10,
    "start_time": "2022-10-06T17:29:41.054Z"
   },
   {
    "duration": 25,
    "start_time": "2022-10-06T17:29:41.066Z"
   },
   {
    "duration": 9,
    "start_time": "2022-10-06T17:29:41.093Z"
   },
   {
    "duration": 14,
    "start_time": "2022-10-06T17:29:41.104Z"
   },
   {
    "duration": 45,
    "start_time": "2022-10-06T17:29:41.119Z"
   },
   {
    "duration": 20,
    "start_time": "2022-10-06T17:29:41.166Z"
   },
   {
    "duration": 197,
    "start_time": "2022-10-06T17:29:41.187Z"
   },
   {
    "duration": 15,
    "start_time": "2022-10-06T17:29:41.386Z"
   },
   {
    "duration": 109,
    "start_time": "2022-10-06T17:29:41.403Z"
   },
   {
    "duration": 300,
    "start_time": "2022-10-06T17:29:41.513Z"
   },
   {
    "duration": 258,
    "start_time": "2022-10-06T17:29:41.815Z"
   },
   {
    "duration": 9,
    "start_time": "2022-10-06T17:29:42.076Z"
   },
   {
    "duration": 34,
    "start_time": "2022-10-06T17:29:42.087Z"
   },
   {
    "duration": 273,
    "start_time": "2022-10-06T17:29:42.123Z"
   },
   {
    "duration": 273,
    "start_time": "2022-10-06T17:29:42.398Z"
   },
   {
    "duration": 5,
    "start_time": "2022-10-06T17:29:42.672Z"
   },
   {
    "duration": 20,
    "start_time": "2022-10-06T17:29:42.679Z"
   },
   {
    "duration": 360,
    "start_time": "2022-10-06T17:47:35.937Z"
   },
   {
    "duration": 341,
    "start_time": "2022-10-06T17:52:26.078Z"
   },
   {
    "duration": 483,
    "start_time": "2022-10-06T17:52:31.503Z"
   },
   {
    "duration": 419,
    "start_time": "2022-10-06T17:52:41.489Z"
   },
   {
    "duration": 58,
    "start_time": "2022-10-06T17:54:51.778Z"
   },
   {
    "duration": 16,
    "start_time": "2022-10-06T17:54:58.964Z"
   },
   {
    "duration": 59,
    "start_time": "2022-10-06T17:55:04.870Z"
   },
   {
    "duration": 19,
    "start_time": "2022-10-06T17:55:30.609Z"
   },
   {
    "duration": 16,
    "start_time": "2022-10-06T17:56:07.866Z"
   },
   {
    "duration": 10,
    "start_time": "2022-10-06T17:56:19.279Z"
   },
   {
    "duration": 82,
    "start_time": "2022-10-06T18:03:41.055Z"
   },
   {
    "duration": 112,
    "start_time": "2022-10-06T18:05:35.570Z"
   },
   {
    "duration": 96,
    "start_time": "2022-10-06T18:05:45.100Z"
   },
   {
    "duration": 112,
    "start_time": "2022-10-06T18:06:29.833Z"
   },
   {
    "duration": 141,
    "start_time": "2022-10-06T18:09:56.353Z"
   },
   {
    "duration": 121,
    "start_time": "2022-10-06T18:10:20.364Z"
   },
   {
    "duration": 113,
    "start_time": "2022-10-06T18:10:44.800Z"
   },
   {
    "duration": 4,
    "start_time": "2022-10-06T18:11:31.341Z"
   },
   {
    "duration": 14,
    "start_time": "2022-10-06T18:11:31.347Z"
   },
   {
    "duration": 225,
    "start_time": "2022-10-06T18:11:31.363Z"
   },
   {
    "duration": 56,
    "start_time": "2022-10-06T18:11:31.591Z"
   },
   {
    "duration": 12,
    "start_time": "2022-10-06T18:11:31.649Z"
   },
   {
    "duration": 4,
    "start_time": "2022-10-06T18:11:31.663Z"
   },
   {
    "duration": 34,
    "start_time": "2022-10-06T18:11:31.668Z"
   },
   {
    "duration": 56,
    "start_time": "2022-10-06T18:11:31.704Z"
   },
   {
    "duration": 47,
    "start_time": "2022-10-06T18:11:31.763Z"
   },
   {
    "duration": 57,
    "start_time": "2022-10-06T18:11:31.812Z"
   },
   {
    "duration": 27,
    "start_time": "2022-10-06T18:11:31.872Z"
   },
   {
    "duration": 8,
    "start_time": "2022-10-06T18:11:31.900Z"
   },
   {
    "duration": 58,
    "start_time": "2022-10-06T18:11:31.909Z"
   },
   {
    "duration": 18,
    "start_time": "2022-10-06T18:11:31.968Z"
   },
   {
    "duration": 21,
    "start_time": "2022-10-06T18:11:31.988Z"
   },
   {
    "duration": 3,
    "start_time": "2022-10-06T18:11:32.011Z"
   },
   {
    "duration": 47,
    "start_time": "2022-10-06T18:11:32.015Z"
   },
   {
    "duration": 264,
    "start_time": "2022-10-06T18:11:32.064Z"
   },
   {
    "duration": 241,
    "start_time": "2022-10-06T18:11:32.330Z"
   },
   {
    "duration": 251,
    "start_time": "2022-10-06T18:11:32.572Z"
   },
   {
    "duration": 163,
    "start_time": "2022-10-06T18:11:32.825Z"
   },
   {
    "duration": 264,
    "start_time": "2022-10-06T18:11:32.990Z"
   },
   {
    "duration": 166,
    "start_time": "2022-10-06T18:11:33.256Z"
   },
   {
    "duration": 185,
    "start_time": "2022-10-06T18:11:33.424Z"
   },
   {
    "duration": 354,
    "start_time": "2022-10-06T18:11:33.610Z"
   },
   {
    "duration": 67675,
    "start_time": "2022-10-06T18:11:33.966Z"
   },
   {
    "duration": 162,
    "start_time": "2022-10-06T18:12:41.643Z"
   },
   {
    "duration": 378,
    "start_time": "2022-10-06T18:12:41.806Z"
   },
   {
    "duration": 31,
    "start_time": "2022-10-06T18:12:42.187Z"
   },
   {
    "duration": 45,
    "start_time": "2022-10-06T18:12:42.221Z"
   },
   {
    "duration": 65,
    "start_time": "2022-10-06T18:12:42.267Z"
   },
   {
    "duration": 333,
    "start_time": "2022-10-06T18:12:42.334Z"
   },
   {
    "duration": 367,
    "start_time": "2022-10-06T18:12:42.669Z"
   },
   {
    "duration": 17,
    "start_time": "2022-10-06T18:12:43.038Z"
   },
   {
    "duration": 17,
    "start_time": "2022-10-06T18:12:43.056Z"
   },
   {
    "duration": 7,
    "start_time": "2022-10-06T18:12:43.074Z"
   },
   {
    "duration": 13,
    "start_time": "2022-10-06T18:12:43.083Z"
   },
   {
    "duration": 30,
    "start_time": "2022-10-06T18:12:43.097Z"
   },
   {
    "duration": 10,
    "start_time": "2022-10-06T18:12:43.129Z"
   },
   {
    "duration": 22,
    "start_time": "2022-10-06T18:12:43.140Z"
   },
   {
    "duration": 19,
    "start_time": "2022-10-06T18:12:43.164Z"
   },
   {
    "duration": 19,
    "start_time": "2022-10-06T18:12:43.185Z"
   },
   {
    "duration": 159,
    "start_time": "2022-10-06T18:14:31.143Z"
   },
   {
    "duration": 113,
    "start_time": "2022-10-06T18:14:54.280Z"
   },
   {
    "duration": 133,
    "start_time": "2022-10-06T18:15:02.038Z"
   },
   {
    "duration": 20,
    "start_time": "2022-10-06T18:15:57.869Z"
   },
   {
    "duration": 20,
    "start_time": "2022-10-06T18:16:16.576Z"
   },
   {
    "duration": 180,
    "start_time": "2022-10-06T18:16:19.916Z"
   },
   {
    "duration": 3,
    "start_time": "2022-10-06T18:16:24.167Z"
   },
   {
    "duration": 7,
    "start_time": "2022-10-06T18:16:24.174Z"
   },
   {
    "duration": 216,
    "start_time": "2022-10-06T18:16:24.183Z"
   },
   {
    "duration": 58,
    "start_time": "2022-10-06T18:16:24.401Z"
   },
   {
    "duration": 13,
    "start_time": "2022-10-06T18:16:24.461Z"
   },
   {
    "duration": 4,
    "start_time": "2022-10-06T18:16:24.476Z"
   },
   {
    "duration": 34,
    "start_time": "2022-10-06T18:16:24.481Z"
   },
   {
    "duration": 56,
    "start_time": "2022-10-06T18:16:24.516Z"
   },
   {
    "duration": 48,
    "start_time": "2022-10-06T18:16:24.575Z"
   },
   {
    "duration": 60,
    "start_time": "2022-10-06T18:16:24.625Z"
   },
   {
    "duration": 30,
    "start_time": "2022-10-06T18:16:24.687Z"
   },
   {
    "duration": 7,
    "start_time": "2022-10-06T18:16:24.720Z"
   },
   {
    "duration": 61,
    "start_time": "2022-10-06T18:16:24.728Z"
   },
   {
    "duration": 17,
    "start_time": "2022-10-06T18:16:24.790Z"
   },
   {
    "duration": 21,
    "start_time": "2022-10-06T18:16:24.809Z"
   },
   {
    "duration": 4,
    "start_time": "2022-10-06T18:16:24.853Z"
   },
   {
    "duration": 20,
    "start_time": "2022-10-06T18:16:24.859Z"
   },
   {
    "duration": 271,
    "start_time": "2022-10-06T18:16:24.881Z"
   },
   {
    "duration": 164,
    "start_time": "2022-10-06T18:16:25.154Z"
   },
   {
    "duration": 378,
    "start_time": "2022-10-06T18:16:25.320Z"
   },
   {
    "duration": 167,
    "start_time": "2022-10-06T18:16:25.700Z"
   },
   {
    "duration": 270,
    "start_time": "2022-10-06T18:16:25.869Z"
   },
   {
    "duration": 166,
    "start_time": "2022-10-06T18:16:26.141Z"
   },
   {
    "duration": 183,
    "start_time": "2022-10-06T18:16:26.309Z"
   },
   {
    "duration": 365,
    "start_time": "2022-10-06T18:16:26.494Z"
   },
   {
    "duration": 69684,
    "start_time": "2022-10-06T18:16:26.861Z"
   },
   {
    "duration": 146,
    "start_time": "2022-10-06T18:17:36.547Z"
   },
   {
    "duration": 424,
    "start_time": "2022-10-06T18:17:36.695Z"
   },
   {
    "duration": 43,
    "start_time": "2022-10-06T18:17:37.122Z"
   },
   {
    "duration": 27,
    "start_time": "2022-10-06T18:17:37.168Z"
   },
   {
    "duration": 87,
    "start_time": "2022-10-06T18:17:37.197Z"
   },
   {
    "duration": 242,
    "start_time": "2022-10-06T18:17:37.286Z"
   },
   {
    "duration": 479,
    "start_time": "2022-10-06T18:17:37.529Z"
   },
   {
    "duration": 11,
    "start_time": "2022-10-06T18:17:38.009Z"
   },
   {
    "duration": 12,
    "start_time": "2022-10-06T18:17:38.021Z"
   },
   {
    "duration": 20,
    "start_time": "2022-10-06T18:17:38.035Z"
   },
   {
    "duration": 17,
    "start_time": "2022-10-06T18:17:38.058Z"
   },
   {
    "duration": 36,
    "start_time": "2022-10-06T18:17:38.077Z"
   },
   {
    "duration": 13,
    "start_time": "2022-10-06T18:17:38.114Z"
   },
   {
    "duration": 30,
    "start_time": "2022-10-06T18:17:38.129Z"
   },
   {
    "duration": 19,
    "start_time": "2022-10-06T18:17:38.162Z"
   },
   {
    "duration": 23,
    "start_time": "2022-10-06T18:17:38.183Z"
   },
   {
    "duration": 153,
    "start_time": "2022-10-06T18:17:38.208Z"
   },
   {
    "duration": 15,
    "start_time": "2022-10-06T18:17:38.363Z"
   },
   {
    "duration": 12,
    "start_time": "2022-10-06T18:18:23.812Z"
   },
   {
    "duration": 168,
    "start_time": "2022-10-06T18:18:55.711Z"
   },
   {
    "duration": 271,
    "start_time": "2022-10-06T18:20:41.396Z"
   },
   {
    "duration": 192,
    "start_time": "2022-10-06T18:21:10.816Z"
   },
   {
    "duration": 91,
    "start_time": "2022-10-06T18:21:18.101Z"
   },
   {
    "duration": 183,
    "start_time": "2022-10-06T18:22:42.314Z"
   },
   {
    "duration": 101,
    "start_time": "2022-10-06T18:23:53.328Z"
   },
   {
    "duration": 116,
    "start_time": "2022-10-06T18:24:40.945Z"
   },
   {
    "duration": 221,
    "start_time": "2022-10-06T18:26:01.911Z"
   },
   {
    "duration": 13,
    "start_time": "2022-10-06T18:37:31.013Z"
   },
   {
    "duration": 130,
    "start_time": "2022-10-06T18:38:53.293Z"
   },
   {
    "duration": 135,
    "start_time": "2022-10-06T18:39:00.880Z"
   },
   {
    "duration": 250,
    "start_time": "2022-10-06T19:07:03.000Z"
   },
   {
    "duration": 371,
    "start_time": "2022-10-06T19:07:13.653Z"
   },
   {
    "duration": 275,
    "start_time": "2022-10-06T19:07:27.352Z"
   },
   {
    "duration": 248,
    "start_time": "2022-10-06T19:07:39.760Z"
   },
   {
    "duration": 203,
    "start_time": "2022-10-06T19:07:52.679Z"
   },
   {
    "duration": 193,
    "start_time": "2022-10-06T19:08:09.588Z"
   },
   {
    "duration": 22,
    "start_time": "2022-10-06T19:36:34.865Z"
   },
   {
    "duration": 6,
    "start_time": "2022-10-06T19:36:47.954Z"
   },
   {
    "duration": 10,
    "start_time": "2022-10-06T19:38:19.148Z"
   },
   {
    "duration": 8,
    "start_time": "2022-10-06T19:39:43.751Z"
   },
   {
    "duration": 11,
    "start_time": "2022-10-06T19:40:41.393Z"
   },
   {
    "duration": 152,
    "start_time": "2022-10-06T20:13:30.691Z"
   },
   {
    "duration": 139,
    "start_time": "2022-10-06T20:43:27.044Z"
   },
   {
    "duration": 124,
    "start_time": "2022-10-06T20:43:56.430Z"
   },
   {
    "duration": 137,
    "start_time": "2022-10-06T20:44:03.172Z"
   },
   {
    "duration": 136,
    "start_time": "2022-10-06T20:44:24.688Z"
   },
   {
    "duration": 148,
    "start_time": "2022-10-06T20:45:11.587Z"
   },
   {
    "duration": 113,
    "start_time": "2022-10-06T20:50:26.255Z"
   },
   {
    "duration": 211,
    "start_time": "2022-10-06T20:50:36.873Z"
   },
   {
    "duration": 215,
    "start_time": "2022-10-06T20:54:51.926Z"
   },
   {
    "duration": 229,
    "start_time": "2022-10-06T20:55:09.234Z"
   },
   {
    "duration": 1302,
    "start_time": "2022-10-07T06:50:52.368Z"
   },
   {
    "duration": 3,
    "start_time": "2022-10-07T06:50:53.673Z"
   },
   {
    "duration": 419,
    "start_time": "2022-10-07T06:50:53.827Z"
   },
   {
    "duration": 106,
    "start_time": "2022-10-07T06:50:55.023Z"
   },
   {
    "duration": 17,
    "start_time": "2022-10-07T06:50:56.458Z"
   },
   {
    "duration": 4,
    "start_time": "2022-10-07T06:50:56.992Z"
   },
   {
    "duration": 31,
    "start_time": "2022-10-07T06:50:58.384Z"
   },
   {
    "duration": 41,
    "start_time": "2022-10-07T06:50:59.160Z"
   },
   {
    "duration": 50,
    "start_time": "2022-10-07T06:51:01.745Z"
   }
  ],
  "kernelspec": {
   "display_name": "Python 3 (ipykernel)",
   "language": "python",
   "name": "python3"
  },
  "language_info": {
   "codemirror_mode": {
    "name": "ipython",
    "version": 3
   },
   "file_extension": ".py",
   "mimetype": "text/x-python",
   "name": "python",
   "nbconvert_exporter": "python",
   "pygments_lexer": "ipython3",
   "version": "3.9.12"
  },
  "toc": {
   "base_numbering": 1,
   "nav_menu": {},
   "number_sections": true,
   "sideBar": true,
   "skip_h1_title": true,
   "title_cell": "Table of Contents",
   "title_sidebar": "Contents",
   "toc_cell": false,
   "toc_position": {
    "height": "calc(100% - 180px)",
    "left": "10px",
    "top": "150px",
    "width": "249.457px"
   },
   "toc_section_display": true,
   "toc_window_display": false
  }
 },
 "nbformat": 4,
 "nbformat_minor": 2
}
