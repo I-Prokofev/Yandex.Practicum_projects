{
 "cells": [
  {
   "cell_type": "markdown",
   "metadata": {},
   "source": [
    "# Рынок заведений общественного питания Москвы\n",
    "На основе открытых данных необходимо подготовить исследование рынка заведений общественного питания Москвы для инвесторов.\n",
    "\n",
    "**Ход исследования:**\n",
    "\n",
    "Данные о заведениях общественного питания мы получим из файла 'rest_data.csv' \n",
    "\n",
    "О качестве данных ничего не известно. Поэтому перед проведением исследовательского анализа нам понадобится сделать их обзор. Мы проверим данные на ошибки и затем на этапе предобработки исправим критичные ошибки.\n",
    "\n",
    "Таким образом, исследование пройдет в несколько этапов:\n",
    "\n",
    "1. Изучение данных.\n",
    "2. Предобработка данных.\n",
    "3. Исследовательский анализ данных."
   ]
  },
  {
   "cell_type": "markdown",
   "metadata": {},
   "source": [
    "## Обзор данных <a id=\"start\"></a> "
   ]
  },
  {
   "cell_type": "markdown",
   "metadata": {},
   "source": [
    "### Получение общей информации о данных <a id=\"preprocessing\"></a> "
   ]
  },
  {
   "cell_type": "markdown",
   "metadata": {},
   "source": [
    "Загрузим данные о заведениях общественного питания Москвы. Убедимся, что тип данных в каждой колонке правильный, а также отсутствуют пропущенные значения и дубликаты. \n",
    "\n",
    "Путь к файлу:\n",
    "\n",
    " *    rest_data.csv"
   ]
  },
  {
   "cell_type": "code",
   "execution_count": 1,
   "metadata": {},
   "outputs": [],
   "source": [
    "import pandas as pd\n",
    "import seaborn as sns\n",
    "import numpy as np\n",
    "import plotly.express as px\n",
    "import matplotlib.pyplot as plt\n",
    "from io import BytesIO\n",
    "import requests "
   ]
  },
  {
   "cell_type": "code",
   "execution_count": 2,
   "metadata": {},
   "outputs": [
    {
     "data": {
      "text/html": [
       "<div>\n",
       "<style scoped>\n",
       "    .dataframe tbody tr th:only-of-type {\n",
       "        vertical-align: middle;\n",
       "    }\n",
       "\n",
       "    .dataframe tbody tr th {\n",
       "        vertical-align: top;\n",
       "    }\n",
       "\n",
       "    .dataframe thead th {\n",
       "        text-align: right;\n",
       "    }\n",
       "</style>\n",
       "<table border=\"1\" class=\"dataframe\">\n",
       "  <thead>\n",
       "    <tr style=\"text-align: right;\">\n",
       "      <th></th>\n",
       "      <th>id</th>\n",
       "      <th>object_name</th>\n",
       "      <th>chain</th>\n",
       "      <th>object_type</th>\n",
       "      <th>address</th>\n",
       "      <th>number</th>\n",
       "    </tr>\n",
       "  </thead>\n",
       "  <tbody>\n",
       "    <tr>\n",
       "      <th>0</th>\n",
       "      <td>151635</td>\n",
       "      <td>СМЕТАНА</td>\n",
       "      <td>нет</td>\n",
       "      <td>кафе</td>\n",
       "      <td>город Москва, улица Егора Абакумова, дом 9</td>\n",
       "      <td>48</td>\n",
       "    </tr>\n",
       "    <tr>\n",
       "      <th>1</th>\n",
       "      <td>77874</td>\n",
       "      <td>Родник</td>\n",
       "      <td>нет</td>\n",
       "      <td>кафе</td>\n",
       "      <td>город Москва, улица Талалихина, дом 2/1, корпус 1</td>\n",
       "      <td>35</td>\n",
       "    </tr>\n",
       "    <tr>\n",
       "      <th>2</th>\n",
       "      <td>24309</td>\n",
       "      <td>Кафе «Академия»</td>\n",
       "      <td>нет</td>\n",
       "      <td>кафе</td>\n",
       "      <td>город Москва, Абельмановская улица, дом 6</td>\n",
       "      <td>95</td>\n",
       "    </tr>\n",
       "    <tr>\n",
       "      <th>3</th>\n",
       "      <td>21894</td>\n",
       "      <td>ПИЦЦЕТОРИЯ</td>\n",
       "      <td>да</td>\n",
       "      <td>кафе</td>\n",
       "      <td>город Москва, Абрамцевская улица, дом 1</td>\n",
       "      <td>40</td>\n",
       "    </tr>\n",
       "    <tr>\n",
       "      <th>4</th>\n",
       "      <td>119365</td>\n",
       "      <td>Кафе «Вишневая метель»</td>\n",
       "      <td>нет</td>\n",
       "      <td>кафе</td>\n",
       "      <td>город Москва, Абрамцевская улица, дом 9, корпус 1</td>\n",
       "      <td>50</td>\n",
       "    </tr>\n",
       "  </tbody>\n",
       "</table>\n",
       "</div>"
      ],
      "text/plain": [
       "       id             object_name chain object_type  \\\n",
       "0  151635                 СМЕТАНА   нет        кафе   \n",
       "1   77874                  Родник   нет        кафе   \n",
       "2   24309         Кафе «Академия»   нет        кафе   \n",
       "3   21894              ПИЦЦЕТОРИЯ    да        кафе   \n",
       "4  119365  Кафе «Вишневая метель»   нет        кафе   \n",
       "\n",
       "                                             address  number  \n",
       "0         город Москва, улица Егора Абакумова, дом 9      48  \n",
       "1  город Москва, улица Талалихина, дом 2/1, корпус 1      35  \n",
       "2          город Москва, Абельмановская улица, дом 6      95  \n",
       "3            город Москва, Абрамцевская улица, дом 1      40  \n",
       "4  город Москва, Абрамцевская улица, дом 9, корпус 1      50  "
      ]
     },
     "metadata": {},
     "output_type": "display_data"
    },
    {
     "name": "stdout",
     "output_type": "stream",
     "text": [
      "<class 'pandas.core.frame.DataFrame'>\n",
      "RangeIndex: 15366 entries, 0 to 15365\n",
      "Data columns (total 6 columns):\n",
      " #   Column       Non-Null Count  Dtype \n",
      "---  ------       --------------  ----- \n",
      " 0   id           15366 non-null  int64 \n",
      " 1   object_name  15366 non-null  object\n",
      " 2   chain        15366 non-null  object\n",
      " 3   object_type  15366 non-null  object\n",
      " 4   address      15366 non-null  object\n",
      " 5   number       15366 non-null  int64 \n",
      "dtypes: int64(2), object(4)\n",
      "memory usage: 720.4+ KB\n"
     ]
    },
    {
     "data": {
      "text/plain": [
       "None"
      ]
     },
     "metadata": {},
     "output_type": "display_data"
    },
    {
     "data": {
      "text/html": [
       "<div>\n",
       "<style scoped>\n",
       "    .dataframe tbody tr th:only-of-type {\n",
       "        vertical-align: middle;\n",
       "    }\n",
       "\n",
       "    .dataframe tbody tr th {\n",
       "        vertical-align: top;\n",
       "    }\n",
       "\n",
       "    .dataframe thead th {\n",
       "        text-align: right;\n",
       "    }\n",
       "</style>\n",
       "<table border=\"1\" class=\"dataframe\">\n",
       "  <thead>\n",
       "    <tr style=\"text-align: right;\">\n",
       "      <th></th>\n",
       "      <th>id</th>\n",
       "      <th>number</th>\n",
       "    </tr>\n",
       "  </thead>\n",
       "  <tbody>\n",
       "    <tr>\n",
       "      <th>count</th>\n",
       "      <td>15366.000000</td>\n",
       "      <td>15366.000000</td>\n",
       "    </tr>\n",
       "    <tr>\n",
       "      <th>mean</th>\n",
       "      <td>119720.066901</td>\n",
       "      <td>59.547182</td>\n",
       "    </tr>\n",
       "    <tr>\n",
       "      <th>std</th>\n",
       "      <td>73036.130732</td>\n",
       "      <td>74.736833</td>\n",
       "    </tr>\n",
       "    <tr>\n",
       "      <th>min</th>\n",
       "      <td>838.000000</td>\n",
       "      <td>0.000000</td>\n",
       "    </tr>\n",
       "    <tr>\n",
       "      <th>25%</th>\n",
       "      <td>28524.000000</td>\n",
       "      <td>12.000000</td>\n",
       "    </tr>\n",
       "    <tr>\n",
       "      <th>50%</th>\n",
       "      <td>144974.500000</td>\n",
       "      <td>40.000000</td>\n",
       "    </tr>\n",
       "    <tr>\n",
       "      <th>75%</th>\n",
       "      <td>184262.250000</td>\n",
       "      <td>80.000000</td>\n",
       "    </tr>\n",
       "    <tr>\n",
       "      <th>max</th>\n",
       "      <td>223439.000000</td>\n",
       "      <td>1700.000000</td>\n",
       "    </tr>\n",
       "  </tbody>\n",
       "</table>\n",
       "</div>"
      ],
      "text/plain": [
       "                  id        number\n",
       "count   15366.000000  15366.000000\n",
       "mean   119720.066901     59.547182\n",
       "std     73036.130732     74.736833\n",
       "min       838.000000      0.000000\n",
       "25%     28524.000000     12.000000\n",
       "50%    144974.500000     40.000000\n",
       "75%    184262.250000     80.000000\n",
       "max    223439.000000   1700.000000"
      ]
     },
     "metadata": {},
     "output_type": "display_data"
    },
    {
     "name": "stdout",
     "output_type": "stream",
     "text": [
      "\n",
      "Количество уникальных значений в столбцах:\n",
      "id             15366\n",
      "object_name    10393\n",
      "chain              2\n",
      "object_type        9\n",
      "address         9108\n",
      "number           315\n",
      "dtype: int64\n"
     ]
    }
   ],
   "source": [
    "# функция для первичного анализа датасета\n",
    "def primary_analysis (data):\n",
    "    display(data.head(5))\n",
    "    display(data.info())\n",
    "    display(data.describe())\n",
    "\n",
    "data = pd.read_csv('rest_data.csv')\n",
    "primary_analysis(data)\n",
    "\n",
    "print('\\nКоличество уникальных значений в столбцах:')\n",
    "print(data.nunique())"
   ]
  },
  {
   "cell_type": "markdown",
   "metadata": {},
   "source": [
    "Описание столбцов согласно документации к данным:\n",
    "* id — идентификатор объекта;\n",
    "* object_name — название объекта общественного питания;\n",
    "* chain — сетевой ресторан;\n",
    "* object_type — тип объекта общественного питания;\n",
    "* address — адрес;\n",
    "* number — количество посадочных мест."
   ]
  },
  {
   "cell_type": "code",
   "execution_count": 3,
   "metadata": {},
   "outputs": [
    {
     "data": {
      "text/plain": [
       "0                   сметана\n",
       "1                    родник\n",
       "2           кафе «академия»\n",
       "3                пиццетория\n",
       "4    кафе «вишневая метель»\n",
       "Name: object_name, dtype: object"
      ]
     },
     "metadata": {},
     "output_type": "display_data"
    },
    {
     "name": "stdout",
     "output_type": "stream",
     "text": [
      "Количество явных дубликатов: 0\n"
     ]
    }
   ],
   "source": [
    "# переведем названия заведений в нижний регистр\n",
    "data['object_name'] = data['object_name'].str.lower()\n",
    "display(data['object_name'].head(5))\n",
    "\n",
    "print(\"Количество явных дубликатов:\", data.duplicated().sum())"
   ]
  },
  {
   "cell_type": "markdown",
   "metadata": {},
   "source": [
    "В датасете тип данных в каждом столбце соответствует описанию, пропущенные значения и явные дубликаты отсутствуют. \n",
    "\n",
    "Теперь проверим данные на наличие неявных дубликатов:"
   ]
  },
  {
   "cell_type": "code",
   "execution_count": 4,
   "metadata": {},
   "outputs": [
    {
     "name": "stdout",
     "output_type": "stream",
     "text": [
      "Количество уникльных названий заведений: 9924\n",
      "Уникальные названия заведений:\n"
     ]
    },
    {
     "data": {
      "text/html": [
       "<style type=\"text/css\">\n",
       "</style>\n",
       "<table id=\"T_60e68\">\n",
       "  <thead>\n",
       "    <tr>\n",
       "      <th class=\"blank level0\" >&nbsp;</th>\n",
       "      <th id=\"T_60e68_level0_col0\" class=\"col_heading level0 col0\" >object_name</th>\n",
       "      <th id=\"T_60e68_level0_col1\" class=\"col_heading level0 col1\" >count</th>\n",
       "      <th id=\"T_60e68_level0_col2\" class=\"col_heading level0 col2\" >share</th>\n",
       "    </tr>\n",
       "  </thead>\n",
       "  <tbody>\n",
       "    <tr>\n",
       "      <th id=\"T_60e68_level0_row0\" class=\"row_heading level0 row0\" >7639</th>\n",
       "      <td id=\"T_60e68_row0_col0\" class=\"data row0 col0\" >столовая</td>\n",
       "      <td id=\"T_60e68_row0_col1\" class=\"data row0 col1\" >321</td>\n",
       "      <td id=\"T_60e68_row0_col2\" class=\"data row0 col2\" >3.23%</td>\n",
       "    </tr>\n",
       "    <tr>\n",
       "      <th id=\"T_60e68_level0_row1\" class=\"row_heading level0 row1\" >3468</th>\n",
       "      <td id=\"T_60e68_row1_col0\" class=\"data row1 col0\" >кафе</td>\n",
       "      <td id=\"T_60e68_row1_col1\" class=\"data row1 col1\" >278</td>\n",
       "      <td id=\"T_60e68_row1_col2\" class=\"data row1 col2\" >2.80%</td>\n",
       "    </tr>\n",
       "    <tr>\n",
       "      <th id=\"T_60e68_level0_row2\" class=\"row_heading level0 row2\" >9463</th>\n",
       "      <td id=\"T_60e68_row2_col0\" class=\"data row2 col0\" >шаурма</td>\n",
       "      <td id=\"T_60e68_row2_col1\" class=\"data row2 col1\" >250</td>\n",
       "      <td id=\"T_60e68_row2_col2\" class=\"data row2 col2\" >2.52%</td>\n",
       "    </tr>\n",
       "    <tr>\n",
       "      <th id=\"T_60e68_level0_row3\" class=\"row_heading level0 row3\" >9798</th>\n",
       "      <td id=\"T_60e68_row3_col0\" class=\"data row3 col0\" >шоколадница</td>\n",
       "      <td id=\"T_60e68_row3_col1\" class=\"data row3 col1\" >158</td>\n",
       "      <td id=\"T_60e68_row3_col2\" class=\"data row3 col2\" >1.59%</td>\n",
       "    </tr>\n",
       "    <tr>\n",
       "      <th id=\"T_60e68_level0_row4\" class=\"row_heading level0 row4\" >623</th>\n",
       "      <td id=\"T_60e68_row4_col0\" class=\"data row4 col0\" >kfc</td>\n",
       "      <td id=\"T_60e68_row4_col1\" class=\"data row4 col1\" >155</td>\n",
       "      <td id=\"T_60e68_row4_col2\" class=\"data row4 col2\" >1.56%</td>\n",
       "    </tr>\n",
       "    <tr>\n",
       "      <th id=\"T_60e68_level0_row5\" class=\"row_heading level0 row5\" >5439</th>\n",
       "      <td id=\"T_60e68_row5_col0\" class=\"data row5 col0\" >макдоналдс</td>\n",
       "      <td id=\"T_60e68_row5_col1\" class=\"data row5 col1\" >151</td>\n",
       "      <td id=\"T_60e68_row5_col2\" class=\"data row5 col2\" >1.52%</td>\n",
       "    </tr>\n",
       "    <tr>\n",
       "      <th id=\"T_60e68_level0_row6\" class=\"row_heading level0 row6\" >1955</th>\n",
       "      <td id=\"T_60e68_row6_col0\" class=\"data row6 col0\" >бургер кинг</td>\n",
       "      <td id=\"T_60e68_row6_col1\" class=\"data row6 col1\" >137</td>\n",
       "      <td id=\"T_60e68_row6_col2\" class=\"data row6 col2\" >1.38%</td>\n",
       "    </tr>\n",
       "    <tr>\n",
       "      <th id=\"T_60e68_level0_row7\" class=\"row_heading level0 row7\" >8792</th>\n",
       "      <td id=\"T_60e68_row7_col0\" class=\"data row7 col0\" >теремок</td>\n",
       "      <td id=\"T_60e68_row7_col1\" class=\"data row7 col1\" >94</td>\n",
       "      <td id=\"T_60e68_row7_col2\" class=\"data row7 col2\" >0.95%</td>\n",
       "    </tr>\n",
       "    <tr>\n",
       "      <th id=\"T_60e68_level0_row8\" class=\"row_heading level0 row8\" >5150</th>\n",
       "      <td id=\"T_60e68_row8_col0\" class=\"data row8 col0\" >крошка картошка</td>\n",
       "      <td id=\"T_60e68_row8_col1\" class=\"data row8 col1\" >90</td>\n",
       "      <td id=\"T_60e68_row8_col2\" class=\"data row8 col2\" >0.91%</td>\n",
       "    </tr>\n",
       "    <tr>\n",
       "      <th id=\"T_60e68_level0_row9\" class=\"row_heading level0 row9\" >2982</th>\n",
       "      <td id=\"T_60e68_row9_col0\" class=\"data row9 col0\" >домино'с пицца</td>\n",
       "      <td id=\"T_60e68_row9_col1\" class=\"data row9 col1\" >90</td>\n",
       "      <td id=\"T_60e68_row9_col2\" class=\"data row9 col2\" >0.91%</td>\n",
       "    </tr>\n",
       "  </tbody>\n",
       "</table>\n"
      ],
      "text/plain": [
       "<pandas.io.formats.style.Styler at 0x1dd89eb6d30>"
      ]
     },
     "metadata": {},
     "output_type": "display_data"
    }
   ],
   "source": [
    "# найдем количество уникальных названий заведений\n",
    "print('Количество уникльных названий заведений:', data['object_name'].nunique())\n",
    "\n",
    "# уникальные названия заведений\n",
    "data_tmp = data.pivot_table(index=['object_name'], values=['id'],aggfunc=['count']).reset_index()\n",
    "data_tmp.columns = ['object_name', 'count']\n",
    "data_tmp = data_tmp.sort_values(by='count', ascending=False)\n",
    "data_tmp['share'] = data_tmp['count'] / len(data_tmp)\n",
    "print('Уникальные названия заведений:')\n",
    "display(data_tmp.head(10).style.format({'share': '{:,.2%}'.format}))"
   ]
  },
  {
   "cell_type": "markdown",
   "metadata": {},
   "source": [
    "Имеем 9924 уникальных названия заведения; наиболее результативный способ анализа на наличие неявных дубликатов - ручная проверка, однако она займет очень много времени. \n",
    "Применим другой подход для выявления неявных дубликатов:"
   ]
  },
  {
   "cell_type": "code",
   "execution_count": 5,
   "metadata": {},
   "outputs": [
    {
     "name": "stdout",
     "output_type": "stream",
     "text": [
      "Количество дубликатов в наборе {'название' + 'адрес'}: 225\n",
      "Количество дубликатов в наборе {'название' + 'адрес'}: 0\n",
      "<class 'pandas.core.frame.DataFrame'>\n",
      "Int64Index: 15141 entries, 0 to 15364\n",
      "Data columns (total 6 columns):\n",
      " #   Column       Non-Null Count  Dtype \n",
      "---  ------       --------------  ----- \n",
      " 0   id           15141 non-null  int64 \n",
      " 1   object_name  15141 non-null  object\n",
      " 2   chain        15141 non-null  object\n",
      " 3   object_type  15141 non-null  object\n",
      " 4   address      15141 non-null  object\n",
      " 5   number       15141 non-null  int64 \n",
      "dtypes: int64(2), object(4)\n",
      "memory usage: 828.0+ KB\n"
     ]
    }
   ],
   "source": [
    "print(\"Количество дубликатов в наборе {'название' + 'адрес'}:\", data[['object_name', 'address']].duplicated().sum())\n",
    "data = data[~data[['object_name', 'address']].duplicated()]\n",
    "print(\"Количество дубликатов в наборе {'название' + 'адрес'}:\", data[['object_name', 'address']].duplicated().sum())\n",
    "data.info()"
   ]
  },
  {
   "cell_type": "markdown",
   "metadata": {},
   "source": [
    "**Вывод**: данные готовы для исследовательского анализа."
   ]
  },
  {
   "cell_type": "markdown",
   "metadata": {},
   "source": [
    "## Исследовательский анализ данных <a id=\"analysis\"></a> \n",
    "### Соотношение видов объектов общественного питания по количеству <a id=\"species_ratio\"></a> \n",
    "\n",
    "Найдем соотношение видов объектов общественного питания Москвы по количеству:"
   ]
  },
  {
   "cell_type": "code",
   "execution_count": 6,
   "metadata": {
    "scrolled": false
   },
   "outputs": [
    {
     "data": {
      "image/png": "[encoded data removed]",
      "text/plain": [
       "<Figure size 720x720 with 1 Axes>"
      ]
     },
     "metadata": {},
     "output_type": "display_data"
    }
   ],
   "source": [
    "# общее количество объектов\n",
    "total_objects = data['object_type'].count()\n",
    "\n",
    "# сводная таблица с количеством объектов с группировкой по виду\n",
    "objects_type_ratio = data.pivot_table(index='object_type', values='id', aggfunc=['count']).reset_index()\n",
    "objects_type_ratio.columns = ['object_type', 'count']\n",
    "objects_type_ratio = objects_type_ratio.sort_values(by='count', ascending=False)\n",
    "\n",
    "# доля каждого вида от общего количества\n",
    "objects_type_ratio['ratio'] = objects_type_ratio['count'] / total_objects\n",
    "#display(objects_type_ratio.style.format({'ratio': '{:,.2%}'.format}))\n",
    "\n",
    "sns.set(rc={'figure.figsize':(10, 10)})\n",
    "plt.pie(objects_type_ratio['ratio'], labels = objects_type_ratio['object_type'], autopct='%.1f%%') \n",
    "plt.title('Соотношение видов объектов общественного питания по количеству:');\n",
    "plt.show()"
   ]
  },
  {
   "cell_type": "markdown",
   "metadata": {},
   "source": [
    "Вывод: наиболее распространенные виды объектов общественного питания в Москве \"кафе\" (39.6%), \"столовая\" (17.0%), \"ресторан\" (15.0%)."
   ]
  },
  {
   "cell_type": "markdown",
   "metadata": {},
   "source": [
    "### Соотношение сетевых и несетевых заведений по количеству <a id=\"species_ratio\"></a> \n",
    "\n",
    "Теперь посчитаем соотношение  сетевых и несетевых заведений по количеству:"
   ]
  },
  {
   "cell_type": "code",
   "execution_count": 7,
   "metadata": {},
   "outputs": [
    {
     "data": {
      "image/png": "[encoded data removed]",
      "text/plain": [
       "<Figure size 720x720 with 1 Axes>"
      ]
     },
     "metadata": {},
     "output_type": "display_data"
    }
   ],
   "source": [
    "# сводная таблица с количеством объектов с группировкой по типу объекта \"сетеевой\" / \"несетевой\"\n",
    "objects_chain_ratio = data.pivot_table(index='chain', values='id', aggfunc=['count']).reset_index()\n",
    "objects_chain_ratio.columns = ['object_type', 'count']\n",
    "objects_chain_ratio['object_type'] = objects_chain_ratio['object_type'].str.replace('да','Сетевые заведения')\n",
    "objects_chain_ratio['object_type'] = objects_chain_ratio['object_type'].str.replace('нет','Несетевые заведения')\n",
    "\n",
    "# доля каждого вида от общего количества\n",
    "objects_chain_ratio['ratio'] = objects_chain_ratio['count'] / total_objects\n",
    "#display(objects_chain_ratio.style.format({'ratio': '{:,.2%}'.format}))\n",
    "\n",
    "sns.set(rc={'figure.figsize':(10, 10)})\n",
    "plt.pie(objects_chain_ratio['ratio'], labels = objects_chain_ratio['object_type'], autopct='%.1f%%') \n",
    "plt.title('Соотношение сетевых и несетевых заведений по количеству:');\n",
    "plt.show()"
   ]
  },
  {
   "cell_type": "markdown",
   "metadata": {},
   "source": [
    "Вывод: график показывает, что несетевых заведений в Москве в 4 раза больше, чем сетевых (80.6% против 19.4% от общего количества заведений)."
   ]
  },
  {
   "cell_type": "markdown",
   "metadata": {},
   "source": [
    "### Вид объекта общественного питания, для которого характерно сетевое распространение <a id=\"object_type\"></a> \n",
    "\n",
    "Определим вид объекта общественного питания, для которого характерно сетевое распространение:"
   ]
  },
  {
   "cell_type": "code",
   "execution_count": 8,
   "metadata": {},
   "outputs": [
    {
     "data": {
      "image/png": "[encoded data removed]",
      "text/plain": [
       "<Figure size 1296x504 with 1 Axes>"
      ]
     },
     "metadata": {},
     "output_type": "display_data"
    }
   ],
   "source": [
    "tmp = data.query('chain==\"да\"').pivot_table(index=['object_type'], values='id', aggfunc=['count']).reset_index()\n",
    "\n",
    "tmp.columns = ['object_type', 'count']\n",
    "tmp = tmp.merge(objects_type_ratio, on=['object_type'], how='inner')\n",
    "tmp['ratio'] = tmp['count_x'] / tmp['count_y']\n",
    "\n",
    "tmp['object_type'] = tmp['object_type'].str.replace('предприятие быстрого обслуживания','пбо')\n",
    "tmp = tmp.sort_values(by='ratio')\n",
    "\n",
    "sns.set(rc={'figure.figsize':(18, 7)})\n",
    "#sns.set_style('ticks')\n",
    "sns.set_style('whitegrid')\n",
    "sns.barplot(x='object_type', y='ratio', data=tmp)\n",
    "\n",
    "plt.ylabel('Доля сетевых объектов от общего количества, шт.')\n",
    "plt.xlabel('Вид объекта')\n",
    "plt.title('Доля сетевых объектов от общего количества объектов каждого вида:')\n",
    "plt.xticks(rotation = 45)\n",
    "plt.show();"
   ]
  },
  {
   "cell_type": "markdown",
   "metadata": {},
   "source": [
    "Вывод: сетевое распространение характерно, в первую очередь, для предприятий быстрого обслуживания."
   ]
  },
  {
   "cell_type": "markdown",
   "metadata": {},
   "source": [
    "### Характерные особенности сетевых заведений <a id=\"features\"></a>"
   ]
  },
  {
   "cell_type": "markdown",
   "metadata": {},
   "source": [
    "Определим, что характерно для сетевых заведений: много заведений с небольшим числом посадочных мест в каждом или мало заведений с большим количеством посадочных мест?"
   ]
  },
  {
   "cell_type": "code",
   "execution_count": 9,
   "metadata": {
    "scrolled": true
   },
   "outputs": [
    {
     "data": {
      "text/html": [
       "<div>\n",
       "<style scoped>\n",
       "    .dataframe tbody tr th:only-of-type {\n",
       "        vertical-align: middle;\n",
       "    }\n",
       "\n",
       "    .dataframe tbody tr th {\n",
       "        vertical-align: top;\n",
       "    }\n",
       "\n",
       "    .dataframe thead th {\n",
       "        text-align: right;\n",
       "    }\n",
       "</style>\n",
       "<table border=\"1\" class=\"dataframe\">\n",
       "  <thead>\n",
       "    <tr style=\"text-align: right;\">\n",
       "      <th></th>\n",
       "      <th>id</th>\n",
       "      <th>object_name</th>\n",
       "      <th>chain</th>\n",
       "      <th>object_type</th>\n",
       "      <th>address</th>\n",
       "      <th>number</th>\n",
       "      <th>total_objects</th>\n",
       "    </tr>\n",
       "  </thead>\n",
       "  <tbody>\n",
       "    <tr>\n",
       "      <th>0</th>\n",
       "      <td>151635</td>\n",
       "      <td>сметана</td>\n",
       "      <td>нет</td>\n",
       "      <td>кафе</td>\n",
       "      <td>город Москва, улица Егора Абакумова, дом 9</td>\n",
       "      <td>48</td>\n",
       "      <td>0</td>\n",
       "    </tr>\n",
       "    <tr>\n",
       "      <th>1</th>\n",
       "      <td>77874</td>\n",
       "      <td>родник</td>\n",
       "      <td>нет</td>\n",
       "      <td>кафе</td>\n",
       "      <td>город Москва, улица Талалихина, дом 2/1, корпус 1</td>\n",
       "      <td>35</td>\n",
       "      <td>0</td>\n",
       "    </tr>\n",
       "    <tr>\n",
       "      <th>2</th>\n",
       "      <td>24309</td>\n",
       "      <td>кафе «академия»</td>\n",
       "      <td>нет</td>\n",
       "      <td>кафе</td>\n",
       "      <td>город Москва, Абельмановская улица, дом 6</td>\n",
       "      <td>95</td>\n",
       "      <td>0</td>\n",
       "    </tr>\n",
       "    <tr>\n",
       "      <th>3</th>\n",
       "      <td>21894</td>\n",
       "      <td>пиццетория</td>\n",
       "      <td>да</td>\n",
       "      <td>кафе</td>\n",
       "      <td>город Москва, Абрамцевская улица, дом 1</td>\n",
       "      <td>40</td>\n",
       "      <td>2</td>\n",
       "    </tr>\n",
       "    <tr>\n",
       "      <th>4</th>\n",
       "      <td>119365</td>\n",
       "      <td>кафе «вишневая метель»</td>\n",
       "      <td>нет</td>\n",
       "      <td>кафе</td>\n",
       "      <td>город Москва, Абрамцевская улица, дом 9, корпус 1</td>\n",
       "      <td>50</td>\n",
       "      <td>0</td>\n",
       "    </tr>\n",
       "  </tbody>\n",
       "</table>\n",
       "</div>"
      ],
      "text/plain": [
       "       id             object_name chain object_type  \\\n",
       "0  151635                 сметана   нет        кафе   \n",
       "1   77874                  родник   нет        кафе   \n",
       "2   24309         кафе «академия»   нет        кафе   \n",
       "3   21894              пиццетория    да        кафе   \n",
       "4  119365  кафе «вишневая метель»   нет        кафе   \n",
       "\n",
       "                                             address  number  total_objects  \n",
       "0         город Москва, улица Егора Абакумова, дом 9      48              0  \n",
       "1  город Москва, улица Талалихина, дом 2/1, корпус 1      35              0  \n",
       "2          город Москва, Абельмановская улица, дом 6      95              0  \n",
       "3            город Москва, Абрамцевская улица, дом 1      40              2  \n",
       "4  город Москва, Абрамцевская улица, дом 9, корпус 1      50              0  "
      ]
     },
     "metadata": {},
     "output_type": "display_data"
    }
   ],
   "source": [
    "# сводная таблица с количеством сетевых заведений для каждой сети\n",
    "chain_objects = data.query('chain==\"да\"').pivot_table(index=['object_name'], values='id', aggfunc=['count']).reset_index()\n",
    "chain_objects.columns = ['object_name', 'total_objects']\n",
    "chain_objects = chain_objects.sort_values(by='total_objects', ascending=False)\n",
    "\n",
    "# добавим в датасет для каждого заведения столбец с общим количеством объектов в сети\n",
    "data = data.merge(chain_objects, on=['object_name'], how='left')\n",
    "data = data.fillna(0) # для несетвых объектов количество объектов в сети равно 0\n",
    "data['total_objects'] = data['total_objects'].astype('int')\n",
    "display(data.head(5))"
   ]
  },
  {
   "cell_type": "code",
   "execution_count": 10,
   "metadata": {
    "scrolled": true
   },
   "outputs": [
    {
     "data": {
      "image/png": "[encoded data removed]",
      "text/plain": [
       "<Figure size 1296x504 with 1 Axes>"
      ]
     },
     "metadata": {},
     "output_type": "display_data"
    }
   ],
   "source": [
    "# оценим распределение количества сетевых заведений\n",
    "plt.title('Распределение количества заведений для сетей:')\n",
    "plt.xlabel('Заведения')\n",
    "plt.ylabel('Количество объектов, шт.')\n",
    "sns.set_style('whitegrid')\n",
    "sns.boxplot(x=data.query('total_objects>0')['total_objects']).set(xlim=(0, 160))\n",
    "plt.show()"
   ]
  },
  {
   "cell_type": "markdown",
   "metadata": {},
   "source": [
    "По графику делаем вывод, что в качестве маркера большого количества заведений в сети следует взять значение второго квартиля, равного 24."
   ]
  },
  {
   "cell_type": "code",
   "execution_count": 11,
   "metadata": {
    "scrolled": true
   },
   "outputs": [
    {
     "data": {
      "image/png": "[encoded data removed]",
      "text/plain": [
       "<Figure size 1296x504 with 1 Axes>"
      ]
     },
     "metadata": {},
     "output_type": "display_data"
    }
   ],
   "source": [
    "# оценим распределение числа посадочных мест для сетевых заведений\n",
    "plt.title('Распределение числа посадочных мест для сетевых заведений:')\n",
    "plt.ylabel('Количество объектов, шт.')\n",
    "sns.set_style('whitegrid')\n",
    "sns.boxplot(x=data.query('chain==\"да\"')['number']).set(xlim=(0, 180))\n",
    "plt.show()"
   ]
  },
  {
   "cell_type": "markdown",
   "metadata": {},
   "source": [
    "По графику делаем вывод, что в качестве маркера большого числа посадочных мест следует взять значение второго квартиля, равного 40."
   ]
  },
  {
   "cell_type": "markdown",
   "metadata": {},
   "source": [
    "Создадим функцию 'define_category', которая разобьет данные на 4 категории:\n",
    "- Категория D: мало мест и мало заведений \n",
    "- Категория C: много мест и мало заведений\n",
    "- Категория B: мало мест и много заведений\n",
    "- Категория A: много мест и много заведений"
   ]
  },
  {
   "cell_type": "code",
   "execution_count": 12,
   "metadata": {
    "scrolled": false
   },
   "outputs": [
    {
     "data": {
      "image/png": "[encoded data removed]",
      "text/plain": [
       "<Figure size 864x432 with 1 Axes>"
      ]
     },
     "metadata": {},
     "output_type": "display_data"
    }
   ],
   "source": [
    "def define_category(df):\n",
    "    # маркер по количеству посадочных мест: \"много\"/\"мало\"\n",
    "    number_limit = 40\n",
    "    # маркер по количеству объектов: \"много\"/\"мало\"\n",
    "    objects_limit = 24\n",
    "    \n",
    "    if df['total_objects']==0:\n",
    "        return 0\n",
    "    if df['number']<=number_limit and df['total_objects']<=objects_limit:\n",
    "        return 'D'\n",
    "    elif df['number']>number_limit and df['total_objects']<=objects_limit:\n",
    "        return 'C'\n",
    "    elif df['number']<=number_limit and df['total_objects']>objects_limit:\n",
    "        return 'B'\n",
    "    else:\n",
    "        return 'A'\n",
    "    \n",
    "data['category'] = data.apply(define_category, axis=1)\n",
    "\n",
    "# сводная таблица с количеством объектов для каждой категории \n",
    "tmp = data.query('chain==\"да\"').pivot_table(index='category', values='id', aggfunc=['count']).reset_index()\n",
    "tmp.columns = ['category', 'count']\n",
    "# доля каждого вида от общего количества\n",
    "tmp['ratio'] = tmp['count'] / tmp['count'].sum()\n",
    "\n",
    "legend = (['А: много заведений и много мест', \n",
    "           'B: много заведений и мало мест', \n",
    "           'C: мало заведений и много мест',\n",
    "           'D: мало заведений и мало мест'])\n",
    "\n",
    "# проанализируем взаимосвязь количества сетевых заведений от числа посадочных мест\n",
    "sns.set(rc={'figure.figsize':(12, 6)})\n",
    "sns.set_style('ticks')\n",
    "sns.set_style('whitegrid')\n",
    "sns.scatterplot(data=data.query('total_objects>0'), x='number', y='total_objects', hue='category')\n",
    "plt.title('Взаимосвязь количества сетевых заведений и числа посадочных мест:')\n",
    "plt.xlabel('Число посадочных мест, шт.')\n",
    "plt.ylabel('Количество заведений, шт.')\n",
    "plt.legend()\n",
    "plt.show();"
   ]
  },
  {
   "cell_type": "code",
   "execution_count": 13,
   "metadata": {},
   "outputs": [
    {
     "data": {
      "image/png": "[encoded data removed]",
      "text/plain": [
       "<Figure size 1296x504 with 1 Axes>"
      ]
     },
     "metadata": {},
     "output_type": "display_data"
    }
   ],
   "source": [
    "# Гистограмма, отражающая долю заведений каждой катгеории от общего количества сетевых заведений\n",
    "sns.set(rc={'figure.figsize':(18, 7)})\n",
    "#sns.set_style('ticks')\n",
    "sns.set_style('whitegrid')\n",
    "sns.barplot(x='category', y='ratio', data=tmp)\n",
    "\n",
    "plt.ylabel('Доля заведений от общего количества сетевых заведений')\n",
    "plt.xlabel('Категория заведения')\n",
    "plt.title('Характерные особенности сетевых заведений:')\n",
    "plt.legend(legend)\n",
    "plt.show();"
   ]
  },
  {
   "cell_type": "markdown",
   "metadata": {},
   "source": [
    "Вывод: для сетевых заведений Москвы характерно много заведений с небольшим числом посадочных мест в каждом."
   ]
  },
  {
   "cell_type": "markdown",
   "metadata": {},
   "source": [
    "### Cреднее количество посадочных мест для каждого вида объекта общественного питания <a id=\"average_number\"></a> "
   ]
  },
  {
   "cell_type": "code",
   "execution_count": 14,
   "metadata": {},
   "outputs": [
    {
     "data": {
      "image/png": "[encoded data removed]",
      "text/plain": [
       "<Figure size 1080x432 with 1 Axes>"
      ]
     },
     "metadata": {},
     "output_type": "display_data"
    }
   ],
   "source": [
    "# сводная таблица со средним количеством мест для каждого вида объекта\n",
    "tmp = data.pivot_table(index='object_type', values='number', aggfunc=['mean']).reset_index()\n",
    "tmp.columns = ['object_type', 'mean_number']\n",
    "tmp['object_type'] = tmp['object_type'].str.replace('предприятие быстрого обслуживания','пбо')\n",
    "tmp = tmp.sort_values(by='mean_number')\n",
    "\n",
    "sns.set(rc={'figure.figsize':(15, 6)})\n",
    "#sns.set_style('ticks')\n",
    "sns.set_style('whitegrid')\n",
    "sns.barplot(x='object_type', y='mean_number', data=tmp)\n",
    "\n",
    "plt.ylabel('Среднее количество посадочных мест, шт.')\n",
    "plt.xlabel('Вид объекта')\n",
    "plt.title('Cреднее количество посадочных мест для каждого вида объекта общественного питания:')\n",
    "plt.xticks(rotation = 45)\n",
    "plt.show();"
   ]
  },
  {
   "cell_type": "markdown",
   "metadata": {},
   "source": [
    "Вывод: по графику видим, что, в среднем, самое большое количество посадочных мест предоставляют столовые."
   ]
  },
  {
   "cell_type": "markdown",
   "metadata": {},
   "source": [
    "### Информация об улице <a id=\"street_info\"></a> "
   ]
  },
  {
   "cell_type": "markdown",
   "metadata": {},
   "source": [
    "Выделим в отдельный столбец 'street' информацию об улице из столбца address:"
   ]
  },
  {
   "cell_type": "code",
   "execution_count": 15,
   "metadata": {},
   "outputs": [
    {
     "data": {
      "text/html": [
       "<div>\n",
       "<style scoped>\n",
       "    .dataframe tbody tr th:only-of-type {\n",
       "        vertical-align: middle;\n",
       "    }\n",
       "\n",
       "    .dataframe tbody tr th {\n",
       "        vertical-align: top;\n",
       "    }\n",
       "\n",
       "    .dataframe thead th {\n",
       "        text-align: right;\n",
       "    }\n",
       "</style>\n",
       "<table border=\"1\" class=\"dataframe\">\n",
       "  <thead>\n",
       "    <tr style=\"text-align: right;\">\n",
       "      <th></th>\n",
       "      <th>id</th>\n",
       "      <th>object_name</th>\n",
       "      <th>chain</th>\n",
       "      <th>object_type</th>\n",
       "      <th>address</th>\n",
       "      <th>number</th>\n",
       "      <th>total_objects</th>\n",
       "      <th>category</th>\n",
       "      <th>street</th>\n",
       "    </tr>\n",
       "  </thead>\n",
       "  <tbody>\n",
       "    <tr>\n",
       "      <th>0</th>\n",
       "      <td>151635</td>\n",
       "      <td>сметана</td>\n",
       "      <td>нет</td>\n",
       "      <td>кафе</td>\n",
       "      <td>город Москва, улица Егора Абакумова, дом 9</td>\n",
       "      <td>48</td>\n",
       "      <td>0</td>\n",
       "      <td>0</td>\n",
       "      <td>улица Егора Абакумова</td>\n",
       "    </tr>\n",
       "    <tr>\n",
       "      <th>1</th>\n",
       "      <td>77874</td>\n",
       "      <td>родник</td>\n",
       "      <td>нет</td>\n",
       "      <td>кафе</td>\n",
       "      <td>город Москва, улица Талалихина, дом 2/1, корпус 1</td>\n",
       "      <td>35</td>\n",
       "      <td>0</td>\n",
       "      <td>0</td>\n",
       "      <td>улица Талалихина</td>\n",
       "    </tr>\n",
       "    <tr>\n",
       "      <th>2</th>\n",
       "      <td>24309</td>\n",
       "      <td>кафе «академия»</td>\n",
       "      <td>нет</td>\n",
       "      <td>кафе</td>\n",
       "      <td>город Москва, Абельмановская улица, дом 6</td>\n",
       "      <td>95</td>\n",
       "      <td>0</td>\n",
       "      <td>0</td>\n",
       "      <td>Абельмановская улица</td>\n",
       "    </tr>\n",
       "    <tr>\n",
       "      <th>3</th>\n",
       "      <td>21894</td>\n",
       "      <td>пиццетория</td>\n",
       "      <td>да</td>\n",
       "      <td>кафе</td>\n",
       "      <td>город Москва, Абрамцевская улица, дом 1</td>\n",
       "      <td>40</td>\n",
       "      <td>2</td>\n",
       "      <td>D</td>\n",
       "      <td>Абрамцевская улица</td>\n",
       "    </tr>\n",
       "    <tr>\n",
       "      <th>4</th>\n",
       "      <td>119365</td>\n",
       "      <td>кафе «вишневая метель»</td>\n",
       "      <td>нет</td>\n",
       "      <td>кафе</td>\n",
       "      <td>город Москва, Абрамцевская улица, дом 9, корпус 1</td>\n",
       "      <td>50</td>\n",
       "      <td>0</td>\n",
       "      <td>0</td>\n",
       "      <td>Абрамцевская улица</td>\n",
       "    </tr>\n",
       "  </tbody>\n",
       "</table>\n",
       "</div>"
      ],
      "text/plain": [
       "       id             object_name chain object_type  \\\n",
       "0  151635                 сметана   нет        кафе   \n",
       "1   77874                  родник   нет        кафе   \n",
       "2   24309         кафе «академия»   нет        кафе   \n",
       "3   21894              пиццетория    да        кафе   \n",
       "4  119365  кафе «вишневая метель»   нет        кафе   \n",
       "\n",
       "                                             address  number  total_objects  \\\n",
       "0         город Москва, улица Егора Абакумова, дом 9      48              0   \n",
       "1  город Москва, улица Талалихина, дом 2/1, корпус 1      35              0   \n",
       "2          город Москва, Абельмановская улица, дом 6      95              0   \n",
       "3            город Москва, Абрамцевская улица, дом 1      40              2   \n",
       "4  город Москва, Абрамцевская улица, дом 9, корпус 1      50              0   \n",
       "\n",
       "  category                 street  \n",
       "0        0  улица Егора Абакумова  \n",
       "1        0       улица Талалихина  \n",
       "2        0   Абельмановская улица  \n",
       "3        D     Абрамцевская улица  \n",
       "4        0     Абрамцевская улица  "
      ]
     },
     "metadata": {},
     "output_type": "display_data"
    }
   ],
   "source": [
    "# список с типами улиц\n",
    "street_types = (['аллея', 'бульвар', 'набережная', 'площадь', 'проезд', 'проспект', 'переулок', 'улица', 'шоссе'])\n",
    "\n",
    "# функция, возвращающая название улицы из столбца 'address' датафрейма\n",
    "def define_street(df):\n",
    "    spl=df['address'].split(', ')\n",
    "    #print(spl)\n",
    "    for i in range(0,len(spl)):\n",
    "        for x in range(0, len(street_types)):\n",
    "            if(street_types[x] in spl[i]):\n",
    "                return spl[i]\n",
    "    return 'unknown'\n",
    "\n",
    "# выделим в отдельный столбец 'street' информацию об улице при помощи 'define_street', \n",
    "data['street'] = data.apply(define_street, axis=1)    \n",
    "display(data.head(5))"
   ]
  },
  {
   "cell_type": "markdown",
   "metadata": {},
   "source": [
    "### ТОП-10 улиц по количеству объектов общественного питания <a id=\"top_10\"></a> "
   ]
  },
  {
   "cell_type": "markdown",
   "metadata": {},
   "source": [
    "В начале воспользуемся внешней информацией и определим, в каких районах Москвы находится каждая улица из датасета. \n",
    "Для этого дополним его соответствующей информацией из файла, размещенного на Google Sheets: "
   ]
  },
  {
   "cell_type": "code",
   "execution_count": 16,
   "metadata": {},
   "outputs": [
    {
     "data": {
      "text/html": [
       "<div>\n",
       "<style scoped>\n",
       "    .dataframe tbody tr th:only-of-type {\n",
       "        vertical-align: middle;\n",
       "    }\n",
       "\n",
       "    .dataframe tbody tr th {\n",
       "        vertical-align: top;\n",
       "    }\n",
       "\n",
       "    .dataframe thead th {\n",
       "        text-align: right;\n",
       "    }\n",
       "</style>\n",
       "<table border=\"1\" class=\"dataframe\">\n",
       "  <thead>\n",
       "    <tr style=\"text-align: right;\">\n",
       "      <th></th>\n",
       "      <th>id</th>\n",
       "      <th>object_name</th>\n",
       "      <th>chain</th>\n",
       "      <th>object_type</th>\n",
       "      <th>address</th>\n",
       "      <th>number</th>\n",
       "      <th>total_objects</th>\n",
       "      <th>category</th>\n",
       "      <th>street</th>\n",
       "      <th>area</th>\n",
       "      <th>district</th>\n",
       "    </tr>\n",
       "  </thead>\n",
       "  <tbody>\n",
       "    <tr>\n",
       "      <th>0</th>\n",
       "      <td>151635</td>\n",
       "      <td>сметана</td>\n",
       "      <td>нет</td>\n",
       "      <td>кафе</td>\n",
       "      <td>город Москва, улица Егора Абакумова, дом 9</td>\n",
       "      <td>48</td>\n",
       "      <td>0</td>\n",
       "      <td>0</td>\n",
       "      <td>улица Егора Абакумова</td>\n",
       "      <td>Ярославский</td>\n",
       "      <td>СВАО</td>\n",
       "    </tr>\n",
       "    <tr>\n",
       "      <th>1</th>\n",
       "      <td>77874</td>\n",
       "      <td>родник</td>\n",
       "      <td>нет</td>\n",
       "      <td>кафе</td>\n",
       "      <td>город Москва, улица Талалихина, дом 2/1, корпус 1</td>\n",
       "      <td>35</td>\n",
       "      <td>0</td>\n",
       "      <td>0</td>\n",
       "      <td>улица Талалихина</td>\n",
       "      <td>Таганский, Нижегородский, Южное Бутово</td>\n",
       "      <td>ЦАО, ЮВАО, ЮЗАО</td>\n",
       "    </tr>\n",
       "    <tr>\n",
       "      <th>2</th>\n",
       "      <td>24309</td>\n",
       "      <td>кафе «академия»</td>\n",
       "      <td>нет</td>\n",
       "      <td>кафе</td>\n",
       "      <td>город Москва, Абельмановская улица, дом 6</td>\n",
       "      <td>95</td>\n",
       "      <td>0</td>\n",
       "      <td>0</td>\n",
       "      <td>Абельмановская улица</td>\n",
       "      <td>Таганский</td>\n",
       "      <td>ЦАО</td>\n",
       "    </tr>\n",
       "    <tr>\n",
       "      <th>3</th>\n",
       "      <td>21894</td>\n",
       "      <td>пиццетория</td>\n",
       "      <td>да</td>\n",
       "      <td>кафе</td>\n",
       "      <td>город Москва, Абрамцевская улица, дом 1</td>\n",
       "      <td>40</td>\n",
       "      <td>2</td>\n",
       "      <td>D</td>\n",
       "      <td>Абрамцевская улица</td>\n",
       "      <td>Лианозово</td>\n",
       "      <td>СВАО</td>\n",
       "    </tr>\n",
       "    <tr>\n",
       "      <th>4</th>\n",
       "      <td>119365</td>\n",
       "      <td>кафе «вишневая метель»</td>\n",
       "      <td>нет</td>\n",
       "      <td>кафе</td>\n",
       "      <td>город Москва, Абрамцевская улица, дом 9, корпус 1</td>\n",
       "      <td>50</td>\n",
       "      <td>0</td>\n",
       "      <td>0</td>\n",
       "      <td>Абрамцевская улица</td>\n",
       "      <td>Лианозово</td>\n",
       "      <td>СВАО</td>\n",
       "    </tr>\n",
       "  </tbody>\n",
       "</table>\n",
       "</div>"
      ],
      "text/plain": [
       "       id             object_name chain object_type  \\\n",
       "0  151635                 сметана   нет        кафе   \n",
       "1   77874                  родник   нет        кафе   \n",
       "2   24309         кафе «академия»   нет        кафе   \n",
       "3   21894              пиццетория    да        кафе   \n",
       "4  119365  кафе «вишневая метель»   нет        кафе   \n",
       "\n",
       "                                             address  number  total_objects  \\\n",
       "0         город Москва, улица Егора Абакумова, дом 9      48              0   \n",
       "1  город Москва, улица Талалихина, дом 2/1, корпус 1      35              0   \n",
       "2          город Москва, Абельмановская улица, дом 6      95              0   \n",
       "3            город Москва, Абрамцевская улица, дом 1      40              2   \n",
       "4  город Москва, Абрамцевская улица, дом 9, корпус 1      50              0   \n",
       "\n",
       "  category                 street                                    area  \\\n",
       "0        0  улица Егора Абакумова                             Ярославский   \n",
       "1        0       улица Талалихина  Таганский, Нижегородский, Южное Бутово   \n",
       "2        0   Абельмановская улица                               Таганский   \n",
       "3        D     Абрамцевская улица                               Лианозово   \n",
       "4        0     Абрамцевская улица                               Лианозово   \n",
       "\n",
       "          district  \n",
       "0             СВАО  \n",
       "1  ЦАО, ЮВАО, ЮЗАО  \n",
       "2              ЦАО  \n",
       "3             СВАО  \n",
       "4             СВАО  "
      ]
     },
     "metadata": {},
     "output_type": "display_data"
    }
   ],
   "source": [
    "# загрузим данные с улицами и районами Москвы из Google Sheets\n",
    "spreadsheet_id = \"1lt0n6nSSiasH4z-rYzo53y_Gl8_soUPYUuBovfiOti8\"\n",
    "\n",
    "file_name = 'https://docs.google.com/spreadsheets/d/{}/export?format=csv'.format(spreadsheet_id)\n",
    "r = requests.get(file_name)\n",
    "moscow_streets = pd.read_csv(BytesIO(r.content))\n",
    "\n",
    "# отрбросим лишние столбцы и соберем данные в сводную иаблицу с группировкой по названию улицы\n",
    "moscow_streets.drop('areaid', axis=1, inplace=True)\n",
    "moscow_streets = moscow_streets.pivot_table(index='streetname', values=['okrug','area'], aggfunc={lambda x: ', '.join(x)}).reset_index()\n",
    "moscow_streets.columns = ['street', 'area', 'district']\n",
    "\n",
    "# добавим для каждого объекта датасета данные об округе и районе, в котором он расположен\n",
    "data = data.merge(moscow_streets, on=['street'], how='left')\n",
    "data['area'] = data['area'].str.lower()\n",
    "data['area'] = data['area'].replace('район ','',regex=True)\n",
    "data['area'] = data['area'].replace(' район','',regex=True)\n",
    "data['area'] = data['area'].str.title()\n",
    "display(data.head(5))"
   ]
  },
  {
   "cell_type": "markdown",
   "metadata": {},
   "source": [
    "Найдем ТОП-10 улиц по количеству объектов общественного питания и построим для них график:"
   ]
  },
  {
   "cell_type": "code",
   "execution_count": 17,
   "metadata": {
    "scrolled": false
   },
   "outputs": [
    {
     "data": {
      "image/png": "[encoded data removed]",
      "text/plain": [
       "<Figure size 1080x432 with 1 Axes>"
      ]
     },
     "metadata": {},
     "output_type": "display_data"
    }
   ],
   "source": [
    "# сводная таблица с количеством объектов на каждой улицы\n",
    "tmp = data.query('street!=\"unkwown\"').pivot_table(index=['street', 'area'], values='id', aggfunc=['count']).reset_index()\n",
    "tmp.columns = ['street_name','area', 'total_objects']\n",
    "tmp = tmp.sort_values(by='total_objects', ascending=False)\n",
    "\n",
    "sns.set(rc={'figure.figsize':(15, 6)})\n",
    "#sns.set_style('ticks')\n",
    "sns.set_style('whitegrid')\n",
    "sns.barplot(x='street_name', y='total_objects', data=tmp.head(10))\n",
    "\n",
    "plt.ylabel('Количество объектов общественного питания, шт.')\n",
    "plt.xlabel('Название улицы')\n",
    "plt.title('ТОП-10 улиц по количеству объектов общественного питания:')\n",
    "plt.xticks(rotation = 45)\n",
    "plt.show();"
   ]
  },
  {
   "cell_type": "markdown",
   "metadata": {},
   "source": [
    "Теперь посмотрим, в каких районах Москвы находятся эти улицы:"
   ]
  },
  {
   "cell_type": "code",
   "execution_count": 18,
   "metadata": {
    "scrolled": false
   },
   "outputs": [
    {
     "name": "stdout",
     "output_type": "stream",
     "text": [
      "ТОП-10 улиц по количеству объектов общественного питания:\n"
     ]
    },
    {
     "data": {
      "text/html": [
       "<div>\n",
       "<style scoped>\n",
       "    .dataframe tbody tr th:only-of-type {\n",
       "        vertical-align: middle;\n",
       "    }\n",
       "\n",
       "    .dataframe tbody tr th {\n",
       "        vertical-align: top;\n",
       "    }\n",
       "\n",
       "    .dataframe thead th {\n",
       "        text-align: right;\n",
       "    }\n",
       "</style>\n",
       "<table border=\"1\" class=\"dataframe\">\n",
       "  <thead>\n",
       "    <tr style=\"text-align: right;\">\n",
       "      <th></th>\n",
       "      <th>street_name</th>\n",
       "      <th>area</th>\n",
       "      <th>total_objects</th>\n",
       "    </tr>\n",
       "  </thead>\n",
       "  <tbody>\n",
       "    <tr>\n",
       "      <th>1351</th>\n",
       "      <td>проспект Мира</td>\n",
       "      <td>Алексеевский, Ярославский, Марьина Роща, Останкинский, Ростокино, Свиблово, Мещанский</td>\n",
       "      <td>196</td>\n",
       "    </tr>\n",
       "    <tr>\n",
       "      <th>968</th>\n",
       "      <td>Профсоюзная улица</td>\n",
       "      <td>Академический, Черемушки, Ясенево, Коньково, Обручевский, Теплый Стан</td>\n",
       "      <td>180</td>\n",
       "    </tr>\n",
       "    <tr>\n",
       "      <th>653</th>\n",
       "      <td>Ленинградский проспект</td>\n",
       "      <td>Аэропорт, Беговой, Хорошевский, Сокол</td>\n",
       "      <td>171</td>\n",
       "    </tr>\n",
       "    <tr>\n",
       "      <th>952</th>\n",
       "      <td>Пресненская набережная</td>\n",
       "      <td>Пресненский</td>\n",
       "      <td>165</td>\n",
       "    </tr>\n",
       "    <tr>\n",
       "      <th>373</th>\n",
       "      <td>Варшавское шоссе</td>\n",
       "      <td>Чертаново Центральное, Чертаново Северное, Чертаново Южное, Донской, Нагатино-Садовники, Нагорный, Северное Бутово, Южное Бутово</td>\n",
       "      <td>163</td>\n",
       "    </tr>\n",
       "    <tr>\n",
       "      <th>656</th>\n",
       "      <td>Ленинский проспект</td>\n",
       "      <td>Проспект Вернадского, Тропарево-Никулино, Донской, Гагаринский, Ломоносовский, Обручевский, Теплый Стан, Якиманка</td>\n",
       "      <td>148</td>\n",
       "    </tr>\n",
       "    <tr>\n",
       "      <th>1349</th>\n",
       "      <td>проспект Вернадского</td>\n",
       "      <td>Проспект Вернадского, Раменки, Тропарево-Никулино, Гагаринский, Ломоносовский</td>\n",
       "      <td>126</td>\n",
       "    </tr>\n",
       "    <tr>\n",
       "      <th>644</th>\n",
       "      <td>Кутузовский проспект</td>\n",
       "      <td>Дорогомилово, Фили-Давыдково</td>\n",
       "      <td>112</td>\n",
       "    </tr>\n",
       "    <tr>\n",
       "      <th>569</th>\n",
       "      <td>Каширское шоссе</td>\n",
       "      <td>Москворечье-Сабурово, Нагатино-Садовники, Орехово-Борисово Южное, Орехово-Борисово Северное</td>\n",
       "      <td>110</td>\n",
       "    </tr>\n",
       "    <tr>\n",
       "      <th>576</th>\n",
       "      <td>Кировоградская улица</td>\n",
       "      <td>Чертаново Центральное, Чертаново Северное, Чертаново Южное</td>\n",
       "      <td>106</td>\n",
       "    </tr>\n",
       "  </tbody>\n",
       "</table>\n",
       "</div>"
      ],
      "text/plain": [
       "                 street_name  \\\n",
       "1351           проспект Мира   \n",
       "968        Профсоюзная улица   \n",
       "653   Ленинградский проспект   \n",
       "952   Пресненская набережная   \n",
       "373         Варшавское шоссе   \n",
       "656       Ленинский проспект   \n",
       "1349    проспект Вернадского   \n",
       "644     Кутузовский проспект   \n",
       "569          Каширское шоссе   \n",
       "576     Кировоградская улица   \n",
       "\n",
       "                                                                                                                                  area  \\\n",
       "1351                                             Алексеевский, Ярославский, Марьина Роща, Останкинский, Ростокино, Свиблово, Мещанский   \n",
       "968                                                              Академический, Черемушки, Ясенево, Коньково, Обручевский, Теплый Стан   \n",
       "653                                                                                              Аэропорт, Беговой, Хорошевский, Сокол   \n",
       "952                                                                                                                        Пресненский   \n",
       "373   Чертаново Центральное, Чертаново Северное, Чертаново Южное, Донской, Нагатино-Садовники, Нагорный, Северное Бутово, Южное Бутово   \n",
       "656                  Проспект Вернадского, Тропарево-Никулино, Донской, Гагаринский, Ломоносовский, Обручевский, Теплый Стан, Якиманка   \n",
       "1349                                                     Проспект Вернадского, Раменки, Тропарево-Никулино, Гагаринский, Ломоносовский   \n",
       "644                                                                                                       Дорогомилово, Фили-Давыдково   \n",
       "569                                        Москворечье-Сабурово, Нагатино-Садовники, Орехово-Борисово Южное, Орехово-Борисово Северное   \n",
       "576                                                                         Чертаново Центральное, Чертаново Северное, Чертаново Южное   \n",
       "\n",
       "      total_objects  \n",
       "1351            196  \n",
       "968             180  \n",
       "653             171  \n",
       "952             165  \n",
       "373             163  \n",
       "656             148  \n",
       "1349            126  \n",
       "644             112  \n",
       "569             110  \n",
       "576             106  "
      ]
     },
     "metadata": {},
     "output_type": "display_data"
    }
   ],
   "source": [
    "pd.options.display.max_colwidth = 200\n",
    "print('ТОП-10 улиц по количеству объектов общественного питания:')\n",
    "display(tmp.head(10))"
   ]
  },
  {
   "cell_type": "markdown",
   "metadata": {},
   "source": [
    "###  Число улиц с одним объектом общественного питания <a id=\"street_number\"></a> "
   ]
  },
  {
   "cell_type": "markdown",
   "metadata": {},
   "source": [
    "Найдем число улиц с одним объектом общественного питания:"
   ]
  },
  {
   "cell_type": "code",
   "execution_count": 19,
   "metadata": {},
   "outputs": [
    {
     "name": "stdout",
     "output_type": "stream",
     "text": [
      "Число улиц с одним объектом общественного питания:  506\n",
      "\n",
      "Районы, в которых расположены улицы с одним объектом общественного питания:\n",
      "['Мещанский' 'Марьина Роща' 'Кузьминки' 'Тверской' 'Преображенское'\n",
      " 'Соколиная Гора' 'Лианозово' 'Нижегородский' 'Аэропорт' 'Фили-Давыдково'\n",
      " 'Басманный, Красносельский' 'Свиблово' 'Покровское-Стрешнево' 'Солнцево'\n",
      " 'Внуково' 'Рязанский' 'Якиманка' 'Южное Бутово' 'Богородское' 'Таганский'\n",
      " 'Сокольники' 'Ясенево' 'Хорошево-Мневники' 'Даниловский'\n",
      " 'Бескудниковский' 'Замоскворечье' 'Аэропорт, Сокол' 'Бутырский'\n",
      " 'Басманный' 'Тверской, Марьина Роща, Мещанский' 'Печатники' 'Кунцево'\n",
      " 'Лефортово' 'Тимирязевский' 'Красносельский, Мещанский'\n",
      " 'Перово, Соколиная Гора' 'Хамовники' 'Люблино' 'Раменки' 'Ростокино'\n",
      " 'Текстильщики' 'Алексеевский' 'Красносельский' 'Северное Бутово' 'Арбат'\n",
      " 'Митино' 'Донской' 'Пресненский' 'Войковский' 'Останкинский'\n",
      " 'Хорошевский, Сокол' 'Хорошевский' 'Щукино' 'Очаково-Матвеевское'\n",
      " 'Савеловский' 'Косино-Ухтомский' 'Филевский Парк' 'Измайлово'\n",
      " 'Лосиноостровский' 'Замоскворечье, Даниловский' 'Перово'\n",
      " 'Чертаново Южное' 'Дорогомилово' 'Южнопортовый' 'Головинский' 'Царицыно'\n",
      " 'Ново-Переделкино' 'Можайский'\n",
      " 'Измайлово, Северное Измайлово, Восточное Измайлово' 'Гольяново'\n",
      " 'Марьина Роща, Мещанский' 'Москворечье-Сабурово'\n",
      " 'Измайлово, Соколиная Гора' 'Люблино, Выхино-Жулебино' 'Котловка'\n",
      " 'Беговой' 'Ярославский' 'Бабушкинский' 'Восточное Измайлово'\n",
      " 'Даниловский, Южнопортовый' 'Даниловский, Донской' 'Куркино'\n",
      " 'Выхино-Жулебино' 'Новогиреево' 'Алтуфьевский' 'Внуково, Царицыно'\n",
      " 'Таганский, Нижегородский' 'Зюзино' 'Кузьминки, Выхино-Жулебино'\n",
      " 'Чертаново Северное' 'Панфиловский' 'Пресненский, Арбат'\n",
      " 'Бирюлево Восточное' 'Пресненский, Хорошево-Мневники' 'Ивановское'\n",
      " 'Отрадное' 'Западное Дегунино' 'Матушкино-Савелки'\n",
      " 'Левобережный, Молжаниновский' 'Южное Тушино' 'Марьино' 'Сокол'\n",
      " 'Лефортово, Нижегородский' 'Нагорный' 'Гагаринский'\n",
      " 'Головинский, Коптево, Войковский' 'Северное Медведково'\n",
      " 'Преображенское, Соколиная Гора' 'Строгино' 'Черемушки' 'Коньково'\n",
      " 'Марфино' 'Восточный' 'Коньково, Обручевский' 'Донской, Якиманка'\n",
      " 'Арбат, Хамовники' 'Коптево' 'Крюково' 'Таганский, Басманный'\n",
      " 'Метрогородок' 'Богородское, Преображенское' 'Дмитровский'\n",
      " 'Матушкино-Савелки, Панфиловский' 'Южное Медведково, Северное Медведково'\n",
      " 'Новогиреево, Перово' 'Нагорный, Зюзино' 'Даниловский, Донской, Якиманка'\n",
      " 'Северное Измайлово' 'Ново-Переделкино, Митино']\n"
     ]
    }
   ],
   "source": [
    "print(\"Число улиц с одним объектом общественного питания: \", tmp.query('total_objects==1')['street_name'].count())\n",
    "print(\"\\nРайоны, в которых расположены улицы с одним объектом общественного питания:\")\n",
    "print(tmp.query('total_objects==1')['area'].unique())"
   ]
  },
  {
   "cell_type": "markdown",
   "metadata": {},
   "source": [
    "Найдем ТОП-5 районов, в которых сосредоточено больше всего улиц с одним заведением: "
   ]
  },
  {
   "cell_type": "code",
   "execution_count": 20,
   "metadata": {
    "scrolled": false
   },
   "outputs": [
    {
     "data": {
      "image/png": "[encoded data removed]",
      "text/plain": [
       "<Figure size 1080x432 with 1 Axes>"
      ]
     },
     "metadata": {},
     "output_type": "display_data"
    }
   ],
   "source": [
    "# сводная таблица с количеством объектов на каждой улицы\n",
    "tmp = tmp.query('total_objects==1').pivot_table(index='area', values='street_name', aggfunc='count').reset_index()\n",
    "tmp.columns = ['area', 'total_streets']\n",
    "tmp = tmp.sort_values(by='total_streets', ascending=False)\n",
    "\n",
    "sns.set(rc={'figure.figsize':(15, 6)})\n",
    "#sns.set_style('ticks')\n",
    "sns.set_style('whitegrid')\n",
    "sns.barplot(x='area', y='total_streets', data=tmp.head(5))\n",
    "\n",
    "plt.ylabel('Количество улиц с одним заведением, шт.')\n",
    "plt.xlabel('Район')\n",
    "plt.title('ТОП-5 районов, в которых сосредоточено больше всего улиц с одним заведением:')\n",
    "plt.xticks(rotation = 45)\n",
    "plt.show();"
   ]
  },
  {
   "cell_type": "markdown",
   "metadata": {},
   "source": [
    "## Общий вывод <a id=\"conclusion\"></a> "
   ]
  },
  {
   "cell_type": "markdown",
   "metadata": {},
   "source": [
    "Для того, чтобы подготовить исследование рынка заведений общественного питания Москвы для инвесторов, мы использовали открытые данные о заведениях общественного питания Москвы.\n",
    "\n",
    "Данные были проверены на наличие ошибок и оценки их влияния на исследование. Далее была выполнена предобработка данных, которая в себя включала поиск и обработку дубликатов. После этого был проведен исследовательский анализ, включающий в себя оценку объектов общественного питания Москвы по различным метрикам, и получены следующие реузльтаты: \n",
    "\n",
    "* Наиболее распространенные виды объектов общественного питания в Москве: \"кафе\" (39.6%), \"столовая\" (17.0%), \"ресторан\" (15.0%);\n",
    "* Несетевых заведений в Москве в 4 раза больше, чем сетевых: 80.6% против 19.4% от общего количества заведений);\n",
    "* Сетевое распространение характерно для предприятий быстрого обслуживания;\n",
    "* Для сетевых заведений Москвы характерно много заведений с небольшим числом посадочных мест в каждом;\n",
    "* В среднем, самое большое количество посадочных мест предоставляют столовые;\n",
    "* ТОП-10 улиц по количеству объектов общественного питания (далее - \"Список улиц-1\"): \n",
    "    1. проспект Мира (Алексеевский, Ярославский, Марьина роща, Останкинский, Ростокино, Свиблово, Мещанский район)\n",
    "    2. Профсоюзная улица (Академический, Черемушки, Ясенево, Коньково, Обручевский, район Теплый Стан) \n",
    "    3. Ленинградский проспект (Аэропорт, Беговой, Хорошевский, район Сокол)\n",
    "    4. Пресненская набережная (Пресненский район) \n",
    "    5. Варшавское шоссе (Чертаново Центральное, Чертаново Северное, Чертаново Южное, Донской, Нагатино-Садовники, Нагорный, Северное Бутово, район Южное Бутово) \n",
    "    6. Ленинский проспект (ЮЗАО, Ломоносовский район) \n",
    "    7. проспект Вернадского (Проспект Вернадского, Раменки, Тропарево-Никулино, Гагаринский, Ломоносовский район) \n",
    "    8. Кутузовский проспект (Дорогомилово, район Фили-Давыдково) \n",
    "    9. Каширское шоссе (Москворечье-Сабурово, Нагатино-Садовники, Орехово-Борисово Южное, район Орехово-Борисово Северное) \n",
    "    10. Кировоградская улица (Чертаново Центральное, Чертаново Северное, район Чертаново Южное)  \n",
    "* В Москве 506 улиц с одним объектом общественного питания. Районы, в которых расположены данные улицы, доступны в отдельном списке (далее - \"Список улиц-2\").\n",
    "    \n",
    "\n",
    "**Рекомендации о виде заведения, количестве посадочных мест и районе расположения:**\n",
    "\n",
    "Тип заведений \"кафе\" имеет широкую распространенность на рынке заведений общественного питания Москвы. Чтобы быть конкурентноспособным и востребованным, кафе должно иметь уникальную особенность, дабы выделяться на общем фоне других заведений. Предлагаемый оригинальный подход к обсуживанию гостей роботами, как раз то, что надо. \n",
    "\n",
    "Рекомендуемые характеристики:\n",
    "* Тип: кафе.\n",
    "* Количество посадочных мест: до 40 посадочных мест.\n",
    "* Район расположения: центр.\n",
    "\n",
    "Возможность развития сети: решение будет приниматься по итогам работы первого заведения в течение пробного периода."
   ]
  },
  {
   "cell_type": "markdown",
   "metadata": {},
   "source": [
    "## Презентация <a id=\"presentation\"></a> "
   ]
  },
  {
   "cell_type": "markdown",
   "metadata": {},
   "source": [
    "Презентация: <https://drive.google.com/file/d/1GjcGfUxSvKbyVdN1QBkRtAFNjMf8mV5g/view?usp=sharing> "
   ]
  },
  {
   "cell_type": "code",
   "execution_count": null,
   "metadata": {},
   "outputs": [],
   "source": []
  }
 ],
 "metadata": {
  "ExecuteTimeLog": [
   {
    "duration": 159,
    "start_time": "2022-07-30T16:27:15.707Z"
   },
   {
    "duration": 1455,
    "start_time": "2022-07-30T16:45:13.945Z"
   },
   {
    "duration": 235,
    "start_time": "2022-07-30T16:47:02.232Z"
   },
   {
    "duration": 108,
    "start_time": "2022-07-30T16:47:15.340Z"
   },
   {
    "duration": 139,
    "start_time": "2022-07-30T16:48:01.699Z"
   },
   {
    "duration": 105,
    "start_time": "2022-07-30T16:48:34.754Z"
   },
   {
    "duration": 6,
    "start_time": "2022-07-30T16:50:30.789Z"
   },
   {
    "duration": 7,
    "start_time": "2022-07-30T16:50:44.217Z"
   },
   {
    "duration": 6,
    "start_time": "2022-07-30T16:51:39.664Z"
   },
   {
    "duration": 87,
    "start_time": "2022-07-30T16:57:27.853Z"
   },
   {
    "duration": 104,
    "start_time": "2022-07-30T16:57:47.965Z"
   },
   {
    "duration": 112,
    "start_time": "2022-07-30T16:57:56.935Z"
   },
   {
    "duration": 123,
    "start_time": "2022-07-30T16:58:14.524Z"
   },
   {
    "duration": 118,
    "start_time": "2022-07-30T16:58:17.534Z"
   },
   {
    "duration": 2234,
    "start_time": "2022-07-30T17:00:01.278Z"
   },
   {
    "duration": 133,
    "start_time": "2022-07-30T17:00:32.163Z"
   },
   {
    "duration": 122,
    "start_time": "2022-07-30T17:01:02.396Z"
   },
   {
    "duration": 146,
    "start_time": "2022-07-30T17:01:15.196Z"
   },
   {
    "duration": 1315,
    "start_time": "2022-07-30T17:03:39.768Z"
   },
   {
    "duration": 133,
    "start_time": "2022-07-30T17:04:57.159Z"
   },
   {
    "duration": 161,
    "start_time": "2022-07-30T17:08:04.661Z"
   },
   {
    "duration": 153,
    "start_time": "2022-07-30T17:08:36.383Z"
   },
   {
    "duration": 136,
    "start_time": "2022-07-30T17:09:12.119Z"
   },
   {
    "duration": 136,
    "start_time": "2022-07-30T17:14:29.939Z"
   },
   {
    "duration": 175,
    "start_time": "2022-07-30T17:15:01.681Z"
   },
   {
    "duration": 145,
    "start_time": "2022-07-30T17:15:15.395Z"
   },
   {
    "duration": 160,
    "start_time": "2022-07-30T17:15:18.813Z"
   },
   {
    "duration": 1411,
    "start_time": "2022-07-31T07:42:37.429Z"
   },
   {
    "duration": 186,
    "start_time": "2022-07-31T07:42:38.842Z"
   },
   {
    "duration": 6,
    "start_time": "2022-07-31T07:42:39.029Z"
   },
   {
    "duration": 6,
    "start_time": "2022-07-31T07:42:48.516Z"
   },
   {
    "duration": 6,
    "start_time": "2022-07-31T07:43:03.517Z"
   },
   {
    "duration": 119,
    "start_time": "2022-07-31T07:43:15.521Z"
   },
   {
    "duration": 6,
    "start_time": "2022-07-31T07:45:39.824Z"
   },
   {
    "duration": 147,
    "start_time": "2022-07-31T07:56:10.895Z"
   },
   {
    "duration": 6,
    "start_time": "2022-07-31T08:12:54.579Z"
   },
   {
    "duration": 93,
    "start_time": "2022-07-31T08:13:12.331Z"
   },
   {
    "duration": 4,
    "start_time": "2022-07-31T08:13:31.312Z"
   },
   {
    "duration": 4,
    "start_time": "2022-07-31T08:18:34.363Z"
   },
   {
    "duration": 14,
    "start_time": "2022-07-31T08:20:18.871Z"
   },
   {
    "duration": 8,
    "start_time": "2022-07-31T08:20:34.725Z"
   },
   {
    "duration": 6,
    "start_time": "2022-07-31T08:20:41.525Z"
   },
   {
    "duration": 1289,
    "start_time": "2022-07-31T10:24:19.219Z"
   },
   {
    "duration": 163,
    "start_time": "2022-07-31T10:24:20.509Z"
   },
   {
    "duration": 74,
    "start_time": "2022-07-31T10:24:20.673Z"
   },
   {
    "duration": 103,
    "start_time": "2022-07-31T10:38:07.340Z"
   },
   {
    "duration": 332,
    "start_time": "2022-07-31T10:39:33.789Z"
   },
   {
    "duration": 296,
    "start_time": "2022-07-31T10:39:50.585Z"
   },
   {
    "duration": 29,
    "start_time": "2022-07-31T10:40:14.619Z"
   },
   {
    "duration": 17,
    "start_time": "2022-07-31T10:41:37.193Z"
   },
   {
    "duration": 16,
    "start_time": "2022-07-31T10:42:18.796Z"
   },
   {
    "duration": 14,
    "start_time": "2022-07-31T10:44:00.091Z"
   },
   {
    "duration": 25,
    "start_time": "2022-07-31T10:44:07.634Z"
   },
   {
    "duration": 91,
    "start_time": "2022-07-31T10:47:38.523Z"
   },
   {
    "duration": 16,
    "start_time": "2022-07-31T10:47:46.644Z"
   },
   {
    "duration": 16,
    "start_time": "2022-07-31T10:48:10.432Z"
   },
   {
    "duration": 21,
    "start_time": "2022-07-31T10:54:07.615Z"
   },
   {
    "duration": 3,
    "start_time": "2022-07-31T10:55:54.363Z"
   },
   {
    "duration": 107,
    "start_time": "2022-07-31T10:55:54.370Z"
   },
   {
    "duration": 109,
    "start_time": "2022-07-31T10:55:54.478Z"
   },
   {
    "duration": 116,
    "start_time": "2022-07-31T10:57:11.155Z"
   },
   {
    "duration": 141,
    "start_time": "2022-07-31T10:57:27.515Z"
   },
   {
    "duration": 250,
    "start_time": "2022-07-31T11:04:59.487Z"
   },
   {
    "duration": 137,
    "start_time": "2022-07-31T11:05:11.834Z"
   },
   {
    "duration": 134,
    "start_time": "2022-07-31T11:10:20.035Z"
   },
   {
    "duration": 184,
    "start_time": "2022-07-31T11:10:32.897Z"
   },
   {
    "duration": 251,
    "start_time": "2022-07-31T11:10:52.036Z"
   },
   {
    "duration": 157,
    "start_time": "2022-07-31T11:11:07.910Z"
   },
   {
    "duration": 167,
    "start_time": "2022-07-31T11:11:46.985Z"
   },
   {
    "duration": 158,
    "start_time": "2022-07-31T11:15:18.793Z"
   },
   {
    "duration": 156,
    "start_time": "2022-07-31T11:21:23.673Z"
   },
   {
    "duration": 294,
    "start_time": "2022-07-31T11:30:36.072Z"
   },
   {
    "duration": 94,
    "start_time": "2022-07-31T11:33:10.676Z"
   },
   {
    "duration": 166,
    "start_time": "2022-07-31T11:34:13.072Z"
   },
   {
    "duration": 4,
    "start_time": "2022-07-31T11:38:06.041Z"
   },
   {
    "duration": 18,
    "start_time": "2022-07-31T11:38:46.270Z"
   },
   {
    "duration": 5,
    "start_time": "2022-07-31T11:40:07.649Z"
   },
   {
    "duration": 109,
    "start_time": "2022-07-31T11:40:27.051Z"
   },
   {
    "duration": 89,
    "start_time": "2022-07-31T11:40:44.453Z"
   },
   {
    "duration": 18,
    "start_time": "2022-07-31T12:00:02.260Z"
   },
   {
    "duration": 17,
    "start_time": "2022-07-31T12:02:13.946Z"
   },
   {
    "duration": 310,
    "start_time": "2022-07-31T12:08:53.071Z"
   },
   {
    "duration": 14,
    "start_time": "2022-07-31T12:09:34.248Z"
   },
   {
    "duration": 20,
    "start_time": "2022-07-31T12:09:57.113Z"
   },
   {
    "duration": 18,
    "start_time": "2022-07-31T12:12:13.987Z"
   },
   {
    "duration": 19,
    "start_time": "2022-07-31T12:12:35.366Z"
   },
   {
    "duration": 1801,
    "start_time": "2022-08-01T06:29:31.642Z"
   },
   {
    "duration": 342,
    "start_time": "2022-08-01T06:29:33.445Z"
   },
   {
    "duration": 259,
    "start_time": "2022-08-01T06:29:33.789Z"
   },
   {
    "duration": 138,
    "start_time": "2022-08-01T06:29:34.051Z"
   },
   {
    "duration": 29,
    "start_time": "2022-08-01T06:29:34.191Z"
   },
   {
    "duration": 179,
    "start_time": "2022-08-01T06:30:31.183Z"
   },
   {
    "duration": 100,
    "start_time": "2022-08-01T06:32:57.127Z"
   },
   {
    "duration": 41,
    "start_time": "2022-08-01T06:35:43.806Z"
   },
   {
    "duration": 47,
    "start_time": "2022-08-01T06:36:20.417Z"
   },
   {
    "duration": 43,
    "start_time": "2022-08-01T06:36:40.593Z"
   },
   {
    "duration": 19,
    "start_time": "2022-08-01T06:36:53.174Z"
   },
   {
    "duration": 21,
    "start_time": "2022-08-01T06:37:09.976Z"
   },
   {
    "duration": 134,
    "start_time": "2022-08-01T06:42:03.406Z"
   },
   {
    "duration": 241,
    "start_time": "2022-08-01T06:42:16.177Z"
   },
   {
    "duration": 183,
    "start_time": "2022-08-01T06:42:32.219Z"
   },
   {
    "duration": 40,
    "start_time": "2022-08-01T06:47:34.032Z"
   },
   {
    "duration": 35,
    "start_time": "2022-08-01T06:47:49.703Z"
   },
   {
    "duration": 22,
    "start_time": "2022-08-01T06:48:30.192Z"
   },
   {
    "duration": 42,
    "start_time": "2022-08-01T06:49:29.379Z"
   },
   {
    "duration": 31,
    "start_time": "2022-08-01T06:50:07.710Z"
   },
   {
    "duration": 3,
    "start_time": "2022-08-01T06:50:30.117Z"
   },
   {
    "duration": 155,
    "start_time": "2022-08-01T06:50:30.122Z"
   },
   {
    "duration": 199,
    "start_time": "2022-08-01T06:50:30.279Z"
   },
   {
    "duration": 113,
    "start_time": "2022-08-01T06:50:30.480Z"
   },
   {
    "duration": 29,
    "start_time": "2022-08-01T06:50:30.594Z"
   },
   {
    "duration": 31,
    "start_time": "2022-08-01T06:50:32.144Z"
   },
   {
    "duration": 1181,
    "start_time": "2022-08-01T06:51:01.958Z"
   },
   {
    "duration": 96,
    "start_time": "2022-08-01T06:51:59.895Z"
   },
   {
    "duration": 32,
    "start_time": "2022-08-01T06:53:23.204Z"
   },
   {
    "duration": 39,
    "start_time": "2022-08-01T06:53:46.163Z"
   },
   {
    "duration": 192,
    "start_time": "2022-08-01T06:55:05.596Z"
   },
   {
    "duration": 35,
    "start_time": "2022-08-01T06:56:33.073Z"
   },
   {
    "duration": 46,
    "start_time": "2022-08-01T06:57:03.939Z"
   },
   {
    "duration": 41,
    "start_time": "2022-08-01T06:57:51.082Z"
   },
   {
    "duration": 39,
    "start_time": "2022-08-01T06:58:12.032Z"
   },
   {
    "duration": 40,
    "start_time": "2022-08-01T07:00:50.509Z"
   },
   {
    "duration": 36,
    "start_time": "2022-08-01T07:01:15.082Z"
   },
   {
    "duration": 30,
    "start_time": "2022-08-01T07:04:46.631Z"
   },
   {
    "duration": 27,
    "start_time": "2022-08-01T07:05:25.351Z"
   },
   {
    "duration": 35,
    "start_time": "2022-08-01T07:05:59.545Z"
   },
   {
    "duration": 22,
    "start_time": "2022-08-01T07:09:25.506Z"
   },
   {
    "duration": 991,
    "start_time": "2022-08-01T07:10:00.677Z"
   },
   {
    "duration": 21,
    "start_time": "2022-08-01T07:10:46.567Z"
   },
   {
    "duration": 252,
    "start_time": "2022-08-01T07:15:31.004Z"
   },
   {
    "duration": 283,
    "start_time": "2022-08-01T07:15:53.052Z"
   },
   {
    "duration": 274,
    "start_time": "2022-08-01T07:16:10.578Z"
   },
   {
    "duration": 300,
    "start_time": "2022-08-01T07:16:58.009Z"
   },
   {
    "duration": 327,
    "start_time": "2022-08-01T07:19:56.538Z"
   },
   {
    "duration": 1737,
    "start_time": "2022-08-01T16:01:12.838Z"
   },
   {
    "duration": 882,
    "start_time": "2022-08-01T16:01:14.583Z"
   },
   {
    "duration": 294,
    "start_time": "2022-08-01T16:01:15.467Z"
   },
   {
    "duration": 165,
    "start_time": "2022-08-01T16:01:15.764Z"
   },
   {
    "duration": 461,
    "start_time": "2022-08-01T16:01:15.931Z"
   },
   {
    "duration": 492,
    "start_time": "2022-08-01T16:01:36.044Z"
   },
   {
    "duration": 8,
    "start_time": "2022-08-01T16:08:27.695Z"
   },
   {
    "duration": 15,
    "start_time": "2022-08-01T16:08:42.887Z"
   },
   {
    "duration": 493,
    "start_time": "2022-08-01T16:21:22.716Z"
   },
   {
    "duration": 22,
    "start_time": "2022-08-01T16:21:47.487Z"
   },
   {
    "duration": 299,
    "start_time": "2022-08-01T16:24:02.294Z"
   },
   {
    "duration": 338,
    "start_time": "2022-08-01T16:25:18.718Z"
   },
   {
    "duration": 300,
    "start_time": "2022-08-01T16:25:30.002Z"
   },
   {
    "duration": 382,
    "start_time": "2022-08-01T16:27:09.858Z"
   },
   {
    "duration": 471,
    "start_time": "2022-08-01T16:27:24.222Z"
   },
   {
    "duration": 309,
    "start_time": "2022-08-01T16:28:11.850Z"
   },
   {
    "duration": 296,
    "start_time": "2022-08-01T16:30:35.710Z"
   },
   {
    "duration": 416,
    "start_time": "2022-08-01T16:31:16.657Z"
   },
   {
    "duration": 348,
    "start_time": "2022-08-01T16:31:23.632Z"
   },
   {
    "duration": 385,
    "start_time": "2022-08-01T16:31:38.755Z"
   },
   {
    "duration": 365,
    "start_time": "2022-08-01T16:31:49.657Z"
   },
   {
    "duration": 9,
    "start_time": "2022-08-01T16:38:19.499Z"
   },
   {
    "duration": 5,
    "start_time": "2022-08-01T16:39:41.199Z"
   },
   {
    "duration": 12,
    "start_time": "2022-08-01T16:40:13.727Z"
   },
   {
    "duration": 10,
    "start_time": "2022-08-01T16:40:28.534Z"
   },
   {
    "duration": 91,
    "start_time": "2022-08-01T16:40:38.986Z"
   },
   {
    "duration": 12,
    "start_time": "2022-08-01T16:40:49.191Z"
   },
   {
    "duration": 9,
    "start_time": "2022-08-01T16:41:05.198Z"
   },
   {
    "duration": 8,
    "start_time": "2022-08-01T16:41:21.640Z"
   },
   {
    "duration": 6,
    "start_time": "2022-08-01T16:42:13.811Z"
   },
   {
    "duration": 16,
    "start_time": "2022-08-01T16:42:22.291Z"
   },
   {
    "duration": 17,
    "start_time": "2022-08-01T16:43:24.277Z"
   },
   {
    "duration": 983,
    "start_time": "2022-08-01T16:44:07.715Z"
   },
   {
    "duration": 3,
    "start_time": "2022-08-01T16:46:29.117Z"
   },
   {
    "duration": 26,
    "start_time": "2022-08-01T16:46:34.891Z"
   },
   {
    "duration": 22,
    "start_time": "2022-08-01T16:46:50.987Z"
   },
   {
    "duration": 5,
    "start_time": "2022-08-01T17:04:20.322Z"
   },
   {
    "duration": 10,
    "start_time": "2022-08-01T17:05:31.946Z"
   },
   {
    "duration": 21,
    "start_time": "2022-08-01T17:05:47.958Z"
   },
   {
    "duration": 17,
    "start_time": "2022-08-01T17:06:01.489Z"
   },
   {
    "duration": 21,
    "start_time": "2022-08-01T17:06:17.612Z"
   },
   {
    "duration": 21,
    "start_time": "2022-08-01T17:06:39.424Z"
   },
   {
    "duration": 16,
    "start_time": "2022-08-01T17:06:44.091Z"
   },
   {
    "duration": 31,
    "start_time": "2022-08-01T17:15:27.685Z"
   },
   {
    "duration": 17,
    "start_time": "2022-08-01T17:15:51.535Z"
   },
   {
    "duration": 18,
    "start_time": "2022-08-01T17:16:44.514Z"
   },
   {
    "duration": 36,
    "start_time": "2022-08-01T17:17:59.621Z"
   },
   {
    "duration": 16,
    "start_time": "2022-08-01T17:18:12.687Z"
   },
   {
    "duration": 38,
    "start_time": "2022-08-01T17:18:31.868Z"
   },
   {
    "duration": 22,
    "start_time": "2022-08-01T17:19:06.612Z"
   },
   {
    "duration": 37,
    "start_time": "2022-08-01T17:19:41.838Z"
   },
   {
    "duration": 36,
    "start_time": "2022-08-01T17:21:34.141Z"
   },
   {
    "duration": 289,
    "start_time": "2022-08-01T17:21:48.740Z"
   },
   {
    "duration": 205,
    "start_time": "2022-08-01T17:22:17.423Z"
   },
   {
    "duration": 24,
    "start_time": "2022-08-01T17:23:13.794Z"
   },
   {
    "duration": 22,
    "start_time": "2022-08-01T17:23:20.399Z"
   },
   {
    "duration": 23,
    "start_time": "2022-08-01T17:23:24.783Z"
   },
   {
    "duration": 29,
    "start_time": "2022-08-01T17:25:47.030Z"
   },
   {
    "duration": 245,
    "start_time": "2022-08-01T17:28:14.700Z"
   },
   {
    "duration": 30,
    "start_time": "2022-08-01T17:28:31.847Z"
   },
   {
    "duration": 188,
    "start_time": "2022-08-01T17:29:09.889Z"
   },
   {
    "duration": 258,
    "start_time": "2022-08-01T17:29:27.409Z"
   },
   {
    "duration": 15,
    "start_time": "2022-08-01T17:30:21.046Z"
   },
   {
    "duration": 201,
    "start_time": "2022-08-01T17:32:08.020Z"
   },
   {
    "duration": 221,
    "start_time": "2022-08-01T17:32:33.537Z"
   },
   {
    "duration": 242,
    "start_time": "2022-08-01T17:32:52.526Z"
   },
   {
    "duration": 297,
    "start_time": "2022-08-01T17:33:09.633Z"
   },
   {
    "duration": 49,
    "start_time": "2022-08-01T17:33:35.710Z"
   },
   {
    "duration": 15,
    "start_time": "2022-08-01T17:33:43.660Z"
   },
   {
    "duration": 39,
    "start_time": "2022-08-01T17:34:32.154Z"
   },
   {
    "duration": 51,
    "start_time": "2022-08-01T17:35:06.459Z"
   },
   {
    "duration": 18,
    "start_time": "2022-08-01T17:35:33.453Z"
   },
   {
    "duration": 39,
    "start_time": "2022-08-01T17:35:49.508Z"
   },
   {
    "duration": 4,
    "start_time": "2022-08-01T17:36:20.618Z"
   },
   {
    "duration": 61,
    "start_time": "2022-08-01T17:36:26.218Z"
   },
   {
    "duration": 61,
    "start_time": "2022-08-01T17:36:56.512Z"
   },
   {
    "duration": 54,
    "start_time": "2022-08-01T17:39:18.797Z"
   },
   {
    "duration": 52,
    "start_time": "2022-08-01T17:39:42.293Z"
   },
   {
    "duration": 49,
    "start_time": "2022-08-01T17:39:54.202Z"
   },
   {
    "duration": 23,
    "start_time": "2022-08-01T17:40:14.703Z"
   },
   {
    "duration": 32,
    "start_time": "2022-08-01T17:44:44.285Z"
   },
   {
    "duration": 25,
    "start_time": "2022-08-01T17:47:03.053Z"
   },
   {
    "duration": 32,
    "start_time": "2022-08-01T17:47:26.486Z"
   },
   {
    "duration": 25,
    "start_time": "2022-08-01T17:47:59.751Z"
   },
   {
    "duration": 1294,
    "start_time": "2022-08-02T03:29:22.892Z"
   },
   {
    "duration": 293,
    "start_time": "2022-08-02T03:29:24.188Z"
   },
   {
    "duration": 205,
    "start_time": "2022-08-02T03:29:24.483Z"
   },
   {
    "duration": 92,
    "start_time": "2022-08-02T03:29:24.689Z"
   },
   {
    "duration": 276,
    "start_time": "2022-08-02T03:29:24.782Z"
   },
   {
    "duration": 29,
    "start_time": "2022-08-02T03:29:25.059Z"
   },
   {
    "duration": 225,
    "start_time": "2022-08-02T03:29:25.089Z"
   },
   {
    "duration": 17,
    "start_time": "2022-08-02T03:29:25.315Z"
   },
   {
    "duration": 108,
    "start_time": "2022-08-02T03:30:31.648Z"
   },
   {
    "duration": 296,
    "start_time": "2022-08-02T03:31:29.315Z"
   },
   {
    "duration": 24,
    "start_time": "2022-08-02T03:34:37.540Z"
   },
   {
    "duration": 29,
    "start_time": "2022-08-02T03:35:52.215Z"
   },
   {
    "duration": 26,
    "start_time": "2022-08-02T03:36:36.311Z"
   },
   {
    "duration": 30,
    "start_time": "2022-08-02T03:37:00.748Z"
   },
   {
    "duration": 29,
    "start_time": "2022-08-02T03:37:19.180Z"
   },
   {
    "duration": 28,
    "start_time": "2022-08-02T03:38:13.448Z"
   },
   {
    "duration": 6,
    "start_time": "2022-08-02T03:57:36.497Z"
   },
   {
    "duration": 15,
    "start_time": "2022-08-02T03:58:48.998Z"
   },
   {
    "duration": 42,
    "start_time": "2022-08-02T03:59:14.750Z"
   },
   {
    "duration": 28,
    "start_time": "2022-08-02T03:59:43.611Z"
   },
   {
    "duration": 110,
    "start_time": "2022-08-02T04:00:08.124Z"
   },
   {
    "duration": 26,
    "start_time": "2022-08-02T04:00:20.512Z"
   },
   {
    "duration": 3,
    "start_time": "2022-08-02T04:00:40.538Z"
   },
   {
    "duration": 107,
    "start_time": "2022-08-02T04:00:40.542Z"
   },
   {
    "duration": 39,
    "start_time": "2022-08-02T04:00:40.650Z"
   },
   {
    "duration": 195,
    "start_time": "2022-08-02T04:00:40.691Z"
   },
   {
    "duration": 126,
    "start_time": "2022-08-02T04:00:40.889Z"
   },
   {
    "duration": 373,
    "start_time": "2022-08-02T04:00:41.018Z"
   },
   {
    "duration": 29,
    "start_time": "2022-08-02T04:00:41.393Z"
   },
   {
    "duration": 272,
    "start_time": "2022-08-02T04:00:41.424Z"
   },
   {
    "duration": 16,
    "start_time": "2022-08-02T04:00:41.697Z"
   },
   {
    "duration": 33,
    "start_time": "2022-08-02T04:03:08.371Z"
   },
   {
    "duration": 27,
    "start_time": "2022-08-02T04:04:31.659Z"
   },
   {
    "duration": 26,
    "start_time": "2022-08-02T04:04:53.462Z"
   },
   {
    "duration": 22,
    "start_time": "2022-08-02T04:06:07.204Z"
   },
   {
    "duration": 26,
    "start_time": "2022-08-02T04:09:57.607Z"
   },
   {
    "duration": 26,
    "start_time": "2022-08-02T04:10:17.224Z"
   },
   {
    "duration": 25,
    "start_time": "2022-08-02T04:17:37.831Z"
   },
   {
    "duration": 29,
    "start_time": "2022-08-02T04:19:18.373Z"
   },
   {
    "duration": 25,
    "start_time": "2022-08-02T04:20:37.377Z"
   },
   {
    "duration": 38,
    "start_time": "2022-08-02T04:22:41.850Z"
   },
   {
    "duration": 42,
    "start_time": "2022-08-02T04:22:51.750Z"
   },
   {
    "duration": 131,
    "start_time": "2022-08-02T04:27:08.576Z"
   },
   {
    "duration": 45,
    "start_time": "2022-08-02T04:27:37.092Z"
   },
   {
    "duration": 3,
    "start_time": "2022-08-02T04:28:03.259Z"
   },
   {
    "duration": 114,
    "start_time": "2022-08-02T04:28:03.264Z"
   },
   {
    "duration": 23,
    "start_time": "2022-08-02T04:28:03.380Z"
   },
   {
    "duration": 181,
    "start_time": "2022-08-02T04:28:03.405Z"
   },
   {
    "duration": 116,
    "start_time": "2022-08-02T04:28:03.589Z"
   },
   {
    "duration": 288,
    "start_time": "2022-08-02T04:28:03.707Z"
   },
   {
    "duration": 48,
    "start_time": "2022-08-02T04:28:05.075Z"
   },
   {
    "duration": 1679,
    "start_time": "2022-08-02T04:30:01.466Z"
   },
   {
    "duration": 47,
    "start_time": "2022-08-02T04:30:30.558Z"
   },
   {
    "duration": 3,
    "start_time": "2022-08-02T04:30:46.461Z"
   },
   {
    "duration": 98,
    "start_time": "2022-08-02T04:30:46.466Z"
   },
   {
    "duration": 21,
    "start_time": "2022-08-02T04:30:46.566Z"
   },
   {
    "duration": 164,
    "start_time": "2022-08-02T04:30:46.589Z"
   },
   {
    "duration": 118,
    "start_time": "2022-08-02T04:30:46.755Z"
   },
   {
    "duration": 287,
    "start_time": "2022-08-02T04:30:46.875Z"
   },
   {
    "duration": 45,
    "start_time": "2022-08-02T04:30:47.164Z"
   },
   {
    "duration": 44,
    "start_time": "2022-08-02T04:31:11.298Z"
   },
   {
    "duration": 39,
    "start_time": "2022-08-02T04:31:35.836Z"
   },
   {
    "duration": 3,
    "start_time": "2022-08-02T04:31:42.597Z"
   },
   {
    "duration": 101,
    "start_time": "2022-08-02T04:31:42.601Z"
   },
   {
    "duration": 22,
    "start_time": "2022-08-02T04:31:42.704Z"
   },
   {
    "duration": 179,
    "start_time": "2022-08-02T04:31:42.728Z"
   },
   {
    "duration": 117,
    "start_time": "2022-08-02T04:31:42.909Z"
   },
   {
    "duration": 270,
    "start_time": "2022-08-02T04:31:43.028Z"
   },
   {
    "duration": 44,
    "start_time": "2022-08-02T04:31:44.246Z"
   },
   {
    "duration": 990,
    "start_time": "2022-08-02T04:33:33.366Z"
   },
   {
    "duration": 46,
    "start_time": "2022-08-02T04:34:32.456Z"
   },
   {
    "duration": 1013,
    "start_time": "2022-08-02T04:35:13.100Z"
   },
   {
    "duration": 3,
    "start_time": "2022-08-02T04:35:23.199Z"
   },
   {
    "duration": 104,
    "start_time": "2022-08-02T04:35:23.203Z"
   },
   {
    "duration": 23,
    "start_time": "2022-08-02T04:35:23.309Z"
   },
   {
    "duration": 187,
    "start_time": "2022-08-02T04:35:23.333Z"
   },
   {
    "duration": 115,
    "start_time": "2022-08-02T04:35:23.522Z"
   },
   {
    "duration": 271,
    "start_time": "2022-08-02T04:35:23.639Z"
   },
   {
    "duration": 42,
    "start_time": "2022-08-02T04:35:25.009Z"
   },
   {
    "duration": 752,
    "start_time": "2022-08-02T04:36:09.477Z"
   },
   {
    "duration": 3,
    "start_time": "2022-08-02T04:37:41.002Z"
   },
   {
    "duration": 99,
    "start_time": "2022-08-02T04:37:41.006Z"
   },
   {
    "duration": 22,
    "start_time": "2022-08-02T04:37:41.107Z"
   },
   {
    "duration": 175,
    "start_time": "2022-08-02T04:37:41.131Z"
   },
   {
    "duration": 117,
    "start_time": "2022-08-02T04:37:41.308Z"
   },
   {
    "duration": 315,
    "start_time": "2022-08-02T04:37:41.428Z"
   },
   {
    "duration": 44,
    "start_time": "2022-08-02T04:37:46.891Z"
   },
   {
    "duration": 2,
    "start_time": "2022-08-02T04:38:02.288Z"
   },
   {
    "duration": 120,
    "start_time": "2022-08-02T04:38:02.292Z"
   },
   {
    "duration": 22,
    "start_time": "2022-08-02T04:38:02.413Z"
   },
   {
    "duration": 179,
    "start_time": "2022-08-02T04:38:02.437Z"
   },
   {
    "duration": 109,
    "start_time": "2022-08-02T04:38:02.617Z"
   },
   {
    "duration": 293,
    "start_time": "2022-08-02T04:38:02.728Z"
   },
   {
    "duration": 44,
    "start_time": "2022-08-02T04:38:19.435Z"
   },
   {
    "duration": 2,
    "start_time": "2022-08-02T04:38:41.028Z"
   },
   {
    "duration": 104,
    "start_time": "2022-08-02T04:38:41.032Z"
   },
   {
    "duration": 23,
    "start_time": "2022-08-02T04:38:41.137Z"
   },
   {
    "duration": 177,
    "start_time": "2022-08-02T04:38:41.161Z"
   },
   {
    "duration": 116,
    "start_time": "2022-08-02T04:38:41.340Z"
   },
   {
    "duration": 390,
    "start_time": "2022-08-02T04:38:41.457Z"
   },
   {
    "duration": 49,
    "start_time": "2022-08-02T04:38:45.942Z"
   },
   {
    "duration": 3,
    "start_time": "2022-08-02T04:40:35.378Z"
   },
   {
    "duration": 111,
    "start_time": "2022-08-02T04:40:35.382Z"
   },
   {
    "duration": 24,
    "start_time": "2022-08-02T04:40:35.495Z"
   },
   {
    "duration": 183,
    "start_time": "2022-08-02T04:40:35.520Z"
   },
   {
    "duration": 114,
    "start_time": "2022-08-02T04:40:35.705Z"
   },
   {
    "duration": 276,
    "start_time": "2022-08-02T04:40:35.821Z"
   },
   {
    "duration": 45,
    "start_time": "2022-08-02T04:40:36.441Z"
   },
   {
    "duration": 60,
    "start_time": "2022-08-02T04:45:32.249Z"
   },
   {
    "duration": 3,
    "start_time": "2022-08-02T04:45:40.757Z"
   },
   {
    "duration": 101,
    "start_time": "2022-08-02T04:45:40.761Z"
   },
   {
    "duration": 23,
    "start_time": "2022-08-02T04:45:40.863Z"
   },
   {
    "duration": 179,
    "start_time": "2022-08-02T04:45:40.889Z"
   },
   {
    "duration": 128,
    "start_time": "2022-08-02T04:45:41.072Z"
   },
   {
    "duration": 324,
    "start_time": "2022-08-02T04:45:41.202Z"
   },
   {
    "duration": 49,
    "start_time": "2022-08-02T04:45:41.661Z"
   },
   {
    "duration": 4,
    "start_time": "2022-08-02T04:52:42.998Z"
   },
   {
    "duration": 3,
    "start_time": "2022-08-02T04:52:57.393Z"
   },
   {
    "duration": 404,
    "start_time": "2022-08-02T04:54:06.239Z"
   },
   {
    "duration": 45,
    "start_time": "2022-08-02T04:55:34.209Z"
   },
   {
    "duration": 320,
    "start_time": "2022-08-02T04:55:50.039Z"
   },
   {
    "duration": 3,
    "start_time": "2022-08-02T04:57:20.199Z"
   },
   {
    "duration": 111,
    "start_time": "2022-08-02T04:57:20.203Z"
   },
   {
    "duration": 24,
    "start_time": "2022-08-02T04:57:20.316Z"
   },
   {
    "duration": 189,
    "start_time": "2022-08-02T04:57:20.341Z"
   },
   {
    "duration": 185,
    "start_time": "2022-08-02T04:57:20.532Z"
   },
   {
    "duration": 285,
    "start_time": "2022-08-02T04:57:20.718Z"
   },
   {
    "duration": 45,
    "start_time": "2022-08-02T04:57:21.004Z"
   },
   {
    "duration": 337,
    "start_time": "2022-08-02T04:57:21.050Z"
   },
   {
    "duration": 0,
    "start_time": "2022-08-02T04:57:21.388Z"
   },
   {
    "duration": 0,
    "start_time": "2022-08-02T04:57:21.389Z"
   },
   {
    "duration": 16,
    "start_time": "2022-08-02T04:57:45.374Z"
   },
   {
    "duration": 445,
    "start_time": "2022-08-02T05:01:51.841Z"
   },
   {
    "duration": 382,
    "start_time": "2022-08-02T05:03:41.117Z"
   },
   {
    "duration": 3488,
    "start_time": "2022-08-02T05:04:26.823Z"
   },
   {
    "duration": 151,
    "start_time": "2022-08-02T05:04:35.576Z"
   },
   {
    "duration": 46,
    "start_time": "2022-08-02T05:05:57.566Z"
   },
   {
    "duration": 117,
    "start_time": "2022-08-02T05:06:11.267Z"
   },
   {
    "duration": 115,
    "start_time": "2022-08-02T05:06:33.507Z"
   },
   {
    "duration": 108,
    "start_time": "2022-08-02T05:35:36.167Z"
   },
   {
    "duration": 122,
    "start_time": "2022-08-02T05:42:08.164Z"
   },
   {
    "duration": 138,
    "start_time": "2022-08-02T05:42:53.809Z"
   },
   {
    "duration": 110,
    "start_time": "2022-08-02T05:43:04.944Z"
   },
   {
    "duration": 1214,
    "start_time": "2022-08-02T05:43:32.893Z"
   },
   {
    "duration": 3,
    "start_time": "2022-08-02T05:43:50.156Z"
   },
   {
    "duration": 142,
    "start_time": "2022-08-02T05:43:50.161Z"
   },
   {
    "duration": 24,
    "start_time": "2022-08-02T05:43:50.305Z"
   },
   {
    "duration": 186,
    "start_time": "2022-08-02T05:43:50.331Z"
   },
   {
    "duration": 119,
    "start_time": "2022-08-02T05:43:50.518Z"
   },
   {
    "duration": 291,
    "start_time": "2022-08-02T05:43:50.639Z"
   },
   {
    "duration": 59,
    "start_time": "2022-08-02T05:43:50.931Z"
   },
   {
    "duration": 1488,
    "start_time": "2022-08-02T05:43:53.556Z"
   },
   {
    "duration": 207,
    "start_time": "2022-08-02T05:44:36.092Z"
   },
   {
    "duration": 149,
    "start_time": "2022-08-02T05:46:21.395Z"
   },
   {
    "duration": 208,
    "start_time": "2022-08-02T05:46:26.995Z"
   },
   {
    "duration": 205,
    "start_time": "2022-08-02T05:46:49.979Z"
   },
   {
    "duration": 258,
    "start_time": "2022-08-02T05:49:58.863Z"
   },
   {
    "duration": 262,
    "start_time": "2022-08-02T05:57:09.686Z"
   },
   {
    "duration": 336,
    "start_time": "2022-08-02T05:57:18.084Z"
   },
   {
    "duration": 320,
    "start_time": "2022-08-02T05:58:13.897Z"
   },
   {
    "duration": 292,
    "start_time": "2022-08-02T05:58:23.175Z"
   },
   {
    "duration": 2,
    "start_time": "2022-08-02T05:59:06.275Z"
   },
   {
    "duration": 104,
    "start_time": "2022-08-02T05:59:06.279Z"
   },
   {
    "duration": 23,
    "start_time": "2022-08-02T05:59:06.385Z"
   },
   {
    "duration": 176,
    "start_time": "2022-08-02T05:59:06.410Z"
   },
   {
    "duration": 217,
    "start_time": "2022-08-02T05:59:06.589Z"
   },
   {
    "duration": 294,
    "start_time": "2022-08-02T05:59:06.808Z"
   },
   {
    "duration": 48,
    "start_time": "2022-08-02T05:59:07.104Z"
   },
   {
    "duration": 316,
    "start_time": "2022-08-02T05:59:07.154Z"
   },
   {
    "duration": 215,
    "start_time": "2022-08-02T05:59:07.472Z"
   },
   {
    "duration": 18,
    "start_time": "2022-08-02T05:59:07.689Z"
   },
   {
    "duration": 19,
    "start_time": "2022-08-02T06:00:48.465Z"
   },
   {
    "duration": 18,
    "start_time": "2022-08-02T06:06:24.118Z"
   },
   {
    "duration": 37,
    "start_time": "2022-08-02T06:06:43.308Z"
   },
   {
    "duration": 39,
    "start_time": "2022-08-02T06:12:28.494Z"
   },
   {
    "duration": 34,
    "start_time": "2022-08-02T06:12:54.096Z"
   },
   {
    "duration": 29,
    "start_time": "2022-08-02T06:14:07.437Z"
   },
   {
    "duration": 24,
    "start_time": "2022-08-02T06:14:53.271Z"
   },
   {
    "duration": 35,
    "start_time": "2022-08-02T06:15:57.128Z"
   },
   {
    "duration": 321,
    "start_time": "2022-08-02T06:21:27.055Z"
   },
   {
    "duration": 1386,
    "start_time": "2022-08-02T18:14:36.324Z"
   },
   {
    "duration": 278,
    "start_time": "2022-08-02T18:14:37.713Z"
   },
   {
    "duration": 24,
    "start_time": "2022-08-02T18:14:37.993Z"
   },
   {
    "duration": 230,
    "start_time": "2022-08-02T18:14:38.019Z"
   },
   {
    "duration": 121,
    "start_time": "2022-08-02T18:14:38.251Z"
   },
   {
    "duration": 324,
    "start_time": "2022-08-02T18:14:38.373Z"
   },
   {
    "duration": 56,
    "start_time": "2022-08-02T18:14:38.699Z"
   },
   {
    "duration": 440,
    "start_time": "2022-08-02T18:14:38.757Z"
   },
   {
    "duration": 247,
    "start_time": "2022-08-02T18:14:39.199Z"
   },
   {
    "duration": 40,
    "start_time": "2022-08-02T18:14:39.448Z"
   },
   {
    "duration": 428,
    "start_time": "2022-08-02T18:14:39.489Z"
   },
   {
    "duration": 29,
    "start_time": "2022-08-02T18:16:06.032Z"
   },
   {
    "duration": 39,
    "start_time": "2022-08-02T18:16:33.847Z"
   },
   {
    "duration": 39,
    "start_time": "2022-08-02T18:17:01.538Z"
   },
   {
    "duration": 33,
    "start_time": "2022-08-02T18:17:20.330Z"
   },
   {
    "duration": 47,
    "start_time": "2022-08-02T18:21:51.379Z"
   },
   {
    "duration": 29,
    "start_time": "2022-08-02T18:24:16.864Z"
   },
   {
    "duration": 31,
    "start_time": "2022-08-02T18:24:30.113Z"
   },
   {
    "duration": 9483,
    "start_time": "2022-08-02T18:25:17.869Z"
   },
   {
    "duration": 9762,
    "start_time": "2022-08-02T18:25:44.177Z"
   },
   {
    "duration": 722,
    "start_time": "2022-08-02T18:27:34.851Z"
   },
   {
    "duration": 3,
    "start_time": "2022-08-02T18:27:45.424Z"
   },
   {
    "duration": 108,
    "start_time": "2022-08-02T18:27:45.439Z"
   },
   {
    "duration": 27,
    "start_time": "2022-08-02T18:27:45.549Z"
   },
   {
    "duration": 224,
    "start_time": "2022-08-02T18:27:45.578Z"
   },
   {
    "duration": 134,
    "start_time": "2022-08-02T18:27:45.804Z"
   },
   {
    "duration": 333,
    "start_time": "2022-08-02T18:27:45.940Z"
   },
   {
    "duration": 49,
    "start_time": "2022-08-02T18:27:46.275Z"
   },
   {
    "duration": 446,
    "start_time": "2022-08-02T18:27:46.338Z"
   },
   {
    "duration": 263,
    "start_time": "2022-08-02T18:27:46.786Z"
   },
   {
    "duration": 763,
    "start_time": "2022-08-02T18:27:49.445Z"
   },
   {
    "duration": 9492,
    "start_time": "2022-08-02T18:28:16.811Z"
   },
   {
    "duration": 9468,
    "start_time": "2022-08-02T18:28:50.025Z"
   },
   {
    "duration": 252,
    "start_time": "2022-08-02T18:29:15.235Z"
   },
   {
    "duration": 234,
    "start_time": "2022-08-02T18:29:47.345Z"
   },
   {
    "duration": 245,
    "start_time": "2022-08-02T18:31:19.406Z"
   },
   {
    "duration": 9859,
    "start_time": "2022-08-02T18:35:41.521Z"
   },
   {
    "duration": 10152,
    "start_time": "2022-08-02T18:38:20.082Z"
   },
   {
    "duration": 9956,
    "start_time": "2022-08-02T19:02:00.778Z"
   },
   {
    "duration": 10125,
    "start_time": "2022-08-02T19:04:22.928Z"
   },
   {
    "duration": 9637,
    "start_time": "2022-08-02T19:20:15.563Z"
   },
   {
    "duration": 3,
    "start_time": "2022-08-02T19:20:29.797Z"
   },
   {
    "duration": 111,
    "start_time": "2022-08-02T19:20:29.803Z"
   },
   {
    "duration": 39,
    "start_time": "2022-08-02T19:20:29.916Z"
   },
   {
    "duration": 202,
    "start_time": "2022-08-02T19:20:29.957Z"
   },
   {
    "duration": 133,
    "start_time": "2022-08-02T19:20:30.161Z"
   },
   {
    "duration": 331,
    "start_time": "2022-08-02T19:20:30.295Z"
   },
   {
    "duration": 52,
    "start_time": "2022-08-02T19:20:30.628Z"
   },
   {
    "duration": 346,
    "start_time": "2022-08-02T19:20:30.682Z"
   },
   {
    "duration": 252,
    "start_time": "2022-08-02T19:20:31.031Z"
   },
   {
    "duration": 732,
    "start_time": "2022-08-02T19:20:31.285Z"
   },
   {
    "duration": 0,
    "start_time": "2022-08-02T19:20:32.019Z"
   },
   {
    "duration": 796,
    "start_time": "2022-08-02T20:00:58.927Z"
   },
   {
    "duration": 1301,
    "start_time": "2022-08-03T03:27:48.919Z"
   },
   {
    "duration": 284,
    "start_time": "2022-08-03T03:27:50.222Z"
   },
   {
    "duration": 24,
    "start_time": "2022-08-03T03:27:50.507Z"
   },
   {
    "duration": 213,
    "start_time": "2022-08-03T03:27:50.533Z"
   },
   {
    "duration": 124,
    "start_time": "2022-08-03T03:27:50.749Z"
   },
   {
    "duration": 281,
    "start_time": "2022-08-03T03:27:50.875Z"
   },
   {
    "duration": 52,
    "start_time": "2022-08-03T03:27:51.157Z"
   },
   {
    "duration": 335,
    "start_time": "2022-08-03T03:27:51.210Z"
   },
   {
    "duration": 228,
    "start_time": "2022-08-03T03:27:51.547Z"
   },
   {
    "duration": 829,
    "start_time": "2022-08-03T03:27:51.776Z"
   },
   {
    "duration": 0,
    "start_time": "2022-08-03T03:27:52.606Z"
   },
   {
    "duration": 898,
    "start_time": "2022-08-03T03:29:35.020Z"
   },
   {
    "duration": 27,
    "start_time": "2022-08-03T03:30:24.175Z"
   },
   {
    "duration": 1986,
    "start_time": "2022-08-03T03:30:51.087Z"
   },
   {
    "duration": 2001,
    "start_time": "2022-08-03T03:33:34.231Z"
   },
   {
    "duration": 1896,
    "start_time": "2022-08-03T03:33:48.634Z"
   },
   {
    "duration": 1868,
    "start_time": "2022-08-03T03:46:34.636Z"
   },
   {
    "duration": 127,
    "start_time": "2022-08-03T03:57:17.012Z"
   },
   {
    "duration": 136,
    "start_time": "2022-08-03T03:58:36.067Z"
   },
   {
    "duration": 139,
    "start_time": "2022-08-03T03:59:05.110Z"
   },
   {
    "duration": 130,
    "start_time": "2022-08-03T03:59:22.422Z"
   },
   {
    "duration": 3,
    "start_time": "2022-08-03T03:59:57.530Z"
   },
   {
    "duration": 102,
    "start_time": "2022-08-03T03:59:57.535Z"
   },
   {
    "duration": 23,
    "start_time": "2022-08-03T03:59:57.638Z"
   },
   {
    "duration": 182,
    "start_time": "2022-08-03T03:59:57.663Z"
   },
   {
    "duration": 117,
    "start_time": "2022-08-03T03:59:57.847Z"
   },
   {
    "duration": 303,
    "start_time": "2022-08-03T03:59:57.965Z"
   },
   {
    "duration": 50,
    "start_time": "2022-08-03T03:59:58.270Z"
   },
   {
    "duration": 302,
    "start_time": "2022-08-03T03:59:58.322Z"
   },
   {
    "duration": 221,
    "start_time": "2022-08-03T03:59:58.626Z"
   },
   {
    "duration": 129,
    "start_time": "2022-08-03T04:00:05.458Z"
   },
   {
    "duration": 136,
    "start_time": "2022-08-03T04:04:06.922Z"
   },
   {
    "duration": 242,
    "start_time": "2022-08-03T04:04:13.819Z"
   },
   {
    "duration": 234,
    "start_time": "2022-08-03T04:05:09.219Z"
   },
   {
    "duration": 21,
    "start_time": "2022-08-03T04:05:38.215Z"
   },
   {
    "duration": 21,
    "start_time": "2022-08-03T04:05:50.444Z"
   },
   {
    "duration": 130,
    "start_time": "2022-08-03T04:06:00.441Z"
   },
   {
    "duration": 352,
    "start_time": "2022-08-03T04:07:47.366Z"
   },
   {
    "duration": 8,
    "start_time": "2022-08-03T04:23:42.687Z"
   },
   {
    "duration": 8,
    "start_time": "2022-08-03T04:23:50.058Z"
   },
   {
    "duration": 9,
    "start_time": "2022-08-03T04:24:20.929Z"
   },
   {
    "duration": 11,
    "start_time": "2022-08-03T04:24:48.244Z"
   },
   {
    "duration": 8,
    "start_time": "2022-08-03T04:25:13.667Z"
   },
   {
    "duration": 6,
    "start_time": "2022-08-03T04:25:30.281Z"
   },
   {
    "duration": 1835,
    "start_time": "2022-08-03T04:56:16.132Z"
   },
   {
    "duration": 1245,
    "start_time": "2022-08-03T04:56:41.960Z"
   },
   {
    "duration": 15,
    "start_time": "2022-08-03T05:09:04.236Z"
   },
   {
    "duration": 19,
    "start_time": "2022-08-03T05:10:27.520Z"
   },
   {
    "duration": 478,
    "start_time": "2022-08-03T05:40:49.195Z"
   },
   {
    "duration": 471,
    "start_time": "2022-08-03T05:41:17.198Z"
   },
   {
    "duration": 3,
    "start_time": "2022-08-03T05:41:44.903Z"
   },
   {
    "duration": 103,
    "start_time": "2022-08-03T05:41:44.947Z"
   },
   {
    "duration": 24,
    "start_time": "2022-08-03T05:41:45.052Z"
   },
   {
    "duration": 186,
    "start_time": "2022-08-03T05:41:45.078Z"
   },
   {
    "duration": 114,
    "start_time": "2022-08-03T05:41:45.265Z"
   },
   {
    "duration": 291,
    "start_time": "2022-08-03T05:41:45.381Z"
   },
   {
    "duration": 50,
    "start_time": "2022-08-03T05:41:45.674Z"
   },
   {
    "duration": 313,
    "start_time": "2022-08-03T05:41:45.726Z"
   },
   {
    "duration": 220,
    "start_time": "2022-08-03T05:41:46.040Z"
   },
   {
    "duration": 146,
    "start_time": "2022-08-03T05:41:46.262Z"
   },
   {
    "duration": 250,
    "start_time": "2022-08-03T05:41:46.410Z"
   },
   {
    "duration": 1377,
    "start_time": "2022-08-03T05:41:46.662Z"
   },
   {
    "duration": 403,
    "start_time": "2022-08-03T05:42:17.055Z"
   },
   {
    "duration": 627,
    "start_time": "2022-08-03T05:45:35.635Z"
   },
   {
    "duration": 729,
    "start_time": "2022-08-03T05:48:49.628Z"
   },
   {
    "duration": 660,
    "start_time": "2022-08-03T05:51:32.620Z"
   },
   {
    "duration": 505,
    "start_time": "2022-08-03T05:52:05.474Z"
   },
   {
    "duration": 803,
    "start_time": "2022-08-03T05:52:16.831Z"
   },
   {
    "duration": 493,
    "start_time": "2022-08-03T05:53:12.124Z"
   },
   {
    "duration": 427,
    "start_time": "2022-08-03T05:53:27.454Z"
   },
   {
    "duration": 644,
    "start_time": "2022-08-03T05:53:38.155Z"
   },
   {
    "duration": 4,
    "start_time": "2022-08-03T05:54:01.990Z"
   },
   {
    "duration": 142,
    "start_time": "2022-08-03T05:54:01.996Z"
   },
   {
    "duration": 26,
    "start_time": "2022-08-03T05:54:02.139Z"
   },
   {
    "duration": 208,
    "start_time": "2022-08-03T05:54:02.168Z"
   },
   {
    "duration": 129,
    "start_time": "2022-08-03T05:54:02.378Z"
   },
   {
    "duration": 301,
    "start_time": "2022-08-03T05:54:02.508Z"
   },
   {
    "duration": 166,
    "start_time": "2022-08-03T05:54:02.811Z"
   },
   {
    "duration": 356,
    "start_time": "2022-08-03T05:54:02.978Z"
   },
   {
    "duration": 240,
    "start_time": "2022-08-03T05:54:03.337Z"
   },
   {
    "duration": 141,
    "start_time": "2022-08-03T05:54:03.579Z"
   },
   {
    "duration": 278,
    "start_time": "2022-08-03T05:54:03.722Z"
   },
   {
    "duration": 414,
    "start_time": "2022-08-03T05:54:04.001Z"
   },
   {
    "duration": 788,
    "start_time": "2022-08-03T05:55:27.267Z"
   },
   {
    "duration": 3,
    "start_time": "2022-08-03T05:55:42.928Z"
   },
   {
    "duration": 109,
    "start_time": "2022-08-03T05:55:42.933Z"
   },
   {
    "duration": 23,
    "start_time": "2022-08-03T05:55:43.044Z"
   },
   {
    "duration": 189,
    "start_time": "2022-08-03T05:55:43.069Z"
   },
   {
    "duration": 119,
    "start_time": "2022-08-03T05:55:43.259Z"
   },
   {
    "duration": 287,
    "start_time": "2022-08-03T05:55:43.380Z"
   },
   {
    "duration": 48,
    "start_time": "2022-08-03T05:55:45.322Z"
   },
   {
    "duration": 820,
    "start_time": "2022-08-03T05:56:01.464Z"
   },
   {
    "duration": 3,
    "start_time": "2022-08-03T05:56:27.330Z"
   },
   {
    "duration": 100,
    "start_time": "2022-08-03T05:56:27.335Z"
   },
   {
    "duration": 22,
    "start_time": "2022-08-03T05:56:27.436Z"
   },
   {
    "duration": 193,
    "start_time": "2022-08-03T05:56:27.460Z"
   },
   {
    "duration": 125,
    "start_time": "2022-08-03T05:56:27.654Z"
   },
   {
    "duration": 279,
    "start_time": "2022-08-03T05:56:27.780Z"
   },
   {
    "duration": 57,
    "start_time": "2022-08-03T05:56:29.584Z"
   },
   {
    "duration": 398,
    "start_time": "2022-08-03T05:57:36.681Z"
   },
   {
    "duration": 424,
    "start_time": "2022-08-03T05:57:56.255Z"
   },
   {
    "duration": 553,
    "start_time": "2022-08-03T05:58:28.394Z"
   },
   {
    "duration": 753,
    "start_time": "2022-08-03T05:59:33.358Z"
   },
   {
    "duration": 480,
    "start_time": "2022-08-03T06:00:22.399Z"
   },
   {
    "duration": 5,
    "start_time": "2022-08-03T06:01:10.625Z"
   },
   {
    "duration": 523,
    "start_time": "2022-08-03T06:01:14.288Z"
   },
   {
    "duration": 417,
    "start_time": "2022-08-03T06:01:38.924Z"
   },
   {
    "duration": 950,
    "start_time": "2022-08-03T06:02:10.524Z"
   },
   {
    "duration": 1005,
    "start_time": "2022-08-03T06:07:32.495Z"
   },
   {
    "duration": 3,
    "start_time": "2022-08-03T06:08:09.797Z"
   },
   {
    "duration": 108,
    "start_time": "2022-08-03T06:08:09.821Z"
   },
   {
    "duration": 26,
    "start_time": "2022-08-03T06:08:09.931Z"
   },
   {
    "duration": 220,
    "start_time": "2022-08-03T06:08:09.958Z"
   },
   {
    "duration": 126,
    "start_time": "2022-08-03T06:08:10.180Z"
   },
   {
    "duration": 385,
    "start_time": "2022-08-03T06:08:10.308Z"
   },
   {
    "duration": 46,
    "start_time": "2022-08-03T06:08:10.695Z"
   },
   {
    "duration": 333,
    "start_time": "2022-08-03T06:08:10.743Z"
   },
   {
    "duration": 236,
    "start_time": "2022-08-03T06:08:11.077Z"
   },
   {
    "duration": 147,
    "start_time": "2022-08-03T06:08:11.315Z"
   },
   {
    "duration": 308,
    "start_time": "2022-08-03T06:08:11.464Z"
   },
   {
    "duration": 421,
    "start_time": "2022-08-03T06:08:11.923Z"
   },
   {
    "duration": 4,
    "start_time": "2022-08-03T06:08:35.328Z"
   },
   {
    "duration": 117,
    "start_time": "2022-08-03T06:08:35.334Z"
   },
   {
    "duration": 24,
    "start_time": "2022-08-03T06:08:35.453Z"
   },
   {
    "duration": 193,
    "start_time": "2022-08-03T06:08:35.478Z"
   },
   {
    "duration": 115,
    "start_time": "2022-08-03T06:08:35.673Z"
   },
   {
    "duration": 286,
    "start_time": "2022-08-03T06:08:35.790Z"
   },
   {
    "duration": 54,
    "start_time": "2022-08-03T06:08:36.078Z"
   },
   {
    "duration": 328,
    "start_time": "2022-08-03T06:08:36.133Z"
   },
   {
    "duration": 239,
    "start_time": "2022-08-03T06:08:36.463Z"
   },
   {
    "duration": 136,
    "start_time": "2022-08-03T06:08:36.704Z"
   },
   {
    "duration": 273,
    "start_time": "2022-08-03T06:08:36.842Z"
   },
   {
    "duration": 405,
    "start_time": "2022-08-03T06:08:37.982Z"
   },
   {
    "duration": 4,
    "start_time": "2022-08-03T06:09:10.224Z"
   },
   {
    "duration": 113,
    "start_time": "2022-08-03T06:09:10.229Z"
   },
   {
    "duration": 23,
    "start_time": "2022-08-03T06:09:10.344Z"
   },
   {
    "duration": 195,
    "start_time": "2022-08-03T06:09:10.369Z"
   },
   {
    "duration": 218,
    "start_time": "2022-08-03T06:09:10.566Z"
   },
   {
    "duration": 296,
    "start_time": "2022-08-03T06:09:10.786Z"
   },
   {
    "duration": 54,
    "start_time": "2022-08-03T06:09:11.084Z"
   },
   {
    "duration": 334,
    "start_time": "2022-08-03T06:09:11.140Z"
   },
   {
    "duration": 273,
    "start_time": "2022-08-03T06:09:11.475Z"
   },
   {
    "duration": 141,
    "start_time": "2022-08-03T06:09:11.750Z"
   },
   {
    "duration": 252,
    "start_time": "2022-08-03T06:09:11.893Z"
   },
   {
    "duration": 644,
    "start_time": "2022-08-03T06:09:12.147Z"
   },
   {
    "duration": 296,
    "start_time": "2022-08-03T06:09:43.756Z"
   },
   {
    "duration": 3,
    "start_time": "2022-08-03T06:09:57.640Z"
   },
   {
    "duration": 113,
    "start_time": "2022-08-03T06:09:57.645Z"
   },
   {
    "duration": 43,
    "start_time": "2022-08-03T06:09:57.760Z"
   },
   {
    "duration": 186,
    "start_time": "2022-08-03T06:09:57.805Z"
   },
   {
    "duration": 114,
    "start_time": "2022-08-03T06:09:57.999Z"
   },
   {
    "duration": 304,
    "start_time": "2022-08-03T06:09:58.115Z"
   },
   {
    "duration": 50,
    "start_time": "2022-08-03T06:09:58.420Z"
   },
   {
    "duration": 333,
    "start_time": "2022-08-03T06:09:58.471Z"
   },
   {
    "duration": 238,
    "start_time": "2022-08-03T06:09:58.806Z"
   },
   {
    "duration": 142,
    "start_time": "2022-08-03T06:09:59.046Z"
   },
   {
    "duration": 268,
    "start_time": "2022-08-03T06:09:59.199Z"
   },
   {
    "duration": 159,
    "start_time": "2022-08-03T06:09:59.469Z"
   },
   {
    "duration": 3,
    "start_time": "2022-08-03T06:10:14.047Z"
   },
   {
    "duration": 104,
    "start_time": "2022-08-03T06:10:14.052Z"
   },
   {
    "duration": 25,
    "start_time": "2022-08-03T06:10:14.157Z"
   },
   {
    "duration": 291,
    "start_time": "2022-08-03T06:10:14.184Z"
   },
   {
    "duration": 111,
    "start_time": "2022-08-03T06:10:14.476Z"
   },
   {
    "duration": 312,
    "start_time": "2022-08-03T06:10:14.589Z"
   },
   {
    "duration": 47,
    "start_time": "2022-08-03T06:10:14.903Z"
   },
   {
    "duration": 350,
    "start_time": "2022-08-03T06:10:14.952Z"
   },
   {
    "duration": 232,
    "start_time": "2022-08-03T06:10:15.304Z"
   },
   {
    "duration": 137,
    "start_time": "2022-08-03T06:10:15.538Z"
   },
   {
    "duration": 275,
    "start_time": "2022-08-03T06:10:15.676Z"
   },
   {
    "duration": 472,
    "start_time": "2022-08-03T06:10:15.953Z"
   },
   {
    "duration": 3,
    "start_time": "2022-08-03T06:11:02.871Z"
   },
   {
    "duration": 117,
    "start_time": "2022-08-03T06:11:02.876Z"
   },
   {
    "duration": 27,
    "start_time": "2022-08-03T06:11:02.995Z"
   },
   {
    "duration": 188,
    "start_time": "2022-08-03T06:11:03.024Z"
   },
   {
    "duration": 125,
    "start_time": "2022-08-03T06:11:03.214Z"
   },
   {
    "duration": 291,
    "start_time": "2022-08-03T06:11:03.341Z"
   },
   {
    "duration": 46,
    "start_time": "2022-08-03T06:11:03.633Z"
   },
   {
    "duration": 351,
    "start_time": "2022-08-03T06:11:03.680Z"
   },
   {
    "duration": 235,
    "start_time": "2022-08-03T06:11:04.033Z"
   },
   {
    "duration": 160,
    "start_time": "2022-08-03T06:11:04.270Z"
   },
   {
    "duration": 357,
    "start_time": "2022-08-03T06:11:04.432Z"
   },
   {
    "duration": 165,
    "start_time": "2022-08-03T06:11:04.791Z"
   },
   {
    "duration": 3,
    "start_time": "2022-08-03T06:11:49.127Z"
   },
   {
    "duration": 132,
    "start_time": "2022-08-03T06:11:49.132Z"
   },
   {
    "duration": 45,
    "start_time": "2022-08-03T06:11:49.266Z"
   },
   {
    "duration": 182,
    "start_time": "2022-08-03T06:11:49.313Z"
   },
   {
    "duration": 121,
    "start_time": "2022-08-03T06:11:49.499Z"
   },
   {
    "duration": 288,
    "start_time": "2022-08-03T06:11:49.622Z"
   },
   {
    "duration": 46,
    "start_time": "2022-08-03T06:11:49.912Z"
   },
   {
    "duration": 349,
    "start_time": "2022-08-03T06:11:49.960Z"
   },
   {
    "duration": 234,
    "start_time": "2022-08-03T06:11:50.312Z"
   },
   {
    "duration": 142,
    "start_time": "2022-08-03T06:11:50.548Z"
   },
   {
    "duration": 256,
    "start_time": "2022-08-03T06:11:50.692Z"
   },
   {
    "duration": 283,
    "start_time": "2022-08-03T06:11:50.950Z"
   },
   {
    "duration": 3,
    "start_time": "2022-08-03T06:16:18.730Z"
   },
   {
    "duration": 143,
    "start_time": "2022-08-03T06:16:18.734Z"
   },
   {
    "duration": 29,
    "start_time": "2022-08-03T06:16:18.879Z"
   },
   {
    "duration": 202,
    "start_time": "2022-08-03T06:16:18.910Z"
   },
   {
    "duration": 152,
    "start_time": "2022-08-03T06:16:19.114Z"
   },
   {
    "duration": 295,
    "start_time": "2022-08-03T06:16:19.268Z"
   },
   {
    "duration": 54,
    "start_time": "2022-08-03T06:16:19.565Z"
   },
   {
    "duration": 333,
    "start_time": "2022-08-03T06:16:19.620Z"
   },
   {
    "duration": 339,
    "start_time": "2022-08-03T06:16:19.955Z"
   },
   {
    "duration": 134,
    "start_time": "2022-08-03T06:16:20.295Z"
   },
   {
    "duration": 239,
    "start_time": "2022-08-03T06:16:20.430Z"
   },
   {
    "duration": 183,
    "start_time": "2022-08-03T06:16:20.671Z"
   },
   {
    "duration": 206,
    "start_time": "2022-08-03T06:17:00.846Z"
   },
   {
    "duration": 411,
    "start_time": "2022-08-03T06:19:03.126Z"
   },
   {
    "duration": 427,
    "start_time": "2022-08-03T06:19:33.165Z"
   },
   {
    "duration": 174,
    "start_time": "2022-08-03T06:22:22.695Z"
   },
   {
    "duration": 369,
    "start_time": "2022-08-03T06:23:15.630Z"
   },
   {
    "duration": 144,
    "start_time": "2022-08-03T06:24:41.063Z"
   },
   {
    "duration": 641,
    "start_time": "2022-08-03T06:24:58.232Z"
   },
   {
    "duration": 142,
    "start_time": "2022-08-03T06:25:11.331Z"
   },
   {
    "duration": 36,
    "start_time": "2022-08-03T06:32:08.400Z"
   },
   {
    "duration": 334,
    "start_time": "2022-08-03T06:33:53.828Z"
   },
   {
    "duration": 380,
    "start_time": "2022-08-03T06:34:27.024Z"
   },
   {
    "duration": 309,
    "start_time": "2022-08-03T06:34:58.300Z"
   },
   {
    "duration": 1713,
    "start_time": "2022-08-03T19:10:52.169Z"
   },
   {
    "duration": 349,
    "start_time": "2022-08-03T19:10:53.884Z"
   },
   {
    "duration": 27,
    "start_time": "2022-08-03T19:10:54.235Z"
   },
   {
    "duration": 282,
    "start_time": "2022-08-03T19:10:54.264Z"
   },
   {
    "duration": 137,
    "start_time": "2022-08-03T19:10:54.548Z"
   },
   {
    "duration": 325,
    "start_time": "2022-08-03T19:10:54.687Z"
   },
   {
    "duration": 49,
    "start_time": "2022-08-03T19:10:55.014Z"
   },
   {
    "duration": 363,
    "start_time": "2022-08-03T19:10:55.065Z"
   },
   {
    "duration": 284,
    "start_time": "2022-08-03T19:10:55.430Z"
   },
   {
    "duration": 154,
    "start_time": "2022-08-03T19:10:55.717Z"
   },
   {
    "duration": 289,
    "start_time": "2022-08-03T19:10:55.873Z"
   },
   {
    "duration": 364,
    "start_time": "2022-08-03T19:10:56.163Z"
   },
   {
    "duration": 0,
    "start_time": "2022-08-03T19:10:56.531Z"
   },
   {
    "duration": 133,
    "start_time": "2022-08-03T19:36:00.790Z"
   },
   {
    "duration": 136,
    "start_time": "2022-08-03T19:36:14.374Z"
   },
   {
    "duration": 1095,
    "start_time": "2022-08-03T19:45:11.027Z"
   },
   {
    "duration": 200,
    "start_time": "2022-08-03T19:46:49.474Z"
   },
   {
    "duration": 160,
    "start_time": "2022-08-03T19:50:54.239Z"
   },
   {
    "duration": 142,
    "start_time": "2022-08-03T19:55:34.335Z"
   },
   {
    "duration": 3,
    "start_time": "2022-08-03T19:55:47.236Z"
   },
   {
    "duration": 116,
    "start_time": "2022-08-03T19:55:47.242Z"
   },
   {
    "duration": 40,
    "start_time": "2022-08-03T19:55:47.359Z"
   },
   {
    "duration": 212,
    "start_time": "2022-08-03T19:55:47.400Z"
   },
   {
    "duration": 218,
    "start_time": "2022-08-03T19:55:47.615Z"
   },
   {
    "duration": 316,
    "start_time": "2022-08-03T19:55:47.834Z"
   },
   {
    "duration": 58,
    "start_time": "2022-08-03T19:55:48.152Z"
   },
   {
    "duration": 327,
    "start_time": "2022-08-03T19:55:48.211Z"
   },
   {
    "duration": 254,
    "start_time": "2022-08-03T19:55:48.540Z"
   },
   {
    "duration": 145,
    "start_time": "2022-08-03T19:55:48.796Z"
   },
   {
    "duration": 268,
    "start_time": "2022-08-03T19:55:48.943Z"
   },
   {
    "duration": 316,
    "start_time": "2022-08-03T19:55:49.212Z"
   },
   {
    "duration": 0,
    "start_time": "2022-08-03T19:55:49.530Z"
   },
   {
    "duration": 48,
    "start_time": "2022-08-03T20:02:13.755Z"
   },
   {
    "duration": 140,
    "start_time": "2022-08-03T20:02:26.423Z"
   },
   {
    "duration": 178,
    "start_time": "2022-08-03T20:17:40.139Z"
   },
   {
    "duration": 122,
    "start_time": "2022-08-03T20:18:40.467Z"
   },
   {
    "duration": 45,
    "start_time": "2022-08-03T20:34:49.232Z"
   },
   {
    "duration": 19,
    "start_time": "2022-08-03T20:35:34.725Z"
   },
   {
    "duration": 1323,
    "start_time": "2022-08-04T03:30:44.261Z"
   },
   {
    "duration": 294,
    "start_time": "2022-08-04T03:30:45.586Z"
   },
   {
    "duration": 22,
    "start_time": "2022-08-04T03:30:45.882Z"
   },
   {
    "duration": 220,
    "start_time": "2022-08-04T03:30:45.906Z"
   },
   {
    "duration": 117,
    "start_time": "2022-08-04T03:30:46.128Z"
   },
   {
    "duration": 293,
    "start_time": "2022-08-04T03:30:46.247Z"
   },
   {
    "duration": 44,
    "start_time": "2022-08-04T03:30:46.542Z"
   },
   {
    "duration": 318,
    "start_time": "2022-08-04T03:30:46.600Z"
   },
   {
    "duration": 238,
    "start_time": "2022-08-04T03:30:46.919Z"
   },
   {
    "duration": 135,
    "start_time": "2022-08-04T03:30:47.159Z"
   },
   {
    "duration": 259,
    "start_time": "2022-08-04T03:30:47.296Z"
   },
   {
    "duration": 133,
    "start_time": "2022-08-04T03:30:47.556Z"
   },
   {
    "duration": 0,
    "start_time": "2022-08-04T03:30:47.691Z"
   },
   {
    "duration": 36,
    "start_time": "2022-08-04T03:37:37.273Z"
   },
   {
    "duration": 1136,
    "start_time": "2022-08-04T03:38:43.056Z"
   },
   {
    "duration": 3,
    "start_time": "2022-08-04T03:39:14.476Z"
   },
   {
    "duration": 108,
    "start_time": "2022-08-04T03:39:14.481Z"
   },
   {
    "duration": 27,
    "start_time": "2022-08-04T03:39:14.591Z"
   },
   {
    "duration": 183,
    "start_time": "2022-08-04T03:39:14.620Z"
   },
   {
    "duration": 206,
    "start_time": "2022-08-04T03:39:14.805Z"
   },
   {
    "duration": 291,
    "start_time": "2022-08-04T03:39:15.013Z"
   },
   {
    "duration": 44,
    "start_time": "2022-08-04T03:39:15.306Z"
   },
   {
    "duration": 316,
    "start_time": "2022-08-04T03:39:15.352Z"
   },
   {
    "duration": 220,
    "start_time": "2022-08-04T03:39:15.670Z"
   },
   {
    "duration": 136,
    "start_time": "2022-08-04T03:39:15.892Z"
   },
   {
    "duration": 276,
    "start_time": "2022-08-04T03:39:16.030Z"
   },
   {
    "duration": 3,
    "start_time": "2022-08-04T03:39:16.308Z"
   },
   {
    "duration": 1044,
    "start_time": "2022-08-04T03:47:15.860Z"
   },
   {
    "duration": 63,
    "start_time": "2022-08-04T03:59:56.336Z"
   },
   {
    "duration": 91,
    "start_time": "2022-08-04T04:00:40.493Z"
   },
   {
    "duration": 94,
    "start_time": "2022-08-04T04:03:02.142Z"
   },
   {
    "duration": 64,
    "start_time": "2022-08-04T04:03:52.645Z"
   },
   {
    "duration": 4,
    "start_time": "2022-08-04T04:05:45.672Z"
   },
   {
    "duration": 112,
    "start_time": "2022-08-04T04:05:45.678Z"
   },
   {
    "duration": 29,
    "start_time": "2022-08-04T04:05:45.792Z"
   },
   {
    "duration": 187,
    "start_time": "2022-08-04T04:05:45.823Z"
   },
   {
    "duration": 121,
    "start_time": "2022-08-04T04:05:46.011Z"
   },
   {
    "duration": 293,
    "start_time": "2022-08-04T04:05:46.134Z"
   },
   {
    "duration": 48,
    "start_time": "2022-08-04T04:05:46.429Z"
   },
   {
    "duration": 326,
    "start_time": "2022-08-04T04:05:46.479Z"
   },
   {
    "duration": 235,
    "start_time": "2022-08-04T04:05:46.807Z"
   },
   {
    "duration": 135,
    "start_time": "2022-08-04T04:05:47.045Z"
   },
   {
    "duration": 254,
    "start_time": "2022-08-04T04:05:47.187Z"
   },
   {
    "duration": 3,
    "start_time": "2022-08-04T04:05:47.442Z"
   },
   {
    "duration": 51,
    "start_time": "2022-08-04T04:05:47.446Z"
   },
   {
    "duration": 0,
    "start_time": "2022-08-04T04:05:47.499Z"
   },
   {
    "duration": 1113,
    "start_time": "2022-08-04T04:06:03.685Z"
   },
   {
    "duration": 1062,
    "start_time": "2022-08-04T04:09:12.842Z"
   },
   {
    "duration": 4,
    "start_time": "2022-08-04T04:09:30.312Z"
   },
   {
    "duration": 116,
    "start_time": "2022-08-04T04:09:30.318Z"
   },
   {
    "duration": 24,
    "start_time": "2022-08-04T04:09:30.435Z"
   },
   {
    "duration": 199,
    "start_time": "2022-08-04T04:09:30.461Z"
   },
   {
    "duration": 121,
    "start_time": "2022-08-04T04:09:30.663Z"
   },
   {
    "duration": 309,
    "start_time": "2022-08-04T04:09:30.785Z"
   },
   {
    "duration": 51,
    "start_time": "2022-08-04T04:09:31.096Z"
   },
   {
    "duration": 334,
    "start_time": "2022-08-04T04:09:31.149Z"
   },
   {
    "duration": 271,
    "start_time": "2022-08-04T04:09:31.485Z"
   },
   {
    "duration": 138,
    "start_time": "2022-08-04T04:09:31.758Z"
   },
   {
    "duration": 256,
    "start_time": "2022-08-04T04:09:31.900Z"
   },
   {
    "duration": 3,
    "start_time": "2022-08-04T04:09:32.158Z"
   },
   {
    "duration": 949,
    "start_time": "2022-08-04T04:09:32.162Z"
   },
   {
    "duration": 22,
    "start_time": "2022-08-04T04:09:44.917Z"
   },
   {
    "duration": 22,
    "start_time": "2022-08-04T04:10:02.619Z"
   },
   {
    "duration": 21,
    "start_time": "2022-08-04T04:12:54.179Z"
   },
   {
    "duration": 17,
    "start_time": "2022-08-04T04:13:12.026Z"
   },
   {
    "duration": 19,
    "start_time": "2022-08-04T04:14:19.919Z"
   },
   {
    "duration": 13,
    "start_time": "2022-08-04T04:14:43.857Z"
   },
   {
    "duration": 263,
    "start_time": "2022-08-04T04:19:05.411Z"
   },
   {
    "duration": 1209,
    "start_time": "2022-08-04T04:20:23.309Z"
   },
   {
    "duration": 1006,
    "start_time": "2022-08-04T04:20:46.768Z"
   },
   {
    "duration": 918,
    "start_time": "2022-08-04T04:22:05.992Z"
   },
   {
    "duration": 960,
    "start_time": "2022-08-04T04:22:17.334Z"
   },
   {
    "duration": 2220,
    "start_time": "2022-08-04T04:22:22.378Z"
   },
   {
    "duration": 5983,
    "start_time": "2022-08-04T04:22:42.250Z"
   },
   {
    "duration": 1545,
    "start_time": "2022-08-04T04:25:03.887Z"
   },
   {
    "duration": 387,
    "start_time": "2022-08-04T04:25:05.433Z"
   },
   {
    "duration": 23,
    "start_time": "2022-08-04T04:25:05.821Z"
   },
   {
    "duration": 288,
    "start_time": "2022-08-04T04:25:05.847Z"
   },
   {
    "duration": 115,
    "start_time": "2022-08-04T04:25:06.137Z"
   },
   {
    "duration": 324,
    "start_time": "2022-08-04T04:25:06.253Z"
   },
   {
    "duration": 68,
    "start_time": "2022-08-04T04:25:06.578Z"
   },
   {
    "duration": 349,
    "start_time": "2022-08-04T04:25:06.648Z"
   },
   {
    "duration": 270,
    "start_time": "2022-08-04T04:25:07.000Z"
   },
   {
    "duration": 168,
    "start_time": "2022-08-04T04:25:07.273Z"
   },
   {
    "duration": 311,
    "start_time": "2022-08-04T04:25:07.443Z"
   },
   {
    "duration": 3,
    "start_time": "2022-08-04T04:25:07.756Z"
   },
   {
    "duration": 925,
    "start_time": "2022-08-04T04:25:07.761Z"
   },
   {
    "duration": 8,
    "start_time": "2022-08-04T04:25:08.688Z"
   },
   {
    "duration": 895,
    "start_time": "2022-08-04T04:25:42.354Z"
   },
   {
    "duration": 62,
    "start_time": "2022-08-04T04:27:55.086Z"
   },
   {
    "duration": 58,
    "start_time": "2022-08-04T04:28:16.423Z"
   },
   {
    "duration": 64,
    "start_time": "2022-08-04T04:29:45.419Z"
   },
   {
    "duration": 1071,
    "start_time": "2022-08-04T04:30:06.515Z"
   },
   {
    "duration": 814,
    "start_time": "2022-08-04T04:30:32.719Z"
   },
   {
    "duration": 1048,
    "start_time": "2022-08-04T04:31:08.015Z"
   },
   {
    "duration": 4,
    "start_time": "2022-08-04T04:31:19.714Z"
   },
   {
    "duration": 124,
    "start_time": "2022-08-04T04:31:19.720Z"
   },
   {
    "duration": 25,
    "start_time": "2022-08-04T04:31:19.845Z"
   },
   {
    "duration": 312,
    "start_time": "2022-08-04T04:31:19.872Z"
   },
   {
    "duration": 137,
    "start_time": "2022-08-04T04:31:20.186Z"
   },
   {
    "duration": 308,
    "start_time": "2022-08-04T04:31:20.325Z"
   },
   {
    "duration": 47,
    "start_time": "2022-08-04T04:31:20.635Z"
   },
   {
    "duration": 347,
    "start_time": "2022-08-04T04:31:20.684Z"
   },
   {
    "duration": 238,
    "start_time": "2022-08-04T04:31:21.033Z"
   },
   {
    "duration": 158,
    "start_time": "2022-08-04T04:31:21.274Z"
   },
   {
    "duration": 347,
    "start_time": "2022-08-04T04:31:21.434Z"
   },
   {
    "duration": 3,
    "start_time": "2022-08-04T04:31:21.783Z"
   },
   {
    "duration": 905,
    "start_time": "2022-08-04T04:31:21.788Z"
   },
   {
    "duration": 915,
    "start_time": "2022-08-04T04:32:28.837Z"
   },
   {
    "duration": 889,
    "start_time": "2022-08-04T04:32:53.592Z"
   },
   {
    "duration": 1560,
    "start_time": "2022-08-04T04:36:56.027Z"
   },
   {
    "duration": 997,
    "start_time": "2022-08-04T04:39:27.697Z"
   },
   {
    "duration": 1349,
    "start_time": "2022-08-04T04:47:57.612Z"
   },
   {
    "duration": 834,
    "start_time": "2022-08-04T04:50:49.125Z"
   },
   {
    "duration": 1468,
    "start_time": "2022-08-04T04:51:10.672Z"
   },
   {
    "duration": 884,
    "start_time": "2022-08-04T04:52:27.636Z"
   },
   {
    "duration": 1001,
    "start_time": "2022-08-04T04:52:51.472Z"
   },
   {
    "duration": 1105,
    "start_time": "2022-08-04T04:53:05.715Z"
   },
   {
    "duration": 852,
    "start_time": "2022-08-04T04:53:46.683Z"
   },
   {
    "duration": 824,
    "start_time": "2022-08-04T04:54:07.439Z"
   },
   {
    "duration": 1090,
    "start_time": "2022-08-04T04:54:21.758Z"
   },
   {
    "duration": 1060,
    "start_time": "2022-08-04T04:54:50.469Z"
   },
   {
    "duration": 836,
    "start_time": "2022-08-04T04:55:12.649Z"
   },
   {
    "duration": 964,
    "start_time": "2022-08-04T04:55:28.148Z"
   },
   {
    "duration": 838,
    "start_time": "2022-08-04T04:55:36.236Z"
   },
   {
    "duration": 979,
    "start_time": "2022-08-04T04:55:51.607Z"
   },
   {
    "duration": 1360,
    "start_time": "2022-08-04T04:57:04.764Z"
   },
   {
    "duration": 1018,
    "start_time": "2022-08-04T05:02:08.100Z"
   },
   {
    "duration": 101,
    "start_time": "2022-08-04T05:15:48.158Z"
   },
   {
    "duration": 60,
    "start_time": "2022-08-04T05:16:04.852Z"
   },
   {
    "duration": 2189,
    "start_time": "2022-08-04T05:16:21.360Z"
   },
   {
    "duration": 1453,
    "start_time": "2022-08-04T05:16:50.273Z"
   },
   {
    "duration": 940,
    "start_time": "2022-08-04T05:20:16.376Z"
   },
   {
    "duration": 1407,
    "start_time": "2022-08-04T05:32:42.399Z"
   },
   {
    "duration": 1054,
    "start_time": "2022-08-04T05:33:02.917Z"
   },
   {
    "duration": 3,
    "start_time": "2022-08-04T05:33:21.776Z"
   },
   {
    "duration": 114,
    "start_time": "2022-08-04T05:33:21.781Z"
   },
   {
    "duration": 24,
    "start_time": "2022-08-04T05:33:21.897Z"
   },
   {
    "duration": 191,
    "start_time": "2022-08-04T05:33:21.923Z"
   },
   {
    "duration": 127,
    "start_time": "2022-08-04T05:33:22.115Z"
   },
   {
    "duration": 291,
    "start_time": "2022-08-04T05:33:22.244Z"
   },
   {
    "duration": 44,
    "start_time": "2022-08-04T05:33:22.536Z"
   },
   {
    "duration": 323,
    "start_time": "2022-08-04T05:33:22.582Z"
   },
   {
    "duration": 217,
    "start_time": "2022-08-04T05:33:22.907Z"
   },
   {
    "duration": 138,
    "start_time": "2022-08-04T05:33:23.125Z"
   },
   {
    "duration": 266,
    "start_time": "2022-08-04T05:33:23.264Z"
   },
   {
    "duration": 2,
    "start_time": "2022-08-04T05:33:23.532Z"
   },
   {
    "duration": 984,
    "start_time": "2022-08-04T05:33:23.536Z"
   },
   {
    "duration": 11,
    "start_time": "2022-08-04T05:33:24.522Z"
   },
   {
    "duration": 983,
    "start_time": "2022-08-04T05:34:42.797Z"
   },
   {
    "duration": 3,
    "start_time": "2022-08-04T05:35:11.974Z"
   },
   {
    "duration": 98,
    "start_time": "2022-08-04T05:35:11.979Z"
   },
   {
    "duration": 35,
    "start_time": "2022-08-04T05:35:12.079Z"
   },
   {
    "duration": 174,
    "start_time": "2022-08-04T05:35:12.116Z"
   },
   {
    "duration": 126,
    "start_time": "2022-08-04T05:35:12.292Z"
   },
   {
    "duration": 267,
    "start_time": "2022-08-04T05:35:12.420Z"
   },
   {
    "duration": 46,
    "start_time": "2022-08-04T05:35:12.689Z"
   },
   {
    "duration": 321,
    "start_time": "2022-08-04T05:35:12.736Z"
   },
   {
    "duration": 217,
    "start_time": "2022-08-04T05:35:13.060Z"
   },
   {
    "duration": 136,
    "start_time": "2022-08-04T05:35:13.278Z"
   },
   {
    "duration": 263,
    "start_time": "2022-08-04T05:35:13.415Z"
   },
   {
    "duration": 899,
    "start_time": "2022-08-04T05:35:13.679Z"
   },
   {
    "duration": 9,
    "start_time": "2022-08-04T05:35:14.579Z"
   },
   {
    "duration": 3,
    "start_time": "2022-08-04T05:44:22.252Z"
   },
   {
    "duration": 126,
    "start_time": "2022-08-04T05:44:22.257Z"
   },
   {
    "duration": 30,
    "start_time": "2022-08-04T05:44:22.384Z"
   },
   {
    "duration": 185,
    "start_time": "2022-08-04T05:44:22.417Z"
   },
   {
    "duration": 114,
    "start_time": "2022-08-04T05:44:22.604Z"
   },
   {
    "duration": 289,
    "start_time": "2022-08-04T05:44:22.719Z"
   },
   {
    "duration": 59,
    "start_time": "2022-08-04T05:44:23.010Z"
   },
   {
    "duration": 346,
    "start_time": "2022-08-04T05:44:23.070Z"
   },
   {
    "duration": 220,
    "start_time": "2022-08-04T05:44:23.419Z"
   },
   {
    "duration": 162,
    "start_time": "2022-08-04T05:44:23.641Z"
   },
   {
    "duration": 370,
    "start_time": "2022-08-04T05:44:23.805Z"
   },
   {
    "duration": 1178,
    "start_time": "2022-08-04T05:44:26.748Z"
   },
   {
    "duration": 1082,
    "start_time": "2022-08-04T05:46:59.704Z"
   },
   {
    "duration": 1189,
    "start_time": "2022-08-04T05:47:36.442Z"
   },
   {
    "duration": 3,
    "start_time": "2022-08-04T05:48:11.960Z"
   },
   {
    "duration": 108,
    "start_time": "2022-08-04T05:48:11.965Z"
   },
   {
    "duration": 35,
    "start_time": "2022-08-04T05:48:12.074Z"
   },
   {
    "duration": 168,
    "start_time": "2022-08-04T05:48:12.111Z"
   },
   {
    "duration": 115,
    "start_time": "2022-08-04T05:48:12.281Z"
   },
   {
    "duration": 272,
    "start_time": "2022-08-04T05:48:12.399Z"
   },
   {
    "duration": 54,
    "start_time": "2022-08-04T05:48:12.673Z"
   },
   {
    "duration": 322,
    "start_time": "2022-08-04T05:48:12.728Z"
   },
   {
    "duration": 218,
    "start_time": "2022-08-04T05:48:13.052Z"
   },
   {
    "duration": 134,
    "start_time": "2022-08-04T05:48:13.272Z"
   },
   {
    "duration": 254,
    "start_time": "2022-08-04T05:48:13.408Z"
   },
   {
    "duration": 1146,
    "start_time": "2022-08-04T05:48:14.349Z"
   },
   {
    "duration": 926,
    "start_time": "2022-08-04T05:48:54.519Z"
   },
   {
    "duration": 970,
    "start_time": "2022-08-04T05:49:12.457Z"
   },
   {
    "duration": 4,
    "start_time": "2022-08-04T05:49:23.924Z"
   },
   {
    "duration": 102,
    "start_time": "2022-08-04T05:49:23.930Z"
   },
   {
    "duration": 24,
    "start_time": "2022-08-04T05:49:24.034Z"
   },
   {
    "duration": 185,
    "start_time": "2022-08-04T05:49:24.059Z"
   },
   {
    "duration": 136,
    "start_time": "2022-08-04T05:49:24.245Z"
   },
   {
    "duration": 286,
    "start_time": "2022-08-04T05:49:24.382Z"
   },
   {
    "duration": 56,
    "start_time": "2022-08-04T05:49:24.670Z"
   },
   {
    "duration": 318,
    "start_time": "2022-08-04T05:49:24.727Z"
   },
   {
    "duration": 310,
    "start_time": "2022-08-04T05:49:25.048Z"
   },
   {
    "duration": 137,
    "start_time": "2022-08-04T05:49:25.359Z"
   },
   {
    "duration": 255,
    "start_time": "2022-08-04T05:49:25.499Z"
   },
   {
    "duration": 1054,
    "start_time": "2022-08-04T05:49:27.032Z"
   },
   {
    "duration": 3,
    "start_time": "2022-08-04T05:50:48.086Z"
   },
   {
    "duration": 109,
    "start_time": "2022-08-04T05:50:48.090Z"
   },
   {
    "duration": 45,
    "start_time": "2022-08-04T05:50:48.201Z"
   },
   {
    "duration": 172,
    "start_time": "2022-08-04T05:50:48.248Z"
   },
   {
    "duration": 113,
    "start_time": "2022-08-04T05:50:48.421Z"
   },
   {
    "duration": 308,
    "start_time": "2022-08-04T05:50:48.535Z"
   },
   {
    "duration": 58,
    "start_time": "2022-08-04T05:50:48.845Z"
   },
   {
    "duration": 318,
    "start_time": "2022-08-04T05:50:48.904Z"
   },
   {
    "duration": 231,
    "start_time": "2022-08-04T05:50:49.224Z"
   },
   {
    "duration": 131,
    "start_time": "2022-08-04T05:50:49.457Z"
   },
   {
    "duration": 256,
    "start_time": "2022-08-04T05:50:49.590Z"
   },
   {
    "duration": 1000,
    "start_time": "2022-08-04T05:50:50.648Z"
   },
   {
    "duration": 3,
    "start_time": "2022-08-04T05:51:23.893Z"
   },
   {
    "duration": 119,
    "start_time": "2022-08-04T05:51:23.899Z"
   },
   {
    "duration": 28,
    "start_time": "2022-08-04T05:51:24.019Z"
   },
   {
    "duration": 182,
    "start_time": "2022-08-04T05:51:24.049Z"
   },
   {
    "duration": 117,
    "start_time": "2022-08-04T05:51:24.233Z"
   },
   {
    "duration": 271,
    "start_time": "2022-08-04T05:51:24.352Z"
   },
   {
    "duration": 141,
    "start_time": "2022-08-04T05:51:24.624Z"
   },
   {
    "duration": 315,
    "start_time": "2022-08-04T05:51:24.767Z"
   },
   {
    "duration": 215,
    "start_time": "2022-08-04T05:51:25.085Z"
   },
   {
    "duration": 133,
    "start_time": "2022-08-04T05:51:25.301Z"
   },
   {
    "duration": 247,
    "start_time": "2022-08-04T05:51:25.435Z"
   },
   {
    "duration": 952,
    "start_time": "2022-08-04T05:51:26.707Z"
   },
   {
    "duration": 3,
    "start_time": "2022-08-04T05:51:48.784Z"
   },
   {
    "duration": 102,
    "start_time": "2022-08-04T05:51:48.788Z"
   },
   {
    "duration": 23,
    "start_time": "2022-08-04T05:51:48.892Z"
   },
   {
    "duration": 178,
    "start_time": "2022-08-04T05:51:48.917Z"
   },
   {
    "duration": 111,
    "start_time": "2022-08-04T05:51:49.097Z"
   },
   {
    "duration": 280,
    "start_time": "2022-08-04T05:51:49.210Z"
   },
   {
    "duration": 51,
    "start_time": "2022-08-04T05:51:49.491Z"
   },
   {
    "duration": 320,
    "start_time": "2022-08-04T05:51:49.544Z"
   },
   {
    "duration": 234,
    "start_time": "2022-08-04T05:51:49.866Z"
   },
   {
    "duration": 135,
    "start_time": "2022-08-04T05:51:50.101Z"
   },
   {
    "duration": 262,
    "start_time": "2022-08-04T05:51:50.238Z"
   },
   {
    "duration": 1284,
    "start_time": "2022-08-04T05:51:53.131Z"
   },
   {
    "duration": 654,
    "start_time": "2022-08-04T06:05:17.760Z"
   },
   {
    "duration": 4,
    "start_time": "2022-08-04T06:05:37.908Z"
   },
   {
    "duration": 116,
    "start_time": "2022-08-04T06:05:37.922Z"
   },
   {
    "duration": 32,
    "start_time": "2022-08-04T06:05:38.040Z"
   },
   {
    "duration": 204,
    "start_time": "2022-08-04T06:05:38.074Z"
   },
   {
    "duration": 129,
    "start_time": "2022-08-04T06:05:38.280Z"
   },
   {
    "duration": 406,
    "start_time": "2022-08-04T06:05:38.412Z"
   },
   {
    "duration": 54,
    "start_time": "2022-08-04T06:05:38.820Z"
   },
   {
    "duration": 357,
    "start_time": "2022-08-04T06:05:38.876Z"
   },
   {
    "duration": 296,
    "start_time": "2022-08-04T06:05:39.235Z"
   },
   {
    "duration": 143,
    "start_time": "2022-08-04T06:05:39.532Z"
   },
   {
    "duration": 1277,
    "start_time": "2022-08-04T06:05:39.677Z"
   },
   {
    "duration": 66,
    "start_time": "2022-08-04T06:05:44.896Z"
   },
   {
    "duration": 217,
    "start_time": "2022-08-04T06:07:19.825Z"
   },
   {
    "duration": 3,
    "start_time": "2022-08-04T06:07:44.038Z"
   },
   {
    "duration": 109,
    "start_time": "2022-08-04T06:07:44.043Z"
   },
   {
    "duration": 23,
    "start_time": "2022-08-04T06:07:44.154Z"
   },
   {
    "duration": 185,
    "start_time": "2022-08-04T06:07:44.179Z"
   },
   {
    "duration": 120,
    "start_time": "2022-08-04T06:07:44.366Z"
   },
   {
    "duration": 277,
    "start_time": "2022-08-04T06:07:44.488Z"
   },
   {
    "duration": 55,
    "start_time": "2022-08-04T06:07:44.767Z"
   },
   {
    "duration": 319,
    "start_time": "2022-08-04T06:07:44.824Z"
   },
   {
    "duration": 226,
    "start_time": "2022-08-04T06:07:45.145Z"
   },
   {
    "duration": 136,
    "start_time": "2022-08-04T06:07:45.372Z"
   },
   {
    "duration": 1023,
    "start_time": "2022-08-04T06:07:45.510Z"
   },
   {
    "duration": 238,
    "start_time": "2022-08-04T06:07:49.171Z"
   },
   {
    "duration": 238,
    "start_time": "2022-08-04T06:08:20.622Z"
   },
   {
    "duration": 239,
    "start_time": "2022-08-04T06:10:08.179Z"
   },
   {
    "duration": 236,
    "start_time": "2022-08-04T06:10:35.372Z"
   },
   {
    "duration": 3,
    "start_time": "2022-08-04T06:11:08.207Z"
   },
   {
    "duration": 100,
    "start_time": "2022-08-04T06:11:08.212Z"
   },
   {
    "duration": 24,
    "start_time": "2022-08-04T06:11:08.314Z"
   },
   {
    "duration": 185,
    "start_time": "2022-08-04T06:11:08.340Z"
   },
   {
    "duration": 230,
    "start_time": "2022-08-04T06:11:08.528Z"
   },
   {
    "duration": 285,
    "start_time": "2022-08-04T06:11:08.760Z"
   },
   {
    "duration": 54,
    "start_time": "2022-08-04T06:11:09.047Z"
   },
   {
    "duration": 324,
    "start_time": "2022-08-04T06:11:09.102Z"
   },
   {
    "duration": 234,
    "start_time": "2022-08-04T06:11:09.427Z"
   },
   {
    "duration": 138,
    "start_time": "2022-08-04T06:11:09.663Z"
   },
   {
    "duration": 268,
    "start_time": "2022-08-04T06:11:09.803Z"
   },
   {
    "duration": 250,
    "start_time": "2022-08-04T06:11:13.221Z"
   },
   {
    "duration": 276,
    "start_time": "2022-08-04T06:12:14.252Z"
   },
   {
    "duration": 3,
    "start_time": "2022-08-04T06:12:26.576Z"
   },
   {
    "duration": 121,
    "start_time": "2022-08-04T06:12:26.581Z"
   },
   {
    "duration": 24,
    "start_time": "2022-08-04T06:12:26.703Z"
   },
   {
    "duration": 189,
    "start_time": "2022-08-04T06:12:26.728Z"
   },
   {
    "duration": 120,
    "start_time": "2022-08-04T06:12:26.919Z"
   },
   {
    "duration": 287,
    "start_time": "2022-08-04T06:12:27.041Z"
   },
   {
    "duration": 46,
    "start_time": "2022-08-04T06:12:27.329Z"
   },
   {
    "duration": 325,
    "start_time": "2022-08-04T06:12:27.376Z"
   },
   {
    "duration": 320,
    "start_time": "2022-08-04T06:12:27.703Z"
   },
   {
    "duration": 142,
    "start_time": "2022-08-04T06:12:28.025Z"
   },
   {
    "duration": 943,
    "start_time": "2022-08-04T06:12:28.169Z"
   },
   {
    "duration": 277,
    "start_time": "2022-08-04T06:12:59.524Z"
   },
   {
    "duration": 3,
    "start_time": "2022-08-04T06:13:07.491Z"
   },
   {
    "duration": 110,
    "start_time": "2022-08-04T06:13:07.496Z"
   },
   {
    "duration": 25,
    "start_time": "2022-08-04T06:13:07.608Z"
   },
   {
    "duration": 180,
    "start_time": "2022-08-04T06:13:07.634Z"
   },
   {
    "duration": 115,
    "start_time": "2022-08-04T06:13:07.816Z"
   },
   {
    "duration": 297,
    "start_time": "2022-08-04T06:13:07.933Z"
   },
   {
    "duration": 49,
    "start_time": "2022-08-04T06:13:08.232Z"
   },
   {
    "duration": 330,
    "start_time": "2022-08-04T06:13:08.283Z"
   },
   {
    "duration": 232,
    "start_time": "2022-08-04T06:13:08.615Z"
   },
   {
    "duration": 145,
    "start_time": "2022-08-04T06:13:08.849Z"
   },
   {
    "duration": 987,
    "start_time": "2022-08-04T06:13:08.996Z"
   },
   {
    "duration": 247,
    "start_time": "2022-08-04T06:13:11.666Z"
   },
   {
    "duration": 3,
    "start_time": "2022-08-04T06:14:03.441Z"
   },
   {
    "duration": 114,
    "start_time": "2022-08-04T06:14:03.446Z"
   },
   {
    "duration": 25,
    "start_time": "2022-08-04T06:14:03.562Z"
   },
   {
    "duration": 168,
    "start_time": "2022-08-04T06:14:03.615Z"
   },
   {
    "duration": 137,
    "start_time": "2022-08-04T06:14:03.785Z"
   },
   {
    "duration": 304,
    "start_time": "2022-08-04T06:14:03.924Z"
   },
   {
    "duration": 163,
    "start_time": "2022-08-04T06:14:04.230Z"
   },
   {
    "duration": 333,
    "start_time": "2022-08-04T06:14:04.395Z"
   },
   {
    "duration": 230,
    "start_time": "2022-08-04T06:14:04.730Z"
   },
   {
    "duration": 155,
    "start_time": "2022-08-04T06:14:04.962Z"
   },
   {
    "duration": 1007,
    "start_time": "2022-08-04T06:14:05.118Z"
   },
   {
    "duration": 245,
    "start_time": "2022-08-04T06:14:09.253Z"
   },
   {
    "duration": 247,
    "start_time": "2022-08-04T06:14:29.624Z"
   },
   {
    "duration": 4,
    "start_time": "2022-08-04T06:14:33.520Z"
   },
   {
    "duration": 184,
    "start_time": "2022-08-04T06:14:33.525Z"
   },
   {
    "duration": 31,
    "start_time": "2022-08-04T06:14:33.713Z"
   },
   {
    "duration": 209,
    "start_time": "2022-08-04T06:14:33.746Z"
   },
   {
    "duration": 160,
    "start_time": "2022-08-04T06:14:33.956Z"
   },
   {
    "duration": 293,
    "start_time": "2022-08-04T06:14:34.118Z"
   },
   {
    "duration": 50,
    "start_time": "2022-08-04T06:14:34.412Z"
   },
   {
    "duration": 327,
    "start_time": "2022-08-04T06:14:34.463Z"
   },
   {
    "duration": 259,
    "start_time": "2022-08-04T06:14:34.792Z"
   },
   {
    "duration": 157,
    "start_time": "2022-08-04T06:14:35.053Z"
   },
   {
    "duration": 265,
    "start_time": "2022-08-04T06:14:39.131Z"
   },
   {
    "duration": 37,
    "start_time": "2022-08-04T06:18:20.366Z"
   },
   {
    "duration": 272,
    "start_time": "2022-08-04T06:18:31.992Z"
   },
   {
    "duration": 378,
    "start_time": "2022-08-04T06:18:48.639Z"
   },
   {
    "duration": 3,
    "start_time": "2022-08-04T06:19:06.186Z"
   },
   {
    "duration": 106,
    "start_time": "2022-08-04T06:19:06.191Z"
   },
   {
    "duration": 29,
    "start_time": "2022-08-04T06:19:06.299Z"
   },
   {
    "duration": 187,
    "start_time": "2022-08-04T06:19:06.330Z"
   },
   {
    "duration": 118,
    "start_time": "2022-08-04T06:19:06.520Z"
   },
   {
    "duration": 302,
    "start_time": "2022-08-04T06:19:06.641Z"
   },
   {
    "duration": 68,
    "start_time": "2022-08-04T06:19:06.946Z"
   },
   {
    "duration": 321,
    "start_time": "2022-08-04T06:19:07.015Z"
   },
   {
    "duration": 231,
    "start_time": "2022-08-04T06:19:07.337Z"
   },
   {
    "duration": 149,
    "start_time": "2022-08-04T06:19:07.570Z"
   },
   {
    "duration": 277,
    "start_time": "2022-08-04T06:19:09.940Z"
   },
   {
    "duration": 244,
    "start_time": "2022-08-04T06:19:21.983Z"
   },
   {
    "duration": 260,
    "start_time": "2022-08-04T06:19:51.681Z"
   },
   {
    "duration": 1153,
    "start_time": "2022-08-04T06:20:40.469Z"
   },
   {
    "duration": 880,
    "start_time": "2022-08-04T06:20:48.019Z"
   },
   {
    "duration": 3,
    "start_time": "2022-08-04T06:20:59.319Z"
   },
   {
    "duration": 112,
    "start_time": "2022-08-04T06:20:59.324Z"
   },
   {
    "duration": 24,
    "start_time": "2022-08-04T06:20:59.437Z"
   },
   {
    "duration": 188,
    "start_time": "2022-08-04T06:20:59.462Z"
   },
   {
    "duration": 118,
    "start_time": "2022-08-04T06:20:59.652Z"
   },
   {
    "duration": 418,
    "start_time": "2022-08-04T06:20:59.771Z"
   },
   {
    "duration": 56,
    "start_time": "2022-08-04T06:21:00.191Z"
   },
   {
    "duration": 337,
    "start_time": "2022-08-04T06:21:00.249Z"
   },
   {
    "duration": 243,
    "start_time": "2022-08-04T06:21:00.588Z"
   },
   {
    "duration": 164,
    "start_time": "2022-08-04T06:21:00.833Z"
   },
   {
    "duration": 12,
    "start_time": "2022-08-04T06:21:01.002Z"
   },
   {
    "duration": 0,
    "start_time": "2022-08-04T06:21:01.016Z"
   },
   {
    "duration": 1008,
    "start_time": "2022-08-04T06:21:02.371Z"
   },
   {
    "duration": 908,
    "start_time": "2022-08-04T06:21:58.219Z"
   },
   {
    "duration": 940,
    "start_time": "2022-08-04T06:22:24.246Z"
   },
   {
    "duration": 3,
    "start_time": "2022-08-04T06:22:28.396Z"
   },
   {
    "duration": 115,
    "start_time": "2022-08-04T06:22:28.401Z"
   },
   {
    "duration": 27,
    "start_time": "2022-08-04T06:22:28.518Z"
   },
   {
    "duration": 193,
    "start_time": "2022-08-04T06:22:28.547Z"
   },
   {
    "duration": 159,
    "start_time": "2022-08-04T06:22:28.743Z"
   },
   {
    "duration": 329,
    "start_time": "2022-08-04T06:22:28.905Z"
   },
   {
    "duration": 64,
    "start_time": "2022-08-04T06:22:29.237Z"
   },
   {
    "duration": 353,
    "start_time": "2022-08-04T06:22:29.303Z"
   },
   {
    "duration": 220,
    "start_time": "2022-08-04T06:22:29.658Z"
   },
   {
    "duration": 141,
    "start_time": "2022-08-04T06:22:29.879Z"
   },
   {
    "duration": 6,
    "start_time": "2022-08-04T06:22:30.022Z"
   },
   {
    "duration": 955,
    "start_time": "2022-08-04T06:22:30.543Z"
   },
   {
    "duration": 1566,
    "start_time": "2022-08-04T18:27:42.155Z"
   },
   {
    "duration": 208,
    "start_time": "2022-08-04T18:27:43.724Z"
   },
   {
    "duration": 25,
    "start_time": "2022-08-04T18:27:43.933Z"
   },
   {
    "duration": 273,
    "start_time": "2022-08-04T18:27:43.960Z"
   },
   {
    "duration": 136,
    "start_time": "2022-08-04T18:27:44.235Z"
   },
   {
    "duration": 354,
    "start_time": "2022-08-04T18:27:44.379Z"
   },
   {
    "duration": 64,
    "start_time": "2022-08-04T18:27:44.735Z"
   },
   {
    "duration": 409,
    "start_time": "2022-08-04T18:27:44.801Z"
   },
   {
    "duration": 290,
    "start_time": "2022-08-04T18:27:45.213Z"
   },
   {
    "duration": 189,
    "start_time": "2022-08-04T18:27:45.506Z"
   },
   {
    "duration": 5,
    "start_time": "2022-08-04T18:27:45.696Z"
   },
   {
    "duration": 0,
    "start_time": "2022-08-04T18:27:45.703Z"
   },
   {
    "duration": 0,
    "start_time": "2022-08-04T18:27:45.705Z"
   },
   {
    "duration": 0,
    "start_time": "2022-08-04T18:27:45.706Z"
   },
   {
    "duration": 4,
    "start_time": "2022-08-04T18:28:39.833Z"
   },
   {
    "duration": 170,
    "start_time": "2022-08-04T18:28:39.839Z"
   },
   {
    "duration": 27,
    "start_time": "2022-08-04T18:28:40.011Z"
   },
   {
    "duration": 272,
    "start_time": "2022-08-04T18:28:40.040Z"
   },
   {
    "duration": 162,
    "start_time": "2022-08-04T18:28:40.314Z"
   },
   {
    "duration": 444,
    "start_time": "2022-08-04T18:28:40.483Z"
   },
   {
    "duration": 72,
    "start_time": "2022-08-04T18:28:40.929Z"
   },
   {
    "duration": 385,
    "start_time": "2022-08-04T18:28:41.003Z"
   },
   {
    "duration": 312,
    "start_time": "2022-08-04T18:28:41.390Z"
   },
   {
    "duration": 184,
    "start_time": "2022-08-04T18:28:41.704Z"
   },
   {
    "duration": 5,
    "start_time": "2022-08-04T18:28:41.890Z"
   },
   {
    "duration": 0,
    "start_time": "2022-08-04T18:28:41.897Z"
   },
   {
    "duration": 0,
    "start_time": "2022-08-04T18:28:41.899Z"
   },
   {
    "duration": 0,
    "start_time": "2022-08-04T18:28:41.900Z"
   },
   {
    "duration": 93,
    "start_time": "2022-08-04T18:29:13.141Z"
   },
   {
    "duration": 4,
    "start_time": "2022-08-04T18:29:25.628Z"
   },
   {
    "duration": 537,
    "start_time": "2022-08-04T18:29:54.238Z"
   },
   {
    "duration": 310,
    "start_time": "2022-08-04T18:30:28.406Z"
   },
   {
    "duration": 309,
    "start_time": "2022-08-04T18:30:57.343Z"
   },
   {
    "duration": 315,
    "start_time": "2022-08-04T18:31:14.182Z"
   },
   {
    "duration": 290,
    "start_time": "2022-08-04T18:31:23.565Z"
   },
   {
    "duration": 304,
    "start_time": "2022-08-04T18:31:34.288Z"
   },
   {
    "duration": 332,
    "start_time": "2022-08-04T18:31:56.654Z"
   },
   {
    "duration": 3,
    "start_time": "2022-08-04T18:34:42.908Z"
   },
   {
    "duration": 128,
    "start_time": "2022-08-04T18:34:42.912Z"
   },
   {
    "duration": 52,
    "start_time": "2022-08-04T18:34:43.041Z"
   },
   {
    "duration": 260,
    "start_time": "2022-08-04T18:34:43.094Z"
   },
   {
    "duration": 276,
    "start_time": "2022-08-04T18:34:43.356Z"
   },
   {
    "duration": 368,
    "start_time": "2022-08-04T18:34:43.635Z"
   },
   {
    "duration": 72,
    "start_time": "2022-08-04T18:34:44.005Z"
   },
   {
    "duration": 406,
    "start_time": "2022-08-04T18:34:44.080Z"
   },
   {
    "duration": 300,
    "start_time": "2022-08-04T18:34:44.491Z"
   },
   {
    "duration": 184,
    "start_time": "2022-08-04T18:34:44.793Z"
   },
   {
    "duration": 1350,
    "start_time": "2022-08-04T18:34:47.771Z"
   },
   {
    "duration": 10,
    "start_time": "2022-08-04T18:35:57.038Z"
   },
   {
    "duration": 11,
    "start_time": "2022-08-04T18:36:15.588Z"
   },
   {
    "duration": 4,
    "start_time": "2022-08-04T18:36:29.232Z"
   },
   {
    "duration": 137,
    "start_time": "2022-08-04T18:36:29.238Z"
   },
   {
    "duration": 35,
    "start_time": "2022-08-04T18:36:29.377Z"
   },
   {
    "duration": 242,
    "start_time": "2022-08-04T18:36:29.414Z"
   },
   {
    "duration": 163,
    "start_time": "2022-08-04T18:36:29.659Z"
   },
   {
    "duration": 385,
    "start_time": "2022-08-04T18:36:29.824Z"
   },
   {
    "duration": 84,
    "start_time": "2022-08-04T18:36:30.210Z"
   },
   {
    "duration": 414,
    "start_time": "2022-08-04T18:36:30.296Z"
   },
   {
    "duration": 295,
    "start_time": "2022-08-04T18:36:30.713Z"
   },
   {
    "duration": 180,
    "start_time": "2022-08-04T18:36:31.010Z"
   },
   {
    "duration": 1073,
    "start_time": "2022-08-04T18:36:31.194Z"
   },
   {
    "duration": 10,
    "start_time": "2022-08-04T18:36:36.933Z"
   },
   {
    "duration": 34,
    "start_time": "2022-08-04T18:37:50.267Z"
   },
   {
    "duration": 20,
    "start_time": "2022-08-04T18:38:40.860Z"
   },
   {
    "duration": 5,
    "start_time": "2022-08-04T18:40:06.507Z"
   },
   {
    "duration": 160,
    "start_time": "2022-08-04T18:40:06.515Z"
   },
   {
    "duration": 38,
    "start_time": "2022-08-04T18:40:06.677Z"
   },
   {
    "duration": 325,
    "start_time": "2022-08-04T18:40:06.718Z"
   },
   {
    "duration": 155,
    "start_time": "2022-08-04T18:40:07.045Z"
   },
   {
    "duration": 482,
    "start_time": "2022-08-04T18:40:07.202Z"
   },
   {
    "duration": 58,
    "start_time": "2022-08-04T18:40:07.686Z"
   },
   {
    "duration": 441,
    "start_time": "2022-08-04T18:40:07.746Z"
   },
   {
    "duration": 289,
    "start_time": "2022-08-04T18:40:08.190Z"
   },
   {
    "duration": 175,
    "start_time": "2022-08-04T18:40:08.481Z"
   },
   {
    "duration": 1122,
    "start_time": "2022-08-04T18:40:08.658Z"
   },
   {
    "duration": 318,
    "start_time": "2022-08-04T18:40:09.832Z"
   },
   {
    "duration": 1136,
    "start_time": "2022-08-04T18:41:07.659Z"
   },
   {
    "duration": 1077,
    "start_time": "2022-08-04T18:42:26.006Z"
   },
   {
    "duration": 3,
    "start_time": "2022-08-04T18:42:33.131Z"
   },
   {
    "duration": 162,
    "start_time": "2022-08-04T18:42:33.137Z"
   },
   {
    "duration": 27,
    "start_time": "2022-08-04T18:42:33.301Z"
   },
   {
    "duration": 245,
    "start_time": "2022-08-04T18:42:33.330Z"
   },
   {
    "duration": 143,
    "start_time": "2022-08-04T18:42:33.584Z"
   },
   {
    "duration": 391,
    "start_time": "2022-08-04T18:42:33.729Z"
   },
   {
    "duration": 75,
    "start_time": "2022-08-04T18:42:34.122Z"
   },
   {
    "duration": 420,
    "start_time": "2022-08-04T18:42:34.199Z"
   },
   {
    "duration": 308,
    "start_time": "2022-08-04T18:42:34.621Z"
   },
   {
    "duration": 191,
    "start_time": "2022-08-04T18:42:34.932Z"
   },
   {
    "duration": 1250,
    "start_time": "2022-08-04T18:42:36.875Z"
   },
   {
    "duration": 6,
    "start_time": "2022-08-04T18:43:03.789Z"
   },
   {
    "duration": 129,
    "start_time": "2022-08-04T18:43:03.798Z"
   },
   {
    "duration": 39,
    "start_time": "2022-08-04T18:43:03.928Z"
   },
   {
    "duration": 235,
    "start_time": "2022-08-04T18:43:03.970Z"
   },
   {
    "duration": 145,
    "start_time": "2022-08-04T18:43:04.207Z"
   },
   {
    "duration": 486,
    "start_time": "2022-08-04T18:43:04.354Z"
   },
   {
    "duration": 63,
    "start_time": "2022-08-04T18:43:04.842Z"
   },
   {
    "duration": 429,
    "start_time": "2022-08-04T18:43:04.907Z"
   },
   {
    "duration": 318,
    "start_time": "2022-08-04T18:43:05.338Z"
   },
   {
    "duration": 187,
    "start_time": "2022-08-04T18:43:05.658Z"
   },
   {
    "duration": 1401,
    "start_time": "2022-08-04T18:43:10.733Z"
   },
   {
    "duration": 4,
    "start_time": "2022-08-04T18:45:28.937Z"
   },
   {
    "duration": 175,
    "start_time": "2022-08-04T18:45:28.944Z"
   },
   {
    "duration": 55,
    "start_time": "2022-08-04T18:45:29.122Z"
   },
   {
    "duration": 270,
    "start_time": "2022-08-04T18:45:29.179Z"
   },
   {
    "duration": 165,
    "start_time": "2022-08-04T18:45:29.452Z"
   },
   {
    "duration": 385,
    "start_time": "2022-08-04T18:45:29.619Z"
   },
   {
    "duration": 90,
    "start_time": "2022-08-04T18:45:30.007Z"
   },
   {
    "duration": 412,
    "start_time": "2022-08-04T18:45:30.099Z"
   },
   {
    "duration": 305,
    "start_time": "2022-08-04T18:45:30.513Z"
   },
   {
    "duration": 204,
    "start_time": "2022-08-04T18:45:30.820Z"
   },
   {
    "duration": 1065,
    "start_time": "2022-08-04T18:45:31.766Z"
   },
   {
    "duration": 1448,
    "start_time": "2022-08-04T18:46:12.482Z"
   },
   {
    "duration": 1205,
    "start_time": "2022-08-04T18:47:42.309Z"
   },
   {
    "duration": 1251,
    "start_time": "2022-08-04T18:49:32.905Z"
   },
   {
    "duration": 5,
    "start_time": "2022-08-04T18:50:34.370Z"
   },
   {
    "duration": 145,
    "start_time": "2022-08-04T18:50:34.379Z"
   },
   {
    "duration": 45,
    "start_time": "2022-08-04T18:50:34.526Z"
   },
   {
    "duration": 219,
    "start_time": "2022-08-04T18:50:34.574Z"
   },
   {
    "duration": 143,
    "start_time": "2022-08-04T18:50:34.795Z"
   },
   {
    "duration": 360,
    "start_time": "2022-08-04T18:50:34.940Z"
   },
   {
    "duration": 180,
    "start_time": "2022-08-04T18:50:35.302Z"
   },
   {
    "duration": 397,
    "start_time": "2022-08-04T18:50:35.485Z"
   },
   {
    "duration": 298,
    "start_time": "2022-08-04T18:50:35.883Z"
   },
   {
    "duration": 161,
    "start_time": "2022-08-04T18:50:36.185Z"
   },
   {
    "duration": 1243,
    "start_time": "2022-08-04T18:50:37.098Z"
   },
   {
    "duration": 4,
    "start_time": "2022-08-04T18:50:47.103Z"
   },
   {
    "duration": 122,
    "start_time": "2022-08-04T18:50:47.109Z"
   },
   {
    "duration": 54,
    "start_time": "2022-08-04T18:50:47.233Z"
   },
   {
    "duration": 214,
    "start_time": "2022-08-04T18:50:47.289Z"
   },
   {
    "duration": 144,
    "start_time": "2022-08-04T18:50:47.505Z"
   },
   {
    "duration": 345,
    "start_time": "2022-08-04T18:50:47.651Z"
   },
   {
    "duration": 49,
    "start_time": "2022-08-04T18:50:47.998Z"
   },
   {
    "duration": 382,
    "start_time": "2022-08-04T18:50:48.071Z"
   },
   {
    "duration": 287,
    "start_time": "2022-08-04T18:50:48.456Z"
   },
   {
    "duration": 173,
    "start_time": "2022-08-04T18:50:48.744Z"
   },
   {
    "duration": 1124,
    "start_time": "2022-08-04T18:50:48.936Z"
   },
   {
    "duration": 4,
    "start_time": "2022-08-04T18:51:37.581Z"
   },
   {
    "duration": 140,
    "start_time": "2022-08-04T18:51:37.587Z"
   },
   {
    "duration": 52,
    "start_time": "2022-08-04T18:51:37.729Z"
   },
   {
    "duration": 227,
    "start_time": "2022-08-04T18:51:37.783Z"
   },
   {
    "duration": 147,
    "start_time": "2022-08-04T18:51:38.011Z"
   },
   {
    "duration": 379,
    "start_time": "2022-08-04T18:51:38.159Z"
   },
   {
    "duration": 78,
    "start_time": "2022-08-04T18:51:38.539Z"
   },
   {
    "duration": 481,
    "start_time": "2022-08-04T18:51:38.619Z"
   },
   {
    "duration": 408,
    "start_time": "2022-08-04T18:51:39.102Z"
   },
   {
    "duration": 172,
    "start_time": "2022-08-04T18:51:39.513Z"
   },
   {
    "duration": 1331,
    "start_time": "2022-08-04T18:51:39.757Z"
   },
   {
    "duration": 4,
    "start_time": "2022-08-04T18:53:08.562Z"
   },
   {
    "duration": 150,
    "start_time": "2022-08-04T18:53:08.572Z"
   },
   {
    "duration": 29,
    "start_time": "2022-08-04T18:53:08.724Z"
   },
   {
    "duration": 228,
    "start_time": "2022-08-04T18:53:08.767Z"
   },
   {
    "duration": 188,
    "start_time": "2022-08-04T18:53:08.997Z"
   },
   {
    "duration": 354,
    "start_time": "2022-08-04T18:53:09.187Z"
   },
   {
    "duration": 65,
    "start_time": "2022-08-04T18:53:09.543Z"
   },
   {
    "duration": 480,
    "start_time": "2022-08-04T18:53:09.610Z"
   },
   {
    "duration": 302,
    "start_time": "2022-08-04T18:53:10.093Z"
   },
   {
    "duration": 224,
    "start_time": "2022-08-04T18:53:10.402Z"
   },
   {
    "duration": 1175,
    "start_time": "2022-08-04T18:53:10.628Z"
   },
   {
    "duration": 3,
    "start_time": "2022-08-04T18:53:28.244Z"
   },
   {
    "duration": 128,
    "start_time": "2022-08-04T18:53:28.250Z"
   },
   {
    "duration": 29,
    "start_time": "2022-08-04T18:53:28.380Z"
   },
   {
    "duration": 214,
    "start_time": "2022-08-04T18:53:28.411Z"
   },
   {
    "duration": 156,
    "start_time": "2022-08-04T18:53:28.628Z"
   },
   {
    "duration": 353,
    "start_time": "2022-08-04T18:53:28.786Z"
   },
   {
    "duration": 83,
    "start_time": "2022-08-04T18:53:29.141Z"
   },
   {
    "duration": 429,
    "start_time": "2022-08-04T18:53:29.226Z"
   },
   {
    "duration": 287,
    "start_time": "2022-08-04T18:53:29.657Z"
   },
   {
    "duration": 186,
    "start_time": "2022-08-04T18:53:29.946Z"
   },
   {
    "duration": 1291,
    "start_time": "2022-08-04T18:53:30.851Z"
   },
   {
    "duration": 4,
    "start_time": "2022-08-04T18:54:10.133Z"
   },
   {
    "duration": 154,
    "start_time": "2022-08-04T18:54:10.140Z"
   },
   {
    "duration": 49,
    "start_time": "2022-08-04T18:54:10.296Z"
   },
   {
    "duration": 356,
    "start_time": "2022-08-04T18:54:10.348Z"
   },
   {
    "duration": 160,
    "start_time": "2022-08-04T18:54:10.706Z"
   },
   {
    "duration": 364,
    "start_time": "2022-08-04T18:54:10.875Z"
   },
   {
    "duration": 71,
    "start_time": "2022-08-04T18:54:11.241Z"
   },
   {
    "duration": 424,
    "start_time": "2022-08-04T18:54:11.313Z"
   },
   {
    "duration": 297,
    "start_time": "2022-08-04T18:54:11.738Z"
   },
   {
    "duration": 195,
    "start_time": "2022-08-04T18:54:12.038Z"
   },
   {
    "duration": 5,
    "start_time": "2022-08-04T18:54:37.835Z"
   },
   {
    "duration": 198,
    "start_time": "2022-08-04T18:54:37.843Z"
   },
   {
    "duration": 52,
    "start_time": "2022-08-04T18:54:38.043Z"
   },
   {
    "duration": 241,
    "start_time": "2022-08-04T18:54:38.097Z"
   },
   {
    "duration": 156,
    "start_time": "2022-08-04T18:54:38.341Z"
   },
   {
    "duration": 402,
    "start_time": "2022-08-04T18:54:38.500Z"
   },
   {
    "duration": 90,
    "start_time": "2022-08-04T18:54:38.904Z"
   },
   {
    "duration": 421,
    "start_time": "2022-08-04T18:54:38.996Z"
   },
   {
    "duration": 378,
    "start_time": "2022-08-04T18:54:39.418Z"
   },
   {
    "duration": 188,
    "start_time": "2022-08-04T18:54:39.798Z"
   },
   {
    "duration": 1435,
    "start_time": "2022-08-04T18:54:40.264Z"
   },
   {
    "duration": 3,
    "start_time": "2022-08-04T18:59:15.985Z"
   },
   {
    "duration": 129,
    "start_time": "2022-08-04T18:59:15.990Z"
   },
   {
    "duration": 54,
    "start_time": "2022-08-04T18:59:16.121Z"
   },
   {
    "duration": 219,
    "start_time": "2022-08-04T18:59:16.180Z"
   },
   {
    "duration": 309,
    "start_time": "2022-08-04T18:59:16.401Z"
   },
   {
    "duration": 443,
    "start_time": "2022-08-04T18:59:16.713Z"
   },
   {
    "duration": 80,
    "start_time": "2022-08-04T18:59:17.159Z"
   },
   {
    "duration": 431,
    "start_time": "2022-08-04T18:59:17.240Z"
   },
   {
    "duration": 294,
    "start_time": "2022-08-04T18:59:17.672Z"
   },
   {
    "duration": 167,
    "start_time": "2022-08-04T18:59:17.968Z"
   },
   {
    "duration": 1269,
    "start_time": "2022-08-04T18:59:20.147Z"
   },
   {
    "duration": 3,
    "start_time": "2022-08-04T18:59:54.184Z"
   },
   {
    "duration": 128,
    "start_time": "2022-08-04T18:59:54.189Z"
   },
   {
    "duration": 28,
    "start_time": "2022-08-04T18:59:54.319Z"
   },
   {
    "duration": 240,
    "start_time": "2022-08-04T18:59:54.349Z"
   },
   {
    "duration": 143,
    "start_time": "2022-08-04T18:59:54.591Z"
   },
   {
    "duration": 360,
    "start_time": "2022-08-04T18:59:54.736Z"
   },
   {
    "duration": 58,
    "start_time": "2022-08-04T18:59:55.098Z"
   },
   {
    "duration": 387,
    "start_time": "2022-08-04T18:59:55.171Z"
   },
   {
    "duration": 271,
    "start_time": "2022-08-04T18:59:55.571Z"
   },
   {
    "duration": 170,
    "start_time": "2022-08-04T18:59:55.843Z"
   },
   {
    "duration": 1261,
    "start_time": "2022-08-04T18:59:56.099Z"
   },
   {
    "duration": 4,
    "start_time": "2022-08-04T19:02:39.185Z"
   },
   {
    "duration": 127,
    "start_time": "2022-08-04T19:02:39.191Z"
   },
   {
    "duration": 54,
    "start_time": "2022-08-04T19:02:39.320Z"
   },
   {
    "duration": 248,
    "start_time": "2022-08-04T19:02:39.381Z"
   },
   {
    "duration": 156,
    "start_time": "2022-08-04T19:02:39.631Z"
   },
   {
    "duration": 457,
    "start_time": "2022-08-04T19:02:39.789Z"
   },
   {
    "duration": 79,
    "start_time": "2022-08-04T19:02:40.248Z"
   },
   {
    "duration": 400,
    "start_time": "2022-08-04T19:02:40.330Z"
   },
   {
    "duration": 287,
    "start_time": "2022-08-04T19:02:40.733Z"
   },
   {
    "duration": 182,
    "start_time": "2022-08-04T19:02:41.022Z"
   },
   {
    "duration": 1231,
    "start_time": "2022-08-04T19:02:41.275Z"
   },
   {
    "duration": 316,
    "start_time": "2022-08-04T19:02:50.236Z"
   },
   {
    "duration": 4,
    "start_time": "2022-08-04T19:03:13.539Z"
   },
   {
    "duration": 135,
    "start_time": "2022-08-04T19:03:13.545Z"
   },
   {
    "duration": 29,
    "start_time": "2022-08-04T19:03:13.682Z"
   },
   {
    "duration": 214,
    "start_time": "2022-08-04T19:03:13.712Z"
   },
   {
    "duration": 140,
    "start_time": "2022-08-04T19:03:13.928Z"
   },
   {
    "duration": 346,
    "start_time": "2022-08-04T19:03:14.074Z"
   },
   {
    "duration": 68,
    "start_time": "2022-08-04T19:03:14.421Z"
   },
   {
    "duration": 392,
    "start_time": "2022-08-04T19:03:14.491Z"
   },
   {
    "duration": 279,
    "start_time": "2022-08-04T19:03:14.885Z"
   },
   {
    "duration": 172,
    "start_time": "2022-08-04T19:03:15.167Z"
   },
   {
    "duration": 1010,
    "start_time": "2022-08-04T19:03:15.341Z"
   },
   {
    "duration": 1340,
    "start_time": "2022-08-04T19:03:21.040Z"
   },
   {
    "duration": 3,
    "start_time": "2022-08-04T19:03:36.193Z"
   },
   {
    "duration": 119,
    "start_time": "2022-08-04T19:03:36.198Z"
   },
   {
    "duration": 55,
    "start_time": "2022-08-04T19:03:36.318Z"
   },
   {
    "duration": 238,
    "start_time": "2022-08-04T19:03:36.386Z"
   },
   {
    "duration": 174,
    "start_time": "2022-08-04T19:03:36.627Z"
   },
   {
    "duration": 472,
    "start_time": "2022-08-04T19:03:36.803Z"
   },
   {
    "duration": 58,
    "start_time": "2022-08-04T19:03:37.279Z"
   },
   {
    "duration": 406,
    "start_time": "2022-08-04T19:03:37.339Z"
   },
   {
    "duration": 293,
    "start_time": "2022-08-04T19:03:37.747Z"
   },
   {
    "duration": 176,
    "start_time": "2022-08-04T19:03:38.042Z"
   },
   {
    "duration": 1073,
    "start_time": "2022-08-04T19:03:38.220Z"
   },
   {
    "duration": 293,
    "start_time": "2022-08-04T19:03:41.865Z"
   },
   {
    "duration": 466,
    "start_time": "2022-08-04T19:05:41.190Z"
   },
   {
    "duration": 412,
    "start_time": "2022-08-04T19:06:11.138Z"
   },
   {
    "duration": 5,
    "start_time": "2022-08-04T19:10:18.846Z"
   },
   {
    "duration": 155,
    "start_time": "2022-08-04T19:10:18.853Z"
   },
   {
    "duration": 27,
    "start_time": "2022-08-04T19:10:19.010Z"
   },
   {
    "duration": 236,
    "start_time": "2022-08-04T19:10:19.040Z"
   },
   {
    "duration": 151,
    "start_time": "2022-08-04T19:10:19.278Z"
   },
   {
    "duration": 415,
    "start_time": "2022-08-04T19:10:19.431Z"
   },
   {
    "duration": 80,
    "start_time": "2022-08-04T19:10:19.848Z"
   },
   {
    "duration": 444,
    "start_time": "2022-08-04T19:10:19.930Z"
   },
   {
    "duration": 288,
    "start_time": "2022-08-04T19:10:20.382Z"
   },
   {
    "duration": 162,
    "start_time": "2022-08-04T19:10:20.681Z"
   },
   {
    "duration": 1547,
    "start_time": "2022-08-04T19:10:20.845Z"
   },
   {
    "duration": 396,
    "start_time": "2022-08-04T19:10:22.394Z"
   },
   {
    "duration": 323,
    "start_time": "2022-08-04T19:10:47.404Z"
   },
   {
    "duration": 339,
    "start_time": "2022-08-04T19:11:27.550Z"
   },
   {
    "duration": 44,
    "start_time": "2022-08-04T19:13:32.649Z"
   },
   {
    "duration": 39,
    "start_time": "2022-08-04T19:17:20.489Z"
   },
   {
    "duration": 1602,
    "start_time": "2022-08-04T19:23:37.950Z"
   },
   {
    "duration": 4,
    "start_time": "2022-08-04T19:23:46.404Z"
   },
   {
    "duration": 181,
    "start_time": "2022-08-04T19:23:46.411Z"
   },
   {
    "duration": 36,
    "start_time": "2022-08-04T19:23:46.595Z"
   },
   {
    "duration": 288,
    "start_time": "2022-08-04T19:23:46.634Z"
   },
   {
    "duration": 171,
    "start_time": "2022-08-04T19:23:46.924Z"
   },
   {
    "duration": 411,
    "start_time": "2022-08-04T19:23:47.101Z"
   },
   {
    "duration": 83,
    "start_time": "2022-08-04T19:23:47.514Z"
   },
   {
    "duration": 419,
    "start_time": "2022-08-04T19:23:47.600Z"
   },
   {
    "duration": 314,
    "start_time": "2022-08-04T19:23:48.021Z"
   },
   {
    "duration": 222,
    "start_time": "2022-08-04T19:23:48.341Z"
   },
   {
    "duration": 1147,
    "start_time": "2022-08-04T19:23:48.567Z"
   },
   {
    "duration": 9,
    "start_time": "2022-08-04T19:24:43.887Z"
   },
   {
    "duration": 335,
    "start_time": "2022-08-04T19:24:53.141Z"
   },
   {
    "duration": 98,
    "start_time": "2022-08-04T19:25:26.758Z"
   },
   {
    "duration": 13,
    "start_time": "2022-08-04T19:26:13.164Z"
   },
   {
    "duration": 22,
    "start_time": "2022-08-04T19:29:45.060Z"
   },
   {
    "duration": 9,
    "start_time": "2022-08-04T19:32:05.522Z"
   },
   {
    "duration": 9,
    "start_time": "2022-08-04T19:32:17.949Z"
   },
   {
    "duration": 11,
    "start_time": "2022-08-04T19:32:23.356Z"
   },
   {
    "duration": 13,
    "start_time": "2022-08-04T19:32:26.688Z"
   },
   {
    "duration": 9,
    "start_time": "2022-08-04T19:32:31.299Z"
   },
   {
    "duration": 9,
    "start_time": "2022-08-04T19:32:37.290Z"
   },
   {
    "duration": 1338,
    "start_time": "2022-08-04T19:33:18.724Z"
   },
   {
    "duration": 5,
    "start_time": "2022-08-04T19:33:51.604Z"
   },
   {
    "duration": 118,
    "start_time": "2022-08-04T19:33:51.617Z"
   },
   {
    "duration": 47,
    "start_time": "2022-08-04T19:33:51.737Z"
   },
   {
    "duration": 228,
    "start_time": "2022-08-04T19:33:51.786Z"
   },
   {
    "duration": 153,
    "start_time": "2022-08-04T19:33:52.016Z"
   },
   {
    "duration": 356,
    "start_time": "2022-08-04T19:33:52.172Z"
   },
   {
    "duration": 79,
    "start_time": "2022-08-04T19:33:52.530Z"
   },
   {
    "duration": 375,
    "start_time": "2022-08-04T19:33:52.611Z"
   },
   {
    "duration": 308,
    "start_time": "2022-08-04T19:33:52.988Z"
   },
   {
    "duration": 162,
    "start_time": "2022-08-04T19:33:53.298Z"
   },
   {
    "duration": 1099,
    "start_time": "2022-08-04T19:33:53.461Z"
   },
   {
    "duration": 90,
    "start_time": "2022-08-04T19:33:54.562Z"
   },
   {
    "duration": 0,
    "start_time": "2022-08-04T19:33:54.654Z"
   },
   {
    "duration": 0,
    "start_time": "2022-08-04T19:33:54.655Z"
   },
   {
    "duration": 39,
    "start_time": "2022-08-04T19:33:55.921Z"
   },
   {
    "duration": 3,
    "start_time": "2022-08-04T19:35:21.124Z"
   },
   {
    "duration": 171,
    "start_time": "2022-08-04T19:35:21.130Z"
   },
   {
    "duration": 30,
    "start_time": "2022-08-04T19:35:21.303Z"
   },
   {
    "duration": 272,
    "start_time": "2022-08-04T19:35:21.335Z"
   },
   {
    "duration": 139,
    "start_time": "2022-08-04T19:35:21.610Z"
   },
   {
    "duration": 367,
    "start_time": "2022-08-04T19:35:21.751Z"
   },
   {
    "duration": 78,
    "start_time": "2022-08-04T19:35:22.121Z"
   },
   {
    "duration": 397,
    "start_time": "2022-08-04T19:35:22.201Z"
   },
   {
    "duration": 272,
    "start_time": "2022-08-04T19:35:22.599Z"
   },
   {
    "duration": 171,
    "start_time": "2022-08-04T19:35:22.875Z"
   },
   {
    "duration": 1194,
    "start_time": "2022-08-04T19:35:23.048Z"
   },
   {
    "duration": 593,
    "start_time": "2022-08-04T19:35:24.244Z"
   },
   {
    "duration": 0,
    "start_time": "2022-08-04T19:35:24.838Z"
   },
   {
    "duration": 0,
    "start_time": "2022-08-04T19:35:24.840Z"
   },
   {
    "duration": 0,
    "start_time": "2022-08-04T19:35:24.841Z"
   },
   {
    "duration": 31,
    "start_time": "2022-08-04T19:35:39.228Z"
   },
   {
    "duration": 4,
    "start_time": "2022-08-04T19:35:46.051Z"
   },
   {
    "duration": 154,
    "start_time": "2022-08-04T19:35:46.058Z"
   },
   {
    "duration": 28,
    "start_time": "2022-08-04T19:35:46.214Z"
   },
   {
    "duration": 249,
    "start_time": "2022-08-04T19:35:46.244Z"
   },
   {
    "duration": 205,
    "start_time": "2022-08-04T19:35:46.498Z"
   },
   {
    "duration": 434,
    "start_time": "2022-08-04T19:35:46.707Z"
   },
   {
    "duration": 77,
    "start_time": "2022-08-04T19:35:47.143Z"
   },
   {
    "duration": 415,
    "start_time": "2022-08-04T19:35:47.221Z"
   },
   {
    "duration": 300,
    "start_time": "2022-08-04T19:35:47.638Z"
   },
   {
    "duration": 184,
    "start_time": "2022-08-04T19:35:47.941Z"
   },
   {
    "duration": 1336,
    "start_time": "2022-08-04T19:35:48.127Z"
   },
   {
    "duration": 110,
    "start_time": "2022-08-04T19:35:49.465Z"
   },
   {
    "duration": 0,
    "start_time": "2022-08-04T19:35:49.577Z"
   },
   {
    "duration": 0,
    "start_time": "2022-08-04T19:35:49.578Z"
   },
   {
    "duration": 0,
    "start_time": "2022-08-04T19:35:49.579Z"
   },
   {
    "duration": 3,
    "start_time": "2022-08-04T19:36:15.898Z"
   },
   {
    "duration": 129,
    "start_time": "2022-08-04T19:36:15.903Z"
   },
   {
    "duration": 50,
    "start_time": "2022-08-04T19:36:16.034Z"
   },
   {
    "duration": 227,
    "start_time": "2022-08-04T19:36:16.092Z"
   },
   {
    "duration": 149,
    "start_time": "2022-08-04T19:36:16.321Z"
   },
   {
    "duration": 427,
    "start_time": "2022-08-04T19:36:16.472Z"
   },
   {
    "duration": 79,
    "start_time": "2022-08-04T19:36:16.902Z"
   },
   {
    "duration": 452,
    "start_time": "2022-08-04T19:36:16.986Z"
   },
   {
    "duration": 748,
    "start_time": "2022-08-04T19:36:17.440Z"
   },
   {
    "duration": 192,
    "start_time": "2022-08-04T19:36:18.192Z"
   },
   {
    "duration": 1249,
    "start_time": "2022-08-04T19:36:18.392Z"
   },
   {
    "duration": 369,
    "start_time": "2022-08-04T19:36:19.644Z"
   },
   {
    "duration": 9,
    "start_time": "2022-08-04T19:36:20.015Z"
   },
   {
    "duration": 14,
    "start_time": "2022-08-04T19:36:20.027Z"
   },
   {
    "duration": 31,
    "start_time": "2022-08-04T19:37:45.966Z"
   },
   {
    "duration": 8,
    "start_time": "2022-08-04T19:38:43.924Z"
   },
   {
    "duration": 33,
    "start_time": "2022-08-04T19:38:59.057Z"
   },
   {
    "duration": 24,
    "start_time": "2022-08-04T19:40:08.092Z"
   },
   {
    "duration": 65,
    "start_time": "2022-08-04T19:40:39.118Z"
   },
   {
    "duration": 1306,
    "start_time": "2022-08-05T03:24:37.645Z"
   },
   {
    "duration": 291,
    "start_time": "2022-08-05T03:24:38.953Z"
   },
   {
    "duration": 23,
    "start_time": "2022-08-05T03:24:39.245Z"
   },
   {
    "duration": 223,
    "start_time": "2022-08-05T03:24:39.271Z"
   },
   {
    "duration": 115,
    "start_time": "2022-08-05T03:24:39.496Z"
   },
   {
    "duration": 290,
    "start_time": "2022-08-05T03:24:39.613Z"
   },
   {
    "duration": 43,
    "start_time": "2022-08-05T03:24:39.905Z"
   },
   {
    "duration": 355,
    "start_time": "2022-08-05T03:24:39.950Z"
   },
   {
    "duration": 222,
    "start_time": "2022-08-05T03:24:40.306Z"
   },
   {
    "duration": 134,
    "start_time": "2022-08-05T03:24:40.530Z"
   },
   {
    "duration": 1103,
    "start_time": "2022-08-05T03:24:40.665Z"
   },
   {
    "duration": 262,
    "start_time": "2022-08-05T03:24:41.770Z"
   },
   {
    "duration": 8,
    "start_time": "2022-08-05T03:24:42.033Z"
   },
   {
    "duration": 17,
    "start_time": "2022-08-05T03:24:42.042Z"
   },
   {
    "duration": 31,
    "start_time": "2022-08-05T03:25:41.314Z"
   },
   {
    "duration": 33,
    "start_time": "2022-08-05T03:26:13.988Z"
   },
   {
    "duration": 5,
    "start_time": "2022-08-05T03:30:57.876Z"
   },
   {
    "duration": 148,
    "start_time": "2022-08-05T03:31:03.746Z"
   },
   {
    "duration": 242,
    "start_time": "2022-08-05T03:32:11.115Z"
   },
   {
    "duration": 168,
    "start_time": "2022-08-05T03:33:22.848Z"
   },
   {
    "duration": 113,
    "start_time": "2022-08-05T03:34:09.944Z"
   },
   {
    "duration": 104,
    "start_time": "2022-08-05T03:34:17.085Z"
   },
   {
    "duration": 267,
    "start_time": "2022-08-05T03:38:05.304Z"
   },
   {
    "duration": 767,
    "start_time": "2022-08-05T03:40:54.635Z"
   },
   {
    "duration": 3,
    "start_time": "2022-08-05T03:41:10.819Z"
   },
   {
    "duration": 104,
    "start_time": "2022-08-05T03:41:10.824Z"
   },
   {
    "duration": 23,
    "start_time": "2022-08-05T03:41:10.929Z"
   },
   {
    "duration": 177,
    "start_time": "2022-08-05T03:41:10.954Z"
   },
   {
    "duration": 112,
    "start_time": "2022-08-05T03:41:11.133Z"
   },
   {
    "duration": 302,
    "start_time": "2022-08-05T03:41:11.246Z"
   },
   {
    "duration": 55,
    "start_time": "2022-08-05T03:41:12.726Z"
   },
   {
    "duration": 807,
    "start_time": "2022-08-05T03:41:38.125Z"
   },
   {
    "duration": 3,
    "start_time": "2022-08-05T03:41:41.002Z"
   },
   {
    "duration": 109,
    "start_time": "2022-08-05T03:41:41.007Z"
   },
   {
    "duration": 25,
    "start_time": "2022-08-05T03:41:41.118Z"
   },
   {
    "duration": 172,
    "start_time": "2022-08-05T03:41:41.144Z"
   },
   {
    "duration": 130,
    "start_time": "2022-08-05T03:41:41.318Z"
   },
   {
    "duration": 325,
    "start_time": "2022-08-05T03:41:41.450Z"
   },
   {
    "duration": 162,
    "start_time": "2022-08-05T03:41:41.777Z"
   },
   {
    "duration": 1087,
    "start_time": "2022-08-05T03:41:42.782Z"
   },
   {
    "duration": 3,
    "start_time": "2022-08-05T03:41:53.305Z"
   },
   {
    "duration": 110,
    "start_time": "2022-08-05T03:41:53.312Z"
   },
   {
    "duration": 24,
    "start_time": "2022-08-05T03:41:53.424Z"
   },
   {
    "duration": 173,
    "start_time": "2022-08-05T03:41:53.449Z"
   },
   {
    "duration": 112,
    "start_time": "2022-08-05T03:41:53.623Z"
   },
   {
    "duration": 296,
    "start_time": "2022-08-05T03:41:53.737Z"
   },
   {
    "duration": 49,
    "start_time": "2022-08-05T03:41:57.794Z"
   },
   {
    "duration": 3,
    "start_time": "2022-08-05T03:42:23.139Z"
   },
   {
    "duration": 104,
    "start_time": "2022-08-05T03:42:23.144Z"
   },
   {
    "duration": 24,
    "start_time": "2022-08-05T03:42:23.250Z"
   },
   {
    "duration": 171,
    "start_time": "2022-08-05T03:42:23.276Z"
   },
   {
    "duration": 109,
    "start_time": "2022-08-05T03:42:23.449Z"
   },
   {
    "duration": 267,
    "start_time": "2022-08-05T03:42:23.560Z"
   },
   {
    "duration": 46,
    "start_time": "2022-08-05T03:42:26.433Z"
   },
   {
    "duration": 3,
    "start_time": "2022-08-05T03:42:46.252Z"
   },
   {
    "duration": 99,
    "start_time": "2022-08-05T03:42:46.256Z"
   },
   {
    "duration": 23,
    "start_time": "2022-08-05T03:42:46.357Z"
   },
   {
    "duration": 175,
    "start_time": "2022-08-05T03:42:46.383Z"
   },
   {
    "duration": 111,
    "start_time": "2022-08-05T03:42:46.559Z"
   },
   {
    "duration": 275,
    "start_time": "2022-08-05T03:42:46.672Z"
   },
   {
    "duration": 58,
    "start_time": "2022-08-05T03:42:53.183Z"
   },
   {
    "duration": 16,
    "start_time": "2022-08-05T03:49:39.719Z"
   },
   {
    "duration": 215,
    "start_time": "2022-08-05T03:50:25.128Z"
   },
   {
    "duration": 720,
    "start_time": "2022-08-05T03:51:15.516Z"
   },
   {
    "duration": 533,
    "start_time": "2022-08-05T03:51:58.260Z"
   },
   {
    "duration": 102,
    "start_time": "2022-08-05T03:52:58.809Z"
   },
   {
    "duration": 11,
    "start_time": "2022-08-05T03:53:15.435Z"
   },
   {
    "duration": 287,
    "start_time": "2022-08-05T03:53:27.924Z"
   },
   {
    "duration": 210,
    "start_time": "2022-08-05T03:56:38.590Z"
   },
   {
    "duration": 44,
    "start_time": "2022-08-05T04:05:28.361Z"
   },
   {
    "duration": 67,
    "start_time": "2022-08-05T04:05:37.489Z"
   },
   {
    "duration": 61,
    "start_time": "2022-08-05T04:05:47.729Z"
   },
   {
    "duration": 298,
    "start_time": "2022-08-05T04:06:13.888Z"
   },
   {
    "duration": 148,
    "start_time": "2022-08-05T04:06:34.925Z"
   },
   {
    "duration": 198,
    "start_time": "2022-08-05T04:07:18.891Z"
   },
   {
    "duration": 5,
    "start_time": "2022-08-05T04:07:47.504Z"
   },
   {
    "duration": 138,
    "start_time": "2022-08-05T04:07:52.201Z"
   },
   {
    "duration": 156,
    "start_time": "2022-08-05T04:08:17.553Z"
   },
   {
    "duration": 162,
    "start_time": "2022-08-05T04:08:45.676Z"
   },
   {
    "duration": 162,
    "start_time": "2022-08-05T04:10:54.134Z"
   },
   {
    "duration": 176,
    "start_time": "2022-08-05T04:11:33.886Z"
   },
   {
    "duration": 857,
    "start_time": "2022-08-05T04:13:58.931Z"
   },
   {
    "duration": 3,
    "start_time": "2022-08-05T04:14:14.692Z"
   },
   {
    "duration": 132,
    "start_time": "2022-08-05T04:14:14.698Z"
   },
   {
    "duration": 29,
    "start_time": "2022-08-05T04:14:14.831Z"
   },
   {
    "duration": 218,
    "start_time": "2022-08-05T04:14:14.862Z"
   },
   {
    "duration": 143,
    "start_time": "2022-08-05T04:14:15.083Z"
   },
   {
    "duration": 322,
    "start_time": "2022-08-05T04:14:15.229Z"
   },
   {
    "duration": 45,
    "start_time": "2022-08-05T04:14:16.740Z"
   },
   {
    "duration": 162,
    "start_time": "2022-08-05T04:15:29.311Z"
   },
   {
    "duration": 293,
    "start_time": "2022-08-05T04:15:41.494Z"
   },
   {
    "duration": 163,
    "start_time": "2022-08-05T04:15:50.553Z"
   },
   {
    "duration": 156,
    "start_time": "2022-08-05T04:16:23.438Z"
   },
   {
    "duration": 159,
    "start_time": "2022-08-05T04:16:33.839Z"
   },
   {
    "duration": 157,
    "start_time": "2022-08-05T04:16:43.931Z"
   },
   {
    "duration": 166,
    "start_time": "2022-08-05T04:17:47.874Z"
   },
   {
    "duration": 161,
    "start_time": "2022-08-05T04:18:03.194Z"
   },
   {
    "duration": 168,
    "start_time": "2022-08-05T04:18:16.694Z"
   },
   {
    "duration": 163,
    "start_time": "2022-08-05T04:19:54.705Z"
   },
   {
    "duration": 165,
    "start_time": "2022-08-05T04:20:06.414Z"
   },
   {
    "duration": 5,
    "start_time": "2022-08-05T04:22:41.515Z"
   },
   {
    "duration": 179,
    "start_time": "2022-08-05T04:22:48.269Z"
   },
   {
    "duration": 169,
    "start_time": "2022-08-05T04:25:31.991Z"
   },
   {
    "duration": 898,
    "start_time": "2022-08-05T04:28:11.227Z"
   },
   {
    "duration": 3,
    "start_time": "2022-08-05T04:28:25.981Z"
   },
   {
    "duration": 102,
    "start_time": "2022-08-05T04:28:25.986Z"
   },
   {
    "duration": 25,
    "start_time": "2022-08-05T04:28:26.090Z"
   },
   {
    "duration": 172,
    "start_time": "2022-08-05T04:28:26.117Z"
   },
   {
    "duration": 209,
    "start_time": "2022-08-05T04:28:26.299Z"
   },
   {
    "duration": 268,
    "start_time": "2022-08-05T04:28:26.509Z"
   },
   {
    "duration": 32,
    "start_time": "2022-08-05T04:28:27.950Z"
   },
   {
    "duration": 171,
    "start_time": "2022-08-05T04:28:34.414Z"
   },
   {
    "duration": 170,
    "start_time": "2022-08-05T04:28:49.141Z"
   },
   {
    "duration": 184,
    "start_time": "2022-08-05T04:30:18.487Z"
   },
   {
    "duration": 162,
    "start_time": "2022-08-05T04:30:50.994Z"
   },
   {
    "duration": 169,
    "start_time": "2022-08-05T04:31:16.518Z"
   },
   {
    "duration": 3,
    "start_time": "2022-08-05T04:33:55.183Z"
   },
   {
    "duration": 107,
    "start_time": "2022-08-05T04:33:55.188Z"
   },
   {
    "duration": 26,
    "start_time": "2022-08-05T04:33:55.297Z"
   },
   {
    "duration": 181,
    "start_time": "2022-08-05T04:33:55.326Z"
   },
   {
    "duration": 122,
    "start_time": "2022-08-05T04:33:55.508Z"
   },
   {
    "duration": 293,
    "start_time": "2022-08-05T04:33:55.631Z"
   },
   {
    "duration": 34,
    "start_time": "2022-08-05T04:33:55.926Z"
   },
   {
    "duration": 195,
    "start_time": "2022-08-05T04:33:55.962Z"
   },
   {
    "duration": 276,
    "start_time": "2022-08-05T04:33:56.159Z"
   },
   {
    "duration": 290,
    "start_time": "2022-08-05T04:33:59.057Z"
   },
   {
    "duration": 228,
    "start_time": "2022-08-05T04:37:09.297Z"
   },
   {
    "duration": 3,
    "start_time": "2022-08-05T04:42:04.765Z"
   },
   {
    "duration": 132,
    "start_time": "2022-08-05T04:42:04.770Z"
   },
   {
    "duration": 30,
    "start_time": "2022-08-05T04:42:04.904Z"
   },
   {
    "duration": 196,
    "start_time": "2022-08-05T04:42:04.936Z"
   },
   {
    "duration": 128,
    "start_time": "2022-08-05T04:42:05.135Z"
   },
   {
    "duration": 281,
    "start_time": "2022-08-05T04:42:05.265Z"
   },
   {
    "duration": 32,
    "start_time": "2022-08-05T04:42:05.547Z"
   },
   {
    "duration": 196,
    "start_time": "2022-08-05T04:42:05.580Z"
   },
   {
    "duration": 178,
    "start_time": "2022-08-05T04:42:05.778Z"
   },
   {
    "duration": 310,
    "start_time": "2022-08-05T04:42:05.958Z"
   },
   {
    "duration": 230,
    "start_time": "2022-08-05T04:42:06.270Z"
   },
   {
    "duration": 134,
    "start_time": "2022-08-05T04:42:09.202Z"
   },
   {
    "duration": 3,
    "start_time": "2022-08-05T04:43:01.068Z"
   },
   {
    "duration": 132,
    "start_time": "2022-08-05T04:43:01.073Z"
   },
   {
    "duration": 29,
    "start_time": "2022-08-05T04:43:01.207Z"
   },
   {
    "duration": 181,
    "start_time": "2022-08-05T04:43:01.239Z"
   },
   {
    "duration": 261,
    "start_time": "2022-08-05T04:43:01.422Z"
   },
   {
    "duration": 304,
    "start_time": "2022-08-05T04:43:01.686Z"
   },
   {
    "duration": 46,
    "start_time": "2022-08-05T04:43:01.992Z"
   },
   {
    "duration": 187,
    "start_time": "2022-08-05T04:43:02.040Z"
   },
   {
    "duration": 181,
    "start_time": "2022-08-05T04:43:02.230Z"
   },
   {
    "duration": 319,
    "start_time": "2022-08-05T04:43:02.413Z"
   },
   {
    "duration": 237,
    "start_time": "2022-08-05T04:43:02.734Z"
   },
   {
    "duration": 149,
    "start_time": "2022-08-05T04:43:02.973Z"
   },
   {
    "duration": 1271,
    "start_time": "2022-08-05T04:43:05.375Z"
   },
   {
    "duration": 260,
    "start_time": "2022-08-05T04:43:30.411Z"
   },
   {
    "duration": 17,
    "start_time": "2022-08-05T04:51:19.440Z"
   },
   {
    "duration": 10,
    "start_time": "2022-08-05T04:53:01.817Z"
   },
   {
    "duration": 12,
    "start_time": "2022-08-05T04:53:41.485Z"
   },
   {
    "duration": 9,
    "start_time": "2022-08-05T04:54:07.985Z"
   },
   {
    "duration": 52,
    "start_time": "2022-08-05T04:58:26.090Z"
   },
   {
    "duration": 9,
    "start_time": "2022-08-05T06:09:46.783Z"
   },
   {
    "duration": 11,
    "start_time": "2022-08-05T06:10:40.027Z"
   },
   {
    "duration": 12,
    "start_time": "2022-08-05T06:10:49.304Z"
   },
   {
    "duration": 8,
    "start_time": "2022-08-05T06:11:12.187Z"
   },
   {
    "duration": 11,
    "start_time": "2022-08-05T06:11:27.427Z"
   },
   {
    "duration": 1649,
    "start_time": "2022-08-06T05:30:28.105Z"
   },
   {
    "duration": 195,
    "start_time": "2022-08-06T05:30:29.757Z"
   },
   {
    "duration": 42,
    "start_time": "2022-08-06T05:30:29.953Z"
   },
   {
    "duration": 247,
    "start_time": "2022-08-06T05:30:29.998Z"
   },
   {
    "duration": 149,
    "start_time": "2022-08-06T05:30:30.247Z"
   },
   {
    "duration": 386,
    "start_time": "2022-08-06T05:30:30.398Z"
   },
   {
    "duration": 47,
    "start_time": "2022-08-06T05:30:30.787Z"
   },
   {
    "duration": 255,
    "start_time": "2022-08-06T05:30:30.835Z"
   },
   {
    "duration": 227,
    "start_time": "2022-08-06T05:30:31.092Z"
   },
   {
    "duration": 452,
    "start_time": "2022-08-06T05:30:31.321Z"
   },
   {
    "duration": 278,
    "start_time": "2022-08-06T05:30:31.783Z"
   },
   {
    "duration": 183,
    "start_time": "2022-08-06T05:30:32.071Z"
   },
   {
    "duration": 1502,
    "start_time": "2022-08-06T05:30:32.256Z"
   },
   {
    "duration": 390,
    "start_time": "2022-08-06T05:30:33.761Z"
   },
   {
    "duration": 9,
    "start_time": "2022-08-06T05:30:34.153Z"
   },
   {
    "duration": 37,
    "start_time": "2022-08-06T05:30:34.164Z"
   },
   {
    "duration": 220,
    "start_time": "2022-08-06T05:35:06.958Z"
   },
   {
    "duration": 205,
    "start_time": "2022-08-06T05:35:19.225Z"
   },
   {
    "duration": 148,
    "start_time": "2022-08-06T05:51:20.011Z"
   },
   {
    "duration": 158,
    "start_time": "2022-08-06T05:51:26.878Z"
   },
   {
    "duration": 426,
    "start_time": "2022-08-06T05:59:31.508Z"
   },
   {
    "duration": 390,
    "start_time": "2022-08-06T05:59:44.497Z"
   },
   {
    "duration": 377,
    "start_time": "2022-08-06T05:59:49.806Z"
   },
   {
    "duration": 385,
    "start_time": "2022-08-06T05:59:53.849Z"
   },
   {
    "duration": 499,
    "start_time": "2022-08-06T06:01:15.919Z"
   },
   {
    "duration": 304,
    "start_time": "2022-08-06T06:01:29.654Z"
   },
   {
    "duration": 413,
    "start_time": "2022-08-06T06:01:37.696Z"
   },
   {
    "duration": 383,
    "start_time": "2022-08-06T06:01:54.213Z"
   },
   {
    "duration": 373,
    "start_time": "2022-08-06T06:02:05.304Z"
   },
   {
    "duration": 419,
    "start_time": "2022-08-06T06:03:27.949Z"
   },
   {
    "duration": 393,
    "start_time": "2022-08-06T06:03:42.262Z"
   },
   {
    "duration": 372,
    "start_time": "2022-08-06T06:04:14.210Z"
   },
   {
    "duration": 373,
    "start_time": "2022-08-06T06:04:41.821Z"
   },
   {
    "duration": 235,
    "start_time": "2022-08-06T06:14:40.213Z"
   },
   {
    "duration": 278,
    "start_time": "2022-08-06T06:14:56.902Z"
   },
   {
    "duration": 233,
    "start_time": "2022-08-06T06:15:21.233Z"
   },
   {
    "duration": 211,
    "start_time": "2022-08-06T06:15:31.620Z"
   },
   {
    "duration": 604,
    "start_time": "2022-08-06T06:22:51.010Z"
   },
   {
    "duration": 420,
    "start_time": "2022-08-06T06:23:08.547Z"
   },
   {
    "duration": 493,
    "start_time": "2022-08-06T06:23:15.436Z"
   },
   {
    "duration": 340,
    "start_time": "2022-08-06T06:27:40.818Z"
   },
   {
    "duration": 282,
    "start_time": "2022-08-06T06:27:47.996Z"
   },
   {
    "duration": 346,
    "start_time": "2022-08-06T06:28:04.428Z"
   },
   {
    "duration": 441,
    "start_time": "2022-08-06T06:33:11.564Z"
   },
   {
    "duration": 163,
    "start_time": "2022-08-06T06:33:54.399Z"
   },
   {
    "duration": 426,
    "start_time": "2022-08-06T06:34:27.225Z"
   },
   {
    "duration": 408,
    "start_time": "2022-08-06T06:35:23.554Z"
   },
   {
    "duration": 364,
    "start_time": "2022-08-06T06:35:59.239Z"
   },
   {
    "duration": 333,
    "start_time": "2022-08-06T06:37:14.218Z"
   },
   {
    "duration": 494,
    "start_time": "2022-08-06T06:37:25.633Z"
   },
   {
    "duration": 293,
    "start_time": "2022-08-06T06:37:47.294Z"
   },
   {
    "duration": 281,
    "start_time": "2022-08-06T06:38:08.855Z"
   },
   {
    "duration": 351,
    "start_time": "2022-08-06T06:40:27.955Z"
   },
   {
    "duration": 427,
    "start_time": "2022-08-06T06:42:38.465Z"
   },
   {
    "duration": 410,
    "start_time": "2022-08-06T06:43:00.397Z"
   },
   {
    "duration": 433,
    "start_time": "2022-08-06T06:43:18.316Z"
   },
   {
    "duration": 355,
    "start_time": "2022-08-06T06:44:39.040Z"
   },
   {
    "duration": 293,
    "start_time": "2022-08-06T06:44:50.646Z"
   },
   {
    "duration": 391,
    "start_time": "2022-08-06T06:45:03.051Z"
   },
   {
    "duration": 325,
    "start_time": "2022-08-06T06:45:23.352Z"
   },
   {
    "duration": 593,
    "start_time": "2022-08-06T06:45:32.066Z"
   },
   {
    "duration": 402,
    "start_time": "2022-08-06T06:52:27.906Z"
   },
   {
    "duration": 359,
    "start_time": "2022-08-06T06:52:42.568Z"
   },
   {
    "duration": 383,
    "start_time": "2022-08-06T06:53:16.054Z"
   },
   {
    "duration": 380,
    "start_time": "2022-08-06T06:53:30.660Z"
   },
   {
    "duration": 387,
    "start_time": "2022-08-06T06:53:44.818Z"
   },
   {
    "duration": 2781,
    "start_time": "2022-08-06T08:00:30.471Z"
   },
   {
    "duration": 891,
    "start_time": "2022-08-06T08:01:30.901Z"
   },
   {
    "duration": 3,
    "start_time": "2022-08-06T08:01:41.817Z"
   },
   {
    "duration": 122,
    "start_time": "2022-08-06T08:01:41.823Z"
   },
   {
    "duration": 49,
    "start_time": "2022-08-06T08:01:41.946Z"
   },
   {
    "duration": 218,
    "start_time": "2022-08-06T08:01:41.998Z"
   },
   {
    "duration": 129,
    "start_time": "2022-08-06T08:01:42.218Z"
   },
   {
    "duration": 330,
    "start_time": "2022-08-06T08:01:42.349Z"
   },
   {
    "duration": 36,
    "start_time": "2022-08-06T08:01:42.680Z"
   },
   {
    "duration": 205,
    "start_time": "2022-08-06T08:01:42.717Z"
   },
   {
    "duration": 216,
    "start_time": "2022-08-06T08:01:42.925Z"
   },
   {
    "duration": 480,
    "start_time": "2022-08-06T08:01:43.143Z"
   },
   {
    "duration": 253,
    "start_time": "2022-08-06T08:01:43.625Z"
   },
   {
    "duration": 159,
    "start_time": "2022-08-06T08:01:43.879Z"
   },
   {
    "duration": 831,
    "start_time": "2022-08-06T08:01:44.040Z"
   },
   {
    "duration": 2030,
    "start_time": "2022-08-06T08:01:49.619Z"
   },
   {
    "duration": 4,
    "start_time": "2022-08-06T08:02:28.062Z"
   },
   {
    "duration": 140,
    "start_time": "2022-08-06T08:02:28.069Z"
   },
   {
    "duration": 33,
    "start_time": "2022-08-06T08:02:28.210Z"
   },
   {
    "duration": 289,
    "start_time": "2022-08-06T08:02:28.245Z"
   },
   {
    "duration": 149,
    "start_time": "2022-08-06T08:02:28.536Z"
   },
   {
    "duration": 348,
    "start_time": "2022-08-06T08:02:28.686Z"
   },
   {
    "duration": 47,
    "start_time": "2022-08-06T08:02:29.035Z"
   },
   {
    "duration": 235,
    "start_time": "2022-08-06T08:02:29.084Z"
   },
   {
    "duration": 242,
    "start_time": "2022-08-06T08:02:29.321Z"
   },
   {
    "duration": 392,
    "start_time": "2022-08-06T08:02:29.567Z"
   },
   {
    "duration": 279,
    "start_time": "2022-08-06T08:02:29.961Z"
   },
   {
    "duration": 178,
    "start_time": "2022-08-06T08:02:30.242Z"
   },
   {
    "duration": 945,
    "start_time": "2022-08-06T08:02:31.566Z"
   },
   {
    "duration": 2030,
    "start_time": "2022-08-06T08:03:19.452Z"
   },
   {
    "duration": 3,
    "start_time": "2022-08-06T08:03:59.129Z"
   },
   {
    "duration": 119,
    "start_time": "2022-08-06T08:03:59.134Z"
   },
   {
    "duration": 41,
    "start_time": "2022-08-06T08:03:59.254Z"
   },
   {
    "duration": 212,
    "start_time": "2022-08-06T08:03:59.297Z"
   },
   {
    "duration": 138,
    "start_time": "2022-08-06T08:03:59.512Z"
   },
   {
    "duration": 434,
    "start_time": "2022-08-06T08:03:59.652Z"
   },
   {
    "duration": 37,
    "start_time": "2022-08-06T08:04:00.087Z"
   },
   {
    "duration": 214,
    "start_time": "2022-08-06T08:04:00.126Z"
   },
   {
    "duration": 228,
    "start_time": "2022-08-06T08:04:00.342Z"
   },
   {
    "duration": 370,
    "start_time": "2022-08-06T08:04:00.571Z"
   },
   {
    "duration": 268,
    "start_time": "2022-08-06T08:04:00.943Z"
   },
   {
    "duration": 182,
    "start_time": "2022-08-06T08:04:01.213Z"
   },
   {
    "duration": 854,
    "start_time": "2022-08-06T08:04:03.895Z"
   },
   {
    "duration": 4,
    "start_time": "2022-08-06T08:05:05.530Z"
   },
   {
    "duration": 117,
    "start_time": "2022-08-06T08:05:05.536Z"
   },
   {
    "duration": 30,
    "start_time": "2022-08-06T08:05:05.668Z"
   },
   {
    "duration": 222,
    "start_time": "2022-08-06T08:05:05.700Z"
   },
   {
    "duration": 131,
    "start_time": "2022-08-06T08:05:05.924Z"
   },
   {
    "duration": 326,
    "start_time": "2022-08-06T08:05:06.058Z"
   },
   {
    "duration": 36,
    "start_time": "2022-08-06T08:05:06.387Z"
   },
   {
    "duration": 293,
    "start_time": "2022-08-06T08:05:06.425Z"
   },
   {
    "duration": 216,
    "start_time": "2022-08-06T08:05:06.720Z"
   },
   {
    "duration": 345,
    "start_time": "2022-08-06T08:05:06.938Z"
   },
   {
    "duration": 342,
    "start_time": "2022-08-06T08:05:07.285Z"
   },
   {
    "duration": 157,
    "start_time": "2022-08-06T08:05:07.628Z"
   },
   {
    "duration": 901,
    "start_time": "2022-08-06T08:05:10.871Z"
   },
   {
    "duration": 3,
    "start_time": "2022-08-06T08:06:00.341Z"
   },
   {
    "duration": 203,
    "start_time": "2022-08-06T08:06:00.348Z"
   },
   {
    "duration": 46,
    "start_time": "2022-08-06T08:06:00.553Z"
   },
   {
    "duration": 477,
    "start_time": "2022-08-06T08:06:00.601Z"
   },
   {
    "duration": 141,
    "start_time": "2022-08-06T08:06:01.080Z"
   },
   {
    "duration": 387,
    "start_time": "2022-08-06T08:06:01.224Z"
   },
   {
    "duration": 38,
    "start_time": "2022-08-06T08:06:01.614Z"
   },
   {
    "duration": 212,
    "start_time": "2022-08-06T08:06:01.669Z"
   },
   {
    "duration": 228,
    "start_time": "2022-08-06T08:06:01.883Z"
   },
   {
    "duration": 369,
    "start_time": "2022-08-06T08:06:02.114Z"
   },
   {
    "duration": 263,
    "start_time": "2022-08-06T08:06:02.485Z"
   },
   {
    "duration": 157,
    "start_time": "2022-08-06T08:06:02.749Z"
   },
   {
    "duration": 1106,
    "start_time": "2022-08-06T08:06:05.678Z"
   },
   {
    "duration": 4,
    "start_time": "2022-08-06T08:06:31.396Z"
   },
   {
    "duration": 149,
    "start_time": "2022-08-06T08:06:31.403Z"
   },
   {
    "duration": 38,
    "start_time": "2022-08-06T08:06:31.568Z"
   },
   {
    "duration": 235,
    "start_time": "2022-08-06T08:06:31.609Z"
   },
   {
    "duration": 136,
    "start_time": "2022-08-06T08:06:31.846Z"
   },
   {
    "duration": 338,
    "start_time": "2022-08-06T08:06:31.984Z"
   },
   {
    "duration": 48,
    "start_time": "2022-08-06T08:06:32.324Z"
   },
   {
    "duration": 314,
    "start_time": "2022-08-06T08:06:32.374Z"
   },
   {
    "duration": 215,
    "start_time": "2022-08-06T08:06:32.690Z"
   },
   {
    "duration": 422,
    "start_time": "2022-08-06T08:06:32.908Z"
   },
   {
    "duration": 320,
    "start_time": "2022-08-06T08:06:33.336Z"
   },
   {
    "duration": 224,
    "start_time": "2022-08-06T08:06:33.658Z"
   },
   {
    "duration": 1047,
    "start_time": "2022-08-06T08:06:35.976Z"
   },
   {
    "duration": 5,
    "start_time": "2022-08-06T08:08:56.599Z"
   },
   {
    "duration": 187,
    "start_time": "2022-08-06T08:08:56.606Z"
   },
   {
    "duration": 53,
    "start_time": "2022-08-06T08:08:56.795Z"
   },
   {
    "duration": 251,
    "start_time": "2022-08-06T08:08:56.850Z"
   },
   {
    "duration": 129,
    "start_time": "2022-08-06T08:08:57.103Z"
   },
   {
    "duration": 369,
    "start_time": "2022-08-06T08:08:57.235Z"
   },
   {
    "duration": 37,
    "start_time": "2022-08-06T08:08:57.606Z"
   },
   {
    "duration": 229,
    "start_time": "2022-08-06T08:08:57.645Z"
   },
   {
    "duration": 229,
    "start_time": "2022-08-06T08:08:57.876Z"
   },
   {
    "duration": 392,
    "start_time": "2022-08-06T08:08:58.106Z"
   },
   {
    "duration": 260,
    "start_time": "2022-08-06T08:08:58.501Z"
   },
   {
    "duration": 155,
    "start_time": "2022-08-06T08:08:58.768Z"
   },
   {
    "duration": 1163,
    "start_time": "2022-08-06T08:09:01.667Z"
   },
   {
    "duration": 4,
    "start_time": "2022-08-06T08:09:15.151Z"
   },
   {
    "duration": 130,
    "start_time": "2022-08-06T08:09:15.157Z"
   },
   {
    "duration": 29,
    "start_time": "2022-08-06T08:09:15.289Z"
   },
   {
    "duration": 206,
    "start_time": "2022-08-06T08:09:15.320Z"
   },
   {
    "duration": 136,
    "start_time": "2022-08-06T08:09:15.529Z"
   },
   {
    "duration": 367,
    "start_time": "2022-08-06T08:09:15.668Z"
   },
   {
    "duration": 48,
    "start_time": "2022-08-06T08:09:16.037Z"
   },
   {
    "duration": 211,
    "start_time": "2022-08-06T08:09:16.087Z"
   },
   {
    "duration": 233,
    "start_time": "2022-08-06T08:09:16.300Z"
   },
   {
    "duration": 501,
    "start_time": "2022-08-06T08:09:16.536Z"
   },
   {
    "duration": 255,
    "start_time": "2022-08-06T08:09:17.039Z"
   },
   {
    "duration": 173,
    "start_time": "2022-08-06T08:09:17.296Z"
   },
   {
    "duration": 906,
    "start_time": "2022-08-06T08:09:19.460Z"
   },
   {
    "duration": 2000,
    "start_time": "2022-08-06T08:09:27.032Z"
   },
   {
    "duration": 4,
    "start_time": "2022-08-06T08:09:33.992Z"
   },
   {
    "duration": 132,
    "start_time": "2022-08-06T08:09:33.999Z"
   },
   {
    "duration": 50,
    "start_time": "2022-08-06T08:09:34.133Z"
   },
   {
    "duration": 225,
    "start_time": "2022-08-06T08:09:34.184Z"
   },
   {
    "duration": 146,
    "start_time": "2022-08-06T08:09:34.411Z"
   },
   {
    "duration": 336,
    "start_time": "2022-08-06T08:09:34.558Z"
   },
   {
    "duration": 51,
    "start_time": "2022-08-06T08:09:34.896Z"
   },
   {
    "duration": 240,
    "start_time": "2022-08-06T08:09:34.949Z"
   },
   {
    "duration": 371,
    "start_time": "2022-08-06T08:09:35.191Z"
   },
   {
    "duration": 401,
    "start_time": "2022-08-06T08:09:35.564Z"
   },
   {
    "duration": 280,
    "start_time": "2022-08-06T08:09:35.968Z"
   },
   {
    "duration": 177,
    "start_time": "2022-08-06T08:09:36.251Z"
   },
   {
    "duration": 1002,
    "start_time": "2022-08-06T08:09:41.512Z"
   },
   {
    "duration": 3,
    "start_time": "2022-08-06T08:10:30.114Z"
   },
   {
    "duration": 128,
    "start_time": "2022-08-06T08:10:30.119Z"
   },
   {
    "duration": 42,
    "start_time": "2022-08-06T08:10:30.249Z"
   },
   {
    "duration": 215,
    "start_time": "2022-08-06T08:10:30.293Z"
   },
   {
    "duration": 133,
    "start_time": "2022-08-06T08:10:30.511Z"
   },
   {
    "duration": 339,
    "start_time": "2022-08-06T08:10:30.646Z"
   },
   {
    "duration": 39,
    "start_time": "2022-08-06T08:10:30.987Z"
   },
   {
    "duration": 216,
    "start_time": "2022-08-06T08:10:31.028Z"
   },
   {
    "duration": 252,
    "start_time": "2022-08-06T08:10:31.247Z"
   },
   {
    "duration": 383,
    "start_time": "2022-08-06T08:10:31.501Z"
   },
   {
    "duration": 266,
    "start_time": "2022-08-06T08:10:31.886Z"
   },
   {
    "duration": 158,
    "start_time": "2022-08-06T08:10:32.154Z"
   },
   {
    "duration": 933,
    "start_time": "2022-08-06T08:10:32.313Z"
   },
   {
    "duration": 302,
    "start_time": "2022-08-06T08:10:33.248Z"
   },
   {
    "duration": 17,
    "start_time": "2022-08-06T08:10:33.552Z"
   },
   {
    "duration": 11,
    "start_time": "2022-08-06T08:10:33.571Z"
   },
   {
    "duration": 218,
    "start_time": "2022-08-06T08:16:16.954Z"
   },
   {
    "duration": 4,
    "start_time": "2022-08-06T08:17:00.640Z"
   },
   {
    "duration": 127,
    "start_time": "2022-08-06T08:17:00.646Z"
   },
   {
    "duration": 33,
    "start_time": "2022-08-06T08:17:00.775Z"
   },
   {
    "duration": 221,
    "start_time": "2022-08-06T08:17:00.810Z"
   },
   {
    "duration": 139,
    "start_time": "2022-08-06T08:17:01.033Z"
   },
   {
    "duration": 331,
    "start_time": "2022-08-06T08:17:01.174Z"
   },
   {
    "duration": 47,
    "start_time": "2022-08-06T08:17:01.507Z"
   },
   {
    "duration": 201,
    "start_time": "2022-08-06T08:17:01.568Z"
   },
   {
    "duration": 211,
    "start_time": "2022-08-06T08:17:01.772Z"
   },
   {
    "duration": 364,
    "start_time": "2022-08-06T08:17:01.985Z"
   },
   {
    "duration": 271,
    "start_time": "2022-08-06T08:17:02.351Z"
   },
   {
    "duration": 145,
    "start_time": "2022-08-06T08:17:04.545Z"
   },
   {
    "duration": 4,
    "start_time": "2022-08-06T08:17:18.697Z"
   },
   {
    "duration": 138,
    "start_time": "2022-08-06T08:17:18.703Z"
   },
   {
    "duration": 52,
    "start_time": "2022-08-06T08:17:18.843Z"
   },
   {
    "duration": 227,
    "start_time": "2022-08-06T08:17:18.897Z"
   },
   {
    "duration": 148,
    "start_time": "2022-08-06T08:17:19.126Z"
   },
   {
    "duration": 341,
    "start_time": "2022-08-06T08:17:19.276Z"
   },
   {
    "duration": 50,
    "start_time": "2022-08-06T08:17:19.619Z"
   },
   {
    "duration": 321,
    "start_time": "2022-08-06T08:17:19.670Z"
   },
   {
    "duration": 236,
    "start_time": "2022-08-06T08:17:19.993Z"
   },
   {
    "duration": 379,
    "start_time": "2022-08-06T08:17:20.230Z"
   },
   {
    "duration": 297,
    "start_time": "2022-08-06T08:17:20.612Z"
   },
   {
    "duration": 159,
    "start_time": "2022-08-06T08:17:20.911Z"
   },
   {
    "duration": 1151,
    "start_time": "2022-08-06T08:17:33.179Z"
   },
   {
    "duration": 269,
    "start_time": "2022-08-06T08:17:43.042Z"
   },
   {
    "duration": 14,
    "start_time": "2022-08-06T08:17:50.768Z"
   },
   {
    "duration": 10,
    "start_time": "2022-08-06T08:17:59.760Z"
   },
   {
    "duration": 10,
    "start_time": "2022-08-06T08:18:06.059Z"
   },
   {
    "duration": 10,
    "start_time": "2022-08-06T08:18:17.089Z"
   },
   {
    "duration": 79,
    "start_time": "2022-08-06T08:28:54.620Z"
   },
   {
    "duration": 77,
    "start_time": "2022-08-06T08:41:09.877Z"
   },
   {
    "duration": 3,
    "start_time": "2022-08-06T08:55:06.849Z"
   },
   {
    "duration": 128,
    "start_time": "2022-08-06T08:55:06.854Z"
   },
   {
    "duration": 33,
    "start_time": "2022-08-06T08:55:06.984Z"
   },
   {
    "duration": 247,
    "start_time": "2022-08-06T08:55:07.020Z"
   },
   {
    "duration": 144,
    "start_time": "2022-08-06T08:55:07.269Z"
   },
   {
    "duration": 351,
    "start_time": "2022-08-06T08:55:07.415Z"
   },
   {
    "duration": 50,
    "start_time": "2022-08-06T08:55:07.768Z"
   },
   {
    "duration": 214,
    "start_time": "2022-08-06T08:55:07.820Z"
   },
   {
    "duration": 215,
    "start_time": "2022-08-06T08:55:08.037Z"
   },
   {
    "duration": 374,
    "start_time": "2022-08-06T08:55:08.254Z"
   },
   {
    "duration": 384,
    "start_time": "2022-08-06T08:55:08.630Z"
   },
   {
    "duration": 168,
    "start_time": "2022-08-06T08:55:09.016Z"
   },
   {
    "duration": 1197,
    "start_time": "2022-08-06T08:55:09.187Z"
   },
   {
    "duration": 309,
    "start_time": "2022-08-06T08:55:10.386Z"
   },
   {
    "duration": 11,
    "start_time": "2022-08-06T08:55:10.696Z"
   },
   {
    "duration": 15,
    "start_time": "2022-08-06T08:55:10.710Z"
   },
   {
    "duration": 5,
    "start_time": "2022-08-06T09:05:27.462Z"
   },
   {
    "duration": 155,
    "start_time": "2022-08-06T09:05:27.470Z"
   },
   {
    "duration": 57,
    "start_time": "2022-08-06T09:05:27.627Z"
   },
   {
    "duration": 240,
    "start_time": "2022-08-06T09:05:27.689Z"
   },
   {
    "duration": 160,
    "start_time": "2022-08-06T09:05:27.931Z"
   },
   {
    "duration": 431,
    "start_time": "2022-08-06T09:05:28.094Z"
   },
   {
    "duration": 59,
    "start_time": "2022-08-06T09:05:28.528Z"
   },
   {
    "duration": 222,
    "start_time": "2022-08-06T09:05:28.589Z"
   },
   {
    "duration": 258,
    "start_time": "2022-08-06T09:05:28.813Z"
   },
   {
    "duration": 445,
    "start_time": "2022-08-06T09:05:29.075Z"
   },
   {
    "duration": 300,
    "start_time": "2022-08-06T09:05:29.522Z"
   },
   {
    "duration": 186,
    "start_time": "2022-08-06T09:05:29.824Z"
   },
   {
    "duration": 1287,
    "start_time": "2022-08-06T09:05:30.013Z"
   },
   {
    "duration": 322,
    "start_time": "2022-08-06T09:05:31.302Z"
   },
   {
    "duration": 12,
    "start_time": "2022-08-06T09:05:31.626Z"
   },
   {
    "duration": 39,
    "start_time": "2022-08-06T09:05:31.640Z"
   },
   {
    "duration": 4,
    "start_time": "2022-08-06T11:16:10.248Z"
   },
   {
    "duration": 132,
    "start_time": "2022-08-06T11:16:10.255Z"
   },
   {
    "duration": 31,
    "start_time": "2022-08-06T11:16:10.389Z"
   },
   {
    "duration": 210,
    "start_time": "2022-08-06T11:16:10.422Z"
   },
   {
    "duration": 229,
    "start_time": "2022-08-06T11:16:10.634Z"
   },
   {
    "duration": 335,
    "start_time": "2022-08-06T11:16:10.865Z"
   },
   {
    "duration": 34,
    "start_time": "2022-08-06T11:16:11.202Z"
   },
   {
    "duration": 214,
    "start_time": "2022-08-06T11:16:11.238Z"
   },
   {
    "duration": 233,
    "start_time": "2022-08-06T11:16:11.454Z"
   },
   {
    "duration": 359,
    "start_time": "2022-08-06T11:16:11.690Z"
   },
   {
    "duration": 252,
    "start_time": "2022-08-06T11:16:12.051Z"
   },
   {
    "duration": 151,
    "start_time": "2022-08-06T11:16:12.305Z"
   },
   {
    "duration": 1377,
    "start_time": "2022-08-06T11:16:12.458Z"
   },
   {
    "duration": 271,
    "start_time": "2022-08-06T11:16:13.837Z"
   },
   {
    "duration": 9,
    "start_time": "2022-08-06T11:16:14.110Z"
   },
   {
    "duration": 10,
    "start_time": "2022-08-06T11:16:14.121Z"
   },
   {
    "duration": 299,
    "start_time": "2022-08-06T11:16:55.787Z"
   },
   {
    "duration": 1210,
    "start_time": "2022-08-06T11:29:28.814Z"
   },
   {
    "duration": 280,
    "start_time": "2022-08-06T11:29:30.026Z"
   },
   {
    "duration": 26,
    "start_time": "2022-08-06T11:29:30.307Z"
   },
   {
    "duration": 227,
    "start_time": "2022-08-06T11:29:30.335Z"
   },
   {
    "duration": 116,
    "start_time": "2022-08-06T11:29:30.564Z"
   },
   {
    "duration": 282,
    "start_time": "2022-08-06T11:29:30.682Z"
   },
   {
    "duration": 44,
    "start_time": "2022-08-06T11:29:30.966Z"
   },
   {
    "duration": 179,
    "start_time": "2022-08-06T11:29:31.012Z"
   },
   {
    "duration": 185,
    "start_time": "2022-08-06T11:29:31.193Z"
   },
   {
    "duration": 324,
    "start_time": "2022-08-06T11:29:31.380Z"
   },
   {
    "duration": 223,
    "start_time": "2022-08-06T11:29:31.709Z"
   },
   {
    "duration": 135,
    "start_time": "2022-08-06T11:29:31.934Z"
   },
   {
    "duration": 1654,
    "start_time": "2022-08-06T11:29:32.071Z"
   },
   {
    "duration": 237,
    "start_time": "2022-08-06T11:29:33.727Z"
   },
   {
    "duration": 8,
    "start_time": "2022-08-06T11:29:33.965Z"
   },
   {
    "duration": 9,
    "start_time": "2022-08-06T11:29:33.975Z"
   },
   {
    "duration": 42,
    "start_time": "2022-08-06T12:03:59.244Z"
   },
   {
    "duration": 39,
    "start_time": "2022-08-06T12:04:12.100Z"
   },
   {
    "duration": 50,
    "start_time": "2022-08-06T12:04:45.601Z"
   },
   {
    "duration": 54,
    "start_time": "2022-08-06T12:06:02.947Z"
   },
   {
    "duration": 1247,
    "start_time": "2022-08-06T12:08:51.842Z"
   },
   {
    "duration": 4,
    "start_time": "2022-08-06T12:16:45.173Z"
   },
   {
    "duration": 46,
    "start_time": "2022-08-06T12:16:48.738Z"
   },
   {
    "duration": 48,
    "start_time": "2022-08-06T12:18:08.804Z"
   },
   {
    "duration": 1386,
    "start_time": "2022-08-06T12:19:19.285Z"
   },
   {
    "duration": 1303,
    "start_time": "2022-08-06T12:19:52.808Z"
   },
   {
    "duration": 116,
    "start_time": "2022-08-06T12:26:19.008Z"
   },
   {
    "duration": 109,
    "start_time": "2022-08-06T12:40:48.326Z"
   },
   {
    "duration": 48,
    "start_time": "2022-08-06T20:03:45.547Z"
   },
   {
    "duration": 1424,
    "start_time": "2022-08-06T20:04:01.131Z"
   },
   {
    "duration": 273,
    "start_time": "2022-08-06T20:04:02.557Z"
   },
   {
    "duration": 1183,
    "start_time": "2022-08-06T20:04:02.831Z"
   },
   {
    "duration": 237,
    "start_time": "2022-08-06T20:04:04.037Z"
   },
   {
    "duration": 124,
    "start_time": "2022-08-06T20:04:04.276Z"
   },
   {
    "duration": 98,
    "start_time": "2022-08-06T20:04:04.401Z"
   },
   {
    "duration": 34,
    "start_time": "2022-08-06T20:04:04.818Z"
   },
   {
    "duration": 33,
    "start_time": "2022-08-06T20:04:21.701Z"
   },
   {
    "duration": 3,
    "start_time": "2022-08-06T20:04:29.599Z"
   },
   {
    "duration": 123,
    "start_time": "2022-08-06T20:04:29.604Z"
   },
   {
    "duration": 1184,
    "start_time": "2022-08-06T20:04:29.729Z"
   },
   {
    "duration": 196,
    "start_time": "2022-08-06T20:04:30.930Z"
   },
   {
    "duration": 126,
    "start_time": "2022-08-06T20:04:31.128Z"
   },
   {
    "duration": 33,
    "start_time": "2022-08-06T20:04:38.080Z"
   },
   {
    "duration": 19,
    "start_time": "2022-08-06T20:05:36.244Z"
   },
   {
    "duration": 19,
    "start_time": "2022-08-06T20:06:02.548Z"
   },
   {
    "duration": 4,
    "start_time": "2022-08-06T20:06:41.463Z"
   },
   {
    "duration": 111,
    "start_time": "2022-08-06T20:06:41.469Z"
   },
   {
    "duration": 1270,
    "start_time": "2022-08-06T20:06:41.582Z"
   },
   {
    "duration": 216,
    "start_time": "2022-08-06T20:06:42.854Z"
   },
   {
    "duration": 137,
    "start_time": "2022-08-06T20:06:43.072Z"
   },
   {
    "duration": 22,
    "start_time": "2022-08-06T20:06:43.758Z"
   },
   {
    "duration": 24,
    "start_time": "2022-08-06T20:07:06.913Z"
   },
   {
    "duration": 3,
    "start_time": "2022-08-06T20:12:13.044Z"
   },
   {
    "duration": 112,
    "start_time": "2022-08-06T20:12:13.049Z"
   },
   {
    "duration": 1258,
    "start_time": "2022-08-06T20:12:13.163Z"
   },
   {
    "duration": 192,
    "start_time": "2022-08-06T20:12:14.423Z"
   },
   {
    "duration": 130,
    "start_time": "2022-08-06T20:12:14.616Z"
   },
   {
    "duration": 24,
    "start_time": "2022-08-06T20:12:16.415Z"
   },
   {
    "duration": 3,
    "start_time": "2022-08-06T20:12:53.485Z"
   },
   {
    "duration": 113,
    "start_time": "2022-08-06T20:12:53.490Z"
   },
   {
    "duration": 1234,
    "start_time": "2022-08-06T20:12:53.605Z"
   },
   {
    "duration": 203,
    "start_time": "2022-08-06T20:12:54.841Z"
   },
   {
    "duration": 118,
    "start_time": "2022-08-06T20:12:55.046Z"
   },
   {
    "duration": 753,
    "start_time": "2022-08-06T20:12:56.261Z"
   },
   {
    "duration": 3,
    "start_time": "2022-08-06T20:13:42.043Z"
   },
   {
    "duration": 115,
    "start_time": "2022-08-06T20:13:42.048Z"
   },
   {
    "duration": 1190,
    "start_time": "2022-08-06T20:13:42.165Z"
   },
   {
    "duration": 217,
    "start_time": "2022-08-06T20:13:43.357Z"
   },
   {
    "duration": 132,
    "start_time": "2022-08-06T20:13:43.576Z"
   },
   {
    "duration": 21,
    "start_time": "2022-08-06T20:13:45.824Z"
   },
   {
    "duration": 3,
    "start_time": "2022-08-06T20:15:01.691Z"
   },
   {
    "duration": 141,
    "start_time": "2022-08-06T20:15:01.697Z"
   },
   {
    "duration": 1310,
    "start_time": "2022-08-06T20:15:01.840Z"
   },
   {
    "duration": 224,
    "start_time": "2022-08-06T20:15:03.152Z"
   },
   {
    "duration": 131,
    "start_time": "2022-08-06T20:15:03.378Z"
   },
   {
    "duration": 22,
    "start_time": "2022-08-06T20:15:03.510Z"
   },
   {
    "duration": 3,
    "start_time": "2022-08-06T20:16:44.020Z"
   },
   {
    "duration": 122,
    "start_time": "2022-08-06T20:16:44.025Z"
   },
   {
    "duration": 1202,
    "start_time": "2022-08-06T20:16:44.148Z"
   },
   {
    "duration": 208,
    "start_time": "2022-08-06T20:16:45.352Z"
   },
   {
    "duration": 124,
    "start_time": "2022-08-06T20:16:45.562Z"
   },
   {
    "duration": 22,
    "start_time": "2022-08-06T20:16:47.103Z"
   },
   {
    "duration": 3,
    "start_time": "2022-08-06T20:18:05.381Z"
   },
   {
    "duration": 109,
    "start_time": "2022-08-06T20:18:05.385Z"
   },
   {
    "duration": 1228,
    "start_time": "2022-08-06T20:18:05.496Z"
   },
   {
    "duration": 187,
    "start_time": "2022-08-06T20:18:06.726Z"
   },
   {
    "duration": 121,
    "start_time": "2022-08-06T20:18:06.915Z"
   },
   {
    "duration": 24,
    "start_time": "2022-08-06T20:18:07.127Z"
   },
   {
    "duration": 26,
    "start_time": "2022-08-06T20:27:44.286Z"
   },
   {
    "duration": 3,
    "start_time": "2022-08-06T20:27:53.912Z"
   },
   {
    "duration": 118,
    "start_time": "2022-08-06T20:27:53.917Z"
   },
   {
    "duration": 1235,
    "start_time": "2022-08-06T20:27:54.037Z"
   },
   {
    "duration": 183,
    "start_time": "2022-08-06T20:27:55.311Z"
   },
   {
    "duration": 132,
    "start_time": "2022-08-06T20:27:55.495Z"
   },
   {
    "duration": 28,
    "start_time": "2022-08-06T20:28:13.379Z"
   },
   {
    "duration": 257,
    "start_time": "2022-08-06T20:28:32.310Z"
   },
   {
    "duration": 4,
    "start_time": "2022-08-06T20:28:48.392Z"
   },
   {
    "duration": 111,
    "start_time": "2022-08-06T20:28:48.397Z"
   },
   {
    "duration": 1206,
    "start_time": "2022-08-06T20:28:48.510Z"
   },
   {
    "duration": 211,
    "start_time": "2022-08-06T20:28:49.758Z"
   },
   {
    "duration": 131,
    "start_time": "2022-08-06T20:28:49.971Z"
   },
   {
    "duration": 231,
    "start_time": "2022-08-06T20:29:25.364Z"
   },
   {
    "duration": 3,
    "start_time": "2022-08-06T20:29:56.913Z"
   },
   {
    "duration": 117,
    "start_time": "2022-08-06T20:29:56.918Z"
   },
   {
    "duration": 1229,
    "start_time": "2022-08-06T20:29:57.037Z"
   },
   {
    "duration": 208,
    "start_time": "2022-08-06T20:29:58.268Z"
   },
   {
    "duration": 126,
    "start_time": "2022-08-06T20:29:58.477Z"
   },
   {
    "duration": 241,
    "start_time": "2022-08-06T20:29:58.897Z"
   },
   {
    "duration": 3,
    "start_time": "2022-08-06T20:33:25.800Z"
   },
   {
    "duration": 124,
    "start_time": "2022-08-06T20:33:25.805Z"
   },
   {
    "duration": 1207,
    "start_time": "2022-08-06T20:33:25.931Z"
   },
   {
    "duration": 245,
    "start_time": "2022-08-06T20:33:27.139Z"
   },
   {
    "duration": 211,
    "start_time": "2022-08-06T20:33:27.386Z"
   },
   {
    "duration": 52,
    "start_time": "2022-08-06T20:33:27.599Z"
   },
   {
    "duration": 260,
    "start_time": "2022-08-06T20:33:36.073Z"
   },
   {
    "duration": 4,
    "start_time": "2022-08-06T20:34:01.671Z"
   },
   {
    "duration": 132,
    "start_time": "2022-08-06T20:34:01.677Z"
   },
   {
    "duration": 1260,
    "start_time": "2022-08-06T20:34:01.811Z"
   },
   {
    "duration": 218,
    "start_time": "2022-08-06T20:34:03.073Z"
   },
   {
    "duration": 130,
    "start_time": "2022-08-06T20:34:03.293Z"
   },
   {
    "duration": 246,
    "start_time": "2022-08-06T20:34:03.424Z"
   },
   {
    "duration": 216,
    "start_time": "2022-08-06T20:35:13.960Z"
   },
   {
    "duration": 238,
    "start_time": "2022-08-06T20:37:52.929Z"
   },
   {
    "duration": 754,
    "start_time": "2022-08-06T20:50:19.181Z"
   },
   {
    "duration": 3,
    "start_time": "2022-08-06T20:55:48.484Z"
   },
   {
    "duration": 113,
    "start_time": "2022-08-06T20:55:48.489Z"
   },
   {
    "duration": 1235,
    "start_time": "2022-08-06T20:55:48.608Z"
   },
   {
    "duration": 228,
    "start_time": "2022-08-06T20:55:49.845Z"
   },
   {
    "duration": 141,
    "start_time": "2022-08-06T20:55:50.075Z"
   },
   {
    "duration": 351,
    "start_time": "2022-08-06T20:55:50.217Z"
   },
   {
    "duration": 41,
    "start_time": "2022-08-06T20:55:50.570Z"
   },
   {
    "duration": 195,
    "start_time": "2022-08-06T20:55:50.613Z"
   },
   {
    "duration": 194,
    "start_time": "2022-08-06T20:55:50.810Z"
   },
   {
    "duration": 157,
    "start_time": "2022-08-06T20:55:51.005Z"
   },
   {
    "duration": 158,
    "start_time": "2022-08-06T20:57:28.010Z"
   },
   {
    "duration": 135,
    "start_time": "2022-08-06T21:00:18.869Z"
   },
   {
    "duration": 4,
    "start_time": "2022-08-06T21:00:23.357Z"
   },
   {
    "duration": 120,
    "start_time": "2022-08-06T21:00:23.363Z"
   },
   {
    "duration": 1343,
    "start_time": "2022-08-06T21:00:23.484Z"
   },
   {
    "duration": 202,
    "start_time": "2022-08-06T21:00:24.829Z"
   },
   {
    "duration": 130,
    "start_time": "2022-08-06T21:00:25.033Z"
   },
   {
    "duration": 278,
    "start_time": "2022-08-06T21:00:25.164Z"
   },
   {
    "duration": 33,
    "start_time": "2022-08-06T21:00:25.444Z"
   },
   {
    "duration": 201,
    "start_time": "2022-08-06T21:00:25.478Z"
   },
   {
    "duration": 201,
    "start_time": "2022-08-06T21:00:25.682Z"
   },
   {
    "duration": 171,
    "start_time": "2022-08-06T21:00:25.885Z"
   },
   {
    "duration": 134,
    "start_time": "2022-08-06T21:01:09.333Z"
   },
   {
    "duration": 3,
    "start_time": "2022-08-06T21:06:51.970Z"
   },
   {
    "duration": 118,
    "start_time": "2022-08-06T21:06:51.975Z"
   },
   {
    "duration": 1227,
    "start_time": "2022-08-06T21:06:52.094Z"
   },
   {
    "duration": 195,
    "start_time": "2022-08-06T21:06:53.323Z"
   },
   {
    "duration": 127,
    "start_time": "2022-08-06T21:06:53.520Z"
   },
   {
    "duration": 360,
    "start_time": "2022-08-06T21:06:53.648Z"
   },
   {
    "duration": 34,
    "start_time": "2022-08-06T21:06:54.010Z"
   },
   {
    "duration": 204,
    "start_time": "2022-08-06T21:06:54.046Z"
   },
   {
    "duration": 204,
    "start_time": "2022-08-06T21:06:54.252Z"
   },
   {
    "duration": 764,
    "start_time": "2022-08-06T21:06:54.458Z"
   },
   {
    "duration": 544,
    "start_time": "2022-08-06T21:08:06.281Z"
   },
   {
    "duration": 579,
    "start_time": "2022-08-06T21:08:51.262Z"
   },
   {
    "duration": 531,
    "start_time": "2022-08-06T21:10:03.829Z"
   },
   {
    "duration": 639,
    "start_time": "2022-08-06T21:10:46.957Z"
   },
   {
    "duration": 29,
    "start_time": "2022-08-06T21:13:47.773Z"
   },
   {
    "duration": 3,
    "start_time": "2022-08-06T21:13:51.631Z"
   },
   {
    "duration": 122,
    "start_time": "2022-08-06T21:13:51.636Z"
   },
   {
    "duration": 1166,
    "start_time": "2022-08-06T21:13:51.760Z"
   },
   {
    "duration": 196,
    "start_time": "2022-08-06T21:13:52.928Z"
   },
   {
    "duration": 121,
    "start_time": "2022-08-06T21:13:53.126Z"
   },
   {
    "duration": 277,
    "start_time": "2022-08-06T21:13:53.249Z"
   },
   {
    "duration": 32,
    "start_time": "2022-08-06T21:13:53.528Z"
   },
   {
    "duration": 205,
    "start_time": "2022-08-06T21:13:53.561Z"
   },
   {
    "duration": 197,
    "start_time": "2022-08-06T21:13:53.769Z"
   },
   {
    "duration": 548,
    "start_time": "2022-08-06T21:13:53.968Z"
   },
   {
    "duration": 243,
    "start_time": "2022-08-06T21:13:54.522Z"
   },
   {
    "duration": 156,
    "start_time": "2022-08-06T21:13:54.766Z"
   },
   {
    "duration": 1356,
    "start_time": "2022-08-06T21:13:54.923Z"
   },
   {
    "duration": 261,
    "start_time": "2022-08-06T21:13:56.281Z"
   },
   {
    "duration": 1362,
    "start_time": "2022-08-07T04:53:36.743Z"
   },
   {
    "duration": 279,
    "start_time": "2022-08-07T04:53:38.106Z"
   },
   {
    "duration": 1183,
    "start_time": "2022-08-07T04:53:38.386Z"
   },
   {
    "duration": 222,
    "start_time": "2022-08-07T04:53:39.608Z"
   },
   {
    "duration": 123,
    "start_time": "2022-08-07T04:53:39.833Z"
   },
   {
    "duration": 254,
    "start_time": "2022-08-07T04:53:39.957Z"
   },
   {
    "duration": 32,
    "start_time": "2022-08-07T04:53:40.213Z"
   },
   {
    "duration": 205,
    "start_time": "2022-08-07T04:53:40.246Z"
   },
   {
    "duration": 183,
    "start_time": "2022-08-07T04:53:40.453Z"
   },
   {
    "duration": 506,
    "start_time": "2022-08-07T04:53:40.637Z"
   },
   {
    "duration": 296,
    "start_time": "2022-08-07T04:53:41.145Z"
   },
   {
    "duration": 139,
    "start_time": "2022-08-07T04:53:41.443Z"
   },
   {
    "duration": 1298,
    "start_time": "2022-08-07T04:53:41.583Z"
   },
   {
    "duration": 250,
    "start_time": "2022-08-07T04:53:42.884Z"
   },
   {
    "duration": 8,
    "start_time": "2022-08-07T04:53:43.135Z"
   },
   {
    "duration": 12,
    "start_time": "2022-08-07T04:53:43.145Z"
   },
   {
    "duration": 1195,
    "start_time": "2022-08-07T04:55:58.550Z"
   },
   {
    "duration": 34,
    "start_time": "2022-08-07T04:56:06.161Z"
   },
   {
    "duration": 33,
    "start_time": "2022-08-07T04:56:42.752Z"
   },
   {
    "duration": 1178,
    "start_time": "2022-08-07T04:58:20.462Z"
   },
   {
    "duration": 1194,
    "start_time": "2022-08-07T05:43:03.922Z"
   },
   {
    "duration": 12,
    "start_time": "2022-08-07T05:43:19.046Z"
   },
   {
    "duration": 12,
    "start_time": "2022-08-07T05:52:49.531Z"
   },
   {
    "duration": 112,
    "start_time": "2022-08-07T05:55:24.344Z"
   },
   {
    "duration": 18,
    "start_time": "2022-08-07T05:55:44.892Z"
   },
   {
    "duration": 22,
    "start_time": "2022-08-07T05:56:14.970Z"
   },
   {
    "duration": 16,
    "start_time": "2022-08-07T05:56:40.694Z"
   },
   {
    "duration": 17,
    "start_time": "2022-08-07T05:57:17.450Z"
   },
   {
    "duration": 25,
    "start_time": "2022-08-07T05:57:36.987Z"
   },
   {
    "duration": 56,
    "start_time": "2022-08-07T05:58:00.173Z"
   },
   {
    "duration": 3,
    "start_time": "2022-08-07T05:58:10.427Z"
   },
   {
    "duration": 114,
    "start_time": "2022-08-07T05:58:10.432Z"
   },
   {
    "duration": 26,
    "start_time": "2022-08-07T05:58:10.548Z"
   },
   {
    "duration": 73,
    "start_time": "2022-08-07T05:58:10.576Z"
   },
   {
    "duration": 52,
    "start_time": "2022-08-07T05:58:19.993Z"
   },
   {
    "duration": 46,
    "start_time": "2022-08-07T05:58:48.673Z"
   },
   {
    "duration": 49,
    "start_time": "2022-08-07T06:28:48.743Z"
   },
   {
    "duration": 62,
    "start_time": "2022-08-07T06:29:27.180Z"
   },
   {
    "duration": 6665,
    "start_time": "2022-08-07T06:29:34.581Z"
   },
   {
    "duration": 40780,
    "start_time": "2022-08-07T06:29:48.742Z"
   },
   {
    "duration": 17855,
    "start_time": "2022-08-07T06:30:57.480Z"
   },
   {
    "duration": 1400,
    "start_time": "2022-08-07T10:44:27.655Z"
   },
   {
    "duration": 292,
    "start_time": "2022-08-07T10:44:29.057Z"
   },
   {
    "duration": 24,
    "start_time": "2022-08-07T10:44:29.351Z"
   },
   {
    "duration": 41982,
    "start_time": "2022-08-07T10:44:29.377Z"
   },
   {
    "duration": 0,
    "start_time": "2022-08-07T10:45:11.361Z"
   },
   {
    "duration": 0,
    "start_time": "2022-08-07T10:45:11.362Z"
   },
   {
    "duration": 0,
    "start_time": "2022-08-07T10:45:11.363Z"
   },
   {
    "duration": 0,
    "start_time": "2022-08-07T10:45:11.364Z"
   },
   {
    "duration": 0,
    "start_time": "2022-08-07T10:45:11.365Z"
   },
   {
    "duration": 0,
    "start_time": "2022-08-07T10:45:11.366Z"
   },
   {
    "duration": 0,
    "start_time": "2022-08-07T10:45:11.367Z"
   },
   {
    "duration": 0,
    "start_time": "2022-08-07T10:45:11.368Z"
   },
   {
    "duration": 0,
    "start_time": "2022-08-07T10:45:11.369Z"
   },
   {
    "duration": 0,
    "start_time": "2022-08-07T10:45:11.386Z"
   },
   {
    "duration": 0,
    "start_time": "2022-08-07T10:45:11.387Z"
   },
   {
    "duration": 0,
    "start_time": "2022-08-07T10:45:11.388Z"
   },
   {
    "duration": 0,
    "start_time": "2022-08-07T10:45:11.389Z"
   },
   {
    "duration": 34540,
    "start_time": "2022-08-07T10:47:30.372Z"
   },
   {
    "duration": 24,
    "start_time": "2022-08-07T10:53:21.057Z"
   },
   {
    "duration": 51,
    "start_time": "2022-08-07T10:53:56.336Z"
   },
   {
    "duration": 3283,
    "start_time": "2022-08-07T10:55:08.769Z"
   },
   {
    "duration": 3332,
    "start_time": "2022-08-07T10:55:47.545Z"
   },
   {
    "duration": 57,
    "start_time": "2022-08-07T10:56:22.264Z"
   },
   {
    "duration": 3,
    "start_time": "2022-08-07T10:58:38.995Z"
   },
   {
    "duration": 106,
    "start_time": "2022-08-07T10:58:39.000Z"
   },
   {
    "duration": 26,
    "start_time": "2022-08-07T10:58:39.107Z"
   },
   {
    "duration": 25,
    "start_time": "2022-08-07T11:01:17.989Z"
   },
   {
    "duration": 264,
    "start_time": "2022-08-07T11:01:52.921Z"
   },
   {
    "duration": 3,
    "start_time": "2022-08-07T11:01:56.978Z"
   },
   {
    "duration": 110,
    "start_time": "2022-08-07T11:01:56.983Z"
   },
   {
    "duration": 25,
    "start_time": "2022-08-07T11:01:57.095Z"
   },
   {
    "duration": 262,
    "start_time": "2022-08-07T11:01:57.122Z"
   },
   {
    "duration": 301,
    "start_time": "2022-08-07T11:01:59.908Z"
   },
   {
    "duration": 61,
    "start_time": "2022-08-07T11:02:13.447Z"
   },
   {
    "duration": 65,
    "start_time": "2022-08-07T11:02:58.790Z"
   },
   {
    "duration": 72,
    "start_time": "2022-08-07T11:04:37.967Z"
   },
   {
    "duration": 68,
    "start_time": "2022-08-07T11:05:46.760Z"
   },
   {
    "duration": 69,
    "start_time": "2022-08-07T11:05:51.615Z"
   },
   {
    "duration": 71,
    "start_time": "2022-08-07T11:07:28.060Z"
   },
   {
    "duration": 99,
    "start_time": "2022-08-07T11:08:36.395Z"
   },
   {
    "duration": 4,
    "start_time": "2022-08-07T11:10:03.124Z"
   },
   {
    "duration": 118,
    "start_time": "2022-08-07T11:10:03.130Z"
   },
   {
    "duration": 40,
    "start_time": "2022-08-07T11:10:03.250Z"
   },
   {
    "duration": 71,
    "start_time": "2022-08-07T11:10:03.291Z"
   },
   {
    "duration": 262,
    "start_time": "2022-08-07T11:10:03.364Z"
   },
   {
    "duration": 122,
    "start_time": "2022-08-07T11:10:03.628Z"
   },
   {
    "duration": 321,
    "start_time": "2022-08-07T11:10:05.969Z"
   },
   {
    "duration": 4,
    "start_time": "2022-08-07T11:11:04.107Z"
   },
   {
    "duration": 115,
    "start_time": "2022-08-07T11:11:04.113Z"
   },
   {
    "duration": 29,
    "start_time": "2022-08-07T11:11:04.230Z"
   },
   {
    "duration": 96,
    "start_time": "2022-08-07T11:11:04.261Z"
   },
   {
    "duration": 199,
    "start_time": "2022-08-07T11:11:04.359Z"
   },
   {
    "duration": 124,
    "start_time": "2022-08-07T11:11:04.560Z"
   },
   {
    "duration": 245,
    "start_time": "2022-08-07T11:11:04.686Z"
   },
   {
    "duration": 31,
    "start_time": "2022-08-07T11:11:04.932Z"
   },
   {
    "duration": 197,
    "start_time": "2022-08-07T11:11:04.964Z"
   },
   {
    "duration": 270,
    "start_time": "2022-08-07T11:11:05.163Z"
   },
   {
    "duration": 584,
    "start_time": "2022-08-07T11:11:08.081Z"
   },
   {
    "duration": 56,
    "start_time": "2022-08-07T11:13:07.314Z"
   },
   {
    "duration": 114,
    "start_time": "2022-08-07T11:14:34.746Z"
   },
   {
    "duration": 59,
    "start_time": "2022-08-07T11:15:18.900Z"
   },
   {
    "duration": 68,
    "start_time": "2022-08-07T11:15:49.970Z"
   },
   {
    "duration": 399,
    "start_time": "2022-08-07T11:16:18.948Z"
   },
   {
    "duration": 2,
    "start_time": "2022-08-07T12:13:23.644Z"
   },
   {
    "duration": 116,
    "start_time": "2022-08-07T12:13:23.651Z"
   },
   {
    "duration": 43,
    "start_time": "2022-08-07T12:13:23.769Z"
   },
   {
    "duration": 109,
    "start_time": "2022-08-07T12:13:23.814Z"
   },
   {
    "duration": 220,
    "start_time": "2022-08-07T12:13:23.925Z"
   },
   {
    "duration": 134,
    "start_time": "2022-08-07T12:13:24.147Z"
   },
   {
    "duration": 290,
    "start_time": "2022-08-07T12:13:24.283Z"
   },
   {
    "duration": 41,
    "start_time": "2022-08-07T12:13:24.575Z"
   },
   {
    "duration": 203,
    "start_time": "2022-08-07T12:13:24.618Z"
   },
   {
    "duration": 214,
    "start_time": "2022-08-07T12:13:24.823Z"
   },
   {
    "duration": 470,
    "start_time": "2022-08-07T12:13:25.039Z"
   },
   {
    "duration": 239,
    "start_time": "2022-08-07T12:13:25.511Z"
   },
   {
    "duration": 167,
    "start_time": "2022-08-07T12:13:25.752Z"
   },
   {
    "duration": 1338,
    "start_time": "2022-08-07T12:13:25.921Z"
   },
   {
    "duration": 283,
    "start_time": "2022-08-07T12:13:27.261Z"
   },
   {
    "duration": 12,
    "start_time": "2022-08-07T12:13:27.546Z"
   },
   {
    "duration": 29,
    "start_time": "2022-08-07T12:13:27.560Z"
   },
   {
    "duration": 455,
    "start_time": "2022-08-07T12:14:50.722Z"
   },
   {
    "duration": 128,
    "start_time": "2022-08-07T12:15:29.272Z"
   },
   {
    "duration": 376,
    "start_time": "2022-08-07T12:19:29.024Z"
   },
   {
    "duration": 362,
    "start_time": "2022-08-07T12:20:33.591Z"
   },
   {
    "duration": 557,
    "start_time": "2022-08-07T12:25:19.329Z"
   },
   {
    "duration": 133,
    "start_time": "2022-08-07T12:27:48.998Z"
   },
   {
    "duration": 563,
    "start_time": "2022-08-07T12:29:04.612Z"
   },
   {
    "duration": 361,
    "start_time": "2022-08-07T12:35:02.516Z"
   },
   {
    "duration": 663,
    "start_time": "2022-08-07T12:38:28.026Z"
   },
   {
    "duration": 477,
    "start_time": "2022-08-07T12:39:04.547Z"
   },
   {
    "duration": 29,
    "start_time": "2022-08-07T12:54:01.367Z"
   },
   {
    "duration": 3,
    "start_time": "2022-08-07T12:54:23.470Z"
   },
   {
    "duration": 114,
    "start_time": "2022-08-07T12:54:23.489Z"
   },
   {
    "duration": 31,
    "start_time": "2022-08-07T12:54:23.607Z"
   },
   {
    "duration": 102,
    "start_time": "2022-08-07T12:54:23.639Z"
   },
   {
    "duration": 215,
    "start_time": "2022-08-07T12:54:23.742Z"
   },
   {
    "duration": 153,
    "start_time": "2022-08-07T12:54:23.959Z"
   },
   {
    "duration": 257,
    "start_time": "2022-08-07T12:54:24.114Z"
   },
   {
    "duration": 40,
    "start_time": "2022-08-07T12:54:24.373Z"
   },
   {
    "duration": 299,
    "start_time": "2022-08-07T12:54:24.414Z"
   },
   {
    "duration": 204,
    "start_time": "2022-08-07T12:54:24.715Z"
   },
   {
    "duration": 534,
    "start_time": "2022-08-07T12:54:24.922Z"
   },
   {
    "duration": 239,
    "start_time": "2022-08-07T12:54:25.458Z"
   },
   {
    "duration": 159,
    "start_time": "2022-08-07T12:54:25.701Z"
   },
   {
    "duration": 1337,
    "start_time": "2022-08-07T12:54:25.862Z"
   },
   {
    "duration": 259,
    "start_time": "2022-08-07T12:54:27.202Z"
   },
   {
    "duration": 8,
    "start_time": "2022-08-07T12:54:27.463Z"
   },
   {
    "duration": 18,
    "start_time": "2022-08-07T12:54:27.472Z"
   },
   {
    "duration": 20,
    "start_time": "2022-08-07T12:54:55.534Z"
   },
   {
    "duration": 27,
    "start_time": "2022-08-07T12:55:39.959Z"
   },
   {
    "duration": 3,
    "start_time": "2022-08-07T12:57:25.369Z"
   },
   {
    "duration": 121,
    "start_time": "2022-08-07T12:57:25.374Z"
   },
   {
    "duration": 34,
    "start_time": "2022-08-07T12:57:25.498Z"
   },
   {
    "duration": 104,
    "start_time": "2022-08-07T12:57:25.534Z"
   },
   {
    "duration": 193,
    "start_time": "2022-08-07T12:57:25.639Z"
   },
   {
    "duration": 134,
    "start_time": "2022-08-07T12:57:25.834Z"
   },
   {
    "duration": 308,
    "start_time": "2022-08-07T12:57:25.970Z"
   },
   {
    "duration": 57,
    "start_time": "2022-08-07T12:57:26.280Z"
   },
   {
    "duration": 267,
    "start_time": "2022-08-07T12:57:26.340Z"
   },
   {
    "duration": 220,
    "start_time": "2022-08-07T12:57:26.610Z"
   },
   {
    "duration": 545,
    "start_time": "2022-08-07T12:57:26.831Z"
   },
   {
    "duration": 369,
    "start_time": "2022-08-07T12:57:27.377Z"
   },
   {
    "duration": 155,
    "start_time": "2022-08-07T12:57:27.748Z"
   },
   {
    "duration": 1021,
    "start_time": "2022-08-07T12:57:27.905Z"
   },
   {
    "duration": 313,
    "start_time": "2022-08-07T12:57:28.928Z"
   },
   {
    "duration": 9,
    "start_time": "2022-08-07T12:57:29.243Z"
   },
   {
    "duration": 10,
    "start_time": "2022-08-07T12:57:29.253Z"
   },
   {
    "duration": 48,
    "start_time": "2022-08-07T12:57:29.264Z"
   },
   {
    "duration": 7,
    "start_time": "2022-08-07T12:58:40.751Z"
   },
   {
    "duration": 3,
    "start_time": "2022-08-07T12:59:07.357Z"
   },
   {
    "duration": 128,
    "start_time": "2022-08-07T12:59:07.362Z"
   },
   {
    "duration": 27,
    "start_time": "2022-08-07T12:59:07.492Z"
   },
   {
    "duration": 113,
    "start_time": "2022-08-07T12:59:07.521Z"
   },
   {
    "duration": 196,
    "start_time": "2022-08-07T12:59:07.637Z"
   },
   {
    "duration": 129,
    "start_time": "2022-08-07T12:59:07.834Z"
   },
   {
    "duration": 255,
    "start_time": "2022-08-07T12:59:07.965Z"
   },
   {
    "duration": 34,
    "start_time": "2022-08-07T12:59:08.222Z"
   },
   {
    "duration": 195,
    "start_time": "2022-08-07T12:59:08.257Z"
   },
   {
    "duration": 197,
    "start_time": "2022-08-07T12:59:08.454Z"
   },
   {
    "duration": 491,
    "start_time": "2022-08-07T12:59:08.652Z"
   },
   {
    "duration": 237,
    "start_time": "2022-08-07T12:59:09.144Z"
   },
   {
    "duration": 153,
    "start_time": "2022-08-07T12:59:09.382Z"
   },
   {
    "duration": 1022,
    "start_time": "2022-08-07T12:59:09.537Z"
   },
   {
    "duration": 274,
    "start_time": "2022-08-07T12:59:10.561Z"
   },
   {
    "duration": 8,
    "start_time": "2022-08-07T12:59:10.836Z"
   },
   {
    "duration": 25,
    "start_time": "2022-08-07T12:59:10.846Z"
   },
   {
    "duration": 21,
    "start_time": "2022-08-07T12:59:10.873Z"
   },
   {
    "duration": 10,
    "start_time": "2022-08-07T13:00:15.096Z"
   },
   {
    "duration": 14,
    "start_time": "2022-08-07T13:01:51.429Z"
   },
   {
    "duration": 247,
    "start_time": "2022-08-07T13:03:08.742Z"
   },
   {
    "duration": 3,
    "start_time": "2022-08-07T13:03:14.303Z"
   },
   {
    "duration": 105,
    "start_time": "2022-08-07T13:03:14.319Z"
   },
   {
    "duration": 24,
    "start_time": "2022-08-07T13:03:14.426Z"
   },
   {
    "duration": 101,
    "start_time": "2022-08-07T13:03:14.451Z"
   },
   {
    "duration": 181,
    "start_time": "2022-08-07T13:03:14.554Z"
   },
   {
    "duration": 280,
    "start_time": "2022-08-07T13:03:14.736Z"
   },
   {
    "duration": 290,
    "start_time": "2022-08-07T13:03:15.018Z"
   },
   {
    "duration": 31,
    "start_time": "2022-08-07T13:03:15.310Z"
   },
   {
    "duration": 186,
    "start_time": "2022-08-07T13:03:15.342Z"
   },
   {
    "duration": 191,
    "start_time": "2022-08-07T13:03:15.530Z"
   },
   {
    "duration": 533,
    "start_time": "2022-08-07T13:03:15.722Z"
   },
   {
    "duration": 286,
    "start_time": "2022-08-07T13:03:16.257Z"
   },
   {
    "duration": 158,
    "start_time": "2022-08-07T13:03:16.545Z"
   },
   {
    "duration": 1054,
    "start_time": "2022-08-07T13:03:16.704Z"
   },
   {
    "duration": 239,
    "start_time": "2022-08-07T13:03:17.760Z"
   },
   {
    "duration": 9,
    "start_time": "2022-08-07T13:03:18.000Z"
   },
   {
    "duration": 11,
    "start_time": "2022-08-07T13:03:18.010Z"
   },
   {
    "duration": 203,
    "start_time": "2022-08-07T13:03:18.022Z"
   },
   {
    "duration": 17,
    "start_time": "2022-08-07T13:04:09.452Z"
   },
   {
    "duration": 4,
    "start_time": "2022-08-07T13:04:58.419Z"
   },
   {
    "duration": 110,
    "start_time": "2022-08-07T13:04:58.425Z"
   },
   {
    "duration": 26,
    "start_time": "2022-08-07T13:04:58.537Z"
   },
   {
    "duration": 88,
    "start_time": "2022-08-07T13:04:58.564Z"
   },
   {
    "duration": 197,
    "start_time": "2022-08-07T13:04:58.653Z"
   },
   {
    "duration": 141,
    "start_time": "2022-08-07T13:04:58.852Z"
   },
   {
    "duration": 255,
    "start_time": "2022-08-07T13:04:58.995Z"
   },
   {
    "duration": 41,
    "start_time": "2022-08-07T13:04:59.252Z"
   },
   {
    "duration": 182,
    "start_time": "2022-08-07T13:04:59.295Z"
   },
   {
    "duration": 278,
    "start_time": "2022-08-07T13:04:59.478Z"
   },
   {
    "duration": 504,
    "start_time": "2022-08-07T13:04:59.758Z"
   },
   {
    "duration": 235,
    "start_time": "2022-08-07T13:05:00.263Z"
   },
   {
    "duration": 134,
    "start_time": "2022-08-07T13:05:00.500Z"
   },
   {
    "duration": 987,
    "start_time": "2022-08-07T13:05:00.636Z"
   },
   {
    "duration": 277,
    "start_time": "2022-08-07T13:05:01.625Z"
   },
   {
    "duration": 10,
    "start_time": "2022-08-07T13:05:01.904Z"
   },
   {
    "duration": 18,
    "start_time": "2022-08-07T13:05:01.916Z"
   },
   {
    "duration": 19,
    "start_time": "2022-08-07T13:05:01.936Z"
   },
   {
    "duration": 3,
    "start_time": "2022-08-07T13:06:22.748Z"
   },
   {
    "duration": 133,
    "start_time": "2022-08-07T13:06:22.754Z"
   },
   {
    "duration": 28,
    "start_time": "2022-08-07T13:06:22.888Z"
   },
   {
    "duration": 93,
    "start_time": "2022-08-07T13:06:22.918Z"
   },
   {
    "duration": 213,
    "start_time": "2022-08-07T13:06:23.013Z"
   },
   {
    "duration": 132,
    "start_time": "2022-08-07T13:06:23.228Z"
   },
   {
    "duration": 328,
    "start_time": "2022-08-07T13:06:23.362Z"
   },
   {
    "duration": 34,
    "start_time": "2022-08-07T13:06:23.693Z"
   },
   {
    "duration": 235,
    "start_time": "2022-08-07T13:06:23.729Z"
   },
   {
    "duration": 217,
    "start_time": "2022-08-07T13:06:23.966Z"
   },
   {
    "duration": 600,
    "start_time": "2022-08-07T13:06:24.187Z"
   },
   {
    "duration": 258,
    "start_time": "2022-08-07T13:06:24.790Z"
   },
   {
    "duration": 182,
    "start_time": "2022-08-07T13:06:25.052Z"
   },
   {
    "duration": 1178,
    "start_time": "2022-08-07T13:06:25.236Z"
   },
   {
    "duration": 344,
    "start_time": "2022-08-07T13:06:26.416Z"
   },
   {
    "duration": 9,
    "start_time": "2022-08-07T13:06:26.762Z"
   },
   {
    "duration": 21,
    "start_time": "2022-08-07T13:06:26.773Z"
   },
   {
    "duration": 247,
    "start_time": "2022-08-07T13:06:26.795Z"
   },
   {
    "duration": 1695,
    "start_time": "2022-08-07T16:18:53.492Z"
   },
   {
    "duration": 207,
    "start_time": "2022-08-07T16:18:55.190Z"
   },
   {
    "duration": 31,
    "start_time": "2022-08-07T16:18:55.399Z"
   },
   {
    "duration": 100,
    "start_time": "2022-08-07T16:18:55.431Z"
   },
   {
    "duration": 249,
    "start_time": "2022-08-07T16:18:55.534Z"
   },
   {
    "duration": 136,
    "start_time": "2022-08-07T16:18:55.786Z"
   },
   {
    "duration": 349,
    "start_time": "2022-08-07T16:18:55.924Z"
   },
   {
    "duration": 44,
    "start_time": "2022-08-07T16:18:56.274Z"
   },
   {
    "duration": 221,
    "start_time": "2022-08-07T16:18:56.320Z"
   },
   {
    "duration": 217,
    "start_time": "2022-08-07T16:18:56.543Z"
   },
   {
    "duration": 625,
    "start_time": "2022-08-07T16:18:56.762Z"
   },
   {
    "duration": 270,
    "start_time": "2022-08-07T16:18:57.389Z"
   },
   {
    "duration": 164,
    "start_time": "2022-08-07T16:18:57.661Z"
   },
   {
    "duration": 1654,
    "start_time": "2022-08-07T16:18:57.828Z"
   },
   {
    "duration": 288,
    "start_time": "2022-08-07T16:18:59.486Z"
   },
   {
    "duration": 21,
    "start_time": "2022-08-07T16:18:59.776Z"
   },
   {
    "duration": 20,
    "start_time": "2022-08-07T16:18:59.800Z"
   },
   {
    "duration": 276,
    "start_time": "2022-08-07T16:18:59.823Z"
   },
   {
    "duration": 5187,
    "start_time": "2022-08-07T16:40:53.380Z"
   },
   {
    "duration": 3,
    "start_time": "2022-08-07T16:41:03.281Z"
   },
   {
    "duration": 169,
    "start_time": "2022-08-07T16:41:03.286Z"
   },
   {
    "duration": 43,
    "start_time": "2022-08-07T16:41:03.457Z"
   },
   {
    "duration": 5074,
    "start_time": "2022-08-07T16:41:06.778Z"
   },
   {
    "duration": 78,
    "start_time": "2022-08-07T16:41:46.264Z"
   },
   {
    "duration": 96,
    "start_time": "2022-08-07T16:50:16.206Z"
   },
   {
    "duration": 93,
    "start_time": "2022-08-07T16:50:42.721Z"
   },
   {
    "duration": 92,
    "start_time": "2022-08-07T16:51:25.326Z"
   },
   {
    "duration": 19,
    "start_time": "2022-08-07T16:52:45.362Z"
   },
   {
    "duration": 22019,
    "start_time": "2022-08-07T16:52:57.576Z"
   },
   {
    "duration": 101,
    "start_time": "2022-08-07T16:53:34.904Z"
   },
   {
    "duration": 22373,
    "start_time": "2022-08-07T16:53:56.619Z"
   },
   {
    "duration": 94,
    "start_time": "2022-08-07T16:56:36.003Z"
   },
   {
    "duration": 103,
    "start_time": "2022-08-07T16:57:28.202Z"
   },
   {
    "duration": 4755,
    "start_time": "2022-08-07T16:58:38.763Z"
   },
   {
    "duration": 24309,
    "start_time": "2022-08-07T16:59:19.824Z"
   },
   {
    "duration": 86,
    "start_time": "2022-08-07T17:00:05.042Z"
   },
   {
    "duration": 92,
    "start_time": "2022-08-07T17:01:13.100Z"
   },
   {
    "duration": 93,
    "start_time": "2022-08-07T17:01:48.620Z"
   },
   {
    "duration": 26,
    "start_time": "2022-08-07T17:02:28.232Z"
   },
   {
    "duration": 27,
    "start_time": "2022-08-07T17:04:10.095Z"
   },
   {
    "duration": 18,
    "start_time": "2022-08-07T17:14:25.626Z"
   },
   {
    "duration": 27,
    "start_time": "2022-08-07T17:14:46.832Z"
   },
   {
    "duration": 91,
    "start_time": "2022-08-07T17:15:02.964Z"
   },
   {
    "duration": 98,
    "start_time": "2022-08-07T17:19:49.052Z"
   },
   {
    "duration": 108,
    "start_time": "2022-08-07T17:20:00.587Z"
   },
   {
    "duration": 83,
    "start_time": "2022-08-07T17:20:27.304Z"
   },
   {
    "duration": 653,
    "start_time": "2022-08-07T17:21:57.011Z"
   },
   {
    "duration": 86,
    "start_time": "2022-08-07T17:22:14.676Z"
   },
   {
    "duration": 84,
    "start_time": "2022-08-07T17:23:11.687Z"
   },
   {
    "duration": 103,
    "start_time": "2022-08-07T17:24:15.035Z"
   },
   {
    "duration": 61,
    "start_time": "2022-08-07T17:25:15.989Z"
   },
   {
    "duration": 67,
    "start_time": "2022-08-07T17:26:48.626Z"
   },
   {
    "duration": 66,
    "start_time": "2022-08-07T17:27:52.215Z"
   },
   {
    "duration": 33,
    "start_time": "2022-08-07T17:29:30.683Z"
   },
   {
    "duration": 1362,
    "start_time": "2022-08-07T17:30:23.448Z"
   },
   {
    "duration": 1322,
    "start_time": "2022-08-07T17:43:48.574Z"
   },
   {
    "duration": 1421,
    "start_time": "2022-08-07T17:45:32.393Z"
   },
   {
    "duration": 1446,
    "start_time": "2022-08-07T17:46:42.569Z"
   },
   {
    "duration": 1513,
    "start_time": "2022-08-07T17:46:50.792Z"
   },
   {
    "duration": 1423,
    "start_time": "2022-08-07T17:46:56.412Z"
   },
   {
    "duration": 36,
    "start_time": "2022-08-07T17:48:03.699Z"
   },
   {
    "duration": 2817,
    "start_time": "2022-08-07T17:48:31.437Z"
   },
   {
    "duration": 38,
    "start_time": "2022-08-07T17:49:05.333Z"
   },
   {
    "duration": 1403,
    "start_time": "2022-08-07T17:49:17.491Z"
   },
   {
    "duration": 1452,
    "start_time": "2022-08-07T17:50:20.473Z"
   },
   {
    "duration": 47,
    "start_time": "2022-08-07T17:50:46.870Z"
   },
   {
    "duration": 40,
    "start_time": "2022-08-07T17:51:02.322Z"
   },
   {
    "duration": 1755,
    "start_time": "2022-08-07T17:51:20.279Z"
   },
   {
    "duration": 3,
    "start_time": "2022-08-07T17:52:33.174Z"
   },
   {
    "duration": 122,
    "start_time": "2022-08-07T17:52:33.186Z"
   },
   {
    "duration": 30,
    "start_time": "2022-08-07T17:52:33.310Z"
   },
   {
    "duration": 1598,
    "start_time": "2022-08-07T17:52:38.198Z"
   },
   {
    "duration": 1641,
    "start_time": "2022-08-07T17:54:34.883Z"
   },
   {
    "duration": 42,
    "start_time": "2022-08-07T17:56:09.893Z"
   },
   {
    "duration": 63,
    "start_time": "2022-08-07T17:57:06.380Z"
   },
   {
    "duration": 59,
    "start_time": "2022-08-07T17:58:45.308Z"
   },
   {
    "duration": 65,
    "start_time": "2022-08-07T17:59:02.993Z"
   },
   {
    "duration": 71,
    "start_time": "2022-08-07T17:59:45.016Z"
   },
   {
    "duration": 66,
    "start_time": "2022-08-07T18:00:24.526Z"
   },
   {
    "duration": 69,
    "start_time": "2022-08-07T18:02:18.907Z"
   },
   {
    "duration": 98,
    "start_time": "2022-08-07T18:03:41.819Z"
   },
   {
    "duration": 81,
    "start_time": "2022-08-07T18:04:50.225Z"
   },
   {
    "duration": 77,
    "start_time": "2022-08-07T18:06:18.319Z"
   },
   {
    "duration": 4,
    "start_time": "2022-08-07T18:54:11.930Z"
   },
   {
    "duration": 138,
    "start_time": "2022-08-07T18:54:11.981Z"
   },
   {
    "duration": 28,
    "start_time": "2022-08-07T18:54:12.121Z"
   },
   {
    "duration": 1713,
    "start_time": "2022-08-07T18:54:12.899Z"
   },
   {
    "duration": 348,
    "start_time": "2022-08-07T18:54:14.614Z"
   },
   {
    "duration": 152,
    "start_time": "2022-08-07T18:54:14.964Z"
   },
   {
    "duration": 283,
    "start_time": "2022-08-07T18:54:15.119Z"
   },
   {
    "duration": 36,
    "start_time": "2022-08-07T18:54:15.404Z"
   },
   {
    "duration": 218,
    "start_time": "2022-08-07T18:54:15.441Z"
   },
   {
    "duration": 209,
    "start_time": "2022-08-07T18:54:15.661Z"
   },
   {
    "duration": 557,
    "start_time": "2022-08-07T18:54:15.872Z"
   },
   {
    "duration": 264,
    "start_time": "2022-08-07T18:54:16.431Z"
   },
   {
    "duration": 164,
    "start_time": "2022-08-07T18:54:16.698Z"
   },
   {
    "duration": 1495,
    "start_time": "2022-08-07T18:54:16.864Z"
   },
   {
    "duration": 297,
    "start_time": "2022-08-07T18:54:18.360Z"
   },
   {
    "duration": 9,
    "start_time": "2022-08-07T18:54:18.659Z"
   },
   {
    "duration": 25,
    "start_time": "2022-08-07T18:54:18.670Z"
   },
   {
    "duration": 258,
    "start_time": "2022-08-07T18:54:18.697Z"
   },
   {
    "duration": 1767,
    "start_time": "2022-08-07T19:02:22.426Z"
   },
   {
    "duration": 1652,
    "start_time": "2022-08-07T19:05:27.219Z"
   },
   {
    "duration": 3,
    "start_time": "2022-08-07T19:06:49.245Z"
   },
   {
    "duration": 129,
    "start_time": "2022-08-07T19:06:49.269Z"
   },
   {
    "duration": 37,
    "start_time": "2022-08-07T19:06:49.400Z"
   },
   {
    "duration": 1715,
    "start_time": "2022-08-07T19:06:50.583Z"
   },
   {
    "duration": 320,
    "start_time": "2022-08-07T19:06:52.302Z"
   },
   {
    "duration": 139,
    "start_time": "2022-08-07T19:06:52.623Z"
   },
   {
    "duration": 300,
    "start_time": "2022-08-07T19:06:52.765Z"
   },
   {
    "duration": 43,
    "start_time": "2022-08-07T19:06:53.067Z"
   },
   {
    "duration": 207,
    "start_time": "2022-08-07T19:06:53.112Z"
   },
   {
    "duration": 209,
    "start_time": "2022-08-07T19:06:53.321Z"
   },
   {
    "duration": 558,
    "start_time": "2022-08-07T19:06:53.532Z"
   },
   {
    "duration": 258,
    "start_time": "2022-08-07T19:06:54.092Z"
   },
   {
    "duration": 157,
    "start_time": "2022-08-07T19:06:54.352Z"
   },
   {
    "duration": 1495,
    "start_time": "2022-08-07T19:06:54.511Z"
   },
   {
    "duration": 287,
    "start_time": "2022-08-07T19:06:56.008Z"
   },
   {
    "duration": 10,
    "start_time": "2022-08-07T19:06:56.297Z"
   },
   {
    "duration": 26,
    "start_time": "2022-08-07T19:06:56.310Z"
   },
   {
    "duration": 269,
    "start_time": "2022-08-07T19:06:56.338Z"
   },
   {
    "duration": 47,
    "start_time": "2022-08-07T19:25:14.504Z"
   },
   {
    "duration": 39,
    "start_time": "2022-08-07T19:25:50.092Z"
   },
   {
    "duration": 63,
    "start_time": "2022-08-07T19:29:35.988Z"
   },
   {
    "duration": 68,
    "start_time": "2022-08-07T19:30:08.833Z"
   },
   {
    "duration": 63,
    "start_time": "2022-08-07T19:30:46.093Z"
   },
   {
    "duration": 51,
    "start_time": "2022-08-07T19:38:35.771Z"
   },
   {
    "duration": 37,
    "start_time": "2022-08-07T19:40:28.416Z"
   },
   {
    "duration": 47,
    "start_time": "2022-08-07T19:41:41.383Z"
   },
   {
    "duration": 56,
    "start_time": "2022-08-07T19:43:50.734Z"
   },
   {
    "duration": 5,
    "start_time": "2022-08-07T19:44:04.468Z"
   },
   {
    "duration": 144,
    "start_time": "2022-08-07T19:44:04.480Z"
   },
   {
    "duration": 34,
    "start_time": "2022-08-07T19:44:04.627Z"
   },
   {
    "duration": 58,
    "start_time": "2022-08-07T19:44:04.663Z"
   },
   {
    "duration": 71,
    "start_time": "2022-08-07T19:44:04.723Z"
   },
   {
    "duration": 55,
    "start_time": "2022-08-07T19:44:14.002Z"
   },
   {
    "duration": 4,
    "start_time": "2022-08-07T19:44:52.412Z"
   },
   {
    "duration": 136,
    "start_time": "2022-08-07T19:44:52.418Z"
   },
   {
    "duration": 49,
    "start_time": "2022-08-07T19:44:52.556Z"
   },
   {
    "duration": 40,
    "start_time": "2022-08-07T19:44:52.607Z"
   },
   {
    "duration": 66,
    "start_time": "2022-08-07T19:44:59.955Z"
   },
   {
    "duration": 4,
    "start_time": "2022-08-07T19:49:06.935Z"
   },
   {
    "duration": 125,
    "start_time": "2022-08-07T19:49:06.941Z"
   },
   {
    "duration": 40,
    "start_time": "2022-08-07T19:49:07.068Z"
   },
   {
    "duration": 35,
    "start_time": "2022-08-07T19:49:07.109Z"
   },
   {
    "duration": 75,
    "start_time": "2022-08-07T19:49:24.764Z"
   },
   {
    "duration": 54,
    "start_time": "2022-08-07T19:49:39.047Z"
   },
   {
    "duration": 4,
    "start_time": "2022-08-07T19:51:19.624Z"
   },
   {
    "duration": 139,
    "start_time": "2022-08-07T19:51:19.645Z"
   },
   {
    "duration": 31,
    "start_time": "2022-08-07T19:51:19.791Z"
   },
   {
    "duration": 40,
    "start_time": "2022-08-07T19:51:19.824Z"
   },
   {
    "duration": 59,
    "start_time": "2022-08-07T19:51:26.872Z"
   },
   {
    "duration": 48,
    "start_time": "2022-08-07T19:54:37.083Z"
   },
   {
    "duration": 4,
    "start_time": "2022-08-07T20:01:48.023Z"
   },
   {
    "duration": 137,
    "start_time": "2022-08-07T20:01:48.029Z"
   },
   {
    "duration": 46,
    "start_time": "2022-08-07T20:01:48.168Z"
   },
   {
    "duration": 37,
    "start_time": "2022-08-07T20:01:48.215Z"
   },
   {
    "duration": 72,
    "start_time": "2022-08-07T20:01:48.254Z"
   },
   {
    "duration": 1217,
    "start_time": "2022-08-07T20:13:45.528Z"
   },
   {
    "duration": 3,
    "start_time": "2022-08-07T20:14:00.704Z"
   },
   {
    "duration": 144,
    "start_time": "2022-08-07T20:14:00.713Z"
   },
   {
    "duration": 50,
    "start_time": "2022-08-07T20:14:00.859Z"
   },
   {
    "duration": 37,
    "start_time": "2022-08-07T20:14:00.911Z"
   },
   {
    "duration": 69,
    "start_time": "2022-08-07T20:14:00.950Z"
   },
   {
    "duration": 226,
    "start_time": "2022-08-07T20:14:01.020Z"
   },
   {
    "duration": 156,
    "start_time": "2022-08-07T20:14:01.249Z"
   },
   {
    "duration": 299,
    "start_time": "2022-08-07T20:14:01.407Z"
   },
   {
    "duration": 40,
    "start_time": "2022-08-07T20:14:01.708Z"
   },
   {
    "duration": 455,
    "start_time": "2022-08-07T20:14:01.750Z"
   },
   {
    "duration": 227,
    "start_time": "2022-08-07T20:14:02.208Z"
   },
   {
    "duration": 347,
    "start_time": "2022-08-07T20:14:15.879Z"
   },
   {
    "duration": 554,
    "start_time": "2022-08-07T20:16:07.760Z"
   },
   {
    "duration": 525,
    "start_time": "2022-08-07T20:16:52.152Z"
   },
   {
    "duration": 550,
    "start_time": "2022-08-07T20:24:32.786Z"
   },
   {
    "duration": 596,
    "start_time": "2022-08-07T20:27:51.847Z"
   },
   {
    "duration": 575,
    "start_time": "2022-08-07T20:28:27.577Z"
   },
   {
    "duration": 558,
    "start_time": "2022-08-07T20:28:46.509Z"
   },
   {
    "duration": 575,
    "start_time": "2022-08-07T20:30:47.372Z"
   },
   {
    "duration": 419,
    "start_time": "2022-08-07T20:51:31.873Z"
   },
   {
    "duration": 684,
    "start_time": "2022-08-07T20:53:35.870Z"
   },
   {
    "duration": 738,
    "start_time": "2022-08-07T20:55:36.646Z"
   },
   {
    "duration": 759,
    "start_time": "2022-08-07T20:55:51.615Z"
   },
   {
    "duration": 1345,
    "start_time": "2022-08-08T03:04:53.510Z"
   },
   {
    "duration": 281,
    "start_time": "2022-08-08T03:04:54.857Z"
   },
   {
    "duration": 25,
    "start_time": "2022-08-08T03:04:55.140Z"
   },
   {
    "duration": 81,
    "start_time": "2022-08-08T03:04:55.166Z"
   },
   {
    "duration": 35,
    "start_time": "2022-08-08T03:04:55.248Z"
   },
   {
    "duration": 213,
    "start_time": "2022-08-08T03:04:55.285Z"
   },
   {
    "duration": 116,
    "start_time": "2022-08-08T03:04:55.500Z"
   },
   {
    "duration": 233,
    "start_time": "2022-08-08T03:04:55.618Z"
   },
   {
    "duration": 30,
    "start_time": "2022-08-08T03:04:55.853Z"
   },
   {
    "duration": 171,
    "start_time": "2022-08-08T03:04:55.886Z"
   },
   {
    "duration": 175,
    "start_time": "2022-08-08T03:04:56.059Z"
   },
   {
    "duration": 593,
    "start_time": "2022-08-08T03:04:56.236Z"
   },
   {
    "duration": 286,
    "start_time": "2022-08-08T03:04:56.830Z"
   },
   {
    "duration": 126,
    "start_time": "2022-08-08T03:04:57.118Z"
   },
   {
    "duration": 1283,
    "start_time": "2022-08-08T03:04:57.245Z"
   },
   {
    "duration": 241,
    "start_time": "2022-08-08T03:04:58.530Z"
   },
   {
    "duration": 10,
    "start_time": "2022-08-08T03:04:58.773Z"
   },
   {
    "duration": 67,
    "start_time": "2022-08-08T03:04:58.785Z"
   },
   {
    "duration": 234,
    "start_time": "2022-08-08T03:04:58.854Z"
   },
   {
    "duration": 163,
    "start_time": "2022-08-08T03:07:47.616Z"
   },
   {
    "duration": 163,
    "start_time": "2022-08-08T03:09:06.064Z"
   },
   {
    "duration": 99,
    "start_time": "2022-08-08T03:09:35.809Z"
   },
   {
    "duration": 110,
    "start_time": "2022-08-08T03:10:31.825Z"
   },
   {
    "duration": 231,
    "start_time": "2022-08-08T03:14:31.003Z"
   },
   {
    "duration": 222,
    "start_time": "2022-08-08T03:15:12.986Z"
   },
   {
    "duration": 241,
    "start_time": "2022-08-08T03:15:54.539Z"
   },
   {
    "duration": 234,
    "start_time": "2022-08-08T03:17:23.015Z"
   },
   {
    "duration": 319,
    "start_time": "2022-08-08T03:17:39.115Z"
   },
   {
    "duration": 194,
    "start_time": "2022-08-08T03:17:46.107Z"
   },
   {
    "duration": 266,
    "start_time": "2022-08-08T03:18:21.476Z"
   },
   {
    "duration": 667,
    "start_time": "2022-08-08T03:21:18.729Z"
   },
   {
    "duration": 54,
    "start_time": "2022-08-08T03:22:55.936Z"
   },
   {
    "duration": 54,
    "start_time": "2022-08-08T03:23:18.721Z"
   },
   {
    "duration": 577,
    "start_time": "2022-08-08T03:23:32.951Z"
   },
   {
    "duration": 470,
    "start_time": "2022-08-08T03:25:20.727Z"
   },
   {
    "duration": 612,
    "start_time": "2022-08-08T03:27:10.515Z"
   },
   {
    "duration": 683,
    "start_time": "2022-08-08T03:39:49.148Z"
   },
   {
    "duration": 253,
    "start_time": "2022-08-08T03:41:14.615Z"
   },
   {
    "duration": 311,
    "start_time": "2022-08-08T03:41:31.191Z"
   },
   {
    "duration": 376,
    "start_time": "2022-08-08T03:42:21.291Z"
   },
   {
    "duration": 307,
    "start_time": "2022-08-08T03:43:45.876Z"
   },
   {
    "duration": 323,
    "start_time": "2022-08-08T03:44:31.742Z"
   },
   {
    "duration": 307,
    "start_time": "2022-08-08T03:45:09.871Z"
   },
   {
    "duration": 329,
    "start_time": "2022-08-08T03:47:20.807Z"
   },
   {
    "duration": 341,
    "start_time": "2022-08-08T03:48:01.509Z"
   },
   {
    "duration": 343,
    "start_time": "2022-08-08T03:48:19.797Z"
   },
   {
    "duration": 406,
    "start_time": "2022-08-08T03:50:39.496Z"
   },
   {
    "duration": 243,
    "start_time": "2022-08-08T03:57:29.605Z"
   },
   {
    "duration": 218,
    "start_time": "2022-08-08T03:57:41.626Z"
   },
   {
    "duration": 240,
    "start_time": "2022-08-08T03:58:55.722Z"
   },
   {
    "duration": 45,
    "start_time": "2022-08-08T04:03:55.760Z"
   },
   {
    "duration": 10,
    "start_time": "2022-08-08T04:04:22.063Z"
   },
   {
    "duration": 161,
    "start_time": "2022-08-08T04:05:04.946Z"
   },
   {
    "duration": 117,
    "start_time": "2022-08-08T04:05:16.355Z"
   },
   {
    "duration": 28,
    "start_time": "2022-08-08T04:05:23.243Z"
   },
   {
    "duration": 4,
    "start_time": "2022-08-08T04:05:32.732Z"
   },
   {
    "duration": 101,
    "start_time": "2022-08-08T04:05:32.737Z"
   },
   {
    "duration": 23,
    "start_time": "2022-08-08T04:05:32.840Z"
   },
   {
    "duration": 46,
    "start_time": "2022-08-08T04:05:32.864Z"
   },
   {
    "duration": 34,
    "start_time": "2022-08-08T04:05:32.912Z"
   },
   {
    "duration": 182,
    "start_time": "2022-08-08T04:05:32.947Z"
   },
   {
    "duration": 114,
    "start_time": "2022-08-08T04:05:33.130Z"
   },
   {
    "duration": 236,
    "start_time": "2022-08-08T04:05:33.245Z"
   },
   {
    "duration": 37,
    "start_time": "2022-08-08T04:05:33.482Z"
   },
   {
    "duration": 168,
    "start_time": "2022-08-08T04:05:33.520Z"
   },
   {
    "duration": 177,
    "start_time": "2022-08-08T04:05:33.690Z"
   },
   {
    "duration": 323,
    "start_time": "2022-08-08T04:05:33.868Z"
   },
   {
    "duration": 305,
    "start_time": "2022-08-08T04:05:34.192Z"
   },
   {
    "duration": 127,
    "start_time": "2022-08-08T04:05:34.499Z"
   },
   {
    "duration": 1321,
    "start_time": "2022-08-08T04:05:34.627Z"
   },
   {
    "duration": 254,
    "start_time": "2022-08-08T04:05:35.950Z"
   },
   {
    "duration": 9,
    "start_time": "2022-08-08T04:05:36.206Z"
   },
   {
    "duration": 9,
    "start_time": "2022-08-08T04:05:36.217Z"
   },
   {
    "duration": 219,
    "start_time": "2022-08-08T04:05:36.229Z"
   },
   {
    "duration": 4,
    "start_time": "2022-08-08T04:05:44.316Z"
   },
   {
    "duration": 104,
    "start_time": "2022-08-08T04:05:44.321Z"
   },
   {
    "duration": 24,
    "start_time": "2022-08-08T04:05:44.426Z"
   },
   {
    "duration": 48,
    "start_time": "2022-08-08T04:05:44.452Z"
   },
   {
    "duration": 38,
    "start_time": "2022-08-08T04:05:44.501Z"
   },
   {
    "duration": 173,
    "start_time": "2022-08-08T04:05:44.541Z"
   },
   {
    "duration": 116,
    "start_time": "2022-08-08T04:05:44.716Z"
   },
   {
    "duration": 239,
    "start_time": "2022-08-08T04:05:44.834Z"
   },
   {
    "duration": 39,
    "start_time": "2022-08-08T04:05:45.076Z"
   },
   {
    "duration": 169,
    "start_time": "2022-08-08T04:05:45.117Z"
   },
   {
    "duration": 175,
    "start_time": "2022-08-08T04:05:45.288Z"
   },
   {
    "duration": 322,
    "start_time": "2022-08-08T04:05:45.465Z"
   },
   {
    "duration": 208,
    "start_time": "2022-08-08T04:05:45.789Z"
   },
   {
    "duration": 128,
    "start_time": "2022-08-08T04:05:46.000Z"
   },
   {
    "duration": 1227,
    "start_time": "2022-08-08T04:05:46.130Z"
   },
   {
    "duration": 257,
    "start_time": "2022-08-08T04:05:47.359Z"
   },
   {
    "duration": 9,
    "start_time": "2022-08-08T04:05:47.618Z"
   },
   {
    "duration": 11,
    "start_time": "2022-08-08T04:05:47.628Z"
   },
   {
    "duration": 259,
    "start_time": "2022-08-08T04:05:48.410Z"
   },
   {
    "duration": 28,
    "start_time": "2022-08-08T04:06:26.234Z"
   },
   {
    "duration": 3,
    "start_time": "2022-08-08T04:06:30.533Z"
   },
   {
    "duration": 112,
    "start_time": "2022-08-08T04:06:30.538Z"
   },
   {
    "duration": 28,
    "start_time": "2022-08-08T04:06:30.652Z"
   },
   {
    "duration": 58,
    "start_time": "2022-08-08T04:06:30.682Z"
   },
   {
    "duration": 61,
    "start_time": "2022-08-08T04:06:30.743Z"
   },
   {
    "duration": 192,
    "start_time": "2022-08-08T04:06:30.806Z"
   },
   {
    "duration": 175,
    "start_time": "2022-08-08T04:06:31.000Z"
   },
   {
    "duration": 272,
    "start_time": "2022-08-08T04:06:31.177Z"
   },
   {
    "duration": 50,
    "start_time": "2022-08-08T04:06:31.451Z"
   },
   {
    "duration": 202,
    "start_time": "2022-08-08T04:06:31.503Z"
   },
   {
    "duration": 182,
    "start_time": "2022-08-08T04:06:31.707Z"
   },
   {
    "duration": 343,
    "start_time": "2022-08-08T04:06:31.899Z"
   },
   {
    "duration": 222,
    "start_time": "2022-08-08T04:06:32.244Z"
   },
   {
    "duration": 133,
    "start_time": "2022-08-08T04:06:32.468Z"
   },
   {
    "duration": 1158,
    "start_time": "2022-08-08T04:06:32.602Z"
   },
   {
    "duration": 255,
    "start_time": "2022-08-08T04:06:33.762Z"
   },
   {
    "duration": 8,
    "start_time": "2022-08-08T04:06:34.019Z"
   },
   {
    "duration": 11,
    "start_time": "2022-08-08T04:06:34.029Z"
   },
   {
    "duration": 27,
    "start_time": "2022-08-08T04:06:34.205Z"
   },
   {
    "duration": 3,
    "start_time": "2022-08-08T04:06:39.749Z"
   },
   {
    "duration": 108,
    "start_time": "2022-08-08T04:06:39.754Z"
   },
   {
    "duration": 37,
    "start_time": "2022-08-08T04:06:39.863Z"
   },
   {
    "duration": 30,
    "start_time": "2022-08-08T04:06:39.901Z"
   },
   {
    "duration": 37,
    "start_time": "2022-08-08T04:06:39.933Z"
   },
   {
    "duration": 204,
    "start_time": "2022-08-08T04:06:39.971Z"
   },
   {
    "duration": 248,
    "start_time": "2022-08-08T04:06:40.177Z"
   },
   {
    "duration": 283,
    "start_time": "2022-08-08T04:06:40.427Z"
   },
   {
    "duration": 32,
    "start_time": "2022-08-08T04:06:40.712Z"
   },
   {
    "duration": 190,
    "start_time": "2022-08-08T04:06:40.746Z"
   },
   {
    "duration": 182,
    "start_time": "2022-08-08T04:06:40.938Z"
   },
   {
    "duration": 332,
    "start_time": "2022-08-08T04:06:41.122Z"
   },
   {
    "duration": 267,
    "start_time": "2022-08-08T04:06:41.456Z"
   },
   {
    "duration": 134,
    "start_time": "2022-08-08T04:06:41.724Z"
   },
   {
    "duration": 1004,
    "start_time": "2022-08-08T04:06:41.860Z"
   },
   {
    "duration": 258,
    "start_time": "2022-08-08T04:06:42.865Z"
   },
   {
    "duration": 9,
    "start_time": "2022-08-08T04:06:43.124Z"
   },
   {
    "duration": 15,
    "start_time": "2022-08-08T04:06:43.135Z"
   },
   {
    "duration": 138,
    "start_time": "2022-08-08T04:06:45.009Z"
   },
   {
    "duration": 28,
    "start_time": "2022-08-08T04:08:53.406Z"
   },
   {
    "duration": 4,
    "start_time": "2022-08-08T04:08:57.342Z"
   },
   {
    "duration": 104,
    "start_time": "2022-08-08T04:08:57.348Z"
   },
   {
    "duration": 25,
    "start_time": "2022-08-08T04:08:57.453Z"
   },
   {
    "duration": 44,
    "start_time": "2022-08-08T04:08:57.480Z"
   },
   {
    "duration": 37,
    "start_time": "2022-08-08T04:08:57.525Z"
   },
   {
    "duration": 196,
    "start_time": "2022-08-08T04:08:57.563Z"
   },
   {
    "duration": 125,
    "start_time": "2022-08-08T04:08:57.761Z"
   },
   {
    "duration": 252,
    "start_time": "2022-08-08T04:08:57.888Z"
   },
   {
    "duration": 35,
    "start_time": "2022-08-08T04:08:58.143Z"
   },
   {
    "duration": 290,
    "start_time": "2022-08-08T04:08:58.180Z"
   },
   {
    "duration": 189,
    "start_time": "2022-08-08T04:08:58.472Z"
   },
   {
    "duration": 337,
    "start_time": "2022-08-08T04:08:58.663Z"
   },
   {
    "duration": 237,
    "start_time": "2022-08-08T04:08:59.001Z"
   },
   {
    "duration": 146,
    "start_time": "2022-08-08T04:08:59.239Z"
   },
   {
    "duration": 1181,
    "start_time": "2022-08-08T04:08:59.386Z"
   },
   {
    "duration": 271,
    "start_time": "2022-08-08T04:09:00.569Z"
   },
   {
    "duration": 8,
    "start_time": "2022-08-08T04:09:00.842Z"
   },
   {
    "duration": 31,
    "start_time": "2022-08-08T04:09:00.851Z"
   },
   {
    "duration": 216,
    "start_time": "2022-08-08T04:09:00.884Z"
   },
   {
    "duration": 451,
    "start_time": "2022-08-08T04:15:54.623Z"
   },
   {
    "duration": 474,
    "start_time": "2022-08-08T04:16:40.706Z"
   },
   {
    "duration": 192,
    "start_time": "2022-08-08T04:16:56.428Z"
   },
   {
    "duration": 437,
    "start_time": "2022-08-08T04:17:25.286Z"
   },
   {
    "duration": 196,
    "start_time": "2022-08-08T04:17:56.166Z"
   },
   {
    "duration": 321,
    "start_time": "2022-08-08T04:18:11.359Z"
   },
   {
    "duration": 192,
    "start_time": "2022-08-08T04:19:06.823Z"
   },
   {
    "duration": 4,
    "start_time": "2022-08-08T04:25:41.135Z"
   },
   {
    "duration": 104,
    "start_time": "2022-08-08T04:25:41.141Z"
   },
   {
    "duration": 25,
    "start_time": "2022-08-08T04:25:41.247Z"
   },
   {
    "duration": 50,
    "start_time": "2022-08-08T04:25:41.273Z"
   },
   {
    "duration": 37,
    "start_time": "2022-08-08T04:25:41.324Z"
   },
   {
    "duration": 207,
    "start_time": "2022-08-08T04:25:41.363Z"
   },
   {
    "duration": 118,
    "start_time": "2022-08-08T04:25:41.572Z"
   },
   {
    "duration": 236,
    "start_time": "2022-08-08T04:25:41.692Z"
   },
   {
    "duration": 32,
    "start_time": "2022-08-08T04:25:41.930Z"
   },
   {
    "duration": 179,
    "start_time": "2022-08-08T04:25:41.964Z"
   },
   {
    "duration": 176,
    "start_time": "2022-08-08T04:25:42.144Z"
   },
   {
    "duration": 451,
    "start_time": "2022-08-08T04:25:42.322Z"
   },
   {
    "duration": 201,
    "start_time": "2022-08-08T04:25:42.774Z"
   },
   {
    "duration": 209,
    "start_time": "2022-08-08T04:25:42.976Z"
   },
   {
    "duration": 133,
    "start_time": "2022-08-08T04:25:43.187Z"
   },
   {
    "duration": 1192,
    "start_time": "2022-08-08T04:25:43.322Z"
   },
   {
    "duration": 243,
    "start_time": "2022-08-08T04:25:44.515Z"
   },
   {
    "duration": 9,
    "start_time": "2022-08-08T04:25:44.759Z"
   },
   {
    "duration": 10,
    "start_time": "2022-08-08T04:25:44.769Z"
   },
   {
    "duration": 270,
    "start_time": "2022-08-08T04:25:44.781Z"
   },
   {
    "duration": 469,
    "start_time": "2022-08-08T04:26:56.861Z"
   },
   {
    "duration": 1403,
    "start_time": "2022-08-08T11:50:07.660Z"
   },
   {
    "duration": 181,
    "start_time": "2022-08-08T11:50:09.067Z"
   },
   {
    "duration": 35,
    "start_time": "2022-08-08T11:50:09.250Z"
   },
   {
    "duration": 91,
    "start_time": "2022-08-08T11:50:09.287Z"
   },
   {
    "duration": 48,
    "start_time": "2022-08-08T11:50:09.379Z"
   },
   {
    "duration": 277,
    "start_time": "2022-08-08T11:50:09.428Z"
   },
   {
    "duration": 139,
    "start_time": "2022-08-08T11:50:09.706Z"
   },
   {
    "duration": 296,
    "start_time": "2022-08-08T11:50:09.847Z"
   },
   {
    "duration": 54,
    "start_time": "2022-08-08T11:50:10.145Z"
   },
   {
    "duration": 227,
    "start_time": "2022-08-08T11:50:10.202Z"
   },
   {
    "duration": 219,
    "start_time": "2022-08-08T11:50:10.432Z"
   },
   {
    "duration": 571,
    "start_time": "2022-08-08T11:50:10.653Z"
   },
   {
    "duration": 255,
    "start_time": "2022-08-08T11:50:11.226Z"
   },
   {
    "duration": 341,
    "start_time": "2022-08-08T11:50:11.483Z"
   },
   {
    "duration": 162,
    "start_time": "2022-08-08T11:50:11.826Z"
   },
   {
    "duration": 1378,
    "start_time": "2022-08-08T11:50:11.990Z"
   },
   {
    "duration": 315,
    "start_time": "2022-08-08T11:50:13.370Z"
   },
   {
    "duration": 10,
    "start_time": "2022-08-08T11:50:13.687Z"
   },
   {
    "duration": 12,
    "start_time": "2022-08-08T11:50:13.699Z"
   },
   {
    "duration": 213,
    "start_time": "2022-08-08T11:50:13.713Z"
   }
  ],
  "kernelspec": {
   "display_name": "Python 3 (ipykernel)",
   "language": "python",
   "name": "python3"
  },
  "language_info": {
   "codemirror_mode": {
    "name": "ipython",
    "version": 3
   },
   "file_extension": ".py",
   "mimetype": "text/x-python",
   "name": "python",
   "nbconvert_exporter": "python",
   "pygments_lexer": "ipython3",
   "version": "3.9.12"
  },
  "toc": {
   "base_numbering": 1,
   "nav_menu": {},
   "number_sections": true,
   "sideBar": true,
   "skip_h1_title": true,
   "title_cell": "Table of Contents",
   "title_sidebar": "Contents",
   "toc_cell": false,
   "toc_position": {
    "height": "calc(100% - 180px)",
    "left": "10px",
    "top": "150px",
    "width": "249.87px"
   },
   "toc_section_display": true,
   "toc_window_display": false
  }
 },
 "nbformat": 4,
 "nbformat_minor": 2
}
