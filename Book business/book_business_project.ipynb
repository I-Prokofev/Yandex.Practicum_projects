{
 "cells": [
  {
   "cell_type": "markdown",
   "id": "b95af9f5",
   "metadata": {},
   "source": [
    "# Книжное дело\n",
    "\n",
    "Компания-заказчик приобрела крупный сервис для чтения книг по подписке. \n",
    "\n",
    "**Цель:**\n",
    "\n",
    "Проанализировать базу данных, содержащую информацияю о книгах, издательствах, авторах, а также пользовательские обзоры книг, и реализовать выгрузки из БД в соответствии с запросом заказчика. \n",
    "Эти данные помогут сформулировать ценностное предложение для нового продукта.\n",
    "\n",
    "**Исходные данные:**\n",
    "\n",
    "База данных, содержащая таблицы: `books`, `authors`, `publishers`, `ratings` и `reviews`."
   ]
  },
  {
   "cell_type": "markdown",
   "id": "bc4b1b11",
   "metadata": {},
   "source": [
    "## Подключение к базе"
   ]
  },
  {
   "cell_type": "code",
   "execution_count": 1,
   "id": "fdc59a99",
   "metadata": {},
   "outputs": [],
   "source": [
    "import pandas as pd\n",
    "from sqlalchemy import create_engine"
   ]
  },
  {
   "cell_type": "code",
   "execution_count": 2,
   "id": "b9bbb3db",
   "metadata": {},
   "outputs": [],
   "source": [
    "# устанавливаем параметры\n",
    "db_config = {'user': 'praktikum_student', # имя пользователя\n",
    "'pwd': 'Sdf4$2;d-d30pp', # пароль\n",
    "'host': 'rc1b-wcoijxj3yxfsf3fs.mdb.yandexcloud.net',\n",
    "'port': 6432, # порт подключения\n",
    "'db': 'data-analyst-final-project-db'} # название базы данных\n",
    "connection_string = 'postgresql://{}:{}@{}:{}/{}'.format(db_config['user'],\n",
    " db_config['pwd'],\n",
    " db_config['host'],\n",
    " db_config['port'],\n",
    " db_config['db'])"
   ]
  },
  {
   "cell_type": "code",
   "execution_count": 3,
   "id": "2c7e5e3d",
   "metadata": {},
   "outputs": [],
   "source": [
    "# сохраняем коннектор\n",
    "engine = create_engine(connection_string, connect_args={'sslmode':'require'}) "
   ]
  },
  {
   "cell_type": "markdown",
   "id": "25da41b4",
   "metadata": {},
   "source": [
    "## Обзор данных"
   ]
  },
  {
   "cell_type": "markdown",
   "id": "a4648ea4",
   "metadata": {},
   "source": [
    "Исследуем таблицы, выведем первые строки и посчитаем количество записей. Для удобства создадим функцию для выполнение SQL-запроса:"
   ]
  },
  {
   "cell_type": "code",
   "execution_count": 4,
   "id": "59b074ec",
   "metadata": {},
   "outputs": [],
   "source": [
    "def select(sql_query):\n",
    "    return pd.io.sql.read_sql(sql_query, con = engine) "
   ]
  },
  {
   "cell_type": "markdown",
   "id": "a1f2c46c",
   "metadata": {},
   "source": [
    "### Данные о книгах"
   ]
  },
  {
   "cell_type": "code",
   "execution_count": 5,
   "id": "9ce13ca1",
   "metadata": {},
   "outputs": [
    {
     "data": {
      "text/html": [
       "<div>\n",
       "<style scoped>\n",
       "    .dataframe tbody tr th:only-of-type {\n",
       "        vertical-align: middle;\n",
       "    }\n",
       "\n",
       "    .dataframe tbody tr th {\n",
       "        vertical-align: top;\n",
       "    }\n",
       "\n",
       "    .dataframe thead th {\n",
       "        text-align: right;\n",
       "    }\n",
       "</style>\n",
       "<table border=\"1\" class=\"dataframe\">\n",
       "  <thead>\n",
       "    <tr style=\"text-align: right;\">\n",
       "      <th></th>\n",
       "      <th>book_id</th>\n",
       "      <th>author_id</th>\n",
       "      <th>title</th>\n",
       "      <th>num_pages</th>\n",
       "      <th>publication_date</th>\n",
       "      <th>publisher_id</th>\n",
       "    </tr>\n",
       "  </thead>\n",
       "  <tbody>\n",
       "    <tr>\n",
       "      <th>0</th>\n",
       "      <td>1</td>\n",
       "      <td>546</td>\n",
       "      <td>'Salem's Lot</td>\n",
       "      <td>594</td>\n",
       "      <td>2005-11-01</td>\n",
       "      <td>93</td>\n",
       "    </tr>\n",
       "    <tr>\n",
       "      <th>1</th>\n",
       "      <td>2</td>\n",
       "      <td>465</td>\n",
       "      <td>1 000 Places to See Before You Die</td>\n",
       "      <td>992</td>\n",
       "      <td>2003-05-22</td>\n",
       "      <td>336</td>\n",
       "    </tr>\n",
       "    <tr>\n",
       "      <th>2</th>\n",
       "      <td>3</td>\n",
       "      <td>407</td>\n",
       "      <td>13 Little Blue Envelopes (Little Blue Envelope...</td>\n",
       "      <td>322</td>\n",
       "      <td>2010-12-21</td>\n",
       "      <td>135</td>\n",
       "    </tr>\n",
       "    <tr>\n",
       "      <th>3</th>\n",
       "      <td>4</td>\n",
       "      <td>82</td>\n",
       "      <td>1491: New Revelations of the Americas Before C...</td>\n",
       "      <td>541</td>\n",
       "      <td>2006-10-10</td>\n",
       "      <td>309</td>\n",
       "    </tr>\n",
       "    <tr>\n",
       "      <th>4</th>\n",
       "      <td>5</td>\n",
       "      <td>125</td>\n",
       "      <td>1776</td>\n",
       "      <td>386</td>\n",
       "      <td>2006-07-04</td>\n",
       "      <td>268</td>\n",
       "    </tr>\n",
       "  </tbody>\n",
       "</table>\n",
       "</div>"
      ],
      "text/plain": [
       "   book_id  author_id                                              title  \\\n",
       "0        1        546                                       'Salem's Lot   \n",
       "1        2        465                 1 000 Places to See Before You Die   \n",
       "2        3        407  13 Little Blue Envelopes (Little Blue Envelope...   \n",
       "3        4         82  1491: New Revelations of the Americas Before C...   \n",
       "4        5        125                                               1776   \n",
       "\n",
       "   num_pages publication_date  publisher_id  \n",
       "0        594       2005-11-01            93  \n",
       "1        992       2003-05-22           336  \n",
       "2        322       2010-12-21           135  \n",
       "3        541       2006-10-10           309  \n",
       "4        386       2006-07-04           268  "
      ]
     },
     "execution_count": 5,
     "metadata": {},
     "output_type": "execute_result"
    }
   ],
   "source": [
    "sql='''\n",
    "SELECT *\n",
    "FROM books\n",
    "LIMIT 5\n",
    "'''\n",
    "\n",
    "select(sql)"
   ]
  },
  {
   "cell_type": "code",
   "execution_count": 6,
   "id": "41e88aed",
   "metadata": {},
   "outputs": [
    {
     "data": {
      "text/html": [
       "<div>\n",
       "<style scoped>\n",
       "    .dataframe tbody tr th:only-of-type {\n",
       "        vertical-align: middle;\n",
       "    }\n",
       "\n",
       "    .dataframe tbody tr th {\n",
       "        vertical-align: top;\n",
       "    }\n",
       "\n",
       "    .dataframe thead th {\n",
       "        text-align: right;\n",
       "    }\n",
       "</style>\n",
       "<table border=\"1\" class=\"dataframe\">\n",
       "  <thead>\n",
       "    <tr style=\"text-align: right;\">\n",
       "      <th></th>\n",
       "      <th>count</th>\n",
       "    </tr>\n",
       "  </thead>\n",
       "  <tbody>\n",
       "    <tr>\n",
       "      <th>0</th>\n",
       "      <td>1000</td>\n",
       "    </tr>\n",
       "  </tbody>\n",
       "</table>\n",
       "</div>"
      ],
      "text/plain": [
       "   count\n",
       "0   1000"
      ]
     },
     "execution_count": 6,
     "metadata": {},
     "output_type": "execute_result"
    }
   ],
   "source": [
    "sql='''\n",
    "SELECT COUNT(book_id)\n",
    "FROM books\n",
    "'''\n",
    "\n",
    "select(sql)"
   ]
  },
  {
   "cell_type": "markdown",
   "id": "86af8bf6",
   "metadata": {},
   "source": [
    "Описание колонок таблицы `books` согласно документации:\n",
    "- `book_id` — идентификатор книги;\n",
    "- `author_id` — идентификатор автора;\n",
    "- `title` — название книги;\n",
    "- `num_pages` — количество страниц;\n",
    "- `publication_date` — дата публикации книги;\n",
    "- `publisher_id` — идентификатор издателя\n",
    "\n",
    "Таблица содержит 1000 записей."
   ]
  },
  {
   "cell_type": "markdown",
   "id": "8b171450",
   "metadata": {},
   "source": [
    "### Данные об авторах"
   ]
  },
  {
   "cell_type": "code",
   "execution_count": 7,
   "id": "adc33ac6",
   "metadata": {},
   "outputs": [
    {
     "data": {
      "text/html": [
       "<div>\n",
       "<style scoped>\n",
       "    .dataframe tbody tr th:only-of-type {\n",
       "        vertical-align: middle;\n",
       "    }\n",
       "\n",
       "    .dataframe tbody tr th {\n",
       "        vertical-align: top;\n",
       "    }\n",
       "\n",
       "    .dataframe thead th {\n",
       "        text-align: right;\n",
       "    }\n",
       "</style>\n",
       "<table border=\"1\" class=\"dataframe\">\n",
       "  <thead>\n",
       "    <tr style=\"text-align: right;\">\n",
       "      <th></th>\n",
       "      <th>author_id</th>\n",
       "      <th>author</th>\n",
       "    </tr>\n",
       "  </thead>\n",
       "  <tbody>\n",
       "    <tr>\n",
       "      <th>0</th>\n",
       "      <td>1</td>\n",
       "      <td>A.S. Byatt</td>\n",
       "    </tr>\n",
       "    <tr>\n",
       "      <th>1</th>\n",
       "      <td>2</td>\n",
       "      <td>Aesop/Laura Harris/Laura Gibbs</td>\n",
       "    </tr>\n",
       "    <tr>\n",
       "      <th>2</th>\n",
       "      <td>3</td>\n",
       "      <td>Agatha Christie</td>\n",
       "    </tr>\n",
       "    <tr>\n",
       "      <th>3</th>\n",
       "      <td>4</td>\n",
       "      <td>Alan Brennert</td>\n",
       "    </tr>\n",
       "    <tr>\n",
       "      <th>4</th>\n",
       "      <td>5</td>\n",
       "      <td>Alan Moore/David   Lloyd</td>\n",
       "    </tr>\n",
       "  </tbody>\n",
       "</table>\n",
       "</div>"
      ],
      "text/plain": [
       "   author_id                          author\n",
       "0          1                      A.S. Byatt\n",
       "1          2  Aesop/Laura Harris/Laura Gibbs\n",
       "2          3                 Agatha Christie\n",
       "3          4                   Alan Brennert\n",
       "4          5        Alan Moore/David   Lloyd"
      ]
     },
     "execution_count": 7,
     "metadata": {},
     "output_type": "execute_result"
    }
   ],
   "source": [
    "sql='''\n",
    "SELECT *\n",
    "FROM authors\n",
    "LIMIT 5\n",
    "'''\n",
    "\n",
    "select(sql)"
   ]
  },
  {
   "cell_type": "code",
   "execution_count": 8,
   "id": "685aa5bb",
   "metadata": {},
   "outputs": [
    {
     "data": {
      "text/html": [
       "<div>\n",
       "<style scoped>\n",
       "    .dataframe tbody tr th:only-of-type {\n",
       "        vertical-align: middle;\n",
       "    }\n",
       "\n",
       "    .dataframe tbody tr th {\n",
       "        vertical-align: top;\n",
       "    }\n",
       "\n",
       "    .dataframe thead th {\n",
       "        text-align: right;\n",
       "    }\n",
       "</style>\n",
       "<table border=\"1\" class=\"dataframe\">\n",
       "  <thead>\n",
       "    <tr style=\"text-align: right;\">\n",
       "      <th></th>\n",
       "      <th>count</th>\n",
       "    </tr>\n",
       "  </thead>\n",
       "  <tbody>\n",
       "    <tr>\n",
       "      <th>0</th>\n",
       "      <td>636</td>\n",
       "    </tr>\n",
       "  </tbody>\n",
       "</table>\n",
       "</div>"
      ],
      "text/plain": [
       "   count\n",
       "0    636"
      ]
     },
     "execution_count": 8,
     "metadata": {},
     "output_type": "execute_result"
    }
   ],
   "source": [
    "sql='''\n",
    "SELECT COUNT(author_id)\n",
    "FROM authors\n",
    "'''\n",
    "\n",
    "select(sql)"
   ]
  },
  {
   "cell_type": "markdown",
   "id": "9b9be2f2",
   "metadata": {},
   "source": [
    "Описание колонок таблицы `authors` согласно документации:\n",
    "- `author_id` — идентификатор автора;\n",
    "- `author` — имя автора.\n",
    "\n",
    "Таблица содержит 636 записей."
   ]
  },
  {
   "cell_type": "markdown",
   "id": "d083b652",
   "metadata": {},
   "source": [
    "### Данные об  издательствах"
   ]
  },
  {
   "cell_type": "code",
   "execution_count": 9,
   "id": "565e9bed",
   "metadata": {},
   "outputs": [
    {
     "data": {
      "text/html": [
       "<div>\n",
       "<style scoped>\n",
       "    .dataframe tbody tr th:only-of-type {\n",
       "        vertical-align: middle;\n",
       "    }\n",
       "\n",
       "    .dataframe tbody tr th {\n",
       "        vertical-align: top;\n",
       "    }\n",
       "\n",
       "    .dataframe thead th {\n",
       "        text-align: right;\n",
       "    }\n",
       "</style>\n",
       "<table border=\"1\" class=\"dataframe\">\n",
       "  <thead>\n",
       "    <tr style=\"text-align: right;\">\n",
       "      <th></th>\n",
       "      <th>publisher_id</th>\n",
       "      <th>publisher</th>\n",
       "    </tr>\n",
       "  </thead>\n",
       "  <tbody>\n",
       "    <tr>\n",
       "      <th>0</th>\n",
       "      <td>1</td>\n",
       "      <td>Ace</td>\n",
       "    </tr>\n",
       "    <tr>\n",
       "      <th>1</th>\n",
       "      <td>2</td>\n",
       "      <td>Ace Book</td>\n",
       "    </tr>\n",
       "    <tr>\n",
       "      <th>2</th>\n",
       "      <td>3</td>\n",
       "      <td>Ace Books</td>\n",
       "    </tr>\n",
       "    <tr>\n",
       "      <th>3</th>\n",
       "      <td>4</td>\n",
       "      <td>Ace Hardcover</td>\n",
       "    </tr>\n",
       "    <tr>\n",
       "      <th>4</th>\n",
       "      <td>5</td>\n",
       "      <td>Addison Wesley Publishing Company</td>\n",
       "    </tr>\n",
       "  </tbody>\n",
       "</table>\n",
       "</div>"
      ],
      "text/plain": [
       "   publisher_id                          publisher\n",
       "0             1                                Ace\n",
       "1             2                           Ace Book\n",
       "2             3                          Ace Books\n",
       "3             4                      Ace Hardcover\n",
       "4             5  Addison Wesley Publishing Company"
      ]
     },
     "execution_count": 9,
     "metadata": {},
     "output_type": "execute_result"
    }
   ],
   "source": [
    "sql='''\n",
    "SELECT *\n",
    "FROM publishers\n",
    "LIMIT 5\n",
    "'''\n",
    "\n",
    "select(sql)"
   ]
  },
  {
   "cell_type": "code",
   "execution_count": 10,
   "id": "d76abdaa",
   "metadata": {},
   "outputs": [
    {
     "data": {
      "text/html": [
       "<div>\n",
       "<style scoped>\n",
       "    .dataframe tbody tr th:only-of-type {\n",
       "        vertical-align: middle;\n",
       "    }\n",
       "\n",
       "    .dataframe tbody tr th {\n",
       "        vertical-align: top;\n",
       "    }\n",
       "\n",
       "    .dataframe thead th {\n",
       "        text-align: right;\n",
       "    }\n",
       "</style>\n",
       "<table border=\"1\" class=\"dataframe\">\n",
       "  <thead>\n",
       "    <tr style=\"text-align: right;\">\n",
       "      <th></th>\n",
       "      <th>count</th>\n",
       "    </tr>\n",
       "  </thead>\n",
       "  <tbody>\n",
       "    <tr>\n",
       "      <th>0</th>\n",
       "      <td>340</td>\n",
       "    </tr>\n",
       "  </tbody>\n",
       "</table>\n",
       "</div>"
      ],
      "text/plain": [
       "   count\n",
       "0    340"
      ]
     },
     "execution_count": 10,
     "metadata": {},
     "output_type": "execute_result"
    }
   ],
   "source": [
    "sql='''\n",
    "SELECT COUNT(publisher_id)\n",
    "FROM publishers\n",
    "'''\n",
    "\n",
    "select(sql)"
   ]
  },
  {
   "cell_type": "markdown",
   "id": "6e557296",
   "metadata": {},
   "source": [
    "Описание колонок таблицы `publishers` согласно документации:\n",
    "- `publisher_id` — идентификатор издательства;\n",
    "- `publisher` — название издательства;\n",
    "\n",
    "Таблица содержит 340 записей."
   ]
  },
  {
   "cell_type": "markdown",
   "id": "e80993ac",
   "metadata": {},
   "source": [
    "### Данные о пользовательских оценках книг"
   ]
  },
  {
   "cell_type": "code",
   "execution_count": 11,
   "id": "72aa3a42",
   "metadata": {},
   "outputs": [
    {
     "data": {
      "text/html": [
       "<div>\n",
       "<style scoped>\n",
       "    .dataframe tbody tr th:only-of-type {\n",
       "        vertical-align: middle;\n",
       "    }\n",
       "\n",
       "    .dataframe tbody tr th {\n",
       "        vertical-align: top;\n",
       "    }\n",
       "\n",
       "    .dataframe thead th {\n",
       "        text-align: right;\n",
       "    }\n",
       "</style>\n",
       "<table border=\"1\" class=\"dataframe\">\n",
       "  <thead>\n",
       "    <tr style=\"text-align: right;\">\n",
       "      <th></th>\n",
       "      <th>rating_id</th>\n",
       "      <th>book_id</th>\n",
       "      <th>username</th>\n",
       "      <th>rating</th>\n",
       "    </tr>\n",
       "  </thead>\n",
       "  <tbody>\n",
       "    <tr>\n",
       "      <th>0</th>\n",
       "      <td>1</td>\n",
       "      <td>1</td>\n",
       "      <td>ryanfranco</td>\n",
       "      <td>4</td>\n",
       "    </tr>\n",
       "    <tr>\n",
       "      <th>1</th>\n",
       "      <td>2</td>\n",
       "      <td>1</td>\n",
       "      <td>grantpatricia</td>\n",
       "      <td>2</td>\n",
       "    </tr>\n",
       "    <tr>\n",
       "      <th>2</th>\n",
       "      <td>3</td>\n",
       "      <td>1</td>\n",
       "      <td>brandtandrea</td>\n",
       "      <td>5</td>\n",
       "    </tr>\n",
       "    <tr>\n",
       "      <th>3</th>\n",
       "      <td>4</td>\n",
       "      <td>2</td>\n",
       "      <td>lorichen</td>\n",
       "      <td>3</td>\n",
       "    </tr>\n",
       "    <tr>\n",
       "      <th>4</th>\n",
       "      <td>5</td>\n",
       "      <td>2</td>\n",
       "      <td>mariokeller</td>\n",
       "      <td>2</td>\n",
       "    </tr>\n",
       "  </tbody>\n",
       "</table>\n",
       "</div>"
      ],
      "text/plain": [
       "   rating_id  book_id       username  rating\n",
       "0          1        1     ryanfranco       4\n",
       "1          2        1  grantpatricia       2\n",
       "2          3        1   brandtandrea       5\n",
       "3          4        2       lorichen       3\n",
       "4          5        2    mariokeller       2"
      ]
     },
     "execution_count": 11,
     "metadata": {},
     "output_type": "execute_result"
    }
   ],
   "source": [
    "sql='''\n",
    "SELECT *\n",
    "FROM ratings\n",
    "LIMIT 5\n",
    "'''\n",
    "\n",
    "select(sql)"
   ]
  },
  {
   "cell_type": "code",
   "execution_count": 12,
   "id": "3efb47b3",
   "metadata": {},
   "outputs": [
    {
     "data": {
      "text/html": [
       "<div>\n",
       "<style scoped>\n",
       "    .dataframe tbody tr th:only-of-type {\n",
       "        vertical-align: middle;\n",
       "    }\n",
       "\n",
       "    .dataframe tbody tr th {\n",
       "        vertical-align: top;\n",
       "    }\n",
       "\n",
       "    .dataframe thead th {\n",
       "        text-align: right;\n",
       "    }\n",
       "</style>\n",
       "<table border=\"1\" class=\"dataframe\">\n",
       "  <thead>\n",
       "    <tr style=\"text-align: right;\">\n",
       "      <th></th>\n",
       "      <th>count</th>\n",
       "    </tr>\n",
       "  </thead>\n",
       "  <tbody>\n",
       "    <tr>\n",
       "      <th>0</th>\n",
       "      <td>6456</td>\n",
       "    </tr>\n",
       "  </tbody>\n",
       "</table>\n",
       "</div>"
      ],
      "text/plain": [
       "   count\n",
       "0   6456"
      ]
     },
     "execution_count": 12,
     "metadata": {},
     "output_type": "execute_result"
    }
   ],
   "source": [
    "sql='''\n",
    "SELECT COUNT(rating_id)\n",
    "FROM ratings\n",
    "'''\n",
    "\n",
    "select(sql)"
   ]
  },
  {
   "cell_type": "markdown",
   "id": "06509a41",
   "metadata": {},
   "source": [
    "Описание колонок таблицы `ratings` согласно документации:\n",
    "- `rating_id` — идентификатор оценки;\n",
    "- `book_id` — идентификатор книги;\n",
    "- `username` — имя пользователя, оставившего оценку;\n",
    "- `rating` — оценка книги.\n",
    "\n",
    "Таблица содержит 6456 записей."
   ]
  },
  {
   "cell_type": "markdown",
   "id": "dbdbcfaf",
   "metadata": {},
   "source": [
    "### Данные о пользовательских обзорах на книги:"
   ]
  },
  {
   "cell_type": "code",
   "execution_count": 13,
   "id": "6d587809",
   "metadata": {},
   "outputs": [
    {
     "data": {
      "text/html": [
       "<div>\n",
       "<style scoped>\n",
       "    .dataframe tbody tr th:only-of-type {\n",
       "        vertical-align: middle;\n",
       "    }\n",
       "\n",
       "    .dataframe tbody tr th {\n",
       "        vertical-align: top;\n",
       "    }\n",
       "\n",
       "    .dataframe thead th {\n",
       "        text-align: right;\n",
       "    }\n",
       "</style>\n",
       "<table border=\"1\" class=\"dataframe\">\n",
       "  <thead>\n",
       "    <tr style=\"text-align: right;\">\n",
       "      <th></th>\n",
       "      <th>review_id</th>\n",
       "      <th>book_id</th>\n",
       "      <th>username</th>\n",
       "      <th>text</th>\n",
       "    </tr>\n",
       "  </thead>\n",
       "  <tbody>\n",
       "    <tr>\n",
       "      <th>0</th>\n",
       "      <td>1</td>\n",
       "      <td>1</td>\n",
       "      <td>brandtandrea</td>\n",
       "      <td>Mention society tell send professor analysis. ...</td>\n",
       "    </tr>\n",
       "    <tr>\n",
       "      <th>1</th>\n",
       "      <td>2</td>\n",
       "      <td>1</td>\n",
       "      <td>ryanfranco</td>\n",
       "      <td>Foot glass pretty audience hit themselves. Amo...</td>\n",
       "    </tr>\n",
       "    <tr>\n",
       "      <th>2</th>\n",
       "      <td>3</td>\n",
       "      <td>2</td>\n",
       "      <td>lorichen</td>\n",
       "      <td>Listen treat keep worry. Miss husband tax but ...</td>\n",
       "    </tr>\n",
       "    <tr>\n",
       "      <th>3</th>\n",
       "      <td>4</td>\n",
       "      <td>3</td>\n",
       "      <td>johnsonamanda</td>\n",
       "      <td>Finally month interesting blue could nature cu...</td>\n",
       "    </tr>\n",
       "    <tr>\n",
       "      <th>4</th>\n",
       "      <td>5</td>\n",
       "      <td>3</td>\n",
       "      <td>scotttamara</td>\n",
       "      <td>Nation purpose heavy give wait song will. List...</td>\n",
       "    </tr>\n",
       "  </tbody>\n",
       "</table>\n",
       "</div>"
      ],
      "text/plain": [
       "   review_id  book_id       username  \\\n",
       "0          1        1   brandtandrea   \n",
       "1          2        1     ryanfranco   \n",
       "2          3        2       lorichen   \n",
       "3          4        3  johnsonamanda   \n",
       "4          5        3    scotttamara   \n",
       "\n",
       "                                                text  \n",
       "0  Mention society tell send professor analysis. ...  \n",
       "1  Foot glass pretty audience hit themselves. Amo...  \n",
       "2  Listen treat keep worry. Miss husband tax but ...  \n",
       "3  Finally month interesting blue could nature cu...  \n",
       "4  Nation purpose heavy give wait song will. List...  "
      ]
     },
     "execution_count": 13,
     "metadata": {},
     "output_type": "execute_result"
    }
   ],
   "source": [
    "sql='''\n",
    "SELECT *\n",
    "FROM reviews\n",
    "LIMIT 5\n",
    "'''\n",
    "\n",
    "select(sql)"
   ]
  },
  {
   "cell_type": "code",
   "execution_count": 14,
   "id": "bc7582b2",
   "metadata": {
    "scrolled": true
   },
   "outputs": [
    {
     "data": {
      "text/html": [
       "<div>\n",
       "<style scoped>\n",
       "    .dataframe tbody tr th:only-of-type {\n",
       "        vertical-align: middle;\n",
       "    }\n",
       "\n",
       "    .dataframe tbody tr th {\n",
       "        vertical-align: top;\n",
       "    }\n",
       "\n",
       "    .dataframe thead th {\n",
       "        text-align: right;\n",
       "    }\n",
       "</style>\n",
       "<table border=\"1\" class=\"dataframe\">\n",
       "  <thead>\n",
       "    <tr style=\"text-align: right;\">\n",
       "      <th></th>\n",
       "      <th>count</th>\n",
       "    </tr>\n",
       "  </thead>\n",
       "  <tbody>\n",
       "    <tr>\n",
       "      <th>0</th>\n",
       "      <td>2793</td>\n",
       "    </tr>\n",
       "  </tbody>\n",
       "</table>\n",
       "</div>"
      ],
      "text/plain": [
       "   count\n",
       "0   2793"
      ]
     },
     "execution_count": 14,
     "metadata": {},
     "output_type": "execute_result"
    }
   ],
   "source": [
    "sql='''\n",
    "SELECT COUNT(review_id)\n",
    "FROM reviews\n",
    "'''\n",
    "\n",
    "select(sql)"
   ]
  },
  {
   "cell_type": "markdown",
   "id": "35513da6",
   "metadata": {},
   "source": [
    "Описание колонок таблицы `reviews` согласно документации:\n",
    "- `review_id` — идентификатор обзора;\n",
    "- `book_id` — идентификатор книги;\n",
    "- `username` — имя пользователя, написавшего обзор;\n",
    "- `text` — текст обзора.\n",
    "\n",
    "Таблица содержит 2793 записей."
   ]
  },
  {
   "cell_type": "markdown",
   "id": "819fe7c9",
   "metadata": {},
   "source": [
    "## Анализ базы данных"
   ]
  },
  {
   "cell_type": "markdown",
   "id": "9ef66c8d",
   "metadata": {},
   "source": [
    "Проанализируем базу данных и ответим на интересующие вопросы."
   ]
  },
  {
   "cell_type": "markdown",
   "id": "31101c08",
   "metadata": {},
   "source": [
    "### Cколько книг вышло после 1 января 2000 года?"
   ]
  },
  {
   "cell_type": "code",
   "execution_count": 15,
   "id": "f4d0cf74",
   "metadata": {},
   "outputs": [
    {
     "data": {
      "text/html": [
       "<div>\n",
       "<style scoped>\n",
       "    .dataframe tbody tr th:only-of-type {\n",
       "        vertical-align: middle;\n",
       "    }\n",
       "\n",
       "    .dataframe tbody tr th {\n",
       "        vertical-align: top;\n",
       "    }\n",
       "\n",
       "    .dataframe thead th {\n",
       "        text-align: right;\n",
       "    }\n",
       "</style>\n",
       "<table border=\"1\" class=\"dataframe\">\n",
       "  <thead>\n",
       "    <tr style=\"text-align: right;\">\n",
       "      <th></th>\n",
       "      <th>count</th>\n",
       "    </tr>\n",
       "  </thead>\n",
       "  <tbody>\n",
       "    <tr>\n",
       "      <th>0</th>\n",
       "      <td>819</td>\n",
       "    </tr>\n",
       "  </tbody>\n",
       "</table>\n",
       "</div>"
      ],
      "text/plain": [
       "   count\n",
       "0    819"
      ]
     },
     "execution_count": 15,
     "metadata": {},
     "output_type": "execute_result"
    }
   ],
   "source": [
    "sql='''\n",
    "SELECT COUNT(book_id)\n",
    "FROM books\n",
    "WHERE DATE_TRUNC('day', publication_date) > '01-01-2000'\n",
    "'''\n",
    "\n",
    "select(sql)"
   ]
  },
  {
   "cell_type": "markdown",
   "id": "fc22027e",
   "metadata": {},
   "source": [
    "**Вывод:** после 1 января 2000 года вышло 819 книг, что составляет 81.9% от общего объема."
   ]
  },
  {
   "cell_type": "markdown",
   "id": "810cb168",
   "metadata": {},
   "source": [
    "### Какое количество обзоров и средняя оценка у каждой книги?"
   ]
  },
  {
   "cell_type": "code",
   "execution_count": 16,
   "id": "8731e8d1",
   "metadata": {},
   "outputs": [
    {
     "data": {
      "text/html": [
       "<div>\n",
       "<style scoped>\n",
       "    .dataframe tbody tr th:only-of-type {\n",
       "        vertical-align: middle;\n",
       "    }\n",
       "\n",
       "    .dataframe tbody tr th {\n",
       "        vertical-align: top;\n",
       "    }\n",
       "\n",
       "    .dataframe thead th {\n",
       "        text-align: right;\n",
       "    }\n",
       "</style>\n",
       "<table border=\"1\" class=\"dataframe\">\n",
       "  <thead>\n",
       "    <tr style=\"text-align: right;\">\n",
       "      <th></th>\n",
       "      <th>book_id</th>\n",
       "      <th>title</th>\n",
       "      <th>reviews_count</th>\n",
       "      <th>rating</th>\n",
       "    </tr>\n",
       "  </thead>\n",
       "  <tbody>\n",
       "    <tr>\n",
       "      <th>0</th>\n",
       "      <td>652</td>\n",
       "      <td>The Body in the Library (Miss Marple  #3)</td>\n",
       "      <td>4</td>\n",
       "      <td>4.500000</td>\n",
       "    </tr>\n",
       "    <tr>\n",
       "      <th>1</th>\n",
       "      <td>273</td>\n",
       "      <td>Galápagos</td>\n",
       "      <td>4</td>\n",
       "      <td>4.500000</td>\n",
       "    </tr>\n",
       "    <tr>\n",
       "      <th>2</th>\n",
       "      <td>51</td>\n",
       "      <td>A Tree Grows in Brooklyn</td>\n",
       "      <td>60</td>\n",
       "      <td>4.250000</td>\n",
       "    </tr>\n",
       "    <tr>\n",
       "      <th>3</th>\n",
       "      <td>951</td>\n",
       "      <td>Undaunted Courage: The Pioneering First Missio...</td>\n",
       "      <td>4</td>\n",
       "      <td>4.000000</td>\n",
       "    </tr>\n",
       "    <tr>\n",
       "      <th>4</th>\n",
       "      <td>839</td>\n",
       "      <td>The Prophet</td>\n",
       "      <td>28</td>\n",
       "      <td>4.285714</td>\n",
       "    </tr>\n",
       "    <tr>\n",
       "      <th>...</th>\n",
       "      <td>...</td>\n",
       "      <td>...</td>\n",
       "      <td>...</td>\n",
       "      <td>...</td>\n",
       "    </tr>\n",
       "    <tr>\n",
       "      <th>995</th>\n",
       "      <td>64</td>\n",
       "      <td>Alice in Wonderland</td>\n",
       "      <td>52</td>\n",
       "      <td>4.230769</td>\n",
       "    </tr>\n",
       "    <tr>\n",
       "      <th>996</th>\n",
       "      <td>55</td>\n",
       "      <td>A Woman of Substance (Emma Harte Saga #1)</td>\n",
       "      <td>4</td>\n",
       "      <td>5.000000</td>\n",
       "    </tr>\n",
       "    <tr>\n",
       "      <th>997</th>\n",
       "      <td>148</td>\n",
       "      <td>Christine</td>\n",
       "      <td>21</td>\n",
       "      <td>3.428571</td>\n",
       "    </tr>\n",
       "    <tr>\n",
       "      <th>998</th>\n",
       "      <td>790</td>\n",
       "      <td>The Magicians' Guild (Black Magician Trilogy  #1)</td>\n",
       "      <td>4</td>\n",
       "      <td>3.500000</td>\n",
       "    </tr>\n",
       "    <tr>\n",
       "      <th>999</th>\n",
       "      <td>828</td>\n",
       "      <td>The Plot Against America</td>\n",
       "      <td>4</td>\n",
       "      <td>3.000000</td>\n",
       "    </tr>\n",
       "  </tbody>\n",
       "</table>\n",
       "<p>1000 rows × 4 columns</p>\n",
       "</div>"
      ],
      "text/plain": [
       "     book_id                                              title  \\\n",
       "0        652          The Body in the Library (Miss Marple  #3)   \n",
       "1        273                                          Galápagos   \n",
       "2         51                           A Tree Grows in Brooklyn   \n",
       "3        951  Undaunted Courage: The Pioneering First Missio...   \n",
       "4        839                                        The Prophet   \n",
       "..       ...                                                ...   \n",
       "995       64                                Alice in Wonderland   \n",
       "996       55          A Woman of Substance (Emma Harte Saga #1)   \n",
       "997      148                                          Christine   \n",
       "998      790  The Magicians' Guild (Black Magician Trilogy  #1)   \n",
       "999      828                           The Plot Against America   \n",
       "\n",
       "     reviews_count    rating  \n",
       "0                4  4.500000  \n",
       "1                4  4.500000  \n",
       "2               60  4.250000  \n",
       "3                4  4.000000  \n",
       "4               28  4.285714  \n",
       "..             ...       ...  \n",
       "995             52  4.230769  \n",
       "996              4  5.000000  \n",
       "997             21  3.428571  \n",
       "998              4  3.500000  \n",
       "999              4  3.000000  \n",
       "\n",
       "[1000 rows x 4 columns]"
      ]
     },
     "execution_count": 16,
     "metadata": {},
     "output_type": "execute_result"
    }
   ],
   "source": [
    "sql='''\n",
    "SELECT b.book_id AS book_id,\n",
    "       b.title AS title,\n",
    "       COUNT(re.review_id) AS reviews_count,\n",
    "       AVG(ra.rating) AS rating\n",
    "FROM books AS b\n",
    "LEFT JOIN reviews AS re ON b.book_id=re.book_id\n",
    "LEFT JOIN ratings AS ra ON b.book_id=ra.book_id\n",
    "GROUP BY b.book_id, b.title\n",
    "--ORDER BY reviews_count DESC\n",
    "'''\n",
    "\n",
    "select(sql)"
   ]
  },
  {
   "cell_type": "markdown",
   "id": "e69577d9",
   "metadata": {},
   "source": [
    "**Вывод:** мы определили количество обзоров и среднюю оценку для каждой книги. Если отсортировать полученный ркзультат по количеству обхоров, лидером будет произведение `Twilight (Twilight #1)` со 1120 обзорами."
   ]
  },
  {
   "cell_type": "markdown",
   "id": "b5635bc2",
   "metadata": {},
   "source": [
    "### Какое издательство, выпустило наибольшее число книг толще 50 страниц?"
   ]
  },
  {
   "cell_type": "code",
   "execution_count": 17,
   "id": "5b23d363",
   "metadata": {},
   "outputs": [
    {
     "data": {
      "text/html": [
       "<div>\n",
       "<style scoped>\n",
       "    .dataframe tbody tr th:only-of-type {\n",
       "        vertical-align: middle;\n",
       "    }\n",
       "\n",
       "    .dataframe tbody tr th {\n",
       "        vertical-align: top;\n",
       "    }\n",
       "\n",
       "    .dataframe thead th {\n",
       "        text-align: right;\n",
       "    }\n",
       "</style>\n",
       "<table border=\"1\" class=\"dataframe\">\n",
       "  <thead>\n",
       "    <tr style=\"text-align: right;\">\n",
       "      <th></th>\n",
       "      <th>publisher_id</th>\n",
       "      <th>publisher</th>\n",
       "      <th>total_books</th>\n",
       "    </tr>\n",
       "  </thead>\n",
       "  <tbody>\n",
       "    <tr>\n",
       "      <th>0</th>\n",
       "      <td>212</td>\n",
       "      <td>Penguin Books</td>\n",
       "      <td>42</td>\n",
       "    </tr>\n",
       "  </tbody>\n",
       "</table>\n",
       "</div>"
      ],
      "text/plain": [
       "   publisher_id      publisher  total_books\n",
       "0           212  Penguin Books           42"
      ]
     },
     "execution_count": 17,
     "metadata": {},
     "output_type": "execute_result"
    }
   ],
   "source": [
    "sql='''\n",
    "WITH top_p AS \n",
    "(SELECT publisher_id,\n",
    "        COUNT(book_id) AS total_books\n",
    "FROM books AS b\n",
    "WHERE num_pages > 50\n",
    "GROUP BY publisher_id\n",
    "ORDER BY COUNT(book_id) DESC\n",
    "LIMIT 1)\n",
    "\n",
    "SELECT p.publisher_id,\n",
    "       publisher,\n",
    "       total_books\n",
    "FROM publishers AS p\n",
    "INNER JOIN top_p ON top_p.publisher_id=p.publisher_id\n",
    "'''\n",
    "\n",
    "select(sql)"
   ]
  },
  {
   "cell_type": "markdown",
   "id": "4beadc03",
   "metadata": {},
   "source": [
    "**Вывод:** лидером по выпуску книг толще 50 страниц является издательство `Penguin Books`. "
   ]
  },
  {
   "cell_type": "markdown",
   "id": "59b4aa3b",
   "metadata": {},
   "source": [
    "### У какого автора самая высокая средняя оценка книг (книги с 50 и более оценками)?"
   ]
  },
  {
   "cell_type": "code",
   "execution_count": 18,
   "id": "16cc69d3",
   "metadata": {},
   "outputs": [
    {
     "data": {
      "text/html": [
       "<div>\n",
       "<style scoped>\n",
       "    .dataframe tbody tr th:only-of-type {\n",
       "        vertical-align: middle;\n",
       "    }\n",
       "\n",
       "    .dataframe tbody tr th {\n",
       "        vertical-align: top;\n",
       "    }\n",
       "\n",
       "    .dataframe thead th {\n",
       "        text-align: right;\n",
       "    }\n",
       "</style>\n",
       "<table border=\"1\" class=\"dataframe\">\n",
       "  <thead>\n",
       "    <tr style=\"text-align: right;\">\n",
       "      <th></th>\n",
       "      <th>author_id</th>\n",
       "      <th>author</th>\n",
       "      <th>avg_rating</th>\n",
       "    </tr>\n",
       "  </thead>\n",
       "  <tbody>\n",
       "    <tr>\n",
       "      <th>0</th>\n",
       "      <td>236</td>\n",
       "      <td>J.K. Rowling/Mary GrandPré</td>\n",
       "      <td>4.287097</td>\n",
       "    </tr>\n",
       "  </tbody>\n",
       "</table>\n",
       "</div>"
      ],
      "text/plain": [
       "   author_id                      author  avg_rating\n",
       "0        236  J.K. Rowling/Mary GrandPré    4.287097"
      ]
     },
     "execution_count": 18,
     "metadata": {},
     "output_type": "execute_result"
    }
   ],
   "source": [
    "sql='''\n",
    "SELECT b.author_id AS author_id,\n",
    "       a.author AS author,\n",
    "       AVG(rating) AS avg_rating\n",
    "FROM books b\n",
    "INNER JOIN authors AS a ON b.author_id = a.author_id\n",
    "INNER JOIN ratings AS r ON b.book_id=r.book_id\n",
    "WHERE b.book_id IN \n",
    "(SELECT b.book_id AS book_id\n",
    "FROM books AS b\n",
    "LEFT JOIN ratings AS r ON b.book_id=r.book_id\n",
    "GROUP BY b.book_id, b.author_id\n",
    "HAVING COUNT(rating_id) >= 50)\n",
    "GROUP BY b.author_id, a.author\n",
    "ORDER BY avg_rating DESC\n",
    "LIMIT 1\n",
    "'''\n",
    "\n",
    "select(sql)"
   ]
  },
  {
   "cell_type": "markdown",
   "id": "7cd5e1ba",
   "metadata": {},
   "source": [
    "**Вывод:** самая высокая средняя оценка книг (книги с 50 и более оценками) у автора `J.K. Rowling/Mary GrandPré`."
   ]
  },
  {
   "cell_type": "markdown",
   "id": "91d9cae4",
   "metadata": {},
   "source": [
    "### Какое среднее количество обзоров от пользователей, которые поставили больше 50 оценок?"
   ]
  },
  {
   "cell_type": "code",
   "execution_count": 19,
   "id": "9bfde1f4",
   "metadata": {},
   "outputs": [
    {
     "data": {
      "text/html": [
       "<div>\n",
       "<style scoped>\n",
       "    .dataframe tbody tr th:only-of-type {\n",
       "        vertical-align: middle;\n",
       "    }\n",
       "\n",
       "    .dataframe tbody tr th {\n",
       "        vertical-align: top;\n",
       "    }\n",
       "\n",
       "    .dataframe thead th {\n",
       "        text-align: right;\n",
       "    }\n",
       "</style>\n",
       "<table border=\"1\" class=\"dataframe\">\n",
       "  <thead>\n",
       "    <tr style=\"text-align: right;\">\n",
       "      <th></th>\n",
       "      <th>round</th>\n",
       "    </tr>\n",
       "  </thead>\n",
       "  <tbody>\n",
       "    <tr>\n",
       "      <th>0</th>\n",
       "      <td>24.0</td>\n",
       "    </tr>\n",
       "  </tbody>\n",
       "</table>\n",
       "</div>"
      ],
      "text/plain": [
       "   round\n",
       "0   24.0"
      ]
     },
     "execution_count": 19,
     "metadata": {},
     "output_type": "execute_result"
    }
   ],
   "source": [
    "sql='''\n",
    "-- Пользователи, которые поставили больше 50 оценок\n",
    "WITH top_users AS \n",
    "(SELECT username AS user\n",
    "FROM ratings\n",
    "GROUP BY username\n",
    "HAVING COUNT(rating_id) > 50)\n",
    "\n",
    "SELECT ROUND(AVG(rev.re_cnt),0)\n",
    "FROM \n",
    "(SELECT COUNT(review_id) AS re_cnt\n",
    "FROM reviews AS r\n",
    "WHERE r.username IN \n",
    "(SELECT *\n",
    " FROM top_users)\n",
    "GROUP BY username) AS rev\n",
    "'''\n",
    "select(sql)"
   ]
  },
  {
   "cell_type": "markdown",
   "id": "bdb1dc3c",
   "metadata": {},
   "source": [
    "**Вывод:** в среднем пользователь, поставивший больше 50 оценок, составляет 24 обзора на книги."
   ]
  },
  {
   "cell_type": "markdown",
   "id": "1cb9f069",
   "metadata": {},
   "source": [
    "### Общий вывод:\n",
    "\n",
    "Чтобы проанализировать базу данных мы использовали талблтцы с информацией о книгах, издательствах, авторах, а также пользовательские обзоры книг. \n",
    "\n",
    "По результату анализа были поучены следующие результаты:\n",
    "1. После 1 января 2000 года вышло 819 книг, что составляет 81.9% от общего объема;\n",
    "2. Для каждой книги было определено количество обзоров и средняя оценка. Если отсортировать полученный ркзультат по количеству обхоров, лидером будет произведение `Twilight (Twilight #1)` со 1120 обзорами;\n",
    "3. Лидером по выпуску книг толще 50 страниц является издательство `Penguin Books`.\n",
    "4. Cамая высокая средняя оценка книг (книги с 50 и более оценками) у автора `J.K. Rowling/Mary GrandPré`;\n",
    "5. В среднем, пользователь, поставивший больше 50 оценок, составляет 24 обзора на книги."
   ]
  },
  {
   "cell_type": "code",
   "execution_count": null,
   "id": "7446171a",
   "metadata": {},
   "outputs": [],
   "source": []
  }
 ],
 "metadata": {
  "ExecuteTimeLog": [
   {
    "duration": 61,
    "start_time": "2022-10-13T06:17:23.432Z"
   },
   {
    "duration": 667,
    "start_time": "2022-10-13T06:17:27.253Z"
   },
   {
    "duration": 4,
    "start_time": "2022-10-13T06:17:27.922Z"
   },
   {
    "duration": 6710,
    "start_time": "2022-10-13T06:17:27.927Z"
   },
   {
    "duration": 3,
    "start_time": "2022-10-13T06:17:34.641Z"
   },
   {
    "duration": 325,
    "start_time": "2022-10-13T06:17:34.649Z"
   },
   {
    "duration": 73,
    "start_time": "2022-10-13T06:17:34.977Z"
   },
   {
    "duration": 80,
    "start_time": "2022-10-13T06:17:35.051Z"
   },
   {
    "duration": 89,
    "start_time": "2022-10-13T06:17:35.134Z"
   },
   {
    "duration": 91,
    "start_time": "2022-10-13T06:17:35.225Z"
   },
   {
    "duration": 80,
    "start_time": "2022-10-13T06:17:35.320Z"
   },
   {
    "duration": 93,
    "start_time": "2022-10-13T06:17:35.403Z"
   },
   {
    "duration": 91,
    "start_time": "2022-10-13T06:17:35.500Z"
   },
   {
    "duration": 112,
    "start_time": "2022-10-13T06:17:35.593Z"
   },
   {
    "duration": 124,
    "start_time": "2022-10-13T06:17:35.708Z"
   },
   {
    "duration": 262,
    "start_time": "2022-10-13T06:17:35.834Z"
   },
   {
    "duration": 146,
    "start_time": "2022-10-13T06:18:04.921Z"
   },
   {
    "duration": 241,
    "start_time": "2022-10-13T06:22:25.468Z"
   },
   {
    "duration": 3,
    "start_time": "2022-10-13T06:24:13.387Z"
   },
   {
    "duration": 151,
    "start_time": "2022-10-13T06:24:27.533Z"
   },
   {
    "duration": 4,
    "start_time": "2022-10-13T06:24:31.724Z"
   },
   {
    "duration": 139,
    "start_time": "2022-10-13T06:25:58.207Z"
   },
   {
    "duration": 3,
    "start_time": "2022-10-13T06:26:14.028Z"
   },
   {
    "duration": 10,
    "start_time": "2022-10-13T06:26:14.033Z"
   },
   {
    "duration": 35,
    "start_time": "2022-10-13T06:26:14.045Z"
   },
   {
    "duration": 13,
    "start_time": "2022-10-13T06:26:14.083Z"
   },
   {
    "duration": 282,
    "start_time": "2022-10-13T06:26:14.098Z"
   },
   {
    "duration": 77,
    "start_time": "2022-10-13T06:26:14.381Z"
   },
   {
    "duration": 106,
    "start_time": "2022-10-13T06:26:14.460Z"
   },
   {
    "duration": 73,
    "start_time": "2022-10-13T06:26:14.568Z"
   },
   {
    "duration": 94,
    "start_time": "2022-10-13T06:26:14.643Z"
   },
   {
    "duration": 78,
    "start_time": "2022-10-13T06:26:14.739Z"
   },
   {
    "duration": 94,
    "start_time": "2022-10-13T06:26:14.819Z"
   },
   {
    "duration": 82,
    "start_time": "2022-10-13T06:26:14.915Z"
   },
   {
    "duration": 90,
    "start_time": "2022-10-13T06:26:15.001Z"
   },
   {
    "duration": 79,
    "start_time": "2022-10-13T06:26:15.093Z"
   },
   {
    "duration": 4,
    "start_time": "2022-10-13T06:26:15.174Z"
   },
   {
    "duration": 18,
    "start_time": "2022-10-13T06:26:15.179Z"
   },
   {
    "duration": 99,
    "start_time": "2022-10-13T06:26:15.199Z"
   },
   {
    "duration": 118,
    "start_time": "2022-10-13T06:26:15.300Z"
   },
   {
    "duration": 195,
    "start_time": "2022-10-13T06:26:16.664Z"
   },
   {
    "duration": 85,
    "start_time": "2022-10-13T06:26:42.989Z"
   },
   {
    "duration": 251,
    "start_time": "2022-10-13T06:29:09.377Z"
   },
   {
    "duration": 155,
    "start_time": "2022-10-13T06:29:17.247Z"
   },
   {
    "duration": 84,
    "start_time": "2022-10-13T06:29:33.588Z"
   },
   {
    "duration": 91,
    "start_time": "2022-10-13T06:29:55.333Z"
   },
   {
    "duration": 148,
    "start_time": "2022-10-13T06:38:16.985Z"
   },
   {
    "duration": 149,
    "start_time": "2022-10-13T06:38:23.074Z"
   },
   {
    "duration": 90,
    "start_time": "2022-10-13T06:38:41.098Z"
   },
   {
    "duration": 157,
    "start_time": "2022-10-13T06:40:00.656Z"
   },
   {
    "duration": 141,
    "start_time": "2022-10-13T06:40:05.188Z"
   },
   {
    "duration": 126,
    "start_time": "2022-10-13T06:40:16.800Z"
   },
   {
    "duration": 183,
    "start_time": "2022-10-13T06:41:43.949Z"
   },
   {
    "duration": 118,
    "start_time": "2022-10-13T06:41:54.404Z"
   },
   {
    "duration": 91,
    "start_time": "2022-10-13T06:42:05.640Z"
   },
   {
    "duration": 186,
    "start_time": "2022-10-13T06:42:15.648Z"
   },
   {
    "duration": 232,
    "start_time": "2022-10-13T06:42:19.551Z"
   },
   {
    "duration": 149,
    "start_time": "2022-10-13T06:42:30.172Z"
   },
   {
    "duration": 151,
    "start_time": "2022-10-13T06:43:10.418Z"
   },
   {
    "duration": 87,
    "start_time": "2022-10-13T06:43:26.320Z"
   },
   {
    "duration": 192,
    "start_time": "2022-10-13T06:44:14.174Z"
   },
   {
    "duration": 194,
    "start_time": "2022-10-13T06:45:12.605Z"
   },
   {
    "duration": 149,
    "start_time": "2022-10-13T06:45:39.841Z"
   },
   {
    "duration": 178,
    "start_time": "2022-10-13T06:45:58.870Z"
   },
   {
    "duration": 166,
    "start_time": "2022-10-13T06:46:29.031Z"
   },
   {
    "duration": 197,
    "start_time": "2022-10-13T06:46:54.260Z"
   },
   {
    "duration": 155,
    "start_time": "2022-10-13T06:47:36.191Z"
   },
   {
    "duration": 210,
    "start_time": "2022-10-13T06:48:02.014Z"
   },
   {
    "duration": 118,
    "start_time": "2022-10-13T06:48:18.024Z"
   },
   {
    "duration": 152,
    "start_time": "2022-10-13T06:48:32.750Z"
   },
   {
    "duration": 164,
    "start_time": "2022-10-13T06:48:40.795Z"
   },
   {
    "duration": 151,
    "start_time": "2022-10-13T06:48:50.687Z"
   },
   {
    "duration": 2814,
    "start_time": "2022-10-13T06:49:12.114Z"
   },
   {
    "duration": 167,
    "start_time": "2022-10-13T06:50:17.325Z"
   },
   {
    "duration": 174,
    "start_time": "2022-10-13T06:50:29.921Z"
   },
   {
    "duration": 3966,
    "start_time": "2022-10-13T06:50:45.725Z"
   },
   {
    "duration": 130,
    "start_time": "2022-10-13T06:55:13.030Z"
   },
   {
    "duration": 150,
    "start_time": "2022-10-13T06:58:11.392Z"
   },
   {
    "duration": 171,
    "start_time": "2022-10-13T06:58:19.707Z"
   },
   {
    "duration": 108,
    "start_time": "2022-10-13T06:58:23.692Z"
   },
   {
    "duration": 189,
    "start_time": "2022-10-13T06:59:05.381Z"
   },
   {
    "duration": 104,
    "start_time": "2022-10-13T06:59:21.634Z"
   },
   {
    "duration": 97,
    "start_time": "2022-10-13T06:59:48.518Z"
   },
   {
    "duration": 86,
    "start_time": "2022-10-13T07:01:41.791Z"
   },
   {
    "duration": 3709,
    "start_time": "2022-10-13T07:02:19.245Z"
   },
   {
    "duration": 306,
    "start_time": "2022-10-13T07:04:05.054Z"
   },
   {
    "duration": 1535,
    "start_time": "2022-10-13T07:05:01.265Z"
   },
   {
    "duration": 88,
    "start_time": "2022-10-13T07:05:16.603Z"
   },
   {
    "duration": 88,
    "start_time": "2022-10-13T07:05:33.937Z"
   },
   {
    "duration": 609,
    "start_time": "2022-10-13T07:18:03.027Z"
   },
   {
    "duration": 4,
    "start_time": "2022-10-13T07:18:03.638Z"
   },
   {
    "duration": 10907,
    "start_time": "2022-10-13T07:18:03.644Z"
   },
   {
    "duration": 3,
    "start_time": "2022-10-13T07:18:14.558Z"
   },
   {
    "duration": 341,
    "start_time": "2022-10-13T07:18:14.564Z"
   },
   {
    "duration": 84,
    "start_time": "2022-10-13T07:18:14.907Z"
   },
   {
    "duration": 94,
    "start_time": "2022-10-13T07:18:14.993Z"
   },
   {
    "duration": 96,
    "start_time": "2022-10-13T07:18:15.090Z"
   },
   {
    "duration": 75,
    "start_time": "2022-10-13T07:18:15.188Z"
   },
   {
    "duration": 78,
    "start_time": "2022-10-13T07:18:15.265Z"
   },
   {
    "duration": 81,
    "start_time": "2022-10-13T07:18:15.345Z"
   },
   {
    "duration": 93,
    "start_time": "2022-10-13T07:18:15.429Z"
   },
   {
    "duration": 90,
    "start_time": "2022-10-13T07:18:15.525Z"
   },
   {
    "duration": 86,
    "start_time": "2022-10-13T07:18:15.618Z"
   },
   {
    "duration": 8,
    "start_time": "2022-10-13T07:18:15.706Z"
   },
   {
    "duration": 31,
    "start_time": "2022-10-13T07:18:15.716Z"
   },
   {
    "duration": 105,
    "start_time": "2022-10-13T07:18:15.750Z"
   },
   {
    "duration": 3249,
    "start_time": "2022-10-13T07:18:15.856Z"
   },
   {
    "duration": 87,
    "start_time": "2022-10-13T07:18:19.107Z"
   },
   {
    "duration": 98,
    "start_time": "2022-10-13T07:18:19.196Z"
   },
   {
    "duration": 108,
    "start_time": "2022-10-13T07:18:19.296Z"
   },
   {
    "duration": 608,
    "start_time": "2022-10-13T07:18:41.880Z"
   },
   {
    "duration": 5,
    "start_time": "2022-10-13T07:18:42.492Z"
   },
   {
    "duration": 9469,
    "start_time": "2022-10-13T07:18:42.499Z"
   },
   {
    "duration": 4,
    "start_time": "2022-10-13T07:18:51.970Z"
   },
   {
    "duration": 322,
    "start_time": "2022-10-13T07:18:51.976Z"
   },
   {
    "duration": 94,
    "start_time": "2022-10-13T07:18:52.301Z"
   },
   {
    "duration": 90,
    "start_time": "2022-10-13T07:18:52.396Z"
   },
   {
    "duration": 101,
    "start_time": "2022-10-13T07:18:52.490Z"
   },
   {
    "duration": 112,
    "start_time": "2022-10-13T07:18:52.593Z"
   },
   {
    "duration": 85,
    "start_time": "2022-10-13T07:18:52.707Z"
   },
   {
    "duration": 86,
    "start_time": "2022-10-13T07:18:52.794Z"
   },
   {
    "duration": 74,
    "start_time": "2022-10-13T07:18:52.883Z"
   },
   {
    "duration": 90,
    "start_time": "2022-10-13T07:18:52.961Z"
   },
   {
    "duration": 81,
    "start_time": "2022-10-13T07:18:53.057Z"
   },
   {
    "duration": 99,
    "start_time": "2022-10-13T07:18:53.140Z"
   },
   {
    "duration": 130,
    "start_time": "2022-10-13T07:18:53.241Z"
   },
   {
    "duration": 79,
    "start_time": "2022-10-13T07:18:53.372Z"
   },
   {
    "duration": 105,
    "start_time": "2022-10-13T07:18:53.453Z"
   },
   {
    "duration": 100,
    "start_time": "2022-10-13T07:18:53.560Z"
   }
  ],
  "kernelspec": {
   "display_name": "Python 3 (ipykernel)",
   "language": "python",
   "name": "python3"
  },
  "language_info": {
   "codemirror_mode": {
    "name": "ipython",
    "version": 3
   },
   "file_extension": ".py",
   "mimetype": "text/x-python",
   "name": "python",
   "nbconvert_exporter": "python",
   "pygments_lexer": "ipython3",
   "version": "3.9.12"
  },
  "toc": {
   "base_numbering": 1,
   "nav_menu": {},
   "number_sections": true,
   "sideBar": true,
   "skip_h1_title": true,
   "title_cell": "Table of Contents",
   "title_sidebar": "Contents",
   "toc_cell": false,
   "toc_position": {},
   "toc_section_display": true,
   "toc_window_display": false
  }
 },
 "nbformat": 4,
 "nbformat_minor": 5
}
