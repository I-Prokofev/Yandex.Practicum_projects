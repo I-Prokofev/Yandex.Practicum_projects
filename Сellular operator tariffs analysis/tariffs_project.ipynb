{
 "cells": [
  {
   "cell_type": "markdown",
   "metadata": {},
   "source": [
    "# Определение перспективного тарифа для телеком-компании\n",
    "\n",
    "Клиентам федерального оператора сотовой связи предлагаются два тарифных плана: «Смарт» и «Ультра». Чтобы скорректировать рекламный бюджет, коммерческий департамент хочет понять, какой тариф приносит больше денег.\n",
    "Необходимо сделать предварительный анализ тарифов на небольшой выборке клиентов. В нашем распоряжении данные 500 пользователей оператора: кто они, откуда, каким тарифом пользуются, сколько звонков и сообщений каждый отправил за 2018 год. Нужно проанализировать поведение клиентов и сделать вывод — какой тариф лучше?\n",
    "\n",
    "Ход исследования:\n",
    "\n",
    "Данные мы получим из файлов:\n",
    "* 'calls.csv' - информация по звонкам;\n",
    "* 'internet.csv' - информация об интернет-сессиях;\n",
    "* 'messages.csv' - информация о сообщениях;\n",
    "* 'tariffs.csv' - информация о тарифах;\n",
    "* 'users.csv' - информация о пользователях.\n",
    "\n",
    "О качестве данных ничего не известно. Поэтому перед проведением исследовательского анализа нам понадобится сделать их обзор.\n",
    "\n",
    "Мы проверим данные на ошибки и оценим их влияние на исследование. Затем, на этапе предобработки мы поищем возможность исправить наиболее критичные ошибки.\n",
    "\n",
    "Таким образом, исследование пройдет в несколько этапов:\n",
    "\n",
    "1. Изучение данных.\n",
    "2. Предобработка данных.\n",
    "3. Исследовательский анализ данных."
   ]
  },
  {
   "cell_type": "markdown",
   "metadata": {},
   "source": [
    "## Изучение данных из файлов"
   ]
  },
  {
   "cell_type": "code",
   "execution_count": 1,
   "metadata": {},
   "outputs": [],
   "source": [
    "import pandas as pd\n",
    "import matplotlib.pyplot as plt\n",
    "import numpy as np\n",
    "from scipy import stats as st\n",
    "import seaborn as sns\n",
    "import warnings\n",
    "warnings.filterwarnings(action='ignore')"
   ]
  },
  {
   "cell_type": "markdown",
   "metadata": {},
   "source": [
    "Откроем файлы с данными, выведем содержание каждого датафрейма и получим общую информацию."
   ]
  },
  {
   "cell_type": "markdown",
   "metadata": {},
   "source": [
    "### Информация о звонках"
   ]
  },
  {
   "cell_type": "code",
   "execution_count": 2,
   "metadata": {},
   "outputs": [
    {
     "data": {
      "text/html": [
       "<div>\n",
       "<style scoped>\n",
       "    .dataframe tbody tr th:only-of-type {\n",
       "        vertical-align: middle;\n",
       "    }\n",
       "\n",
       "    .dataframe tbody tr th {\n",
       "        vertical-align: top;\n",
       "    }\n",
       "\n",
       "    .dataframe thead th {\n",
       "        text-align: right;\n",
       "    }\n",
       "</style>\n",
       "<table border=\"1\" class=\"dataframe\">\n",
       "  <thead>\n",
       "    <tr style=\"text-align: right;\">\n",
       "      <th></th>\n",
       "      <th>id</th>\n",
       "      <th>call_date</th>\n",
       "      <th>duration</th>\n",
       "      <th>user_id</th>\n",
       "    </tr>\n",
       "  </thead>\n",
       "  <tbody>\n",
       "    <tr>\n",
       "      <th>0</th>\n",
       "      <td>1000_0</td>\n",
       "      <td>2018-07-25</td>\n",
       "      <td>0.00</td>\n",
       "      <td>1000</td>\n",
       "    </tr>\n",
       "    <tr>\n",
       "      <th>1</th>\n",
       "      <td>1000_1</td>\n",
       "      <td>2018-08-17</td>\n",
       "      <td>0.00</td>\n",
       "      <td>1000</td>\n",
       "    </tr>\n",
       "    <tr>\n",
       "      <th>2</th>\n",
       "      <td>1000_2</td>\n",
       "      <td>2018-06-11</td>\n",
       "      <td>2.85</td>\n",
       "      <td>1000</td>\n",
       "    </tr>\n",
       "    <tr>\n",
       "      <th>3</th>\n",
       "      <td>1000_3</td>\n",
       "      <td>2018-09-21</td>\n",
       "      <td>13.80</td>\n",
       "      <td>1000</td>\n",
       "    </tr>\n",
       "    <tr>\n",
       "      <th>4</th>\n",
       "      <td>1000_4</td>\n",
       "      <td>2018-12-15</td>\n",
       "      <td>5.18</td>\n",
       "      <td>1000</td>\n",
       "    </tr>\n",
       "  </tbody>\n",
       "</table>\n",
       "</div>"
      ],
      "text/plain": [
       "       id   call_date  duration  user_id\n",
       "0  1000_0  2018-07-25      0.00     1000\n",
       "1  1000_1  2018-08-17      0.00     1000\n",
       "2  1000_2  2018-06-11      2.85     1000\n",
       "3  1000_3  2018-09-21     13.80     1000\n",
       "4  1000_4  2018-12-15      5.18     1000"
      ]
     },
     "metadata": {},
     "output_type": "display_data"
    },
    {
     "name": "stdout",
     "output_type": "stream",
     "text": [
      "<class 'pandas.core.frame.DataFrame'>\n",
      "RangeIndex: 202607 entries, 0 to 202606\n",
      "Data columns (total 4 columns):\n",
      " #   Column     Non-Null Count   Dtype  \n",
      "---  ------     --------------   -----  \n",
      " 0   id         202607 non-null  object \n",
      " 1   call_date  202607 non-null  object \n",
      " 2   duration   202607 non-null  float64\n",
      " 3   user_id    202607 non-null  int64  \n",
      "dtypes: float64(1), int64(1), object(2)\n",
      "memory usage: 6.2+ MB\n"
     ]
    }
   ],
   "source": [
    "# информация о звонках\n",
    "calls_df = pd.read_csv('calls.csv', sep=',')\n",
    "display(calls_df.head(5))\n",
    "calls_df.info()"
   ]
  },
  {
   "cell_type": "markdown",
   "metadata": {},
   "source": [
    "В таблице четыре столбца:\n",
    "* id — уникальный номер звонка\n",
    "* call_date — дата звонка\n",
    "* duration — длительность звонка в минутах\n",
    "* user_id — идентификатор пользователя, сделавшего звонок"
   ]
  },
  {
   "cell_type": "markdown",
   "metadata": {},
   "source": [
    "В каждой строке таблицы — данные о звонках абонентов. В датасете нет пропусков, но тип данных в колонке call_date не соответствует документации. "
   ]
  },
  {
   "cell_type": "markdown",
   "metadata": {},
   "source": [
    "### Информация об интернет-сессиях"
   ]
  },
  {
   "cell_type": "code",
   "execution_count": 3,
   "metadata": {},
   "outputs": [
    {
     "data": {
      "text/html": [
       "<div>\n",
       "<style scoped>\n",
       "    .dataframe tbody tr th:only-of-type {\n",
       "        vertical-align: middle;\n",
       "    }\n",
       "\n",
       "    .dataframe tbody tr th {\n",
       "        vertical-align: top;\n",
       "    }\n",
       "\n",
       "    .dataframe thead th {\n",
       "        text-align: right;\n",
       "    }\n",
       "</style>\n",
       "<table border=\"1\" class=\"dataframe\">\n",
       "  <thead>\n",
       "    <tr style=\"text-align: right;\">\n",
       "      <th></th>\n",
       "      <th>Unnamed: 0</th>\n",
       "      <th>id</th>\n",
       "      <th>mb_used</th>\n",
       "      <th>session_date</th>\n",
       "      <th>user_id</th>\n",
       "    </tr>\n",
       "  </thead>\n",
       "  <tbody>\n",
       "    <tr>\n",
       "      <th>0</th>\n",
       "      <td>0</td>\n",
       "      <td>1000_0</td>\n",
       "      <td>112.95</td>\n",
       "      <td>2018-11-25</td>\n",
       "      <td>1000</td>\n",
       "    </tr>\n",
       "    <tr>\n",
       "      <th>1</th>\n",
       "      <td>1</td>\n",
       "      <td>1000_1</td>\n",
       "      <td>1052.81</td>\n",
       "      <td>2018-09-07</td>\n",
       "      <td>1000</td>\n",
       "    </tr>\n",
       "    <tr>\n",
       "      <th>2</th>\n",
       "      <td>2</td>\n",
       "      <td>1000_2</td>\n",
       "      <td>1197.26</td>\n",
       "      <td>2018-06-25</td>\n",
       "      <td>1000</td>\n",
       "    </tr>\n",
       "    <tr>\n",
       "      <th>3</th>\n",
       "      <td>3</td>\n",
       "      <td>1000_3</td>\n",
       "      <td>550.27</td>\n",
       "      <td>2018-08-22</td>\n",
       "      <td>1000</td>\n",
       "    </tr>\n",
       "    <tr>\n",
       "      <th>4</th>\n",
       "      <td>4</td>\n",
       "      <td>1000_4</td>\n",
       "      <td>302.56</td>\n",
       "      <td>2018-09-24</td>\n",
       "      <td>1000</td>\n",
       "    </tr>\n",
       "  </tbody>\n",
       "</table>\n",
       "</div>"
      ],
      "text/plain": [
       "   Unnamed: 0      id  mb_used session_date  user_id\n",
       "0           0  1000_0   112.95   2018-11-25     1000\n",
       "1           1  1000_1  1052.81   2018-09-07     1000\n",
       "2           2  1000_2  1197.26   2018-06-25     1000\n",
       "3           3  1000_3   550.27   2018-08-22     1000\n",
       "4           4  1000_4   302.56   2018-09-24     1000"
      ]
     },
     "metadata": {},
     "output_type": "display_data"
    },
    {
     "name": "stdout",
     "output_type": "stream",
     "text": [
      "<class 'pandas.core.frame.DataFrame'>\n",
      "RangeIndex: 149396 entries, 0 to 149395\n",
      "Data columns (total 5 columns):\n",
      " #   Column        Non-Null Count   Dtype  \n",
      "---  ------        --------------   -----  \n",
      " 0   Unnamed: 0    149396 non-null  int64  \n",
      " 1   id            149396 non-null  object \n",
      " 2   mb_used       149396 non-null  float64\n",
      " 3   session_date  149396 non-null  object \n",
      " 4   user_id       149396 non-null  int64  \n",
      "dtypes: float64(1), int64(2), object(2)\n",
      "memory usage: 5.7+ MB\n"
     ]
    }
   ],
   "source": [
    "# информация об интернет-сессиях\n",
    "internet_df = pd.read_csv('internet.csv', sep=',')\n",
    "display(internet_df.head(5))\n",
    "internet_df.info()"
   ]
  },
  {
   "cell_type": "markdown",
   "metadata": {},
   "source": [
    "В таблице пять столбцов:\n",
    "* Unnamed: 0 - неизвестный столбец с индексами (лишний)\n",
    "* id — уникальный номер сессии\n",
    "* mb_used — объём потраченного за сессию интернет-трафика (в мегабайтах)\n",
    "* session_date — дата интернет-сессии\n",
    "* user_id — идентификатор пользователя"
   ]
  },
  {
   "cell_type": "markdown",
   "metadata": {},
   "source": [
    "В каждой строке таблицы — данные об интернет-сессиях абонентов. В датасете нет пропусков, но есть лишний неописанный столбец 'Unnamed: 0'; кроме того, тип данных в колонке session_date не соответствует документации."
   ]
  },
  {
   "cell_type": "markdown",
   "metadata": {},
   "source": [
    "### Информация о сообщениях"
   ]
  },
  {
   "cell_type": "code",
   "execution_count": 4,
   "metadata": {},
   "outputs": [
    {
     "data": {
      "text/html": [
       "<div>\n",
       "<style scoped>\n",
       "    .dataframe tbody tr th:only-of-type {\n",
       "        vertical-align: middle;\n",
       "    }\n",
       "\n",
       "    .dataframe tbody tr th {\n",
       "        vertical-align: top;\n",
       "    }\n",
       "\n",
       "    .dataframe thead th {\n",
       "        text-align: right;\n",
       "    }\n",
       "</style>\n",
       "<table border=\"1\" class=\"dataframe\">\n",
       "  <thead>\n",
       "    <tr style=\"text-align: right;\">\n",
       "      <th></th>\n",
       "      <th>id</th>\n",
       "      <th>message_date</th>\n",
       "      <th>user_id</th>\n",
       "    </tr>\n",
       "  </thead>\n",
       "  <tbody>\n",
       "    <tr>\n",
       "      <th>0</th>\n",
       "      <td>1000_0</td>\n",
       "      <td>2018-06-27</td>\n",
       "      <td>1000</td>\n",
       "    </tr>\n",
       "    <tr>\n",
       "      <th>1</th>\n",
       "      <td>1000_1</td>\n",
       "      <td>2018-10-08</td>\n",
       "      <td>1000</td>\n",
       "    </tr>\n",
       "    <tr>\n",
       "      <th>2</th>\n",
       "      <td>1000_2</td>\n",
       "      <td>2018-08-04</td>\n",
       "      <td>1000</td>\n",
       "    </tr>\n",
       "    <tr>\n",
       "      <th>3</th>\n",
       "      <td>1000_3</td>\n",
       "      <td>2018-06-16</td>\n",
       "      <td>1000</td>\n",
       "    </tr>\n",
       "    <tr>\n",
       "      <th>4</th>\n",
       "      <td>1000_4</td>\n",
       "      <td>2018-12-05</td>\n",
       "      <td>1000</td>\n",
       "    </tr>\n",
       "  </tbody>\n",
       "</table>\n",
       "</div>"
      ],
      "text/plain": [
       "       id message_date  user_id\n",
       "0  1000_0   2018-06-27     1000\n",
       "1  1000_1   2018-10-08     1000\n",
       "2  1000_2   2018-08-04     1000\n",
       "3  1000_3   2018-06-16     1000\n",
       "4  1000_4   2018-12-05     1000"
      ]
     },
     "metadata": {},
     "output_type": "display_data"
    },
    {
     "name": "stdout",
     "output_type": "stream",
     "text": [
      "<class 'pandas.core.frame.DataFrame'>\n",
      "RangeIndex: 123036 entries, 0 to 123035\n",
      "Data columns (total 3 columns):\n",
      " #   Column        Non-Null Count   Dtype \n",
      "---  ------        --------------   ----- \n",
      " 0   id            123036 non-null  object\n",
      " 1   message_date  123036 non-null  object\n",
      " 2   user_id       123036 non-null  int64 \n",
      "dtypes: int64(1), object(2)\n",
      "memory usage: 2.8+ MB\n"
     ]
    }
   ],
   "source": [
    "# информация о сообщениях\n",
    "messages_df = pd.read_csv('messages.csv', sep=',')\n",
    "display(messages_df.head(5))\n",
    "messages_df.info()"
   ]
  },
  {
   "cell_type": "markdown",
   "metadata": {},
   "source": [
    "В таблице три столбца:\n",
    "* id — уникальный номер сообщения\n",
    "* message_date — дата сообщения\n",
    "* user_id — идентификатор пользователя, отправившего сообщение"
   ]
  },
  {
   "cell_type": "markdown",
   "metadata": {},
   "source": [
    "В каждой строке таблицы — данные о сообщениях абонентов. В датасете нет пропусков, но тип данных в колонке message_date не соответствует документации."
   ]
  },
  {
   "cell_type": "markdown",
   "metadata": {},
   "source": [
    "### Информация о тарифах"
   ]
  },
  {
   "cell_type": "code",
   "execution_count": 5,
   "metadata": {},
   "outputs": [
    {
     "data": {
      "text/html": [
       "<div>\n",
       "<style scoped>\n",
       "    .dataframe tbody tr th:only-of-type {\n",
       "        vertical-align: middle;\n",
       "    }\n",
       "\n",
       "    .dataframe tbody tr th {\n",
       "        vertical-align: top;\n",
       "    }\n",
       "\n",
       "    .dataframe thead th {\n",
       "        text-align: right;\n",
       "    }\n",
       "</style>\n",
       "<table border=\"1\" class=\"dataframe\">\n",
       "  <thead>\n",
       "    <tr style=\"text-align: right;\">\n",
       "      <th></th>\n",
       "      <th>messages_included</th>\n",
       "      <th>mb_per_month_included</th>\n",
       "      <th>minutes_included</th>\n",
       "      <th>rub_monthly_fee</th>\n",
       "      <th>rub_per_gb</th>\n",
       "      <th>rub_per_message</th>\n",
       "      <th>rub_per_minute</th>\n",
       "      <th>tariff_name</th>\n",
       "    </tr>\n",
       "  </thead>\n",
       "  <tbody>\n",
       "    <tr>\n",
       "      <th>0</th>\n",
       "      <td>50</td>\n",
       "      <td>15360</td>\n",
       "      <td>500</td>\n",
       "      <td>550</td>\n",
       "      <td>200</td>\n",
       "      <td>3</td>\n",
       "      <td>3</td>\n",
       "      <td>smart</td>\n",
       "    </tr>\n",
       "    <tr>\n",
       "      <th>1</th>\n",
       "      <td>1000</td>\n",
       "      <td>30720</td>\n",
       "      <td>3000</td>\n",
       "      <td>1950</td>\n",
       "      <td>150</td>\n",
       "      <td>1</td>\n",
       "      <td>1</td>\n",
       "      <td>ultra</td>\n",
       "    </tr>\n",
       "  </tbody>\n",
       "</table>\n",
       "</div>"
      ],
      "text/plain": [
       "   messages_included  mb_per_month_included  minutes_included  \\\n",
       "0                 50                  15360               500   \n",
       "1               1000                  30720              3000   \n",
       "\n",
       "   rub_monthly_fee  rub_per_gb  rub_per_message  rub_per_minute tariff_name  \n",
       "0              550         200                3               3       smart  \n",
       "1             1950         150                1               1       ultra  "
      ]
     },
     "metadata": {},
     "output_type": "display_data"
    },
    {
     "name": "stdout",
     "output_type": "stream",
     "text": [
      "<class 'pandas.core.frame.DataFrame'>\n",
      "RangeIndex: 2 entries, 0 to 1\n",
      "Data columns (total 8 columns):\n",
      " #   Column                 Non-Null Count  Dtype \n",
      "---  ------                 --------------  ----- \n",
      " 0   messages_included      2 non-null      int64 \n",
      " 1   mb_per_month_included  2 non-null      int64 \n",
      " 2   minutes_included       2 non-null      int64 \n",
      " 3   rub_monthly_fee        2 non-null      int64 \n",
      " 4   rub_per_gb             2 non-null      int64 \n",
      " 5   rub_per_message        2 non-null      int64 \n",
      " 6   rub_per_minute         2 non-null      int64 \n",
      " 7   tariff_name            2 non-null      object\n",
      "dtypes: int64(7), object(1)\n",
      "memory usage: 256.0+ bytes\n"
     ]
    }
   ],
   "source": [
    "# информация о тарифах\n",
    "tariffs_df = pd.read_csv('tariffs.csv', sep=',')\n",
    "display(tariffs_df.head(5))\n",
    "tariffs_df.info()"
   ]
  },
  {
   "cell_type": "markdown",
   "metadata": {},
   "source": [
    "В таблице восемь столбцов:\n",
    "* tariff_name — название тарифа\n",
    "* rub_monthly_fee — ежемесячная абонентская плата в рублях\n",
    "* minutes_included — количество минут разговора в месяц, включённых в абонентскую плату\n",
    "* messages_included — количество сообщений в месяц, включённых в абонентскую плату\n",
    "* mb_per_month_included — объём интернет-трафика, включённого в абонентскую плату (в мегабайтах)\n",
    "* rub_per_minute — стоимость минуты разговора сверх тарифного пакета (например, если в тарифе 100 минут разговора в месяц, то со 101 минуты будет взиматься плата)\n",
    "* rub_per_message — стоимость отправки сообщения сверх тарифного пакета\n",
    "* rub_per_gb — стоимость дополнительного гигабайта интернет-трафика сверх тарифного пакета (1 гигабайт = 1024 мегабайта)"
   ]
  },
  {
   "cell_type": "markdown",
   "metadata": {},
   "source": [
    "В каждой строке таблицы — данные о тарифе. В датасете нет пропусков, тип данных в каждой колонке соответствует документации."
   ]
  },
  {
   "cell_type": "markdown",
   "metadata": {},
   "source": [
    "### Информация о пользователях"
   ]
  },
  {
   "cell_type": "code",
   "execution_count": 6,
   "metadata": {},
   "outputs": [
    {
     "data": {
      "text/html": [
       "<div>\n",
       "<style scoped>\n",
       "    .dataframe tbody tr th:only-of-type {\n",
       "        vertical-align: middle;\n",
       "    }\n",
       "\n",
       "    .dataframe tbody tr th {\n",
       "        vertical-align: top;\n",
       "    }\n",
       "\n",
       "    .dataframe thead th {\n",
       "        text-align: right;\n",
       "    }\n",
       "</style>\n",
       "<table border=\"1\" class=\"dataframe\">\n",
       "  <thead>\n",
       "    <tr style=\"text-align: right;\">\n",
       "      <th></th>\n",
       "      <th>user_id</th>\n",
       "      <th>age</th>\n",
       "      <th>churn_date</th>\n",
       "      <th>city</th>\n",
       "      <th>first_name</th>\n",
       "      <th>last_name</th>\n",
       "      <th>reg_date</th>\n",
       "      <th>tariff</th>\n",
       "    </tr>\n",
       "  </thead>\n",
       "  <tbody>\n",
       "    <tr>\n",
       "      <th>0</th>\n",
       "      <td>1000</td>\n",
       "      <td>52</td>\n",
       "      <td>NaN</td>\n",
       "      <td>Краснодар</td>\n",
       "      <td>Рафаил</td>\n",
       "      <td>Верещагин</td>\n",
       "      <td>2018-05-25</td>\n",
       "      <td>ultra</td>\n",
       "    </tr>\n",
       "    <tr>\n",
       "      <th>1</th>\n",
       "      <td>1001</td>\n",
       "      <td>41</td>\n",
       "      <td>NaN</td>\n",
       "      <td>Москва</td>\n",
       "      <td>Иван</td>\n",
       "      <td>Ежов</td>\n",
       "      <td>2018-11-01</td>\n",
       "      <td>smart</td>\n",
       "    </tr>\n",
       "    <tr>\n",
       "      <th>2</th>\n",
       "      <td>1002</td>\n",
       "      <td>59</td>\n",
       "      <td>NaN</td>\n",
       "      <td>Стерлитамак</td>\n",
       "      <td>Евгений</td>\n",
       "      <td>Абрамович</td>\n",
       "      <td>2018-06-17</td>\n",
       "      <td>smart</td>\n",
       "    </tr>\n",
       "    <tr>\n",
       "      <th>3</th>\n",
       "      <td>1003</td>\n",
       "      <td>23</td>\n",
       "      <td>NaN</td>\n",
       "      <td>Москва</td>\n",
       "      <td>Белла</td>\n",
       "      <td>Белякова</td>\n",
       "      <td>2018-08-17</td>\n",
       "      <td>ultra</td>\n",
       "    </tr>\n",
       "    <tr>\n",
       "      <th>4</th>\n",
       "      <td>1004</td>\n",
       "      <td>68</td>\n",
       "      <td>NaN</td>\n",
       "      <td>Новокузнецк</td>\n",
       "      <td>Татьяна</td>\n",
       "      <td>Авдеенко</td>\n",
       "      <td>2018-05-14</td>\n",
       "      <td>ultra</td>\n",
       "    </tr>\n",
       "  </tbody>\n",
       "</table>\n",
       "</div>"
      ],
      "text/plain": [
       "   user_id  age churn_date         city first_name  last_name    reg_date  \\\n",
       "0     1000   52        NaN    Краснодар     Рафаил  Верещагин  2018-05-25   \n",
       "1     1001   41        NaN       Москва       Иван       Ежов  2018-11-01   \n",
       "2     1002   59        NaN  Стерлитамак    Евгений  Абрамович  2018-06-17   \n",
       "3     1003   23        NaN       Москва      Белла   Белякова  2018-08-17   \n",
       "4     1004   68        NaN  Новокузнецк    Татьяна   Авдеенко  2018-05-14   \n",
       "\n",
       "  tariff  \n",
       "0  ultra  \n",
       "1  smart  \n",
       "2  smart  \n",
       "3  ultra  \n",
       "4  ultra  "
      ]
     },
     "metadata": {},
     "output_type": "display_data"
    },
    {
     "name": "stdout",
     "output_type": "stream",
     "text": [
      "<class 'pandas.core.frame.DataFrame'>\n",
      "RangeIndex: 500 entries, 0 to 499\n",
      "Data columns (total 8 columns):\n",
      " #   Column      Non-Null Count  Dtype \n",
      "---  ------      --------------  ----- \n",
      " 0   user_id     500 non-null    int64 \n",
      " 1   age         500 non-null    int64 \n",
      " 2   churn_date  38 non-null     object\n",
      " 3   city        500 non-null    object\n",
      " 4   first_name  500 non-null    object\n",
      " 5   last_name   500 non-null    object\n",
      " 6   reg_date    500 non-null    object\n",
      " 7   tariff      500 non-null    object\n",
      "dtypes: int64(2), object(6)\n",
      "memory usage: 31.4+ KB\n"
     ]
    }
   ],
   "source": [
    "# информация о пользователях\n",
    "users_df = pd.read_csv('users.csv', sep=',')\n",
    "display(users_df.head(5))\n",
    "users_df.info()"
   ]
  },
  {
   "cell_type": "markdown",
   "metadata": {},
   "source": [
    "В таблице восемь столбцов:\n",
    "* user_id — уникальный идентификатор пользователя\n",
    "* first_name — имя пользователя\n",
    "* last_name — фамилия пользователя\n",
    "* age — возраст пользователя (годы)\n",
    "* reg_date — дата подключения тарифа (день, месяц, год)\n",
    "* churn_date — дата прекращения пользования тарифом (если значение пропущено, то тариф ещё действовал на момент выгрузки данных)\n",
    "* city — город проживания пользователя\n",
    "* tariff — название тарифного плана"
   ]
  },
  {
   "cell_type": "markdown",
   "metadata": {},
   "source": [
    "В каждой строке таблицы — данные о звонках абонентов. В датасете есть пропуски в колонке churn_date, кроме того тип данных в этой колонке, а также в reg_date не соответствует документации."
   ]
  },
  {
   "cell_type": "markdown",
   "metadata": {},
   "source": [
    "### Вывод\n",
    "\n",
    "Предварительно можно утверждать, что данных достаточно для проведения исследования. Но типы данных в некоторых колонках датасетов не соответствуют документации. Кроме того, нужно проверить данные на наличие ошибок, и, если они есть, исправить их."
   ]
  },
  {
   "cell_type": "markdown",
   "metadata": {},
   "source": [
    "## Предобработка данных"
   ]
  },
  {
   "cell_type": "markdown",
   "metadata": {},
   "source": [
    "### Пропущенные значения"
   ]
  },
  {
   "cell_type": "markdown",
   "metadata": {},
   "source": [
    "Пропущенных значений в столбце churn_date означают, что на момент выгрузки данных тариф еще действовал. \n",
    "Поэтому обрабатывать пропуски в этом столбце не будем."
   ]
  },
  {
   "cell_type": "markdown",
   "metadata": {},
   "source": [
    "### Изменение типов данных"
   ]
  },
  {
   "cell_type": "markdown",
   "metadata": {},
   "source": [
    "Изменим типы данных в столбцах, чтобы они соответствовали предоставленной документации. \n",
    "\n",
    "Сначала округлим значения столбца duration calls_df в соответствии с бизнес-процессами: сотовый оператор всегда округляет секунды до минут. Каждый звонок округляется отдельно: даже если он длился всего 1 секунду, будет засчитан как 1 минута."
   ]
  },
  {
   "cell_type": "code",
   "execution_count": 7,
   "metadata": {},
   "outputs": [
    {
     "data": {
      "text/html": [
       "<div>\n",
       "<style scoped>\n",
       "    .dataframe tbody tr th:only-of-type {\n",
       "        vertical-align: middle;\n",
       "    }\n",
       "\n",
       "    .dataframe tbody tr th {\n",
       "        vertical-align: top;\n",
       "    }\n",
       "\n",
       "    .dataframe thead th {\n",
       "        text-align: right;\n",
       "    }\n",
       "</style>\n",
       "<table border=\"1\" class=\"dataframe\">\n",
       "  <thead>\n",
       "    <tr style=\"text-align: right;\">\n",
       "      <th></th>\n",
       "      <th>id</th>\n",
       "      <th>call_date</th>\n",
       "      <th>duration</th>\n",
       "      <th>user_id</th>\n",
       "    </tr>\n",
       "  </thead>\n",
       "  <tbody>\n",
       "    <tr>\n",
       "      <th>0</th>\n",
       "      <td>1000_0</td>\n",
       "      <td>2018-07-25</td>\n",
       "      <td>0.0</td>\n",
       "      <td>1000</td>\n",
       "    </tr>\n",
       "    <tr>\n",
       "      <th>1</th>\n",
       "      <td>1000_1</td>\n",
       "      <td>2018-08-17</td>\n",
       "      <td>0.0</td>\n",
       "      <td>1000</td>\n",
       "    </tr>\n",
       "    <tr>\n",
       "      <th>2</th>\n",
       "      <td>1000_2</td>\n",
       "      <td>2018-06-11</td>\n",
       "      <td>3.0</td>\n",
       "      <td>1000</td>\n",
       "    </tr>\n",
       "    <tr>\n",
       "      <th>3</th>\n",
       "      <td>1000_3</td>\n",
       "      <td>2018-09-21</td>\n",
       "      <td>14.0</td>\n",
       "      <td>1000</td>\n",
       "    </tr>\n",
       "    <tr>\n",
       "      <th>4</th>\n",
       "      <td>1000_4</td>\n",
       "      <td>2018-12-15</td>\n",
       "      <td>6.0</td>\n",
       "      <td>1000</td>\n",
       "    </tr>\n",
       "  </tbody>\n",
       "</table>\n",
       "</div>"
      ],
      "text/plain": [
       "       id   call_date  duration  user_id\n",
       "0  1000_0  2018-07-25       0.0     1000\n",
       "1  1000_1  2018-08-17       0.0     1000\n",
       "2  1000_2  2018-06-11       3.0     1000\n",
       "3  1000_3  2018-09-21      14.0     1000\n",
       "4  1000_4  2018-12-15       6.0     1000"
      ]
     },
     "metadata": {},
     "output_type": "display_data"
    }
   ],
   "source": [
    "# округлим до целого значения в большус сторону значения в столбце duration датасета calls_df\n",
    "calls_df['duration'] = np.ceil(calls_df['duration'])\n",
    "\n",
    "display(calls_df.head(5))"
   ]
  },
  {
   "cell_type": "markdown",
   "metadata": {},
   "source": [
    "Теперь изменим типы данных в столбцах и проверим полученные датасеты:"
   ]
  },
  {
   "cell_type": "code",
   "execution_count": 8,
   "metadata": {
    "scrolled": true
   },
   "outputs": [
    {
     "name": "stdout",
     "output_type": "stream",
     "text": [
      "<class 'pandas.core.frame.DataFrame'>\n",
      "RangeIndex: 202607 entries, 0 to 202606\n",
      "Data columns (total 4 columns):\n",
      " #   Column     Non-Null Count   Dtype         \n",
      "---  ------     --------------   -----         \n",
      " 0   id         202607 non-null  object        \n",
      " 1   call_date  202607 non-null  datetime64[ns]\n",
      " 2   duration   202607 non-null  int32         \n",
      " 3   user_id    202607 non-null  int64         \n",
      "dtypes: datetime64[ns](1), int32(1), int64(1), object(1)\n",
      "memory usage: 5.4+ MB\n"
     ]
    }
   ],
   "source": [
    "# изменим тип данных в столбце duration датасета calls_df на int\n",
    "calls_df['duration'] = calls_df['duration'].astype('int')\n",
    "\n",
    "# изменим тип данных в столбце call_date датасета calls_df на datetime64:\n",
    "calls_df['call_date'] = pd.to_datetime(calls_df['call_date'], format='%Y-%m-%d')\n",
    "\n",
    "# изменим тип данных в столбце session_date датасета internet_df на datetime64:\n",
    "internet_df['session_date'] = pd.to_datetime(internet_df['session_date'], format='%Y-%m-%d')\n",
    "\n",
    "# изменим тип данных в столбце message_date датасета messages_df на datetime64:\n",
    "messages_df['message_date'] = pd.to_datetime(messages_df['message_date'], format='%Y-%m-%d')\n",
    "\n",
    "# изменим тип данных в столбце churn_date и reg_date датасета users_df на datetime64:\n",
    "users_df['churn_date'] = pd.to_datetime(users_df['churn_date'], format='%Y-%m-%d')\n",
    "users_df['reg_date'] = pd.to_datetime(users_df['reg_date'], format='%Y-%m-%d')\n",
    "\n",
    "calls_df.info()"
   ]
  },
  {
   "cell_type": "code",
   "execution_count": 9,
   "metadata": {},
   "outputs": [
    {
     "name": "stdout",
     "output_type": "stream",
     "text": [
      "<class 'pandas.core.frame.DataFrame'>\n",
      "RangeIndex: 149396 entries, 0 to 149395\n",
      "Data columns (total 5 columns):\n",
      " #   Column        Non-Null Count   Dtype         \n",
      "---  ------        --------------   -----         \n",
      " 0   Unnamed: 0    149396 non-null  int64         \n",
      " 1   id            149396 non-null  object        \n",
      " 2   mb_used       149396 non-null  float64       \n",
      " 3   session_date  149396 non-null  datetime64[ns]\n",
      " 4   user_id       149396 non-null  int64         \n",
      "dtypes: datetime64[ns](1), float64(1), int64(2), object(1)\n",
      "memory usage: 5.7+ MB\n"
     ]
    }
   ],
   "source": [
    "internet_df.info()"
   ]
  },
  {
   "cell_type": "code",
   "execution_count": 10,
   "metadata": {},
   "outputs": [
    {
     "name": "stdout",
     "output_type": "stream",
     "text": [
      "<class 'pandas.core.frame.DataFrame'>\n",
      "RangeIndex: 123036 entries, 0 to 123035\n",
      "Data columns (total 3 columns):\n",
      " #   Column        Non-Null Count   Dtype         \n",
      "---  ------        --------------   -----         \n",
      " 0   id            123036 non-null  object        \n",
      " 1   message_date  123036 non-null  datetime64[ns]\n",
      " 2   user_id       123036 non-null  int64         \n",
      "dtypes: datetime64[ns](1), int64(1), object(1)\n",
      "memory usage: 2.8+ MB\n"
     ]
    }
   ],
   "source": [
    "messages_df.info()"
   ]
  },
  {
   "cell_type": "code",
   "execution_count": 11,
   "metadata": {},
   "outputs": [
    {
     "name": "stdout",
     "output_type": "stream",
     "text": [
      "<class 'pandas.core.frame.DataFrame'>\n",
      "RangeIndex: 500 entries, 0 to 499\n",
      "Data columns (total 8 columns):\n",
      " #   Column      Non-Null Count  Dtype         \n",
      "---  ------      --------------  -----         \n",
      " 0   user_id     500 non-null    int64         \n",
      " 1   age         500 non-null    int64         \n",
      " 2   churn_date  38 non-null     datetime64[ns]\n",
      " 3   city        500 non-null    object        \n",
      " 4   first_name  500 non-null    object        \n",
      " 5   last_name   500 non-null    object        \n",
      " 6   reg_date    500 non-null    datetime64[ns]\n",
      " 7   tariff      500 non-null    object        \n",
      "dtypes: datetime64[ns](2), int64(2), object(4)\n",
      "memory usage: 31.4+ KB\n"
     ]
    }
   ],
   "source": [
    "users_df.info()"
   ]
  },
  {
   "cell_type": "markdown",
   "metadata": {},
   "source": [
    "### Ошибки в данных"
   ]
  },
  {
   "cell_type": "markdown",
   "metadata": {},
   "source": [
    "Исследуем данные на наличие ошибок. \n",
    "Сначала проанализируем статистические данные с распределением значений каждого датасета:"
   ]
  },
  {
   "cell_type": "code",
   "execution_count": 12,
   "metadata": {
    "scrolled": true
   },
   "outputs": [
    {
     "data": {
      "text/html": [
       "<div>\n",
       "<style scoped>\n",
       "    .dataframe tbody tr th:only-of-type {\n",
       "        vertical-align: middle;\n",
       "    }\n",
       "\n",
       "    .dataframe tbody tr th {\n",
       "        vertical-align: top;\n",
       "    }\n",
       "\n",
       "    .dataframe thead th {\n",
       "        text-align: right;\n",
       "    }\n",
       "</style>\n",
       "<table border=\"1\" class=\"dataframe\">\n",
       "  <thead>\n",
       "    <tr style=\"text-align: right;\">\n",
       "      <th></th>\n",
       "      <th>duration</th>\n",
       "      <th>user_id</th>\n",
       "    </tr>\n",
       "  </thead>\n",
       "  <tbody>\n",
       "    <tr>\n",
       "      <th>count</th>\n",
       "      <td>202607.000000</td>\n",
       "      <td>202607.000000</td>\n",
       "    </tr>\n",
       "    <tr>\n",
       "      <th>mean</th>\n",
       "      <td>7.158198</td>\n",
       "      <td>1253.940619</td>\n",
       "    </tr>\n",
       "    <tr>\n",
       "      <th>std</th>\n",
       "      <td>5.959173</td>\n",
       "      <td>144.722751</td>\n",
       "    </tr>\n",
       "    <tr>\n",
       "      <th>min</th>\n",
       "      <td>0.000000</td>\n",
       "      <td>1000.000000</td>\n",
       "    </tr>\n",
       "    <tr>\n",
       "      <th>25%</th>\n",
       "      <td>2.000000</td>\n",
       "      <td>1126.000000</td>\n",
       "    </tr>\n",
       "    <tr>\n",
       "      <th>50%</th>\n",
       "      <td>6.000000</td>\n",
       "      <td>1260.000000</td>\n",
       "    </tr>\n",
       "    <tr>\n",
       "      <th>75%</th>\n",
       "      <td>11.000000</td>\n",
       "      <td>1379.000000</td>\n",
       "    </tr>\n",
       "    <tr>\n",
       "      <th>max</th>\n",
       "      <td>38.000000</td>\n",
       "      <td>1499.000000</td>\n",
       "    </tr>\n",
       "  </tbody>\n",
       "</table>\n",
       "</div>"
      ],
      "text/plain": [
       "            duration        user_id\n",
       "count  202607.000000  202607.000000\n",
       "mean        7.158198    1253.940619\n",
       "std         5.959173     144.722751\n",
       "min         0.000000    1000.000000\n",
       "25%         2.000000    1126.000000\n",
       "50%         6.000000    1260.000000\n",
       "75%        11.000000    1379.000000\n",
       "max        38.000000    1499.000000"
      ]
     },
     "metadata": {},
     "output_type": "display_data"
    },
    {
     "data": {
      "text/html": [
       "<div>\n",
       "<style scoped>\n",
       "    .dataframe tbody tr th:only-of-type {\n",
       "        vertical-align: middle;\n",
       "    }\n",
       "\n",
       "    .dataframe tbody tr th {\n",
       "        vertical-align: top;\n",
       "    }\n",
       "\n",
       "    .dataframe thead th {\n",
       "        text-align: right;\n",
       "    }\n",
       "</style>\n",
       "<table border=\"1\" class=\"dataframe\">\n",
       "  <thead>\n",
       "    <tr style=\"text-align: right;\">\n",
       "      <th></th>\n",
       "      <th>Unnamed: 0</th>\n",
       "      <th>mb_used</th>\n",
       "      <th>user_id</th>\n",
       "    </tr>\n",
       "  </thead>\n",
       "  <tbody>\n",
       "    <tr>\n",
       "      <th>count</th>\n",
       "      <td>149396.000000</td>\n",
       "      <td>149396.000000</td>\n",
       "      <td>149396.000000</td>\n",
       "    </tr>\n",
       "    <tr>\n",
       "      <th>mean</th>\n",
       "      <td>74697.500000</td>\n",
       "      <td>370.192426</td>\n",
       "      <td>1252.099842</td>\n",
       "    </tr>\n",
       "    <tr>\n",
       "      <th>std</th>\n",
       "      <td>43127.054745</td>\n",
       "      <td>278.300951</td>\n",
       "      <td>144.050823</td>\n",
       "    </tr>\n",
       "    <tr>\n",
       "      <th>min</th>\n",
       "      <td>0.000000</td>\n",
       "      <td>0.000000</td>\n",
       "      <td>1000.000000</td>\n",
       "    </tr>\n",
       "    <tr>\n",
       "      <th>25%</th>\n",
       "      <td>37348.750000</td>\n",
       "      <td>138.187500</td>\n",
       "      <td>1130.000000</td>\n",
       "    </tr>\n",
       "    <tr>\n",
       "      <th>50%</th>\n",
       "      <td>74697.500000</td>\n",
       "      <td>348.015000</td>\n",
       "      <td>1251.000000</td>\n",
       "    </tr>\n",
       "    <tr>\n",
       "      <th>75%</th>\n",
       "      <td>112046.250000</td>\n",
       "      <td>559.552500</td>\n",
       "      <td>1380.000000</td>\n",
       "    </tr>\n",
       "    <tr>\n",
       "      <th>max</th>\n",
       "      <td>149395.000000</td>\n",
       "      <td>1724.830000</td>\n",
       "      <td>1499.000000</td>\n",
       "    </tr>\n",
       "  </tbody>\n",
       "</table>\n",
       "</div>"
      ],
      "text/plain": [
       "          Unnamed: 0        mb_used        user_id\n",
       "count  149396.000000  149396.000000  149396.000000\n",
       "mean    74697.500000     370.192426    1252.099842\n",
       "std     43127.054745     278.300951     144.050823\n",
       "min         0.000000       0.000000    1000.000000\n",
       "25%     37348.750000     138.187500    1130.000000\n",
       "50%     74697.500000     348.015000    1251.000000\n",
       "75%    112046.250000     559.552500    1380.000000\n",
       "max    149395.000000    1724.830000    1499.000000"
      ]
     },
     "metadata": {},
     "output_type": "display_data"
    },
    {
     "data": {
      "text/html": [
       "<div>\n",
       "<style scoped>\n",
       "    .dataframe tbody tr th:only-of-type {\n",
       "        vertical-align: middle;\n",
       "    }\n",
       "\n",
       "    .dataframe tbody tr th {\n",
       "        vertical-align: top;\n",
       "    }\n",
       "\n",
       "    .dataframe thead th {\n",
       "        text-align: right;\n",
       "    }\n",
       "</style>\n",
       "<table border=\"1\" class=\"dataframe\">\n",
       "  <thead>\n",
       "    <tr style=\"text-align: right;\">\n",
       "      <th></th>\n",
       "      <th>user_id</th>\n",
       "    </tr>\n",
       "  </thead>\n",
       "  <tbody>\n",
       "    <tr>\n",
       "      <th>count</th>\n",
       "      <td>123036.000000</td>\n",
       "    </tr>\n",
       "    <tr>\n",
       "      <th>mean</th>\n",
       "      <td>1256.989410</td>\n",
       "    </tr>\n",
       "    <tr>\n",
       "      <th>std</th>\n",
       "      <td>143.523967</td>\n",
       "    </tr>\n",
       "    <tr>\n",
       "      <th>min</th>\n",
       "      <td>1000.000000</td>\n",
       "    </tr>\n",
       "    <tr>\n",
       "      <th>25%</th>\n",
       "      <td>1134.000000</td>\n",
       "    </tr>\n",
       "    <tr>\n",
       "      <th>50%</th>\n",
       "      <td>1271.000000</td>\n",
       "    </tr>\n",
       "    <tr>\n",
       "      <th>75%</th>\n",
       "      <td>1381.000000</td>\n",
       "    </tr>\n",
       "    <tr>\n",
       "      <th>max</th>\n",
       "      <td>1499.000000</td>\n",
       "    </tr>\n",
       "  </tbody>\n",
       "</table>\n",
       "</div>"
      ],
      "text/plain": [
       "             user_id\n",
       "count  123036.000000\n",
       "mean     1256.989410\n",
       "std       143.523967\n",
       "min      1000.000000\n",
       "25%      1134.000000\n",
       "50%      1271.000000\n",
       "75%      1381.000000\n",
       "max      1499.000000"
      ]
     },
     "metadata": {},
     "output_type": "display_data"
    },
    {
     "data": {
      "text/html": [
       "<div>\n",
       "<style scoped>\n",
       "    .dataframe tbody tr th:only-of-type {\n",
       "        vertical-align: middle;\n",
       "    }\n",
       "\n",
       "    .dataframe tbody tr th {\n",
       "        vertical-align: top;\n",
       "    }\n",
       "\n",
       "    .dataframe thead th {\n",
       "        text-align: right;\n",
       "    }\n",
       "</style>\n",
       "<table border=\"1\" class=\"dataframe\">\n",
       "  <thead>\n",
       "    <tr style=\"text-align: right;\">\n",
       "      <th></th>\n",
       "      <th>user_id</th>\n",
       "      <th>age</th>\n",
       "    </tr>\n",
       "  </thead>\n",
       "  <tbody>\n",
       "    <tr>\n",
       "      <th>count</th>\n",
       "      <td>500.000000</td>\n",
       "      <td>500.00000</td>\n",
       "    </tr>\n",
       "    <tr>\n",
       "      <th>mean</th>\n",
       "      <td>1249.500000</td>\n",
       "      <td>46.58800</td>\n",
       "    </tr>\n",
       "    <tr>\n",
       "      <th>std</th>\n",
       "      <td>144.481833</td>\n",
       "      <td>16.66763</td>\n",
       "    </tr>\n",
       "    <tr>\n",
       "      <th>min</th>\n",
       "      <td>1000.000000</td>\n",
       "      <td>18.00000</td>\n",
       "    </tr>\n",
       "    <tr>\n",
       "      <th>25%</th>\n",
       "      <td>1124.750000</td>\n",
       "      <td>32.00000</td>\n",
       "    </tr>\n",
       "    <tr>\n",
       "      <th>50%</th>\n",
       "      <td>1249.500000</td>\n",
       "      <td>46.00000</td>\n",
       "    </tr>\n",
       "    <tr>\n",
       "      <th>75%</th>\n",
       "      <td>1374.250000</td>\n",
       "      <td>62.00000</td>\n",
       "    </tr>\n",
       "    <tr>\n",
       "      <th>max</th>\n",
       "      <td>1499.000000</td>\n",
       "      <td>75.00000</td>\n",
       "    </tr>\n",
       "  </tbody>\n",
       "</table>\n",
       "</div>"
      ],
      "text/plain": [
       "           user_id        age\n",
       "count   500.000000  500.00000\n",
       "mean   1249.500000   46.58800\n",
       "std     144.481833   16.66763\n",
       "min    1000.000000   18.00000\n",
       "25%    1124.750000   32.00000\n",
       "50%    1249.500000   46.00000\n",
       "75%    1374.250000   62.00000\n",
       "max    1499.000000   75.00000"
      ]
     },
     "metadata": {},
     "output_type": "display_data"
    },
    {
     "data": {
      "text/html": [
       "<div>\n",
       "<style scoped>\n",
       "    .dataframe tbody tr th:only-of-type {\n",
       "        vertical-align: middle;\n",
       "    }\n",
       "\n",
       "    .dataframe tbody tr th {\n",
       "        vertical-align: top;\n",
       "    }\n",
       "\n",
       "    .dataframe thead th {\n",
       "        text-align: right;\n",
       "    }\n",
       "</style>\n",
       "<table border=\"1\" class=\"dataframe\">\n",
       "  <thead>\n",
       "    <tr style=\"text-align: right;\">\n",
       "      <th></th>\n",
       "      <th>messages_included</th>\n",
       "      <th>mb_per_month_included</th>\n",
       "      <th>minutes_included</th>\n",
       "      <th>rub_monthly_fee</th>\n",
       "      <th>rub_per_gb</th>\n",
       "      <th>rub_per_message</th>\n",
       "      <th>rub_per_minute</th>\n",
       "    </tr>\n",
       "  </thead>\n",
       "  <tbody>\n",
       "    <tr>\n",
       "      <th>count</th>\n",
       "      <td>2.000000</td>\n",
       "      <td>2.000000</td>\n",
       "      <td>2.000000</td>\n",
       "      <td>2.000000</td>\n",
       "      <td>2.000000</td>\n",
       "      <td>2.000000</td>\n",
       "      <td>2.000000</td>\n",
       "    </tr>\n",
       "    <tr>\n",
       "      <th>mean</th>\n",
       "      <td>525.000000</td>\n",
       "      <td>23040.000000</td>\n",
       "      <td>1750.000000</td>\n",
       "      <td>1250.000000</td>\n",
       "      <td>175.000000</td>\n",
       "      <td>2.000000</td>\n",
       "      <td>2.000000</td>\n",
       "    </tr>\n",
       "    <tr>\n",
       "      <th>std</th>\n",
       "      <td>671.751442</td>\n",
       "      <td>10861.160159</td>\n",
       "      <td>1767.766953</td>\n",
       "      <td>989.949494</td>\n",
       "      <td>35.355339</td>\n",
       "      <td>1.414214</td>\n",
       "      <td>1.414214</td>\n",
       "    </tr>\n",
       "    <tr>\n",
       "      <th>min</th>\n",
       "      <td>50.000000</td>\n",
       "      <td>15360.000000</td>\n",
       "      <td>500.000000</td>\n",
       "      <td>550.000000</td>\n",
       "      <td>150.000000</td>\n",
       "      <td>1.000000</td>\n",
       "      <td>1.000000</td>\n",
       "    </tr>\n",
       "    <tr>\n",
       "      <th>25%</th>\n",
       "      <td>287.500000</td>\n",
       "      <td>19200.000000</td>\n",
       "      <td>1125.000000</td>\n",
       "      <td>900.000000</td>\n",
       "      <td>162.500000</td>\n",
       "      <td>1.500000</td>\n",
       "      <td>1.500000</td>\n",
       "    </tr>\n",
       "    <tr>\n",
       "      <th>50%</th>\n",
       "      <td>525.000000</td>\n",
       "      <td>23040.000000</td>\n",
       "      <td>1750.000000</td>\n",
       "      <td>1250.000000</td>\n",
       "      <td>175.000000</td>\n",
       "      <td>2.000000</td>\n",
       "      <td>2.000000</td>\n",
       "    </tr>\n",
       "    <tr>\n",
       "      <th>75%</th>\n",
       "      <td>762.500000</td>\n",
       "      <td>26880.000000</td>\n",
       "      <td>2375.000000</td>\n",
       "      <td>1600.000000</td>\n",
       "      <td>187.500000</td>\n",
       "      <td>2.500000</td>\n",
       "      <td>2.500000</td>\n",
       "    </tr>\n",
       "    <tr>\n",
       "      <th>max</th>\n",
       "      <td>1000.000000</td>\n",
       "      <td>30720.000000</td>\n",
       "      <td>3000.000000</td>\n",
       "      <td>1950.000000</td>\n",
       "      <td>200.000000</td>\n",
       "      <td>3.000000</td>\n",
       "      <td>3.000000</td>\n",
       "    </tr>\n",
       "  </tbody>\n",
       "</table>\n",
       "</div>"
      ],
      "text/plain": [
       "       messages_included  mb_per_month_included  minutes_included  \\\n",
       "count           2.000000               2.000000          2.000000   \n",
       "mean          525.000000           23040.000000       1750.000000   \n",
       "std           671.751442           10861.160159       1767.766953   \n",
       "min            50.000000           15360.000000        500.000000   \n",
       "25%           287.500000           19200.000000       1125.000000   \n",
       "50%           525.000000           23040.000000       1750.000000   \n",
       "75%           762.500000           26880.000000       2375.000000   \n",
       "max          1000.000000           30720.000000       3000.000000   \n",
       "\n",
       "       rub_monthly_fee  rub_per_gb  rub_per_message  rub_per_minute  \n",
       "count         2.000000    2.000000         2.000000        2.000000  \n",
       "mean       1250.000000  175.000000         2.000000        2.000000  \n",
       "std         989.949494   35.355339         1.414214        1.414214  \n",
       "min         550.000000  150.000000         1.000000        1.000000  \n",
       "25%         900.000000  162.500000         1.500000        1.500000  \n",
       "50%        1250.000000  175.000000         2.000000        2.000000  \n",
       "75%        1600.000000  187.500000         2.500000        2.500000  \n",
       "max        1950.000000  200.000000         3.000000        3.000000  "
      ]
     },
     "metadata": {},
     "output_type": "display_data"
    }
   ],
   "source": [
    "display(calls_df.describe())\n",
    "display(internet_df.describe())\n",
    "display(messages_df.describe())\n",
    "display(users_df.describe())\n",
    "display(tariffs_df.describe())"
   ]
  },
  {
   "cell_type": "markdown",
   "metadata": {},
   "source": [
    "Также проанализируем гистограммы по ключевым метрикам:</div>"
   ]
  },
  {
   "cell_type": "code",
   "execution_count": 13,
   "metadata": {},
   "outputs": [
    {
     "data": {
      "image/png": "[encoded data removed]",
      "text/plain": [
       "<Figure size 432x288 with 1 Axes>"
      ]
     },
     "metadata": {
      "needs_background": "light"
     },
     "output_type": "display_data"
    }
   ],
   "source": [
    "# гистограмма по длительности звонков\n",
    "plt.title(\"Распределение длительности звонков\")\n",
    "plt.xlabel(\"Длительность звонка, мин.\")\n",
    "plt.ylabel(\"Количество звонков, шт.\") \n",
    "calls_df.duration.hist(bins=20);"
   ]
  },
  {
   "cell_type": "code",
   "execution_count": 14,
   "metadata": {},
   "outputs": [
    {
     "data": {
      "image/png": "[encoded data removed]",
      "text/plain": [
       "<Figure size 432x288 with 1 Axes>"
      ]
     },
     "metadata": {
      "needs_background": "light"
     },
     "output_type": "display_data"
    }
   ],
   "source": [
    "# гистограмма по объёму потраченного за сессию интернет-трафика\n",
    "plt.title(\"Распределение объёма потраченного за сессию интернет-трафика\")\n",
    "plt.xlabel(\"Объём потраченного за сессию интернет-трафика, Мб\")\n",
    "plt.ylabel(\"Количество сессий, шт.\") \n",
    "internet_df.mb_used.hist(bins=20);"
   ]
  },
  {
   "cell_type": "markdown",
   "metadata": {},
   "source": [
    "В датафрейме tariffs_df единицы измерения и значения в столбце mb_per_month_included не соответствуют заявленному описанию тарифов:\n",
    "- Тариф «Смарт»: включено 15 Гб интернет-трафика\n",
    "- Тариф «Ультра»: включено 30 Гб интернет-трафика\n",
    "\n",
    "Сделаем необходимые корректировки в tariffs_df:"
   ]
  },
  {
   "cell_type": "code",
   "execution_count": 15,
   "metadata": {},
   "outputs": [
    {
     "data": {
      "text/html": [
       "<div>\n",
       "<style scoped>\n",
       "    .dataframe tbody tr th:only-of-type {\n",
       "        vertical-align: middle;\n",
       "    }\n",
       "\n",
       "    .dataframe tbody tr th {\n",
       "        vertical-align: top;\n",
       "    }\n",
       "\n",
       "    .dataframe thead th {\n",
       "        text-align: right;\n",
       "    }\n",
       "</style>\n",
       "<table border=\"1\" class=\"dataframe\">\n",
       "  <thead>\n",
       "    <tr style=\"text-align: right;\">\n",
       "      <th></th>\n",
       "      <th>messages_included</th>\n",
       "      <th>gb_per_month_included</th>\n",
       "      <th>minutes_included</th>\n",
       "      <th>rub_monthly_fee</th>\n",
       "      <th>rub_per_gb</th>\n",
       "      <th>rub_per_message</th>\n",
       "      <th>rub_per_minute</th>\n",
       "      <th>tariff_name</th>\n",
       "    </tr>\n",
       "  </thead>\n",
       "  <tbody>\n",
       "    <tr>\n",
       "      <th>0</th>\n",
       "      <td>50</td>\n",
       "      <td>15</td>\n",
       "      <td>500</td>\n",
       "      <td>550</td>\n",
       "      <td>200</td>\n",
       "      <td>3</td>\n",
       "      <td>3</td>\n",
       "      <td>smart</td>\n",
       "    </tr>\n",
       "    <tr>\n",
       "      <th>1</th>\n",
       "      <td>1000</td>\n",
       "      <td>30</td>\n",
       "      <td>3000</td>\n",
       "      <td>1950</td>\n",
       "      <td>150</td>\n",
       "      <td>1</td>\n",
       "      <td>1</td>\n",
       "      <td>ultra</td>\n",
       "    </tr>\n",
       "  </tbody>\n",
       "</table>\n",
       "</div>"
      ],
      "text/plain": [
       "   messages_included  gb_per_month_included  minutes_included  \\\n",
       "0                 50                     15               500   \n",
       "1               1000                     30              3000   \n",
       "\n",
       "   rub_monthly_fee  rub_per_gb  rub_per_message  rub_per_minute tariff_name  \n",
       "0              550         200                3               3       smart  \n",
       "1             1950         150                1               1       ultra  "
      ]
     },
     "metadata": {},
     "output_type": "display_data"
    }
   ],
   "source": [
    "#изменим единицы измерения с mb на gb\n",
    "tariffs_df = tariffs_df.rename(columns={'mb_per_month_included': 'gb_per_month_included'})\n",
    "#приведем значения в соответствие с описанием тарифов\n",
    "tariffs_df.loc[tariffs_df['tariff_name'] == 'smart', 'gb_per_month_included'] = 15\n",
    "tariffs_df.loc[tariffs_df['tariff_name'] == 'ultra', 'gb_per_month_included'] = 30\n",
    "display(tariffs_df)"
   ]
  },
  {
   "cell_type": "markdown",
   "metadata": {},
   "source": [
    "Звонки с нулевой продолжительностью в датасете calls_df не являются ошибкой: нулями обозначены пропущенные звонки, поэтому их не нужно удалять."
   ]
  },
  {
   "cell_type": "markdown",
   "metadata": {},
   "source": [
    "В датасете internet_df отбросим лишний неописанный в документации столбец 'Unnamed: 0':"
   ]
  },
  {
   "cell_type": "code",
   "execution_count": 16,
   "metadata": {},
   "outputs": [],
   "source": [
    "internet_df = internet_df.drop(['Unnamed: 0'], 1)"
   ]
  },
  {
   "cell_type": "markdown",
   "metadata": {},
   "source": [
    "Некоторые пользователи из датасета меняли тариф, о чем свидетельствует столбец churn_date, в котором указана дата прекращения пользования тарифом. Примем это во внимание при дальнейшем анализе данных."
   ]
  },
  {
   "cell_type": "code",
   "execution_count": 17,
   "metadata": {},
   "outputs": [
    {
     "data": {
      "text/html": [
       "<div>\n",
       "<style scoped>\n",
       "    .dataframe tbody tr th:only-of-type {\n",
       "        vertical-align: middle;\n",
       "    }\n",
       "\n",
       "    .dataframe tbody tr th {\n",
       "        vertical-align: top;\n",
       "    }\n",
       "\n",
       "    .dataframe thead th {\n",
       "        text-align: right;\n",
       "    }\n",
       "</style>\n",
       "<table border=\"1\" class=\"dataframe\">\n",
       "  <thead>\n",
       "    <tr style=\"text-align: right;\">\n",
       "      <th></th>\n",
       "      <th>user_id</th>\n",
       "      <th>age</th>\n",
       "      <th>churn_date</th>\n",
       "      <th>city</th>\n",
       "      <th>first_name</th>\n",
       "      <th>last_name</th>\n",
       "      <th>reg_date</th>\n",
       "      <th>tariff</th>\n",
       "    </tr>\n",
       "  </thead>\n",
       "  <tbody>\n",
       "    <tr>\n",
       "      <th>19</th>\n",
       "      <td>1019</td>\n",
       "      <td>63</td>\n",
       "      <td>2018-10-05</td>\n",
       "      <td>Томск</td>\n",
       "      <td>Игнатий</td>\n",
       "      <td>Круглов</td>\n",
       "      <td>2018-05-16</td>\n",
       "      <td>ultra</td>\n",
       "    </tr>\n",
       "    <tr>\n",
       "      <th>20</th>\n",
       "      <td>1020</td>\n",
       "      <td>59</td>\n",
       "      <td>2018-12-18</td>\n",
       "      <td>Чита</td>\n",
       "      <td>Тала</td>\n",
       "      <td>Костина</td>\n",
       "      <td>2018-10-22</td>\n",
       "      <td>smart</td>\n",
       "    </tr>\n",
       "    <tr>\n",
       "      <th>34</th>\n",
       "      <td>1034</td>\n",
       "      <td>66</td>\n",
       "      <td>2018-11-21</td>\n",
       "      <td>Вологда</td>\n",
       "      <td>Святослав</td>\n",
       "      <td>Бондарев</td>\n",
       "      <td>2018-08-26</td>\n",
       "      <td>smart</td>\n",
       "    </tr>\n",
       "    <tr>\n",
       "      <th>50</th>\n",
       "      <td>1050</td>\n",
       "      <td>44</td>\n",
       "      <td>2018-10-03</td>\n",
       "      <td>Тюмень</td>\n",
       "      <td>Рузана</td>\n",
       "      <td>Аничкина</td>\n",
       "      <td>2018-06-16</td>\n",
       "      <td>ultra</td>\n",
       "    </tr>\n",
       "    <tr>\n",
       "      <th>51</th>\n",
       "      <td>1051</td>\n",
       "      <td>37</td>\n",
       "      <td>2018-10-14</td>\n",
       "      <td>Москва</td>\n",
       "      <td>Кристина</td>\n",
       "      <td>Сомова</td>\n",
       "      <td>2018-05-28</td>\n",
       "      <td>smart</td>\n",
       "    </tr>\n",
       "  </tbody>\n",
       "</table>\n",
       "</div>"
      ],
      "text/plain": [
       "    user_id  age churn_date     city first_name last_name   reg_date tariff\n",
       "19     1019   63 2018-10-05    Томск    Игнатий   Круглов 2018-05-16  ultra\n",
       "20     1020   59 2018-12-18     Чита       Тала   Костина 2018-10-22  smart\n",
       "34     1034   66 2018-11-21  Вологда  Святослав  Бондарев 2018-08-26  smart\n",
       "50     1050   44 2018-10-03   Тюмень     Рузана  Аничкина 2018-06-16  ultra\n",
       "51     1051   37 2018-10-14   Москва   Кристина    Сомова 2018-05-28  smart"
      ]
     },
     "metadata": {},
     "output_type": "display_data"
    }
   ],
   "source": [
    "display(users_df[~users_df['churn_date'].isna()].head(5))"
   ]
  },
  {
   "cell_type": "markdown",
   "metadata": {},
   "source": [
    "В данных были найдены и исправлены следующие ошибки:\n",
    "* в датафрейме tariffs_df значения и единицы измерения в столбце включенного ежемесячного траффика не соответствовали описанию тарифов;\n",
    "* в датасете internet_df был отброшен лишний неописанный в документации столбец 'Unnamed: 0'."
   ]
  },
  {
   "cell_type": "markdown",
   "metadata": {},
   "source": [
    "## Расчёты и добавление результатов"
   ]
  },
  {
   "cell_type": "markdown",
   "metadata": {},
   "source": [
    "Для дальнейшего анализа сформируем для каждого пользователя ежемесячную статистику по количеству сделанных звонков и израсходованных минут разговора, количеству отправленных сообщений, объему израсходованного интернет-трафика и помесячной выручки."
   ]
  },
  {
   "cell_type": "markdown",
   "metadata": {},
   "source": [
    "### Количество сделанных звонков и израсходованных минут разговора по месяцам"
   ]
  },
  {
   "cell_type": "markdown",
   "metadata": {},
   "source": [
    "Добавим в датасет calls_df соответствующие столбцы:"
   ]
  },
  {
   "cell_type": "code",
   "execution_count": 18,
   "metadata": {},
   "outputs": [
    {
     "data": {
      "text/html": [
       "<div>\n",
       "<style scoped>\n",
       "    .dataframe tbody tr th:only-of-type {\n",
       "        vertical-align: middle;\n",
       "    }\n",
       "\n",
       "    .dataframe tbody tr th {\n",
       "        vertical-align: top;\n",
       "    }\n",
       "\n",
       "    .dataframe thead th {\n",
       "        text-align: right;\n",
       "    }\n",
       "</style>\n",
       "<table border=\"1\" class=\"dataframe\">\n",
       "  <thead>\n",
       "    <tr style=\"text-align: right;\">\n",
       "      <th></th>\n",
       "      <th>user_id</th>\n",
       "      <th>month</th>\n",
       "      <th>total_calls</th>\n",
       "      <th>total_duration</th>\n",
       "    </tr>\n",
       "  </thead>\n",
       "  <tbody>\n",
       "    <tr>\n",
       "      <th>0</th>\n",
       "      <td>1000</td>\n",
       "      <td>5</td>\n",
       "      <td>22</td>\n",
       "      <td>159</td>\n",
       "    </tr>\n",
       "    <tr>\n",
       "      <th>1</th>\n",
       "      <td>1000</td>\n",
       "      <td>6</td>\n",
       "      <td>43</td>\n",
       "      <td>172</td>\n",
       "    </tr>\n",
       "    <tr>\n",
       "      <th>2</th>\n",
       "      <td>1000</td>\n",
       "      <td>7</td>\n",
       "      <td>47</td>\n",
       "      <td>340</td>\n",
       "    </tr>\n",
       "    <tr>\n",
       "      <th>3</th>\n",
       "      <td>1000</td>\n",
       "      <td>8</td>\n",
       "      <td>52</td>\n",
       "      <td>408</td>\n",
       "    </tr>\n",
       "    <tr>\n",
       "      <th>4</th>\n",
       "      <td>1000</td>\n",
       "      <td>9</td>\n",
       "      <td>58</td>\n",
       "      <td>466</td>\n",
       "    </tr>\n",
       "  </tbody>\n",
       "</table>\n",
       "</div>"
      ],
      "text/plain": [
       "   user_id  month  total_calls  total_duration\n",
       "0     1000      5           22             159\n",
       "1     1000      6           43             172\n",
       "2     1000      7           47             340\n",
       "3     1000      8           52             408\n",
       "4     1000      9           58             466"
      ]
     },
     "metadata": {},
     "output_type": "display_data"
    },
    {
     "name": "stdout",
     "output_type": "stream",
     "text": [
      "<class 'pandas.core.frame.DataFrame'>\n",
      "RangeIndex: 3174 entries, 0 to 3173\n",
      "Data columns (total 4 columns):\n",
      " #   Column          Non-Null Count  Dtype\n",
      "---  ------          --------------  -----\n",
      " 0   user_id         3174 non-null   int64\n",
      " 1   month           3174 non-null   int64\n",
      " 2   total_calls     3174 non-null   int64\n",
      " 3   total_duration  3174 non-null   int32\n",
      "dtypes: int32(1), int64(3)\n",
      "memory usage: 86.9 KB\n"
     ]
    },
    {
     "data": {
      "text/plain": [
       "None"
      ]
     },
     "metadata": {},
     "output_type": "display_data"
    },
    {
     "name": "stdout",
     "output_type": "stream",
     "text": [
      "492\n"
     ]
    }
   ],
   "source": [
    "#добавим в calls_df столбец month, в котором запишем месяц звонка\n",
    "calls_df['month'] = pd.to_datetime(calls_df['call_date']).dt.month\n",
    "\n",
    "#посчитаем для каждого пользоватля количество сделанных звонков и израсходованных минут по месяцам\n",
    "calls_stat = calls_df.pivot_table(index=['user_id','month'], values='duration', aggfunc=['count','sum']).reset_index()\n",
    "calls_stat.columns = ['user_id','month','total_calls','total_duration']\n",
    "display(calls_stat.head(5))\n",
    "display(calls_stat.info())\n",
    "print(calls_stat.user_id.nunique())"
   ]
  },
  {
   "cell_type": "markdown",
   "metadata": {},
   "source": [
    "### Количество отправленных сообщений по месяцам"
   ]
  },
  {
   "cell_type": "markdown",
   "metadata": {},
   "source": [
    "Добавим в датасет messages_df соответствующие столбцы:"
   ]
  },
  {
   "cell_type": "code",
   "execution_count": 19,
   "metadata": {
    "scrolled": true
   },
   "outputs": [
    {
     "data": {
      "text/html": [
       "<div>\n",
       "<style scoped>\n",
       "    .dataframe tbody tr th:only-of-type {\n",
       "        vertical-align: middle;\n",
       "    }\n",
       "\n",
       "    .dataframe tbody tr th {\n",
       "        vertical-align: top;\n",
       "    }\n",
       "\n",
       "    .dataframe thead th {\n",
       "        text-align: right;\n",
       "    }\n",
       "</style>\n",
       "<table border=\"1\" class=\"dataframe\">\n",
       "  <thead>\n",
       "    <tr style=\"text-align: right;\">\n",
       "      <th></th>\n",
       "      <th>user_id</th>\n",
       "      <th>month</th>\n",
       "      <th>total_messages</th>\n",
       "    </tr>\n",
       "  </thead>\n",
       "  <tbody>\n",
       "    <tr>\n",
       "      <th>0</th>\n",
       "      <td>1000</td>\n",
       "      <td>5</td>\n",
       "      <td>22</td>\n",
       "    </tr>\n",
       "    <tr>\n",
       "      <th>1</th>\n",
       "      <td>1000</td>\n",
       "      <td>6</td>\n",
       "      <td>60</td>\n",
       "    </tr>\n",
       "    <tr>\n",
       "      <th>2</th>\n",
       "      <td>1000</td>\n",
       "      <td>7</td>\n",
       "      <td>75</td>\n",
       "    </tr>\n",
       "    <tr>\n",
       "      <th>3</th>\n",
       "      <td>1000</td>\n",
       "      <td>8</td>\n",
       "      <td>81</td>\n",
       "    </tr>\n",
       "    <tr>\n",
       "      <th>4</th>\n",
       "      <td>1000</td>\n",
       "      <td>9</td>\n",
       "      <td>57</td>\n",
       "    </tr>\n",
       "  </tbody>\n",
       "</table>\n",
       "</div>"
      ],
      "text/plain": [
       "   user_id  month  total_messages\n",
       "0     1000      5              22\n",
       "1     1000      6              60\n",
       "2     1000      7              75\n",
       "3     1000      8              81\n",
       "4     1000      9              57"
      ]
     },
     "metadata": {},
     "output_type": "display_data"
    },
    {
     "name": "stdout",
     "output_type": "stream",
     "text": [
      "<class 'pandas.core.frame.DataFrame'>\n",
      "RangeIndex: 2717 entries, 0 to 2716\n",
      "Data columns (total 3 columns):\n",
      " #   Column          Non-Null Count  Dtype\n",
      "---  ------          --------------  -----\n",
      " 0   user_id         2717 non-null   int64\n",
      " 1   month           2717 non-null   int64\n",
      " 2   total_messages  2717 non-null   int64\n",
      "dtypes: int64(3)\n",
      "memory usage: 63.8 KB\n"
     ]
    },
    {
     "data": {
      "text/plain": [
       "None"
      ]
     },
     "metadata": {},
     "output_type": "display_data"
    },
    {
     "name": "stdout",
     "output_type": "stream",
     "text": [
      "426\n"
     ]
    }
   ],
   "source": [
    "#добавим в messages_df столбец month, в котором запишем месяц отправленного сообщения:\n",
    "messages_df['month'] = pd.to_datetime(messages_df['message_date']).dt.month\n",
    "\n",
    "#посчитаем для каждого пользоватля количество отправленных сообщений по месяцам\n",
    "messages_stat = messages_df.pivot_table(index=['user_id','month'], values='id', aggfunc=['count']).reset_index()\n",
    "messages_stat.columns = ['user_id','month','total_messages']\n",
    "display(messages_stat.head(5))\n",
    "display(messages_stat.info())\n",
    "print(messages_stat.user_id.nunique())"
   ]
  },
  {
   "cell_type": "markdown",
   "metadata": {},
   "source": [
    "### Объем израсходованного интернет-трафика по месяцам"
   ]
  },
  {
   "cell_type": "markdown",
   "metadata": {},
   "source": [
    "Добавим в датасет internet_df соответствующие столбцы:"
   ]
  },
  {
   "cell_type": "code",
   "execution_count": 20,
   "metadata": {},
   "outputs": [
    {
     "data": {
      "text/html": [
       "<div>\n",
       "<style scoped>\n",
       "    .dataframe tbody tr th:only-of-type {\n",
       "        vertical-align: middle;\n",
       "    }\n",
       "\n",
       "    .dataframe tbody tr th {\n",
       "        vertical-align: top;\n",
       "    }\n",
       "\n",
       "    .dataframe thead th {\n",
       "        text-align: right;\n",
       "    }\n",
       "</style>\n",
       "<table border=\"1\" class=\"dataframe\">\n",
       "  <thead>\n",
       "    <tr style=\"text-align: right;\">\n",
       "      <th></th>\n",
       "      <th>user_id</th>\n",
       "      <th>month</th>\n",
       "      <th>total_traffic</th>\n",
       "    </tr>\n",
       "  </thead>\n",
       "  <tbody>\n",
       "    <tr>\n",
       "      <th>0</th>\n",
       "      <td>1000</td>\n",
       "      <td>5</td>\n",
       "      <td>2253.49</td>\n",
       "    </tr>\n",
       "    <tr>\n",
       "      <th>1</th>\n",
       "      <td>1000</td>\n",
       "      <td>6</td>\n",
       "      <td>23233.77</td>\n",
       "    </tr>\n",
       "    <tr>\n",
       "      <th>2</th>\n",
       "      <td>1000</td>\n",
       "      <td>7</td>\n",
       "      <td>14003.64</td>\n",
       "    </tr>\n",
       "    <tr>\n",
       "      <th>3</th>\n",
       "      <td>1000</td>\n",
       "      <td>8</td>\n",
       "      <td>14055.93</td>\n",
       "    </tr>\n",
       "    <tr>\n",
       "      <th>4</th>\n",
       "      <td>1000</td>\n",
       "      <td>9</td>\n",
       "      <td>14568.91</td>\n",
       "    </tr>\n",
       "  </tbody>\n",
       "</table>\n",
       "</div>"
      ],
      "text/plain": [
       "   user_id  month  total_traffic\n",
       "0     1000      5        2253.49\n",
       "1     1000      6       23233.77\n",
       "2     1000      7       14003.64\n",
       "3     1000      8       14055.93\n",
       "4     1000      9       14568.91"
      ]
     },
     "metadata": {},
     "output_type": "display_data"
    },
    {
     "name": "stdout",
     "output_type": "stream",
     "text": [
      "<class 'pandas.core.frame.DataFrame'>\n",
      "RangeIndex: 3203 entries, 0 to 3202\n",
      "Data columns (total 3 columns):\n",
      " #   Column         Non-Null Count  Dtype  \n",
      "---  ------         --------------  -----  \n",
      " 0   user_id        3203 non-null   int64  \n",
      " 1   month          3203 non-null   int64  \n",
      " 2   total_traffic  3203 non-null   float64\n",
      "dtypes: float64(1), int64(2)\n",
      "memory usage: 75.2 KB\n"
     ]
    },
    {
     "data": {
      "text/plain": [
       "None"
      ]
     },
     "metadata": {},
     "output_type": "display_data"
    },
    {
     "name": "stdout",
     "output_type": "stream",
     "text": [
      "497\n"
     ]
    }
   ],
   "source": [
    "#добавим в internet_df столбец month, в котором запишем месяц сессии:\n",
    "internet_df['month'] = pd.to_datetime(internet_df['session_date']).dt.month\n",
    "\n",
    "#посчитаем для каждого пользоватля объем израсходованного интернет-трафика по месяцам\n",
    "internet_stat = internet_df.pivot_table(index=['user_id','month'], values='mb_used', aggfunc=['sum']).reset_index()\n",
    "internet_stat.columns = ['user_id','month','total_traffic']\n",
    "display(internet_stat.head(5))\n",
    "display(internet_stat.info())\n",
    "print(internet_stat.user_id.nunique())"
   ]
  },
  {
   "cell_type": "markdown",
   "metadata": {},
   "source": [
    "Мы помним о том, что сотовый оператор всегда округляет мегабайты — до гигабайт. Поэтому округлим общую сумму траффика за месяц в бо́льшую сторону до гигабайт:"
   ]
  },
  {
   "cell_type": "code",
   "execution_count": 21,
   "metadata": {},
   "outputs": [
    {
     "data": {
      "text/html": [
       "<div>\n",
       "<style scoped>\n",
       "    .dataframe tbody tr th:only-of-type {\n",
       "        vertical-align: middle;\n",
       "    }\n",
       "\n",
       "    .dataframe tbody tr th {\n",
       "        vertical-align: top;\n",
       "    }\n",
       "\n",
       "    .dataframe thead th {\n",
       "        text-align: right;\n",
       "    }\n",
       "</style>\n",
       "<table border=\"1\" class=\"dataframe\">\n",
       "  <thead>\n",
       "    <tr style=\"text-align: right;\">\n",
       "      <th></th>\n",
       "      <th>user_id</th>\n",
       "      <th>month</th>\n",
       "      <th>total_traffic</th>\n",
       "    </tr>\n",
       "  </thead>\n",
       "  <tbody>\n",
       "    <tr>\n",
       "      <th>0</th>\n",
       "      <td>1000</td>\n",
       "      <td>5</td>\n",
       "      <td>3</td>\n",
       "    </tr>\n",
       "    <tr>\n",
       "      <th>1</th>\n",
       "      <td>1000</td>\n",
       "      <td>6</td>\n",
       "      <td>23</td>\n",
       "    </tr>\n",
       "    <tr>\n",
       "      <th>2</th>\n",
       "      <td>1000</td>\n",
       "      <td>7</td>\n",
       "      <td>14</td>\n",
       "    </tr>\n",
       "    <tr>\n",
       "      <th>3</th>\n",
       "      <td>1000</td>\n",
       "      <td>8</td>\n",
       "      <td>14</td>\n",
       "    </tr>\n",
       "    <tr>\n",
       "      <th>4</th>\n",
       "      <td>1000</td>\n",
       "      <td>9</td>\n",
       "      <td>15</td>\n",
       "    </tr>\n",
       "  </tbody>\n",
       "</table>\n",
       "</div>"
      ],
      "text/plain": [
       "   user_id  month  total_traffic\n",
       "0     1000      5              3\n",
       "1     1000      6             23\n",
       "2     1000      7             14\n",
       "3     1000      8             14\n",
       "4     1000      9             15"
      ]
     },
     "metadata": {},
     "output_type": "display_data"
    }
   ],
   "source": [
    "internet_stat['total_traffic'] /= 1024\n",
    "internet_stat = np.ceil(internet_stat).astype('int')\n",
    "display(internet_stat.head(5))"
   ]
  },
  {
   "cell_type": "markdown",
   "metadata": {},
   "source": [
    "### Помесячная выручка с каждого пользователя\n",
    "\n",
    "Для подсчета помесячной выручки сначала объединим таблицы calls_stat, messages_stat и internet_stat по значениям user_id и month:"
   ]
  },
  {
   "cell_type": "code",
   "execution_count": 22,
   "metadata": {
    "scrolled": true
   },
   "outputs": [
    {
     "data": {
      "text/html": [
       "<div>\n",
       "<style scoped>\n",
       "    .dataframe tbody tr th:only-of-type {\n",
       "        vertical-align: middle;\n",
       "    }\n",
       "\n",
       "    .dataframe tbody tr th {\n",
       "        vertical-align: top;\n",
       "    }\n",
       "\n",
       "    .dataframe thead th {\n",
       "        text-align: right;\n",
       "    }\n",
       "</style>\n",
       "<table border=\"1\" class=\"dataframe\">\n",
       "  <thead>\n",
       "    <tr style=\"text-align: right;\">\n",
       "      <th></th>\n",
       "      <th>user_id</th>\n",
       "      <th>month</th>\n",
       "      <th>total_calls</th>\n",
       "      <th>total_duration</th>\n",
       "      <th>total_messages</th>\n",
       "      <th>total_traffic</th>\n",
       "    </tr>\n",
       "  </thead>\n",
       "  <tbody>\n",
       "    <tr>\n",
       "      <th>0</th>\n",
       "      <td>1000</td>\n",
       "      <td>5</td>\n",
       "      <td>22.0</td>\n",
       "      <td>159.0</td>\n",
       "      <td>22.0</td>\n",
       "      <td>3.0</td>\n",
       "    </tr>\n",
       "    <tr>\n",
       "      <th>1</th>\n",
       "      <td>1000</td>\n",
       "      <td>6</td>\n",
       "      <td>43.0</td>\n",
       "      <td>172.0</td>\n",
       "      <td>60.0</td>\n",
       "      <td>23.0</td>\n",
       "    </tr>\n",
       "    <tr>\n",
       "      <th>2</th>\n",
       "      <td>1000</td>\n",
       "      <td>7</td>\n",
       "      <td>47.0</td>\n",
       "      <td>340.0</td>\n",
       "      <td>75.0</td>\n",
       "      <td>14.0</td>\n",
       "    </tr>\n",
       "    <tr>\n",
       "      <th>3</th>\n",
       "      <td>1000</td>\n",
       "      <td>8</td>\n",
       "      <td>52.0</td>\n",
       "      <td>408.0</td>\n",
       "      <td>81.0</td>\n",
       "      <td>14.0</td>\n",
       "    </tr>\n",
       "    <tr>\n",
       "      <th>4</th>\n",
       "      <td>1000</td>\n",
       "      <td>9</td>\n",
       "      <td>58.0</td>\n",
       "      <td>466.0</td>\n",
       "      <td>57.0</td>\n",
       "      <td>15.0</td>\n",
       "    </tr>\n",
       "  </tbody>\n",
       "</table>\n",
       "</div>"
      ],
      "text/plain": [
       "   user_id  month  total_calls  total_duration  total_messages  total_traffic\n",
       "0     1000      5         22.0           159.0            22.0            3.0\n",
       "1     1000      6         43.0           172.0            60.0           23.0\n",
       "2     1000      7         47.0           340.0            75.0           14.0\n",
       "3     1000      8         52.0           408.0            81.0           14.0\n",
       "4     1000      9         58.0           466.0            57.0           15.0"
      ]
     },
     "metadata": {},
     "output_type": "display_data"
    }
   ],
   "source": [
    "# объединим calls_stat и messages_stat по user_id и month\n",
    "full_stat = calls_stat.merge(messages_stat, on=['user_id','month'], how='outer')\n",
    "# объединим full_stat с internet_stat по user_id и month\n",
    "full_stat = full_stat.merge(internet_stat, on=['user_id','month'], how='outer')\n",
    "\n",
    "display(full_stat.head(5))"
   ]
  },
  {
   "cell_type": "code",
   "execution_count": 23,
   "metadata": {},
   "outputs": [
    {
     "name": "stdout",
     "output_type": "stream",
     "text": [
      "<class 'pandas.core.frame.DataFrame'>\n",
      "Int64Index: 3214 entries, 0 to 3213\n",
      "Data columns (total 6 columns):\n",
      " #   Column          Non-Null Count  Dtype  \n",
      "---  ------          --------------  -----  \n",
      " 0   user_id         3214 non-null   int64  \n",
      " 1   month           3214 non-null   int64  \n",
      " 2   total_calls     3174 non-null   float64\n",
      " 3   total_duration  3174 non-null   float64\n",
      " 4   total_messages  2717 non-null   float64\n",
      " 5   total_traffic   3203 non-null   float64\n",
      "dtypes: float64(4), int64(2)\n",
      "memory usage: 175.8 KB\n"
     ]
    },
    {
     "data": {
      "text/plain": [
       "None"
      ]
     },
     "metadata": {},
     "output_type": "display_data"
    }
   ],
   "source": [
    "display(full_stat.info())"
   ]
  },
  {
   "cell_type": "code",
   "execution_count": 24,
   "metadata": {},
   "outputs": [
    {
     "name": "stdout",
     "output_type": "stream",
     "text": [
      "Количество уникальных пользователей: 498\n"
     ]
    }
   ],
   "source": [
    "print(\"Количество уникальных пользователей:\", full_stat.user_id.nunique())"
   ]
  },
  {
   "cell_type": "markdown",
   "metadata": {},
   "source": [
    "На следующем шаге присоединим к full_stat информацию по юзерам и тарифам:"
   ]
  },
  {
   "cell_type": "code",
   "execution_count": 25,
   "metadata": {
    "scrolled": true
   },
   "outputs": [],
   "source": [
    "full_stat = users_df.merge(full_stat, on=['user_id'], how='inner')"
   ]
  },
  {
   "cell_type": "markdown",
   "metadata": {},
   "source": [
    "Проверим полученный датасет full_stat:"
   ]
  },
  {
   "cell_type": "code",
   "execution_count": 26,
   "metadata": {},
   "outputs": [
    {
     "data": {
      "text/html": [
       "<div>\n",
       "<style scoped>\n",
       "    .dataframe tbody tr th:only-of-type {\n",
       "        vertical-align: middle;\n",
       "    }\n",
       "\n",
       "    .dataframe tbody tr th {\n",
       "        vertical-align: top;\n",
       "    }\n",
       "\n",
       "    .dataframe thead th {\n",
       "        text-align: right;\n",
       "    }\n",
       "</style>\n",
       "<table border=\"1\" class=\"dataframe\">\n",
       "  <thead>\n",
       "    <tr style=\"text-align: right;\">\n",
       "      <th></th>\n",
       "      <th>user_id</th>\n",
       "      <th>age</th>\n",
       "      <th>churn_date</th>\n",
       "      <th>city</th>\n",
       "      <th>first_name</th>\n",
       "      <th>last_name</th>\n",
       "      <th>reg_date</th>\n",
       "      <th>tariff</th>\n",
       "      <th>month</th>\n",
       "      <th>total_calls</th>\n",
       "      <th>total_duration</th>\n",
       "      <th>total_messages</th>\n",
       "      <th>total_traffic</th>\n",
       "    </tr>\n",
       "  </thead>\n",
       "  <tbody>\n",
       "    <tr>\n",
       "      <th>0</th>\n",
       "      <td>1000</td>\n",
       "      <td>52</td>\n",
       "      <td>NaT</td>\n",
       "      <td>Краснодар</td>\n",
       "      <td>Рафаил</td>\n",
       "      <td>Верещагин</td>\n",
       "      <td>2018-05-25</td>\n",
       "      <td>ultra</td>\n",
       "      <td>5</td>\n",
       "      <td>22.0</td>\n",
       "      <td>159.0</td>\n",
       "      <td>22.0</td>\n",
       "      <td>3.0</td>\n",
       "    </tr>\n",
       "    <tr>\n",
       "      <th>1</th>\n",
       "      <td>1000</td>\n",
       "      <td>52</td>\n",
       "      <td>NaT</td>\n",
       "      <td>Краснодар</td>\n",
       "      <td>Рафаил</td>\n",
       "      <td>Верещагин</td>\n",
       "      <td>2018-05-25</td>\n",
       "      <td>ultra</td>\n",
       "      <td>6</td>\n",
       "      <td>43.0</td>\n",
       "      <td>172.0</td>\n",
       "      <td>60.0</td>\n",
       "      <td>23.0</td>\n",
       "    </tr>\n",
       "    <tr>\n",
       "      <th>2</th>\n",
       "      <td>1000</td>\n",
       "      <td>52</td>\n",
       "      <td>NaT</td>\n",
       "      <td>Краснодар</td>\n",
       "      <td>Рафаил</td>\n",
       "      <td>Верещагин</td>\n",
       "      <td>2018-05-25</td>\n",
       "      <td>ultra</td>\n",
       "      <td>7</td>\n",
       "      <td>47.0</td>\n",
       "      <td>340.0</td>\n",
       "      <td>75.0</td>\n",
       "      <td>14.0</td>\n",
       "    </tr>\n",
       "    <tr>\n",
       "      <th>3</th>\n",
       "      <td>1000</td>\n",
       "      <td>52</td>\n",
       "      <td>NaT</td>\n",
       "      <td>Краснодар</td>\n",
       "      <td>Рафаил</td>\n",
       "      <td>Верещагин</td>\n",
       "      <td>2018-05-25</td>\n",
       "      <td>ultra</td>\n",
       "      <td>8</td>\n",
       "      <td>52.0</td>\n",
       "      <td>408.0</td>\n",
       "      <td>81.0</td>\n",
       "      <td>14.0</td>\n",
       "    </tr>\n",
       "    <tr>\n",
       "      <th>4</th>\n",
       "      <td>1000</td>\n",
       "      <td>52</td>\n",
       "      <td>NaT</td>\n",
       "      <td>Краснодар</td>\n",
       "      <td>Рафаил</td>\n",
       "      <td>Верещагин</td>\n",
       "      <td>2018-05-25</td>\n",
       "      <td>ultra</td>\n",
       "      <td>9</td>\n",
       "      <td>58.0</td>\n",
       "      <td>466.0</td>\n",
       "      <td>57.0</td>\n",
       "      <td>15.0</td>\n",
       "    </tr>\n",
       "  </tbody>\n",
       "</table>\n",
       "</div>"
      ],
      "text/plain": [
       "   user_id  age churn_date       city first_name  last_name   reg_date tariff  \\\n",
       "0     1000   52        NaT  Краснодар     Рафаил  Верещагин 2018-05-25  ultra   \n",
       "1     1000   52        NaT  Краснодар     Рафаил  Верещагин 2018-05-25  ultra   \n",
       "2     1000   52        NaT  Краснодар     Рафаил  Верещагин 2018-05-25  ultra   \n",
       "3     1000   52        NaT  Краснодар     Рафаил  Верещагин 2018-05-25  ultra   \n",
       "4     1000   52        NaT  Краснодар     Рафаил  Верещагин 2018-05-25  ultra   \n",
       "\n",
       "   month  total_calls  total_duration  total_messages  total_traffic  \n",
       "0      5         22.0           159.0            22.0            3.0  \n",
       "1      6         43.0           172.0            60.0           23.0  \n",
       "2      7         47.0           340.0            75.0           14.0  \n",
       "3      8         52.0           408.0            81.0           14.0  \n",
       "4      9         58.0           466.0            57.0           15.0  "
      ]
     },
     "metadata": {},
     "output_type": "display_data"
    },
    {
     "name": "stdout",
     "output_type": "stream",
     "text": [
      "<class 'pandas.core.frame.DataFrame'>\n",
      "Int64Index: 3214 entries, 0 to 3213\n",
      "Data columns (total 13 columns):\n",
      " #   Column          Non-Null Count  Dtype         \n",
      "---  ------          --------------  -----         \n",
      " 0   user_id         3214 non-null   int64         \n",
      " 1   age             3214 non-null   int64         \n",
      " 2   churn_date      187 non-null    datetime64[ns]\n",
      " 3   city            3214 non-null   object        \n",
      " 4   first_name      3214 non-null   object        \n",
      " 5   last_name       3214 non-null   object        \n",
      " 6   reg_date        3214 non-null   datetime64[ns]\n",
      " 7   tariff          3214 non-null   object        \n",
      " 8   month           3214 non-null   int64         \n",
      " 9   total_calls     3174 non-null   float64       \n",
      " 10  total_duration  3174 non-null   float64       \n",
      " 11  total_messages  2717 non-null   float64       \n",
      " 12  total_traffic   3203 non-null   float64       \n",
      "dtypes: datetime64[ns](2), float64(4), int64(3), object(4)\n",
      "memory usage: 351.5+ KB\n"
     ]
    }
   ],
   "source": [
    "display(full_stat.head(5))\n",
    "full_stat.info()"
   ]
  },
  {
   "cell_type": "markdown",
   "metadata": {},
   "source": [
    "Видим, что при объединении талиц в full_stat появились пропуски в столбцах total_calls, total_duration, total_messages и total_traffic. Вероятная причина связана с тем, что некоторые абоненты в какие-то месяцы не делали звонков, не отправляли сообщения или не пользовались интернетом. \n",
    "\n",
    "Пропуски в этих столбцах правильно заменить на '0':"
   ]
  },
  {
   "cell_type": "code",
   "execution_count": 27,
   "metadata": {},
   "outputs": [
    {
     "name": "stdout",
     "output_type": "stream",
     "text": [
      "<class 'pandas.core.frame.DataFrame'>\n",
      "Int64Index: 3214 entries, 0 to 3213\n",
      "Data columns (total 13 columns):\n",
      " #   Column          Non-Null Count  Dtype         \n",
      "---  ------          --------------  -----         \n",
      " 0   user_id         3214 non-null   int64         \n",
      " 1   age             3214 non-null   int64         \n",
      " 2   churn_date      187 non-null    datetime64[ns]\n",
      " 3   city            3214 non-null   object        \n",
      " 4   first_name      3214 non-null   object        \n",
      " 5   last_name       3214 non-null   object        \n",
      " 6   reg_date        3214 non-null   datetime64[ns]\n",
      " 7   tariff          3214 non-null   object        \n",
      " 8   month           3214 non-null   int64         \n",
      " 9   total_calls     3214 non-null   int32         \n",
      " 10  total_duration  3214 non-null   int32         \n",
      " 11  total_messages  3214 non-null   int32         \n",
      " 12  total_traffic   3214 non-null   int32         \n",
      "dtypes: datetime64[ns](2), int32(4), int64(3), object(4)\n",
      "memory usage: 301.3+ KB\n"
     ]
    }
   ],
   "source": [
    "full_stat['total_calls'] = full_stat['total_calls'].fillna(0)\n",
    "full_stat['total_duration'] = full_stat['total_duration'].fillna(0)\n",
    "full_stat['total_messages'] = full_stat['total_messages'].fillna(0)\n",
    "full_stat['total_traffic'] = full_stat['total_traffic'].fillna(0)\n",
    "\n",
    "full_stat['total_calls'] = full_stat['total_calls'].astype('int')\n",
    "full_stat['total_duration'] = full_stat['total_duration'].astype('int')\n",
    "full_stat['total_messages'] = full_stat['total_messages'].astype('int')\n",
    "full_stat['total_traffic'] = full_stat['total_traffic'].astype('int')\n",
    "\n",
    "full_stat.info()"
   ]
  },
  {
   "cell_type": "markdown",
   "metadata": {},
   "source": [
    "С пропусками разобрались, можно двигаться дальше.\n",
    "\n",
    "Чтобы посчитать помесячную выручку, необходимо вычесть бесплатный лимит из суммарного количества звонков, сообщений и интернет-трафика. Далее остаток умножить на значение из тарифного плана и прибавить абонентскую плату, соответствующую тарифному плану. \n",
    "\n",
    "Для этого создадим функцию monthly_revenue, которая проделает эти вычисления для каждого пользователя:"
   ]
  },
  {
   "cell_type": "code",
   "execution_count": 28,
   "metadata": {
    "scrolled": true
   },
   "outputs": [
    {
     "data": {
      "text/html": [
       "<div>\n",
       "<style scoped>\n",
       "    .dataframe tbody tr th:only-of-type {\n",
       "        vertical-align: middle;\n",
       "    }\n",
       "\n",
       "    .dataframe tbody tr th {\n",
       "        vertical-align: top;\n",
       "    }\n",
       "\n",
       "    .dataframe thead th {\n",
       "        text-align: right;\n",
       "    }\n",
       "</style>\n",
       "<table border=\"1\" class=\"dataframe\">\n",
       "  <thead>\n",
       "    <tr style=\"text-align: right;\">\n",
       "      <th></th>\n",
       "      <th>user_id</th>\n",
       "      <th>age</th>\n",
       "      <th>churn_date</th>\n",
       "      <th>city</th>\n",
       "      <th>first_name</th>\n",
       "      <th>last_name</th>\n",
       "      <th>reg_date</th>\n",
       "      <th>tariff</th>\n",
       "      <th>month</th>\n",
       "      <th>total_calls</th>\n",
       "      <th>total_duration</th>\n",
       "      <th>total_messages</th>\n",
       "      <th>total_traffic</th>\n",
       "      <th>monthly_revenue</th>\n",
       "    </tr>\n",
       "  </thead>\n",
       "  <tbody>\n",
       "    <tr>\n",
       "      <th>0</th>\n",
       "      <td>1000</td>\n",
       "      <td>52</td>\n",
       "      <td>NaT</td>\n",
       "      <td>Краснодар</td>\n",
       "      <td>Рафаил</td>\n",
       "      <td>Верещагин</td>\n",
       "      <td>2018-05-25</td>\n",
       "      <td>ultra</td>\n",
       "      <td>5</td>\n",
       "      <td>22</td>\n",
       "      <td>159</td>\n",
       "      <td>22</td>\n",
       "      <td>3</td>\n",
       "      <td>1950</td>\n",
       "    </tr>\n",
       "    <tr>\n",
       "      <th>1</th>\n",
       "      <td>1000</td>\n",
       "      <td>52</td>\n",
       "      <td>NaT</td>\n",
       "      <td>Краснодар</td>\n",
       "      <td>Рафаил</td>\n",
       "      <td>Верещагин</td>\n",
       "      <td>2018-05-25</td>\n",
       "      <td>ultra</td>\n",
       "      <td>6</td>\n",
       "      <td>43</td>\n",
       "      <td>172</td>\n",
       "      <td>60</td>\n",
       "      <td>23</td>\n",
       "      <td>1950</td>\n",
       "    </tr>\n",
       "    <tr>\n",
       "      <th>2</th>\n",
       "      <td>1000</td>\n",
       "      <td>52</td>\n",
       "      <td>NaT</td>\n",
       "      <td>Краснодар</td>\n",
       "      <td>Рафаил</td>\n",
       "      <td>Верещагин</td>\n",
       "      <td>2018-05-25</td>\n",
       "      <td>ultra</td>\n",
       "      <td>7</td>\n",
       "      <td>47</td>\n",
       "      <td>340</td>\n",
       "      <td>75</td>\n",
       "      <td>14</td>\n",
       "      <td>1950</td>\n",
       "    </tr>\n",
       "    <tr>\n",
       "      <th>3</th>\n",
       "      <td>1000</td>\n",
       "      <td>52</td>\n",
       "      <td>NaT</td>\n",
       "      <td>Краснодар</td>\n",
       "      <td>Рафаил</td>\n",
       "      <td>Верещагин</td>\n",
       "      <td>2018-05-25</td>\n",
       "      <td>ultra</td>\n",
       "      <td>8</td>\n",
       "      <td>52</td>\n",
       "      <td>408</td>\n",
       "      <td>81</td>\n",
       "      <td>14</td>\n",
       "      <td>1950</td>\n",
       "    </tr>\n",
       "    <tr>\n",
       "      <th>4</th>\n",
       "      <td>1000</td>\n",
       "      <td>52</td>\n",
       "      <td>NaT</td>\n",
       "      <td>Краснодар</td>\n",
       "      <td>Рафаил</td>\n",
       "      <td>Верещагин</td>\n",
       "      <td>2018-05-25</td>\n",
       "      <td>ultra</td>\n",
       "      <td>9</td>\n",
       "      <td>58</td>\n",
       "      <td>466</td>\n",
       "      <td>57</td>\n",
       "      <td>15</td>\n",
       "      <td>1950</td>\n",
       "    </tr>\n",
       "  </tbody>\n",
       "</table>\n",
       "</div>"
      ],
      "text/plain": [
       "   user_id  age churn_date       city first_name  last_name   reg_date tariff  \\\n",
       "0     1000   52        NaT  Краснодар     Рафаил  Верещагин 2018-05-25  ultra   \n",
       "1     1000   52        NaT  Краснодар     Рафаил  Верещагин 2018-05-25  ultra   \n",
       "2     1000   52        NaT  Краснодар     Рафаил  Верещагин 2018-05-25  ultra   \n",
       "3     1000   52        NaT  Краснодар     Рафаил  Верещагин 2018-05-25  ultra   \n",
       "4     1000   52        NaT  Краснодар     Рафаил  Верещагин 2018-05-25  ultra   \n",
       "\n",
       "   month  total_calls  total_duration  total_messages  total_traffic  \\\n",
       "0      5           22             159              22              3   \n",
       "1      6           43             172              60             23   \n",
       "2      7           47             340              75             14   \n",
       "3      8           52             408              81             14   \n",
       "4      9           58             466              57             15   \n",
       "\n",
       "   monthly_revenue  \n",
       "0             1950  \n",
       "1             1950  \n",
       "2             1950  \n",
       "3             1950  \n",
       "4             1950  "
      ]
     },
     "metadata": {},
     "output_type": "display_data"
    }
   ],
   "source": [
    "def monthly_revenue (user_data):    \n",
    "    total_revenue = 0\n",
    "    calls_diff = 0\n",
    "    messages_diff = 0\n",
    "    traffic_diff = 0\n",
    "    t_name = user_data[\"tariff\"]\n",
    "    \n",
    "    tariff = tariffs_df.query('tariff_name == @t_name') #определим параметры тарифа пользователя\n",
    "\n",
    "    total_revenue = tariff.rub_monthly_fee  #добавим к месячной выручке базовую абонентскую плату\n",
    "    \n",
    "    #добавим к месячной выручке плату за звонки сверх пакета в тарифе\n",
    "    calls_diff = int(user_data.total_duration - tariff.minutes_included)\n",
    "    if calls_diff < 0:\n",
    "        calls_diff = 0\n",
    "    total_revenue += int(calls_diff*tariff.rub_per_minute)\n",
    "    \n",
    "    #добавим к месячной выручке плату за сообщения сверх пакета в тарифе\n",
    "    messages_diff = int(user_data.total_messages - tariff.messages_included)\n",
    "    if messages_diff < 0:\n",
    "        messages_diff = 0\n",
    "    total_revenue += int(messages_diff*tariff.rub_per_message)\n",
    "    \n",
    "    #добавим к месячной выручке плату за траффик сверх пакета в тарифе\n",
    "    traffic_diff = int(user_data.total_traffic - tariff.gb_per_month_included)\n",
    "    if traffic_diff < 0:\n",
    "        traffic_diff = 0\n",
    "    total_revenue += int(traffic_diff*tariff.rub_per_gb)\n",
    "    \n",
    "    return int(total_revenue)\n",
    "\n",
    "#добавим в full_stat месячную выручку, используя monthly_revenue\n",
    "full_stat['monthly_revenue'] = full_stat.apply(monthly_revenue, axis=1)\n",
    "display(full_stat.head(5))"
   ]
  },
  {
   "cell_type": "markdown",
   "metadata": {},
   "source": [
    "Мы помним, что в датасете users_df присутствовали пользователи, прекратившие пользоваться услугами оператора. Об этом свидетельствует столбец churn_date, в котором указана дата прекращения пользования тарифом. Проанализируем такие строки:"
   ]
  },
  {
   "cell_type": "code",
   "execution_count": 29,
   "metadata": {},
   "outputs": [
    {
     "data": {
      "text/html": [
       "<div>\n",
       "<style scoped>\n",
       "    .dataframe tbody tr th:only-of-type {\n",
       "        vertical-align: middle;\n",
       "    }\n",
       "\n",
       "    .dataframe tbody tr th {\n",
       "        vertical-align: top;\n",
       "    }\n",
       "\n",
       "    .dataframe thead th {\n",
       "        text-align: right;\n",
       "    }\n",
       "</style>\n",
       "<table border=\"1\" class=\"dataframe\">\n",
       "  <thead>\n",
       "    <tr style=\"text-align: right;\">\n",
       "      <th></th>\n",
       "      <th>user_id</th>\n",
       "      <th>age</th>\n",
       "      <th>churn_date</th>\n",
       "      <th>city</th>\n",
       "      <th>first_name</th>\n",
       "      <th>last_name</th>\n",
       "      <th>reg_date</th>\n",
       "      <th>tariff</th>\n",
       "      <th>month</th>\n",
       "      <th>total_calls</th>\n",
       "      <th>total_duration</th>\n",
       "      <th>total_messages</th>\n",
       "      <th>total_traffic</th>\n",
       "      <th>monthly_revenue</th>\n",
       "    </tr>\n",
       "  </thead>\n",
       "  <tbody>\n",
       "    <tr>\n",
       "      <th>136</th>\n",
       "      <td>1019</td>\n",
       "      <td>63</td>\n",
       "      <td>2018-10-05</td>\n",
       "      <td>Томск</td>\n",
       "      <td>Игнатий</td>\n",
       "      <td>Круглов</td>\n",
       "      <td>2018-05-16</td>\n",
       "      <td>ultra</td>\n",
       "      <td>5</td>\n",
       "      <td>37</td>\n",
       "      <td>300</td>\n",
       "      <td>21</td>\n",
       "      <td>11</td>\n",
       "      <td>1950</td>\n",
       "    </tr>\n",
       "    <tr>\n",
       "      <th>137</th>\n",
       "      <td>1019</td>\n",
       "      <td>63</td>\n",
       "      <td>2018-10-05</td>\n",
       "      <td>Томск</td>\n",
       "      <td>Игнатий</td>\n",
       "      <td>Круглов</td>\n",
       "      <td>2018-05-16</td>\n",
       "      <td>ultra</td>\n",
       "      <td>6</td>\n",
       "      <td>52</td>\n",
       "      <td>386</td>\n",
       "      <td>25</td>\n",
       "      <td>22</td>\n",
       "      <td>1950</td>\n",
       "    </tr>\n",
       "    <tr>\n",
       "      <th>138</th>\n",
       "      <td>1019</td>\n",
       "      <td>63</td>\n",
       "      <td>2018-10-05</td>\n",
       "      <td>Томск</td>\n",
       "      <td>Игнатий</td>\n",
       "      <td>Круглов</td>\n",
       "      <td>2018-05-16</td>\n",
       "      <td>ultra</td>\n",
       "      <td>7</td>\n",
       "      <td>60</td>\n",
       "      <td>453</td>\n",
       "      <td>16</td>\n",
       "      <td>18</td>\n",
       "      <td>1950</td>\n",
       "    </tr>\n",
       "    <tr>\n",
       "      <th>139</th>\n",
       "      <td>1019</td>\n",
       "      <td>63</td>\n",
       "      <td>2018-10-05</td>\n",
       "      <td>Томск</td>\n",
       "      <td>Игнатий</td>\n",
       "      <td>Круглов</td>\n",
       "      <td>2018-05-16</td>\n",
       "      <td>ultra</td>\n",
       "      <td>8</td>\n",
       "      <td>47</td>\n",
       "      <td>360</td>\n",
       "      <td>19</td>\n",
       "      <td>28</td>\n",
       "      <td>1950</td>\n",
       "    </tr>\n",
       "    <tr>\n",
       "      <th>140</th>\n",
       "      <td>1019</td>\n",
       "      <td>63</td>\n",
       "      <td>2018-10-05</td>\n",
       "      <td>Томск</td>\n",
       "      <td>Игнатий</td>\n",
       "      <td>Круглов</td>\n",
       "      <td>2018-05-16</td>\n",
       "      <td>ultra</td>\n",
       "      <td>9</td>\n",
       "      <td>84</td>\n",
       "      <td>519</td>\n",
       "      <td>21</td>\n",
       "      <td>16</td>\n",
       "      <td>1950</td>\n",
       "    </tr>\n",
       "  </tbody>\n",
       "</table>\n",
       "</div>"
      ],
      "text/plain": [
       "     user_id  age churn_date   city first_name last_name   reg_date tariff  \\\n",
       "136     1019   63 2018-10-05  Томск    Игнатий   Круглов 2018-05-16  ultra   \n",
       "137     1019   63 2018-10-05  Томск    Игнатий   Круглов 2018-05-16  ultra   \n",
       "138     1019   63 2018-10-05  Томск    Игнатий   Круглов 2018-05-16  ultra   \n",
       "139     1019   63 2018-10-05  Томск    Игнатий   Круглов 2018-05-16  ultra   \n",
       "140     1019   63 2018-10-05  Томск    Игнатий   Круглов 2018-05-16  ultra   \n",
       "\n",
       "     month  total_calls  total_duration  total_messages  total_traffic  \\\n",
       "136      5           37             300              21             11   \n",
       "137      6           52             386              25             22   \n",
       "138      7           60             453              16             18   \n",
       "139      8           47             360              19             28   \n",
       "140      9           84             519              21             16   \n",
       "\n",
       "     monthly_revenue  \n",
       "136             1950  \n",
       "137             1950  \n",
       "138             1950  \n",
       "139             1950  \n",
       "140             1950  "
      ]
     },
     "metadata": {},
     "output_type": "display_data"
    }
   ],
   "source": [
    "display(full_stat[~full_stat.churn_date.isnull()].head(5))"
   ]
  },
  {
   "cell_type": "markdown",
   "metadata": {},
   "source": [
    "Для таких пользователей статистика по метрикам в последний месяц использования тарифа является выбросом, удалим данные строки из датасета full_stat: "
   ]
  },
  {
   "cell_type": "code",
   "execution_count": 30,
   "metadata": {},
   "outputs": [],
   "source": [
    "full_stat = full_stat[pd.to_datetime(full_stat['churn_date']).dt.month != full_stat['month']]\n",
    "full_stat = full_stat.reset_index(drop=True)"
   ]
  },
  {
   "cell_type": "markdown",
   "metadata": {},
   "source": [
    "### Вывод:\n",
    "\n",
    "Мы провели требуемые расчеты и получили данные, необходимые для проведения исследовательского анализа."
   ]
  },
  {
   "cell_type": "markdown",
   "metadata": {},
   "source": [
    "## Анализ данных"
   ]
  },
  {
   "cell_type": "markdown",
   "metadata": {},
   "source": [
    "Опишем поведение клиентов оператора, исходя из выборки.\n",
    "\n",
    "Сначала проналазируем, сколько минут разговора, сколько сообщений и какой объём интернет-трафика требуется пользователям каждого тарифа в месяц. \n",
    "\n",
    "Для этого найдем среднее, дисперсию и стандартное отклонение для каждой метрики в зависимости от тарифа:"
   ]
  },
  {
   "cell_type": "code",
   "execution_count": 31,
   "metadata": {},
   "outputs": [
    {
     "data": {
      "text/html": [
       "<div>\n",
       "<style scoped>\n",
       "    .dataframe tbody tr th:only-of-type {\n",
       "        vertical-align: middle;\n",
       "    }\n",
       "\n",
       "    .dataframe tbody tr th {\n",
       "        vertical-align: top;\n",
       "    }\n",
       "\n",
       "    .dataframe thead th {\n",
       "        text-align: right;\n",
       "    }\n",
       "</style>\n",
       "<table border=\"1\" class=\"dataframe\">\n",
       "  <thead>\n",
       "    <tr style=\"text-align: right;\">\n",
       "      <th></th>\n",
       "      <th>tariff</th>\n",
       "      <th>duration_mean</th>\n",
       "      <th>messages_mean</th>\n",
       "      <th>traffic_mean</th>\n",
       "      <th>duration_variance</th>\n",
       "      <th>messages_variance</th>\n",
       "      <th>traffic_variance</th>\n",
       "      <th>duration_std</th>\n",
       "      <th>messages_std</th>\n",
       "      <th>traffic_std</th>\n",
       "    </tr>\n",
       "  </thead>\n",
       "  <tbody>\n",
       "    <tr>\n",
       "      <th>0</th>\n",
       "      <td>smart</td>\n",
       "      <td>419.880834</td>\n",
       "      <td>33.518804</td>\n",
       "      <td>16.384232</td>\n",
       "      <td>36093.353427</td>\n",
       "      <td>800.812770</td>\n",
       "      <td>32.839606</td>\n",
       "      <td>189.982508</td>\n",
       "      <td>28.298635</td>\n",
       "      <td>5.730585</td>\n",
       "    </tr>\n",
       "    <tr>\n",
       "      <th>1</th>\n",
       "      <td>ultra</td>\n",
       "      <td>531.511843</td>\n",
       "      <td>49.792997</td>\n",
       "      <td>19.690010</td>\n",
       "      <td>100403.169705</td>\n",
       "      <td>2296.141642</td>\n",
       "      <td>95.298653</td>\n",
       "      <td>316.864592</td>\n",
       "      <td>47.918072</td>\n",
       "      <td>9.762103</td>\n",
       "    </tr>\n",
       "  </tbody>\n",
       "</table>\n",
       "</div>"
      ],
      "text/plain": [
       "  tariff  duration_mean  messages_mean  traffic_mean  duration_variance  \\\n",
       "0  smart     419.880834      33.518804     16.384232       36093.353427   \n",
       "1  ultra     531.511843      49.792997     19.690010      100403.169705   \n",
       "\n",
       "   messages_variance  traffic_variance  duration_std  messages_std  \\\n",
       "0         800.812770         32.839606    189.982508     28.298635   \n",
       "1        2296.141642         95.298653    316.864592     47.918072   \n",
       "\n",
       "   traffic_std  \n",
       "0     5.730585  \n",
       "1     9.762103  "
      ]
     },
     "metadata": {},
     "output_type": "display_data"
    }
   ],
   "source": [
    "metrics_expectation = full_stat.pivot_table(index='tariff', values=['total_duration', 'total_messages', 'total_traffic'], aggfunc=['mean', 'var', 'std']).reset_index()\n",
    "metrics_expectation.columns = ['tariff','duration_mean', 'messages_mean', 'traffic_mean', 'duration_variance', 'messages_variance', 'traffic_variance', 'duration_std', 'messages_std', 'traffic_std']\n",
    "display(metrics_expectation)"
   ]
  },
  {
   "cell_type": "markdown",
   "metadata": {},
   "source": [
    "Далее построим гистограммы для каждой метрики:"
   ]
  },
  {
   "cell_type": "code",
   "execution_count": 32,
   "metadata": {
    "scrolled": false
   },
   "outputs": [
    {
     "data": {
      "image/png": "[encoded data removed]",
      "text/plain": [
       "<Figure size 360x360 with 1 Axes>"
      ]
     },
     "metadata": {
      "needs_background": "light"
     },
     "output_type": "display_data"
    }
   ],
   "source": [
    "#разделим full_stat на две выборки в зависмости от тарифа\n",
    "tariff_smart_stat = full_stat.query('tariff == \"smart\"')\n",
    "tariff_ultra_stat = full_stat.query('tariff == \"ultra\"')\n",
    "\n",
    "#гистограмма для количества минут разговора за месяц у пользователей на тарифе smart\n",
    "sns.displot(tariff_smart_stat['total_duration'])\n",
    "plt.title(\"Распределение количества минут разговора за месяц у пользователей на тарифе smart\")\n",
    "plt.xlabel(\"Количество минут разговора за месяц, мин.\")\n",
    "plt.ylabel(\"Число пользователей, шт.\") \n",
    "plt.show(); "
   ]
  },
  {
   "cell_type": "markdown",
   "metadata": {},
   "source": [
    "По графику видим, что данные скошены в отрицательную сторону; медиана больше, чем среднее."
   ]
  },
  {
   "cell_type": "code",
   "execution_count": 33,
   "metadata": {},
   "outputs": [
    {
     "data": {
      "image/png": "[encoded data removed]",
      "text/plain": [
       "<Figure size 360x360 with 1 Axes>"
      ]
     },
     "metadata": {
      "needs_background": "light"
     },
     "output_type": "display_data"
    }
   ],
   "source": [
    "#гистограмма для количества минут разговора за месяц у пользователей на тарифе ultra\n",
    "sns.displot(tariff_ultra_stat['total_duration'])\n",
    "plt.title(\"Распределение количества минут разговора за месяц у пользователей на тарифе ultra\")\n",
    "plt.xlabel(\"Количество минут разговора за месяц, мин.\")\n",
    "plt.ylabel(\"Число пользователей, шт.\") \n",
    "plt.show(); "
   ]
  },
  {
   "cell_type": "markdown",
   "metadata": {},
   "source": [
    "Данные скошены в отрицательную сторону; медиана больше, чем среднее."
   ]
  },
  {
   "cell_type": "markdown",
   "metadata": {},
   "source": [
    "По графикам видим, что пользователи тарифа «Смарт», в среднем, общаются 425 минут в месяц, а пользователи \n",
    "тарифа «Ультра» - 533 минут в месяц."
   ]
  },
  {
   "cell_type": "code",
   "execution_count": 34,
   "metadata": {},
   "outputs": [
    {
     "data": {
      "image/png": "[encoded data removed]",
      "text/plain": [
       "<Figure size 360x360 with 1 Axes>"
      ]
     },
     "metadata": {
      "needs_background": "light"
     },
     "output_type": "display_data"
    }
   ],
   "source": [
    "#гистограмма для количества сообщений за месяц у пользователей на тарифе smart\n",
    "sns.displot(tariff_smart_stat['total_messages'])\n",
    "plt.title(\"Распределение количества сообщений за месяц у пользователей на тарифе smart\")\n",
    "plt.xlabel(\"Количество сообщений за месяц, шт.\")\n",
    "plt.ylabel(\"Число пользователей, шт.\") \n",
    "plt.show(); "
   ]
  },
  {
   "cell_type": "markdown",
   "metadata": {},
   "source": [
    "Данные скошены в положительную сторону, среднее больше, чем медиана."
   ]
  },
  {
   "cell_type": "code",
   "execution_count": 35,
   "metadata": {},
   "outputs": [
    {
     "data": {
      "image/png": "[encoded data removed]",
      "text/plain": [
       "<Figure size 360x360 with 1 Axes>"
      ]
     },
     "metadata": {
      "needs_background": "light"
     },
     "output_type": "display_data"
    }
   ],
   "source": [
    "#гистограмма для количества сообщений за месяц у пользователей на тарифе ultra\n",
    "sns.displot(tariff_ultra_stat['total_messages'])\n",
    "plt.title(\"Распределение количества сообщений за месяц у пользователей на тарифе ultra\")\n",
    "plt.xlabel(\"Количество сообщений за месяц, шт.\")\n",
    "plt.ylabel(\"Число пользователей, шт.\") \n",
    "plt.show(); "
   ]
  },
  {
   "cell_type": "markdown",
   "metadata": {},
   "source": [
    "Данные скошены в положительную сторону, среднее больше, чем медиана."
   ]
  },
  {
   "cell_type": "markdown",
   "metadata": {},
   "source": [
    "Большинство пользователей обоих тарифов не отправляют сообщения. \n",
    "По остальным статистика такова: пользователи тарифа «Смарт», в среднем, отправляют 28 сообщений в месяц, а \n",
    "тарифа «Ультра» - 39 сообщений в месяц."
   ]
  },
  {
   "cell_type": "code",
   "execution_count": 36,
   "metadata": {},
   "outputs": [
    {
     "data": {
      "image/png": "[encoded data removed]",
      "text/plain": [
       "<Figure size 360x360 with 1 Axes>"
      ]
     },
     "metadata": {
      "needs_background": "light"
     },
     "output_type": "display_data"
    }
   ],
   "source": [
    "#гистограмма для объема интернет-трафиика за месяц у пользователей на тарифе smart\n",
    "sns.displot(tariff_smart_stat['total_traffic'])\n",
    "plt.title(\"Распределение объема интернет-трафиика за месяц у пользователей на тарифе smart\")\n",
    "plt.xlabel(\"Объем интернет-трафиика за месяц, Гб\")\n",
    "plt.ylabel(\"Число пользователей, шт.\") \n",
    "plt.show(); "
   ]
  },
  {
   "cell_type": "markdown",
   "metadata": {},
   "source": [
    "Набор данных практически симметричен; медина близка к среднему."
   ]
  },
  {
   "cell_type": "code",
   "execution_count": 37,
   "metadata": {
    "scrolled": true
   },
   "outputs": [
    {
     "data": {
      "image/png": "[encoded data removed]",
      "text/plain": [
       "<Figure size 360x360 with 1 Axes>"
      ]
     },
     "metadata": {
      "needs_background": "light"
     },
     "output_type": "display_data"
    }
   ],
   "source": [
    "#гистограмма для объема интернет-траффика за месяц у пользователей на тарифе ultra\n",
    "sns.displot(tariff_ultra_stat['total_traffic'])\n",
    "plt.title(\"Распределение объема интернет-трафиика за месяц у пользователей на тарифе ultra\")\n",
    "plt.xlabel(\"Объем интернет-трафиика за месяц, Гб\")\n",
    "plt.ylabel(\"Число пользователей, шт.\") \n",
    "plt.show(); "
   ]
  },
  {
   "cell_type": "markdown",
   "metadata": {},
   "source": [
    "Набор данных практически симметричен; медина близка к среднему."
   ]
  },
  {
   "cell_type": "markdown",
   "metadata": {},
   "source": [
    "Пользователи тарифа «Смарт», в среднем, потребляют 17 Гб траффика в месяц, а пользователи \n",
    "тарифа «Ультра» - 20 Гб в месяц."
   ]
  },
  {
   "cell_type": "markdown",
   "metadata": {},
   "source": [
    "## Проверка гипотез"
   ]
  },
  {
   "cell_type": "markdown",
   "metadata": {},
   "source": [
    "Мы хотим проверим следующие гипотезы:\n",
    "* Двухсторонняя проверка: средняя выручка пользователей тарифов «Ультра» и «Смарт» различаются;\n",
    "* Двухсторонняя проверка: средняя выручка пользователей из Москвы отличается от выручки пользователей из других регионов."
   ]
  },
  {
   "cell_type": "markdown",
   "metadata": {},
   "source": [
    "Для удобства уберем из tariff_smart_stat и tariff_ultra_stat лишние данные, оставив только столбцы с основной информацией о пользователе и значением помесячной выручки:"
   ]
  },
  {
   "cell_type": "code",
   "execution_count": 38,
   "metadata": {},
   "outputs": [
    {
     "data": {
      "text/html": [
       "<div>\n",
       "<style scoped>\n",
       "    .dataframe tbody tr th:only-of-type {\n",
       "        vertical-align: middle;\n",
       "    }\n",
       "\n",
       "    .dataframe tbody tr th {\n",
       "        vertical-align: top;\n",
       "    }\n",
       "\n",
       "    .dataframe thead th {\n",
       "        text-align: right;\n",
       "    }\n",
       "</style>\n",
       "<table border=\"1\" class=\"dataframe\">\n",
       "  <thead>\n",
       "    <tr style=\"text-align: right;\">\n",
       "      <th></th>\n",
       "      <th>user_id</th>\n",
       "      <th>city</th>\n",
       "      <th>first_name</th>\n",
       "      <th>last_name</th>\n",
       "      <th>tariff</th>\n",
       "      <th>month</th>\n",
       "      <th>monthly_revenue</th>\n",
       "    </tr>\n",
       "  </thead>\n",
       "  <tbody>\n",
       "    <tr>\n",
       "      <th>8</th>\n",
       "      <td>1001</td>\n",
       "      <td>Москва</td>\n",
       "      <td>Иван</td>\n",
       "      <td>Ежов</td>\n",
       "      <td>smart</td>\n",
       "      <td>11</td>\n",
       "      <td>1150</td>\n",
       "    </tr>\n",
       "    <tr>\n",
       "      <th>9</th>\n",
       "      <td>1001</td>\n",
       "      <td>Москва</td>\n",
       "      <td>Иван</td>\n",
       "      <td>Ежов</td>\n",
       "      <td>smart</td>\n",
       "      <td>12</td>\n",
       "      <td>550</td>\n",
       "    </tr>\n",
       "    <tr>\n",
       "      <th>10</th>\n",
       "      <td>1002</td>\n",
       "      <td>Стерлитамак</td>\n",
       "      <td>Евгений</td>\n",
       "      <td>Абрамович</td>\n",
       "      <td>smart</td>\n",
       "      <td>6</td>\n",
       "      <td>550</td>\n",
       "    </tr>\n",
       "    <tr>\n",
       "      <th>11</th>\n",
       "      <td>1002</td>\n",
       "      <td>Стерлитамак</td>\n",
       "      <td>Евгений</td>\n",
       "      <td>Абрамович</td>\n",
       "      <td>smart</td>\n",
       "      <td>7</td>\n",
       "      <td>1150</td>\n",
       "    </tr>\n",
       "    <tr>\n",
       "      <th>12</th>\n",
       "      <td>1002</td>\n",
       "      <td>Стерлитамак</td>\n",
       "      <td>Евгений</td>\n",
       "      <td>Абрамович</td>\n",
       "      <td>smart</td>\n",
       "      <td>8</td>\n",
       "      <td>1550</td>\n",
       "    </tr>\n",
       "  </tbody>\n",
       "</table>\n",
       "</div>"
      ],
      "text/plain": [
       "    user_id         city first_name  last_name tariff  month  monthly_revenue\n",
       "8      1001       Москва       Иван       Ежов  smart     11             1150\n",
       "9      1001       Москва       Иван       Ежов  smart     12              550\n",
       "10     1002  Стерлитамак    Евгений  Абрамович  smart      6              550\n",
       "11     1002  Стерлитамак    Евгений  Абрамович  smart      7             1150\n",
       "12     1002  Стерлитамак    Евгений  Абрамович  smart      8             1550"
      ]
     },
     "metadata": {},
     "output_type": "display_data"
    },
    {
     "data": {
      "text/html": [
       "<div>\n",
       "<style scoped>\n",
       "    .dataframe tbody tr th:only-of-type {\n",
       "        vertical-align: middle;\n",
       "    }\n",
       "\n",
       "    .dataframe tbody tr th {\n",
       "        vertical-align: top;\n",
       "    }\n",
       "\n",
       "    .dataframe thead th {\n",
       "        text-align: right;\n",
       "    }\n",
       "</style>\n",
       "<table border=\"1\" class=\"dataframe\">\n",
       "  <thead>\n",
       "    <tr style=\"text-align: right;\">\n",
       "      <th></th>\n",
       "      <th>user_id</th>\n",
       "      <th>city</th>\n",
       "      <th>first_name</th>\n",
       "      <th>last_name</th>\n",
       "      <th>tariff</th>\n",
       "      <th>month</th>\n",
       "      <th>monthly_revenue</th>\n",
       "    </tr>\n",
       "  </thead>\n",
       "  <tbody>\n",
       "    <tr>\n",
       "      <th>0</th>\n",
       "      <td>1000</td>\n",
       "      <td>Краснодар</td>\n",
       "      <td>Рафаил</td>\n",
       "      <td>Верещагин</td>\n",
       "      <td>ultra</td>\n",
       "      <td>5</td>\n",
       "      <td>1950</td>\n",
       "    </tr>\n",
       "    <tr>\n",
       "      <th>1</th>\n",
       "      <td>1000</td>\n",
       "      <td>Краснодар</td>\n",
       "      <td>Рафаил</td>\n",
       "      <td>Верещагин</td>\n",
       "      <td>ultra</td>\n",
       "      <td>6</td>\n",
       "      <td>1950</td>\n",
       "    </tr>\n",
       "    <tr>\n",
       "      <th>2</th>\n",
       "      <td>1000</td>\n",
       "      <td>Краснодар</td>\n",
       "      <td>Рафаил</td>\n",
       "      <td>Верещагин</td>\n",
       "      <td>ultra</td>\n",
       "      <td>7</td>\n",
       "      <td>1950</td>\n",
       "    </tr>\n",
       "    <tr>\n",
       "      <th>3</th>\n",
       "      <td>1000</td>\n",
       "      <td>Краснодар</td>\n",
       "      <td>Рафаил</td>\n",
       "      <td>Верещагин</td>\n",
       "      <td>ultra</td>\n",
       "      <td>8</td>\n",
       "      <td>1950</td>\n",
       "    </tr>\n",
       "    <tr>\n",
       "      <th>4</th>\n",
       "      <td>1000</td>\n",
       "      <td>Краснодар</td>\n",
       "      <td>Рафаил</td>\n",
       "      <td>Верещагин</td>\n",
       "      <td>ultra</td>\n",
       "      <td>9</td>\n",
       "      <td>1950</td>\n",
       "    </tr>\n",
       "  </tbody>\n",
       "</table>\n",
       "</div>"
      ],
      "text/plain": [
       "   user_id       city first_name  last_name tariff  month  monthly_revenue\n",
       "0     1000  Краснодар     Рафаил  Верещагин  ultra      5             1950\n",
       "1     1000  Краснодар     Рафаил  Верещагин  ultra      6             1950\n",
       "2     1000  Краснодар     Рафаил  Верещагин  ultra      7             1950\n",
       "3     1000  Краснодар     Рафаил  Верещагин  ultra      8             1950\n",
       "4     1000  Краснодар     Рафаил  Верещагин  ultra      9             1950"
      ]
     },
     "metadata": {},
     "output_type": "display_data"
    }
   ],
   "source": [
    "tariff_smart_stat = tariff_smart_stat[['user_id', 'city', 'first_name', 'last_name', 'tariff', 'month', 'monthly_revenue']]\n",
    "tariff_ultra_stat = tariff_ultra_stat[['user_id', 'city', 'first_name', 'last_name', 'tariff', 'month', 'monthly_revenue']]\n",
    "display(tariff_smart_stat.head(5))\n",
    "display(tariff_ultra_stat.head(5))"
   ]
  },
  {
   "cell_type": "markdown",
   "metadata": {},
   "source": [
    "### Проверка нормальности распределения средней выручки по тарифам"
   ]
  },
  {
   "cell_type": "markdown",
   "metadata": {},
   "source": [
    "Сначала проверим нормальности распределения средней выручки пользователей по тарифам:"
   ]
  },
  {
   "cell_type": "code",
   "execution_count": 39,
   "metadata": {
    "scrolled": true
   },
   "outputs": [
    {
     "data": {
      "image/png": "[encoded data removed]",
      "text/plain": [
       "<Figure size 432x288 with 1 Axes>"
      ]
     },
     "metadata": {
      "needs_background": "light"
     },
     "output_type": "display_data"
    }
   ],
   "source": [
    "sns.distplot(tariff_smart_stat['monthly_revenue'], label='Smart');\n",
    "sns.distplot(tariff_ultra_stat['monthly_revenue'], label='Ultra');\n",
    "plt.title(\"Проверка нормальности распределения средней выручки пользователей по тарифам\")\n",
    "plt.xlabel(\"Месячная выручка, руб.\")\n",
    "plt.ylabel(\"Частота появления\")\n",
    "plt.legend() \n",
    "plt.show(); "
   ]
  },
  {
   "cell_type": "markdown",
   "metadata": {},
   "source": [
    "**Проверка распределения при помощи QQ-графиков**"
   ]
  },
  {
   "cell_type": "code",
   "execution_count": 40,
   "metadata": {},
   "outputs": [
    {
     "data": {
      "image/png": "[encoded data removed]",
      "text/plain": [
       "<Figure size 864x576 with 2 Axes>"
      ]
     },
     "metadata": {
      "needs_background": "light"
     },
     "output_type": "display_data"
    }
   ],
   "source": [
    "plt.figure(figsize =(12,8))\n",
    "plt.subplot(2,2,1)\n",
    "st.probplot(tariff_smart_stat['monthly_revenue'], dist=\"norm\", plot=plt)\n",
    "plt.subplot(2,2,2)\n",
    "st.probplot(tariff_ultra_stat['monthly_revenue'], dist=\"norm\", plot=plt)\n",
    "plt.show()"
   ]
  },
  {
   "cell_type": "markdown",
   "metadata": {},
   "source": [
    "В соответствии с графиками делаем вывод, что средние выручки пользователей распределены не нормально."
   ]
  },
  {
   "cell_type": "markdown",
   "metadata": {},
   "source": [
    "**Проверка при помощи критерия Шапиро-Уилка:**"
   ]
  },
  {
   "cell_type": "markdown",
   "metadata": {},
   "source": [
    "Критерий Шапиро-Уилка:\n",
    "\n",
    "$$\n",
    "\\left\\{\n",
    "    \\begin{array}\\\\\n",
    "        H_{0}: {Средние \\ выручки \\ пользователей \\ распределены \\ нормально.}\\\\\n",
    "        H_{1}: {Средние \\ выручки \\ пользователей \\ распределены \\ не \\ нормально.}\n",
    "    \\end{array}\n",
    "\\right.\n",
    "$$"
   ]
  },
  {
   "cell_type": "code",
   "execution_count": 41,
   "metadata": {},
   "outputs": [
    {
     "name": "stdout",
     "output_type": "stream",
     "text": [
      "W-statistic: 0.843990, p-value: 0.000000\n",
      "W-statistic: 0.370645, p-value: 0.000000\n"
     ]
    }
   ],
   "source": [
    "print(\"W-statistic: %f, p-value: %f\" % st.shapiro(tariff_smart_stat['monthly_revenue']))\n",
    "print(\"W-statistic: %f, p-value: %f\" % st.shapiro(tariff_ultra_stat['monthly_revenue']))"
   ]
  },
  {
   "cell_type": "markdown",
   "metadata": {},
   "source": [
    "Отвергаем нулевую гипотезу: распределения не являются нормальными."
   ]
  },
  {
   "cell_type": "markdown",
   "metadata": {},
   "source": [
    "### Двухсторонняя проверка: средняя выручка пользователей тарифов «Ультра» и «Смарт» различаются"
   ]
  },
  {
   "cell_type": "markdown",
   "metadata": {},
   "source": [
    "Введем основную и альтернативную гипотезы:"
   ]
  },
  {
   "cell_type": "markdown",
   "metadata": {},
   "source": [
    "$$\n",
    "\\left\\{\n",
    "    \\begin{array}\\\\\n",
    "        H_{0}: {Средняя \\ выручка \\ пользователей \\ тарифов \\ «Ультра» \\ и \\ «Смарт» \\ одинакова.}\\\\\n",
    "        H_{1}: {Средняя \\ выручка \\ пользователей \\ тарифов \\ «Ультра» \\ и \\ «Смарт» \\ различаются.}\n",
    "    \\end{array}\n",
    "\\right.\n",
    "$$"
   ]
  },
  {
   "cell_type": "markdown",
   "metadata": {},
   "source": [
    "Уровень значимости: α = 0.05\n",
    "\n",
    "Посчитаем p-value, используя ttest из библиотеки scipy для сравнения средних двух независимых выборок.\n",
    "\n",
    "Если p-value будет меньше α, то нулевую гипотезу о равенстве средних выручек пользователей отвергаем. Иначе сделаем вывод, что данные не позволили нам отвергнуть нулевую гипотезу.\n",
    "\n",
    "Применим ttest к выручкам по тарифу «Ультра» и «Смарт»:"
   ]
  },
  {
   "cell_type": "code",
   "execution_count": 42,
   "metadata": {},
   "outputs": [
    {
     "name": "stdout",
     "output_type": "stream",
     "text": [
      "p-значение: 1.0524028399519643e-243\n",
      "Отвергаем нулевую гипотезу\n"
     ]
    }
   ],
   "source": [
    "alpha = 0.05\n",
    "\n",
    "results = st.ttest_ind(tariff_smart_stat['monthly_revenue'], tariff_ultra_stat['monthly_revenue'], equal_var=False)\n",
    "print(\"p-значение:\", results.pvalue)\n",
    "\n",
    "if results.pvalue < alpha:\n",
    "    print(\"Отвергаем нулевую гипотезу\")\n",
    "else:\n",
    "    print(\"Не получилось отвергнуть нулевую гипотезу\")"
   ]
  },
  {
   "cell_type": "markdown",
   "metadata": {},
   "source": [
    "Также проверим гипотезу с помощью непараметрического теста Мана-Уитни:"
   ]
  },
  {
   "cell_type": "code",
   "execution_count": 43,
   "metadata": {},
   "outputs": [
    {
     "name": "stdout",
     "output_type": "stream",
     "text": [
      "p-значение: 3.993470384190396e-183\n",
      "Отвергаем нулевую гипотезу\n"
     ]
    }
   ],
   "source": [
    "alpha = 0.05\n",
    "\n",
    "results = st.mannwhitneyu(tariff_smart_stat['monthly_revenue'], tariff_ultra_stat['monthly_revenue'])\n",
    "print(\"p-значение:\", results.pvalue)\n",
    "\n",
    "if results.pvalue < alpha:\n",
    "    print(\"Отвергаем нулевую гипотезу\")\n",
    "else:\n",
    "    print(\"Не получилось отвергнуть нулевую гипотезу\")"
   ]
  },
  {
   "cell_type": "markdown",
   "metadata": {},
   "source": [
    "**Вывод:** p-value получилось меньше выбранного уровня α = 0.05. Поэтому отвергаем нулевую гипотезу: средняя выручка пользователей тарифов «Ультра» и «Смарт» различаются."
   ]
  },
  {
   "cell_type": "markdown",
   "metadata": {},
   "source": [
    "### Односторонняя проверка: средняя выручка пользователей тарифа «Ультра» больше средней выручки пользователей тарифа «Смарт»"
   ]
  },
  {
   "cell_type": "markdown",
   "metadata": {},
   "source": [
    "Введем основную и альтернативную гипотезы:"
   ]
  },
  {
   "cell_type": "markdown",
   "metadata": {},
   "source": [
    "$$\n",
    "\\left\\{\n",
    "    \\begin{array}\\\\\n",
    "        H_{0}: {Средняя \\ выручка \\ пользователей \\ тарифов \\ «Ультра» \\ и \\ «Смарт» \\ одинакова.}\\\\\n",
    "        H_{1}: {Средняя \\ выручка \\ пользователей \\ тарифа \\ «Ультра» \\ больше \\ средней \\ выручки \\ пользователей \\ тарифа\\ «Смарт».}\n",
    "    \\end{array}\n",
    "\\right.\n",
    "$$"
   ]
  },
  {
   "cell_type": "markdown",
   "metadata": {},
   "source": [
    "Уровень значимости: α = 0.05\n",
    "\n",
    "Посчитаем p-value, используя ttest из библиотеки scipy для сравнения средних двух независимых выборок.\n",
    "\n",
    "Если p-value будет меньше α, то нулевую гипотезу о равенстве средних выручек пользователей отвергаем. Иначе сделаем вывод, что данные не позволили нам отвергнуть нулевую гипотезу.\n",
    "\n"
   ]
  },
  {
   "cell_type": "code",
   "execution_count": 44,
   "metadata": {},
   "outputs": [
    {
     "name": "stdout",
     "output_type": "stream",
     "text": [
      "p-значение: 5.2620141997598215e-244\n",
      "Отвергаем нулевую гипотезу\n"
     ]
    }
   ],
   "source": [
    "alpha = 0.05\n",
    "\n",
    "results = st.ttest_ind(tariff_ultra_stat['monthly_revenue'], tariff_smart_stat['monthly_revenue'], equal_var=False)\n",
    "print(\"p-значение:\", results.pvalue / 2)\n",
    "\n",
    "if (results.pvalue / 2 < alpha) and (tariff_ultra_stat['monthly_revenue'].mean() > tariff_smart_stat['monthly_revenue'].mean()):\n",
    "    print(\"Отвергаем нулевую гипотезу\")\n",
    "else:\n",
    "    print(\"Не получилось отвергнуть нулевую гипотезу\")"
   ]
  },
  {
   "cell_type": "markdown",
   "metadata": {},
   "source": [
    "Проверим вторым способом: применим ttest к выручкам по тарифу «Ультра» и «Смарт» и используем параметр alternative = 'greater'."
   ]
  },
  {
   "cell_type": "code",
   "execution_count": 45,
   "metadata": {},
   "outputs": [
    {
     "name": "stdout",
     "output_type": "stream",
     "text": [
      "p-значение: 5.2620141997598215e-244\n",
      "Отвергаем нулевую гипотезу\n"
     ]
    }
   ],
   "source": [
    "alpha = 0.05\n",
    "\n",
    "results = st.ttest_ind(tariff_ultra_stat['monthly_revenue'], tariff_smart_stat['monthly_revenue'], equal_var=False, alternative ='greater')\n",
    "print(\"p-значение:\", results.pvalue)\n",
    "\n",
    "if results.pvalue < alpha:\n",
    "    print(\"Отвергаем нулевую гипотезу\")\n",
    "else:\n",
    "    print(\"Не получилось отвергнуть нулевую гипотезу\")"
   ]
  },
  {
   "cell_type": "markdown",
   "metadata": {},
   "source": [
    "**Вывод:** p-value получилось меньше выбранного уровня α = 0.05. Поэтому отвергаем нулевую гипотезу: средняя выручка пользователей тарифа «Ультра» больше средней выручки пользователей тарифа «Смарт»."
   ]
  },
  {
   "cell_type": "markdown",
   "metadata": {},
   "source": [
    "### Проверка нормальности распределения средней выручки пользователей из Москвы и из других городов"
   ]
  },
  {
   "cell_type": "markdown",
   "metadata": {},
   "source": [
    "Подготовим выборки для проверки гипотез:"
   ]
  },
  {
   "cell_type": "code",
   "execution_count": 46,
   "metadata": {},
   "outputs": [
    {
     "data": {
      "text/html": [
       "<div>\n",
       "<style scoped>\n",
       "    .dataframe tbody tr th:only-of-type {\n",
       "        vertical-align: middle;\n",
       "    }\n",
       "\n",
       "    .dataframe tbody tr th {\n",
       "        vertical-align: top;\n",
       "    }\n",
       "\n",
       "    .dataframe thead th {\n",
       "        text-align: right;\n",
       "    }\n",
       "</style>\n",
       "<table border=\"1\" class=\"dataframe\">\n",
       "  <thead>\n",
       "    <tr style=\"text-align: right;\">\n",
       "      <th></th>\n",
       "      <th>user_id</th>\n",
       "      <th>city</th>\n",
       "      <th>first_name</th>\n",
       "      <th>last_name</th>\n",
       "      <th>tariff</th>\n",
       "      <th>month</th>\n",
       "      <th>monthly_revenue</th>\n",
       "    </tr>\n",
       "  </thead>\n",
       "  <tbody>\n",
       "    <tr>\n",
       "      <th>8</th>\n",
       "      <td>1001</td>\n",
       "      <td>Москва</td>\n",
       "      <td>Иван</td>\n",
       "      <td>Ежов</td>\n",
       "      <td>smart</td>\n",
       "      <td>11</td>\n",
       "      <td>1150</td>\n",
       "    </tr>\n",
       "    <tr>\n",
       "      <th>9</th>\n",
       "      <td>1001</td>\n",
       "      <td>Москва</td>\n",
       "      <td>Иван</td>\n",
       "      <td>Ежов</td>\n",
       "      <td>smart</td>\n",
       "      <td>12</td>\n",
       "      <td>550</td>\n",
       "    </tr>\n",
       "    <tr>\n",
       "      <th>17</th>\n",
       "      <td>1003</td>\n",
       "      <td>Москва</td>\n",
       "      <td>Белла</td>\n",
       "      <td>Белякова</td>\n",
       "      <td>ultra</td>\n",
       "      <td>8</td>\n",
       "      <td>1950</td>\n",
       "    </tr>\n",
       "    <tr>\n",
       "      <th>18</th>\n",
       "      <td>1003</td>\n",
       "      <td>Москва</td>\n",
       "      <td>Белла</td>\n",
       "      <td>Белякова</td>\n",
       "      <td>ultra</td>\n",
       "      <td>9</td>\n",
       "      <td>1950</td>\n",
       "    </tr>\n",
       "    <tr>\n",
       "      <th>19</th>\n",
       "      <td>1003</td>\n",
       "      <td>Москва</td>\n",
       "      <td>Белла</td>\n",
       "      <td>Белякова</td>\n",
       "      <td>ultra</td>\n",
       "      <td>10</td>\n",
       "      <td>1950</td>\n",
       "    </tr>\n",
       "  </tbody>\n",
       "</table>\n",
       "</div>"
      ],
      "text/plain": [
       "    user_id    city first_name last_name tariff  month  monthly_revenue\n",
       "8      1001  Москва       Иван      Ежов  smart     11             1150\n",
       "9      1001  Москва       Иван      Ежов  smart     12              550\n",
       "17     1003  Москва      Белла  Белякова  ultra      8             1950\n",
       "18     1003  Москва      Белла  Белякова  ultra      9             1950\n",
       "19     1003  Москва      Белла  Белякова  ultra     10             1950"
      ]
     },
     "metadata": {},
     "output_type": "display_data"
    },
    {
     "data": {
      "text/html": [
       "<div>\n",
       "<style scoped>\n",
       "    .dataframe tbody tr th:only-of-type {\n",
       "        vertical-align: middle;\n",
       "    }\n",
       "\n",
       "    .dataframe tbody tr th {\n",
       "        vertical-align: top;\n",
       "    }\n",
       "\n",
       "    .dataframe thead th {\n",
       "        text-align: right;\n",
       "    }\n",
       "</style>\n",
       "<table border=\"1\" class=\"dataframe\">\n",
       "  <thead>\n",
       "    <tr style=\"text-align: right;\">\n",
       "      <th></th>\n",
       "      <th>user_id</th>\n",
       "      <th>city</th>\n",
       "      <th>first_name</th>\n",
       "      <th>last_name</th>\n",
       "      <th>tariff</th>\n",
       "      <th>month</th>\n",
       "      <th>monthly_revenue</th>\n",
       "    </tr>\n",
       "  </thead>\n",
       "  <tbody>\n",
       "    <tr>\n",
       "      <th>0</th>\n",
       "      <td>1000</td>\n",
       "      <td>Краснодар</td>\n",
       "      <td>Рафаил</td>\n",
       "      <td>Верещагин</td>\n",
       "      <td>ultra</td>\n",
       "      <td>5</td>\n",
       "      <td>1950</td>\n",
       "    </tr>\n",
       "    <tr>\n",
       "      <th>1</th>\n",
       "      <td>1000</td>\n",
       "      <td>Краснодар</td>\n",
       "      <td>Рафаил</td>\n",
       "      <td>Верещагин</td>\n",
       "      <td>ultra</td>\n",
       "      <td>6</td>\n",
       "      <td>1950</td>\n",
       "    </tr>\n",
       "    <tr>\n",
       "      <th>2</th>\n",
       "      <td>1000</td>\n",
       "      <td>Краснодар</td>\n",
       "      <td>Рафаил</td>\n",
       "      <td>Верещагин</td>\n",
       "      <td>ultra</td>\n",
       "      <td>7</td>\n",
       "      <td>1950</td>\n",
       "    </tr>\n",
       "    <tr>\n",
       "      <th>3</th>\n",
       "      <td>1000</td>\n",
       "      <td>Краснодар</td>\n",
       "      <td>Рафаил</td>\n",
       "      <td>Верещагин</td>\n",
       "      <td>ultra</td>\n",
       "      <td>8</td>\n",
       "      <td>1950</td>\n",
       "    </tr>\n",
       "    <tr>\n",
       "      <th>4</th>\n",
       "      <td>1000</td>\n",
       "      <td>Краснодар</td>\n",
       "      <td>Рафаил</td>\n",
       "      <td>Верещагин</td>\n",
       "      <td>ultra</td>\n",
       "      <td>9</td>\n",
       "      <td>1950</td>\n",
       "    </tr>\n",
       "  </tbody>\n",
       "</table>\n",
       "</div>"
      ],
      "text/plain": [
       "   user_id       city first_name  last_name tariff  month  monthly_revenue\n",
       "0     1000  Краснодар     Рафаил  Верещагин  ultra      5             1950\n",
       "1     1000  Краснодар     Рафаил  Верещагин  ultra      6             1950\n",
       "2     1000  Краснодар     Рафаил  Верещагин  ultra      7             1950\n",
       "3     1000  Краснодар     Рафаил  Верещагин  ultra      8             1950\n",
       "4     1000  Краснодар     Рафаил  Верещагин  ultra      9             1950"
      ]
     },
     "metadata": {},
     "output_type": "display_data"
    }
   ],
   "source": [
    "#разделим full_stat на две выборки в зависмости от тарифа\n",
    "moscow_stat = full_stat.query('city == \"Москва\"')\n",
    "other_cities_stat = full_stat.query('city != \"Москва\"')\n",
    "\n",
    "#уберем лишние столбцы\n",
    "moscow_stat = moscow_stat[['user_id', 'city', 'first_name', 'last_name', 'tariff', 'month', 'monthly_revenue']]\n",
    "other_cities_stat = other_cities_stat[['user_id', 'city', 'first_name', 'last_name', 'tariff', 'month', 'monthly_revenue']]\n",
    "\n",
    "display(moscow_stat.head(5))\n",
    "display(other_cities_stat.head(5))"
   ]
  },
  {
   "cell_type": "markdown",
   "metadata": {},
   "source": [
    "Проверим нормальности распределения средней выручки пользователей из Москвы и из других городов:"
   ]
  },
  {
   "cell_type": "code",
   "execution_count": 47,
   "metadata": {},
   "outputs": [
    {
     "data": {
      "image/png": "[encoded data removed]",
      "text/plain": [
       "<Figure size 432x288 with 1 Axes>"
      ]
     },
     "metadata": {
      "needs_background": "light"
     },
     "output_type": "display_data"
    }
   ],
   "source": [
    "sns.distplot(moscow_stat['monthly_revenue'], label='Moscow');\n",
    "sns.distplot(other_cities_stat['monthly_revenue'], label='Other cities')\n",
    "plt.title(\"Проверка нормальности распределения средней выручки пользователей из Москвы и из других городов\")\n",
    "plt.xlabel(\"Месячная выручка, руб.\")\n",
    "plt.ylabel(\"Частота появления\")\n",
    "plt.legend() \n",
    "plt.show(); "
   ]
  },
  {
   "cell_type": "markdown",
   "metadata": {},
   "source": [
    "**Проверка распределения при помощи QQ-графиков**"
   ]
  },
  {
   "cell_type": "code",
   "execution_count": 48,
   "metadata": {},
   "outputs": [
    {
     "data": {
      "image/png": "[encoded data removed]",
      "text/plain": [
       "<Figure size 864x576 with 2 Axes>"
      ]
     },
     "metadata": {
      "needs_background": "light"
     },
     "output_type": "display_data"
    }
   ],
   "source": [
    "plt.figure(figsize =(12,8))\n",
    "plt.subplot(2,2,1)\n",
    "st.probplot(moscow_stat['monthly_revenue'], dist=\"norm\", plot=plt)\n",
    "plt.subplot(2,2,2)\n",
    "st.probplot(other_cities_stat['monthly_revenue'], dist=\"norm\", plot=plt)\n",
    "plt.show()"
   ]
  },
  {
   "cell_type": "markdown",
   "metadata": {},
   "source": [
    "В соответствии с графиками делаем вывод, что средние выручки пользователей распределены не нормально."
   ]
  },
  {
   "cell_type": "markdown",
   "metadata": {},
   "source": [
    "**Проверка при помощи критерия Шапиро-Уилка:**"
   ]
  },
  {
   "cell_type": "markdown",
   "metadata": {},
   "source": [
    "Критерий Шапиро-Уилка:\n",
    "\n",
    "$$\n",
    "\\left\\{\n",
    "    \\begin{array}\\\\\n",
    "        H_{0}: {Средние \\ выручки \\ пользователей \\ распределены \\ нормально.}\\\\\n",
    "        H_{1}: {Средние \\ выручки \\ пользователей \\ распределены \\ не \\ нормально.}\n",
    "    \\end{array}\n",
    "\\right.\n",
    "$$"
   ]
  },
  {
   "cell_type": "code",
   "execution_count": 49,
   "metadata": {},
   "outputs": [
    {
     "name": "stdout",
     "output_type": "stream",
     "text": [
      "W-statistic: 0.902852, p-value: 0.000000\n",
      "W-statistic: 0.895877, p-value: 0.000000\n"
     ]
    }
   ],
   "source": [
    "print(\"W-statistic: %f, p-value: %f\" % st.shapiro(moscow_stat['monthly_revenue']))\n",
    "print(\"W-statistic: %f, p-value: %f\" % st.shapiro(other_cities_stat['monthly_revenue']))"
   ]
  },
  {
   "cell_type": "markdown",
   "metadata": {},
   "source": [
    "Отвергаем нулевую гипотезу: распределения не являются нормальными."
   ]
  },
  {
   "cell_type": "markdown",
   "metadata": {},
   "source": [
    "### Двухсторонняя проверка: средняя выручка пользователей из Москвы отличается от выручки пользователей из других регионов"
   ]
  },
  {
   "cell_type": "markdown",
   "metadata": {},
   "source": [
    "Введем основную и альтернативную гипотезы:"
   ]
  },
  {
   "cell_type": "markdown",
   "metadata": {},
   "source": [
    "$$\n",
    "\\left\\{\n",
    "    \\begin{array}\\\\\n",
    "        H_{0}: {Средняя \\ выручка \\ пользователей \\ из \\ Москвы \\ и \\ из \\ других \\ регионов \\ одинакова.}\\\\\n",
    "        H_{1}: {Средняя \\ выручка \\ пользователей \\ из \\ Москвы \\ отличается \\ от \\ выручки \\ пользователей \\ из \\ других \\ регионов.}\n",
    "    \\end{array}\n",
    "\\right.\n",
    "$$"
   ]
  },
  {
   "cell_type": "markdown",
   "metadata": {},
   "source": [
    "Уровень значимости: α = 0.05\n",
    "\n",
    "Посчитаем p-value, используя ttest из библиотеки scipy для сравнения средних двух независимых выборок.\n",
    "\n",
    "Если p-value будет меньше α, то нулевую гипотезу о равенстве средних отвергаем. Иначе сделаем вывод, что данные не позволили нам отвергнуть нулевую гипотезу.\n",
    "\n",
    "Применим ttest к выручкам пользователей из Москвы и из других городов:"
   ]
  },
  {
   "cell_type": "code",
   "execution_count": 50,
   "metadata": {
    "scrolled": true
   },
   "outputs": [
    {
     "name": "stdout",
     "output_type": "stream",
     "text": [
      "p-значение: 0.4429886874790373\n",
      "Не получилось отвергнуть нулевую гипотезу\n"
     ]
    }
   ],
   "source": [
    "alpha = 0.05\n",
    "\n",
    "results = st.ttest_ind(moscow_stat['monthly_revenue'], other_cities_stat['monthly_revenue'], equal_var=False)\n",
    "print(\"p-значение:\", results.pvalue)\n",
    "\n",
    "if results.pvalue < alpha:\n",
    "    print(\"Отвергаем нулевую гипотезу\")\n",
    "else:\n",
    "    print(\"Не получилось отвергнуть нулевую гипотезу\")"
   ]
  },
  {
   "cell_type": "markdown",
   "metadata": {},
   "source": [
    "**Вывод:** p-value получилось больше выбранного уровня α = 0.05. Поэтому данные не позволили нам отвергнуть нулевую гипотезу: средняя выручка пользователей из Москвы и из других городов отличается, но с большой вероятностью такое различие можно получить случайно."
   ]
  },
  {
   "cell_type": "markdown",
   "metadata": {},
   "source": [
    "### Вывод:"
   ]
  },
  {
   "cell_type": "markdown",
   "metadata": {},
   "source": [
    "На основании проведенного исследования мы мы получили следующие результаты относительно поведения клиентов сотового оператора:\n",
    "* Пользователи тарифа «Смарт», в среднем, общаются 425 минут в месяц, а пользователи тарифа «Ультра» - 533 минут в месяц.\n",
    "* Большинство пользователей обоих тарифов не отправляют сообщения. По остальным статистика такова: пользователи тарифа «Смарт», в среднем, отправляют 28 сообщений в месяц, а тарифа «Ультра» - 39 сообщений в месяц.\n",
    "* Пользователи тарифа «Смарт», в среднем, потребляют 17 Гб траффика в месяц, а пользователи тарифа «Ультра» - 20 Гб в месяц.\n",
    "* На имеющихся данных, на уровне значимости 5%, есть основания отвергнуть нулевую гипотезу: средняя выручка пользователей тарифов «Ультра» и «Смарт» различаются.\n",
    "* На имеющихся данных, на уровне значимости 5%, есть основания отвергнуть нулевую гипотезу: средняя выручка пользователей тарифа «Ультра» больше средней выручки пользователей тарифа «Смарт».\n",
    "* На имеющихся данных, на уровне значимости 5%, есть основание не от отвергать нулевую гипотезу: средняя выручка пользователей из Москвы и из других городов отличается, однако с большой вероятностью такое различие можно получить случайно."
   ]
  },
  {
   "cell_type": "markdown",
   "metadata": {},
   "source": [
    "## Общий вывод"
   ]
  },
  {
   "cell_type": "markdown",
   "metadata": {},
   "source": [
    "Для корректировки рекламного бюджета и подготовки ответа для коммерческого департамента сотового оператора мы использовали входные данные со статистикой 500 пользователей оператора за год.\n",
    "\n",
    "Данные были проверены на наличие ошибок и оценки их влияния на исследование. Далее была выполнена предобработка данных, которая в себя включала поиск и заполнение пропущенных значений, а также поиск и обработку ошибок. \n",
    "\n",
    "После этого был проведен исследовательский анализ данных и проверены гипотезы: вывод с описанием полученных результатов доступен для каждого этапа исследования.\n",
    "\n",
    "**Рекомендации коммерческому департаменту:** \n",
    "\n",
    "На имеющихся данных, на уровне значимости 5%, есть основания отвергнуть нулевую гипотезу в пользу альтернативы. Средняя выручка пользователей тарифа «Ультра» больше средней выручки пользователей тарифа «Смарт»."
   ]
  },
  {
   "cell_type": "code",
   "execution_count": null,
   "metadata": {},
   "outputs": [],
   "source": []
  }
 ],
 "metadata": {
  "ExecuteTimeLog": [
   {
    "duration": 1394,
    "start_time": "2022-05-23T03:37:44.908Z"
   },
   {
    "duration": 214,
    "start_time": "2022-05-23T03:37:58.781Z"
   },
   {
    "duration": 198,
    "start_time": "2022-05-23T03:38:14.470Z"
   },
   {
    "duration": 645,
    "start_time": "2022-05-23T03:40:28.406Z"
   },
   {
    "duration": 653,
    "start_time": "2022-05-23T03:40:46.018Z"
   },
   {
    "duration": 551,
    "start_time": "2022-05-23T03:41:13.090Z"
   },
   {
    "duration": 408,
    "start_time": "2022-05-23T03:42:47.200Z"
   },
   {
    "duration": 34,
    "start_time": "2022-05-23T03:42:47.611Z"
   },
   {
    "duration": 25,
    "start_time": "2022-05-23T03:42:47.647Z"
   },
   {
    "duration": 19,
    "start_time": "2022-05-23T03:42:47.674Z"
   },
   {
    "duration": 53,
    "start_time": "2022-05-23T03:42:47.695Z"
   },
   {
    "duration": 194,
    "start_time": "2022-05-23T03:44:53.598Z"
   },
   {
    "duration": 173,
    "start_time": "2022-05-23T03:44:53.794Z"
   },
   {
    "duration": 106,
    "start_time": "2022-05-23T03:44:53.968Z"
   },
   {
    "duration": 21,
    "start_time": "2022-05-23T03:44:54.075Z"
   },
   {
    "duration": 49,
    "start_time": "2022-05-23T03:44:54.098Z"
   },
   {
    "duration": 6,
    "start_time": "2022-05-23T04:38:55.928Z"
   },
   {
    "duration": 9,
    "start_time": "2022-05-23T05:39:34.626Z"
   },
   {
    "duration": 39,
    "start_time": "2022-05-23T05:39:46.688Z"
   },
   {
    "duration": 35,
    "start_time": "2022-05-23T05:40:05.557Z"
   },
   {
    "duration": 24,
    "start_time": "2022-05-23T05:40:26.808Z"
   },
   {
    "duration": 48,
    "start_time": "2022-05-23T05:40:36.334Z"
   },
   {
    "duration": 201,
    "start_time": "2022-05-23T05:44:39.992Z"
   },
   {
    "duration": 184,
    "start_time": "2022-05-23T05:44:40.195Z"
   },
   {
    "duration": 113,
    "start_time": "2022-05-23T05:44:40.381Z"
   },
   {
    "duration": 39,
    "start_time": "2022-05-23T05:44:40.497Z"
   },
   {
    "duration": 51,
    "start_time": "2022-05-23T05:44:40.538Z"
   },
   {
    "duration": 125,
    "start_time": "2022-05-23T05:44:40.591Z"
   },
   {
    "duration": 200,
    "start_time": "2022-05-23T05:45:19.096Z"
   },
   {
    "duration": 177,
    "start_time": "2022-05-23T05:45:19.298Z"
   },
   {
    "duration": 110,
    "start_time": "2022-05-23T05:45:19.477Z"
   },
   {
    "duration": 24,
    "start_time": "2022-05-23T05:45:19.589Z"
   },
   {
    "duration": 51,
    "start_time": "2022-05-23T05:45:19.637Z"
   },
   {
    "duration": 127,
    "start_time": "2022-05-23T05:45:19.690Z"
   },
   {
    "duration": 120,
    "start_time": "2022-05-23T05:57:00.417Z"
   },
   {
    "duration": 54,
    "start_time": "2022-05-23T05:57:10.561Z"
   },
   {
    "duration": 54,
    "start_time": "2022-05-23T05:57:15.856Z"
   },
   {
    "duration": 12,
    "start_time": "2022-05-23T05:57:22.520Z"
   },
   {
    "duration": 38,
    "start_time": "2022-05-23T05:58:09.478Z"
   },
   {
    "duration": 8,
    "start_time": "2022-05-23T05:58:27.799Z"
   },
   {
    "duration": 31,
    "start_time": "2022-05-23T05:58:32.969Z"
   },
   {
    "duration": 128,
    "start_time": "2022-05-23T05:59:17.952Z"
   },
   {
    "duration": 908,
    "start_time": "2022-05-23T06:03:15.015Z"
   },
   {
    "duration": 100,
    "start_time": "2022-05-23T06:05:08.688Z"
   },
   {
    "duration": 401,
    "start_time": "2022-05-23T06:09:45.248Z"
   },
   {
    "duration": 33,
    "start_time": "2022-05-23T06:10:26.356Z"
   },
   {
    "duration": 101,
    "start_time": "2022-05-23T06:11:17.312Z"
   },
   {
    "duration": 17,
    "start_time": "2022-05-23T06:25:48.464Z"
   },
   {
    "duration": 14,
    "start_time": "2022-05-23T06:27:54.097Z"
   },
   {
    "duration": 179,
    "start_time": "2022-05-23T06:27:59.321Z"
   },
   {
    "duration": 153,
    "start_time": "2022-05-23T06:27:59.503Z"
   },
   {
    "duration": 116,
    "start_time": "2022-05-23T06:27:59.658Z"
   },
   {
    "duration": 22,
    "start_time": "2022-05-23T06:27:59.776Z"
   },
   {
    "duration": 41,
    "start_time": "2022-05-23T06:27:59.799Z"
   },
   {
    "duration": 66,
    "start_time": "2022-05-23T06:27:59.842Z"
   },
   {
    "duration": 88,
    "start_time": "2022-05-23T06:27:59.910Z"
   },
   {
    "duration": 10,
    "start_time": "2022-05-23T06:28:03.031Z"
   },
   {
    "duration": 28,
    "start_time": "2022-05-23T06:35:20.652Z"
   },
   {
    "duration": 173,
    "start_time": "2022-05-23T06:35:28.895Z"
   },
   {
    "duration": 13,
    "start_time": "2022-05-23T06:36:13.803Z"
   },
   {
    "duration": 186,
    "start_time": "2022-05-23T06:36:19.178Z"
   },
   {
    "duration": 144,
    "start_time": "2022-05-23T06:36:19.366Z"
   },
   {
    "duration": 105,
    "start_time": "2022-05-23T06:36:19.512Z"
   },
   {
    "duration": 28,
    "start_time": "2022-05-23T06:36:19.619Z"
   },
   {
    "duration": 30,
    "start_time": "2022-05-23T06:36:19.649Z"
   },
   {
    "duration": 13,
    "start_time": "2022-05-23T06:36:19.681Z"
   },
   {
    "duration": 0,
    "start_time": "2022-05-23T06:36:19.695Z"
   },
   {
    "duration": 0,
    "start_time": "2022-05-23T06:36:19.697Z"
   },
   {
    "duration": 1434,
    "start_time": "2022-05-23T15:10:58.759Z"
   },
   {
    "duration": 435,
    "start_time": "2022-05-23T15:11:00.195Z"
   },
   {
    "duration": 159,
    "start_time": "2022-05-23T15:11:00.634Z"
   },
   {
    "duration": 48,
    "start_time": "2022-05-23T15:11:00.795Z"
   },
   {
    "duration": 71,
    "start_time": "2022-05-23T15:11:00.844Z"
   },
   {
    "duration": 112,
    "start_time": "2022-05-23T15:11:01.809Z"
   },
   {
    "duration": 198,
    "start_time": "2022-05-23T15:11:38.994Z"
   },
   {
    "duration": 186,
    "start_time": "2022-05-23T15:11:39.195Z"
   },
   {
    "duration": 123,
    "start_time": "2022-05-23T15:11:39.383Z"
   },
   {
    "duration": 33,
    "start_time": "2022-05-23T15:11:39.508Z"
   },
   {
    "duration": 40,
    "start_time": "2022-05-23T15:11:39.542Z"
   },
   {
    "duration": 82,
    "start_time": "2022-05-23T15:11:40.654Z"
   },
   {
    "duration": 48,
    "start_time": "2022-05-23T15:15:59.763Z"
   },
   {
    "duration": 110,
    "start_time": "2022-05-23T15:16:04.663Z"
   },
   {
    "duration": 0,
    "start_time": "2022-05-23T15:16:04.775Z"
   },
   {
    "duration": 0,
    "start_time": "2022-05-23T15:16:04.777Z"
   },
   {
    "duration": 0,
    "start_time": "2022-05-23T15:16:04.779Z"
   },
   {
    "duration": 0,
    "start_time": "2022-05-23T15:16:04.780Z"
   },
   {
    "duration": 0,
    "start_time": "2022-05-23T15:16:04.782Z"
   },
   {
    "duration": 51,
    "start_time": "2022-05-23T15:16:08.973Z"
   },
   {
    "duration": 15,
    "start_time": "2022-05-23T15:16:24.699Z"
   },
   {
    "duration": 0,
    "start_time": "2022-05-23T15:16:24.717Z"
   },
   {
    "duration": 0,
    "start_time": "2022-05-23T15:16:24.718Z"
   },
   {
    "duration": 0,
    "start_time": "2022-05-23T15:16:24.719Z"
   },
   {
    "duration": 0,
    "start_time": "2022-05-23T15:16:24.720Z"
   },
   {
    "duration": 126,
    "start_time": "2022-05-23T15:16:26.245Z"
   },
   {
    "duration": 13,
    "start_time": "2022-05-23T15:16:39.985Z"
   },
   {
    "duration": 0,
    "start_time": "2022-05-23T15:16:40.001Z"
   },
   {
    "duration": 0,
    "start_time": "2022-05-23T15:16:40.002Z"
   },
   {
    "duration": 0,
    "start_time": "2022-05-23T15:16:40.003Z"
   },
   {
    "duration": 0,
    "start_time": "2022-05-23T15:16:40.005Z"
   },
   {
    "duration": 45,
    "start_time": "2022-05-23T15:16:42.359Z"
   },
   {
    "duration": 14,
    "start_time": "2022-05-23T15:16:59.078Z"
   },
   {
    "duration": 0,
    "start_time": "2022-05-23T15:16:59.094Z"
   },
   {
    "duration": 0,
    "start_time": "2022-05-23T15:16:59.095Z"
   },
   {
    "duration": 0,
    "start_time": "2022-05-23T15:16:59.096Z"
   },
   {
    "duration": 0,
    "start_time": "2022-05-23T15:16:59.098Z"
   },
   {
    "duration": 59,
    "start_time": "2022-05-23T15:17:00.598Z"
   },
   {
    "duration": 14,
    "start_time": "2022-05-23T15:17:15.908Z"
   },
   {
    "duration": 0,
    "start_time": "2022-05-23T15:17:15.923Z"
   },
   {
    "duration": 0,
    "start_time": "2022-05-23T15:17:15.925Z"
   },
   {
    "duration": 0,
    "start_time": "2022-05-23T15:17:15.926Z"
   },
   {
    "duration": 0,
    "start_time": "2022-05-23T15:17:15.930Z"
   },
   {
    "duration": 114,
    "start_time": "2022-05-23T15:17:20.758Z"
   },
   {
    "duration": 15,
    "start_time": "2022-05-23T15:17:40.510Z"
   },
   {
    "duration": 0,
    "start_time": "2022-05-23T15:17:40.530Z"
   },
   {
    "duration": 0,
    "start_time": "2022-05-23T15:17:40.531Z"
   },
   {
    "duration": 0,
    "start_time": "2022-05-23T15:17:40.533Z"
   },
   {
    "duration": 17,
    "start_time": "2022-05-23T15:17:40.552Z"
   },
   {
    "duration": 48,
    "start_time": "2022-05-23T15:17:42.298Z"
   },
   {
    "duration": 15,
    "start_time": "2022-05-23T15:17:57.876Z"
   },
   {
    "duration": 0,
    "start_time": "2022-05-23T15:17:57.893Z"
   },
   {
    "duration": 0,
    "start_time": "2022-05-23T15:17:57.894Z"
   },
   {
    "duration": 0,
    "start_time": "2022-05-23T15:17:57.895Z"
   },
   {
    "duration": 0,
    "start_time": "2022-05-23T15:17:57.897Z"
   },
   {
    "duration": 64,
    "start_time": "2022-05-23T15:17:59.502Z"
   },
   {
    "duration": 17,
    "start_time": "2022-05-23T15:18:28.449Z"
   },
   {
    "duration": 0,
    "start_time": "2022-05-23T15:18:28.468Z"
   },
   {
    "duration": 0,
    "start_time": "2022-05-23T15:18:28.470Z"
   },
   {
    "duration": 0,
    "start_time": "2022-05-23T15:18:28.471Z"
   },
   {
    "duration": 0,
    "start_time": "2022-05-23T15:18:28.471Z"
   },
   {
    "duration": 104,
    "start_time": "2022-05-23T15:18:29.492Z"
   },
   {
    "duration": 16,
    "start_time": "2022-05-23T15:18:58.358Z"
   },
   {
    "duration": 0,
    "start_time": "2022-05-23T15:18:58.375Z"
   },
   {
    "duration": 0,
    "start_time": "2022-05-23T15:18:58.377Z"
   },
   {
    "duration": 19,
    "start_time": "2022-05-23T15:18:58.379Z"
   },
   {
    "duration": 0,
    "start_time": "2022-05-23T15:18:58.400Z"
   },
   {
    "duration": 62,
    "start_time": "2022-05-23T15:18:59.904Z"
   },
   {
    "duration": 16,
    "start_time": "2022-05-23T15:19:33.456Z"
   },
   {
    "duration": 16,
    "start_time": "2022-05-23T15:22:09.059Z"
   },
   {
    "duration": 0,
    "start_time": "2022-05-23T15:22:09.078Z"
   },
   {
    "duration": 0,
    "start_time": "2022-05-23T15:22:09.079Z"
   },
   {
    "duration": 0,
    "start_time": "2022-05-23T15:22:09.080Z"
   },
   {
    "duration": 0,
    "start_time": "2022-05-23T15:22:09.082Z"
   },
   {
    "duration": 66,
    "start_time": "2022-05-23T15:22:09.090Z"
   },
   {
    "duration": 118,
    "start_time": "2022-05-23T15:22:09.158Z"
   },
   {
    "duration": 11,
    "start_time": "2022-05-23T15:22:09.278Z"
   },
   {
    "duration": 16,
    "start_time": "2022-05-23T15:22:59.787Z"
   },
   {
    "duration": 15,
    "start_time": "2022-05-23T15:23:33.591Z"
   },
   {
    "duration": 783,
    "start_time": "2022-05-23T15:24:58.659Z"
   },
   {
    "duration": 0,
    "start_time": "2022-05-23T15:24:59.444Z"
   },
   {
    "duration": 0,
    "start_time": "2022-05-23T15:24:59.445Z"
   },
   {
    "duration": 0,
    "start_time": "2022-05-23T15:24:59.447Z"
   },
   {
    "duration": 0,
    "start_time": "2022-05-23T15:24:59.448Z"
   },
   {
    "duration": 70,
    "start_time": "2022-05-23T15:25:51.322Z"
   },
   {
    "duration": 17,
    "start_time": "2022-05-23T15:27:23.558Z"
   },
   {
    "duration": 0,
    "start_time": "2022-05-23T15:27:23.577Z"
   },
   {
    "duration": 0,
    "start_time": "2022-05-23T15:27:23.578Z"
   },
   {
    "duration": 0,
    "start_time": "2022-05-23T15:27:23.579Z"
   },
   {
    "duration": 0,
    "start_time": "2022-05-23T15:27:23.580Z"
   },
   {
    "duration": 0,
    "start_time": "2022-05-23T15:27:23.582Z"
   },
   {
    "duration": 0,
    "start_time": "2022-05-23T15:27:23.583Z"
   },
   {
    "duration": 0,
    "start_time": "2022-05-23T15:27:23.584Z"
   },
   {
    "duration": 17,
    "start_time": "2022-05-23T15:27:42.920Z"
   },
   {
    "duration": 14,
    "start_time": "2022-05-23T15:27:57.078Z"
   },
   {
    "duration": 0,
    "start_time": "2022-05-23T15:30:13.548Z"
   },
   {
    "duration": 0,
    "start_time": "2022-05-23T15:30:13.550Z"
   },
   {
    "duration": 0,
    "start_time": "2022-05-23T15:30:13.551Z"
   },
   {
    "duration": 0,
    "start_time": "2022-05-23T15:30:13.552Z"
   },
   {
    "duration": 0,
    "start_time": "2022-05-23T15:30:13.553Z"
   },
   {
    "duration": 0,
    "start_time": "2022-05-23T15:30:13.554Z"
   },
   {
    "duration": 0,
    "start_time": "2022-05-23T15:30:13.555Z"
   },
   {
    "duration": 0,
    "start_time": "2022-05-23T15:30:13.556Z"
   },
   {
    "duration": 18,
    "start_time": "2022-05-23T15:30:22.525Z"
   },
   {
    "duration": 0,
    "start_time": "2022-05-23T15:30:22.545Z"
   },
   {
    "duration": 38,
    "start_time": "2022-05-23T15:30:22.562Z"
   },
   {
    "duration": 0,
    "start_time": "2022-05-23T15:30:22.602Z"
   },
   {
    "duration": 0,
    "start_time": "2022-05-23T15:30:22.604Z"
   },
   {
    "duration": 0,
    "start_time": "2022-05-23T15:30:22.606Z"
   },
   {
    "duration": 0,
    "start_time": "2022-05-23T15:30:22.607Z"
   },
   {
    "duration": 0,
    "start_time": "2022-05-23T15:30:22.609Z"
   },
   {
    "duration": 14,
    "start_time": "2022-05-23T15:31:27.598Z"
   },
   {
    "duration": 0,
    "start_time": "2022-05-23T15:31:27.614Z"
   },
   {
    "duration": 17,
    "start_time": "2022-05-23T15:31:27.620Z"
   },
   {
    "duration": 0,
    "start_time": "2022-05-23T15:31:27.641Z"
   },
   {
    "duration": 0,
    "start_time": "2022-05-23T15:31:27.643Z"
   },
   {
    "duration": 0,
    "start_time": "2022-05-23T15:31:27.644Z"
   },
   {
    "duration": 1,
    "start_time": "2022-05-23T15:31:27.644Z"
   },
   {
    "duration": 0,
    "start_time": "2022-05-23T15:31:27.647Z"
   },
   {
    "duration": 15,
    "start_time": "2022-05-23T15:32:26.658Z"
   },
   {
    "duration": 25,
    "start_time": "2022-05-23T15:34:38.950Z"
   },
   {
    "duration": 0,
    "start_time": "2022-05-23T15:34:38.978Z"
   },
   {
    "duration": 0,
    "start_time": "2022-05-23T15:34:38.979Z"
   },
   {
    "duration": 0,
    "start_time": "2022-05-23T15:34:38.980Z"
   },
   {
    "duration": 0,
    "start_time": "2022-05-23T15:34:38.982Z"
   },
   {
    "duration": 12,
    "start_time": "2022-05-23T15:34:39.000Z"
   },
   {
    "duration": 0,
    "start_time": "2022-05-23T15:34:39.014Z"
   },
   {
    "duration": 0,
    "start_time": "2022-05-23T15:34:39.015Z"
   },
   {
    "duration": 13,
    "start_time": "2022-05-23T15:38:50.697Z"
   },
   {
    "duration": 0,
    "start_time": "2022-05-23T15:38:50.712Z"
   },
   {
    "duration": 23,
    "start_time": "2022-05-23T15:38:50.745Z"
   },
   {
    "duration": 0,
    "start_time": "2022-05-23T15:38:50.769Z"
   },
   {
    "duration": 14,
    "start_time": "2022-05-23T15:38:50.776Z"
   },
   {
    "duration": 0,
    "start_time": "2022-05-23T15:38:50.792Z"
   },
   {
    "duration": 0,
    "start_time": "2022-05-23T15:38:50.793Z"
   },
   {
    "duration": 7,
    "start_time": "2022-05-23T15:38:50.877Z"
   },
   {
    "duration": 2232,
    "start_time": "2022-05-23T17:22:18.639Z"
   },
   {
    "duration": 557,
    "start_time": "2022-05-23T17:22:20.873Z"
   },
   {
    "duration": 369,
    "start_time": "2022-05-23T17:22:21.443Z"
   },
   {
    "duration": 84,
    "start_time": "2022-05-23T17:22:21.815Z"
   },
   {
    "duration": 135,
    "start_time": "2022-05-23T17:22:21.901Z"
   },
   {
    "duration": 113,
    "start_time": "2022-05-23T17:22:22.053Z"
   },
   {
    "duration": 116,
    "start_time": "2022-05-23T17:22:22.168Z"
   },
   {
    "duration": 54,
    "start_time": "2022-05-23T17:22:22.286Z"
   },
   {
    "duration": 256,
    "start_time": "2022-05-23T17:23:07.613Z"
   },
   {
    "duration": 192,
    "start_time": "2022-05-23T17:23:07.871Z"
   },
   {
    "duration": 126,
    "start_time": "2022-05-23T17:23:08.065Z"
   },
   {
    "duration": 41,
    "start_time": "2022-05-23T17:23:08.192Z"
   },
   {
    "duration": 43,
    "start_time": "2022-05-23T17:23:08.237Z"
   },
   {
    "duration": 119,
    "start_time": "2022-05-23T17:23:08.282Z"
   },
   {
    "duration": 132,
    "start_time": "2022-05-23T17:23:08.404Z"
   },
   {
    "duration": 8,
    "start_time": "2022-05-23T17:23:08.537Z"
   },
   {
    "duration": 289,
    "start_time": "2022-05-23T17:23:51.339Z"
   },
   {
    "duration": 240,
    "start_time": "2022-05-23T17:23:51.631Z"
   },
   {
    "duration": 112,
    "start_time": "2022-05-23T17:23:51.873Z"
   },
   {
    "duration": 35,
    "start_time": "2022-05-23T17:23:51.987Z"
   },
   {
    "duration": 42,
    "start_time": "2022-05-23T17:23:52.026Z"
   },
   {
    "duration": 95,
    "start_time": "2022-05-23T17:23:52.071Z"
   },
   {
    "duration": 118,
    "start_time": "2022-05-23T17:23:52.168Z"
   },
   {
    "duration": 28,
    "start_time": "2022-05-23T17:23:52.288Z"
   },
   {
    "duration": 205,
    "start_time": "2022-05-23T17:24:24.588Z"
   },
   {
    "duration": 187,
    "start_time": "2022-05-23T17:24:24.796Z"
   },
   {
    "duration": 160,
    "start_time": "2022-05-23T17:24:24.986Z"
   },
   {
    "duration": 33,
    "start_time": "2022-05-23T17:24:25.148Z"
   },
   {
    "duration": 78,
    "start_time": "2022-05-23T17:24:25.183Z"
   },
   {
    "duration": 131,
    "start_time": "2022-05-23T17:24:25.263Z"
   },
   {
    "duration": 123,
    "start_time": "2022-05-23T17:24:25.396Z"
   },
   {
    "duration": 11,
    "start_time": "2022-05-23T17:24:25.521Z"
   },
   {
    "duration": 196,
    "start_time": "2022-05-23T17:42:56.387Z"
   },
   {
    "duration": 165,
    "start_time": "2022-05-23T17:42:56.585Z"
   },
   {
    "duration": 111,
    "start_time": "2022-05-23T17:42:56.752Z"
   },
   {
    "duration": 27,
    "start_time": "2022-05-23T17:42:56.865Z"
   },
   {
    "duration": 62,
    "start_time": "2022-05-23T17:42:56.915Z"
   },
   {
    "duration": 54,
    "start_time": "2022-05-23T17:42:56.978Z"
   },
   {
    "duration": 0,
    "start_time": "2022-05-23T17:42:57.035Z"
   },
   {
    "duration": 0,
    "start_time": "2022-05-23T17:42:57.037Z"
   },
   {
    "duration": 199,
    "start_time": "2022-05-23T17:56:06.601Z"
   },
   {
    "duration": 163,
    "start_time": "2022-05-23T17:56:06.812Z"
   },
   {
    "duration": 112,
    "start_time": "2022-05-23T17:56:06.977Z"
   },
   {
    "duration": 43,
    "start_time": "2022-05-23T17:56:07.091Z"
   },
   {
    "duration": 48,
    "start_time": "2022-05-23T17:56:07.137Z"
   },
   {
    "duration": 102,
    "start_time": "2022-05-23T17:56:07.187Z"
   },
   {
    "duration": 126,
    "start_time": "2022-05-23T17:56:07.292Z"
   },
   {
    "duration": 11,
    "start_time": "2022-05-23T17:56:07.421Z"
   },
   {
    "duration": 219,
    "start_time": "2022-05-23T17:59:14.224Z"
   },
   {
    "duration": 175,
    "start_time": "2022-05-23T17:59:14.445Z"
   },
   {
    "duration": 132,
    "start_time": "2022-05-23T17:59:14.623Z"
   },
   {
    "duration": 33,
    "start_time": "2022-05-23T17:59:14.758Z"
   },
   {
    "duration": 50,
    "start_time": "2022-05-23T17:59:14.793Z"
   },
   {
    "duration": 100,
    "start_time": "2022-05-23T17:59:14.845Z"
   },
   {
    "duration": 93,
    "start_time": "2022-05-23T17:59:14.947Z"
   },
   {
    "duration": 10,
    "start_time": "2022-05-23T17:59:15.042Z"
   },
   {
    "duration": 37,
    "start_time": "2022-05-23T18:00:58.047Z"
   },
   {
    "duration": 4,
    "start_time": "2022-05-23T18:13:02.166Z"
   },
   {
    "duration": 16,
    "start_time": "2022-05-23T18:13:12.506Z"
   },
   {
    "duration": 92,
    "start_time": "2022-05-23T18:14:02.132Z"
   },
   {
    "duration": 81,
    "start_time": "2022-05-23T18:14:24.621Z"
   },
   {
    "duration": 111,
    "start_time": "2022-05-23T18:18:21.238Z"
   },
   {
    "duration": 91,
    "start_time": "2022-05-23T18:19:45.004Z"
   },
   {
    "duration": 209,
    "start_time": "2022-05-23T18:19:55.310Z"
   },
   {
    "duration": 148,
    "start_time": "2022-05-23T18:19:55.523Z"
   },
   {
    "duration": 112,
    "start_time": "2022-05-23T18:19:55.672Z"
   },
   {
    "duration": 32,
    "start_time": "2022-05-23T18:19:55.787Z"
   },
   {
    "duration": 41,
    "start_time": "2022-05-23T18:19:55.821Z"
   },
   {
    "duration": 8,
    "start_time": "2022-05-23T18:19:55.864Z"
   },
   {
    "duration": 119,
    "start_time": "2022-05-23T18:19:55.874Z"
   },
   {
    "duration": 130,
    "start_time": "2022-05-23T18:19:55.996Z"
   },
   {
    "duration": 15,
    "start_time": "2022-05-23T18:20:02.005Z"
   },
   {
    "duration": 59,
    "start_time": "2022-05-23T18:30:01.390Z"
   },
   {
    "duration": 53,
    "start_time": "2022-05-23T18:30:50.852Z"
   },
   {
    "duration": 56,
    "start_time": "2022-05-23T18:31:22.587Z"
   },
   {
    "duration": 1206,
    "start_time": "2022-05-24T03:24:33.466Z"
   },
   {
    "duration": 384,
    "start_time": "2022-05-24T03:24:34.674Z"
   },
   {
    "duration": 358,
    "start_time": "2022-05-24T03:24:35.060Z"
   },
   {
    "duration": 94,
    "start_time": "2022-05-24T03:24:35.421Z"
   },
   {
    "duration": 81,
    "start_time": "2022-05-24T03:24:35.517Z"
   },
   {
    "duration": 10,
    "start_time": "2022-05-24T03:24:35.600Z"
   },
   {
    "duration": 128,
    "start_time": "2022-05-24T03:24:35.612Z"
   },
   {
    "duration": 121,
    "start_time": "2022-05-24T03:24:35.743Z"
   },
   {
    "duration": 8,
    "start_time": "2022-05-24T03:24:35.866Z"
   },
   {
    "duration": 231,
    "start_time": "2022-05-24T03:25:58.581Z"
   },
   {
    "duration": 230,
    "start_time": "2022-05-24T03:26:06.378Z"
   },
   {
    "duration": 206,
    "start_time": "2022-05-24T03:26:19.159Z"
   },
   {
    "duration": 75,
    "start_time": "2022-05-24T03:38:40.150Z"
   },
   {
    "duration": 714,
    "start_time": "2022-05-24T03:38:52.508Z"
   },
   {
    "duration": 27,
    "start_time": "2022-05-24T03:39:22.841Z"
   },
   {
    "duration": 202,
    "start_time": "2022-05-24T03:40:06.695Z"
   },
   {
    "duration": 160,
    "start_time": "2022-05-24T03:40:06.899Z"
   },
   {
    "duration": 111,
    "start_time": "2022-05-24T03:40:07.061Z"
   },
   {
    "duration": 26,
    "start_time": "2022-05-24T03:40:07.174Z"
   },
   {
    "duration": 49,
    "start_time": "2022-05-24T03:40:07.202Z"
   },
   {
    "duration": 11,
    "start_time": "2022-05-24T03:40:07.253Z"
   },
   {
    "duration": 151,
    "start_time": "2022-05-24T03:40:07.266Z"
   },
   {
    "duration": 127,
    "start_time": "2022-05-24T03:40:07.418Z"
   },
   {
    "duration": 10,
    "start_time": "2022-05-24T03:40:07.547Z"
   },
   {
    "duration": 32,
    "start_time": "2022-05-24T03:40:07.560Z"
   },
   {
    "duration": 23,
    "start_time": "2022-05-24T03:43:41.566Z"
   },
   {
    "duration": 24,
    "start_time": "2022-05-24T03:44:00.948Z"
   },
   {
    "duration": 26,
    "start_time": "2022-05-24T03:44:11.311Z"
   },
   {
    "duration": 64,
    "start_time": "2022-05-24T03:44:59.010Z"
   },
   {
    "duration": 13,
    "start_time": "2022-05-24T03:46:35.647Z"
   },
   {
    "duration": 22,
    "start_time": "2022-05-24T03:47:35.781Z"
   },
   {
    "duration": 172,
    "start_time": "2022-05-24T03:51:47.610Z"
   },
   {
    "duration": 140,
    "start_time": "2022-05-24T03:51:47.784Z"
   },
   {
    "duration": 102,
    "start_time": "2022-05-24T03:51:47.926Z"
   },
   {
    "duration": 27,
    "start_time": "2022-05-24T03:51:48.030Z"
   },
   {
    "duration": 41,
    "start_time": "2022-05-24T03:51:48.059Z"
   },
   {
    "duration": 13,
    "start_time": "2022-05-24T03:51:48.102Z"
   },
   {
    "duration": 114,
    "start_time": "2022-05-24T03:51:48.126Z"
   },
   {
    "duration": 121,
    "start_time": "2022-05-24T03:51:48.241Z"
   },
   {
    "duration": 8,
    "start_time": "2022-05-24T03:51:48.364Z"
   },
   {
    "duration": 9,
    "start_time": "2022-05-24T03:52:30.518Z"
   },
   {
    "duration": 71,
    "start_time": "2022-05-24T03:52:45.973Z"
   },
   {
    "duration": 73,
    "start_time": "2022-05-24T03:53:01.880Z"
   },
   {
    "duration": 53,
    "start_time": "2022-05-24T03:53:19.217Z"
   },
   {
    "duration": 67,
    "start_time": "2022-05-24T03:53:26.801Z"
   },
   {
    "duration": 56,
    "start_time": "2022-05-24T03:53:51.823Z"
   },
   {
    "duration": 66,
    "start_time": "2022-05-24T03:53:55.538Z"
   },
   {
    "duration": 168,
    "start_time": "2022-05-24T03:55:14.781Z"
   },
   {
    "duration": 146,
    "start_time": "2022-05-24T03:55:39.197Z"
   },
   {
    "duration": 66,
    "start_time": "2022-05-24T03:58:08.628Z"
   },
   {
    "duration": 68,
    "start_time": "2022-05-24T03:59:39.401Z"
   },
   {
    "duration": 208,
    "start_time": "2022-05-24T04:01:20.860Z"
   },
   {
    "duration": 47,
    "start_time": "2022-05-24T04:01:49.493Z"
   },
   {
    "duration": 51,
    "start_time": "2022-05-24T04:02:05.837Z"
   },
   {
    "duration": 46,
    "start_time": "2022-05-24T04:06:40.781Z"
   },
   {
    "duration": 67,
    "start_time": "2022-05-24T04:07:13.369Z"
   },
   {
    "duration": 50,
    "start_time": "2022-05-24T04:08:17.499Z"
   },
   {
    "duration": 100,
    "start_time": "2022-05-24T04:08:31.423Z"
   },
   {
    "duration": 49,
    "start_time": "2022-05-24T04:08:48.648Z"
   },
   {
    "duration": 73,
    "start_time": "2022-05-24T04:09:01.887Z"
   },
   {
    "duration": 61,
    "start_time": "2022-05-24T04:09:05.462Z"
   },
   {
    "duration": 65,
    "start_time": "2022-05-24T04:11:46.140Z"
   },
   {
    "duration": 13,
    "start_time": "2022-05-24T04:13:22.464Z"
   },
   {
    "duration": 15,
    "start_time": "2022-05-24T04:14:12.878Z"
   },
   {
    "duration": 12,
    "start_time": "2022-05-24T04:15:14.302Z"
   },
   {
    "duration": 189,
    "start_time": "2022-05-24T04:15:20.141Z"
   },
   {
    "duration": 147,
    "start_time": "2022-05-24T04:15:20.332Z"
   },
   {
    "duration": 112,
    "start_time": "2022-05-24T04:15:20.481Z"
   },
   {
    "duration": 32,
    "start_time": "2022-05-24T04:15:20.595Z"
   },
   {
    "duration": 43,
    "start_time": "2022-05-24T04:15:20.628Z"
   },
   {
    "duration": 10,
    "start_time": "2022-05-24T04:15:20.673Z"
   },
   {
    "duration": 127,
    "start_time": "2022-05-24T04:15:20.685Z"
   },
   {
    "duration": 130,
    "start_time": "2022-05-24T04:15:20.814Z"
   },
   {
    "duration": 10,
    "start_time": "2022-05-24T04:15:20.947Z"
   },
   {
    "duration": 110,
    "start_time": "2022-05-24T04:15:20.960Z"
   },
   {
    "duration": 61,
    "start_time": "2022-05-24T04:15:21.072Z"
   },
   {
    "duration": 47,
    "start_time": "2022-05-24T04:15:21.135Z"
   },
   {
    "duration": 15,
    "start_time": "2022-05-24T04:15:25.588Z"
   },
   {
    "duration": 8,
    "start_time": "2022-05-24T04:40:04.056Z"
   },
   {
    "duration": 22,
    "start_time": "2022-05-24T04:40:16.181Z"
   },
   {
    "duration": 16,
    "start_time": "2022-05-24T04:41:13.947Z"
   },
   {
    "duration": 19,
    "start_time": "2022-05-24T04:43:47.935Z"
   },
   {
    "duration": 21,
    "start_time": "2022-05-24T04:44:50.591Z"
   },
   {
    "duration": 17,
    "start_time": "2022-05-24T04:45:03.260Z"
   },
   {
    "duration": 9,
    "start_time": "2022-05-24T04:48:00.659Z"
   },
   {
    "duration": 13,
    "start_time": "2022-05-24T04:48:05.875Z"
   },
   {
    "duration": 28,
    "start_time": "2022-05-24T04:48:19.957Z"
   },
   {
    "duration": 177,
    "start_time": "2022-05-24T04:48:55.671Z"
   },
   {
    "duration": 156,
    "start_time": "2022-05-24T04:48:55.850Z"
   },
   {
    "duration": 109,
    "start_time": "2022-05-24T04:48:56.007Z"
   },
   {
    "duration": 40,
    "start_time": "2022-05-24T04:48:56.126Z"
   },
   {
    "duration": 46,
    "start_time": "2022-05-24T04:48:56.170Z"
   },
   {
    "duration": 11,
    "start_time": "2022-05-24T04:48:56.219Z"
   },
   {
    "duration": 150,
    "start_time": "2022-05-24T04:48:56.233Z"
   },
   {
    "duration": 152,
    "start_time": "2022-05-24T04:48:56.385Z"
   },
   {
    "duration": 7,
    "start_time": "2022-05-24T04:48:56.539Z"
   },
   {
    "duration": 115,
    "start_time": "2022-05-24T04:48:56.548Z"
   },
   {
    "duration": 48,
    "start_time": "2022-05-24T04:48:56.665Z"
   },
   {
    "duration": 57,
    "start_time": "2022-05-24T04:48:56.727Z"
   },
   {
    "duration": 13,
    "start_time": "2022-05-24T04:48:56.785Z"
   },
   {
    "duration": 43,
    "start_time": "2022-05-24T04:48:56.800Z"
   },
   {
    "duration": 18,
    "start_time": "2022-05-24T04:49:03.623Z"
   },
   {
    "duration": 25,
    "start_time": "2022-05-24T04:49:39.887Z"
   },
   {
    "duration": 183,
    "start_time": "2022-05-24T04:50:04.480Z"
   },
   {
    "duration": 154,
    "start_time": "2022-05-24T04:50:04.665Z"
   },
   {
    "duration": 112,
    "start_time": "2022-05-24T04:50:04.821Z"
   },
   {
    "duration": 28,
    "start_time": "2022-05-24T04:50:04.935Z"
   },
   {
    "duration": 41,
    "start_time": "2022-05-24T04:50:04.965Z"
   },
   {
    "duration": 10,
    "start_time": "2022-05-24T04:50:05.008Z"
   },
   {
    "duration": 141,
    "start_time": "2022-05-24T04:50:05.020Z"
   },
   {
    "duration": 119,
    "start_time": "2022-05-24T04:50:05.162Z"
   },
   {
    "duration": 9,
    "start_time": "2022-05-24T04:50:05.282Z"
   },
   {
    "duration": 107,
    "start_time": "2022-05-24T04:50:05.293Z"
   },
   {
    "duration": 67,
    "start_time": "2022-05-24T04:50:05.402Z"
   },
   {
    "duration": 61,
    "start_time": "2022-05-24T04:50:05.470Z"
   },
   {
    "duration": 11,
    "start_time": "2022-05-24T04:50:05.532Z"
   },
   {
    "duration": 38,
    "start_time": "2022-05-24T04:50:05.545Z"
   },
   {
    "duration": 18,
    "start_time": "2022-05-24T04:50:07.747Z"
   },
   {
    "duration": 69,
    "start_time": "2022-05-24T05:02:06.326Z"
   },
   {
    "duration": 183,
    "start_time": "2022-05-24T05:02:20.736Z"
   },
   {
    "duration": 145,
    "start_time": "2022-05-24T05:02:20.921Z"
   },
   {
    "duration": 99,
    "start_time": "2022-05-24T05:02:21.068Z"
   },
   {
    "duration": 27,
    "start_time": "2022-05-24T05:02:21.169Z"
   },
   {
    "duration": 39,
    "start_time": "2022-05-24T05:02:21.198Z"
   },
   {
    "duration": 10,
    "start_time": "2022-05-24T05:02:21.238Z"
   },
   {
    "duration": 138,
    "start_time": "2022-05-24T05:02:21.249Z"
   },
   {
    "duration": 107,
    "start_time": "2022-05-24T05:02:21.389Z"
   },
   {
    "duration": 30,
    "start_time": "2022-05-24T05:02:21.498Z"
   },
   {
    "duration": 86,
    "start_time": "2022-05-24T05:02:21.531Z"
   },
   {
    "duration": 48,
    "start_time": "2022-05-24T05:02:21.627Z"
   },
   {
    "duration": 151,
    "start_time": "2022-05-24T05:02:21.677Z"
   },
   {
    "duration": 12,
    "start_time": "2022-05-24T05:02:21.830Z"
   },
   {
    "duration": 16,
    "start_time": "2022-05-24T05:02:21.844Z"
   },
   {
    "duration": 40,
    "start_time": "2022-05-24T05:02:25.466Z"
   },
   {
    "duration": 178,
    "start_time": "2022-05-24T05:03:02.691Z"
   },
   {
    "duration": 140,
    "start_time": "2022-05-24T05:03:02.871Z"
   },
   {
    "duration": 101,
    "start_time": "2022-05-24T05:03:03.013Z"
   },
   {
    "duration": 26,
    "start_time": "2022-05-24T05:03:03.116Z"
   },
   {
    "duration": 38,
    "start_time": "2022-05-24T05:03:03.144Z"
   },
   {
    "duration": 11,
    "start_time": "2022-05-24T05:03:03.184Z"
   },
   {
    "duration": 143,
    "start_time": "2022-05-24T05:03:03.197Z"
   },
   {
    "duration": 106,
    "start_time": "2022-05-24T05:03:03.342Z"
   },
   {
    "duration": 8,
    "start_time": "2022-05-24T05:03:03.450Z"
   },
   {
    "duration": 86,
    "start_time": "2022-05-24T05:03:03.460Z"
   },
   {
    "duration": 53,
    "start_time": "2022-05-24T05:03:03.548Z"
   },
   {
    "duration": 75,
    "start_time": "2022-05-24T05:03:03.603Z"
   },
   {
    "duration": 11,
    "start_time": "2022-05-24T05:03:03.680Z"
   },
   {
    "duration": 36,
    "start_time": "2022-05-24T05:03:03.692Z"
   },
   {
    "duration": 19,
    "start_time": "2022-05-24T05:03:07.748Z"
   },
   {
    "duration": 8,
    "start_time": "2022-05-24T05:35:56.043Z"
   },
   {
    "duration": 176,
    "start_time": "2022-05-24T05:51:00.273Z"
   },
   {
    "duration": 145,
    "start_time": "2022-05-24T05:51:00.451Z"
   },
   {
    "duration": 102,
    "start_time": "2022-05-24T05:51:00.598Z"
   },
   {
    "duration": 33,
    "start_time": "2022-05-24T05:51:00.702Z"
   },
   {
    "duration": 51,
    "start_time": "2022-05-24T05:51:01.547Z"
   },
   {
    "duration": 51,
    "start_time": "2022-05-24T05:51:11.249Z"
   },
   {
    "duration": 98,
    "start_time": "2022-05-24T06:01:42.661Z"
   },
   {
    "duration": 13,
    "start_time": "2022-05-24T06:14:20.668Z"
   },
   {
    "duration": 13,
    "start_time": "2022-05-24T06:15:07.226Z"
   },
   {
    "duration": 6,
    "start_time": "2022-05-24T06:16:53.852Z"
   },
   {
    "duration": 404,
    "start_time": "2022-05-24T06:21:05.991Z"
   },
   {
    "duration": 186,
    "start_time": "2022-05-24T06:22:27.437Z"
   },
   {
    "duration": 143,
    "start_time": "2022-05-24T06:22:27.626Z"
   },
   {
    "duration": 96,
    "start_time": "2022-05-24T06:22:27.771Z"
   },
   {
    "duration": 25,
    "start_time": "2022-05-24T06:22:27.870Z"
   },
   {
    "duration": 41,
    "start_time": "2022-05-24T06:22:27.897Z"
   },
   {
    "duration": 11,
    "start_time": "2022-05-24T06:22:27.940Z"
   },
   {
    "duration": 133,
    "start_time": "2022-05-24T06:22:27.953Z"
   },
   {
    "duration": 114,
    "start_time": "2022-05-24T06:22:28.088Z"
   },
   {
    "duration": 32,
    "start_time": "2022-05-24T06:22:28.203Z"
   },
   {
    "duration": 17,
    "start_time": "2022-05-24T06:22:28.237Z"
   },
   {
    "duration": 77,
    "start_time": "2022-05-24T06:22:28.255Z"
   },
   {
    "duration": 47,
    "start_time": "2022-05-24T06:22:28.334Z"
   },
   {
    "duration": 62,
    "start_time": "2022-05-24T06:22:28.383Z"
   },
   {
    "duration": 10,
    "start_time": "2022-05-24T06:22:28.446Z"
   },
   {
    "duration": 15,
    "start_time": "2022-05-24T06:22:28.458Z"
   },
   {
    "duration": 17,
    "start_time": "2022-05-24T06:22:28.475Z"
   },
   {
    "duration": 37,
    "start_time": "2022-05-24T06:22:28.493Z"
   },
   {
    "duration": 364,
    "start_time": "2022-05-24T06:22:29.683Z"
   },
   {
    "duration": 413,
    "start_time": "2022-05-24T06:23:00.380Z"
   },
   {
    "duration": 196,
    "start_time": "2022-05-24T06:23:37.268Z"
   },
   {
    "duration": 151,
    "start_time": "2022-05-24T06:23:37.466Z"
   },
   {
    "duration": 111,
    "start_time": "2022-05-24T06:23:37.619Z"
   },
   {
    "duration": 37,
    "start_time": "2022-05-24T06:23:37.732Z"
   },
   {
    "duration": 53,
    "start_time": "2022-05-24T06:23:37.771Z"
   },
   {
    "duration": 15,
    "start_time": "2022-05-24T06:23:37.826Z"
   },
   {
    "duration": 160,
    "start_time": "2022-05-24T06:23:37.843Z"
   },
   {
    "duration": 142,
    "start_time": "2022-05-24T06:23:38.004Z"
   },
   {
    "duration": 10,
    "start_time": "2022-05-24T06:23:38.149Z"
   },
   {
    "duration": 49,
    "start_time": "2022-05-24T06:23:38.161Z"
   },
   {
    "duration": 135,
    "start_time": "2022-05-24T06:23:38.212Z"
   },
   {
    "duration": 143,
    "start_time": "2022-05-24T06:23:38.349Z"
   },
   {
    "duration": 69,
    "start_time": "2022-05-24T06:23:38.494Z"
   },
   {
    "duration": 11,
    "start_time": "2022-05-24T06:23:38.565Z"
   },
   {
    "duration": 31,
    "start_time": "2022-05-24T06:23:38.578Z"
   },
   {
    "duration": 36,
    "start_time": "2022-05-24T06:23:38.611Z"
   },
   {
    "duration": 28,
    "start_time": "2022-05-24T06:23:38.650Z"
   },
   {
    "duration": 488,
    "start_time": "2022-05-24T06:24:44.197Z"
   },
   {
    "duration": 526,
    "start_time": "2022-05-24T06:25:41.415Z"
   },
   {
    "duration": 571,
    "start_time": "2022-05-24T06:26:20.741Z"
   },
   {
    "duration": 404,
    "start_time": "2022-05-24T06:27:20.119Z"
   },
   {
    "duration": 191,
    "start_time": "2022-05-24T06:27:55.062Z"
   },
   {
    "duration": 192,
    "start_time": "2022-05-24T06:28:27.224Z"
   },
   {
    "duration": 143,
    "start_time": "2022-05-24T06:28:27.426Z"
   },
   {
    "duration": 112,
    "start_time": "2022-05-24T06:28:27.571Z"
   },
   {
    "duration": 25,
    "start_time": "2022-05-24T06:28:27.685Z"
   },
   {
    "duration": 39,
    "start_time": "2022-05-24T06:28:27.712Z"
   },
   {
    "duration": 9,
    "start_time": "2022-05-24T06:28:27.752Z"
   },
   {
    "duration": 119,
    "start_time": "2022-05-24T06:28:27.762Z"
   },
   {
    "duration": 101,
    "start_time": "2022-05-24T06:28:27.882Z"
   },
   {
    "duration": 10,
    "start_time": "2022-05-24T06:28:27.984Z"
   },
   {
    "duration": 36,
    "start_time": "2022-05-24T06:28:27.997Z"
   },
   {
    "duration": 76,
    "start_time": "2022-05-24T06:28:28.035Z"
   },
   {
    "duration": 45,
    "start_time": "2022-05-24T06:28:28.126Z"
   },
   {
    "duration": 59,
    "start_time": "2022-05-24T06:28:28.173Z"
   },
   {
    "duration": 10,
    "start_time": "2022-05-24T06:28:28.234Z"
   },
   {
    "duration": 18,
    "start_time": "2022-05-24T06:28:28.245Z"
   },
   {
    "duration": 18,
    "start_time": "2022-05-24T06:28:28.264Z"
   },
   {
    "duration": 6,
    "start_time": "2022-05-24T06:28:28.284Z"
   },
   {
    "duration": 260,
    "start_time": "2022-05-24T06:28:30.940Z"
   },
   {
    "duration": 15,
    "start_time": "2022-05-24T16:25:06.543Z"
   },
   {
    "duration": 176,
    "start_time": "2022-05-24T16:25:19.763Z"
   },
   {
    "duration": 149,
    "start_time": "2022-05-24T16:25:19.941Z"
   },
   {
    "duration": 105,
    "start_time": "2022-05-24T16:25:20.092Z"
   },
   {
    "duration": 29,
    "start_time": "2022-05-24T16:25:20.198Z"
   },
   {
    "duration": 40,
    "start_time": "2022-05-24T16:25:20.228Z"
   },
   {
    "duration": 9,
    "start_time": "2022-05-24T16:25:20.270Z"
   },
   {
    "duration": 124,
    "start_time": "2022-05-24T16:25:20.280Z"
   },
   {
    "duration": 99,
    "start_time": "2022-05-24T16:25:20.406Z"
   },
   {
    "duration": 30,
    "start_time": "2022-05-24T16:25:20.506Z"
   },
   {
    "duration": 10,
    "start_time": "2022-05-24T16:25:20.539Z"
   },
   {
    "duration": 90,
    "start_time": "2022-05-24T16:25:20.550Z"
   },
   {
    "duration": 47,
    "start_time": "2022-05-24T16:25:20.642Z"
   },
   {
    "duration": 146,
    "start_time": "2022-05-24T16:25:20.690Z"
   },
   {
    "duration": 11,
    "start_time": "2022-05-24T16:25:20.837Z"
   },
   {
    "duration": 21,
    "start_time": "2022-05-24T16:25:20.849Z"
   },
   {
    "duration": 20,
    "start_time": "2022-05-24T16:25:20.872Z"
   },
   {
    "duration": 6,
    "start_time": "2022-05-24T16:25:20.894Z"
   },
   {
    "duration": 15,
    "start_time": "2022-05-24T16:25:29.287Z"
   },
   {
    "duration": 8,
    "start_time": "2022-05-24T16:25:58.969Z"
   },
   {
    "duration": 31,
    "start_time": "2022-05-24T16:29:11.263Z"
   },
   {
    "duration": 34,
    "start_time": "2022-05-24T16:29:35.473Z"
   },
   {
    "duration": 10662,
    "start_time": "2022-05-24T16:29:52.782Z"
   },
   {
    "duration": 40,
    "start_time": "2022-05-24T16:30:56.922Z"
   },
   {
    "duration": 33,
    "start_time": "2022-05-24T16:31:20.973Z"
   },
   {
    "duration": 42,
    "start_time": "2022-05-24T16:31:37.335Z"
   },
   {
    "duration": 36384,
    "start_time": "2022-05-24T16:31:48.619Z"
   },
   {
    "duration": 34001,
    "start_time": "2022-05-24T16:32:50.666Z"
   },
   {
    "duration": 34338,
    "start_time": "2022-05-24T16:34:16.818Z"
   },
   {
    "duration": 46220,
    "start_time": "2022-05-24T16:34:53.404Z"
   },
   {
    "duration": 38,
    "start_time": "2022-05-24T16:37:58.167Z"
   },
   {
    "duration": 50,
    "start_time": "2022-05-24T16:39:21.375Z"
   },
   {
    "duration": 41,
    "start_time": "2022-05-24T16:39:46.150Z"
   },
   {
    "duration": 38,
    "start_time": "2022-05-24T16:40:17.682Z"
   },
   {
    "duration": 40,
    "start_time": "2022-05-24T16:41:38.451Z"
   },
   {
    "duration": 170,
    "start_time": "2022-05-24T16:41:41.520Z"
   },
   {
    "duration": 155,
    "start_time": "2022-05-24T16:41:41.692Z"
   },
   {
    "duration": 105,
    "start_time": "2022-05-24T16:41:41.849Z"
   },
   {
    "duration": 26,
    "start_time": "2022-05-24T16:41:41.957Z"
   },
   {
    "duration": 49,
    "start_time": "2022-05-24T16:41:41.984Z"
   },
   {
    "duration": 10,
    "start_time": "2022-05-24T16:41:42.035Z"
   },
   {
    "duration": 130,
    "start_time": "2022-05-24T16:41:42.047Z"
   },
   {
    "duration": 113,
    "start_time": "2022-05-24T16:41:42.179Z"
   },
   {
    "duration": 38,
    "start_time": "2022-05-24T16:41:42.294Z"
   },
   {
    "duration": 10,
    "start_time": "2022-05-24T16:41:42.335Z"
   },
   {
    "duration": 85,
    "start_time": "2022-05-24T16:41:42.347Z"
   },
   {
    "duration": 47,
    "start_time": "2022-05-24T16:41:42.433Z"
   },
   {
    "duration": 66,
    "start_time": "2022-05-24T16:41:42.481Z"
   },
   {
    "duration": 12,
    "start_time": "2022-05-24T16:41:42.548Z"
   },
   {
    "duration": 18,
    "start_time": "2022-05-24T16:41:42.561Z"
   },
   {
    "duration": 19,
    "start_time": "2022-05-24T16:41:42.581Z"
   },
   {
    "duration": 7,
    "start_time": "2022-05-24T16:41:42.628Z"
   },
   {
    "duration": 38,
    "start_time": "2022-05-24T16:41:42.637Z"
   },
   {
    "duration": 197,
    "start_time": "2022-05-24T16:41:46.503Z"
   },
   {
    "duration": 157,
    "start_time": "2022-05-24T16:41:46.703Z"
   },
   {
    "duration": 110,
    "start_time": "2022-05-24T16:41:46.862Z"
   },
   {
    "duration": 27,
    "start_time": "2022-05-24T16:41:46.974Z"
   },
   {
    "duration": 39,
    "start_time": "2022-05-24T16:41:47.002Z"
   },
   {
    "duration": 11,
    "start_time": "2022-05-24T16:41:47.042Z"
   },
   {
    "duration": 120,
    "start_time": "2022-05-24T16:41:47.055Z"
   },
   {
    "duration": 119,
    "start_time": "2022-05-24T16:41:47.177Z"
   },
   {
    "duration": 36,
    "start_time": "2022-05-24T16:41:47.298Z"
   },
   {
    "duration": 17,
    "start_time": "2022-05-24T16:41:47.337Z"
   },
   {
    "duration": 88,
    "start_time": "2022-05-24T16:41:47.355Z"
   },
   {
    "duration": 48,
    "start_time": "2022-05-24T16:41:47.445Z"
   },
   {
    "duration": 68,
    "start_time": "2022-05-24T16:41:47.495Z"
   },
   {
    "duration": 12,
    "start_time": "2022-05-24T16:41:47.565Z"
   },
   {
    "duration": 16,
    "start_time": "2022-05-24T16:41:47.579Z"
   },
   {
    "duration": 40,
    "start_time": "2022-05-24T16:41:47.597Z"
   },
   {
    "duration": 9,
    "start_time": "2022-05-24T16:41:47.639Z"
   },
   {
    "duration": 39,
    "start_time": "2022-05-24T16:41:51.688Z"
   },
   {
    "duration": 638,
    "start_time": "2022-05-24T16:42:03.493Z"
   },
   {
    "duration": 327,
    "start_time": "2022-05-24T16:43:38.457Z"
   },
   {
    "duration": 391,
    "start_time": "2022-05-24T16:45:50.434Z"
   },
   {
    "duration": 24032,
    "start_time": "2022-05-24T16:45:58.198Z"
   },
   {
    "duration": 44,
    "start_time": "2022-05-24T16:47:24.977Z"
   },
   {
    "duration": 172,
    "start_time": "2022-05-24T16:49:16.517Z"
   },
   {
    "duration": 149,
    "start_time": "2022-05-24T16:49:16.691Z"
   },
   {
    "duration": 104,
    "start_time": "2022-05-24T16:49:16.842Z"
   },
   {
    "duration": 27,
    "start_time": "2022-05-24T16:49:16.949Z"
   },
   {
    "duration": 39,
    "start_time": "2022-05-24T16:49:16.978Z"
   },
   {
    "duration": 10,
    "start_time": "2022-05-24T16:49:17.018Z"
   },
   {
    "duration": 122,
    "start_time": "2022-05-24T16:49:17.029Z"
   },
   {
    "duration": 115,
    "start_time": "2022-05-24T16:49:17.153Z"
   },
   {
    "duration": 10,
    "start_time": "2022-05-24T16:49:17.270Z"
   },
   {
    "duration": 11,
    "start_time": "2022-05-24T16:49:17.283Z"
   },
   {
    "duration": 106,
    "start_time": "2022-05-24T16:49:17.296Z"
   },
   {
    "duration": 70,
    "start_time": "2022-05-24T16:49:17.404Z"
   },
   {
    "duration": 64,
    "start_time": "2022-05-24T16:49:17.476Z"
   },
   {
    "duration": 12,
    "start_time": "2022-05-24T16:49:17.542Z"
   },
   {
    "duration": 20,
    "start_time": "2022-05-24T16:49:17.555Z"
   },
   {
    "duration": 20,
    "start_time": "2022-05-24T16:49:17.577Z"
   },
   {
    "duration": 8,
    "start_time": "2022-05-24T16:49:17.628Z"
   },
   {
    "duration": 43,
    "start_time": "2022-05-24T16:49:21.448Z"
   },
   {
    "duration": 39702,
    "start_time": "2022-05-24T16:50:20.052Z"
   },
   {
    "duration": 159,
    "start_time": "2022-05-24T16:51:20.159Z"
   },
   {
    "duration": 142,
    "start_time": "2022-05-24T16:51:20.320Z"
   },
   {
    "duration": 99,
    "start_time": "2022-05-24T16:51:20.463Z"
   },
   {
    "duration": 26,
    "start_time": "2022-05-24T16:51:20.564Z"
   },
   {
    "duration": 38,
    "start_time": "2022-05-24T16:51:20.591Z"
   },
   {
    "duration": 9,
    "start_time": "2022-05-24T16:51:20.630Z"
   },
   {
    "duration": 116,
    "start_time": "2022-05-24T16:51:20.640Z"
   },
   {
    "duration": 111,
    "start_time": "2022-05-24T16:51:20.758Z"
   },
   {
    "duration": 9,
    "start_time": "2022-05-24T16:51:20.871Z"
   },
   {
    "duration": 26,
    "start_time": "2022-05-24T16:51:20.882Z"
   },
   {
    "duration": 87,
    "start_time": "2022-05-24T16:51:20.909Z"
   },
   {
    "duration": 50,
    "start_time": "2022-05-24T16:55:49.862Z"
   },
   {
    "duration": 8276,
    "start_time": "2022-05-24T16:56:43.515Z"
   },
   {
    "duration": 6105,
    "start_time": "2022-05-24T16:58:45.257Z"
   },
   {
    "duration": 8690,
    "start_time": "2022-05-24T16:59:12.348Z"
   },
   {
    "duration": 31,
    "start_time": "2022-05-24T16:59:51.638Z"
   },
   {
    "duration": 5223,
    "start_time": "2022-05-24T17:00:44.630Z"
   },
   {
    "duration": 883,
    "start_time": "2022-05-24T17:01:18.246Z"
   },
   {
    "duration": 1399,
    "start_time": "2022-05-24T17:01:26.899Z"
   },
   {
    "duration": 48,
    "start_time": "2022-05-24T17:02:45.674Z"
   },
   {
    "duration": 19,
    "start_time": "2022-05-24T17:04:05.374Z"
   },
   {
    "duration": 26,
    "start_time": "2022-05-24T17:04:33.595Z"
   },
   {
    "duration": 177,
    "start_time": "2022-05-24T17:04:45.618Z"
   },
   {
    "duration": 145,
    "start_time": "2022-05-24T17:04:45.797Z"
   },
   {
    "duration": 100,
    "start_time": "2022-05-24T17:04:45.944Z"
   },
   {
    "duration": 26,
    "start_time": "2022-05-24T17:04:46.046Z"
   },
   {
    "duration": 41,
    "start_time": "2022-05-24T17:04:46.074Z"
   },
   {
    "duration": 11,
    "start_time": "2022-05-24T17:04:46.117Z"
   },
   {
    "duration": 167,
    "start_time": "2022-05-24T17:04:46.130Z"
   },
   {
    "duration": 177,
    "start_time": "2022-05-24T17:04:46.299Z"
   },
   {
    "duration": 13,
    "start_time": "2022-05-24T17:04:46.478Z"
   },
   {
    "duration": 42,
    "start_time": "2022-05-24T17:04:46.495Z"
   },
   {
    "duration": 86,
    "start_time": "2022-05-24T17:04:46.540Z"
   },
   {
    "duration": 51,
    "start_time": "2022-05-24T17:04:46.628Z"
   },
   {
    "duration": 70,
    "start_time": "2022-05-24T17:04:46.680Z"
   },
   {
    "duration": 11,
    "start_time": "2022-05-24T17:04:46.752Z"
   },
   {
    "duration": 18,
    "start_time": "2022-05-24T17:04:46.765Z"
   },
   {
    "duration": 44,
    "start_time": "2022-05-24T17:04:46.784Z"
   },
   {
    "duration": 8,
    "start_time": "2022-05-24T17:04:46.830Z"
   },
   {
    "duration": 26,
    "start_time": "2022-05-24T17:04:49.900Z"
   },
   {
    "duration": 30,
    "start_time": "2022-05-24T17:05:17.165Z"
   },
   {
    "duration": 17,
    "start_time": "2022-05-24T17:06:48.976Z"
   },
   {
    "duration": 21,
    "start_time": "2022-05-24T17:08:28.613Z"
   },
   {
    "duration": 23,
    "start_time": "2022-05-24T17:08:37.049Z"
   },
   {
    "duration": 29,
    "start_time": "2022-05-24T17:10:37.627Z"
   },
   {
    "duration": 56,
    "start_time": "2022-05-24T17:11:46.398Z"
   },
   {
    "duration": 76,
    "start_time": "2022-05-24T17:12:44.784Z"
   },
   {
    "duration": 183,
    "start_time": "2022-05-24T17:13:12.094Z"
   },
   {
    "duration": 158,
    "start_time": "2022-05-24T17:13:12.279Z"
   },
   {
    "duration": 112,
    "start_time": "2022-05-24T17:13:12.439Z"
   },
   {
    "duration": 26,
    "start_time": "2022-05-24T17:13:12.553Z"
   },
   {
    "duration": 41,
    "start_time": "2022-05-24T17:13:12.581Z"
   },
   {
    "duration": 9,
    "start_time": "2022-05-24T17:13:12.624Z"
   },
   {
    "duration": 140,
    "start_time": "2022-05-24T17:13:12.635Z"
   },
   {
    "duration": 129,
    "start_time": "2022-05-24T17:13:12.777Z"
   },
   {
    "duration": 13,
    "start_time": "2022-05-24T17:13:12.928Z"
   },
   {
    "duration": 10,
    "start_time": "2022-05-24T17:13:12.944Z"
   },
   {
    "duration": 96,
    "start_time": "2022-05-24T17:13:12.956Z"
   },
   {
    "duration": 74,
    "start_time": "2022-05-24T17:13:15.791Z"
   },
   {
    "duration": 69,
    "start_time": "2022-05-24T17:15:21.615Z"
   },
   {
    "duration": 61,
    "start_time": "2022-05-24T17:15:28.406Z"
   },
   {
    "duration": 208,
    "start_time": "2022-05-24T17:15:44.146Z"
   },
   {
    "duration": 67,
    "start_time": "2022-05-24T17:15:51.121Z"
   },
   {
    "duration": 167,
    "start_time": "2022-05-24T17:18:50.488Z"
   },
   {
    "duration": 141,
    "start_time": "2022-05-24T17:18:50.658Z"
   },
   {
    "duration": 99,
    "start_time": "2022-05-24T17:18:50.800Z"
   },
   {
    "duration": 26,
    "start_time": "2022-05-24T17:18:50.902Z"
   },
   {
    "duration": 39,
    "start_time": "2022-05-24T17:18:50.929Z"
   },
   {
    "duration": 10,
    "start_time": "2022-05-24T17:18:50.970Z"
   },
   {
    "duration": 121,
    "start_time": "2022-05-24T17:18:50.981Z"
   },
   {
    "duration": 134,
    "start_time": "2022-05-24T17:18:51.104Z"
   },
   {
    "duration": 10,
    "start_time": "2022-05-24T17:18:51.240Z"
   },
   {
    "duration": 9,
    "start_time": "2022-05-24T17:18:51.253Z"
   },
   {
    "duration": 97,
    "start_time": "2022-05-24T17:18:51.264Z"
   },
   {
    "duration": 48,
    "start_time": "2022-05-24T17:18:51.362Z"
   },
   {
    "duration": 57,
    "start_time": "2022-05-24T17:18:51.411Z"
   },
   {
    "duration": 10,
    "start_time": "2022-05-24T17:18:51.469Z"
   },
   {
    "duration": 21,
    "start_time": "2022-05-24T17:18:51.480Z"
   },
   {
    "duration": 41,
    "start_time": "2022-05-24T17:18:53.732Z"
   },
   {
    "duration": 32,
    "start_time": "2022-05-24T17:19:03.763Z"
   },
   {
    "duration": 16,
    "start_time": "2022-05-24T17:19:57.508Z"
   },
   {
    "duration": 40,
    "start_time": "2022-05-24T17:20:02.065Z"
   },
   {
    "duration": 180,
    "start_time": "2022-05-24T17:20:30.400Z"
   },
   {
    "duration": 157,
    "start_time": "2022-05-24T17:20:30.582Z"
   },
   {
    "duration": 102,
    "start_time": "2022-05-24T17:20:30.740Z"
   },
   {
    "duration": 27,
    "start_time": "2022-05-24T17:20:30.844Z"
   },
   {
    "duration": 39,
    "start_time": "2022-05-24T17:20:30.873Z"
   },
   {
    "duration": 10,
    "start_time": "2022-05-24T17:20:30.913Z"
   },
   {
    "duration": 126,
    "start_time": "2022-05-24T17:20:30.925Z"
   },
   {
    "duration": 116,
    "start_time": "2022-05-24T17:20:31.052Z"
   },
   {
    "duration": 9,
    "start_time": "2022-05-24T17:20:31.170Z"
   },
   {
    "duration": 25,
    "start_time": "2022-05-24T17:20:31.181Z"
   },
   {
    "duration": 92,
    "start_time": "2022-05-24T17:20:31.207Z"
   },
   {
    "duration": 50,
    "start_time": "2022-05-24T17:20:31.300Z"
   },
   {
    "duration": 47,
    "start_time": "2022-05-24T17:20:31.352Z"
   },
   {
    "duration": 27,
    "start_time": "2022-05-24T17:20:31.400Z"
   },
   {
    "duration": 22,
    "start_time": "2022-05-24T17:20:31.429Z"
   },
   {
    "duration": 25,
    "start_time": "2022-05-24T17:20:34.148Z"
   },
   {
    "duration": 13,
    "start_time": "2022-05-24T17:20:37.367Z"
   },
   {
    "duration": 486,
    "start_time": "2022-05-24T17:26:55.039Z"
   },
   {
    "duration": 217,
    "start_time": "2022-05-24T17:27:07.254Z"
   },
   {
    "duration": 195,
    "start_time": "2022-05-24T17:27:07.474Z"
   },
   {
    "duration": 107,
    "start_time": "2022-05-24T17:27:07.672Z"
   },
   {
    "duration": 27,
    "start_time": "2022-05-24T17:27:07.781Z"
   },
   {
    "duration": 48,
    "start_time": "2022-05-24T17:27:07.810Z"
   },
   {
    "duration": 10,
    "start_time": "2022-05-24T17:27:07.860Z"
   },
   {
    "duration": 136,
    "start_time": "2022-05-24T17:27:07.872Z"
   },
   {
    "duration": 131,
    "start_time": "2022-05-24T17:27:08.010Z"
   },
   {
    "duration": 15,
    "start_time": "2022-05-24T17:27:08.143Z"
   },
   {
    "duration": 17,
    "start_time": "2022-05-24T17:27:08.160Z"
   },
   {
    "duration": 96,
    "start_time": "2022-05-24T17:27:08.178Z"
   },
   {
    "duration": 425,
    "start_time": "2022-05-24T17:27:10.576Z"
   },
   {
    "duration": 173,
    "start_time": "2022-05-24T17:27:27.334Z"
   },
   {
    "duration": 53,
    "start_time": "2022-05-24T17:27:51.076Z"
   },
   {
    "duration": 15,
    "start_time": "2022-05-24T17:32:43.560Z"
   },
   {
    "duration": 31,
    "start_time": "2022-05-24T17:32:58.590Z"
   },
   {
    "duration": 25,
    "start_time": "2022-05-24T17:36:43.674Z"
   },
   {
    "duration": 25,
    "start_time": "2022-05-24T17:41:10.175Z"
   },
   {
    "duration": 15,
    "start_time": "2022-05-24T17:41:13.645Z"
   },
   {
    "duration": 171,
    "start_time": "2022-05-24T17:41:24.508Z"
   },
   {
    "duration": 154,
    "start_time": "2022-05-24T17:41:24.681Z"
   },
   {
    "duration": 114,
    "start_time": "2022-05-24T17:41:24.837Z"
   },
   {
    "duration": 25,
    "start_time": "2022-05-24T17:41:24.954Z"
   },
   {
    "duration": 40,
    "start_time": "2022-05-24T17:41:24.981Z"
   },
   {
    "duration": 11,
    "start_time": "2022-05-24T17:41:25.023Z"
   },
   {
    "duration": 123,
    "start_time": "2022-05-24T17:41:25.037Z"
   },
   {
    "duration": 118,
    "start_time": "2022-05-24T17:41:25.161Z"
   },
   {
    "duration": 10,
    "start_time": "2022-05-24T17:41:25.281Z"
   },
   {
    "duration": 38,
    "start_time": "2022-05-24T17:41:25.293Z"
   },
   {
    "duration": 65,
    "start_time": "2022-05-24T17:41:25.333Z"
   },
   {
    "duration": 64,
    "start_time": "2022-05-24T17:41:25.400Z"
   },
   {
    "duration": 64,
    "start_time": "2022-05-24T17:41:25.466Z"
   },
   {
    "duration": 13,
    "start_time": "2022-05-24T17:41:25.532Z"
   },
   {
    "duration": 18,
    "start_time": "2022-05-24T17:41:25.547Z"
   },
   {
    "duration": 17,
    "start_time": "2022-05-24T17:41:35.269Z"
   },
   {
    "duration": 13,
    "start_time": "2022-05-24T17:41:38.242Z"
   },
   {
    "duration": 25,
    "start_time": "2022-05-24T17:43:35.334Z"
   },
   {
    "duration": 18,
    "start_time": "2022-05-24T17:44:04.295Z"
   },
   {
    "duration": 15,
    "start_time": "2022-05-24T17:50:31.750Z"
   },
   {
    "duration": 168,
    "start_time": "2022-05-24T17:50:50.973Z"
   },
   {
    "duration": 139,
    "start_time": "2022-05-24T17:50:51.143Z"
   },
   {
    "duration": 96,
    "start_time": "2022-05-24T17:50:51.284Z"
   },
   {
    "duration": 28,
    "start_time": "2022-05-24T17:50:51.382Z"
   },
   {
    "duration": 52,
    "start_time": "2022-05-24T17:50:51.412Z"
   },
   {
    "duration": 9,
    "start_time": "2022-05-24T17:50:51.466Z"
   },
   {
    "duration": 112,
    "start_time": "2022-05-24T17:50:51.477Z"
   },
   {
    "duration": 106,
    "start_time": "2022-05-24T17:50:51.591Z"
   },
   {
    "duration": 31,
    "start_time": "2022-05-24T17:50:51.698Z"
   },
   {
    "duration": 10,
    "start_time": "2022-05-24T17:50:51.732Z"
   },
   {
    "duration": 70,
    "start_time": "2022-05-24T17:50:51.744Z"
   },
   {
    "duration": 49,
    "start_time": "2022-05-24T17:50:51.828Z"
   },
   {
    "duration": 66,
    "start_time": "2022-05-24T17:50:51.879Z"
   },
   {
    "duration": 11,
    "start_time": "2022-05-24T17:50:51.947Z"
   },
   {
    "duration": 15,
    "start_time": "2022-05-24T17:50:51.961Z"
   },
   {
    "duration": 17,
    "start_time": "2022-05-24T17:50:51.977Z"
   },
   {
    "duration": 43,
    "start_time": "2022-05-24T17:50:51.995Z"
   },
   {
    "duration": 13,
    "start_time": "2022-05-24T17:50:55.798Z"
   },
   {
    "duration": 164,
    "start_time": "2022-05-24T17:56:50.635Z"
   },
   {
    "duration": 133,
    "start_time": "2022-05-24T17:56:50.801Z"
   },
   {
    "duration": 108,
    "start_time": "2022-05-24T17:56:50.936Z"
   },
   {
    "duration": 27,
    "start_time": "2022-05-24T17:56:51.046Z"
   },
   {
    "duration": 39,
    "start_time": "2022-05-24T17:56:51.074Z"
   },
   {
    "duration": 12,
    "start_time": "2022-05-24T17:56:51.115Z"
   },
   {
    "duration": 141,
    "start_time": "2022-05-24T17:56:51.129Z"
   },
   {
    "duration": 122,
    "start_time": "2022-05-24T17:56:51.272Z"
   },
   {
    "duration": 34,
    "start_time": "2022-05-24T17:56:51.396Z"
   },
   {
    "duration": 13,
    "start_time": "2022-05-24T17:56:51.433Z"
   },
   {
    "duration": 81,
    "start_time": "2022-05-24T17:56:51.448Z"
   },
   {
    "duration": 50,
    "start_time": "2022-05-24T17:56:51.531Z"
   },
   {
    "duration": 63,
    "start_time": "2022-05-24T17:56:51.583Z"
   },
   {
    "duration": 10,
    "start_time": "2022-05-24T17:56:51.648Z"
   },
   {
    "duration": 18,
    "start_time": "2022-05-24T17:56:51.660Z"
   },
   {
    "duration": 16,
    "start_time": "2022-05-24T17:56:51.679Z"
   },
   {
    "duration": 42,
    "start_time": "2022-05-24T17:56:51.697Z"
   },
   {
    "duration": 13,
    "start_time": "2022-05-24T17:56:51.741Z"
   },
   {
    "duration": 8222,
    "start_time": "2022-05-24T17:57:03.981Z"
   },
   {
    "duration": 203,
    "start_time": "2022-05-24T17:58:02.700Z"
   },
   {
    "duration": 149,
    "start_time": "2022-05-24T17:58:02.905Z"
   },
   {
    "duration": 104,
    "start_time": "2022-05-24T17:58:03.056Z"
   },
   {
    "duration": 26,
    "start_time": "2022-05-24T17:58:03.163Z"
   },
   {
    "duration": 43,
    "start_time": "2022-05-24T17:58:03.190Z"
   },
   {
    "duration": 10,
    "start_time": "2022-05-24T17:58:03.234Z"
   },
   {
    "duration": 171,
    "start_time": "2022-05-24T17:58:03.246Z"
   },
   {
    "duration": 120,
    "start_time": "2022-05-24T17:58:03.428Z"
   },
   {
    "duration": 13,
    "start_time": "2022-05-24T17:58:03.549Z"
   },
   {
    "duration": 16,
    "start_time": "2022-05-24T17:58:03.565Z"
   },
   {
    "duration": 111,
    "start_time": "2022-05-24T17:58:03.583Z"
   },
   {
    "duration": 54,
    "start_time": "2022-05-24T17:58:03.696Z"
   },
   {
    "duration": 47,
    "start_time": "2022-05-24T17:58:03.752Z"
   },
   {
    "duration": 36,
    "start_time": "2022-05-24T17:58:03.801Z"
   },
   {
    "duration": 20,
    "start_time": "2022-05-24T17:58:03.840Z"
   },
   {
    "duration": 20,
    "start_time": "2022-05-24T17:58:03.862Z"
   },
   {
    "duration": 14,
    "start_time": "2022-05-24T17:58:03.884Z"
   },
   {
    "duration": 14,
    "start_time": "2022-05-24T17:58:03.928Z"
   },
   {
    "duration": 6896,
    "start_time": "2022-05-24T17:58:07.304Z"
   },
   {
    "duration": 175,
    "start_time": "2022-05-24T17:58:48.253Z"
   },
   {
    "duration": 141,
    "start_time": "2022-05-24T17:58:48.430Z"
   },
   {
    "duration": 101,
    "start_time": "2022-05-24T17:58:48.573Z"
   },
   {
    "duration": 26,
    "start_time": "2022-05-24T17:58:48.677Z"
   },
   {
    "duration": 40,
    "start_time": "2022-05-24T17:58:48.705Z"
   },
   {
    "duration": 9,
    "start_time": "2022-05-24T17:58:48.747Z"
   },
   {
    "duration": 129,
    "start_time": "2022-05-24T17:58:48.757Z"
   },
   {
    "duration": 115,
    "start_time": "2022-05-24T17:58:48.888Z"
   },
   {
    "duration": 30,
    "start_time": "2022-05-24T17:58:49.005Z"
   },
   {
    "duration": 13,
    "start_time": "2022-05-24T17:58:49.038Z"
   },
   {
    "duration": 84,
    "start_time": "2022-05-24T17:58:49.052Z"
   },
   {
    "duration": 65,
    "start_time": "2022-05-24T17:58:49.138Z"
   },
   {
    "duration": 66,
    "start_time": "2022-05-24T17:58:49.205Z"
   },
   {
    "duration": 13,
    "start_time": "2022-05-24T17:58:49.273Z"
   },
   {
    "duration": 17,
    "start_time": "2022-05-24T17:58:49.287Z"
   },
   {
    "duration": 39,
    "start_time": "2022-05-24T17:58:49.305Z"
   },
   {
    "duration": 11,
    "start_time": "2022-05-24T17:58:49.346Z"
   },
   {
    "duration": 18,
    "start_time": "2022-05-24T17:58:49.359Z"
   },
   {
    "duration": 7234,
    "start_time": "2022-05-24T17:59:03.690Z"
   },
   {
    "duration": 174,
    "start_time": "2022-05-24T17:59:42.815Z"
   },
   {
    "duration": 143,
    "start_time": "2022-05-24T17:59:42.990Z"
   },
   {
    "duration": 100,
    "start_time": "2022-05-24T17:59:43.135Z"
   },
   {
    "duration": 26,
    "start_time": "2022-05-24T17:59:43.237Z"
   },
   {
    "duration": 42,
    "start_time": "2022-05-24T17:59:43.265Z"
   },
   {
    "duration": 11,
    "start_time": "2022-05-24T17:59:43.308Z"
   },
   {
    "duration": 121,
    "start_time": "2022-05-24T17:59:43.326Z"
   },
   {
    "duration": 117,
    "start_time": "2022-05-24T17:59:43.449Z"
   },
   {
    "duration": 11,
    "start_time": "2022-05-24T17:59:43.568Z"
   },
   {
    "duration": 11,
    "start_time": "2022-05-24T17:59:43.581Z"
   },
   {
    "duration": 92,
    "start_time": "2022-05-24T17:59:43.593Z"
   },
   {
    "duration": 76,
    "start_time": "2022-05-24T17:59:43.687Z"
   },
   {
    "duration": 72,
    "start_time": "2022-05-24T17:59:43.765Z"
   },
   {
    "duration": 11,
    "start_time": "2022-05-24T17:59:43.841Z"
   },
   {
    "duration": 25,
    "start_time": "2022-05-24T17:59:43.854Z"
   },
   {
    "duration": 47,
    "start_time": "2022-05-24T17:59:43.881Z"
   },
   {
    "duration": 18,
    "start_time": "2022-05-24T17:59:43.930Z"
   },
   {
    "duration": 13,
    "start_time": "2022-05-24T17:59:43.950Z"
   },
   {
    "duration": 6430,
    "start_time": "2022-05-24T17:59:58.441Z"
   },
   {
    "duration": 37409,
    "start_time": "2022-05-24T18:01:50.851Z"
   },
   {
    "duration": 418,
    "start_time": "2022-05-24T18:04:45.427Z"
   },
   {
    "duration": 6269,
    "start_time": "2022-05-24T18:08:09.228Z"
   },
   {
    "duration": 11,
    "start_time": "2022-05-24T18:10:57.152Z"
   },
   {
    "duration": 6753,
    "start_time": "2022-05-24T18:12:12.646Z"
   },
   {
    "duration": 2802,
    "start_time": "2022-05-24T18:12:28.043Z"
   },
   {
    "duration": 192,
    "start_time": "2022-05-24T18:12:49.101Z"
   },
   {
    "duration": 169,
    "start_time": "2022-05-24T18:12:49.296Z"
   },
   {
    "duration": 107,
    "start_time": "2022-05-24T18:12:49.467Z"
   },
   {
    "duration": 28,
    "start_time": "2022-05-24T18:12:49.576Z"
   },
   {
    "duration": 48,
    "start_time": "2022-05-24T18:12:49.605Z"
   },
   {
    "duration": 10,
    "start_time": "2022-05-24T18:12:49.655Z"
   },
   {
    "duration": 131,
    "start_time": "2022-05-24T18:12:49.666Z"
   },
   {
    "duration": 136,
    "start_time": "2022-05-24T18:12:49.799Z"
   },
   {
    "duration": 13,
    "start_time": "2022-05-24T18:12:49.937Z"
   },
   {
    "duration": 12,
    "start_time": "2022-05-24T18:12:49.952Z"
   },
   {
    "duration": 104,
    "start_time": "2022-05-24T18:12:49.966Z"
   },
   {
    "duration": 58,
    "start_time": "2022-05-24T18:12:50.071Z"
   },
   {
    "duration": 69,
    "start_time": "2022-05-24T18:12:50.131Z"
   },
   {
    "duration": 37,
    "start_time": "2022-05-24T18:12:50.202Z"
   },
   {
    "duration": 18,
    "start_time": "2022-05-24T18:12:50.242Z"
   },
   {
    "duration": 19,
    "start_time": "2022-05-24T18:12:50.262Z"
   },
   {
    "duration": 44,
    "start_time": "2022-05-24T18:12:50.283Z"
   },
   {
    "duration": 19,
    "start_time": "2022-05-24T18:12:50.330Z"
   },
   {
    "duration": 7534,
    "start_time": "2022-05-24T18:12:51.795Z"
   },
   {
    "duration": 7700,
    "start_time": "2022-05-24T18:14:18.883Z"
   },
   {
    "duration": 13806,
    "start_time": "2022-05-24T18:14:42.474Z"
   },
   {
    "duration": 20729,
    "start_time": "2022-05-24T18:15:21.023Z"
   },
   {
    "duration": 234,
    "start_time": "2022-05-24T18:15:56.276Z"
   },
   {
    "duration": 179,
    "start_time": "2022-05-24T18:15:56.513Z"
   },
   {
    "duration": 100,
    "start_time": "2022-05-24T18:15:56.694Z"
   },
   {
    "duration": 32,
    "start_time": "2022-05-24T18:15:56.796Z"
   },
   {
    "duration": 53,
    "start_time": "2022-05-24T18:15:56.830Z"
   },
   {
    "duration": 10,
    "start_time": "2022-05-24T18:15:56.885Z"
   },
   {
    "duration": 131,
    "start_time": "2022-05-24T18:15:56.896Z"
   },
   {
    "duration": 130,
    "start_time": "2022-05-24T18:15:57.030Z"
   },
   {
    "duration": 11,
    "start_time": "2022-05-24T18:15:57.162Z"
   },
   {
    "duration": 12,
    "start_time": "2022-05-24T18:15:57.175Z"
   },
   {
    "duration": 107,
    "start_time": "2022-05-24T18:15:57.189Z"
   },
   {
    "duration": 86,
    "start_time": "2022-05-24T18:15:57.298Z"
   },
   {
    "duration": 65,
    "start_time": "2022-05-24T18:15:57.386Z"
   },
   {
    "duration": 10,
    "start_time": "2022-05-24T18:15:57.452Z"
   },
   {
    "duration": 16,
    "start_time": "2022-05-24T18:15:57.464Z"
   },
   {
    "duration": 47,
    "start_time": "2022-05-24T18:15:57.482Z"
   },
   {
    "duration": 17,
    "start_time": "2022-05-24T18:15:57.536Z"
   },
   {
    "duration": 13,
    "start_time": "2022-05-24T18:15:57.555Z"
   },
   {
    "duration": 38521,
    "start_time": "2022-05-24T18:16:00.648Z"
   },
   {
    "duration": 39716,
    "start_time": "2022-05-24T18:17:33.864Z"
   },
   {
    "duration": 78,
    "start_time": "2022-05-24T18:21:41.069Z"
   },
   {
    "duration": 73,
    "start_time": "2022-05-24T18:21:47.367Z"
   },
   {
    "duration": 75,
    "start_time": "2022-05-24T18:21:55.798Z"
   },
   {
    "duration": 74,
    "start_time": "2022-05-24T18:22:05.364Z"
   },
   {
    "duration": 66,
    "start_time": "2022-05-24T18:22:20.149Z"
   },
   {
    "duration": 47,
    "start_time": "2022-05-24T18:22:28.305Z"
   },
   {
    "duration": 21,
    "start_time": "2022-05-24T18:22:38.883Z"
   },
   {
    "duration": 16,
    "start_time": "2022-05-24T18:22:45.160Z"
   },
   {
    "duration": 10,
    "start_time": "2022-05-24T18:22:54.792Z"
   },
   {
    "duration": 193,
    "start_time": "2022-05-24T18:23:00.612Z"
   },
   {
    "duration": 167,
    "start_time": "2022-05-24T18:23:00.807Z"
   },
   {
    "duration": 118,
    "start_time": "2022-05-24T18:23:00.976Z"
   },
   {
    "duration": 30,
    "start_time": "2022-05-24T18:23:01.097Z"
   },
   {
    "duration": 52,
    "start_time": "2022-05-24T18:23:01.129Z"
   },
   {
    "duration": 10,
    "start_time": "2022-05-24T18:23:01.182Z"
   },
   {
    "duration": 161,
    "start_time": "2022-05-24T18:23:01.194Z"
   },
   {
    "duration": 128,
    "start_time": "2022-05-24T18:23:01.357Z"
   },
   {
    "duration": 10,
    "start_time": "2022-05-24T18:23:01.487Z"
   },
   {
    "duration": 13,
    "start_time": "2022-05-24T18:23:01.529Z"
   },
   {
    "duration": 104,
    "start_time": "2022-05-24T18:23:01.544Z"
   },
   {
    "duration": 83,
    "start_time": "2022-05-24T18:23:01.651Z"
   },
   {
    "duration": 77,
    "start_time": "2022-05-24T18:23:01.736Z"
   },
   {
    "duration": 13,
    "start_time": "2022-05-24T18:23:01.827Z"
   },
   {
    "duration": 13,
    "start_time": "2022-05-24T18:23:13.064Z"
   },
   {
    "duration": 30,
    "start_time": "2022-05-24T18:23:34.166Z"
   },
   {
    "duration": 229,
    "start_time": "2022-05-24T18:24:06.258Z"
   },
   {
    "duration": 197,
    "start_time": "2022-05-24T18:24:06.490Z"
   },
   {
    "duration": 106,
    "start_time": "2022-05-24T18:24:06.689Z"
   },
   {
    "duration": 26,
    "start_time": "2022-05-24T18:24:06.797Z"
   },
   {
    "duration": 42,
    "start_time": "2022-05-24T18:24:06.825Z"
   },
   {
    "duration": 11,
    "start_time": "2022-05-24T18:24:06.869Z"
   },
   {
    "duration": 131,
    "start_time": "2022-05-24T18:24:06.881Z"
   },
   {
    "duration": 129,
    "start_time": "2022-05-24T18:24:07.027Z"
   },
   {
    "duration": 12,
    "start_time": "2022-05-24T18:24:07.159Z"
   },
   {
    "duration": 13,
    "start_time": "2022-05-24T18:24:07.173Z"
   },
   {
    "duration": 120,
    "start_time": "2022-05-24T18:24:07.188Z"
   },
   {
    "duration": 64,
    "start_time": "2022-05-24T18:24:07.310Z"
   },
   {
    "duration": 185,
    "start_time": "2022-05-24T18:24:07.377Z"
   },
   {
    "duration": 11,
    "start_time": "2022-05-24T18:24:07.563Z"
   },
   {
    "duration": 56,
    "start_time": "2022-05-24T18:24:07.576Z"
   },
   {
    "duration": 24,
    "start_time": "2022-05-24T18:24:07.634Z"
   },
   {
    "duration": 19,
    "start_time": "2022-05-24T18:24:07.660Z"
   },
   {
    "duration": 50,
    "start_time": "2022-05-24T18:24:07.681Z"
   },
   {
    "duration": 38428,
    "start_time": "2022-05-24T18:24:07.733Z"
   },
   {
    "duration": 179,
    "start_time": "2022-05-24T18:33:02.614Z"
   },
   {
    "duration": 155,
    "start_time": "2022-05-24T18:33:02.795Z"
   },
   {
    "duration": 107,
    "start_time": "2022-05-24T18:33:02.952Z"
   },
   {
    "duration": 28,
    "start_time": "2022-05-24T18:33:03.062Z"
   },
   {
    "duration": 42,
    "start_time": "2022-05-24T18:33:03.092Z"
   },
   {
    "duration": 14,
    "start_time": "2022-05-24T18:33:03.136Z"
   },
   {
    "duration": 150,
    "start_time": "2022-05-24T18:33:03.153Z"
   },
   {
    "duration": 124,
    "start_time": "2022-05-24T18:33:03.305Z"
   },
   {
    "duration": 10,
    "start_time": "2022-05-24T18:33:03.431Z"
   },
   {
    "duration": 11,
    "start_time": "2022-05-24T18:33:03.443Z"
   },
   {
    "duration": 97,
    "start_time": "2022-05-24T18:33:03.455Z"
   },
   {
    "duration": 64,
    "start_time": "2022-05-24T18:33:03.554Z"
   },
   {
    "duration": 49,
    "start_time": "2022-05-24T18:33:03.620Z"
   },
   {
    "duration": 8,
    "start_time": "2022-05-24T18:33:03.670Z"
   },
   {
    "duration": 20,
    "start_time": "2022-05-24T18:33:07.496Z"
   },
   {
    "duration": 23,
    "start_time": "2022-05-24T18:33:35.363Z"
   },
   {
    "duration": 174,
    "start_time": "2022-05-24T18:34:10.133Z"
   },
   {
    "duration": 143,
    "start_time": "2022-05-24T18:34:10.309Z"
   },
   {
    "duration": 100,
    "start_time": "2022-05-24T18:34:10.454Z"
   },
   {
    "duration": 28,
    "start_time": "2022-05-24T18:34:10.556Z"
   },
   {
    "duration": 40,
    "start_time": "2022-05-24T18:34:10.586Z"
   },
   {
    "duration": 9,
    "start_time": "2022-05-24T18:34:10.628Z"
   },
   {
    "duration": 129,
    "start_time": "2022-05-24T18:34:10.639Z"
   },
   {
    "duration": 120,
    "start_time": "2022-05-24T18:34:10.770Z"
   },
   {
    "duration": 9,
    "start_time": "2022-05-24T18:34:10.891Z"
   },
   {
    "duration": 9,
    "start_time": "2022-05-24T18:34:10.926Z"
   },
   {
    "duration": 70,
    "start_time": "2022-05-24T18:34:10.936Z"
   },
   {
    "duration": 67,
    "start_time": "2022-05-24T18:34:11.008Z"
   },
   {
    "duration": 61,
    "start_time": "2022-05-24T18:34:11.077Z"
   },
   {
    "duration": 8,
    "start_time": "2022-05-24T18:34:11.139Z"
   },
   {
    "duration": 40,
    "start_time": "2022-05-24T18:34:11.149Z"
   },
   {
    "duration": 37,
    "start_time": "2022-05-24T18:34:11.190Z"
   },
   {
    "duration": 11,
    "start_time": "2022-05-24T18:34:11.229Z"
   },
   {
    "duration": 16,
    "start_time": "2022-05-24T18:34:13.209Z"
   },
   {
    "duration": 38445,
    "start_time": "2022-05-24T18:34:26.614Z"
   },
   {
    "duration": 43426,
    "start_time": "2022-05-24T18:38:06.272Z"
   },
   {
    "duration": 189,
    "start_time": "2022-05-24T18:39:36.577Z"
   },
   {
    "duration": 154,
    "start_time": "2022-05-24T18:39:36.767Z"
   },
   {
    "duration": 107,
    "start_time": "2022-05-24T18:39:36.922Z"
   },
   {
    "duration": 37,
    "start_time": "2022-05-24T18:39:37.032Z"
   },
   {
    "duration": 40,
    "start_time": "2022-05-24T18:39:37.070Z"
   },
   {
    "duration": 10,
    "start_time": "2022-05-24T18:39:37.112Z"
   },
   {
    "duration": 168,
    "start_time": "2022-05-24T18:39:37.124Z"
   },
   {
    "duration": 152,
    "start_time": "2022-05-24T18:39:37.294Z"
   },
   {
    "duration": 11,
    "start_time": "2022-05-24T18:39:37.449Z"
   },
   {
    "duration": 19,
    "start_time": "2022-05-24T18:39:37.462Z"
   },
   {
    "duration": 98,
    "start_time": "2022-05-24T18:39:37.483Z"
   },
   {
    "duration": 66,
    "start_time": "2022-05-24T18:39:37.582Z"
   },
   {
    "duration": 50,
    "start_time": "2022-05-24T18:39:37.650Z"
   },
   {
    "duration": 25,
    "start_time": "2022-05-24T18:39:37.702Z"
   },
   {
    "duration": 41,
    "start_time": "2022-05-24T18:39:37.729Z"
   },
   {
    "duration": 17,
    "start_time": "2022-05-24T18:39:37.772Z"
   },
   {
    "duration": 11,
    "start_time": "2022-05-24T18:39:37.790Z"
   },
   {
    "duration": 42,
    "start_time": "2022-05-24T18:39:37.803Z"
   },
   {
    "duration": 353,
    "start_time": "2022-05-24T18:39:49.544Z"
   },
   {
    "duration": 42,
    "start_time": "2022-05-24T18:40:41.271Z"
   },
   {
    "duration": 57,
    "start_time": "2022-05-24T18:43:08.233Z"
   },
   {
    "duration": 47,
    "start_time": "2022-05-24T18:44:22.244Z"
   },
   {
    "duration": 46,
    "start_time": "2022-05-24T18:44:30.245Z"
   },
   {
    "duration": 65,
    "start_time": "2022-05-24T18:49:36.304Z"
   },
   {
    "duration": 762,
    "start_time": "2022-05-24T18:50:03.866Z"
   },
   {
    "duration": 436,
    "start_time": "2022-05-24T18:51:33.060Z"
   },
   {
    "duration": 5233,
    "start_time": "2022-05-24T18:52:02.620Z"
   },
   {
    "duration": 158,
    "start_time": "2022-05-24T18:52:34.451Z"
   },
   {
    "duration": 143,
    "start_time": "2022-05-24T18:52:34.611Z"
   },
   {
    "duration": 109,
    "start_time": "2022-05-24T18:52:34.756Z"
   },
   {
    "duration": 28,
    "start_time": "2022-05-24T18:52:34.868Z"
   },
   {
    "duration": 43,
    "start_time": "2022-05-24T18:52:34.898Z"
   },
   {
    "duration": 11,
    "start_time": "2022-05-24T18:52:34.943Z"
   },
   {
    "duration": 131,
    "start_time": "2022-05-24T18:52:34.956Z"
   },
   {
    "duration": 116,
    "start_time": "2022-05-24T18:52:35.089Z"
   },
   {
    "duration": 10,
    "start_time": "2022-05-24T18:52:35.227Z"
   },
   {
    "duration": 23,
    "start_time": "2022-05-24T18:52:35.239Z"
   },
   {
    "duration": 96,
    "start_time": "2022-05-24T18:52:35.265Z"
   },
   {
    "duration": 50,
    "start_time": "2022-05-24T18:52:35.363Z"
   },
   {
    "duration": 50,
    "start_time": "2022-05-24T18:52:35.426Z"
   },
   {
    "duration": 9,
    "start_time": "2022-05-24T18:52:35.478Z"
   },
   {
    "duration": 56,
    "start_time": "2022-05-24T18:52:35.488Z"
   },
   {
    "duration": 24,
    "start_time": "2022-05-24T18:52:35.546Z"
   },
   {
    "duration": 15,
    "start_time": "2022-05-24T18:52:35.572Z"
   },
   {
    "duration": 47,
    "start_time": "2022-05-24T18:52:35.590Z"
   },
   {
    "duration": 9594,
    "start_time": "2022-05-24T18:52:38.487Z"
   },
   {
    "duration": 194,
    "start_time": "2022-05-24T18:52:57.009Z"
   },
   {
    "duration": 151,
    "start_time": "2022-05-24T18:52:57.205Z"
   },
   {
    "duration": 101,
    "start_time": "2022-05-24T18:52:57.358Z"
   },
   {
    "duration": 35,
    "start_time": "2022-05-24T18:52:57.461Z"
   },
   {
    "duration": 53,
    "start_time": "2022-05-24T18:52:57.498Z"
   },
   {
    "duration": 12,
    "start_time": "2022-05-24T18:52:57.553Z"
   },
   {
    "duration": 132,
    "start_time": "2022-05-24T18:52:57.567Z"
   },
   {
    "duration": 136,
    "start_time": "2022-05-24T18:52:57.702Z"
   },
   {
    "duration": 15,
    "start_time": "2022-05-24T18:52:57.840Z"
   },
   {
    "duration": 11,
    "start_time": "2022-05-24T18:52:57.858Z"
   },
   {
    "duration": 90,
    "start_time": "2022-05-24T18:52:57.870Z"
   },
   {
    "duration": 48,
    "start_time": "2022-05-24T18:52:57.961Z"
   },
   {
    "duration": 168,
    "start_time": "2022-05-24T18:52:58.026Z"
   },
   {
    "duration": 7,
    "start_time": "2022-05-24T18:52:58.196Z"
   },
   {
    "duration": 44,
    "start_time": "2022-05-24T18:52:58.205Z"
   },
   {
    "duration": 17,
    "start_time": "2022-05-24T18:52:58.251Z"
   },
   {
    "duration": 10,
    "start_time": "2022-05-24T18:52:58.270Z"
   },
   {
    "duration": 47,
    "start_time": "2022-05-24T18:52:58.281Z"
   },
   {
    "duration": 30675,
    "start_time": "2022-05-24T18:53:06.325Z"
   },
   {
    "duration": 169,
    "start_time": "2022-05-24T18:53:42.272Z"
   },
   {
    "duration": 137,
    "start_time": "2022-05-24T18:53:42.443Z"
   },
   {
    "duration": 95,
    "start_time": "2022-05-24T18:53:42.582Z"
   },
   {
    "duration": 28,
    "start_time": "2022-05-24T18:53:42.680Z"
   },
   {
    "duration": 39,
    "start_time": "2022-05-24T18:53:42.710Z"
   },
   {
    "duration": 11,
    "start_time": "2022-05-24T18:53:42.751Z"
   },
   {
    "duration": 132,
    "start_time": "2022-05-24T18:53:42.764Z"
   },
   {
    "duration": 109,
    "start_time": "2022-05-24T18:53:42.898Z"
   },
   {
    "duration": 27,
    "start_time": "2022-05-24T18:53:43.009Z"
   },
   {
    "duration": 12,
    "start_time": "2022-05-24T18:53:43.038Z"
   },
   {
    "duration": 98,
    "start_time": "2022-05-24T18:53:43.052Z"
   },
   {
    "duration": 52,
    "start_time": "2022-05-24T18:53:43.151Z"
   },
   {
    "duration": 69,
    "start_time": "2022-05-24T18:53:43.204Z"
   },
   {
    "duration": 9,
    "start_time": "2022-05-24T18:53:43.275Z"
   },
   {
    "duration": 51,
    "start_time": "2022-05-24T18:53:43.285Z"
   },
   {
    "duration": 17,
    "start_time": "2022-05-24T18:53:43.338Z"
   },
   {
    "duration": 16,
    "start_time": "2022-05-24T18:53:43.357Z"
   },
   {
    "duration": 17,
    "start_time": "2022-05-24T18:53:43.375Z"
   },
   {
    "duration": 36451,
    "start_time": "2022-05-24T18:53:43.832Z"
   },
   {
    "duration": 2,
    "start_time": "2022-05-24T19:01:33.922Z"
   },
   {
    "duration": 17,
    "start_time": "2022-05-24T19:06:58.452Z"
   },
   {
    "duration": 15,
    "start_time": "2022-05-24T19:21:51.933Z"
   },
   {
    "duration": 167,
    "start_time": "2022-05-24T19:23:12.897Z"
   },
   {
    "duration": 148,
    "start_time": "2022-05-24T19:23:13.065Z"
   },
   {
    "duration": 115,
    "start_time": "2022-05-24T19:23:13.215Z"
   },
   {
    "duration": 34,
    "start_time": "2022-05-24T19:23:13.332Z"
   },
   {
    "duration": 40,
    "start_time": "2022-05-24T19:23:13.367Z"
   },
   {
    "duration": 10,
    "start_time": "2022-05-24T19:23:13.408Z"
   },
   {
    "duration": 136,
    "start_time": "2022-05-24T19:23:13.419Z"
   },
   {
    "duration": 115,
    "start_time": "2022-05-24T19:23:13.556Z"
   },
   {
    "duration": 9,
    "start_time": "2022-05-24T19:23:13.673Z"
   },
   {
    "duration": 31,
    "start_time": "2022-05-24T19:23:13.685Z"
   },
   {
    "duration": 89,
    "start_time": "2022-05-24T19:23:13.718Z"
   },
   {
    "duration": 55,
    "start_time": "2022-05-24T19:23:13.810Z"
   },
   {
    "duration": 62,
    "start_time": "2022-05-24T19:23:13.868Z"
   },
   {
    "duration": 8,
    "start_time": "2022-05-24T19:23:13.933Z"
   },
   {
    "duration": 50,
    "start_time": "2022-05-24T19:23:13.943Z"
   },
   {
    "duration": 35,
    "start_time": "2022-05-24T19:23:13.994Z"
   },
   {
    "duration": 12,
    "start_time": "2022-05-24T19:23:14.030Z"
   },
   {
    "duration": 34,
    "start_time": "2022-05-24T19:23:14.043Z"
   },
   {
    "duration": 37513,
    "start_time": "2022-05-24T19:23:14.079Z"
   },
   {
    "duration": 15,
    "start_time": "2022-05-24T19:23:51.594Z"
   },
   {
    "duration": 17,
    "start_time": "2022-05-24T19:28:38.720Z"
   },
   {
    "duration": 16,
    "start_time": "2022-05-24T19:33:11.368Z"
   },
   {
    "duration": 17,
    "start_time": "2022-05-24T19:33:28.323Z"
   },
   {
    "duration": 15,
    "start_time": "2022-05-24T19:34:52.000Z"
   },
   {
    "duration": 165,
    "start_time": "2022-05-24T19:38:39.001Z"
   },
   {
    "duration": 131,
    "start_time": "2022-05-24T19:38:39.168Z"
   },
   {
    "duration": 96,
    "start_time": "2022-05-24T19:38:39.301Z"
   },
   {
    "duration": 28,
    "start_time": "2022-05-24T19:38:39.399Z"
   },
   {
    "duration": 48,
    "start_time": "2022-05-24T19:38:39.429Z"
   },
   {
    "duration": 9,
    "start_time": "2022-05-24T19:38:39.478Z"
   },
   {
    "duration": 118,
    "start_time": "2022-05-24T19:38:39.488Z"
   },
   {
    "duration": 123,
    "start_time": "2022-05-24T19:38:39.608Z"
   },
   {
    "duration": 9,
    "start_time": "2022-05-24T19:38:39.732Z"
   },
   {
    "duration": 10,
    "start_time": "2022-05-24T19:38:39.743Z"
   },
   {
    "duration": 88,
    "start_time": "2022-05-24T19:38:39.755Z"
   },
   {
    "duration": 49,
    "start_time": "2022-05-24T19:38:39.844Z"
   },
   {
    "duration": 186,
    "start_time": "2022-05-24T19:38:39.895Z"
   },
   {
    "duration": 8,
    "start_time": "2022-05-24T19:38:40.084Z"
   },
   {
    "duration": 37,
    "start_time": "2022-05-24T19:38:40.093Z"
   },
   {
    "duration": 15,
    "start_time": "2022-05-24T19:38:40.131Z"
   },
   {
    "duration": 12,
    "start_time": "2022-05-24T19:38:40.147Z"
   },
   {
    "duration": 17,
    "start_time": "2022-05-24T19:38:40.160Z"
   },
   {
    "duration": 35586,
    "start_time": "2022-05-24T19:38:42.411Z"
   },
   {
    "duration": 29,
    "start_time": "2022-05-24T19:43:52.551Z"
   },
   {
    "duration": 1349,
    "start_time": "2022-05-25T03:32:36.517Z"
   },
   {
    "duration": 334,
    "start_time": "2022-05-25T03:32:37.868Z"
   },
   {
    "duration": 652,
    "start_time": "2022-05-25T03:32:38.204Z"
   },
   {
    "duration": 81,
    "start_time": "2022-05-25T03:32:38.858Z"
   },
   {
    "duration": 67,
    "start_time": "2022-05-25T03:32:38.941Z"
   },
   {
    "duration": 10,
    "start_time": "2022-05-25T03:32:39.009Z"
   },
   {
    "duration": 114,
    "start_time": "2022-05-25T03:32:39.020Z"
   },
   {
    "duration": 111,
    "start_time": "2022-05-25T03:32:39.136Z"
   },
   {
    "duration": 8,
    "start_time": "2022-05-25T03:32:39.249Z"
   },
   {
    "duration": 17,
    "start_time": "2022-05-25T03:32:39.259Z"
   },
   {
    "duration": 111,
    "start_time": "2022-05-25T03:32:39.278Z"
   },
   {
    "duration": 63,
    "start_time": "2022-05-25T03:32:39.391Z"
   },
   {
    "duration": 52,
    "start_time": "2022-05-25T03:32:39.455Z"
   },
   {
    "duration": 24,
    "start_time": "2022-05-25T03:32:39.509Z"
   },
   {
    "duration": 17,
    "start_time": "2022-05-25T03:32:39.534Z"
   },
   {
    "duration": 16,
    "start_time": "2022-05-25T03:32:39.552Z"
   },
   {
    "duration": 12,
    "start_time": "2022-05-25T03:32:39.570Z"
   },
   {
    "duration": 46,
    "start_time": "2022-05-25T03:32:39.583Z"
   },
   {
    "duration": 30428,
    "start_time": "2022-05-25T03:32:39.631Z"
   },
   {
    "duration": 17,
    "start_time": "2022-05-25T03:33:10.061Z"
   },
   {
    "duration": 21,
    "start_time": "2022-05-25T03:45:22.953Z"
   },
   {
    "duration": 34,
    "start_time": "2022-05-25T03:46:10.707Z"
   },
   {
    "duration": 15,
    "start_time": "2022-05-25T03:47:21.034Z"
   },
   {
    "duration": 913,
    "start_time": "2022-05-25T03:50:28.606Z"
   },
   {
    "duration": 158,
    "start_time": "2022-05-25T03:50:29.526Z"
   },
   {
    "duration": 106,
    "start_time": "2022-05-25T03:50:29.685Z"
   },
   {
    "duration": 27,
    "start_time": "2022-05-25T03:50:29.793Z"
   },
   {
    "duration": 39,
    "start_time": "2022-05-25T03:50:29.822Z"
   },
   {
    "duration": 9,
    "start_time": "2022-05-25T03:50:29.863Z"
   },
   {
    "duration": 122,
    "start_time": "2022-05-25T03:50:29.874Z"
   },
   {
    "duration": 133,
    "start_time": "2022-05-25T03:50:29.998Z"
   },
   {
    "duration": 11,
    "start_time": "2022-05-25T03:50:30.133Z"
   },
   {
    "duration": 19,
    "start_time": "2022-05-25T03:50:30.146Z"
   },
   {
    "duration": 99,
    "start_time": "2022-05-25T03:50:30.166Z"
   },
   {
    "duration": 67,
    "start_time": "2022-05-25T03:50:30.267Z"
   },
   {
    "duration": 49,
    "start_time": "2022-05-25T03:50:30.335Z"
   },
   {
    "duration": 7,
    "start_time": "2022-05-25T03:50:30.387Z"
   },
   {
    "duration": 39,
    "start_time": "2022-05-25T03:50:30.396Z"
   },
   {
    "duration": 20,
    "start_time": "2022-05-25T03:50:30.436Z"
   },
   {
    "duration": 12,
    "start_time": "2022-05-25T03:50:30.458Z"
   },
   {
    "duration": 18,
    "start_time": "2022-05-25T03:50:30.471Z"
   },
   {
    "duration": 38037,
    "start_time": "2022-05-25T03:50:30.490Z"
   },
   {
    "duration": 18,
    "start_time": "2022-05-25T03:51:08.529Z"
   },
   {
    "duration": 392,
    "start_time": "2022-05-25T03:51:08.549Z"
   },
   {
    "duration": 641,
    "start_time": "2022-05-25T03:54:17.298Z"
   },
   {
    "duration": 344,
    "start_time": "2022-05-25T03:54:32.110Z"
   },
   {
    "duration": 338,
    "start_time": "2022-05-25T03:54:42.782Z"
   },
   {
    "duration": 298,
    "start_time": "2022-05-25T03:56:35.557Z"
   },
   {
    "duration": 347,
    "start_time": "2022-05-25T03:56:46.797Z"
   },
   {
    "duration": 361,
    "start_time": "2022-05-25T03:57:42.956Z"
   },
   {
    "duration": 298,
    "start_time": "2022-05-25T03:58:18.213Z"
   },
   {
    "duration": 303,
    "start_time": "2022-05-25T03:58:22.298Z"
   },
   {
    "duration": 347,
    "start_time": "2022-05-25T04:01:08.393Z"
   },
   {
    "duration": 354,
    "start_time": "2022-05-25T04:01:23.799Z"
   },
   {
    "duration": 353,
    "start_time": "2022-05-25T04:02:02.576Z"
   },
   {
    "duration": 170,
    "start_time": "2022-05-25T04:05:17.003Z"
   },
   {
    "duration": 192,
    "start_time": "2022-05-25T04:05:49.630Z"
   },
   {
    "duration": 187,
    "start_time": "2022-05-25T04:06:27.480Z"
   },
   {
    "duration": 191,
    "start_time": "2022-05-25T04:06:32.047Z"
   },
   {
    "duration": 388,
    "start_time": "2022-05-25T04:07:33.097Z"
   },
   {
    "duration": 154,
    "start_time": "2022-05-25T04:07:41.343Z"
   },
   {
    "duration": 230,
    "start_time": "2022-05-25T04:07:51.074Z"
   },
   {
    "duration": 176,
    "start_time": "2022-05-25T04:07:56.257Z"
   },
   {
    "duration": 133,
    "start_time": "2022-05-25T04:08:55.561Z"
   },
   {
    "duration": 112,
    "start_time": "2022-05-25T04:09:14.263Z"
   },
   {
    "duration": 289,
    "start_time": "2022-05-25T04:09:52.771Z"
   },
   {
    "duration": 187,
    "start_time": "2022-05-25T04:10:01.477Z"
   },
   {
    "duration": 190,
    "start_time": "2022-05-25T04:10:06.145Z"
   },
   {
    "duration": 195,
    "start_time": "2022-05-25T04:10:16.852Z"
   },
   {
    "duration": 389,
    "start_time": "2022-05-25T04:10:52.589Z"
   },
   {
    "duration": 229,
    "start_time": "2022-05-25T04:11:33.523Z"
   },
   {
    "duration": 189,
    "start_time": "2022-05-25T04:12:04.850Z"
   },
   {
    "duration": 146,
    "start_time": "2022-05-25T04:12:05.041Z"
   },
   {
    "duration": 106,
    "start_time": "2022-05-25T04:12:05.189Z"
   },
   {
    "duration": 26,
    "start_time": "2022-05-25T04:12:05.297Z"
   },
   {
    "duration": 39,
    "start_time": "2022-05-25T04:12:05.325Z"
   },
   {
    "duration": 11,
    "start_time": "2022-05-25T04:12:05.366Z"
   },
   {
    "duration": 127,
    "start_time": "2022-05-25T04:12:05.378Z"
   },
   {
    "duration": 127,
    "start_time": "2022-05-25T04:12:05.507Z"
   },
   {
    "duration": 9,
    "start_time": "2022-05-25T04:12:05.636Z"
   },
   {
    "duration": 11,
    "start_time": "2022-05-25T04:12:05.646Z"
   },
   {
    "duration": 194,
    "start_time": "2022-05-25T04:12:05.658Z"
   },
   {
    "duration": 187,
    "start_time": "2022-05-25T04:12:09.296Z"
   },
   {
    "duration": 205,
    "start_time": "2022-05-25T04:12:28.591Z"
   },
   {
    "duration": 407,
    "start_time": "2022-05-25T04:12:39.534Z"
   },
   {
    "duration": 205,
    "start_time": "2022-05-25T04:12:48.027Z"
   },
   {
    "duration": 394,
    "start_time": "2022-05-25T04:14:30.025Z"
   },
   {
    "duration": 192,
    "start_time": "2022-05-25T04:14:45.091Z"
   },
   {
    "duration": 205,
    "start_time": "2022-05-25T04:15:00.726Z"
   },
   {
    "duration": 191,
    "start_time": "2022-05-25T04:15:10.651Z"
   },
   {
    "duration": 40,
    "start_time": "2022-05-25T04:16:46.672Z"
   },
   {
    "duration": 11,
    "start_time": "2022-05-25T04:17:19.156Z"
   },
   {
    "duration": 301,
    "start_time": "2022-05-25T04:19:02.491Z"
   },
   {
    "duration": 3,
    "start_time": "2022-05-25T04:20:45.656Z"
   },
   {
    "duration": 2,
    "start_time": "2022-05-25T04:20:49.265Z"
   },
   {
    "duration": 603,
    "start_time": "2022-05-25T04:25:39.027Z"
   },
   {
    "duration": 376,
    "start_time": "2022-05-25T04:26:05.682Z"
   },
   {
    "duration": 32,
    "start_time": "2022-05-25T04:29:34.212Z"
   },
   {
    "duration": 20,
    "start_time": "2022-05-25T04:31:29.065Z"
   },
   {
    "duration": 102,
    "start_time": "2022-05-25T04:31:37.154Z"
   },
   {
    "duration": 124,
    "start_time": "2022-05-25T04:33:00.848Z"
   },
   {
    "duration": 191,
    "start_time": "2022-05-25T04:35:26.046Z"
   },
   {
    "duration": 150,
    "start_time": "2022-05-25T04:35:26.240Z"
   },
   {
    "duration": 108,
    "start_time": "2022-05-25T04:35:26.392Z"
   },
   {
    "duration": 27,
    "start_time": "2022-05-25T04:35:26.502Z"
   },
   {
    "duration": 40,
    "start_time": "2022-05-25T04:35:26.531Z"
   },
   {
    "duration": 9,
    "start_time": "2022-05-25T04:35:26.573Z"
   },
   {
    "duration": 118,
    "start_time": "2022-05-25T04:35:26.584Z"
   },
   {
    "duration": 135,
    "start_time": "2022-05-25T04:35:26.704Z"
   },
   {
    "duration": 9,
    "start_time": "2022-05-25T04:35:26.841Z"
   },
   {
    "duration": 10,
    "start_time": "2022-05-25T04:35:26.853Z"
   },
   {
    "duration": 9,
    "start_time": "2022-05-25T04:35:26.864Z"
   },
   {
    "duration": 6,
    "start_time": "2022-05-25T04:35:26.874Z"
   },
   {
    "duration": 104,
    "start_time": "2022-05-25T04:35:26.881Z"
   },
   {
    "duration": 59,
    "start_time": "2022-05-25T04:35:26.987Z"
   },
   {
    "duration": 47,
    "start_time": "2022-05-25T04:35:27.047Z"
   },
   {
    "duration": 9,
    "start_time": "2022-05-25T04:35:27.095Z"
   },
   {
    "duration": 16,
    "start_time": "2022-05-25T04:35:27.127Z"
   },
   {
    "duration": 15,
    "start_time": "2022-05-25T04:35:27.145Z"
   },
   {
    "duration": 12,
    "start_time": "2022-05-25T04:35:27.162Z"
   },
   {
    "duration": 14,
    "start_time": "2022-05-25T04:35:27.175Z"
   },
   {
    "duration": 39467,
    "start_time": "2022-05-25T04:35:27.227Z"
   },
   {
    "duration": 32,
    "start_time": "2022-05-25T04:36:06.695Z"
   },
   {
    "duration": 499,
    "start_time": "2022-05-25T04:36:06.729Z"
   },
   {
    "duration": 378,
    "start_time": "2022-05-25T04:36:07.230Z"
   },
   {
    "duration": 355,
    "start_time": "2022-05-25T04:36:07.609Z"
   },
   {
    "duration": 309,
    "start_time": "2022-05-25T04:36:07.966Z"
   },
   {
    "duration": 307,
    "start_time": "2022-05-25T04:36:08.276Z"
   },
   {
    "duration": 317,
    "start_time": "2022-05-25T04:36:08.586Z"
   },
   {
    "duration": 145,
    "start_time": "2022-05-25T04:36:08.905Z"
   },
   {
    "duration": 12,
    "start_time": "2022-05-25T04:54:44.221Z"
   },
   {
    "duration": 15,
    "start_time": "2022-05-25T04:55:05.218Z"
   },
   {
    "duration": 21,
    "start_time": "2022-05-25T04:55:32.357Z"
   },
   {
    "duration": 19,
    "start_time": "2022-05-25T06:02:05.050Z"
   },
   {
    "duration": 4,
    "start_time": "2022-05-25T06:30:04.654Z"
   },
   {
    "duration": 10,
    "start_time": "2022-05-25T06:30:24.001Z"
   },
   {
    "duration": 12,
    "start_time": "2022-05-25T06:32:23.330Z"
   },
   {
    "duration": 12,
    "start_time": "2022-05-25T06:32:50.634Z"
   },
   {
    "duration": 528,
    "start_time": "2022-05-25T06:33:31.556Z"
   },
   {
    "duration": 86,
    "start_time": "2022-05-25T07:04:04.493Z"
   },
   {
    "duration": 31,
    "start_time": "2022-05-25T07:04:27.725Z"
   },
   {
    "duration": 42,
    "start_time": "2022-05-25T07:04:49.581Z"
   },
   {
    "duration": 1709,
    "start_time": "2022-05-25T17:24:22.748Z"
   },
   {
    "duration": 344,
    "start_time": "2022-05-25T17:24:24.459Z"
   },
   {
    "duration": 332,
    "start_time": "2022-05-25T17:24:24.805Z"
   },
   {
    "duration": 69,
    "start_time": "2022-05-25T17:24:25.139Z"
   },
   {
    "duration": 67,
    "start_time": "2022-05-25T17:24:25.211Z"
   },
   {
    "duration": 11,
    "start_time": "2022-05-25T17:24:25.280Z"
   },
   {
    "duration": 118,
    "start_time": "2022-05-25T17:24:25.293Z"
   },
   {
    "duration": 133,
    "start_time": "2022-05-25T17:24:25.413Z"
   },
   {
    "duration": 11,
    "start_time": "2022-05-25T17:24:25.547Z"
   },
   {
    "duration": 9,
    "start_time": "2022-05-25T17:24:25.560Z"
   },
   {
    "duration": 3,
    "start_time": "2022-05-25T17:24:25.571Z"
   },
   {
    "duration": 8,
    "start_time": "2022-05-25T17:24:25.575Z"
   },
   {
    "duration": 120,
    "start_time": "2022-05-25T17:24:25.585Z"
   },
   {
    "duration": 134,
    "start_time": "2022-05-25T17:24:25.708Z"
   },
   {
    "duration": 49,
    "start_time": "2022-05-25T17:24:25.844Z"
   },
   {
    "duration": 8,
    "start_time": "2022-05-25T17:24:25.895Z"
   },
   {
    "duration": 34,
    "start_time": "2022-05-25T17:24:25.905Z"
   },
   {
    "duration": 25,
    "start_time": "2022-05-25T17:24:25.941Z"
   },
   {
    "duration": 18,
    "start_time": "2022-05-25T17:24:25.968Z"
   },
   {
    "duration": 48,
    "start_time": "2022-05-25T17:24:25.988Z"
   },
   {
    "duration": 39833,
    "start_time": "2022-05-25T17:24:26.038Z"
   },
   {
    "duration": 17,
    "start_time": "2022-05-25T17:25:05.873Z"
   },
   {
    "duration": 5,
    "start_time": "2022-05-25T17:25:05.892Z"
   },
   {
    "duration": 0,
    "start_time": "2022-05-25T17:25:05.898Z"
   },
   {
    "duration": 0,
    "start_time": "2022-05-25T17:25:05.899Z"
   },
   {
    "duration": 0,
    "start_time": "2022-05-25T17:25:05.900Z"
   },
   {
    "duration": 0,
    "start_time": "2022-05-25T17:25:05.901Z"
   },
   {
    "duration": 0,
    "start_time": "2022-05-25T17:25:05.902Z"
   },
   {
    "duration": 0,
    "start_time": "2022-05-25T17:25:05.922Z"
   },
   {
    "duration": 0,
    "start_time": "2022-05-25T17:25:05.923Z"
   },
   {
    "duration": 44,
    "start_time": "2022-05-25T17:27:05.340Z"
   },
   {
    "duration": 182,
    "start_time": "2022-05-25T17:34:04.716Z"
   },
   {
    "duration": 41,
    "start_time": "2022-05-25T17:35:02.306Z"
   },
   {
    "duration": 41,
    "start_time": "2022-05-25T17:38:58.679Z"
   },
   {
    "duration": 3,
    "start_time": "2022-05-25T17:39:17.959Z"
   },
   {
    "duration": 35,
    "start_time": "2022-05-25T17:42:24.602Z"
   },
   {
    "duration": 30,
    "start_time": "2022-05-25T17:46:16.931Z"
   },
   {
    "duration": 49,
    "start_time": "2022-05-25T17:46:32.498Z"
   },
   {
    "duration": 673,
    "start_time": "2022-05-25T17:51:57.110Z"
   },
   {
    "duration": 28,
    "start_time": "2022-05-25T17:53:57.874Z"
   },
   {
    "duration": 59,
    "start_time": "2022-05-25T17:54:44.023Z"
   },
   {
    "duration": 65,
    "start_time": "2022-05-25T17:59:57.040Z"
   },
   {
    "duration": 297,
    "start_time": "2022-05-25T19:14:26.137Z"
   },
   {
    "duration": 356,
    "start_time": "2022-05-25T19:14:29.499Z"
   },
   {
    "duration": 282,
    "start_time": "2022-05-25T19:14:55.459Z"
   },
   {
    "duration": 407,
    "start_time": "2022-05-25T19:16:05.812Z"
   },
   {
    "duration": 353,
    "start_time": "2022-05-25T19:16:22.506Z"
   },
   {
    "duration": 341,
    "start_time": "2022-05-25T19:17:21.271Z"
   },
   {
    "duration": 314,
    "start_time": "2022-05-25T19:17:25.237Z"
   },
   {
    "duration": 257,
    "start_time": "2022-05-25T19:17:27.857Z"
   },
   {
    "duration": 316,
    "start_time": "2022-05-25T19:17:32.448Z"
   },
   {
    "duration": 154,
    "start_time": "2022-05-25T19:26:37.956Z"
   },
   {
    "duration": 157,
    "start_time": "2022-05-25T19:29:08.580Z"
   },
   {
    "duration": 169,
    "start_time": "2022-05-25T19:29:22.182Z"
   },
   {
    "duration": 284,
    "start_time": "2022-05-25T19:34:31.671Z"
   },
   {
    "duration": 34,
    "start_time": "2022-05-25T19:34:44.978Z"
   },
   {
    "duration": 281,
    "start_time": "2022-05-25T19:34:50.441Z"
   },
   {
    "duration": 457,
    "start_time": "2022-05-25T19:34:56.004Z"
   },
   {
    "duration": 224,
    "start_time": "2022-05-25T19:35:11.367Z"
   },
   {
    "duration": 242,
    "start_time": "2022-05-25T19:35:16.938Z"
   },
   {
    "duration": 695,
    "start_time": "2022-05-25T19:37:40.059Z"
   },
   {
    "duration": 750,
    "start_time": "2022-05-25T19:39:06.298Z"
   },
   {
    "duration": 224,
    "start_time": "2022-05-25T19:44:08.570Z"
   },
   {
    "duration": 212,
    "start_time": "2022-05-25T19:44:32.961Z"
   },
   {
    "duration": 350,
    "start_time": "2022-05-25T19:47:09.233Z"
   },
   {
    "duration": 365,
    "start_time": "2022-05-25T19:47:14.281Z"
   },
   {
    "duration": 10,
    "start_time": "2022-05-25T19:47:21.890Z"
   },
   {
    "duration": 380,
    "start_time": "2022-05-25T19:47:51.836Z"
   },
   {
    "duration": 738,
    "start_time": "2022-05-25T19:48:07.840Z"
   },
   {
    "duration": 1705,
    "start_time": "2022-05-26T03:01:10.225Z"
   },
   {
    "duration": 338,
    "start_time": "2022-05-26T03:01:11.932Z"
   },
   {
    "duration": 324,
    "start_time": "2022-05-26T03:01:12.271Z"
   },
   {
    "duration": 70,
    "start_time": "2022-05-26T03:01:12.597Z"
   },
   {
    "duration": 67,
    "start_time": "2022-05-26T03:01:12.668Z"
   },
   {
    "duration": 11,
    "start_time": "2022-05-26T03:01:12.737Z"
   },
   {
    "duration": 145,
    "start_time": "2022-05-26T03:01:12.751Z"
   },
   {
    "duration": 140,
    "start_time": "2022-05-26T03:01:12.898Z"
   },
   {
    "duration": 13,
    "start_time": "2022-05-26T03:01:13.040Z"
   },
   {
    "duration": 12,
    "start_time": "2022-05-26T03:01:13.056Z"
   },
   {
    "duration": 5,
    "start_time": "2022-05-26T03:01:13.070Z"
   },
   {
    "duration": 4,
    "start_time": "2022-05-26T03:01:13.077Z"
   },
   {
    "duration": 127,
    "start_time": "2022-05-26T03:01:13.083Z"
   },
   {
    "duration": 127,
    "start_time": "2022-05-26T03:01:13.211Z"
   },
   {
    "duration": 54,
    "start_time": "2022-05-26T03:01:13.339Z"
   },
   {
    "duration": 8,
    "start_time": "2022-05-26T03:01:13.395Z"
   },
   {
    "duration": 17,
    "start_time": "2022-05-26T03:01:13.426Z"
   },
   {
    "duration": 17,
    "start_time": "2022-05-26T03:01:13.444Z"
   },
   {
    "duration": 11,
    "start_time": "2022-05-26T03:01:13.463Z"
   },
   {
    "duration": 71,
    "start_time": "2022-05-26T03:01:13.475Z"
   },
   {
    "duration": 38849,
    "start_time": "2022-05-26T03:01:13.548Z"
   },
   {
    "duration": 66,
    "start_time": "2022-05-26T03:01:52.399Z"
   },
   {
    "duration": 459,
    "start_time": "2022-05-26T03:01:52.467Z"
   },
   {
    "duration": 302,
    "start_time": "2022-05-26T03:01:52.927Z"
   },
   {
    "duration": 322,
    "start_time": "2022-05-26T03:01:53.231Z"
   },
   {
    "duration": 296,
    "start_time": "2022-05-26T03:01:53.555Z"
   },
   {
    "duration": 373,
    "start_time": "2022-05-26T03:01:53.853Z"
   },
   {
    "duration": 320,
    "start_time": "2022-05-26T03:01:54.229Z"
   },
   {
    "duration": 594,
    "start_time": "2022-05-26T03:01:54.550Z"
   },
   {
    "duration": 234,
    "start_time": "2022-05-26T03:01:55.145Z"
   },
   {
    "duration": 3,
    "start_time": "2022-05-26T03:01:55.380Z"
   },
   {
    "duration": 37,
    "start_time": "2022-05-26T03:03:22.537Z"
   },
   {
    "duration": 27,
    "start_time": "2022-05-26T03:06:52.435Z"
   },
   {
    "duration": 38,
    "start_time": "2022-05-26T03:06:58.269Z"
   },
   {
    "duration": 28,
    "start_time": "2022-05-26T03:07:57.378Z"
   },
   {
    "duration": 199,
    "start_time": "2022-05-26T03:08:10.641Z"
   },
   {
    "duration": 160,
    "start_time": "2022-05-26T03:08:10.842Z"
   },
   {
    "duration": 111,
    "start_time": "2022-05-26T03:08:11.003Z"
   },
   {
    "duration": 28,
    "start_time": "2022-05-26T03:08:11.116Z"
   },
   {
    "duration": 41,
    "start_time": "2022-05-26T03:08:11.145Z"
   },
   {
    "duration": 10,
    "start_time": "2022-05-26T03:08:11.188Z"
   },
   {
    "duration": 144,
    "start_time": "2022-05-26T03:08:11.200Z"
   },
   {
    "duration": 134,
    "start_time": "2022-05-26T03:08:11.346Z"
   },
   {
    "duration": 9,
    "start_time": "2022-05-26T03:08:11.482Z"
   },
   {
    "duration": 46,
    "start_time": "2022-05-26T03:08:11.494Z"
   },
   {
    "duration": 6,
    "start_time": "2022-05-26T03:08:11.542Z"
   },
   {
    "duration": 8,
    "start_time": "2022-05-26T03:08:11.549Z"
   },
   {
    "duration": 82,
    "start_time": "2022-05-26T03:08:11.558Z"
   },
   {
    "duration": 49,
    "start_time": "2022-05-26T03:08:11.642Z"
   },
   {
    "duration": 68,
    "start_time": "2022-05-26T03:08:11.693Z"
   },
   {
    "duration": 194,
    "start_time": "2022-05-26T03:09:16.341Z"
   },
   {
    "duration": 37,
    "start_time": "2022-05-26T03:09:59.577Z"
   },
   {
    "duration": 197,
    "start_time": "2022-05-26T03:10:13.683Z"
   },
   {
    "duration": 183,
    "start_time": "2022-05-26T03:10:13.882Z"
   },
   {
    "duration": 115,
    "start_time": "2022-05-26T03:10:14.066Z"
   },
   {
    "duration": 27,
    "start_time": "2022-05-26T03:10:14.183Z"
   },
   {
    "duration": 42,
    "start_time": "2022-05-26T03:10:14.212Z"
   },
   {
    "duration": 9,
    "start_time": "2022-05-26T03:10:14.255Z"
   },
   {
    "duration": 134,
    "start_time": "2022-05-26T03:10:14.265Z"
   },
   {
    "duration": 166,
    "start_time": "2022-05-26T03:10:14.400Z"
   },
   {
    "duration": 9,
    "start_time": "2022-05-26T03:10:14.568Z"
   },
   {
    "duration": 16,
    "start_time": "2022-05-26T03:10:14.579Z"
   },
   {
    "duration": 8,
    "start_time": "2022-05-26T03:10:14.596Z"
   },
   {
    "duration": 3,
    "start_time": "2022-05-26T03:10:14.636Z"
   },
   {
    "duration": 87,
    "start_time": "2022-05-26T03:10:14.641Z"
   },
   {
    "duration": 148,
    "start_time": "2022-05-26T03:10:14.735Z"
   },
   {
    "duration": 67,
    "start_time": "2022-05-26T03:10:14.884Z"
   },
   {
    "duration": 7,
    "start_time": "2022-05-26T03:10:14.952Z"
   },
   {
    "duration": 38,
    "start_time": "2022-05-26T03:10:14.961Z"
   },
   {
    "duration": 46,
    "start_time": "2022-05-26T03:10:15.000Z"
   },
   {
    "duration": 22,
    "start_time": "2022-05-26T03:10:15.048Z"
   },
   {
    "duration": 53,
    "start_time": "2022-05-26T03:10:15.071Z"
   },
   {
    "duration": 39684,
    "start_time": "2022-05-26T03:10:15.126Z"
   },
   {
    "duration": 91,
    "start_time": "2022-05-26T03:10:54.888Z"
   },
   {
    "duration": 44,
    "start_time": "2022-05-26T03:11:12.396Z"
   },
   {
    "duration": 189,
    "start_time": "2022-05-26T03:11:36.572Z"
   },
   {
    "duration": 66,
    "start_time": "2022-05-26T03:14:56.782Z"
   },
   {
    "duration": 102,
    "start_time": "2022-05-26T03:19:44.562Z"
   },
   {
    "duration": 26,
    "start_time": "2022-05-26T03:21:05.340Z"
   },
   {
    "duration": 12,
    "start_time": "2022-05-26T03:21:13.132Z"
   },
   {
    "duration": 8,
    "start_time": "2022-05-26T03:21:19.656Z"
   },
   {
    "duration": 12,
    "start_time": "2022-05-26T03:23:07.439Z"
   },
   {
    "duration": 12,
    "start_time": "2022-05-26T03:23:13.503Z"
   },
   {
    "duration": 13,
    "start_time": "2022-05-26T03:23:31.167Z"
   },
   {
    "duration": 9,
    "start_time": "2022-05-26T03:23:50.559Z"
   },
   {
    "duration": 17,
    "start_time": "2022-05-26T03:23:56.545Z"
   },
   {
    "duration": 10,
    "start_time": "2022-05-26T03:26:05.236Z"
   },
   {
    "duration": 26,
    "start_time": "2022-05-26T03:27:33.023Z"
   },
   {
    "duration": 54,
    "start_time": "2022-05-26T03:29:49.342Z"
   },
   {
    "duration": 23,
    "start_time": "2022-05-26T03:31:10.458Z"
   },
   {
    "duration": 196,
    "start_time": "2022-05-26T03:37:02.954Z"
   },
   {
    "duration": 157,
    "start_time": "2022-05-26T03:37:03.152Z"
   },
   {
    "duration": 116,
    "start_time": "2022-05-26T03:37:03.311Z"
   },
   {
    "duration": 28,
    "start_time": "2022-05-26T03:37:03.429Z"
   },
   {
    "duration": 40,
    "start_time": "2022-05-26T03:37:03.458Z"
   },
   {
    "duration": 10,
    "start_time": "2022-05-26T03:37:03.500Z"
   },
   {
    "duration": 125,
    "start_time": "2022-05-26T03:37:03.511Z"
   },
   {
    "duration": 109,
    "start_time": "2022-05-26T03:37:03.637Z"
   },
   {
    "duration": 10,
    "start_time": "2022-05-26T03:37:03.747Z"
   },
   {
    "duration": 11,
    "start_time": "2022-05-26T03:37:03.760Z"
   },
   {
    "duration": 15,
    "start_time": "2022-05-26T03:37:03.773Z"
   },
   {
    "duration": 111,
    "start_time": "2022-05-26T03:37:03.789Z"
   },
   {
    "duration": 61,
    "start_time": "2022-05-26T03:37:03.902Z"
   },
   {
    "duration": 66,
    "start_time": "2022-05-26T03:37:03.965Z"
   },
   {
    "duration": 10,
    "start_time": "2022-05-26T03:37:04.032Z"
   },
   {
    "duration": 39,
    "start_time": "2022-05-26T03:37:04.044Z"
   },
   {
    "duration": 53,
    "start_time": "2022-05-26T03:37:04.085Z"
   },
   {
    "duration": 13,
    "start_time": "2022-05-26T03:37:04.140Z"
   },
   {
    "duration": 38,
    "start_time": "2022-05-26T03:37:04.155Z"
   },
   {
    "duration": 50,
    "start_time": "2022-05-26T03:37:04.195Z"
   },
   {
    "duration": 33,
    "start_time": "2022-05-26T03:37:04.246Z"
   },
   {
    "duration": 383,
    "start_time": "2022-05-26T03:37:04.281Z"
   },
   {
    "duration": 300,
    "start_time": "2022-05-26T03:37:04.666Z"
   },
   {
    "duration": 487,
    "start_time": "2022-05-26T03:37:04.967Z"
   },
   {
    "duration": 294,
    "start_time": "2022-05-26T03:37:05.456Z"
   },
   {
    "duration": 274,
    "start_time": "2022-05-26T03:37:05.752Z"
   },
   {
    "duration": 311,
    "start_time": "2022-05-26T03:37:06.027Z"
   },
   {
    "duration": 367,
    "start_time": "2022-05-26T03:37:06.341Z"
   },
   {
    "duration": 0,
    "start_time": "2022-05-26T03:37:06.709Z"
   },
   {
    "duration": 1,
    "start_time": "2022-05-26T03:37:06.710Z"
   },
   {
    "duration": 29,
    "start_time": "2022-05-26T03:55:17.671Z"
   },
   {
    "duration": 399,
    "start_time": "2022-05-26T03:55:34.139Z"
   },
   {
    "duration": 366,
    "start_time": "2022-05-26T03:56:55.241Z"
   },
   {
    "duration": 43,
    "start_time": "2022-05-26T03:58:12.549Z"
   },
   {
    "duration": 6875,
    "start_time": "2022-05-26T03:58:39.203Z"
   },
   {
    "duration": 3291,
    "start_time": "2022-05-26T04:02:26.364Z"
   },
   {
    "duration": 194,
    "start_time": "2022-05-26T04:03:46.717Z"
   },
   {
    "duration": 183,
    "start_time": "2022-05-26T04:03:46.913Z"
   },
   {
    "duration": 117,
    "start_time": "2022-05-26T04:03:47.099Z"
   },
   {
    "duration": 34,
    "start_time": "2022-05-26T04:03:47.218Z"
   },
   {
    "duration": 45,
    "start_time": "2022-05-26T04:03:47.253Z"
   },
   {
    "duration": 10,
    "start_time": "2022-05-26T04:03:47.300Z"
   },
   {
    "duration": 139,
    "start_time": "2022-05-26T04:03:47.311Z"
   },
   {
    "duration": 143,
    "start_time": "2022-05-26T04:03:47.452Z"
   },
   {
    "duration": 10,
    "start_time": "2022-05-26T04:03:47.597Z"
   },
   {
    "duration": 8,
    "start_time": "2022-05-26T04:03:47.625Z"
   },
   {
    "duration": 17,
    "start_time": "2022-05-26T04:03:47.635Z"
   },
   {
    "duration": 117,
    "start_time": "2022-05-26T04:03:47.654Z"
   },
   {
    "duration": 178,
    "start_time": "2022-05-26T04:03:47.773Z"
   },
   {
    "duration": 53,
    "start_time": "2022-05-26T04:03:47.953Z"
   },
   {
    "duration": 27,
    "start_time": "2022-05-26T04:03:48.008Z"
   },
   {
    "duration": 63,
    "start_time": "2022-05-26T04:03:48.037Z"
   },
   {
    "duration": 43,
    "start_time": "2022-05-26T04:03:48.102Z"
   },
   {
    "duration": 18,
    "start_time": "2022-05-26T04:03:48.146Z"
   },
   {
    "duration": 63,
    "start_time": "2022-05-26T04:03:48.167Z"
   },
   {
    "duration": 42699,
    "start_time": "2022-05-26T04:03:52.134Z"
   },
   {
    "duration": 1,
    "start_time": "2022-05-26T04:04:34.835Z"
   },
   {
    "duration": 189,
    "start_time": "2022-05-26T04:05:37.694Z"
   },
   {
    "duration": 161,
    "start_time": "2022-05-26T04:05:37.885Z"
   },
   {
    "duration": 113,
    "start_time": "2022-05-26T04:05:38.047Z"
   },
   {
    "duration": 29,
    "start_time": "2022-05-26T04:05:38.162Z"
   },
   {
    "duration": 43,
    "start_time": "2022-05-26T04:05:38.193Z"
   },
   {
    "duration": 10,
    "start_time": "2022-05-26T04:05:38.238Z"
   },
   {
    "duration": 141,
    "start_time": "2022-05-26T04:05:38.249Z"
   },
   {
    "duration": 110,
    "start_time": "2022-05-26T04:05:38.392Z"
   },
   {
    "duration": 30,
    "start_time": "2022-05-26T04:05:38.504Z"
   },
   {
    "duration": 20,
    "start_time": "2022-05-26T04:05:38.537Z"
   },
   {
    "duration": 19,
    "start_time": "2022-05-26T04:05:38.559Z"
   },
   {
    "duration": 96,
    "start_time": "2022-05-26T04:05:38.579Z"
   },
   {
    "duration": 64,
    "start_time": "2022-05-26T04:05:38.677Z"
   },
   {
    "duration": 55,
    "start_time": "2022-05-26T04:05:38.743Z"
   },
   {
    "duration": 30,
    "start_time": "2022-05-26T04:05:38.799Z"
   },
   {
    "duration": 51,
    "start_time": "2022-05-26T04:05:38.830Z"
   },
   {
    "duration": 44,
    "start_time": "2022-05-26T04:05:38.882Z"
   },
   {
    "duration": 16,
    "start_time": "2022-05-26T04:05:38.928Z"
   },
   {
    "duration": 56,
    "start_time": "2022-05-26T04:05:38.947Z"
   },
   {
    "duration": 40970,
    "start_time": "2022-05-26T04:05:40.516Z"
   },
   {
    "duration": 48,
    "start_time": "2022-05-26T04:07:07.639Z"
   },
   {
    "duration": 554,
    "start_time": "2022-05-26T04:10:14.822Z"
   },
   {
    "duration": 194,
    "start_time": "2022-05-26T04:10:33.810Z"
   },
   {
    "duration": 156,
    "start_time": "2022-05-26T04:10:34.006Z"
   },
   {
    "duration": 116,
    "start_time": "2022-05-26T04:10:34.164Z"
   },
   {
    "duration": 29,
    "start_time": "2022-05-26T04:10:34.282Z"
   },
   {
    "duration": 41,
    "start_time": "2022-05-26T04:10:34.313Z"
   },
   {
    "duration": 11,
    "start_time": "2022-05-26T04:10:34.355Z"
   },
   {
    "duration": 170,
    "start_time": "2022-05-26T04:10:34.367Z"
   },
   {
    "duration": 112,
    "start_time": "2022-05-26T04:10:34.539Z"
   },
   {
    "duration": 10,
    "start_time": "2022-05-26T04:10:34.652Z"
   },
   {
    "duration": 29,
    "start_time": "2022-05-26T04:10:34.664Z"
   },
   {
    "duration": 27,
    "start_time": "2022-05-26T04:10:34.695Z"
   },
   {
    "duration": 210,
    "start_time": "2022-05-26T04:10:34.724Z"
   },
   {
    "duration": 62,
    "start_time": "2022-05-26T04:10:34.936Z"
   },
   {
    "duration": 67,
    "start_time": "2022-05-26T04:10:34.999Z"
   },
   {
    "duration": 9,
    "start_time": "2022-05-26T04:10:35.068Z"
   },
   {
    "duration": 67,
    "start_time": "2022-05-26T04:10:35.078Z"
   },
   {
    "duration": 24,
    "start_time": "2022-05-26T04:10:35.146Z"
   },
   {
    "duration": 49,
    "start_time": "2022-05-26T04:10:35.172Z"
   },
   {
    "duration": 47,
    "start_time": "2022-05-26T04:10:35.224Z"
   },
   {
    "duration": 42945,
    "start_time": "2022-05-26T04:10:35.273Z"
   },
   {
    "duration": 53,
    "start_time": "2022-05-26T04:11:18.219Z"
   },
   {
    "duration": 63,
    "start_time": "2022-05-26T04:11:18.274Z"
   },
   {
    "duration": 344,
    "start_time": "2022-05-26T04:11:18.338Z"
   },
   {
    "duration": 336,
    "start_time": "2022-05-26T04:11:18.684Z"
   },
   {
    "duration": 349,
    "start_time": "2022-05-26T04:11:19.026Z"
   },
   {
    "duration": 340,
    "start_time": "2022-05-26T04:11:19.377Z"
   },
   {
    "duration": 296,
    "start_time": "2022-05-26T04:11:19.719Z"
   },
   {
    "duration": 418,
    "start_time": "2022-05-26T04:11:20.025Z"
   },
   {
    "duration": 598,
    "start_time": "2022-05-26T04:11:20.444Z"
   },
   {
    "duration": 231,
    "start_time": "2022-05-26T04:11:21.043Z"
   },
   {
    "duration": 3,
    "start_time": "2022-05-26T04:11:21.275Z"
   },
   {
    "duration": 63,
    "start_time": "2022-05-26T04:46:19.312Z"
   },
   {
    "duration": 52,
    "start_time": "2022-05-26T04:46:36.557Z"
   },
   {
    "duration": 55,
    "start_time": "2022-05-26T04:47:03.438Z"
   },
   {
    "duration": 48,
    "start_time": "2022-05-26T04:50:03.449Z"
   },
   {
    "duration": 65,
    "start_time": "2022-05-26T04:53:02.724Z"
   },
   {
    "duration": 20,
    "start_time": "2022-05-26T04:53:24.788Z"
   },
   {
    "duration": 16,
    "start_time": "2022-05-26T04:54:12.160Z"
   },
   {
    "duration": 22,
    "start_time": "2022-05-26T04:55:30.522Z"
   },
   {
    "duration": 66,
    "start_time": "2022-05-26T04:55:59.054Z"
   },
   {
    "duration": 59,
    "start_time": "2022-05-26T05:04:47.263Z"
   },
   {
    "duration": 56,
    "start_time": "2022-05-26T05:05:23.640Z"
   },
   {
    "duration": 186,
    "start_time": "2022-05-26T05:05:28.085Z"
   },
   {
    "duration": 158,
    "start_time": "2022-05-26T05:05:28.273Z"
   },
   {
    "duration": 114,
    "start_time": "2022-05-26T05:05:28.432Z"
   },
   {
    "duration": 28,
    "start_time": "2022-05-26T05:05:28.548Z"
   },
   {
    "duration": 42,
    "start_time": "2022-05-26T05:05:28.578Z"
   },
   {
    "duration": 10,
    "start_time": "2022-05-26T05:05:28.622Z"
   },
   {
    "duration": 129,
    "start_time": "2022-05-26T05:05:28.633Z"
   },
   {
    "duration": 105,
    "start_time": "2022-05-26T05:05:28.764Z"
   },
   {
    "duration": 9,
    "start_time": "2022-05-26T05:05:28.871Z"
   },
   {
    "duration": 14,
    "start_time": "2022-05-26T05:05:28.882Z"
   },
   {
    "duration": 33,
    "start_time": "2022-05-26T05:05:28.897Z"
   },
   {
    "duration": 79,
    "start_time": "2022-05-26T05:05:28.932Z"
   },
   {
    "duration": 61,
    "start_time": "2022-05-26T05:05:29.012Z"
   },
   {
    "duration": 69,
    "start_time": "2022-05-26T05:05:29.075Z"
   },
   {
    "duration": 9,
    "start_time": "2022-05-26T05:05:29.145Z"
   },
   {
    "duration": 44,
    "start_time": "2022-05-26T05:05:29.156Z"
   },
   {
    "duration": 20,
    "start_time": "2022-05-26T05:05:29.227Z"
   },
   {
    "duration": 14,
    "start_time": "2022-05-26T05:05:29.249Z"
   },
   {
    "duration": 79,
    "start_time": "2022-05-26T05:05:29.265Z"
   },
   {
    "duration": 42645,
    "start_time": "2022-05-26T05:05:29.346Z"
   },
   {
    "duration": 71,
    "start_time": "2022-05-26T05:06:11.995Z"
   },
   {
    "duration": 57,
    "start_time": "2022-05-26T05:07:14.882Z"
   },
   {
    "duration": 182,
    "start_time": "2022-05-26T05:09:13.865Z"
   },
   {
    "duration": 151,
    "start_time": "2022-05-26T05:09:14.049Z"
   },
   {
    "duration": 109,
    "start_time": "2022-05-26T05:09:14.202Z"
   },
   {
    "duration": 30,
    "start_time": "2022-05-26T05:09:14.325Z"
   },
   {
    "duration": 50,
    "start_time": "2022-05-26T05:09:14.356Z"
   },
   {
    "duration": 13,
    "start_time": "2022-05-26T05:09:14.409Z"
   },
   {
    "duration": 141,
    "start_time": "2022-05-26T05:09:14.424Z"
   },
   {
    "duration": 107,
    "start_time": "2022-05-26T05:09:14.566Z"
   },
   {
    "duration": 9,
    "start_time": "2022-05-26T05:09:14.675Z"
   },
   {
    "duration": 11,
    "start_time": "2022-05-26T05:09:14.687Z"
   },
   {
    "duration": 12,
    "start_time": "2022-05-26T05:09:14.726Z"
   },
   {
    "duration": 95,
    "start_time": "2022-05-26T05:09:14.739Z"
   },
   {
    "duration": 50,
    "start_time": "2022-05-26T05:09:14.835Z"
   },
   {
    "duration": 66,
    "start_time": "2022-05-26T05:09:14.886Z"
   },
   {
    "duration": 8,
    "start_time": "2022-05-26T05:09:14.953Z"
   },
   {
    "duration": 41,
    "start_time": "2022-05-26T05:09:14.962Z"
   },
   {
    "duration": 18,
    "start_time": "2022-05-26T05:09:15.025Z"
   },
   {
    "duration": 42,
    "start_time": "2022-05-26T05:09:15.044Z"
   },
   {
    "duration": 38,
    "start_time": "2022-05-26T05:09:15.087Z"
   },
   {
    "duration": 40177,
    "start_time": "2022-05-26T05:09:15.127Z"
   },
   {
    "duration": 62,
    "start_time": "2022-05-26T05:09:55.306Z"
   },
   {
    "duration": 56,
    "start_time": "2022-05-26T05:09:55.370Z"
   },
   {
    "duration": 347,
    "start_time": "2022-05-26T05:09:55.428Z"
   },
   {
    "duration": 344,
    "start_time": "2022-05-26T05:09:55.777Z"
   },
   {
    "duration": 336,
    "start_time": "2022-05-26T05:09:56.126Z"
   },
   {
    "duration": 304,
    "start_time": "2022-05-26T05:09:56.463Z"
   },
   {
    "duration": 337,
    "start_time": "2022-05-26T05:09:56.769Z"
   },
   {
    "duration": 323,
    "start_time": "2022-05-26T05:09:57.109Z"
   },
   {
    "duration": 635,
    "start_time": "2022-05-26T05:09:57.434Z"
   },
   {
    "duration": 243,
    "start_time": "2022-05-26T05:09:58.071Z"
   },
   {
    "duration": 10,
    "start_time": "2022-05-26T05:09:58.316Z"
   },
   {
    "duration": 7,
    "start_time": "2022-05-26T05:12:19.556Z"
   },
   {
    "duration": 31,
    "start_time": "2022-05-26T05:14:19.511Z"
   },
   {
    "duration": 556,
    "start_time": "2022-05-26T05:14:24.313Z"
   },
   {
    "duration": 12,
    "start_time": "2022-05-26T05:15:31.894Z"
   },
   {
    "duration": 10,
    "start_time": "2022-05-26T05:15:40.376Z"
   },
   {
    "duration": 24,
    "start_time": "2022-05-26T05:15:56.019Z"
   },
   {
    "duration": 19,
    "start_time": "2022-05-26T05:16:43.250Z"
   },
   {
    "duration": 9,
    "start_time": "2022-05-26T05:16:49.018Z"
   },
   {
    "duration": 9,
    "start_time": "2022-05-26T05:16:52.124Z"
   },
   {
    "duration": 14,
    "start_time": "2022-05-26T07:06:07.286Z"
   },
   {
    "duration": 13,
    "start_time": "2022-05-26T07:06:22.291Z"
   },
   {
    "duration": 8,
    "start_time": "2022-05-26T07:06:39.713Z"
   },
   {
    "duration": 13,
    "start_time": "2022-05-26T07:06:55.698Z"
   },
   {
    "duration": 183,
    "start_time": "2022-05-26T07:07:06.172Z"
   },
   {
    "duration": 155,
    "start_time": "2022-05-26T07:07:06.357Z"
   },
   {
    "duration": 112,
    "start_time": "2022-05-26T07:07:06.514Z"
   },
   {
    "duration": 28,
    "start_time": "2022-05-26T07:07:06.628Z"
   },
   {
    "duration": 41,
    "start_time": "2022-05-26T07:07:06.658Z"
   },
   {
    "duration": 10,
    "start_time": "2022-05-26T07:07:06.701Z"
   },
   {
    "duration": 122,
    "start_time": "2022-05-26T07:07:06.713Z"
   },
   {
    "duration": 110,
    "start_time": "2022-05-26T07:07:06.836Z"
   },
   {
    "duration": 10,
    "start_time": "2022-05-26T07:07:06.948Z"
   },
   {
    "duration": 16,
    "start_time": "2022-05-26T07:07:06.960Z"
   },
   {
    "duration": 23,
    "start_time": "2022-05-26T07:07:06.977Z"
   },
   {
    "duration": 94,
    "start_time": "2022-05-26T07:07:07.001Z"
   },
   {
    "duration": 201,
    "start_time": "2022-05-26T07:07:07.096Z"
   },
   {
    "duration": 62,
    "start_time": "2022-05-26T07:07:07.298Z"
   },
   {
    "duration": 7,
    "start_time": "2022-05-26T07:07:07.361Z"
   },
   {
    "duration": 69,
    "start_time": "2022-05-26T07:07:07.370Z"
   },
   {
    "duration": 15,
    "start_time": "2022-05-26T07:07:07.441Z"
   },
   {
    "duration": 11,
    "start_time": "2022-05-26T07:07:07.458Z"
   },
   {
    "duration": 14,
    "start_time": "2022-05-26T07:07:07.470Z"
   },
   {
    "duration": 43477,
    "start_time": "2022-05-26T07:07:07.485Z"
   },
   {
    "duration": 8,
    "start_time": "2022-05-26T07:07:50.964Z"
   },
   {
    "duration": 54,
    "start_time": "2022-05-26T07:07:50.973Z"
   },
   {
    "duration": 357,
    "start_time": "2022-05-26T07:07:51.029Z"
   },
   {
    "duration": 356,
    "start_time": "2022-05-26T07:07:51.388Z"
   },
   {
    "duration": 319,
    "start_time": "2022-05-26T07:07:51.746Z"
   },
   {
    "duration": 343,
    "start_time": "2022-05-26T07:07:52.066Z"
   },
   {
    "duration": 316,
    "start_time": "2022-05-26T07:07:52.410Z"
   },
   {
    "duration": 308,
    "start_time": "2022-05-26T07:07:52.729Z"
   },
   {
    "duration": 24,
    "start_time": "2022-05-26T07:11:06.698Z"
   },
   {
    "duration": 18,
    "start_time": "2022-05-26T07:11:22.558Z"
   },
   {
    "duration": 664,
    "start_time": "2022-05-26T07:12:22.490Z"
   },
   {
    "duration": 183,
    "start_time": "2022-05-26T07:16:48.278Z"
   },
   {
    "duration": 203,
    "start_time": "2022-05-26T07:17:17.575Z"
   },
   {
    "duration": 158,
    "start_time": "2022-05-26T07:17:17.781Z"
   },
   {
    "duration": 107,
    "start_time": "2022-05-26T07:17:17.941Z"
   },
   {
    "duration": 29,
    "start_time": "2022-05-26T07:17:18.050Z"
   },
   {
    "duration": 40,
    "start_time": "2022-05-26T07:17:18.082Z"
   },
   {
    "duration": 12,
    "start_time": "2022-05-26T07:17:18.124Z"
   },
   {
    "duration": 139,
    "start_time": "2022-05-26T07:17:18.138Z"
   },
   {
    "duration": 109,
    "start_time": "2022-05-26T07:17:18.279Z"
   },
   {
    "duration": 10,
    "start_time": "2022-05-26T07:17:18.389Z"
   },
   {
    "duration": 8,
    "start_time": "2022-05-26T07:17:18.426Z"
   },
   {
    "duration": 15,
    "start_time": "2022-05-26T07:17:18.436Z"
   },
   {
    "duration": 97,
    "start_time": "2022-05-26T07:17:18.452Z"
   },
   {
    "duration": 51,
    "start_time": "2022-05-26T07:17:18.551Z"
   },
   {
    "duration": 62,
    "start_time": "2022-05-26T07:17:18.604Z"
   },
   {
    "duration": 8,
    "start_time": "2022-05-26T07:17:18.668Z"
   },
   {
    "duration": 64,
    "start_time": "2022-05-26T07:17:18.677Z"
   },
   {
    "duration": 15,
    "start_time": "2022-05-26T07:17:18.743Z"
   },
   {
    "duration": 11,
    "start_time": "2022-05-26T07:17:18.759Z"
   },
   {
    "duration": 14,
    "start_time": "2022-05-26T07:17:18.772Z"
   },
   {
    "duration": 42302,
    "start_time": "2022-05-26T07:17:18.788Z"
   },
   {
    "duration": 7,
    "start_time": "2022-05-26T07:18:01.092Z"
   },
   {
    "duration": 56,
    "start_time": "2022-05-26T07:18:01.101Z"
   },
   {
    "duration": 357,
    "start_time": "2022-05-26T07:18:01.159Z"
   },
   {
    "duration": 313,
    "start_time": "2022-05-26T07:18:01.518Z"
   },
   {
    "duration": 364,
    "start_time": "2022-05-26T07:18:01.833Z"
   },
   {
    "duration": 329,
    "start_time": "2022-05-26T07:18:02.199Z"
   },
   {
    "duration": 313,
    "start_time": "2022-05-26T07:18:02.530Z"
   },
   {
    "duration": 287,
    "start_time": "2022-05-26T07:18:02.845Z"
   },
   {
    "duration": 19,
    "start_time": "2022-05-26T07:18:03.134Z"
   },
   {
    "duration": 256,
    "start_time": "2022-05-26T07:18:03.154Z"
   },
   {
    "duration": 230,
    "start_time": "2022-05-26T07:18:03.412Z"
   },
   {
    "duration": 3,
    "start_time": "2022-05-26T07:18:03.643Z"
   },
   {
    "duration": 4,
    "start_time": "2022-05-26T07:34:09.452Z"
   },
   {
    "duration": 1933,
    "start_time": "2022-05-26T16:06:04.043Z"
   },
   {
    "duration": 563,
    "start_time": "2022-05-26T16:06:05.979Z"
   },
   {
    "duration": 363,
    "start_time": "2022-05-26T16:06:06.544Z"
   },
   {
    "duration": 85,
    "start_time": "2022-05-26T16:06:06.910Z"
   },
   {
    "duration": 75,
    "start_time": "2022-05-26T16:06:06.997Z"
   },
   {
    "duration": 15,
    "start_time": "2022-05-26T16:06:07.074Z"
   },
   {
    "duration": 161,
    "start_time": "2022-05-26T16:06:07.091Z"
   },
   {
    "duration": 136,
    "start_time": "2022-05-26T16:06:07.253Z"
   },
   {
    "duration": 19,
    "start_time": "2022-05-26T16:06:07.392Z"
   },
   {
    "duration": 22,
    "start_time": "2022-05-26T16:06:07.415Z"
   },
   {
    "duration": 36,
    "start_time": "2022-05-26T16:06:07.440Z"
   },
   {
    "duration": 159,
    "start_time": "2022-05-26T16:06:07.479Z"
   },
   {
    "duration": 146,
    "start_time": "2022-05-26T16:06:07.639Z"
   },
   {
    "duration": 59,
    "start_time": "2022-05-26T16:06:07.786Z"
   },
   {
    "duration": 30,
    "start_time": "2022-05-26T16:06:07.847Z"
   },
   {
    "duration": 86,
    "start_time": "2022-05-26T16:06:07.879Z"
   },
   {
    "duration": 29,
    "start_time": "2022-05-26T16:06:07.967Z"
   },
   {
    "duration": 23,
    "start_time": "2022-05-26T16:06:07.998Z"
   },
   {
    "duration": 46,
    "start_time": "2022-05-26T16:06:08.023Z"
   },
   {
    "duration": 43580,
    "start_time": "2022-05-26T16:06:08.072Z"
   },
   {
    "duration": 14,
    "start_time": "2022-05-26T16:06:51.653Z"
   },
   {
    "duration": 41,
    "start_time": "2022-05-26T16:06:51.668Z"
   },
   {
    "duration": 461,
    "start_time": "2022-05-26T16:06:51.711Z"
   },
   {
    "duration": 351,
    "start_time": "2022-05-26T16:06:52.173Z"
   },
   {
    "duration": 395,
    "start_time": "2022-05-26T16:06:52.526Z"
   },
   {
    "duration": 365,
    "start_time": "2022-05-26T16:06:52.923Z"
   },
   {
    "duration": 464,
    "start_time": "2022-05-26T16:06:53.290Z"
   },
   {
    "duration": 330,
    "start_time": "2022-05-26T16:06:53.765Z"
   },
   {
    "duration": 21,
    "start_time": "2022-05-26T16:06:54.098Z"
   },
   {
    "duration": 300,
    "start_time": "2022-05-26T16:06:54.122Z"
   },
   {
    "duration": 280,
    "start_time": "2022-05-26T16:06:54.424Z"
   },
   {
    "duration": 5,
    "start_time": "2022-05-26T16:06:54.707Z"
   },
   {
    "duration": 41,
    "start_time": "2022-05-26T16:32:47.486Z"
   },
   {
    "duration": 27,
    "start_time": "2022-05-26T16:53:37.899Z"
   },
   {
    "duration": 6,
    "start_time": "2022-05-26T17:10:56.988Z"
   },
   {
    "duration": 5,
    "start_time": "2022-05-26T17:11:38.213Z"
   },
   {
    "duration": 5,
    "start_time": "2022-05-26T17:12:13.321Z"
   },
   {
    "duration": 60,
    "start_time": "2022-05-26T17:15:18.854Z"
   },
   {
    "duration": 7,
    "start_time": "2022-05-26T17:15:31.707Z"
   },
   {
    "duration": 6,
    "start_time": "2022-05-26T17:15:42.501Z"
   },
   {
    "duration": 7,
    "start_time": "2022-05-26T17:24:45.790Z"
   },
   {
    "duration": 9,
    "start_time": "2022-05-26T17:25:26.180Z"
   },
   {
    "duration": 15,
    "start_time": "2022-05-26T17:32:25.482Z"
   },
   {
    "duration": 6,
    "start_time": "2022-05-26T17:33:40.206Z"
   },
   {
    "duration": 248,
    "start_time": "2022-05-26T17:34:48.892Z"
   },
   {
    "duration": 197,
    "start_time": "2022-05-26T17:34:49.143Z"
   },
   {
    "duration": 135,
    "start_time": "2022-05-26T17:34:49.341Z"
   },
   {
    "duration": 29,
    "start_time": "2022-05-26T17:34:49.479Z"
   },
   {
    "duration": 41,
    "start_time": "2022-05-26T17:34:49.510Z"
   },
   {
    "duration": 14,
    "start_time": "2022-05-26T17:34:49.553Z"
   },
   {
    "duration": 128,
    "start_time": "2022-05-26T17:34:49.574Z"
   },
   {
    "duration": 109,
    "start_time": "2022-05-26T17:34:49.704Z"
   },
   {
    "duration": 10,
    "start_time": "2022-05-26T17:34:49.815Z"
   },
   {
    "duration": 7,
    "start_time": "2022-05-26T17:34:49.828Z"
   },
   {
    "duration": 42,
    "start_time": "2022-05-26T17:34:49.837Z"
   },
   {
    "duration": 77,
    "start_time": "2022-05-26T17:34:49.880Z"
   },
   {
    "duration": 58,
    "start_time": "2022-05-26T17:34:49.974Z"
   },
   {
    "duration": 58,
    "start_time": "2022-05-26T17:34:50.034Z"
   },
   {
    "duration": 9,
    "start_time": "2022-05-26T17:34:50.093Z"
   },
   {
    "duration": 47,
    "start_time": "2022-05-26T17:34:50.103Z"
   },
   {
    "duration": 33,
    "start_time": "2022-05-26T17:34:50.152Z"
   },
   {
    "duration": 12,
    "start_time": "2022-05-26T17:34:50.187Z"
   },
   {
    "duration": 15,
    "start_time": "2022-05-26T17:34:50.201Z"
   },
   {
    "duration": 45356,
    "start_time": "2022-05-26T17:34:50.218Z"
   },
   {
    "duration": 7,
    "start_time": "2022-05-26T17:35:35.575Z"
   },
   {
    "duration": 39,
    "start_time": "2022-05-26T17:35:35.584Z"
   },
   {
    "duration": 405,
    "start_time": "2022-05-26T17:35:35.625Z"
   },
   {
    "duration": 347,
    "start_time": "2022-05-26T17:35:36.032Z"
   },
   {
    "duration": 340,
    "start_time": "2022-05-26T17:35:36.381Z"
   },
   {
    "duration": 385,
    "start_time": "2022-05-26T17:35:36.723Z"
   },
   {
    "duration": 347,
    "start_time": "2022-05-26T17:35:37.111Z"
   },
   {
    "duration": 323,
    "start_time": "2022-05-26T17:35:37.465Z"
   },
   {
    "duration": 18,
    "start_time": "2022-05-26T17:35:37.790Z"
   },
   {
    "duration": 302,
    "start_time": "2022-05-26T17:35:37.810Z"
   },
   {
    "duration": 262,
    "start_time": "2022-05-26T17:35:38.114Z"
   },
   {
    "duration": 5,
    "start_time": "2022-05-26T17:35:38.382Z"
   },
   {
    "duration": 11,
    "start_time": "2022-05-26T17:35:38.389Z"
   },
   {
    "duration": 5,
    "start_time": "2022-05-26T17:41:05.192Z"
   },
   {
    "duration": 15,
    "start_time": "2022-05-26T17:48:34.790Z"
   },
   {
    "duration": 5,
    "start_time": "2022-05-26T17:50:39.901Z"
   },
   {
    "duration": 5,
    "start_time": "2022-05-26T17:50:58.343Z"
   },
   {
    "duration": 274,
    "start_time": "2022-05-26T17:51:19.751Z"
   },
   {
    "duration": 237,
    "start_time": "2022-05-26T17:51:20.028Z"
   },
   {
    "duration": 167,
    "start_time": "2022-05-26T17:51:20.272Z"
   },
   {
    "duration": 39,
    "start_time": "2022-05-26T17:51:20.442Z"
   },
   {
    "duration": 51,
    "start_time": "2022-05-26T17:51:20.483Z"
   },
   {
    "duration": 13,
    "start_time": "2022-05-26T17:51:20.536Z"
   },
   {
    "duration": 207,
    "start_time": "2022-05-26T17:51:20.551Z"
   },
   {
    "duration": 138,
    "start_time": "2022-05-26T17:51:20.760Z"
   },
   {
    "duration": 11,
    "start_time": "2022-05-26T17:51:20.902Z"
   },
   {
    "duration": 15,
    "start_time": "2022-05-26T17:51:20.916Z"
   },
   {
    "duration": 15,
    "start_time": "2022-05-26T17:51:20.933Z"
   },
   {
    "duration": 254,
    "start_time": "2022-05-26T17:51:20.950Z"
   },
   {
    "duration": 63,
    "start_time": "2022-05-26T17:51:21.205Z"
   },
   {
    "duration": 70,
    "start_time": "2022-05-26T17:51:21.270Z"
   },
   {
    "duration": 8,
    "start_time": "2022-05-26T17:51:21.342Z"
   },
   {
    "duration": 62,
    "start_time": "2022-05-26T17:51:21.352Z"
   },
   {
    "duration": 23,
    "start_time": "2022-05-26T17:51:21.416Z"
   },
   {
    "duration": 35,
    "start_time": "2022-05-26T17:51:21.441Z"
   },
   {
    "duration": 45,
    "start_time": "2022-05-26T17:51:21.478Z"
   },
   {
    "duration": 50673,
    "start_time": "2022-05-26T17:51:21.525Z"
   },
   {
    "duration": 7,
    "start_time": "2022-05-26T17:52:12.201Z"
   },
   {
    "duration": 40,
    "start_time": "2022-05-26T17:52:12.210Z"
   },
   {
    "duration": 393,
    "start_time": "2022-05-26T17:52:12.264Z"
   },
   {
    "duration": 358,
    "start_time": "2022-05-26T17:52:12.659Z"
   },
   {
    "duration": 373,
    "start_time": "2022-05-26T17:52:13.019Z"
   },
   {
    "duration": 335,
    "start_time": "2022-05-26T17:52:13.398Z"
   },
   {
    "duration": 345,
    "start_time": "2022-05-26T17:52:13.735Z"
   },
   {
    "duration": 319,
    "start_time": "2022-05-26T17:52:14.088Z"
   },
   {
    "duration": 20,
    "start_time": "2022-05-26T17:52:14.409Z"
   },
   {
    "duration": 323,
    "start_time": "2022-05-26T17:52:14.431Z"
   },
   {
    "duration": 293,
    "start_time": "2022-05-26T17:52:14.756Z"
   },
   {
    "duration": 5,
    "start_time": "2022-05-26T17:52:15.051Z"
   },
   {
    "duration": 42,
    "start_time": "2022-05-26T17:52:15.057Z"
   },
   {
    "duration": 7,
    "start_time": "2022-05-26T17:52:40.589Z"
   },
   {
    "duration": 6,
    "start_time": "2022-05-26T17:52:53.917Z"
   },
   {
    "duration": 25,
    "start_time": "2022-05-26T17:55:57.205Z"
   },
   {
    "duration": 5,
    "start_time": "2022-05-26T17:58:53.040Z"
   },
   {
    "duration": 35,
    "start_time": "2022-05-26T17:59:09.247Z"
   },
   {
    "duration": 6,
    "start_time": "2022-05-26T17:59:30.804Z"
   },
   {
    "duration": 6,
    "start_time": "2022-05-26T18:09:33.542Z"
   },
   {
    "duration": 3,
    "start_time": "2022-05-26T18:30:10.907Z"
   },
   {
    "duration": 8,
    "start_time": "2022-05-26T18:36:19.973Z"
   },
   {
    "duration": 27,
    "start_time": "2022-05-26T18:36:48.677Z"
   },
   {
    "duration": 24,
    "start_time": "2022-05-26T18:40:10.351Z"
   },
   {
    "duration": 377,
    "start_time": "2022-05-26T18:42:05.155Z"
   },
   {
    "duration": 273,
    "start_time": "2022-05-26T18:43:18.180Z"
   },
   {
    "duration": 136,
    "start_time": "2022-05-26T18:45:01.868Z"
   },
   {
    "duration": 5,
    "start_time": "2022-05-26T18:45:50.250Z"
   },
   {
    "duration": 5,
    "start_time": "2022-05-26T18:49:54.921Z"
   },
   {
    "duration": 1940,
    "start_time": "2022-05-27T03:38:10.198Z"
   },
   {
    "duration": 343,
    "start_time": "2022-05-27T03:38:12.140Z"
   },
   {
    "duration": 378,
    "start_time": "2022-05-27T03:38:12.485Z"
   },
   {
    "duration": 74,
    "start_time": "2022-05-27T03:38:12.865Z"
   },
   {
    "duration": 83,
    "start_time": "2022-05-27T03:38:12.941Z"
   },
   {
    "duration": 13,
    "start_time": "2022-05-27T03:38:16.326Z"
   },
   {
    "duration": 11,
    "start_time": "2022-05-27T03:42:26.962Z"
   },
   {
    "duration": 40,
    "start_time": "2022-05-27T03:54:05.208Z"
   },
   {
    "duration": 278,
    "start_time": "2022-05-27T03:55:24.713Z"
   },
   {
    "duration": 175,
    "start_time": "2022-05-27T03:55:24.994Z"
   },
   {
    "duration": 128,
    "start_time": "2022-05-27T03:55:25.171Z"
   },
   {
    "duration": 43,
    "start_time": "2022-05-27T03:55:25.302Z"
   },
   {
    "duration": 43,
    "start_time": "2022-05-27T03:55:25.349Z"
   },
   {
    "duration": 9,
    "start_time": "2022-05-27T03:55:25.393Z"
   },
   {
    "duration": 140,
    "start_time": "2022-05-27T03:55:25.404Z"
   },
   {
    "duration": 130,
    "start_time": "2022-05-27T03:55:25.549Z"
   },
   {
    "duration": 13,
    "start_time": "2022-05-27T03:55:25.681Z"
   },
   {
    "duration": 8,
    "start_time": "2022-05-27T03:55:25.697Z"
   },
   {
    "duration": 50,
    "start_time": "2022-05-27T03:55:25.706Z"
   },
   {
    "duration": 290,
    "start_time": "2022-05-27T03:55:25.758Z"
   },
   {
    "duration": 54,
    "start_time": "2022-05-27T03:55:26.050Z"
   },
   {
    "duration": 239,
    "start_time": "2022-05-27T03:58:09.571Z"
   },
   {
    "duration": 203,
    "start_time": "2022-05-27T03:58:09.813Z"
   },
   {
    "duration": 135,
    "start_time": "2022-05-27T03:58:10.018Z"
   },
   {
    "duration": 30,
    "start_time": "2022-05-27T03:58:10.155Z"
   },
   {
    "duration": 47,
    "start_time": "2022-05-27T03:58:10.187Z"
   },
   {
    "duration": 16,
    "start_time": "2022-05-27T03:58:10.240Z"
   },
   {
    "duration": 147,
    "start_time": "2022-05-27T03:58:10.258Z"
   },
   {
    "duration": 157,
    "start_time": "2022-05-27T03:58:10.406Z"
   },
   {
    "duration": 15,
    "start_time": "2022-05-27T03:58:10.565Z"
   },
   {
    "duration": 14,
    "start_time": "2022-05-27T03:58:10.584Z"
   },
   {
    "duration": 47,
    "start_time": "2022-05-27T03:58:10.601Z"
   },
   {
    "duration": 90,
    "start_time": "2022-05-27T03:58:10.650Z"
   },
   {
    "duration": 55,
    "start_time": "2022-05-27T03:58:10.741Z"
   },
   {
    "duration": 79,
    "start_time": "2022-05-27T03:58:10.797Z"
   },
   {
    "duration": 10,
    "start_time": "2022-05-27T03:58:10.878Z"
   },
   {
    "duration": 58,
    "start_time": "2022-05-27T03:58:10.889Z"
   },
   {
    "duration": 12,
    "start_time": "2022-05-27T03:58:16.339Z"
   },
   {
    "duration": 227,
    "start_time": "2022-05-27T03:58:46.939Z"
   },
   {
    "duration": 187,
    "start_time": "2022-05-27T03:58:47.170Z"
   },
   {
    "duration": 118,
    "start_time": "2022-05-27T03:58:47.359Z"
   },
   {
    "duration": 28,
    "start_time": "2022-05-27T03:58:47.479Z"
   },
   {
    "duration": 51,
    "start_time": "2022-05-27T03:58:47.509Z"
   },
   {
    "duration": 12,
    "start_time": "2022-05-27T03:58:47.562Z"
   },
   {
    "duration": 183,
    "start_time": "2022-05-27T03:58:47.576Z"
   },
   {
    "duration": 147,
    "start_time": "2022-05-27T03:58:47.761Z"
   },
   {
    "duration": 36,
    "start_time": "2022-05-27T03:58:47.910Z"
   },
   {
    "duration": 34,
    "start_time": "2022-05-27T03:58:47.949Z"
   },
   {
    "duration": 14,
    "start_time": "2022-05-27T03:58:47.985Z"
   },
   {
    "duration": 80,
    "start_time": "2022-05-27T03:58:48.001Z"
   },
   {
    "duration": 62,
    "start_time": "2022-05-27T03:58:48.083Z"
   },
   {
    "duration": 55,
    "start_time": "2022-05-27T03:58:48.147Z"
   },
   {
    "duration": 8,
    "start_time": "2022-05-27T03:58:48.205Z"
   },
   {
    "duration": 55,
    "start_time": "2022-05-27T03:58:48.227Z"
   },
   {
    "duration": 8,
    "start_time": "2022-05-27T03:58:48.285Z"
   },
   {
    "duration": 50,
    "start_time": "2022-05-27T03:58:48.295Z"
   },
   {
    "duration": 18,
    "start_time": "2022-05-27T03:58:48.347Z"
   },
   {
    "duration": 47500,
    "start_time": "2022-05-27T03:58:48.367Z"
   },
   {
    "duration": 8,
    "start_time": "2022-05-27T03:59:35.870Z"
   },
   {
    "duration": 56,
    "start_time": "2022-05-27T03:59:35.879Z"
   },
   {
    "duration": 621,
    "start_time": "2022-05-27T03:59:35.937Z"
   },
   {
    "duration": 318,
    "start_time": "2022-05-27T03:59:36.560Z"
   },
   {
    "duration": 382,
    "start_time": "2022-05-27T03:59:36.880Z"
   },
   {
    "duration": 385,
    "start_time": "2022-05-27T03:59:37.264Z"
   },
   {
    "duration": 285,
    "start_time": "2022-05-27T03:59:37.651Z"
   },
   {
    "duration": 302,
    "start_time": "2022-05-27T03:59:37.940Z"
   },
   {
    "duration": 18,
    "start_time": "2022-05-27T03:59:38.244Z"
   },
   {
    "duration": 349,
    "start_time": "2022-05-27T03:59:38.263Z"
   },
   {
    "duration": 250,
    "start_time": "2022-05-27T03:59:38.614Z"
   },
   {
    "duration": 4,
    "start_time": "2022-05-27T03:59:38.867Z"
   },
   {
    "duration": 9,
    "start_time": "2022-05-27T03:59:38.872Z"
   },
   {
    "duration": 50,
    "start_time": "2022-05-27T03:59:38.882Z"
   },
   {
    "duration": 247,
    "start_time": "2022-05-27T03:59:38.938Z"
   },
   {
    "duration": 267,
    "start_time": "2022-05-27T03:59:39.187Z"
   },
   {
    "duration": 4,
    "start_time": "2022-05-27T03:59:39.456Z"
   },
   {
    "duration": 11,
    "start_time": "2022-05-27T03:59:39.461Z"
   },
   {
    "duration": 18,
    "start_time": "2022-05-27T04:14:48.647Z"
   },
   {
    "duration": 365,
    "start_time": "2022-05-27T04:14:57.996Z"
   },
   {
    "duration": 170,
    "start_time": "2022-05-27T04:15:20.500Z"
   },
   {
    "duration": 362,
    "start_time": "2022-05-27T04:15:40.769Z"
   },
   {
    "duration": 306,
    "start_time": "2022-05-27T04:18:22.409Z"
   },
   {
    "duration": 269,
    "start_time": "2022-05-27T04:20:31.340Z"
   },
   {
    "duration": 478,
    "start_time": "2022-05-27T04:22:34.619Z"
   },
   {
    "duration": 327,
    "start_time": "2022-05-27T04:22:51.838Z"
   },
   {
    "duration": 301,
    "start_time": "2022-05-27T04:23:40.545Z"
   },
   {
    "duration": 319,
    "start_time": "2022-05-27T04:23:47.152Z"
   },
   {
    "duration": 361,
    "start_time": "2022-05-27T04:26:48.407Z"
   },
   {
    "duration": 310,
    "start_time": "2022-05-27T04:27:10.388Z"
   },
   {
    "duration": 320,
    "start_time": "2022-05-27T04:27:15.183Z"
   },
   {
    "duration": 851,
    "start_time": "2022-05-27T04:40:56.582Z"
   },
   {
    "duration": 370,
    "start_time": "2022-05-27T04:41:09.208Z"
   },
   {
    "duration": 366,
    "start_time": "2022-05-27T04:41:27.311Z"
   },
   {
    "duration": 408,
    "start_time": "2022-05-27T04:42:09.926Z"
   },
   {
    "duration": 315,
    "start_time": "2022-05-27T04:44:22.536Z"
   },
   {
    "duration": 356,
    "start_time": "2022-05-27T04:44:35.278Z"
   },
   {
    "duration": 311,
    "start_time": "2022-05-27T04:44:41.942Z"
   },
   {
    "duration": 370,
    "start_time": "2022-05-27T04:48:57.699Z"
   },
   {
    "duration": 328,
    "start_time": "2022-05-27T04:49:05.611Z"
   },
   {
    "duration": 307,
    "start_time": "2022-05-27T04:50:32.673Z"
   },
   {
    "duration": 262,
    "start_time": "2022-05-27T04:54:20.867Z"
   },
   {
    "duration": 300,
    "start_time": "2022-05-27T04:55:25.254Z"
   },
   {
    "duration": 312,
    "start_time": "2022-05-27T04:55:28.948Z"
   },
   {
    "duration": 284,
    "start_time": "2022-05-27T04:55:33.447Z"
   },
   {
    "duration": 311,
    "start_time": "2022-05-27T04:55:38.298Z"
   },
   {
    "duration": 362,
    "start_time": "2022-05-27T04:56:01.825Z"
   },
   {
    "duration": 300,
    "start_time": "2022-05-27T04:57:29.956Z"
   },
   {
    "duration": 446,
    "start_time": "2022-05-27T04:57:38.470Z"
   },
   {
    "duration": 313,
    "start_time": "2022-05-27T04:58:00.488Z"
   },
   {
    "duration": 27,
    "start_time": "2022-05-27T04:58:38.338Z"
   },
   {
    "duration": 218,
    "start_time": "2022-05-27T05:42:55.078Z"
   },
   {
    "duration": 192,
    "start_time": "2022-05-27T05:42:55.299Z"
   },
   {
    "duration": 129,
    "start_time": "2022-05-27T05:42:55.494Z"
   },
   {
    "duration": 39,
    "start_time": "2022-05-27T05:42:55.627Z"
   },
   {
    "duration": 48,
    "start_time": "2022-05-27T05:42:55.668Z"
   },
   {
    "duration": 13,
    "start_time": "2022-05-27T05:42:55.719Z"
   },
   {
    "duration": 135,
    "start_time": "2022-05-27T05:42:55.735Z"
   },
   {
    "duration": 133,
    "start_time": "2022-05-27T05:42:55.871Z"
   },
   {
    "duration": 32,
    "start_time": "2022-05-27T05:42:56.007Z"
   },
   {
    "duration": 15,
    "start_time": "2022-05-27T05:42:56.043Z"
   },
   {
    "duration": 15,
    "start_time": "2022-05-27T05:42:56.060Z"
   },
   {
    "duration": 94,
    "start_time": "2022-05-27T05:42:56.077Z"
   },
   {
    "duration": 78,
    "start_time": "2022-05-27T05:42:56.173Z"
   },
   {
    "duration": 65,
    "start_time": "2022-05-27T05:42:56.253Z"
   },
   {
    "duration": 16,
    "start_time": "2022-05-27T05:42:56.321Z"
   },
   {
    "duration": 48,
    "start_time": "2022-05-27T05:42:56.339Z"
   },
   {
    "duration": 39,
    "start_time": "2022-05-27T05:42:56.389Z"
   },
   {
    "duration": 52,
    "start_time": "2022-05-27T05:42:56.431Z"
   },
   {
    "duration": 21,
    "start_time": "2022-05-27T05:42:56.485Z"
   },
   {
    "duration": 41749,
    "start_time": "2022-05-27T05:42:56.508Z"
   },
   {
    "duration": 9,
    "start_time": "2022-05-27T05:43:38.259Z"
   },
   {
    "duration": 59,
    "start_time": "2022-05-27T05:43:38.271Z"
   },
   {
    "duration": 369,
    "start_time": "2022-05-27T05:43:38.332Z"
   },
   {
    "duration": 356,
    "start_time": "2022-05-27T05:43:38.704Z"
   },
   {
    "duration": 383,
    "start_time": "2022-05-27T05:43:39.062Z"
   },
   {
    "duration": 370,
    "start_time": "2022-05-27T05:43:39.447Z"
   },
   {
    "duration": 329,
    "start_time": "2022-05-27T05:43:39.819Z"
   },
   {
    "duration": 325,
    "start_time": "2022-05-27T05:43:40.153Z"
   },
   {
    "duration": 22,
    "start_time": "2022-05-27T05:43:40.480Z"
   },
   {
    "duration": 423,
    "start_time": "2022-05-27T05:43:40.504Z"
   },
   {
    "duration": 228,
    "start_time": "2022-05-27T05:43:40.929Z"
   },
   {
    "duration": 5,
    "start_time": "2022-05-27T05:43:41.159Z"
   },
   {
    "duration": 8,
    "start_time": "2022-05-27T05:43:41.165Z"
   },
   {
    "duration": 54,
    "start_time": "2022-05-27T05:43:41.174Z"
   },
   {
    "duration": 250,
    "start_time": "2022-05-27T05:43:41.230Z"
   },
   {
    "duration": 232,
    "start_time": "2022-05-27T05:43:41.482Z"
   },
   {
    "duration": 11,
    "start_time": "2022-05-27T05:43:41.716Z"
   },
   {
    "duration": 6,
    "start_time": "2022-05-27T05:43:41.729Z"
   },
   {
    "duration": 6,
    "start_time": "2022-05-27T06:11:50.285Z"
   },
   {
    "duration": 29,
    "start_time": "2022-05-27T06:13:12.227Z"
   },
   {
    "duration": 6,
    "start_time": "2022-05-27T06:13:56.868Z"
   },
   {
    "duration": 10,
    "start_time": "2022-05-27T06:14:03.862Z"
   },
   {
    "duration": 6,
    "start_time": "2022-05-27T06:19:14.982Z"
   },
   {
    "duration": 7,
    "start_time": "2022-05-27T06:19:40.175Z"
   },
   {
    "duration": 8,
    "start_time": "2022-05-27T06:21:48.969Z"
   },
   {
    "duration": 7,
    "start_time": "2022-05-27T06:21:51.376Z"
   },
   {
    "duration": 6,
    "start_time": "2022-05-27T06:22:02.186Z"
   },
   {
    "duration": 8,
    "start_time": "2022-05-27T06:22:32.462Z"
   },
   {
    "duration": 14,
    "start_time": "2022-05-27T06:34:55.678Z"
   },
   {
    "duration": 13,
    "start_time": "2022-05-27T06:35:11.172Z"
   },
   {
    "duration": 13,
    "start_time": "2022-05-27T06:37:43.750Z"
   },
   {
    "duration": 1680,
    "start_time": "2022-05-27T08:39:34.523Z"
   },
   {
    "duration": 360,
    "start_time": "2022-05-27T08:39:36.205Z"
   },
   {
    "duration": 745,
    "start_time": "2022-05-27T08:39:36.567Z"
   },
   {
    "duration": 88,
    "start_time": "2022-05-27T08:39:37.314Z"
   },
   {
    "duration": 77,
    "start_time": "2022-05-27T08:39:37.403Z"
   },
   {
    "duration": 12,
    "start_time": "2022-05-27T08:39:37.482Z"
   },
   {
    "duration": 141,
    "start_time": "2022-05-27T08:39:37.496Z"
   },
   {
    "duration": 112,
    "start_time": "2022-05-27T08:39:37.639Z"
   },
   {
    "duration": 22,
    "start_time": "2022-05-27T08:39:37.753Z"
   },
   {
    "duration": 7,
    "start_time": "2022-05-27T08:39:37.778Z"
   },
   {
    "duration": 13,
    "start_time": "2022-05-27T08:39:37.787Z"
   },
   {
    "duration": 126,
    "start_time": "2022-05-27T08:39:37.802Z"
   },
   {
    "duration": 124,
    "start_time": "2022-05-27T08:39:37.930Z"
   },
   {
    "duration": 56,
    "start_time": "2022-05-27T08:39:38.065Z"
   },
   {
    "duration": 10,
    "start_time": "2022-05-27T08:39:38.123Z"
   },
   {
    "duration": 63,
    "start_time": "2022-05-27T08:39:38.134Z"
   },
   {
    "duration": 7,
    "start_time": "2022-05-27T08:39:38.198Z"
   },
   {
    "duration": 32,
    "start_time": "2022-05-27T08:39:38.207Z"
   },
   {
    "duration": 29,
    "start_time": "2022-05-27T08:39:38.241Z"
   },
   {
    "duration": 44705,
    "start_time": "2022-05-27T08:39:38.272Z"
   },
   {
    "duration": 8,
    "start_time": "2022-05-27T08:40:22.979Z"
   },
   {
    "duration": 45,
    "start_time": "2022-05-27T08:40:22.988Z"
   },
   {
    "duration": 478,
    "start_time": "2022-05-27T08:40:23.034Z"
   },
   {
    "duration": 375,
    "start_time": "2022-05-27T08:40:23.514Z"
   },
   {
    "duration": 312,
    "start_time": "2022-05-27T08:40:23.891Z"
   },
   {
    "duration": 318,
    "start_time": "2022-05-27T08:40:24.205Z"
   },
   {
    "duration": 376,
    "start_time": "2022-05-27T08:40:24.525Z"
   },
   {
    "duration": 372,
    "start_time": "2022-05-27T08:40:24.905Z"
   },
   {
    "duration": 19,
    "start_time": "2022-05-27T08:40:25.279Z"
   },
   {
    "duration": 273,
    "start_time": "2022-05-27T08:40:25.299Z"
   },
   {
    "duration": 250,
    "start_time": "2022-05-27T08:40:25.573Z"
   },
   {
    "duration": 4,
    "start_time": "2022-05-27T08:40:25.825Z"
   },
   {
    "duration": 6,
    "start_time": "2022-05-27T08:40:25.831Z"
   },
   {
    "duration": 26,
    "start_time": "2022-05-27T08:40:25.839Z"
   },
   {
    "duration": 5,
    "start_time": "2022-05-27T08:40:25.867Z"
   },
   {
    "duration": 16,
    "start_time": "2022-05-27T08:40:25.874Z"
   },
   {
    "duration": 40,
    "start_time": "2022-05-27T08:40:25.892Z"
   },
   {
    "duration": 293,
    "start_time": "2022-05-27T08:40:25.935Z"
   },
   {
    "duration": 261,
    "start_time": "2022-05-27T08:40:26.230Z"
   },
   {
    "duration": 4,
    "start_time": "2022-05-27T08:40:26.493Z"
   },
   {
    "duration": 11,
    "start_time": "2022-05-27T08:40:26.498Z"
   },
   {
    "duration": 5,
    "start_time": "2022-05-27T09:05:16.412Z"
   },
   {
    "duration": 234,
    "start_time": "2022-05-27T09:08:13.893Z"
   },
   {
    "duration": 161,
    "start_time": "2022-05-27T09:08:20.208Z"
   },
   {
    "duration": 49,
    "start_time": "2022-05-27T13:51:03.206Z"
   },
   {
    "duration": 1534,
    "start_time": "2022-05-27T13:53:06.699Z"
   },
   {
    "duration": 588,
    "start_time": "2022-05-27T13:53:08.236Z"
   },
   {
    "duration": 447,
    "start_time": "2022-05-27T13:53:08.826Z"
   },
   {
    "duration": 182,
    "start_time": "2022-05-27T13:53:09.275Z"
   },
   {
    "duration": 58,
    "start_time": "2022-05-27T13:53:09.458Z"
   },
   {
    "duration": 69,
    "start_time": "2022-05-27T13:53:09.518Z"
   },
   {
    "duration": 11,
    "start_time": "2022-05-27T13:53:09.588Z"
   },
   {
    "duration": 131,
    "start_time": "2022-05-27T13:53:09.601Z"
   },
   {
    "duration": 121,
    "start_time": "2022-05-27T13:53:09.734Z"
   },
   {
    "duration": 11,
    "start_time": "2022-05-27T13:53:09.858Z"
   },
   {
    "duration": 10,
    "start_time": "2022-05-27T13:53:09.870Z"
   },
   {
    "duration": 24,
    "start_time": "2022-05-27T13:53:09.882Z"
   },
   {
    "duration": 122,
    "start_time": "2022-05-27T13:53:09.908Z"
   },
   {
    "duration": 130,
    "start_time": "2022-05-27T13:53:10.032Z"
   },
   {
    "duration": 54,
    "start_time": "2022-05-27T13:53:10.164Z"
   },
   {
    "duration": 23,
    "start_time": "2022-05-27T13:53:10.220Z"
   },
   {
    "duration": 39,
    "start_time": "2022-05-27T13:53:10.244Z"
   },
   {
    "duration": 7,
    "start_time": "2022-05-27T13:53:10.284Z"
   },
   {
    "duration": 54,
    "start_time": "2022-05-27T13:53:10.293Z"
   },
   {
    "duration": 15,
    "start_time": "2022-05-27T13:53:10.349Z"
   },
   {
    "duration": 46534,
    "start_time": "2022-05-27T13:53:10.366Z"
   },
   {
    "duration": 9,
    "start_time": "2022-05-27T13:53:56.901Z"
   },
   {
    "duration": 48,
    "start_time": "2022-05-27T13:53:56.914Z"
   },
   {
    "duration": 479,
    "start_time": "2022-05-27T13:53:56.964Z"
   },
   {
    "duration": 302,
    "start_time": "2022-05-27T13:53:57.444Z"
   },
   {
    "duration": 295,
    "start_time": "2022-05-27T13:53:57.748Z"
   },
   {
    "duration": 282,
    "start_time": "2022-05-27T13:53:58.044Z"
   },
   {
    "duration": 342,
    "start_time": "2022-05-27T13:53:58.330Z"
   },
   {
    "duration": 351,
    "start_time": "2022-05-27T13:53:58.674Z"
   },
   {
    "duration": 23,
    "start_time": "2022-05-27T13:53:59.027Z"
   },
   {
    "duration": 268,
    "start_time": "2022-05-27T13:53:59.052Z"
   },
   {
    "duration": 232,
    "start_time": "2022-05-27T13:53:59.322Z"
   },
   {
    "duration": 3,
    "start_time": "2022-05-27T13:53:59.556Z"
   },
   {
    "duration": 6,
    "start_time": "2022-05-27T13:53:59.561Z"
   },
   {
    "duration": 8,
    "start_time": "2022-05-27T13:53:59.569Z"
   },
   {
    "duration": 6,
    "start_time": "2022-05-27T13:53:59.578Z"
   },
   {
    "duration": 6,
    "start_time": "2022-05-27T13:53:59.586Z"
   },
   {
    "duration": 65,
    "start_time": "2022-05-27T13:53:59.593Z"
   },
   {
    "duration": 278,
    "start_time": "2022-05-27T13:53:59.659Z"
   },
   {
    "duration": 257,
    "start_time": "2022-05-27T13:53:59.941Z"
   },
   {
    "duration": 5,
    "start_time": "2022-05-27T13:54:00.199Z"
   },
   {
    "duration": 9,
    "start_time": "2022-05-27T13:54:00.206Z"
   },
   {
    "duration": 34,
    "start_time": "2022-05-27T13:55:07.635Z"
   },
   {
    "duration": 5,
    "start_time": "2022-05-27T13:56:18.134Z"
   },
   {
    "duration": 233,
    "start_time": "2022-05-27T13:56:18.142Z"
   },
   {
    "duration": 170,
    "start_time": "2022-05-27T13:56:18.376Z"
   },
   {
    "duration": 121,
    "start_time": "2022-05-27T13:56:18.550Z"
   },
   {
    "duration": 28,
    "start_time": "2022-05-27T13:56:18.672Z"
   },
   {
    "duration": 51,
    "start_time": "2022-05-27T13:56:18.702Z"
   },
   {
    "duration": 12,
    "start_time": "2022-05-27T13:59:06.668Z"
   },
   {
    "duration": 5,
    "start_time": "2022-05-27T13:59:15.261Z"
   },
   {
    "duration": 209,
    "start_time": "2022-05-27T13:59:15.268Z"
   },
   {
    "duration": 179,
    "start_time": "2022-05-27T13:59:15.480Z"
   },
   {
    "duration": 140,
    "start_time": "2022-05-27T13:59:15.661Z"
   },
   {
    "duration": 37,
    "start_time": "2022-05-27T13:59:15.804Z"
   },
   {
    "duration": 42,
    "start_time": "2022-05-27T13:59:15.844Z"
   },
   {
    "duration": 14,
    "start_time": "2022-05-27T13:59:17.390Z"
   },
   {
    "duration": 160,
    "start_time": "2022-05-27T14:01:10.096Z"
   },
   {
    "duration": 151,
    "start_time": "2022-05-27T14:03:33.454Z"
   },
   {
    "duration": 170,
    "start_time": "2022-05-27T14:05:18.140Z"
   },
   {
    "duration": 171,
    "start_time": "2022-05-27T14:06:01.164Z"
   },
   {
    "duration": 253,
    "start_time": "2022-05-27T14:06:40.814Z"
   },
   {
    "duration": 27,
    "start_time": "2022-05-27T14:08:28.639Z"
   },
   {
    "duration": 4,
    "start_time": "2022-05-27T14:12:48.329Z"
   },
   {
    "duration": 210,
    "start_time": "2022-05-27T14:12:48.335Z"
   },
   {
    "duration": 149,
    "start_time": "2022-05-27T14:12:48.547Z"
   },
   {
    "duration": 105,
    "start_time": "2022-05-27T14:12:48.697Z"
   },
   {
    "duration": 27,
    "start_time": "2022-05-27T14:12:48.804Z"
   },
   {
    "duration": 38,
    "start_time": "2022-05-27T14:12:48.833Z"
   },
   {
    "duration": 9,
    "start_time": "2022-05-27T14:12:48.873Z"
   },
   {
    "duration": 116,
    "start_time": "2022-05-27T14:12:48.884Z"
   },
   {
    "duration": 107,
    "start_time": "2022-05-27T14:12:49.002Z"
   },
   {
    "duration": 179,
    "start_time": "2022-05-27T14:12:49.111Z"
   },
   {
    "duration": 187,
    "start_time": "2022-05-27T14:12:49.293Z"
   },
   {
    "duration": 10,
    "start_time": "2022-05-27T14:12:49.482Z"
   },
   {
    "duration": 9,
    "start_time": "2022-05-27T14:12:49.494Z"
   },
   {
    "duration": 14,
    "start_time": "2022-05-27T14:12:49.504Z"
   },
   {
    "duration": 88,
    "start_time": "2022-05-27T14:12:49.519Z"
   },
   {
    "duration": 59,
    "start_time": "2022-05-27T14:12:49.609Z"
   },
   {
    "duration": 48,
    "start_time": "2022-05-27T14:12:49.669Z"
   },
   {
    "duration": 7,
    "start_time": "2022-05-27T14:12:53.894Z"
   },
   {
    "duration": 14,
    "start_time": "2022-05-27T14:13:34.806Z"
   },
   {
    "duration": 11,
    "start_time": "2022-05-27T14:13:57.161Z"
   },
   {
    "duration": 3,
    "start_time": "2022-05-27T14:14:04.322Z"
   },
   {
    "duration": 191,
    "start_time": "2022-05-27T14:14:04.327Z"
   },
   {
    "duration": 145,
    "start_time": "2022-05-27T14:14:04.520Z"
   },
   {
    "duration": 103,
    "start_time": "2022-05-27T14:14:04.668Z"
   },
   {
    "duration": 27,
    "start_time": "2022-05-27T14:14:04.773Z"
   },
   {
    "duration": 48,
    "start_time": "2022-05-27T14:14:04.802Z"
   },
   {
    "duration": 12,
    "start_time": "2022-05-27T14:14:04.852Z"
   },
   {
    "duration": 130,
    "start_time": "2022-05-27T14:14:04.866Z"
   },
   {
    "duration": 108,
    "start_time": "2022-05-27T14:14:04.997Z"
   },
   {
    "duration": 170,
    "start_time": "2022-05-27T14:14:05.108Z"
   },
   {
    "duration": 164,
    "start_time": "2022-05-27T14:14:05.279Z"
   },
   {
    "duration": 11,
    "start_time": "2022-05-27T14:14:05.444Z"
   },
   {
    "duration": 15,
    "start_time": "2022-05-27T14:14:05.457Z"
   },
   {
    "duration": 12,
    "start_time": "2022-05-27T14:14:05.474Z"
   },
   {
    "duration": 95,
    "start_time": "2022-05-27T14:14:05.488Z"
   },
   {
    "duration": 159,
    "start_time": "2022-05-27T14:14:05.585Z"
   },
   {
    "duration": 48,
    "start_time": "2022-05-27T14:14:05.746Z"
   },
   {
    "duration": 8,
    "start_time": "2022-05-27T14:14:13.587Z"
   },
   {
    "duration": 19,
    "start_time": "2022-05-27T14:24:26.861Z"
   },
   {
    "duration": 3,
    "start_time": "2022-05-27T14:25:00.477Z"
   },
   {
    "duration": 209,
    "start_time": "2022-05-27T14:25:00.482Z"
   },
   {
    "duration": 148,
    "start_time": "2022-05-27T14:25:00.694Z"
   },
   {
    "duration": 106,
    "start_time": "2022-05-27T14:25:00.843Z"
   },
   {
    "duration": 43,
    "start_time": "2022-05-27T14:25:00.951Z"
   },
   {
    "duration": 47,
    "start_time": "2022-05-27T14:25:00.996Z"
   },
   {
    "duration": 9,
    "start_time": "2022-05-27T14:25:01.044Z"
   },
   {
    "duration": 128,
    "start_time": "2022-05-27T14:25:01.054Z"
   },
   {
    "duration": 103,
    "start_time": "2022-05-27T14:25:01.183Z"
   },
   {
    "duration": 157,
    "start_time": "2022-05-27T14:25:01.288Z"
   },
   {
    "duration": 156,
    "start_time": "2022-05-27T14:25:01.447Z"
   },
   {
    "duration": 10,
    "start_time": "2022-05-27T14:25:01.605Z"
   },
   {
    "duration": 32,
    "start_time": "2022-05-27T14:25:01.617Z"
   },
   {
    "duration": 40,
    "start_time": "2022-05-27T14:25:01.651Z"
   },
   {
    "duration": 101,
    "start_time": "2022-05-27T14:25:01.693Z"
   },
   {
    "duration": 65,
    "start_time": "2022-05-27T14:25:01.796Z"
   },
   {
    "duration": 52,
    "start_time": "2022-05-27T14:25:01.863Z"
   },
   {
    "duration": 32,
    "start_time": "2022-05-27T14:25:01.917Z"
   },
   {
    "duration": 18,
    "start_time": "2022-05-27T14:25:04.541Z"
   },
   {
    "duration": 57,
    "start_time": "2022-05-27T14:27:22.132Z"
   },
   {
    "duration": 3,
    "start_time": "2022-05-27T14:27:49.965Z"
   },
   {
    "duration": 191,
    "start_time": "2022-05-27T14:27:49.970Z"
   },
   {
    "duration": 155,
    "start_time": "2022-05-27T14:27:50.163Z"
   },
   {
    "duration": 104,
    "start_time": "2022-05-27T14:27:50.320Z"
   },
   {
    "duration": 32,
    "start_time": "2022-05-27T14:27:50.426Z"
   },
   {
    "duration": 44,
    "start_time": "2022-05-27T14:27:50.459Z"
   },
   {
    "duration": 8,
    "start_time": "2022-05-27T14:27:50.505Z"
   },
   {
    "duration": 119,
    "start_time": "2022-05-27T14:27:50.515Z"
   },
   {
    "duration": 113,
    "start_time": "2022-05-27T14:27:50.635Z"
   },
   {
    "duration": 175,
    "start_time": "2022-05-27T14:27:50.750Z"
   },
   {
    "duration": 203,
    "start_time": "2022-05-27T14:27:50.929Z"
   },
   {
    "duration": 15,
    "start_time": "2022-05-27T14:27:51.134Z"
   },
   {
    "duration": 10,
    "start_time": "2022-05-27T14:27:51.151Z"
   },
   {
    "duration": 20,
    "start_time": "2022-05-27T14:27:51.162Z"
   },
   {
    "duration": 86,
    "start_time": "2022-05-27T14:27:51.183Z"
   },
   {
    "duration": 151,
    "start_time": "2022-05-27T14:27:51.270Z"
   },
   {
    "duration": 56,
    "start_time": "2022-05-27T14:27:51.422Z"
   },
   {
    "duration": 8,
    "start_time": "2022-05-27T14:27:51.479Z"
   },
   {
    "duration": 49,
    "start_time": "2022-05-27T14:27:53.321Z"
   },
   {
    "duration": 50,
    "start_time": "2022-05-27T14:28:22.588Z"
   },
   {
    "duration": 3,
    "start_time": "2022-05-27T14:28:27.593Z"
   },
   {
    "duration": 186,
    "start_time": "2022-05-27T14:28:27.599Z"
   },
   {
    "duration": 143,
    "start_time": "2022-05-27T14:28:27.787Z"
   },
   {
    "duration": 102,
    "start_time": "2022-05-27T14:28:27.932Z"
   },
   {
    "duration": 26,
    "start_time": "2022-05-27T14:28:28.036Z"
   },
   {
    "duration": 38,
    "start_time": "2022-05-27T14:28:28.063Z"
   },
   {
    "duration": 9,
    "start_time": "2022-05-27T14:28:28.102Z"
   },
   {
    "duration": 114,
    "start_time": "2022-05-27T14:28:28.113Z"
   },
   {
    "duration": 99,
    "start_time": "2022-05-27T14:28:28.228Z"
   },
   {
    "duration": 146,
    "start_time": "2022-05-27T14:28:28.340Z"
   },
   {
    "duration": 155,
    "start_time": "2022-05-27T14:28:28.488Z"
   },
   {
    "duration": 10,
    "start_time": "2022-05-27T14:28:28.644Z"
   },
   {
    "duration": 12,
    "start_time": "2022-05-27T14:28:28.655Z"
   },
   {
    "duration": 14,
    "start_time": "2022-05-27T14:28:28.669Z"
   },
   {
    "duration": 82,
    "start_time": "2022-05-27T14:28:28.685Z"
   },
   {
    "duration": 48,
    "start_time": "2022-05-27T14:28:28.769Z"
   },
   {
    "duration": 60,
    "start_time": "2022-05-27T14:28:28.818Z"
   },
   {
    "duration": 7,
    "start_time": "2022-05-27T14:28:28.880Z"
   },
   {
    "duration": 48,
    "start_time": "2022-05-27T14:28:30.378Z"
   },
   {
    "duration": 34,
    "start_time": "2022-05-27T14:29:38.462Z"
   },
   {
    "duration": 1911,
    "start_time": "2022-05-27T17:27:36.682Z"
   },
   {
    "duration": 936,
    "start_time": "2022-05-27T17:27:38.596Z"
   },
   {
    "duration": 545,
    "start_time": "2022-05-27T17:27:39.534Z"
   },
   {
    "duration": 210,
    "start_time": "2022-05-27T17:27:40.081Z"
   },
   {
    "duration": 59,
    "start_time": "2022-05-27T17:27:40.293Z"
   },
   {
    "duration": 68,
    "start_time": "2022-05-27T17:27:40.353Z"
   },
   {
    "duration": 11,
    "start_time": "2022-05-27T17:27:40.422Z"
   },
   {
    "duration": 140,
    "start_time": "2022-05-27T17:27:40.434Z"
   },
   {
    "duration": 145,
    "start_time": "2022-05-27T17:27:40.576Z"
   },
   {
    "duration": 193,
    "start_time": "2022-05-27T17:27:40.724Z"
   },
   {
    "duration": 268,
    "start_time": "2022-05-27T17:27:40.919Z"
   },
   {
    "duration": 17,
    "start_time": "2022-05-27T17:27:41.189Z"
   },
   {
    "duration": 10,
    "start_time": "2022-05-27T17:27:41.207Z"
   },
   {
    "duration": 42,
    "start_time": "2022-05-27T17:27:41.219Z"
   },
   {
    "duration": 138,
    "start_time": "2022-05-27T17:27:41.263Z"
   },
   {
    "duration": 87,
    "start_time": "2022-05-27T17:27:41.403Z"
   },
   {
    "duration": 87,
    "start_time": "2022-05-27T17:27:41.493Z"
   },
   {
    "duration": 9,
    "start_time": "2022-05-27T17:27:41.582Z"
   },
   {
    "duration": 125,
    "start_time": "2022-05-27T17:27:58.654Z"
   },
   {
    "duration": 10,
    "start_time": "2022-05-27T17:38:56.117Z"
   },
   {
    "duration": 4,
    "start_time": "2022-05-27T17:39:54.002Z"
   },
   {
    "duration": 243,
    "start_time": "2022-05-27T17:39:54.008Z"
   },
   {
    "duration": 185,
    "start_time": "2022-05-27T17:39:54.260Z"
   },
   {
    "duration": 123,
    "start_time": "2022-05-27T17:39:54.448Z"
   },
   {
    "duration": 28,
    "start_time": "2022-05-27T17:39:54.573Z"
   },
   {
    "duration": 48,
    "start_time": "2022-05-27T17:39:54.603Z"
   },
   {
    "duration": 10,
    "start_time": "2022-05-27T17:39:54.656Z"
   },
   {
    "duration": 150,
    "start_time": "2022-05-27T17:39:54.668Z"
   },
   {
    "duration": 152,
    "start_time": "2022-05-27T17:39:54.820Z"
   },
   {
    "duration": 218,
    "start_time": "2022-05-27T17:39:54.975Z"
   },
   {
    "duration": 256,
    "start_time": "2022-05-27T17:39:55.197Z"
   },
   {
    "duration": 16,
    "start_time": "2022-05-27T17:39:55.454Z"
   },
   {
    "duration": 13,
    "start_time": "2022-05-27T17:39:55.472Z"
   },
   {
    "duration": 25,
    "start_time": "2022-05-27T17:39:55.488Z"
   },
   {
    "duration": 132,
    "start_time": "2022-05-27T17:39:55.516Z"
   },
   {
    "duration": 76,
    "start_time": "2022-05-27T17:39:55.658Z"
   },
   {
    "duration": 59,
    "start_time": "2022-05-27T17:39:55.737Z"
   },
   {
    "duration": 10,
    "start_time": "2022-05-27T17:39:55.798Z"
   },
   {
    "duration": 65,
    "start_time": "2022-05-27T17:39:55.810Z"
   },
   {
    "duration": 10,
    "start_time": "2022-05-27T17:39:55.877Z"
   },
   {
    "duration": 27,
    "start_time": "2022-05-27T17:39:55.889Z"
   },
   {
    "duration": 46,
    "start_time": "2022-05-27T17:39:55.918Z"
   },
   {
    "duration": 49563,
    "start_time": "2022-05-27T17:39:55.968Z"
   },
   {
    "duration": 11,
    "start_time": "2022-05-27T17:40:45.533Z"
   },
   {
    "duration": 57,
    "start_time": "2022-05-27T17:40:45.546Z"
   },
   {
    "duration": 463,
    "start_time": "2022-05-27T17:40:45.605Z"
   },
   {
    "duration": 348,
    "start_time": "2022-05-27T17:40:46.070Z"
   },
   {
    "duration": 353,
    "start_time": "2022-05-27T17:40:46.420Z"
   },
   {
    "duration": 339,
    "start_time": "2022-05-27T17:40:46.777Z"
   },
   {
    "duration": 382,
    "start_time": "2022-05-27T17:40:47.118Z"
   },
   {
    "duration": 345,
    "start_time": "2022-05-27T17:40:47.502Z"
   },
   {
    "duration": 35,
    "start_time": "2022-05-27T17:40:47.850Z"
   },
   {
    "duration": 276,
    "start_time": "2022-05-27T17:40:47.887Z"
   },
   {
    "duration": 259,
    "start_time": "2022-05-27T17:40:48.164Z"
   },
   {
    "duration": 5,
    "start_time": "2022-05-27T17:40:48.424Z"
   },
   {
    "duration": 16,
    "start_time": "2022-05-27T17:40:48.444Z"
   },
   {
    "duration": 10,
    "start_time": "2022-05-27T17:40:48.462Z"
   },
   {
    "duration": 8,
    "start_time": "2022-05-27T17:40:48.474Z"
   },
   {
    "duration": 6,
    "start_time": "2022-05-27T17:40:48.485Z"
   },
   {
    "duration": 26,
    "start_time": "2022-05-27T17:40:48.493Z"
   },
   {
    "duration": 402,
    "start_time": "2022-05-27T17:40:48.521Z"
   },
   {
    "duration": 271,
    "start_time": "2022-05-27T17:40:48.925Z"
   },
   {
    "duration": 5,
    "start_time": "2022-05-27T17:40:49.197Z"
   },
   {
    "duration": 6,
    "start_time": "2022-05-27T17:40:49.203Z"
   },
   {
    "duration": 382,
    "start_time": "2022-05-27T17:41:03.827Z"
   },
   {
    "duration": 262,
    "start_time": "2022-05-27T17:41:39.909Z"
   },
   {
    "duration": 271,
    "start_time": "2022-05-27T17:42:05.081Z"
   },
   {
    "duration": 244,
    "start_time": "2022-05-27T17:42:35.076Z"
   },
   {
    "duration": 185,
    "start_time": "2022-05-27T17:42:42.133Z"
   },
   {
    "duration": 27,
    "start_time": "2022-05-27T17:50:50.027Z"
   },
   {
    "duration": 20,
    "start_time": "2022-05-27T17:51:06.817Z"
   },
   {
    "duration": 11,
    "start_time": "2022-05-27T17:51:42.117Z"
   },
   {
    "duration": 19,
    "start_time": "2022-05-27T17:51:51.122Z"
   },
   {
    "duration": 14,
    "start_time": "2022-05-27T17:52:19.008Z"
   },
   {
    "duration": 15,
    "start_time": "2022-05-27T17:52:29.004Z"
   },
   {
    "duration": 21,
    "start_time": "2022-05-27T17:59:02.900Z"
   },
   {
    "duration": 15,
    "start_time": "2022-05-27T17:59:26.113Z"
   },
   {
    "duration": 443,
    "start_time": "2022-05-27T18:04:59.687Z"
   },
   {
    "duration": 266,
    "start_time": "2022-05-27T18:07:51.891Z"
   },
   {
    "duration": 1241,
    "start_time": "2022-05-28T06:08:42.942Z"
   },
   {
    "duration": 266,
    "start_time": "2022-05-28T06:08:44.185Z"
   },
   {
    "duration": 321,
    "start_time": "2022-05-28T06:08:44.453Z"
   },
   {
    "duration": 340,
    "start_time": "2022-05-28T06:08:44.776Z"
   },
   {
    "duration": 69,
    "start_time": "2022-05-28T06:08:45.118Z"
   },
   {
    "duration": 75,
    "start_time": "2022-05-28T06:08:45.190Z"
   },
   {
    "duration": 15,
    "start_time": "2022-05-28T06:08:45.268Z"
   },
   {
    "duration": 190,
    "start_time": "2022-05-28T06:08:45.286Z"
   },
   {
    "duration": 155,
    "start_time": "2022-05-28T06:08:45.478Z"
   },
   {
    "duration": 173,
    "start_time": "2022-05-28T06:08:45.635Z"
   },
   {
    "duration": 214,
    "start_time": "2022-05-28T06:08:45.811Z"
   },
   {
    "duration": 22,
    "start_time": "2022-05-28T06:08:46.027Z"
   },
   {
    "duration": 22,
    "start_time": "2022-05-28T06:08:46.051Z"
   },
   {
    "duration": 18,
    "start_time": "2022-05-28T06:08:46.075Z"
   },
   {
    "duration": 91,
    "start_time": "2022-05-28T06:08:46.096Z"
   },
   {
    "duration": 59,
    "start_time": "2022-05-28T06:08:46.188Z"
   },
   {
    "duration": 72,
    "start_time": "2022-05-28T06:08:46.249Z"
   },
   {
    "duration": 8,
    "start_time": "2022-05-28T06:08:46.323Z"
   },
   {
    "duration": 38,
    "start_time": "2022-05-28T06:08:46.333Z"
   },
   {
    "duration": 23,
    "start_time": "2022-05-28T06:08:46.373Z"
   },
   {
    "duration": 39,
    "start_time": "2022-05-28T06:08:46.397Z"
   },
   {
    "duration": 14,
    "start_time": "2022-05-28T06:08:46.438Z"
   },
   {
    "duration": 36529,
    "start_time": "2022-05-28T06:08:46.454Z"
   },
   {
    "duration": 20,
    "start_time": "2022-05-28T06:09:22.985Z"
   },
   {
    "duration": 7,
    "start_time": "2022-05-28T06:09:23.007Z"
   },
   {
    "duration": 32,
    "start_time": "2022-05-28T06:09:23.016Z"
   },
   {
    "duration": 396,
    "start_time": "2022-05-28T06:09:23.050Z"
   },
   {
    "duration": 336,
    "start_time": "2022-05-28T06:09:23.449Z"
   },
   {
    "duration": 304,
    "start_time": "2022-05-28T06:09:23.793Z"
   },
   {
    "duration": 284,
    "start_time": "2022-05-28T06:09:24.098Z"
   },
   {
    "duration": 319,
    "start_time": "2022-05-28T06:09:24.384Z"
   },
   {
    "duration": 284,
    "start_time": "2022-05-28T06:09:24.705Z"
   },
   {
    "duration": 23,
    "start_time": "2022-05-28T06:09:24.993Z"
   },
   {
    "duration": 261,
    "start_time": "2022-05-28T06:09:25.017Z"
   },
   {
    "duration": 225,
    "start_time": "2022-05-28T06:09:25.279Z"
   },
   {
    "duration": 4,
    "start_time": "2022-05-28T06:09:25.505Z"
   },
   {
    "duration": 6,
    "start_time": "2022-05-28T06:09:25.510Z"
   },
   {
    "duration": 8,
    "start_time": "2022-05-28T06:09:25.517Z"
   },
   {
    "duration": 6,
    "start_time": "2022-05-28T06:09:25.526Z"
   },
   {
    "duration": 4,
    "start_time": "2022-05-28T06:09:25.533Z"
   },
   {
    "duration": 63,
    "start_time": "2022-05-28T06:09:25.538Z"
   },
   {
    "duration": 214,
    "start_time": "2022-05-28T06:09:25.602Z"
   },
   {
    "duration": 226,
    "start_time": "2022-05-28T06:09:25.817Z"
   },
   {
    "duration": 4,
    "start_time": "2022-05-28T06:09:26.045Z"
   },
   {
    "duration": 13,
    "start_time": "2022-05-28T06:09:26.051Z"
   },
   {
    "duration": 39,
    "start_time": "2022-05-28T06:09:55.754Z"
   },
   {
    "duration": 4,
    "start_time": "2022-05-28T06:10:07.627Z"
   },
   {
    "duration": 269,
    "start_time": "2022-05-28T06:10:07.633Z"
   },
   {
    "duration": 211,
    "start_time": "2022-05-28T06:10:07.904Z"
   },
   {
    "duration": 155,
    "start_time": "2022-05-28T06:10:08.118Z"
   },
   {
    "duration": 32,
    "start_time": "2022-05-28T06:10:08.276Z"
   },
   {
    "duration": 49,
    "start_time": "2022-05-28T06:10:08.310Z"
   },
   {
    "duration": 13,
    "start_time": "2022-05-28T06:10:08.361Z"
   },
   {
    "duration": 225,
    "start_time": "2022-05-28T06:10:08.378Z"
   },
   {
    "duration": 118,
    "start_time": "2022-05-28T06:10:08.605Z"
   },
   {
    "duration": 179,
    "start_time": "2022-05-28T06:10:08.725Z"
   },
   {
    "duration": 215,
    "start_time": "2022-05-28T06:10:08.907Z"
   },
   {
    "duration": 13,
    "start_time": "2022-05-28T06:10:09.125Z"
   },
   {
    "duration": 24,
    "start_time": "2022-05-28T06:10:09.140Z"
   },
   {
    "duration": 33,
    "start_time": "2022-05-28T06:10:09.167Z"
   },
   {
    "duration": 101,
    "start_time": "2022-05-28T06:10:09.202Z"
   },
   {
    "duration": 64,
    "start_time": "2022-05-28T06:10:09.306Z"
   },
   {
    "duration": 63,
    "start_time": "2022-05-28T06:10:09.372Z"
   },
   {
    "duration": 8,
    "start_time": "2022-05-28T06:10:09.436Z"
   },
   {
    "duration": 45,
    "start_time": "2022-05-28T06:11:11.663Z"
   },
   {
    "duration": 39,
    "start_time": "2022-05-28T06:11:23.762Z"
   },
   {
    "duration": 92,
    "start_time": "2022-05-28T06:15:18.201Z"
   },
   {
    "duration": 66,
    "start_time": "2022-05-28T06:15:37.742Z"
   },
   {
    "duration": 67,
    "start_time": "2022-05-28T06:17:03.390Z"
   },
   {
    "duration": 79,
    "start_time": "2022-05-28T06:17:54.213Z"
   },
   {
    "duration": 44,
    "start_time": "2022-05-28T06:20:43.744Z"
   },
   {
    "duration": 13,
    "start_time": "2022-05-28T06:21:32.970Z"
   },
   {
    "duration": 3,
    "start_time": "2022-05-28T06:21:43.217Z"
   },
   {
    "duration": 254,
    "start_time": "2022-05-28T06:21:43.223Z"
   },
   {
    "duration": 199,
    "start_time": "2022-05-28T06:21:43.480Z"
   },
   {
    "duration": 125,
    "start_time": "2022-05-28T06:21:43.681Z"
   },
   {
    "duration": 27,
    "start_time": "2022-05-28T06:21:43.810Z"
   },
   {
    "duration": 53,
    "start_time": "2022-05-28T06:21:43.839Z"
   },
   {
    "duration": 16,
    "start_time": "2022-05-28T06:21:43.894Z"
   },
   {
    "duration": 202,
    "start_time": "2022-05-28T06:21:43.912Z"
   },
   {
    "duration": 102,
    "start_time": "2022-05-28T06:21:44.115Z"
   },
   {
    "duration": 166,
    "start_time": "2022-05-28T06:21:44.219Z"
   },
   {
    "duration": 239,
    "start_time": "2022-05-28T06:21:44.388Z"
   },
   {
    "duration": 10,
    "start_time": "2022-05-28T06:21:44.629Z"
   },
   {
    "duration": 9,
    "start_time": "2022-05-28T06:21:44.641Z"
   },
   {
    "duration": 16,
    "start_time": "2022-05-28T06:21:44.652Z"
   },
   {
    "duration": 115,
    "start_time": "2022-05-28T06:21:44.669Z"
   },
   {
    "duration": 111,
    "start_time": "2022-05-28T06:21:44.786Z"
   },
   {
    "duration": 82,
    "start_time": "2022-05-28T06:21:44.901Z"
   },
   {
    "duration": 12,
    "start_time": "2022-05-28T06:21:44.996Z"
   },
   {
    "duration": 16,
    "start_time": "2022-05-28T06:21:47.993Z"
   },
   {
    "duration": 43,
    "start_time": "2022-05-28T06:22:08.378Z"
   },
   {
    "duration": 52,
    "start_time": "2022-05-28T06:23:57.429Z"
   },
   {
    "duration": 39,
    "start_time": "2022-05-28T06:24:14.920Z"
   },
   {
    "duration": 32,
    "start_time": "2022-05-28T06:28:44.253Z"
   },
   {
    "duration": 88,
    "start_time": "2022-05-28T06:29:25.819Z"
   },
   {
    "duration": 68,
    "start_time": "2022-05-28T06:29:54.550Z"
   },
   {
    "duration": 74,
    "start_time": "2022-05-28T06:30:10.529Z"
   },
   {
    "duration": 56,
    "start_time": "2022-05-28T06:30:26.548Z"
   },
   {
    "duration": 50,
    "start_time": "2022-05-28T06:33:14.592Z"
   },
   {
    "duration": 37,
    "start_time": "2022-05-28T06:33:23.624Z"
   },
   {
    "duration": 4,
    "start_time": "2022-05-28T06:34:43.949Z"
   },
   {
    "duration": 237,
    "start_time": "2022-05-28T06:34:43.956Z"
   },
   {
    "duration": 191,
    "start_time": "2022-05-28T06:34:44.196Z"
   },
   {
    "duration": 154,
    "start_time": "2022-05-28T06:34:44.388Z"
   },
   {
    "duration": 26,
    "start_time": "2022-05-28T06:34:44.545Z"
   },
   {
    "duration": 63,
    "start_time": "2022-05-28T06:34:44.573Z"
   },
   {
    "duration": 10,
    "start_time": "2022-05-28T06:34:44.638Z"
   },
   {
    "duration": 126,
    "start_time": "2022-05-28T06:34:44.650Z"
   },
   {
    "duration": 119,
    "start_time": "2022-05-28T06:34:44.777Z"
   },
   {
    "duration": 160,
    "start_time": "2022-05-28T06:34:44.897Z"
   },
   {
    "duration": 188,
    "start_time": "2022-05-28T06:34:45.059Z"
   },
   {
    "duration": 10,
    "start_time": "2022-05-28T06:34:45.249Z"
   },
   {
    "duration": 13,
    "start_time": "2022-05-28T06:34:45.261Z"
   },
   {
    "duration": 63,
    "start_time": "2022-05-28T06:34:45.276Z"
   },
   {
    "duration": 177,
    "start_time": "2022-05-28T06:34:45.342Z"
   },
   {
    "duration": 63,
    "start_time": "2022-05-28T06:34:45.522Z"
   },
   {
    "duration": 75,
    "start_time": "2022-05-28T06:34:45.586Z"
   },
   {
    "duration": 8,
    "start_time": "2022-05-28T06:34:45.663Z"
   },
   {
    "duration": 60,
    "start_time": "2022-05-28T06:34:45.673Z"
   },
   {
    "duration": 7,
    "start_time": "2022-05-28T06:34:45.735Z"
   },
   {
    "duration": 3,
    "start_time": "2022-05-28T06:35:13.077Z"
   },
   {
    "duration": 262,
    "start_time": "2022-05-28T06:35:13.083Z"
   },
   {
    "duration": 198,
    "start_time": "2022-05-28T06:35:13.347Z"
   },
   {
    "duration": 116,
    "start_time": "2022-05-28T06:35:13.547Z"
   },
   {
    "duration": 25,
    "start_time": "2022-05-28T06:35:13.665Z"
   },
   {
    "duration": 61,
    "start_time": "2022-05-28T06:35:13.691Z"
   },
   {
    "duration": 10,
    "start_time": "2022-05-28T06:35:13.754Z"
   },
   {
    "duration": 137,
    "start_time": "2022-05-28T06:35:13.766Z"
   },
   {
    "duration": 123,
    "start_time": "2022-05-28T06:35:13.911Z"
   },
   {
    "duration": 184,
    "start_time": "2022-05-28T06:35:14.036Z"
   },
   {
    "duration": 159,
    "start_time": "2022-05-28T06:35:14.225Z"
   },
   {
    "duration": 33,
    "start_time": "2022-05-28T06:35:14.386Z"
   },
   {
    "duration": 29,
    "start_time": "2022-05-28T06:35:14.421Z"
   },
   {
    "duration": 16,
    "start_time": "2022-05-28T06:35:14.452Z"
   },
   {
    "duration": 90,
    "start_time": "2022-05-28T06:35:14.470Z"
   },
   {
    "duration": 80,
    "start_time": "2022-05-28T06:35:14.561Z"
   },
   {
    "duration": 60,
    "start_time": "2022-05-28T06:35:14.644Z"
   },
   {
    "duration": 9,
    "start_time": "2022-05-28T06:35:14.705Z"
   },
   {
    "duration": 36,
    "start_time": "2022-05-28T06:35:14.715Z"
   },
   {
    "duration": 7,
    "start_time": "2022-05-28T06:35:14.752Z"
   },
   {
    "duration": 59,
    "start_time": "2022-05-28T06:35:14.761Z"
   },
   {
    "duration": 3,
    "start_time": "2022-05-28T06:39:12.280Z"
   },
   {
    "duration": 263,
    "start_time": "2022-05-28T06:39:12.286Z"
   },
   {
    "duration": 199,
    "start_time": "2022-05-28T06:39:12.552Z"
   },
   {
    "duration": 128,
    "start_time": "2022-05-28T06:39:12.754Z"
   },
   {
    "duration": 56,
    "start_time": "2022-05-28T06:39:12.884Z"
   },
   {
    "duration": 42,
    "start_time": "2022-05-28T06:39:12.942Z"
   },
   {
    "duration": 21,
    "start_time": "2022-05-28T06:39:12.986Z"
   },
   {
    "duration": 158,
    "start_time": "2022-05-28T06:39:13.009Z"
   },
   {
    "duration": 126,
    "start_time": "2022-05-28T06:39:13.169Z"
   },
   {
    "duration": 174,
    "start_time": "2022-05-28T06:39:13.298Z"
   },
   {
    "duration": 275,
    "start_time": "2022-05-28T06:39:13.474Z"
   },
   {
    "duration": 12,
    "start_time": "2022-05-28T06:39:13.751Z"
   },
   {
    "duration": 10,
    "start_time": "2022-05-28T06:39:13.765Z"
   },
   {
    "duration": 30,
    "start_time": "2022-05-28T06:39:13.776Z"
   },
   {
    "duration": 135,
    "start_time": "2022-05-28T06:39:13.810Z"
   },
   {
    "duration": 69,
    "start_time": "2022-05-28T06:39:13.946Z"
   },
   {
    "duration": 78,
    "start_time": "2022-05-28T06:39:14.019Z"
   },
   {
    "duration": 9,
    "start_time": "2022-05-28T06:39:14.099Z"
   },
   {
    "duration": 76,
    "start_time": "2022-05-28T06:39:14.110Z"
   },
   {
    "duration": 13,
    "start_time": "2022-05-28T06:39:14.188Z"
   },
   {
    "duration": 67,
    "start_time": "2022-05-28T06:39:14.205Z"
   },
   {
    "duration": 28,
    "start_time": "2022-05-28T06:39:14.274Z"
   },
   {
    "duration": 9245,
    "start_time": "2022-05-28T06:39:14.307Z"
   },
   {
    "duration": 0,
    "start_time": "2022-05-28T06:39:23.555Z"
   },
   {
    "duration": 0,
    "start_time": "2022-05-28T06:39:23.557Z"
   },
   {
    "duration": 0,
    "start_time": "2022-05-28T06:39:23.559Z"
   },
   {
    "duration": 0,
    "start_time": "2022-05-28T06:39:23.561Z"
   },
   {
    "duration": 0,
    "start_time": "2022-05-28T06:39:23.563Z"
   },
   {
    "duration": 0,
    "start_time": "2022-05-28T06:39:23.564Z"
   },
   {
    "duration": 0,
    "start_time": "2022-05-28T06:39:23.567Z"
   },
   {
    "duration": 0,
    "start_time": "2022-05-28T06:39:23.569Z"
   },
   {
    "duration": 0,
    "start_time": "2022-05-28T06:39:23.570Z"
   },
   {
    "duration": 0,
    "start_time": "2022-05-28T06:39:23.597Z"
   },
   {
    "duration": 0,
    "start_time": "2022-05-28T06:39:23.600Z"
   },
   {
    "duration": 0,
    "start_time": "2022-05-28T06:39:23.601Z"
   },
   {
    "duration": 0,
    "start_time": "2022-05-28T06:39:23.605Z"
   },
   {
    "duration": 0,
    "start_time": "2022-05-28T06:39:23.607Z"
   },
   {
    "duration": 0,
    "start_time": "2022-05-28T06:39:23.608Z"
   },
   {
    "duration": 0,
    "start_time": "2022-05-28T06:39:23.609Z"
   },
   {
    "duration": 0,
    "start_time": "2022-05-28T06:39:23.611Z"
   },
   {
    "duration": 0,
    "start_time": "2022-05-28T06:39:23.613Z"
   },
   {
    "duration": 0,
    "start_time": "2022-05-28T06:39:23.614Z"
   },
   {
    "duration": 0,
    "start_time": "2022-05-28T06:39:23.619Z"
   },
   {
    "duration": 1,
    "start_time": "2022-05-28T06:39:23.620Z"
   },
   {
    "duration": 0,
    "start_time": "2022-05-28T06:39:23.622Z"
   },
   {
    "duration": 5,
    "start_time": "2022-05-28T06:41:46.418Z"
   },
   {
    "duration": 200,
    "start_time": "2022-05-28T06:41:46.425Z"
   },
   {
    "duration": 151,
    "start_time": "2022-05-28T06:41:46.628Z"
   },
   {
    "duration": 126,
    "start_time": "2022-05-28T06:41:46.781Z"
   },
   {
    "duration": 28,
    "start_time": "2022-05-28T06:41:46.915Z"
   },
   {
    "duration": 39,
    "start_time": "2022-05-28T06:41:46.945Z"
   },
   {
    "duration": 10,
    "start_time": "2022-05-28T06:41:46.986Z"
   },
   {
    "duration": 151,
    "start_time": "2022-05-28T06:41:47.000Z"
   },
   {
    "duration": 123,
    "start_time": "2022-05-28T06:41:47.154Z"
   },
   {
    "duration": 167,
    "start_time": "2022-05-28T06:41:47.279Z"
   },
   {
    "duration": 151,
    "start_time": "2022-05-28T06:41:47.448Z"
   },
   {
    "duration": 16,
    "start_time": "2022-05-28T06:41:47.601Z"
   },
   {
    "duration": 19,
    "start_time": "2022-05-28T06:41:47.619Z"
   },
   {
    "duration": 16,
    "start_time": "2022-05-28T06:41:47.640Z"
   },
   {
    "duration": 173,
    "start_time": "2022-05-28T06:41:47.657Z"
   },
   {
    "duration": 64,
    "start_time": "2022-05-28T06:41:47.831Z"
   },
   {
    "duration": 74,
    "start_time": "2022-05-28T06:41:47.896Z"
   },
   {
    "duration": 28,
    "start_time": "2022-05-28T06:41:47.971Z"
   },
   {
    "duration": 63,
    "start_time": "2022-05-28T06:41:48.004Z"
   },
   {
    "duration": 7,
    "start_time": "2022-05-28T06:41:48.069Z"
   },
   {
    "duration": 29,
    "start_time": "2022-05-28T06:41:48.078Z"
   },
   {
    "duration": 20,
    "start_time": "2022-05-28T06:41:49.932Z"
   },
   {
    "duration": 15,
    "start_time": "2022-05-28T06:42:17.927Z"
   },
   {
    "duration": 37,
    "start_time": "2022-05-28T06:44:05.584Z"
   },
   {
    "duration": 139,
    "start_time": "2022-05-28T06:45:12.784Z"
   },
   {
    "duration": 139,
    "start_time": "2022-05-28T06:45:19.963Z"
   },
   {
    "duration": 40,
    "start_time": "2022-05-28T06:51:12.476Z"
   },
   {
    "duration": 14,
    "start_time": "2022-05-28T06:59:07.819Z"
   },
   {
    "duration": 15,
    "start_time": "2022-05-28T06:59:31.220Z"
   },
   {
    "duration": 3,
    "start_time": "2022-05-28T06:59:34.921Z"
   },
   {
    "duration": 209,
    "start_time": "2022-05-28T06:59:34.926Z"
   },
   {
    "duration": 149,
    "start_time": "2022-05-28T06:59:35.137Z"
   },
   {
    "duration": 134,
    "start_time": "2022-05-28T06:59:35.288Z"
   },
   {
    "duration": 26,
    "start_time": "2022-05-28T06:59:35.424Z"
   },
   {
    "duration": 38,
    "start_time": "2022-05-28T06:59:35.452Z"
   },
   {
    "duration": 23,
    "start_time": "2022-05-28T06:59:35.491Z"
   },
   {
    "duration": 133,
    "start_time": "2022-05-28T06:59:35.519Z"
   },
   {
    "duration": 101,
    "start_time": "2022-05-28T06:59:35.653Z"
   },
   {
    "duration": 162,
    "start_time": "2022-05-28T06:59:35.756Z"
   },
   {
    "duration": 149,
    "start_time": "2022-05-28T06:59:35.923Z"
   },
   {
    "duration": 12,
    "start_time": "2022-05-28T06:59:36.074Z"
   },
   {
    "duration": 40,
    "start_time": "2022-05-28T06:59:36.093Z"
   },
   {
    "duration": 17,
    "start_time": "2022-05-28T06:59:36.134Z"
   },
   {
    "duration": 88,
    "start_time": "2022-05-28T06:59:36.152Z"
   },
   {
    "duration": 84,
    "start_time": "2022-05-28T06:59:36.241Z"
   },
   {
    "duration": 58,
    "start_time": "2022-05-28T06:59:36.327Z"
   },
   {
    "duration": 29,
    "start_time": "2022-05-28T06:59:36.387Z"
   },
   {
    "duration": 55,
    "start_time": "2022-05-28T06:59:36.418Z"
   },
   {
    "duration": 17,
    "start_time": "2022-05-28T06:59:36.476Z"
   },
   {
    "duration": 15,
    "start_time": "2022-05-28T06:59:38.616Z"
   },
   {
    "duration": 8,
    "start_time": "2022-05-28T07:00:03.320Z"
   },
   {
    "duration": 3,
    "start_time": "2022-05-28T07:00:14.119Z"
   },
   {
    "duration": 209,
    "start_time": "2022-05-28T07:00:14.123Z"
   },
   {
    "duration": 153,
    "start_time": "2022-05-28T07:00:14.334Z"
   },
   {
    "duration": 124,
    "start_time": "2022-05-28T07:00:14.488Z"
   },
   {
    "duration": 26,
    "start_time": "2022-05-28T07:00:14.617Z"
   },
   {
    "duration": 37,
    "start_time": "2022-05-28T07:00:14.645Z"
   },
   {
    "duration": 9,
    "start_time": "2022-05-28T07:00:14.683Z"
   },
   {
    "duration": 154,
    "start_time": "2022-05-28T07:00:14.693Z"
   },
   {
    "duration": 104,
    "start_time": "2022-05-28T07:00:14.849Z"
   },
   {
    "duration": 169,
    "start_time": "2022-05-28T07:00:14.954Z"
   },
   {
    "duration": 225,
    "start_time": "2022-05-28T07:00:15.126Z"
   },
   {
    "duration": 10,
    "start_time": "2022-05-28T07:00:15.353Z"
   },
   {
    "duration": 17,
    "start_time": "2022-05-28T07:00:15.364Z"
   },
   {
    "duration": 60,
    "start_time": "2022-05-28T07:00:15.383Z"
   },
   {
    "duration": 102,
    "start_time": "2022-05-28T07:00:15.445Z"
   },
   {
    "duration": 68,
    "start_time": "2022-05-28T07:00:15.549Z"
   },
   {
    "duration": 54,
    "start_time": "2022-05-28T07:00:15.619Z"
   },
   {
    "duration": 39,
    "start_time": "2022-05-28T07:00:15.675Z"
   },
   {
    "duration": 61,
    "start_time": "2022-05-28T07:00:15.718Z"
   },
   {
    "duration": 8,
    "start_time": "2022-05-28T07:00:17.826Z"
   },
   {
    "duration": 17,
    "start_time": "2022-05-28T07:00:36.919Z"
   },
   {
    "duration": 15,
    "start_time": "2022-05-28T07:01:04.773Z"
   },
   {
    "duration": 14,
    "start_time": "2022-05-28T07:01:41.334Z"
   },
   {
    "duration": 14,
    "start_time": "2022-05-28T07:03:22.436Z"
   },
   {
    "duration": 7,
    "start_time": "2022-05-28T07:07:17.164Z"
   },
   {
    "duration": 20,
    "start_time": "2022-05-28T07:07:39.828Z"
   },
   {
    "duration": 159,
    "start_time": "2022-05-28T07:08:58.660Z"
   },
   {
    "duration": 3,
    "start_time": "2022-05-28T07:09:13.231Z"
   },
   {
    "duration": 200,
    "start_time": "2022-05-28T07:09:13.238Z"
   },
   {
    "duration": 180,
    "start_time": "2022-05-28T07:09:13.440Z"
   },
   {
    "duration": 116,
    "start_time": "2022-05-28T07:09:13.621Z"
   },
   {
    "duration": 28,
    "start_time": "2022-05-28T07:09:13.739Z"
   },
   {
    "duration": 50,
    "start_time": "2022-05-28T07:09:13.769Z"
   },
   {
    "duration": 11,
    "start_time": "2022-05-28T07:09:13.821Z"
   },
   {
    "duration": 140,
    "start_time": "2022-05-28T07:09:13.834Z"
   },
   {
    "duration": 121,
    "start_time": "2022-05-28T07:09:13.976Z"
   },
   {
    "duration": 164,
    "start_time": "2022-05-28T07:09:14.099Z"
   },
   {
    "duration": 175,
    "start_time": "2022-05-28T07:09:14.265Z"
   },
   {
    "duration": 12,
    "start_time": "2022-05-28T07:09:14.441Z"
   },
   {
    "duration": 9,
    "start_time": "2022-05-28T07:09:14.455Z"
   },
   {
    "duration": 29,
    "start_time": "2022-05-28T07:09:14.466Z"
   },
   {
    "duration": 83,
    "start_time": "2022-05-28T07:09:14.499Z"
   },
   {
    "duration": 75,
    "start_time": "2022-05-28T07:09:14.584Z"
   },
   {
    "duration": 76,
    "start_time": "2022-05-28T07:09:14.661Z"
   },
   {
    "duration": 7,
    "start_time": "2022-05-28T07:09:14.739Z"
   },
   {
    "duration": 30,
    "start_time": "2022-05-28T07:09:14.747Z"
   },
   {
    "duration": 16,
    "start_time": "2022-05-28T07:09:14.794Z"
   },
   {
    "duration": 34,
    "start_time": "2022-05-28T07:09:14.812Z"
   },
   {
    "duration": 15,
    "start_time": "2022-05-28T07:09:14.848Z"
   },
   {
    "duration": 47044,
    "start_time": "2022-05-28T07:09:14.865Z"
   },
   {
    "duration": 20,
    "start_time": "2022-05-28T07:10:01.911Z"
   },
   {
    "duration": 40,
    "start_time": "2022-05-28T07:10:01.932Z"
   },
   {
    "duration": 71,
    "start_time": "2022-05-28T07:10:01.974Z"
   },
   {
    "duration": 398,
    "start_time": "2022-05-28T07:10:02.046Z"
   },
   {
    "duration": 342,
    "start_time": "2022-05-28T07:10:02.446Z"
   },
   {
    "duration": 310,
    "start_time": "2022-05-28T07:10:02.793Z"
   },
   {
    "duration": 294,
    "start_time": "2022-05-28T07:10:03.105Z"
   },
   {
    "duration": 331,
    "start_time": "2022-05-28T07:10:03.404Z"
   },
   {
    "duration": 299,
    "start_time": "2022-05-28T07:10:03.736Z"
   },
   {
    "duration": 21,
    "start_time": "2022-05-28T07:10:04.037Z"
   },
   {
    "duration": 269,
    "start_time": "2022-05-28T07:10:04.059Z"
   },
   {
    "duration": 357,
    "start_time": "2022-05-28T07:10:04.330Z"
   },
   {
    "duration": 14,
    "start_time": "2022-05-28T07:10:04.689Z"
   },
   {
    "duration": 22,
    "start_time": "2022-05-28T07:10:04.709Z"
   },
   {
    "duration": 7,
    "start_time": "2022-05-28T07:10:04.733Z"
   },
   {
    "duration": 6,
    "start_time": "2022-05-28T07:10:04.742Z"
   },
   {
    "duration": 9,
    "start_time": "2022-05-28T07:10:04.750Z"
   },
   {
    "duration": 27,
    "start_time": "2022-05-28T07:10:04.760Z"
   },
   {
    "duration": 248,
    "start_time": "2022-05-28T07:10:04.789Z"
   },
   {
    "duration": 237,
    "start_time": "2022-05-28T07:10:05.039Z"
   },
   {
    "duration": 4,
    "start_time": "2022-05-28T07:10:05.277Z"
   },
   {
    "duration": 15,
    "start_time": "2022-05-28T07:10:05.283Z"
   },
   {
    "duration": 330,
    "start_time": "2022-05-28T07:15:26.221Z"
   },
   {
    "duration": 333,
    "start_time": "2022-05-28T07:15:47.374Z"
   },
   {
    "duration": 321,
    "start_time": "2022-05-28T07:16:28.230Z"
   },
   {
    "duration": 337,
    "start_time": "2022-05-28T07:17:00.380Z"
   },
   {
    "duration": 333,
    "start_time": "2022-05-28T07:17:43.484Z"
   },
   {
    "duration": 296,
    "start_time": "2022-05-28T07:17:53.599Z"
   },
   {
    "duration": 281,
    "start_time": "2022-05-28T07:18:04.429Z"
   },
   {
    "duration": 404,
    "start_time": "2022-05-28T07:18:13.134Z"
   },
   {
    "duration": 377,
    "start_time": "2022-05-28T07:18:27.482Z"
   },
   {
    "duration": 403,
    "start_time": "2022-05-28T07:27:09.253Z"
   },
   {
    "duration": 328,
    "start_time": "2022-05-28T07:27:21.193Z"
   },
   {
    "duration": 298,
    "start_time": "2022-05-28T07:27:25.409Z"
   },
   {
    "duration": 267,
    "start_time": "2022-05-28T07:32:07.815Z"
   },
   {
    "duration": 243,
    "start_time": "2022-05-28T07:35:33.744Z"
   },
   {
    "duration": 256,
    "start_time": "2022-05-28T07:35:53.370Z"
   },
   {
    "duration": 440,
    "start_time": "2022-05-28T07:37:24.496Z"
   },
   {
    "duration": 328,
    "start_time": "2022-05-28T07:38:18.818Z"
   }
  ],
  "kernelspec": {
   "display_name": "Python 3 (ipykernel)",
   "language": "python",
   "name": "python3"
  },
  "language_info": {
   "codemirror_mode": {
    "name": "ipython",
    "version": 3
   },
   "file_extension": ".py",
   "mimetype": "text/x-python",
   "name": "python",
   "nbconvert_exporter": "python",
   "pygments_lexer": "ipython3",
   "version": "3.9.12"
  },
  "toc": {
   "base_numbering": 1,
   "nav_menu": {},
   "number_sections": true,
   "sideBar": true,
   "skip_h1_title": true,
   "title_cell": "Table of Contents",
   "title_sidebar": "Contents",
   "toc_cell": false,
   "toc_position": {
    "height": "calc(100% - 180px)",
    "left": "10px",
    "top": "150px",
    "width": "165px"
   },
   "toc_section_display": true,
   "toc_window_display": false
  }
 },
 "nbformat": 4,
 "nbformat_minor": 2
}
