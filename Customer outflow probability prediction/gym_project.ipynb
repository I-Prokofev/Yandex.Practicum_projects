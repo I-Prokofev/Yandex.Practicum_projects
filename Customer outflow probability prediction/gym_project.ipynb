{
 "cells": [
  {
   "cell_type": "markdown",
   "metadata": {},
   "source": [
    "# Прогнозирование вероятности оттока клиентов сети фитнес-центров\n",
    "\n",
    "Необходимо спрогнозировать вероятность оттока для каждого клиента сети фитнес-центров в следующем месяце, и сформировать с помощью кластеризации портреты пользователей.\n",
    "\n",
    "Для этого следует проанализировать анкеты клиентов сети:\n",
    "* научиться прогнозировать вероятность оттока (на уровне следующего месяца) для каждого клиента;\n",
    "* сформировать типичные портреты клиентов: выделить несколько наиболее ярких групп и охарактеризовать их основные свойства;\n",
    "* проанализировать основные признаки, наиболее сильно влияющие на отток;\n",
    "* сформулировать основные выводы и разработать рекомендации по повышению качества работы с клиентами:\n",
    "    1. выделить целевые группы клиентов;\n",
    "    2. предложить меры по снижению оттока;\n",
    "    3. определить другие особенности взаимодействия с клиентами.\n",
    "\n",
    "**Ход исследования:**\n",
    "\n",
    "Данные из анкет клиентов мы получим из файла '/gym_churn.csv' \n",
    "\n",
    "О качестве данных ничего не известно. Поэтому перед проведением исследовательского анализа нам понадобится сделать их обзор. Мы проверим данные на ошибки и затем на этапе предобработки исправим критичные ошибки.\n",
    "\n",
    "Таким образом, исследование пройдет в несколько этапов:\n",
    "\n",
    "1. Изучение данных.\n",
    "2. Предобработка данных.\n",
    "3. Исследовательский анализ данных."
   ]
  },
  {
   "cell_type": "markdown",
   "metadata": {},
   "source": [
    "## Обзор данных\n",
    "### Получение общей информации о данных"
   ]
  },
  {
   "cell_type": "code",
   "execution_count": 1,
   "metadata": {},
   "outputs": [],
   "source": [
    "import pandas as pd\n",
    "import seaborn as sns\n",
    "import matplotlib.pyplot as plt\n",
    "\n",
    "from sklearn.preprocessing import StandardScaler\n",
    "from sklearn.model_selection import train_test_split\n",
    "from sklearn.ensemble import RandomForestClassifier\n",
    "from sklearn.linear_model import LogisticRegression\n",
    "from sklearn.metrics import accuracy_score, precision_score, recall_score, f1_score, roc_auc_score\n",
    "from scipy.cluster.hierarchy import dendrogram, linkage\n",
    "from sklearn.cluster import KMeans\n",
    "from sklearn.metrics import silhouette_score\n",
    "import itertools\n",
    "import warnings\n",
    "warnings.filterwarnings(\"ignore\")"
   ]
  },
  {
   "cell_type": "markdown",
   "metadata": {},
   "source": [
    "Загрузим данные из анкет клиентов. Убедимся, что тип данных в каждой колонке правильный, а также отсутствуют пропущенные значения и дубликаты. \n",
    "Путь к файлу:\n",
    "\n",
    " *    /gym_churn.csv"
   ]
  },
  {
   "cell_type": "code",
   "execution_count": 2,
   "metadata": {},
   "outputs": [
    {
     "data": {
      "text/html": [
       "<div>\n",
       "<style scoped>\n",
       "    .dataframe tbody tr th:only-of-type {\n",
       "        vertical-align: middle;\n",
       "    }\n",
       "\n",
       "    .dataframe tbody tr th {\n",
       "        vertical-align: top;\n",
       "    }\n",
       "\n",
       "    .dataframe thead th {\n",
       "        text-align: right;\n",
       "    }\n",
       "</style>\n",
       "<table border=\"1\" class=\"dataframe\">\n",
       "  <thead>\n",
       "    <tr style=\"text-align: right;\">\n",
       "      <th></th>\n",
       "      <th>gender</th>\n",
       "      <th>Near_Location</th>\n",
       "      <th>Partner</th>\n",
       "      <th>Promo_friends</th>\n",
       "      <th>Phone</th>\n",
       "      <th>Contract_period</th>\n",
       "      <th>Group_visits</th>\n",
       "      <th>Age</th>\n",
       "      <th>Avg_additional_charges_total</th>\n",
       "      <th>Month_to_end_contract</th>\n",
       "      <th>Lifetime</th>\n",
       "      <th>Avg_class_frequency_total</th>\n",
       "      <th>Avg_class_frequency_current_month</th>\n",
       "      <th>Churn</th>\n",
       "    </tr>\n",
       "  </thead>\n",
       "  <tbody>\n",
       "    <tr>\n",
       "      <th>0</th>\n",
       "      <td>1</td>\n",
       "      <td>1</td>\n",
       "      <td>1</td>\n",
       "      <td>1</td>\n",
       "      <td>0</td>\n",
       "      <td>6</td>\n",
       "      <td>1</td>\n",
       "      <td>29</td>\n",
       "      <td>14.227470</td>\n",
       "      <td>5.0</td>\n",
       "      <td>3</td>\n",
       "      <td>0.020398</td>\n",
       "      <td>0.000000</td>\n",
       "      <td>0</td>\n",
       "    </tr>\n",
       "    <tr>\n",
       "      <th>1</th>\n",
       "      <td>0</td>\n",
       "      <td>1</td>\n",
       "      <td>0</td>\n",
       "      <td>0</td>\n",
       "      <td>1</td>\n",
       "      <td>12</td>\n",
       "      <td>1</td>\n",
       "      <td>31</td>\n",
       "      <td>113.202938</td>\n",
       "      <td>12.0</td>\n",
       "      <td>7</td>\n",
       "      <td>1.922936</td>\n",
       "      <td>1.910244</td>\n",
       "      <td>0</td>\n",
       "    </tr>\n",
       "    <tr>\n",
       "      <th>2</th>\n",
       "      <td>0</td>\n",
       "      <td>1</td>\n",
       "      <td>1</td>\n",
       "      <td>0</td>\n",
       "      <td>1</td>\n",
       "      <td>1</td>\n",
       "      <td>0</td>\n",
       "      <td>28</td>\n",
       "      <td>129.448479</td>\n",
       "      <td>1.0</td>\n",
       "      <td>2</td>\n",
       "      <td>1.859098</td>\n",
       "      <td>1.736502</td>\n",
       "      <td>0</td>\n",
       "    </tr>\n",
       "    <tr>\n",
       "      <th>3</th>\n",
       "      <td>0</td>\n",
       "      <td>1</td>\n",
       "      <td>1</td>\n",
       "      <td>1</td>\n",
       "      <td>1</td>\n",
       "      <td>12</td>\n",
       "      <td>1</td>\n",
       "      <td>33</td>\n",
       "      <td>62.669863</td>\n",
       "      <td>12.0</td>\n",
       "      <td>2</td>\n",
       "      <td>3.205633</td>\n",
       "      <td>3.357215</td>\n",
       "      <td>0</td>\n",
       "    </tr>\n",
       "    <tr>\n",
       "      <th>4</th>\n",
       "      <td>1</td>\n",
       "      <td>1</td>\n",
       "      <td>1</td>\n",
       "      <td>1</td>\n",
       "      <td>1</td>\n",
       "      <td>1</td>\n",
       "      <td>0</td>\n",
       "      <td>26</td>\n",
       "      <td>198.362265</td>\n",
       "      <td>1.0</td>\n",
       "      <td>3</td>\n",
       "      <td>1.113884</td>\n",
       "      <td>1.120078</td>\n",
       "      <td>0</td>\n",
       "    </tr>\n",
       "  </tbody>\n",
       "</table>\n",
       "</div>"
      ],
      "text/plain": [
       "   gender  Near_Location  Partner  Promo_friends  Phone  Contract_period  \\\n",
       "0       1              1        1              1      0                6   \n",
       "1       0              1        0              0      1               12   \n",
       "2       0              1        1              0      1                1   \n",
       "3       0              1        1              1      1               12   \n",
       "4       1              1        1              1      1                1   \n",
       "\n",
       "   Group_visits  Age  Avg_additional_charges_total  Month_to_end_contract  \\\n",
       "0             1   29                     14.227470                    5.0   \n",
       "1             1   31                    113.202938                   12.0   \n",
       "2             0   28                    129.448479                    1.0   \n",
       "3             1   33                     62.669863                   12.0   \n",
       "4             0   26                    198.362265                    1.0   \n",
       "\n",
       "   Lifetime  Avg_class_frequency_total  Avg_class_frequency_current_month  \\\n",
       "0         3                   0.020398                           0.000000   \n",
       "1         7                   1.922936                           1.910244   \n",
       "2         2                   1.859098                           1.736502   \n",
       "3         2                   3.205633                           3.357215   \n",
       "4         3                   1.113884                           1.120078   \n",
       "\n",
       "   Churn  \n",
       "0      0  \n",
       "1      0  \n",
       "2      0  \n",
       "3      0  \n",
       "4      0  "
      ]
     },
     "metadata": {},
     "output_type": "display_data"
    },
    {
     "name": "stdout",
     "output_type": "stream",
     "text": [
      "<class 'pandas.core.frame.DataFrame'>\n",
      "RangeIndex: 4000 entries, 0 to 3999\n",
      "Data columns (total 14 columns):\n",
      " #   Column                             Non-Null Count  Dtype  \n",
      "---  ------                             --------------  -----  \n",
      " 0   gender                             4000 non-null   int64  \n",
      " 1   Near_Location                      4000 non-null   int64  \n",
      " 2   Partner                            4000 non-null   int64  \n",
      " 3   Promo_friends                      4000 non-null   int64  \n",
      " 4   Phone                              4000 non-null   int64  \n",
      " 5   Contract_period                    4000 non-null   int64  \n",
      " 6   Group_visits                       4000 non-null   int64  \n",
      " 7   Age                                4000 non-null   int64  \n",
      " 8   Avg_additional_charges_total       4000 non-null   float64\n",
      " 9   Month_to_end_contract              4000 non-null   float64\n",
      " 10  Lifetime                           4000 non-null   int64  \n",
      " 11  Avg_class_frequency_total          4000 non-null   float64\n",
      " 12  Avg_class_frequency_current_month  4000 non-null   float64\n",
      " 13  Churn                              4000 non-null   int64  \n",
      "dtypes: float64(4), int64(10)\n",
      "memory usage: 437.6 KB\n"
     ]
    },
    {
     "data": {
      "text/plain": [
       "None"
      ]
     },
     "metadata": {},
     "output_type": "display_data"
    },
    {
     "data": {
      "text/html": [
       "<div>\n",
       "<style scoped>\n",
       "    .dataframe tbody tr th:only-of-type {\n",
       "        vertical-align: middle;\n",
       "    }\n",
       "\n",
       "    .dataframe tbody tr th {\n",
       "        vertical-align: top;\n",
       "    }\n",
       "\n",
       "    .dataframe thead th {\n",
       "        text-align: right;\n",
       "    }\n",
       "</style>\n",
       "<table border=\"1\" class=\"dataframe\">\n",
       "  <thead>\n",
       "    <tr style=\"text-align: right;\">\n",
       "      <th></th>\n",
       "      <th>gender</th>\n",
       "      <th>Near_Location</th>\n",
       "      <th>Partner</th>\n",
       "      <th>Promo_friends</th>\n",
       "      <th>Phone</th>\n",
       "      <th>Contract_period</th>\n",
       "      <th>Group_visits</th>\n",
       "      <th>Age</th>\n",
       "      <th>Avg_additional_charges_total</th>\n",
       "      <th>Month_to_end_contract</th>\n",
       "      <th>Lifetime</th>\n",
       "      <th>Avg_class_frequency_total</th>\n",
       "      <th>Avg_class_frequency_current_month</th>\n",
       "      <th>Churn</th>\n",
       "    </tr>\n",
       "  </thead>\n",
       "  <tbody>\n",
       "    <tr>\n",
       "      <th>count</th>\n",
       "      <td>4000.000000</td>\n",
       "      <td>4000.000000</td>\n",
       "      <td>4000.000000</td>\n",
       "      <td>4000.000000</td>\n",
       "      <td>4000.000000</td>\n",
       "      <td>4000.000000</td>\n",
       "      <td>4000.000000</td>\n",
       "      <td>4000.000000</td>\n",
       "      <td>4000.000000</td>\n",
       "      <td>4000.000000</td>\n",
       "      <td>4000.000000</td>\n",
       "      <td>4000.000000</td>\n",
       "      <td>4000.000000</td>\n",
       "      <td>4000.000000</td>\n",
       "    </tr>\n",
       "    <tr>\n",
       "      <th>mean</th>\n",
       "      <td>0.510250</td>\n",
       "      <td>0.845250</td>\n",
       "      <td>0.486750</td>\n",
       "      <td>0.308500</td>\n",
       "      <td>0.903500</td>\n",
       "      <td>4.681250</td>\n",
       "      <td>0.412250</td>\n",
       "      <td>29.184250</td>\n",
       "      <td>146.943728</td>\n",
       "      <td>4.322750</td>\n",
       "      <td>3.724750</td>\n",
       "      <td>1.879020</td>\n",
       "      <td>1.767052</td>\n",
       "      <td>0.265250</td>\n",
       "    </tr>\n",
       "    <tr>\n",
       "      <th>std</th>\n",
       "      <td>0.499957</td>\n",
       "      <td>0.361711</td>\n",
       "      <td>0.499887</td>\n",
       "      <td>0.461932</td>\n",
       "      <td>0.295313</td>\n",
       "      <td>4.549706</td>\n",
       "      <td>0.492301</td>\n",
       "      <td>3.258367</td>\n",
       "      <td>96.355602</td>\n",
       "      <td>4.191297</td>\n",
       "      <td>3.749267</td>\n",
       "      <td>0.972245</td>\n",
       "      <td>1.052906</td>\n",
       "      <td>0.441521</td>\n",
       "    </tr>\n",
       "    <tr>\n",
       "      <th>min</th>\n",
       "      <td>0.000000</td>\n",
       "      <td>0.000000</td>\n",
       "      <td>0.000000</td>\n",
       "      <td>0.000000</td>\n",
       "      <td>0.000000</td>\n",
       "      <td>1.000000</td>\n",
       "      <td>0.000000</td>\n",
       "      <td>18.000000</td>\n",
       "      <td>0.148205</td>\n",
       "      <td>1.000000</td>\n",
       "      <td>0.000000</td>\n",
       "      <td>0.000000</td>\n",
       "      <td>0.000000</td>\n",
       "      <td>0.000000</td>\n",
       "    </tr>\n",
       "    <tr>\n",
       "      <th>25%</th>\n",
       "      <td>0.000000</td>\n",
       "      <td>1.000000</td>\n",
       "      <td>0.000000</td>\n",
       "      <td>0.000000</td>\n",
       "      <td>1.000000</td>\n",
       "      <td>1.000000</td>\n",
       "      <td>0.000000</td>\n",
       "      <td>27.000000</td>\n",
       "      <td>68.868830</td>\n",
       "      <td>1.000000</td>\n",
       "      <td>1.000000</td>\n",
       "      <td>1.180875</td>\n",
       "      <td>0.963003</td>\n",
       "      <td>0.000000</td>\n",
       "    </tr>\n",
       "    <tr>\n",
       "      <th>50%</th>\n",
       "      <td>1.000000</td>\n",
       "      <td>1.000000</td>\n",
       "      <td>0.000000</td>\n",
       "      <td>0.000000</td>\n",
       "      <td>1.000000</td>\n",
       "      <td>1.000000</td>\n",
       "      <td>0.000000</td>\n",
       "      <td>29.000000</td>\n",
       "      <td>136.220159</td>\n",
       "      <td>1.000000</td>\n",
       "      <td>3.000000</td>\n",
       "      <td>1.832768</td>\n",
       "      <td>1.719574</td>\n",
       "      <td>0.000000</td>\n",
       "    </tr>\n",
       "    <tr>\n",
       "      <th>75%</th>\n",
       "      <td>1.000000</td>\n",
       "      <td>1.000000</td>\n",
       "      <td>1.000000</td>\n",
       "      <td>1.000000</td>\n",
       "      <td>1.000000</td>\n",
       "      <td>6.000000</td>\n",
       "      <td>1.000000</td>\n",
       "      <td>31.000000</td>\n",
       "      <td>210.949625</td>\n",
       "      <td>6.000000</td>\n",
       "      <td>5.000000</td>\n",
       "      <td>2.536078</td>\n",
       "      <td>2.510336</td>\n",
       "      <td>1.000000</td>\n",
       "    </tr>\n",
       "    <tr>\n",
       "      <th>max</th>\n",
       "      <td>1.000000</td>\n",
       "      <td>1.000000</td>\n",
       "      <td>1.000000</td>\n",
       "      <td>1.000000</td>\n",
       "      <td>1.000000</td>\n",
       "      <td>12.000000</td>\n",
       "      <td>1.000000</td>\n",
       "      <td>41.000000</td>\n",
       "      <td>552.590740</td>\n",
       "      <td>12.000000</td>\n",
       "      <td>31.000000</td>\n",
       "      <td>6.023668</td>\n",
       "      <td>6.146783</td>\n",
       "      <td>1.000000</td>\n",
       "    </tr>\n",
       "  </tbody>\n",
       "</table>\n",
       "</div>"
      ],
      "text/plain": [
       "            gender  Near_Location      Partner  Promo_friends        Phone  \\\n",
       "count  4000.000000    4000.000000  4000.000000    4000.000000  4000.000000   \n",
       "mean      0.510250       0.845250     0.486750       0.308500     0.903500   \n",
       "std       0.499957       0.361711     0.499887       0.461932     0.295313   \n",
       "min       0.000000       0.000000     0.000000       0.000000     0.000000   \n",
       "25%       0.000000       1.000000     0.000000       0.000000     1.000000   \n",
       "50%       1.000000       1.000000     0.000000       0.000000     1.000000   \n",
       "75%       1.000000       1.000000     1.000000       1.000000     1.000000   \n",
       "max       1.000000       1.000000     1.000000       1.000000     1.000000   \n",
       "\n",
       "       Contract_period  Group_visits          Age  \\\n",
       "count      4000.000000   4000.000000  4000.000000   \n",
       "mean          4.681250      0.412250    29.184250   \n",
       "std           4.549706      0.492301     3.258367   \n",
       "min           1.000000      0.000000    18.000000   \n",
       "25%           1.000000      0.000000    27.000000   \n",
       "50%           1.000000      0.000000    29.000000   \n",
       "75%           6.000000      1.000000    31.000000   \n",
       "max          12.000000      1.000000    41.000000   \n",
       "\n",
       "       Avg_additional_charges_total  Month_to_end_contract     Lifetime  \\\n",
       "count                   4000.000000            4000.000000  4000.000000   \n",
       "mean                     146.943728               4.322750     3.724750   \n",
       "std                       96.355602               4.191297     3.749267   \n",
       "min                        0.148205               1.000000     0.000000   \n",
       "25%                       68.868830               1.000000     1.000000   \n",
       "50%                      136.220159               1.000000     3.000000   \n",
       "75%                      210.949625               6.000000     5.000000   \n",
       "max                      552.590740              12.000000    31.000000   \n",
       "\n",
       "       Avg_class_frequency_total  Avg_class_frequency_current_month  \\\n",
       "count                4000.000000                        4000.000000   \n",
       "mean                    1.879020                           1.767052   \n",
       "std                     0.972245                           1.052906   \n",
       "min                     0.000000                           0.000000   \n",
       "25%                     1.180875                           0.963003   \n",
       "50%                     1.832768                           1.719574   \n",
       "75%                     2.536078                           2.510336   \n",
       "max                     6.023668                           6.146783   \n",
       "\n",
       "             Churn  \n",
       "count  4000.000000  \n",
       "mean      0.265250  \n",
       "std       0.441521  \n",
       "min       0.000000  \n",
       "25%       0.000000  \n",
       "50%       0.000000  \n",
       "75%       1.000000  \n",
       "max       1.000000  "
      ]
     },
     "metadata": {},
     "output_type": "display_data"
    },
    {
     "name": "stdout",
     "output_type": "stream",
     "text": [
      "\n",
      "Количество уникальных значений в столбцах:\n",
      "gender                                  2\n",
      "Near_Location                           2\n",
      "Partner                                 2\n",
      "Promo_friends                           2\n",
      "Phone                                   2\n",
      "Contract_period                         3\n",
      "Group_visits                            2\n",
      "Age                                    23\n",
      "Avg_additional_charges_total         4000\n",
      "Month_to_end_contract                  12\n",
      "Lifetime                               29\n",
      "Avg_class_frequency_total            3913\n",
      "Avg_class_frequency_current_month    3820\n",
      "Churn                                   2\n",
      "dtype: int64\n",
      "\n",
      "Количество явных дубликатов: 0\n"
     ]
    }
   ],
   "source": [
    "# функция для первичного анализа датасета\n",
    "def primary_analysis (data):\n",
    "    display(data.head(5))\n",
    "    display(data.info())\n",
    "    display(data.describe())\n",
    "    print('\\nКоличество уникальных значений в столбцах:')\n",
    "    print(data.nunique())\n",
    "    print(\"\\nКоличество явных дубликатов:\", data.duplicated().sum())\n",
    "\n",
    "data = pd.read_csv('/gym_churn.csv')\n",
    "primary_analysis(data)"
   ]
  },
  {
   "cell_type": "markdown",
   "metadata": {},
   "source": [
    "Описание столбцов согласно документации к данным:\n",
    "1. Данные клиента за предыдущий до проверки факта оттока месяц:\n",
    "* 'gender' — пол;\n",
    "* 'Near_Location' — проживание или работа в районе, где находится фитнес-центр;\n",
    "* 'Partner' — сотрудник компании-партнёра клуба (сотрудничество с компаниями, чьи сотрудники могут получать скидки на абонемент — в таком случае фитнес-центр хранит информацию о работодателе клиента);\n",
    "* Promo_friends — факт первоначальной записи в рамках акции «приведи друга» (использовал промо-код от знакомого при оплате первого абонемента);\n",
    "* 'Phone' — наличие контактного телефона;\n",
    "* 'Age' — возраст;\n",
    "* 'Lifetime' — время с момента первого обращения в фитнес-центр (в месяцах).\n",
    "\n",
    "2. Информация на основе журнала посещений, покупок и информация о текущем статусе абонемента клиента:\n",
    "* 'Contract_period' — длительность текущего действующего абонемента (месяц, 6 месяцев, год);\n",
    "* 'Month_to_end_contract' — срок до окончания текущего действующего абонемента (в месяцах);\n",
    "* 'Group_visits' — факт посещения групповых занятий;\n",
    "* 'Avg_class_frequency_total' — средняя частота посещений в неделю за все время с начала действия абонемента;\n",
    "* 'Avg_class_frequency_current_month' — средняя частота посещений в неделю за предыдущий месяц;\n",
    "* 'Avg_additional_charges_total' — суммарная выручка от других услуг фитнес-центра: кафе, спорттовары, косметический и массажный салон.\n",
    "* 'Churn' — факт оттока в текущем месяце."
   ]
  },
  {
   "cell_type": "markdown",
   "metadata": {},
   "source": [
    "**Вывод:** в датасете тип данных в столбце Month_to_end_contract' не соответствует описанию, пропущенные значения и явные дубликаты отсутствуют.  Доля оттока, равная 26,5%, говорит о дисбалансе классов в целевом признаке. Данные необходимо обработать до начала проведения исследовательского анализа."
   ]
  },
  {
   "cell_type": "markdown",
   "metadata": {},
   "source": [
    "## Предобработка данных"
   ]
  },
  {
   "cell_type": "code",
   "execution_count": 3,
   "metadata": {},
   "outputs": [
    {
     "data": {
      "text/html": [
       "<div>\n",
       "<style scoped>\n",
       "    .dataframe tbody tr th:only-of-type {\n",
       "        vertical-align: middle;\n",
       "    }\n",
       "\n",
       "    .dataframe tbody tr th {\n",
       "        vertical-align: top;\n",
       "    }\n",
       "\n",
       "    .dataframe thead th {\n",
       "        text-align: right;\n",
       "    }\n",
       "</style>\n",
       "<table border=\"1\" class=\"dataframe\">\n",
       "  <thead>\n",
       "    <tr style=\"text-align: right;\">\n",
       "      <th></th>\n",
       "      <th>gender</th>\n",
       "      <th>near_location</th>\n",
       "      <th>partner</th>\n",
       "      <th>promo_friends</th>\n",
       "      <th>phone</th>\n",
       "      <th>contract_period</th>\n",
       "      <th>group_visits</th>\n",
       "      <th>age</th>\n",
       "      <th>avg_additional_charges_total</th>\n",
       "      <th>month_to_end_contract</th>\n",
       "      <th>lifetime</th>\n",
       "      <th>avg_class_frequency_total</th>\n",
       "      <th>avg_class_frequency_current_month</th>\n",
       "      <th>churn</th>\n",
       "    </tr>\n",
       "  </thead>\n",
       "  <tbody>\n",
       "    <tr>\n",
       "      <th>0</th>\n",
       "      <td>1</td>\n",
       "      <td>1</td>\n",
       "      <td>1</td>\n",
       "      <td>1</td>\n",
       "      <td>0</td>\n",
       "      <td>6</td>\n",
       "      <td>1</td>\n",
       "      <td>29</td>\n",
       "      <td>14.227470</td>\n",
       "      <td>5</td>\n",
       "      <td>3</td>\n",
       "      <td>0.020398</td>\n",
       "      <td>0.000000</td>\n",
       "      <td>0</td>\n",
       "    </tr>\n",
       "    <tr>\n",
       "      <th>1</th>\n",
       "      <td>0</td>\n",
       "      <td>1</td>\n",
       "      <td>0</td>\n",
       "      <td>0</td>\n",
       "      <td>1</td>\n",
       "      <td>12</td>\n",
       "      <td>1</td>\n",
       "      <td>31</td>\n",
       "      <td>113.202938</td>\n",
       "      <td>12</td>\n",
       "      <td>7</td>\n",
       "      <td>1.922936</td>\n",
       "      <td>1.910244</td>\n",
       "      <td>0</td>\n",
       "    </tr>\n",
       "    <tr>\n",
       "      <th>2</th>\n",
       "      <td>0</td>\n",
       "      <td>1</td>\n",
       "      <td>1</td>\n",
       "      <td>0</td>\n",
       "      <td>1</td>\n",
       "      <td>1</td>\n",
       "      <td>0</td>\n",
       "      <td>28</td>\n",
       "      <td>129.448479</td>\n",
       "      <td>1</td>\n",
       "      <td>2</td>\n",
       "      <td>1.859098</td>\n",
       "      <td>1.736502</td>\n",
       "      <td>0</td>\n",
       "    </tr>\n",
       "    <tr>\n",
       "      <th>3</th>\n",
       "      <td>0</td>\n",
       "      <td>1</td>\n",
       "      <td>1</td>\n",
       "      <td>1</td>\n",
       "      <td>1</td>\n",
       "      <td>12</td>\n",
       "      <td>1</td>\n",
       "      <td>33</td>\n",
       "      <td>62.669863</td>\n",
       "      <td>12</td>\n",
       "      <td>2</td>\n",
       "      <td>3.205633</td>\n",
       "      <td>3.357215</td>\n",
       "      <td>0</td>\n",
       "    </tr>\n",
       "    <tr>\n",
       "      <th>4</th>\n",
       "      <td>1</td>\n",
       "      <td>1</td>\n",
       "      <td>1</td>\n",
       "      <td>1</td>\n",
       "      <td>1</td>\n",
       "      <td>1</td>\n",
       "      <td>0</td>\n",
       "      <td>26</td>\n",
       "      <td>198.362265</td>\n",
       "      <td>1</td>\n",
       "      <td>3</td>\n",
       "      <td>1.113884</td>\n",
       "      <td>1.120078</td>\n",
       "      <td>0</td>\n",
       "    </tr>\n",
       "  </tbody>\n",
       "</table>\n",
       "</div>"
      ],
      "text/plain": [
       "   gender  near_location  partner  promo_friends  phone  contract_period  \\\n",
       "0       1              1        1              1      0                6   \n",
       "1       0              1        0              0      1               12   \n",
       "2       0              1        1              0      1                1   \n",
       "3       0              1        1              1      1               12   \n",
       "4       1              1        1              1      1                1   \n",
       "\n",
       "   group_visits  age  avg_additional_charges_total  month_to_end_contract  \\\n",
       "0             1   29                     14.227470                      5   \n",
       "1             1   31                    113.202938                     12   \n",
       "2             0   28                    129.448479                      1   \n",
       "3             1   33                     62.669863                     12   \n",
       "4             0   26                    198.362265                      1   \n",
       "\n",
       "   lifetime  avg_class_frequency_total  avg_class_frequency_current_month  \\\n",
       "0         3                   0.020398                           0.000000   \n",
       "1         7                   1.922936                           1.910244   \n",
       "2         2                   1.859098                           1.736502   \n",
       "3         2                   3.205633                           3.357215   \n",
       "4         3                   1.113884                           1.120078   \n",
       "\n",
       "   churn  \n",
       "0      0  \n",
       "1      0  \n",
       "2      0  \n",
       "3      0  \n",
       "4      0  "
      ]
     },
     "metadata": {},
     "output_type": "display_data"
    }
   ],
   "source": [
    "data.columns = [x.lower() for x in data.columns] # Откорректируем названия столбцов\n",
    "data['month_to_end_contract'] = data['month_to_end_contract'].astype(int) # изменим тип данных столбца в соответствии с документацией\n",
    "display(data.head(5))"
   ]
  },
  {
   "cell_type": "markdown",
   "metadata": {},
   "source": [
    "**Вывод:** данные готовы для исследователького анализа."
   ]
  },
  {
   "cell_type": "markdown",
   "metadata": {},
   "source": [
    "## Исследовательский анализ данных"
   ]
  },
  {
   "cell_type": "markdown",
   "metadata": {},
   "source": [
    "### Средние значения признаков в группах"
   ]
  },
  {
   "cell_type": "markdown",
   "metadata": {},
   "source": [
    "Найдем средние значения признаков в двух группах — тех, кто ушел в отток, и тех, кто остался:"
   ]
  },
  {
   "cell_type": "code",
   "execution_count": 4,
   "metadata": {},
   "outputs": [
    {
     "name": "stdout",
     "output_type": "stream",
     "text": [
      "Всего из 4000 клиентов ушли 1061, что составляет 26.5%.\n"
     ]
    },
    {
     "data": {
      "text/html": [
       "<div>\n",
       "<style scoped>\n",
       "    .dataframe tbody tr th:only-of-type {\n",
       "        vertical-align: middle;\n",
       "    }\n",
       "\n",
       "    .dataframe tbody tr th {\n",
       "        vertical-align: top;\n",
       "    }\n",
       "\n",
       "    .dataframe thead th {\n",
       "        text-align: right;\n",
       "    }\n",
       "</style>\n",
       "<table border=\"1\" class=\"dataframe\">\n",
       "  <thead>\n",
       "    <tr style=\"text-align: right;\">\n",
       "      <th></th>\n",
       "      <th>stayed</th>\n",
       "      <th>left</th>\n",
       "    </tr>\n",
       "  </thead>\n",
       "  <tbody>\n",
       "    <tr>\n",
       "      <th>gender</th>\n",
       "      <td>0.510037</td>\n",
       "      <td>0.510839</td>\n",
       "    </tr>\n",
       "    <tr>\n",
       "      <th>near_location</th>\n",
       "      <td>0.873086</td>\n",
       "      <td>0.768143</td>\n",
       "    </tr>\n",
       "    <tr>\n",
       "      <th>partner</th>\n",
       "      <td>0.534195</td>\n",
       "      <td>0.355325</td>\n",
       "    </tr>\n",
       "    <tr>\n",
       "      <th>promo_friends</th>\n",
       "      <td>0.353522</td>\n",
       "      <td>0.183789</td>\n",
       "    </tr>\n",
       "    <tr>\n",
       "      <th>phone</th>\n",
       "      <td>0.903709</td>\n",
       "      <td>0.902922</td>\n",
       "    </tr>\n",
       "    <tr>\n",
       "      <th>contract_period</th>\n",
       "      <td>5.747193</td>\n",
       "      <td>1.728558</td>\n",
       "    </tr>\n",
       "    <tr>\n",
       "      <th>group_visits</th>\n",
       "      <td>0.464103</td>\n",
       "      <td>0.268615</td>\n",
       "    </tr>\n",
       "    <tr>\n",
       "      <th>age</th>\n",
       "      <td>29.976523</td>\n",
       "      <td>26.989632</td>\n",
       "    </tr>\n",
       "    <tr>\n",
       "      <th>avg_additional_charges_total</th>\n",
       "      <td>158.445715</td>\n",
       "      <td>115.082899</td>\n",
       "    </tr>\n",
       "    <tr>\n",
       "      <th>month_to_end_contract</th>\n",
       "      <td>5.283089</td>\n",
       "      <td>1.662582</td>\n",
       "    </tr>\n",
       "    <tr>\n",
       "      <th>lifetime</th>\n",
       "      <td>4.711807</td>\n",
       "      <td>0.990575</td>\n",
       "    </tr>\n",
       "    <tr>\n",
       "      <th>avg_class_frequency_total</th>\n",
       "      <td>2.024876</td>\n",
       "      <td>1.474995</td>\n",
       "    </tr>\n",
       "    <tr>\n",
       "      <th>avg_class_frequency_current_month</th>\n",
       "      <td>2.027882</td>\n",
       "      <td>1.044546</td>\n",
       "    </tr>\n",
       "  </tbody>\n",
       "</table>\n",
       "</div>"
      ],
      "text/plain": [
       "                                       stayed        left\n",
       "gender                               0.510037    0.510839\n",
       "near_location                        0.873086    0.768143\n",
       "partner                              0.534195    0.355325\n",
       "promo_friends                        0.353522    0.183789\n",
       "phone                                0.903709    0.902922\n",
       "contract_period                      5.747193    1.728558\n",
       "group_visits                         0.464103    0.268615\n",
       "age                                 29.976523   26.989632\n",
       "avg_additional_charges_total       158.445715  115.082899\n",
       "month_to_end_contract                5.283089    1.662582\n",
       "lifetime                             4.711807    0.990575\n",
       "avg_class_frequency_total            2.024876    1.474995\n",
       "avg_class_frequency_current_month    2.027882    1.044546"
      ]
     },
     "metadata": {},
     "output_type": "display_data"
    }
   ],
   "source": [
    "# определим общее количество и долю ушедши клиентов\n",
    "print('Всего из {:d} клиентов ушли {:d}, что составляет {:,.1%}.'.format(data.shape[0], data.churn.sum(), data.churn.mean()))\n",
    "\n",
    "res_data = data.groupby('churn').mean().T\n",
    "res_data.columns = ['stayed', 'left']\n",
    "display(res_data)"
   ]
  },
  {
   "cell_type": "markdown",
   "metadata": {},
   "source": [
    "**Вывод** \n",
    "\n",
    "На основании полученных средних значений признаков для двух групп можно сделать следующие выводы:\n",
    "* promo_friends: среди постоянных клиентов в 2 раза больше тех, что использовал промо-код от знакомого при оплате первого абонемента;\n",
    "* contract_period, month_to_end_contract: длительность текущего действующего абонемента, как и срок до окончания действующего абонемента, у постоянных клиентов в три с лишним раза больше, по сравнению с теми, кто ушел;\n",
    "* group_visits: постоянные клиенты чаще посещяют групповые занятия;\n",
    "* age: средний возраст постоянных клиентов от 30 лет, отказников - 27 лет;\n",
    "* avg_additional_charges_total: постоянные клиенты тратят на другие услуги фитнес-центра на 37% больше, по сравение с отказниками;\n",
    "* lifetime: время с момента первого обращения в фитнес-центр у постоянных кдиентов в 4.5 раза больше, по сравнению с ушедшими;\n",
    "* avg_class_frequency_total и avg_class_frequency_current_month: у постоянных клиентов общая / средняя частота посещений в выше, в среднем, от 2 раз в неделю."
   ]
  },
  {
   "cell_type": "markdown",
   "metadata": {},
   "source": [
    "### Гистограммы и распределения признаков для групп"
   ]
  },
  {
   "cell_type": "markdown",
   "metadata": {},
   "source": [
    "Построим столбчатые гистограммы и распределения признаков для тех, кто ушёл и тех, кто остался:"
   ]
  },
  {
   "cell_type": "code",
   "execution_count": 5,
   "metadata": {
    "scrolled": false
   },
   "outputs": [
    {
     "data": {
      "image/png": "[encoded data removed]",
      "text/plain": [
       "<Figure size 1440x720 with 8 Axes>"
      ]
     },
     "metadata": {
      "needs_background": "light"
     },
     "output_type": "display_data"
    },
    {
     "data": {
      "image/png": "[encoded data removed]",
      "text/plain": [
       "<Figure size 1440x720 with 6 Axes>"
      ]
     },
     "metadata": {
      "needs_background": "light"
     },
     "output_type": "display_data"
    }
   ],
   "source": [
    "# числовые признаки\n",
    "numeric_features = ['age', 'contract_period', 'month_to_end_contract', 'lifetime', \n",
    "               'avg_class_frequency_total', 'avg_class_frequency_current_month', 'avg_additional_charges_total']\n",
    "\n",
    "# категориальные признаки\n",
    "categorical_features = ['gender', 'phone', 'near_location', 'partner', 'promo_friends',\n",
    "                        'group_visits']\n",
    "\n",
    "# построим рспределение числовых признаков\n",
    "fig, axes = plt.subplots(nrows=2, ncols=4, figsize=(20,10))\n",
    "axes_list = [item for sublist in axes for item in sublist]\n",
    "\n",
    "fig.suptitle('Распределение числовых признаков:', fontsize=16)\n",
    "for n, x in enumerate(numeric_features):\n",
    "    ax = axes_list.pop(0)\n",
    "    sns.distplot(data.query('churn==1')[x], bins=10, ax=ax, kde=False, label='client left')\n",
    "    sns.distplot(data.query('churn==0')[x], bins=10, ax=ax, kde=False, label='client stayed')\n",
    "    ax.set_xlabel(x, fontsize=12)\n",
    "    if n % 4 == 0:\n",
    "        ax.set_ylabel('сount', fontsize=12)\n",
    "    else:\n",
    "        ax.set_ylabel('')\n",
    "    ax.legend();    \n",
    "plt.show()\n",
    "    \n",
    "# построим столбчатые диаграммы для категориальных признаков  \n",
    "fig, axes = plt.subplots(nrows=2, ncols=3, figsize=(20,10))\n",
    "axes_list = [item for sublist in axes for item in sublist]\n",
    "\n",
    "fig.suptitle('Распределение категориальных признаков:', fontsize=16)\n",
    "for n, x in enumerate(categorical_features):\n",
    "    ax = axes_list.pop(0)\n",
    "    sns.countplot(data=data, ax=ax, x = data[x], hue='churn')\n",
    "    ax.set_xlabel(x, fontsize=12)\n",
    "    if n % 3 == 0:\n",
    "        ax.set_ylabel('сount', fontsize=12)\n",
    "    else:\n",
    "        ax.set_ylabel('')\n",
    "plt.show();"
   ]
  },
  {
   "cell_type": "markdown",
   "metadata": {},
   "source": [
    "**Вывод** \n",
    "\n",
    "На основании графиков можно составить портрет постоянного клиента клуба: старше 30 лет, работает либо проживает поблизости, приобрел абонемент на 12 месяцев, приобретает дополнителные услуги, посещает клуб от 2 раза в неделю. \n",
    "\n",
    "Портрет вероятного отточника: моложе 30 лет, абоненмент на 1 месяц, не приобретает дополнительные услуги, общая частота посещений 1-2 раза в неделю, частота посещений за последний месяц менше 1 раза. "
   ]
  },
  {
   "cell_type": "markdown",
   "metadata": {},
   "source": [
    "### Матрица корреляции"
   ]
  },
  {
   "cell_type": "code",
   "execution_count": 6,
   "metadata": {},
   "outputs": [
    {
     "data": {
      "image/png": "[encoded data removed]",
      "text/plain": [
       "<Figure size 1440x1440 with 2 Axes>"
      ]
     },
     "metadata": {},
     "output_type": "display_data"
    }
   ],
   "source": [
    "#вычисляем матрицу корреляций\n",
    "cm = data.corr()\n",
    "sns.set(rc={'figure.figsize':(20, 20)})\n",
    "fig, ax = plt.subplots()\n",
    "\n",
    "#нарисуем тепловую карту с подписями для матрицы корреляций\n",
    "sns.heatmap(data=cm, annot=True, square=True)\n",
    "plt.show();"
   ]
  },
  {
   "cell_type": "markdown",
   "metadata": {},
   "source": [
    "**Вывод** \n",
    "\n",
    "Видно, что наибольшая корелляция с целевой переменной наблюдается у признаков *'lifetime', 'avg_class_frequency_current_month', 'age', 'contract_period' и 'month_to_enf_contract'*. Для всех случаев эта корелляция обратная со слабым влиянием на целевую переменную. Есть мультиколлинеарные признаки с корелляцией к целевой переменной близкой к 1: 'contract_period' и 'month_to_end_contract', 'avg_class_frequency_current_month' и 'avg_class_frequency_total'. Мультиколлинеарные признаки могут плохо влиять на обучение некоторых моделей. В этом случае по одному представителю из каждой пары признаков, по-хорошему, лучше удалить. Однако не будем этого делать, поскольку далее будем проводить обучение модели при помощи моделей логистической регрессией, для которой в sklearn дополнительно реализована регуляризация, которая не дает модели переобучиться, и модели случайного леса, которая устойчива к мультиколлинерности признкаов. \n",
    "Помимо этого у нас есть признаки с нулевой корреляцией с целевой переменной 'phone' и 'gender', которые вообще никак не влияют на отток."
   ]
  },
  {
   "cell_type": "markdown",
   "metadata": {},
   "source": [
    "## Модель прогнозирования оттока клиентов"
   ]
  },
  {
   "cell_type": "markdown",
   "metadata": {},
   "source": [
    "Построим модель бинарной классификации клиентов, где целевой признак — факт оттока клиента в следующем месяце.\n",
    "Для этого необходимо разбить данные на обучающую и валидационную выборку."
   ]
  },
  {
   "cell_type": "code",
   "execution_count": 7,
   "metadata": {},
   "outputs": [],
   "source": [
    "X = data.drop('churn', axis=1) # датасет с признаками\n",
    "y = data['churn']              # целевая перменная\n",
    "\n",
    "# разобъем данные на обучающую и валидационную выборку; nак как в целевом признаке есть дисбаланс классов, \n",
    "# выборки лучше стратифицировать с помощью параметра stratify \n",
    "X_train, X_test, y_train, y_test = train_test_split(X, y, stratify=y, test_size=0.2, random_state=0)\n",
    "\n",
    "# создадим объект класса StandardScaler и применим его к обучающей выборке\n",
    "scaler = StandardScaler()\n",
    "# обучим scaler и трансформируем матрицу для обучающей выборки\n",
    "X_train_st = scaler.fit_transform(X_train) \n",
    "# применяем стандартизацию к матрице признаков для тестовой выборки\n",
    "X_test_st = scaler.transform(X_test)"
   ]
  },
  {
   "cell_type": "markdown",
   "metadata": {},
   "source": [
    "Обучим модель на train-выборке двумя способами: логистической регрессией и случайным лесом."
   ]
  },
  {
   "cell_type": "code",
   "execution_count": 8,
   "metadata": {},
   "outputs": [
    {
     "name": "stdout",
     "output_type": "stream",
     "text": [
      "LogisticRegression\n",
      "Accuracy: 0.94\n",
      "Precision: 0.90\n",
      "Recall: 0.85\n",
      "\n",
      "RandomForestClassifier\n",
      "Accuracy: 0.92\n",
      "Precision: 0.86\n",
      "Recall: 0.82\n",
      "\n"
     ]
    }
   ],
   "source": [
    "# список моделей\n",
    "models = [\n",
    "    LogisticRegression(solver='liblinear', random_state=1),\n",
    "    RandomForestClassifier(random_state=1),\n",
    "]\n",
    "\n",
    "# функция 'make_prediction': принимает на вход модель и данные, выводит метрики accuracy, precision, recall, \n",
    "# а также важности признаков и возвращает прогноз \n",
    "def make_prediction(m, X_train, y_train, X_test, y_test):\n",
    "    model = m\n",
    "    model.fit(X_train, y_train)\n",
    "    y_pred = model.predict(X_test)\n",
    "    \n",
    "    # выведите метрики для полученного прогноза\n",
    "    print('Accuracy: {:.2f}'.format(accuracy_score(y_test, y_pred)))\n",
    "    print('Precision: {:.2f}'.format(precision_score (y_test, y_pred)))\n",
    "    print('Recall: {:.2f}\\n'.format(recall_score(y_test, y_pred)))\n",
    "      \n",
    "    return y_pred\n",
    "\n",
    "# найдем метрики по списку моделей\n",
    "for i in models:\n",
    "    print(str(i).partition('(')[0])\n",
    "    make_prediction(i, X_train_st, y_train, X_test_st, y_test)"
   ]
  },
  {
   "cell_type": "markdown",
   "metadata": {},
   "source": [
    "**Вывод:** обе модели прогнозируют более 92% правильных ответов, у обеих точность свыше 86%, а доля обнаружения объектов '1' класса превышает 82%. Но результаты логистической регрессии чуть лучше, чем у случайного леса.   "
   ]
  },
  {
   "cell_type": "markdown",
   "metadata": {},
   "source": [
    "## Кластеризация клиентов"
   ]
  },
  {
   "cell_type": "markdown",
   "metadata": {},
   "source": [
    "### Стандартизация данных"
   ]
  },
  {
   "cell_type": "markdown",
   "metadata": {},
   "source": [
    "Проведем кластеризацию клиентов, для этого сначала стандартизируем данные:"
   ]
  },
  {
   "cell_type": "code",
   "execution_count": 9,
   "metadata": {},
   "outputs": [],
   "source": [
    "sc = StandardScaler()\n",
    "X_sc = sc.fit_transform(X)\n",
    "#X_sc[:1]"
   ]
  },
  {
   "cell_type": "markdown",
   "metadata": {},
   "source": [
    "### Матрица расстояний и дендрограмма"
   ]
  },
  {
   "cell_type": "markdown",
   "metadata": {},
   "source": [
    "Построим матрицу расстояний на стандартизованной матрице признаков и отобразим дендрограмму:"
   ]
  },
  {
   "cell_type": "code",
   "execution_count": 10,
   "metadata": {
    "scrolled": false
   },
   "outputs": [
    {
     "data": {
      "image/png": "[encoded data removed]",
      "text/plain": [
       "<Figure size 1440x720 with 1 Axes>"
      ]
     },
     "metadata": {},
     "output_type": "display_data"
    }
   ],
   "source": [
    "# получим таблицу «связок» \n",
    "linked = linkage(X_sc, method = 'ward')\n",
    "\n",
    "# визуализируем таблицу «связок» между объектами как дендрограмму\n",
    "plt.figure(figsize=(20, 10))  \n",
    "dendrogram(linked, orientation='top')\n",
    "plt.title('Иерархическая кластеризация:')\n",
    "plt.show()"
   ]
  },
  {
   "cell_type": "markdown",
   "metadata": {},
   "source": [
    "**Вывод:** на основании полученного графика можно предположить деление на 4-6 кластеров, для дальнейшего изучения возьмем количество кластеров, равное 5."
   ]
  },
  {
   "cell_type": "markdown",
   "metadata": {},
   "source": [
    "### Модель кластеризации и прогнозирование кластеров клиентов"
   ]
  },
  {
   "cell_type": "markdown",
   "metadata": {},
   "source": [
    "Обучим модель кластеризации на основании алгоритма K-Means и спрогнозируем кластеры клиентов:"
   ]
  },
  {
   "cell_type": "code",
   "execution_count": 11,
   "metadata": {
    "scrolled": false
   },
   "outputs": [],
   "source": [
    "# зададим модель k_means с числом кластеров 5 и фиксируем значение random_state\n",
    "km = KMeans(n_clusters=5, random_state=3)\n",
    "\n",
    "# прогнозируем кластеры для наблюдений\n",
    "labels = km.fit_predict(X_sc)\n",
    "\n",
    "# сохраним метки кластера в поле датасета\n",
    "data['cluster_km'] = labels"
   ]
  },
  {
   "cell_type": "markdown",
   "metadata": {},
   "source": [
    "### Средние значения признаков для кластеров"
   ]
  },
  {
   "cell_type": "markdown",
   "metadata": {},
   "source": [
    "Проанализируем средние значения признаков для кластеров:"
   ]
  },
  {
   "cell_type": "code",
   "execution_count": 12,
   "metadata": {
    "scrolled": false
   },
   "outputs": [
    {
     "data": {
      "text/html": [
       "<div>\n",
       "<style scoped>\n",
       "    .dataframe tbody tr th:only-of-type {\n",
       "        vertical-align: middle;\n",
       "    }\n",
       "\n",
       "    .dataframe tbody tr th {\n",
       "        vertical-align: top;\n",
       "    }\n",
       "\n",
       "    .dataframe thead th {\n",
       "        text-align: right;\n",
       "    }\n",
       "</style>\n",
       "<table border=\"1\" class=\"dataframe\">\n",
       "  <thead>\n",
       "    <tr style=\"text-align: right;\">\n",
       "      <th>cluster_km</th>\n",
       "      <th>0</th>\n",
       "      <th>1</th>\n",
       "      <th>2</th>\n",
       "      <th>3</th>\n",
       "      <th>4</th>\n",
       "    </tr>\n",
       "  </thead>\n",
       "  <tbody>\n",
       "    <tr>\n",
       "      <th>gender</th>\n",
       "      <td>0.523316</td>\n",
       "      <td>0.484921</td>\n",
       "      <td>0.493569</td>\n",
       "      <td>0.563006</td>\n",
       "      <td>0.500577</td>\n",
       "    </tr>\n",
       "    <tr>\n",
       "      <th>near_location</th>\n",
       "      <td>0.862694</td>\n",
       "      <td>0.725397</td>\n",
       "      <td>0.948553</td>\n",
       "      <td>0.846243</td>\n",
       "      <td>0.936563</td>\n",
       "    </tr>\n",
       "    <tr>\n",
       "      <th>partner</th>\n",
       "      <td>0.471503</td>\n",
       "      <td>0.293651</td>\n",
       "      <td>0.813505</td>\n",
       "      <td>0.285549</td>\n",
       "      <td>0.740484</td>\n",
       "    </tr>\n",
       "    <tr>\n",
       "      <th>promo_friends</th>\n",
       "      <td>0.305699</td>\n",
       "      <td>0.011111</td>\n",
       "      <td>0.998392</td>\n",
       "      <td>0.073988</td>\n",
       "      <td>0.480969</td>\n",
       "    </tr>\n",
       "    <tr>\n",
       "      <th>phone</th>\n",
       "      <td>0.000000</td>\n",
       "      <td>1.000000</td>\n",
       "      <td>1.000000</td>\n",
       "      <td>1.000000</td>\n",
       "      <td>1.000000</td>\n",
       "    </tr>\n",
       "    <tr>\n",
       "      <th>contract_period</th>\n",
       "      <td>4.777202</td>\n",
       "      <td>1.922222</td>\n",
       "      <td>3.020900</td>\n",
       "      <td>2.682081</td>\n",
       "      <td>11.833910</td>\n",
       "    </tr>\n",
       "    <tr>\n",
       "      <th>group_visits</th>\n",
       "      <td>0.427461</td>\n",
       "      <td>0.279365</td>\n",
       "      <td>0.437299</td>\n",
       "      <td>0.445087</td>\n",
       "      <td>0.547866</td>\n",
       "    </tr>\n",
       "    <tr>\n",
       "      <th>age</th>\n",
       "      <td>29.297927</td>\n",
       "      <td>28.135714</td>\n",
       "      <td>29.051447</td>\n",
       "      <td>30.047399</td>\n",
       "      <td>29.891580</td>\n",
       "    </tr>\n",
       "    <tr>\n",
       "      <th>avg_additional_charges_total</th>\n",
       "      <td>144.208179</td>\n",
       "      <td>129.444222</td>\n",
       "      <td>141.358831</td>\n",
       "      <td>161.246121</td>\n",
       "      <td>163.330735</td>\n",
       "    </tr>\n",
       "    <tr>\n",
       "      <th>month_to_end_contract</th>\n",
       "      <td>4.466321</td>\n",
       "      <td>1.829365</td>\n",
       "      <td>2.829582</td>\n",
       "      <td>2.480925</td>\n",
       "      <td>10.791234</td>\n",
       "    </tr>\n",
       "    <tr>\n",
       "      <th>lifetime</th>\n",
       "      <td>3.940415</td>\n",
       "      <td>2.212698</td>\n",
       "      <td>3.697749</td>\n",
       "      <td>4.858960</td>\n",
       "      <td>4.713956</td>\n",
       "    </tr>\n",
       "    <tr>\n",
       "      <th>avg_class_frequency_total</th>\n",
       "      <td>1.854211</td>\n",
       "      <td>1.254721</td>\n",
       "      <td>1.701337</td>\n",
       "      <td>2.804936</td>\n",
       "      <td>2.001043</td>\n",
       "    </tr>\n",
       "    <tr>\n",
       "      <th>avg_class_frequency_current_month</th>\n",
       "      <td>1.723967</td>\n",
       "      <td>1.002765</td>\n",
       "      <td>1.593120</td>\n",
       "      <td>2.797714</td>\n",
       "      <td>1.993460</td>\n",
       "    </tr>\n",
       "    <tr>\n",
       "      <th>churn</th>\n",
       "      <td>0.266839</td>\n",
       "      <td>0.561905</td>\n",
       "      <td>0.262058</td>\n",
       "      <td>0.078613</td>\n",
       "      <td>0.021915</td>\n",
       "    </tr>\n",
       "  </tbody>\n",
       "</table>\n",
       "</div>"
      ],
      "text/plain": [
       "cluster_km                                  0           1           2  \\\n",
       "gender                               0.523316    0.484921    0.493569   \n",
       "near_location                        0.862694    0.725397    0.948553   \n",
       "partner                              0.471503    0.293651    0.813505   \n",
       "promo_friends                        0.305699    0.011111    0.998392   \n",
       "phone                                0.000000    1.000000    1.000000   \n",
       "contract_period                      4.777202    1.922222    3.020900   \n",
       "group_visits                         0.427461    0.279365    0.437299   \n",
       "age                                 29.297927   28.135714   29.051447   \n",
       "avg_additional_charges_total       144.208179  129.444222  141.358831   \n",
       "month_to_end_contract                4.466321    1.829365    2.829582   \n",
       "lifetime                             3.940415    2.212698    3.697749   \n",
       "avg_class_frequency_total            1.854211    1.254721    1.701337   \n",
       "avg_class_frequency_current_month    1.723967    1.002765    1.593120   \n",
       "churn                                0.266839    0.561905    0.262058   \n",
       "\n",
       "cluster_km                                  3           4  \n",
       "gender                               0.563006    0.500577  \n",
       "near_location                        0.846243    0.936563  \n",
       "partner                              0.285549    0.740484  \n",
       "promo_friends                        0.073988    0.480969  \n",
       "phone                                1.000000    1.000000  \n",
       "contract_period                      2.682081   11.833910  \n",
       "group_visits                         0.445087    0.547866  \n",
       "age                                 30.047399   29.891580  \n",
       "avg_additional_charges_total       161.246121  163.330735  \n",
       "month_to_end_contract                2.480925   10.791234  \n",
       "lifetime                             4.858960    4.713956  \n",
       "avg_class_frequency_total            2.804936    2.001043  \n",
       "avg_class_frequency_current_month    2.797714    1.993460  \n",
       "churn                                0.078613    0.021915  "
      ]
     },
     "metadata": {},
     "output_type": "display_data"
    }
   ],
   "source": [
    "display(data.groupby('cluster_km').mean().T)"
   ]
  },
  {
   "cell_type": "markdown",
   "metadata": {},
   "source": [
    "Оценим для нашей кластеризации численность кластеров и метрику силуэта, оценивающую качество кластеризации:"
   ]
  },
  {
   "cell_type": "code",
   "execution_count": 13,
   "metadata": {},
   "outputs": [
    {
     "name": "stdout",
     "output_type": "stream",
     "text": [
      "1    1260\n",
      "4     867\n",
      "3     865\n",
      "2     622\n",
      "0     386\n",
      "Name: cluster_km, dtype: int64\n",
      "\n",
      "Silhouette_score: 0.13\n"
     ]
    }
   ],
   "source": [
    "print(data['cluster_km'].value_counts())\n",
    "print('\\nSilhouette_score: {:.2f}'.format(silhouette_score(X_sc, labels)))"
   ]
  },
  {
   "cell_type": "markdown",
   "metadata": {},
   "source": [
    "Метрика силуэта 0.13 характеризует низкое качество кластеризации."
   ]
  },
  {
   "cell_type": "markdown",
   "metadata": {},
   "source": [
    "**Вывод:** метрика силуэта 0.13 характеризует низкое качество кластеризации. Самым многочисленным является Кластер 1, самый малочисленный - Кластер 0. \n",
    "\n",
    "Признаки кластеров (Кластер 3 и 4) с наименьшим показателем оттока клиентов: \n",
    "* по половому признаку распределены примерно поровну; \n",
    "* клиенты, в основном, живут недалеко от клуба; \n",
    "* часто приходят в клуб по партнерской акции или приглашению друзей;\n",
    "* почти в половине случаев посещают групповые занятия;\n",
    "* возраст около 30 лет;\n",
    "* средняя частота посещений составляет 2 и более раз в неделю;\n",
    "* средняя суммарная выручка от других услуг фитнес-центра равна 161.\n",
    "\n",
    "Признаки кластера (Кластер 1) с наибольшим показателем оттока клиентов: \n",
    "* по половому признаку распределены поровну; \n",
    "* клиенты, в основном, живут нв удалении от клуба, \n",
    "* редко приходят в клуб по партнерской акции или приглашению друзей;\n",
    "* предпчитают одиночные занятия;\n",
    "* возраст около 28 лет и старше.\n",
    "* средняя частота посещений составляет 1 раз в неделю;\n",
    "* средняя суммарная выручка от других услуг фитнес-центра не превышает 130."
   ]
  },
  {
   "cell_type": "markdown",
   "metadata": {},
   "source": [
    "### Распределения признаков для кластеров"
   ]
  },
  {
   "cell_type": "markdown",
   "metadata": {},
   "source": [
    "Построим распределения признаков для кластеров:"
   ]
  },
  {
   "cell_type": "code",
   "execution_count": 14,
   "metadata": {
    "scrolled": false
   },
   "outputs": [
    {
     "data": {
      "image/png": "[encoded data removed]",
      "text/plain": [
       "<Figure size 1080x360 with 1 Axes>"
      ]
     },
     "metadata": {},
     "output_type": "display_data"
    },
    {
     "data": {
      "image/png": "[encoded data removed]",
      "text/plain": [
       "<Figure size 1080x360 with 1 Axes>"
      ]
     },
     "metadata": {},
     "output_type": "display_data"
    },
    {
     "data": {
      "image/png": "[encoded data removed]",
      "text/plain": [
       "<Figure size 1080x360 with 1 Axes>"
      ]
     },
     "metadata": {},
     "output_type": "display_data"
    },
    {
     "data": {
      "image/png": "[encoded data removed]",
      "text/plain": [
       "<Figure size 1080x360 with 1 Axes>"
      ]
     },
     "metadata": {},
     "output_type": "display_data"
    },
    {
     "data": {
      "image/png": "[encoded data removed]",
      "text/plain": [
       "<Figure size 1080x360 with 1 Axes>"
      ]
     },
     "metadata": {},
     "output_type": "display_data"
    },
    {
     "data": {
      "image/png": "[encoded data removed]",
      "text/plain": [
       "<Figure size 1080x360 with 1 Axes>"
      ]
     },
     "metadata": {},
     "output_type": "display_data"
    },
    {
     "data": {
      "image/png": "[encoded data removed]",
      "text/plain": [
       "<Figure size 1080x360 with 1 Axes>"
      ]
     },
     "metadata": {},
     "output_type": "display_data"
    }
   ],
   "source": [
    "#распределение числовых признаков по кластерам\n",
    "for feature in numeric_features:\n",
    "    plt.figure(figsize=(15, 5))\n",
    "    sns.set_style('whitegrid')\n",
    "    sns.kdeplot(data=data, x=data[feature], hue=\"cluster_km\", multiple=\"stack\")\n",
    "    plt.title('Признак \\''+ feature + '\\':')\n",
    "    plt.ylabel('density')\n",
    "    plt.show();"
   ]
  },
  {
   "cell_type": "code",
   "execution_count": 15,
   "metadata": {
    "scrolled": false
   },
   "outputs": [
    {
     "data": {
      "image/png": "[encoded data removed]",
      "text/plain": [
       "<Figure size 1080x360 with 1 Axes>"
      ]
     },
     "metadata": {},
     "output_type": "display_data"
    },
    {
     "data": {
      "image/png": "[encoded data removed]",
      "text/plain": [
       "<Figure size 1080x360 with 1 Axes>"
      ]
     },
     "metadata": {},
     "output_type": "display_data"
    },
    {
     "data": {
      "image/png": "[encoded data removed]",
      "text/plain": [
       "<Figure size 1080x360 with 1 Axes>"
      ]
     },
     "metadata": {},
     "output_type": "display_data"
    },
    {
     "data": {
      "image/png": "[encoded data removed]",
      "text/plain": [
       "<Figure size 1080x360 with 1 Axes>"
      ]
     },
     "metadata": {},
     "output_type": "display_data"
    },
    {
     "data": {
      "image/png": "[encoded data removed]",
      "text/plain": [
       "<Figure size 1080x360 with 1 Axes>"
      ]
     },
     "metadata": {},
     "output_type": "display_data"
    },
    {
     "data": {
      "image/png": "[encoded data removed]",
      "text/plain": [
       "<Figure size 1080x360 with 1 Axes>"
      ]
     },
     "metadata": {},
     "output_type": "display_data"
    }
   ],
   "source": [
    "#распределение категориальных призгаков по кластерам\n",
    "for feature in categorical_features:\n",
    "    plt.figure(figsize=(15, 5))\n",
    "    sns.set_style('whitegrid')\n",
    "    sns.countplot(x=data[feature], hue=\"cluster_km\", data=data)\n",
    "    plt.title('Признак \\''+ feature + '\\':')\n",
    "    plt.ylabel('сount')\n",
    "    plt.show();"
   ]
  },
  {
   "cell_type": "markdown",
   "metadata": {},
   "source": [
    "**Вывод**\n",
    "\n",
    "Признаки, выделенные выше для Кластера 1, 3 и 4, подтверждаются графиками:\n",
    "\n",
    "* Кластер 0: мужчины и женщины, возраст 29 лет, живут рядом с клубом, в половине случае приходят по партнерской акции, иногда по приглашению друзей, абонемент на 5 месяцев, иногда посещают групповые занятия, приходят в клуб 1-2 раза в неделю, средняя суммарная выручка от других услуг фитнес-центра равна 144;\n",
    "* Кластер 1: мужчины и женщины, возраст 28 лет, живут нв удалении от клуба, редко приходят по партнерской акции или приглашению друзей, абонемент на 2 месяца, предпочитают одиночные тренировки, приходят в клуб 1 раз в неделю, суммарная выручка от других услуг фитнес-центра не превышает 130;\n",
    "* Кластер 2: мужчины и женщины, возраст 29 лет, живут рядом с клубом, приходят в клуб по приглашению друзей, либо по партнерской акции, абонемент на 3 месяца, в половине случаев посещают групповые занятия, приходят в клуб 1-2 раза в неделю, средняя суммарная выручка от других услуг фитнес-центра равна 141;\n",
    "* Кластер 3: мужчины и женщины, возраст 30+ лет, живут рядос с клубом, часто приходят в клуб по партнерской акции или приглашению друзей, абонемент на 3 месяца, в половине случаев посещают групповые занятия, приходят в клуб 2 и более раз в неделю, средняя суммарная выручка от других услуг фитнес-центра равна 161;\n",
    "* Кластер 4: мужчины и женщины, возраст 30 лет, живут рядом с клубом, часто приходят в клуб по партнерской акции или приглашению друзей, абонемент на 12 месяцев, часто посещают групповые занятия, приходят в клуб 2 раза в неделю, средняя суммарная выручка от других услуг фитнес-центра равна 163."
   ]
  },
  {
   "cell_type": "markdown",
   "metadata": {},
   "source": [
    "### Доля оттока для кластеров"
   ]
  },
  {
   "cell_type": "markdown",
   "metadata": {},
   "source": [
    "Посчитаем долю оттока для каждого полученного кластера:"
   ]
  },
  {
   "cell_type": "code",
   "execution_count": 16,
   "metadata": {},
   "outputs": [
    {
     "data": {
      "text/html": [
       "<div>\n",
       "<style scoped>\n",
       "    .dataframe tbody tr th:only-of-type {\n",
       "        vertical-align: middle;\n",
       "    }\n",
       "\n",
       "    .dataframe tbody tr th {\n",
       "        vertical-align: top;\n",
       "    }\n",
       "\n",
       "    .dataframe thead th {\n",
       "        text-align: right;\n",
       "    }\n",
       "</style>\n",
       "<table border=\"1\" class=\"dataframe\">\n",
       "  <thead>\n",
       "    <tr style=\"text-align: right;\">\n",
       "      <th></th>\n",
       "      <th>cluster</th>\n",
       "      <th>clients_count</th>\n",
       "      <th>share</th>\n",
       "    </tr>\n",
       "  </thead>\n",
       "  <tbody>\n",
       "    <tr>\n",
       "      <th>0</th>\n",
       "      <td>1</td>\n",
       "      <td>1260</td>\n",
       "      <td>0.561905</td>\n",
       "    </tr>\n",
       "    <tr>\n",
       "      <th>1</th>\n",
       "      <td>0</td>\n",
       "      <td>386</td>\n",
       "      <td>0.266839</td>\n",
       "    </tr>\n",
       "    <tr>\n",
       "      <th>2</th>\n",
       "      <td>2</td>\n",
       "      <td>622</td>\n",
       "      <td>0.262058</td>\n",
       "    </tr>\n",
       "    <tr>\n",
       "      <th>3</th>\n",
       "      <td>3</td>\n",
       "      <td>865</td>\n",
       "      <td>0.078613</td>\n",
       "    </tr>\n",
       "    <tr>\n",
       "      <th>4</th>\n",
       "      <td>4</td>\n",
       "      <td>867</td>\n",
       "      <td>0.021915</td>\n",
       "    </tr>\n",
       "  </tbody>\n",
       "</table>\n",
       "</div>"
      ],
      "text/plain": [
       "   cluster  clients_count     share\n",
       "0        1           1260  0.561905\n",
       "1        0            386  0.266839\n",
       "2        2            622  0.262058\n",
       "3        3            865  0.078613\n",
       "4        4            867  0.021915"
      ]
     },
     "metadata": {},
     "output_type": "display_data"
    }
   ],
   "source": [
    "outflow = data.groupby('cluster_km')['churn'].agg(['count', 'mean']).sort_values(by='mean', ascending=False).reset_index()\n",
    "outflow.columns = ['cluster', 'clients_count', 'share']\n",
    "display(outflow)"
   ]
  },
  {
   "cell_type": "code",
   "execution_count": 18,
   "metadata": {
    "scrolled": false
   },
   "outputs": [
    {
     "data": {
      "image/png": "[encoded data removed]",
      "text/plain": [
       "<Figure size 1296x576 with 1 Axes>"
      ]
     },
     "metadata": {},
     "output_type": "display_data"
    }
   ],
   "source": [
    "sns.set(rc={'figure.figsize':(18, 8)})\n",
    "sns.barplot(data=outflow, x='cluster', y=\"share\")\n",
    "fig.show();"
   ]
  },
  {
   "cell_type": "markdown",
   "metadata": {},
   "source": [
    "**Вывод** \n",
    "\n",
    "Кластеры отличаются по доле оттока: \n",
    "* Самым надежным является Кластер 4 (2.2% или 1,84% от общего количества) и Кластер 3 (7.9% или 6.6% от общего количества);\n",
    "* Наиболее подвержены оттоку Кластер 1 (56.2% или от 47.2% от общего количества)."
   ]
  },
  {
   "cell_type": "markdown",
   "metadata": {},
   "source": [
    "## Общий вывод\n",
    "\n",
    "Для прогнозирования вероятности оттока клиентов сети фитнес-центров в следующем месяце и формирования портретов пользователей мы использовали входные данные из анкет клиентов.\n",
    "\n",
    "Данные были проверены на наличие ошибок и оценки их влияния на исследование; была выполнена предобработка данных, которая в себя включала поиск пропущенных значений и обработку ошибок.\n",
    "\n",
    "После этого был проведен исследовательский анализ данных и получены следующие результаты.\n",
    "\n",
    "**1. ЦЕЛЕВЫЕ ГРУППЫ КЛИЕНТОВ**\n",
    "\n",
    "**Портрет клиента в зоне риска:** мужчина или женщина, возраст 28 лет, живет нв удалении от клуба, редко приходит по партнерской акции или приглашению друзей, абонемент на 2 месяца, предпочитает одиночные тренировки, посещает клуб 1 раз в неделю, суммарная выручка от других услуг фитнес-центра не превышает 130;\n",
    "\n",
    "**Портрет постоянного клиента:** мужчина или женщина, возраст 30 лет, живет рядом с клубом, часто приходит в клуб по партнерской акции или приглашению друзей, абонемент на 12 месяцев, любит групповые занятия, приходят в клуб 2 раза в неделю, средняя суммарная выручка от других услуг фитнес-центра равна 163.\n",
    "\n",
    "Причины оттока могут быть связаны с высокой конкуренцией на рынке, отсутствием мотивации у клиентов, с внутренними проблемами фитнес-центра (тренерский состав, ассортимент услуг, спортивное оборудование, состояние и качество ремонта помещений, качество уборки, внимательность персонала и т.д.). \n",
    "\n",
    "Для повышения качества работы с клиентами и их удержания предлагается ряд мер по выявлению клиентов, находящихся в зоне риска:\n",
    "\n",
    "**2. МЕРЫ ПО СНИЖЕНИЮ ОТТОКА:**\n",
    "\n",
    "**2.1. Идентификация причин оттока** \n",
    "\n",
    "Самый действенный способ определить причины лояльности одних пользователей и снижения мотивации у других - спросить у самих клиентов, что им нравится / не нравится в клубах. Для этого можно организовать регулярные опросы клиентов при помощи анкет. Цель анкетирования - выяснить основные причины оттока, разработать соответсвуюший план действий для удержания клиентов и воплотить его в жизнь.\n",
    "\n",
    "**2.2. Проактивные действия по выявлению демотивированных клиентов**\n",
    "\n",
    "Реализовать инструмент для автоматизированного отчета, который по итогу каждого месяца позволит выявить клиентов, находящихся  в зоне риска, тех, кто посетил фитнес центр не более одного раза за прошедший месяц. Необходимо проанализировать обратную связь, полученную от этих клиентов за счет анкетирования. На основе нее предложить им дополнительные стимулы, специальные акции для их удержания. \n",
    "\n",
    "**3. ДРУГИЕ ОСОБЕННОСТИ ВЗАИМОДЕЙТВИЯ С КЛИЕНТАМИ**\n",
    "\n",
    "Дополнительные инструменты, направленные на развитие бизнеса нашей сети фитнес клубов, рекомендуются для реализации: \n",
    "\n",
    "**3.1. Увеличение средней длительности абонемента** (=срока жизни клиента) у постоянных клиентов за счет дополнительных бонусов / кешбека при покупке абоненмента на большой срок.\n",
    "\n",
    "**3.2. Ежемесчное таргетированное рекламное предложение** для жителей жилых кварталов, работников бизнес-центров, расположенных рядом с фитнес центром с целью увеличения базы постоянных клиентов."
   ]
  }
 ],
 "metadata": {
  "ExecuteTimeLog": [
   {
    "duration": 1401,
    "start_time": "2022-09-09T17:42:39.963Z"
   },
   {
    "duration": 607,
    "start_time": "2022-09-09T17:43:21.590Z"
   },
   {
    "duration": 45,
    "start_time": "2022-09-09T17:43:43.171Z"
   },
   {
    "duration": 295,
    "start_time": "2022-09-09T17:43:52.012Z"
   },
   {
    "duration": 54,
    "start_time": "2022-09-09T17:44:01.756Z"
   },
   {
    "duration": 75,
    "start_time": "2022-09-09T17:44:52.319Z"
   },
   {
    "duration": 316,
    "start_time": "2022-09-09T17:45:01.181Z"
   },
   {
    "duration": 298,
    "start_time": "2022-09-09T17:45:51.968Z"
   },
   {
    "duration": 167,
    "start_time": "2022-09-09T17:47:06.222Z"
   },
   {
    "duration": 354,
    "start_time": "2022-09-09T17:48:57.217Z"
   },
   {
    "duration": 156,
    "start_time": "2022-09-09T17:51:15.008Z"
   },
   {
    "duration": 44,
    "start_time": "2022-09-09T17:51:24.799Z"
   },
   {
    "duration": 138,
    "start_time": "2022-09-09T17:53:16.305Z"
   },
   {
    "duration": 1468,
    "start_time": "2022-09-10T16:42:17.227Z"
   },
   {
    "duration": 214,
    "start_time": "2022-09-10T16:42:18.697Z"
   },
   {
    "duration": 101,
    "start_time": "2022-09-10T17:17:57.276Z"
   },
   {
    "duration": 12,
    "start_time": "2022-09-10T17:18:02.473Z"
   },
   {
    "duration": 15,
    "start_time": "2022-09-10T17:22:46.576Z"
   },
   {
    "duration": 14,
    "start_time": "2022-09-10T17:23:16.371Z"
   },
   {
    "duration": 17,
    "start_time": "2022-09-10T18:11:49.985Z"
   },
   {
    "duration": 19,
    "start_time": "2022-09-10T18:19:09.189Z"
   },
   {
    "duration": 25,
    "start_time": "2022-09-10T18:19:22.453Z"
   },
   {
    "duration": 28,
    "start_time": "2022-09-10T18:19:27.176Z"
   },
   {
    "duration": 32,
    "start_time": "2022-09-10T18:19:34.126Z"
   },
   {
    "duration": 18,
    "start_time": "2022-09-10T18:19:49.329Z"
   },
   {
    "duration": 17,
    "start_time": "2022-09-10T18:20:07.685Z"
   },
   {
    "duration": 9,
    "start_time": "2022-09-10T18:21:14.797Z"
   },
   {
    "duration": 9,
    "start_time": "2022-09-10T18:21:21.245Z"
   },
   {
    "duration": 14,
    "start_time": "2022-09-10T18:21:29.050Z"
   },
   {
    "duration": 13,
    "start_time": "2022-09-10T18:22:14.344Z"
   },
   {
    "duration": 25,
    "start_time": "2022-09-10T18:22:35.283Z"
   },
   {
    "duration": 13,
    "start_time": "2022-09-10T18:24:17.408Z"
   },
   {
    "duration": 2584,
    "start_time": "2022-09-10T18:27:01.033Z"
   },
   {
    "duration": 15,
    "start_time": "2022-09-10T18:28:20.361Z"
   },
   {
    "duration": 18,
    "start_time": "2022-09-10T18:28:38.060Z"
   },
   {
    "duration": 2525,
    "start_time": "2022-09-10T18:28:47.521Z"
   },
   {
    "duration": 1524,
    "start_time": "2022-09-10T18:44:47.374Z"
   },
   {
    "duration": 1400,
    "start_time": "2022-09-10T18:45:34.242Z"
   },
   {
    "duration": 1453,
    "start_time": "2022-09-10T18:45:42.806Z"
   },
   {
    "duration": 121,
    "start_time": "2022-09-10T18:47:02.665Z"
   },
   {
    "duration": 1465,
    "start_time": "2022-09-10T18:48:21.929Z"
   },
   {
    "duration": 1691,
    "start_time": "2022-09-10T18:48:30.746Z"
   },
   {
    "duration": 1650,
    "start_time": "2022-09-10T18:50:41.434Z"
   },
   {
    "duration": 1749,
    "start_time": "2022-09-10T18:50:58.597Z"
   },
   {
    "duration": 18,
    "start_time": "2022-09-10T18:54:16.827Z"
   },
   {
    "duration": 17,
    "start_time": "2022-09-10T18:54:27.397Z"
   },
   {
    "duration": 16,
    "start_time": "2022-09-10T18:54:56.417Z"
   },
   {
    "duration": 13,
    "start_time": "2022-09-10T18:55:06.147Z"
   },
   {
    "duration": 14,
    "start_time": "2022-09-10T18:55:12.351Z"
   },
   {
    "duration": 15,
    "start_time": "2022-09-10T18:55:17.951Z"
   },
   {
    "duration": 23,
    "start_time": "2022-09-10T18:55:31.500Z"
   },
   {
    "duration": 1355,
    "start_time": "2022-09-10T18:55:38.898Z"
   },
   {
    "duration": 164,
    "start_time": "2022-09-10T18:55:40.255Z"
   },
   {
    "duration": 16,
    "start_time": "2022-09-10T18:55:40.421Z"
   },
   {
    "duration": 37,
    "start_time": "2022-09-10T18:55:40.443Z"
   },
   {
    "duration": 148,
    "start_time": "2022-09-10T18:55:40.483Z"
   },
   {
    "duration": 0,
    "start_time": "2022-09-10T18:55:40.633Z"
   },
   {
    "duration": 2867,
    "start_time": "2022-09-10T18:56:04.143Z"
   },
   {
    "duration": 1669,
    "start_time": "2022-09-10T18:56:07.240Z"
   },
   {
    "duration": 1947,
    "start_time": "2022-09-10T18:56:16.051Z"
   },
   {
    "duration": 5084,
    "start_time": "2022-09-10T18:56:23.543Z"
   },
   {
    "duration": 3480,
    "start_time": "2022-09-10T18:56:56.200Z"
   },
   {
    "duration": 3330,
    "start_time": "2022-09-10T18:57:07.901Z"
   },
   {
    "duration": 3507,
    "start_time": "2022-09-10T18:57:15.537Z"
   },
   {
    "duration": 3441,
    "start_time": "2022-09-10T18:57:19.339Z"
   },
   {
    "duration": 1680,
    "start_time": "2022-09-10T18:57:31.145Z"
   },
   {
    "duration": 1697,
    "start_time": "2022-09-10T18:57:42.144Z"
   },
   {
    "duration": 1500,
    "start_time": "2022-09-11T11:51:49.733Z"
   },
   {
    "duration": 151,
    "start_time": "2022-09-11T11:51:51.235Z"
   },
   {
    "duration": 32,
    "start_time": "2022-09-11T11:51:51.388Z"
   },
   {
    "duration": 22,
    "start_time": "2022-09-11T11:51:51.424Z"
   },
   {
    "duration": 3276,
    "start_time": "2022-09-11T11:51:51.448Z"
   },
   {
    "duration": 1631,
    "start_time": "2022-09-11T11:51:54.725Z"
   },
   {
    "duration": 113,
    "start_time": "2022-09-11T11:55:21.091Z"
   },
   {
    "duration": 15,
    "start_time": "2022-09-11T11:55:46.315Z"
   },
   {
    "duration": 723,
    "start_time": "2022-09-11T11:59:57.284Z"
   },
   {
    "duration": 2018,
    "start_time": "2022-09-11T12:00:11.519Z"
   },
   {
    "duration": 18,
    "start_time": "2022-09-11T12:00:35.213Z"
   },
   {
    "duration": 51,
    "start_time": "2022-09-11T12:07:37.710Z"
   },
   {
    "duration": 16,
    "start_time": "2022-09-11T12:07:45.145Z"
   },
   {
    "duration": 15,
    "start_time": "2022-09-11T12:11:13.752Z"
   },
   {
    "duration": 21,
    "start_time": "2022-09-11T12:13:15.330Z"
   },
   {
    "duration": 14,
    "start_time": "2022-09-11T12:13:23.296Z"
   },
   {
    "duration": 26,
    "start_time": "2022-09-11T12:13:40.597Z"
   },
   {
    "duration": 26,
    "start_time": "2022-09-11T12:13:46.118Z"
   },
   {
    "duration": 15,
    "start_time": "2022-09-11T12:13:55.730Z"
   },
   {
    "duration": 14,
    "start_time": "2022-09-11T12:14:26.466Z"
   },
   {
    "duration": 19,
    "start_time": "2022-09-11T12:17:42.292Z"
   },
   {
    "duration": 17,
    "start_time": "2022-09-11T12:17:53.815Z"
   },
   {
    "duration": 18,
    "start_time": "2022-09-11T12:18:42.790Z"
   },
   {
    "duration": 61,
    "start_time": "2022-09-11T12:22:44.108Z"
   },
   {
    "duration": 55,
    "start_time": "2022-09-11T12:23:02.844Z"
   },
   {
    "duration": 57,
    "start_time": "2022-09-11T12:23:16.571Z"
   },
   {
    "duration": 21,
    "start_time": "2022-09-11T12:23:22.970Z"
   },
   {
    "duration": 20,
    "start_time": "2022-09-11T12:23:47.320Z"
   },
   {
    "duration": 15,
    "start_time": "2022-09-11T12:24:32.702Z"
   },
   {
    "duration": 13,
    "start_time": "2022-09-11T12:24:43.923Z"
   },
   {
    "duration": 23,
    "start_time": "2022-09-11T12:25:01.774Z"
   },
   {
    "duration": 18,
    "start_time": "2022-09-11T12:26:19.850Z"
   },
   {
    "duration": 14,
    "start_time": "2022-09-11T12:26:56.299Z"
   },
   {
    "duration": 13,
    "start_time": "2022-09-11T12:27:15.524Z"
   },
   {
    "duration": 13,
    "start_time": "2022-09-11T12:27:29.992Z"
   },
   {
    "duration": 14,
    "start_time": "2022-09-11T12:27:55.931Z"
   },
   {
    "duration": 15,
    "start_time": "2022-09-11T12:28:01.529Z"
   },
   {
    "duration": 13,
    "start_time": "2022-09-11T12:34:40.471Z"
   },
   {
    "duration": 1405,
    "start_time": "2022-09-11T12:38:41.972Z"
   },
   {
    "duration": 2516,
    "start_time": "2022-09-11T12:39:56.692Z"
   },
   {
    "duration": 2024,
    "start_time": "2022-09-11T12:40:13.986Z"
   },
   {
    "duration": 2080,
    "start_time": "2022-09-11T12:40:57.677Z"
   },
   {
    "duration": 2032,
    "start_time": "2022-09-11T12:42:50.400Z"
   },
   {
    "duration": 1915,
    "start_time": "2022-09-11T12:43:05.275Z"
   },
   {
    "duration": 2764,
    "start_time": "2022-09-11T12:43:27.988Z"
   },
   {
    "duration": 2716,
    "start_time": "2022-09-11T12:44:03.227Z"
   },
   {
    "duration": 2420,
    "start_time": "2022-09-11T12:44:51.393Z"
   },
   {
    "duration": 1685,
    "start_time": "2022-09-11T12:45:25.279Z"
   },
   {
    "duration": 1867,
    "start_time": "2022-09-11T12:45:58.487Z"
   },
   {
    "duration": 2243,
    "start_time": "2022-09-11T12:46:29.783Z"
   },
   {
    "duration": 2446,
    "start_time": "2022-09-11T12:47:21.365Z"
   },
   {
    "duration": 2288,
    "start_time": "2022-09-11T12:47:34.815Z"
   },
   {
    "duration": 2706,
    "start_time": "2022-09-11T12:49:36.720Z"
   },
   {
    "duration": 47,
    "start_time": "2022-09-11T12:50:31.127Z"
   },
   {
    "duration": 2612,
    "start_time": "2022-09-11T12:54:11.884Z"
   },
   {
    "duration": 2678,
    "start_time": "2022-09-11T12:54:27.000Z"
   },
   {
    "duration": 2878,
    "start_time": "2022-09-11T12:55:25.677Z"
   },
   {
    "duration": 2670,
    "start_time": "2022-09-11T12:55:39.574Z"
   },
   {
    "duration": 1518,
    "start_time": "2022-09-11T13:00:01.862Z"
   },
   {
    "duration": 1704,
    "start_time": "2022-09-11T13:00:18.711Z"
   },
   {
    "duration": 4,
    "start_time": "2022-09-11T13:19:02.972Z"
   },
   {
    "duration": 228,
    "start_time": "2022-09-11T13:19:02.978Z"
   },
   {
    "duration": 17,
    "start_time": "2022-09-11T13:19:03.207Z"
   },
   {
    "duration": 26,
    "start_time": "2022-09-11T13:19:03.226Z"
   },
   {
    "duration": 2518,
    "start_time": "2022-09-11T13:19:03.253Z"
   },
   {
    "duration": 1844,
    "start_time": "2022-09-11T13:19:06.398Z"
   },
   {
    "duration": 54,
    "start_time": "2022-09-11T13:22:07.985Z"
   },
   {
    "duration": 14,
    "start_time": "2022-09-11T13:22:34.038Z"
   },
   {
    "duration": 15,
    "start_time": "2022-09-11T13:23:21.891Z"
   },
   {
    "duration": 9,
    "start_time": "2022-09-11T13:33:59.178Z"
   },
   {
    "duration": 252,
    "start_time": "2022-09-11T13:34:45.079Z"
   },
   {
    "duration": 102,
    "start_time": "2022-09-11T13:34:45.333Z"
   },
   {
    "duration": 13,
    "start_time": "2022-09-11T13:34:45.437Z"
   },
   {
    "duration": 15,
    "start_time": "2022-09-11T13:34:45.452Z"
   },
   {
    "duration": 2738,
    "start_time": "2022-09-11T13:34:45.469Z"
   },
   {
    "duration": 1792,
    "start_time": "2022-09-11T13:34:48.209Z"
   },
   {
    "duration": 7,
    "start_time": "2022-09-11T13:34:50.002Z"
   },
   {
    "duration": 6,
    "start_time": "2022-09-11T13:36:12.261Z"
   },
   {
    "duration": 13,
    "start_time": "2022-09-11T13:40:55.227Z"
   },
   {
    "duration": 5,
    "start_time": "2022-09-11T14:00:49.345Z"
   },
   {
    "duration": 20,
    "start_time": "2022-09-11T14:01:00.700Z"
   },
   {
    "duration": 131,
    "start_time": "2022-09-11T14:01:21.232Z"
   },
   {
    "duration": 46,
    "start_time": "2022-09-11T14:01:25.766Z"
   },
   {
    "duration": 11,
    "start_time": "2022-09-11T14:01:31.118Z"
   },
   {
    "duration": 1451,
    "start_time": "2022-09-11T14:01:58.220Z"
   },
   {
    "duration": 110,
    "start_time": "2022-09-11T14:01:59.674Z"
   },
   {
    "duration": 36,
    "start_time": "2022-09-11T14:01:59.787Z"
   },
   {
    "duration": 18,
    "start_time": "2022-09-11T14:01:59.825Z"
   },
   {
    "duration": 2230,
    "start_time": "2022-09-11T14:01:59.845Z"
   },
   {
    "duration": 1488,
    "start_time": "2022-09-11T14:02:02.077Z"
   },
   {
    "duration": 17,
    "start_time": "2022-09-11T14:02:03.567Z"
   },
   {
    "duration": 14,
    "start_time": "2022-09-11T14:02:03.586Z"
   },
   {
    "duration": 4,
    "start_time": "2022-09-11T14:03:25.476Z"
   },
   {
    "duration": 527,
    "start_time": "2022-09-11T14:04:34.943Z"
   },
   {
    "duration": 118,
    "start_time": "2022-09-11T14:06:41.625Z"
   },
   {
    "duration": 12,
    "start_time": "2022-09-11T14:06:48.900Z"
   },
   {
    "duration": 13,
    "start_time": "2022-09-11T14:07:02.166Z"
   },
   {
    "duration": 580,
    "start_time": "2022-09-11T14:07:15.807Z"
   },
   {
    "duration": 568,
    "start_time": "2022-09-11T14:09:27.317Z"
   },
   {
    "duration": 556,
    "start_time": "2022-09-11T14:09:37.092Z"
   },
   {
    "duration": 580,
    "start_time": "2022-09-11T14:09:50.187Z"
   },
   {
    "duration": 559,
    "start_time": "2022-09-11T14:09:59.928Z"
   },
   {
    "duration": 60,
    "start_time": "2022-09-11T14:10:20.891Z"
   },
   {
    "duration": 563,
    "start_time": "2022-09-11T14:10:23.770Z"
   },
   {
    "duration": 570,
    "start_time": "2022-09-11T14:12:11.085Z"
   },
   {
    "duration": 512,
    "start_time": "2022-09-11T14:12:23.447Z"
   },
   {
    "duration": 580,
    "start_time": "2022-09-11T14:13:03.571Z"
   },
   {
    "duration": 575,
    "start_time": "2022-09-11T14:13:13.100Z"
   },
   {
    "duration": 597,
    "start_time": "2022-09-11T14:13:52.395Z"
   },
   {
    "duration": 551,
    "start_time": "2022-09-11T14:14:36.028Z"
   },
   {
    "duration": 548,
    "start_time": "2022-09-11T14:14:47.202Z"
   },
   {
    "duration": 511,
    "start_time": "2022-09-11T14:24:34.460Z"
   },
   {
    "duration": 556,
    "start_time": "2022-09-11T14:24:57.804Z"
   },
   {
    "duration": 17,
    "start_time": "2022-09-11T14:28:27.299Z"
   },
   {
    "duration": 59,
    "start_time": "2022-09-11T14:29:26.905Z"
   },
   {
    "duration": 49,
    "start_time": "2022-09-11T14:29:34.429Z"
   },
   {
    "duration": 551,
    "start_time": "2022-09-11T14:29:43.718Z"
   },
   {
    "duration": 1169,
    "start_time": "2022-09-11T14:30:59.290Z"
   },
   {
    "duration": 524,
    "start_time": "2022-09-11T14:31:16.550Z"
   },
   {
    "duration": 13,
    "start_time": "2022-09-11T14:31:25.966Z"
   },
   {
    "duration": 581,
    "start_time": "2022-09-11T14:31:37.604Z"
   },
   {
    "duration": 1630,
    "start_time": "2022-09-11T14:33:19.896Z"
   },
   {
    "duration": 541,
    "start_time": "2022-09-11T14:35:02.820Z"
   },
   {
    "duration": 4,
    "start_time": "2022-09-11T14:35:11.132Z"
   },
   {
    "duration": 111,
    "start_time": "2022-09-11T14:35:11.138Z"
   },
   {
    "duration": 13,
    "start_time": "2022-09-11T14:35:11.251Z"
   },
   {
    "duration": 17,
    "start_time": "2022-09-11T14:35:11.266Z"
   },
   {
    "duration": 2596,
    "start_time": "2022-09-11T14:35:11.284Z"
   },
   {
    "duration": 1672,
    "start_time": "2022-09-11T14:35:13.882Z"
   },
   {
    "duration": 13,
    "start_time": "2022-09-11T14:35:15.555Z"
   },
   {
    "duration": 705,
    "start_time": "2022-09-11T14:35:15.996Z"
   },
   {
    "duration": 618,
    "start_time": "2022-09-11T14:35:32.744Z"
   },
   {
    "duration": 536,
    "start_time": "2022-09-11T14:35:53.452Z"
   },
   {
    "duration": 558,
    "start_time": "2022-09-11T14:44:21.920Z"
   },
   {
    "duration": 587,
    "start_time": "2022-09-11T14:47:30.619Z"
   },
   {
    "duration": 20,
    "start_time": "2022-09-11T17:18:12.314Z"
   },
   {
    "duration": 12,
    "start_time": "2022-09-11T17:18:24.237Z"
   },
   {
    "duration": 12,
    "start_time": "2022-09-11T17:18:32.935Z"
   },
   {
    "duration": 8,
    "start_time": "2022-09-11T17:18:47.686Z"
   },
   {
    "duration": 10,
    "start_time": "2022-09-11T17:21:17.009Z"
   },
   {
    "duration": 4,
    "start_time": "2022-09-11T17:21:23.972Z"
   },
   {
    "duration": 123,
    "start_time": "2022-09-11T17:21:23.978Z"
   },
   {
    "duration": 30,
    "start_time": "2022-09-11T17:21:24.103Z"
   },
   {
    "duration": 20,
    "start_time": "2022-09-11T17:21:24.134Z"
   },
   {
    "duration": 2661,
    "start_time": "2022-09-11T17:21:24.156Z"
   },
   {
    "duration": 1871,
    "start_time": "2022-09-11T17:21:26.821Z"
   },
   {
    "duration": 31,
    "start_time": "2022-09-11T17:21:28.694Z"
   },
   {
    "duration": 629,
    "start_time": "2022-09-11T17:21:28.727Z"
   },
   {
    "duration": 22,
    "start_time": "2022-09-11T17:21:29.358Z"
   },
   {
    "duration": 633,
    "start_time": "2022-09-11T17:21:29.382Z"
   },
   {
    "duration": 5,
    "start_time": "2022-09-11T17:26:49.373Z"
   },
   {
    "duration": 144,
    "start_time": "2022-09-11T17:26:49.381Z"
   },
   {
    "duration": 18,
    "start_time": "2022-09-11T17:26:49.528Z"
   },
   {
    "duration": 19,
    "start_time": "2022-09-11T17:26:49.548Z"
   },
   {
    "duration": 2809,
    "start_time": "2022-09-11T17:26:49.569Z"
   },
   {
    "duration": 1889,
    "start_time": "2022-09-11T17:26:52.381Z"
   },
   {
    "duration": 14,
    "start_time": "2022-09-11T17:26:54.272Z"
   },
   {
    "duration": 611,
    "start_time": "2022-09-11T17:26:54.289Z"
   },
   {
    "duration": 18,
    "start_time": "2022-09-11T17:26:54.903Z"
   },
   {
    "duration": 124405,
    "start_time": "2022-09-11T17:26:54.923Z"
   },
   {
    "duration": 11,
    "start_time": "2022-09-11T17:29:20.796Z"
   },
   {
    "duration": 87397,
    "start_time": "2022-09-11T17:29:53.918Z"
   },
   {
    "duration": 0,
    "start_time": "2022-09-11T17:31:21.321Z"
   },
   {
    "duration": 1477,
    "start_time": "2022-09-11T17:32:26.224Z"
   },
   {
    "duration": 111,
    "start_time": "2022-09-11T17:32:27.703Z"
   },
   {
    "duration": 17,
    "start_time": "2022-09-11T17:32:27.816Z"
   },
   {
    "duration": 43,
    "start_time": "2022-09-11T17:32:27.836Z"
   },
   {
    "duration": 2398,
    "start_time": "2022-09-11T17:32:27.881Z"
   },
   {
    "duration": 1543,
    "start_time": "2022-09-11T17:32:30.281Z"
   },
   {
    "duration": 14,
    "start_time": "2022-09-11T17:32:31.826Z"
   },
   {
    "duration": 539,
    "start_time": "2022-09-11T17:32:31.842Z"
   },
   {
    "duration": 17,
    "start_time": "2022-09-11T17:32:32.383Z"
   },
   {
    "duration": 124697,
    "start_time": "2022-09-11T17:32:32.402Z"
   },
   {
    "duration": 4,
    "start_time": "2022-09-11T17:34:37.101Z"
   },
   {
    "duration": 15,
    "start_time": "2022-09-11T17:45:12.726Z"
   },
   {
    "duration": 16,
    "start_time": "2022-09-11T17:45:17.807Z"
   },
   {
    "duration": 123,
    "start_time": "2022-09-11T17:57:20.545Z"
   },
   {
    "duration": 1543,
    "start_time": "2022-09-11T17:58:38.936Z"
   },
   {
    "duration": 111,
    "start_time": "2022-09-11T17:58:40.482Z"
   },
   {
    "duration": 31,
    "start_time": "2022-09-11T17:58:40.595Z"
   },
   {
    "duration": 16,
    "start_time": "2022-09-11T17:58:40.628Z"
   },
   {
    "duration": 2313,
    "start_time": "2022-09-11T17:58:40.646Z"
   },
   {
    "duration": 1476,
    "start_time": "2022-09-11T17:58:42.961Z"
   },
   {
    "duration": 19,
    "start_time": "2022-09-11T17:58:44.439Z"
   },
   {
    "duration": 529,
    "start_time": "2022-09-11T17:58:44.460Z"
   },
   {
    "duration": 12,
    "start_time": "2022-09-11T17:58:44.992Z"
   },
   {
    "duration": 125354,
    "start_time": "2022-09-11T17:58:45.020Z"
   },
   {
    "duration": 148,
    "start_time": "2022-09-11T18:00:50.375Z"
   },
   {
    "duration": 1307,
    "start_time": "2022-09-11T18:03:07.416Z"
   },
   {
    "duration": 6,
    "start_time": "2022-09-11T18:03:40.847Z"
   },
   {
    "duration": 132,
    "start_time": "2022-09-11T18:03:40.856Z"
   },
   {
    "duration": 42,
    "start_time": "2022-09-11T18:03:40.990Z"
   },
   {
    "duration": 26,
    "start_time": "2022-09-11T18:03:41.034Z"
   },
   {
    "duration": 3728,
    "start_time": "2022-09-11T18:03:41.062Z"
   },
   {
    "duration": 2207,
    "start_time": "2022-09-11T18:03:44.793Z"
   },
   {
    "duration": 35,
    "start_time": "2022-09-11T18:03:47.002Z"
   },
   {
    "duration": 635,
    "start_time": "2022-09-11T18:03:47.040Z"
   },
   {
    "duration": 14,
    "start_time": "2022-09-11T18:03:47.678Z"
   },
   {
    "duration": 147353,
    "start_time": "2022-09-11T18:03:47.694Z"
   },
   {
    "duration": 51423,
    "start_time": "2022-09-11T18:06:15.052Z"
   },
   {
    "duration": 47267,
    "start_time": "2022-09-11T18:11:07.772Z"
   },
   {
    "duration": 1711,
    "start_time": "2022-09-12T04:02:08.835Z"
   },
   {
    "duration": 0,
    "start_time": "2022-09-12T04:02:10.548Z"
   },
   {
    "duration": 0,
    "start_time": "2022-09-12T04:02:10.549Z"
   },
   {
    "duration": 0,
    "start_time": "2022-09-12T04:02:10.551Z"
   },
   {
    "duration": 0,
    "start_time": "2022-09-12T04:02:10.552Z"
   },
   {
    "duration": 0,
    "start_time": "2022-09-12T04:02:10.553Z"
   },
   {
    "duration": 0,
    "start_time": "2022-09-12T04:02:10.554Z"
   },
   {
    "duration": 0,
    "start_time": "2022-09-12T04:02:10.556Z"
   },
   {
    "duration": 0,
    "start_time": "2022-09-12T04:02:10.558Z"
   },
   {
    "duration": 0,
    "start_time": "2022-09-12T04:02:10.559Z"
   },
   {
    "duration": 0,
    "start_time": "2022-09-12T04:02:10.561Z"
   },
   {
    "duration": 4,
    "start_time": "2022-09-12T04:05:07.816Z"
   },
   {
    "duration": 157,
    "start_time": "2022-09-12T04:05:07.822Z"
   },
   {
    "duration": 11,
    "start_time": "2022-09-12T04:05:07.981Z"
   },
   {
    "duration": 16,
    "start_time": "2022-09-12T04:05:07.995Z"
   },
   {
    "duration": 2169,
    "start_time": "2022-09-12T04:05:08.014Z"
   },
   {
    "duration": 1506,
    "start_time": "2022-09-12T04:05:10.186Z"
   },
   {
    "duration": 15,
    "start_time": "2022-09-12T04:05:11.694Z"
   },
   {
    "duration": 581,
    "start_time": "2022-09-12T04:05:11.711Z"
   },
   {
    "duration": 10,
    "start_time": "2022-09-12T04:05:12.294Z"
   },
   {
    "duration": 116170,
    "start_time": "2022-09-12T04:05:12.306Z"
   },
   {
    "duration": 39073,
    "start_time": "2022-09-12T04:07:08.477Z"
   },
   {
    "duration": 1641,
    "start_time": "2022-09-12T04:08:51.890Z"
   },
   {
    "duration": 1436,
    "start_time": "2022-09-12T04:11:04.446Z"
   },
   {
    "duration": 111,
    "start_time": "2022-09-12T04:11:05.884Z"
   },
   {
    "duration": 12,
    "start_time": "2022-09-12T04:11:05.997Z"
   },
   {
    "duration": 17,
    "start_time": "2022-09-12T04:11:06.011Z"
   },
   {
    "duration": 2422,
    "start_time": "2022-09-12T04:11:06.029Z"
   },
   {
    "duration": 1714,
    "start_time": "2022-09-12T04:11:08.458Z"
   },
   {
    "duration": 16,
    "start_time": "2022-09-12T04:11:10.174Z"
   },
   {
    "duration": 521,
    "start_time": "2022-09-12T04:11:10.192Z"
   },
   {
    "duration": 10,
    "start_time": "2022-09-12T04:11:10.714Z"
   },
   {
    "duration": 115804,
    "start_time": "2022-09-12T04:11:10.726Z"
   },
   {
    "duration": 39955,
    "start_time": "2022-09-12T04:13:06.531Z"
   },
   {
    "duration": 19,
    "start_time": "2022-09-12T04:16:38.878Z"
   },
   {
    "duration": 46,
    "start_time": "2022-09-12T04:16:52.594Z"
   },
   {
    "duration": 14,
    "start_time": "2022-09-12T04:16:59.984Z"
   },
   {
    "duration": 14,
    "start_time": "2022-09-12T04:17:21.635Z"
   },
   {
    "duration": 14,
    "start_time": "2022-09-12T04:18:55.639Z"
   },
   {
    "duration": 36,
    "start_time": "2022-09-12T04:19:16.174Z"
   },
   {
    "duration": 14,
    "start_time": "2022-09-12T04:19:22.754Z"
   },
   {
    "duration": 1495,
    "start_time": "2022-09-12T04:26:54.852Z"
   },
   {
    "duration": 36683,
    "start_time": "2022-09-12T04:27:52.073Z"
   },
   {
    "duration": 109,
    "start_time": "2022-09-12T04:32:05.715Z"
   },
   {
    "duration": 6,
    "start_time": "2022-09-12T04:32:32.189Z"
   },
   {
    "duration": 102,
    "start_time": "2022-09-12T04:32:32.198Z"
   },
   {
    "duration": 11,
    "start_time": "2022-09-12T04:32:32.302Z"
   },
   {
    "duration": 12,
    "start_time": "2022-09-12T04:32:32.314Z"
   },
   {
    "duration": 2346,
    "start_time": "2022-09-12T04:32:32.329Z"
   },
   {
    "duration": 1425,
    "start_time": "2022-09-12T04:32:34.677Z"
   },
   {
    "duration": 11,
    "start_time": "2022-09-12T04:32:36.103Z"
   },
   {
    "duration": 574,
    "start_time": "2022-09-12T04:32:36.116Z"
   },
   {
    "duration": 9,
    "start_time": "2022-09-12T04:32:36.691Z"
   },
   {
    "duration": 112881,
    "start_time": "2022-09-12T04:32:36.702Z"
   },
   {
    "duration": 1463,
    "start_time": "2022-09-12T04:34:29.584Z"
   },
   {
    "duration": 16,
    "start_time": "2022-09-12T04:34:31.049Z"
   },
   {
    "duration": 563,
    "start_time": "2022-09-12T04:34:31.066Z"
   },
   {
    "duration": 38561,
    "start_time": "2022-09-12T04:34:31.632Z"
   },
   {
    "duration": 16,
    "start_time": "2022-09-12T04:46:01.783Z"
   },
   {
    "duration": 14,
    "start_time": "2022-09-12T04:46:12.022Z"
   },
   {
    "duration": 15,
    "start_time": "2022-09-12T04:47:10.492Z"
   },
   {
    "duration": 13,
    "start_time": "2022-09-12T04:47:17.458Z"
   },
   {
    "duration": 8,
    "start_time": "2022-09-12T04:48:08.395Z"
   },
   {
    "duration": 62,
    "start_time": "2022-09-12T04:50:30.211Z"
   },
   {
    "duration": 12,
    "start_time": "2022-09-12T04:50:33.846Z"
   },
   {
    "duration": 9,
    "start_time": "2022-09-12T04:50:49.184Z"
   },
   {
    "duration": 10,
    "start_time": "2022-09-12T04:53:54.438Z"
   },
   {
    "duration": 10,
    "start_time": "2022-09-12T04:54:42.247Z"
   },
   {
    "duration": 4,
    "start_time": "2022-09-12T04:55:05.698Z"
   },
   {
    "duration": 3,
    "start_time": "2022-09-12T04:55:12.595Z"
   },
   {
    "duration": 10,
    "start_time": "2022-09-12T04:55:29.828Z"
   },
   {
    "duration": 12,
    "start_time": "2022-09-12T04:55:40.209Z"
   },
   {
    "duration": 10,
    "start_time": "2022-09-12T04:56:45.202Z"
   },
   {
    "duration": 10,
    "start_time": "2022-09-12T04:57:04.823Z"
   },
   {
    "duration": 47,
    "start_time": "2022-09-12T04:57:33.649Z"
   },
   {
    "duration": 10,
    "start_time": "2022-09-12T04:57:38.337Z"
   },
   {
    "duration": 9,
    "start_time": "2022-09-12T04:57:57.316Z"
   },
   {
    "duration": 187,
    "start_time": "2022-09-12T04:58:20.810Z"
   },
   {
    "duration": 6,
    "start_time": "2022-09-12T04:59:40.085Z"
   },
   {
    "duration": 100,
    "start_time": "2022-09-12T04:59:40.094Z"
   },
   {
    "duration": 14,
    "start_time": "2022-09-12T04:59:40.195Z"
   },
   {
    "duration": 35,
    "start_time": "2022-09-12T04:59:40.212Z"
   },
   {
    "duration": 2315,
    "start_time": "2022-09-12T04:59:40.249Z"
   },
   {
    "duration": 1462,
    "start_time": "2022-09-12T04:59:42.566Z"
   },
   {
    "duration": 18,
    "start_time": "2022-09-12T04:59:44.029Z"
   },
   {
    "duration": 509,
    "start_time": "2022-09-12T04:59:44.049Z"
   },
   {
    "duration": 11,
    "start_time": "2022-09-12T04:59:44.560Z"
   },
   {
    "duration": 111071,
    "start_time": "2022-09-12T04:59:44.574Z"
   },
   {
    "duration": 1505,
    "start_time": "2022-09-12T05:01:35.647Z"
   },
   {
    "duration": 23,
    "start_time": "2022-09-12T05:01:37.154Z"
   },
   {
    "duration": 560,
    "start_time": "2022-09-12T05:01:37.179Z"
   },
   {
    "duration": 38323,
    "start_time": "2022-09-12T05:01:37.741Z"
   },
   {
    "duration": 10,
    "start_time": "2022-09-12T05:02:16.066Z"
   },
   {
    "duration": 273,
    "start_time": "2022-09-12T05:02:16.078Z"
   },
   {
    "duration": 338,
    "start_time": "2022-09-12T05:02:29.754Z"
   },
   {
    "duration": 11,
    "start_time": "2022-09-12T05:03:05.136Z"
   },
   {
    "duration": 13,
    "start_time": "2022-09-12T06:21:48.625Z"
   },
   {
    "duration": 12,
    "start_time": "2022-09-12T06:21:58.672Z"
   },
   {
    "duration": 4,
    "start_time": "2022-09-12T07:00:30.276Z"
   },
   {
    "duration": 109,
    "start_time": "2022-09-12T07:00:30.283Z"
   },
   {
    "duration": 13,
    "start_time": "2022-09-12T07:00:30.394Z"
   },
   {
    "duration": 35,
    "start_time": "2022-09-12T07:00:30.409Z"
   },
   {
    "duration": 42,
    "start_time": "2022-09-12T07:00:30.449Z"
   },
   {
    "duration": 1687,
    "start_time": "2022-09-12T07:00:30.493Z"
   },
   {
    "duration": 13,
    "start_time": "2022-09-12T07:00:32.182Z"
   },
   {
    "duration": 491,
    "start_time": "2022-09-12T07:00:32.196Z"
   },
   {
    "duration": 12,
    "start_time": "2022-09-12T07:00:32.689Z"
   },
   {
    "duration": 119123,
    "start_time": "2022-09-12T07:00:32.703Z"
   },
   {
    "duration": 1321,
    "start_time": "2022-09-12T07:02:31.827Z"
   },
   {
    "duration": 18,
    "start_time": "2022-09-12T07:02:33.152Z"
   },
   {
    "duration": 489,
    "start_time": "2022-09-12T07:02:33.172Z"
   },
   {
    "duration": 41004,
    "start_time": "2022-09-12T07:02:33.665Z"
   },
   {
    "duration": 11,
    "start_time": "2022-09-12T07:03:14.671Z"
   },
   {
    "duration": 16,
    "start_time": "2022-09-12T07:03:14.684Z"
   },
   {
    "duration": 3168,
    "start_time": "2022-09-12T15:29:22.451Z"
   },
   {
    "duration": 3023,
    "start_time": "2022-09-12T15:29:39.243Z"
   },
   {
    "duration": 2887,
    "start_time": "2022-09-12T15:30:20.474Z"
   },
   {
    "duration": 3228,
    "start_time": "2022-09-12T15:31:08.459Z"
   },
   {
    "duration": 3131,
    "start_time": "2022-09-12T15:31:41.000Z"
   },
   {
    "duration": 3264,
    "start_time": "2022-09-12T15:33:44.006Z"
   },
   {
    "duration": 1525,
    "start_time": "2022-09-12T15:38:18.634Z"
   },
   {
    "duration": 1915,
    "start_time": "2022-09-12T15:38:47.509Z"
   },
   {
    "duration": 1543,
    "start_time": "2022-09-12T15:39:11.289Z"
   },
   {
    "duration": 1673,
    "start_time": "2022-09-12T15:39:22.893Z"
   },
   {
    "duration": 1844,
    "start_time": "2022-09-12T15:40:02.782Z"
   },
   {
    "duration": 1617,
    "start_time": "2022-09-12T15:40:23.655Z"
   },
   {
    "duration": 1473,
    "start_time": "2022-09-12T15:41:19.760Z"
   },
   {
    "duration": 1386,
    "start_time": "2022-09-12T15:42:21.775Z"
   },
   {
    "duration": 1548,
    "start_time": "2022-09-12T15:42:32.672Z"
   },
   {
    "duration": 1417,
    "start_time": "2022-09-12T15:42:51.464Z"
   },
   {
    "duration": 1506,
    "start_time": "2022-09-12T15:43:51.808Z"
   },
   {
    "duration": 1423,
    "start_time": "2022-09-12T15:44:02.389Z"
   },
   {
    "duration": 1983,
    "start_time": "2022-09-12T15:44:15.543Z"
   },
   {
    "duration": 1463,
    "start_time": "2022-09-12T15:45:52.881Z"
   },
   {
    "duration": 1027,
    "start_time": "2022-09-12T15:47:12.786Z"
   },
   {
    "duration": 1173,
    "start_time": "2022-09-12T15:47:32.970Z"
   },
   {
    "duration": 946,
    "start_time": "2022-09-12T15:47:44.120Z"
   },
   {
    "duration": 992,
    "start_time": "2022-09-12T15:48:18.582Z"
   },
   {
    "duration": 1136,
    "start_time": "2022-09-12T15:48:25.263Z"
   },
   {
    "duration": 953,
    "start_time": "2022-09-12T15:48:31.278Z"
   },
   {
    "duration": 1439,
    "start_time": "2022-09-12T15:48:42.865Z"
   },
   {
    "duration": 1561,
    "start_time": "2022-09-12T15:51:52.240Z"
   },
   {
    "duration": 1427,
    "start_time": "2022-09-12T15:52:16.354Z"
   },
   {
    "duration": 1427,
    "start_time": "2022-09-12T15:52:34.053Z"
   },
   {
    "duration": 1661,
    "start_time": "2022-09-12T15:52:47.348Z"
   },
   {
    "duration": 1404,
    "start_time": "2022-09-12T15:54:38.370Z"
   },
   {
    "duration": 1609,
    "start_time": "2022-09-12T15:56:53.745Z"
   },
   {
    "duration": 1480,
    "start_time": "2022-09-12T15:57:08.721Z"
   },
   {
    "duration": 1598,
    "start_time": "2022-09-12T15:57:21.276Z"
   },
   {
    "duration": 2721,
    "start_time": "2022-09-12T15:58:35.982Z"
   },
   {
    "duration": 2615,
    "start_time": "2022-09-12T15:58:55.972Z"
   },
   {
    "duration": 2326,
    "start_time": "2022-09-12T16:01:26.687Z"
   },
   {
    "duration": 2628,
    "start_time": "2022-09-12T16:01:52.384Z"
   },
   {
    "duration": 2249,
    "start_time": "2022-09-12T16:04:22.378Z"
   },
   {
    "duration": 2995,
    "start_time": "2022-09-12T16:08:08.135Z"
   },
   {
    "duration": 2355,
    "start_time": "2022-09-12T16:11:17.874Z"
   },
   {
    "duration": 2130,
    "start_time": "2022-09-12T16:11:53.900Z"
   },
   {
    "duration": 2386,
    "start_time": "2022-09-12T16:12:09.319Z"
   },
   {
    "duration": 47,
    "start_time": "2022-09-12T18:04:58.098Z"
   },
   {
    "duration": 1458,
    "start_time": "2022-09-12T18:05:40.726Z"
   },
   {
    "duration": 199,
    "start_time": "2022-09-12T18:05:42.186Z"
   },
   {
    "duration": 11,
    "start_time": "2022-09-12T18:05:42.386Z"
   },
   {
    "duration": 15,
    "start_time": "2022-09-12T18:05:42.399Z"
   },
   {
    "duration": 1638,
    "start_time": "2022-09-12T18:05:42.415Z"
   },
   {
    "duration": 1662,
    "start_time": "2022-09-12T18:05:49.736Z"
   },
   {
    "duration": 1911,
    "start_time": "2022-09-12T18:06:21.894Z"
   },
   {
    "duration": 1711,
    "start_time": "2022-09-12T18:08:34.303Z"
   },
   {
    "duration": 1808,
    "start_time": "2022-09-12T18:09:43.024Z"
   },
   {
    "duration": 1616,
    "start_time": "2022-09-12T18:10:05.036Z"
   },
   {
    "duration": 1772,
    "start_time": "2022-09-12T18:10:43.337Z"
   },
   {
    "duration": 1753,
    "start_time": "2022-09-12T18:11:25.752Z"
   },
   {
    "duration": 1731,
    "start_time": "2022-09-12T18:11:54.935Z"
   },
   {
    "duration": 1783,
    "start_time": "2022-09-12T18:12:25.437Z"
   },
   {
    "duration": 1742,
    "start_time": "2022-09-12T18:12:51.581Z"
   },
   {
    "duration": 1808,
    "start_time": "2022-09-12T18:13:26.564Z"
   },
   {
    "duration": 1634,
    "start_time": "2022-09-12T18:14:01.212Z"
   },
   {
    "duration": 1850,
    "start_time": "2022-09-12T18:14:21.287Z"
   },
   {
    "duration": 1848,
    "start_time": "2022-09-12T18:16:30.829Z"
   },
   {
    "duration": 2775,
    "start_time": "2022-09-12T18:18:30.687Z"
   },
   {
    "duration": 1830,
    "start_time": "2022-09-12T18:18:45.464Z"
   },
   {
    "duration": 1665,
    "start_time": "2022-09-12T18:27:07.861Z"
   },
   {
    "duration": 1769,
    "start_time": "2022-09-12T18:27:17.990Z"
   },
   {
    "duration": 124,
    "start_time": "2022-09-12T18:27:45.221Z"
   },
   {
    "duration": 1805,
    "start_time": "2022-09-12T18:27:54.212Z"
   },
   {
    "duration": 18,
    "start_time": "2022-09-12T18:30:27.994Z"
   },
   {
    "duration": 2762,
    "start_time": "2022-09-13T03:25:34.263Z"
   },
   {
    "duration": 148,
    "start_time": "2022-09-13T03:25:37.028Z"
   },
   {
    "duration": 11,
    "start_time": "2022-09-13T03:25:37.178Z"
   },
   {
    "duration": 40,
    "start_time": "2022-09-13T03:25:37.191Z"
   },
   {
    "duration": 1834,
    "start_time": "2022-09-13T03:25:37.233Z"
   },
   {
    "duration": 1534,
    "start_time": "2022-09-13T03:25:39.069Z"
   },
   {
    "duration": 19,
    "start_time": "2022-09-13T03:25:40.605Z"
   },
   {
    "duration": 516,
    "start_time": "2022-09-13T03:25:40.626Z"
   },
   {
    "duration": 9,
    "start_time": "2022-09-13T03:25:41.147Z"
   },
   {
    "duration": 104911,
    "start_time": "2022-09-13T03:25:41.158Z"
   },
   {
    "duration": 1058,
    "start_time": "2022-09-13T03:27:26.070Z"
   },
   {
    "duration": 99,
    "start_time": "2022-09-13T03:27:27.130Z"
   },
   {
    "duration": 552,
    "start_time": "2022-09-13T03:27:27.231Z"
   },
   {
    "duration": 36317,
    "start_time": "2022-09-13T03:27:27.785Z"
   },
   {
    "duration": 20,
    "start_time": "2022-09-13T03:28:04.103Z"
   },
   {
    "duration": 126,
    "start_time": "2022-09-13T03:28:04.125Z"
   },
   {
    "duration": 1922,
    "start_time": "2022-09-13T03:39:18.650Z"
   },
   {
    "duration": 1810,
    "start_time": "2022-09-13T03:39:44.404Z"
   },
   {
    "duration": 1969,
    "start_time": "2022-09-13T03:40:08.089Z"
   },
   {
    "duration": 1890,
    "start_time": "2022-09-13T03:42:49.606Z"
   },
   {
    "duration": 1951,
    "start_time": "2022-09-13T03:43:11.019Z"
   },
   {
    "duration": 1795,
    "start_time": "2022-09-13T03:49:06.437Z"
   },
   {
    "duration": 2044,
    "start_time": "2022-09-13T03:49:27.696Z"
   },
   {
    "duration": 1938,
    "start_time": "2022-09-13T03:50:12.801Z"
   },
   {
    "duration": 1939,
    "start_time": "2022-09-13T03:52:03.524Z"
   },
   {
    "duration": 1952,
    "start_time": "2022-09-13T03:52:26.600Z"
   },
   {
    "duration": 2005,
    "start_time": "2022-09-13T03:52:38.618Z"
   },
   {
    "duration": 1957,
    "start_time": "2022-09-13T03:53:20.442Z"
   },
   {
    "duration": 2073,
    "start_time": "2022-09-13T03:58:05.108Z"
   },
   {
    "duration": 2195,
    "start_time": "2022-09-13T04:00:52.605Z"
   },
   {
    "duration": 2014,
    "start_time": "2022-09-13T04:10:34.238Z"
   },
   {
    "duration": 3612,
    "start_time": "2022-09-13T04:11:01.830Z"
   },
   {
    "duration": 2062,
    "start_time": "2022-09-13T04:12:00.963Z"
   },
   {
    "duration": 1969,
    "start_time": "2022-09-13T04:12:21.248Z"
   },
   {
    "duration": 1813,
    "start_time": "2022-09-13T04:12:51.290Z"
   },
   {
    "duration": 2170,
    "start_time": "2022-09-13T04:13:34.435Z"
   },
   {
    "duration": 1994,
    "start_time": "2022-09-13T04:14:08.368Z"
   },
   {
    "duration": 1799,
    "start_time": "2022-09-13T04:14:45.136Z"
   },
   {
    "duration": 1990,
    "start_time": "2022-09-13T04:15:22.997Z"
   },
   {
    "duration": 1959,
    "start_time": "2022-09-13T04:15:39.709Z"
   },
   {
    "duration": 1878,
    "start_time": "2022-09-13T04:20:38.802Z"
   },
   {
    "duration": 1962,
    "start_time": "2022-09-13T04:20:50.815Z"
   },
   {
    "duration": 15,
    "start_time": "2022-09-13T04:21:18.104Z"
   },
   {
    "duration": 1999,
    "start_time": "2022-09-13T04:22:24.584Z"
   },
   {
    "duration": 1847,
    "start_time": "2022-09-13T04:25:04.020Z"
   },
   {
    "duration": 1934,
    "start_time": "2022-09-13T04:25:32.337Z"
   },
   {
    "duration": 1952,
    "start_time": "2022-09-13T04:25:53.251Z"
   },
   {
    "duration": 1953,
    "start_time": "2022-09-13T04:26:49.085Z"
   },
   {
    "duration": 1786,
    "start_time": "2022-09-13T04:27:41.433Z"
   },
   {
    "duration": 2142,
    "start_time": "2022-09-13T04:27:57.446Z"
   },
   {
    "duration": 1948,
    "start_time": "2022-09-13T04:32:33.415Z"
   },
   {
    "duration": 1782,
    "start_time": "2022-09-13T04:33:31.462Z"
   },
   {
    "duration": 51,
    "start_time": "2022-09-13T04:34:40.420Z"
   },
   {
    "duration": 63,
    "start_time": "2022-09-13T04:35:09.972Z"
   },
   {
    "duration": 48,
    "start_time": "2022-09-13T04:35:26.797Z"
   },
   {
    "duration": 2022,
    "start_time": "2022-09-13T04:35:47.669Z"
   },
   {
    "duration": 844,
    "start_time": "2022-09-13T04:42:15.050Z"
   },
   {
    "duration": 2317,
    "start_time": "2022-09-13T04:42:26.171Z"
   },
   {
    "duration": 1927,
    "start_time": "2022-09-13T04:43:04.091Z"
   },
   {
    "duration": 2088,
    "start_time": "2022-09-13T04:43:29.909Z"
   },
   {
    "duration": 1988,
    "start_time": "2022-09-13T04:43:46.289Z"
   },
   {
    "duration": 1991,
    "start_time": "2022-09-13T04:44:05.397Z"
   },
   {
    "duration": 1860,
    "start_time": "2022-09-13T04:44:34.929Z"
   },
   {
    "duration": 2039,
    "start_time": "2022-09-13T04:44:42.789Z"
   },
   {
    "duration": 2210,
    "start_time": "2022-09-13T04:46:44.715Z"
   },
   {
    "duration": 2128,
    "start_time": "2022-09-13T04:51:15.577Z"
   },
   {
    "duration": 2297,
    "start_time": "2022-09-13T04:51:25.985Z"
   },
   {
    "duration": 2149,
    "start_time": "2022-09-13T04:53:18.624Z"
   },
   {
    "duration": 2218,
    "start_time": "2022-09-13T04:54:01.255Z"
   },
   {
    "duration": 2473,
    "start_time": "2022-09-13T04:54:15.518Z"
   },
   {
    "duration": 2118,
    "start_time": "2022-09-13T04:54:35.014Z"
   },
   {
    "duration": 2984,
    "start_time": "2022-09-13T04:59:58.217Z"
   },
   {
    "duration": 2240,
    "start_time": "2022-09-13T05:00:13.383Z"
   },
   {
    "duration": 2108,
    "start_time": "2022-09-13T06:11:35.261Z"
   },
   {
    "duration": 4,
    "start_time": "2022-09-13T06:39:30.864Z"
   },
   {
    "duration": 117,
    "start_time": "2022-09-13T06:39:30.870Z"
   },
   {
    "duration": 12,
    "start_time": "2022-09-13T06:39:30.989Z"
   },
   {
    "duration": 30,
    "start_time": "2022-09-13T06:39:31.003Z"
   },
   {
    "duration": 1971,
    "start_time": "2022-09-13T06:39:31.035Z"
   },
   {
    "duration": 1587,
    "start_time": "2022-09-13T06:39:33.007Z"
   },
   {
    "duration": 28,
    "start_time": "2022-09-13T06:39:34.596Z"
   },
   {
    "duration": 515,
    "start_time": "2022-09-13T06:39:34.625Z"
   },
   {
    "duration": 9,
    "start_time": "2022-09-13T06:39:35.141Z"
   },
   {
    "duration": 104589,
    "start_time": "2022-09-13T06:39:35.151Z"
   },
   {
    "duration": 1280,
    "start_time": "2022-09-13T06:41:19.742Z"
   },
   {
    "duration": 14,
    "start_time": "2022-09-13T06:41:21.024Z"
   },
   {
    "duration": 554,
    "start_time": "2022-09-13T06:41:21.040Z"
   },
   {
    "duration": 35169,
    "start_time": "2022-09-13T06:41:21.596Z"
   },
   {
    "duration": 11,
    "start_time": "2022-09-13T06:41:56.766Z"
   },
   {
    "duration": 17,
    "start_time": "2022-09-13T06:41:56.778Z"
   },
   {
    "duration": 11,
    "start_time": "2022-09-13T06:44:46.401Z"
   },
   {
    "duration": 1504,
    "start_time": "2022-09-14T03:25:07.181Z"
   },
   {
    "duration": 137,
    "start_time": "2022-09-14T03:25:08.687Z"
   },
   {
    "duration": 13,
    "start_time": "2022-09-14T03:25:08.826Z"
   },
   {
    "duration": 17,
    "start_time": "2022-09-14T03:25:08.841Z"
   },
   {
    "duration": 1870,
    "start_time": "2022-09-14T03:25:08.860Z"
   },
   {
    "duration": 1474,
    "start_time": "2022-09-14T03:25:10.732Z"
   },
   {
    "duration": 19,
    "start_time": "2022-09-14T03:25:12.207Z"
   },
   {
    "duration": 504,
    "start_time": "2022-09-14T03:25:12.227Z"
   },
   {
    "duration": 10,
    "start_time": "2022-09-14T03:25:12.732Z"
   },
   {
    "duration": 106228,
    "start_time": "2022-09-14T03:25:12.744Z"
   },
   {
    "duration": 1057,
    "start_time": "2022-09-14T03:26:58.973Z"
   },
   {
    "duration": 14,
    "start_time": "2022-09-14T03:27:00.122Z"
   },
   {
    "duration": 553,
    "start_time": "2022-09-14T03:27:00.138Z"
   },
   {
    "duration": 36166,
    "start_time": "2022-09-14T03:27:00.693Z"
   },
   {
    "duration": 11,
    "start_time": "2022-09-14T03:27:36.861Z"
   },
   {
    "duration": 148,
    "start_time": "2022-09-14T03:27:36.874Z"
   },
   {
    "duration": 13,
    "start_time": "2022-09-14T03:27:40.829Z"
   },
   {
    "duration": 7,
    "start_time": "2022-09-14T03:34:32.739Z"
   },
   {
    "duration": 2304,
    "start_time": "2022-09-14T03:34:36.811Z"
   },
   {
    "duration": 1981,
    "start_time": "2022-09-14T03:35:11.000Z"
   },
   {
    "duration": 7,
    "start_time": "2022-09-14T03:36:41.801Z"
   },
   {
    "duration": 2152,
    "start_time": "2022-09-14T03:36:51.831Z"
   },
   {
    "duration": 2011,
    "start_time": "2022-09-14T03:37:26.575Z"
   },
   {
    "duration": 2142,
    "start_time": "2022-09-14T03:37:46.752Z"
   },
   {
    "duration": 2315,
    "start_time": "2022-09-14T03:37:52.193Z"
   },
   {
    "duration": 2032,
    "start_time": "2022-09-14T03:38:25.702Z"
   },
   {
    "duration": 2167,
    "start_time": "2022-09-14T03:38:37.401Z"
   },
   {
    "duration": 2221,
    "start_time": "2022-09-14T03:38:47.203Z"
   },
   {
    "duration": 1999,
    "start_time": "2022-09-14T03:39:30.407Z"
   },
   {
    "duration": 2153,
    "start_time": "2022-09-14T03:39:34.909Z"
   },
   {
    "duration": 2230,
    "start_time": "2022-09-14T03:39:49.936Z"
   },
   {
    "duration": 2281,
    "start_time": "2022-09-14T03:41:06.975Z"
   },
   {
    "duration": 2096,
    "start_time": "2022-09-14T03:43:49.875Z"
   },
   {
    "duration": 2068,
    "start_time": "2022-09-14T03:44:12.096Z"
   },
   {
    "duration": 1955,
    "start_time": "2022-09-14T03:44:49.290Z"
   },
   {
    "duration": 2296,
    "start_time": "2022-09-14T03:46:27.029Z"
   },
   {
    "duration": 2080,
    "start_time": "2022-09-14T03:46:50.395Z"
   },
   {
    "duration": 2233,
    "start_time": "2022-09-14T03:47:30.540Z"
   },
   {
    "duration": 2090,
    "start_time": "2022-09-14T03:48:13.543Z"
   },
   {
    "duration": 1945,
    "start_time": "2022-09-14T03:48:31.337Z"
   },
   {
    "duration": 2228,
    "start_time": "2022-09-14T03:49:05.808Z"
   },
   {
    "duration": 2279,
    "start_time": "2022-09-14T03:49:26.977Z"
   },
   {
    "duration": 77,
    "start_time": "2022-09-14T03:50:01.496Z"
   },
   {
    "duration": 2109,
    "start_time": "2022-09-14T03:50:26.010Z"
   },
   {
    "duration": 2105,
    "start_time": "2022-09-14T03:50:51.304Z"
   },
   {
    "duration": 2350,
    "start_time": "2022-09-14T03:52:36.451Z"
   },
   {
    "duration": 2093,
    "start_time": "2022-09-14T03:53:06.037Z"
   },
   {
    "duration": 2151,
    "start_time": "2022-09-14T03:53:35.372Z"
   },
   {
    "duration": 2388,
    "start_time": "2022-09-14T03:54:49.830Z"
   },
   {
    "duration": 2297,
    "start_time": "2022-09-14T03:55:28.341Z"
   },
   {
    "duration": 2451,
    "start_time": "2022-09-14T04:02:32.557Z"
   },
   {
    "duration": 2714,
    "start_time": "2022-09-14T04:02:53.811Z"
   },
   {
    "duration": 3820,
    "start_time": "2022-09-14T04:05:20.379Z"
   },
   {
    "duration": 3569,
    "start_time": "2022-09-14T04:05:50.961Z"
   },
   {
    "duration": 2233,
    "start_time": "2022-09-14T04:08:37.557Z"
   },
   {
    "duration": 2094,
    "start_time": "2022-09-14T04:10:41.901Z"
   },
   {
    "duration": 1398,
    "start_time": "2022-09-14T05:10:29.211Z"
   },
   {
    "duration": 96,
    "start_time": "2022-09-14T05:10:30.612Z"
   },
   {
    "duration": 11,
    "start_time": "2022-09-14T05:10:30.709Z"
   },
   {
    "duration": 19,
    "start_time": "2022-09-14T05:10:30.722Z"
   },
   {
    "duration": 1818,
    "start_time": "2022-09-14T05:10:30.743Z"
   },
   {
    "duration": 1428,
    "start_time": "2022-09-14T05:10:32.563Z"
   },
   {
    "duration": 13,
    "start_time": "2022-09-14T05:10:33.992Z"
   },
   {
    "duration": 521,
    "start_time": "2022-09-14T05:10:34.006Z"
   },
   {
    "duration": 10,
    "start_time": "2022-09-14T05:10:34.528Z"
   },
   {
    "duration": 104164,
    "start_time": "2022-09-14T05:10:34.540Z"
   },
   {
    "duration": 1416,
    "start_time": "2022-09-14T05:12:18.706Z"
   },
   {
    "duration": 104,
    "start_time": "2022-09-14T05:12:20.125Z"
   },
   {
    "duration": 564,
    "start_time": "2022-09-14T05:12:20.231Z"
   },
   {
    "duration": 35370,
    "start_time": "2022-09-14T05:12:20.797Z"
   },
   {
    "duration": 11,
    "start_time": "2022-09-14T05:12:56.169Z"
   },
   {
    "duration": 145,
    "start_time": "2022-09-14T05:12:56.182Z"
   },
   {
    "duration": 1301,
    "start_time": "2022-09-14T05:21:08.128Z"
   },
   {
    "duration": 14,
    "start_time": "2022-09-14T05:21:11.112Z"
   },
   {
    "duration": 20,
    "start_time": "2022-09-14T05:22:23.093Z"
   },
   {
    "duration": 580,
    "start_time": "2022-09-14T05:22:23.115Z"
   },
   {
    "duration": 35660,
    "start_time": "2022-09-14T05:22:23.697Z"
   },
   {
    "duration": 10,
    "start_time": "2022-09-14T05:22:59.359Z"
   },
   {
    "duration": 11,
    "start_time": "2022-09-14T05:22:59.371Z"
   },
   {
    "duration": 15,
    "start_time": "2022-09-14T05:36:19.071Z"
   },
   {
    "duration": 21,
    "start_time": "2022-09-14T05:36:30.802Z"
   },
   {
    "duration": 993,
    "start_time": "2022-09-14T05:45:30.960Z"
   },
   {
    "duration": 395,
    "start_time": "2022-09-14T05:45:53.450Z"
   },
   {
    "duration": 1036,
    "start_time": "2022-09-14T05:46:08.405Z"
   },
   {
    "duration": 1008,
    "start_time": "2022-09-14T05:46:13.781Z"
   },
   {
    "duration": 1206,
    "start_time": "2022-09-14T05:50:47.957Z"
   },
   {
    "duration": 3,
    "start_time": "2022-09-14T05:51:13.029Z"
   },
   {
    "duration": 1041,
    "start_time": "2022-09-14T05:52:11.640Z"
   },
   {
    "duration": 43,
    "start_time": "2022-09-14T05:52:32.096Z"
   },
   {
    "duration": 213,
    "start_time": "2022-09-14T05:52:44.929Z"
   },
   {
    "duration": 1083,
    "start_time": "2022-09-14T05:52:51.133Z"
   },
   {
    "duration": 11,
    "start_time": "2022-09-14T05:54:36.043Z"
   },
   {
    "duration": 10,
    "start_time": "2022-09-14T05:54:42.452Z"
   },
   {
    "duration": 16,
    "start_time": "2022-09-14T05:55:02.129Z"
   },
   {
    "duration": 1019,
    "start_time": "2022-09-14T05:57:44.513Z"
   },
   {
    "duration": 1042,
    "start_time": "2022-09-14T05:58:06.659Z"
   },
   {
    "duration": 10,
    "start_time": "2022-09-14T05:58:12.292Z"
   },
   {
    "duration": 12,
    "start_time": "2022-09-14T05:58:24.679Z"
   },
   {
    "duration": 12,
    "start_time": "2022-09-14T05:58:57.814Z"
   },
   {
    "duration": 5,
    "start_time": "2022-09-14T05:59:01.731Z"
   },
   {
    "duration": 111,
    "start_time": "2022-09-14T05:59:01.738Z"
   },
   {
    "duration": 14,
    "start_time": "2022-09-14T05:59:01.851Z"
   },
   {
    "duration": 19,
    "start_time": "2022-09-14T05:59:01.866Z"
   },
   {
    "duration": 2193,
    "start_time": "2022-09-14T05:59:01.887Z"
   },
   {
    "duration": 1461,
    "start_time": "2022-09-14T05:59:04.082Z"
   },
   {
    "duration": 14,
    "start_time": "2022-09-14T05:59:05.544Z"
   },
   {
    "duration": 480,
    "start_time": "2022-09-14T05:59:05.559Z"
   },
   {
    "duration": 8,
    "start_time": "2022-09-14T05:59:06.041Z"
   },
   {
    "duration": 105145,
    "start_time": "2022-09-14T05:59:06.051Z"
   },
   {
    "duration": 1330,
    "start_time": "2022-09-14T06:00:51.198Z"
   },
   {
    "duration": 100,
    "start_time": "2022-09-14T06:00:52.530Z"
   },
   {
    "duration": 571,
    "start_time": "2022-09-14T06:00:52.633Z"
   },
   {
    "duration": 3,
    "start_time": "2022-09-14T06:00:53.206Z"
   },
   {
    "duration": 1040,
    "start_time": "2022-09-14T06:00:53.211Z"
   },
   {
    "duration": 11,
    "start_time": "2022-09-14T06:00:54.253Z"
   },
   {
    "duration": 0,
    "start_time": "2022-09-14T06:00:54.266Z"
   },
   {
    "duration": 0,
    "start_time": "2022-09-14T06:00:54.267Z"
   },
   {
    "duration": 1819,
    "start_time": "2022-09-14T06:03:59.242Z"
   },
   {
    "duration": 1377,
    "start_time": "2022-09-14T06:20:10.790Z"
   },
   {
    "duration": 1317,
    "start_time": "2022-09-14T06:20:21.605Z"
   },
   {
    "duration": 1198,
    "start_time": "2022-09-14T06:20:47.043Z"
   },
   {
    "duration": 998,
    "start_time": "2022-09-14T06:21:06.263Z"
   },
   {
    "duration": 1693,
    "start_time": "2022-09-14T06:21:14.044Z"
   },
   {
    "duration": 1097,
    "start_time": "2022-09-14T06:21:24.649Z"
   },
   {
    "duration": 2448,
    "start_time": "2022-09-14T06:22:40.377Z"
   },
   {
    "duration": 2147,
    "start_time": "2022-09-14T06:24:16.692Z"
   },
   {
    "duration": 15,
    "start_time": "2022-09-14T06:26:21.612Z"
   },
   {
    "duration": 22,
    "start_time": "2022-09-14T06:26:42.718Z"
   },
   {
    "duration": 2333,
    "start_time": "2022-09-14T06:27:19.261Z"
   },
   {
    "duration": 2182,
    "start_time": "2022-09-14T06:28:14.459Z"
   },
   {
    "duration": 2374,
    "start_time": "2022-09-14T06:43:40.567Z"
   },
   {
    "duration": 2083,
    "start_time": "2022-09-14T06:43:48.931Z"
   },
   {
    "duration": 1690,
    "start_time": "2022-09-14T06:44:27.863Z"
   },
   {
    "duration": 1521,
    "start_time": "2022-09-14T06:44:41.678Z"
   },
   {
    "duration": 1931,
    "start_time": "2022-09-14T06:45:50.815Z"
   },
   {
    "duration": 2035,
    "start_time": "2022-09-14T06:47:12.187Z"
   },
   {
    "duration": 1922,
    "start_time": "2022-09-14T06:47:21.906Z"
   },
   {
    "duration": 1953,
    "start_time": "2022-09-14T06:49:05.311Z"
   },
   {
    "duration": 10,
    "start_time": "2022-09-14T06:50:40.255Z"
   },
   {
    "duration": 10,
    "start_time": "2022-09-14T06:50:42.569Z"
   },
   {
    "duration": 4,
    "start_time": "2022-09-14T07:57:05.702Z"
   },
   {
    "duration": 91,
    "start_time": "2022-09-14T07:57:05.721Z"
   },
   {
    "duration": 12,
    "start_time": "2022-09-14T07:57:05.815Z"
   },
   {
    "duration": 15,
    "start_time": "2022-09-14T07:57:05.828Z"
   },
   {
    "duration": 2043,
    "start_time": "2022-09-14T07:57:05.844Z"
   },
   {
    "duration": 1650,
    "start_time": "2022-09-14T07:57:07.889Z"
   },
   {
    "duration": 15,
    "start_time": "2022-09-14T07:57:09.541Z"
   },
   {
    "duration": 486,
    "start_time": "2022-09-14T07:57:09.557Z"
   },
   {
    "duration": 7,
    "start_time": "2022-09-14T07:57:10.045Z"
   },
   {
    "duration": 105908,
    "start_time": "2022-09-14T07:57:10.053Z"
   },
   {
    "duration": 1367,
    "start_time": "2022-09-14T07:58:55.962Z"
   },
   {
    "duration": 17,
    "start_time": "2022-09-14T07:58:57.421Z"
   },
   {
    "duration": 1829,
    "start_time": "2022-09-14T08:07:12.950Z"
   },
   {
    "duration": 2070,
    "start_time": "2022-09-14T08:09:12.791Z"
   },
   {
    "duration": 1847,
    "start_time": "2022-09-14T08:09:25.533Z"
   },
   {
    "duration": 2055,
    "start_time": "2022-09-14T08:09:48.053Z"
   },
   {
    "duration": 15,
    "start_time": "2022-09-14T08:12:50.968Z"
   },
   {
    "duration": 101,
    "start_time": "2022-09-14T08:44:32.525Z"
   },
   {
    "duration": 429,
    "start_time": "2022-09-14T08:44:36.471Z"
   },
   {
    "duration": 481,
    "start_time": "2022-09-14T08:45:12.105Z"
   },
   {
    "duration": 2026,
    "start_time": "2022-09-14T08:51:53.154Z"
   },
   {
    "duration": 1155,
    "start_time": "2022-09-14T08:52:27.227Z"
   },
   {
    "duration": 2283,
    "start_time": "2022-09-14T08:52:52.397Z"
   },
   {
    "duration": 2172,
    "start_time": "2022-09-14T08:53:20.145Z"
   },
   {
    "duration": 1157,
    "start_time": "2022-09-14T08:54:15.814Z"
   },
   {
    "duration": 1026,
    "start_time": "2022-09-14T08:54:22.341Z"
   },
   {
    "duration": 164,
    "start_time": "2022-09-14T08:54:47.493Z"
   },
   {
    "duration": 1160,
    "start_time": "2022-09-14T08:54:52.877Z"
   },
   {
    "duration": 1186,
    "start_time": "2022-09-14T08:54:58.274Z"
   },
   {
    "duration": 1188,
    "start_time": "2022-09-14T08:55:47.565Z"
   },
   {
    "duration": 1093,
    "start_time": "2022-09-14T08:56:06.992Z"
   },
   {
    "duration": 1991,
    "start_time": "2022-09-14T08:56:21.907Z"
   },
   {
    "duration": 4,
    "start_time": "2022-09-14T09:36:05.146Z"
   },
   {
    "duration": 115,
    "start_time": "2022-09-14T09:36:05.153Z"
   },
   {
    "duration": 13,
    "start_time": "2022-09-14T09:36:05.269Z"
   },
   {
    "duration": 13,
    "start_time": "2022-09-14T09:36:05.284Z"
   },
   {
    "duration": 2264,
    "start_time": "2022-09-14T09:36:05.299Z"
   },
   {
    "duration": 1831,
    "start_time": "2022-09-14T09:36:07.565Z"
   },
   {
    "duration": 32,
    "start_time": "2022-09-14T09:36:09.397Z"
   },
   {
    "duration": 534,
    "start_time": "2022-09-14T09:36:09.432Z"
   },
   {
    "duration": 7,
    "start_time": "2022-09-14T09:36:09.969Z"
   },
   {
    "duration": 120775,
    "start_time": "2022-09-14T09:36:09.978Z"
   },
   {
    "duration": 1369,
    "start_time": "2022-09-14T09:38:10.755Z"
   },
   {
    "duration": 31,
    "start_time": "2022-09-14T09:38:12.127Z"
   },
   {
    "duration": 522,
    "start_time": "2022-09-14T09:38:12.160Z"
   },
   {
    "duration": 3,
    "start_time": "2022-09-14T09:38:12.684Z"
   },
   {
    "duration": 2409,
    "start_time": "2022-09-14T09:38:12.688Z"
   },
   {
    "duration": 1108,
    "start_time": "2022-09-14T09:38:15.099Z"
   },
   {
    "duration": 20,
    "start_time": "2022-09-14T09:38:16.209Z"
   },
   {
    "duration": 12,
    "start_time": "2022-09-14T09:38:16.231Z"
   },
   {
    "duration": 9,
    "start_time": "2022-09-14T09:43:04.355Z"
   },
   {
    "duration": 21,
    "start_time": "2022-09-14T09:45:30.861Z"
   },
   {
    "duration": 13,
    "start_time": "2022-09-14T09:45:40.634Z"
   },
   {
    "duration": 78,
    "start_time": "2022-09-14T09:45:50.243Z"
   },
   {
    "duration": 78,
    "start_time": "2022-09-14T09:45:54.556Z"
   },
   {
    "duration": 10,
    "start_time": "2022-09-14T09:46:02.895Z"
   },
   {
    "duration": 45,
    "start_time": "2022-09-14T12:12:39.248Z"
   },
   {
    "duration": 7,
    "start_time": "2022-09-14T12:12:46.426Z"
   },
   {
    "duration": 1512,
    "start_time": "2022-09-14T12:12:53.004Z"
   },
   {
    "duration": 142,
    "start_time": "2022-09-14T12:12:54.518Z"
   },
   {
    "duration": 11,
    "start_time": "2022-09-14T12:12:54.662Z"
   },
   {
    "duration": 34,
    "start_time": "2022-09-14T12:12:54.675Z"
   },
   {
    "duration": 1840,
    "start_time": "2022-09-14T12:12:54.710Z"
   },
   {
    "duration": 1598,
    "start_time": "2022-09-14T12:12:56.552Z"
   },
   {
    "duration": 13,
    "start_time": "2022-09-14T12:12:58.151Z"
   },
   {
    "duration": 491,
    "start_time": "2022-09-14T12:12:58.165Z"
   },
   {
    "duration": 9,
    "start_time": "2022-09-14T12:12:58.657Z"
   },
   {
    "duration": 109854,
    "start_time": "2022-09-14T12:12:58.669Z"
   },
   {
    "duration": 1319,
    "start_time": "2022-09-14T12:14:48.525Z"
   },
   {
    "duration": 100,
    "start_time": "2022-09-14T12:14:49.846Z"
   },
   {
    "duration": 570,
    "start_time": "2022-09-14T12:14:49.948Z"
   },
   {
    "duration": 2,
    "start_time": "2022-09-14T12:14:50.520Z"
   },
   {
    "duration": 1924,
    "start_time": "2022-09-14T12:14:50.523Z"
   },
   {
    "duration": 1061,
    "start_time": "2022-09-14T12:14:52.449Z"
   },
   {
    "duration": 10,
    "start_time": "2022-09-14T12:14:53.512Z"
   },
   {
    "duration": 142,
    "start_time": "2022-09-14T12:14:53.523Z"
   },
   {
    "duration": 2460,
    "start_time": "2022-09-14T12:15:00.853Z"
   },
   {
    "duration": 1500,
    "start_time": "2022-09-14T12:32:54.538Z"
   },
   {
    "duration": 1483,
    "start_time": "2022-09-14T12:33:11.060Z"
   },
   {
    "duration": 1618,
    "start_time": "2022-09-14T12:33:45.051Z"
   },
   {
    "duration": 1332,
    "start_time": "2022-09-14T12:33:54.615Z"
   },
   {
    "duration": 16,
    "start_time": "2022-09-14T12:34:36.259Z"
   },
   {
    "duration": 1408,
    "start_time": "2022-09-14T12:40:06.937Z"
   },
   {
    "duration": 14,
    "start_time": "2022-09-14T12:42:35.366Z"
   },
   {
    "duration": 1560,
    "start_time": "2022-09-14T16:11:47.968Z"
   },
   {
    "duration": 143,
    "start_time": "2022-09-14T16:11:49.530Z"
   },
   {
    "duration": 12,
    "start_time": "2022-09-14T16:11:49.674Z"
   },
   {
    "duration": 16,
    "start_time": "2022-09-14T16:11:49.688Z"
   },
   {
    "duration": 1903,
    "start_time": "2022-09-14T16:11:49.705Z"
   },
   {
    "duration": 1640,
    "start_time": "2022-09-14T16:11:51.610Z"
   },
   {
    "duration": 12,
    "start_time": "2022-09-14T16:11:53.252Z"
   },
   {
    "duration": 503,
    "start_time": "2022-09-14T16:11:53.266Z"
   },
   {
    "duration": 7,
    "start_time": "2022-09-14T16:11:53.771Z"
   },
   {
    "duration": 110273,
    "start_time": "2022-09-14T16:11:53.780Z"
   },
   {
    "duration": 1592,
    "start_time": "2022-09-14T16:13:44.055Z"
   },
   {
    "duration": 14,
    "start_time": "2022-09-14T16:13:45.649Z"
   },
   {
    "duration": 565,
    "start_time": "2022-09-14T16:13:45.664Z"
   },
   {
    "duration": 3,
    "start_time": "2022-09-14T16:13:46.231Z"
   },
   {
    "duration": 1977,
    "start_time": "2022-09-14T16:13:46.236Z"
   },
   {
    "duration": 1062,
    "start_time": "2022-09-14T16:13:48.214Z"
   },
   {
    "duration": 10,
    "start_time": "2022-09-14T16:13:49.277Z"
   },
   {
    "duration": 137,
    "start_time": "2022-09-14T16:13:49.289Z"
   },
   {
    "duration": 1432,
    "start_time": "2022-09-14T16:40:08.224Z"
   },
   {
    "duration": 104,
    "start_time": "2022-09-14T16:40:09.658Z"
   },
   {
    "duration": 13,
    "start_time": "2022-09-14T16:40:09.764Z"
   },
   {
    "duration": 18,
    "start_time": "2022-09-14T16:40:09.779Z"
   },
   {
    "duration": 1946,
    "start_time": "2022-09-14T16:40:09.799Z"
   },
   {
    "duration": 1556,
    "start_time": "2022-09-14T16:40:11.747Z"
   },
   {
    "duration": 14,
    "start_time": "2022-09-14T16:40:13.305Z"
   },
   {
    "duration": 563,
    "start_time": "2022-09-14T16:40:13.321Z"
   },
   {
    "duration": 8,
    "start_time": "2022-09-14T16:40:13.886Z"
   },
   {
    "duration": 109364,
    "start_time": "2022-09-14T16:40:13.896Z"
   },
   {
    "duration": 1485,
    "start_time": "2022-09-14T16:42:03.262Z"
   },
   {
    "duration": 13,
    "start_time": "2022-09-14T16:42:04.749Z"
   },
   {
    "duration": 669,
    "start_time": "2022-09-14T16:42:04.763Z"
   },
   {
    "duration": 2,
    "start_time": "2022-09-14T16:42:05.435Z"
   },
   {
    "duration": 2074,
    "start_time": "2022-09-14T16:42:05.439Z"
   },
   {
    "duration": 1103,
    "start_time": "2022-09-14T16:42:07.515Z"
   },
   {
    "duration": 12,
    "start_time": "2022-09-14T16:42:08.620Z"
   },
   {
    "duration": 132,
    "start_time": "2022-09-14T16:42:08.646Z"
   },
   {
    "duration": 50,
    "start_time": "2022-09-14T19:55:45.841Z"
   },
   {
    "duration": 1539,
    "start_time": "2022-09-14T19:55:56.333Z"
   },
   {
    "duration": 207,
    "start_time": "2022-09-14T19:55:57.874Z"
   },
   {
    "duration": 11,
    "start_time": "2022-09-14T19:55:58.083Z"
   },
   {
    "duration": 14,
    "start_time": "2022-09-14T19:55:58.095Z"
   },
   {
    "duration": 1876,
    "start_time": "2022-09-14T19:55:58.111Z"
   },
   {
    "duration": 1495,
    "start_time": "2022-09-14T19:55:59.989Z"
   },
   {
    "duration": 13,
    "start_time": "2022-09-14T19:56:01.485Z"
   },
   {
    "duration": 480,
    "start_time": "2022-09-14T19:56:01.499Z"
   },
   {
    "duration": 7,
    "start_time": "2022-09-14T19:56:01.980Z"
   },
   {
    "duration": 105978,
    "start_time": "2022-09-14T19:56:01.989Z"
   },
   {
    "duration": 1111,
    "start_time": "2022-09-14T19:57:47.969Z"
   },
   {
    "duration": 99,
    "start_time": "2022-09-14T19:57:49.082Z"
   },
   {
    "duration": 556,
    "start_time": "2022-09-14T19:57:49.182Z"
   },
   {
    "duration": 2,
    "start_time": "2022-09-14T19:57:49.741Z"
   },
   {
    "duration": 1955,
    "start_time": "2022-09-14T19:57:49.745Z"
   },
   {
    "duration": 1147,
    "start_time": "2022-09-14T19:57:51.702Z"
   },
   {
    "duration": 11,
    "start_time": "2022-09-14T19:57:52.852Z"
   },
   {
    "duration": 138,
    "start_time": "2022-09-14T19:57:52.877Z"
   },
   {
    "duration": 1488,
    "start_time": "2022-09-15T11:57:17.388Z"
   },
   {
    "duration": 104,
    "start_time": "2022-09-15T11:57:18.878Z"
   },
   {
    "duration": 28,
    "start_time": "2022-09-15T11:57:18.984Z"
   },
   {
    "duration": 19,
    "start_time": "2022-09-15T11:57:19.014Z"
   },
   {
    "duration": 1935,
    "start_time": "2022-09-15T11:57:19.036Z"
   },
   {
    "duration": 1642,
    "start_time": "2022-09-15T11:57:20.974Z"
   },
   {
    "duration": 14,
    "start_time": "2022-09-15T11:57:22.618Z"
   },
   {
    "duration": 486,
    "start_time": "2022-09-15T11:57:22.634Z"
   },
   {
    "duration": 10,
    "start_time": "2022-09-15T11:57:23.122Z"
   },
   {
    "duration": 109019,
    "start_time": "2022-09-15T11:57:23.134Z"
   },
   {
    "duration": 1249,
    "start_time": "2022-09-15T11:59:12.155Z"
   },
   {
    "duration": 99,
    "start_time": "2022-09-15T11:59:13.406Z"
   },
   {
    "duration": 567,
    "start_time": "2022-09-15T11:59:13.507Z"
   },
   {
    "duration": 3,
    "start_time": "2022-09-15T11:59:14.076Z"
   },
   {
    "duration": 2086,
    "start_time": "2022-09-15T11:59:14.080Z"
   },
   {
    "duration": 1068,
    "start_time": "2022-09-15T11:59:16.168Z"
   },
   {
    "duration": 10,
    "start_time": "2022-09-15T11:59:17.238Z"
   },
   {
    "duration": 156,
    "start_time": "2022-09-15T11:59:17.249Z"
   },
   {
    "duration": 1579,
    "start_time": "2022-09-15T17:14:30.788Z"
   },
   {
    "duration": 133,
    "start_time": "2022-09-15T17:14:32.369Z"
   },
   {
    "duration": 22,
    "start_time": "2022-09-15T17:14:32.504Z"
   },
   {
    "duration": 14,
    "start_time": "2022-09-15T17:14:32.528Z"
   },
   {
    "duration": 1877,
    "start_time": "2022-09-15T17:14:32.544Z"
   },
   {
    "duration": 1514,
    "start_time": "2022-09-15T17:14:34.423Z"
   },
   {
    "duration": 15,
    "start_time": "2022-09-15T17:14:35.940Z"
   },
   {
    "duration": 510,
    "start_time": "2022-09-15T17:15:48.341Z"
   },
   {
    "duration": 9,
    "start_time": "2022-09-15T17:16:08.389Z"
   },
   {
    "duration": 96916,
    "start_time": "2022-09-15T17:16:12.680Z"
   },
   {
    "duration": 789,
    "start_time": "2022-09-15T17:18:09.828Z"
   },
   {
    "duration": 13,
    "start_time": "2022-09-15T17:18:36.976Z"
   },
   {
    "duration": 475,
    "start_time": "2022-09-15T17:19:16.813Z"
   },
   {
    "duration": 1800,
    "start_time": "2022-09-15T17:19:29.563Z"
   },
   {
    "duration": 47,
    "start_time": "2022-09-15T17:27:39.608Z"
   },
   {
    "duration": 293,
    "start_time": "2022-09-15T18:15:58.496Z"
   },
   {
    "duration": 58,
    "start_time": "2022-09-15T18:16:22.255Z"
   },
   {
    "duration": 72,
    "start_time": "2022-09-15T18:22:35.739Z"
   },
   {
    "duration": 19,
    "start_time": "2022-09-15T18:22:56.237Z"
   },
   {
    "duration": 89,
    "start_time": "2022-09-15T18:22:56.383Z"
   },
   {
    "duration": 11,
    "start_time": "2022-09-15T18:22:56.474Z"
   },
   {
    "duration": 33,
    "start_time": "2022-09-15T18:22:56.487Z"
   },
   {
    "duration": 2239,
    "start_time": "2022-09-15T18:22:56.523Z"
   },
   {
    "duration": 1410,
    "start_time": "2022-09-15T18:22:58.764Z"
   },
   {
    "duration": 13,
    "start_time": "2022-09-15T18:23:00.175Z"
   },
   {
    "duration": 650,
    "start_time": "2022-09-15T18:23:01.164Z"
   },
   {
    "duration": 780,
    "start_time": "2022-09-15T18:25:27.138Z"
   },
   {
    "duration": 6,
    "start_time": "2022-09-15T18:25:35.845Z"
   },
   {
    "duration": 109,
    "start_time": "2022-09-15T18:25:35.853Z"
   },
   {
    "duration": 13,
    "start_time": "2022-09-15T18:25:35.964Z"
   },
   {
    "duration": 13,
    "start_time": "2022-09-15T18:25:35.979Z"
   },
   {
    "duration": 2079,
    "start_time": "2022-09-15T18:25:36.210Z"
   },
   {
    "duration": 1403,
    "start_time": "2022-09-15T18:25:38.291Z"
   },
   {
    "duration": 18,
    "start_time": "2022-09-15T18:25:39.695Z"
   },
   {
    "duration": 3848,
    "start_time": "2022-09-15T18:25:39.715Z"
   },
   {
    "duration": 4395,
    "start_time": "2022-09-15T18:33:07.697Z"
   },
   {
    "duration": 4,
    "start_time": "2022-09-15T18:36:05.773Z"
   },
   {
    "duration": 93,
    "start_time": "2022-09-15T18:36:05.779Z"
   },
   {
    "duration": 11,
    "start_time": "2022-09-15T18:36:05.874Z"
   },
   {
    "duration": 31,
    "start_time": "2022-09-15T18:36:05.886Z"
   },
   {
    "duration": 2105,
    "start_time": "2022-09-15T18:36:05.919Z"
   },
   {
    "duration": 1384,
    "start_time": "2022-09-15T18:36:08.026Z"
   },
   {
    "duration": 13,
    "start_time": "2022-09-15T18:36:09.412Z"
   },
   {
    "duration": 522,
    "start_time": "2022-09-15T18:36:09.426Z"
   },
   {
    "duration": 30,
    "start_time": "2022-09-15T18:37:04.788Z"
   },
   {
    "duration": 35,
    "start_time": "2022-09-15T18:37:29.681Z"
   },
   {
    "duration": 66,
    "start_time": "2022-09-15T18:41:01.746Z"
   },
   {
    "duration": 119,
    "start_time": "2022-09-15T18:41:23.092Z"
   },
   {
    "duration": 524,
    "start_time": "2022-09-15T18:41:48.327Z"
   },
   {
    "duration": 8,
    "start_time": "2022-09-15T18:54:01.141Z"
   },
   {
    "duration": 5,
    "start_time": "2022-09-15T18:54:13.693Z"
   },
   {
    "duration": 96,
    "start_time": "2022-09-15T18:54:13.700Z"
   },
   {
    "duration": 13,
    "start_time": "2022-09-15T18:54:13.798Z"
   },
   {
    "duration": 16,
    "start_time": "2022-09-15T18:54:13.813Z"
   },
   {
    "duration": 2055,
    "start_time": "2022-09-15T18:54:13.832Z"
   },
   {
    "duration": 1367,
    "start_time": "2022-09-15T18:54:15.888Z"
   },
   {
    "duration": 13,
    "start_time": "2022-09-15T18:54:17.256Z"
   },
   {
    "duration": 500,
    "start_time": "2022-09-15T18:54:17.271Z"
   },
   {
    "duration": 7,
    "start_time": "2022-09-15T18:54:17.772Z"
   },
   {
    "duration": 96874,
    "start_time": "2022-09-15T18:54:17.781Z"
   },
   {
    "duration": 1251,
    "start_time": "2022-09-15T18:55:54.658Z"
   },
   {
    "duration": 100,
    "start_time": "2022-09-15T18:55:55.911Z"
   },
   {
    "duration": 491,
    "start_time": "2022-09-15T18:55:56.014Z"
   },
   {
    "duration": 1879,
    "start_time": "2022-09-15T18:55:56.506Z"
   },
   {
    "duration": 1033,
    "start_time": "2022-09-15T18:55:58.387Z"
   },
   {
    "duration": 14,
    "start_time": "2022-09-15T18:55:59.421Z"
   },
   {
    "duration": 19,
    "start_time": "2022-09-15T18:56:22.318Z"
   },
   {
    "duration": 9,
    "start_time": "2022-09-15T18:56:49.240Z"
   },
   {
    "duration": 448,
    "start_time": "2022-09-15T19:00:21.208Z"
   },
   {
    "duration": 14,
    "start_time": "2022-09-15T19:00:52.761Z"
   },
   {
    "duration": 9,
    "start_time": "2022-09-15T19:00:57.890Z"
   },
   {
    "duration": 17,
    "start_time": "2022-09-15T19:01:20.075Z"
   },
   {
    "duration": 247,
    "start_time": "2022-09-15T19:01:29.989Z"
   },
   {
    "duration": 144,
    "start_time": "2022-09-15T19:02:29.087Z"
   },
   {
    "duration": 185,
    "start_time": "2022-09-15T19:02:38.005Z"
   },
   {
    "duration": 172,
    "start_time": "2022-09-15T19:02:57.969Z"
   },
   {
    "duration": 215,
    "start_time": "2022-09-15T19:03:02.587Z"
   },
   {
    "duration": 1313,
    "start_time": "2022-09-15T19:03:53.759Z"
   },
   {
    "duration": 98,
    "start_time": "2022-09-15T19:03:55.074Z"
   },
   {
    "duration": 12,
    "start_time": "2022-09-15T19:03:55.174Z"
   },
   {
    "duration": 30,
    "start_time": "2022-09-15T19:03:55.187Z"
   },
   {
    "duration": 1768,
    "start_time": "2022-09-15T19:03:55.218Z"
   },
   {
    "duration": 1402,
    "start_time": "2022-09-15T19:03:56.987Z"
   },
   {
    "duration": 12,
    "start_time": "2022-09-15T19:03:58.390Z"
   },
   {
    "duration": 559,
    "start_time": "2022-09-15T19:03:58.404Z"
   },
   {
    "duration": 7,
    "start_time": "2022-09-15T19:03:58.964Z"
   },
   {
    "duration": 96325,
    "start_time": "2022-09-15T19:03:58.973Z"
   },
   {
    "duration": 1211,
    "start_time": "2022-09-15T19:05:35.300Z"
   },
   {
    "duration": 14,
    "start_time": "2022-09-15T19:05:36.512Z"
   },
   {
    "duration": 454,
    "start_time": "2022-09-15T19:05:36.527Z"
   },
   {
    "duration": 1811,
    "start_time": "2022-09-15T19:05:36.983Z"
   },
   {
    "duration": 980,
    "start_time": "2022-09-15T19:05:38.796Z"
   },
   {
    "duration": 11,
    "start_time": "2022-09-15T19:05:39.778Z"
   },
   {
    "duration": 190,
    "start_time": "2022-09-15T19:05:39.790Z"
   },
   {
    "duration": 160,
    "start_time": "2022-09-15T19:06:10.971Z"
   },
   {
    "duration": 87,
    "start_time": "2022-09-15T19:07:20.127Z"
   }
  ],
  "kernelspec": {
   "display_name": "Python 3 (ipykernel)",
   "language": "python",
   "name": "python3"
  },
  "language_info": {
   "codemirror_mode": {
    "name": "ipython",
    "version": 3
   },
   "file_extension": ".py",
   "mimetype": "text/x-python",
   "name": "python",
   "nbconvert_exporter": "python",
   "pygments_lexer": "ipython3",
   "version": "3.9.12"
  },
  "toc": {
   "base_numbering": 1,
   "nav_menu": {},
   "number_sections": true,
   "sideBar": true,
   "skip_h1_title": true,
   "title_cell": "Table of Contents",
   "title_sidebar": "Contents",
   "toc_cell": false,
   "toc_position": {},
   "toc_section_display": true,
   "toc_window_display": false
  }
 },
 "nbformat": 4,
 "nbformat_minor": 2
}
