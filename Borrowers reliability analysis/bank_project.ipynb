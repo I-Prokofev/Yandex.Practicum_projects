{
 "cells": [
  {
   "cell_type": "markdown",
   "id": "713db8b6",
   "metadata": {},
   "source": [
    "# Исследование надежности заемщиков"
   ]
  },
  {
   "cell_type": "markdown",
   "id": "d96e4e60",
   "metadata": {},
   "source": [
    "Заказчик исследования — кредитный отдел банка. \n",
    "\n",
    "**Цель исследования** — нужно разобраться, влияет ли семейное положение и количество детей клиента на факт погашения кредита в срок. Входные данные от банка — статистика о платёжеспособности клиентов.\n",
    "\n",
    "Результаты исследования будут учтены при построении модели кредитного скоринга — специальной системы, которая оценивает способность потенциального заёмщика вернуть кредит банку.\n",
    "\n",
    "**Ход исследования**\n",
    "\n",
    "Данные о заемщиках мы получим из файла 'data.csv'. \n",
    "\n",
    "О качестве данных ничего не известно. Поэтому перед проверкой зависимостей понадобится сделать обзор данных.\n",
    "\n",
    "Мы проверим данные на ошибки и оценим их влияние на исследование. Затем, на этапе предобработки мы поищем возможность исправить самые критичные ошибки данных.\n",
    "\n",
    "Таким образом, исследование пройдет в несколько этапов:\n",
    "1. Обзор данных.\n",
    "2. Предобработка данных.\n",
    "3. Ответы на вопросы."
   ]
  },
  {
   "cell_type": "markdown",
   "id": "1dccb95f",
   "metadata": {},
   "source": [
    "## Обзор данных\n",
    "### Получение общей информации о данных"
   ]
  },
  {
   "cell_type": "code",
   "execution_count": 1,
   "id": "4b0c5b4b",
   "metadata": {},
   "outputs": [],
   "source": [
    "import pandas as pd\n",
    "import warnings\n",
    "warnings.filterwarnings(\"ignore\")"
   ]
  },
  {
   "cell_type": "code",
   "execution_count": 2,
   "id": "da2d9aa2",
   "metadata": {},
   "outputs": [],
   "source": [
    "df = pd.read_csv('data.csv')"
   ]
  },
  {
   "cell_type": "markdown",
   "id": "bc47d273",
   "metadata": {},
   "source": [
    "Выведем первые десять строк и получим общую информацию о таблице:"
   ]
  },
  {
   "cell_type": "code",
   "execution_count": 3,
   "id": "ceb2a2ea",
   "metadata": {},
   "outputs": [
    {
     "data": {
      "text/html": [
       "<div>\n",
       "<style scoped>\n",
       "    .dataframe tbody tr th:only-of-type {\n",
       "        vertical-align: middle;\n",
       "    }\n",
       "\n",
       "    .dataframe tbody tr th {\n",
       "        vertical-align: top;\n",
       "    }\n",
       "\n",
       "    .dataframe thead th {\n",
       "        text-align: right;\n",
       "    }\n",
       "</style>\n",
       "<table border=\"1\" class=\"dataframe\">\n",
       "  <thead>\n",
       "    <tr style=\"text-align: right;\">\n",
       "      <th></th>\n",
       "      <th>children</th>\n",
       "      <th>days_employed</th>\n",
       "      <th>dob_years</th>\n",
       "      <th>education</th>\n",
       "      <th>education_id</th>\n",
       "      <th>family_status</th>\n",
       "      <th>family_status_id</th>\n",
       "      <th>gender</th>\n",
       "      <th>income_type</th>\n",
       "      <th>debt</th>\n",
       "      <th>total_income</th>\n",
       "      <th>purpose</th>\n",
       "    </tr>\n",
       "  </thead>\n",
       "  <tbody>\n",
       "    <tr>\n",
       "      <th>0</th>\n",
       "      <td>1</td>\n",
       "      <td>-8437.673028</td>\n",
       "      <td>42</td>\n",
       "      <td>высшее</td>\n",
       "      <td>0</td>\n",
       "      <td>женат / замужем</td>\n",
       "      <td>0</td>\n",
       "      <td>F</td>\n",
       "      <td>сотрудник</td>\n",
       "      <td>0</td>\n",
       "      <td>253875.639453</td>\n",
       "      <td>покупка жилья</td>\n",
       "    </tr>\n",
       "    <tr>\n",
       "      <th>1</th>\n",
       "      <td>1</td>\n",
       "      <td>-4024.803754</td>\n",
       "      <td>36</td>\n",
       "      <td>среднее</td>\n",
       "      <td>1</td>\n",
       "      <td>женат / замужем</td>\n",
       "      <td>0</td>\n",
       "      <td>F</td>\n",
       "      <td>сотрудник</td>\n",
       "      <td>0</td>\n",
       "      <td>112080.014102</td>\n",
       "      <td>приобретение автомобиля</td>\n",
       "    </tr>\n",
       "    <tr>\n",
       "      <th>2</th>\n",
       "      <td>0</td>\n",
       "      <td>-5623.422610</td>\n",
       "      <td>33</td>\n",
       "      <td>Среднее</td>\n",
       "      <td>1</td>\n",
       "      <td>женат / замужем</td>\n",
       "      <td>0</td>\n",
       "      <td>M</td>\n",
       "      <td>сотрудник</td>\n",
       "      <td>0</td>\n",
       "      <td>145885.952297</td>\n",
       "      <td>покупка жилья</td>\n",
       "    </tr>\n",
       "    <tr>\n",
       "      <th>3</th>\n",
       "      <td>3</td>\n",
       "      <td>-4124.747207</td>\n",
       "      <td>32</td>\n",
       "      <td>среднее</td>\n",
       "      <td>1</td>\n",
       "      <td>женат / замужем</td>\n",
       "      <td>0</td>\n",
       "      <td>M</td>\n",
       "      <td>сотрудник</td>\n",
       "      <td>0</td>\n",
       "      <td>267628.550329</td>\n",
       "      <td>дополнительное образование</td>\n",
       "    </tr>\n",
       "    <tr>\n",
       "      <th>4</th>\n",
       "      <td>0</td>\n",
       "      <td>340266.072047</td>\n",
       "      <td>53</td>\n",
       "      <td>среднее</td>\n",
       "      <td>1</td>\n",
       "      <td>гражданский брак</td>\n",
       "      <td>1</td>\n",
       "      <td>F</td>\n",
       "      <td>пенсионер</td>\n",
       "      <td>0</td>\n",
       "      <td>158616.077870</td>\n",
       "      <td>сыграть свадьбу</td>\n",
       "    </tr>\n",
       "    <tr>\n",
       "      <th>5</th>\n",
       "      <td>0</td>\n",
       "      <td>-926.185831</td>\n",
       "      <td>27</td>\n",
       "      <td>высшее</td>\n",
       "      <td>0</td>\n",
       "      <td>гражданский брак</td>\n",
       "      <td>1</td>\n",
       "      <td>M</td>\n",
       "      <td>компаньон</td>\n",
       "      <td>0</td>\n",
       "      <td>255763.565419</td>\n",
       "      <td>покупка жилья</td>\n",
       "    </tr>\n",
       "    <tr>\n",
       "      <th>6</th>\n",
       "      <td>0</td>\n",
       "      <td>-2879.202052</td>\n",
       "      <td>43</td>\n",
       "      <td>высшее</td>\n",
       "      <td>0</td>\n",
       "      <td>женат / замужем</td>\n",
       "      <td>0</td>\n",
       "      <td>F</td>\n",
       "      <td>компаньон</td>\n",
       "      <td>0</td>\n",
       "      <td>240525.971920</td>\n",
       "      <td>операции с жильем</td>\n",
       "    </tr>\n",
       "    <tr>\n",
       "      <th>7</th>\n",
       "      <td>0</td>\n",
       "      <td>-152.779569</td>\n",
       "      <td>50</td>\n",
       "      <td>СРЕДНЕЕ</td>\n",
       "      <td>1</td>\n",
       "      <td>женат / замужем</td>\n",
       "      <td>0</td>\n",
       "      <td>M</td>\n",
       "      <td>сотрудник</td>\n",
       "      <td>0</td>\n",
       "      <td>135823.934197</td>\n",
       "      <td>образование</td>\n",
       "    </tr>\n",
       "    <tr>\n",
       "      <th>8</th>\n",
       "      <td>2</td>\n",
       "      <td>-6929.865299</td>\n",
       "      <td>35</td>\n",
       "      <td>ВЫСШЕЕ</td>\n",
       "      <td>0</td>\n",
       "      <td>гражданский брак</td>\n",
       "      <td>1</td>\n",
       "      <td>F</td>\n",
       "      <td>сотрудник</td>\n",
       "      <td>0</td>\n",
       "      <td>95856.832424</td>\n",
       "      <td>на проведение свадьбы</td>\n",
       "    </tr>\n",
       "    <tr>\n",
       "      <th>9</th>\n",
       "      <td>0</td>\n",
       "      <td>-2188.756445</td>\n",
       "      <td>41</td>\n",
       "      <td>среднее</td>\n",
       "      <td>1</td>\n",
       "      <td>женат / замужем</td>\n",
       "      <td>0</td>\n",
       "      <td>M</td>\n",
       "      <td>сотрудник</td>\n",
       "      <td>0</td>\n",
       "      <td>144425.938277</td>\n",
       "      <td>покупка жилья для семьи</td>\n",
       "    </tr>\n",
       "  </tbody>\n",
       "</table>\n",
       "</div>"
      ],
      "text/plain": [
       "   children  days_employed  dob_years education  education_id  \\\n",
       "0         1   -8437.673028         42    высшее             0   \n",
       "1         1   -4024.803754         36   среднее             1   \n",
       "2         0   -5623.422610         33   Среднее             1   \n",
       "3         3   -4124.747207         32   среднее             1   \n",
       "4         0  340266.072047         53   среднее             1   \n",
       "5         0    -926.185831         27    высшее             0   \n",
       "6         0   -2879.202052         43    высшее             0   \n",
       "7         0    -152.779569         50   СРЕДНЕЕ             1   \n",
       "8         2   -6929.865299         35    ВЫСШЕЕ             0   \n",
       "9         0   -2188.756445         41   среднее             1   \n",
       "\n",
       "      family_status  family_status_id gender income_type  debt   total_income  \\\n",
       "0   женат / замужем                 0      F   сотрудник     0  253875.639453   \n",
       "1   женат / замужем                 0      F   сотрудник     0  112080.014102   \n",
       "2   женат / замужем                 0      M   сотрудник     0  145885.952297   \n",
       "3   женат / замужем                 0      M   сотрудник     0  267628.550329   \n",
       "4  гражданский брак                 1      F   пенсионер     0  158616.077870   \n",
       "5  гражданский брак                 1      M   компаньон     0  255763.565419   \n",
       "6   женат / замужем                 0      F   компаньон     0  240525.971920   \n",
       "7   женат / замужем                 0      M   сотрудник     0  135823.934197   \n",
       "8  гражданский брак                 1      F   сотрудник     0   95856.832424   \n",
       "9   женат / замужем                 0      M   сотрудник     0  144425.938277   \n",
       "\n",
       "                      purpose  \n",
       "0               покупка жилья  \n",
       "1     приобретение автомобиля  \n",
       "2               покупка жилья  \n",
       "3  дополнительное образование  \n",
       "4             сыграть свадьбу  \n",
       "5               покупка жилья  \n",
       "6           операции с жильем  \n",
       "7                 образование  \n",
       "8       на проведение свадьбы  \n",
       "9     покупка жилья для семьи  "
      ]
     },
     "metadata": {},
     "output_type": "display_data"
    },
    {
     "name": "stdout",
     "output_type": "stream",
     "text": [
      "<class 'pandas.core.frame.DataFrame'>\n",
      "RangeIndex: 21525 entries, 0 to 21524\n",
      "Data columns (total 12 columns):\n",
      " #   Column            Non-Null Count  Dtype  \n",
      "---  ------            --------------  -----  \n",
      " 0   children          21525 non-null  int64  \n",
      " 1   days_employed     19351 non-null  float64\n",
      " 2   dob_years         21525 non-null  int64  \n",
      " 3   education         21525 non-null  object \n",
      " 4   education_id      21525 non-null  int64  \n",
      " 5   family_status     21525 non-null  object \n",
      " 6   family_status_id  21525 non-null  int64  \n",
      " 7   gender            21525 non-null  object \n",
      " 8   income_type       21525 non-null  object \n",
      " 9   debt              21525 non-null  int64  \n",
      " 10  total_income      19351 non-null  float64\n",
      " 11  purpose           21525 non-null  object \n",
      "dtypes: float64(2), int64(5), object(5)\n",
      "memory usage: 2.0+ MB\n"
     ]
    }
   ],
   "source": [
    "display(df.head(10))\n",
    "df.info()"
   ]
  },
  {
   "cell_type": "markdown",
   "id": "e0af6fdc",
   "metadata": {},
   "source": [
    "В таблице двенадцать столбцов. Тип данных в столбцах различный.\n",
    "\n",
    "Описание столбцов согласно документации к данным:\n",
    "* children — количество детей в семье;\n",
    "* days_employed — общий трудовой стаж в днях;\n",
    "* dob_years — возраст клиента в годах;\n",
    "* education — уровень образования клиента;\n",
    "* education_id — идентификатор уровня образования;\n",
    "* family_status — семейное положение;\n",
    "* family_status_id — идентификатор семейного положения;\n",
    "* gender — пол клиента;\n",
    "* income_type — тип занятости;\n",
    "* debt — имел ли задолженность по возврату кредитов;\n",
    "* total_income — ежемесячный доход; \n",
    "* purpose — цель получения кредита."
   ]
  },
  {
   "cell_type": "markdown",
   "id": "401fbde6",
   "metadata": {},
   "source": [
    "### Пропуски значений"
   ]
  },
  {
   "cell_type": "markdown",
   "id": "6d3fab69",
   "metadata": {},
   "source": [
    "Найдем пропущенные значения:"
   ]
  },
  {
   "cell_type": "code",
   "execution_count": 4,
   "id": "2a1b385b",
   "metadata": {},
   "outputs": [
    {
     "name": "stdout",
     "output_type": "stream",
     "text": [
      "\n",
      "Количество пропущенных значений в столбцах:\n",
      "children               0\n",
      "days_employed       2174\n",
      "dob_years              0\n",
      "education              0\n",
      "education_id           0\n",
      "family_status          0\n",
      "family_status_id       0\n",
      "gender                 0\n",
      "income_type            0\n",
      "debt                   0\n",
      "total_income        2174\n",
      "purpose                0\n",
      "dtype: int64\n",
      "\n",
      "Описание значений в столбце days_employed по убыванию:\n",
      " NaN              2174\n",
      "-8437.673028         1\n",
      "-5135.928528         1\n",
      " 354500.415854       1\n",
      "-769.717438          1\n",
      "-3963.590317         1\n",
      " 337451.389609       1\n",
      " 356425.151366       1\n",
      "-3112.788664         1\n",
      " 394214.527044       1\n",
      "Name: days_employed, dtype: int64\n",
      "\n",
      "Описание значений в столбце total_income по убыванию:\n",
      "NaN              2174\n",
      "253875.639453       1\n",
      "124337.377229       1\n",
      "70113.902786        1\n",
      "116196.518662       1\n",
      "157205.834562       1\n",
      "114842.854099       1\n",
      "282354.554215       1\n",
      "235961.235873       1\n",
      "131286.073745       1\n",
      "Name: total_income, dtype: int64\n"
     ]
    }
   ],
   "source": [
    "print('\\nКоличество пропущенных значений в столбцах:')\n",
    "print(df.isna().sum()) # определим, в каких столбцах пропущены значения\n",
    "\n",
    "print('\\nОписание значений в столбце days_employed по убыванию:')\n",
    "print(df['days_employed'].value_counts(dropna=False).head(10)) # описание пропущенных значений в столбце days_emloyed\n",
    "print('\\nОписание значений в столбце total_income по убыванию:')\n",
    "print(df['total_income'].value_counts(dropna=False).head(10)) # описание пропущенных значений в столбце total_income\n"
   ]
  },
  {
   "cell_type": "markdown",
   "id": "6967ab6b",
   "metadata": {},
   "source": [
    "Данные пропущены в столбцах days_employed и total_income: в них обнаружены значения NaN.\n",
    "\n",
    "Определим долю пропущенных знчений в столбцах days_employed и total_income:"
   ]
  },
  {
   "cell_type": "code",
   "execution_count": 5,
   "id": "14c4cd2b",
   "metadata": {},
   "outputs": [
    {
     "name": "stdout",
     "output_type": "stream",
     "text": [
      "\n",
      "Доля пропущенных значений в столбце days_employed: 0.10099883855981417\n",
      "\n",
      "Доля пропущенных значений в столбце total_income: 0.10099883855981417\n"
     ]
    }
   ],
   "source": [
    "# доля пропущенных значений в столбцах\n",
    "print('\\nДоля пропущенных значений в столбце days_employed:', df['days_employed'].isna().sum() / len(df['days_employed']))\n",
    "print('\\nДоля пропущенных значений в столбце total_income:', df['total_income'].isna().sum() / len(df['total_income']))"
   ]
  },
  {
   "cell_type": "markdown",
   "id": "29c932da",
   "metadata": {},
   "source": [
    "Доля пропущенных значений в обоих столбцах составляет 10%.\n",
    "\n",
    "Возможные причины появления пропусков в данных:\n",
    "- days_emloyed - абсолютно случайные пропуски, поскольку они не зависят от других переменных и не могут быть объяснены;\n",
    "- total_income - случайные пропуски, поскольку неизвестны данные об общем трудовом стаже, то и данные о ежемесячном доходе также отсутствуют."
   ]
  },
  {
   "cell_type": "markdown",
   "id": "82619f48",
   "metadata": {},
   "source": [
    "## Предобработка данных\n",
    "### Заполнение пропусков"
   ]
  },
  {
   "cell_type": "markdown",
   "id": "3b08fcfa",
   "metadata": {},
   "source": [
    "Не все пропущенные значения влияют на исследование. Так в days_emloyed пропуски не важны для нашей задачи.\n",
    "\n",
    "Но пропуски в total_income могут помешать исследованию надежности заемщиков. \n",
    "\n",
    "Ежемесячный доход — это количественная переменная. Пропуски в таких переменных следует заполнить характерным значениям для данной выборки. Поскольку некоторые значения в столбце total_income могут сильно выделяются среди большинства, пропуски следует заполнить медианным значением по столбцу:"
   ]
  },
  {
   "cell_type": "code",
   "execution_count": 6,
   "id": "f5fa4862",
   "metadata": {},
   "outputs": [],
   "source": [
    "df['total_income'] = df['total_income'].fillna(df['total_income'].median())"
   ]
  },
  {
   "cell_type": "markdown",
   "id": "73151484",
   "metadata": {},
   "source": [
    "Убедимся, что в таблице не осталось пропусков. Для этого ещё раз посчитаем долю пропущенны значений:"
   ]
  },
  {
   "cell_type": "code",
   "execution_count": 7,
   "id": "e5d3ea6f",
   "metadata": {},
   "outputs": [
    {
     "name": "stdout",
     "output_type": "stream",
     "text": [
      "\n",
      "Доля пропущенных значений в столбце total_income: 0.0\n"
     ]
    }
   ],
   "source": [
    "print('\\nДоля пропущенных значений в столбце total_income:', df['total_income'].isna().sum() / len(df['total_income']))"
   ]
  },
  {
   "cell_type": "markdown",
   "id": "7f39aeb3",
   "metadata": {},
   "source": [
    "### Аномалии и исправления"
   ]
  },
  {
   "cell_type": "markdown",
   "id": "2fb96cbc",
   "metadata": {},
   "source": [
    "Проанализируем данные на наличие артефактов — значений, которые не отражают действительность и появились по какой-то ошибке."
   ]
  },
  {
   "cell_type": "markdown",
   "id": "4aea49fb",
   "metadata": {},
   "source": [
    "Проанализируем ошибки в числовых переменных:"
   ]
  },
  {
   "cell_type": "code",
   "execution_count": 8,
   "id": "4770e1c2",
   "metadata": {},
   "outputs": [
    {
     "data": {
      "text/html": [
       "<div>\n",
       "<style scoped>\n",
       "    .dataframe tbody tr th:only-of-type {\n",
       "        vertical-align: middle;\n",
       "    }\n",
       "\n",
       "    .dataframe tbody tr th {\n",
       "        vertical-align: top;\n",
       "    }\n",
       "\n",
       "    .dataframe thead th {\n",
       "        text-align: right;\n",
       "    }\n",
       "</style>\n",
       "<table border=\"1\" class=\"dataframe\">\n",
       "  <thead>\n",
       "    <tr style=\"text-align: right;\">\n",
       "      <th></th>\n",
       "      <th>children</th>\n",
       "      <th>days_employed</th>\n",
       "      <th>dob_years</th>\n",
       "      <th>education_id</th>\n",
       "      <th>family_status_id</th>\n",
       "      <th>debt</th>\n",
       "      <th>total_income</th>\n",
       "    </tr>\n",
       "  </thead>\n",
       "  <tbody>\n",
       "    <tr>\n",
       "      <th>count</th>\n",
       "      <td>21525.000000</td>\n",
       "      <td>19351.000000</td>\n",
       "      <td>21525.000000</td>\n",
       "      <td>21525.000000</td>\n",
       "      <td>21525.000000</td>\n",
       "      <td>21525.000000</td>\n",
       "      <td>2.152500e+04</td>\n",
       "    </tr>\n",
       "    <tr>\n",
       "      <th>mean</th>\n",
       "      <td>0.538908</td>\n",
       "      <td>63046.497661</td>\n",
       "      <td>43.293380</td>\n",
       "      <td>0.817236</td>\n",
       "      <td>0.972544</td>\n",
       "      <td>0.080883</td>\n",
       "      <td>1.651595e+05</td>\n",
       "    </tr>\n",
       "    <tr>\n",
       "      <th>std</th>\n",
       "      <td>1.381587</td>\n",
       "      <td>140827.311974</td>\n",
       "      <td>12.574584</td>\n",
       "      <td>0.548138</td>\n",
       "      <td>1.420324</td>\n",
       "      <td>0.272661</td>\n",
       "      <td>9.786607e+04</td>\n",
       "    </tr>\n",
       "    <tr>\n",
       "      <th>min</th>\n",
       "      <td>-1.000000</td>\n",
       "      <td>-18388.949901</td>\n",
       "      <td>0.000000</td>\n",
       "      <td>0.000000</td>\n",
       "      <td>0.000000</td>\n",
       "      <td>0.000000</td>\n",
       "      <td>2.066726e+04</td>\n",
       "    </tr>\n",
       "    <tr>\n",
       "      <th>25%</th>\n",
       "      <td>0.000000</td>\n",
       "      <td>-2747.423625</td>\n",
       "      <td>33.000000</td>\n",
       "      <td>1.000000</td>\n",
       "      <td>0.000000</td>\n",
       "      <td>0.000000</td>\n",
       "      <td>1.077982e+05</td>\n",
       "    </tr>\n",
       "    <tr>\n",
       "      <th>50%</th>\n",
       "      <td>0.000000</td>\n",
       "      <td>-1203.369529</td>\n",
       "      <td>42.000000</td>\n",
       "      <td>1.000000</td>\n",
       "      <td>0.000000</td>\n",
       "      <td>0.000000</td>\n",
       "      <td>1.450179e+05</td>\n",
       "    </tr>\n",
       "    <tr>\n",
       "      <th>75%</th>\n",
       "      <td>1.000000</td>\n",
       "      <td>-291.095954</td>\n",
       "      <td>53.000000</td>\n",
       "      <td>1.000000</td>\n",
       "      <td>1.000000</td>\n",
       "      <td>0.000000</td>\n",
       "      <td>1.955436e+05</td>\n",
       "    </tr>\n",
       "    <tr>\n",
       "      <th>max</th>\n",
       "      <td>20.000000</td>\n",
       "      <td>401755.400475</td>\n",
       "      <td>75.000000</td>\n",
       "      <td>4.000000</td>\n",
       "      <td>4.000000</td>\n",
       "      <td>1.000000</td>\n",
       "      <td>2.265604e+06</td>\n",
       "    </tr>\n",
       "  </tbody>\n",
       "</table>\n",
       "</div>"
      ],
      "text/plain": [
       "           children  days_employed     dob_years  education_id  \\\n",
       "count  21525.000000   19351.000000  21525.000000  21525.000000   \n",
       "mean       0.538908   63046.497661     43.293380      0.817236   \n",
       "std        1.381587  140827.311974     12.574584      0.548138   \n",
       "min       -1.000000  -18388.949901      0.000000      0.000000   \n",
       "25%        0.000000   -2747.423625     33.000000      1.000000   \n",
       "50%        0.000000   -1203.369529     42.000000      1.000000   \n",
       "75%        1.000000    -291.095954     53.000000      1.000000   \n",
       "max       20.000000  401755.400475     75.000000      4.000000   \n",
       "\n",
       "       family_status_id          debt  total_income  \n",
       "count      21525.000000  21525.000000  2.152500e+04  \n",
       "mean           0.972544      0.080883  1.651595e+05  \n",
       "std            1.420324      0.272661  9.786607e+04  \n",
       "min            0.000000      0.000000  2.066726e+04  \n",
       "25%            0.000000      0.000000  1.077982e+05  \n",
       "50%            0.000000      0.000000  1.450179e+05  \n",
       "75%            1.000000      0.000000  1.955436e+05  \n",
       "max            4.000000      1.000000  2.265604e+06  "
      ]
     },
     "metadata": {},
     "output_type": "display_data"
    },
    {
     "name": "stdout",
     "output_type": "stream",
     "text": [
      "\n",
      "Число уникальных значений в столбце children:\n",
      " 0     14149\n",
      " 1      4818\n",
      " 2      2055\n",
      " 3       330\n",
      " 20       76\n",
      "-1        47\n",
      " 4        41\n",
      " 5         9\n",
      "Name: children, dtype: int64\n",
      "\n",
      "Число уникальных значений в столбце days_employed:\n",
      " NaN              2174\n",
      "-8437.673028         1\n",
      "-5135.928528         1\n",
      " 354500.415854       1\n",
      "-769.717438          1\n",
      "-3963.590317         1\n",
      " 337451.389609       1\n",
      " 356425.151366       1\n",
      "-3112.788664         1\n",
      " 394214.527044       1\n",
      "Name: days_employed, dtype: int64\n",
      "\n",
      "Число уникальных значений в столбце dob_years:\n",
      "35    617\n",
      "40    609\n",
      "41    607\n",
      "34    603\n",
      "38    598\n",
      "42    597\n",
      "33    581\n",
      "39    573\n",
      "31    560\n",
      "36    555\n",
      "Name: dob_years, dtype: int64\n"
     ]
    }
   ],
   "source": [
    "display(df.describe())                                         \n",
    "\n",
    "print('\\nЧисло уникальных значений в столбце children:')\n",
    "print(df['children'].value_counts(dropna=False).head(10))     \n",
    "\n",
    "print('\\nЧисло уникальных значений в столбце days_employed:')\n",
    "print(df['days_employed'].value_counts(dropna=False).head(10)) \n",
    "\n",
    "print('\\nЧисло уникальных значений в столбце dob_years:')\n",
    "print(df['dob_years'].value_counts(dropna=False).head(10))     "
   ]
  },
  {
   "cell_type": "markdown",
   "id": "d535a682",
   "metadata": {},
   "source": [
    "В данных встречаются следующие аномалии:\n",
    "* В столбце children присутствуют аномальные значения с отрицательным количеством детей. В случае с количеством детей равным -1 и 20, вероятно, что произошла ошибка ручного ввода при внесении значения 1 и 2, соответтсвенно. \n",
    "* В столбце days_employed присутствуют аномальные значения с отрицательным знаком, либо с запредельным количеством дней трудового стажа (больше 1100 лет). Кроме того, значения столбца принимают нецелочисленный вид.\n",
    "* В столбце dob_years значения принимают нецелочисленный вид."
   ]
  },
  {
   "cell_type": "markdown",
   "id": "66bc4f33",
   "metadata": {},
   "source": [
    "Проанализируем ошибки в категориальных переменных:"
   ]
  },
  {
   "cell_type": "code",
   "execution_count": 9,
   "id": "50fb40fe",
   "metadata": {},
   "outputs": [
    {
     "name": "stdout",
     "output_type": "stream",
     "text": [
      "\n",
      "Число уникальных значений в столбце education:\n",
      "среднее                13750\n",
      "высшее                  4718\n",
      "СРЕДНЕЕ                  772\n",
      "Среднее                  711\n",
      "неоконченное высшее      668\n",
      "ВЫСШЕЕ                   274\n",
      "Высшее                   268\n",
      "начальное                250\n",
      "Неоконченное высшее       47\n",
      "НЕОКОНЧЕННОЕ ВЫСШЕЕ       29\n",
      "НАЧАЛЬНОЕ                 17\n",
      "Начальное                 15\n",
      "ученая степень             4\n",
      "Ученая степень             1\n",
      "УЧЕНАЯ СТЕПЕНЬ             1\n",
      "Name: education, dtype: int64\n",
      "\n",
      "Число уникальных значений в столбце education_id:\n",
      "1    15233\n",
      "0     5260\n",
      "2      744\n",
      "3      282\n",
      "4        6\n",
      "Name: education_id, dtype: int64\n",
      "\n",
      "Число уникальных значений в столбце family_status:\n",
      "женат / замужем          12380\n",
      "гражданский брак          4177\n",
      "Не женат / не замужем     2813\n",
      "в разводе                 1195\n",
      "вдовец / вдова             960\n",
      "Name: family_status, dtype: int64\n",
      "\n",
      "Число уникальных значений в столбце family_status_id:\n",
      "0    12380\n",
      "1     4177\n",
      "4     2813\n",
      "3     1195\n",
      "2      960\n",
      "Name: family_status_id, dtype: int64\n",
      "\n",
      "Число уникальных значений в столбце gender:\n",
      "F      14236\n",
      "M       7288\n",
      "XNA        1\n",
      "Name: gender, dtype: int64\n",
      "\n",
      "Число уникальных значений в столбце income_type:\n",
      "сотрудник          11119\n",
      "компаньон           5085\n",
      "пенсионер           3856\n",
      "госслужащий         1459\n",
      "безработный            2\n",
      "предприниматель        2\n",
      "студент                1\n",
      "в декрете              1\n",
      "Name: income_type, dtype: int64\n",
      "\n",
      "Число уникальных значений в столбце debt:\n",
      "0    19784\n",
      "1     1741\n",
      "Name: debt, dtype: int64\n",
      "\n",
      "Число уникальных значений в столбце purpose:\n",
      "свадьба                                  797\n",
      "на проведение свадьбы                    777\n",
      "сыграть свадьбу                          774\n",
      "операции с недвижимостью                 676\n",
      "покупка коммерческой недвижимости        664\n",
      "покупка жилья для сдачи                  653\n",
      "операции с жильем                        653\n",
      "операции с коммерческой недвижимостью    651\n",
      "покупка жилья                            647\n",
      "жилье                                    647\n",
      "Name: purpose, dtype: int64\n"
     ]
    }
   ],
   "source": [
    "print('\\nЧисло уникальных значений в столбце education:')\n",
    "print(df['education'].value_counts(dropna=False)) \n",
    "\n",
    "print('\\nЧисло уникальных значений в столбце education_id:')\n",
    "print(df['education_id'].value_counts(dropna=False))\n",
    "\n",
    "print('\\nЧисло уникальных значений в столбце family_status:')\n",
    "print(df['family_status'].value_counts(dropna=False)) \n",
    "\n",
    "print('\\nЧисло уникальных значений в столбце family_status_id:')\n",
    "print(df['family_status_id'].value_counts(dropna=False)) \n",
    "\n",
    "print('\\nЧисло уникальных значений в столбце gender:')\n",
    "print(df['gender'].value_counts(dropna=False)) \n",
    "\n",
    "print('\\nЧисло уникальных значений в столбце income_type:')\n",
    "print(df['income_type'].value_counts(dropna=False)) \n",
    "\n",
    "print('\\nЧисло уникальных значений в столбце debt:')\n",
    "print(df['debt'].value_counts(dropna=False))\n",
    "\n",
    "print('\\nЧисло уникальных значений в столбце purpose:')\n",
    "print(df['purpose'].value_counts(dropna=False).head(10)) "
   ]
  },
  {
   "cell_type": "markdown",
   "id": "fdadb5a6",
   "metadata": {},
   "source": [
    "В данных встречаются следующие аномалии:\n",
    "\n",
    "* В столбце education встречаются значения-дубликаты, записанные с использованием заглавных и строчных букв: 'среднее' / 'СРЕДНЕЕ', 'Высшее' / 'ВЫСШЕЕ' и т.д.).\n",
    "* В столбце family_status встречаются значения-дубликаты, запbсанные как в верхнем, так и в нижнем регистре: 'женат / замужем', 'Не женат / не замужем'.\n",
    "* В столбце gender встречаtтся аномальнjе значениt с полом клиента 'XNA'.\n",
    "* В столбце purpose встречаются неявные дубликаты цели получения кредита: 'покупка жилья' / 'операции с жильем' / 'покупка жилой недвижимости', 'сыграть свадьбу' / 'на проведение свадьбы', 'высшее образование' / 'заняться высшим образованием' и т.д.\n",
    "\n",
    "Возможные причины появления данных аномалий могут быть вызваны ошибками записи, ошибками ручнго ввода, либо изменением метаданных."
   ]
  },
  {
   "cell_type": "markdown",
   "id": "47261574",
   "metadata": {},
   "source": [
    "Обработаем значения в столбцах с аномалиями:"
   ]
  },
  {
   "cell_type": "code",
   "execution_count": 10,
   "id": "df0f2552",
   "metadata": {},
   "outputs": [],
   "source": [
    "# обработаем аномалии в столбце children \n",
    "df['children'] = df['children'].abs()           # заменим ошибку ручного ввода c -1 на 1\n",
    "df['children'] = df['children'].replace(20,2)   # заменим ошибку ручного ввода c 20 на 2\n",
    "\n",
    "# обработаем аномалии в столбце days_employed \n",
    "df['days_employed'] = df['days_employed'].abs() # заменим отрицательные значения в столбце на абсолютные\n",
    "#print(df['days_employed'].value_counts(dropna=False))\n",
    "\n",
    "# обработку аномалии в столбце dob_years на данном этапе производить не будем\n",
    "# обработаем аномалии в столбце gender\n",
    "df.loc[df['gender'] == 'XNA', 'gender'] = 'unknown'  # заменим значения ' XNA'на 'unknown' "
   ]
  },
  {
   "cell_type": "markdown",
   "id": "87a68b9f",
   "metadata": {},
   "source": [
    "Заполним пропуски в столбце days_employed медианными значениями по этому столбцу:"
   ]
  },
  {
   "cell_type": "code",
   "execution_count": 11,
   "id": "35ae6f3c",
   "metadata": {},
   "outputs": [
    {
     "name": "stdout",
     "output_type": "stream",
     "text": [
      "\n",
      "Доля пропущенных значений в столбце days_employed: 0.0\n"
     ]
    }
   ],
   "source": [
    "df['days_employed'] = df['days_employed'].fillna(df['days_employed'].median())\n",
    "print('\\nДоля пропущенных значений в столбце days_employed:', df['days_employed'].isna().sum() / len(df['days_employed']))"
   ]
  },
  {
   "cell_type": "markdown",
   "id": "d5a449ec",
   "metadata": {},
   "source": [
    "### Изменение типов данных"
   ]
  },
  {
   "cell_type": "markdown",
   "id": "3e2ffc1f",
   "metadata": {},
   "source": [
    "Заменим вещественный тип данных в столбце total_income на целочисленный:"
   ]
  },
  {
   "cell_type": "code",
   "execution_count": 12,
   "id": "6574f23c",
   "metadata": {},
   "outputs": [],
   "source": [
    "df['total_income'] = df['total_income'].astype(int)"
   ]
  },
  {
   "cell_type": "markdown",
   "id": "c5de2bb7",
   "metadata": {},
   "source": [
    "Также для экономии памяти заменим тип данных в столбцах таблицы с float64 на float32:"
   ]
  },
  {
   "cell_type": "code",
   "execution_count": 13,
   "id": "65d5e9de",
   "metadata": {},
   "outputs": [
    {
     "name": "stdout",
     "output_type": "stream",
     "text": [
      "<class 'pandas.core.frame.DataFrame'>\n",
      "RangeIndex: 21525 entries, 0 to 21524\n",
      "Data columns (total 12 columns):\n",
      " #   Column            Non-Null Count  Dtype  \n",
      "---  ------            --------------  -----  \n",
      " 0   children          21525 non-null  int64  \n",
      " 1   days_employed     21525 non-null  float32\n",
      " 2   dob_years         21525 non-null  int64  \n",
      " 3   education         21525 non-null  object \n",
      " 4   education_id      21525 non-null  int64  \n",
      " 5   family_status     21525 non-null  object \n",
      " 6   family_status_id  21525 non-null  int64  \n",
      " 7   gender            21525 non-null  object \n",
      " 8   income_type       21525 non-null  object \n",
      " 9   debt              21525 non-null  int64  \n",
      " 10  total_income      21525 non-null  int32  \n",
      " 11  purpose           21525 non-null  object \n",
      "dtypes: float32(1), int32(1), int64(5), object(5)\n",
      "memory usage: 1.8+ MB\n"
     ]
    }
   ],
   "source": [
    "df['days_employed'] = df['days_employed'].astype('float32')\n",
    "df.info()"
   ]
  },
  {
   "cell_type": "markdown",
   "id": "999d4775",
   "metadata": {},
   "source": [
    "### Дубликаты"
   ]
  },
  {
   "cell_type": "markdown",
   "id": "e005fc51",
   "metadata": {},
   "source": [
    "Посчитаем явные дубликаты в таблице:"
   ]
  },
  {
   "cell_type": "code",
   "execution_count": 14,
   "id": "1fc0c3c4",
   "metadata": {},
   "outputs": [
    {
     "data": {
      "text/plain": [
       "54"
      ]
     },
     "execution_count": 14,
     "metadata": {},
     "output_type": "execute_result"
    }
   ],
   "source": [
    "df.duplicated().sum()"
   ]
  },
  {
   "cell_type": "markdown",
   "id": "3c5188f9",
   "metadata": {},
   "source": [
    "Обработаем неявные дубликаты и проверим получившийся датасет:"
   ]
  },
  {
   "cell_type": "code",
   "execution_count": 15,
   "id": "e9842fcf",
   "metadata": {},
   "outputs": [
    {
     "name": "stdout",
     "output_type": "stream",
     "text": [
      "\n",
      "Число уникальных значений в столбце education:\n",
      "среднее                15233\n",
      "высшее                  5260\n",
      "неоконченное высшее      744\n",
      "начальное                282\n",
      "ученая степень             6\n",
      "Name: education, dtype: int64\n",
      "\n",
      "Число уникальных значений в столбце family_status:\n",
      "женат / замужем          12380\n",
      "гражданский брак          4177\n",
      "не женат / не замужем     2813\n",
      "в разводе                 1195\n",
      "вдовец / вдова             960\n",
      "Name: family_status, dtype: int64\n"
     ]
    }
   ],
   "source": [
    "df['education'] = df['education'].str.lower()         # переведем названия уровеней образования клиента в нижний регистр\n",
    "df['family_status'] = df['family_status'].str.lower() # переведем названия семейного статуса клиента в нижний регистр\n",
    "\n",
    "print('\\nЧисло уникальных значений в столбце education:')\n",
    "print(df['education'].value_counts(dropna=False).head())\n",
    "print('\\nЧисло уникальных значений в столбце family_status:')\n",
    "print(df['family_status'].value_counts(dropna=False).head())"
   ]
  },
  {
   "cell_type": "markdown",
   "id": "a62a68bf",
   "metadata": {},
   "source": [
    "В данных присутствовали явные строки-дубликаты, поэтому для их удаления был выбран метод drop_duplicates() с удалением старых индексов. \n",
    "\n",
    "Неявные дубликаты в столбцах education и family_status были устранены путем их приведения к единообразному виду при помощи метода lower(). \n",
    "\n",
    "Возможные причины возникновения дубликатов связаны с ошибками записи, ручного ввода или же изменением метаданных."
   ]
  },
  {
   "cell_type": "markdown",
   "id": "473991f7",
   "metadata": {},
   "source": [
    "Теперь избавимся от явных дубликатов:"
   ]
  },
  {
   "cell_type": "code",
   "execution_count": 16,
   "id": "32a95483",
   "metadata": {},
   "outputs": [
    {
     "data": {
      "text/plain": [
       "0"
      ]
     },
     "execution_count": 16,
     "metadata": {},
     "output_type": "execute_result"
    }
   ],
   "source": [
    "df.duplicated().sum()                                 # посчитаем количество явных дубликатов теперь\n",
    "df = df.drop_duplicates().reset_index(drop=True)      # удалим явные дубликаты (с удалением старых индексов)\n",
    "df.duplicated().sum()"
   ]
  },
  {
   "cell_type": "markdown",
   "id": "7ade58be",
   "metadata": {},
   "source": [
    "### Формирование дополнительных датафреймов словарей, декомпозиция исходной таблицы"
   ]
  },
  {
   "cell_type": "markdown",
   "id": "3e86abbe",
   "metadata": {},
   "source": [
    "Создадим два новых датафрейма:\n",
    "* education_id_dict - датафрейм, в котором каждому уникальному значению из education соответствует уникальное значение education_id;\n",
    "* family_status_dict - датафрейм, в котором каждому уникальному значению из family_status соответствует уникальное значение family_status_id."
   ]
  },
  {
   "cell_type": "code",
   "execution_count": 17,
   "id": "566ea1ed",
   "metadata": {},
   "outputs": [
    {
     "data": {
      "text/html": [
       "<div>\n",
       "<style scoped>\n",
       "    .dataframe tbody tr th:only-of-type {\n",
       "        vertical-align: middle;\n",
       "    }\n",
       "\n",
       "    .dataframe tbody tr th {\n",
       "        vertical-align: top;\n",
       "    }\n",
       "\n",
       "    .dataframe thead th {\n",
       "        text-align: right;\n",
       "    }\n",
       "</style>\n",
       "<table border=\"1\" class=\"dataframe\">\n",
       "  <thead>\n",
       "    <tr style=\"text-align: right;\">\n",
       "      <th></th>\n",
       "      <th>family_status</th>\n",
       "      <th>family_status_id</th>\n",
       "    </tr>\n",
       "  </thead>\n",
       "  <tbody>\n",
       "    <tr>\n",
       "      <th>0</th>\n",
       "      <td>женат / замужем</td>\n",
       "      <td>0</td>\n",
       "    </tr>\n",
       "    <tr>\n",
       "      <th>1</th>\n",
       "      <td>гражданский брак</td>\n",
       "      <td>1</td>\n",
       "    </tr>\n",
       "    <tr>\n",
       "      <th>2</th>\n",
       "      <td>вдовец / вдова</td>\n",
       "      <td>2</td>\n",
       "    </tr>\n",
       "    <tr>\n",
       "      <th>3</th>\n",
       "      <td>в разводе</td>\n",
       "      <td>3</td>\n",
       "    </tr>\n",
       "    <tr>\n",
       "      <th>4</th>\n",
       "      <td>не женат / не замужем</td>\n",
       "      <td>4</td>\n",
       "    </tr>\n",
       "  </tbody>\n",
       "</table>\n",
       "</div>"
      ],
      "text/plain": [
       "           family_status  family_status_id\n",
       "0        женат / замужем                 0\n",
       "1       гражданский брак                 1\n",
       "2         вдовец / вдова                 2\n",
       "3              в разводе                 3\n",
       "4  не женат / не замужем                 4"
      ]
     },
     "metadata": {},
     "output_type": "display_data"
    }
   ],
   "source": [
    "# создадим датафрейм, в котором каждому уникальному значению из education соответствует уникальное значение education_id;\n",
    "education_id_dict = df[['education','education_id']]\n",
    "education_id_dict = education_id_dict.drop_duplicates().reset_index(drop=True)\n",
    "#display(education_id_dict)\n",
    "\n",
    "# создадим датафрейм, в котором каждому уникальному значению из family_status соответствует уникальное значение family_status_id.\n",
    "family_status_dict = df[['family_status','family_status_id']]\n",
    "family_status_dict = family_status_dict.drop_duplicates().reset_index(drop=True)\n",
    "display(family_status_dict)"
   ]
  },
  {
   "cell_type": "markdown",
   "id": "1ff190ca",
   "metadata": {},
   "source": [
    "Удалим из таблицы столбцы education и family_status, оставив только их идентификаторы education_id и family_status_id:"
   ]
  },
  {
   "cell_type": "code",
   "execution_count": 18,
   "id": "867b1ffd",
   "metadata": {},
   "outputs": [
    {
     "data": {
      "text/html": [
       "<div>\n",
       "<style scoped>\n",
       "    .dataframe tbody tr th:only-of-type {\n",
       "        vertical-align: middle;\n",
       "    }\n",
       "\n",
       "    .dataframe tbody tr th {\n",
       "        vertical-align: top;\n",
       "    }\n",
       "\n",
       "    .dataframe thead th {\n",
       "        text-align: right;\n",
       "    }\n",
       "</style>\n",
       "<table border=\"1\" class=\"dataframe\">\n",
       "  <thead>\n",
       "    <tr style=\"text-align: right;\">\n",
       "      <th></th>\n",
       "      <th>children</th>\n",
       "      <th>days_employed</th>\n",
       "      <th>dob_years</th>\n",
       "      <th>education_id</th>\n",
       "      <th>family_status_id</th>\n",
       "      <th>gender</th>\n",
       "      <th>income_type</th>\n",
       "      <th>debt</th>\n",
       "      <th>total_income</th>\n",
       "      <th>purpose</th>\n",
       "    </tr>\n",
       "  </thead>\n",
       "  <tbody>\n",
       "    <tr>\n",
       "      <th>0</th>\n",
       "      <td>1</td>\n",
       "      <td>8437.672852</td>\n",
       "      <td>42</td>\n",
       "      <td>0</td>\n",
       "      <td>0</td>\n",
       "      <td>F</td>\n",
       "      <td>сотрудник</td>\n",
       "      <td>0</td>\n",
       "      <td>253875</td>\n",
       "      <td>покупка жилья</td>\n",
       "    </tr>\n",
       "    <tr>\n",
       "      <th>1</th>\n",
       "      <td>1</td>\n",
       "      <td>4024.803711</td>\n",
       "      <td>36</td>\n",
       "      <td>1</td>\n",
       "      <td>0</td>\n",
       "      <td>F</td>\n",
       "      <td>сотрудник</td>\n",
       "      <td>0</td>\n",
       "      <td>112080</td>\n",
       "      <td>приобретение автомобиля</td>\n",
       "    </tr>\n",
       "    <tr>\n",
       "      <th>2</th>\n",
       "      <td>0</td>\n",
       "      <td>5623.422852</td>\n",
       "      <td>33</td>\n",
       "      <td>1</td>\n",
       "      <td>0</td>\n",
       "      <td>M</td>\n",
       "      <td>сотрудник</td>\n",
       "      <td>0</td>\n",
       "      <td>145885</td>\n",
       "      <td>покупка жилья</td>\n",
       "    </tr>\n",
       "    <tr>\n",
       "      <th>3</th>\n",
       "      <td>3</td>\n",
       "      <td>4124.747070</td>\n",
       "      <td>32</td>\n",
       "      <td>1</td>\n",
       "      <td>0</td>\n",
       "      <td>M</td>\n",
       "      <td>сотрудник</td>\n",
       "      <td>0</td>\n",
       "      <td>267628</td>\n",
       "      <td>дополнительное образование</td>\n",
       "    </tr>\n",
       "    <tr>\n",
       "      <th>4</th>\n",
       "      <td>0</td>\n",
       "      <td>340266.062500</td>\n",
       "      <td>53</td>\n",
       "      <td>1</td>\n",
       "      <td>1</td>\n",
       "      <td>F</td>\n",
       "      <td>пенсионер</td>\n",
       "      <td>0</td>\n",
       "      <td>158616</td>\n",
       "      <td>сыграть свадьбу</td>\n",
       "    </tr>\n",
       "  </tbody>\n",
       "</table>\n",
       "</div>"
      ],
      "text/plain": [
       "   children  days_employed  dob_years  education_id  family_status_id gender  \\\n",
       "0         1    8437.672852         42             0                 0      F   \n",
       "1         1    4024.803711         36             1                 0      F   \n",
       "2         0    5623.422852         33             1                 0      M   \n",
       "3         3    4124.747070         32             1                 0      M   \n",
       "4         0  340266.062500         53             1                 1      F   \n",
       "\n",
       "  income_type  debt  total_income                     purpose  \n",
       "0   сотрудник     0        253875               покупка жилья  \n",
       "1   сотрудник     0        112080     приобретение автомобиля  \n",
       "2   сотрудник     0        145885               покупка жилья  \n",
       "3   сотрудник     0        267628  дополнительное образование  \n",
       "4   пенсионер     0        158616             сыграть свадьбу  "
      ]
     },
     "metadata": {},
     "output_type": "display_data"
    }
   ],
   "source": [
    "df = df.drop(columns=['education', 'family_status']) \n",
    "display(df.head())"
   ]
  },
  {
   "cell_type": "markdown",
   "id": "106ce89d",
   "metadata": {},
   "source": [
    "### Категоризация дохода"
   ]
  },
  {
   "cell_type": "markdown",
   "id": "13c27241",
   "metadata": {},
   "source": [
    "Создадим в таблице новый столбец total_income_category со следующими категориями в зависимости от значений дохода клиента:  \n",
    "* 0–30000 — 'E';\n",
    "* 30001–50000 — 'D';\n",
    "* 50001–200000 — 'C';\n",
    "* 200001–1000000 — 'B';\n",
    "* 1000001 и выше — 'A'.\n",
    "\n",
    "Для этого создадим функцию category_name, которая оценивает категорию клиента в зависимости от его ежемесячного дохода:"
   ]
  },
  {
   "cell_type": "code",
   "execution_count": 19,
   "id": "bbda8ab5",
   "metadata": {},
   "outputs": [],
   "source": [
    "def category_name(total_income):\n",
    "    if total_income <= 30000:\n",
    "        return 'E'\n",
    "    elif total_income <= 50000:\n",
    "        return 'D'\n",
    "    elif total_income <= 200000:\n",
    "        return 'С'\n",
    "    elif total_income <= 1000000:\n",
    "        return 'B'\n",
    "    else:\n",
    "        return 'A'"
   ]
  },
  {
   "cell_type": "markdown",
   "id": "ddcb8a27",
   "metadata": {},
   "source": [
    "Проверим работу функции category_name:"
   ]
  },
  {
   "cell_type": "code",
   "execution_count": 20,
   "id": "47a6ef75",
   "metadata": {},
   "outputs": [
    {
     "name": "stdout",
     "output_type": "stream",
     "text": [
      "Категория - E\n"
     ]
    }
   ],
   "source": [
    "print('Категория -', category_name(25000))"
   ]
  },
  {
   "cell_type": "markdown",
   "id": "df289917",
   "metadata": {},
   "source": [
    "При помощи функции category_name создадим в таблице столбец total_income_category и проверим первые пять строк таблицы:"
   ]
  },
  {
   "cell_type": "code",
   "execution_count": 21,
   "id": "a3221475",
   "metadata": {},
   "outputs": [
    {
     "data": {
      "text/html": [
       "<div>\n",
       "<style scoped>\n",
       "    .dataframe tbody tr th:only-of-type {\n",
       "        vertical-align: middle;\n",
       "    }\n",
       "\n",
       "    .dataframe tbody tr th {\n",
       "        vertical-align: top;\n",
       "    }\n",
       "\n",
       "    .dataframe thead th {\n",
       "        text-align: right;\n",
       "    }\n",
       "</style>\n",
       "<table border=\"1\" class=\"dataframe\">\n",
       "  <thead>\n",
       "    <tr style=\"text-align: right;\">\n",
       "      <th></th>\n",
       "      <th>children</th>\n",
       "      <th>days_employed</th>\n",
       "      <th>dob_years</th>\n",
       "      <th>education_id</th>\n",
       "      <th>family_status_id</th>\n",
       "      <th>gender</th>\n",
       "      <th>income_type</th>\n",
       "      <th>debt</th>\n",
       "      <th>total_income</th>\n",
       "      <th>purpose</th>\n",
       "      <th>total_income_category</th>\n",
       "    </tr>\n",
       "  </thead>\n",
       "  <tbody>\n",
       "    <tr>\n",
       "      <th>0</th>\n",
       "      <td>1</td>\n",
       "      <td>8437.672852</td>\n",
       "      <td>42</td>\n",
       "      <td>0</td>\n",
       "      <td>0</td>\n",
       "      <td>F</td>\n",
       "      <td>сотрудник</td>\n",
       "      <td>0</td>\n",
       "      <td>253875</td>\n",
       "      <td>покупка жилья</td>\n",
       "      <td>B</td>\n",
       "    </tr>\n",
       "    <tr>\n",
       "      <th>1</th>\n",
       "      <td>1</td>\n",
       "      <td>4024.803711</td>\n",
       "      <td>36</td>\n",
       "      <td>1</td>\n",
       "      <td>0</td>\n",
       "      <td>F</td>\n",
       "      <td>сотрудник</td>\n",
       "      <td>0</td>\n",
       "      <td>112080</td>\n",
       "      <td>приобретение автомобиля</td>\n",
       "      <td>С</td>\n",
       "    </tr>\n",
       "    <tr>\n",
       "      <th>2</th>\n",
       "      <td>0</td>\n",
       "      <td>5623.422852</td>\n",
       "      <td>33</td>\n",
       "      <td>1</td>\n",
       "      <td>0</td>\n",
       "      <td>M</td>\n",
       "      <td>сотрудник</td>\n",
       "      <td>0</td>\n",
       "      <td>145885</td>\n",
       "      <td>покупка жилья</td>\n",
       "      <td>С</td>\n",
       "    </tr>\n",
       "    <tr>\n",
       "      <th>3</th>\n",
       "      <td>3</td>\n",
       "      <td>4124.747070</td>\n",
       "      <td>32</td>\n",
       "      <td>1</td>\n",
       "      <td>0</td>\n",
       "      <td>M</td>\n",
       "      <td>сотрудник</td>\n",
       "      <td>0</td>\n",
       "      <td>267628</td>\n",
       "      <td>дополнительное образование</td>\n",
       "      <td>B</td>\n",
       "    </tr>\n",
       "    <tr>\n",
       "      <th>4</th>\n",
       "      <td>0</td>\n",
       "      <td>340266.062500</td>\n",
       "      <td>53</td>\n",
       "      <td>1</td>\n",
       "      <td>1</td>\n",
       "      <td>F</td>\n",
       "      <td>пенсионер</td>\n",
       "      <td>0</td>\n",
       "      <td>158616</td>\n",
       "      <td>сыграть свадьбу</td>\n",
       "      <td>С</td>\n",
       "    </tr>\n",
       "  </tbody>\n",
       "</table>\n",
       "</div>"
      ],
      "text/plain": [
       "   children  days_employed  dob_years  education_id  family_status_id gender  \\\n",
       "0         1    8437.672852         42             0                 0      F   \n",
       "1         1    4024.803711         36             1                 0      F   \n",
       "2         0    5623.422852         33             1                 0      M   \n",
       "3         3    4124.747070         32             1                 0      M   \n",
       "4         0  340266.062500         53             1                 1      F   \n",
       "\n",
       "  income_type  debt  total_income                     purpose  \\\n",
       "0   сотрудник     0        253875               покупка жилья   \n",
       "1   сотрудник     0        112080     приобретение автомобиля   \n",
       "2   сотрудник     0        145885               покупка жилья   \n",
       "3   сотрудник     0        267628  дополнительное образование   \n",
       "4   пенсионер     0        158616             сыграть свадьбу   \n",
       "\n",
       "  total_income_category  \n",
       "0                     B  \n",
       "1                     С  \n",
       "2                     С  \n",
       "3                     B  \n",
       "4                     С  "
      ]
     },
     "metadata": {},
     "output_type": "display_data"
    }
   ],
   "source": [
    "df['total_income_category'] = df['total_income'].apply(category_name) \n",
    "display(df.head())"
   ]
  },
  {
   "cell_type": "markdown",
   "id": "8cf7fd7a",
   "metadata": {},
   "source": [
    "### Категоризация целей кредита"
   ]
  },
  {
   "cell_type": "markdown",
   "id": "283c983d",
   "metadata": {},
   "source": [
    "Создадим функцию, которая на основании данных из столбца purpose сформирует новый столбец purpose_category, в который войдут следующие категории:\n",
    "* 'операции с автомобилем',\n",
    "* 'операции с недвижимостью',\n",
    "* 'проведение свадьбы',\n",
    "* 'получение образования'."
   ]
  },
  {
   "cell_type": "code",
   "execution_count": 22,
   "id": "9884477d",
   "metadata": {},
   "outputs": [],
   "source": [
    "# Создадим функцию define_purpose_category, которая определяет цель получения кредита на основе заданных категорий\n",
    "def define_purpose_category(purpose):\n",
    "    if 'авто' in purpose:\n",
    "        return 'операции с автомобилем'\n",
    "    elif 'жи' in purpose:\n",
    "        return 'операции с недвижимостью'\n",
    "    elif 'свадьб' in purpose:\n",
    "        return 'проведение свадьбы'       \n",
    "    else:\n",
    "        return 'получение образования'"
   ]
  },
  {
   "cell_type": "markdown",
   "id": "3e5b1c5f",
   "metadata": {},
   "source": [
    "При помощи функции define_purpose_category создадим в таблице столбец purpose_category и проверим первые десять строк таблицы:   "
   ]
  },
  {
   "cell_type": "code",
   "execution_count": 23,
   "id": "40f0d292",
   "metadata": {},
   "outputs": [
    {
     "data": {
      "text/html": [
       "<div>\n",
       "<style scoped>\n",
       "    .dataframe tbody tr th:only-of-type {\n",
       "        vertical-align: middle;\n",
       "    }\n",
       "\n",
       "    .dataframe tbody tr th {\n",
       "        vertical-align: top;\n",
       "    }\n",
       "\n",
       "    .dataframe thead th {\n",
       "        text-align: right;\n",
       "    }\n",
       "</style>\n",
       "<table border=\"1\" class=\"dataframe\">\n",
       "  <thead>\n",
       "    <tr style=\"text-align: right;\">\n",
       "      <th></th>\n",
       "      <th>children</th>\n",
       "      <th>days_employed</th>\n",
       "      <th>dob_years</th>\n",
       "      <th>education_id</th>\n",
       "      <th>family_status_id</th>\n",
       "      <th>gender</th>\n",
       "      <th>income_type</th>\n",
       "      <th>debt</th>\n",
       "      <th>total_income</th>\n",
       "      <th>purpose</th>\n",
       "      <th>total_income_category</th>\n",
       "      <th>purpose_category</th>\n",
       "    </tr>\n",
       "  </thead>\n",
       "  <tbody>\n",
       "    <tr>\n",
       "      <th>0</th>\n",
       "      <td>1</td>\n",
       "      <td>8437.672852</td>\n",
       "      <td>42</td>\n",
       "      <td>0</td>\n",
       "      <td>0</td>\n",
       "      <td>F</td>\n",
       "      <td>сотрудник</td>\n",
       "      <td>0</td>\n",
       "      <td>253875</td>\n",
       "      <td>покупка жилья</td>\n",
       "      <td>B</td>\n",
       "      <td>операции с недвижимостью</td>\n",
       "    </tr>\n",
       "    <tr>\n",
       "      <th>1</th>\n",
       "      <td>1</td>\n",
       "      <td>4024.803711</td>\n",
       "      <td>36</td>\n",
       "      <td>1</td>\n",
       "      <td>0</td>\n",
       "      <td>F</td>\n",
       "      <td>сотрудник</td>\n",
       "      <td>0</td>\n",
       "      <td>112080</td>\n",
       "      <td>приобретение автомобиля</td>\n",
       "      <td>С</td>\n",
       "      <td>операции с автомобилем</td>\n",
       "    </tr>\n",
       "    <tr>\n",
       "      <th>2</th>\n",
       "      <td>0</td>\n",
       "      <td>5623.422852</td>\n",
       "      <td>33</td>\n",
       "      <td>1</td>\n",
       "      <td>0</td>\n",
       "      <td>M</td>\n",
       "      <td>сотрудник</td>\n",
       "      <td>0</td>\n",
       "      <td>145885</td>\n",
       "      <td>покупка жилья</td>\n",
       "      <td>С</td>\n",
       "      <td>операции с недвижимостью</td>\n",
       "    </tr>\n",
       "    <tr>\n",
       "      <th>3</th>\n",
       "      <td>3</td>\n",
       "      <td>4124.747070</td>\n",
       "      <td>32</td>\n",
       "      <td>1</td>\n",
       "      <td>0</td>\n",
       "      <td>M</td>\n",
       "      <td>сотрудник</td>\n",
       "      <td>0</td>\n",
       "      <td>267628</td>\n",
       "      <td>дополнительное образование</td>\n",
       "      <td>B</td>\n",
       "      <td>получение образования</td>\n",
       "    </tr>\n",
       "    <tr>\n",
       "      <th>4</th>\n",
       "      <td>0</td>\n",
       "      <td>340266.062500</td>\n",
       "      <td>53</td>\n",
       "      <td>1</td>\n",
       "      <td>1</td>\n",
       "      <td>F</td>\n",
       "      <td>пенсионер</td>\n",
       "      <td>0</td>\n",
       "      <td>158616</td>\n",
       "      <td>сыграть свадьбу</td>\n",
       "      <td>С</td>\n",
       "      <td>проведение свадьбы</td>\n",
       "    </tr>\n",
       "    <tr>\n",
       "      <th>5</th>\n",
       "      <td>0</td>\n",
       "      <td>926.185852</td>\n",
       "      <td>27</td>\n",
       "      <td>0</td>\n",
       "      <td>1</td>\n",
       "      <td>M</td>\n",
       "      <td>компаньон</td>\n",
       "      <td>0</td>\n",
       "      <td>255763</td>\n",
       "      <td>покупка жилья</td>\n",
       "      <td>B</td>\n",
       "      <td>операции с недвижимостью</td>\n",
       "    </tr>\n",
       "    <tr>\n",
       "      <th>6</th>\n",
       "      <td>0</td>\n",
       "      <td>2879.202148</td>\n",
       "      <td>43</td>\n",
       "      <td>0</td>\n",
       "      <td>0</td>\n",
       "      <td>F</td>\n",
       "      <td>компаньон</td>\n",
       "      <td>0</td>\n",
       "      <td>240525</td>\n",
       "      <td>операции с жильем</td>\n",
       "      <td>B</td>\n",
       "      <td>операции с недвижимостью</td>\n",
       "    </tr>\n",
       "    <tr>\n",
       "      <th>7</th>\n",
       "      <td>0</td>\n",
       "      <td>152.779572</td>\n",
       "      <td>50</td>\n",
       "      <td>1</td>\n",
       "      <td>0</td>\n",
       "      <td>M</td>\n",
       "      <td>сотрудник</td>\n",
       "      <td>0</td>\n",
       "      <td>135823</td>\n",
       "      <td>образование</td>\n",
       "      <td>С</td>\n",
       "      <td>получение образования</td>\n",
       "    </tr>\n",
       "    <tr>\n",
       "      <th>8</th>\n",
       "      <td>2</td>\n",
       "      <td>6929.865234</td>\n",
       "      <td>35</td>\n",
       "      <td>0</td>\n",
       "      <td>1</td>\n",
       "      <td>F</td>\n",
       "      <td>сотрудник</td>\n",
       "      <td>0</td>\n",
       "      <td>95856</td>\n",
       "      <td>на проведение свадьбы</td>\n",
       "      <td>С</td>\n",
       "      <td>проведение свадьбы</td>\n",
       "    </tr>\n",
       "    <tr>\n",
       "      <th>9</th>\n",
       "      <td>0</td>\n",
       "      <td>2188.756348</td>\n",
       "      <td>41</td>\n",
       "      <td>1</td>\n",
       "      <td>0</td>\n",
       "      <td>M</td>\n",
       "      <td>сотрудник</td>\n",
       "      <td>0</td>\n",
       "      <td>144425</td>\n",
       "      <td>покупка жилья для семьи</td>\n",
       "      <td>С</td>\n",
       "      <td>операции с недвижимостью</td>\n",
       "    </tr>\n",
       "  </tbody>\n",
       "</table>\n",
       "</div>"
      ],
      "text/plain": [
       "   children  days_employed  dob_years  education_id  family_status_id gender  \\\n",
       "0         1    8437.672852         42             0                 0      F   \n",
       "1         1    4024.803711         36             1                 0      F   \n",
       "2         0    5623.422852         33             1                 0      M   \n",
       "3         3    4124.747070         32             1                 0      M   \n",
       "4         0  340266.062500         53             1                 1      F   \n",
       "5         0     926.185852         27             0                 1      M   \n",
       "6         0    2879.202148         43             0                 0      F   \n",
       "7         0     152.779572         50             1                 0      M   \n",
       "8         2    6929.865234         35             0                 1      F   \n",
       "9         0    2188.756348         41             1                 0      M   \n",
       "\n",
       "  income_type  debt  total_income                     purpose  \\\n",
       "0   сотрудник     0        253875               покупка жилья   \n",
       "1   сотрудник     0        112080     приобретение автомобиля   \n",
       "2   сотрудник     0        145885               покупка жилья   \n",
       "3   сотрудник     0        267628  дополнительное образование   \n",
       "4   пенсионер     0        158616             сыграть свадьбу   \n",
       "5   компаньон     0        255763               покупка жилья   \n",
       "6   компаньон     0        240525           операции с жильем   \n",
       "7   сотрудник     0        135823                 образование   \n",
       "8   сотрудник     0         95856       на проведение свадьбы   \n",
       "9   сотрудник     0        144425     покупка жилья для семьи   \n",
       "\n",
       "  total_income_category          purpose_category  \n",
       "0                     B  операции с недвижимостью  \n",
       "1                     С    операции с автомобилем  \n",
       "2                     С  операции с недвижимостью  \n",
       "3                     B     получение образования  \n",
       "4                     С        проведение свадьбы  \n",
       "5                     B  операции с недвижимостью  \n",
       "6                     B  операции с недвижимостью  \n",
       "7                     С     получение образования  \n",
       "8                     С        проведение свадьбы  \n",
       "9                     С  операции с недвижимостью  "
      ]
     },
     "metadata": {},
     "output_type": "display_data"
    }
   ],
   "source": [
    "df['purpose_category'] = df['purpose'].apply(define_purpose_category) \n",
    "display(df.head(10))"
   ]
  },
  {
   "cell_type": "markdown",
   "id": "9826efc1",
   "metadata": {},
   "source": [
    "## Ответы на вопросы"
   ]
  },
  {
   "cell_type": "markdown",
   "id": "1fcea7ba",
   "metadata": {},
   "source": [
    "### Есть ли зависимость между количеством детей и возвратом кредита в срок?"
   ]
  },
  {
   "cell_type": "markdown",
   "id": "f877e12b",
   "metadata": {},
   "source": [
    "Оценим зависимость между количеством детей и возвратом кредита в срок. \n",
    "\n",
    "Для этого создадим сводную таблицу, в которой сгруппируем данные по количеству детей, посчитаем число должников,  общее число заемщиков и долю числа должников к общему числу заемщиков в каждой группе:"
   ]
  },
  {
   "cell_type": "code",
   "execution_count": 24,
   "id": "fd352f01",
   "metadata": {},
   "outputs": [
    {
     "data": {
      "text/html": [
       "<style type=\"text/css\">\n",
       "</style>\n",
       "<table id=\"T_0dc93\">\n",
       "  <thead>\n",
       "    <tr>\n",
       "      <th class=\"blank level0\" >&nbsp;</th>\n",
       "      <th id=\"T_0dc93_level0_col0\" class=\"col_heading level0 col0\" >Число должников</th>\n",
       "      <th id=\"T_0dc93_level0_col1\" class=\"col_heading level0 col1\" >Число заемщиков</th>\n",
       "      <th id=\"T_0dc93_level0_col2\" class=\"col_heading level0 col2\" >Доля числа должников</th>\n",
       "    </tr>\n",
       "    <tr>\n",
       "      <th class=\"index_name level0\" >children</th>\n",
       "      <th class=\"blank col0\" >&nbsp;</th>\n",
       "      <th class=\"blank col1\" >&nbsp;</th>\n",
       "      <th class=\"blank col2\" >&nbsp;</th>\n",
       "    </tr>\n",
       "  </thead>\n",
       "  <tbody>\n",
       "    <tr>\n",
       "      <th id=\"T_0dc93_level0_row0\" class=\"row_heading level0 row0\" >5</th>\n",
       "      <td id=\"T_0dc93_row0_col0\" class=\"data row0 col0\" >0</td>\n",
       "      <td id=\"T_0dc93_row0_col1\" class=\"data row0 col1\" >9</td>\n",
       "      <td id=\"T_0dc93_row0_col2\" class=\"data row0 col2\" >0.00%</td>\n",
       "    </tr>\n",
       "    <tr>\n",
       "      <th id=\"T_0dc93_level0_row1\" class=\"row_heading level0 row1\" >0</th>\n",
       "      <td id=\"T_0dc93_row1_col0\" class=\"data row1 col0\" >1063</td>\n",
       "      <td id=\"T_0dc93_row1_col1\" class=\"data row1 col1\" >14091</td>\n",
       "      <td id=\"T_0dc93_row1_col2\" class=\"data row1 col2\" >7.54%</td>\n",
       "    </tr>\n",
       "    <tr>\n",
       "      <th id=\"T_0dc93_level0_row2\" class=\"row_heading level0 row2\" >3</th>\n",
       "      <td id=\"T_0dc93_row2_col0\" class=\"data row2 col0\" >27</td>\n",
       "      <td id=\"T_0dc93_row2_col1\" class=\"data row2 col1\" >330</td>\n",
       "      <td id=\"T_0dc93_row2_col2\" class=\"data row2 col2\" >8.18%</td>\n",
       "    </tr>\n",
       "    <tr>\n",
       "      <th id=\"T_0dc93_level0_row3\" class=\"row_heading level0 row3\" >1</th>\n",
       "      <td id=\"T_0dc93_row3_col0\" class=\"data row3 col0\" >445</td>\n",
       "      <td id=\"T_0dc93_row3_col1\" class=\"data row3 col1\" >4855</td>\n",
       "      <td id=\"T_0dc93_row3_col2\" class=\"data row3 col2\" >9.17%</td>\n",
       "    </tr>\n",
       "    <tr>\n",
       "      <th id=\"T_0dc93_level0_row4\" class=\"row_heading level0 row4\" >2</th>\n",
       "      <td id=\"T_0dc93_row4_col0\" class=\"data row4 col0\" >202</td>\n",
       "      <td id=\"T_0dc93_row4_col1\" class=\"data row4 col1\" >2128</td>\n",
       "      <td id=\"T_0dc93_row4_col2\" class=\"data row4 col2\" >9.49%</td>\n",
       "    </tr>\n",
       "    <tr>\n",
       "      <th id=\"T_0dc93_level0_row5\" class=\"row_heading level0 row5\" >4</th>\n",
       "      <td id=\"T_0dc93_row5_col0\" class=\"data row5 col0\" >4</td>\n",
       "      <td id=\"T_0dc93_row5_col1\" class=\"data row5 col1\" >41</td>\n",
       "      <td id=\"T_0dc93_row5_col2\" class=\"data row5 col2\" >9.76%</td>\n",
       "    </tr>\n",
       "  </tbody>\n",
       "</table>\n"
      ],
      "text/plain": [
       "<pandas.io.formats.style.Styler at 0x28fb9174250>"
      ]
     },
     "metadata": {},
     "output_type": "display_data"
    }
   ],
   "source": [
    "df_pivot_children = df.pivot_table(index = 'children', values = 'debt', aggfunc = ['sum', 'count', 'mean'])\n",
    "df_pivot_children.columns = ['Число должников', 'Число заемщиков', 'Доля числа должников']\n",
    "display(df_pivot_children.sort_values(by='Доля числа должников', ascending=True).style.format({'Доля числа должников': '{:,.2%}'.format}))"
   ]
  },
  {
   "cell_type": "markdown",
   "id": "b57d58ce",
   "metadata": {},
   "source": [
    "#### Вывод:"
   ]
  },
  {
   "cell_type": "markdown",
   "id": "0171f206",
   "metadata": {},
   "source": [
    "Данные показывают отсутствие зависимости между количеством детей и возвратом кредита в срок."
   ]
  },
  {
   "cell_type": "markdown",
   "id": "347c21de",
   "metadata": {},
   "source": [
    "### Есть ли зависимость между семейным положением и возвратом кредита в срок?"
   ]
  },
  {
   "cell_type": "markdown",
   "id": "34ab8117",
   "metadata": {},
   "source": [
    "Оценим зависимость между семейным положением и возвратом кредита в срок."
   ]
  },
  {
   "cell_type": "markdown",
   "id": "76c00aa2",
   "metadata": {},
   "source": [
    "Для этого создадим сводную таблицу, в которой сгруппируем данные по семейному положению, посчитаем число должников, общее число заемщиков и долю числа должников к общему числу заемщиков в каждой группе:"
   ]
  },
  {
   "cell_type": "code",
   "execution_count": 25,
   "id": "775b152d",
   "metadata": {},
   "outputs": [],
   "source": [
    "df_pivot_family_status = df.pivot_table(index = 'family_status_id', values = 'debt', aggfunc = ['sum', 'count', 'mean'])"
   ]
  },
  {
   "cell_type": "markdown",
   "id": "238c528a",
   "metadata": {},
   "source": [
    "Объединим таблицы family_status_dict и df_pivot_family_status по значению family_status_id:"
   ]
  },
  {
   "cell_type": "code",
   "execution_count": 26,
   "id": "9bde65e3",
   "metadata": {
    "scrolled": true
   },
   "outputs": [
    {
     "data": {
      "text/html": [
       "<style type=\"text/css\">\n",
       "</style>\n",
       "<table id=\"T_4a1ea\">\n",
       "  <thead>\n",
       "    <tr>\n",
       "      <th class=\"blank level0\" >&nbsp;</th>\n",
       "      <th id=\"T_4a1ea_level0_col0\" class=\"col_heading level0 col0\" >Семейный статус</th>\n",
       "      <th id=\"T_4a1ea_level0_col1\" class=\"col_heading level0 col1\" >ID семейного статуса</th>\n",
       "      <th id=\"T_4a1ea_level0_col2\" class=\"col_heading level0 col2\" >Число должников</th>\n",
       "      <th id=\"T_4a1ea_level0_col3\" class=\"col_heading level0 col3\" >Число заемщиков</th>\n",
       "      <th id=\"T_4a1ea_level0_col4\" class=\"col_heading level0 col4\" >Доля числа должников</th>\n",
       "    </tr>\n",
       "  </thead>\n",
       "  <tbody>\n",
       "    <tr>\n",
       "      <th id=\"T_4a1ea_level0_row0\" class=\"row_heading level0 row0\" >2</th>\n",
       "      <td id=\"T_4a1ea_row0_col0\" class=\"data row0 col0\" >вдовец / вдова</td>\n",
       "      <td id=\"T_4a1ea_row0_col1\" class=\"data row0 col1\" >2</td>\n",
       "      <td id=\"T_4a1ea_row0_col2\" class=\"data row0 col2\" >63</td>\n",
       "      <td id=\"T_4a1ea_row0_col3\" class=\"data row0 col3\" >959</td>\n",
       "      <td id=\"T_4a1ea_row0_col4\" class=\"data row0 col4\" >6.57%</td>\n",
       "    </tr>\n",
       "    <tr>\n",
       "      <th id=\"T_4a1ea_level0_row1\" class=\"row_heading level0 row1\" >3</th>\n",
       "      <td id=\"T_4a1ea_row1_col0\" class=\"data row1 col0\" >в разводе</td>\n",
       "      <td id=\"T_4a1ea_row1_col1\" class=\"data row1 col1\" >3</td>\n",
       "      <td id=\"T_4a1ea_row1_col2\" class=\"data row1 col2\" >85</td>\n",
       "      <td id=\"T_4a1ea_row1_col3\" class=\"data row1 col3\" >1195</td>\n",
       "      <td id=\"T_4a1ea_row1_col4\" class=\"data row1 col4\" >7.11%</td>\n",
       "    </tr>\n",
       "    <tr>\n",
       "      <th id=\"T_4a1ea_level0_row2\" class=\"row_heading level0 row2\" >0</th>\n",
       "      <td id=\"T_4a1ea_row2_col0\" class=\"data row2 col0\" >женат / замужем</td>\n",
       "      <td id=\"T_4a1ea_row2_col1\" class=\"data row2 col1\" >0</td>\n",
       "      <td id=\"T_4a1ea_row2_col2\" class=\"data row2 col2\" >931</td>\n",
       "      <td id=\"T_4a1ea_row2_col3\" class=\"data row2 col3\" >12339</td>\n",
       "      <td id=\"T_4a1ea_row2_col4\" class=\"data row2 col4\" >7.55%</td>\n",
       "    </tr>\n",
       "    <tr>\n",
       "      <th id=\"T_4a1ea_level0_row3\" class=\"row_heading level0 row3\" >1</th>\n",
       "      <td id=\"T_4a1ea_row3_col0\" class=\"data row3 col0\" >гражданский брак</td>\n",
       "      <td id=\"T_4a1ea_row3_col1\" class=\"data row3 col1\" >1</td>\n",
       "      <td id=\"T_4a1ea_row3_col2\" class=\"data row3 col2\" >388</td>\n",
       "      <td id=\"T_4a1ea_row3_col3\" class=\"data row3 col3\" >4151</td>\n",
       "      <td id=\"T_4a1ea_row3_col4\" class=\"data row3 col4\" >9.35%</td>\n",
       "    </tr>\n",
       "    <tr>\n",
       "      <th id=\"T_4a1ea_level0_row4\" class=\"row_heading level0 row4\" >4</th>\n",
       "      <td id=\"T_4a1ea_row4_col0\" class=\"data row4 col0\" >не женат / не замужем</td>\n",
       "      <td id=\"T_4a1ea_row4_col1\" class=\"data row4 col1\" >4</td>\n",
       "      <td id=\"T_4a1ea_row4_col2\" class=\"data row4 col2\" >274</td>\n",
       "      <td id=\"T_4a1ea_row4_col3\" class=\"data row4 col3\" >2810</td>\n",
       "      <td id=\"T_4a1ea_row4_col4\" class=\"data row4 col4\" >9.75%</td>\n",
       "    </tr>\n",
       "  </tbody>\n",
       "</table>\n"
      ],
      "text/plain": [
       "<pandas.io.formats.style.Styler at 0x28fb9bc4970>"
      ]
     },
     "metadata": {},
     "output_type": "display_data"
    }
   ],
   "source": [
    "df_pivot_family_status = family_status_dict.merge(df_pivot_family_status, on='family_status_id', how='left')\n",
    "df_pivot_family_status.columns = ['Семейный статус','ID семейного статуса','Число должников', 'Число заемщиков', 'Доля числа должников']\n",
    "display(df_pivot_family_status.sort_values(by='Доля числа должников', ascending=True).style.format({'Доля числа должников': '{:,.2%}'.format}))"
   ]
  },
  {
   "cell_type": "markdown",
   "id": "098850e7",
   "metadata": {},
   "source": [
    "#### Вывод:"
   ]
  },
  {
   "cell_type": "markdown",
   "id": "a04da2fa",
   "metadata": {},
   "source": [
    "Данные показывают следующую зависимость между семейным статусом и возвратом кредита в срок: одинокие люди (вдовцы/ вдовы и в разводе), ранее состоявшие в браке, возвращают кредит в срок чаще по сравнению с клиентами, состоящими в гражданском браке, либо не женатыми / не замужем.   "
   ]
  },
  {
   "cell_type": "markdown",
   "id": "00d300f0",
   "metadata": {},
   "source": [
    "### Есть ли зависимость между уровнем дохода и возвратом кредита в срок?"
   ]
  },
  {
   "cell_type": "markdown",
   "id": "8898b5b1",
   "metadata": {},
   "source": [
    "Оценим зависимость между уровнем дохода и возвратом кредита в срок.\n",
    "\n",
    "Для этого создадим сводную таблицу, в которой сгруппируем данные по уровню дохода на основании столбца total_income_category, и посчитаем число должников, общее число заемщиков и долю числа должников к общему числу заемщиков в каждой группе:"
   ]
  },
  {
   "cell_type": "code",
   "execution_count": 27,
   "id": "cf5f0ae7",
   "metadata": {},
   "outputs": [
    {
     "data": {
      "text/html": [
       "<style type=\"text/css\">\n",
       "</style>\n",
       "<table id=\"T_57342\">\n",
       "  <thead>\n",
       "    <tr>\n",
       "      <th class=\"blank level0\" >&nbsp;</th>\n",
       "      <th id=\"T_57342_level0_col0\" class=\"col_heading level0 col0\" >Число должников</th>\n",
       "      <th id=\"T_57342_level0_col1\" class=\"col_heading level0 col1\" >Число заемщиков</th>\n",
       "      <th id=\"T_57342_level0_col2\" class=\"col_heading level0 col2\" >Доля числа должников</th>\n",
       "    </tr>\n",
       "    <tr>\n",
       "      <th class=\"index_name level0\" >total_income_category</th>\n",
       "      <th class=\"blank col0\" >&nbsp;</th>\n",
       "      <th class=\"blank col1\" >&nbsp;</th>\n",
       "      <th class=\"blank col2\" >&nbsp;</th>\n",
       "    </tr>\n",
       "  </thead>\n",
       "  <tbody>\n",
       "    <tr>\n",
       "      <th id=\"T_57342_level0_row0\" class=\"row_heading level0 row0\" >D</th>\n",
       "      <td id=\"T_57342_row0_col0\" class=\"data row0 col0\" >21</td>\n",
       "      <td id=\"T_57342_row0_col1\" class=\"data row0 col1\" >350</td>\n",
       "      <td id=\"T_57342_row0_col2\" class=\"data row0 col2\" >6.00%</td>\n",
       "    </tr>\n",
       "    <tr>\n",
       "      <th id=\"T_57342_level0_row1\" class=\"row_heading level0 row1\" >B</th>\n",
       "      <td id=\"T_57342_row1_col0\" class=\"data row1 col0\" >356</td>\n",
       "      <td id=\"T_57342_row1_col1\" class=\"data row1 col1\" >5041</td>\n",
       "      <td id=\"T_57342_row1_col2\" class=\"data row1 col2\" >7.06%</td>\n",
       "    </tr>\n",
       "    <tr>\n",
       "      <th id=\"T_57342_level0_row2\" class=\"row_heading level0 row2\" >A</th>\n",
       "      <td id=\"T_57342_row2_col0\" class=\"data row2 col0\" >2</td>\n",
       "      <td id=\"T_57342_row2_col1\" class=\"data row2 col1\" >25</td>\n",
       "      <td id=\"T_57342_row2_col2\" class=\"data row2 col2\" >8.00%</td>\n",
       "    </tr>\n",
       "    <tr>\n",
       "      <th id=\"T_57342_level0_row3\" class=\"row_heading level0 row3\" >С</th>\n",
       "      <td id=\"T_57342_row3_col0\" class=\"data row3 col0\" >1360</td>\n",
       "      <td id=\"T_57342_row3_col1\" class=\"data row3 col1\" >16016</td>\n",
       "      <td id=\"T_57342_row3_col2\" class=\"data row3 col2\" >8.49%</td>\n",
       "    </tr>\n",
       "    <tr>\n",
       "      <th id=\"T_57342_level0_row4\" class=\"row_heading level0 row4\" >E</th>\n",
       "      <td id=\"T_57342_row4_col0\" class=\"data row4 col0\" >2</td>\n",
       "      <td id=\"T_57342_row4_col1\" class=\"data row4 col1\" >22</td>\n",
       "      <td id=\"T_57342_row4_col2\" class=\"data row4 col2\" >9.09%</td>\n",
       "    </tr>\n",
       "  </tbody>\n",
       "</table>\n"
      ],
      "text/plain": [
       "<pandas.io.formats.style.Styler at 0x28fb9e61700>"
      ]
     },
     "metadata": {},
     "output_type": "display_data"
    }
   ],
   "source": [
    "df_pivot_income = df.pivot_table(index = 'total_income_category', values = 'debt', aggfunc = ['sum', 'count', 'mean'])\n",
    "df_pivot_income.columns = ['Число должников', 'Число заемщиков', 'Доля числа должников']\n",
    "display(df_pivot_income.sort_values(by='Доля числа должников', ascending=True).style.format({'Доля числа должников': '{:,.2%}'.format}))"
   ]
  },
  {
   "cell_type": "markdown",
   "id": "5d4e2503",
   "metadata": {},
   "source": [
    "#### Вывод:"
   ]
  },
  {
   "cell_type": "markdown",
   "id": "74a69c6b",
   "metadata": {},
   "source": [
    "Данные показывают отсутствие зависимости между уровнем дохода и возвратом кредита в срок."
   ]
  },
  {
   "cell_type": "markdown",
   "id": "d1e3af59",
   "metadata": {},
   "source": [
    "### Как разные цели кредита влияют на его возврат в срок?"
   ]
  },
  {
   "cell_type": "markdown",
   "id": "54687659",
   "metadata": {},
   "source": [
    "Оценим, rак разные цели кредита влияют на его возврат в срок.\n",
    "\n",
    "Для этого создадим сводную таблицу, в которой сгруппируем данные по цели кредита на основании столбца purpose_category, и посчитаем число должников, общее число заемщиков и долю числа должников к общему числу заемщиков в каждой группе:"
   ]
  },
  {
   "cell_type": "code",
   "execution_count": 28,
   "id": "9c103079",
   "metadata": {},
   "outputs": [
    {
     "data": {
      "text/html": [
       "<style type=\"text/css\">\n",
       "</style>\n",
       "<table id=\"T_6f0fc\">\n",
       "  <thead>\n",
       "    <tr>\n",
       "      <th class=\"blank level0\" >&nbsp;</th>\n",
       "      <th id=\"T_6f0fc_level0_col0\" class=\"col_heading level0 col0\" >Число должников</th>\n",
       "      <th id=\"T_6f0fc_level0_col1\" class=\"col_heading level0 col1\" >Число заемщиков</th>\n",
       "      <th id=\"T_6f0fc_level0_col2\" class=\"col_heading level0 col2\" >Доля числа должников</th>\n",
       "    </tr>\n",
       "    <tr>\n",
       "      <th class=\"index_name level0\" >purpose_category</th>\n",
       "      <th class=\"blank col0\" >&nbsp;</th>\n",
       "      <th class=\"blank col1\" >&nbsp;</th>\n",
       "      <th class=\"blank col2\" >&nbsp;</th>\n",
       "    </tr>\n",
       "  </thead>\n",
       "  <tbody>\n",
       "    <tr>\n",
       "      <th id=\"T_6f0fc_level0_row0\" class=\"row_heading level0 row0\" >операции с недвижимостью</th>\n",
       "      <td id=\"T_6f0fc_row0_col0\" class=\"data row0 col0\" >782</td>\n",
       "      <td id=\"T_6f0fc_row0_col1\" class=\"data row0 col1\" >10811</td>\n",
       "      <td id=\"T_6f0fc_row0_col2\" class=\"data row0 col2\" >7.23%</td>\n",
       "    </tr>\n",
       "    <tr>\n",
       "      <th id=\"T_6f0fc_level0_row1\" class=\"row_heading level0 row1\" >проведение свадьбы</th>\n",
       "      <td id=\"T_6f0fc_row1_col0\" class=\"data row1 col0\" >186</td>\n",
       "      <td id=\"T_6f0fc_row1_col1\" class=\"data row1 col1\" >2324</td>\n",
       "      <td id=\"T_6f0fc_row1_col2\" class=\"data row1 col2\" >8.00%</td>\n",
       "    </tr>\n",
       "    <tr>\n",
       "      <th id=\"T_6f0fc_level0_row2\" class=\"row_heading level0 row2\" >получение образования</th>\n",
       "      <td id=\"T_6f0fc_row2_col0\" class=\"data row2 col0\" >370</td>\n",
       "      <td id=\"T_6f0fc_row2_col1\" class=\"data row2 col1\" >4013</td>\n",
       "      <td id=\"T_6f0fc_row2_col2\" class=\"data row2 col2\" >9.22%</td>\n",
       "    </tr>\n",
       "    <tr>\n",
       "      <th id=\"T_6f0fc_level0_row3\" class=\"row_heading level0 row3\" >операции с автомобилем</th>\n",
       "      <td id=\"T_6f0fc_row3_col0\" class=\"data row3 col0\" >403</td>\n",
       "      <td id=\"T_6f0fc_row3_col1\" class=\"data row3 col1\" >4306</td>\n",
       "      <td id=\"T_6f0fc_row3_col2\" class=\"data row3 col2\" >9.36%</td>\n",
       "    </tr>\n",
       "  </tbody>\n",
       "</table>\n"
      ],
      "text/plain": [
       "<pandas.io.formats.style.Styler at 0x28fb91ac640>"
      ]
     },
     "metadata": {},
     "output_type": "display_data"
    }
   ],
   "source": [
    "df_pivot_purpose = df.pivot_table(index = 'purpose_category', values = 'debt', aggfunc = ['sum', 'count', 'mean'])\n",
    "df_pivot_purpose.columns = ['Число должников', 'Число заемщиков', 'Доля числа должников']\n",
    "display(df_pivot_purpose.sort_values(by='Доля числа должников', ascending=True).style.format({'Доля числа должников': '{:,.2%}'.format}))"
   ]
  },
  {
   "cell_type": "markdown",
   "id": "54dfe26e",
   "metadata": {},
   "source": [
    "#### Вывод:"
   ]
  },
  {
   "cell_type": "markdown",
   "id": "39c05cde",
   "metadata": {},
   "source": [
    "Данные показывают, что клиенты, берущие кредит с целью проведения операций с недвижимостью и на проведение свадьбы более ответсвенны с точки зрения возврата кредита в срок, по сравнению с заемщиками, берущими кредит с целью проведения операций с автомобилем и на получение образования."
   ]
  },
  {
   "cell_type": "markdown",
   "id": "0dfb2ac1",
   "metadata": {},
   "source": [
    "## Общий вывод:"
   ]
  },
  {
   "cell_type": "markdown",
   "id": "3a976c2b",
   "metadata": {},
   "source": [
    "Для проверки наличия зависимости между семейным положением и количеством детей клиента на факт погашения кредита в срок мы использовали входные данные со статистикой платёжеспособности клиентов, которые получили от банка.\n",
    "\n",
    "Данные были проверены на наличие ошибок и оценки их влияния на исследование. Далее была выполнена предобработка данных, которая в себя включала: поиск и заполнение пропущенных значений, поиск и обработку аномалий и исправлений,  поиск и обработку явных и неявных дубликатов. \n",
    "\n",
    "После этого мы провели исследование и получили ответы на интересующие вопросы: \n",
    "1. Есть ли зависимость между количеством детей и возвратом кредита в срок?\n",
    "\n",
    "Данные показали отсутствие зависимости между количеством детей и возвратом кредита в срок.\n",
    "\n",
    "2. Есть ли зависимость между семейным положением и возвратом кредита в срок?\n",
    "\n",
    "Данные показали наличие зависимости между семейным положением и возвратом кредита в срок: одинокие заемщики, состоявшие в браке (вдовцы/ вдовы и в разводе), более ответственны по сравнению с теми, кто в браке не состоит (в гражданском браке, не женатыми / не замужем).\n",
    "\n",
    "3. Есть ли зависимость между уровнем дохода и возвратом кредита в срок?\n",
    "\n",
    "Данные показали отсутствие зависимости между уровнем дохода и возвратом кредита в срок.\n",
    "\n",
    "4. Как разные цели кредита влияют на его возврат в срок?\n",
    "\n",
    "Надежность заемщиков различается в зависимости от тех целей, на которые они берут кредит: возврат кредита в срок статистичски характерен для тех клиентов, которые совершают крупные покупки, такие как операции с недвижимостью и на проведение свадьбы, по сравнению с заемщиками, берущими кредит с целью проведения операций с автомобилем и на получение образования.\n",
    "\n",
    "**Рекомендации заказчику** \n",
    "\n",
    "При построении модели кредитного скоринга надежность заемщиков следует оценивать на основании их семейного положения и целей кредита:\n",
    "* Высокая надежность: семейное положение: \"вдовец / вдова\", \"в разводе\"; цель кредита: \"операции с недвижимостью\".\n",
    "* Средняя надежность: семейное положение: \"женат / замужем\"; цель кредита: \"проведение свадьбы\".\n",
    "* Низкая надежность:  семейное положение: \"гражданский брак\", \"не женат / не замужем\"; цель кредита: \"получение образования\", \"операции с автомобилем\"."
   ]
  },
  {
   "cell_type": "code",
   "execution_count": null,
   "id": "d22dba95",
   "metadata": {},
   "outputs": [],
   "source": []
  }
 ],
 "metadata": {
  "ExecuteTimeLog": [
   {
    "duration": 475,
    "start_time": "2022-04-24T17:53:01.814Z"
   },
   {
    "duration": 137,
    "start_time": "2022-04-24T18:03:15.047Z"
   },
   {
    "duration": 97,
    "start_time": "2022-04-24T18:03:27.383Z"
   },
   {
    "duration": 80,
    "start_time": "2022-04-24T18:08:15.953Z"
   },
   {
    "duration": 59,
    "start_time": "2022-04-24T18:09:03.997Z"
   },
   {
    "duration": 88,
    "start_time": "2022-04-24T18:09:16.806Z"
   },
   {
    "duration": 687,
    "start_time": "2022-04-24T18:14:20.613Z"
   },
   {
    "duration": 76,
    "start_time": "2022-04-24T18:15:11.872Z"
   },
   {
    "duration": 61,
    "start_time": "2022-04-24T18:16:43.535Z"
   },
   {
    "duration": 71,
    "start_time": "2022-04-24T18:26:07.693Z"
   },
   {
    "duration": 153,
    "start_time": "2022-04-24T18:31:46.164Z"
   },
   {
    "duration": 508,
    "start_time": "2022-04-26T04:39:01.200Z"
   },
   {
    "duration": 77,
    "start_time": "2022-04-26T04:41:35.811Z"
   },
   {
    "duration": 136,
    "start_time": "2022-04-26T04:43:07.325Z"
   },
   {
    "duration": 72,
    "start_time": "2022-04-26T04:43:19.477Z"
   },
   {
    "duration": 76,
    "start_time": "2022-04-26T04:45:17.466Z"
   },
   {
    "duration": 74,
    "start_time": "2022-04-26T04:48:10.288Z"
   },
   {
    "duration": 75,
    "start_time": "2022-04-26T04:49:39.234Z"
   },
   {
    "duration": 73,
    "start_time": "2022-04-26T04:52:12.116Z"
   },
   {
    "duration": 70,
    "start_time": "2022-04-26T04:53:21.098Z"
   },
   {
    "duration": 69,
    "start_time": "2022-04-26T04:56:54.298Z"
   },
   {
    "duration": 277,
    "start_time": "2022-04-26T04:58:21.900Z"
   },
   {
    "duration": 75,
    "start_time": "2022-04-26T04:59:26.227Z"
   },
   {
    "duration": 70,
    "start_time": "2022-04-26T04:59:47.970Z"
   },
   {
    "duration": 75,
    "start_time": "2022-04-26T05:00:12.823Z"
   },
   {
    "duration": 69,
    "start_time": "2022-04-26T05:01:56.457Z"
   },
   {
    "duration": 65,
    "start_time": "2022-04-26T05:02:02.817Z"
   },
   {
    "duration": 74,
    "start_time": "2022-04-26T05:02:48.550Z"
   },
   {
    "duration": 75,
    "start_time": "2022-04-26T05:03:16.425Z"
   },
   {
    "duration": 78,
    "start_time": "2022-04-26T05:09:17.190Z"
   },
   {
    "duration": 78,
    "start_time": "2022-04-26T05:11:10.613Z"
   },
   {
    "duration": 81,
    "start_time": "2022-04-26T05:13:59.371Z"
   },
   {
    "duration": 72,
    "start_time": "2022-04-26T05:14:22.911Z"
   },
   {
    "duration": 80,
    "start_time": "2022-04-26T05:16:50.952Z"
   },
   {
    "duration": 74,
    "start_time": "2022-04-26T05:17:22.338Z"
   },
   {
    "duration": 71,
    "start_time": "2022-04-26T05:20:26.890Z"
   },
   {
    "duration": 64,
    "start_time": "2022-04-26T05:20:49.321Z"
   },
   {
    "duration": 61,
    "start_time": "2022-04-26T05:22:53.866Z"
   },
   {
    "duration": 71,
    "start_time": "2022-04-26T05:23:28.562Z"
   },
   {
    "duration": 69,
    "start_time": "2022-04-26T05:23:59.045Z"
   },
   {
    "duration": 64,
    "start_time": "2022-04-26T05:24:44.583Z"
   },
   {
    "duration": 71,
    "start_time": "2022-04-26T05:25:14.635Z"
   },
   {
    "duration": 873,
    "start_time": "2022-04-26T05:26:59.808Z"
   },
   {
    "duration": 1105,
    "start_time": "2022-04-26T05:27:16.763Z"
   },
   {
    "duration": 71,
    "start_time": "2022-04-26T05:29:06.099Z"
   },
   {
    "duration": 72,
    "start_time": "2022-04-26T05:34:29.695Z"
   },
   {
    "duration": 744,
    "start_time": "2022-04-26T05:35:25.375Z"
   },
   {
    "duration": 68,
    "start_time": "2022-04-26T05:37:59.242Z"
   },
   {
    "duration": 833,
    "start_time": "2022-04-26T05:38:55.787Z"
   },
   {
    "duration": 66,
    "start_time": "2022-04-26T05:39:31.645Z"
   },
   {
    "duration": 70,
    "start_time": "2022-04-26T05:44:54.475Z"
   },
   {
    "duration": 66,
    "start_time": "2022-04-26T05:45:09.299Z"
   },
   {
    "duration": 67,
    "start_time": "2022-04-26T05:45:29.854Z"
   },
   {
    "duration": 77,
    "start_time": "2022-04-26T05:45:40.345Z"
   },
   {
    "duration": 1489,
    "start_time": "2022-04-26T05:49:18.196Z"
   },
   {
    "duration": 67,
    "start_time": "2022-04-26T05:49:34.227Z"
   },
   {
    "duration": 73,
    "start_time": "2022-04-26T05:52:54.995Z"
   },
   {
    "duration": 73,
    "start_time": "2022-04-26T05:54:32.643Z"
   },
   {
    "duration": 71,
    "start_time": "2022-04-26T05:56:18.401Z"
   },
   {
    "duration": 70,
    "start_time": "2022-04-26T05:56:34.730Z"
   },
   {
    "duration": 71,
    "start_time": "2022-04-26T05:56:43.224Z"
   },
   {
    "duration": 71,
    "start_time": "2022-04-26T05:57:01.335Z"
   },
   {
    "duration": 70,
    "start_time": "2022-04-26T05:57:40.558Z"
   },
   {
    "duration": 91,
    "start_time": "2022-04-26T07:23:27.222Z"
   },
   {
    "duration": 63,
    "start_time": "2022-04-26T07:26:58.049Z"
   },
   {
    "duration": 76,
    "start_time": "2022-04-26T07:27:35.611Z"
   },
   {
    "duration": 70,
    "start_time": "2022-04-26T07:28:46.616Z"
   },
   {
    "duration": 85,
    "start_time": "2022-04-26T07:37:29.884Z"
   },
   {
    "duration": 95,
    "start_time": "2022-04-26T07:37:50.377Z"
   },
   {
    "duration": 81,
    "start_time": "2022-04-26T07:38:50.637Z"
   },
   {
    "duration": 94,
    "start_time": "2022-04-26T07:39:12.065Z"
   },
   {
    "duration": 46,
    "start_time": "2022-04-27T08:13:49.189Z"
   },
   {
    "duration": 419,
    "start_time": "2022-04-27T08:13:54.168Z"
   },
   {
    "duration": 5,
    "start_time": "2022-04-27T08:14:12.142Z"
   },
   {
    "duration": 77,
    "start_time": "2022-04-27T08:17:15.599Z"
   },
   {
    "duration": 69,
    "start_time": "2022-04-27T08:17:27.879Z"
   },
   {
    "duration": 70,
    "start_time": "2022-04-27T08:17:39.537Z"
   },
   {
    "duration": 5,
    "start_time": "2022-04-27T08:19:16.066Z"
   },
   {
    "duration": 75,
    "start_time": "2022-04-27T08:28:58.900Z"
   },
   {
    "duration": 25,
    "start_time": "2022-04-27T08:42:49.374Z"
   },
   {
    "duration": 9,
    "start_time": "2022-04-27T08:43:57.605Z"
   },
   {
    "duration": 6,
    "start_time": "2022-04-27T08:45:05.254Z"
   },
   {
    "duration": 28,
    "start_time": "2022-04-27T08:45:15.940Z"
   },
   {
    "duration": 22,
    "start_time": "2022-04-27T08:45:30.591Z"
   },
   {
    "duration": 25,
    "start_time": "2022-04-27T08:45:48.104Z"
   },
   {
    "duration": 20,
    "start_time": "2022-04-27T08:46:24.608Z"
   },
   {
    "duration": 9,
    "start_time": "2022-04-27T08:47:02.968Z"
   },
   {
    "duration": 5,
    "start_time": "2022-04-27T08:47:49.482Z"
   },
   {
    "duration": 4,
    "start_time": "2022-04-27T08:48:01.439Z"
   },
   {
    "duration": 4,
    "start_time": "2022-04-27T08:49:29.240Z"
   },
   {
    "duration": 33,
    "start_time": "2022-04-27T08:55:02.726Z"
   },
   {
    "duration": 76,
    "start_time": "2022-04-27T08:55:50.917Z"
   },
   {
    "duration": 67,
    "start_time": "2022-04-27T08:56:16.068Z"
   },
   {
    "duration": 113,
    "start_time": "2022-04-27T08:57:20.979Z"
   },
   {
    "duration": 7,
    "start_time": "2022-04-27T09:00:25.848Z"
   },
   {
    "duration": 9,
    "start_time": "2022-04-27T09:00:56.995Z"
   },
   {
    "duration": 12,
    "start_time": "2022-04-27T09:01:08.610Z"
   },
   {
    "duration": 8,
    "start_time": "2022-04-27T09:01:41.372Z"
   },
   {
    "duration": 31,
    "start_time": "2022-04-27T09:01:47.923Z"
   },
   {
    "duration": 67,
    "start_time": "2022-04-27T09:11:06.473Z"
   },
   {
    "duration": 22,
    "start_time": "2022-04-27T09:16:10.588Z"
   },
   {
    "duration": 23,
    "start_time": "2022-04-27T09:16:27.351Z"
   },
   {
    "duration": 23,
    "start_time": "2022-04-27T09:16:40.903Z"
   },
   {
    "duration": 24,
    "start_time": "2022-04-27T09:18:59.186Z"
   },
   {
    "duration": 23,
    "start_time": "2022-04-27T09:20:57.692Z"
   },
   {
    "duration": 26,
    "start_time": "2022-04-27T09:21:12.190Z"
   },
   {
    "duration": 41,
    "start_time": "2022-04-27T09:21:26.750Z"
   },
   {
    "duration": 9,
    "start_time": "2022-04-27T09:22:12.452Z"
   },
   {
    "duration": 33,
    "start_time": "2022-04-27T09:22:42.832Z"
   },
   {
    "duration": 30,
    "start_time": "2022-04-27T09:23:27.363Z"
   },
   {
    "duration": 32,
    "start_time": "2022-04-27T09:24:08.629Z"
   },
   {
    "duration": 36,
    "start_time": "2022-04-27T09:26:53.912Z"
   },
   {
    "duration": 34,
    "start_time": "2022-04-27T09:30:22.563Z"
   },
   {
    "duration": 39,
    "start_time": "2022-04-27T09:31:33.474Z"
   },
   {
    "duration": 39,
    "start_time": "2022-04-27T09:32:23.230Z"
   },
   {
    "duration": 40,
    "start_time": "2022-04-27T09:45:10.903Z"
   },
   {
    "duration": 80,
    "start_time": "2022-04-27T09:49:23.294Z"
   },
   {
    "duration": 67,
    "start_time": "2022-04-27T09:50:42.281Z"
   },
   {
    "duration": 72,
    "start_time": "2022-04-27T09:50:51.259Z"
   },
   {
    "duration": 10,
    "start_time": "2022-04-27T09:55:37.507Z"
   },
   {
    "duration": 10,
    "start_time": "2022-04-27T09:57:13.253Z"
   },
   {
    "duration": 7,
    "start_time": "2022-04-27T09:57:32.364Z"
   },
   {
    "duration": 9,
    "start_time": "2022-04-27T09:58:18.591Z"
   },
   {
    "duration": 4,
    "start_time": "2022-04-27T10:06:29.806Z"
   },
   {
    "duration": 30,
    "start_time": "2022-04-27T10:06:55.202Z"
   },
   {
    "duration": 10,
    "start_time": "2022-04-27T10:06:59.892Z"
   },
   {
    "duration": 16,
    "start_time": "2022-04-27T10:07:08.315Z"
   },
   {
    "duration": 50,
    "start_time": "2022-04-27T12:59:39.819Z"
   },
   {
    "duration": 469,
    "start_time": "2022-04-27T13:00:07.077Z"
   },
   {
    "duration": 6,
    "start_time": "2022-04-27T13:00:07.552Z"
   },
   {
    "duration": 12,
    "start_time": "2022-04-27T13:00:07.560Z"
   },
   {
    "duration": 36,
    "start_time": "2022-04-27T13:00:07.574Z"
   },
   {
    "duration": 7,
    "start_time": "2022-04-27T13:00:07.612Z"
   },
   {
    "duration": 17,
    "start_time": "2022-04-27T13:00:09.393Z"
   },
   {
    "duration": 29,
    "start_time": "2022-04-27T13:09:12.539Z"
   },
   {
    "duration": 7,
    "start_time": "2022-04-27T13:09:21.844Z"
   },
   {
    "duration": 14,
    "start_time": "2022-04-27T13:10:21.152Z"
   },
   {
    "duration": 13,
    "start_time": "2022-04-27T13:10:50.064Z"
   },
   {
    "duration": 19,
    "start_time": "2022-04-27T13:12:42.337Z"
   },
   {
    "duration": 26,
    "start_time": "2022-04-27T13:17:21.787Z"
   },
   {
    "duration": 40,
    "start_time": "2022-04-27T13:18:00.158Z"
   },
   {
    "duration": 23,
    "start_time": "2022-04-27T13:18:20.780Z"
   },
   {
    "duration": 20,
    "start_time": "2022-04-27T13:19:29.957Z"
   },
   {
    "duration": 32,
    "start_time": "2022-04-27T13:30:01.871Z"
   },
   {
    "duration": 34,
    "start_time": "2022-04-27T13:30:12.661Z"
   },
   {
    "duration": 33,
    "start_time": "2022-04-27T13:30:25.506Z"
   },
   {
    "duration": 21,
    "start_time": "2022-04-27T13:30:49.006Z"
   },
   {
    "duration": 34,
    "start_time": "2022-04-27T13:31:46.442Z"
   },
   {
    "duration": 81,
    "start_time": "2022-04-27T13:32:15.444Z"
   },
   {
    "duration": 68,
    "start_time": "2022-04-27T13:32:37.539Z"
   },
   {
    "duration": 89,
    "start_time": "2022-04-27T13:33:51.259Z"
   },
   {
    "duration": 9,
    "start_time": "2022-04-27T13:34:26.214Z"
   },
   {
    "duration": 8,
    "start_time": "2022-04-27T13:34:43.284Z"
   },
   {
    "duration": 86,
    "start_time": "2022-04-27T13:35:23.717Z"
   },
   {
    "duration": 23,
    "start_time": "2022-04-27T13:35:34.433Z"
   },
   {
    "duration": 0,
    "start_time": "2022-04-27T13:36:09.179Z"
   },
   {
    "duration": 35,
    "start_time": "2022-04-27T13:36:49.496Z"
   },
   {
    "duration": 51,
    "start_time": "2022-04-27T13:37:53.571Z"
   },
   {
    "duration": 42,
    "start_time": "2022-04-27T13:38:48.247Z"
   },
   {
    "duration": 45,
    "start_time": "2022-04-27T13:44:32.429Z"
   },
   {
    "duration": 55,
    "start_time": "2022-04-27T13:44:43.913Z"
   },
   {
    "duration": 79,
    "start_time": "2022-04-27T13:46:05.971Z"
   },
   {
    "duration": 40,
    "start_time": "2022-04-27T13:46:08.404Z"
   },
   {
    "duration": 20,
    "start_time": "2022-04-27T13:46:51.471Z"
   },
   {
    "duration": 22,
    "start_time": "2022-04-27T13:48:10.367Z"
   },
   {
    "duration": 10,
    "start_time": "2022-04-27T13:52:35.234Z"
   },
   {
    "duration": 23,
    "start_time": "2022-04-27T13:52:45.772Z"
   },
   {
    "duration": 21,
    "start_time": "2022-04-27T13:52:59.891Z"
   },
   {
    "duration": 9,
    "start_time": "2022-04-27T13:53:15.206Z"
   },
   {
    "duration": 26,
    "start_time": "2022-04-27T13:54:48.073Z"
   },
   {
    "duration": 8,
    "start_time": "2022-04-27T13:55:23.272Z"
   },
   {
    "duration": 22,
    "start_time": "2022-04-27T13:55:28.389Z"
   },
   {
    "duration": 22,
    "start_time": "2022-04-27T13:55:45.784Z"
   },
   {
    "duration": 53,
    "start_time": "2022-04-27T14:09:01.147Z"
   },
   {
    "duration": 39,
    "start_time": "2022-04-27T14:09:14.764Z"
   },
   {
    "duration": 72,
    "start_time": "2022-04-27T14:10:41.722Z"
   },
   {
    "duration": 75,
    "start_time": "2022-04-27T14:10:49.615Z"
   },
   {
    "duration": 51,
    "start_time": "2022-04-27T14:10:59.892Z"
   },
   {
    "duration": 68,
    "start_time": "2022-04-27T14:11:14.017Z"
   },
   {
    "duration": 65,
    "start_time": "2022-04-27T14:11:41.881Z"
   },
   {
    "duration": 96,
    "start_time": "2022-04-27T14:12:06.423Z"
   },
   {
    "duration": 5,
    "start_time": "2022-04-27T14:12:06.521Z"
   },
   {
    "duration": 12,
    "start_time": "2022-04-27T14:12:06.527Z"
   },
   {
    "duration": 61,
    "start_time": "2022-04-27T14:12:06.540Z"
   },
   {
    "duration": 8,
    "start_time": "2022-04-27T14:12:06.603Z"
   },
   {
    "duration": 16,
    "start_time": "2022-04-27T14:12:06.612Z"
   },
   {
    "duration": 59,
    "start_time": "2022-04-27T14:12:11.269Z"
   },
   {
    "duration": 96,
    "start_time": "2022-04-27T14:13:12.902Z"
   },
   {
    "duration": 34,
    "start_time": "2022-04-27T14:13:19.644Z"
   },
   {
    "duration": 55,
    "start_time": "2022-04-27T14:15:13.369Z"
   },
   {
    "duration": 40,
    "start_time": "2022-04-27T14:15:27.483Z"
   },
   {
    "duration": 87,
    "start_time": "2022-04-27T14:15:40.979Z"
   },
   {
    "duration": 7,
    "start_time": "2022-04-27T14:15:41.068Z"
   },
   {
    "duration": 12,
    "start_time": "2022-04-27T14:15:41.076Z"
   },
   {
    "duration": 40,
    "start_time": "2022-04-27T14:15:41.090Z"
   },
   {
    "duration": 30,
    "start_time": "2022-04-27T14:15:41.132Z"
   },
   {
    "duration": 30,
    "start_time": "2022-04-27T14:15:41.164Z"
   },
   {
    "duration": 47,
    "start_time": "2022-04-27T14:15:41.196Z"
   },
   {
    "duration": 53,
    "start_time": "2022-04-27T14:16:05.769Z"
   },
   {
    "duration": 35,
    "start_time": "2022-04-27T14:17:22.004Z"
   },
   {
    "duration": 35,
    "start_time": "2022-04-27T14:17:35.294Z"
   },
   {
    "duration": 44,
    "start_time": "2022-04-27T14:17:51.978Z"
   },
   {
    "duration": 60,
    "start_time": "2022-04-27T14:18:55.167Z"
   },
   {
    "duration": 98,
    "start_time": "2022-04-27T14:19:15.885Z"
   },
   {
    "duration": 93,
    "start_time": "2022-04-27T14:19:36.122Z"
   },
   {
    "duration": 5,
    "start_time": "2022-04-27T14:19:36.217Z"
   },
   {
    "duration": 10,
    "start_time": "2022-04-27T14:19:36.224Z"
   },
   {
    "duration": 61,
    "start_time": "2022-04-27T14:19:36.236Z"
   },
   {
    "duration": 8,
    "start_time": "2022-04-27T14:19:36.300Z"
   },
   {
    "duration": 16,
    "start_time": "2022-04-27T14:19:36.309Z"
   },
   {
    "duration": 70,
    "start_time": "2022-04-27T14:19:41.012Z"
   },
   {
    "duration": 60,
    "start_time": "2022-04-27T14:19:54.041Z"
   },
   {
    "duration": 50,
    "start_time": "2022-04-27T14:20:02.164Z"
   },
   {
    "duration": 72,
    "start_time": "2022-04-27T14:20:07.574Z"
   },
   {
    "duration": 7,
    "start_time": "2022-04-27T14:20:07.650Z"
   },
   {
    "duration": 26,
    "start_time": "2022-04-27T14:20:07.659Z"
   },
   {
    "duration": 38,
    "start_time": "2022-04-27T14:20:07.687Z"
   },
   {
    "duration": 7,
    "start_time": "2022-04-27T14:20:07.727Z"
   },
   {
    "duration": 33,
    "start_time": "2022-04-27T14:20:07.736Z"
   },
   {
    "duration": 65,
    "start_time": "2022-04-27T14:20:09.440Z"
   },
   {
    "duration": 52,
    "start_time": "2022-04-27T14:20:33.706Z"
   },
   {
    "duration": 65,
    "start_time": "2022-04-27T14:20:44.904Z"
   },
   {
    "duration": 70,
    "start_time": "2022-04-27T14:20:50.062Z"
   },
   {
    "duration": 5,
    "start_time": "2022-04-27T14:20:50.134Z"
   },
   {
    "duration": 28,
    "start_time": "2022-04-27T14:20:50.141Z"
   },
   {
    "duration": 38,
    "start_time": "2022-04-27T14:20:50.171Z"
   },
   {
    "duration": 7,
    "start_time": "2022-04-27T14:20:50.211Z"
   },
   {
    "duration": 15,
    "start_time": "2022-04-27T14:20:50.219Z"
   },
   {
    "duration": 56,
    "start_time": "2022-04-27T14:20:51.856Z"
   },
   {
    "duration": 57,
    "start_time": "2022-04-27T14:21:34.842Z"
   },
   {
    "duration": 73,
    "start_time": "2022-04-27T14:21:42.177Z"
   },
   {
    "duration": 7,
    "start_time": "2022-04-27T14:21:42.254Z"
   },
   {
    "duration": 9,
    "start_time": "2022-04-27T14:21:42.262Z"
   },
   {
    "duration": 35,
    "start_time": "2022-04-27T14:21:42.273Z"
   },
   {
    "duration": 6,
    "start_time": "2022-04-27T14:21:42.310Z"
   },
   {
    "duration": 49,
    "start_time": "2022-04-27T14:21:42.318Z"
   },
   {
    "duration": 45,
    "start_time": "2022-04-27T14:21:42.369Z"
   },
   {
    "duration": 59,
    "start_time": "2022-04-27T14:28:57.043Z"
   },
   {
    "duration": 57,
    "start_time": "2022-04-27T14:29:11.845Z"
   },
   {
    "duration": 142,
    "start_time": "2022-04-27T14:29:17.835Z"
   },
   {
    "duration": 5,
    "start_time": "2022-04-27T14:29:17.979Z"
   },
   {
    "duration": 13,
    "start_time": "2022-04-27T14:29:17.985Z"
   },
   {
    "duration": 59,
    "start_time": "2022-04-27T14:29:18.000Z"
   },
   {
    "duration": 11,
    "start_time": "2022-04-27T14:29:18.062Z"
   },
   {
    "duration": 18,
    "start_time": "2022-04-27T14:29:18.074Z"
   },
   {
    "duration": 60,
    "start_time": "2022-04-27T14:29:18.094Z"
   },
   {
    "duration": 42,
    "start_time": "2022-04-27T14:30:20.961Z"
   },
   {
    "duration": 94,
    "start_time": "2022-04-27T14:30:59.436Z"
   },
   {
    "duration": 4,
    "start_time": "2022-04-27T14:30:59.532Z"
   },
   {
    "duration": 19,
    "start_time": "2022-04-27T14:30:59.538Z"
   },
   {
    "duration": 54,
    "start_time": "2022-04-27T14:30:59.560Z"
   },
   {
    "duration": 8,
    "start_time": "2022-04-27T14:30:59.616Z"
   },
   {
    "duration": 33,
    "start_time": "2022-04-27T14:30:59.626Z"
   },
   {
    "duration": 65,
    "start_time": "2022-04-27T14:30:59.662Z"
   },
   {
    "duration": 88,
    "start_time": "2022-04-27T14:31:21.855Z"
   },
   {
    "duration": 10,
    "start_time": "2022-04-27T14:31:21.945Z"
   },
   {
    "duration": 38,
    "start_time": "2022-04-27T14:31:21.958Z"
   },
   {
    "duration": 61,
    "start_time": "2022-04-27T14:31:21.999Z"
   },
   {
    "duration": 16,
    "start_time": "2022-04-27T14:31:22.063Z"
   },
   {
    "duration": 24,
    "start_time": "2022-04-27T14:31:22.082Z"
   },
   {
    "duration": 90,
    "start_time": "2022-04-27T14:31:22.108Z"
   },
   {
    "duration": 55,
    "start_time": "2022-04-27T14:32:30.991Z"
   },
   {
    "duration": 132,
    "start_time": "2022-04-27T14:32:35.109Z"
   },
   {
    "duration": 5,
    "start_time": "2022-04-27T14:32:35.242Z"
   },
   {
    "duration": 33,
    "start_time": "2022-04-27T14:32:35.254Z"
   },
   {
    "duration": 38,
    "start_time": "2022-04-27T14:32:35.289Z"
   },
   {
    "duration": 7,
    "start_time": "2022-04-27T14:32:35.328Z"
   },
   {
    "duration": 21,
    "start_time": "2022-04-27T14:32:35.337Z"
   },
   {
    "duration": 57,
    "start_time": "2022-04-27T14:32:35.360Z"
   },
   {
    "duration": 99,
    "start_time": "2022-04-27T14:35:56.974Z"
   },
   {
    "duration": 126,
    "start_time": "2022-04-27T14:40:02.547Z"
   },
   {
    "duration": 6,
    "start_time": "2022-04-27T14:40:02.676Z"
   },
   {
    "duration": 24,
    "start_time": "2022-04-27T14:40:02.683Z"
   },
   {
    "duration": 61,
    "start_time": "2022-04-27T14:40:02.709Z"
   },
   {
    "duration": 8,
    "start_time": "2022-04-27T14:40:02.772Z"
   },
   {
    "duration": 21,
    "start_time": "2022-04-27T14:40:02.782Z"
   },
   {
    "duration": 81,
    "start_time": "2022-04-27T14:40:02.804Z"
   },
   {
    "duration": 90,
    "start_time": "2022-04-27T14:40:02.888Z"
   },
   {
    "duration": 7,
    "start_time": "2022-04-27T15:16:38.490Z"
   },
   {
    "duration": 7,
    "start_time": "2022-04-27T15:17:22.136Z"
   },
   {
    "duration": 22,
    "start_time": "2022-04-27T15:18:32.252Z"
   },
   {
    "duration": 26,
    "start_time": "2022-04-27T16:44:01.630Z"
   },
   {
    "duration": 118,
    "start_time": "2022-04-27T16:44:17.003Z"
   },
   {
    "duration": 118,
    "start_time": "2022-04-27T16:44:38.695Z"
   },
   {
    "duration": 18,
    "start_time": "2022-04-27T16:44:44.839Z"
   },
   {
    "duration": 49,
    "start_time": "2022-04-27T16:45:10.071Z"
   },
   {
    "duration": 24,
    "start_time": "2022-04-27T16:45:17.271Z"
   },
   {
    "duration": 95,
    "start_time": "2022-04-27T16:46:03.584Z"
   },
   {
    "duration": 5,
    "start_time": "2022-04-27T16:46:03.681Z"
   },
   {
    "duration": 29,
    "start_time": "2022-04-27T16:46:03.688Z"
   },
   {
    "duration": 43,
    "start_time": "2022-04-27T16:46:03.720Z"
   },
   {
    "duration": 8,
    "start_time": "2022-04-27T16:46:03.766Z"
   },
   {
    "duration": 31,
    "start_time": "2022-04-27T16:46:03.776Z"
   },
   {
    "duration": 60,
    "start_time": "2022-04-27T16:46:03.810Z"
   },
   {
    "duration": 46,
    "start_time": "2022-04-27T16:46:03.872Z"
   },
   {
    "duration": 97,
    "start_time": "2022-04-27T16:54:22.149Z"
   },
   {
    "duration": 37,
    "start_time": "2022-04-27T16:54:59.417Z"
   },
   {
    "duration": 53,
    "start_time": "2022-04-27T16:55:14.133Z"
   },
   {
    "duration": 56,
    "start_time": "2022-04-27T16:56:01.876Z"
   },
   {
    "duration": 82,
    "start_time": "2022-04-27T16:56:12.629Z"
   },
   {
    "duration": 6,
    "start_time": "2022-04-27T16:56:12.713Z"
   },
   {
    "duration": 19,
    "start_time": "2022-04-27T16:56:12.720Z"
   },
   {
    "duration": 73,
    "start_time": "2022-04-27T16:56:12.740Z"
   },
   {
    "duration": 8,
    "start_time": "2022-04-27T16:56:12.815Z"
   },
   {
    "duration": 17,
    "start_time": "2022-04-27T16:56:12.824Z"
   },
   {
    "duration": 68,
    "start_time": "2022-04-27T16:56:12.843Z"
   },
   {
    "duration": 20,
    "start_time": "2022-04-27T16:56:12.913Z"
   },
   {
    "duration": 79,
    "start_time": "2022-04-27T16:56:34.624Z"
   },
   {
    "duration": 7,
    "start_time": "2022-04-27T16:56:34.706Z"
   },
   {
    "duration": 17,
    "start_time": "2022-04-27T16:56:34.716Z"
   },
   {
    "duration": 41,
    "start_time": "2022-04-27T16:56:34.735Z"
   },
   {
    "duration": 11,
    "start_time": "2022-04-27T16:56:34.800Z"
   },
   {
    "duration": 19,
    "start_time": "2022-04-27T16:56:34.813Z"
   },
   {
    "duration": 87,
    "start_time": "2022-04-27T16:56:34.834Z"
   },
   {
    "duration": 19,
    "start_time": "2022-04-27T16:56:34.923Z"
   },
   {
    "duration": 20,
    "start_time": "2022-04-27T16:57:11.141Z"
   },
   {
    "duration": 12,
    "start_time": "2022-04-27T17:00:35.418Z"
   },
   {
    "duration": 10,
    "start_time": "2022-04-27T17:00:46.781Z"
   },
   {
    "duration": 13,
    "start_time": "2022-04-27T17:08:04.372Z"
   },
   {
    "duration": 11,
    "start_time": "2022-04-27T17:08:18.231Z"
   },
   {
    "duration": 22,
    "start_time": "2022-04-27T17:08:31.820Z"
   },
   {
    "duration": 81,
    "start_time": "2022-04-27T17:09:08.540Z"
   },
   {
    "duration": 5,
    "start_time": "2022-04-27T17:09:08.623Z"
   },
   {
    "duration": 24,
    "start_time": "2022-04-27T17:09:08.630Z"
   },
   {
    "duration": 53,
    "start_time": "2022-04-27T17:09:08.655Z"
   },
   {
    "duration": 8,
    "start_time": "2022-04-27T17:09:08.710Z"
   },
   {
    "duration": 22,
    "start_time": "2022-04-27T17:09:08.719Z"
   },
   {
    "duration": 84,
    "start_time": "2022-04-27T17:09:08.743Z"
   },
   {
    "duration": 22,
    "start_time": "2022-04-27T17:09:08.829Z"
   },
   {
    "duration": 22,
    "start_time": "2022-04-27T17:10:09.239Z"
   },
   {
    "duration": 21,
    "start_time": "2022-04-27T17:10:32.677Z"
   },
   {
    "duration": 23,
    "start_time": "2022-04-27T17:11:51.571Z"
   },
   {
    "duration": 23,
    "start_time": "2022-04-27T17:12:08.086Z"
   },
   {
    "duration": 28,
    "start_time": "2022-04-27T17:13:44.000Z"
   },
   {
    "duration": 34,
    "start_time": "2022-04-27T17:16:16.412Z"
   },
   {
    "duration": 33,
    "start_time": "2022-04-27T17:17:43.867Z"
   },
   {
    "duration": 2000,
    "start_time": "2022-04-27T17:19:09.576Z"
   },
   {
    "duration": 29,
    "start_time": "2022-04-27T17:19:33.603Z"
   },
   {
    "duration": 45,
    "start_time": "2022-04-27T17:22:48.895Z"
   },
   {
    "duration": 53,
    "start_time": "2022-04-27T17:23:14.090Z"
   },
   {
    "duration": 86,
    "start_time": "2022-04-27T17:24:05.703Z"
   },
   {
    "duration": 4,
    "start_time": "2022-04-27T17:24:05.791Z"
   },
   {
    "duration": 10,
    "start_time": "2022-04-27T17:24:05.797Z"
   },
   {
    "duration": 40,
    "start_time": "2022-04-27T17:24:05.809Z"
   },
   {
    "duration": 8,
    "start_time": "2022-04-27T17:24:05.851Z"
   },
   {
    "duration": 46,
    "start_time": "2022-04-27T17:24:05.861Z"
   },
   {
    "duration": 64,
    "start_time": "2022-04-27T17:24:05.909Z"
   },
   {
    "duration": 64,
    "start_time": "2022-04-27T17:24:05.975Z"
   },
   {
    "duration": 71,
    "start_time": "2022-04-27T17:25:16.891Z"
   },
   {
    "duration": 38,
    "start_time": "2022-04-27T17:34:40.634Z"
   },
   {
    "duration": 39,
    "start_time": "2022-04-27T17:35:17.185Z"
   },
   {
    "duration": 41,
    "start_time": "2022-04-27T17:35:25.204Z"
   },
   {
    "duration": 40,
    "start_time": "2022-04-27T17:36:08.781Z"
   },
   {
    "duration": 37,
    "start_time": "2022-04-27T17:36:22.125Z"
   },
   {
    "duration": 39,
    "start_time": "2022-04-27T17:36:47.127Z"
   },
   {
    "duration": 46,
    "start_time": "2022-04-27T17:36:55.313Z"
   },
   {
    "duration": 41,
    "start_time": "2022-04-27T17:42:53.361Z"
   },
   {
    "duration": 28,
    "start_time": "2022-04-27T17:44:47.723Z"
   },
   {
    "duration": 14,
    "start_time": "2022-04-27T17:46:07.555Z"
   },
   {
    "duration": 32,
    "start_time": "2022-04-27T17:47:23.677Z"
   },
   {
    "duration": 23,
    "start_time": "2022-04-27T17:47:38.187Z"
   },
   {
    "duration": 445,
    "start_time": "2022-04-27T17:48:17.123Z"
   },
   {
    "duration": 14,
    "start_time": "2022-04-27T17:48:33.140Z"
   },
   {
    "duration": 16,
    "start_time": "2022-04-27T17:55:32.742Z"
   },
   {
    "duration": 16,
    "start_time": "2022-04-27T17:56:54.769Z"
   },
   {
    "duration": 20,
    "start_time": "2022-04-27T17:57:38.294Z"
   },
   {
    "duration": 22,
    "start_time": "2022-04-27T17:57:52.632Z"
   },
   {
    "duration": 25,
    "start_time": "2022-04-27T17:58:35.132Z"
   },
   {
    "duration": 23,
    "start_time": "2022-04-27T17:58:44.956Z"
   },
   {
    "duration": 5,
    "start_time": "2022-04-27T18:01:50.063Z"
   },
   {
    "duration": 33,
    "start_time": "2022-04-27T18:02:09.434Z"
   },
   {
    "duration": 34,
    "start_time": "2022-04-27T18:03:05.430Z"
   },
   {
    "duration": 47,
    "start_time": "2022-04-27T18:03:42.427Z"
   },
   {
    "duration": 10,
    "start_time": "2022-04-27T18:03:45.155Z"
   },
   {
    "duration": 82,
    "start_time": "2022-04-27T18:03:55.155Z"
   },
   {
    "duration": 5,
    "start_time": "2022-04-27T18:03:55.239Z"
   },
   {
    "duration": 11,
    "start_time": "2022-04-27T18:03:55.246Z"
   },
   {
    "duration": 61,
    "start_time": "2022-04-27T18:03:55.260Z"
   },
   {
    "duration": 37,
    "start_time": "2022-04-27T18:03:55.323Z"
   },
   {
    "duration": 10,
    "start_time": "2022-04-27T18:03:55.362Z"
   },
   {
    "duration": 19,
    "start_time": "2022-04-27T18:03:55.394Z"
   },
   {
    "duration": 91,
    "start_time": "2022-04-27T18:03:55.416Z"
   },
   {
    "duration": 85,
    "start_time": "2022-04-27T18:03:55.509Z"
   },
   {
    "duration": 109,
    "start_time": "2022-04-27T18:06:12.061Z"
   },
   {
    "duration": 33,
    "start_time": "2022-04-27T18:06:20.479Z"
   },
   {
    "duration": 35,
    "start_time": "2022-04-27T18:07:37.486Z"
   },
   {
    "duration": 46,
    "start_time": "2022-04-27T18:07:56.637Z"
   },
   {
    "duration": 38,
    "start_time": "2022-04-27T18:08:38.708Z"
   },
   {
    "duration": 34,
    "start_time": "2022-04-27T18:09:02.974Z"
   },
   {
    "duration": 10,
    "start_time": "2022-04-27T18:14:04.075Z"
   },
   {
    "duration": 10,
    "start_time": "2022-04-27T18:14:15.479Z"
   },
   {
    "duration": 7,
    "start_time": "2022-04-27T18:14:31.250Z"
   },
   {
    "duration": 45,
    "start_time": "2022-04-27T18:16:09.793Z"
   },
   {
    "duration": 45,
    "start_time": "2022-04-27T18:17:11.045Z"
   },
   {
    "duration": 76,
    "start_time": "2022-04-27T18:20:27.008Z"
   },
   {
    "duration": 45,
    "start_time": "2022-04-27T18:26:16.920Z"
   },
   {
    "duration": 46,
    "start_time": "2022-04-27T18:27:38.584Z"
   },
   {
    "duration": 45,
    "start_time": "2022-04-27T18:28:41.538Z"
   },
   {
    "duration": 42,
    "start_time": "2022-04-27T18:29:51.971Z"
   },
   {
    "duration": 44,
    "start_time": "2022-04-27T18:30:20.146Z"
   },
   {
    "duration": 47,
    "start_time": "2022-04-27T18:31:37.420Z"
   },
   {
    "duration": 46,
    "start_time": "2022-04-27T18:32:46.474Z"
   },
   {
    "duration": 44,
    "start_time": "2022-04-27T18:33:27.913Z"
   },
   {
    "duration": 47,
    "start_time": "2022-04-27T18:34:05.680Z"
   },
   {
    "duration": 50,
    "start_time": "2022-04-27T18:35:45.676Z"
   },
   {
    "duration": 54,
    "start_time": "2022-04-27T18:37:04.670Z"
   },
   {
    "duration": 57,
    "start_time": "2022-04-27T18:38:19.905Z"
   },
   {
    "duration": 56,
    "start_time": "2022-04-27T18:40:10.940Z"
   },
   {
    "duration": 43,
    "start_time": "2022-04-27T18:44:58.676Z"
   },
   {
    "duration": 57,
    "start_time": "2022-04-27T18:45:44.167Z"
   },
   {
    "duration": 7,
    "start_time": "2022-04-27T18:48:38.439Z"
   },
   {
    "duration": 6,
    "start_time": "2022-04-27T18:50:38.690Z"
   },
   {
    "duration": 6,
    "start_time": "2022-04-27T18:52:44.722Z"
   },
   {
    "duration": 7,
    "start_time": "2022-04-27T18:53:04.929Z"
   },
   {
    "duration": 7,
    "start_time": "2022-04-27T18:54:50.915Z"
   },
   {
    "duration": 7,
    "start_time": "2022-04-27T19:00:02.738Z"
   },
   {
    "duration": 10,
    "start_time": "2022-04-27T19:00:05.394Z"
   },
   {
    "duration": 8,
    "start_time": "2022-04-27T19:01:09.547Z"
   },
   {
    "duration": 10,
    "start_time": "2022-04-27T19:01:40.311Z"
   },
   {
    "duration": 6,
    "start_time": "2022-04-27T19:59:20.708Z"
   },
   {
    "duration": 4,
    "start_time": "2022-04-27T19:59:52.386Z"
   },
   {
    "duration": 84,
    "start_time": "2022-04-27T20:00:30.445Z"
   },
   {
    "duration": 6,
    "start_time": "2022-04-27T20:00:30.531Z"
   },
   {
    "duration": 20,
    "start_time": "2022-04-27T20:00:30.539Z"
   },
   {
    "duration": 73,
    "start_time": "2022-04-27T20:00:30.562Z"
   },
   {
    "duration": 5,
    "start_time": "2022-04-27T20:00:30.637Z"
   },
   {
    "duration": 23,
    "start_time": "2022-04-27T20:00:30.645Z"
   },
   {
    "duration": 26,
    "start_time": "2022-04-27T20:00:30.670Z"
   },
   {
    "duration": 63,
    "start_time": "2022-04-27T20:00:30.698Z"
   },
   {
    "duration": 108,
    "start_time": "2022-04-27T20:00:30.763Z"
   },
   {
    "duration": 8,
    "start_time": "2022-04-27T20:01:42.144Z"
   },
   {
    "duration": 6,
    "start_time": "2022-04-27T20:04:11.147Z"
   },
   {
    "duration": 5,
    "start_time": "2022-04-27T20:04:27.030Z"
   },
   {
    "duration": 7,
    "start_time": "2022-04-27T20:04:56.772Z"
   },
   {
    "duration": 7,
    "start_time": "2022-04-27T20:05:59.174Z"
   },
   {
    "duration": 12,
    "start_time": "2022-04-27T20:12:26.778Z"
   },
   {
    "duration": 12,
    "start_time": "2022-04-27T20:13:04.908Z"
   },
   {
    "duration": 16,
    "start_time": "2022-04-27T20:13:21.804Z"
   },
   {
    "duration": 18,
    "start_time": "2022-04-27T20:15:45.666Z"
   },
   {
    "duration": 19,
    "start_time": "2022-04-27T20:16:39.339Z"
   },
   {
    "duration": 20,
    "start_time": "2022-04-27T20:16:50.559Z"
   },
   {
    "duration": 19,
    "start_time": "2022-04-27T20:17:39.578Z"
   },
   {
    "duration": 13,
    "start_time": "2022-04-27T20:21:35.363Z"
   },
   {
    "duration": 84,
    "start_time": "2022-04-27T20:22:00.998Z"
   },
   {
    "duration": 11,
    "start_time": "2022-04-27T20:22:01.084Z"
   },
   {
    "duration": 13,
    "start_time": "2022-04-27T20:22:01.097Z"
   },
   {
    "duration": 118,
    "start_time": "2022-04-27T20:22:01.112Z"
   },
   {
    "duration": 25,
    "start_time": "2022-04-27T20:22:01.231Z"
   },
   {
    "duration": 8,
    "start_time": "2022-04-27T20:22:01.258Z"
   },
   {
    "duration": 47,
    "start_time": "2022-04-27T20:22:01.267Z"
   },
   {
    "duration": 64,
    "start_time": "2022-04-27T20:22:01.316Z"
   },
   {
    "duration": 74,
    "start_time": "2022-04-27T20:22:01.381Z"
   },
   {
    "duration": 17,
    "start_time": "2022-04-27T20:23:22.290Z"
   },
   {
    "duration": 86,
    "start_time": "2022-04-27T20:23:35.445Z"
   },
   {
    "duration": 5,
    "start_time": "2022-04-27T20:23:35.534Z"
   },
   {
    "duration": 12,
    "start_time": "2022-04-27T20:23:35.541Z"
   },
   {
    "duration": 74,
    "start_time": "2022-04-27T20:23:35.555Z"
   },
   {
    "duration": 25,
    "start_time": "2022-04-27T20:23:35.630Z"
   },
   {
    "duration": 8,
    "start_time": "2022-04-27T20:23:35.657Z"
   },
   {
    "duration": 37,
    "start_time": "2022-04-27T20:23:35.666Z"
   },
   {
    "duration": 63,
    "start_time": "2022-04-27T20:23:35.705Z"
   },
   {
    "duration": 81,
    "start_time": "2022-04-27T20:23:35.769Z"
   },
   {
    "duration": 121,
    "start_time": "2022-04-27T20:24:29.012Z"
   },
   {
    "duration": 6,
    "start_time": "2022-04-27T20:24:29.135Z"
   },
   {
    "duration": 11,
    "start_time": "2022-04-27T20:24:29.143Z"
   },
   {
    "duration": 82,
    "start_time": "2022-04-27T20:24:29.156Z"
   },
   {
    "duration": 26,
    "start_time": "2022-04-27T20:24:31.494Z"
   },
   {
    "duration": 29,
    "start_time": "2022-04-27T20:25:37.734Z"
   },
   {
    "duration": 9,
    "start_time": "2022-04-27T20:25:39.088Z"
   },
   {
    "duration": 7,
    "start_time": "2022-04-27T20:31:52.154Z"
   },
   {
    "duration": 122,
    "start_time": "2022-04-27T20:33:09.610Z"
   },
   {
    "duration": 6,
    "start_time": "2022-04-27T20:33:09.735Z"
   },
   {
    "duration": 21,
    "start_time": "2022-04-27T20:33:09.743Z"
   },
   {
    "duration": 82,
    "start_time": "2022-04-27T20:33:09.766Z"
   },
   {
    "duration": 9,
    "start_time": "2022-04-27T20:33:12.691Z"
   },
   {
    "duration": 81,
    "start_time": "2022-04-27T20:33:45.537Z"
   },
   {
    "duration": 5,
    "start_time": "2022-04-27T20:33:45.620Z"
   },
   {
    "duration": 16,
    "start_time": "2022-04-27T20:33:45.627Z"
   },
   {
    "duration": 67,
    "start_time": "2022-04-27T20:33:45.645Z"
   },
   {
    "duration": 7,
    "start_time": "2022-04-27T20:33:45.713Z"
   },
   {
    "duration": 9,
    "start_time": "2022-04-27T20:33:45.722Z"
   },
   {
    "duration": 17,
    "start_time": "2022-04-27T20:33:45.733Z"
   },
   {
    "duration": 93,
    "start_time": "2022-04-27T20:33:45.751Z"
   },
   {
    "duration": 78,
    "start_time": "2022-04-27T20:33:45.846Z"
   },
   {
    "duration": 483,
    "start_time": "2022-04-28T06:54:58.550Z"
   },
   {
    "duration": 4,
    "start_time": "2022-04-28T06:54:59.035Z"
   },
   {
    "duration": 12,
    "start_time": "2022-04-28T06:54:59.041Z"
   },
   {
    "duration": 66,
    "start_time": "2022-04-28T06:54:59.055Z"
   },
   {
    "duration": 6,
    "start_time": "2022-04-28T06:54:59.123Z"
   },
   {
    "duration": 12,
    "start_time": "2022-04-28T06:54:59.131Z"
   },
   {
    "duration": 19,
    "start_time": "2022-04-28T06:54:59.144Z"
   },
   {
    "duration": 81,
    "start_time": "2022-04-28T06:54:59.165Z"
   },
   {
    "duration": 71,
    "start_time": "2022-04-28T06:54:59.248Z"
   },
   {
    "duration": 79,
    "start_time": "2022-04-28T07:07:43.526Z"
   },
   {
    "duration": 83,
    "start_time": "2022-04-28T07:10:16.668Z"
   },
   {
    "duration": 53,
    "start_time": "2022-04-28T07:15:23.939Z"
   },
   {
    "duration": 55,
    "start_time": "2022-04-28T07:16:04.278Z"
   },
   {
    "duration": 84,
    "start_time": "2022-04-28T07:17:10.538Z"
   },
   {
    "duration": 25,
    "start_time": "2022-04-28T07:22:15.449Z"
   },
   {
    "duration": 127,
    "start_time": "2022-04-28T07:22:33.028Z"
   },
   {
    "duration": 6,
    "start_time": "2022-04-28T07:22:33.158Z"
   },
   {
    "duration": 16,
    "start_time": "2022-04-28T07:22:33.165Z"
   },
   {
    "duration": 86,
    "start_time": "2022-04-28T07:22:33.184Z"
   },
   {
    "duration": 40,
    "start_time": "2022-04-28T07:22:33.272Z"
   },
   {
    "duration": 10,
    "start_time": "2022-04-28T07:22:33.314Z"
   },
   {
    "duration": 25,
    "start_time": "2022-04-28T07:22:33.326Z"
   },
   {
    "duration": 92,
    "start_time": "2022-04-28T07:22:33.353Z"
   },
   {
    "duration": 100,
    "start_time": "2022-04-28T07:22:33.447Z"
   },
   {
    "duration": 8,
    "start_time": "2022-04-28T07:23:14.017Z"
   },
   {
    "duration": 85,
    "start_time": "2022-04-28T07:32:02.129Z"
   },
   {
    "duration": 6,
    "start_time": "2022-04-28T07:32:02.216Z"
   },
   {
    "duration": 25,
    "start_time": "2022-04-28T07:32:02.223Z"
   },
   {
    "duration": 106,
    "start_time": "2022-04-28T07:32:02.250Z"
   },
   {
    "duration": 9,
    "start_time": "2022-04-28T07:32:04.153Z"
   },
   {
    "duration": 1514,
    "start_time": "2022-04-28T07:37:34.242Z"
   },
   {
    "duration": 19,
    "start_time": "2022-04-28T07:39:19.588Z"
   },
   {
    "duration": 20,
    "start_time": "2022-04-28T07:39:23.264Z"
   },
   {
    "duration": 21,
    "start_time": "2022-04-28T07:39:48.115Z"
   },
   {
    "duration": 101,
    "start_time": "2022-04-28T07:44:31.913Z"
   },
   {
    "duration": 97,
    "start_time": "2022-04-28T07:45:16.755Z"
   },
   {
    "duration": 16,
    "start_time": "2022-04-28T07:51:34.789Z"
   },
   {
    "duration": 5,
    "start_time": "2022-04-28T07:52:09.477Z"
   },
   {
    "duration": 10,
    "start_time": "2022-04-28T07:52:13.823Z"
   },
   {
    "duration": 29,
    "start_time": "2022-04-28T07:54:49.996Z"
   },
   {
    "duration": 38,
    "start_time": "2022-04-28T07:55:51.389Z"
   },
   {
    "duration": 37,
    "start_time": "2022-04-28T07:56:27.762Z"
   },
   {
    "duration": 28,
    "start_time": "2022-04-28T08:06:47.511Z"
   },
   {
    "duration": 21,
    "start_time": "2022-04-28T08:10:43.771Z"
   },
   {
    "duration": 22,
    "start_time": "2022-04-28T08:16:47.029Z"
   },
   {
    "duration": 26,
    "start_time": "2022-04-28T08:16:56.853Z"
   },
   {
    "duration": 24,
    "start_time": "2022-04-28T08:17:39.243Z"
   },
   {
    "duration": 32,
    "start_time": "2022-04-28T08:17:50.396Z"
   },
   {
    "duration": 17,
    "start_time": "2022-04-28T08:18:07.121Z"
   },
   {
    "duration": 12,
    "start_time": "2022-04-28T08:18:27.016Z"
   },
   {
    "duration": 14,
    "start_time": "2022-04-28T08:20:26.808Z"
   },
   {
    "duration": 11,
    "start_time": "2022-04-28T08:20:35.584Z"
   },
   {
    "duration": 93,
    "start_time": "2022-04-28T08:20:45.612Z"
   },
   {
    "duration": 9,
    "start_time": "2022-04-28T08:20:45.710Z"
   },
   {
    "duration": 17,
    "start_time": "2022-04-28T08:20:45.721Z"
   },
   {
    "duration": 75,
    "start_time": "2022-04-28T08:20:45.740Z"
   },
   {
    "duration": 22,
    "start_time": "2022-04-28T08:20:45.817Z"
   },
   {
    "duration": 7,
    "start_time": "2022-04-28T08:20:45.841Z"
   },
   {
    "duration": 17,
    "start_time": "2022-04-28T08:20:45.849Z"
   },
   {
    "duration": 90,
    "start_time": "2022-04-28T08:20:45.868Z"
   },
   {
    "duration": 90,
    "start_time": "2022-04-28T08:20:45.960Z"
   },
   {
    "duration": 18,
    "start_time": "2022-04-28T08:21:53.541Z"
   },
   {
    "duration": 16,
    "start_time": "2022-04-28T08:22:07.926Z"
   },
   {
    "duration": 103,
    "start_time": "2022-04-28T08:22:29.948Z"
   },
   {
    "duration": 5,
    "start_time": "2022-04-28T08:22:30.053Z"
   },
   {
    "duration": 11,
    "start_time": "2022-04-28T08:22:30.060Z"
   },
   {
    "duration": 84,
    "start_time": "2022-04-28T08:22:30.073Z"
   },
   {
    "duration": 16,
    "start_time": "2022-04-28T08:22:30.160Z"
   },
   {
    "duration": 25,
    "start_time": "2022-04-28T08:22:30.178Z"
   },
   {
    "duration": 28,
    "start_time": "2022-04-28T08:22:30.205Z"
   },
   {
    "duration": 110,
    "start_time": "2022-04-28T08:22:30.235Z"
   },
   {
    "duration": 86,
    "start_time": "2022-04-28T08:22:30.347Z"
   },
   {
    "duration": 6,
    "start_time": "2022-04-28T08:28:01.080Z"
   },
   {
    "duration": 94,
    "start_time": "2022-04-28T08:28:08.646Z"
   },
   {
    "duration": 5,
    "start_time": "2022-04-28T08:28:08.742Z"
   },
   {
    "duration": 13,
    "start_time": "2022-04-28T08:28:08.748Z"
   },
   {
    "duration": 80,
    "start_time": "2022-04-28T08:28:08.764Z"
   },
   {
    "duration": 12,
    "start_time": "2022-04-28T08:28:08.846Z"
   },
   {
    "duration": 8,
    "start_time": "2022-04-28T08:28:08.860Z"
   },
   {
    "duration": 53,
    "start_time": "2022-04-28T08:28:08.870Z"
   },
   {
    "duration": 107,
    "start_time": "2022-04-28T08:28:08.926Z"
   },
   {
    "duration": 105,
    "start_time": "2022-04-28T08:28:09.035Z"
   },
   {
    "duration": 17,
    "start_time": "2022-04-28T08:29:03.550Z"
   },
   {
    "duration": 128,
    "start_time": "2022-04-28T08:29:16.055Z"
   },
   {
    "duration": 4,
    "start_time": "2022-04-28T08:29:16.185Z"
   },
   {
    "duration": 26,
    "start_time": "2022-04-28T08:29:16.200Z"
   },
   {
    "duration": 98,
    "start_time": "2022-04-28T08:29:16.229Z"
   },
   {
    "duration": 13,
    "start_time": "2022-04-28T08:29:16.328Z"
   },
   {
    "duration": 7,
    "start_time": "2022-04-28T08:29:16.343Z"
   },
   {
    "duration": 18,
    "start_time": "2022-04-28T08:29:16.351Z"
   },
   {
    "duration": 82,
    "start_time": "2022-04-28T08:29:16.371Z"
   },
   {
    "duration": 78,
    "start_time": "2022-04-28T08:29:16.455Z"
   },
   {
    "duration": 40,
    "start_time": "2022-04-28T08:30:14.987Z"
   },
   {
    "duration": 35,
    "start_time": "2022-04-28T08:30:45.888Z"
   },
   {
    "duration": 143,
    "start_time": "2022-04-28T08:31:02.367Z"
   },
   {
    "duration": 6,
    "start_time": "2022-04-28T08:31:02.512Z"
   },
   {
    "duration": 16,
    "start_time": "2022-04-28T08:31:02.520Z"
   },
   {
    "duration": 74,
    "start_time": "2022-04-28T08:31:02.538Z"
   },
   {
    "duration": 36,
    "start_time": "2022-04-28T08:31:03.691Z"
   },
   {
    "duration": 14,
    "start_time": "2022-04-28T08:31:57.157Z"
   },
   {
    "duration": 18,
    "start_time": "2022-04-28T08:32:09.543Z"
   },
   {
    "duration": 119,
    "start_time": "2022-04-28T08:35:29.642Z"
   },
   {
    "duration": 6,
    "start_time": "2022-04-28T08:35:29.763Z"
   },
   {
    "duration": 17,
    "start_time": "2022-04-28T08:35:29.771Z"
   },
   {
    "duration": 102,
    "start_time": "2022-04-28T08:35:29.803Z"
   },
   {
    "duration": 16,
    "start_time": "2022-04-28T08:35:29.907Z"
   },
   {
    "duration": 13,
    "start_time": "2022-04-28T08:35:35.048Z"
   },
   {
    "duration": 5,
    "start_time": "2022-04-28T08:36:27.608Z"
   },
   {
    "duration": 54,
    "start_time": "2022-04-28T08:39:56.695Z"
   },
   {
    "duration": 72,
    "start_time": "2022-04-28T08:40:38.166Z"
   },
   {
    "duration": 70,
    "start_time": "2022-04-28T08:43:09.245Z"
   },
   {
    "duration": 83,
    "start_time": "2022-04-28T08:48:26.030Z"
   },
   {
    "duration": 89,
    "start_time": "2022-04-28T08:48:39.272Z"
   },
   {
    "duration": 118,
    "start_time": "2022-04-28T08:48:54.497Z"
   },
   {
    "duration": 5,
    "start_time": "2022-04-28T08:48:54.618Z"
   },
   {
    "duration": 9,
    "start_time": "2022-04-28T08:48:54.625Z"
   },
   {
    "duration": 86,
    "start_time": "2022-04-28T08:48:54.636Z"
   },
   {
    "duration": 11,
    "start_time": "2022-04-28T08:48:54.724Z"
   },
   {
    "duration": 8,
    "start_time": "2022-04-28T08:48:54.737Z"
   },
   {
    "duration": 5,
    "start_time": "2022-04-28T08:48:54.746Z"
   },
   {
    "duration": 83,
    "start_time": "2022-04-28T08:48:56.957Z"
   },
   {
    "duration": 71,
    "start_time": "2022-04-28T08:49:46.553Z"
   },
   {
    "duration": 106,
    "start_time": "2022-04-28T08:49:50.943Z"
   },
   {
    "duration": 4,
    "start_time": "2022-04-28T08:49:51.051Z"
   },
   {
    "duration": 11,
    "start_time": "2022-04-28T08:49:51.057Z"
   },
   {
    "duration": 83,
    "start_time": "2022-04-28T08:49:51.071Z"
   },
   {
    "duration": 11,
    "start_time": "2022-04-28T08:49:51.156Z"
   },
   {
    "duration": 8,
    "start_time": "2022-04-28T08:49:51.168Z"
   },
   {
    "duration": 24,
    "start_time": "2022-04-28T08:49:51.178Z"
   },
   {
    "duration": 73,
    "start_time": "2022-04-28T08:49:52.288Z"
   },
   {
    "duration": 58,
    "start_time": "2022-04-28T08:54:48.126Z"
   },
   {
    "duration": 55,
    "start_time": "2022-04-28T08:54:57.417Z"
   },
   {
    "duration": 61,
    "start_time": "2022-04-28T08:55:07.689Z"
   },
   {
    "duration": 85,
    "start_time": "2022-04-28T09:24:36.842Z"
   },
   {
    "duration": 126,
    "start_time": "2022-04-28T09:25:00.102Z"
   },
   {
    "duration": 85,
    "start_time": "2022-04-28T09:25:23.568Z"
   },
   {
    "duration": 77,
    "start_time": "2022-04-28T09:25:30.925Z"
   },
   {
    "duration": 90,
    "start_time": "2022-04-28T09:25:37.797Z"
   },
   {
    "duration": 5,
    "start_time": "2022-04-28T09:25:37.890Z"
   },
   {
    "duration": 13,
    "start_time": "2022-04-28T09:25:37.896Z"
   },
   {
    "duration": 58,
    "start_time": "2022-04-28T09:25:37.910Z"
   },
   {
    "duration": 31,
    "start_time": "2022-04-28T09:25:37.970Z"
   },
   {
    "duration": 8,
    "start_time": "2022-04-28T09:25:38.003Z"
   },
   {
    "duration": 5,
    "start_time": "2022-04-28T09:25:38.012Z"
   },
   {
    "duration": 87,
    "start_time": "2022-04-28T09:25:38.018Z"
   },
   {
    "duration": 57,
    "start_time": "2022-04-28T09:25:38.106Z"
   },
   {
    "duration": 87,
    "start_time": "2022-04-28T09:26:24.919Z"
   },
   {
    "duration": 98,
    "start_time": "2022-04-28T09:26:43.302Z"
   },
   {
    "duration": 87,
    "start_time": "2022-04-28T09:26:58.445Z"
   },
   {
    "duration": 88,
    "start_time": "2022-04-28T09:27:02.726Z"
   },
   {
    "duration": 5,
    "start_time": "2022-04-28T09:27:02.816Z"
   },
   {
    "duration": 12,
    "start_time": "2022-04-28T09:27:02.822Z"
   },
   {
    "duration": 82,
    "start_time": "2022-04-28T09:27:02.836Z"
   },
   {
    "duration": 10,
    "start_time": "2022-04-28T09:27:02.920Z"
   },
   {
    "duration": 8,
    "start_time": "2022-04-28T09:27:02.932Z"
   },
   {
    "duration": 4,
    "start_time": "2022-04-28T09:27:02.941Z"
   },
   {
    "duration": 88,
    "start_time": "2022-04-28T09:27:04.281Z"
   },
   {
    "duration": 38,
    "start_time": "2022-04-28T09:27:36.102Z"
   },
   {
    "duration": 122,
    "start_time": "2022-04-28T09:27:42.989Z"
   },
   {
    "duration": 90,
    "start_time": "2022-04-28T09:27:51.158Z"
   },
   {
    "duration": 4,
    "start_time": "2022-04-28T09:27:51.251Z"
   },
   {
    "duration": 13,
    "start_time": "2022-04-28T09:27:51.257Z"
   },
   {
    "duration": 77,
    "start_time": "2022-04-28T09:27:51.272Z"
   },
   {
    "duration": 11,
    "start_time": "2022-04-28T09:27:51.351Z"
   },
   {
    "duration": 8,
    "start_time": "2022-04-28T09:27:51.363Z"
   },
   {
    "duration": 27,
    "start_time": "2022-04-28T09:27:51.373Z"
   },
   {
    "duration": 102,
    "start_time": "2022-04-28T09:27:52.700Z"
   },
   {
    "duration": 102,
    "start_time": "2022-04-28T09:28:09.469Z"
   },
   {
    "duration": 126,
    "start_time": "2022-04-28T09:28:20.461Z"
   },
   {
    "duration": 58,
    "start_time": "2022-04-28T09:29:10.803Z"
   },
   {
    "duration": 20,
    "start_time": "2022-04-28T09:29:20.605Z"
   },
   {
    "duration": 13,
    "start_time": "2022-04-28T09:36:50.981Z"
   },
   {
    "duration": 14,
    "start_time": "2022-04-28T09:37:53.916Z"
   },
   {
    "duration": 19,
    "start_time": "2022-04-28T09:49:29.629Z"
   },
   {
    "duration": 22,
    "start_time": "2022-04-28T09:49:37.269Z"
   },
   {
    "duration": 19,
    "start_time": "2022-04-28T09:49:58.177Z"
   },
   {
    "duration": 163,
    "start_time": "2022-04-28T09:50:48.517Z"
   },
   {
    "duration": 14,
    "start_time": "2022-04-28T09:53:00.040Z"
   },
   {
    "duration": 17,
    "start_time": "2022-04-28T09:53:25.221Z"
   },
   {
    "duration": 148,
    "start_time": "2022-04-28T09:53:31.265Z"
   },
   {
    "duration": 6,
    "start_time": "2022-04-28T09:53:31.415Z"
   },
   {
    "duration": 15,
    "start_time": "2022-04-28T09:53:31.422Z"
   },
   {
    "duration": 81,
    "start_time": "2022-04-28T09:53:31.438Z"
   },
   {
    "duration": 12,
    "start_time": "2022-04-28T09:53:31.521Z"
   },
   {
    "duration": 10,
    "start_time": "2022-04-28T09:53:31.534Z"
   },
   {
    "duration": 14,
    "start_time": "2022-04-28T09:53:31.546Z"
   },
   {
    "duration": 87,
    "start_time": "2022-04-28T09:53:31.561Z"
   },
   {
    "duration": 24,
    "start_time": "2022-04-28T09:53:33.009Z"
   },
   {
    "duration": 11,
    "start_time": "2022-04-28T09:54:07.731Z"
   },
   {
    "duration": 96,
    "start_time": "2022-04-28T09:54:17.787Z"
   },
   {
    "duration": 5,
    "start_time": "2022-04-28T09:54:17.885Z"
   },
   {
    "duration": 11,
    "start_time": "2022-04-28T09:54:17.892Z"
   },
   {
    "duration": 61,
    "start_time": "2022-04-28T09:54:17.904Z"
   },
   {
    "duration": 10,
    "start_time": "2022-04-28T09:54:17.967Z"
   },
   {
    "duration": 10,
    "start_time": "2022-04-28T09:54:18.000Z"
   },
   {
    "duration": 4,
    "start_time": "2022-04-28T09:54:18.011Z"
   },
   {
    "duration": 98,
    "start_time": "2022-04-28T09:54:18.017Z"
   },
   {
    "duration": 18,
    "start_time": "2022-04-28T09:54:20.220Z"
   },
   {
    "duration": 3,
    "start_time": "2022-04-28T10:01:28.578Z"
   },
   {
    "duration": 4,
    "start_time": "2022-04-28T10:02:16.627Z"
   },
   {
    "duration": 3,
    "start_time": "2022-04-28T10:04:15.035Z"
   },
   {
    "duration": 5,
    "start_time": "2022-04-28T10:04:53.827Z"
   },
   {
    "duration": 5,
    "start_time": "2022-04-28T10:05:04.078Z"
   },
   {
    "duration": 3,
    "start_time": "2022-04-28T10:05:11.788Z"
   },
   {
    "duration": 1093,
    "start_time": "2022-04-28T10:07:31.290Z"
   },
   {
    "duration": 3,
    "start_time": "2022-04-28T10:07:50.335Z"
   },
   {
    "duration": 2731,
    "start_time": "2022-04-28T10:10:09.730Z"
   },
   {
    "duration": 2766,
    "start_time": "2022-04-28T10:15:34.338Z"
   },
   {
    "duration": 85,
    "start_time": "2022-04-28T10:15:42.708Z"
   },
   {
    "duration": 4,
    "start_time": "2022-04-28T10:15:42.795Z"
   },
   {
    "duration": 9,
    "start_time": "2022-04-28T10:15:42.801Z"
   },
   {
    "duration": 55,
    "start_time": "2022-04-28T10:15:42.812Z"
   },
   {
    "duration": 35,
    "start_time": "2022-04-28T10:15:42.870Z"
   },
   {
    "duration": 9,
    "start_time": "2022-04-28T10:15:42.906Z"
   },
   {
    "duration": 3,
    "start_time": "2022-04-28T10:15:42.917Z"
   },
   {
    "duration": 94,
    "start_time": "2022-04-28T10:15:42.922Z"
   },
   {
    "duration": 15,
    "start_time": "2022-04-28T10:15:43.017Z"
   },
   {
    "duration": 2901,
    "start_time": "2022-04-28T10:15:44.446Z"
   },
   {
    "duration": 25,
    "start_time": "2022-04-28T10:16:37.361Z"
   },
   {
    "duration": 8,
    "start_time": "2022-04-28T10:17:09.488Z"
   },
   {
    "duration": 8,
    "start_time": "2022-04-28T11:59:06.993Z"
   },
   {
    "duration": 13,
    "start_time": "2022-04-28T12:18:47.041Z"
   },
   {
    "duration": 9,
    "start_time": "2022-04-28T12:38:15.035Z"
   },
   {
    "duration": 24,
    "start_time": "2022-04-28T12:38:31.822Z"
   },
   {
    "duration": 643,
    "start_time": "2022-04-28T12:43:24.909Z"
   },
   {
    "duration": 625,
    "start_time": "2022-04-28T12:44:02.523Z"
   },
   {
    "duration": 687,
    "start_time": "2022-04-28T12:46:05.217Z"
   },
   {
    "duration": 27,
    "start_time": "2022-04-28T12:47:15.486Z"
   },
   {
    "duration": 27,
    "start_time": "2022-04-28T12:48:44.681Z"
   },
   {
    "duration": 26,
    "start_time": "2022-04-28T12:51:15.094Z"
   },
   {
    "duration": 9,
    "start_time": "2022-04-28T12:51:51.109Z"
   },
   {
    "duration": 9,
    "start_time": "2022-04-28T12:53:28.029Z"
   },
   {
    "duration": 25,
    "start_time": "2022-04-28T12:53:33.152Z"
   },
   {
    "duration": 98,
    "start_time": "2022-04-28T12:53:38.810Z"
   },
   {
    "duration": 5,
    "start_time": "2022-04-28T12:53:38.910Z"
   },
   {
    "duration": 12,
    "start_time": "2022-04-28T12:53:38.917Z"
   },
   {
    "duration": 106,
    "start_time": "2022-04-28T12:53:38.931Z"
   },
   {
    "duration": 10,
    "start_time": "2022-04-28T12:53:39.039Z"
   },
   {
    "duration": 11,
    "start_time": "2022-04-28T12:53:39.051Z"
   },
   {
    "duration": 4,
    "start_time": "2022-04-28T12:53:39.064Z"
   },
   {
    "duration": 94,
    "start_time": "2022-04-28T12:53:39.069Z"
   },
   {
    "duration": 15,
    "start_time": "2022-04-28T12:53:39.164Z"
   },
   {
    "duration": 24,
    "start_time": "2022-04-28T12:53:39.181Z"
   },
   {
    "duration": 28,
    "start_time": "2022-04-28T12:53:39.207Z"
   },
   {
    "duration": 24,
    "start_time": "2022-04-28T12:53:54.269Z"
   },
   {
    "duration": 7,
    "start_time": "2022-04-28T12:54:32.941Z"
   },
   {
    "duration": 26,
    "start_time": "2022-04-28T12:56:31.586Z"
   },
   {
    "duration": 8,
    "start_time": "2022-04-28T12:56:52.709Z"
   },
   {
    "duration": 26,
    "start_time": "2022-04-28T12:57:40.698Z"
   },
   {
    "duration": 12,
    "start_time": "2022-04-28T12:58:05.916Z"
   },
   {
    "duration": 10,
    "start_time": "2022-04-28T13:12:35.119Z"
   },
   {
    "duration": 15,
    "start_time": "2022-04-28T13:12:41.050Z"
   },
   {
    "duration": 12,
    "start_time": "2022-04-28T13:12:52.349Z"
   },
   {
    "duration": 12,
    "start_time": "2022-04-28T13:12:57.246Z"
   },
   {
    "duration": 92,
    "start_time": "2022-04-28T13:12:59.665Z"
   },
   {
    "duration": 7,
    "start_time": "2022-04-28T13:12:59.759Z"
   },
   {
    "duration": 17,
    "start_time": "2022-04-28T13:12:59.768Z"
   },
   {
    "duration": 70,
    "start_time": "2022-04-28T13:12:59.801Z"
   },
   {
    "duration": 30,
    "start_time": "2022-04-28T13:12:59.873Z"
   },
   {
    "duration": 13,
    "start_time": "2022-04-28T13:13:13.591Z"
   },
   {
    "duration": 11,
    "start_time": "2022-04-28T13:13:51.870Z"
   },
   {
    "duration": 11,
    "start_time": "2022-04-28T13:14:22.215Z"
   },
   {
    "duration": 102,
    "start_time": "2022-04-28T13:21:32.560Z"
   },
   {
    "duration": 5,
    "start_time": "2022-04-28T13:21:32.664Z"
   },
   {
    "duration": 10,
    "start_time": "2022-04-28T13:21:32.670Z"
   },
   {
    "duration": 69,
    "start_time": "2022-04-28T13:21:32.682Z"
   },
   {
    "duration": 20,
    "start_time": "2022-04-28T13:21:35.599Z"
   },
   {
    "duration": 13,
    "start_time": "2022-04-28T13:22:00.430Z"
   },
   {
    "duration": 11,
    "start_time": "2022-04-28T13:22:05.883Z"
   },
   {
    "duration": 9,
    "start_time": "2022-04-28T13:22:29.085Z"
   },
   {
    "duration": 681,
    "start_time": "2022-04-28T13:23:04.118Z"
   },
   {
    "duration": 93,
    "start_time": "2022-04-28T13:23:11.421Z"
   },
   {
    "duration": 8,
    "start_time": "2022-04-28T13:23:11.516Z"
   },
   {
    "duration": 11,
    "start_time": "2022-04-28T13:23:11.525Z"
   },
   {
    "duration": 81,
    "start_time": "2022-04-28T13:23:11.538Z"
   },
   {
    "duration": 9,
    "start_time": "2022-04-28T13:23:11.620Z"
   },
   {
    "duration": 8,
    "start_time": "2022-04-28T13:23:11.630Z"
   },
   {
    "duration": 6,
    "start_time": "2022-04-28T13:23:11.640Z"
   },
   {
    "duration": 93,
    "start_time": "2022-04-28T13:23:11.647Z"
   },
   {
    "duration": 15,
    "start_time": "2022-04-28T13:23:11.742Z"
   },
   {
    "duration": 8,
    "start_time": "2022-04-28T13:23:11.760Z"
   },
   {
    "duration": 51,
    "start_time": "2022-04-28T13:23:11.770Z"
   },
   {
    "duration": 158,
    "start_time": "2022-04-28T13:26:26.740Z"
   },
   {
    "duration": 5,
    "start_time": "2022-04-28T13:26:34.081Z"
   },
   {
    "duration": 165,
    "start_time": "2022-04-28T13:28:16.597Z"
   },
   {
    "duration": 6,
    "start_time": "2022-04-28T13:29:28.578Z"
   },
   {
    "duration": 166,
    "start_time": "2022-04-28T13:29:53.263Z"
   },
   {
    "duration": 180,
    "start_time": "2022-04-28T13:30:06.029Z"
   },
   {
    "duration": 151,
    "start_time": "2022-04-28T13:32:00.363Z"
   },
   {
    "duration": 191,
    "start_time": "2022-04-28T13:32:10.118Z"
   },
   {
    "duration": 6,
    "start_time": "2022-04-28T13:32:28.469Z"
   },
   {
    "duration": 6,
    "start_time": "2022-04-28T13:32:55.873Z"
   },
   {
    "duration": 91,
    "start_time": "2022-04-28T13:33:07.610Z"
   },
   {
    "duration": 88,
    "start_time": "2022-04-28T13:33:45.331Z"
   },
   {
    "duration": 5,
    "start_time": "2022-04-28T13:33:47.046Z"
   },
   {
    "duration": 174,
    "start_time": "2022-04-28T13:36:53.402Z"
   },
   {
    "duration": 182,
    "start_time": "2022-04-28T13:37:13.751Z"
   },
   {
    "duration": 8,
    "start_time": "2022-04-28T13:37:59.361Z"
   },
   {
    "duration": 5,
    "start_time": "2022-04-28T13:38:13.075Z"
   },
   {
    "duration": 127,
    "start_time": "2022-04-28T13:45:27.702Z"
   },
   {
    "duration": 130,
    "start_time": "2022-04-28T13:45:43.274Z"
   },
   {
    "duration": 111,
    "start_time": "2022-04-28T13:45:57.495Z"
   },
   {
    "duration": 9,
    "start_time": "2022-04-28T13:46:18.275Z"
   },
   {
    "duration": 19,
    "start_time": "2022-04-28T13:51:47.640Z"
   },
   {
    "duration": 42,
    "start_time": "2022-04-28T13:53:30.345Z"
   },
   {
    "duration": 2796,
    "start_time": "2022-04-28T13:54:01.477Z"
   },
   {
    "duration": 135,
    "start_time": "2022-04-28T13:54:14.089Z"
   },
   {
    "duration": 6,
    "start_time": "2022-04-28T13:54:14.227Z"
   },
   {
    "duration": 18,
    "start_time": "2022-04-28T13:54:14.234Z"
   },
   {
    "duration": 89,
    "start_time": "2022-04-28T13:54:14.255Z"
   },
   {
    "duration": 10,
    "start_time": "2022-04-28T13:54:14.346Z"
   },
   {
    "duration": 14,
    "start_time": "2022-04-28T13:54:14.358Z"
   },
   {
    "duration": 6,
    "start_time": "2022-04-28T13:54:14.374Z"
   },
   {
    "duration": 108,
    "start_time": "2022-04-28T13:54:14.381Z"
   },
   {
    "duration": 27,
    "start_time": "2022-04-28T13:54:14.491Z"
   },
   {
    "duration": 10,
    "start_time": "2022-04-28T13:54:14.521Z"
   },
   {
    "duration": 27,
    "start_time": "2022-04-28T13:54:14.533Z"
   },
   {
    "duration": 64,
    "start_time": "2022-04-28T13:55:34.284Z"
   },
   {
    "duration": 2683,
    "start_time": "2022-04-28T13:55:58.131Z"
   },
   {
    "duration": 92,
    "start_time": "2022-04-28T13:56:25.612Z"
   },
   {
    "duration": 7,
    "start_time": "2022-04-28T13:56:25.706Z"
   },
   {
    "duration": 19,
    "start_time": "2022-04-28T13:56:25.714Z"
   },
   {
    "duration": 74,
    "start_time": "2022-04-28T13:56:25.735Z"
   },
   {
    "duration": 16,
    "start_time": "2022-04-28T13:56:25.812Z"
   },
   {
    "duration": 10,
    "start_time": "2022-04-28T13:56:25.830Z"
   },
   {
    "duration": 4,
    "start_time": "2022-04-28T13:56:25.841Z"
   },
   {
    "duration": 110,
    "start_time": "2022-04-28T13:56:25.846Z"
   },
   {
    "duration": 17,
    "start_time": "2022-04-28T13:56:25.957Z"
   },
   {
    "duration": 26,
    "start_time": "2022-04-28T13:56:25.976Z"
   },
   {
    "duration": 39,
    "start_time": "2022-04-28T13:56:26.004Z"
   },
   {
    "duration": 4,
    "start_time": "2022-04-28T18:04:35.850Z"
   },
   {
    "duration": 55,
    "start_time": "2022-04-28T18:07:43.934Z"
   },
   {
    "duration": 511,
    "start_time": "2022-04-28T18:07:54.923Z"
   },
   {
    "duration": 7,
    "start_time": "2022-04-28T18:07:55.436Z"
   },
   {
    "duration": 16,
    "start_time": "2022-04-28T18:07:55.444Z"
   },
   {
    "duration": 92,
    "start_time": "2022-04-28T18:07:55.463Z"
   },
   {
    "duration": 10,
    "start_time": "2022-04-28T18:07:55.557Z"
   },
   {
    "duration": 10,
    "start_time": "2022-04-28T18:07:55.568Z"
   },
   {
    "duration": 29,
    "start_time": "2022-04-28T18:07:55.580Z"
   },
   {
    "duration": 113,
    "start_time": "2022-04-28T18:07:55.611Z"
   },
   {
    "duration": 17,
    "start_time": "2022-04-28T18:07:55.726Z"
   },
   {
    "duration": 9,
    "start_time": "2022-04-28T18:07:55.746Z"
   },
   {
    "duration": 88,
    "start_time": "2022-04-28T18:07:55.757Z"
   },
   {
    "duration": 68,
    "start_time": "2022-04-28T18:13:57.861Z"
   },
   {
    "duration": 50,
    "start_time": "2022-04-28T18:14:14.626Z"
   },
   {
    "duration": 1559,
    "start_time": "2022-04-28T18:15:34.726Z"
   },
   {
    "duration": 1577,
    "start_time": "2022-04-28T18:16:20.946Z"
   },
   {
    "duration": 1586,
    "start_time": "2022-04-28T18:16:47.054Z"
   },
   {
    "duration": 1596,
    "start_time": "2022-04-28T18:18:14.731Z"
   },
   {
    "duration": 102,
    "start_time": "2022-04-28T18:22:58.829Z"
   },
   {
    "duration": 94,
    "start_time": "2022-04-28T18:23:22.775Z"
   },
   {
    "duration": 100,
    "start_time": "2022-04-28T18:24:11.626Z"
   },
   {
    "duration": 97,
    "start_time": "2022-04-28T18:26:06.822Z"
   },
   {
    "duration": 93,
    "start_time": "2022-04-28T18:34:34.073Z"
   },
   {
    "duration": 64,
    "start_time": "2022-04-28T18:40:39.624Z"
   },
   {
    "duration": 14,
    "start_time": "2022-04-28T18:54:59.577Z"
   },
   {
    "duration": 16,
    "start_time": "2022-04-28T18:55:46.521Z"
   },
   {
    "duration": 96,
    "start_time": "2022-04-28T18:56:47.099Z"
   },
   {
    "duration": 431,
    "start_time": "2022-04-28T18:56:58.091Z"
   },
   {
    "duration": 366,
    "start_time": "2022-04-28T18:57:20.788Z"
   },
   {
    "duration": 695,
    "start_time": "2022-04-28T18:57:47.662Z"
   },
   {
    "duration": 106,
    "start_time": "2022-04-28T18:57:53.617Z"
   },
   {
    "duration": 6,
    "start_time": "2022-04-28T18:57:53.726Z"
   },
   {
    "duration": 12,
    "start_time": "2022-04-28T18:57:53.734Z"
   },
   {
    "duration": 90,
    "start_time": "2022-04-28T18:57:53.748Z"
   },
   {
    "duration": 705,
    "start_time": "2022-04-28T18:57:55.895Z"
   },
   {
    "duration": 12,
    "start_time": "2022-04-28T19:02:58.110Z"
   },
   {
    "duration": 93,
    "start_time": "2022-04-28T19:04:43.173Z"
   },
   {
    "duration": 98,
    "start_time": "2022-04-28T19:19:47.331Z"
   },
   {
    "duration": 74,
    "start_time": "2022-04-28T19:20:40.646Z"
   },
   {
    "duration": 113,
    "start_time": "2022-04-28T19:23:39.862Z"
   },
   {
    "duration": 106,
    "start_time": "2022-04-28T19:23:55.164Z"
   },
   {
    "duration": 97,
    "start_time": "2022-04-28T19:24:57.335Z"
   },
   {
    "duration": 5,
    "start_time": "2022-04-28T19:24:57.435Z"
   },
   {
    "duration": 12,
    "start_time": "2022-04-28T19:24:57.443Z"
   },
   {
    "duration": 98,
    "start_time": "2022-04-28T19:24:57.456Z"
   },
   {
    "duration": 13,
    "start_time": "2022-04-28T19:24:57.557Z"
   },
   {
    "duration": 36,
    "start_time": "2022-04-28T19:24:57.571Z"
   },
   {
    "duration": 5,
    "start_time": "2022-04-28T19:24:57.609Z"
   },
   {
    "duration": 112,
    "start_time": "2022-04-28T19:24:57.616Z"
   },
   {
    "duration": 18,
    "start_time": "2022-04-28T19:24:57.730Z"
   },
   {
    "duration": 10,
    "start_time": "2022-04-28T19:24:57.750Z"
   },
   {
    "duration": 80,
    "start_time": "2022-04-28T19:24:57.761Z"
   },
   {
    "duration": 30,
    "start_time": "2022-04-28T19:26:09.881Z"
   },
   {
    "duration": 5,
    "start_time": "2022-04-28T19:41:33.590Z"
   },
   {
    "duration": 7,
    "start_time": "2022-04-28T19:41:47.653Z"
   },
   {
    "duration": 8,
    "start_time": "2022-04-28T19:43:07.570Z"
   },
   {
    "duration": 9,
    "start_time": "2022-04-28T19:43:35.102Z"
   },
   {
    "duration": 13,
    "start_time": "2022-04-28T19:54:04.106Z"
   },
   {
    "duration": 1387,
    "start_time": "2022-04-28T19:54:24.522Z"
   },
   {
    "duration": 1530,
    "start_time": "2022-04-28T19:54:40.378Z"
   },
   {
    "duration": 137,
    "start_time": "2022-04-28T19:54:48.733Z"
   },
   {
    "duration": 6,
    "start_time": "2022-04-28T19:54:48.872Z"
   },
   {
    "duration": 14,
    "start_time": "2022-04-28T19:54:48.879Z"
   },
   {
    "duration": 76,
    "start_time": "2022-04-28T19:54:48.895Z"
   },
   {
    "duration": 35,
    "start_time": "2022-04-28T19:54:48.973Z"
   },
   {
    "duration": 8,
    "start_time": "2022-04-28T19:54:49.010Z"
   },
   {
    "duration": 3,
    "start_time": "2022-04-28T19:54:49.020Z"
   },
   {
    "duration": 110,
    "start_time": "2022-04-28T19:54:49.025Z"
   },
   {
    "duration": 17,
    "start_time": "2022-04-28T19:54:49.137Z"
   },
   {
    "duration": 9,
    "start_time": "2022-04-28T19:54:49.157Z"
   },
   {
    "duration": 46,
    "start_time": "2022-04-28T19:54:49.168Z"
   },
   {
    "duration": 1537,
    "start_time": "2022-04-28T19:54:49.216Z"
   },
   {
    "duration": 705,
    "start_time": "2022-04-28T19:55:18.746Z"
   },
   {
    "duration": 1379,
    "start_time": "2022-04-28T19:58:35.242Z"
   },
   {
    "duration": 1420,
    "start_time": "2022-04-28T19:58:53.317Z"
   },
   {
    "duration": 771,
    "start_time": "2022-04-28T20:00:43.124Z"
   },
   {
    "duration": 756,
    "start_time": "2022-04-28T20:01:17.386Z"
   },
   {
    "duration": 1423,
    "start_time": "2022-04-28T20:04:22.620Z"
   },
   {
    "duration": 7,
    "start_time": "2022-04-28T20:04:53.193Z"
   },
   {
    "duration": 826,
    "start_time": "2022-04-28T20:09:16.895Z"
   },
   {
    "duration": 98,
    "start_time": "2022-04-28T20:09:30.186Z"
   },
   {
    "duration": 5,
    "start_time": "2022-04-28T20:09:30.287Z"
   },
   {
    "duration": 14,
    "start_time": "2022-04-28T20:09:30.308Z"
   },
   {
    "duration": 94,
    "start_time": "2022-04-28T20:09:30.324Z"
   },
   {
    "duration": 12,
    "start_time": "2022-04-28T20:09:30.420Z"
   },
   {
    "duration": 13,
    "start_time": "2022-04-28T20:09:30.434Z"
   },
   {
    "duration": 17,
    "start_time": "2022-04-28T20:09:30.449Z"
   },
   {
    "duration": 128,
    "start_time": "2022-04-28T20:09:30.469Z"
   },
   {
    "duration": 33,
    "start_time": "2022-04-28T20:09:30.598Z"
   },
   {
    "duration": 10,
    "start_time": "2022-04-28T20:09:30.633Z"
   },
   {
    "duration": 36,
    "start_time": "2022-04-28T20:09:30.645Z"
   },
   {
    "duration": 761,
    "start_time": "2022-04-28T20:09:30.683Z"
   },
   {
    "duration": 12,
    "start_time": "2022-04-28T20:09:56.750Z"
   },
   {
    "duration": 98,
    "start_time": "2022-04-28T20:10:16.418Z"
   },
   {
    "duration": 7,
    "start_time": "2022-04-28T20:10:16.519Z"
   },
   {
    "duration": 10,
    "start_time": "2022-04-28T20:10:16.528Z"
   },
   {
    "duration": 103,
    "start_time": "2022-04-28T20:10:16.541Z"
   },
   {
    "duration": 11,
    "start_time": "2022-04-28T20:10:16.646Z"
   },
   {
    "duration": 9,
    "start_time": "2022-04-28T20:10:16.659Z"
   },
   {
    "duration": 5,
    "start_time": "2022-04-28T20:10:16.669Z"
   },
   {
    "duration": 147,
    "start_time": "2022-04-28T20:10:16.675Z"
   },
   {
    "duration": 19,
    "start_time": "2022-04-28T20:10:16.824Z"
   },
   {
    "duration": 10,
    "start_time": "2022-04-28T20:10:16.845Z"
   },
   {
    "duration": 53,
    "start_time": "2022-04-28T20:10:16.857Z"
   },
   {
    "duration": 11,
    "start_time": "2022-04-28T20:10:16.916Z"
   },
   {
    "duration": 7,
    "start_time": "2022-04-28T20:10:38.774Z"
   },
   {
    "duration": 484,
    "start_time": "2022-04-29T09:31:32.453Z"
   },
   {
    "duration": 42,
    "start_time": "2022-04-29T09:31:32.939Z"
   },
   {
    "duration": 5,
    "start_time": "2022-04-29T09:31:32.982Z"
   },
   {
    "duration": 17,
    "start_time": "2022-04-29T09:31:32.989Z"
   },
   {
    "duration": 78,
    "start_time": "2022-04-29T09:31:33.007Z"
   },
   {
    "duration": 10,
    "start_time": "2022-04-29T09:31:33.087Z"
   },
   {
    "duration": 7,
    "start_time": "2022-04-29T09:31:33.099Z"
   },
   {
    "duration": 3,
    "start_time": "2022-04-29T09:31:33.108Z"
   },
   {
    "duration": 102,
    "start_time": "2022-04-29T09:31:33.113Z"
   },
   {
    "duration": 17,
    "start_time": "2022-04-29T09:31:33.217Z"
   },
   {
    "duration": 8,
    "start_time": "2022-04-29T09:31:33.236Z"
   },
   {
    "duration": 50,
    "start_time": "2022-04-29T09:31:33.245Z"
   },
   {
    "duration": 78,
    "start_time": "2022-04-29T09:31:33.296Z"
   },
   {
    "duration": 15,
    "start_time": "2022-04-29T09:32:59.666Z"
   },
   {
    "duration": 51,
    "start_time": "2022-04-29T09:33:06.250Z"
   },
   {
    "duration": 24,
    "start_time": "2022-04-29T09:33:06.303Z"
   },
   {
    "duration": 15,
    "start_time": "2022-04-29T09:33:06.328Z"
   },
   {
    "duration": 4,
    "start_time": "2022-04-29T09:33:06.345Z"
   },
   {
    "duration": 30,
    "start_time": "2022-04-29T09:33:06.350Z"
   },
   {
    "duration": 65,
    "start_time": "2022-04-29T09:33:06.382Z"
   },
   {
    "duration": 32,
    "start_time": "2022-04-29T09:33:06.448Z"
   },
   {
    "duration": 7,
    "start_time": "2022-04-29T09:33:06.482Z"
   },
   {
    "duration": 4,
    "start_time": "2022-04-29T09:33:06.491Z"
   },
   {
    "duration": 103,
    "start_time": "2022-04-29T09:33:06.497Z"
   },
   {
    "duration": 16,
    "start_time": "2022-04-29T09:33:06.602Z"
   },
   {
    "duration": 10,
    "start_time": "2022-04-29T09:33:06.620Z"
   },
   {
    "duration": 49,
    "start_time": "2022-04-29T09:33:06.631Z"
   },
   {
    "duration": 13,
    "start_time": "2022-04-29T09:33:06.682Z"
   },
   {
    "duration": 16,
    "start_time": "2022-04-29T09:43:45.243Z"
   },
   {
    "duration": 62,
    "start_time": "2022-04-29T09:43:49.661Z"
   },
   {
    "duration": 24,
    "start_time": "2022-04-29T09:43:49.725Z"
   },
   {
    "duration": 32,
    "start_time": "2022-04-29T09:43:49.751Z"
   },
   {
    "duration": 8,
    "start_time": "2022-04-29T09:43:49.785Z"
   },
   {
    "duration": 12,
    "start_time": "2022-04-29T09:43:49.795Z"
   },
   {
    "duration": 87,
    "start_time": "2022-04-29T09:43:49.808Z"
   },
   {
    "duration": 11,
    "start_time": "2022-04-29T09:43:49.897Z"
   },
   {
    "duration": 8,
    "start_time": "2022-04-29T09:43:49.909Z"
   },
   {
    "duration": 6,
    "start_time": "2022-04-29T09:43:49.918Z"
   },
   {
    "duration": 104,
    "start_time": "2022-04-29T09:43:49.926Z"
   },
   {
    "duration": 17,
    "start_time": "2022-04-29T09:43:50.032Z"
   },
   {
    "duration": 26,
    "start_time": "2022-04-29T09:43:50.051Z"
   },
   {
    "duration": 35,
    "start_time": "2022-04-29T09:43:50.079Z"
   },
   {
    "duration": 17,
    "start_time": "2022-04-29T09:43:50.116Z"
   },
   {
    "duration": 3,
    "start_time": "2022-04-29T09:46:07.492Z"
   },
   {
    "duration": 8,
    "start_time": "2022-04-29T09:53:11.247Z"
   },
   {
    "duration": 8,
    "start_time": "2022-04-29T09:54:10.882Z"
   },
   {
    "duration": 5,
    "start_time": "2022-04-29T09:54:16.343Z"
   },
   {
    "duration": 32,
    "start_time": "2022-04-29T09:57:37.768Z"
   },
   {
    "duration": 54,
    "start_time": "2022-04-29T10:00:21.127Z"
   },
   {
    "duration": 24,
    "start_time": "2022-04-29T10:00:21.183Z"
   },
   {
    "duration": 15,
    "start_time": "2022-04-29T10:00:21.209Z"
   },
   {
    "duration": 4,
    "start_time": "2022-04-29T10:00:21.226Z"
   },
   {
    "duration": 10,
    "start_time": "2022-04-29T10:00:21.945Z"
   },
   {
    "duration": 14,
    "start_time": "2022-04-29T10:00:21.957Z"
   },
   {
    "duration": 48,
    "start_time": "2022-04-29T10:00:21.974Z"
   },
   {
    "duration": 38,
    "start_time": "2022-04-29T10:00:22.024Z"
   },
   {
    "duration": 17,
    "start_time": "2022-04-29T10:00:22.064Z"
   },
   {
    "duration": 8,
    "start_time": "2022-04-29T10:00:22.082Z"
   },
   {
    "duration": 10,
    "start_time": "2022-04-29T10:00:22.092Z"
   },
   {
    "duration": 104,
    "start_time": "2022-04-29T10:00:22.104Z"
   },
   {
    "duration": 17,
    "start_time": "2022-04-29T10:00:22.210Z"
   },
   {
    "duration": 9,
    "start_time": "2022-04-29T10:00:22.229Z"
   },
   {
    "duration": 49,
    "start_time": "2022-04-29T10:00:22.240Z"
   },
   {
    "duration": 22,
    "start_time": "2022-04-29T10:00:22.290Z"
   },
   {
    "duration": 34,
    "start_time": "2022-04-29T10:14:36.067Z"
   },
   {
    "duration": 62,
    "start_time": "2022-04-29T10:18:55.286Z"
   },
   {
    "duration": 24,
    "start_time": "2022-04-29T10:18:55.349Z"
   },
   {
    "duration": 15,
    "start_time": "2022-04-29T10:18:55.375Z"
   },
   {
    "duration": 5,
    "start_time": "2022-04-29T10:18:55.392Z"
   },
   {
    "duration": 13,
    "start_time": "2022-04-29T10:18:55.399Z"
   },
   {
    "duration": 6,
    "start_time": "2022-04-29T10:18:55.413Z"
   },
   {
    "duration": 61,
    "start_time": "2022-04-29T10:18:55.421Z"
   },
   {
    "duration": 37,
    "start_time": "2022-04-29T10:18:55.483Z"
   },
   {
    "duration": 10,
    "start_time": "2022-04-29T10:18:55.522Z"
   },
   {
    "duration": 7,
    "start_time": "2022-04-29T10:18:55.535Z"
   },
   {
    "duration": 32,
    "start_time": "2022-04-29T10:18:55.544Z"
   },
   {
    "duration": 98,
    "start_time": "2022-04-29T10:18:55.578Z"
   },
   {
    "duration": 17,
    "start_time": "2022-04-29T10:18:55.678Z"
   },
   {
    "duration": 9,
    "start_time": "2022-04-29T10:18:55.697Z"
   },
   {
    "duration": 43,
    "start_time": "2022-04-29T10:18:55.708Z"
   },
   {
    "duration": 21,
    "start_time": "2022-04-29T10:18:55.753Z"
   },
   {
    "duration": 1571,
    "start_time": "2022-04-29T10:19:37.499Z"
   },
   {
    "duration": 58,
    "start_time": "2022-04-29T10:19:41.658Z"
   },
   {
    "duration": 28,
    "start_time": "2022-04-29T10:19:41.718Z"
   },
   {
    "duration": 35,
    "start_time": "2022-04-29T10:19:41.748Z"
   },
   {
    "duration": 17,
    "start_time": "2022-04-29T10:19:41.785Z"
   },
   {
    "duration": 12,
    "start_time": "2022-04-29T10:19:41.806Z"
   },
   {
    "duration": 5,
    "start_time": "2022-04-29T10:19:41.820Z"
   },
   {
    "duration": 54,
    "start_time": "2022-04-29T10:19:41.827Z"
   },
   {
    "duration": 37,
    "start_time": "2022-04-29T10:19:41.883Z"
   },
   {
    "duration": 12,
    "start_time": "2022-04-29T10:19:41.922Z"
   },
   {
    "duration": 42,
    "start_time": "2022-04-29T10:19:41.936Z"
   },
   {
    "duration": 4,
    "start_time": "2022-04-29T10:19:41.980Z"
   },
   {
    "duration": 105,
    "start_time": "2022-04-29T10:19:41.986Z"
   },
   {
    "duration": 18,
    "start_time": "2022-04-29T10:19:42.093Z"
   },
   {
    "duration": 9,
    "start_time": "2022-04-29T10:19:42.113Z"
   },
   {
    "duration": 49,
    "start_time": "2022-04-29T10:19:42.124Z"
   },
   {
    "duration": 14,
    "start_time": "2022-04-29T10:19:42.175Z"
   },
   {
    "duration": 40,
    "start_time": "2022-04-29T10:21:09.413Z"
   },
   {
    "duration": 55,
    "start_time": "2022-04-29T10:21:15.668Z"
   },
   {
    "duration": 23,
    "start_time": "2022-04-29T10:21:15.725Z"
   },
   {
    "duration": 27,
    "start_time": "2022-04-29T10:21:15.750Z"
   },
   {
    "duration": 4,
    "start_time": "2022-04-29T10:21:15.779Z"
   },
   {
    "duration": 12,
    "start_time": "2022-04-29T10:21:15.785Z"
   },
   {
    "duration": 3,
    "start_time": "2022-04-29T10:21:15.799Z"
   },
   {
    "duration": 42,
    "start_time": "2022-04-29T10:21:15.804Z"
   },
   {
    "duration": 27,
    "start_time": "2022-04-29T10:21:15.873Z"
   },
   {
    "duration": 10,
    "start_time": "2022-04-29T10:21:15.902Z"
   },
   {
    "duration": 7,
    "start_time": "2022-04-29T10:21:15.916Z"
   },
   {
    "duration": 4,
    "start_time": "2022-04-29T10:21:15.925Z"
   },
   {
    "duration": 120,
    "start_time": "2022-04-29T10:21:15.931Z"
   },
   {
    "duration": 31,
    "start_time": "2022-04-29T10:21:16.053Z"
   },
   {
    "duration": 8,
    "start_time": "2022-04-29T10:21:16.086Z"
   },
   {
    "duration": 29,
    "start_time": "2022-04-29T10:21:16.095Z"
   },
   {
    "duration": 39,
    "start_time": "2022-04-29T10:21:16.127Z"
   },
   {
    "duration": 40,
    "start_time": "2022-04-29T10:22:57.440Z"
   },
   {
    "duration": 61,
    "start_time": "2022-04-29T10:23:06.123Z"
   },
   {
    "duration": 24,
    "start_time": "2022-04-29T10:23:06.186Z"
   },
   {
    "duration": 15,
    "start_time": "2022-04-29T10:23:06.212Z"
   },
   {
    "duration": 4,
    "start_time": "2022-04-29T10:23:06.230Z"
   },
   {
    "duration": 16,
    "start_time": "2022-04-29T10:23:06.236Z"
   },
   {
    "duration": 20,
    "start_time": "2022-04-29T10:23:06.254Z"
   },
   {
    "duration": 43,
    "start_time": "2022-04-29T10:23:06.276Z"
   },
   {
    "duration": 28,
    "start_time": "2022-04-29T10:23:06.321Z"
   },
   {
    "duration": 32,
    "start_time": "2022-04-29T10:23:06.350Z"
   },
   {
    "duration": 8,
    "start_time": "2022-04-29T10:23:06.384Z"
   },
   {
    "duration": 3,
    "start_time": "2022-04-29T10:23:06.393Z"
   },
   {
    "duration": 102,
    "start_time": "2022-04-29T10:23:06.398Z"
   },
   {
    "duration": 18,
    "start_time": "2022-04-29T10:23:06.502Z"
   },
   {
    "duration": 11,
    "start_time": "2022-04-29T10:23:06.521Z"
   },
   {
    "duration": 55,
    "start_time": "2022-04-29T10:23:06.534Z"
   },
   {
    "duration": 14,
    "start_time": "2022-04-29T10:23:06.592Z"
   },
   {
    "duration": 2349,
    "start_time": "2022-04-29T10:25:01.834Z"
   },
   {
    "duration": 60,
    "start_time": "2022-04-29T10:25:06.076Z"
   },
   {
    "duration": 24,
    "start_time": "2022-04-29T10:25:06.138Z"
   },
   {
    "duration": 16,
    "start_time": "2022-04-29T10:25:06.173Z"
   },
   {
    "duration": 5,
    "start_time": "2022-04-29T10:25:06.191Z"
   },
   {
    "duration": 30,
    "start_time": "2022-04-29T10:25:06.197Z"
   },
   {
    "duration": 11,
    "start_time": "2022-04-29T10:25:06.229Z"
   },
   {
    "duration": 50,
    "start_time": "2022-04-29T10:25:06.242Z"
   },
   {
    "duration": 25,
    "start_time": "2022-04-29T10:25:06.293Z"
   },
   {
    "duration": 10,
    "start_time": "2022-04-29T10:25:06.320Z"
   },
   {
    "duration": 18,
    "start_time": "2022-04-29T10:25:06.332Z"
   },
   {
    "duration": 24,
    "start_time": "2022-04-29T10:25:06.351Z"
   },
   {
    "duration": 97,
    "start_time": "2022-04-29T10:25:06.376Z"
   },
   {
    "duration": 17,
    "start_time": "2022-04-29T10:25:06.475Z"
   },
   {
    "duration": 10,
    "start_time": "2022-04-29T10:25:06.493Z"
   },
   {
    "duration": 34,
    "start_time": "2022-04-29T10:25:06.505Z"
   },
   {
    "duration": 38,
    "start_time": "2022-04-29T10:25:06.540Z"
   },
   {
    "duration": 56,
    "start_time": "2022-04-29T10:32:17.027Z"
   },
   {
    "duration": 26,
    "start_time": "2022-04-29T10:32:17.085Z"
   },
   {
    "duration": 17,
    "start_time": "2022-04-29T10:32:17.113Z"
   },
   {
    "duration": 6,
    "start_time": "2022-04-29T10:32:17.132Z"
   },
   {
    "duration": 37,
    "start_time": "2022-04-29T10:32:17.140Z"
   },
   {
    "duration": 5,
    "start_time": "2022-04-29T10:32:17.178Z"
   },
   {
    "duration": 44,
    "start_time": "2022-04-29T10:32:17.185Z"
   },
   {
    "duration": 45,
    "start_time": "2022-04-29T10:32:17.230Z"
   },
   {
    "duration": 17,
    "start_time": "2022-04-29T10:32:18.457Z"
   },
   {
    "duration": 10,
    "start_time": "2022-04-29T10:32:32.067Z"
   },
   {
    "duration": 8,
    "start_time": "2022-04-29T10:35:40.279Z"
   },
   {
    "duration": 17,
    "start_time": "2022-04-29T10:38:03.639Z"
   },
   {
    "duration": 18,
    "start_time": "2022-04-29T10:39:05.698Z"
   },
   {
    "duration": 3,
    "start_time": "2022-04-29T10:39:17.486Z"
   },
   {
    "duration": 77,
    "start_time": "2022-04-29T10:39:42.387Z"
   },
   {
    "duration": 93,
    "start_time": "2022-04-29T10:40:00.007Z"
   },
   {
    "duration": 60,
    "start_time": "2022-04-29T10:40:06.531Z"
   },
   {
    "duration": 27,
    "start_time": "2022-04-29T10:40:06.593Z"
   },
   {
    "duration": 18,
    "start_time": "2022-04-29T10:40:06.622Z"
   },
   {
    "duration": 5,
    "start_time": "2022-04-29T10:40:06.642Z"
   },
   {
    "duration": 11,
    "start_time": "2022-04-29T10:40:06.673Z"
   },
   {
    "duration": 4,
    "start_time": "2022-04-29T10:40:06.686Z"
   },
   {
    "duration": 45,
    "start_time": "2022-04-29T10:40:06.692Z"
   },
   {
    "duration": 56,
    "start_time": "2022-04-29T10:40:06.739Z"
   },
   {
    "duration": 10,
    "start_time": "2022-04-29T10:40:06.796Z"
   },
   {
    "duration": 10,
    "start_time": "2022-04-29T10:40:06.809Z"
   },
   {
    "duration": 4,
    "start_time": "2022-04-29T10:40:06.820Z"
   },
   {
    "duration": 20,
    "start_time": "2022-04-29T10:40:06.826Z"
   },
   {
    "duration": 28,
    "start_time": "2022-04-29T10:40:29.959Z"
   },
   {
    "duration": 58,
    "start_time": "2022-04-29T10:41:06.163Z"
   },
   {
    "duration": 31,
    "start_time": "2022-04-29T10:42:29.436Z"
   },
   {
    "duration": 55,
    "start_time": "2022-04-29T10:42:36.844Z"
   },
   {
    "duration": 25,
    "start_time": "2022-04-29T10:42:36.901Z"
   },
   {
    "duration": 16,
    "start_time": "2022-04-29T10:42:36.927Z"
   },
   {
    "duration": 4,
    "start_time": "2022-04-29T10:42:36.945Z"
   },
   {
    "duration": 30,
    "start_time": "2022-04-29T10:42:36.951Z"
   },
   {
    "duration": 4,
    "start_time": "2022-04-29T10:42:36.983Z"
   },
   {
    "duration": 96,
    "start_time": "2022-04-29T10:42:36.988Z"
   },
   {
    "duration": 24,
    "start_time": "2022-04-29T10:42:37.086Z"
   },
   {
    "duration": 11,
    "start_time": "2022-04-29T10:42:37.112Z"
   },
   {
    "duration": 8,
    "start_time": "2022-04-29T10:42:37.125Z"
   },
   {
    "duration": 4,
    "start_time": "2022-04-29T10:42:37.134Z"
   },
   {
    "duration": 51,
    "start_time": "2022-04-29T10:42:37.139Z"
   },
   {
    "duration": 29,
    "start_time": "2022-04-29T10:42:37.192Z"
   },
   {
    "duration": 31,
    "start_time": "2022-04-29T10:42:38.910Z"
   },
   {
    "duration": 32,
    "start_time": "2022-04-29T10:43:34.844Z"
   },
   {
    "duration": 31,
    "start_time": "2022-04-29T10:44:11.514Z"
   },
   {
    "duration": 9,
    "start_time": "2022-04-29T10:45:12.135Z"
   },
   {
    "duration": 57,
    "start_time": "2022-04-29T10:45:17.952Z"
   },
   {
    "duration": 33,
    "start_time": "2022-04-29T10:45:18.011Z"
   },
   {
    "duration": 30,
    "start_time": "2022-04-29T10:45:18.045Z"
   },
   {
    "duration": 5,
    "start_time": "2022-04-29T10:45:18.077Z"
   },
   {
    "duration": 14,
    "start_time": "2022-04-29T10:45:18.084Z"
   },
   {
    "duration": 4,
    "start_time": "2022-04-29T10:45:18.100Z"
   },
   {
    "duration": 40,
    "start_time": "2022-04-29T10:45:18.105Z"
   },
   {
    "duration": 46,
    "start_time": "2022-04-29T10:45:18.147Z"
   },
   {
    "duration": 11,
    "start_time": "2022-04-29T10:45:18.194Z"
   },
   {
    "duration": 7,
    "start_time": "2022-04-29T10:45:18.207Z"
   },
   {
    "duration": 4,
    "start_time": "2022-04-29T10:45:18.216Z"
   },
   {
    "duration": 17,
    "start_time": "2022-04-29T10:45:18.221Z"
   },
   {
    "duration": 59,
    "start_time": "2022-04-29T10:45:18.240Z"
   },
   {
    "duration": 34,
    "start_time": "2022-04-29T10:45:18.300Z"
   },
   {
    "duration": 15,
    "start_time": "2022-04-29T10:45:22.035Z"
   },
   {
    "duration": 127,
    "start_time": "2022-04-29T10:47:30.514Z"
   },
   {
    "duration": 30,
    "start_time": "2022-04-29T10:48:17.631Z"
   },
   {
    "duration": 18,
    "start_time": "2022-04-29T10:49:17.095Z"
   },
   {
    "duration": 5,
    "start_time": "2022-04-29T10:52:33.013Z"
   },
   {
    "duration": 60,
    "start_time": "2022-04-29T10:53:47.993Z"
   },
   {
    "duration": 26,
    "start_time": "2022-04-29T10:53:48.055Z"
   },
   {
    "duration": 16,
    "start_time": "2022-04-29T10:53:48.083Z"
   },
   {
    "duration": 5,
    "start_time": "2022-04-29T10:53:48.102Z"
   },
   {
    "duration": 18,
    "start_time": "2022-04-29T10:53:48.109Z"
   },
   {
    "duration": 6,
    "start_time": "2022-04-29T10:53:48.129Z"
   },
   {
    "duration": 66,
    "start_time": "2022-04-29T10:53:48.136Z"
   },
   {
    "duration": 25,
    "start_time": "2022-04-29T10:53:48.205Z"
   },
   {
    "duration": 10,
    "start_time": "2022-04-29T10:53:48.232Z"
   },
   {
    "duration": 39,
    "start_time": "2022-04-29T10:53:48.245Z"
   },
   {
    "duration": 13,
    "start_time": "2022-04-29T10:53:48.286Z"
   },
   {
    "duration": 18,
    "start_time": "2022-04-29T10:53:48.301Z"
   },
   {
    "duration": 27,
    "start_time": "2022-04-29T10:53:48.322Z"
   },
   {
    "duration": 43,
    "start_time": "2022-04-29T10:53:48.351Z"
   },
   {
    "duration": 14,
    "start_time": "2022-04-29T10:53:48.395Z"
   },
   {
    "duration": 53,
    "start_time": "2022-04-29T10:53:48.411Z"
   },
   {
    "duration": 17,
    "start_time": "2022-04-29T10:53:48.466Z"
   },
   {
    "duration": 15,
    "start_time": "2022-04-29T10:53:49.707Z"
   },
   {
    "duration": 15,
    "start_time": "2022-04-29T10:54:21.891Z"
   },
   {
    "duration": 11,
    "start_time": "2022-04-29T10:54:29.100Z"
   },
   {
    "duration": 677,
    "start_time": "2022-04-29T10:54:33.816Z"
   },
   {
    "duration": 23,
    "start_time": "2022-04-29T10:54:34.495Z"
   },
   {
    "duration": 15,
    "start_time": "2022-04-29T10:54:34.520Z"
   },
   {
    "duration": 5,
    "start_time": "2022-04-29T10:54:34.538Z"
   },
   {
    "duration": 36,
    "start_time": "2022-04-29T10:54:34.544Z"
   },
   {
    "duration": 5,
    "start_time": "2022-04-29T10:54:34.582Z"
   },
   {
    "duration": 42,
    "start_time": "2022-04-29T10:54:34.588Z"
   },
   {
    "duration": 47,
    "start_time": "2022-04-29T10:54:34.632Z"
   },
   {
    "duration": 10,
    "start_time": "2022-04-29T10:54:34.681Z"
   },
   {
    "duration": 7,
    "start_time": "2022-04-29T10:54:34.693Z"
   },
   {
    "duration": 3,
    "start_time": "2022-04-29T10:54:34.702Z"
   },
   {
    "duration": 19,
    "start_time": "2022-04-29T10:54:34.707Z"
   },
   {
    "duration": 52,
    "start_time": "2022-04-29T10:54:34.729Z"
   },
   {
    "duration": 31,
    "start_time": "2022-04-29T10:54:34.783Z"
   },
   {
    "duration": 14,
    "start_time": "2022-04-29T10:54:34.816Z"
   },
   {
    "duration": 56,
    "start_time": "2022-04-29T10:54:34.832Z"
   },
   {
    "duration": 18,
    "start_time": "2022-04-29T10:54:34.890Z"
   },
   {
    "duration": 19,
    "start_time": "2022-04-29T10:54:34.910Z"
   },
   {
    "duration": 4,
    "start_time": "2022-04-29T10:54:35.653Z"
   },
   {
    "duration": 9,
    "start_time": "2022-04-29T10:57:41.501Z"
   },
   {
    "duration": 4,
    "start_time": "2022-04-29T10:58:38.699Z"
   },
   {
    "duration": 4,
    "start_time": "2022-04-29T10:59:15.596Z"
   },
   {
    "duration": 25,
    "start_time": "2022-04-29T11:00:17.879Z"
   },
   {
    "duration": 19,
    "start_time": "2022-04-29T11:00:31.930Z"
   },
   {
    "duration": 3,
    "start_time": "2022-04-29T11:02:16.074Z"
   },
   {
    "duration": 22,
    "start_time": "2022-04-29T11:03:56.516Z"
   },
   {
    "duration": 8,
    "start_time": "2022-04-29T12:26:40.379Z"
   },
   {
    "duration": 10,
    "start_time": "2022-04-29T12:28:13.958Z"
   },
   {
    "duration": 9,
    "start_time": "2022-04-29T12:28:45.870Z"
   },
   {
    "duration": 12,
    "start_time": "2022-04-29T12:35:17.831Z"
   },
   {
    "duration": 16,
    "start_time": "2022-04-29T12:36:53.912Z"
   },
   {
    "duration": 87,
    "start_time": "2022-04-29T12:38:25.052Z"
   },
   {
    "duration": 16,
    "start_time": "2022-04-29T12:38:33.754Z"
   },
   {
    "duration": 15,
    "start_time": "2022-04-29T12:38:54.985Z"
   },
   {
    "duration": 15,
    "start_time": "2022-04-29T12:40:23.073Z"
   },
   {
    "duration": 18,
    "start_time": "2022-04-29T12:40:54.902Z"
   },
   {
    "duration": 30,
    "start_time": "2022-04-29T12:44:01.468Z"
   },
   {
    "duration": 4,
    "start_time": "2022-04-29T12:52:31.109Z"
   },
   {
    "duration": 19,
    "start_time": "2022-04-29T12:52:40.667Z"
   },
   {
    "duration": 18,
    "start_time": "2022-04-29T12:54:05.437Z"
   },
   {
    "duration": 32,
    "start_time": "2022-04-29T12:54:21.654Z"
   },
   {
    "duration": 11,
    "start_time": "2022-04-29T12:54:54.493Z"
   },
   {
    "duration": 20,
    "start_time": "2022-04-29T12:54:58.207Z"
   },
   {
    "duration": 25,
    "start_time": "2022-04-29T12:57:48.766Z"
   },
   {
    "duration": 21,
    "start_time": "2022-04-29T12:58:55.232Z"
   },
   {
    "duration": 13,
    "start_time": "2022-04-29T13:05:08.421Z"
   },
   {
    "duration": 14,
    "start_time": "2022-04-29T13:05:13.328Z"
   },
   {
    "duration": 12,
    "start_time": "2022-04-29T13:05:15.387Z"
   },
   {
    "duration": 8,
    "start_time": "2022-04-29T13:15:47.367Z"
   },
   {
    "duration": 20,
    "start_time": "2022-04-29T13:17:14.721Z"
   },
   {
    "duration": 32,
    "start_time": "2022-04-29T13:22:30.624Z"
   },
   {
    "duration": 15,
    "start_time": "2022-04-29T13:22:36.167Z"
   },
   {
    "duration": 11,
    "start_time": "2022-04-29T13:23:17.941Z"
   },
   {
    "duration": 14,
    "start_time": "2022-04-29T13:27:24.035Z"
   },
   {
    "duration": 14,
    "start_time": "2022-04-29T13:27:57.013Z"
   },
   {
    "duration": 11,
    "start_time": "2022-04-29T13:28:01.558Z"
   },
   {
    "duration": 54,
    "start_time": "2022-04-29T13:28:06.799Z"
   },
   {
    "duration": 25,
    "start_time": "2022-04-29T13:28:06.855Z"
   },
   {
    "duration": 21,
    "start_time": "2022-04-29T13:28:06.881Z"
   },
   {
    "duration": 18,
    "start_time": "2022-04-29T13:28:06.904Z"
   },
   {
    "duration": 16,
    "start_time": "2022-04-29T13:28:06.924Z"
   },
   {
    "duration": 10,
    "start_time": "2022-04-29T13:28:06.941Z"
   },
   {
    "duration": 69,
    "start_time": "2022-04-29T13:28:06.953Z"
   },
   {
    "duration": 26,
    "start_time": "2022-04-29T13:28:07.023Z"
   },
   {
    "duration": 23,
    "start_time": "2022-04-29T13:28:07.051Z"
   },
   {
    "duration": 22,
    "start_time": "2022-04-29T13:28:07.076Z"
   },
   {
    "duration": 19,
    "start_time": "2022-04-29T13:28:07.100Z"
   },
   {
    "duration": 39,
    "start_time": "2022-04-29T13:28:07.121Z"
   },
   {
    "duration": 29,
    "start_time": "2022-04-29T13:28:07.161Z"
   },
   {
    "duration": 32,
    "start_time": "2022-04-29T13:28:07.194Z"
   },
   {
    "duration": 13,
    "start_time": "2022-04-29T13:28:07.228Z"
   },
   {
    "duration": 56,
    "start_time": "2022-04-29T13:28:07.243Z"
   },
   {
    "duration": 19,
    "start_time": "2022-04-29T13:28:07.301Z"
   },
   {
    "duration": 31,
    "start_time": "2022-04-29T13:28:07.322Z"
   },
   {
    "duration": 13,
    "start_time": "2022-04-29T13:28:07.355Z"
   },
   {
    "duration": 21,
    "start_time": "2022-04-29T13:28:07.372Z"
   },
   {
    "duration": 18,
    "start_time": "2022-04-29T13:28:07.395Z"
   },
   {
    "duration": 37,
    "start_time": "2022-04-29T13:28:07.415Z"
   },
   {
    "duration": 31,
    "start_time": "2022-04-29T13:28:07.454Z"
   },
   {
    "duration": 51,
    "start_time": "2022-04-29T13:28:07.487Z"
   },
   {
    "duration": 26,
    "start_time": "2022-04-29T13:28:07.540Z"
   },
   {
    "duration": 15,
    "start_time": "2022-04-29T13:28:07.567Z"
   },
   {
    "duration": 30,
    "start_time": "2022-04-29T13:28:07.584Z"
   },
   {
    "duration": 12,
    "start_time": "2022-04-29T13:28:09.902Z"
   },
   {
    "duration": 17,
    "start_time": "2022-04-29T13:28:15.098Z"
   },
   {
    "duration": 14,
    "start_time": "2022-04-29T13:29:19.366Z"
   },
   {
    "duration": 12,
    "start_time": "2022-04-29T13:29:21.514Z"
   },
   {
    "duration": 19,
    "start_time": "2022-04-29T13:33:15.122Z"
   },
   {
    "duration": 11,
    "start_time": "2022-04-29T13:33:37.828Z"
   },
   {
    "duration": 12,
    "start_time": "2022-04-29T13:34:04.895Z"
   },
   {
    "duration": 54,
    "start_time": "2022-04-29T13:34:09.501Z"
   },
   {
    "duration": 26,
    "start_time": "2022-04-29T13:34:09.557Z"
   },
   {
    "duration": 16,
    "start_time": "2022-04-29T13:34:09.584Z"
   },
   {
    "duration": 5,
    "start_time": "2022-04-29T13:34:09.602Z"
   },
   {
    "duration": 16,
    "start_time": "2022-04-29T13:34:09.609Z"
   },
   {
    "duration": 4,
    "start_time": "2022-04-29T13:34:09.627Z"
   },
   {
    "duration": 58,
    "start_time": "2022-04-29T13:34:09.632Z"
   },
   {
    "duration": 24,
    "start_time": "2022-04-29T13:34:09.692Z"
   },
   {
    "duration": 12,
    "start_time": "2022-04-29T13:34:09.718Z"
   },
   {
    "duration": 9,
    "start_time": "2022-04-29T13:34:09.732Z"
   },
   {
    "duration": 32,
    "start_time": "2022-04-29T13:34:09.743Z"
   },
   {
    "duration": 17,
    "start_time": "2022-04-29T13:34:09.776Z"
   },
   {
    "duration": 30,
    "start_time": "2022-04-29T13:34:09.795Z"
   },
   {
    "duration": 61,
    "start_time": "2022-04-29T13:34:09.828Z"
   },
   {
    "duration": 14,
    "start_time": "2022-04-29T13:34:09.890Z"
   },
   {
    "duration": 40,
    "start_time": "2022-04-29T13:34:09.905Z"
   },
   {
    "duration": 34,
    "start_time": "2022-04-29T13:34:09.947Z"
   },
   {
    "duration": 19,
    "start_time": "2022-04-29T13:34:10.842Z"
   },
   {
    "duration": 967,
    "start_time": "2022-04-29T13:34:34.116Z"
   },
   {
    "duration": 36,
    "start_time": "2022-04-29T13:34:35.085Z"
   },
   {
    "duration": 22,
    "start_time": "2022-04-29T13:34:35.123Z"
   },
   {
    "duration": 27,
    "start_time": "2022-04-29T13:34:35.148Z"
   },
   {
    "duration": 19,
    "start_time": "2022-04-29T13:34:35.177Z"
   },
   {
    "duration": 6,
    "start_time": "2022-04-29T13:34:35.198Z"
   },
   {
    "duration": 76,
    "start_time": "2022-04-29T13:34:35.206Z"
   },
   {
    "duration": 39,
    "start_time": "2022-04-29T13:34:35.285Z"
   },
   {
    "duration": 13,
    "start_time": "2022-04-29T13:34:35.325Z"
   },
   {
    "duration": 31,
    "start_time": "2022-04-29T13:34:35.342Z"
   },
   {
    "duration": 4,
    "start_time": "2022-04-29T13:34:35.375Z"
   },
   {
    "duration": 39,
    "start_time": "2022-04-29T13:34:35.381Z"
   },
   {
    "duration": 31,
    "start_time": "2022-04-29T13:34:35.422Z"
   },
   {
    "duration": 45,
    "start_time": "2022-04-29T13:34:35.455Z"
   },
   {
    "duration": 13,
    "start_time": "2022-04-29T13:34:35.502Z"
   },
   {
    "duration": 39,
    "start_time": "2022-04-29T13:34:35.517Z"
   },
   {
    "duration": 19,
    "start_time": "2022-04-29T13:34:35.572Z"
   },
   {
    "duration": 28,
    "start_time": "2022-04-29T13:34:35.593Z"
   },
   {
    "duration": 4,
    "start_time": "2022-04-29T13:34:35.623Z"
   },
   {
    "duration": 6,
    "start_time": "2022-04-29T13:34:35.629Z"
   },
   {
    "duration": 9,
    "start_time": "2022-04-29T13:34:35.637Z"
   },
   {
    "duration": 47,
    "start_time": "2022-04-29T13:34:35.647Z"
   },
   {
    "duration": 9,
    "start_time": "2022-04-29T13:34:35.696Z"
   },
   {
    "duration": 35,
    "start_time": "2022-04-29T13:34:35.707Z"
   },
   {
    "duration": 29,
    "start_time": "2022-04-29T13:34:35.744Z"
   },
   {
    "duration": 14,
    "start_time": "2022-04-29T13:34:35.775Z"
   },
   {
    "duration": 24,
    "start_time": "2022-04-29T13:34:35.791Z"
   },
   {
    "duration": 12,
    "start_time": "2022-04-29T13:34:35.818Z"
   },
   {
    "duration": 19,
    "start_time": "2022-04-29T13:34:51.248Z"
   },
   {
    "duration": 1502,
    "start_time": "2022-04-29T13:34:54.370Z"
   },
   {
    "duration": 19,
    "start_time": "2022-04-29T13:35:18.497Z"
   },
   {
    "duration": 25,
    "start_time": "2022-04-29T13:35:49.855Z"
   },
   {
    "duration": 23,
    "start_time": "2022-04-29T13:36:09.903Z"
   },
   {
    "duration": 53,
    "start_time": "2022-04-29T13:36:19.639Z"
   },
   {
    "duration": 24,
    "start_time": "2022-04-29T13:36:19.694Z"
   },
   {
    "duration": 15,
    "start_time": "2022-04-29T13:36:19.720Z"
   },
   {
    "duration": 5,
    "start_time": "2022-04-29T13:36:19.736Z"
   },
   {
    "duration": 33,
    "start_time": "2022-04-29T13:36:19.743Z"
   },
   {
    "duration": 6,
    "start_time": "2022-04-29T13:36:19.778Z"
   },
   {
    "duration": 42,
    "start_time": "2022-04-29T13:36:19.786Z"
   },
   {
    "duration": 50,
    "start_time": "2022-04-29T13:36:19.829Z"
   },
   {
    "duration": 10,
    "start_time": "2022-04-29T13:36:19.881Z"
   },
   {
    "duration": 9,
    "start_time": "2022-04-29T13:36:19.893Z"
   },
   {
    "duration": 4,
    "start_time": "2022-04-29T13:36:19.903Z"
   },
   {
    "duration": 18,
    "start_time": "2022-04-29T13:36:19.909Z"
   },
   {
    "duration": 64,
    "start_time": "2022-04-29T13:36:19.929Z"
   },
   {
    "duration": 31,
    "start_time": "2022-04-29T13:36:19.997Z"
   },
   {
    "duration": 15,
    "start_time": "2022-04-29T13:36:20.030Z"
   },
   {
    "duration": 58,
    "start_time": "2022-04-29T13:36:20.047Z"
   },
   {
    "duration": 18,
    "start_time": "2022-04-29T13:36:20.107Z"
   },
   {
    "duration": 27,
    "start_time": "2022-04-29T13:36:20.127Z"
   },
   {
    "duration": 19,
    "start_time": "2022-04-29T13:36:20.156Z"
   },
   {
    "duration": 8,
    "start_time": "2022-04-29T13:36:20.177Z"
   },
   {
    "duration": 7,
    "start_time": "2022-04-29T13:36:20.187Z"
   },
   {
    "duration": 21,
    "start_time": "2022-04-29T13:36:20.195Z"
   },
   {
    "duration": 4,
    "start_time": "2022-04-29T13:36:20.218Z"
   },
   {
    "duration": 31,
    "start_time": "2022-04-29T13:36:20.224Z"
   },
   {
    "duration": 29,
    "start_time": "2022-04-29T13:36:20.257Z"
   },
   {
    "duration": 10,
    "start_time": "2022-04-29T13:36:20.288Z"
   },
   {
    "duration": 24,
    "start_time": "2022-04-29T13:36:21.528Z"
   },
   {
    "duration": 24,
    "start_time": "2022-04-29T13:37:03.256Z"
   },
   {
    "duration": 24,
    "start_time": "2022-04-29T13:37:27.058Z"
   },
   {
    "duration": 1338,
    "start_time": "2022-04-29T13:37:30.643Z"
   },
   {
    "duration": 20,
    "start_time": "2022-04-29T13:38:03.238Z"
   },
   {
    "duration": 11,
    "start_time": "2022-04-29T13:38:07.916Z"
   },
   {
    "duration": 16,
    "start_time": "2022-04-29T13:38:24.967Z"
   },
   {
    "duration": 2769,
    "start_time": "2022-04-29T13:38:43.758Z"
   },
   {
    "duration": 1383,
    "start_time": "2022-04-29T13:38:46.948Z"
   },
   {
    "duration": 1631,
    "start_time": "2022-04-29T13:39:16.066Z"
   },
   {
    "duration": 1313,
    "start_time": "2022-04-29T13:39:32.935Z"
   },
   {
    "duration": 53,
    "start_time": "2022-04-29T13:39:38.279Z"
   },
   {
    "duration": 23,
    "start_time": "2022-04-29T13:39:38.334Z"
   },
   {
    "duration": 15,
    "start_time": "2022-04-29T13:39:38.374Z"
   },
   {
    "duration": 5,
    "start_time": "2022-04-29T13:39:38.391Z"
   },
   {
    "duration": 12,
    "start_time": "2022-04-29T13:39:38.397Z"
   },
   {
    "duration": 4,
    "start_time": "2022-04-29T13:39:38.410Z"
   },
   {
    "duration": 68,
    "start_time": "2022-04-29T13:39:38.416Z"
   },
   {
    "duration": 23,
    "start_time": "2022-04-29T13:39:38.486Z"
   },
   {
    "duration": 9,
    "start_time": "2022-04-29T13:39:38.511Z"
   },
   {
    "duration": 7,
    "start_time": "2022-04-29T13:39:38.523Z"
   },
   {
    "duration": 5,
    "start_time": "2022-04-29T13:39:38.531Z"
   },
   {
    "duration": 45,
    "start_time": "2022-04-29T13:39:38.538Z"
   },
   {
    "duration": 24,
    "start_time": "2022-04-29T13:39:38.585Z"
   },
   {
    "duration": 29,
    "start_time": "2022-04-29T13:39:38.611Z"
   },
   {
    "duration": 12,
    "start_time": "2022-04-29T13:39:38.641Z"
   },
   {
    "duration": 49,
    "start_time": "2022-04-29T13:39:38.654Z"
   },
   {
    "duration": 17,
    "start_time": "2022-04-29T13:39:38.705Z"
   },
   {
    "duration": 25,
    "start_time": "2022-04-29T13:39:38.723Z"
   },
   {
    "duration": 23,
    "start_time": "2022-04-29T13:39:38.750Z"
   },
   {
    "duration": 8,
    "start_time": "2022-04-29T13:39:38.775Z"
   },
   {
    "duration": 15,
    "start_time": "2022-04-29T13:39:38.784Z"
   },
   {
    "duration": 26,
    "start_time": "2022-04-29T13:39:38.800Z"
   },
   {
    "duration": 5,
    "start_time": "2022-04-29T13:39:38.828Z"
   },
   {
    "duration": 25,
    "start_time": "2022-04-29T13:39:38.834Z"
   },
   {
    "duration": 21,
    "start_time": "2022-04-29T13:39:38.860Z"
   },
   {
    "duration": 10,
    "start_time": "2022-04-29T13:39:38.883Z"
   },
   {
    "duration": 18,
    "start_time": "2022-04-29T13:39:38.894Z"
   },
   {
    "duration": 14,
    "start_time": "2022-04-29T13:39:42.471Z"
   },
   {
    "duration": 56,
    "start_time": "2022-04-29T13:40:02.759Z"
   },
   {
    "duration": 27,
    "start_time": "2022-04-29T13:40:02.817Z"
   },
   {
    "duration": 42,
    "start_time": "2022-04-29T13:40:02.846Z"
   },
   {
    "duration": 6,
    "start_time": "2022-04-29T13:40:02.890Z"
   },
   {
    "duration": 22,
    "start_time": "2022-04-29T13:40:02.898Z"
   },
   {
    "duration": 12,
    "start_time": "2022-04-29T13:40:02.922Z"
   },
   {
    "duration": 59,
    "start_time": "2022-04-29T13:40:02.936Z"
   },
   {
    "duration": 27,
    "start_time": "2022-04-29T13:40:02.997Z"
   },
   {
    "duration": 10,
    "start_time": "2022-04-29T13:40:03.026Z"
   },
   {
    "duration": 34,
    "start_time": "2022-04-29T13:40:03.039Z"
   },
   {
    "duration": 4,
    "start_time": "2022-04-29T13:40:03.075Z"
   },
   {
    "duration": 27,
    "start_time": "2022-04-29T13:40:03.081Z"
   },
   {
    "duration": 29,
    "start_time": "2022-04-29T13:40:03.110Z"
   },
   {
    "duration": 49,
    "start_time": "2022-04-29T13:40:03.141Z"
   },
   {
    "duration": 13,
    "start_time": "2022-04-29T13:40:03.192Z"
   },
   {
    "duration": 43,
    "start_time": "2022-04-29T13:40:03.207Z"
   },
   {
    "duration": 33,
    "start_time": "2022-04-29T13:40:03.251Z"
   },
   {
    "duration": 21,
    "start_time": "2022-04-29T13:40:03.285Z"
   },
   {
    "duration": 5,
    "start_time": "2022-04-29T13:40:03.307Z"
   },
   {
    "duration": 5,
    "start_time": "2022-04-29T13:40:03.313Z"
   },
   {
    "duration": 5,
    "start_time": "2022-04-29T13:40:03.320Z"
   },
   {
    "duration": 47,
    "start_time": "2022-04-29T13:40:03.327Z"
   },
   {
    "duration": 10,
    "start_time": "2022-04-29T13:40:03.376Z"
   },
   {
    "duration": 28,
    "start_time": "2022-04-29T13:40:03.388Z"
   },
   {
    "duration": 17,
    "start_time": "2022-04-29T13:40:03.418Z"
   },
   {
    "duration": 11,
    "start_time": "2022-04-29T13:40:03.436Z"
   },
   {
    "duration": 37,
    "start_time": "2022-04-29T13:40:03.449Z"
   },
   {
    "duration": 19,
    "start_time": "2022-04-29T13:40:09.087Z"
   },
   {
    "duration": 1426,
    "start_time": "2022-04-29T13:42:37.319Z"
   },
   {
    "duration": 66,
    "start_time": "2022-04-29T13:42:44.567Z"
   },
   {
    "duration": 27,
    "start_time": "2022-04-29T13:42:44.635Z"
   },
   {
    "duration": 29,
    "start_time": "2022-04-29T13:42:44.664Z"
   },
   {
    "duration": 9,
    "start_time": "2022-04-29T13:42:44.696Z"
   },
   {
    "duration": 10,
    "start_time": "2022-04-29T13:42:44.707Z"
   },
   {
    "duration": 6,
    "start_time": "2022-04-29T13:42:44.719Z"
   },
   {
    "duration": 70,
    "start_time": "2022-04-29T13:42:44.727Z"
   },
   {
    "duration": 25,
    "start_time": "2022-04-29T13:42:44.799Z"
   },
   {
    "duration": 11,
    "start_time": "2022-04-29T13:42:44.826Z"
   },
   {
    "duration": 36,
    "start_time": "2022-04-29T13:42:44.839Z"
   },
   {
    "duration": 6,
    "start_time": "2022-04-29T13:42:44.877Z"
   },
   {
    "duration": 23,
    "start_time": "2022-04-29T13:42:44.887Z"
   },
   {
    "duration": 28,
    "start_time": "2022-04-29T13:42:44.912Z"
   },
   {
    "duration": 55,
    "start_time": "2022-04-29T13:42:44.942Z"
   },
   {
    "duration": 16,
    "start_time": "2022-04-29T13:42:44.999Z"
   },
   {
    "duration": 66,
    "start_time": "2022-04-29T13:42:45.017Z"
   },
   {
    "duration": 32,
    "start_time": "2022-04-29T13:42:45.085Z"
   },
   {
    "duration": 22,
    "start_time": "2022-04-29T13:42:45.120Z"
   },
   {
    "duration": 5,
    "start_time": "2022-04-29T13:42:45.144Z"
   },
   {
    "duration": 4,
    "start_time": "2022-04-29T13:42:45.180Z"
   },
   {
    "duration": 9,
    "start_time": "2022-04-29T13:42:45.186Z"
   },
   {
    "duration": 30,
    "start_time": "2022-04-29T13:42:45.197Z"
   },
   {
    "duration": 4,
    "start_time": "2022-04-29T13:42:45.230Z"
   },
   {
    "duration": 48,
    "start_time": "2022-04-29T13:42:45.236Z"
   },
   {
    "duration": 16,
    "start_time": "2022-04-29T13:42:45.288Z"
   },
   {
    "duration": 11,
    "start_time": "2022-04-29T13:42:45.306Z"
   },
   {
    "duration": 24,
    "start_time": "2022-04-29T13:42:45.318Z"
   },
   {
    "duration": 8,
    "start_time": "2022-04-29T13:42:48.691Z"
   },
   {
    "duration": 15,
    "start_time": "2022-04-29T13:43:18.843Z"
   },
   {
    "duration": 61,
    "start_time": "2022-04-29T13:46:35.965Z"
   },
   {
    "duration": 56,
    "start_time": "2022-04-29T13:46:36.028Z"
   },
   {
    "duration": 20,
    "start_time": "2022-04-29T13:46:36.085Z"
   },
   {
    "duration": 7,
    "start_time": "2022-04-29T13:46:36.108Z"
   },
   {
    "duration": 11,
    "start_time": "2022-04-29T13:46:36.117Z"
   },
   {
    "duration": 5,
    "start_time": "2022-04-29T13:46:36.130Z"
   },
   {
    "duration": 79,
    "start_time": "2022-04-29T13:46:36.136Z"
   },
   {
    "duration": 26,
    "start_time": "2022-04-29T13:46:36.216Z"
   },
   {
    "duration": 42,
    "start_time": "2022-04-29T13:46:36.244Z"
   },
   {
    "duration": 22,
    "start_time": "2022-04-29T13:46:36.289Z"
   },
   {
    "duration": 5,
    "start_time": "2022-04-29T13:46:36.313Z"
   },
   {
    "duration": 24,
    "start_time": "2022-04-29T13:46:36.320Z"
   },
   {
    "duration": 54,
    "start_time": "2022-04-29T13:46:36.347Z"
   },
   {
    "duration": 35,
    "start_time": "2022-04-29T13:46:36.402Z"
   },
   {
    "duration": 14,
    "start_time": "2022-04-29T13:46:36.439Z"
   },
   {
    "duration": 35,
    "start_time": "2022-04-29T13:46:36.475Z"
   },
   {
    "duration": 20,
    "start_time": "2022-04-29T13:46:36.513Z"
   },
   {
    "duration": 61,
    "start_time": "2022-04-29T13:46:36.535Z"
   },
   {
    "duration": 5,
    "start_time": "2022-04-29T13:46:36.598Z"
   },
   {
    "duration": 14,
    "start_time": "2022-04-29T13:46:36.605Z"
   },
   {
    "duration": 13,
    "start_time": "2022-04-29T13:46:36.621Z"
   },
   {
    "duration": 26,
    "start_time": "2022-04-29T13:46:36.635Z"
   },
   {
    "duration": 11,
    "start_time": "2022-04-29T13:46:36.662Z"
   },
   {
    "duration": 45,
    "start_time": "2022-04-29T13:46:36.675Z"
   },
   {
    "duration": 15,
    "start_time": "2022-04-29T13:46:36.721Z"
   },
   {
    "duration": 12,
    "start_time": "2022-04-29T13:46:36.738Z"
   },
   {
    "duration": 21,
    "start_time": "2022-04-29T13:46:36.773Z"
   },
   {
    "duration": 12,
    "start_time": "2022-04-29T13:46:36.799Z"
   },
   {
    "duration": 20,
    "start_time": "2022-04-29T13:46:36.813Z"
   },
   {
    "duration": 17,
    "start_time": "2022-04-29T13:47:12.128Z"
   },
   {
    "duration": 8,
    "start_time": "2022-04-29T13:47:58.637Z"
   },
   {
    "duration": 15,
    "start_time": "2022-04-29T13:48:34.970Z"
   },
   {
    "duration": 79,
    "start_time": "2022-04-29T13:48:45.659Z"
   },
   {
    "duration": 51,
    "start_time": "2022-04-29T13:48:45.740Z"
   },
   {
    "duration": 16,
    "start_time": "2022-04-29T13:48:45.793Z"
   },
   {
    "duration": 4,
    "start_time": "2022-04-29T13:48:45.812Z"
   },
   {
    "duration": 11,
    "start_time": "2022-04-29T13:48:45.818Z"
   },
   {
    "duration": 4,
    "start_time": "2022-04-29T13:48:45.831Z"
   },
   {
    "duration": 75,
    "start_time": "2022-04-29T13:48:45.837Z"
   },
   {
    "duration": 23,
    "start_time": "2022-04-29T13:48:45.914Z"
   },
   {
    "duration": 44,
    "start_time": "2022-04-29T13:48:45.939Z"
   },
   {
    "duration": 9,
    "start_time": "2022-04-29T13:48:45.989Z"
   },
   {
    "duration": 5,
    "start_time": "2022-04-29T13:48:45.999Z"
   },
   {
    "duration": 33,
    "start_time": "2022-04-29T13:48:46.005Z"
   },
   {
    "duration": 54,
    "start_time": "2022-04-29T13:48:46.040Z"
   },
   {
    "duration": 32,
    "start_time": "2022-04-29T13:48:46.096Z"
   },
   {
    "duration": 14,
    "start_time": "2022-04-29T13:48:46.130Z"
   },
   {
    "duration": 67,
    "start_time": "2022-04-29T13:48:46.146Z"
   },
   {
    "duration": 27,
    "start_time": "2022-04-29T13:48:46.214Z"
   },
   {
    "duration": 31,
    "start_time": "2022-04-29T13:48:46.243Z"
   },
   {
    "duration": 16,
    "start_time": "2022-04-29T13:48:46.277Z"
   },
   {
    "duration": 15,
    "start_time": "2022-04-29T13:48:46.295Z"
   },
   {
    "duration": 9,
    "start_time": "2022-04-29T13:48:46.312Z"
   },
   {
    "duration": 23,
    "start_time": "2022-04-29T13:48:46.323Z"
   },
   {
    "duration": 3,
    "start_time": "2022-04-29T13:48:46.348Z"
   },
   {
    "duration": 31,
    "start_time": "2022-04-29T13:48:46.353Z"
   },
   {
    "duration": 16,
    "start_time": "2022-04-29T13:48:46.388Z"
   },
   {
    "duration": 10,
    "start_time": "2022-04-29T13:48:46.406Z"
   },
   {
    "duration": 13,
    "start_time": "2022-04-29T13:48:46.417Z"
   },
   {
    "duration": 8,
    "start_time": "2022-04-29T13:48:46.433Z"
   },
   {
    "duration": 45,
    "start_time": "2022-04-29T13:48:46.442Z"
   },
   {
    "duration": 17,
    "start_time": "2022-04-29T13:48:46.489Z"
   },
   {
    "duration": 13,
    "start_time": "2022-04-29T13:48:49.477Z"
   },
   {
    "duration": 14,
    "start_time": "2022-04-29T13:50:13.066Z"
   },
   {
    "duration": 58,
    "start_time": "2022-04-29T13:50:19.779Z"
   },
   {
    "duration": 275,
    "start_time": "2022-04-29T13:50:19.839Z"
   },
   {
    "duration": 214,
    "start_time": "2022-04-29T13:50:20.115Z"
   },
   {
    "duration": 272,
    "start_time": "2022-04-29T13:50:20.332Z"
   },
   {
    "duration": 167,
    "start_time": "2022-04-29T13:50:20.606Z"
   },
   {
    "duration": 210,
    "start_time": "2022-04-29T13:50:20.775Z"
   },
   {
    "duration": 224,
    "start_time": "2022-04-29T13:50:20.987Z"
   },
   {
    "duration": 235,
    "start_time": "2022-04-29T13:50:21.213Z"
   },
   {
    "duration": 303,
    "start_time": "2022-04-29T13:50:21.450Z"
   },
   {
    "duration": 312,
    "start_time": "2022-04-29T13:50:21.755Z"
   },
   {
    "duration": 314,
    "start_time": "2022-04-29T13:50:22.069Z"
   },
   {
    "duration": 217,
    "start_time": "2022-04-29T13:50:22.385Z"
   },
   {
    "duration": 239,
    "start_time": "2022-04-29T13:50:22.604Z"
   },
   {
    "duration": 216,
    "start_time": "2022-04-29T13:50:22.845Z"
   },
   {
    "duration": 135,
    "start_time": "2022-04-29T13:50:23.063Z"
   },
   {
    "duration": 251,
    "start_time": "2022-04-29T13:50:23.200Z"
   },
   {
    "duration": 220,
    "start_time": "2022-04-29T13:50:23.453Z"
   },
   {
    "duration": 408,
    "start_time": "2022-04-29T13:50:23.675Z"
   },
   {
    "duration": 197,
    "start_time": "2022-04-29T13:50:24.084Z"
   },
   {
    "duration": 214,
    "start_time": "2022-04-29T13:50:24.283Z"
   },
   {
    "duration": 144,
    "start_time": "2022-04-29T13:50:24.499Z"
   },
   {
    "duration": 171,
    "start_time": "2022-04-29T13:50:24.645Z"
   },
   {
    "duration": 136,
    "start_time": "2022-04-29T13:50:24.818Z"
   },
   {
    "duration": 229,
    "start_time": "2022-04-29T13:50:24.956Z"
   },
   {
    "duration": 230,
    "start_time": "2022-04-29T13:50:25.187Z"
   },
   {
    "duration": 247,
    "start_time": "2022-04-29T13:50:25.421Z"
   },
   {
    "duration": 17,
    "start_time": "2022-04-29T13:53:03.787Z"
   },
   {
    "duration": 56,
    "start_time": "2022-04-29T13:53:08.966Z"
   },
   {
    "duration": 26,
    "start_time": "2022-04-29T13:53:09.024Z"
   },
   {
    "duration": 18,
    "start_time": "2022-04-29T13:53:09.074Z"
   },
   {
    "duration": 6,
    "start_time": "2022-04-29T13:53:09.094Z"
   },
   {
    "duration": 13,
    "start_time": "2022-04-29T13:53:09.101Z"
   },
   {
    "duration": 4,
    "start_time": "2022-04-29T13:53:09.116Z"
   },
   {
    "duration": 66,
    "start_time": "2022-04-29T13:53:09.121Z"
   },
   {
    "duration": 24,
    "start_time": "2022-04-29T13:53:09.189Z"
   },
   {
    "duration": 10,
    "start_time": "2022-04-29T13:53:09.214Z"
   },
   {
    "duration": 7,
    "start_time": "2022-04-29T13:53:09.227Z"
   },
   {
    "duration": 3,
    "start_time": "2022-04-29T13:53:09.236Z"
   },
   {
    "duration": 18,
    "start_time": "2022-04-29T13:53:09.274Z"
   },
   {
    "duration": 26,
    "start_time": "2022-04-29T13:53:09.293Z"
   },
   {
    "duration": 57,
    "start_time": "2022-04-29T13:53:09.320Z"
   },
   {
    "duration": 13,
    "start_time": "2022-04-29T13:53:09.378Z"
   },
   {
    "duration": 30,
    "start_time": "2022-04-29T13:53:09.393Z"
   },
   {
    "duration": 17,
    "start_time": "2022-04-29T13:53:09.425Z"
   },
   {
    "duration": 47,
    "start_time": "2022-04-29T13:53:09.444Z"
   },
   {
    "duration": 5,
    "start_time": "2022-04-29T13:53:09.492Z"
   },
   {
    "duration": 7,
    "start_time": "2022-04-29T13:53:09.498Z"
   },
   {
    "duration": 7,
    "start_time": "2022-04-29T13:53:09.506Z"
   },
   {
    "duration": 21,
    "start_time": "2022-04-29T13:53:09.514Z"
   },
   {
    "duration": 4,
    "start_time": "2022-04-29T13:53:09.536Z"
   },
   {
    "duration": 20,
    "start_time": "2022-04-29T13:53:09.574Z"
   },
   {
    "duration": 15,
    "start_time": "2022-04-29T13:53:09.596Z"
   },
   {
    "duration": 12,
    "start_time": "2022-04-29T13:53:10.968Z"
   },
   {
    "duration": 55,
    "start_time": "2022-04-29T13:53:17.117Z"
   },
   {
    "duration": 26,
    "start_time": "2022-04-29T13:53:17.174Z"
   },
   {
    "duration": 15,
    "start_time": "2022-04-29T13:53:17.201Z"
   },
   {
    "duration": 5,
    "start_time": "2022-04-29T13:53:17.218Z"
   },
   {
    "duration": 13,
    "start_time": "2022-04-29T13:53:17.225Z"
   },
   {
    "duration": 36,
    "start_time": "2022-04-29T13:53:17.239Z"
   },
   {
    "duration": 42,
    "start_time": "2022-04-29T13:53:17.276Z"
   },
   {
    "duration": 22,
    "start_time": "2022-04-29T13:53:17.320Z"
   },
   {
    "duration": 37,
    "start_time": "2022-04-29T13:53:17.344Z"
   },
   {
    "duration": 8,
    "start_time": "2022-04-29T13:53:17.384Z"
   },
   {
    "duration": 8,
    "start_time": "2022-04-29T13:53:17.394Z"
   },
   {
    "duration": 16,
    "start_time": "2022-04-29T13:53:17.404Z"
   },
   {
    "duration": 52,
    "start_time": "2022-04-29T13:53:17.422Z"
   },
   {
    "duration": 30,
    "start_time": "2022-04-29T13:53:17.475Z"
   },
   {
    "duration": 11,
    "start_time": "2022-04-29T13:53:17.507Z"
   },
   {
    "duration": 54,
    "start_time": "2022-04-29T13:53:17.520Z"
   },
   {
    "duration": 17,
    "start_time": "2022-04-29T13:53:17.576Z"
   },
   {
    "duration": 20,
    "start_time": "2022-04-29T13:53:17.595Z"
   },
   {
    "duration": 4,
    "start_time": "2022-04-29T13:53:17.616Z"
   },
   {
    "duration": 6,
    "start_time": "2022-04-29T13:53:17.621Z"
   },
   {
    "duration": 10,
    "start_time": "2022-04-29T13:53:17.629Z"
   },
   {
    "duration": 48,
    "start_time": "2022-04-29T13:53:17.641Z"
   },
   {
    "duration": 5,
    "start_time": "2022-04-29T13:53:17.691Z"
   },
   {
    "duration": 26,
    "start_time": "2022-04-29T13:53:17.697Z"
   },
   {
    "duration": 15,
    "start_time": "2022-04-29T13:53:17.725Z"
   },
   {
    "duration": 39,
    "start_time": "2022-04-29T13:53:17.742Z"
   },
   {
    "duration": 0,
    "start_time": "2022-04-29T13:53:17.783Z"
   },
   {
    "duration": 0,
    "start_time": "2022-04-29T13:53:17.785Z"
   },
   {
    "duration": 0,
    "start_time": "2022-04-29T13:53:17.786Z"
   },
   {
    "duration": 0,
    "start_time": "2022-04-29T13:53:17.787Z"
   },
   {
    "duration": 0,
    "start_time": "2022-04-29T13:53:17.788Z"
   },
   {
    "duration": 11,
    "start_time": "2022-04-29T13:53:37.443Z"
   },
   {
    "duration": 56,
    "start_time": "2022-04-29T13:53:41.605Z"
   },
   {
    "duration": 24,
    "start_time": "2022-04-29T13:53:41.663Z"
   },
   {
    "duration": 15,
    "start_time": "2022-04-29T13:53:41.689Z"
   },
   {
    "duration": 5,
    "start_time": "2022-04-29T13:53:41.706Z"
   },
   {
    "duration": 13,
    "start_time": "2022-04-29T13:53:41.713Z"
   },
   {
    "duration": 4,
    "start_time": "2022-04-29T13:53:41.728Z"
   },
   {
    "duration": 78,
    "start_time": "2022-04-29T13:53:41.733Z"
   },
   {
    "duration": 25,
    "start_time": "2022-04-29T13:53:41.812Z"
   },
   {
    "duration": 39,
    "start_time": "2022-04-29T13:53:41.839Z"
   },
   {
    "duration": 7,
    "start_time": "2022-04-29T13:53:41.881Z"
   },
   {
    "duration": 4,
    "start_time": "2022-04-29T13:53:41.890Z"
   },
   {
    "duration": 21,
    "start_time": "2022-04-29T13:53:41.895Z"
   },
   {
    "duration": 28,
    "start_time": "2022-04-29T13:53:41.918Z"
   },
   {
    "duration": 29,
    "start_time": "2022-04-29T13:53:41.974Z"
   },
   {
    "duration": 13,
    "start_time": "2022-04-29T13:53:42.005Z"
   },
   {
    "duration": 54,
    "start_time": "2022-04-29T13:53:42.019Z"
   },
   {
    "duration": 19,
    "start_time": "2022-04-29T13:53:42.075Z"
   },
   {
    "duration": 25,
    "start_time": "2022-04-29T13:53:42.095Z"
   },
   {
    "duration": 3,
    "start_time": "2022-04-29T13:53:42.122Z"
   },
   {
    "duration": 7,
    "start_time": "2022-04-29T13:53:42.127Z"
   },
   {
    "duration": 7,
    "start_time": "2022-04-29T13:53:42.136Z"
   },
   {
    "duration": 37,
    "start_time": "2022-04-29T13:53:42.145Z"
   },
   {
    "duration": 3,
    "start_time": "2022-04-29T13:53:42.184Z"
   },
   {
    "duration": 32,
    "start_time": "2022-04-29T13:53:42.189Z"
   },
   {
    "duration": 17,
    "start_time": "2022-04-29T13:53:42.223Z"
   },
   {
    "duration": 11,
    "start_time": "2022-04-29T13:53:42.242Z"
   },
   {
    "duration": 30,
    "start_time": "2022-04-29T13:53:42.255Z"
   },
   {
    "duration": 7,
    "start_time": "2022-04-29T13:53:42.288Z"
   },
   {
    "duration": 18,
    "start_time": "2022-04-29T13:53:42.297Z"
   },
   {
    "duration": 15,
    "start_time": "2022-04-29T13:53:42.316Z"
   },
   {
    "duration": 50,
    "start_time": "2022-04-29T13:53:42.333Z"
   },
   {
    "duration": 16,
    "start_time": "2022-04-29T13:57:26.246Z"
   },
   {
    "duration": 16,
    "start_time": "2022-04-29T13:58:44.508Z"
   },
   {
    "duration": 57,
    "start_time": "2022-04-29T14:44:17.412Z"
   },
   {
    "duration": 26,
    "start_time": "2022-04-29T14:44:17.471Z"
   },
   {
    "duration": 17,
    "start_time": "2022-04-29T14:44:17.499Z"
   },
   {
    "duration": 5,
    "start_time": "2022-04-29T14:44:17.518Z"
   },
   {
    "duration": 13,
    "start_time": "2022-04-29T14:44:17.525Z"
   },
   {
    "duration": 34,
    "start_time": "2022-04-29T14:44:17.540Z"
   },
   {
    "duration": 42,
    "start_time": "2022-04-29T14:44:17.576Z"
   },
   {
    "duration": 25,
    "start_time": "2022-04-29T14:44:17.620Z"
   },
   {
    "duration": 11,
    "start_time": "2022-04-29T14:44:17.674Z"
   },
   {
    "duration": 8,
    "start_time": "2022-04-29T14:44:17.688Z"
   },
   {
    "duration": 4,
    "start_time": "2022-04-29T14:44:17.697Z"
   },
   {
    "duration": 17,
    "start_time": "2022-04-29T14:44:17.703Z"
   },
   {
    "duration": 61,
    "start_time": "2022-04-29T14:44:17.722Z"
   },
   {
    "duration": 30,
    "start_time": "2022-04-29T14:44:17.786Z"
   },
   {
    "duration": 13,
    "start_time": "2022-04-29T14:44:17.818Z"
   },
   {
    "duration": 56,
    "start_time": "2022-04-29T14:44:17.833Z"
   },
   {
    "duration": 19,
    "start_time": "2022-04-29T14:44:17.890Z"
   },
   {
    "duration": 25,
    "start_time": "2022-04-29T14:44:17.910Z"
   },
   {
    "duration": 4,
    "start_time": "2022-04-29T14:44:17.937Z"
   },
   {
    "duration": 6,
    "start_time": "2022-04-29T14:44:17.942Z"
   },
   {
    "duration": 25,
    "start_time": "2022-04-29T14:44:17.949Z"
   },
   {
    "duration": 20,
    "start_time": "2022-04-29T14:44:17.976Z"
   },
   {
    "duration": 6,
    "start_time": "2022-04-29T14:44:17.998Z"
   },
   {
    "duration": 25,
    "start_time": "2022-04-29T14:44:18.006Z"
   },
   {
    "duration": 19,
    "start_time": "2022-04-29T14:44:18.033Z"
   },
   {
    "duration": 27,
    "start_time": "2022-04-29T14:44:18.053Z"
   },
   {
    "duration": 14,
    "start_time": "2022-04-29T14:44:18.082Z"
   },
   {
    "duration": 7,
    "start_time": "2022-04-29T14:44:18.099Z"
   },
   {
    "duration": 15,
    "start_time": "2022-04-29T14:44:18.107Z"
   },
   {
    "duration": 16,
    "start_time": "2022-04-29T14:44:18.124Z"
   },
   {
    "duration": 43,
    "start_time": "2022-04-29T14:44:18.142Z"
   },
   {
    "duration": 16,
    "start_time": "2022-04-29T14:44:18.187Z"
   },
   {
    "duration": 12,
    "start_time": "2022-04-29T14:44:18.205Z"
   },
   {
    "duration": 55,
    "start_time": "2022-04-29T14:44:40.736Z"
   },
   {
    "duration": 25,
    "start_time": "2022-04-29T14:44:40.793Z"
   },
   {
    "duration": 16,
    "start_time": "2022-04-29T14:44:40.820Z"
   },
   {
    "duration": 35,
    "start_time": "2022-04-29T14:44:40.838Z"
   },
   {
    "duration": 10,
    "start_time": "2022-04-29T14:44:40.875Z"
   },
   {
    "duration": 5,
    "start_time": "2022-04-29T14:44:40.887Z"
   },
   {
    "duration": 56,
    "start_time": "2022-04-29T14:44:40.894Z"
   },
   {
    "duration": 37,
    "start_time": "2022-04-29T14:44:40.973Z"
   },
   {
    "duration": 11,
    "start_time": "2022-04-29T14:44:41.011Z"
   },
   {
    "duration": 23,
    "start_time": "2022-04-29T14:44:41.025Z"
   },
   {
    "duration": 12,
    "start_time": "2022-04-29T14:44:41.049Z"
   },
   {
    "duration": 29,
    "start_time": "2022-04-29T14:44:41.063Z"
   },
   {
    "duration": 27,
    "start_time": "2022-04-29T14:44:41.094Z"
   },
   {
    "duration": 31,
    "start_time": "2022-04-29T14:44:41.123Z"
   },
   {
    "duration": 13,
    "start_time": "2022-04-29T14:44:41.173Z"
   },
   {
    "duration": 33,
    "start_time": "2022-04-29T14:44:41.187Z"
   },
   {
    "duration": 19,
    "start_time": "2022-04-29T14:44:41.221Z"
   },
   {
    "duration": 45,
    "start_time": "2022-04-29T14:44:41.242Z"
   },
   {
    "duration": 4,
    "start_time": "2022-04-29T14:44:41.289Z"
   },
   {
    "duration": 16,
    "start_time": "2022-04-29T14:44:41.295Z"
   },
   {
    "duration": 10,
    "start_time": "2022-04-29T14:44:41.312Z"
   },
   {
    "duration": 24,
    "start_time": "2022-04-29T14:44:41.324Z"
   },
   {
    "duration": 11,
    "start_time": "2022-04-29T14:44:41.350Z"
   },
   {
    "duration": 36,
    "start_time": "2022-04-29T14:44:41.363Z"
   },
   {
    "duration": 20,
    "start_time": "2022-04-29T14:44:41.401Z"
   },
   {
    "duration": 11,
    "start_time": "2022-04-29T14:44:41.423Z"
   },
   {
    "duration": 24,
    "start_time": "2022-04-29T14:44:41.436Z"
   },
   {
    "duration": 10,
    "start_time": "2022-04-29T14:44:41.463Z"
   },
   {
    "duration": 20,
    "start_time": "2022-04-29T14:44:41.475Z"
   },
   {
    "duration": 22,
    "start_time": "2022-04-29T14:44:41.496Z"
   },
   {
    "duration": 13,
    "start_time": "2022-04-29T14:44:41.520Z"
   },
   {
    "duration": 41,
    "start_time": "2022-04-29T14:44:41.535Z"
   },
   {
    "duration": 14,
    "start_time": "2022-04-29T14:44:41.578Z"
   },
   {
    "duration": 12,
    "start_time": "2022-04-29T14:44:50.303Z"
   },
   {
    "duration": 8,
    "start_time": "2022-04-29T14:45:37.809Z"
   },
   {
    "duration": 59,
    "start_time": "2022-04-29T14:45:43.481Z"
   },
   {
    "duration": 34,
    "start_time": "2022-04-29T14:45:43.542Z"
   },
   {
    "duration": 15,
    "start_time": "2022-04-29T14:45:43.578Z"
   },
   {
    "duration": 4,
    "start_time": "2022-04-29T14:45:43.595Z"
   },
   {
    "duration": 12,
    "start_time": "2022-04-29T14:45:43.601Z"
   },
   {
    "duration": 4,
    "start_time": "2022-04-29T14:45:43.615Z"
   },
   {
    "duration": 71,
    "start_time": "2022-04-29T14:45:43.621Z"
   },
   {
    "duration": 24,
    "start_time": "2022-04-29T14:45:43.693Z"
   },
   {
    "duration": 10,
    "start_time": "2022-04-29T14:45:43.719Z"
   },
   {
    "duration": 8,
    "start_time": "2022-04-29T14:45:43.731Z"
   },
   {
    "duration": 35,
    "start_time": "2022-04-29T14:45:43.740Z"
   },
   {
    "duration": 17,
    "start_time": "2022-04-29T14:45:43.777Z"
   },
   {
    "duration": 29,
    "start_time": "2022-04-29T14:45:43.795Z"
   },
   {
    "duration": 58,
    "start_time": "2022-04-29T14:45:43.826Z"
   },
   {
    "duration": 12,
    "start_time": "2022-04-29T14:45:43.885Z"
   },
   {
    "duration": 37,
    "start_time": "2022-04-29T14:45:43.899Z"
   },
   {
    "duration": 17,
    "start_time": "2022-04-29T14:45:43.938Z"
   },
   {
    "duration": 20,
    "start_time": "2022-04-29T14:45:43.972Z"
   },
   {
    "duration": 4,
    "start_time": "2022-04-29T14:45:43.993Z"
   },
   {
    "duration": 8,
    "start_time": "2022-04-29T14:45:43.999Z"
   },
   {
    "duration": 7,
    "start_time": "2022-04-29T14:45:44.008Z"
   },
   {
    "duration": 23,
    "start_time": "2022-04-29T14:45:44.017Z"
   },
   {
    "duration": 3,
    "start_time": "2022-04-29T14:45:44.042Z"
   },
   {
    "duration": 42,
    "start_time": "2022-04-29T14:45:44.047Z"
   },
   {
    "duration": 15,
    "start_time": "2022-04-29T14:45:44.090Z"
   },
   {
    "duration": 12,
    "start_time": "2022-04-29T14:45:44.107Z"
   },
   {
    "duration": 13,
    "start_time": "2022-04-29T14:45:44.121Z"
   },
   {
    "duration": 36,
    "start_time": "2022-04-29T14:45:44.138Z"
   },
   {
    "duration": 18,
    "start_time": "2022-04-29T14:45:44.176Z"
   },
   {
    "duration": 15,
    "start_time": "2022-04-29T14:45:44.196Z"
   },
   {
    "duration": 13,
    "start_time": "2022-04-29T14:45:44.213Z"
   },
   {
    "duration": 17,
    "start_time": "2022-04-29T14:45:44.227Z"
   },
   {
    "duration": 38,
    "start_time": "2022-04-29T14:45:44.246Z"
   },
   {
    "duration": 13,
    "start_time": "2022-04-29T14:46:01.868Z"
   },
   {
    "duration": 12,
    "start_time": "2022-04-29T14:47:57.472Z"
   },
   {
    "duration": 12,
    "start_time": "2022-04-29T14:48:29.258Z"
   },
   {
    "duration": 2325,
    "start_time": "2022-04-29T14:48:36.874Z"
   },
   {
    "duration": 1634,
    "start_time": "2022-04-29T14:48:39.619Z"
   },
   {
    "duration": 53,
    "start_time": "2022-04-29T14:48:51.706Z"
   },
   {
    "duration": 25,
    "start_time": "2022-04-29T14:48:51.761Z"
   },
   {
    "duration": 16,
    "start_time": "2022-04-29T14:48:51.788Z"
   },
   {
    "duration": 5,
    "start_time": "2022-04-29T14:48:51.806Z"
   },
   {
    "duration": 10,
    "start_time": "2022-04-29T14:48:51.813Z"
   },
   {
    "duration": 5,
    "start_time": "2022-04-29T14:48:51.825Z"
   },
   {
    "duration": 72,
    "start_time": "2022-04-29T14:48:51.831Z"
   },
   {
    "duration": 23,
    "start_time": "2022-04-29T14:48:51.905Z"
   },
   {
    "duration": 10,
    "start_time": "2022-04-29T14:48:51.930Z"
   },
   {
    "duration": 33,
    "start_time": "2022-04-29T14:48:51.942Z"
   },
   {
    "duration": 3,
    "start_time": "2022-04-29T14:48:51.977Z"
   },
   {
    "duration": 19,
    "start_time": "2022-04-29T14:48:51.982Z"
   },
   {
    "duration": 28,
    "start_time": "2022-04-29T14:48:52.002Z"
   },
   {
    "duration": 50,
    "start_time": "2022-04-29T14:48:52.031Z"
   },
   {
    "duration": 12,
    "start_time": "2022-04-29T14:48:52.082Z"
   },
   {
    "duration": 30,
    "start_time": "2022-04-29T14:48:52.096Z"
   },
   {
    "duration": 18,
    "start_time": "2022-04-29T14:48:52.127Z"
   },
   {
    "duration": 51,
    "start_time": "2022-04-29T14:48:52.146Z"
   },
   {
    "duration": 4,
    "start_time": "2022-04-29T14:48:52.199Z"
   },
   {
    "duration": 9,
    "start_time": "2022-04-29T14:48:52.204Z"
   },
   {
    "duration": 7,
    "start_time": "2022-04-29T14:48:52.215Z"
   },
   {
    "duration": 22,
    "start_time": "2022-04-29T14:48:52.223Z"
   },
   {
    "duration": 3,
    "start_time": "2022-04-29T14:48:52.247Z"
   },
   {
    "duration": 35,
    "start_time": "2022-04-29T14:48:52.251Z"
   },
   {
    "duration": 15,
    "start_time": "2022-04-29T14:48:52.287Z"
   },
   {
    "duration": 13,
    "start_time": "2022-04-29T14:48:53.115Z"
   },
   {
    "duration": 1402,
    "start_time": "2022-04-29T14:51:29.425Z"
   },
   {
    "duration": 54,
    "start_time": "2022-04-29T14:51:34.703Z"
   },
   {
    "duration": 25,
    "start_time": "2022-04-29T14:51:34.759Z"
   },
   {
    "duration": 17,
    "start_time": "2022-04-29T14:51:34.786Z"
   },
   {
    "duration": 6,
    "start_time": "2022-04-29T14:51:34.805Z"
   },
   {
    "duration": 10,
    "start_time": "2022-04-29T14:51:34.814Z"
   },
   {
    "duration": 4,
    "start_time": "2022-04-29T14:51:34.826Z"
   },
   {
    "duration": 76,
    "start_time": "2022-04-29T14:51:34.832Z"
   },
   {
    "duration": 25,
    "start_time": "2022-04-29T14:51:34.910Z"
   },
   {
    "duration": 11,
    "start_time": "2022-04-29T14:51:34.937Z"
   },
   {
    "duration": 9,
    "start_time": "2022-04-29T14:51:34.972Z"
   },
   {
    "duration": 4,
    "start_time": "2022-04-29T14:51:34.983Z"
   },
   {
    "duration": 18,
    "start_time": "2022-04-29T14:51:34.989Z"
   },
   {
    "duration": 29,
    "start_time": "2022-04-29T14:51:35.009Z"
   },
   {
    "duration": 30,
    "start_time": "2022-04-29T14:51:35.073Z"
   },
   {
    "duration": 14,
    "start_time": "2022-04-29T14:51:35.105Z"
   },
   {
    "duration": 57,
    "start_time": "2022-04-29T14:51:35.120Z"
   },
   {
    "duration": 19,
    "start_time": "2022-04-29T14:51:35.179Z"
   },
   {
    "duration": 27,
    "start_time": "2022-04-29T14:51:35.200Z"
   },
   {
    "duration": 4,
    "start_time": "2022-04-29T14:51:35.229Z"
   },
   {
    "duration": 5,
    "start_time": "2022-04-29T14:51:35.235Z"
   },
   {
    "duration": 5,
    "start_time": "2022-04-29T14:51:35.242Z"
   },
   {
    "duration": 41,
    "start_time": "2022-04-29T14:51:35.249Z"
   },
   {
    "duration": 3,
    "start_time": "2022-04-29T14:51:35.292Z"
   },
   {
    "duration": 34,
    "start_time": "2022-04-29T14:51:35.297Z"
   },
   {
    "duration": 16,
    "start_time": "2022-04-29T14:51:35.332Z"
   },
   {
    "duration": 14,
    "start_time": "2022-04-29T14:51:35.899Z"
   },
   {
    "duration": 53,
    "start_time": "2022-04-29T14:52:23.940Z"
   },
   {
    "duration": 24,
    "start_time": "2022-04-29T14:52:23.996Z"
   },
   {
    "duration": 17,
    "start_time": "2022-04-29T14:52:24.022Z"
   },
   {
    "duration": 5,
    "start_time": "2022-04-29T14:52:24.042Z"
   },
   {
    "duration": 10,
    "start_time": "2022-04-29T14:52:24.073Z"
   },
   {
    "duration": 19,
    "start_time": "2022-04-29T14:52:24.085Z"
   },
   {
    "duration": 51,
    "start_time": "2022-04-29T14:52:24.106Z"
   },
   {
    "duration": 36,
    "start_time": "2022-04-29T14:52:24.159Z"
   },
   {
    "duration": 11,
    "start_time": "2022-04-29T14:52:24.197Z"
   },
   {
    "duration": 8,
    "start_time": "2022-04-29T14:52:24.211Z"
   },
   {
    "duration": 12,
    "start_time": "2022-04-29T14:52:24.221Z"
   },
   {
    "duration": 39,
    "start_time": "2022-04-29T14:52:24.235Z"
   },
   {
    "duration": 27,
    "start_time": "2022-04-29T14:52:24.276Z"
   },
   {
    "duration": 31,
    "start_time": "2022-04-29T14:52:24.304Z"
   },
   {
    "duration": 37,
    "start_time": "2022-04-29T14:52:24.337Z"
   },
   {
    "duration": 35,
    "start_time": "2022-04-29T14:52:24.376Z"
   },
   {
    "duration": 18,
    "start_time": "2022-04-29T14:52:24.413Z"
   },
   {
    "duration": 42,
    "start_time": "2022-04-29T14:52:24.433Z"
   },
   {
    "duration": 4,
    "start_time": "2022-04-29T14:52:24.476Z"
   },
   {
    "duration": 6,
    "start_time": "2022-04-29T14:52:24.482Z"
   },
   {
    "duration": 6,
    "start_time": "2022-04-29T14:52:24.490Z"
   },
   {
    "duration": 23,
    "start_time": "2022-04-29T14:52:24.497Z"
   },
   {
    "duration": 5,
    "start_time": "2022-04-29T14:52:24.522Z"
   },
   {
    "duration": 46,
    "start_time": "2022-04-29T14:52:24.528Z"
   },
   {
    "duration": 15,
    "start_time": "2022-04-29T14:52:24.576Z"
   },
   {
    "duration": 16,
    "start_time": "2022-04-29T14:52:25.068Z"
   },
   {
    "duration": 11,
    "start_time": "2022-04-29T14:52:36.773Z"
   },
   {
    "duration": 55,
    "start_time": "2022-04-29T14:52:46.500Z"
   },
   {
    "duration": 23,
    "start_time": "2022-04-29T14:52:46.557Z"
   },
   {
    "duration": 15,
    "start_time": "2022-04-29T14:52:46.582Z"
   },
   {
    "duration": 5,
    "start_time": "2022-04-29T14:52:46.600Z"
   },
   {
    "duration": 12,
    "start_time": "2022-04-29T14:52:46.606Z"
   },
   {
    "duration": 3,
    "start_time": "2022-04-29T14:52:46.620Z"
   },
   {
    "duration": 61,
    "start_time": "2022-04-29T14:52:46.625Z"
   },
   {
    "duration": 23,
    "start_time": "2022-04-29T14:52:46.688Z"
   },
   {
    "duration": 11,
    "start_time": "2022-04-29T14:52:46.713Z"
   },
   {
    "duration": 9,
    "start_time": "2022-04-29T14:52:46.727Z"
   },
   {
    "duration": 4,
    "start_time": "2022-04-29T14:52:46.738Z"
   },
   {
    "duration": 45,
    "start_time": "2022-04-29T14:52:46.743Z"
   },
   {
    "duration": 27,
    "start_time": "2022-04-29T14:52:46.790Z"
   },
   {
    "duration": 29,
    "start_time": "2022-04-29T14:52:46.819Z"
   },
   {
    "duration": 13,
    "start_time": "2022-04-29T14:52:46.872Z"
   },
   {
    "duration": 32,
    "start_time": "2022-04-29T14:52:46.887Z"
   },
   {
    "duration": 16,
    "start_time": "2022-04-29T14:52:46.921Z"
   },
   {
    "duration": 42,
    "start_time": "2022-04-29T14:52:46.939Z"
   },
   {
    "duration": 4,
    "start_time": "2022-04-29T14:52:46.982Z"
   },
   {
    "duration": 6,
    "start_time": "2022-04-29T14:52:46.988Z"
   },
   {
    "duration": 7,
    "start_time": "2022-04-29T14:52:46.996Z"
   },
   {
    "duration": 24,
    "start_time": "2022-04-29T14:52:47.004Z"
   },
   {
    "duration": 6,
    "start_time": "2022-04-29T14:52:47.030Z"
   },
   {
    "duration": 36,
    "start_time": "2022-04-29T14:52:47.038Z"
   },
   {
    "duration": 16,
    "start_time": "2022-04-29T14:52:47.076Z"
   },
   {
    "duration": 11,
    "start_time": "2022-04-29T14:52:47.804Z"
   },
   {
    "duration": 13,
    "start_time": "2022-04-29T14:58:52.033Z"
   },
   {
    "duration": 52,
    "start_time": "2022-04-29T14:58:57.657Z"
   },
   {
    "duration": 27,
    "start_time": "2022-04-29T14:58:57.711Z"
   },
   {
    "duration": 35,
    "start_time": "2022-04-29T14:58:57.739Z"
   },
   {
    "duration": 5,
    "start_time": "2022-04-29T14:58:57.776Z"
   },
   {
    "duration": 13,
    "start_time": "2022-04-29T14:58:57.783Z"
   },
   {
    "duration": 4,
    "start_time": "2022-04-29T14:58:57.797Z"
   },
   {
    "duration": 39,
    "start_time": "2022-04-29T14:58:57.803Z"
   },
   {
    "duration": 48,
    "start_time": "2022-04-29T14:58:57.843Z"
   },
   {
    "duration": 10,
    "start_time": "2022-04-29T14:58:57.892Z"
   },
   {
    "duration": 7,
    "start_time": "2022-04-29T14:58:57.904Z"
   },
   {
    "duration": 3,
    "start_time": "2022-04-29T14:58:57.912Z"
   },
   {
    "duration": 16,
    "start_time": "2022-04-29T14:58:57.917Z"
   },
   {
    "duration": 56,
    "start_time": "2022-04-29T14:58:57.935Z"
   },
   {
    "duration": 28,
    "start_time": "2022-04-29T14:58:57.994Z"
   },
   {
    "duration": 12,
    "start_time": "2022-04-29T14:58:58.024Z"
   },
   {
    "duration": 53,
    "start_time": "2022-04-29T14:58:58.037Z"
   },
   {
    "duration": 18,
    "start_time": "2022-04-29T14:58:58.092Z"
   },
   {
    "duration": 17,
    "start_time": "2022-04-29T14:58:58.112Z"
   },
   {
    "duration": 4,
    "start_time": "2022-04-29T14:58:58.131Z"
   },
   {
    "duration": 7,
    "start_time": "2022-04-29T14:58:58.137Z"
   },
   {
    "duration": 28,
    "start_time": "2022-04-29T14:58:58.145Z"
   },
   {
    "duration": 22,
    "start_time": "2022-04-29T14:58:58.175Z"
   },
   {
    "duration": 4,
    "start_time": "2022-04-29T14:58:58.199Z"
   },
   {
    "duration": 26,
    "start_time": "2022-04-29T14:58:58.205Z"
   },
   {
    "duration": 17,
    "start_time": "2022-04-29T14:58:58.233Z"
   },
   {
    "duration": 12,
    "start_time": "2022-04-29T14:58:59.118Z"
   },
   {
    "duration": 11,
    "start_time": "2022-04-29T14:59:21.240Z"
   },
   {
    "duration": 54,
    "start_time": "2022-04-29T14:59:27.286Z"
   },
   {
    "duration": 33,
    "start_time": "2022-04-29T14:59:27.342Z"
   },
   {
    "duration": 17,
    "start_time": "2022-04-29T14:59:27.377Z"
   },
   {
    "duration": 5,
    "start_time": "2022-04-29T14:59:27.397Z"
   },
   {
    "duration": 12,
    "start_time": "2022-04-29T14:59:27.404Z"
   },
   {
    "duration": 4,
    "start_time": "2022-04-29T14:59:27.418Z"
   },
   {
    "duration": 80,
    "start_time": "2022-04-29T14:59:27.424Z"
   },
   {
    "duration": 25,
    "start_time": "2022-04-29T14:59:27.506Z"
   },
   {
    "duration": 11,
    "start_time": "2022-04-29T14:59:27.533Z"
   },
   {
    "duration": 33,
    "start_time": "2022-04-29T14:59:27.546Z"
   },
   {
    "duration": 4,
    "start_time": "2022-04-29T14:59:27.581Z"
   },
   {
    "duration": 17,
    "start_time": "2022-04-29T14:59:27.586Z"
   },
   {
    "duration": 27,
    "start_time": "2022-04-29T14:59:27.605Z"
   },
   {
    "duration": 57,
    "start_time": "2022-04-29T14:59:27.633Z"
   },
   {
    "duration": 12,
    "start_time": "2022-04-29T14:59:27.692Z"
   },
   {
    "duration": 36,
    "start_time": "2022-04-29T14:59:27.706Z"
   },
   {
    "duration": 37,
    "start_time": "2022-04-29T14:59:27.744Z"
   },
   {
    "duration": 27,
    "start_time": "2022-04-29T14:59:27.783Z"
   },
   {
    "duration": 5,
    "start_time": "2022-04-29T14:59:27.811Z"
   },
   {
    "duration": 6,
    "start_time": "2022-04-29T14:59:27.817Z"
   },
   {
    "duration": 8,
    "start_time": "2022-04-29T14:59:27.825Z"
   },
   {
    "duration": 39,
    "start_time": "2022-04-29T14:59:27.835Z"
   },
   {
    "duration": 3,
    "start_time": "2022-04-29T14:59:27.876Z"
   },
   {
    "duration": 28,
    "start_time": "2022-04-29T14:59:27.881Z"
   },
   {
    "duration": 15,
    "start_time": "2022-04-29T14:59:27.911Z"
   },
   {
    "duration": 12,
    "start_time": "2022-04-29T14:59:27.928Z"
   },
   {
    "duration": 39,
    "start_time": "2022-04-29T14:59:27.942Z"
   },
   {
    "duration": 8,
    "start_time": "2022-04-29T14:59:27.985Z"
   },
   {
    "duration": 15,
    "start_time": "2022-04-29T14:59:27.995Z"
   },
   {
    "duration": 16,
    "start_time": "2022-04-29T14:59:28.012Z"
   },
   {
    "duration": 46,
    "start_time": "2022-04-29T14:59:28.030Z"
   },
   {
    "duration": 18,
    "start_time": "2022-04-29T14:59:28.078Z"
   },
   {
    "duration": 14,
    "start_time": "2022-04-29T14:59:28.098Z"
   },
   {
    "duration": 55,
    "start_time": "2022-04-29T15:00:37.726Z"
   },
   {
    "duration": 25,
    "start_time": "2022-04-29T15:00:37.784Z"
   },
   {
    "duration": 16,
    "start_time": "2022-04-29T15:00:37.811Z"
   },
   {
    "duration": 6,
    "start_time": "2022-04-29T15:00:37.829Z"
   },
   {
    "duration": 43,
    "start_time": "2022-04-29T15:00:37.836Z"
   },
   {
    "duration": 5,
    "start_time": "2022-04-29T15:00:37.881Z"
   },
   {
    "duration": 44,
    "start_time": "2022-04-29T15:00:37.888Z"
   },
   {
    "duration": 51,
    "start_time": "2022-04-29T15:00:37.934Z"
   },
   {
    "duration": 11,
    "start_time": "2022-04-29T15:00:37.987Z"
   },
   {
    "duration": 8,
    "start_time": "2022-04-29T15:00:38.001Z"
   },
   {
    "duration": 4,
    "start_time": "2022-04-29T15:00:38.011Z"
   },
   {
    "duration": 22,
    "start_time": "2022-04-29T15:00:38.017Z"
   },
   {
    "duration": 55,
    "start_time": "2022-04-29T15:00:38.041Z"
   },
   {
    "duration": 32,
    "start_time": "2022-04-29T15:00:38.097Z"
   },
   {
    "duration": 12,
    "start_time": "2022-04-29T15:00:38.132Z"
   },
   {
    "duration": 35,
    "start_time": "2022-04-29T15:00:38.174Z"
   },
   {
    "duration": 19,
    "start_time": "2022-04-29T15:00:38.211Z"
   },
   {
    "duration": 42,
    "start_time": "2022-04-29T15:00:38.232Z"
   },
   {
    "duration": 4,
    "start_time": "2022-04-29T15:00:38.277Z"
   },
   {
    "duration": 5,
    "start_time": "2022-04-29T15:00:38.284Z"
   },
   {
    "duration": 14,
    "start_time": "2022-04-29T15:00:38.291Z"
   },
   {
    "duration": 31,
    "start_time": "2022-04-29T15:00:38.308Z"
   },
   {
    "duration": 6,
    "start_time": "2022-04-29T15:00:38.341Z"
   },
   {
    "duration": 25,
    "start_time": "2022-04-29T15:00:38.349Z"
   },
   {
    "duration": 15,
    "start_time": "2022-04-29T15:00:38.375Z"
   },
   {
    "duration": 10,
    "start_time": "2022-04-29T15:00:38.392Z"
   },
   {
    "duration": 22,
    "start_time": "2022-04-29T15:00:38.404Z"
   },
   {
    "duration": 6,
    "start_time": "2022-04-29T15:00:38.429Z"
   },
   {
    "duration": 41,
    "start_time": "2022-04-29T15:00:38.437Z"
   },
   {
    "duration": 17,
    "start_time": "2022-04-29T15:00:38.480Z"
   },
   {
    "duration": 14,
    "start_time": "2022-04-29T15:00:38.499Z"
   },
   {
    "duration": 17,
    "start_time": "2022-04-29T15:00:38.515Z"
   },
   {
    "duration": 43,
    "start_time": "2022-04-29T15:00:38.534Z"
   },
   {
    "duration": 55,
    "start_time": "2022-04-29T15:01:59.245Z"
   },
   {
    "duration": 25,
    "start_time": "2022-04-29T15:01:59.302Z"
   },
   {
    "duration": 46,
    "start_time": "2022-04-29T15:01:59.328Z"
   },
   {
    "duration": 6,
    "start_time": "2022-04-29T15:01:59.375Z"
   },
   {
    "duration": 12,
    "start_time": "2022-04-29T15:01:59.383Z"
   },
   {
    "duration": 4,
    "start_time": "2022-04-29T15:01:59.396Z"
   },
   {
    "duration": 41,
    "start_time": "2022-04-29T15:01:59.402Z"
   },
   {
    "duration": 48,
    "start_time": "2022-04-29T15:01:59.445Z"
   },
   {
    "duration": 10,
    "start_time": "2022-04-29T15:01:59.495Z"
   },
   {
    "duration": 13,
    "start_time": "2022-04-29T15:01:59.507Z"
   },
   {
    "duration": 3,
    "start_time": "2022-04-29T15:01:59.522Z"
   },
   {
    "duration": 17,
    "start_time": "2022-04-29T15:01:59.527Z"
   },
   {
    "duration": 52,
    "start_time": "2022-04-29T15:01:59.546Z"
   },
   {
    "duration": 30,
    "start_time": "2022-04-29T15:01:59.601Z"
   },
   {
    "duration": 12,
    "start_time": "2022-04-29T15:01:59.633Z"
   },
   {
    "duration": 56,
    "start_time": "2022-04-29T15:01:59.646Z"
   },
   {
    "duration": 17,
    "start_time": "2022-04-29T15:01:59.704Z"
   },
   {
    "duration": 20,
    "start_time": "2022-04-29T15:01:59.723Z"
   },
   {
    "duration": 4,
    "start_time": "2022-04-29T15:01:59.744Z"
   },
   {
    "duration": 3,
    "start_time": "2022-04-29T15:01:59.774Z"
   },
   {
    "duration": 6,
    "start_time": "2022-04-29T15:01:59.779Z"
   },
   {
    "duration": 22,
    "start_time": "2022-04-29T15:01:59.787Z"
   },
   {
    "duration": 3,
    "start_time": "2022-04-29T15:01:59.811Z"
   },
   {
    "duration": 26,
    "start_time": "2022-04-29T15:01:59.816Z"
   },
   {
    "duration": 39,
    "start_time": "2022-04-29T15:01:59.844Z"
   },
   {
    "duration": 10,
    "start_time": "2022-04-29T15:01:59.885Z"
   },
   {
    "duration": 16,
    "start_time": "2022-04-29T15:01:59.897Z"
   },
   {
    "duration": 7,
    "start_time": "2022-04-29T15:01:59.915Z"
   },
   {
    "duration": 14,
    "start_time": "2022-04-29T15:01:59.924Z"
   },
   {
    "duration": 48,
    "start_time": "2022-04-29T15:01:59.940Z"
   },
   {
    "duration": 16,
    "start_time": "2022-04-29T15:01:59.990Z"
   },
   {
    "duration": 26,
    "start_time": "2022-04-29T15:02:00.008Z"
   },
   {
    "duration": 14,
    "start_time": "2022-04-29T15:02:00.036Z"
   },
   {
    "duration": 13,
    "start_time": "2022-04-29T15:05:06.252Z"
   },
   {
    "duration": 56,
    "start_time": "2022-04-29T15:05:12.537Z"
   },
   {
    "duration": 26,
    "start_time": "2022-04-29T15:05:12.595Z"
   },
   {
    "duration": 16,
    "start_time": "2022-04-29T15:05:12.623Z"
   },
   {
    "duration": 6,
    "start_time": "2022-04-29T15:05:12.641Z"
   },
   {
    "duration": 11,
    "start_time": "2022-04-29T15:05:12.674Z"
   },
   {
    "duration": 4,
    "start_time": "2022-04-29T15:05:12.687Z"
   },
   {
    "duration": 42,
    "start_time": "2022-04-29T15:05:12.693Z"
   },
   {
    "duration": 50,
    "start_time": "2022-04-29T15:05:12.737Z"
   },
   {
    "duration": 11,
    "start_time": "2022-04-29T15:05:12.789Z"
   },
   {
    "duration": 8,
    "start_time": "2022-04-29T15:05:12.803Z"
   },
   {
    "duration": 4,
    "start_time": "2022-04-29T15:05:12.813Z"
   },
   {
    "duration": 20,
    "start_time": "2022-04-29T15:05:12.819Z"
   },
   {
    "duration": 58,
    "start_time": "2022-04-29T15:05:12.841Z"
   },
   {
    "duration": 32,
    "start_time": "2022-04-29T15:05:12.901Z"
   },
   {
    "duration": 43,
    "start_time": "2022-04-29T15:05:12.936Z"
   },
   {
    "duration": 39,
    "start_time": "2022-04-29T15:05:12.981Z"
   },
   {
    "duration": 19,
    "start_time": "2022-04-29T15:05:13.022Z"
   },
   {
    "duration": 41,
    "start_time": "2022-04-29T15:05:13.043Z"
   },
   {
    "duration": 4,
    "start_time": "2022-04-29T15:05:13.086Z"
   },
   {
    "duration": 6,
    "start_time": "2022-04-29T15:05:13.092Z"
   },
   {
    "duration": 6,
    "start_time": "2022-04-29T15:05:13.100Z"
   },
   {
    "duration": 24,
    "start_time": "2022-04-29T15:05:13.108Z"
   },
   {
    "duration": 3,
    "start_time": "2022-04-29T15:05:13.134Z"
   },
   {
    "duration": 50,
    "start_time": "2022-04-29T15:05:13.139Z"
   },
   {
    "duration": 17,
    "start_time": "2022-04-29T15:05:13.190Z"
   },
   {
    "duration": 15,
    "start_time": "2022-04-29T15:05:14.737Z"
   },
   {
    "duration": 12,
    "start_time": "2022-04-29T15:06:34.630Z"
   },
   {
    "duration": 55,
    "start_time": "2022-04-29T15:06:39.729Z"
   },
   {
    "duration": 25,
    "start_time": "2022-04-29T15:06:39.786Z"
   },
   {
    "duration": 16,
    "start_time": "2022-04-29T15:06:39.812Z"
   },
   {
    "duration": 5,
    "start_time": "2022-04-29T15:06:39.830Z"
   },
   {
    "duration": 15,
    "start_time": "2022-04-29T15:06:39.836Z"
   },
   {
    "duration": 4,
    "start_time": "2022-04-29T15:06:39.874Z"
   },
   {
    "duration": 43,
    "start_time": "2022-04-29T15:06:39.880Z"
   },
   {
    "duration": 23,
    "start_time": "2022-04-29T15:06:39.925Z"
   },
   {
    "duration": 31,
    "start_time": "2022-04-29T15:06:39.950Z"
   },
   {
    "duration": 8,
    "start_time": "2022-04-29T15:06:39.984Z"
   },
   {
    "duration": 6,
    "start_time": "2022-04-29T15:06:39.993Z"
   },
   {
    "duration": 21,
    "start_time": "2022-04-29T15:06:40.000Z"
   },
   {
    "duration": 53,
    "start_time": "2022-04-29T15:06:40.023Z"
   },
   {
    "duration": 30,
    "start_time": "2022-04-29T15:06:40.078Z"
   },
   {
    "duration": 12,
    "start_time": "2022-04-29T15:06:40.110Z"
   },
   {
    "duration": 55,
    "start_time": "2022-04-29T15:06:40.123Z"
   },
   {
    "duration": 18,
    "start_time": "2022-04-29T15:06:40.179Z"
   },
   {
    "duration": 27,
    "start_time": "2022-04-29T15:06:40.199Z"
   },
   {
    "duration": 4,
    "start_time": "2022-04-29T15:06:40.227Z"
   },
   {
    "duration": 7,
    "start_time": "2022-04-29T15:06:40.233Z"
   },
   {
    "duration": 14,
    "start_time": "2022-04-29T15:06:40.242Z"
   },
   {
    "duration": 33,
    "start_time": "2022-04-29T15:06:40.257Z"
   },
   {
    "duration": 6,
    "start_time": "2022-04-29T15:06:40.291Z"
   },
   {
    "duration": 29,
    "start_time": "2022-04-29T15:06:40.298Z"
   },
   {
    "duration": 16,
    "start_time": "2022-04-29T15:06:40.329Z"
   },
   {
    "duration": 16,
    "start_time": "2022-04-29T15:06:41.145Z"
   },
   {
    "duration": 9,
    "start_time": "2022-04-29T15:10:24.674Z"
   },
   {
    "duration": 8,
    "start_time": "2022-04-29T15:19:14.275Z"
   },
   {
    "duration": 72,
    "start_time": "2022-04-29T15:19:18.591Z"
   },
   {
    "duration": 35,
    "start_time": "2022-04-29T15:19:18.665Z"
   },
   {
    "duration": 27,
    "start_time": "2022-04-29T15:19:18.702Z"
   },
   {
    "duration": 8,
    "start_time": "2022-04-29T15:19:18.733Z"
   },
   {
    "duration": 69,
    "start_time": "2022-04-29T15:19:18.744Z"
   },
   {
    "duration": 16,
    "start_time": "2022-04-29T15:19:18.816Z"
   },
   {
    "duration": 74,
    "start_time": "2022-04-29T15:19:18.838Z"
   },
   {
    "duration": 37,
    "start_time": "2022-04-29T15:19:18.914Z"
   },
   {
    "duration": 34,
    "start_time": "2022-04-29T15:19:18.958Z"
   },
   {
    "duration": 22,
    "start_time": "2022-04-29T15:19:18.995Z"
   },
   {
    "duration": 4,
    "start_time": "2022-04-29T15:19:19.019Z"
   },
   {
    "duration": 22,
    "start_time": "2022-04-29T15:19:19.025Z"
   },
   {
    "duration": 43,
    "start_time": "2022-04-29T15:19:19.049Z"
   },
   {
    "duration": 47,
    "start_time": "2022-04-29T15:19:19.094Z"
   },
   {
    "duration": 38,
    "start_time": "2022-04-29T15:19:19.143Z"
   },
   {
    "duration": 55,
    "start_time": "2022-04-29T15:19:19.183Z"
   },
   {
    "duration": 19,
    "start_time": "2022-04-29T15:19:19.240Z"
   },
   {
    "duration": 41,
    "start_time": "2022-04-29T15:19:19.261Z"
   },
   {
    "duration": 6,
    "start_time": "2022-04-29T15:19:19.304Z"
   },
   {
    "duration": 43,
    "start_time": "2022-04-29T15:19:19.312Z"
   },
   {
    "duration": 27,
    "start_time": "2022-04-29T15:19:19.358Z"
   },
   {
    "duration": 31,
    "start_time": "2022-04-29T15:19:19.387Z"
   },
   {
    "duration": 4,
    "start_time": "2022-04-29T15:19:19.420Z"
   },
   {
    "duration": 39,
    "start_time": "2022-04-29T15:19:19.426Z"
   },
   {
    "duration": 24,
    "start_time": "2022-04-29T15:19:19.467Z"
   },
   {
    "duration": 10,
    "start_time": "2022-04-29T15:19:19.493Z"
   },
   {
    "duration": 17,
    "start_time": "2022-04-29T15:19:19.505Z"
   },
   {
    "duration": 18,
    "start_time": "2022-04-29T15:19:19.525Z"
   },
   {
    "duration": 10,
    "start_time": "2022-04-29T15:19:19.545Z"
   },
   {
    "duration": 22,
    "start_time": "2022-04-29T15:19:19.557Z"
   },
   {
    "duration": 9,
    "start_time": "2022-04-29T15:19:21.279Z"
   },
   {
    "duration": 55,
    "start_time": "2022-04-29T15:19:36.118Z"
   },
   {
    "duration": 26,
    "start_time": "2022-04-29T15:19:36.175Z"
   },
   {
    "duration": 16,
    "start_time": "2022-04-29T15:19:36.202Z"
   },
   {
    "duration": 5,
    "start_time": "2022-04-29T15:19:36.220Z"
   },
   {
    "duration": 18,
    "start_time": "2022-04-29T15:19:36.226Z"
   },
   {
    "duration": 39,
    "start_time": "2022-04-29T15:19:36.245Z"
   },
   {
    "duration": 66,
    "start_time": "2022-04-29T15:19:36.286Z"
   },
   {
    "duration": 25,
    "start_time": "2022-04-29T15:19:36.354Z"
   },
   {
    "duration": 10,
    "start_time": "2022-04-29T15:19:36.381Z"
   },
   {
    "duration": 11,
    "start_time": "2022-04-29T15:19:36.394Z"
   },
   {
    "duration": 4,
    "start_time": "2022-04-29T15:19:36.407Z"
   },
   {
    "duration": 20,
    "start_time": "2022-04-29T15:19:36.412Z"
   },
   {
    "duration": 45,
    "start_time": "2022-04-29T15:19:36.433Z"
   },
   {
    "duration": 31,
    "start_time": "2022-04-29T15:19:36.480Z"
   },
   {
    "duration": 12,
    "start_time": "2022-04-29T15:19:36.513Z"
   },
   {
    "duration": 52,
    "start_time": "2022-04-29T15:19:36.527Z"
   },
   {
    "duration": 17,
    "start_time": "2022-04-29T15:19:36.581Z"
   },
   {
    "duration": 26,
    "start_time": "2022-04-29T15:19:36.600Z"
   },
   {
    "duration": 4,
    "start_time": "2022-04-29T15:19:36.628Z"
   },
   {
    "duration": 8,
    "start_time": "2022-04-29T15:19:36.633Z"
   },
   {
    "duration": 7,
    "start_time": "2022-04-29T15:19:36.642Z"
   },
   {
    "duration": 42,
    "start_time": "2022-04-29T15:19:36.650Z"
   },
   {
    "duration": 6,
    "start_time": "2022-04-29T15:19:36.693Z"
   },
   {
    "duration": 26,
    "start_time": "2022-04-29T15:19:36.700Z"
   },
   {
    "duration": 14,
    "start_time": "2022-04-29T15:19:36.728Z"
   },
   {
    "duration": 7,
    "start_time": "2022-04-29T15:19:36.743Z"
   },
   {
    "duration": 30,
    "start_time": "2022-04-29T15:19:36.751Z"
   },
   {
    "duration": 17,
    "start_time": "2022-04-29T15:19:36.784Z"
   },
   {
    "duration": 7,
    "start_time": "2022-04-29T15:19:36.803Z"
   },
   {
    "duration": 9,
    "start_time": "2022-04-29T15:19:36.812Z"
   },
   {
    "duration": 10,
    "start_time": "2022-04-29T15:19:36.823Z"
   },
   {
    "duration": 0,
    "start_time": "2022-04-29T15:19:36.835Z"
   },
   {
    "duration": 0,
    "start_time": "2022-04-29T15:19:36.836Z"
   },
   {
    "duration": 0,
    "start_time": "2022-04-29T15:19:36.837Z"
   },
   {
    "duration": 0,
    "start_time": "2022-04-29T15:19:36.837Z"
   },
   {
    "duration": 9,
    "start_time": "2022-04-29T15:19:59.929Z"
   },
   {
    "duration": 10,
    "start_time": "2022-04-29T15:20:07.314Z"
   },
   {
    "duration": 9,
    "start_time": "2022-04-29T15:20:26.436Z"
   },
   {
    "duration": 10,
    "start_time": "2022-04-29T15:20:38.981Z"
   },
   {
    "duration": 9,
    "start_time": "2022-04-29T15:21:22.489Z"
   },
   {
    "duration": 54,
    "start_time": "2022-04-29T15:21:27.750Z"
   },
   {
    "duration": 25,
    "start_time": "2022-04-29T15:21:27.867Z"
   },
   {
    "duration": 15,
    "start_time": "2022-04-29T15:21:27.894Z"
   },
   {
    "duration": 5,
    "start_time": "2022-04-29T15:21:27.911Z"
   },
   {
    "duration": 11,
    "start_time": "2022-04-29T15:21:28.065Z"
   },
   {
    "duration": 4,
    "start_time": "2022-04-29T15:21:28.078Z"
   },
   {
    "duration": 39,
    "start_time": "2022-04-29T15:21:28.084Z"
   },
   {
    "duration": 49,
    "start_time": "2022-04-29T15:21:28.125Z"
   },
   {
    "duration": 10,
    "start_time": "2022-04-29T15:21:28.177Z"
   },
   {
    "duration": 8,
    "start_time": "2022-04-29T15:21:28.189Z"
   },
   {
    "duration": 13,
    "start_time": "2022-04-29T15:21:28.198Z"
   },
   {
    "duration": 18,
    "start_time": "2022-04-29T15:21:28.212Z"
   },
   {
    "duration": 45,
    "start_time": "2022-04-29T15:21:28.232Z"
   },
   {
    "duration": 33,
    "start_time": "2022-04-29T15:21:28.278Z"
   },
   {
    "duration": 14,
    "start_time": "2022-04-29T15:21:28.312Z"
   },
   {
    "duration": 57,
    "start_time": "2022-04-29T15:21:28.327Z"
   },
   {
    "duration": 19,
    "start_time": "2022-04-29T15:21:28.387Z"
   },
   {
    "duration": 23,
    "start_time": "2022-04-29T15:21:28.409Z"
   },
   {
    "duration": 5,
    "start_time": "2022-04-29T15:21:28.434Z"
   },
   {
    "duration": 33,
    "start_time": "2022-04-29T15:21:28.440Z"
   },
   {
    "duration": 4,
    "start_time": "2022-04-29T15:21:28.475Z"
   },
   {
    "duration": 20,
    "start_time": "2022-04-29T15:21:28.481Z"
   },
   {
    "duration": 3,
    "start_time": "2022-04-29T15:21:28.503Z"
   },
   {
    "duration": 37,
    "start_time": "2022-04-29T15:21:28.508Z"
   },
   {
    "duration": 37,
    "start_time": "2022-04-29T15:21:28.547Z"
   },
   {
    "duration": 8,
    "start_time": "2022-04-29T15:21:28.586Z"
   },
   {
    "duration": 11,
    "start_time": "2022-04-29T15:21:28.595Z"
   },
   {
    "duration": 19,
    "start_time": "2022-04-29T15:21:28.607Z"
   },
   {
    "duration": 7,
    "start_time": "2022-04-29T15:21:28.628Z"
   },
   {
    "duration": 11,
    "start_time": "2022-04-29T15:21:28.637Z"
   },
   {
    "duration": 32,
    "start_time": "2022-04-29T15:21:28.650Z"
   },
   {
    "duration": 0,
    "start_time": "2022-04-29T15:21:28.684Z"
   },
   {
    "duration": 0,
    "start_time": "2022-04-29T15:21:28.685Z"
   },
   {
    "duration": 0,
    "start_time": "2022-04-29T15:21:28.686Z"
   },
   {
    "duration": 0,
    "start_time": "2022-04-29T15:21:28.687Z"
   },
   {
    "duration": 13,
    "start_time": "2022-04-29T15:21:51.253Z"
   },
   {
    "duration": 7,
    "start_time": "2022-04-29T15:22:13.485Z"
   },
   {
    "duration": 10,
    "start_time": "2022-04-29T15:22:23.279Z"
   },
   {
    "duration": 13,
    "start_time": "2022-04-29T15:22:30.487Z"
   },
   {
    "duration": 14,
    "start_time": "2022-04-29T15:28:09.663Z"
   },
   {
    "duration": 72,
    "start_time": "2022-04-29T15:28:19.801Z"
   },
   {
    "duration": 25,
    "start_time": "2022-04-29T15:28:19.875Z"
   },
   {
    "duration": 16,
    "start_time": "2022-04-29T15:28:19.902Z"
   },
   {
    "duration": 6,
    "start_time": "2022-04-29T15:28:19.921Z"
   },
   {
    "duration": 12,
    "start_time": "2022-04-29T15:28:19.928Z"
   },
   {
    "duration": 34,
    "start_time": "2022-04-29T15:28:19.942Z"
   },
   {
    "duration": 48,
    "start_time": "2022-04-29T15:28:19.977Z"
   },
   {
    "duration": 53,
    "start_time": "2022-04-29T15:28:20.027Z"
   },
   {
    "duration": 12,
    "start_time": "2022-04-29T15:28:20.082Z"
   },
   {
    "duration": 9,
    "start_time": "2022-04-29T15:28:20.098Z"
   },
   {
    "duration": 7,
    "start_time": "2022-04-29T15:28:20.109Z"
   },
   {
    "duration": 19,
    "start_time": "2022-04-29T15:28:20.118Z"
   },
   {
    "duration": 56,
    "start_time": "2022-04-29T15:28:20.139Z"
   },
   {
    "duration": 33,
    "start_time": "2022-04-29T15:28:20.197Z"
   },
   {
    "duration": 44,
    "start_time": "2022-04-29T15:28:20.232Z"
   },
   {
    "duration": 33,
    "start_time": "2022-04-29T15:28:20.278Z"
   },
   {
    "duration": 20,
    "start_time": "2022-04-29T15:28:20.314Z"
   },
   {
    "duration": 47,
    "start_time": "2022-04-29T15:28:20.336Z"
   },
   {
    "duration": 5,
    "start_time": "2022-04-29T15:28:20.386Z"
   },
   {
    "duration": 10,
    "start_time": "2022-04-29T15:28:20.392Z"
   },
   {
    "duration": 19,
    "start_time": "2022-04-29T15:28:20.403Z"
   },
   {
    "duration": 27,
    "start_time": "2022-04-29T15:28:20.424Z"
   },
   {
    "duration": 6,
    "start_time": "2022-04-29T15:28:20.452Z"
   },
   {
    "duration": 27,
    "start_time": "2022-04-29T15:28:20.460Z"
   },
   {
    "duration": 17,
    "start_time": "2022-04-29T15:28:20.489Z"
   },
   {
    "duration": 7,
    "start_time": "2022-04-29T15:28:20.509Z"
   },
   {
    "duration": 13,
    "start_time": "2022-04-29T15:28:20.518Z"
   },
   {
    "duration": 45,
    "start_time": "2022-04-29T15:28:20.534Z"
   },
   {
    "duration": 9,
    "start_time": "2022-04-29T15:28:20.581Z"
   },
   {
    "duration": 8,
    "start_time": "2022-04-29T15:28:20.592Z"
   },
   {
    "duration": 10,
    "start_time": "2022-04-29T15:28:21.497Z"
   },
   {
    "duration": 17,
    "start_time": "2022-04-29T15:30:53.328Z"
   },
   {
    "duration": 59,
    "start_time": "2022-04-29T15:31:07.100Z"
   },
   {
    "duration": 26,
    "start_time": "2022-04-29T15:31:07.162Z"
   },
   {
    "duration": 16,
    "start_time": "2022-04-29T15:31:07.190Z"
   },
   {
    "duration": 7,
    "start_time": "2022-04-29T15:31:07.207Z"
   },
   {
    "duration": 11,
    "start_time": "2022-04-29T15:31:07.216Z"
   },
   {
    "duration": 4,
    "start_time": "2022-04-29T15:31:07.229Z"
   },
   {
    "duration": 75,
    "start_time": "2022-04-29T15:31:07.235Z"
   },
   {
    "duration": 25,
    "start_time": "2022-04-29T15:31:07.311Z"
   },
   {
    "duration": 35,
    "start_time": "2022-04-29T15:31:07.338Z"
   },
   {
    "duration": 8,
    "start_time": "2022-04-29T15:31:07.375Z"
   },
   {
    "duration": 4,
    "start_time": "2022-04-29T15:31:07.385Z"
   },
   {
    "duration": 34,
    "start_time": "2022-04-29T15:31:07.391Z"
   },
   {
    "duration": 55,
    "start_time": "2022-04-29T15:31:07.427Z"
   },
   {
    "duration": 35,
    "start_time": "2022-04-29T15:31:07.485Z"
   },
   {
    "duration": 19,
    "start_time": "2022-04-29T15:31:07.522Z"
   },
   {
    "duration": 59,
    "start_time": "2022-04-29T15:31:07.542Z"
   },
   {
    "duration": 18,
    "start_time": "2022-04-29T15:31:07.603Z"
   },
   {
    "duration": 36,
    "start_time": "2022-04-29T15:31:07.622Z"
   },
   {
    "duration": 4,
    "start_time": "2022-04-29T15:31:07.660Z"
   },
   {
    "duration": 6,
    "start_time": "2022-04-29T15:31:07.673Z"
   },
   {
    "duration": 7,
    "start_time": "2022-04-29T15:31:07.680Z"
   },
   {
    "duration": 21,
    "start_time": "2022-04-29T15:31:07.689Z"
   },
   {
    "duration": 3,
    "start_time": "2022-04-29T15:31:07.711Z"
   },
   {
    "duration": 39,
    "start_time": "2022-04-29T15:31:07.716Z"
   },
   {
    "duration": 31,
    "start_time": "2022-04-29T15:31:07.757Z"
   },
   {
    "duration": 9,
    "start_time": "2022-04-29T15:31:07.790Z"
   },
   {
    "duration": 18,
    "start_time": "2022-04-29T15:31:07.801Z"
   },
   {
    "duration": 23,
    "start_time": "2022-04-29T15:31:07.821Z"
   },
   {
    "duration": 30,
    "start_time": "2022-04-29T15:31:07.846Z"
   },
   {
    "duration": 11,
    "start_time": "2022-04-29T15:31:07.877Z"
   },
   {
    "duration": 16,
    "start_time": "2022-04-29T15:31:09.799Z"
   },
   {
    "duration": 60,
    "start_time": "2022-04-29T15:33:23.562Z"
   },
   {
    "duration": 25,
    "start_time": "2022-04-29T15:33:23.624Z"
   },
   {
    "duration": 36,
    "start_time": "2022-04-29T15:33:23.651Z"
   },
   {
    "duration": 6,
    "start_time": "2022-04-29T15:33:23.689Z"
   },
   {
    "duration": 12,
    "start_time": "2022-04-29T15:33:23.698Z"
   },
   {
    "duration": 5,
    "start_time": "2022-04-29T15:33:23.711Z"
   },
   {
    "duration": 76,
    "start_time": "2022-04-29T15:33:23.718Z"
   },
   {
    "duration": 26,
    "start_time": "2022-04-29T15:33:23.796Z"
   },
   {
    "duration": 11,
    "start_time": "2022-04-29T15:33:23.824Z"
   },
   {
    "duration": 38,
    "start_time": "2022-04-29T15:33:23.837Z"
   },
   {
    "duration": 4,
    "start_time": "2022-04-29T15:33:23.877Z"
   },
   {
    "duration": 19,
    "start_time": "2022-04-29T15:33:23.883Z"
   },
   {
    "duration": 28,
    "start_time": "2022-04-29T15:33:23.904Z"
   },
   {
    "duration": 61,
    "start_time": "2022-04-29T15:33:23.936Z"
   },
   {
    "duration": 14,
    "start_time": "2022-04-29T15:33:23.999Z"
   },
   {
    "duration": 37,
    "start_time": "2022-04-29T15:33:24.015Z"
   },
   {
    "duration": 38,
    "start_time": "2022-04-29T15:33:24.054Z"
   },
   {
    "duration": 36,
    "start_time": "2022-04-29T15:33:24.094Z"
   },
   {
    "duration": 5,
    "start_time": "2022-04-29T15:33:24.132Z"
   },
   {
    "duration": 7,
    "start_time": "2022-04-29T15:33:24.138Z"
   },
   {
    "duration": 6,
    "start_time": "2022-04-29T15:33:24.146Z"
   },
   {
    "duration": 35,
    "start_time": "2022-04-29T15:33:24.154Z"
   },
   {
    "duration": 12,
    "start_time": "2022-04-29T15:33:24.191Z"
   },
   {
    "duration": 30,
    "start_time": "2022-04-29T15:33:24.204Z"
   },
   {
    "duration": 17,
    "start_time": "2022-04-29T15:33:24.235Z"
   },
   {
    "duration": 24,
    "start_time": "2022-04-29T15:33:24.254Z"
   },
   {
    "duration": 15,
    "start_time": "2022-04-29T15:33:24.280Z"
   },
   {
    "duration": 22,
    "start_time": "2022-04-29T15:33:24.296Z"
   },
   {
    "duration": 7,
    "start_time": "2022-04-29T15:33:24.320Z"
   },
   {
    "duration": 12,
    "start_time": "2022-04-29T15:33:24.329Z"
   },
   {
    "duration": 38,
    "start_time": "2022-04-29T15:33:24.342Z"
   },
   {
    "duration": 16,
    "start_time": "2022-04-29T15:33:34.722Z"
   },
   {
    "duration": 58,
    "start_time": "2022-04-29T15:33:39.411Z"
   },
   {
    "duration": 32,
    "start_time": "2022-04-29T15:33:39.471Z"
   },
   {
    "duration": 18,
    "start_time": "2022-04-29T15:33:39.505Z"
   },
   {
    "duration": 5,
    "start_time": "2022-04-29T15:33:39.525Z"
   },
   {
    "duration": 10,
    "start_time": "2022-04-29T15:33:39.532Z"
   },
   {
    "duration": 32,
    "start_time": "2022-04-29T15:33:39.543Z"
   },
   {
    "duration": 54,
    "start_time": "2022-04-29T15:33:39.576Z"
   },
   {
    "duration": 23,
    "start_time": "2022-04-29T15:33:39.632Z"
   },
   {
    "duration": 24,
    "start_time": "2022-04-29T15:33:39.657Z"
   },
   {
    "duration": 7,
    "start_time": "2022-04-29T15:33:39.684Z"
   },
   {
    "duration": 4,
    "start_time": "2022-04-29T15:33:39.693Z"
   },
   {
    "duration": 19,
    "start_time": "2022-04-29T15:33:39.698Z"
   },
   {
    "duration": 27,
    "start_time": "2022-04-29T15:33:39.718Z"
   },
   {
    "duration": 56,
    "start_time": "2022-04-29T15:33:39.746Z"
   },
   {
    "duration": 12,
    "start_time": "2022-04-29T15:33:39.803Z"
   },
   {
    "duration": 33,
    "start_time": "2022-04-29T15:33:39.817Z"
   },
   {
    "duration": 37,
    "start_time": "2022-04-29T15:33:39.852Z"
   },
   {
    "duration": 26,
    "start_time": "2022-04-29T15:33:39.891Z"
   },
   {
    "duration": 4,
    "start_time": "2022-04-29T15:33:39.919Z"
   },
   {
    "duration": 6,
    "start_time": "2022-04-29T15:33:39.924Z"
   },
   {
    "duration": 7,
    "start_time": "2022-04-29T15:33:39.931Z"
   },
   {
    "duration": 41,
    "start_time": "2022-04-29T15:33:39.939Z"
   },
   {
    "duration": 4,
    "start_time": "2022-04-29T15:33:39.982Z"
   },
   {
    "duration": 27,
    "start_time": "2022-04-29T15:33:39.988Z"
   },
   {
    "duration": 20,
    "start_time": "2022-04-29T15:33:40.017Z"
   },
   {
    "duration": 8,
    "start_time": "2022-04-29T15:33:40.039Z"
   },
   {
    "duration": 35,
    "start_time": "2022-04-29T15:33:40.048Z"
   },
   {
    "duration": 13,
    "start_time": "2022-04-29T15:33:40.087Z"
   },
   {
    "duration": 7,
    "start_time": "2022-04-29T15:33:40.102Z"
   },
   {
    "duration": 11,
    "start_time": "2022-04-29T15:33:40.111Z"
   },
   {
    "duration": 17,
    "start_time": "2022-04-29T15:33:40.124Z"
   },
   {
    "duration": 0,
    "start_time": "2022-04-29T15:33:40.142Z"
   },
   {
    "duration": 0,
    "start_time": "2022-04-29T15:33:40.144Z"
   },
   {
    "duration": 0,
    "start_time": "2022-04-29T15:33:40.144Z"
   },
   {
    "duration": 0,
    "start_time": "2022-04-29T15:33:40.173Z"
   },
   {
    "duration": 1647,
    "start_time": "2022-04-29T15:35:09.165Z"
   },
   {
    "duration": 57,
    "start_time": "2022-04-29T15:35:20.443Z"
   },
   {
    "duration": 24,
    "start_time": "2022-04-29T15:35:20.502Z"
   },
   {
    "duration": 23,
    "start_time": "2022-04-29T15:35:20.528Z"
   },
   {
    "duration": 20,
    "start_time": "2022-04-29T15:35:20.554Z"
   },
   {
    "duration": 23,
    "start_time": "2022-04-29T15:35:20.576Z"
   },
   {
    "duration": 25,
    "start_time": "2022-04-29T15:35:20.601Z"
   },
   {
    "duration": 53,
    "start_time": "2022-04-29T15:35:20.629Z"
   },
   {
    "duration": 25,
    "start_time": "2022-04-29T15:35:20.685Z"
   },
   {
    "duration": 34,
    "start_time": "2022-04-29T15:35:20.711Z"
   },
   {
    "duration": 26,
    "start_time": "2022-04-29T15:35:20.748Z"
   },
   {
    "duration": 13,
    "start_time": "2022-04-29T15:35:20.775Z"
   },
   {
    "duration": 28,
    "start_time": "2022-04-29T15:35:20.790Z"
   },
   {
    "duration": 35,
    "start_time": "2022-04-29T15:35:20.820Z"
   },
   {
    "duration": 33,
    "start_time": "2022-04-29T15:35:20.857Z"
   },
   {
    "duration": 13,
    "start_time": "2022-04-29T15:35:20.892Z"
   },
   {
    "duration": 52,
    "start_time": "2022-04-29T15:35:20.907Z"
   },
   {
    "duration": 24,
    "start_time": "2022-04-29T15:35:20.962Z"
   },
   {
    "duration": 38,
    "start_time": "2022-04-29T15:35:20.988Z"
   },
   {
    "duration": 5,
    "start_time": "2022-04-29T15:35:21.028Z"
   },
   {
    "duration": 18,
    "start_time": "2022-04-29T15:35:21.034Z"
   },
   {
    "duration": 12,
    "start_time": "2022-04-29T15:35:21.054Z"
   },
   {
    "duration": 35,
    "start_time": "2022-04-29T15:35:21.068Z"
   },
   {
    "duration": 14,
    "start_time": "2022-04-29T15:35:21.105Z"
   },
   {
    "duration": 55,
    "start_time": "2022-04-29T15:35:21.120Z"
   },
   {
    "duration": 19,
    "start_time": "2022-04-29T15:35:21.177Z"
   },
   {
    "duration": 7,
    "start_time": "2022-04-29T15:35:21.198Z"
   },
   {
    "duration": 20,
    "start_time": "2022-04-29T15:35:21.206Z"
   },
   {
    "duration": 21,
    "start_time": "2022-04-29T15:35:21.229Z"
   },
   {
    "duration": 11,
    "start_time": "2022-04-29T15:35:21.252Z"
   },
   {
    "duration": 21,
    "start_time": "2022-04-29T15:35:21.265Z"
   },
   {
    "duration": 1603,
    "start_time": "2022-04-29T15:35:21.288Z"
   },
   {
    "duration": 0,
    "start_time": "2022-04-29T15:35:22.892Z"
   },
   {
    "duration": 0,
    "start_time": "2022-04-29T15:35:22.894Z"
   },
   {
    "duration": 0,
    "start_time": "2022-04-29T15:35:22.895Z"
   },
   {
    "duration": 0,
    "start_time": "2022-04-29T15:35:22.895Z"
   },
   {
    "duration": 54,
    "start_time": "2022-04-29T15:36:06.125Z"
   },
   {
    "duration": 26,
    "start_time": "2022-04-29T15:36:06.181Z"
   },
   {
    "duration": 16,
    "start_time": "2022-04-29T15:36:06.208Z"
   },
   {
    "duration": 5,
    "start_time": "2022-04-29T15:36:06.226Z"
   },
   {
    "duration": 45,
    "start_time": "2022-04-29T15:36:06.233Z"
   },
   {
    "duration": 4,
    "start_time": "2022-04-29T15:36:06.280Z"
   },
   {
    "duration": 43,
    "start_time": "2022-04-29T15:36:06.286Z"
   },
   {
    "duration": 48,
    "start_time": "2022-04-29T15:36:06.331Z"
   },
   {
    "duration": 10,
    "start_time": "2022-04-29T15:36:06.381Z"
   },
   {
    "duration": 6,
    "start_time": "2022-04-29T15:36:06.394Z"
   },
   {
    "duration": 3,
    "start_time": "2022-04-29T15:36:06.402Z"
   },
   {
    "duration": 18,
    "start_time": "2022-04-29T15:36:06.407Z"
   },
   {
    "duration": 57,
    "start_time": "2022-04-29T15:36:06.426Z"
   },
   {
    "duration": 30,
    "start_time": "2022-04-29T15:36:06.485Z"
   },
   {
    "duration": 12,
    "start_time": "2022-04-29T15:36:06.517Z"
   },
   {
    "duration": 52,
    "start_time": "2022-04-29T15:36:06.531Z"
   },
   {
    "duration": 17,
    "start_time": "2022-04-29T15:36:06.585Z"
   },
   {
    "duration": 25,
    "start_time": "2022-04-29T15:36:06.604Z"
   },
   {
    "duration": 5,
    "start_time": "2022-04-29T15:36:06.630Z"
   },
   {
    "duration": 6,
    "start_time": "2022-04-29T15:36:06.636Z"
   },
   {
    "duration": 12,
    "start_time": "2022-04-29T15:36:06.643Z"
   },
   {
    "duration": 33,
    "start_time": "2022-04-29T15:36:06.657Z"
   },
   {
    "duration": 9,
    "start_time": "2022-04-29T15:36:06.692Z"
   },
   {
    "duration": 28,
    "start_time": "2022-04-29T15:36:06.703Z"
   },
   {
    "duration": 15,
    "start_time": "2022-04-29T15:36:06.732Z"
   },
   {
    "duration": 28,
    "start_time": "2022-04-29T15:36:06.749Z"
   },
   {
    "duration": 16,
    "start_time": "2022-04-29T15:36:06.778Z"
   },
   {
    "duration": 19,
    "start_time": "2022-04-29T15:36:06.797Z"
   },
   {
    "duration": 7,
    "start_time": "2022-04-29T15:36:06.818Z"
   },
   {
    "duration": 7,
    "start_time": "2022-04-29T15:36:06.827Z"
   },
   {
    "duration": 5,
    "start_time": "2022-04-29T15:36:09.214Z"
   },
   {
    "duration": 53,
    "start_time": "2022-04-29T15:36:47.607Z"
   },
   {
    "duration": 24,
    "start_time": "2022-04-29T15:36:47.662Z"
   },
   {
    "duration": 15,
    "start_time": "2022-04-29T15:36:47.687Z"
   },
   {
    "duration": 5,
    "start_time": "2022-04-29T15:36:47.704Z"
   },
   {
    "duration": 10,
    "start_time": "2022-04-29T15:36:47.711Z"
   },
   {
    "duration": 5,
    "start_time": "2022-04-29T15:36:47.722Z"
   },
   {
    "duration": 78,
    "start_time": "2022-04-29T15:36:47.728Z"
   },
   {
    "duration": 25,
    "start_time": "2022-04-29T15:36:47.807Z"
   },
   {
    "duration": 10,
    "start_time": "2022-04-29T15:36:47.835Z"
   },
   {
    "duration": 33,
    "start_time": "2022-04-29T15:36:47.847Z"
   },
   {
    "duration": 4,
    "start_time": "2022-04-29T15:36:47.882Z"
   },
   {
    "duration": 18,
    "start_time": "2022-04-29T15:36:47.887Z"
   },
   {
    "duration": 27,
    "start_time": "2022-04-29T15:36:47.907Z"
   },
   {
    "duration": 58,
    "start_time": "2022-04-29T15:36:47.937Z"
   },
   {
    "duration": 11,
    "start_time": "2022-04-29T15:36:47.997Z"
   },
   {
    "duration": 33,
    "start_time": "2022-04-29T15:36:48.009Z"
   },
   {
    "duration": 34,
    "start_time": "2022-04-29T15:36:48.044Z"
   },
   {
    "duration": 22,
    "start_time": "2022-04-29T15:36:48.080Z"
   },
   {
    "duration": 4,
    "start_time": "2022-04-29T15:36:48.104Z"
   },
   {
    "duration": 5,
    "start_time": "2022-04-29T15:36:48.110Z"
   },
   {
    "duration": 6,
    "start_time": "2022-04-29T15:36:48.117Z"
   },
   {
    "duration": 21,
    "start_time": "2022-04-29T15:36:48.125Z"
   },
   {
    "duration": 3,
    "start_time": "2022-04-29T15:36:48.148Z"
   },
   {
    "duration": 22,
    "start_time": "2022-04-29T15:36:48.174Z"
   },
   {
    "duration": 17,
    "start_time": "2022-04-29T15:36:48.198Z"
   },
   {
    "duration": 7,
    "start_time": "2022-04-29T15:36:48.217Z"
   },
   {
    "duration": 14,
    "start_time": "2022-04-29T15:36:48.225Z"
   },
   {
    "duration": 43,
    "start_time": "2022-04-29T15:36:48.241Z"
   },
   {
    "duration": 7,
    "start_time": "2022-04-29T15:36:48.286Z"
   },
   {
    "duration": 9,
    "start_time": "2022-04-29T15:36:48.294Z"
   },
   {
    "duration": 6,
    "start_time": "2022-04-29T15:36:50.125Z"
   },
   {
    "duration": 4,
    "start_time": "2022-04-29T15:38:56.324Z"
   },
   {
    "duration": 11,
    "start_time": "2022-04-29T15:40:08.995Z"
   },
   {
    "duration": 53,
    "start_time": "2022-04-29T15:40:15.152Z"
   },
   {
    "duration": 23,
    "start_time": "2022-04-29T15:40:15.207Z"
   },
   {
    "duration": 42,
    "start_time": "2022-04-29T15:40:15.232Z"
   },
   {
    "duration": 5,
    "start_time": "2022-04-29T15:40:15.275Z"
   },
   {
    "duration": 9,
    "start_time": "2022-04-29T15:40:15.282Z"
   },
   {
    "duration": 3,
    "start_time": "2022-04-29T15:40:15.293Z"
   },
   {
    "duration": 39,
    "start_time": "2022-04-29T15:40:15.297Z"
   },
   {
    "duration": 50,
    "start_time": "2022-04-29T15:40:15.337Z"
   },
   {
    "duration": 13,
    "start_time": "2022-04-29T15:40:15.389Z"
   },
   {
    "duration": 9,
    "start_time": "2022-04-29T15:40:15.403Z"
   },
   {
    "duration": 4,
    "start_time": "2022-04-29T15:40:15.414Z"
   },
   {
    "duration": 18,
    "start_time": "2022-04-29T15:40:15.420Z"
   },
   {
    "duration": 59,
    "start_time": "2022-04-29T15:40:15.440Z"
   },
   {
    "duration": 32,
    "start_time": "2022-04-29T15:40:15.502Z"
   },
   {
    "duration": 37,
    "start_time": "2022-04-29T15:40:15.536Z"
   },
   {
    "duration": 40,
    "start_time": "2022-04-29T15:40:15.575Z"
   },
   {
    "duration": 18,
    "start_time": "2022-04-29T15:40:15.617Z"
   },
   {
    "duration": 25,
    "start_time": "2022-04-29T15:40:15.637Z"
   },
   {
    "duration": 13,
    "start_time": "2022-04-29T15:40:15.663Z"
   },
   {
    "duration": 8,
    "start_time": "2022-04-29T15:40:15.678Z"
   },
   {
    "duration": 9,
    "start_time": "2022-04-29T15:40:15.687Z"
   },
   {
    "duration": 22,
    "start_time": "2022-04-29T15:40:15.698Z"
   },
   {
    "duration": 3,
    "start_time": "2022-04-29T15:40:15.722Z"
   },
   {
    "duration": 27,
    "start_time": "2022-04-29T15:40:15.727Z"
   },
   {
    "duration": 29,
    "start_time": "2022-04-29T15:40:15.756Z"
   },
   {
    "duration": 8,
    "start_time": "2022-04-29T15:40:15.787Z"
   },
   {
    "duration": 30,
    "start_time": "2022-04-29T15:40:15.796Z"
   },
   {
    "duration": 18,
    "start_time": "2022-04-29T15:40:15.828Z"
   },
   {
    "duration": 7,
    "start_time": "2022-04-29T15:40:15.847Z"
   },
   {
    "duration": 24,
    "start_time": "2022-04-29T15:40:15.856Z"
   },
   {
    "duration": 11,
    "start_time": "2022-04-29T15:40:17.961Z"
   },
   {
    "duration": 59,
    "start_time": "2022-04-29T15:41:38.257Z"
   },
   {
    "duration": 25,
    "start_time": "2022-04-29T15:41:38.318Z"
   },
   {
    "duration": 37,
    "start_time": "2022-04-29T15:41:38.345Z"
   },
   {
    "duration": 5,
    "start_time": "2022-04-29T15:41:38.384Z"
   },
   {
    "duration": 11,
    "start_time": "2022-04-29T15:41:38.390Z"
   },
   {
    "duration": 4,
    "start_time": "2022-04-29T15:41:38.402Z"
   },
   {
    "duration": 72,
    "start_time": "2022-04-29T15:41:38.407Z"
   },
   {
    "duration": 24,
    "start_time": "2022-04-29T15:41:38.481Z"
   },
   {
    "duration": 10,
    "start_time": "2022-04-29T15:41:38.506Z"
   },
   {
    "duration": 8,
    "start_time": "2022-04-29T15:41:38.519Z"
   },
   {
    "duration": 3,
    "start_time": "2022-04-29T15:41:38.528Z"
   },
   {
    "duration": 51,
    "start_time": "2022-04-29T15:41:38.533Z"
   },
   {
    "duration": 27,
    "start_time": "2022-04-29T15:41:38.586Z"
   },
   {
    "duration": 32,
    "start_time": "2022-04-29T15:41:38.615Z"
   },
   {
    "duration": 34,
    "start_time": "2022-04-29T15:41:38.649Z"
   },
   {
    "duration": 39,
    "start_time": "2022-04-29T15:41:38.684Z"
   },
   {
    "duration": 19,
    "start_time": "2022-04-29T15:41:38.725Z"
   },
   {
    "duration": 36,
    "start_time": "2022-04-29T15:41:38.746Z"
   },
   {
    "duration": 5,
    "start_time": "2022-04-29T15:41:38.784Z"
   },
   {
    "duration": 14,
    "start_time": "2022-04-29T15:41:38.791Z"
   },
   {
    "duration": 12,
    "start_time": "2022-04-29T15:41:38.807Z"
   },
   {
    "duration": 27,
    "start_time": "2022-04-29T15:41:38.821Z"
   },
   {
    "duration": 11,
    "start_time": "2022-04-29T15:41:38.849Z"
   },
   {
    "duration": 30,
    "start_time": "2022-04-29T15:41:38.862Z"
   },
   {
    "duration": 15,
    "start_time": "2022-04-29T15:41:38.893Z"
   },
   {
    "duration": 18,
    "start_time": "2022-04-29T15:41:38.910Z"
   },
   {
    "duration": 21,
    "start_time": "2022-04-29T15:41:38.929Z"
   },
   {
    "duration": 26,
    "start_time": "2022-04-29T15:41:38.954Z"
   },
   {
    "duration": 7,
    "start_time": "2022-04-29T15:41:38.982Z"
   },
   {
    "duration": 14,
    "start_time": "2022-04-29T15:41:38.990Z"
   },
   {
    "duration": 22,
    "start_time": "2022-04-29T15:41:39.006Z"
   },
   {
    "duration": 29,
    "start_time": "2022-04-29T15:41:39.030Z"
   },
   {
    "duration": 20,
    "start_time": "2022-04-29T15:41:39.061Z"
   },
   {
    "duration": 22,
    "start_time": "2022-04-29T15:41:39.083Z"
   },
   {
    "duration": 15,
    "start_time": "2022-04-29T15:41:39.107Z"
   },
   {
    "duration": 56,
    "start_time": "2022-04-29T15:46:17.277Z"
   },
   {
    "duration": 41,
    "start_time": "2022-04-29T15:46:17.335Z"
   },
   {
    "duration": 15,
    "start_time": "2022-04-29T15:46:17.378Z"
   },
   {
    "duration": 5,
    "start_time": "2022-04-29T15:46:17.395Z"
   },
   {
    "duration": 15,
    "start_time": "2022-04-29T15:46:17.402Z"
   },
   {
    "duration": 4,
    "start_time": "2022-04-29T15:46:17.419Z"
   },
   {
    "duration": 67,
    "start_time": "2022-04-29T15:46:17.425Z"
   },
   {
    "duration": 25,
    "start_time": "2022-04-29T15:46:17.495Z"
   },
   {
    "duration": 10,
    "start_time": "2022-04-29T15:46:17.522Z"
   },
   {
    "duration": 38,
    "start_time": "2022-04-29T15:46:17.535Z"
   },
   {
    "duration": 4,
    "start_time": "2022-04-29T15:46:17.575Z"
   },
   {
    "duration": 53,
    "start_time": "2022-04-29T15:46:17.580Z"
   },
   {
    "duration": 27,
    "start_time": "2022-04-29T15:46:17.635Z"
   },
   {
    "duration": 31,
    "start_time": "2022-04-29T15:46:17.664Z"
   },
   {
    "duration": 12,
    "start_time": "2022-04-29T15:46:17.697Z"
   },
   {
    "duration": 40,
    "start_time": "2022-04-29T15:46:17.710Z"
   },
   {
    "duration": 23,
    "start_time": "2022-04-29T15:46:17.752Z"
   },
   {
    "duration": 24,
    "start_time": "2022-04-29T15:46:17.776Z"
   },
   {
    "duration": 4,
    "start_time": "2022-04-29T15:46:17.802Z"
   },
   {
    "duration": 7,
    "start_time": "2022-04-29T15:46:17.807Z"
   },
   {
    "duration": 7,
    "start_time": "2022-04-29T15:46:17.815Z"
   },
   {
    "duration": 22,
    "start_time": "2022-04-29T15:46:17.823Z"
   },
   {
    "duration": 3,
    "start_time": "2022-04-29T15:46:17.846Z"
   },
   {
    "duration": 42,
    "start_time": "2022-04-29T15:46:17.850Z"
   },
   {
    "duration": 19,
    "start_time": "2022-04-29T15:46:17.894Z"
   },
   {
    "duration": 8,
    "start_time": "2022-04-29T15:46:17.915Z"
   },
   {
    "duration": 19,
    "start_time": "2022-04-29T15:46:17.924Z"
   },
   {
    "duration": 36,
    "start_time": "2022-04-29T15:46:17.946Z"
   },
   {
    "duration": 8,
    "start_time": "2022-04-29T15:46:17.983Z"
   },
   {
    "duration": 10,
    "start_time": "2022-04-29T15:46:17.992Z"
   },
   {
    "duration": 19,
    "start_time": "2022-04-29T15:46:18.004Z"
   },
   {
    "duration": 0,
    "start_time": "2022-04-29T15:46:18.025Z"
   },
   {
    "duration": 0,
    "start_time": "2022-04-29T15:46:18.027Z"
   },
   {
    "duration": 0,
    "start_time": "2022-04-29T15:46:18.028Z"
   },
   {
    "duration": 0,
    "start_time": "2022-04-29T15:46:18.029Z"
   },
   {
    "duration": 53,
    "start_time": "2022-04-29T15:46:34.470Z"
   },
   {
    "duration": 33,
    "start_time": "2022-04-29T15:46:34.525Z"
   },
   {
    "duration": 32,
    "start_time": "2022-04-29T15:46:34.560Z"
   },
   {
    "duration": 6,
    "start_time": "2022-04-29T15:46:34.595Z"
   },
   {
    "duration": 19,
    "start_time": "2022-04-29T15:46:34.604Z"
   },
   {
    "duration": 5,
    "start_time": "2022-04-29T15:46:34.625Z"
   },
   {
    "duration": 72,
    "start_time": "2022-04-29T15:46:34.632Z"
   },
   {
    "duration": 26,
    "start_time": "2022-04-29T15:46:34.706Z"
   },
   {
    "duration": 10,
    "start_time": "2022-04-29T15:46:34.734Z"
   },
   {
    "duration": 29,
    "start_time": "2022-04-29T15:46:34.746Z"
   },
   {
    "duration": 6,
    "start_time": "2022-04-29T15:46:34.777Z"
   },
   {
    "duration": 16,
    "start_time": "2022-04-29T15:46:34.785Z"
   },
   {
    "duration": 28,
    "start_time": "2022-04-29T15:46:34.803Z"
   },
   {
    "duration": 61,
    "start_time": "2022-04-29T15:46:34.835Z"
   },
   {
    "duration": 13,
    "start_time": "2022-04-29T15:46:34.897Z"
   },
   {
    "duration": 36,
    "start_time": "2022-04-29T15:46:34.912Z"
   },
   {
    "duration": 37,
    "start_time": "2022-04-29T15:46:34.951Z"
   },
   {
    "duration": 22,
    "start_time": "2022-04-29T15:46:34.990Z"
   },
   {
    "duration": 5,
    "start_time": "2022-04-29T15:46:35.014Z"
   },
   {
    "duration": 12,
    "start_time": "2022-04-29T15:46:35.021Z"
   },
   {
    "duration": 6,
    "start_time": "2022-04-29T15:46:35.037Z"
   },
   {
    "duration": 49,
    "start_time": "2022-04-29T15:46:35.045Z"
   },
   {
    "duration": 4,
    "start_time": "2022-04-29T15:46:35.095Z"
   },
   {
    "duration": 26,
    "start_time": "2022-04-29T15:46:35.100Z"
   },
   {
    "duration": 19,
    "start_time": "2022-04-29T15:46:35.127Z"
   },
   {
    "duration": 7,
    "start_time": "2022-04-29T15:46:35.148Z"
   },
   {
    "duration": 13,
    "start_time": "2022-04-29T15:46:35.173Z"
   },
   {
    "duration": 15,
    "start_time": "2022-04-29T15:46:35.188Z"
   },
   {
    "duration": 7,
    "start_time": "2022-04-29T15:46:35.205Z"
   },
   {
    "duration": 9,
    "start_time": "2022-04-29T15:46:35.213Z"
   },
   {
    "duration": 14,
    "start_time": "2022-04-29T15:46:35.223Z"
   },
   {
    "duration": 44,
    "start_time": "2022-04-29T15:46:35.238Z"
   },
   {
    "duration": 14,
    "start_time": "2022-04-29T15:46:35.283Z"
   },
   {
    "duration": 20,
    "start_time": "2022-04-29T15:46:35.299Z"
   },
   {
    "duration": 14,
    "start_time": "2022-04-29T15:46:35.320Z"
   },
   {
    "duration": 53,
    "start_time": "2022-04-29T15:48:14.706Z"
   },
   {
    "duration": 24,
    "start_time": "2022-04-29T15:48:14.761Z"
   },
   {
    "duration": 15,
    "start_time": "2022-04-29T15:48:14.787Z"
   },
   {
    "duration": 15,
    "start_time": "2022-04-29T15:48:14.805Z"
   },
   {
    "duration": 11,
    "start_time": "2022-04-29T15:48:14.822Z"
   },
   {
    "duration": 4,
    "start_time": "2022-04-29T15:48:14.835Z"
   },
   {
    "duration": 59,
    "start_time": "2022-04-29T15:48:14.841Z"
   },
   {
    "duration": 24,
    "start_time": "2022-04-29T15:48:14.901Z"
   },
   {
    "duration": 10,
    "start_time": "2022-04-29T15:48:14.926Z"
   },
   {
    "duration": 9,
    "start_time": "2022-04-29T15:48:14.939Z"
   },
   {
    "duration": 4,
    "start_time": "2022-04-29T15:48:14.973Z"
   },
   {
    "duration": 19,
    "start_time": "2022-04-29T15:48:14.979Z"
   },
   {
    "duration": 31,
    "start_time": "2022-04-29T15:48:15.000Z"
   },
   {
    "duration": 56,
    "start_time": "2022-04-29T15:48:15.033Z"
   },
   {
    "duration": 12,
    "start_time": "2022-04-29T15:48:15.091Z"
   },
   {
    "duration": 38,
    "start_time": "2022-04-29T15:48:15.105Z"
   },
   {
    "duration": 28,
    "start_time": "2022-04-29T15:48:15.145Z"
   },
   {
    "duration": 17,
    "start_time": "2022-04-29T15:48:15.175Z"
   },
   {
    "duration": 4,
    "start_time": "2022-04-29T15:48:15.194Z"
   },
   {
    "duration": 8,
    "start_time": "2022-04-29T15:48:15.200Z"
   },
   {
    "duration": 7,
    "start_time": "2022-04-29T15:48:15.209Z"
   },
   {
    "duration": 20,
    "start_time": "2022-04-29T15:48:15.217Z"
   },
   {
    "duration": 3,
    "start_time": "2022-04-29T15:48:15.238Z"
   },
   {
    "duration": 45,
    "start_time": "2022-04-29T15:48:15.243Z"
   },
   {
    "duration": 14,
    "start_time": "2022-04-29T15:48:15.289Z"
   },
   {
    "duration": 7,
    "start_time": "2022-04-29T15:48:15.304Z"
   },
   {
    "duration": 12,
    "start_time": "2022-04-29T15:48:15.313Z"
   },
   {
    "duration": 16,
    "start_time": "2022-04-29T15:48:15.328Z"
   },
   {
    "duration": 32,
    "start_time": "2022-04-29T15:48:15.345Z"
   },
   {
    "duration": 10,
    "start_time": "2022-04-29T15:48:15.378Z"
   },
   {
    "duration": 17,
    "start_time": "2022-04-29T15:48:15.390Z"
   },
   {
    "duration": 18,
    "start_time": "2022-04-29T15:48:15.409Z"
   },
   {
    "duration": 13,
    "start_time": "2022-04-29T15:48:15.428Z"
   },
   {
    "duration": 31,
    "start_time": "2022-04-29T15:48:15.442Z"
   },
   {
    "duration": 12,
    "start_time": "2022-04-29T15:48:15.475Z"
   },
   {
    "duration": 8,
    "start_time": "2022-04-29T15:49:01.833Z"
   },
   {
    "duration": 8,
    "start_time": "2022-04-29T15:49:04.579Z"
   },
   {
    "duration": 51,
    "start_time": "2022-04-29T15:49:09.322Z"
   },
   {
    "duration": 25,
    "start_time": "2022-04-29T15:49:09.375Z"
   },
   {
    "duration": 16,
    "start_time": "2022-04-29T15:49:09.402Z"
   },
   {
    "duration": 11,
    "start_time": "2022-04-29T15:49:09.420Z"
   },
   {
    "duration": 14,
    "start_time": "2022-04-29T15:49:09.433Z"
   },
   {
    "duration": 6,
    "start_time": "2022-04-29T15:49:09.474Z"
   },
   {
    "duration": 50,
    "start_time": "2022-04-29T15:49:09.482Z"
   },
   {
    "duration": 50,
    "start_time": "2022-04-29T15:49:09.534Z"
   },
   {
    "duration": 13,
    "start_time": "2022-04-29T15:49:09.586Z"
   },
   {
    "duration": 21,
    "start_time": "2022-04-29T15:49:09.602Z"
   },
   {
    "duration": 7,
    "start_time": "2022-04-29T15:49:09.625Z"
   },
   {
    "duration": 22,
    "start_time": "2022-04-29T15:49:09.633Z"
   },
   {
    "duration": 37,
    "start_time": "2022-04-29T15:49:09.657Z"
   },
   {
    "duration": 32,
    "start_time": "2022-04-29T15:49:09.696Z"
   },
   {
    "duration": 17,
    "start_time": "2022-04-29T15:49:09.730Z"
   },
   {
    "duration": 64,
    "start_time": "2022-04-29T15:49:09.749Z"
   },
   {
    "duration": 19,
    "start_time": "2022-04-29T15:49:09.815Z"
   },
   {
    "duration": 38,
    "start_time": "2022-04-29T15:49:09.836Z"
   },
   {
    "duration": 5,
    "start_time": "2022-04-29T15:49:09.876Z"
   },
   {
    "duration": 5,
    "start_time": "2022-04-29T15:49:09.883Z"
   },
   {
    "duration": 6,
    "start_time": "2022-04-29T15:49:09.889Z"
   },
   {
    "duration": 24,
    "start_time": "2022-04-29T15:49:09.897Z"
   },
   {
    "duration": 4,
    "start_time": "2022-04-29T15:49:09.923Z"
   },
   {
    "duration": 46,
    "start_time": "2022-04-29T15:49:09.929Z"
   },
   {
    "duration": 15,
    "start_time": "2022-04-29T15:49:09.977Z"
   },
   {
    "duration": 8,
    "start_time": "2022-04-29T15:49:09.994Z"
   },
   {
    "duration": 19,
    "start_time": "2022-04-29T15:49:10.003Z"
   },
   {
    "duration": 23,
    "start_time": "2022-04-29T15:49:10.026Z"
   },
   {
    "duration": 10,
    "start_time": "2022-04-29T15:49:10.074Z"
   },
   {
    "duration": 10,
    "start_time": "2022-04-29T15:49:10.086Z"
   },
   {
    "duration": 13,
    "start_time": "2022-04-29T15:49:10.098Z"
   },
   {
    "duration": 23,
    "start_time": "2022-04-29T15:49:10.112Z"
   },
   {
    "duration": 36,
    "start_time": "2022-04-29T15:49:10.137Z"
   },
   {
    "duration": 18,
    "start_time": "2022-04-29T15:49:10.175Z"
   },
   {
    "duration": 12,
    "start_time": "2022-04-29T15:49:10.195Z"
   },
   {
    "duration": 11,
    "start_time": "2022-04-29T15:49:42.417Z"
   },
   {
    "duration": 9,
    "start_time": "2022-04-29T15:59:56.695Z"
   },
   {
    "duration": 12,
    "start_time": "2022-04-29T15:59:58.888Z"
   },
   {
    "duration": 57,
    "start_time": "2022-04-29T16:00:03.992Z"
   },
   {
    "duration": 30,
    "start_time": "2022-04-29T16:00:04.052Z"
   },
   {
    "duration": 17,
    "start_time": "2022-04-29T16:00:04.084Z"
   },
   {
    "duration": 7,
    "start_time": "2022-04-29T16:00:04.103Z"
   },
   {
    "duration": 33,
    "start_time": "2022-04-29T16:00:04.111Z"
   },
   {
    "duration": 5,
    "start_time": "2022-04-29T16:00:04.146Z"
   },
   {
    "duration": 72,
    "start_time": "2022-04-29T16:00:04.153Z"
   },
   {
    "duration": 27,
    "start_time": "2022-04-29T16:00:04.227Z"
   },
   {
    "duration": 26,
    "start_time": "2022-04-29T16:00:04.256Z"
   },
   {
    "duration": 9,
    "start_time": "2022-04-29T16:00:04.285Z"
   },
   {
    "duration": 4,
    "start_time": "2022-04-29T16:00:04.296Z"
   },
   {
    "duration": 23,
    "start_time": "2022-04-29T16:00:04.301Z"
   },
   {
    "duration": 56,
    "start_time": "2022-04-29T16:00:04.326Z"
   },
   {
    "duration": 33,
    "start_time": "2022-04-29T16:00:04.384Z"
   },
   {
    "duration": 14,
    "start_time": "2022-04-29T16:00:04.418Z"
   },
   {
    "duration": 63,
    "start_time": "2022-04-29T16:00:04.434Z"
   },
   {
    "duration": 19,
    "start_time": "2022-04-29T16:00:04.499Z"
   },
   {
    "duration": 29,
    "start_time": "2022-04-29T16:00:04.520Z"
   },
   {
    "duration": 5,
    "start_time": "2022-04-29T16:00:04.550Z"
   },
   {
    "duration": 4,
    "start_time": "2022-04-29T16:00:04.573Z"
   },
   {
    "duration": 8,
    "start_time": "2022-04-29T16:00:04.578Z"
   },
   {
    "duration": 23,
    "start_time": "2022-04-29T16:00:04.588Z"
   },
   {
    "duration": 7,
    "start_time": "2022-04-29T16:00:04.614Z"
   },
   {
    "duration": 31,
    "start_time": "2022-04-29T16:00:04.623Z"
   },
   {
    "duration": 17,
    "start_time": "2022-04-29T16:00:04.673Z"
   },
   {
    "duration": 8,
    "start_time": "2022-04-29T16:00:04.692Z"
   },
   {
    "duration": 14,
    "start_time": "2022-04-29T16:00:04.702Z"
   },
   {
    "duration": 21,
    "start_time": "2022-04-29T16:00:04.720Z"
   },
   {
    "duration": 35,
    "start_time": "2022-04-29T16:00:04.743Z"
   },
   {
    "duration": 12,
    "start_time": "2022-04-29T16:00:04.780Z"
   },
   {
    "duration": 18,
    "start_time": "2022-04-29T16:00:04.794Z"
   },
   {
    "duration": 32,
    "start_time": "2022-04-29T16:00:04.814Z"
   },
   {
    "duration": 8,
    "start_time": "2022-04-29T16:00:04.848Z"
   },
   {
    "duration": 27,
    "start_time": "2022-04-29T16:00:04.858Z"
   },
   {
    "duration": 31,
    "start_time": "2022-04-29T16:00:04.887Z"
   },
   {
    "duration": 22,
    "start_time": "2022-04-29T16:00:04.920Z"
   },
   {
    "duration": 18,
    "start_time": "2022-04-29T16:09:32.775Z"
   },
   {
    "duration": 54,
    "start_time": "2022-04-29T16:09:37.508Z"
   },
   {
    "duration": 26,
    "start_time": "2022-04-29T16:09:37.564Z"
   },
   {
    "duration": 17,
    "start_time": "2022-04-29T16:09:37.592Z"
   },
   {
    "duration": 6,
    "start_time": "2022-04-29T16:09:37.612Z"
   },
   {
    "duration": 12,
    "start_time": "2022-04-29T16:09:37.619Z"
   },
   {
    "duration": 5,
    "start_time": "2022-04-29T16:09:37.632Z"
   },
   {
    "duration": 40,
    "start_time": "2022-04-29T16:09:37.674Z"
   },
   {
    "duration": 26,
    "start_time": "2022-04-29T16:09:37.715Z"
   },
   {
    "duration": 39,
    "start_time": "2022-04-29T16:09:37.742Z"
   },
   {
    "duration": 8,
    "start_time": "2022-04-29T16:09:37.784Z"
   },
   {
    "duration": 3,
    "start_time": "2022-04-29T16:09:37.794Z"
   },
   {
    "duration": 20,
    "start_time": "2022-04-29T16:09:37.798Z"
   },
   {
    "duration": 28,
    "start_time": "2022-04-29T16:09:37.820Z"
   },
   {
    "duration": 31,
    "start_time": "2022-04-29T16:09:37.874Z"
   },
   {
    "duration": 13,
    "start_time": "2022-04-29T16:09:37.907Z"
   },
   {
    "duration": 59,
    "start_time": "2022-04-29T16:09:37.922Z"
   },
   {
    "duration": 18,
    "start_time": "2022-04-29T16:09:37.983Z"
   },
   {
    "duration": 25,
    "start_time": "2022-04-29T16:09:38.003Z"
   },
   {
    "duration": 5,
    "start_time": "2022-04-29T16:09:38.029Z"
   },
   {
    "duration": 10,
    "start_time": "2022-04-29T16:09:38.035Z"
   },
   {
    "duration": 10,
    "start_time": "2022-04-29T16:09:38.046Z"
   },
   {
    "duration": 19,
    "start_time": "2022-04-29T16:09:38.073Z"
   },
   {
    "duration": 4,
    "start_time": "2022-04-29T16:09:38.094Z"
   },
   {
    "duration": 27,
    "start_time": "2022-04-29T16:09:38.100Z"
   },
   {
    "duration": 19,
    "start_time": "2022-04-29T16:09:38.128Z"
   },
   {
    "duration": 28,
    "start_time": "2022-04-29T16:09:38.149Z"
   },
   {
    "duration": 15,
    "start_time": "2022-04-29T16:09:38.179Z"
   },
   {
    "duration": 14,
    "start_time": "2022-04-29T16:09:38.197Z"
   },
   {
    "duration": 8,
    "start_time": "2022-04-29T16:09:38.213Z"
   },
   {
    "duration": 10,
    "start_time": "2022-04-29T16:09:38.222Z"
   },
   {
    "duration": 40,
    "start_time": "2022-04-29T16:09:38.233Z"
   },
   {
    "duration": 21,
    "start_time": "2022-04-29T16:09:38.275Z"
   },
   {
    "duration": 8,
    "start_time": "2022-04-29T16:09:38.298Z"
   },
   {
    "duration": 11,
    "start_time": "2022-04-29T16:09:38.308Z"
   },
   {
    "duration": 27,
    "start_time": "2022-04-29T16:09:38.321Z"
   },
   {
    "duration": 34,
    "start_time": "2022-04-29T16:09:38.350Z"
   },
   {
    "duration": 17,
    "start_time": "2022-04-29T16:10:31.021Z"
   },
   {
    "duration": 69,
    "start_time": "2022-04-29T16:10:36.612Z"
   },
   {
    "duration": 26,
    "start_time": "2022-04-29T16:10:36.683Z"
   },
   {
    "duration": 16,
    "start_time": "2022-04-29T16:10:36.710Z"
   },
   {
    "duration": 6,
    "start_time": "2022-04-29T16:10:36.728Z"
   },
   {
    "duration": 14,
    "start_time": "2022-04-29T16:10:36.773Z"
   },
   {
    "duration": 5,
    "start_time": "2022-04-29T16:10:36.789Z"
   },
   {
    "duration": 42,
    "start_time": "2022-04-29T16:10:36.795Z"
   },
   {
    "duration": 52,
    "start_time": "2022-04-29T16:10:36.839Z"
   },
   {
    "duration": 11,
    "start_time": "2022-04-29T16:10:36.893Z"
   },
   {
    "duration": 14,
    "start_time": "2022-04-29T16:10:36.906Z"
   },
   {
    "duration": 4,
    "start_time": "2022-04-29T16:10:36.921Z"
   },
   {
    "duration": 18,
    "start_time": "2022-04-29T16:10:36.927Z"
   },
   {
    "duration": 28,
    "start_time": "2022-04-29T16:10:36.974Z"
   },
   {
    "duration": 32,
    "start_time": "2022-04-29T16:10:37.004Z"
   },
   {
    "duration": 39,
    "start_time": "2022-04-29T16:10:37.038Z"
   },
   {
    "duration": 38,
    "start_time": "2022-04-29T16:10:37.078Z"
   },
   {
    "duration": 18,
    "start_time": "2022-04-29T16:10:37.118Z"
   },
   {
    "duration": 52,
    "start_time": "2022-04-29T16:10:37.138Z"
   },
   {
    "duration": 5,
    "start_time": "2022-04-29T16:10:37.192Z"
   },
   {
    "duration": 11,
    "start_time": "2022-04-29T16:10:37.199Z"
   },
   {
    "duration": 9,
    "start_time": "2022-04-29T16:10:37.212Z"
   },
   {
    "duration": 31,
    "start_time": "2022-04-29T16:10:37.222Z"
   },
   {
    "duration": 22,
    "start_time": "2022-04-29T16:10:37.255Z"
   },
   {
    "duration": 26,
    "start_time": "2022-04-29T16:10:37.279Z"
   },
   {
    "duration": 23,
    "start_time": "2022-04-29T16:10:37.307Z"
   },
   {
    "duration": 7,
    "start_time": "2022-04-29T16:10:37.332Z"
   },
   {
    "duration": 14,
    "start_time": "2022-04-29T16:10:37.341Z"
   },
   {
    "duration": 15,
    "start_time": "2022-04-29T16:10:37.372Z"
   },
   {
    "duration": 7,
    "start_time": "2022-04-29T16:10:37.389Z"
   },
   {
    "duration": 9,
    "start_time": "2022-04-29T16:10:37.398Z"
   },
   {
    "duration": 11,
    "start_time": "2022-04-29T16:10:37.409Z"
   },
   {
    "duration": 16,
    "start_time": "2022-04-29T16:10:37.422Z"
   },
   {
    "duration": 37,
    "start_time": "2022-04-29T16:10:37.440Z"
   },
   {
    "duration": 16,
    "start_time": "2022-04-29T16:10:37.479Z"
   },
   {
    "duration": 19,
    "start_time": "2022-04-29T16:10:37.497Z"
   },
   {
    "duration": 7,
    "start_time": "2022-04-29T16:10:37.518Z"
   },
   {
    "duration": 12,
    "start_time": "2022-04-29T16:10:37.527Z"
   },
   {
    "duration": 57,
    "start_time": "2022-04-29T16:13:46.559Z"
   },
   {
    "duration": 25,
    "start_time": "2022-04-29T16:13:46.618Z"
   },
   {
    "duration": 41,
    "start_time": "2022-04-29T16:13:46.645Z"
   },
   {
    "duration": 6,
    "start_time": "2022-04-29T16:13:46.689Z"
   },
   {
    "duration": 20,
    "start_time": "2022-04-29T16:13:46.696Z"
   },
   {
    "duration": 9,
    "start_time": "2022-04-29T16:13:46.718Z"
   },
   {
    "duration": 65,
    "start_time": "2022-04-29T16:13:46.729Z"
   },
   {
    "duration": 25,
    "start_time": "2022-04-29T16:13:46.795Z"
   },
   {
    "duration": 11,
    "start_time": "2022-04-29T16:13:46.823Z"
   },
   {
    "duration": 38,
    "start_time": "2022-04-29T16:13:46.837Z"
   },
   {
    "duration": 4,
    "start_time": "2022-04-29T16:13:46.877Z"
   },
   {
    "duration": 18,
    "start_time": "2022-04-29T16:13:46.883Z"
   },
   {
    "duration": 27,
    "start_time": "2022-04-29T16:13:46.903Z"
   },
   {
    "duration": 59,
    "start_time": "2022-04-29T16:13:46.933Z"
   },
   {
    "duration": 13,
    "start_time": "2022-04-29T16:13:46.994Z"
   },
   {
    "duration": 37,
    "start_time": "2022-04-29T16:13:47.009Z"
   },
   {
    "duration": 38,
    "start_time": "2022-04-29T16:13:47.048Z"
   },
   {
    "duration": 21,
    "start_time": "2022-04-29T16:13:47.088Z"
   },
   {
    "duration": 4,
    "start_time": "2022-04-29T16:13:47.111Z"
   },
   {
    "duration": 5,
    "start_time": "2022-04-29T16:13:47.117Z"
   },
   {
    "duration": 7,
    "start_time": "2022-04-29T16:13:47.124Z"
   },
   {
    "duration": 83,
    "start_time": "2022-04-29T16:13:47.133Z"
   },
   {
    "duration": 30,
    "start_time": "2022-04-29T16:13:47.231Z"
   },
   {
    "duration": 31,
    "start_time": "2022-04-29T16:13:47.263Z"
   },
   {
    "duration": 17,
    "start_time": "2022-04-29T16:13:47.296Z"
   },
   {
    "duration": 7,
    "start_time": "2022-04-29T16:13:47.315Z"
   },
   {
    "duration": 22,
    "start_time": "2022-04-29T16:13:47.324Z"
   },
   {
    "duration": 37,
    "start_time": "2022-04-29T16:13:47.349Z"
   },
   {
    "duration": 7,
    "start_time": "2022-04-29T16:13:47.388Z"
   },
   {
    "duration": 9,
    "start_time": "2022-04-29T16:13:47.397Z"
   },
   {
    "duration": 10,
    "start_time": "2022-04-29T16:13:47.408Z"
   },
   {
    "duration": 12,
    "start_time": "2022-04-29T16:13:47.420Z"
   },
   {
    "duration": 50,
    "start_time": "2022-04-29T16:13:47.434Z"
   },
   {
    "duration": 8,
    "start_time": "2022-04-29T16:13:47.485Z"
   },
   {
    "duration": 13,
    "start_time": "2022-04-29T16:13:47.494Z"
   },
   {
    "duration": 18,
    "start_time": "2022-04-29T16:13:47.509Z"
   },
   {
    "duration": 7,
    "start_time": "2022-04-29T16:13:47.529Z"
   },
   {
    "duration": 12,
    "start_time": "2022-04-29T16:13:47.573Z"
   },
   {
    "duration": 9,
    "start_time": "2022-04-29T16:14:17.052Z"
   },
   {
    "duration": 59,
    "start_time": "2022-04-29T16:14:51.398Z"
   },
   {
    "duration": 28,
    "start_time": "2022-04-29T16:14:51.459Z"
   },
   {
    "duration": 16,
    "start_time": "2022-04-29T16:14:51.489Z"
   },
   {
    "duration": 5,
    "start_time": "2022-04-29T16:14:51.507Z"
   },
   {
    "duration": 13,
    "start_time": "2022-04-29T16:14:51.513Z"
   },
   {
    "duration": 49,
    "start_time": "2022-04-29T16:14:51.527Z"
   },
   {
    "duration": 50,
    "start_time": "2022-04-29T16:14:51.578Z"
   },
   {
    "duration": 52,
    "start_time": "2022-04-29T16:14:51.629Z"
   },
   {
    "duration": 11,
    "start_time": "2022-04-29T16:14:51.683Z"
   },
   {
    "duration": 18,
    "start_time": "2022-04-29T16:14:51.697Z"
   },
   {
    "duration": 7,
    "start_time": "2022-04-29T16:14:51.716Z"
   },
   {
    "duration": 21,
    "start_time": "2022-04-29T16:14:51.726Z"
   },
   {
    "duration": 51,
    "start_time": "2022-04-29T16:14:51.750Z"
   },
   {
    "duration": 35,
    "start_time": "2022-04-29T16:14:51.804Z"
   },
   {
    "duration": 39,
    "start_time": "2022-04-29T16:14:51.841Z"
   },
   {
    "duration": 44,
    "start_time": "2022-04-29T16:14:51.882Z"
   },
   {
    "duration": 19,
    "start_time": "2022-04-29T16:14:51.928Z"
   },
   {
    "duration": 32,
    "start_time": "2022-04-29T16:14:51.949Z"
   },
   {
    "duration": 4,
    "start_time": "2022-04-29T16:14:51.983Z"
   },
   {
    "duration": 6,
    "start_time": "2022-04-29T16:14:51.989Z"
   },
   {
    "duration": 7,
    "start_time": "2022-04-29T16:14:51.997Z"
   },
   {
    "duration": 33,
    "start_time": "2022-04-29T16:14:52.007Z"
   },
   {
    "duration": 4,
    "start_time": "2022-04-29T16:14:52.042Z"
   },
   {
    "duration": 23,
    "start_time": "2022-04-29T16:14:52.076Z"
   },
   {
    "duration": 16,
    "start_time": "2022-04-29T16:14:52.101Z"
   },
   {
    "duration": 18,
    "start_time": "2022-04-29T16:14:52.118Z"
   },
   {
    "duration": 16,
    "start_time": "2022-04-29T16:14:52.137Z"
   },
   {
    "duration": 15,
    "start_time": "2022-04-29T16:14:52.174Z"
   },
   {
    "duration": 10,
    "start_time": "2022-04-29T16:14:52.191Z"
   },
   {
    "duration": 10,
    "start_time": "2022-04-29T16:14:52.202Z"
   },
   {
    "duration": 12,
    "start_time": "2022-04-29T16:14:52.214Z"
   },
   {
    "duration": 22,
    "start_time": "2022-04-29T16:14:52.228Z"
   },
   {
    "duration": 0,
    "start_time": "2022-04-29T16:14:52.273Z"
   },
   {
    "duration": 0,
    "start_time": "2022-04-29T16:14:52.274Z"
   },
   {
    "duration": 0,
    "start_time": "2022-04-29T16:14:52.275Z"
   },
   {
    "duration": 0,
    "start_time": "2022-04-29T16:14:52.276Z"
   },
   {
    "duration": 0,
    "start_time": "2022-04-29T16:14:52.278Z"
   },
   {
    "duration": 0,
    "start_time": "2022-04-29T16:14:52.279Z"
   },
   {
    "duration": 9,
    "start_time": "2022-04-29T16:15:28.034Z"
   },
   {
    "duration": 55,
    "start_time": "2022-04-29T16:15:35.078Z"
   },
   {
    "duration": 44,
    "start_time": "2022-04-29T16:15:35.135Z"
   },
   {
    "duration": 16,
    "start_time": "2022-04-29T16:15:35.181Z"
   },
   {
    "duration": 5,
    "start_time": "2022-04-29T16:15:35.200Z"
   },
   {
    "duration": 12,
    "start_time": "2022-04-29T16:15:35.207Z"
   },
   {
    "duration": 5,
    "start_time": "2022-04-29T16:15:35.221Z"
   },
   {
    "duration": 82,
    "start_time": "2022-04-29T16:15:35.227Z"
   },
   {
    "duration": 25,
    "start_time": "2022-04-29T16:15:35.311Z"
   },
   {
    "duration": 27,
    "start_time": "2022-04-29T16:15:35.338Z"
   },
   {
    "duration": 9,
    "start_time": "2022-04-29T16:15:35.375Z"
   },
   {
    "duration": 4,
    "start_time": "2022-04-29T16:15:35.387Z"
   },
   {
    "duration": 28,
    "start_time": "2022-04-29T16:15:35.393Z"
   },
   {
    "duration": 50,
    "start_time": "2022-04-29T16:15:35.424Z"
   },
   {
    "duration": 32,
    "start_time": "2022-04-29T16:15:35.476Z"
   },
   {
    "duration": 14,
    "start_time": "2022-04-29T16:15:35.510Z"
   },
   {
    "duration": 59,
    "start_time": "2022-04-29T16:15:35.526Z"
   },
   {
    "duration": 20,
    "start_time": "2022-04-29T16:15:35.586Z"
   },
   {
    "duration": 27,
    "start_time": "2022-04-29T16:15:35.608Z"
   },
   {
    "duration": 5,
    "start_time": "2022-04-29T16:15:35.637Z"
   },
   {
    "duration": 6,
    "start_time": "2022-04-29T16:15:35.644Z"
   },
   {
    "duration": 4,
    "start_time": "2022-04-29T16:15:35.674Z"
   },
   {
    "duration": 35,
    "start_time": "2022-04-29T16:15:35.680Z"
   },
   {
    "duration": 6,
    "start_time": "2022-04-29T16:15:35.717Z"
   },
   {
    "duration": 29,
    "start_time": "2022-04-29T16:15:35.724Z"
   },
   {
    "duration": 30,
    "start_time": "2022-04-29T16:15:35.755Z"
   },
   {
    "duration": 10,
    "start_time": "2022-04-29T16:15:35.787Z"
   },
   {
    "duration": 17,
    "start_time": "2022-04-29T16:15:35.799Z"
   },
   {
    "duration": 19,
    "start_time": "2022-04-29T16:15:35.821Z"
   },
   {
    "duration": 35,
    "start_time": "2022-04-29T16:15:35.842Z"
   },
   {
    "duration": 15,
    "start_time": "2022-04-29T16:15:35.879Z"
   },
   {
    "duration": 8,
    "start_time": "2022-04-29T16:15:35.896Z"
   },
   {
    "duration": 13,
    "start_time": "2022-04-29T16:15:35.906Z"
   },
   {
    "duration": 24,
    "start_time": "2022-04-29T16:15:35.921Z"
   },
   {
    "duration": 34,
    "start_time": "2022-04-29T16:15:35.947Z"
   },
   {
    "duration": 17,
    "start_time": "2022-04-29T16:15:35.984Z"
   },
   {
    "duration": 21,
    "start_time": "2022-04-29T16:15:36.003Z"
   },
   {
    "duration": 8,
    "start_time": "2022-04-29T16:15:36.026Z"
   },
   {
    "duration": 38,
    "start_time": "2022-04-29T16:15:36.037Z"
   },
   {
    "duration": 56,
    "start_time": "2022-04-29T16:16:23.805Z"
   },
   {
    "duration": 26,
    "start_time": "2022-04-29T16:16:23.864Z"
   },
   {
    "duration": 17,
    "start_time": "2022-04-29T16:16:23.892Z"
   },
   {
    "duration": 6,
    "start_time": "2022-04-29T16:16:23.912Z"
   },
   {
    "duration": 20,
    "start_time": "2022-04-29T16:16:23.920Z"
   },
   {
    "duration": 31,
    "start_time": "2022-04-29T16:16:23.943Z"
   },
   {
    "duration": 54,
    "start_time": "2022-04-29T16:16:23.976Z"
   },
   {
    "duration": 46,
    "start_time": "2022-04-29T16:16:24.032Z"
   },
   {
    "duration": 12,
    "start_time": "2022-04-29T16:16:24.080Z"
   },
   {
    "duration": 11,
    "start_time": "2022-04-29T16:16:24.096Z"
   },
   {
    "duration": 7,
    "start_time": "2022-04-29T16:16:24.109Z"
   },
   {
    "duration": 19,
    "start_time": "2022-04-29T16:16:24.118Z"
   },
   {
    "duration": 59,
    "start_time": "2022-04-29T16:16:24.139Z"
   },
   {
    "duration": 33,
    "start_time": "2022-04-29T16:16:24.200Z"
   },
   {
    "duration": 13,
    "start_time": "2022-04-29T16:16:24.235Z"
   },
   {
    "duration": 54,
    "start_time": "2022-04-29T16:16:24.250Z"
   },
   {
    "duration": 18,
    "start_time": "2022-04-29T16:16:24.306Z"
   },
   {
    "duration": 34,
    "start_time": "2022-04-29T16:16:24.326Z"
   },
   {
    "duration": 12,
    "start_time": "2022-04-29T16:16:24.362Z"
   },
   {
    "duration": 11,
    "start_time": "2022-04-29T16:16:24.376Z"
   },
   {
    "duration": 6,
    "start_time": "2022-04-29T16:16:24.388Z"
   },
   {
    "duration": 21,
    "start_time": "2022-04-29T16:16:24.395Z"
   },
   {
    "duration": 4,
    "start_time": "2022-04-29T16:16:24.418Z"
   },
   {
    "duration": 36,
    "start_time": "2022-04-29T16:16:24.423Z"
   },
   {
    "duration": 16,
    "start_time": "2022-04-29T16:16:24.473Z"
   },
   {
    "duration": 8,
    "start_time": "2022-04-29T16:16:24.491Z"
   },
   {
    "duration": 17,
    "start_time": "2022-04-29T16:16:24.500Z"
   },
   {
    "duration": 14,
    "start_time": "2022-04-29T16:16:24.521Z"
   },
   {
    "duration": 44,
    "start_time": "2022-04-29T16:16:24.536Z"
   },
   {
    "duration": 11,
    "start_time": "2022-04-29T16:16:24.583Z"
   },
   {
    "duration": 21,
    "start_time": "2022-04-29T16:16:24.596Z"
   },
   {
    "duration": 24,
    "start_time": "2022-04-29T16:16:24.619Z"
   },
   {
    "duration": 29,
    "start_time": "2022-04-29T16:16:24.645Z"
   },
   {
    "duration": 20,
    "start_time": "2022-04-29T16:16:24.675Z"
   },
   {
    "duration": 19,
    "start_time": "2022-04-29T16:16:24.697Z"
   },
   {
    "duration": 8,
    "start_time": "2022-04-29T16:16:24.718Z"
   },
   {
    "duration": 17,
    "start_time": "2022-04-29T16:16:24.727Z"
   },
   {
    "duration": 79,
    "start_time": "2022-04-29T17:12:53.493Z"
   },
   {
    "duration": 18,
    "start_time": "2022-04-29T17:13:33.105Z"
   },
   {
    "duration": 12,
    "start_time": "2022-04-29T17:14:01.011Z"
   },
   {
    "duration": 11,
    "start_time": "2022-04-29T17:39:34.716Z"
   },
   {
    "duration": 9,
    "start_time": "2022-04-29T17:44:43.808Z"
   },
   {
    "duration": 55,
    "start_time": "2022-04-29T17:46:58.806Z"
   },
   {
    "duration": 24,
    "start_time": "2022-04-29T17:46:58.863Z"
   },
   {
    "duration": 16,
    "start_time": "2022-04-29T17:46:58.889Z"
   },
   {
    "duration": 6,
    "start_time": "2022-04-29T17:46:58.907Z"
   },
   {
    "duration": 9,
    "start_time": "2022-04-29T17:46:58.915Z"
   },
   {
    "duration": 5,
    "start_time": "2022-04-29T17:46:58.926Z"
   },
   {
    "duration": 76,
    "start_time": "2022-04-29T17:46:58.933Z"
   },
   {
    "duration": 25,
    "start_time": "2022-04-29T17:46:59.012Z"
   },
   {
    "duration": 41,
    "start_time": "2022-04-29T17:46:59.038Z"
   },
   {
    "duration": 8,
    "start_time": "2022-04-29T17:46:59.081Z"
   },
   {
    "duration": 5,
    "start_time": "2022-04-29T17:46:59.090Z"
   },
   {
    "duration": 20,
    "start_time": "2022-04-29T17:46:59.096Z"
   },
   {
    "duration": 28,
    "start_time": "2022-04-29T17:46:59.117Z"
   },
   {
    "duration": 31,
    "start_time": "2022-04-29T17:46:59.173Z"
   },
   {
    "duration": 11,
    "start_time": "2022-04-29T17:46:59.206Z"
   },
   {
    "duration": 54,
    "start_time": "2022-04-29T17:46:59.220Z"
   },
   {
    "duration": 19,
    "start_time": "2022-04-29T17:46:59.276Z"
   },
   {
    "duration": 25,
    "start_time": "2022-04-29T17:46:59.297Z"
   },
   {
    "duration": 4,
    "start_time": "2022-04-29T17:46:59.323Z"
   },
   {
    "duration": 6,
    "start_time": "2022-04-29T17:46:59.329Z"
   },
   {
    "duration": 6,
    "start_time": "2022-04-29T17:46:59.337Z"
   },
   {
    "duration": 45,
    "start_time": "2022-04-29T17:46:59.344Z"
   },
   {
    "duration": 3,
    "start_time": "2022-04-29T17:46:59.390Z"
   },
   {
    "duration": 27,
    "start_time": "2022-04-29T17:46:59.395Z"
   },
   {
    "duration": 21,
    "start_time": "2022-04-29T17:46:59.424Z"
   },
   {
    "duration": 32,
    "start_time": "2022-04-29T17:46:59.447Z"
   },
   {
    "duration": 14,
    "start_time": "2022-04-29T17:46:59.482Z"
   },
   {
    "duration": 17,
    "start_time": "2022-04-29T17:46:59.497Z"
   },
   {
    "duration": 7,
    "start_time": "2022-04-29T17:46:59.516Z"
   },
   {
    "duration": 9,
    "start_time": "2022-04-29T17:46:59.526Z"
   },
   {
    "duration": 40,
    "start_time": "2022-04-29T17:46:59.537Z"
   },
   {
    "duration": 25,
    "start_time": "2022-04-29T17:46:59.579Z"
   },
   {
    "duration": 9,
    "start_time": "2022-04-29T17:46:59.607Z"
   },
   {
    "duration": 17,
    "start_time": "2022-04-29T17:46:59.619Z"
   },
   {
    "duration": 55,
    "start_time": "2022-04-29T17:46:59.638Z"
   },
   {
    "duration": 11,
    "start_time": "2022-04-29T17:46:59.696Z"
   },
   {
    "duration": 28,
    "start_time": "2022-04-29T17:46:59.709Z"
   },
   {
    "duration": 22,
    "start_time": "2022-04-29T18:00:42.999Z"
   },
   {
    "duration": 28,
    "start_time": "2022-04-29T18:05:41.975Z"
   },
   {
    "duration": 85,
    "start_time": "2022-04-29T18:09:23.305Z"
   },
   {
    "duration": 21,
    "start_time": "2022-04-29T18:09:34.728Z"
   },
   {
    "duration": 33,
    "start_time": "2022-04-29T18:11:35.577Z"
   },
   {
    "duration": 22,
    "start_time": "2022-04-29T18:14:37.788Z"
   },
   {
    "duration": 21,
    "start_time": "2022-04-29T18:15:15.568Z"
   },
   {
    "duration": 23,
    "start_time": "2022-04-29T18:15:22.016Z"
   },
   {
    "duration": 22,
    "start_time": "2022-04-29T18:15:52.575Z"
   },
   {
    "duration": 16,
    "start_time": "2022-04-29T18:53:51.421Z"
   },
   {
    "duration": 57,
    "start_time": "2022-04-29T18:53:59.096Z"
   },
   {
    "duration": 24,
    "start_time": "2022-04-29T18:53:59.155Z"
   },
   {
    "duration": 15,
    "start_time": "2022-04-29T18:53:59.180Z"
   },
   {
    "duration": 5,
    "start_time": "2022-04-29T18:53:59.196Z"
   },
   {
    "duration": 10,
    "start_time": "2022-04-29T18:53:59.203Z"
   },
   {
    "duration": 4,
    "start_time": "2022-04-29T18:53:59.215Z"
   },
   {
    "duration": 68,
    "start_time": "2022-04-29T18:53:59.221Z"
   },
   {
    "duration": 25,
    "start_time": "2022-04-29T18:53:59.291Z"
   },
   {
    "duration": 10,
    "start_time": "2022-04-29T18:53:59.318Z"
   },
   {
    "duration": 43,
    "start_time": "2022-04-29T18:53:59.330Z"
   },
   {
    "duration": 4,
    "start_time": "2022-04-29T18:53:59.375Z"
   },
   {
    "duration": 18,
    "start_time": "2022-04-29T18:53:59.380Z"
   },
   {
    "duration": 27,
    "start_time": "2022-04-29T18:53:59.399Z"
   },
   {
    "duration": 55,
    "start_time": "2022-04-29T18:53:59.429Z"
   },
   {
    "duration": 12,
    "start_time": "2022-04-29T18:53:59.485Z"
   },
   {
    "duration": 37,
    "start_time": "2022-04-29T18:53:59.498Z"
   },
   {
    "duration": 17,
    "start_time": "2022-04-29T18:53:59.536Z"
   },
   {
    "duration": 40,
    "start_time": "2022-04-29T18:53:59.555Z"
   },
   {
    "duration": 4,
    "start_time": "2022-04-29T18:53:59.597Z"
   },
   {
    "duration": 12,
    "start_time": "2022-04-29T18:53:59.602Z"
   },
   {
    "duration": 7,
    "start_time": "2022-04-29T18:53:59.615Z"
   },
   {
    "duration": 23,
    "start_time": "2022-04-29T18:53:59.623Z"
   },
   {
    "duration": 3,
    "start_time": "2022-04-29T18:53:59.647Z"
   },
   {
    "duration": 38,
    "start_time": "2022-04-29T18:53:59.652Z"
   },
   {
    "duration": 15,
    "start_time": "2022-04-29T18:53:59.692Z"
   },
   {
    "duration": 8,
    "start_time": "2022-04-29T18:53:59.709Z"
   },
   {
    "duration": 12,
    "start_time": "2022-04-29T18:53:59.719Z"
   },
   {
    "duration": 16,
    "start_time": "2022-04-29T18:53:59.732Z"
   },
   {
    "duration": 8,
    "start_time": "2022-04-29T18:53:59.774Z"
   },
   {
    "duration": 9,
    "start_time": "2022-04-29T18:53:59.783Z"
   },
   {
    "duration": 10,
    "start_time": "2022-04-29T18:53:59.794Z"
   },
   {
    "duration": 17,
    "start_time": "2022-04-29T18:53:59.807Z"
   },
   {
    "duration": 7,
    "start_time": "2022-04-29T18:53:59.825Z"
   },
   {
    "duration": 41,
    "start_time": "2022-04-29T18:53:59.834Z"
   },
   {
    "duration": 19,
    "start_time": "2022-04-29T18:53:59.876Z"
   },
   {
    "duration": 7,
    "start_time": "2022-04-29T18:53:59.897Z"
   },
   {
    "duration": 15,
    "start_time": "2022-04-29T18:53:59.905Z"
   },
   {
    "duration": 453,
    "start_time": "2022-05-04T11:37:41.998Z"
   },
   {
    "duration": 23,
    "start_time": "2022-05-04T11:37:50.838Z"
   },
   {
    "duration": 132,
    "start_time": "2022-05-04T13:55:18.053Z"
   },
   {
    "duration": 461,
    "start_time": "2022-05-04T14:37:54.949Z"
   },
   {
    "duration": 31,
    "start_time": "2022-05-04T14:37:55.411Z"
   },
   {
    "duration": 24,
    "start_time": "2022-05-04T14:37:55.444Z"
   },
   {
    "duration": 4,
    "start_time": "2022-05-04T14:37:55.471Z"
   },
   {
    "duration": 11,
    "start_time": "2022-05-04T14:37:55.477Z"
   },
   {
    "duration": 4,
    "start_time": "2022-05-04T14:37:55.490Z"
   },
   {
    "duration": 60,
    "start_time": "2022-05-04T14:37:55.495Z"
   },
   {
    "duration": 23,
    "start_time": "2022-05-04T14:37:55.557Z"
   },
   {
    "duration": 10,
    "start_time": "2022-05-04T14:37:55.582Z"
   },
   {
    "duration": 17,
    "start_time": "2022-05-04T14:37:55.594Z"
   },
   {
    "duration": 9,
    "start_time": "2022-05-04T14:37:55.612Z"
   },
   {
    "duration": 16,
    "start_time": "2022-05-04T14:37:58.095Z"
   },
   {
    "duration": 18,
    "start_time": "2022-05-04T14:43:49.501Z"
   },
   {
    "duration": 52,
    "start_time": "2022-05-04T14:44:04.152Z"
   },
   {
    "duration": 29,
    "start_time": "2022-05-04T14:44:04.206Z"
   },
   {
    "duration": 23,
    "start_time": "2022-05-04T14:44:04.261Z"
   },
   {
    "duration": 23,
    "start_time": "2022-05-04T14:44:04.286Z"
   },
   {
    "duration": 18,
    "start_time": "2022-05-04T14:44:04.311Z"
   },
   {
    "duration": 16,
    "start_time": "2022-05-04T14:44:04.331Z"
   },
   {
    "duration": 56,
    "start_time": "2022-05-04T14:44:04.349Z"
   },
   {
    "duration": 25,
    "start_time": "2022-05-04T14:44:04.407Z"
   },
   {
    "duration": 25,
    "start_time": "2022-05-04T14:44:04.434Z"
   },
   {
    "duration": 22,
    "start_time": "2022-05-04T14:44:04.461Z"
   },
   {
    "duration": 22,
    "start_time": "2022-05-04T14:44:04.484Z"
   },
   {
    "duration": 17,
    "start_time": "2022-05-04T14:44:05.852Z"
   },
   {
    "duration": 19,
    "start_time": "2022-05-04T14:45:39.906Z"
   },
   {
    "duration": 55,
    "start_time": "2022-05-04T14:46:16.263Z"
   },
   {
    "duration": 25,
    "start_time": "2022-05-04T14:46:16.320Z"
   },
   {
    "duration": 17,
    "start_time": "2022-05-04T14:46:16.347Z"
   },
   {
    "duration": 5,
    "start_time": "2022-05-04T14:46:16.367Z"
   },
   {
    "duration": 11,
    "start_time": "2022-05-04T14:46:16.374Z"
   },
   {
    "duration": 4,
    "start_time": "2022-05-04T14:46:16.387Z"
   },
   {
    "duration": 68,
    "start_time": "2022-05-04T14:46:16.393Z"
   },
   {
    "duration": 24,
    "start_time": "2022-05-04T14:46:16.463Z"
   },
   {
    "duration": 10,
    "start_time": "2022-05-04T14:46:16.489Z"
   },
   {
    "duration": 22,
    "start_time": "2022-05-04T14:46:16.500Z"
   },
   {
    "duration": 6,
    "start_time": "2022-05-04T14:46:16.524Z"
   },
   {
    "duration": 45,
    "start_time": "2022-05-04T14:46:17.556Z"
   },
   {
    "duration": 48,
    "start_time": "2022-05-04T14:47:37.168Z"
   },
   {
    "duration": 23,
    "start_time": "2022-05-04T14:47:37.218Z"
   },
   {
    "duration": 20,
    "start_time": "2022-05-04T14:47:37.243Z"
   },
   {
    "duration": 6,
    "start_time": "2022-05-04T14:47:37.265Z"
   },
   {
    "duration": 9,
    "start_time": "2022-05-04T14:47:37.742Z"
   },
   {
    "duration": 18,
    "start_time": "2022-05-04T14:47:37.753Z"
   },
   {
    "duration": 49,
    "start_time": "2022-05-04T14:47:37.773Z"
   },
   {
    "duration": 38,
    "start_time": "2022-05-04T14:47:37.833Z"
   },
   {
    "duration": 13,
    "start_time": "2022-05-04T14:47:37.874Z"
   },
   {
    "duration": 28,
    "start_time": "2022-05-04T14:47:37.888Z"
   },
   {
    "duration": 19,
    "start_time": "2022-05-04T14:47:37.918Z"
   },
   {
    "duration": 30,
    "start_time": "2022-05-04T14:47:38.508Z"
   },
   {
    "duration": 31,
    "start_time": "2022-05-04T14:47:41.902Z"
   },
   {
    "duration": 52,
    "start_time": "2022-05-04T14:47:48.825Z"
   },
   {
    "duration": 24,
    "start_time": "2022-05-04T14:47:48.879Z"
   },
   {
    "duration": 15,
    "start_time": "2022-05-04T14:47:48.906Z"
   },
   {
    "duration": 18,
    "start_time": "2022-05-04T14:47:48.923Z"
   },
   {
    "duration": 14,
    "start_time": "2022-05-04T14:47:48.955Z"
   },
   {
    "duration": 12,
    "start_time": "2022-05-04T14:47:48.971Z"
   },
   {
    "duration": 54,
    "start_time": "2022-05-04T14:47:48.986Z"
   },
   {
    "duration": 23,
    "start_time": "2022-05-04T14:47:49.042Z"
   },
   {
    "duration": 13,
    "start_time": "2022-05-04T14:47:49.068Z"
   },
   {
    "duration": 36,
    "start_time": "2022-05-04T14:47:49.083Z"
   },
   {
    "duration": 16,
    "start_time": "2022-05-04T14:47:49.121Z"
   },
   {
    "duration": 31,
    "start_time": "2022-05-04T14:47:50.498Z"
   },
   {
    "duration": 17,
    "start_time": "2022-05-04T14:48:22.102Z"
   },
   {
    "duration": 54,
    "start_time": "2022-05-04T14:48:54.277Z"
   },
   {
    "duration": 23,
    "start_time": "2022-05-04T14:48:54.333Z"
   },
   {
    "duration": 14,
    "start_time": "2022-05-04T14:48:54.357Z"
   },
   {
    "duration": 5,
    "start_time": "2022-05-04T14:48:54.376Z"
   },
   {
    "duration": 11,
    "start_time": "2022-05-04T14:48:54.383Z"
   },
   {
    "duration": 4,
    "start_time": "2022-05-04T14:48:54.396Z"
   },
   {
    "duration": 68,
    "start_time": "2022-05-04T14:48:54.401Z"
   },
   {
    "duration": 23,
    "start_time": "2022-05-04T14:48:54.476Z"
   },
   {
    "duration": 10,
    "start_time": "2022-05-04T14:48:54.501Z"
   },
   {
    "duration": 13,
    "start_time": "2022-05-04T14:48:54.513Z"
   },
   {
    "duration": 26,
    "start_time": "2022-05-04T14:48:54.528Z"
   },
   {
    "duration": 44,
    "start_time": "2022-05-04T14:48:55.735Z"
   },
   {
    "duration": 18,
    "start_time": "2022-05-04T14:51:17.222Z"
   },
   {
    "duration": 25,
    "start_time": "2022-05-04T14:51:52.117Z"
   },
   {
    "duration": 73,
    "start_time": "2022-05-04T14:52:09.213Z"
   },
   {
    "duration": 30,
    "start_time": "2022-05-04T14:52:09.289Z"
   },
   {
    "duration": 20,
    "start_time": "2022-05-04T14:52:09.321Z"
   },
   {
    "duration": 16,
    "start_time": "2022-05-04T14:52:09.343Z"
   },
   {
    "duration": 13,
    "start_time": "2022-05-04T14:52:09.361Z"
   },
   {
    "duration": 4,
    "start_time": "2022-05-04T14:52:09.375Z"
   },
   {
    "duration": 33,
    "start_time": "2022-05-04T14:52:09.381Z"
   },
   {
    "duration": 53,
    "start_time": "2022-05-04T14:52:09.416Z"
   },
   {
    "duration": 11,
    "start_time": "2022-05-04T14:52:09.471Z"
   },
   {
    "duration": 8,
    "start_time": "2022-05-04T14:52:09.790Z"
   },
   {
    "duration": 7,
    "start_time": "2022-05-04T14:52:09.800Z"
   },
   {
    "duration": 19,
    "start_time": "2022-05-04T14:52:09.808Z"
   },
   {
    "duration": 63,
    "start_time": "2022-05-04T14:53:00.035Z"
   },
   {
    "duration": 26,
    "start_time": "2022-05-04T14:53:00.100Z"
   },
   {
    "duration": 34,
    "start_time": "2022-05-04T14:53:00.128Z"
   },
   {
    "duration": 13,
    "start_time": "2022-05-04T14:53:00.164Z"
   },
   {
    "duration": 31,
    "start_time": "2022-05-04T14:53:00.179Z"
   },
   {
    "duration": 17,
    "start_time": "2022-05-04T14:53:00.211Z"
   },
   {
    "duration": 52,
    "start_time": "2022-05-04T14:53:00.229Z"
   },
   {
    "duration": 51,
    "start_time": "2022-05-04T14:53:00.282Z"
   },
   {
    "duration": 42,
    "start_time": "2022-05-04T14:53:00.335Z"
   },
   {
    "duration": 30,
    "start_time": "2022-05-04T14:53:00.380Z"
   },
   {
    "duration": 21,
    "start_time": "2022-05-04T14:53:00.412Z"
   },
   {
    "duration": 54,
    "start_time": "2022-05-04T14:53:00.434Z"
   },
   {
    "duration": 24,
    "start_time": "2022-05-04T14:53:06.471Z"
   },
   {
    "duration": 23,
    "start_time": "2022-05-04T14:53:12.865Z"
   },
   {
    "duration": 75,
    "start_time": "2022-05-04T14:53:38.910Z"
   },
   {
    "duration": 33,
    "start_time": "2022-05-04T14:53:38.987Z"
   },
   {
    "duration": 41,
    "start_time": "2022-05-04T14:53:39.022Z"
   },
   {
    "duration": 7,
    "start_time": "2022-05-04T14:53:39.066Z"
   },
   {
    "duration": 33,
    "start_time": "2022-05-04T14:53:39.074Z"
   },
   {
    "duration": 20,
    "start_time": "2022-05-04T14:53:39.109Z"
   },
   {
    "duration": 54,
    "start_time": "2022-05-04T14:53:39.130Z"
   },
   {
    "duration": 23,
    "start_time": "2022-05-04T14:53:39.185Z"
   },
   {
    "duration": 27,
    "start_time": "2022-05-04T14:53:39.210Z"
   },
   {
    "duration": 36,
    "start_time": "2022-05-04T14:53:39.240Z"
   },
   {
    "duration": 14,
    "start_time": "2022-05-04T14:53:39.277Z"
   },
   {
    "duration": 36,
    "start_time": "2022-05-04T14:53:39.292Z"
   },
   {
    "duration": 28,
    "start_time": "2022-05-04T14:53:39.330Z"
   },
   {
    "duration": 35,
    "start_time": "2022-05-04T14:53:39.360Z"
   },
   {
    "duration": 26,
    "start_time": "2022-05-04T14:53:39.396Z"
   },
   {
    "duration": 21,
    "start_time": "2022-05-04T14:53:39.423Z"
   },
   {
    "duration": 28,
    "start_time": "2022-05-04T14:53:39.455Z"
   },
   {
    "duration": 24,
    "start_time": "2022-05-04T14:53:39.484Z"
   },
   {
    "duration": 42,
    "start_time": "2022-05-04T14:53:39.509Z"
   },
   {
    "duration": 19,
    "start_time": "2022-05-04T14:53:39.553Z"
   },
   {
    "duration": 10,
    "start_time": "2022-05-04T14:53:39.574Z"
   },
   {
    "duration": 14,
    "start_time": "2022-05-04T14:53:39.586Z"
   },
   {
    "duration": 27,
    "start_time": "2022-05-04T14:53:39.601Z"
   },
   {
    "duration": 8,
    "start_time": "2022-05-04T14:53:39.629Z"
   },
   {
    "duration": 44,
    "start_time": "2022-05-04T14:53:39.638Z"
   },
   {
    "duration": 42,
    "start_time": "2022-05-04T14:53:39.684Z"
   },
   {
    "duration": 11,
    "start_time": "2022-05-04T14:53:39.728Z"
   },
   {
    "duration": 23,
    "start_time": "2022-05-04T14:53:39.742Z"
   },
   {
    "duration": 15,
    "start_time": "2022-05-04T14:53:39.766Z"
   },
   {
    "duration": 20,
    "start_time": "2022-05-04T14:53:39.782Z"
   },
   {
    "duration": 28,
    "start_time": "2022-05-04T14:53:39.803Z"
   },
   {
    "duration": 21,
    "start_time": "2022-05-04T14:53:39.833Z"
   },
   {
    "duration": 41,
    "start_time": "2022-05-04T14:53:39.855Z"
   },
   {
    "duration": 16,
    "start_time": "2022-05-04T14:53:39.898Z"
   },
   {
    "duration": 33,
    "start_time": "2022-05-04T14:53:39.916Z"
   },
   {
    "duration": 30,
    "start_time": "2022-05-04T14:53:39.951Z"
   },
   {
    "duration": 7,
    "start_time": "2022-05-04T14:53:39.983Z"
   },
   {
    "duration": 31,
    "start_time": "2022-05-04T14:53:39.991Z"
   },
   {
    "duration": 18,
    "start_time": "2022-05-04T14:54:16.479Z"
   },
   {
    "duration": 51,
    "start_time": "2022-05-04T14:54:21.751Z"
   },
   {
    "duration": 25,
    "start_time": "2022-05-04T14:54:21.804Z"
   },
   {
    "duration": 27,
    "start_time": "2022-05-04T14:54:21.831Z"
   },
   {
    "duration": 5,
    "start_time": "2022-05-04T14:54:21.860Z"
   },
   {
    "duration": 9,
    "start_time": "2022-05-04T14:54:21.867Z"
   },
   {
    "duration": 4,
    "start_time": "2022-05-04T14:54:21.878Z"
   },
   {
    "duration": 38,
    "start_time": "2022-05-04T14:54:21.883Z"
   },
   {
    "duration": 30,
    "start_time": "2022-05-04T14:54:21.956Z"
   },
   {
    "duration": 15,
    "start_time": "2022-05-04T14:54:21.988Z"
   },
   {
    "duration": 9,
    "start_time": "2022-05-04T14:54:22.006Z"
   },
   {
    "duration": 4,
    "start_time": "2022-05-04T14:54:22.016Z"
   },
   {
    "duration": 45,
    "start_time": "2022-05-04T14:54:22.022Z"
   },
   {
    "duration": 17,
    "start_time": "2022-05-04T14:54:26.713Z"
   },
   {
    "duration": 57,
    "start_time": "2022-05-04T15:01:04.889Z"
   },
   {
    "duration": 24,
    "start_time": "2022-05-04T15:01:04.948Z"
   },
   {
    "duration": 16,
    "start_time": "2022-05-04T15:01:04.982Z"
   },
   {
    "duration": 19,
    "start_time": "2022-05-04T15:01:05.000Z"
   },
   {
    "duration": 25,
    "start_time": "2022-05-04T15:01:05.021Z"
   },
   {
    "duration": 16,
    "start_time": "2022-05-04T15:01:05.048Z"
   },
   {
    "duration": 70,
    "start_time": "2022-05-04T15:01:05.067Z"
   },
   {
    "duration": 40,
    "start_time": "2022-05-04T15:01:05.139Z"
   },
   {
    "duration": 14,
    "start_time": "2022-05-04T15:01:05.181Z"
   },
   {
    "duration": 41,
    "start_time": "2022-05-04T15:01:05.197Z"
   },
   {
    "duration": 23,
    "start_time": "2022-05-04T15:01:05.240Z"
   },
   {
    "duration": 39,
    "start_time": "2022-05-04T15:01:05.265Z"
   },
   {
    "duration": 24,
    "start_time": "2022-05-04T15:01:05.306Z"
   },
   {
    "duration": 31,
    "start_time": "2022-05-04T15:01:05.332Z"
   },
   {
    "duration": 28,
    "start_time": "2022-05-04T15:01:05.365Z"
   },
   {
    "duration": 18,
    "start_time": "2022-05-04T15:01:05.395Z"
   },
   {
    "duration": 46,
    "start_time": "2022-05-04T15:01:05.415Z"
   },
   {
    "duration": 23,
    "start_time": "2022-05-04T15:01:05.462Z"
   },
   {
    "duration": 27,
    "start_time": "2022-05-04T15:01:05.487Z"
   },
   {
    "duration": 8,
    "start_time": "2022-05-04T15:01:05.516Z"
   },
   {
    "duration": 17,
    "start_time": "2022-05-04T15:01:05.526Z"
   },
   {
    "duration": 13,
    "start_time": "2022-05-04T15:01:05.545Z"
   },
   {
    "duration": 33,
    "start_time": "2022-05-04T15:01:05.560Z"
   },
   {
    "duration": 7,
    "start_time": "2022-05-04T15:01:05.595Z"
   },
   {
    "duration": 36,
    "start_time": "2022-05-04T15:01:05.603Z"
   },
   {
    "duration": 34,
    "start_time": "2022-05-04T15:01:05.641Z"
   },
   {
    "duration": 7,
    "start_time": "2022-05-04T15:01:05.677Z"
   },
   {
    "duration": 28,
    "start_time": "2022-05-04T15:01:05.686Z"
   },
   {
    "duration": 14,
    "start_time": "2022-05-04T15:01:05.715Z"
   },
   {
    "duration": 23,
    "start_time": "2022-05-04T15:01:05.730Z"
   },
   {
    "duration": 27,
    "start_time": "2022-05-04T15:01:05.755Z"
   },
   {
    "duration": 31,
    "start_time": "2022-05-04T15:01:05.783Z"
   },
   {
    "duration": 47,
    "start_time": "2022-05-04T15:01:05.815Z"
   },
   {
    "duration": 12,
    "start_time": "2022-05-04T15:01:05.865Z"
   },
   {
    "duration": 38,
    "start_time": "2022-05-04T15:01:05.879Z"
   },
   {
    "duration": 35,
    "start_time": "2022-05-04T15:01:05.919Z"
   },
   {
    "duration": 19,
    "start_time": "2022-05-04T15:01:05.956Z"
   },
   {
    "duration": 24,
    "start_time": "2022-05-04T15:01:05.977Z"
   },
   {
    "duration": 18,
    "start_time": "2022-05-04T15:01:23.541Z"
   },
   {
    "duration": 52,
    "start_time": "2022-05-04T15:01:34.109Z"
   },
   {
    "duration": 22,
    "start_time": "2022-05-04T15:01:34.163Z"
   },
   {
    "duration": 57,
    "start_time": "2022-05-04T15:01:34.187Z"
   },
   {
    "duration": 5,
    "start_time": "2022-05-04T15:01:34.246Z"
   },
   {
    "duration": 18,
    "start_time": "2022-05-04T15:01:34.253Z"
   },
   {
    "duration": 5,
    "start_time": "2022-05-04T15:01:34.272Z"
   },
   {
    "duration": 57,
    "start_time": "2022-05-04T15:01:34.279Z"
   },
   {
    "duration": 44,
    "start_time": "2022-05-04T15:01:34.338Z"
   },
   {
    "duration": 15,
    "start_time": "2022-05-04T15:01:34.384Z"
   },
   {
    "duration": 9,
    "start_time": "2022-05-04T15:01:34.402Z"
   },
   {
    "duration": 8,
    "start_time": "2022-05-04T15:01:34.413Z"
   },
   {
    "duration": 49,
    "start_time": "2022-05-04T15:01:34.423Z"
   },
   {
    "duration": 25,
    "start_time": "2022-05-04T15:01:38.556Z"
   },
   {
    "duration": 17,
    "start_time": "2022-05-04T15:07:03.113Z"
   },
   {
    "duration": 51,
    "start_time": "2022-05-04T15:07:13.233Z"
   },
   {
    "duration": 24,
    "start_time": "2022-05-04T15:07:13.287Z"
   },
   {
    "duration": 16,
    "start_time": "2022-05-04T15:07:13.312Z"
   },
   {
    "duration": 27,
    "start_time": "2022-05-04T15:07:13.330Z"
   },
   {
    "duration": 12,
    "start_time": "2022-05-04T15:07:13.358Z"
   },
   {
    "duration": 3,
    "start_time": "2022-05-04T15:07:13.372Z"
   },
   {
    "duration": 39,
    "start_time": "2022-05-04T15:07:13.378Z"
   },
   {
    "duration": 55,
    "start_time": "2022-05-04T15:07:13.419Z"
   },
   {
    "duration": 11,
    "start_time": "2022-05-04T15:07:13.476Z"
   },
   {
    "duration": 8,
    "start_time": "2022-05-04T15:07:13.489Z"
   },
   {
    "duration": 6,
    "start_time": "2022-05-04T15:07:13.499Z"
   },
   {
    "duration": 90,
    "start_time": "2022-05-04T15:07:13.506Z"
   },
   {
    "duration": 3,
    "start_time": "2022-05-04T15:07:13.597Z"
   },
   {
    "duration": 6,
    "start_time": "2022-05-04T15:07:13.602Z"
   },
   {
    "duration": 4,
    "start_time": "2022-05-04T15:07:13.611Z"
   },
   {
    "duration": 4,
    "start_time": "2022-05-04T15:07:13.617Z"
   },
   {
    "duration": 5,
    "start_time": "2022-05-04T15:07:13.623Z"
   },
   {
    "duration": 47,
    "start_time": "2022-05-04T15:07:13.630Z"
   },
   {
    "duration": 19,
    "start_time": "2022-05-04T15:07:15.574Z"
   },
   {
    "duration": 79,
    "start_time": "2022-05-04T15:21:16.154Z"
   },
   {
    "duration": 47,
    "start_time": "2022-05-04T15:21:16.236Z"
   },
   {
    "duration": 34,
    "start_time": "2022-05-04T15:21:16.285Z"
   },
   {
    "duration": 8,
    "start_time": "2022-05-04T15:21:16.322Z"
   },
   {
    "duration": 24,
    "start_time": "2022-05-04T15:21:16.332Z"
   },
   {
    "duration": 13,
    "start_time": "2022-05-04T15:21:16.358Z"
   },
   {
    "duration": 61,
    "start_time": "2022-05-04T15:21:17.926Z"
   },
   {
    "duration": 58,
    "start_time": "2022-05-04T15:22:59.563Z"
   },
   {
    "duration": 1799,
    "start_time": "2022-05-04T15:37:34.837Z"
   },
   {
    "duration": 81,
    "start_time": "2022-05-04T15:37:47.947Z"
   },
   {
    "duration": 33,
    "start_time": "2022-05-04T15:37:48.031Z"
   },
   {
    "duration": 15,
    "start_time": "2022-05-04T15:37:48.066Z"
   },
   {
    "duration": 5,
    "start_time": "2022-05-04T15:37:48.083Z"
   },
   {
    "duration": 16,
    "start_time": "2022-05-04T15:37:48.089Z"
   },
   {
    "duration": 1787,
    "start_time": "2022-05-04T15:37:50.884Z"
   },
   {
    "duration": 1802,
    "start_time": "2022-05-04T15:38:25.781Z"
   },
   {
    "duration": 8,
    "start_time": "2022-05-04T15:39:29.440Z"
   },
   {
    "duration": 77,
    "start_time": "2022-05-04T15:39:39.187Z"
   },
   {
    "duration": 36,
    "start_time": "2022-05-04T15:39:39.267Z"
   },
   {
    "duration": 21,
    "start_time": "2022-05-04T15:39:39.305Z"
   },
   {
    "duration": 5,
    "start_time": "2022-05-04T15:39:39.329Z"
   },
   {
    "duration": 26,
    "start_time": "2022-05-04T15:39:39.336Z"
   },
   {
    "duration": 7,
    "start_time": "2022-05-04T15:39:39.364Z"
   },
   {
    "duration": 5,
    "start_time": "2022-05-04T15:39:39.373Z"
   },
   {
    "duration": 37,
    "start_time": "2022-05-04T15:39:39.379Z"
   },
   {
    "duration": 59,
    "start_time": "2022-05-04T15:39:39.418Z"
   },
   {
    "duration": 10,
    "start_time": "2022-05-04T15:39:39.480Z"
   },
   {
    "duration": 8,
    "start_time": "2022-05-04T15:39:39.492Z"
   },
   {
    "duration": 4,
    "start_time": "2022-05-04T15:39:39.502Z"
   },
   {
    "duration": 59,
    "start_time": "2022-05-04T15:39:39.508Z"
   },
   {
    "duration": 3,
    "start_time": "2022-05-04T15:39:39.569Z"
   },
   {
    "duration": 5,
    "start_time": "2022-05-04T15:39:39.574Z"
   },
   {
    "duration": 4,
    "start_time": "2022-05-04T15:39:39.581Z"
   },
   {
    "duration": 6,
    "start_time": "2022-05-04T15:39:39.586Z"
   },
   {
    "duration": 6,
    "start_time": "2022-05-04T15:39:39.593Z"
   },
   {
    "duration": 53,
    "start_time": "2022-05-04T15:39:39.601Z"
   },
   {
    "duration": 21,
    "start_time": "2022-05-04T15:39:39.656Z"
   },
   {
    "duration": 16,
    "start_time": "2022-05-04T15:39:39.679Z"
   },
   {
    "duration": 4,
    "start_time": "2022-05-04T15:39:39.698Z"
   },
   {
    "duration": 5,
    "start_time": "2022-05-04T15:39:39.704Z"
   },
   {
    "duration": 7,
    "start_time": "2022-05-04T15:39:39.710Z"
   },
   {
    "duration": 47,
    "start_time": "2022-05-04T15:39:39.718Z"
   },
   {
    "duration": 3,
    "start_time": "2022-05-04T15:39:39.768Z"
   },
   {
    "duration": 512,
    "start_time": "2022-05-04T15:39:39.773Z"
   },
   {
    "duration": 0,
    "start_time": "2022-05-04T15:39:40.288Z"
   },
   {
    "duration": 0,
    "start_time": "2022-05-04T15:39:40.289Z"
   },
   {
    "duration": 0,
    "start_time": "2022-05-04T15:39:40.290Z"
   },
   {
    "duration": 0,
    "start_time": "2022-05-04T15:39:40.292Z"
   },
   {
    "duration": 0,
    "start_time": "2022-05-04T15:39:40.293Z"
   },
   {
    "duration": 0,
    "start_time": "2022-05-04T15:39:40.294Z"
   },
   {
    "duration": 0,
    "start_time": "2022-05-04T15:39:40.295Z"
   },
   {
    "duration": 0,
    "start_time": "2022-05-04T15:39:40.297Z"
   },
   {
    "duration": 0,
    "start_time": "2022-05-04T15:39:40.298Z"
   },
   {
    "duration": 0,
    "start_time": "2022-05-04T15:39:40.300Z"
   },
   {
    "duration": 0,
    "start_time": "2022-05-04T15:39:40.301Z"
   },
   {
    "duration": 0,
    "start_time": "2022-05-04T15:39:40.302Z"
   },
   {
    "duration": 0,
    "start_time": "2022-05-04T15:39:40.303Z"
   },
   {
    "duration": 57,
    "start_time": "2022-05-04T15:41:00.159Z"
   },
   {
    "duration": 82,
    "start_time": "2022-05-04T15:41:05.825Z"
   },
   {
    "duration": 32,
    "start_time": "2022-05-04T15:41:05.909Z"
   },
   {
    "duration": 15,
    "start_time": "2022-05-04T15:41:05.954Z"
   },
   {
    "duration": 4,
    "start_time": "2022-05-04T15:41:05.971Z"
   },
   {
    "duration": 18,
    "start_time": "2022-05-04T15:41:05.977Z"
   },
   {
    "duration": 37,
    "start_time": "2022-05-04T15:41:07.659Z"
   },
   {
    "duration": 57,
    "start_time": "2022-05-04T15:41:56.069Z"
   },
   {
    "duration": 26,
    "start_time": "2022-05-04T15:41:56.129Z"
   },
   {
    "duration": 18,
    "start_time": "2022-05-04T15:41:56.157Z"
   },
   {
    "duration": 22,
    "start_time": "2022-05-04T15:41:56.178Z"
   },
   {
    "duration": 50,
    "start_time": "2022-05-04T15:41:56.202Z"
   },
   {
    "duration": 54,
    "start_time": "2022-05-04T15:41:57.761Z"
   },
   {
    "duration": 52,
    "start_time": "2022-05-04T15:42:04.139Z"
   },
   {
    "duration": 54,
    "start_time": "2022-05-04T15:42:31.792Z"
   },
   {
    "duration": 80,
    "start_time": "2022-05-04T15:43:19.657Z"
   },
   {
    "duration": 42,
    "start_time": "2022-05-04T15:43:19.740Z"
   },
   {
    "duration": 30,
    "start_time": "2022-05-04T15:43:19.784Z"
   },
   {
    "duration": 29,
    "start_time": "2022-05-04T15:43:19.816Z"
   },
   {
    "duration": 41,
    "start_time": "2022-05-04T15:43:19.847Z"
   },
   {
    "duration": 36,
    "start_time": "2022-05-04T15:43:21.549Z"
   },
   {
    "duration": 55,
    "start_time": "2022-05-04T15:43:28.604Z"
   },
   {
    "duration": 26,
    "start_time": "2022-05-04T15:43:28.661Z"
   },
   {
    "duration": 53,
    "start_time": "2022-05-04T15:43:28.688Z"
   },
   {
    "duration": 21,
    "start_time": "2022-05-04T15:43:28.744Z"
   },
   {
    "duration": 48,
    "start_time": "2022-05-04T15:43:28.767Z"
   },
   {
    "duration": 67,
    "start_time": "2022-05-04T15:43:28.817Z"
   },
   {
    "duration": 4,
    "start_time": "2022-05-04T15:43:28.886Z"
   },
   {
    "duration": 83,
    "start_time": "2022-05-04T15:43:28.892Z"
   },
   {
    "duration": 24,
    "start_time": "2022-05-04T15:43:28.977Z"
   },
   {
    "duration": 34,
    "start_time": "2022-05-04T15:43:29.005Z"
   },
   {
    "duration": 17,
    "start_time": "2022-05-04T15:43:29.041Z"
   },
   {
    "duration": 19,
    "start_time": "2022-05-04T15:43:29.061Z"
   },
   {
    "duration": 66,
    "start_time": "2022-05-04T15:43:29.082Z"
   },
   {
    "duration": 3,
    "start_time": "2022-05-04T15:43:29.150Z"
   },
   {
    "duration": 62,
    "start_time": "2022-05-04T15:43:29.156Z"
   },
   {
    "duration": 44,
    "start_time": "2022-05-04T15:43:29.220Z"
   },
   {
    "duration": 19,
    "start_time": "2022-05-04T15:43:29.266Z"
   },
   {
    "duration": 24,
    "start_time": "2022-05-04T15:43:29.287Z"
   },
   {
    "duration": 69,
    "start_time": "2022-05-04T15:43:29.313Z"
   },
   {
    "duration": 32,
    "start_time": "2022-05-04T15:43:29.384Z"
   },
   {
    "duration": 28,
    "start_time": "2022-05-04T15:43:29.418Z"
   },
   {
    "duration": 25,
    "start_time": "2022-05-04T15:43:29.455Z"
   },
   {
    "duration": 26,
    "start_time": "2022-05-04T15:43:29.483Z"
   },
   {
    "duration": 24,
    "start_time": "2022-05-04T15:43:29.512Z"
   },
   {
    "duration": 44,
    "start_time": "2022-05-04T15:43:29.538Z"
   },
   {
    "duration": 18,
    "start_time": "2022-05-04T15:43:29.583Z"
   },
   {
    "duration": 602,
    "start_time": "2022-05-04T15:43:29.603Z"
   },
   {
    "duration": 0,
    "start_time": "2022-05-04T15:43:30.207Z"
   },
   {
    "duration": 0,
    "start_time": "2022-05-04T15:43:30.208Z"
   },
   {
    "duration": 0,
    "start_time": "2022-05-04T15:43:30.209Z"
   },
   {
    "duration": 0,
    "start_time": "2022-05-04T15:43:30.210Z"
   },
   {
    "duration": 0,
    "start_time": "2022-05-04T15:43:30.211Z"
   },
   {
    "duration": 0,
    "start_time": "2022-05-04T15:43:30.212Z"
   },
   {
    "duration": 0,
    "start_time": "2022-05-04T15:43:30.214Z"
   },
   {
    "duration": 0,
    "start_time": "2022-05-04T15:43:30.215Z"
   },
   {
    "duration": 0,
    "start_time": "2022-05-04T15:43:30.216Z"
   },
   {
    "duration": 0,
    "start_time": "2022-05-04T15:43:30.217Z"
   },
   {
    "duration": 0,
    "start_time": "2022-05-04T15:43:30.218Z"
   },
   {
    "duration": 0,
    "start_time": "2022-05-04T15:43:30.218Z"
   },
   {
    "duration": 0,
    "start_time": "2022-05-04T15:43:30.219Z"
   },
   {
    "duration": 37,
    "start_time": "2022-05-04T15:44:41.284Z"
   },
   {
    "duration": 54,
    "start_time": "2022-05-04T15:44:57.874Z"
   },
   {
    "duration": 25,
    "start_time": "2022-05-04T15:44:57.930Z"
   },
   {
    "duration": 15,
    "start_time": "2022-05-04T15:44:57.970Z"
   },
   {
    "duration": 5,
    "start_time": "2022-05-04T15:44:57.988Z"
   },
   {
    "duration": 19,
    "start_time": "2022-05-04T15:44:57.994Z"
   },
   {
    "duration": 4,
    "start_time": "2022-05-04T15:44:59.693Z"
   },
   {
    "duration": 6,
    "start_time": "2022-05-04T15:45:18.962Z"
   },
   {
    "duration": 54,
    "start_time": "2022-05-04T15:45:23.593Z"
   },
   {
    "duration": 25,
    "start_time": "2022-05-04T15:45:23.649Z"
   },
   {
    "duration": 45,
    "start_time": "2022-05-04T15:45:23.676Z"
   },
   {
    "duration": 57,
    "start_time": "2022-05-04T15:45:40.383Z"
   },
   {
    "duration": 26,
    "start_time": "2022-05-04T15:45:40.442Z"
   },
   {
    "duration": 18,
    "start_time": "2022-05-04T15:45:40.470Z"
   },
   {
    "duration": 5,
    "start_time": "2022-05-04T15:45:40.491Z"
   },
   {
    "duration": 10,
    "start_time": "2022-05-04T15:45:40.499Z"
   },
   {
    "duration": 46,
    "start_time": "2022-05-04T15:45:40.511Z"
   },
   {
    "duration": 5,
    "start_time": "2022-05-04T15:45:40.559Z"
   },
   {
    "duration": 42,
    "start_time": "2022-05-04T15:45:40.567Z"
   },
   {
    "duration": 55,
    "start_time": "2022-05-04T15:45:40.611Z"
   },
   {
    "duration": 11,
    "start_time": "2022-05-04T15:45:40.668Z"
   },
   {
    "duration": 8,
    "start_time": "2022-05-04T15:45:40.682Z"
   },
   {
    "duration": 10,
    "start_time": "2022-05-04T15:45:40.691Z"
   },
   {
    "duration": 61,
    "start_time": "2022-05-04T15:45:40.703Z"
   },
   {
    "duration": 3,
    "start_time": "2022-05-04T15:45:40.766Z"
   },
   {
    "duration": 11,
    "start_time": "2022-05-04T15:45:40.771Z"
   },
   {
    "duration": 5,
    "start_time": "2022-05-04T15:45:40.784Z"
   },
   {
    "duration": 4,
    "start_time": "2022-05-04T15:45:40.792Z"
   },
   {
    "duration": 5,
    "start_time": "2022-05-04T15:45:40.798Z"
   },
   {
    "duration": 54,
    "start_time": "2022-05-04T15:45:40.805Z"
   },
   {
    "duration": 23,
    "start_time": "2022-05-04T15:45:40.860Z"
   },
   {
    "duration": 19,
    "start_time": "2022-05-04T15:45:40.885Z"
   },
   {
    "duration": 6,
    "start_time": "2022-05-04T15:45:40.905Z"
   },
   {
    "duration": 10,
    "start_time": "2022-05-04T15:45:40.913Z"
   },
   {
    "duration": 30,
    "start_time": "2022-05-04T15:45:40.925Z"
   },
   {
    "duration": 18,
    "start_time": "2022-05-04T15:45:40.957Z"
   },
   {
    "duration": 4,
    "start_time": "2022-05-04T15:45:40.977Z"
   },
   {
    "duration": 587,
    "start_time": "2022-05-04T15:45:40.983Z"
   },
   {
    "duration": 0,
    "start_time": "2022-05-04T15:45:41.573Z"
   },
   {
    "duration": 0,
    "start_time": "2022-05-04T15:45:41.574Z"
   },
   {
    "duration": 0,
    "start_time": "2022-05-04T15:45:41.575Z"
   },
   {
    "duration": 0,
    "start_time": "2022-05-04T15:45:41.577Z"
   },
   {
    "duration": 0,
    "start_time": "2022-05-04T15:45:41.578Z"
   },
   {
    "duration": 0,
    "start_time": "2022-05-04T15:45:41.579Z"
   },
   {
    "duration": 0,
    "start_time": "2022-05-04T15:45:41.580Z"
   },
   {
    "duration": 0,
    "start_time": "2022-05-04T15:45:41.581Z"
   },
   {
    "duration": 0,
    "start_time": "2022-05-04T15:45:41.582Z"
   },
   {
    "duration": 0,
    "start_time": "2022-05-04T15:45:41.583Z"
   },
   {
    "duration": 0,
    "start_time": "2022-05-04T15:45:41.585Z"
   },
   {
    "duration": 0,
    "start_time": "2022-05-04T15:45:41.586Z"
   },
   {
    "duration": 0,
    "start_time": "2022-05-04T15:45:41.587Z"
   },
   {
    "duration": 76,
    "start_time": "2022-05-04T15:47:07.916Z"
   },
   {
    "duration": 36,
    "start_time": "2022-05-04T15:47:07.995Z"
   },
   {
    "duration": 28,
    "start_time": "2022-05-04T15:47:08.033Z"
   },
   {
    "duration": 5,
    "start_time": "2022-05-04T15:47:08.064Z"
   },
   {
    "duration": 7,
    "start_time": "2022-05-04T15:47:10.454Z"
   },
   {
    "duration": 10,
    "start_time": "2022-05-04T15:47:39.310Z"
   },
   {
    "duration": 13,
    "start_time": "2022-05-04T15:56:48.003Z"
   },
   {
    "duration": 5,
    "start_time": "2022-05-04T15:57:01.152Z"
   },
   {
    "duration": 5,
    "start_time": "2022-05-04T15:58:01.973Z"
   },
   {
    "duration": 53,
    "start_time": "2022-05-04T15:58:07.769Z"
   },
   {
    "duration": 46,
    "start_time": "2022-05-04T15:58:07.824Z"
   },
   {
    "duration": 23,
    "start_time": "2022-05-04T15:58:07.872Z"
   },
   {
    "duration": 31,
    "start_time": "2022-05-04T15:58:07.897Z"
   },
   {
    "duration": 36,
    "start_time": "2022-05-04T15:58:07.931Z"
   },
   {
    "duration": 4,
    "start_time": "2022-05-04T15:58:10.074Z"
   },
   {
    "duration": 106,
    "start_time": "2022-05-04T15:58:57.127Z"
   },
   {
    "duration": 54,
    "start_time": "2022-05-04T16:02:26.877Z"
   },
   {
    "duration": 22,
    "start_time": "2022-05-04T16:02:26.933Z"
   },
   {
    "duration": 14,
    "start_time": "2022-05-04T16:02:26.957Z"
   },
   {
    "duration": 5,
    "start_time": "2022-05-04T16:02:26.973Z"
   },
   {
    "duration": 4,
    "start_time": "2022-05-04T16:02:30.851Z"
   },
   {
    "duration": 29,
    "start_time": "2022-05-04T16:03:10.098Z"
   },
   {
    "duration": 57,
    "start_time": "2022-05-04T16:03:28.124Z"
   },
   {
    "duration": 24,
    "start_time": "2022-05-04T16:03:28.184Z"
   },
   {
    "duration": 21,
    "start_time": "2022-05-04T16:03:28.210Z"
   },
   {
    "duration": 5,
    "start_time": "2022-05-04T16:03:28.234Z"
   },
   {
    "duration": 5,
    "start_time": "2022-05-04T16:03:28.255Z"
   },
   {
    "duration": 27,
    "start_time": "2022-05-04T16:03:30.026Z"
   },
   {
    "duration": 46,
    "start_time": "2022-05-04T16:04:46.516Z"
   },
   {
    "duration": 52,
    "start_time": "2022-05-04T16:04:54.575Z"
   },
   {
    "duration": 24,
    "start_time": "2022-05-04T16:04:54.629Z"
   },
   {
    "duration": 40,
    "start_time": "2022-05-04T16:04:54.655Z"
   },
   {
    "duration": 16,
    "start_time": "2022-05-04T16:04:54.697Z"
   },
   {
    "duration": 26,
    "start_time": "2022-05-04T16:04:54.715Z"
   },
   {
    "duration": 46,
    "start_time": "2022-05-04T16:04:57.201Z"
   },
   {
    "duration": 50,
    "start_time": "2022-05-04T16:05:52.217Z"
   },
   {
    "duration": 22,
    "start_time": "2022-05-04T16:05:52.269Z"
   },
   {
    "duration": 14,
    "start_time": "2022-05-04T16:05:52.313Z"
   },
   {
    "duration": 21,
    "start_time": "2022-05-04T16:05:52.329Z"
   },
   {
    "duration": 29,
    "start_time": "2022-05-04T16:05:52.351Z"
   },
   {
    "duration": 26,
    "start_time": "2022-05-04T16:05:54.066Z"
   },
   {
    "duration": 53,
    "start_time": "2022-05-04T16:06:21.824Z"
   },
   {
    "duration": 25,
    "start_time": "2022-05-04T16:06:21.879Z"
   },
   {
    "duration": 15,
    "start_time": "2022-05-04T16:06:21.906Z"
   },
   {
    "duration": 5,
    "start_time": "2022-05-04T16:06:21.923Z"
   },
   {
    "duration": 5,
    "start_time": "2022-05-04T16:06:21.991Z"
   },
   {
    "duration": 37,
    "start_time": "2022-05-04T16:06:21.998Z"
   },
   {
    "duration": 5,
    "start_time": "2022-05-04T16:06:22.037Z"
   },
   {
    "duration": 55,
    "start_time": "2022-05-04T16:06:22.044Z"
   },
   {
    "duration": 56,
    "start_time": "2022-05-04T16:06:22.102Z"
   },
   {
    "duration": 11,
    "start_time": "2022-05-04T16:06:22.161Z"
   },
   {
    "duration": 12,
    "start_time": "2022-05-04T16:06:22.174Z"
   },
   {
    "duration": 7,
    "start_time": "2022-05-04T16:06:22.188Z"
   },
   {
    "duration": 30,
    "start_time": "2022-05-04T16:06:22.197Z"
   },
   {
    "duration": 7,
    "start_time": "2022-05-04T16:06:22.229Z"
   },
   {
    "duration": 19,
    "start_time": "2022-05-04T16:06:22.238Z"
   },
   {
    "duration": 7,
    "start_time": "2022-05-04T16:06:22.259Z"
   },
   {
    "duration": 7,
    "start_time": "2022-05-04T16:06:22.268Z"
   },
   {
    "duration": 10,
    "start_time": "2022-05-04T16:06:22.277Z"
   },
   {
    "duration": 55,
    "start_time": "2022-05-04T16:06:22.289Z"
   },
   {
    "duration": 41,
    "start_time": "2022-05-04T16:06:22.346Z"
   },
   {
    "duration": 26,
    "start_time": "2022-05-04T16:06:22.388Z"
   },
   {
    "duration": 9,
    "start_time": "2022-05-04T16:06:22.416Z"
   },
   {
    "duration": 18,
    "start_time": "2022-05-04T16:06:22.426Z"
   },
   {
    "duration": 12,
    "start_time": "2022-05-04T16:06:22.446Z"
   },
   {
    "duration": 23,
    "start_time": "2022-05-04T16:06:22.460Z"
   },
   {
    "duration": 4,
    "start_time": "2022-05-04T16:06:22.485Z"
   },
   {
    "duration": 27,
    "start_time": "2022-05-04T16:06:22.491Z"
   },
   {
    "duration": 40,
    "start_time": "2022-05-04T16:06:22.520Z"
   },
   {
    "duration": 7,
    "start_time": "2022-05-04T16:06:22.562Z"
   },
   {
    "duration": 19,
    "start_time": "2022-05-04T16:06:22.571Z"
   },
   {
    "duration": 13,
    "start_time": "2022-05-04T16:06:22.592Z"
   },
   {
    "duration": 7,
    "start_time": "2022-05-04T16:06:22.606Z"
   },
   {
    "duration": 15,
    "start_time": "2022-05-04T16:06:22.615Z"
   },
   {
    "duration": 47,
    "start_time": "2022-05-04T16:06:22.655Z"
   },
   {
    "duration": 33,
    "start_time": "2022-05-04T16:06:22.704Z"
   },
   {
    "duration": 10,
    "start_time": "2022-05-04T16:06:22.739Z"
   },
   {
    "duration": 22,
    "start_time": "2022-05-04T16:06:22.752Z"
   },
   {
    "duration": 37,
    "start_time": "2022-05-04T16:06:22.776Z"
   },
   {
    "duration": 10,
    "start_time": "2022-05-04T16:06:22.815Z"
   },
   {
    "duration": 17,
    "start_time": "2022-05-04T16:06:22.827Z"
   },
   {
    "duration": 57,
    "start_time": "2022-05-04T16:08:03.302Z"
   },
   {
    "duration": 23,
    "start_time": "2022-05-04T16:08:03.361Z"
   },
   {
    "duration": 15,
    "start_time": "2022-05-04T16:08:03.386Z"
   },
   {
    "duration": 5,
    "start_time": "2022-05-04T16:08:03.403Z"
   },
   {
    "duration": 10,
    "start_time": "2022-05-04T16:08:03.410Z"
   },
   {
    "duration": 46,
    "start_time": "2022-05-04T16:08:03.422Z"
   },
   {
    "duration": 4,
    "start_time": "2022-05-04T16:08:03.470Z"
   },
   {
    "duration": 35,
    "start_time": "2022-05-04T16:08:03.476Z"
   },
   {
    "duration": 49,
    "start_time": "2022-05-04T16:08:03.514Z"
   },
   {
    "duration": 8,
    "start_time": "2022-05-04T16:08:03.565Z"
   },
   {
    "duration": 11,
    "start_time": "2022-05-04T16:08:03.574Z"
   },
   {
    "duration": 4,
    "start_time": "2022-05-04T16:08:03.586Z"
   },
   {
    "duration": 28,
    "start_time": "2022-05-04T16:08:03.591Z"
   },
   {
    "duration": 3,
    "start_time": "2022-05-04T16:08:03.621Z"
   },
   {
    "duration": 7,
    "start_time": "2022-05-04T16:08:03.626Z"
   },
   {
    "duration": 2,
    "start_time": "2022-05-04T16:08:03.655Z"
   },
   {
    "duration": 4,
    "start_time": "2022-05-04T16:08:03.660Z"
   },
   {
    "duration": 4,
    "start_time": "2022-05-04T16:08:03.666Z"
   },
   {
    "duration": 25,
    "start_time": "2022-05-04T16:08:03.671Z"
   },
   {
    "duration": 30,
    "start_time": "2022-05-04T16:08:03.698Z"
   },
   {
    "duration": 40,
    "start_time": "2022-05-04T16:08:03.730Z"
   },
   {
    "duration": 6,
    "start_time": "2022-05-04T16:08:03.772Z"
   },
   {
    "duration": 7,
    "start_time": "2022-05-04T16:08:03.779Z"
   },
   {
    "duration": 8,
    "start_time": "2022-05-04T16:08:03.787Z"
   },
   {
    "duration": 17,
    "start_time": "2022-05-04T16:08:03.797Z"
   },
   {
    "duration": 3,
    "start_time": "2022-05-04T16:08:03.815Z"
   },
   {
    "duration": 45,
    "start_time": "2022-05-04T16:08:03.820Z"
   },
   {
    "duration": 21,
    "start_time": "2022-05-04T16:08:03.866Z"
   },
   {
    "duration": 7,
    "start_time": "2022-05-04T16:08:03.889Z"
   },
   {
    "duration": 17,
    "start_time": "2022-05-04T16:08:03.897Z"
   },
   {
    "duration": 12,
    "start_time": "2022-05-04T16:08:03.915Z"
   },
   {
    "duration": 29,
    "start_time": "2022-05-04T16:08:03.929Z"
   },
   {
    "duration": 9,
    "start_time": "2022-05-04T16:08:03.960Z"
   },
   {
    "duration": 14,
    "start_time": "2022-05-04T16:08:03.971Z"
   },
   {
    "duration": 25,
    "start_time": "2022-05-04T16:08:03.987Z"
   },
   {
    "duration": 9,
    "start_time": "2022-05-04T16:08:04.014Z"
   },
   {
    "duration": 37,
    "start_time": "2022-05-04T16:08:04.025Z"
   },
   {
    "duration": 22,
    "start_time": "2022-05-04T16:08:04.063Z"
   },
   {
    "duration": 8,
    "start_time": "2022-05-04T16:08:04.086Z"
   },
   {
    "duration": 20,
    "start_time": "2022-05-04T16:08:04.095Z"
   },
   {
    "duration": 54,
    "start_time": "2022-05-04T16:09:36.754Z"
   },
   {
    "duration": 24,
    "start_time": "2022-05-04T16:09:36.810Z"
   },
   {
    "duration": 26,
    "start_time": "2022-05-04T16:09:36.836Z"
   },
   {
    "duration": 5,
    "start_time": "2022-05-04T16:09:36.865Z"
   },
   {
    "duration": 7,
    "start_time": "2022-05-04T16:09:36.872Z"
   },
   {
    "duration": 7,
    "start_time": "2022-05-04T16:09:36.880Z"
   },
   {
    "duration": 0,
    "start_time": "2022-05-04T16:09:36.888Z"
   },
   {
    "duration": 0,
    "start_time": "2022-05-04T16:09:36.889Z"
   },
   {
    "duration": 0,
    "start_time": "2022-05-04T16:09:36.891Z"
   },
   {
    "duration": 0,
    "start_time": "2022-05-04T16:09:36.892Z"
   },
   {
    "duration": 0,
    "start_time": "2022-05-04T16:09:36.893Z"
   },
   {
    "duration": 0,
    "start_time": "2022-05-04T16:09:36.894Z"
   },
   {
    "duration": 0,
    "start_time": "2022-05-04T16:09:36.895Z"
   },
   {
    "duration": 0,
    "start_time": "2022-05-04T16:09:36.896Z"
   },
   {
    "duration": 0,
    "start_time": "2022-05-04T16:09:36.898Z"
   },
   {
    "duration": 2,
    "start_time": "2022-05-04T16:09:36.954Z"
   },
   {
    "duration": 8,
    "start_time": "2022-05-04T16:09:36.958Z"
   },
   {
    "duration": 20,
    "start_time": "2022-05-04T16:09:36.968Z"
   },
   {
    "duration": 36,
    "start_time": "2022-05-04T16:09:36.989Z"
   },
   {
    "duration": 22,
    "start_time": "2022-05-04T16:09:37.213Z"
   },
   {
    "duration": 17,
    "start_time": "2022-05-04T16:09:37.237Z"
   },
   {
    "duration": 4,
    "start_time": "2022-05-04T16:09:37.272Z"
   },
   {
    "duration": 14,
    "start_time": "2022-05-04T16:09:37.278Z"
   },
   {
    "duration": 28,
    "start_time": "2022-05-04T16:09:37.293Z"
   },
   {
    "duration": 40,
    "start_time": "2022-05-04T16:09:37.322Z"
   },
   {
    "duration": 4,
    "start_time": "2022-05-04T16:09:37.364Z"
   },
   {
    "duration": 53,
    "start_time": "2022-05-04T16:09:37.369Z"
   },
   {
    "duration": 26,
    "start_time": "2022-05-04T16:09:37.427Z"
   },
   {
    "duration": 21,
    "start_time": "2022-05-04T16:09:37.455Z"
   },
   {
    "duration": 34,
    "start_time": "2022-05-04T16:09:37.478Z"
   },
   {
    "duration": 27,
    "start_time": "2022-05-04T16:09:37.514Z"
   },
   {
    "duration": 6,
    "start_time": "2022-05-04T16:09:37.543Z"
   },
   {
    "duration": 31,
    "start_time": "2022-05-04T16:09:37.550Z"
   },
   {
    "duration": 28,
    "start_time": "2022-05-04T16:09:37.585Z"
   },
   {
    "duration": 31,
    "start_time": "2022-05-04T16:09:37.615Z"
   },
   {
    "duration": 8,
    "start_time": "2022-05-04T16:09:37.648Z"
   },
   {
    "duration": 27,
    "start_time": "2022-05-04T16:09:37.658Z"
   },
   {
    "duration": 27,
    "start_time": "2022-05-04T16:09:37.686Z"
   },
   {
    "duration": 9,
    "start_time": "2022-05-04T16:09:37.715Z"
   },
   {
    "duration": 33,
    "start_time": "2022-05-04T16:09:37.726Z"
   },
   {
    "duration": 78,
    "start_time": "2022-05-04T16:10:18.905Z"
   },
   {
    "duration": 39,
    "start_time": "2022-05-04T16:10:18.986Z"
   },
   {
    "duration": 34,
    "start_time": "2022-05-04T16:10:19.027Z"
   },
   {
    "duration": 6,
    "start_time": "2022-05-04T16:10:19.064Z"
   },
   {
    "duration": 7,
    "start_time": "2022-05-04T16:10:19.072Z"
   },
   {
    "duration": 2,
    "start_time": "2022-05-04T16:10:19.081Z"
   },
   {
    "duration": 8,
    "start_time": "2022-05-04T16:10:19.085Z"
   },
   {
    "duration": 63,
    "start_time": "2022-05-04T16:10:19.095Z"
   },
   {
    "duration": 25,
    "start_time": "2022-05-04T16:10:19.160Z"
   },
   {
    "duration": 22,
    "start_time": "2022-05-04T16:10:19.189Z"
   },
   {
    "duration": 0,
    "start_time": "2022-05-04T16:10:19.213Z"
   },
   {
    "duration": 0,
    "start_time": "2022-05-04T16:10:19.215Z"
   },
   {
    "duration": 0,
    "start_time": "2022-05-04T16:10:19.216Z"
   },
   {
    "duration": 0,
    "start_time": "2022-05-04T16:10:19.218Z"
   },
   {
    "duration": 0,
    "start_time": "2022-05-04T16:10:19.255Z"
   },
   {
    "duration": 0,
    "start_time": "2022-05-04T16:10:19.257Z"
   },
   {
    "duration": 0,
    "start_time": "2022-05-04T16:10:19.258Z"
   },
   {
    "duration": 0,
    "start_time": "2022-05-04T16:10:19.260Z"
   },
   {
    "duration": 0,
    "start_time": "2022-05-04T16:10:19.261Z"
   },
   {
    "duration": 0,
    "start_time": "2022-05-04T16:10:19.263Z"
   },
   {
    "duration": 0,
    "start_time": "2022-05-04T16:10:19.264Z"
   },
   {
    "duration": 0,
    "start_time": "2022-05-04T16:10:19.265Z"
   },
   {
    "duration": 0,
    "start_time": "2022-05-04T16:10:19.267Z"
   },
   {
    "duration": 0,
    "start_time": "2022-05-04T16:10:19.268Z"
   },
   {
    "duration": 0,
    "start_time": "2022-05-04T16:10:19.269Z"
   },
   {
    "duration": 0,
    "start_time": "2022-05-04T16:10:19.271Z"
   },
   {
    "duration": 0,
    "start_time": "2022-05-04T16:10:19.272Z"
   },
   {
    "duration": 0,
    "start_time": "2022-05-04T16:10:19.275Z"
   },
   {
    "duration": 0,
    "start_time": "2022-05-04T16:10:19.275Z"
   },
   {
    "duration": 0,
    "start_time": "2022-05-04T16:10:19.278Z"
   },
   {
    "duration": 0,
    "start_time": "2022-05-04T16:10:19.279Z"
   },
   {
    "duration": 0,
    "start_time": "2022-05-04T16:10:19.280Z"
   },
   {
    "duration": 0,
    "start_time": "2022-05-04T16:10:19.281Z"
   },
   {
    "duration": 0,
    "start_time": "2022-05-04T16:10:19.282Z"
   },
   {
    "duration": 0,
    "start_time": "2022-05-04T16:10:19.283Z"
   },
   {
    "duration": 0,
    "start_time": "2022-05-04T16:10:19.284Z"
   },
   {
    "duration": 0,
    "start_time": "2022-05-04T16:10:19.285Z"
   },
   {
    "duration": 0,
    "start_time": "2022-05-04T16:10:19.286Z"
   },
   {
    "duration": 0,
    "start_time": "2022-05-04T16:10:19.287Z"
   },
   {
    "duration": 0,
    "start_time": "2022-05-04T16:10:19.287Z"
   },
   {
    "duration": 59,
    "start_time": "2022-05-04T16:14:05.692Z"
   },
   {
    "duration": 24,
    "start_time": "2022-05-04T16:14:05.753Z"
   },
   {
    "duration": 30,
    "start_time": "2022-05-04T16:14:05.779Z"
   },
   {
    "duration": 14,
    "start_time": "2022-05-04T16:14:05.811Z"
   },
   {
    "duration": 34,
    "start_time": "2022-05-04T16:14:05.827Z"
   },
   {
    "duration": 34,
    "start_time": "2022-05-04T16:14:05.863Z"
   },
   {
    "duration": 31,
    "start_time": "2022-05-04T16:14:05.899Z"
   },
   {
    "duration": 68,
    "start_time": "2022-05-04T16:14:05.932Z"
   },
   {
    "duration": 24,
    "start_time": "2022-05-04T16:14:06.003Z"
   },
   {
    "duration": 48,
    "start_time": "2022-05-04T16:14:06.029Z"
   },
   {
    "duration": 39,
    "start_time": "2022-05-04T16:14:06.078Z"
   },
   {
    "duration": 26,
    "start_time": "2022-05-04T16:14:06.119Z"
   },
   {
    "duration": 42,
    "start_time": "2022-05-04T16:14:06.147Z"
   },
   {
    "duration": 3,
    "start_time": "2022-05-04T16:14:06.191Z"
   },
   {
    "duration": 30,
    "start_time": "2022-05-04T16:14:06.195Z"
   },
   {
    "duration": 52,
    "start_time": "2022-05-04T16:14:06.226Z"
   },
   {
    "duration": 76,
    "start_time": "2022-05-04T16:14:06.280Z"
   },
   {
    "duration": 54,
    "start_time": "2022-05-04T16:14:06.358Z"
   },
   {
    "duration": 55,
    "start_time": "2022-05-04T16:14:06.414Z"
   },
   {
    "duration": 37,
    "start_time": "2022-05-04T16:14:06.470Z"
   },
   {
    "duration": 35,
    "start_time": "2022-05-04T16:14:06.509Z"
   },
   {
    "duration": 25,
    "start_time": "2022-05-04T16:14:06.546Z"
   },
   {
    "duration": 28,
    "start_time": "2022-05-04T16:14:06.574Z"
   },
   {
    "duration": 20,
    "start_time": "2022-05-04T16:14:06.604Z"
   },
   {
    "duration": 41,
    "start_time": "2022-05-04T16:14:06.626Z"
   },
   {
    "duration": 16,
    "start_time": "2022-05-04T16:14:06.669Z"
   },
   {
    "duration": 41,
    "start_time": "2022-05-04T16:14:06.686Z"
   },
   {
    "duration": 38,
    "start_time": "2022-05-04T16:14:06.729Z"
   },
   {
    "duration": 11,
    "start_time": "2022-05-04T16:14:06.768Z"
   },
   {
    "duration": 35,
    "start_time": "2022-05-04T16:14:06.780Z"
   },
   {
    "duration": 32,
    "start_time": "2022-05-04T16:14:06.817Z"
   },
   {
    "duration": 25,
    "start_time": "2022-05-04T16:14:06.851Z"
   },
   {
    "duration": 38,
    "start_time": "2022-05-04T16:14:06.877Z"
   },
   {
    "duration": 20,
    "start_time": "2022-05-04T16:14:06.917Z"
   },
   {
    "duration": 56,
    "start_time": "2022-05-04T16:14:06.939Z"
   },
   {
    "duration": 20,
    "start_time": "2022-05-04T16:14:06.997Z"
   },
   {
    "duration": 28,
    "start_time": "2022-05-04T16:14:07.018Z"
   },
   {
    "duration": 52,
    "start_time": "2022-05-04T16:14:07.048Z"
   },
   {
    "duration": 34,
    "start_time": "2022-05-04T16:14:07.101Z"
   },
   {
    "duration": 25,
    "start_time": "2022-05-04T16:14:07.136Z"
   },
   {
    "duration": 654,
    "start_time": "2022-05-05T16:49:40.301Z"
   },
   {
    "duration": 53,
    "start_time": "2022-05-05T16:49:40.958Z"
   },
   {
    "duration": 26,
    "start_time": "2022-05-05T16:49:41.013Z"
   },
   {
    "duration": 41,
    "start_time": "2022-05-05T16:49:41.042Z"
   },
   {
    "duration": 8,
    "start_time": "2022-05-05T16:49:41.086Z"
   },
   {
    "duration": 7,
    "start_time": "2022-05-05T16:49:41.097Z"
   },
   {
    "duration": 11,
    "start_time": "2022-05-05T16:49:43.066Z"
   },
   {
    "duration": 90,
    "start_time": "2022-05-05T16:49:58.993Z"
   },
   {
    "duration": 36,
    "start_time": "2022-05-05T16:49:59.086Z"
   },
   {
    "duration": 70,
    "start_time": "2022-05-05T16:49:59.124Z"
   },
   {
    "duration": 15,
    "start_time": "2022-05-05T16:49:59.197Z"
   },
   {
    "duration": 18,
    "start_time": "2022-05-05T16:49:59.214Z"
   },
   {
    "duration": 8,
    "start_time": "2022-05-05T16:49:59.234Z"
   },
   {
    "duration": 41,
    "start_time": "2022-05-05T16:49:59.245Z"
   },
   {
    "duration": 70,
    "start_time": "2022-05-05T16:49:59.289Z"
   },
   {
    "duration": 54,
    "start_time": "2022-05-05T16:49:59.361Z"
   },
   {
    "duration": 225,
    "start_time": "2022-05-05T16:49:59.421Z"
   },
   {
    "duration": 0,
    "start_time": "2022-05-05T16:49:59.649Z"
   },
   {
    "duration": 0,
    "start_time": "2022-05-05T16:49:59.652Z"
   },
   {
    "duration": 0,
    "start_time": "2022-05-05T16:49:59.654Z"
   },
   {
    "duration": 0,
    "start_time": "2022-05-05T16:49:59.656Z"
   },
   {
    "duration": 0,
    "start_time": "2022-05-05T16:49:59.659Z"
   },
   {
    "duration": 0,
    "start_time": "2022-05-05T16:49:59.681Z"
   },
   {
    "duration": 0,
    "start_time": "2022-05-05T16:49:59.683Z"
   },
   {
    "duration": 0,
    "start_time": "2022-05-05T16:49:59.685Z"
   },
   {
    "duration": 0,
    "start_time": "2022-05-05T16:49:59.687Z"
   },
   {
    "duration": 0,
    "start_time": "2022-05-05T16:49:59.689Z"
   },
   {
    "duration": 0,
    "start_time": "2022-05-05T16:49:59.691Z"
   },
   {
    "duration": 0,
    "start_time": "2022-05-05T16:49:59.694Z"
   },
   {
    "duration": 0,
    "start_time": "2022-05-05T16:49:59.696Z"
   },
   {
    "duration": 0,
    "start_time": "2022-05-05T16:49:59.698Z"
   },
   {
    "duration": 0,
    "start_time": "2022-05-05T16:49:59.700Z"
   },
   {
    "duration": 0,
    "start_time": "2022-05-05T16:49:59.702Z"
   },
   {
    "duration": 0,
    "start_time": "2022-05-05T16:49:59.704Z"
   },
   {
    "duration": 0,
    "start_time": "2022-05-05T16:49:59.706Z"
   },
   {
    "duration": 0,
    "start_time": "2022-05-05T16:49:59.708Z"
   },
   {
    "duration": 0,
    "start_time": "2022-05-05T16:49:59.710Z"
   },
   {
    "duration": 0,
    "start_time": "2022-05-05T16:49:59.712Z"
   },
   {
    "duration": 0,
    "start_time": "2022-05-05T16:49:59.714Z"
   },
   {
    "duration": 0,
    "start_time": "2022-05-05T16:49:59.716Z"
   },
   {
    "duration": 0,
    "start_time": "2022-05-05T16:49:59.717Z"
   },
   {
    "duration": 0,
    "start_time": "2022-05-05T16:49:59.719Z"
   },
   {
    "duration": 0,
    "start_time": "2022-05-05T16:49:59.782Z"
   },
   {
    "duration": 0,
    "start_time": "2022-05-05T16:49:59.784Z"
   },
   {
    "duration": 0,
    "start_time": "2022-05-05T16:49:59.786Z"
   },
   {
    "duration": 0,
    "start_time": "2022-05-05T16:49:59.787Z"
   },
   {
    "duration": 0,
    "start_time": "2022-05-05T16:49:59.788Z"
   },
   {
    "duration": 69,
    "start_time": "2022-05-05T16:50:30.600Z"
   },
   {
    "duration": 38,
    "start_time": "2022-05-05T16:50:30.672Z"
   },
   {
    "duration": 26,
    "start_time": "2022-05-05T16:50:30.713Z"
   },
   {
    "duration": 45,
    "start_time": "2022-05-05T16:50:30.743Z"
   },
   {
    "duration": 28,
    "start_time": "2022-05-05T16:50:30.790Z"
   },
   {
    "duration": 23,
    "start_time": "2022-05-05T16:50:30.821Z"
   },
   {
    "duration": 7,
    "start_time": "2022-05-05T16:50:32.931Z"
   },
   {
    "duration": 75,
    "start_time": "2022-05-05T16:53:08.474Z"
   },
   {
    "duration": 50,
    "start_time": "2022-05-05T16:53:08.552Z"
   },
   {
    "duration": 25,
    "start_time": "2022-05-05T16:53:08.605Z"
   },
   {
    "duration": 8,
    "start_time": "2022-05-05T16:53:08.634Z"
   },
   {
    "duration": 9,
    "start_time": "2022-05-05T16:53:08.683Z"
   },
   {
    "duration": 10,
    "start_time": "2022-05-05T16:53:08.695Z"
   },
   {
    "duration": 11,
    "start_time": "2022-05-05T16:53:08.708Z"
   },
   {
    "duration": 55,
    "start_time": "2022-05-05T16:53:12.881Z"
   },
   {
    "duration": 75,
    "start_time": "2022-05-05T16:53:24.050Z"
   },
   {
    "duration": 77,
    "start_time": "2022-05-05T16:53:24.128Z"
   },
   {
    "duration": 22,
    "start_time": "2022-05-05T16:53:24.208Z"
   },
   {
    "duration": 49,
    "start_time": "2022-05-05T16:53:24.233Z"
   },
   {
    "duration": 17,
    "start_time": "2022-05-05T16:53:24.285Z"
   },
   {
    "duration": 22,
    "start_time": "2022-05-05T16:53:24.304Z"
   },
   {
    "duration": 13,
    "start_time": "2022-05-05T16:53:24.329Z"
   },
   {
    "duration": 78,
    "start_time": "2022-05-05T16:53:24.344Z"
   },
   {
    "duration": 63,
    "start_time": "2022-05-05T16:53:24.424Z"
   },
   {
    "duration": 11,
    "start_time": "2022-05-05T16:53:24.490Z"
   },
   {
    "duration": 16,
    "start_time": "2022-05-05T16:53:24.503Z"
   },
   {
    "duration": 5,
    "start_time": "2022-05-05T16:53:24.521Z"
   },
   {
    "duration": 69,
    "start_time": "2022-05-05T16:53:24.528Z"
   },
   {
    "duration": 5,
    "start_time": "2022-05-05T16:53:24.600Z"
   },
   {
    "duration": 11,
    "start_time": "2022-05-05T16:53:24.607Z"
   },
   {
    "duration": 8,
    "start_time": "2022-05-05T16:53:24.621Z"
   },
   {
    "duration": 6,
    "start_time": "2022-05-05T16:53:24.632Z"
   },
   {
    "duration": 41,
    "start_time": "2022-05-05T16:53:24.641Z"
   },
   {
    "duration": 51,
    "start_time": "2022-05-05T16:53:24.685Z"
   },
   {
    "duration": 73,
    "start_time": "2022-05-05T16:53:24.738Z"
   },
   {
    "duration": 25,
    "start_time": "2022-05-05T16:53:24.814Z"
   },
   {
    "duration": 6,
    "start_time": "2022-05-05T16:53:24.841Z"
   },
   {
    "duration": 34,
    "start_time": "2022-05-05T16:53:24.849Z"
   },
   {
    "duration": 7,
    "start_time": "2022-05-05T16:53:24.886Z"
   },
   {
    "duration": 26,
    "start_time": "2022-05-05T16:53:24.895Z"
   },
   {
    "duration": 4,
    "start_time": "2022-05-05T16:53:24.923Z"
   },
   {
    "duration": 73,
    "start_time": "2022-05-05T16:53:24.930Z"
   },
   {
    "duration": 59,
    "start_time": "2022-05-05T16:53:25.008Z"
   },
   {
    "duration": 12,
    "start_time": "2022-05-05T16:53:25.069Z"
   },
   {
    "duration": 27,
    "start_time": "2022-05-05T16:53:25.083Z"
   },
   {
    "duration": 21,
    "start_time": "2022-05-05T16:53:25.112Z"
   },
   {
    "duration": 11,
    "start_time": "2022-05-05T16:53:25.135Z"
   },
   {
    "duration": 9,
    "start_time": "2022-05-05T16:53:25.182Z"
   },
   {
    "duration": 15,
    "start_time": "2022-05-05T16:53:25.193Z"
   },
   {
    "duration": 25,
    "start_time": "2022-05-05T16:53:25.210Z"
   },
   {
    "duration": 53,
    "start_time": "2022-05-05T16:53:25.238Z"
   },
   {
    "duration": 18,
    "start_time": "2022-05-05T16:53:25.293Z"
   },
   {
    "duration": 30,
    "start_time": "2022-05-05T16:53:25.313Z"
   },
   {
    "duration": 47,
    "start_time": "2022-05-05T16:53:25.345Z"
   },
   {
    "duration": 18,
    "start_time": "2022-05-05T16:53:25.394Z"
   },
   {
    "duration": 74,
    "start_time": "2022-05-05T16:55:41.435Z"
   },
   {
    "duration": 36,
    "start_time": "2022-05-05T16:55:41.512Z"
   },
   {
    "duration": 46,
    "start_time": "2022-05-05T16:55:41.551Z"
   },
   {
    "duration": 6,
    "start_time": "2022-05-05T16:55:41.601Z"
   },
   {
    "duration": 9,
    "start_time": "2022-05-05T16:55:41.609Z"
   },
   {
    "duration": 8,
    "start_time": "2022-05-05T16:55:41.620Z"
   },
   {
    "duration": 54,
    "start_time": "2022-05-05T16:55:41.630Z"
   },
   {
    "duration": 54,
    "start_time": "2022-05-05T16:55:41.687Z"
   },
   {
    "duration": 67,
    "start_time": "2022-05-05T16:55:41.743Z"
   },
   {
    "duration": 11,
    "start_time": "2022-05-05T16:55:41.814Z"
   },
   {
    "duration": 55,
    "start_time": "2022-05-05T16:55:41.827Z"
   },
   {
    "duration": 5,
    "start_time": "2022-05-05T16:55:41.884Z"
   },
   {
    "duration": 31,
    "start_time": "2022-05-05T16:55:41.891Z"
   },
   {
    "duration": 3,
    "start_time": "2022-05-05T16:55:41.924Z"
   },
   {
    "duration": 7,
    "start_time": "2022-05-05T16:55:41.929Z"
   },
   {
    "duration": 6,
    "start_time": "2022-05-05T16:55:41.938Z"
   },
   {
    "duration": 3,
    "start_time": "2022-05-05T16:55:41.981Z"
   },
   {
    "duration": 6,
    "start_time": "2022-05-05T16:55:41.986Z"
   },
   {
    "duration": 33,
    "start_time": "2022-05-05T16:55:41.994Z"
   },
   {
    "duration": 69,
    "start_time": "2022-05-05T16:55:42.029Z"
   },
   {
    "duration": 24,
    "start_time": "2022-05-05T16:55:42.100Z"
   },
   {
    "duration": 8,
    "start_time": "2022-05-05T16:55:42.126Z"
   },
   {
    "duration": 7,
    "start_time": "2022-05-05T16:55:42.137Z"
   },
   {
    "duration": 5,
    "start_time": "2022-05-05T16:55:42.182Z"
   },
   {
    "duration": 26,
    "start_time": "2022-05-05T16:55:42.190Z"
   },
   {
    "duration": 5,
    "start_time": "2022-05-05T16:55:42.218Z"
   },
   {
    "duration": 69,
    "start_time": "2022-05-05T16:55:42.225Z"
   },
   {
    "duration": 32,
    "start_time": "2022-05-05T16:55:42.299Z"
   },
   {
    "duration": 11,
    "start_time": "2022-05-05T16:55:42.333Z"
   },
   {
    "duration": 50,
    "start_time": "2022-05-05T16:55:42.346Z"
   },
   {
    "duration": 22,
    "start_time": "2022-05-05T16:55:42.398Z"
   },
   {
    "duration": 11,
    "start_time": "2022-05-05T16:55:42.422Z"
   },
   {
    "duration": 53,
    "start_time": "2022-05-05T16:55:42.435Z"
   },
   {
    "duration": 16,
    "start_time": "2022-05-05T16:55:42.490Z"
   },
   {
    "duration": 26,
    "start_time": "2022-05-05T16:55:42.508Z"
   },
   {
    "duration": 45,
    "start_time": "2022-05-05T16:55:42.537Z"
   },
   {
    "duration": 16,
    "start_time": "2022-05-05T16:55:42.584Z"
   },
   {
    "duration": 29,
    "start_time": "2022-05-05T16:55:42.602Z"
   },
   {
    "duration": 48,
    "start_time": "2022-05-05T16:55:42.634Z"
   },
   {
    "duration": 19,
    "start_time": "2022-05-05T16:55:42.684Z"
   },
   {
    "duration": 70,
    "start_time": "2022-05-05T16:57:27.335Z"
   },
   {
    "duration": 38,
    "start_time": "2022-05-05T16:57:27.408Z"
   },
   {
    "duration": 44,
    "start_time": "2022-05-05T16:57:27.449Z"
   },
   {
    "duration": 7,
    "start_time": "2022-05-05T16:57:27.496Z"
   },
   {
    "duration": 16,
    "start_time": "2022-05-05T16:57:27.505Z"
   },
   {
    "duration": 6,
    "start_time": "2022-05-05T16:57:27.523Z"
   },
   {
    "duration": 8,
    "start_time": "2022-05-05T16:57:27.531Z"
   },
   {
    "duration": 54,
    "start_time": "2022-05-05T16:57:28.639Z"
   },
   {
    "duration": 80,
    "start_time": "2022-05-05T16:59:39.407Z"
   },
   {
    "duration": 35,
    "start_time": "2022-05-05T16:59:39.490Z"
   },
   {
    "duration": 56,
    "start_time": "2022-05-05T16:59:39.527Z"
   },
   {
    "duration": 8,
    "start_time": "2022-05-05T16:59:39.586Z"
   },
   {
    "duration": 10,
    "start_time": "2022-05-05T16:59:39.597Z"
   },
   {
    "duration": 8,
    "start_time": "2022-05-05T16:59:39.609Z"
   },
   {
    "duration": 62,
    "start_time": "2022-05-05T16:59:39.620Z"
   },
   {
    "duration": 54,
    "start_time": "2022-05-05T16:59:41.006Z"
   },
   {
    "duration": 54,
    "start_time": "2022-05-05T16:59:52.268Z"
   },
   {
    "duration": 68,
    "start_time": "2022-05-05T17:04:43.038Z"
   },
   {
    "duration": 35,
    "start_time": "2022-05-05T17:04:43.109Z"
   },
   {
    "duration": 42,
    "start_time": "2022-05-05T17:04:43.146Z"
   },
   {
    "duration": 6,
    "start_time": "2022-05-05T17:04:43.191Z"
   },
   {
    "duration": 11,
    "start_time": "2022-05-05T17:04:43.199Z"
   },
   {
    "duration": 21,
    "start_time": "2022-05-05T17:04:45.034Z"
   },
   {
    "duration": 7,
    "start_time": "2022-05-05T17:05:01.531Z"
   },
   {
    "duration": 67,
    "start_time": "2022-05-05T17:05:15.983Z"
   },
   {
    "duration": 47,
    "start_time": "2022-05-05T17:05:16.053Z"
   },
   {
    "duration": 21,
    "start_time": "2022-05-05T17:05:16.102Z"
   },
   {
    "duration": 6,
    "start_time": "2022-05-05T17:05:16.126Z"
   },
   {
    "duration": 6,
    "start_time": "2022-05-05T17:05:16.134Z"
   },
   {
    "duration": 20,
    "start_time": "2022-05-05T17:05:16.182Z"
   },
   {
    "duration": 7,
    "start_time": "2022-05-05T17:05:31.131Z"
   },
   {
    "duration": 19,
    "start_time": "2022-05-05T17:06:32.795Z"
   },
   {
    "duration": 7,
    "start_time": "2022-05-05T17:06:35.699Z"
   },
   {
    "duration": 69,
    "start_time": "2022-05-05T17:06:50.743Z"
   },
   {
    "duration": 42,
    "start_time": "2022-05-05T17:06:50.816Z"
   },
   {
    "duration": 22,
    "start_time": "2022-05-05T17:06:50.881Z"
   },
   {
    "duration": 7,
    "start_time": "2022-05-05T17:06:50.906Z"
   },
   {
    "duration": 12,
    "start_time": "2022-05-05T17:06:50.915Z"
   },
   {
    "duration": 8,
    "start_time": "2022-05-05T17:06:52.924Z"
   },
   {
    "duration": 71,
    "start_time": "2022-05-05T17:07:05.127Z"
   },
   {
    "duration": 38,
    "start_time": "2022-05-05T17:07:05.201Z"
   },
   {
    "duration": 55,
    "start_time": "2022-05-05T17:07:05.241Z"
   },
   {
    "duration": 9,
    "start_time": "2022-05-05T17:07:05.299Z"
   },
   {
    "duration": 7,
    "start_time": "2022-05-05T17:07:05.311Z"
   },
   {
    "duration": 62,
    "start_time": "2022-05-05T17:07:05.321Z"
   },
   {
    "duration": 8,
    "start_time": "2022-05-05T17:07:05.386Z"
   },
   {
    "duration": 86,
    "start_time": "2022-05-05T17:07:05.396Z"
   },
   {
    "duration": 39,
    "start_time": "2022-05-05T17:07:05.484Z"
   },
   {
    "duration": 59,
    "start_time": "2022-05-05T17:07:05.527Z"
   },
   {
    "duration": 0,
    "start_time": "2022-05-05T17:07:05.589Z"
   },
   {
    "duration": 0,
    "start_time": "2022-05-05T17:07:05.591Z"
   },
   {
    "duration": 1,
    "start_time": "2022-05-05T17:07:05.592Z"
   },
   {
    "duration": 0,
    "start_time": "2022-05-05T17:07:05.594Z"
   },
   {
    "duration": 0,
    "start_time": "2022-05-05T17:07:05.596Z"
   },
   {
    "duration": 0,
    "start_time": "2022-05-05T17:07:05.597Z"
   },
   {
    "duration": 0,
    "start_time": "2022-05-05T17:07:05.598Z"
   },
   {
    "duration": 0,
    "start_time": "2022-05-05T17:07:05.600Z"
   },
   {
    "duration": 0,
    "start_time": "2022-05-05T17:07:05.601Z"
   },
   {
    "duration": 0,
    "start_time": "2022-05-05T17:07:05.603Z"
   },
   {
    "duration": 0,
    "start_time": "2022-05-05T17:07:05.605Z"
   },
   {
    "duration": 0,
    "start_time": "2022-05-05T17:07:05.607Z"
   },
   {
    "duration": 0,
    "start_time": "2022-05-05T17:07:05.608Z"
   },
   {
    "duration": 0,
    "start_time": "2022-05-05T17:07:05.609Z"
   },
   {
    "duration": 0,
    "start_time": "2022-05-05T17:07:05.611Z"
   },
   {
    "duration": 0,
    "start_time": "2022-05-05T17:07:05.612Z"
   },
   {
    "duration": 0,
    "start_time": "2022-05-05T17:07:05.614Z"
   },
   {
    "duration": 0,
    "start_time": "2022-05-05T17:07:05.615Z"
   },
   {
    "duration": 0,
    "start_time": "2022-05-05T17:07:05.617Z"
   },
   {
    "duration": 0,
    "start_time": "2022-05-05T17:07:05.619Z"
   },
   {
    "duration": 0,
    "start_time": "2022-05-05T17:07:05.620Z"
   },
   {
    "duration": 0,
    "start_time": "2022-05-05T17:07:05.622Z"
   },
   {
    "duration": 0,
    "start_time": "2022-05-05T17:07:05.623Z"
   },
   {
    "duration": 0,
    "start_time": "2022-05-05T17:07:05.624Z"
   },
   {
    "duration": 0,
    "start_time": "2022-05-05T17:07:05.682Z"
   },
   {
    "duration": 0,
    "start_time": "2022-05-05T17:07:05.684Z"
   },
   {
    "duration": 0,
    "start_time": "2022-05-05T17:07:05.685Z"
   },
   {
    "duration": 0,
    "start_time": "2022-05-05T17:07:05.687Z"
   },
   {
    "duration": 0,
    "start_time": "2022-05-05T17:07:05.689Z"
   },
   {
    "duration": 0,
    "start_time": "2022-05-05T17:07:05.690Z"
   },
   {
    "duration": 74,
    "start_time": "2022-05-05T17:07:53.416Z"
   },
   {
    "duration": 37,
    "start_time": "2022-05-05T17:07:53.493Z"
   },
   {
    "duration": 20,
    "start_time": "2022-05-05T17:07:53.532Z"
   },
   {
    "duration": 31,
    "start_time": "2022-05-05T17:07:53.555Z"
   },
   {
    "duration": 11,
    "start_time": "2022-05-05T17:07:53.589Z"
   },
   {
    "duration": 7,
    "start_time": "2022-05-05T17:07:55.157Z"
   },
   {
    "duration": 8,
    "start_time": "2022-05-05T17:07:57.655Z"
   },
   {
    "duration": 97,
    "start_time": "2022-05-05T17:16:30.875Z"
   },
   {
    "duration": 48,
    "start_time": "2022-05-05T17:16:30.975Z"
   },
   {
    "duration": 57,
    "start_time": "2022-05-05T17:16:31.025Z"
   },
   {
    "duration": 8,
    "start_time": "2022-05-05T17:16:31.085Z"
   },
   {
    "duration": 24,
    "start_time": "2022-05-05T17:16:31.096Z"
   },
   {
    "duration": 23,
    "start_time": "2022-05-05T17:16:33.145Z"
   },
   {
    "duration": 23,
    "start_time": "2022-05-05T17:17:09.995Z"
   },
   {
    "duration": 23,
    "start_time": "2022-05-05T17:17:39.014Z"
   },
   {
    "duration": 26,
    "start_time": "2022-05-05T17:19:01.374Z"
   },
   {
    "duration": 3012,
    "start_time": "2022-05-05T17:20:26.819Z"
   },
   {
    "duration": 15,
    "start_time": "2022-05-05T17:22:01.544Z"
   },
   {
    "duration": 101,
    "start_time": "2022-05-05T17:24:25.054Z"
   },
   {
    "duration": 55,
    "start_time": "2022-05-05T17:24:25.159Z"
   },
   {
    "duration": 23,
    "start_time": "2022-05-05T17:24:26.536Z"
   },
   {
    "duration": 66,
    "start_time": "2022-05-05T17:25:26.466Z"
   },
   {
    "duration": 70,
    "start_time": "2022-05-05T17:25:26.535Z"
   },
   {
    "duration": 20,
    "start_time": "2022-05-05T17:25:26.608Z"
   },
   {
    "duration": 7,
    "start_time": "2022-05-05T17:25:26.630Z"
   },
   {
    "duration": 7,
    "start_time": "2022-05-05T17:25:26.640Z"
   },
   {
    "duration": 21,
    "start_time": "2022-05-05T17:25:29.027Z"
   },
   {
    "duration": 25,
    "start_time": "2022-05-05T17:26:08.792Z"
   },
   {
    "duration": 2365,
    "start_time": "2022-05-05T17:27:14.425Z"
   },
   {
    "duration": 6,
    "start_time": "2022-05-05T17:29:13.795Z"
   },
   {
    "duration": 16,
    "start_time": "2022-05-05T17:30:09.786Z"
   },
   {
    "duration": 7,
    "start_time": "2022-05-05T17:30:54.538Z"
   },
   {
    "duration": 10,
    "start_time": "2022-05-05T17:30:59.797Z"
   },
   {
    "duration": 57,
    "start_time": "2022-05-05T17:31:41.196Z"
   },
   {
    "duration": 66,
    "start_time": "2022-05-05T17:31:46.417Z"
   },
   {
    "duration": 35,
    "start_time": "2022-05-05T17:31:46.486Z"
   },
   {
    "duration": 59,
    "start_time": "2022-05-05T17:31:46.523Z"
   },
   {
    "duration": 7,
    "start_time": "2022-05-05T17:31:46.585Z"
   },
   {
    "duration": 9,
    "start_time": "2022-05-05T17:31:46.595Z"
   },
   {
    "duration": 8,
    "start_time": "2022-05-05T17:31:46.607Z"
   },
   {
    "duration": 64,
    "start_time": "2022-05-05T17:31:46.618Z"
   },
   {
    "duration": 58,
    "start_time": "2022-05-05T17:31:46.685Z"
   },
   {
    "duration": 72,
    "start_time": "2022-05-05T17:31:46.746Z"
   },
   {
    "duration": 11,
    "start_time": "2022-05-05T17:31:46.823Z"
   },
   {
    "duration": 54,
    "start_time": "2022-05-05T17:31:46.836Z"
   },
   {
    "duration": 5,
    "start_time": "2022-05-05T17:31:46.892Z"
   },
   {
    "duration": 93,
    "start_time": "2022-05-05T17:31:46.899Z"
   },
   {
    "duration": 3,
    "start_time": "2022-05-05T17:31:46.994Z"
   },
   {
    "duration": 12,
    "start_time": "2022-05-05T17:31:46.999Z"
   },
   {
    "duration": 7,
    "start_time": "2022-05-05T17:31:47.014Z"
   },
   {
    "duration": 8,
    "start_time": "2022-05-05T17:31:47.024Z"
   },
   {
    "duration": 7,
    "start_time": "2022-05-05T17:31:47.034Z"
   },
   {
    "duration": 30,
    "start_time": "2022-05-05T17:31:47.081Z"
   },
   {
    "duration": 33,
    "start_time": "2022-05-05T17:31:47.113Z"
   },
   {
    "duration": 56,
    "start_time": "2022-05-05T17:31:47.148Z"
   },
   {
    "duration": 6,
    "start_time": "2022-05-05T17:31:47.207Z"
   },
   {
    "duration": 9,
    "start_time": "2022-05-05T17:31:47.216Z"
   },
   {
    "duration": 10,
    "start_time": "2022-05-05T17:31:47.228Z"
   },
   {
    "duration": 63,
    "start_time": "2022-05-05T17:31:47.240Z"
   },
   {
    "duration": 6,
    "start_time": "2022-05-05T17:31:47.306Z"
   },
   {
    "duration": 43,
    "start_time": "2022-05-05T17:31:47.314Z"
   },
   {
    "duration": 33,
    "start_time": "2022-05-05T17:31:47.382Z"
   },
   {
    "duration": 12,
    "start_time": "2022-05-05T17:31:47.417Z"
   },
   {
    "duration": 54,
    "start_time": "2022-05-05T17:31:47.431Z"
   },
   {
    "duration": 20,
    "start_time": "2022-05-05T17:31:47.487Z"
   },
   {
    "duration": 11,
    "start_time": "2022-05-05T17:31:47.510Z"
   },
   {
    "duration": 12,
    "start_time": "2022-05-05T17:31:47.523Z"
   },
   {
    "duration": 61,
    "start_time": "2022-05-05T17:31:47.537Z"
   },
   {
    "duration": 32,
    "start_time": "2022-05-05T17:31:47.600Z"
   },
   {
    "duration": 47,
    "start_time": "2022-05-05T17:31:47.635Z"
   },
   {
    "duration": 21,
    "start_time": "2022-05-05T17:31:47.685Z"
   },
   {
    "duration": 38,
    "start_time": "2022-05-05T17:31:47.709Z"
   },
   {
    "duration": 40,
    "start_time": "2022-05-05T17:31:47.750Z"
   },
   {
    "duration": 21,
    "start_time": "2022-05-05T17:31:47.792Z"
   },
   {
    "duration": 6,
    "start_time": "2022-05-05T17:33:00.145Z"
   },
   {
    "duration": 67,
    "start_time": "2022-05-05T17:33:20.435Z"
   },
   {
    "duration": 79,
    "start_time": "2022-05-05T17:33:20.506Z"
   },
   {
    "duration": 30,
    "start_time": "2022-05-05T17:33:20.588Z"
   },
   {
    "duration": 7,
    "start_time": "2022-05-05T17:33:20.622Z"
   },
   {
    "duration": 50,
    "start_time": "2022-05-05T17:33:20.632Z"
   },
   {
    "duration": 7,
    "start_time": "2022-05-05T17:33:20.685Z"
   },
   {
    "duration": 8,
    "start_time": "2022-05-05T17:33:20.694Z"
   },
   {
    "duration": 87,
    "start_time": "2022-05-05T17:33:20.704Z"
   },
   {
    "duration": 32,
    "start_time": "2022-05-05T17:33:20.793Z"
   },
   {
    "duration": 12,
    "start_time": "2022-05-05T17:33:20.829Z"
   },
   {
    "duration": 53,
    "start_time": "2022-05-05T17:33:20.843Z"
   },
   {
    "duration": 5,
    "start_time": "2022-05-05T17:33:20.898Z"
   },
   {
    "duration": 27,
    "start_time": "2022-05-05T17:33:20.905Z"
   },
   {
    "duration": 4,
    "start_time": "2022-05-05T17:33:20.934Z"
   },
   {
    "duration": 7,
    "start_time": "2022-05-05T17:33:20.939Z"
   },
   {
    "duration": 3,
    "start_time": "2022-05-05T17:33:20.983Z"
   },
   {
    "duration": 12,
    "start_time": "2022-05-05T17:33:20.988Z"
   },
   {
    "duration": 19,
    "start_time": "2022-05-05T17:33:21.003Z"
   },
   {
    "duration": 50,
    "start_time": "2022-05-05T17:33:21.024Z"
   },
   {
    "duration": 33,
    "start_time": "2022-05-05T17:33:21.077Z"
   },
   {
    "duration": 24,
    "start_time": "2022-05-05T17:33:21.112Z"
   },
   {
    "duration": 7,
    "start_time": "2022-05-05T17:33:21.139Z"
   },
   {
    "duration": 35,
    "start_time": "2022-05-05T17:33:21.149Z"
   },
   {
    "duration": 11,
    "start_time": "2022-05-05T17:33:21.186Z"
   },
   {
    "duration": 39,
    "start_time": "2022-05-05T17:33:21.199Z"
   },
   {
    "duration": 41,
    "start_time": "2022-05-05T17:33:21.241Z"
   },
   {
    "duration": 36,
    "start_time": "2022-05-05T17:33:21.284Z"
   },
   {
    "duration": 63,
    "start_time": "2022-05-05T17:33:21.325Z"
   },
   {
    "duration": 13,
    "start_time": "2022-05-05T17:33:21.390Z"
   },
   {
    "duration": 30,
    "start_time": "2022-05-05T17:33:21.406Z"
   },
   {
    "duration": 59,
    "start_time": "2022-05-05T17:33:21.439Z"
   },
   {
    "duration": 14,
    "start_time": "2022-05-05T17:33:21.501Z"
   },
   {
    "duration": 11,
    "start_time": "2022-05-05T17:33:21.517Z"
   },
   {
    "duration": 18,
    "start_time": "2022-05-05T17:33:21.530Z"
   },
   {
    "duration": 27,
    "start_time": "2022-05-05T17:33:21.583Z"
   },
   {
    "duration": 13,
    "start_time": "2022-05-05T17:33:21.613Z"
   },
   {
    "duration": 61,
    "start_time": "2022-05-05T17:33:21.629Z"
   },
   {
    "duration": 27,
    "start_time": "2022-05-05T17:33:21.693Z"
   },
   {
    "duration": 10,
    "start_time": "2022-05-05T17:33:21.722Z"
   },
   {
    "duration": 53,
    "start_time": "2022-05-05T17:33:21.734Z"
   },
   {
    "duration": 57,
    "start_time": "2022-05-05T17:33:46.257Z"
   },
   {
    "duration": 68,
    "start_time": "2022-05-05T17:33:50.362Z"
   },
   {
    "duration": 49,
    "start_time": "2022-05-05T17:33:50.434Z"
   },
   {
    "duration": 21,
    "start_time": "2022-05-05T17:33:50.485Z"
   },
   {
    "duration": 7,
    "start_time": "2022-05-05T17:33:50.510Z"
   },
   {
    "duration": 22,
    "start_time": "2022-05-05T17:33:50.519Z"
   },
   {
    "duration": 39,
    "start_time": "2022-05-05T17:33:50.543Z"
   },
   {
    "duration": 7,
    "start_time": "2022-05-05T17:33:50.584Z"
   },
   {
    "duration": 52,
    "start_time": "2022-05-05T17:33:51.574Z"
   },
   {
    "duration": 68,
    "start_time": "2022-05-05T17:37:08.291Z"
   },
   {
    "duration": 38,
    "start_time": "2022-05-05T17:37:08.362Z"
   },
   {
    "duration": 21,
    "start_time": "2022-05-05T17:37:08.402Z"
   },
   {
    "duration": 7,
    "start_time": "2022-05-05T17:37:08.426Z"
   },
   {
    "duration": 8,
    "start_time": "2022-05-05T17:37:08.483Z"
   },
   {
    "duration": 7,
    "start_time": "2022-05-05T17:37:08.493Z"
   },
   {
    "duration": 8,
    "start_time": "2022-05-05T17:37:08.502Z"
   },
   {
    "duration": 55,
    "start_time": "2022-05-05T17:37:11.584Z"
   },
   {
    "duration": 55,
    "start_time": "2022-05-05T17:37:57.000Z"
   },
   {
    "duration": 56,
    "start_time": "2022-05-05T17:38:20.429Z"
   },
   {
    "duration": 66,
    "start_time": "2022-05-05T17:38:32.230Z"
   },
   {
    "duration": 35,
    "start_time": "2022-05-05T17:38:32.299Z"
   },
   {
    "duration": 49,
    "start_time": "2022-05-05T17:38:32.336Z"
   },
   {
    "duration": 7,
    "start_time": "2022-05-05T17:38:32.388Z"
   },
   {
    "duration": 11,
    "start_time": "2022-05-05T17:38:32.397Z"
   },
   {
    "duration": 5,
    "start_time": "2022-05-05T17:38:32.411Z"
   },
   {
    "duration": 9,
    "start_time": "2022-05-05T17:38:32.418Z"
   },
   {
    "duration": 56,
    "start_time": "2022-05-05T17:38:33.275Z"
   },
   {
    "duration": 76,
    "start_time": "2022-05-05T17:39:42.750Z"
   },
   {
    "duration": 104,
    "start_time": "2022-05-05T17:40:27.831Z"
   },
   {
    "duration": 62,
    "start_time": "2022-05-05T17:40:27.938Z"
   },
   {
    "duration": 31,
    "start_time": "2022-05-05T17:40:28.003Z"
   },
   {
    "duration": 8,
    "start_time": "2022-05-05T17:40:28.037Z"
   },
   {
    "duration": 8,
    "start_time": "2022-05-05T17:40:28.084Z"
   },
   {
    "duration": 13,
    "start_time": "2022-05-05T17:40:28.094Z"
   },
   {
    "duration": 22,
    "start_time": "2022-05-05T17:40:28.110Z"
   },
   {
    "duration": 105,
    "start_time": "2022-05-05T17:40:28.134Z"
   },
   {
    "duration": 34,
    "start_time": "2022-05-05T18:01:17.223Z"
   },
   {
    "duration": 102,
    "start_time": "2022-05-05T18:06:49.344Z"
   },
   {
    "duration": 60,
    "start_time": "2022-05-05T18:06:49.450Z"
   },
   {
    "duration": 31,
    "start_time": "2022-05-05T18:06:49.516Z"
   },
   {
    "duration": 34,
    "start_time": "2022-05-05T18:06:49.551Z"
   },
   {
    "duration": 16,
    "start_time": "2022-05-05T18:06:49.587Z"
   },
   {
    "duration": 46,
    "start_time": "2022-05-05T18:06:49.606Z"
   },
   {
    "duration": 18,
    "start_time": "2022-05-05T18:06:49.655Z"
   },
   {
    "duration": 103,
    "start_time": "2022-05-05T18:06:49.676Z"
   },
   {
    "duration": 56,
    "start_time": "2022-05-05T18:06:49.782Z"
   },
   {
    "duration": 16,
    "start_time": "2022-05-05T18:06:51.122Z"
   },
   {
    "duration": 18,
    "start_time": "2022-05-05T18:07:03.674Z"
   },
   {
    "duration": 16,
    "start_time": "2022-05-05T18:07:32.037Z"
   },
   {
    "duration": 13,
    "start_time": "2022-05-05T18:07:39.912Z"
   },
   {
    "duration": 17,
    "start_time": "2022-05-05T18:07:55.597Z"
   },
   {
    "duration": 76,
    "start_time": "2022-05-05T18:10:18.720Z"
   },
   {
    "duration": 41,
    "start_time": "2022-05-05T18:10:18.799Z"
   },
   {
    "duration": 56,
    "start_time": "2022-05-05T18:10:18.843Z"
   },
   {
    "duration": 8,
    "start_time": "2022-05-05T18:10:18.902Z"
   },
   {
    "duration": 12,
    "start_time": "2022-05-05T18:10:18.913Z"
   },
   {
    "duration": 4,
    "start_time": "2022-05-05T18:10:18.927Z"
   },
   {
    "duration": 14,
    "start_time": "2022-05-05T18:10:18.934Z"
   },
   {
    "duration": 103,
    "start_time": "2022-05-05T18:10:18.985Z"
   },
   {
    "duration": 37,
    "start_time": "2022-05-05T18:10:19.091Z"
   },
   {
    "duration": 57,
    "start_time": "2022-05-05T18:10:19.133Z"
   },
   {
    "duration": 25,
    "start_time": "2022-05-05T18:22:50.021Z"
   },
   {
    "duration": 107,
    "start_time": "2022-05-05T18:22:57.069Z"
   },
   {
    "duration": 56,
    "start_time": "2022-05-05T18:22:57.179Z"
   },
   {
    "duration": 58,
    "start_time": "2022-05-05T18:22:57.238Z"
   },
   {
    "duration": 8,
    "start_time": "2022-05-05T18:22:57.302Z"
   },
   {
    "duration": 14,
    "start_time": "2022-05-05T18:22:57.313Z"
   },
   {
    "duration": 8,
    "start_time": "2022-05-05T18:22:57.329Z"
   },
   {
    "duration": 10,
    "start_time": "2022-05-05T18:22:57.340Z"
   },
   {
    "duration": 90,
    "start_time": "2022-05-05T18:22:57.352Z"
   },
   {
    "duration": 76,
    "start_time": "2022-05-05T18:22:57.445Z"
   },
   {
    "duration": 14,
    "start_time": "2022-05-05T18:25:42.644Z"
   },
   {
    "duration": 13,
    "start_time": "2022-05-05T18:54:58.656Z"
   },
   {
    "duration": 16,
    "start_time": "2022-05-05T18:55:37.041Z"
   },
   {
    "duration": 5,
    "start_time": "2022-05-05T18:55:43.162Z"
   },
   {
    "duration": 27,
    "start_time": "2022-05-05T18:55:49.195Z"
   },
   {
    "duration": 26,
    "start_time": "2022-05-05T18:56:13.775Z"
   },
   {
    "duration": 68,
    "start_time": "2022-05-05T18:56:25.090Z"
   },
   {
    "duration": 44,
    "start_time": "2022-05-05T18:56:25.161Z"
   },
   {
    "duration": 21,
    "start_time": "2022-05-05T18:56:25.208Z"
   },
   {
    "duration": 8,
    "start_time": "2022-05-05T18:56:25.232Z"
   },
   {
    "duration": 48,
    "start_time": "2022-05-05T18:56:25.242Z"
   },
   {
    "duration": 16,
    "start_time": "2022-05-05T18:56:25.293Z"
   },
   {
    "duration": 21,
    "start_time": "2022-05-05T18:56:25.311Z"
   },
   {
    "duration": 80,
    "start_time": "2022-05-05T18:56:25.334Z"
   },
   {
    "duration": 33,
    "start_time": "2022-05-05T18:56:25.416Z"
   },
   {
    "duration": 22,
    "start_time": "2022-05-05T18:56:25.481Z"
   },
   {
    "duration": 48,
    "start_time": "2022-05-05T18:56:25.505Z"
   },
   {
    "duration": 17,
    "start_time": "2022-05-05T18:56:25.555Z"
   },
   {
    "duration": 49,
    "start_time": "2022-05-05T18:56:25.575Z"
   },
   {
    "duration": 24,
    "start_time": "2022-05-05T18:56:28.300Z"
   },
   {
    "duration": 67,
    "start_time": "2022-05-05T18:56:55.860Z"
   },
   {
    "duration": 57,
    "start_time": "2022-05-05T18:56:55.930Z"
   },
   {
    "duration": 22,
    "start_time": "2022-05-05T18:56:55.990Z"
   },
   {
    "duration": 7,
    "start_time": "2022-05-05T18:56:56.015Z"
   },
   {
    "duration": 59,
    "start_time": "2022-05-05T18:56:56.025Z"
   },
   {
    "duration": 4,
    "start_time": "2022-05-05T18:56:56.087Z"
   },
   {
    "duration": 12,
    "start_time": "2022-05-05T18:56:56.094Z"
   },
   {
    "duration": 86,
    "start_time": "2022-05-05T18:56:56.108Z"
   },
   {
    "duration": 34,
    "start_time": "2022-05-05T18:56:56.196Z"
   },
   {
    "duration": 54,
    "start_time": "2022-05-05T18:56:56.234Z"
   },
   {
    "duration": 17,
    "start_time": "2022-05-05T18:56:56.290Z"
   },
   {
    "duration": 5,
    "start_time": "2022-05-05T18:56:56.309Z"
   },
   {
    "duration": 70,
    "start_time": "2022-05-05T18:56:56.316Z"
   },
   {
    "duration": 27,
    "start_time": "2022-05-05T18:56:56.389Z"
   },
   {
    "duration": 3,
    "start_time": "2022-05-05T18:56:56.419Z"
   },
   {
    "duration": 14,
    "start_time": "2022-05-05T18:56:56.424Z"
   },
   {
    "duration": 7,
    "start_time": "2022-05-05T18:56:56.440Z"
   },
   {
    "duration": 4,
    "start_time": "2022-05-05T18:56:56.481Z"
   },
   {
    "duration": 47,
    "start_time": "2022-05-05T18:56:56.487Z"
   },
   {
    "duration": 54,
    "start_time": "2022-05-05T18:56:56.536Z"
   },
   {
    "duration": 24,
    "start_time": "2022-05-05T18:56:56.592Z"
   },
   {
    "duration": 7,
    "start_time": "2022-05-05T18:56:56.618Z"
   },
   {
    "duration": 19,
    "start_time": "2022-05-05T18:56:56.627Z"
   },
   {
    "duration": 33,
    "start_time": "2022-05-05T18:56:56.649Z"
   },
   {
    "duration": 30,
    "start_time": "2022-05-05T18:56:56.684Z"
   },
   {
    "duration": 5,
    "start_time": "2022-05-05T18:56:56.716Z"
   },
   {
    "duration": 589,
    "start_time": "2022-05-05T18:56:56.723Z"
   },
   {
    "duration": 0,
    "start_time": "2022-05-05T18:56:57.316Z"
   },
   {
    "duration": 0,
    "start_time": "2022-05-05T18:56:57.318Z"
   },
   {
    "duration": 0,
    "start_time": "2022-05-05T18:56:57.321Z"
   },
   {
    "duration": 0,
    "start_time": "2022-05-05T18:56:57.323Z"
   },
   {
    "duration": 0,
    "start_time": "2022-05-05T18:56:57.325Z"
   },
   {
    "duration": 0,
    "start_time": "2022-05-05T18:56:57.328Z"
   },
   {
    "duration": 0,
    "start_time": "2022-05-05T18:56:57.330Z"
   },
   {
    "duration": 0,
    "start_time": "2022-05-05T18:56:57.332Z"
   },
   {
    "duration": 0,
    "start_time": "2022-05-05T18:56:57.334Z"
   },
   {
    "duration": 0,
    "start_time": "2022-05-05T18:56:57.336Z"
   },
   {
    "duration": 0,
    "start_time": "2022-05-05T18:56:57.337Z"
   },
   {
    "duration": 0,
    "start_time": "2022-05-05T18:56:57.339Z"
   },
   {
    "duration": 0,
    "start_time": "2022-05-05T18:56:57.341Z"
   },
   {
    "duration": 26,
    "start_time": "2022-05-05T19:01:04.192Z"
   },
   {
    "duration": 12,
    "start_time": "2022-05-05T19:04:41.980Z"
   },
   {
    "duration": 16,
    "start_time": "2022-05-05T19:05:04.613Z"
   },
   {
    "duration": 104,
    "start_time": "2022-05-05T19:05:14.079Z"
   },
   {
    "duration": 45,
    "start_time": "2022-05-05T19:05:14.187Z"
   },
   {
    "duration": 50,
    "start_time": "2022-05-05T19:05:14.234Z"
   },
   {
    "duration": 7,
    "start_time": "2022-05-05T19:05:14.288Z"
   },
   {
    "duration": 16,
    "start_time": "2022-05-05T19:05:14.297Z"
   },
   {
    "duration": 8,
    "start_time": "2022-05-05T19:05:14.316Z"
   },
   {
    "duration": 112,
    "start_time": "2022-05-05T19:05:14.327Z"
   },
   {
    "duration": 55,
    "start_time": "2022-05-05T19:05:14.442Z"
   },
   {
    "duration": 11,
    "start_time": "2022-05-05T19:05:14.500Z"
   },
   {
    "duration": 12,
    "start_time": "2022-05-05T19:05:15.921Z"
   },
   {
    "duration": 67,
    "start_time": "2022-05-05T19:06:21.231Z"
   },
   {
    "duration": 36,
    "start_time": "2022-05-05T19:06:21.301Z"
   },
   {
    "duration": 55,
    "start_time": "2022-05-05T19:06:21.340Z"
   },
   {
    "duration": 8,
    "start_time": "2022-05-05T19:06:21.398Z"
   },
   {
    "duration": 7,
    "start_time": "2022-05-05T19:06:21.408Z"
   },
   {
    "duration": 9,
    "start_time": "2022-05-05T19:06:21.417Z"
   },
   {
    "duration": 108,
    "start_time": "2022-05-05T19:06:21.428Z"
   },
   {
    "duration": 69,
    "start_time": "2022-05-05T19:06:21.539Z"
   },
   {
    "duration": 13,
    "start_time": "2022-05-05T19:06:21.611Z"
   },
   {
    "duration": 15,
    "start_time": "2022-05-05T19:06:23.111Z"
   },
   {
    "duration": 67,
    "start_time": "2022-05-05T19:06:46.118Z"
   },
   {
    "duration": 47,
    "start_time": "2022-05-05T19:06:46.188Z"
   },
   {
    "duration": 50,
    "start_time": "2022-05-05T19:06:46.238Z"
   },
   {
    "duration": 8,
    "start_time": "2022-05-05T19:06:46.291Z"
   },
   {
    "duration": 10,
    "start_time": "2022-05-05T19:06:46.301Z"
   },
   {
    "duration": 5,
    "start_time": "2022-05-05T19:06:46.313Z"
   },
   {
    "duration": 100,
    "start_time": "2022-05-05T19:06:46.320Z"
   },
   {
    "duration": 59,
    "start_time": "2022-05-05T19:06:46.424Z"
   },
   {
    "duration": 11,
    "start_time": "2022-05-05T19:06:46.485Z"
   },
   {
    "duration": 18,
    "start_time": "2022-05-05T19:06:48.192Z"
   },
   {
    "duration": 26,
    "start_time": "2022-05-05T19:27:22.852Z"
   },
   {
    "duration": 73,
    "start_time": "2022-05-05T19:48:25.041Z"
   },
   {
    "duration": 73,
    "start_time": "2022-05-05T19:48:25.117Z"
   },
   {
    "duration": 23,
    "start_time": "2022-05-05T19:48:25.192Z"
   },
   {
    "duration": 7,
    "start_time": "2022-05-05T19:48:25.218Z"
   },
   {
    "duration": 55,
    "start_time": "2022-05-05T19:48:25.227Z"
   },
   {
    "duration": 6,
    "start_time": "2022-05-05T19:48:25.284Z"
   },
   {
    "duration": 55,
    "start_time": "2022-05-05T19:48:25.292Z"
   },
   {
    "duration": 65,
    "start_time": "2022-05-05T19:48:25.349Z"
   },
   {
    "duration": 11,
    "start_time": "2022-05-05T19:48:25.416Z"
   },
   {
    "duration": 65,
    "start_time": "2022-05-05T19:48:25.431Z"
   },
   {
    "duration": 0,
    "start_time": "2022-05-05T19:48:25.499Z"
   },
   {
    "duration": 0,
    "start_time": "2022-05-05T19:48:25.501Z"
   },
   {
    "duration": 0,
    "start_time": "2022-05-05T19:48:25.502Z"
   },
   {
    "duration": 0,
    "start_time": "2022-05-05T19:48:25.504Z"
   },
   {
    "duration": 0,
    "start_time": "2022-05-05T19:48:25.506Z"
   },
   {
    "duration": 0,
    "start_time": "2022-05-05T19:48:25.508Z"
   },
   {
    "duration": 0,
    "start_time": "2022-05-05T19:48:25.509Z"
   },
   {
    "duration": 0,
    "start_time": "2022-05-05T19:48:25.510Z"
   },
   {
    "duration": 0,
    "start_time": "2022-05-05T19:48:25.512Z"
   },
   {
    "duration": 0,
    "start_time": "2022-05-05T19:48:25.514Z"
   },
   {
    "duration": 0,
    "start_time": "2022-05-05T19:48:25.515Z"
   },
   {
    "duration": 0,
    "start_time": "2022-05-05T19:48:25.517Z"
   },
   {
    "duration": 0,
    "start_time": "2022-05-05T19:48:25.518Z"
   },
   {
    "duration": 0,
    "start_time": "2022-05-05T19:48:25.520Z"
   },
   {
    "duration": 0,
    "start_time": "2022-05-05T19:48:25.520Z"
   },
   {
    "duration": 0,
    "start_time": "2022-05-05T19:48:25.522Z"
   },
   {
    "duration": 0,
    "start_time": "2022-05-05T19:48:25.523Z"
   },
   {
    "duration": 1,
    "start_time": "2022-05-05T19:48:25.524Z"
   },
   {
    "duration": 0,
    "start_time": "2022-05-05T19:48:25.526Z"
   },
   {
    "duration": 0,
    "start_time": "2022-05-05T19:48:25.527Z"
   },
   {
    "duration": 0,
    "start_time": "2022-05-05T19:48:25.528Z"
   },
   {
    "duration": 0,
    "start_time": "2022-05-05T19:48:25.583Z"
   },
   {
    "duration": 0,
    "start_time": "2022-05-05T19:48:25.584Z"
   },
   {
    "duration": 0,
    "start_time": "2022-05-05T19:48:25.586Z"
   },
   {
    "duration": 0,
    "start_time": "2022-05-05T19:48:25.588Z"
   },
   {
    "duration": 0,
    "start_time": "2022-05-05T19:48:25.590Z"
   },
   {
    "duration": 0,
    "start_time": "2022-05-05T19:48:25.592Z"
   },
   {
    "duration": 0,
    "start_time": "2022-05-05T19:48:25.594Z"
   },
   {
    "duration": 0,
    "start_time": "2022-05-05T19:48:25.595Z"
   },
   {
    "duration": 68,
    "start_time": "2022-05-05T19:49:07.017Z"
   },
   {
    "duration": 42,
    "start_time": "2022-05-05T19:49:07.088Z"
   },
   {
    "duration": 57,
    "start_time": "2022-05-05T19:49:07.132Z"
   },
   {
    "duration": 9,
    "start_time": "2022-05-05T19:49:07.193Z"
   },
   {
    "duration": 8,
    "start_time": "2022-05-05T19:49:07.208Z"
   },
   {
    "duration": 7,
    "start_time": "2022-05-05T19:49:07.219Z"
   },
   {
    "duration": 107,
    "start_time": "2022-05-05T19:49:07.229Z"
   },
   {
    "duration": 69,
    "start_time": "2022-05-05T19:49:07.339Z"
   },
   {
    "duration": 12,
    "start_time": "2022-05-05T19:49:07.411Z"
   },
   {
    "duration": 34,
    "start_time": "2022-05-05T19:49:08.994Z"
   },
   {
    "duration": 13,
    "start_time": "2022-05-05T19:50:01.295Z"
   },
   {
    "duration": 11,
    "start_time": "2022-05-05T19:50:07.160Z"
   },
   {
    "duration": 15,
    "start_time": "2022-05-05T19:50:49.571Z"
   },
   {
    "duration": 9,
    "start_time": "2022-05-05T19:51:48.554Z"
   },
   {
    "duration": 7,
    "start_time": "2022-05-05T19:52:01.429Z"
   },
   {
    "duration": 13,
    "start_time": "2022-05-05T19:52:37.419Z"
   },
   {
    "duration": 31,
    "start_time": "2022-05-05T19:52:56.959Z"
   },
   {
    "duration": 28,
    "start_time": "2022-05-05T19:53:16.238Z"
   },
   {
    "duration": 21,
    "start_time": "2022-05-05T19:54:05.281Z"
   },
   {
    "duration": 73,
    "start_time": "2022-05-05T19:54:41.378Z"
   },
   {
    "duration": 66,
    "start_time": "2022-05-05T19:54:41.454Z"
   },
   {
    "duration": 67,
    "start_time": "2022-05-05T19:54:41.523Z"
   },
   {
    "duration": 9,
    "start_time": "2022-05-05T19:54:41.593Z"
   },
   {
    "duration": 12,
    "start_time": "2022-05-05T19:54:41.605Z"
   },
   {
    "duration": 7,
    "start_time": "2022-05-05T19:54:41.619Z"
   },
   {
    "duration": 94,
    "start_time": "2022-05-05T19:54:41.629Z"
   },
   {
    "duration": 69,
    "start_time": "2022-05-05T19:54:41.725Z"
   },
   {
    "duration": 12,
    "start_time": "2022-05-05T19:54:41.797Z"
   },
   {
    "duration": 8,
    "start_time": "2022-05-05T19:54:41.813Z"
   },
   {
    "duration": 5,
    "start_time": "2022-05-05T19:54:41.823Z"
   },
   {
    "duration": 75,
    "start_time": "2022-05-05T19:54:41.830Z"
   },
   {
    "duration": 27,
    "start_time": "2022-05-05T19:54:41.908Z"
   },
   {
    "duration": 3,
    "start_time": "2022-05-05T19:54:41.937Z"
   },
   {
    "duration": 42,
    "start_time": "2022-05-05T19:54:41.942Z"
   },
   {
    "duration": 15,
    "start_time": "2022-05-05T19:54:41.988Z"
   },
   {
    "duration": 8,
    "start_time": "2022-05-05T19:54:42.005Z"
   },
   {
    "duration": 32,
    "start_time": "2022-05-05T19:54:42.015Z"
   },
   {
    "duration": 61,
    "start_time": "2022-05-05T19:54:42.050Z"
   },
   {
    "duration": 25,
    "start_time": "2022-05-05T19:54:42.113Z"
   },
   {
    "duration": 8,
    "start_time": "2022-05-05T19:54:42.140Z"
   },
   {
    "duration": 5,
    "start_time": "2022-05-05T19:54:42.182Z"
   },
   {
    "duration": 14,
    "start_time": "2022-05-05T19:54:42.189Z"
   },
   {
    "duration": 29,
    "start_time": "2022-05-05T19:54:42.205Z"
   },
   {
    "duration": 5,
    "start_time": "2022-05-05T19:54:42.237Z"
   },
   {
    "duration": 72,
    "start_time": "2022-05-05T19:54:42.244Z"
   },
   {
    "duration": 44,
    "start_time": "2022-05-05T19:54:42.319Z"
   },
   {
    "duration": 18,
    "start_time": "2022-05-05T19:54:42.381Z"
   },
   {
    "duration": 26,
    "start_time": "2022-05-05T19:54:42.402Z"
   },
   {
    "duration": 59,
    "start_time": "2022-05-05T19:54:42.431Z"
   },
   {
    "duration": 11,
    "start_time": "2022-05-05T19:54:42.493Z"
   },
   {
    "duration": 11,
    "start_time": "2022-05-05T19:54:42.508Z"
   },
   {
    "duration": 14,
    "start_time": "2022-05-05T19:54:42.521Z"
   },
   {
    "duration": 70,
    "start_time": "2022-05-05T19:54:42.538Z"
   },
   {
    "duration": 13,
    "start_time": "2022-05-05T19:54:42.611Z"
   },
   {
    "duration": 21,
    "start_time": "2022-05-05T19:54:42.627Z"
   },
   {
    "duration": 34,
    "start_time": "2022-05-05T19:54:42.687Z"
   },
   {
    "duration": 11,
    "start_time": "2022-05-05T19:54:42.724Z"
   },
   {
    "duration": 52,
    "start_time": "2022-05-05T19:54:42.737Z"
   },
   {
    "duration": 70,
    "start_time": "2022-05-05T19:55:52.914Z"
   },
   {
    "duration": 44,
    "start_time": "2022-05-05T19:55:52.987Z"
   },
   {
    "duration": 70,
    "start_time": "2022-05-05T19:55:53.033Z"
   },
   {
    "duration": 8,
    "start_time": "2022-05-05T19:55:53.106Z"
   },
   {
    "duration": 6,
    "start_time": "2022-05-05T19:55:53.116Z"
   },
   {
    "duration": 7,
    "start_time": "2022-05-05T19:55:53.124Z"
   },
   {
    "duration": 101,
    "start_time": "2022-05-05T19:55:53.134Z"
   },
   {
    "duration": 73,
    "start_time": "2022-05-05T19:55:53.237Z"
   },
   {
    "duration": 10,
    "start_time": "2022-05-05T19:55:53.313Z"
   },
   {
    "duration": 9,
    "start_time": "2022-05-05T19:55:53.327Z"
   },
   {
    "duration": 51,
    "start_time": "2022-05-05T19:55:53.338Z"
   },
   {
    "duration": 28,
    "start_time": "2022-05-05T19:55:53.397Z"
   },
   {
    "duration": 57,
    "start_time": "2022-05-05T19:55:53.428Z"
   },
   {
    "duration": 3,
    "start_time": "2022-05-05T19:55:53.488Z"
   },
   {
    "duration": 12,
    "start_time": "2022-05-05T19:55:53.494Z"
   },
   {
    "duration": 6,
    "start_time": "2022-05-05T19:55:53.508Z"
   },
   {
    "duration": 10,
    "start_time": "2022-05-05T19:55:53.517Z"
   },
   {
    "duration": 63,
    "start_time": "2022-05-05T19:55:53.530Z"
   },
   {
    "duration": 34,
    "start_time": "2022-05-05T19:55:53.596Z"
   },
   {
    "duration": 64,
    "start_time": "2022-05-05T19:55:53.633Z"
   },
   {
    "duration": 8,
    "start_time": "2022-05-05T19:55:53.699Z"
   },
   {
    "duration": 6,
    "start_time": "2022-05-05T19:55:53.709Z"
   },
   {
    "duration": 7,
    "start_time": "2022-05-05T19:55:53.718Z"
   },
   {
    "duration": 68,
    "start_time": "2022-05-05T19:55:53.728Z"
   },
   {
    "duration": 4,
    "start_time": "2022-05-05T19:55:53.799Z"
   },
   {
    "duration": 33,
    "start_time": "2022-05-05T19:55:53.806Z"
   },
   {
    "duration": 62,
    "start_time": "2022-05-05T19:55:53.841Z"
   },
   {
    "duration": 12,
    "start_time": "2022-05-05T19:55:53.908Z"
   },
   {
    "duration": 24,
    "start_time": "2022-05-05T19:55:53.922Z"
   },
   {
    "duration": 44,
    "start_time": "2022-05-05T19:55:53.948Z"
   },
   {
    "duration": 11,
    "start_time": "2022-05-05T19:55:53.995Z"
   },
   {
    "duration": 14,
    "start_time": "2022-05-05T19:55:54.008Z"
   },
   {
    "duration": 16,
    "start_time": "2022-05-05T19:55:54.024Z"
   },
   {
    "duration": 66,
    "start_time": "2022-05-05T19:55:54.043Z"
   },
   {
    "duration": 14,
    "start_time": "2022-05-05T19:55:54.112Z"
   },
   {
    "duration": 53,
    "start_time": "2022-05-05T19:55:54.129Z"
   },
   {
    "duration": 32,
    "start_time": "2022-05-05T19:55:54.185Z"
   },
   {
    "duration": 10,
    "start_time": "2022-05-05T19:55:54.219Z"
   },
   {
    "duration": 18,
    "start_time": "2022-05-05T19:55:54.231Z"
   },
   {
    "duration": 45,
    "start_time": "2022-05-05T19:57:29.460Z"
   },
   {
    "duration": 29,
    "start_time": "2022-05-05T19:57:33.412Z"
   },
   {
    "duration": 30,
    "start_time": "2022-05-05T19:58:03.377Z"
   },
   {
    "duration": 29,
    "start_time": "2022-05-05T19:58:07.592Z"
   },
   {
    "duration": 432,
    "start_time": "2022-05-06T03:47:21.068Z"
   },
   {
    "duration": 29,
    "start_time": "2022-05-06T03:47:21.502Z"
   },
   {
    "duration": 17,
    "start_time": "2022-05-06T03:47:21.533Z"
   },
   {
    "duration": 4,
    "start_time": "2022-05-06T03:47:21.552Z"
   },
   {
    "duration": 4,
    "start_time": "2022-05-06T03:47:23.125Z"
   },
   {
    "duration": 4,
    "start_time": "2022-05-06T03:47:26.094Z"
   },
   {
    "duration": 62,
    "start_time": "2022-05-06T03:48:18.576Z"
   },
   {
    "duration": 14,
    "start_time": "2022-05-06T03:48:31.492Z"
   },
   {
    "duration": 26,
    "start_time": "2022-05-06T03:48:41.323Z"
   },
   {
    "duration": 27,
    "start_time": "2022-05-06T03:48:55.919Z"
   },
   {
    "duration": 9,
    "start_time": "2022-05-06T03:49:34.079Z"
   },
   {
    "duration": 6,
    "start_time": "2022-05-06T03:49:56.460Z"
   },
   {
    "duration": 6,
    "start_time": "2022-05-06T03:50:20.910Z"
   },
   {
    "duration": 8,
    "start_time": "2022-05-06T03:50:33.555Z"
   },
   {
    "duration": 57,
    "start_time": "2022-05-06T03:50:38.522Z"
   },
   {
    "duration": 23,
    "start_time": "2022-05-06T03:50:38.580Z"
   },
   {
    "duration": 14,
    "start_time": "2022-05-06T03:50:38.604Z"
   },
   {
    "duration": 28,
    "start_time": "2022-05-06T03:50:38.619Z"
   },
   {
    "duration": 8,
    "start_time": "2022-05-06T03:50:40.070Z"
   },
   {
    "duration": 51,
    "start_time": "2022-05-06T03:51:11.698Z"
   },
   {
    "duration": 23,
    "start_time": "2022-05-06T03:51:11.751Z"
   },
   {
    "duration": 14,
    "start_time": "2022-05-06T03:51:11.775Z"
   },
   {
    "duration": 4,
    "start_time": "2022-05-06T03:51:11.791Z"
   },
   {
    "duration": 4,
    "start_time": "2022-05-06T03:51:13.716Z"
   },
   {
    "duration": 4,
    "start_time": "2022-05-06T03:51:17.643Z"
   },
   {
    "duration": 32,
    "start_time": "2022-05-06T03:51:29.852Z"
   },
   {
    "duration": 22,
    "start_time": "2022-05-06T03:51:44.402Z"
   },
   {
    "duration": 7,
    "start_time": "2022-05-06T03:52:03.135Z"
   },
   {
    "duration": 11,
    "start_time": "2022-05-06T03:53:00.267Z"
   },
   {
    "duration": 7,
    "start_time": "2022-05-06T03:53:13.774Z"
   },
   {
    "duration": 12,
    "start_time": "2022-05-06T03:57:59.153Z"
   },
   {
    "duration": 51,
    "start_time": "2022-05-06T03:58:04.189Z"
   },
   {
    "duration": 23,
    "start_time": "2022-05-06T03:58:04.243Z"
   },
   {
    "duration": 14,
    "start_time": "2022-05-06T03:58:04.268Z"
   },
   {
    "duration": 4,
    "start_time": "2022-05-06T03:58:04.285Z"
   },
   {
    "duration": 4,
    "start_time": "2022-05-06T03:58:04.291Z"
   },
   {
    "duration": 4,
    "start_time": "2022-05-06T03:58:04.297Z"
   },
   {
    "duration": 71,
    "start_time": "2022-05-06T03:58:04.302Z"
   },
   {
    "duration": 21,
    "start_time": "2022-05-06T03:58:04.375Z"
   },
   {
    "duration": 14,
    "start_time": "2022-05-06T03:58:05.687Z"
   },
   {
    "duration": 52,
    "start_time": "2022-05-06T03:59:18.558Z"
   },
   {
    "duration": 25,
    "start_time": "2022-05-06T03:59:18.613Z"
   },
   {
    "duration": 21,
    "start_time": "2022-05-06T03:59:18.639Z"
   },
   {
    "duration": 5,
    "start_time": "2022-05-06T03:59:18.662Z"
   },
   {
    "duration": 5,
    "start_time": "2022-05-06T03:59:18.670Z"
   },
   {
    "duration": 4,
    "start_time": "2022-05-06T03:59:18.676Z"
   },
   {
    "duration": 69,
    "start_time": "2022-05-06T03:59:18.682Z"
   },
   {
    "duration": 24,
    "start_time": "2022-05-06T03:59:18.752Z"
   },
   {
    "duration": 14,
    "start_time": "2022-05-06T03:59:22.433Z"
   },
   {
    "duration": 7,
    "start_time": "2022-05-06T03:59:29.828Z"
   },
   {
    "duration": 11,
    "start_time": "2022-05-06T04:00:43.928Z"
   },
   {
    "duration": 9,
    "start_time": "2022-05-06T04:01:07.273Z"
   },
   {
    "duration": 9,
    "start_time": "2022-05-06T04:04:16.680Z"
   },
   {
    "duration": 54,
    "start_time": "2022-05-06T04:04:22.554Z"
   },
   {
    "duration": 25,
    "start_time": "2022-05-06T04:04:22.610Z"
   },
   {
    "duration": 23,
    "start_time": "2022-05-06T04:04:22.637Z"
   },
   {
    "duration": 6,
    "start_time": "2022-05-06T04:04:22.662Z"
   },
   {
    "duration": 7,
    "start_time": "2022-05-06T04:04:22.670Z"
   },
   {
    "duration": 4,
    "start_time": "2022-05-06T04:04:22.679Z"
   },
   {
    "duration": 67,
    "start_time": "2022-05-06T04:04:22.685Z"
   },
   {
    "duration": 23,
    "start_time": "2022-05-06T04:04:22.755Z"
   },
   {
    "duration": 11,
    "start_time": "2022-05-06T04:04:23.914Z"
   },
   {
    "duration": 670,
    "start_time": "2022-05-06T04:04:53.310Z"
   },
   {
    "duration": 49,
    "start_time": "2022-05-06T04:04:59.863Z"
   },
   {
    "duration": 23,
    "start_time": "2022-05-06T04:04:59.914Z"
   },
   {
    "duration": 14,
    "start_time": "2022-05-06T04:04:59.938Z"
   },
   {
    "duration": 5,
    "start_time": "2022-05-06T04:04:59.953Z"
   },
   {
    "duration": 6,
    "start_time": "2022-05-06T04:04:59.959Z"
   },
   {
    "duration": 5,
    "start_time": "2022-05-06T04:04:59.967Z"
   },
   {
    "duration": 33,
    "start_time": "2022-05-06T04:04:59.973Z"
   },
   {
    "duration": 53,
    "start_time": "2022-05-06T04:05:00.008Z"
   },
   {
    "duration": 1362,
    "start_time": "2022-05-06T04:05:01.401Z"
   },
   {
    "duration": 12,
    "start_time": "2022-05-06T04:05:19.223Z"
   },
   {
    "duration": 10,
    "start_time": "2022-05-06T04:07:02.273Z"
   },
   {
    "duration": 4,
    "start_time": "2022-05-06T04:07:55.355Z"
   },
   {
    "duration": 101,
    "start_time": "2022-05-06T04:08:16.937Z"
   },
   {
    "duration": 51,
    "start_time": "2022-05-06T04:08:28.065Z"
   },
   {
    "duration": 22,
    "start_time": "2022-05-06T04:08:28.118Z"
   },
   {
    "duration": 13,
    "start_time": "2022-05-06T04:08:28.142Z"
   },
   {
    "duration": 4,
    "start_time": "2022-05-06T04:08:28.157Z"
   },
   {
    "duration": 4,
    "start_time": "2022-05-06T04:08:28.163Z"
   },
   {
    "duration": 5,
    "start_time": "2022-05-06T04:08:28.169Z"
   },
   {
    "duration": 33,
    "start_time": "2022-05-06T04:08:28.175Z"
   },
   {
    "duration": 51,
    "start_time": "2022-05-06T04:08:28.209Z"
   },
   {
    "duration": 81,
    "start_time": "2022-05-06T04:08:29.527Z"
   },
   {
    "duration": 5,
    "start_time": "2022-05-06T04:08:41.102Z"
   },
   {
    "duration": 15,
    "start_time": "2022-05-06T04:08:52.884Z"
   },
   {
    "duration": 11,
    "start_time": "2022-05-06T04:09:16.684Z"
   },
   {
    "duration": 52,
    "start_time": "2022-05-06T04:09:22.017Z"
   },
   {
    "duration": 23,
    "start_time": "2022-05-06T04:09:22.071Z"
   },
   {
    "duration": 14,
    "start_time": "2022-05-06T04:09:22.095Z"
   },
   {
    "duration": 4,
    "start_time": "2022-05-06T04:09:22.111Z"
   },
   {
    "duration": 4,
    "start_time": "2022-05-06T04:09:22.116Z"
   },
   {
    "duration": 26,
    "start_time": "2022-05-06T04:09:22.122Z"
   },
   {
    "duration": 33,
    "start_time": "2022-05-06T04:09:22.150Z"
   },
   {
    "duration": 21,
    "start_time": "2022-05-06T04:09:22.185Z"
   },
   {
    "duration": 14,
    "start_time": "2022-05-06T04:09:23.223Z"
   },
   {
    "duration": 52,
    "start_time": "2022-05-06T04:09:45.025Z"
   },
   {
    "duration": 23,
    "start_time": "2022-05-06T04:09:45.079Z"
   },
   {
    "duration": 14,
    "start_time": "2022-05-06T04:09:45.103Z"
   },
   {
    "duration": 4,
    "start_time": "2022-05-06T04:09:45.119Z"
   },
   {
    "duration": 28,
    "start_time": "2022-05-06T04:09:45.124Z"
   },
   {
    "duration": 4,
    "start_time": "2022-05-06T04:09:45.154Z"
   },
   {
    "duration": 34,
    "start_time": "2022-05-06T04:09:45.159Z"
   },
   {
    "duration": 21,
    "start_time": "2022-05-06T04:09:45.194Z"
   },
   {
    "duration": 7,
    "start_time": "2022-05-06T04:09:47.435Z"
   },
   {
    "duration": 6,
    "start_time": "2022-05-06T04:10:54.450Z"
   },
   {
    "duration": 52,
    "start_time": "2022-05-06T04:11:18.610Z"
   },
   {
    "duration": 23,
    "start_time": "2022-05-06T04:11:18.664Z"
   },
   {
    "duration": 15,
    "start_time": "2022-05-06T04:11:18.688Z"
   },
   {
    "duration": 8,
    "start_time": "2022-05-06T04:11:18.705Z"
   },
   {
    "duration": 7,
    "start_time": "2022-05-06T04:11:18.715Z"
   },
   {
    "duration": 24,
    "start_time": "2022-05-06T04:11:18.724Z"
   },
   {
    "duration": 34,
    "start_time": "2022-05-06T04:11:18.750Z"
   },
   {
    "duration": 21,
    "start_time": "2022-05-06T04:11:18.786Z"
   },
   {
    "duration": 6,
    "start_time": "2022-05-06T04:11:18.809Z"
   },
   {
    "duration": 7,
    "start_time": "2022-05-06T04:11:20.645Z"
   },
   {
    "duration": 6,
    "start_time": "2022-05-06T04:11:40.919Z"
   },
   {
    "duration": 4,
    "start_time": "2022-05-06T04:11:55.433Z"
   },
   {
    "duration": 17,
    "start_time": "2022-05-06T04:12:23.380Z"
   },
   {
    "duration": 54,
    "start_time": "2022-05-06T04:14:23.036Z"
   },
   {
    "duration": 22,
    "start_time": "2022-05-06T04:14:23.092Z"
   },
   {
    "duration": 33,
    "start_time": "2022-05-06T04:14:23.115Z"
   },
   {
    "duration": 4,
    "start_time": "2022-05-06T04:14:23.150Z"
   },
   {
    "duration": 4,
    "start_time": "2022-05-06T04:14:23.156Z"
   },
   {
    "duration": 4,
    "start_time": "2022-05-06T04:14:23.162Z"
   },
   {
    "duration": 35,
    "start_time": "2022-05-06T04:14:23.167Z"
   },
   {
    "duration": 49,
    "start_time": "2022-05-06T04:14:23.203Z"
   },
   {
    "duration": 6,
    "start_time": "2022-05-06T04:14:23.254Z"
   },
   {
    "duration": 8,
    "start_time": "2022-05-06T04:14:23.262Z"
   },
   {
    "duration": 3,
    "start_time": "2022-05-06T04:14:23.271Z"
   },
   {
    "duration": 17,
    "start_time": "2022-05-06T04:14:26.008Z"
   },
   {
    "duration": 56,
    "start_time": "2022-05-06T04:14:42.396Z"
   },
   {
    "duration": 22,
    "start_time": "2022-05-06T04:14:42.454Z"
   },
   {
    "duration": 14,
    "start_time": "2022-05-06T04:14:42.478Z"
   },
   {
    "duration": 5,
    "start_time": "2022-05-06T04:14:42.494Z"
   },
   {
    "duration": 5,
    "start_time": "2022-05-06T04:14:42.500Z"
   },
   {
    "duration": 4,
    "start_time": "2022-05-06T04:14:42.506Z"
   },
   {
    "duration": 66,
    "start_time": "2022-05-06T04:14:42.512Z"
   },
   {
    "duration": 21,
    "start_time": "2022-05-06T04:14:42.579Z"
   },
   {
    "duration": 7,
    "start_time": "2022-05-06T04:14:42.602Z"
   },
   {
    "duration": 5,
    "start_time": "2022-05-06T04:14:42.611Z"
   },
   {
    "duration": 33,
    "start_time": "2022-05-06T04:14:42.617Z"
   },
   {
    "duration": 17,
    "start_time": "2022-05-06T04:14:45.635Z"
   },
   {
    "duration": 21,
    "start_time": "2022-05-06T04:15:13.194Z"
   },
   {
    "duration": 582,
    "start_time": "2022-05-06T04:22:13.894Z"
   },
   {
    "duration": 46,
    "start_time": "2022-05-06T04:22:14.479Z"
   },
   {
    "duration": 20,
    "start_time": "2022-05-06T04:22:14.527Z"
   },
   {
    "duration": 7,
    "start_time": "2022-05-06T04:22:14.550Z"
   },
   {
    "duration": 6,
    "start_time": "2022-05-06T04:22:14.582Z"
   },
   {
    "duration": 9,
    "start_time": "2022-05-06T04:22:14.590Z"
   },
   {
    "duration": 54,
    "start_time": "2022-05-06T04:22:14.601Z"
   },
   {
    "duration": 32,
    "start_time": "2022-05-06T04:22:14.682Z"
   },
   {
    "duration": 9,
    "start_time": "2022-05-06T04:22:14.717Z"
   },
   {
    "duration": 9,
    "start_time": "2022-05-06T04:22:14.730Z"
   },
   {
    "duration": 4,
    "start_time": "2022-05-06T04:22:14.741Z"
   },
   {
    "duration": 60,
    "start_time": "2022-05-06T04:22:14.747Z"
   },
   {
    "duration": 28,
    "start_time": "2022-05-06T04:22:14.809Z"
   },
   {
    "duration": 3,
    "start_time": "2022-05-06T04:22:14.839Z"
   },
   {
    "duration": 38,
    "start_time": "2022-05-06T04:22:14.844Z"
   },
   {
    "duration": 10,
    "start_time": "2022-05-06T04:22:14.884Z"
   },
   {
    "duration": 7,
    "start_time": "2022-05-06T04:22:14.896Z"
   },
   {
    "duration": 35,
    "start_time": "2022-05-06T04:22:14.905Z"
   },
   {
    "duration": 48,
    "start_time": "2022-05-06T04:22:14.942Z"
   },
   {
    "duration": 24,
    "start_time": "2022-05-06T04:22:14.992Z"
   },
   {
    "duration": 6,
    "start_time": "2022-05-06T04:22:15.018Z"
   },
   {
    "duration": 22,
    "start_time": "2022-05-06T04:22:15.026Z"
   },
   {
    "duration": 37,
    "start_time": "2022-05-06T04:22:15.050Z"
   },
   {
    "duration": 31,
    "start_time": "2022-05-06T04:22:15.089Z"
   },
   {
    "duration": 5,
    "start_time": "2022-05-06T04:22:15.122Z"
   },
   {
    "duration": 36,
    "start_time": "2022-05-06T04:22:15.129Z"
   },
   {
    "duration": 49,
    "start_time": "2022-05-06T04:22:15.167Z"
   },
   {
    "duration": 11,
    "start_time": "2022-05-06T04:22:15.220Z"
   },
   {
    "duration": 23,
    "start_time": "2022-05-06T04:22:15.233Z"
   },
   {
    "duration": 21,
    "start_time": "2022-05-06T04:22:15.281Z"
   },
   {
    "duration": 9,
    "start_time": "2022-05-06T04:22:15.304Z"
   },
   {
    "duration": 11,
    "start_time": "2022-05-06T04:22:15.315Z"
   },
   {
    "duration": 14,
    "start_time": "2022-05-06T04:22:15.328Z"
   },
   {
    "duration": 61,
    "start_time": "2022-05-06T04:22:15.344Z"
   },
   {
    "duration": 10,
    "start_time": "2022-05-06T04:22:15.407Z"
   },
   {
    "duration": 13,
    "start_time": "2022-05-06T04:22:15.419Z"
   },
   {
    "duration": 59,
    "start_time": "2022-05-06T04:22:15.434Z"
   },
   {
    "duration": 10,
    "start_time": "2022-05-06T04:22:15.495Z"
   },
   {
    "duration": 16,
    "start_time": "2022-05-06T04:22:15.507Z"
   },
   {
    "duration": 112,
    "start_time": "2022-05-06T04:23:08.530Z"
   },
   {
    "duration": 38,
    "start_time": "2022-05-06T04:23:08.645Z"
   },
   {
    "duration": 22,
    "start_time": "2022-05-06T04:23:08.685Z"
   },
   {
    "duration": 41,
    "start_time": "2022-05-06T04:23:08.710Z"
   },
   {
    "duration": 12,
    "start_time": "2022-05-06T04:23:08.754Z"
   },
   {
    "duration": 10,
    "start_time": "2022-05-06T04:23:08.769Z"
   },
   {
    "duration": 66,
    "start_time": "2022-05-06T04:23:08.781Z"
   },
   {
    "duration": 42,
    "start_time": "2022-05-06T04:23:08.850Z"
   },
   {
    "duration": 10,
    "start_time": "2022-05-06T04:23:08.895Z"
   },
   {
    "duration": 5,
    "start_time": "2022-05-06T04:23:10.983Z"
   },
   {
    "duration": 28,
    "start_time": "2022-05-06T04:23:15.213Z"
   },
   {
    "duration": 29,
    "start_time": "2022-05-06T04:23:18.249Z"
   },
   {
    "duration": 69,
    "start_time": "2022-05-06T04:23:57.005Z"
   },
   {
    "duration": 35,
    "start_time": "2022-05-06T04:23:57.076Z"
   },
   {
    "duration": 20,
    "start_time": "2022-05-06T04:23:57.113Z"
   },
   {
    "duration": 7,
    "start_time": "2022-05-06T04:23:57.135Z"
   },
   {
    "duration": 5,
    "start_time": "2022-05-06T04:23:58.809Z"
   },
   {
    "duration": 54,
    "start_time": "2022-05-06T04:24:01.573Z"
   },
   {
    "duration": 33,
    "start_time": "2022-05-06T04:24:11.188Z"
   },
   {
    "duration": 11,
    "start_time": "2022-05-06T04:24:20.292Z"
   },
   {
    "duration": 8,
    "start_time": "2022-05-06T04:24:30.065Z"
   },
   {
    "duration": 103,
    "start_time": "2022-05-06T04:24:36.269Z"
   },
   {
    "duration": 69,
    "start_time": "2022-05-06T04:24:58.661Z"
   },
   {
    "duration": 51,
    "start_time": "2022-05-06T04:24:58.733Z"
   },
   {
    "duration": 22,
    "start_time": "2022-05-06T04:24:58.786Z"
   },
   {
    "duration": 6,
    "start_time": "2022-05-06T04:24:58.811Z"
   },
   {
    "duration": 7,
    "start_time": "2022-05-06T04:24:58.819Z"
   },
   {
    "duration": 9,
    "start_time": "2022-05-06T04:24:58.828Z"
   },
   {
    "duration": 88,
    "start_time": "2022-05-06T04:24:58.839Z"
   },
   {
    "duration": 53,
    "start_time": "2022-05-06T04:24:58.930Z"
   },
   {
    "duration": 10,
    "start_time": "2022-05-06T04:24:58.985Z"
   },
   {
    "duration": 8,
    "start_time": "2022-05-06T04:24:58.998Z"
   },
   {
    "duration": 4,
    "start_time": "2022-05-06T04:25:00.959Z"
   },
   {
    "duration": 68,
    "start_time": "2022-05-06T04:25:12.429Z"
   },
   {
    "duration": 35,
    "start_time": "2022-05-06T04:25:12.499Z"
   },
   {
    "duration": 20,
    "start_time": "2022-05-06T04:25:12.536Z"
   },
   {
    "duration": 27,
    "start_time": "2022-05-06T04:25:12.559Z"
   },
   {
    "duration": 6,
    "start_time": "2022-05-06T04:25:12.588Z"
   },
   {
    "duration": 6,
    "start_time": "2022-05-06T04:25:12.596Z"
   },
   {
    "duration": 83,
    "start_time": "2022-05-06T04:25:12.604Z"
   },
   {
    "duration": 33,
    "start_time": "2022-05-06T04:25:12.689Z"
   },
   {
    "duration": 10,
    "start_time": "2022-05-06T04:25:12.724Z"
   },
   {
    "duration": 45,
    "start_time": "2022-05-06T04:25:12.737Z"
   },
   {
    "duration": 5,
    "start_time": "2022-05-06T04:25:12.784Z"
   },
   {
    "duration": 26,
    "start_time": "2022-05-06T04:25:14.282Z"
   },
   {
    "duration": 27,
    "start_time": "2022-05-06T04:25:25.613Z"
   },
   {
    "duration": 69,
    "start_time": "2022-05-06T04:26:05.382Z"
   },
   {
    "duration": 46,
    "start_time": "2022-05-06T04:26:05.454Z"
   },
   {
    "duration": 21,
    "start_time": "2022-05-06T04:26:05.503Z"
   },
   {
    "duration": 10,
    "start_time": "2022-05-06T04:26:05.526Z"
   },
   {
    "duration": 13,
    "start_time": "2022-05-06T04:26:05.538Z"
   },
   {
    "duration": 32,
    "start_time": "2022-05-06T04:26:05.553Z"
   },
   {
    "duration": 61,
    "start_time": "2022-05-06T04:26:05.587Z"
   },
   {
    "duration": 50,
    "start_time": "2022-05-06T04:26:05.650Z"
   },
   {
    "duration": 16,
    "start_time": "2022-05-06T04:26:08.166Z"
   },
   {
    "duration": 17,
    "start_time": "2022-05-06T04:26:19.427Z"
   },
   {
    "duration": 68,
    "start_time": "2022-05-06T04:26:25.833Z"
   },
   {
    "duration": 35,
    "start_time": "2022-05-06T04:26:25.904Z"
   },
   {
    "duration": 41,
    "start_time": "2022-05-06T04:26:25.941Z"
   },
   {
    "duration": 8,
    "start_time": "2022-05-06T04:26:25.984Z"
   },
   {
    "duration": 7,
    "start_time": "2022-05-06T04:26:25.994Z"
   },
   {
    "duration": 9,
    "start_time": "2022-05-06T04:26:26.003Z"
   },
   {
    "duration": 86,
    "start_time": "2022-05-06T04:26:26.014Z"
   },
   {
    "duration": 34,
    "start_time": "2022-05-06T04:26:26.102Z"
   },
   {
    "duration": 23,
    "start_time": "2022-05-06T04:26:27.841Z"
   },
   {
    "duration": 8,
    "start_time": "2022-05-06T04:26:46.055Z"
   },
   {
    "duration": 6,
    "start_time": "2022-05-06T04:26:49.193Z"
   },
   {
    "duration": 27,
    "start_time": "2022-05-06T04:26:53.841Z"
   },
   {
    "duration": 28,
    "start_time": "2022-05-06T04:26:58.013Z"
   },
   {
    "duration": 69,
    "start_time": "2022-05-06T04:29:19.858Z"
   },
   {
    "duration": 36,
    "start_time": "2022-05-06T04:29:19.929Z"
   },
   {
    "duration": 31,
    "start_time": "2022-05-06T04:29:19.968Z"
   },
   {
    "duration": 7,
    "start_time": "2022-05-06T04:29:20.001Z"
   },
   {
    "duration": 6,
    "start_time": "2022-05-06T04:29:20.011Z"
   },
   {
    "duration": 6,
    "start_time": "2022-05-06T04:29:20.019Z"
   },
   {
    "duration": 92,
    "start_time": "2022-05-06T04:29:20.027Z"
   },
   {
    "duration": 33,
    "start_time": "2022-05-06T04:29:20.121Z"
   },
   {
    "duration": 984,
    "start_time": "2022-05-06T04:29:21.115Z"
   },
   {
    "duration": 21,
    "start_time": "2022-05-06T04:31:03.289Z"
   },
   {
    "duration": 16,
    "start_time": "2022-05-06T04:31:18.167Z"
   },
   {
    "duration": 27,
    "start_time": "2022-05-06T04:32:15.199Z"
   },
   {
    "duration": 69,
    "start_time": "2022-05-06T04:32:45.928Z"
   },
   {
    "duration": 49,
    "start_time": "2022-05-06T04:32:46.000Z"
   },
   {
    "duration": 46,
    "start_time": "2022-05-06T04:32:46.052Z"
   },
   {
    "duration": 8,
    "start_time": "2022-05-06T04:32:46.101Z"
   },
   {
    "duration": 8,
    "start_time": "2022-05-06T04:32:46.112Z"
   },
   {
    "duration": 6,
    "start_time": "2022-05-06T04:32:46.123Z"
   },
   {
    "duration": 94,
    "start_time": "2022-05-06T04:32:46.132Z"
   },
   {
    "duration": 57,
    "start_time": "2022-05-06T04:32:46.229Z"
   },
   {
    "duration": 22,
    "start_time": "2022-05-06T04:32:46.289Z"
   },
   {
    "duration": 27,
    "start_time": "2022-05-06T04:32:54.430Z"
   },
   {
    "duration": 71,
    "start_time": "2022-05-06T04:33:05.168Z"
   },
   {
    "duration": 55,
    "start_time": "2022-05-06T04:33:05.242Z"
   },
   {
    "duration": 23,
    "start_time": "2022-05-06T04:33:05.300Z"
   },
   {
    "duration": 8,
    "start_time": "2022-05-06T04:33:05.327Z"
   },
   {
    "duration": 44,
    "start_time": "2022-05-06T04:33:05.338Z"
   },
   {
    "duration": 12,
    "start_time": "2022-05-06T04:33:05.385Z"
   },
   {
    "duration": 82,
    "start_time": "2022-05-06T04:33:05.400Z"
   },
   {
    "duration": 40,
    "start_time": "2022-05-06T04:33:05.484Z"
   },
   {
    "duration": 60,
    "start_time": "2022-05-06T04:33:05.526Z"
   },
   {
    "duration": 4,
    "start_time": "2022-05-06T04:33:10.505Z"
   },
   {
    "duration": 27,
    "start_time": "2022-05-06T04:33:15.035Z"
   },
   {
    "duration": 71,
    "start_time": "2022-05-06T04:33:22.480Z"
   },
   {
    "duration": 48,
    "start_time": "2022-05-06T04:33:22.554Z"
   },
   {
    "duration": 24,
    "start_time": "2022-05-06T04:33:22.605Z"
   },
   {
    "duration": 6,
    "start_time": "2022-05-06T04:33:22.633Z"
   },
   {
    "duration": 42,
    "start_time": "2022-05-06T04:33:22.642Z"
   },
   {
    "duration": 6,
    "start_time": "2022-05-06T04:33:22.686Z"
   },
   {
    "duration": 112,
    "start_time": "2022-05-06T04:33:22.694Z"
   },
   {
    "duration": 36,
    "start_time": "2022-05-06T04:33:22.808Z"
   },
   {
    "duration": 50,
    "start_time": "2022-05-06T04:33:22.846Z"
   },
   {
    "duration": 8,
    "start_time": "2022-05-06T04:33:22.900Z"
   },
   {
    "duration": 28,
    "start_time": "2022-05-06T04:33:27.854Z"
   },
   {
    "duration": 29,
    "start_time": "2022-05-06T04:33:30.741Z"
   },
   {
    "duration": 68,
    "start_time": "2022-05-06T04:33:59.337Z"
   },
   {
    "duration": 36,
    "start_time": "2022-05-06T04:33:59.408Z"
   },
   {
    "duration": 41,
    "start_time": "2022-05-06T04:33:59.447Z"
   },
   {
    "duration": 8,
    "start_time": "2022-05-06T04:33:59.491Z"
   },
   {
    "duration": 6,
    "start_time": "2022-05-06T04:33:59.501Z"
   },
   {
    "duration": 7,
    "start_time": "2022-05-06T04:33:59.509Z"
   },
   {
    "duration": 96,
    "start_time": "2022-05-06T04:33:59.518Z"
   },
   {
    "duration": 34,
    "start_time": "2022-05-06T04:33:59.617Z"
   },
   {
    "duration": 44,
    "start_time": "2022-05-06T04:33:59.653Z"
   },
   {
    "duration": 8,
    "start_time": "2022-05-06T04:33:59.700Z"
   },
   {
    "duration": 5,
    "start_time": "2022-05-06T04:33:59.710Z"
   },
   {
    "duration": 23,
    "start_time": "2022-05-06T04:33:59.717Z"
   },
   {
    "duration": 26,
    "start_time": "2022-05-06T04:34:01.510Z"
   },
   {
    "duration": 117,
    "start_time": "2022-05-06T04:34:38.177Z"
   },
   {
    "duration": 49,
    "start_time": "2022-05-06T04:34:38.297Z"
   },
   {
    "duration": 53,
    "start_time": "2022-05-06T04:34:38.349Z"
   },
   {
    "duration": 9,
    "start_time": "2022-05-06T04:34:38.405Z"
   },
   {
    "duration": 7,
    "start_time": "2022-05-06T04:34:38.417Z"
   },
   {
    "duration": 6,
    "start_time": "2022-05-06T04:34:38.426Z"
   },
   {
    "duration": 111,
    "start_time": "2022-05-06T04:34:38.435Z"
   },
   {
    "duration": 65,
    "start_time": "2022-05-06T04:34:38.548Z"
   },
   {
    "duration": 25,
    "start_time": "2022-05-06T04:34:38.616Z"
   },
   {
    "duration": 39,
    "start_time": "2022-05-06T04:34:38.647Z"
   },
   {
    "duration": 5,
    "start_time": "2022-05-06T04:34:38.689Z"
   },
   {
    "duration": 24,
    "start_time": "2022-05-06T04:34:38.696Z"
   },
   {
    "duration": 25,
    "start_time": "2022-05-06T04:34:38.722Z"
   },
   {
    "duration": 3,
    "start_time": "2022-05-06T04:34:38.781Z"
   },
   {
    "duration": 9,
    "start_time": "2022-05-06T04:34:38.786Z"
   },
   {
    "duration": 6,
    "start_time": "2022-05-06T04:34:38.797Z"
   },
   {
    "duration": 6,
    "start_time": "2022-05-06T04:34:38.805Z"
   },
   {
    "duration": 35,
    "start_time": "2022-05-06T04:34:38.813Z"
   },
   {
    "duration": 30,
    "start_time": "2022-05-06T04:34:38.881Z"
   },
   {
    "duration": 24,
    "start_time": "2022-05-06T04:34:38.913Z"
   },
   {
    "duration": 6,
    "start_time": "2022-05-06T04:34:38.938Z"
   },
   {
    "duration": 5,
    "start_time": "2022-05-06T04:34:38.981Z"
   },
   {
    "duration": 9,
    "start_time": "2022-05-06T04:34:38.988Z"
   },
   {
    "duration": 29,
    "start_time": "2022-05-06T04:34:38.999Z"
   },
   {
    "duration": 5,
    "start_time": "2022-05-06T04:34:39.030Z"
   },
   {
    "duration": 68,
    "start_time": "2022-05-06T04:34:39.037Z"
   },
   {
    "duration": 27,
    "start_time": "2022-05-06T04:34:39.108Z"
   },
   {
    "duration": 11,
    "start_time": "2022-05-06T04:34:39.144Z"
   },
   {
    "duration": 43,
    "start_time": "2022-05-06T04:34:39.157Z"
   },
   {
    "duration": 30,
    "start_time": "2022-05-06T04:34:39.202Z"
   },
   {
    "duration": 9,
    "start_time": "2022-05-06T04:34:39.235Z"
   },
   {
    "duration": 39,
    "start_time": "2022-05-06T04:34:39.246Z"
   },
   {
    "duration": 18,
    "start_time": "2022-05-06T04:34:39.287Z"
   },
   {
    "duration": 24,
    "start_time": "2022-05-06T04:34:39.307Z"
   },
   {
    "duration": 7,
    "start_time": "2022-05-06T04:34:39.334Z"
   },
   {
    "duration": 47,
    "start_time": "2022-05-06T04:34:39.343Z"
   },
   {
    "duration": 27,
    "start_time": "2022-05-06T04:34:39.392Z"
   },
   {
    "duration": 8,
    "start_time": "2022-05-06T04:34:39.421Z"
   },
   {
    "duration": 16,
    "start_time": "2022-05-06T04:34:39.431Z"
   },
   {
    "duration": 70,
    "start_time": "2022-05-06T04:35:53.659Z"
   },
   {
    "duration": 56,
    "start_time": "2022-05-06T04:35:53.732Z"
   },
   {
    "duration": 21,
    "start_time": "2022-05-06T04:35:53.790Z"
   },
   {
    "duration": 6,
    "start_time": "2022-05-06T04:35:53.815Z"
   },
   {
    "duration": 9,
    "start_time": "2022-05-06T04:35:53.823Z"
   },
   {
    "duration": 6,
    "start_time": "2022-05-06T04:35:53.834Z"
   },
   {
    "duration": 90,
    "start_time": "2022-05-06T04:35:53.842Z"
   },
   {
    "duration": 68,
    "start_time": "2022-05-06T04:35:53.934Z"
   },
   {
    "duration": 23,
    "start_time": "2022-05-06T04:35:54.004Z"
   },
   {
    "duration": 9,
    "start_time": "2022-05-06T04:35:54.032Z"
   },
   {
    "duration": 5,
    "start_time": "2022-05-06T04:35:54.083Z"
   },
   {
    "duration": 24,
    "start_time": "2022-05-06T04:35:54.091Z"
   },
   {
    "duration": 26,
    "start_time": "2022-05-06T04:35:54.117Z"
   },
   {
    "duration": 37,
    "start_time": "2022-05-06T04:35:54.145Z"
   },
   {
    "duration": 6,
    "start_time": "2022-05-06T04:35:54.184Z"
   },
   {
    "duration": 6,
    "start_time": "2022-05-06T04:35:54.192Z"
   },
   {
    "duration": 6,
    "start_time": "2022-05-06T04:35:54.200Z"
   },
   {
    "duration": 32,
    "start_time": "2022-05-06T04:35:55.755Z"
   },
   {
    "duration": 38,
    "start_time": "2022-05-06T04:37:18.367Z"
   },
   {
    "duration": 44,
    "start_time": "2022-05-06T04:37:36.789Z"
   },
   {
    "duration": 43,
    "start_time": "2022-05-06T04:38:58.127Z"
   },
   {
    "duration": 44,
    "start_time": "2022-05-06T04:39:15.717Z"
   },
   {
    "duration": 31,
    "start_time": "2022-05-06T04:45:32.133Z"
   },
   {
    "duration": 116,
    "start_time": "2022-05-06T04:45:37.784Z"
   },
   {
    "duration": 52,
    "start_time": "2022-05-06T04:45:37.903Z"
   },
   {
    "duration": 48,
    "start_time": "2022-05-06T04:45:37.958Z"
   },
   {
    "duration": 8,
    "start_time": "2022-05-06T04:45:38.009Z"
   },
   {
    "duration": 8,
    "start_time": "2022-05-06T04:45:38.020Z"
   },
   {
    "duration": 6,
    "start_time": "2022-05-06T04:45:38.031Z"
   },
   {
    "duration": 104,
    "start_time": "2022-05-06T04:45:38.040Z"
   },
   {
    "duration": 67,
    "start_time": "2022-05-06T04:45:38.147Z"
   },
   {
    "duration": 27,
    "start_time": "2022-05-06T04:45:38.217Z"
   },
   {
    "duration": 37,
    "start_time": "2022-05-06T04:45:38.249Z"
   },
   {
    "duration": 5,
    "start_time": "2022-05-06T04:45:38.289Z"
   },
   {
    "duration": 31,
    "start_time": "2022-05-06T04:45:38.297Z"
   },
   {
    "duration": 58,
    "start_time": "2022-05-06T04:45:38.330Z"
   },
   {
    "duration": 3,
    "start_time": "2022-05-06T04:45:38.390Z"
   },
   {
    "duration": 6,
    "start_time": "2022-05-06T04:45:38.395Z"
   },
   {
    "duration": 6,
    "start_time": "2022-05-06T04:45:38.403Z"
   },
   {
    "duration": 6,
    "start_time": "2022-05-06T04:45:38.411Z"
   },
   {
    "duration": 67,
    "start_time": "2022-05-06T04:45:38.420Z"
   },
   {
    "duration": 32,
    "start_time": "2022-05-06T04:45:39.930Z"
   },
   {
    "duration": 69,
    "start_time": "2022-05-06T04:47:03.007Z"
   },
   {
    "duration": 37,
    "start_time": "2022-05-06T04:47:03.078Z"
   },
   {
    "duration": 21,
    "start_time": "2022-05-06T04:47:03.118Z"
   },
   {
    "duration": 7,
    "start_time": "2022-05-06T04:47:03.142Z"
   },
   {
    "duration": 31,
    "start_time": "2022-05-06T04:47:03.151Z"
   },
   {
    "duration": 9,
    "start_time": "2022-05-06T04:47:03.184Z"
   },
   {
    "duration": 54,
    "start_time": "2022-05-06T04:47:03.195Z"
   },
   {
    "duration": 62,
    "start_time": "2022-05-06T04:47:03.252Z"
   },
   {
    "duration": 21,
    "start_time": "2022-05-06T04:47:03.316Z"
   },
   {
    "duration": 41,
    "start_time": "2022-05-06T04:47:03.341Z"
   },
   {
    "duration": 5,
    "start_time": "2022-05-06T04:47:03.384Z"
   },
   {
    "duration": 24,
    "start_time": "2022-05-06T04:47:03.391Z"
   },
   {
    "duration": 25,
    "start_time": "2022-05-06T04:47:03.417Z"
   },
   {
    "duration": 4,
    "start_time": "2022-05-06T04:47:03.444Z"
   },
   {
    "duration": 4,
    "start_time": "2022-05-06T04:47:03.481Z"
   },
   {
    "duration": 42,
    "start_time": "2022-05-06T04:47:03.487Z"
   },
   {
    "duration": 31,
    "start_time": "2022-05-06T04:47:05.095Z"
   },
   {
    "duration": 67,
    "start_time": "2022-05-06T04:47:38.199Z"
   },
   {
    "duration": 35,
    "start_time": "2022-05-06T04:47:38.268Z"
   },
   {
    "duration": 21,
    "start_time": "2022-05-06T04:47:38.305Z"
   },
   {
    "duration": 7,
    "start_time": "2022-05-06T04:47:38.330Z"
   },
   {
    "duration": 43,
    "start_time": "2022-05-06T04:47:38.339Z"
   },
   {
    "duration": 6,
    "start_time": "2022-05-06T04:47:38.384Z"
   },
   {
    "duration": 56,
    "start_time": "2022-05-06T04:47:38.392Z"
   },
   {
    "duration": 65,
    "start_time": "2022-05-06T04:47:38.451Z"
   },
   {
    "duration": 21,
    "start_time": "2022-05-06T04:47:38.518Z"
   },
   {
    "duration": 40,
    "start_time": "2022-05-06T04:47:38.542Z"
   },
   {
    "duration": 5,
    "start_time": "2022-05-06T04:47:38.584Z"
   },
   {
    "duration": 24,
    "start_time": "2022-05-06T04:47:38.591Z"
   },
   {
    "duration": 25,
    "start_time": "2022-05-06T04:47:40.761Z"
   },
   {
    "duration": 26,
    "start_time": "2022-05-06T04:47:49.329Z"
   },
   {
    "duration": 49,
    "start_time": "2022-05-06T04:48:53.958Z"
   },
   {
    "duration": 43,
    "start_time": "2022-05-06T04:49:25.529Z"
   },
   {
    "duration": 31,
    "start_time": "2022-05-06T04:50:25.939Z"
   },
   {
    "duration": 104,
    "start_time": "2022-05-06T04:50:45.182Z"
   },
   {
    "duration": 98,
    "start_time": "2022-05-06T04:51:05.997Z"
   },
   {
    "duration": 31,
    "start_time": "2022-05-06T04:51:14.075Z"
   },
   {
    "duration": 8,
    "start_time": "2022-05-06T04:51:21.297Z"
   },
   {
    "duration": 21,
    "start_time": "2022-05-06T04:51:30.412Z"
   },
   {
    "duration": 101,
    "start_time": "2022-05-06T04:51:35.416Z"
   },
   {
    "duration": 62,
    "start_time": "2022-05-06T04:51:35.520Z"
   },
   {
    "duration": 30,
    "start_time": "2022-05-06T04:51:35.584Z"
   },
   {
    "duration": 8,
    "start_time": "2022-05-06T04:51:35.618Z"
   },
   {
    "duration": 8,
    "start_time": "2022-05-06T04:51:35.628Z"
   },
   {
    "duration": 42,
    "start_time": "2022-05-06T04:51:35.639Z"
   },
   {
    "duration": 74,
    "start_time": "2022-05-06T04:51:35.684Z"
   },
   {
    "duration": 50,
    "start_time": "2022-05-06T04:51:35.781Z"
   },
   {
    "duration": 52,
    "start_time": "2022-05-06T04:51:35.833Z"
   },
   {
    "duration": 9,
    "start_time": "2022-05-06T04:51:35.889Z"
   },
   {
    "duration": 6,
    "start_time": "2022-05-06T04:51:35.900Z"
   },
   {
    "duration": 34,
    "start_time": "2022-05-06T04:51:35.908Z"
   },
   {
    "duration": 63,
    "start_time": "2022-05-06T04:51:35.945Z"
   },
   {
    "duration": 4,
    "start_time": "2022-05-06T04:51:36.010Z"
   },
   {
    "duration": 7,
    "start_time": "2022-05-06T04:51:36.016Z"
   },
   {
    "duration": 91,
    "start_time": "2022-05-06T04:51:36.026Z"
   },
   {
    "duration": 125,
    "start_time": "2022-05-06T04:51:36.119Z"
   },
   {
    "duration": 39,
    "start_time": "2022-05-06T04:51:36.246Z"
   },
   {
    "duration": 24,
    "start_time": "2022-05-06T04:51:39.163Z"
   },
   {
    "duration": 5,
    "start_time": "2022-05-06T04:51:54.037Z"
   },
   {
    "duration": 5,
    "start_time": "2022-05-06T04:51:56.519Z"
   },
   {
    "duration": 25,
    "start_time": "2022-05-06T04:52:04.179Z"
   },
   {
    "duration": 68,
    "start_time": "2022-05-06T04:52:49.411Z"
   },
   {
    "duration": 37,
    "start_time": "2022-05-06T04:52:49.481Z"
   },
   {
    "duration": 22,
    "start_time": "2022-05-06T04:52:49.520Z"
   },
   {
    "duration": 39,
    "start_time": "2022-05-06T04:52:49.545Z"
   },
   {
    "duration": 7,
    "start_time": "2022-05-06T04:52:49.586Z"
   },
   {
    "duration": 6,
    "start_time": "2022-05-06T04:52:49.596Z"
   },
   {
    "duration": 82,
    "start_time": "2022-05-06T04:52:49.604Z"
   },
   {
    "duration": 35,
    "start_time": "2022-05-06T04:52:49.688Z"
   },
   {
    "duration": 21,
    "start_time": "2022-05-06T04:52:49.725Z"
   },
   {
    "duration": 9,
    "start_time": "2022-05-06T04:52:49.784Z"
   },
   {
    "duration": 6,
    "start_time": "2022-05-06T04:52:49.795Z"
   },
   {
    "duration": 31,
    "start_time": "2022-05-06T04:52:49.803Z"
   },
   {
    "duration": 71,
    "start_time": "2022-05-06T04:52:49.836Z"
   },
   {
    "duration": 4,
    "start_time": "2022-05-06T04:52:49.909Z"
   },
   {
    "duration": 8,
    "start_time": "2022-05-06T04:52:49.915Z"
   },
   {
    "duration": 87,
    "start_time": "2022-05-06T04:52:49.926Z"
   },
   {
    "duration": 118,
    "start_time": "2022-05-06T04:52:50.016Z"
   },
   {
    "duration": 31,
    "start_time": "2022-05-06T04:52:50.137Z"
   },
   {
    "duration": 24,
    "start_time": "2022-05-06T04:52:50.183Z"
   },
   {
    "duration": 6,
    "start_time": "2022-05-06T04:52:50.210Z"
   },
   {
    "duration": 16,
    "start_time": "2022-05-06T04:52:50.218Z"
   },
   {
    "duration": 60,
    "start_time": "2022-05-06T04:52:50.236Z"
   },
   {
    "duration": 5,
    "start_time": "2022-05-06T04:52:52.902Z"
   },
   {
    "duration": 41,
    "start_time": "2022-05-06T04:52:56.267Z"
   },
   {
    "duration": 104,
    "start_time": "2022-05-06T04:53:15.697Z"
   },
   {
    "duration": 50,
    "start_time": "2022-05-06T04:53:15.804Z"
   },
   {
    "duration": 41,
    "start_time": "2022-05-06T04:53:15.857Z"
   },
   {
    "duration": 8,
    "start_time": "2022-05-06T04:53:15.901Z"
   },
   {
    "duration": 15,
    "start_time": "2022-05-06T04:53:15.911Z"
   },
   {
    "duration": 7,
    "start_time": "2022-05-06T04:53:15.928Z"
   },
   {
    "duration": 105,
    "start_time": "2022-05-06T04:53:15.938Z"
   },
   {
    "duration": 63,
    "start_time": "2022-05-06T04:53:16.046Z"
   },
   {
    "duration": 26,
    "start_time": "2022-05-06T04:53:16.112Z"
   },
   {
    "duration": 42,
    "start_time": "2022-05-06T04:53:16.142Z"
   },
   {
    "duration": 5,
    "start_time": "2022-05-06T04:53:16.187Z"
   },
   {
    "duration": 32,
    "start_time": "2022-05-06T04:53:16.194Z"
   },
   {
    "duration": 27,
    "start_time": "2022-05-06T04:53:16.228Z"
   },
   {
    "duration": 4,
    "start_time": "2022-05-06T04:53:16.282Z"
   },
   {
    "duration": 8,
    "start_time": "2022-05-06T04:53:16.288Z"
   },
   {
    "duration": 39,
    "start_time": "2022-05-06T04:53:16.299Z"
   },
   {
    "duration": 104,
    "start_time": "2022-05-06T04:53:16.341Z"
   },
   {
    "duration": 41,
    "start_time": "2022-05-06T04:53:16.447Z"
   },
   {
    "duration": 19,
    "start_time": "2022-05-06T04:53:16.491Z"
   },
   {
    "duration": 5,
    "start_time": "2022-05-06T04:53:16.513Z"
   },
   {
    "duration": 10,
    "start_time": "2022-05-06T04:53:16.520Z"
   },
   {
    "duration": 53,
    "start_time": "2022-05-06T04:53:16.532Z"
   },
   {
    "duration": 4,
    "start_time": "2022-05-06T04:53:16.588Z"
   },
   {
    "duration": 30,
    "start_time": "2022-05-06T04:53:16.594Z"
   },
   {
    "duration": 21,
    "start_time": "2022-05-06T04:53:16.627Z"
   },
   {
    "duration": 37,
    "start_time": "2022-05-06T04:53:16.651Z"
   },
   {
    "duration": 16,
    "start_time": "2022-05-06T04:53:18.482Z"
   },
   {
    "duration": 101,
    "start_time": "2022-05-06T04:54:56.537Z"
   },
   {
    "duration": 63,
    "start_time": "2022-05-06T04:54:56.641Z"
   },
   {
    "duration": 29,
    "start_time": "2022-05-06T04:54:56.707Z"
   },
   {
    "duration": 8,
    "start_time": "2022-05-06T04:54:56.740Z"
   },
   {
    "duration": 32,
    "start_time": "2022-05-06T04:54:56.750Z"
   },
   {
    "duration": 6,
    "start_time": "2022-05-06T04:54:56.784Z"
   },
   {
    "duration": 53,
    "start_time": "2022-05-06T04:54:56.792Z"
   },
   {
    "duration": 62,
    "start_time": "2022-05-06T04:54:56.847Z"
   },
   {
    "duration": 20,
    "start_time": "2022-05-06T04:54:56.911Z"
   },
   {
    "duration": 8,
    "start_time": "2022-05-06T04:54:56.935Z"
   },
   {
    "duration": 38,
    "start_time": "2022-05-06T04:54:56.945Z"
   },
   {
    "duration": 23,
    "start_time": "2022-05-06T04:54:56.985Z"
   },
   {
    "duration": 24,
    "start_time": "2022-05-06T04:54:57.010Z"
   },
   {
    "duration": 4,
    "start_time": "2022-05-06T04:54:57.036Z"
   },
   {
    "duration": 4,
    "start_time": "2022-05-06T04:54:57.081Z"
   },
   {
    "duration": 41,
    "start_time": "2022-05-06T04:54:57.087Z"
   },
   {
    "duration": 104,
    "start_time": "2022-05-06T04:54:57.130Z"
   },
   {
    "duration": 23,
    "start_time": "2022-05-06T04:54:57.236Z"
   },
   {
    "duration": 35,
    "start_time": "2022-05-06T04:54:57.261Z"
   },
   {
    "duration": 10,
    "start_time": "2022-05-06T04:54:57.298Z"
   },
   {
    "duration": 14,
    "start_time": "2022-05-06T04:54:57.310Z"
   },
   {
    "duration": 27,
    "start_time": "2022-05-06T04:54:57.326Z"
   },
   {
    "duration": 4,
    "start_time": "2022-05-06T04:54:57.355Z"
   },
   {
    "duration": 31,
    "start_time": "2022-05-06T04:54:57.382Z"
   },
   {
    "duration": 31,
    "start_time": "2022-05-06T04:54:57.416Z"
   },
   {
    "duration": 40,
    "start_time": "2022-05-06T04:54:57.449Z"
   },
   {
    "duration": 19,
    "start_time": "2022-05-06T04:54:59.188Z"
   },
   {
    "duration": 71,
    "start_time": "2022-05-06T05:00:02.845Z"
   },
   {
    "duration": 35,
    "start_time": "2022-05-06T05:00:02.919Z"
   },
   {
    "duration": 42,
    "start_time": "2022-05-06T05:00:02.957Z"
   },
   {
    "duration": 7,
    "start_time": "2022-05-06T05:00:03.002Z"
   },
   {
    "duration": 12,
    "start_time": "2022-05-06T05:00:03.012Z"
   },
   {
    "duration": 8,
    "start_time": "2022-05-06T05:00:03.027Z"
   },
   {
    "duration": 83,
    "start_time": "2022-05-06T05:00:03.037Z"
   },
   {
    "duration": 33,
    "start_time": "2022-05-06T05:00:03.122Z"
   },
   {
    "duration": 41,
    "start_time": "2022-05-06T05:00:03.157Z"
   },
   {
    "duration": 8,
    "start_time": "2022-05-06T05:00:03.202Z"
   },
   {
    "duration": 7,
    "start_time": "2022-05-06T05:00:03.212Z"
   },
   {
    "duration": 28,
    "start_time": "2022-05-06T05:00:03.221Z"
   },
   {
    "duration": 54,
    "start_time": "2022-05-06T05:00:03.251Z"
   },
   {
    "duration": 3,
    "start_time": "2022-05-06T05:00:03.307Z"
   },
   {
    "duration": 8,
    "start_time": "2022-05-06T05:00:03.312Z"
   },
   {
    "duration": 70,
    "start_time": "2022-05-06T05:00:03.322Z"
   },
   {
    "duration": 88,
    "start_time": "2022-05-06T05:00:03.395Z"
   },
   {
    "duration": 26,
    "start_time": "2022-05-06T05:00:03.485Z"
   },
   {
    "duration": 19,
    "start_time": "2022-05-06T05:00:03.513Z"
   },
   {
    "duration": 5,
    "start_time": "2022-05-06T05:00:03.534Z"
   },
   {
    "duration": 10,
    "start_time": "2022-05-06T05:00:03.541Z"
   },
   {
    "duration": 26,
    "start_time": "2022-05-06T05:00:03.582Z"
   },
   {
    "duration": 8,
    "start_time": "2022-05-06T05:00:03.611Z"
   },
   {
    "duration": 34,
    "start_time": "2022-05-06T05:00:03.621Z"
   },
   {
    "duration": 51,
    "start_time": "2022-05-06T05:00:03.658Z"
   },
   {
    "duration": 3,
    "start_time": "2022-05-06T05:00:03.712Z"
   },
   {
    "duration": 12,
    "start_time": "2022-05-06T05:00:06.348Z"
   },
   {
    "duration": 16,
    "start_time": "2022-05-06T05:00:22.345Z"
   },
   {
    "duration": 11,
    "start_time": "2022-05-06T05:00:31.547Z"
   },
   {
    "duration": 18,
    "start_time": "2022-05-06T05:00:33.575Z"
   },
   {
    "duration": 545,
    "start_time": "2022-05-06T05:01:53.040Z"
   },
   {
    "duration": 565,
    "start_time": "2022-05-06T05:06:04.004Z"
   },
   {
    "duration": 39,
    "start_time": "2022-05-06T05:06:25.520Z"
   },
   {
    "duration": 46,
    "start_time": "2022-05-06T05:06:42.122Z"
   },
   {
    "duration": 38,
    "start_time": "2022-05-06T05:08:55.545Z"
   },
   {
    "duration": 71,
    "start_time": "2022-05-06T05:09:22.136Z"
   },
   {
    "duration": 36,
    "start_time": "2022-05-06T05:09:22.210Z"
   },
   {
    "duration": 47,
    "start_time": "2022-05-06T05:09:22.248Z"
   },
   {
    "duration": 7,
    "start_time": "2022-05-06T05:09:22.298Z"
   },
   {
    "duration": 12,
    "start_time": "2022-05-06T05:09:22.307Z"
   },
   {
    "duration": 9,
    "start_time": "2022-05-06T05:09:22.321Z"
   },
   {
    "duration": 91,
    "start_time": "2022-05-06T05:09:22.332Z"
   },
   {
    "duration": 36,
    "start_time": "2022-05-06T05:09:22.425Z"
   },
   {
    "duration": 21,
    "start_time": "2022-05-06T05:09:22.483Z"
   },
   {
    "duration": 8,
    "start_time": "2022-05-06T05:09:22.508Z"
   },
   {
    "duration": 7,
    "start_time": "2022-05-06T05:09:22.518Z"
   },
   {
    "duration": 56,
    "start_time": "2022-05-06T05:09:22.528Z"
   },
   {
    "duration": 26,
    "start_time": "2022-05-06T05:09:22.586Z"
   },
   {
    "duration": 3,
    "start_time": "2022-05-06T05:09:22.614Z"
   },
   {
    "duration": 7,
    "start_time": "2022-05-06T05:09:22.619Z"
   },
   {
    "duration": 70,
    "start_time": "2022-05-06T05:09:22.628Z"
   },
   {
    "duration": 84,
    "start_time": "2022-05-06T05:09:22.700Z"
   },
   {
    "duration": 25,
    "start_time": "2022-05-06T05:09:22.786Z"
   },
   {
    "duration": 20,
    "start_time": "2022-05-06T05:09:22.813Z"
   },
   {
    "duration": 5,
    "start_time": "2022-05-06T05:09:22.835Z"
   },
   {
    "duration": 49,
    "start_time": "2022-05-06T05:09:22.842Z"
   },
   {
    "duration": 31,
    "start_time": "2022-05-06T05:09:22.893Z"
   },
   {
    "duration": 4,
    "start_time": "2022-05-06T05:09:22.926Z"
   },
   {
    "duration": 31,
    "start_time": "2022-05-06T05:09:22.932Z"
   },
   {
    "duration": 46,
    "start_time": "2022-05-06T05:09:22.965Z"
   },
   {
    "duration": 4,
    "start_time": "2022-05-06T05:09:23.013Z"
   },
   {
    "duration": 12,
    "start_time": "2022-05-06T05:09:25.103Z"
   },
   {
    "duration": 101,
    "start_time": "2022-05-06T05:11:56.645Z"
   },
   {
    "duration": 59,
    "start_time": "2022-05-06T05:11:56.749Z"
   },
   {
    "duration": 29,
    "start_time": "2022-05-06T05:11:56.810Z"
   },
   {
    "duration": 8,
    "start_time": "2022-05-06T05:11:56.841Z"
   },
   {
    "duration": 6,
    "start_time": "2022-05-06T05:11:56.884Z"
   },
   {
    "duration": 7,
    "start_time": "2022-05-06T05:11:56.892Z"
   },
   {
    "duration": 90,
    "start_time": "2022-05-06T05:11:56.902Z"
   },
   {
    "duration": 47,
    "start_time": "2022-05-06T05:11:56.994Z"
   },
   {
    "duration": 52,
    "start_time": "2022-05-06T05:11:57.044Z"
   },
   {
    "duration": 8,
    "start_time": "2022-05-06T05:11:57.098Z"
   },
   {
    "duration": 6,
    "start_time": "2022-05-06T05:11:57.108Z"
   },
   {
    "duration": 22,
    "start_time": "2022-05-06T05:11:57.116Z"
   },
   {
    "duration": 58,
    "start_time": "2022-05-06T05:11:57.140Z"
   },
   {
    "duration": 2,
    "start_time": "2022-05-06T05:11:57.202Z"
   },
   {
    "duration": 7,
    "start_time": "2022-05-06T05:11:57.206Z"
   },
   {
    "duration": 67,
    "start_time": "2022-05-06T05:11:57.215Z"
   },
   {
    "duration": 73,
    "start_time": "2022-05-06T05:11:57.284Z"
   },
   {
    "duration": 45,
    "start_time": "2022-05-06T05:11:57.359Z"
   },
   {
    "duration": 18,
    "start_time": "2022-05-06T05:11:57.406Z"
   },
   {
    "duration": 5,
    "start_time": "2022-05-06T05:11:57.426Z"
   },
   {
    "duration": 9,
    "start_time": "2022-05-06T05:11:57.434Z"
   },
   {
    "duration": 58,
    "start_time": "2022-05-06T05:11:57.445Z"
   },
   {
    "duration": 5,
    "start_time": "2022-05-06T05:11:57.505Z"
   },
   {
    "duration": 30,
    "start_time": "2022-05-06T05:11:57.512Z"
   },
   {
    "duration": 59,
    "start_time": "2022-05-06T05:11:57.544Z"
   },
   {
    "duration": 4,
    "start_time": "2022-05-06T05:11:58.494Z"
   },
   {
    "duration": 70,
    "start_time": "2022-05-06T05:12:22.176Z"
   },
   {
    "duration": 53,
    "start_time": "2022-05-06T05:12:22.249Z"
   },
   {
    "duration": 21,
    "start_time": "2022-05-06T05:12:22.304Z"
   },
   {
    "duration": 8,
    "start_time": "2022-05-06T05:12:22.328Z"
   },
   {
    "duration": 44,
    "start_time": "2022-05-06T05:12:22.338Z"
   },
   {
    "duration": 8,
    "start_time": "2022-05-06T05:12:22.385Z"
   },
   {
    "duration": 92,
    "start_time": "2022-05-06T05:12:22.395Z"
   },
   {
    "duration": 34,
    "start_time": "2022-05-06T05:12:22.489Z"
   },
   {
    "duration": 20,
    "start_time": "2022-05-06T05:12:22.525Z"
   },
   {
    "duration": 34,
    "start_time": "2022-05-06T05:12:22.550Z"
   },
   {
    "duration": 4,
    "start_time": "2022-05-06T05:12:22.587Z"
   },
   {
    "duration": 24,
    "start_time": "2022-05-06T05:12:22.593Z"
   },
   {
    "duration": 26,
    "start_time": "2022-05-06T05:12:22.619Z"
   },
   {
    "duration": 3,
    "start_time": "2022-05-06T05:12:22.681Z"
   },
   {
    "duration": 8,
    "start_time": "2022-05-06T05:12:22.687Z"
   },
   {
    "duration": 42,
    "start_time": "2022-05-06T05:12:22.697Z"
   },
   {
    "duration": 105,
    "start_time": "2022-05-06T05:12:22.741Z"
   },
   {
    "duration": 42,
    "start_time": "2022-05-06T05:12:22.849Z"
   },
   {
    "duration": 19,
    "start_time": "2022-05-06T05:12:22.894Z"
   },
   {
    "duration": 6,
    "start_time": "2022-05-06T05:12:22.916Z"
   },
   {
    "duration": 12,
    "start_time": "2022-05-06T05:12:22.924Z"
   },
   {
    "duration": 62,
    "start_time": "2022-05-06T05:12:22.938Z"
   },
   {
    "duration": 6,
    "start_time": "2022-05-06T05:12:23.002Z"
   },
   {
    "duration": 29,
    "start_time": "2022-05-06T05:12:23.010Z"
   },
   {
    "duration": 58,
    "start_time": "2022-05-06T05:12:23.042Z"
   },
   {
    "duration": 5,
    "start_time": "2022-05-06T05:12:23.102Z"
   },
   {
    "duration": 12,
    "start_time": "2022-05-06T05:12:25.006Z"
   },
   {
    "duration": 116,
    "start_time": "2022-05-06T05:12:50.273Z"
   },
   {
    "duration": 42,
    "start_time": "2022-05-06T05:12:50.392Z"
   },
   {
    "duration": 46,
    "start_time": "2022-05-06T05:12:50.436Z"
   },
   {
    "duration": 7,
    "start_time": "2022-05-06T05:12:50.485Z"
   },
   {
    "duration": 7,
    "start_time": "2022-05-06T05:12:50.494Z"
   },
   {
    "duration": 11,
    "start_time": "2022-05-06T05:12:50.503Z"
   },
   {
    "duration": 76,
    "start_time": "2022-05-06T05:12:50.516Z"
   },
   {
    "duration": 33,
    "start_time": "2022-05-06T05:12:50.594Z"
   },
   {
    "duration": 19,
    "start_time": "2022-05-06T05:12:50.630Z"
   },
   {
    "duration": 8,
    "start_time": "2022-05-06T05:12:50.684Z"
   },
   {
    "duration": 6,
    "start_time": "2022-05-06T05:12:50.695Z"
   },
   {
    "duration": 25,
    "start_time": "2022-05-06T05:12:50.704Z"
   },
   {
    "duration": 54,
    "start_time": "2022-05-06T05:12:50.731Z"
   },
   {
    "duration": 3,
    "start_time": "2022-05-06T05:12:50.787Z"
   },
   {
    "duration": 14,
    "start_time": "2022-05-06T05:12:50.792Z"
   },
   {
    "duration": 43,
    "start_time": "2022-05-06T05:12:50.809Z"
   },
   {
    "duration": 98,
    "start_time": "2022-05-06T05:12:50.854Z"
   },
   {
    "duration": 42,
    "start_time": "2022-05-06T05:12:50.954Z"
   },
   {
    "duration": 19,
    "start_time": "2022-05-06T05:12:50.998Z"
   },
   {
    "duration": 9,
    "start_time": "2022-05-06T05:12:51.020Z"
   },
   {
    "duration": 12,
    "start_time": "2022-05-06T05:12:51.031Z"
   },
   {
    "duration": 44,
    "start_time": "2022-05-06T05:12:51.046Z"
   },
   {
    "duration": 5,
    "start_time": "2022-05-06T05:12:51.092Z"
   },
   {
    "duration": 30,
    "start_time": "2022-05-06T05:12:51.099Z"
   },
   {
    "duration": 54,
    "start_time": "2022-05-06T05:12:51.131Z"
   },
   {
    "duration": 4,
    "start_time": "2022-05-06T05:12:51.187Z"
   },
   {
    "duration": 12,
    "start_time": "2022-05-06T05:12:52.193Z"
   },
   {
    "duration": 29,
    "start_time": "2022-05-06T06:08:03.416Z"
   },
   {
    "duration": 39,
    "start_time": "2022-05-06T06:08:18.469Z"
   },
   {
    "duration": 10,
    "start_time": "2022-05-06T06:09:53.799Z"
   },
   {
    "duration": 85,
    "start_time": "2022-05-06T06:11:01.020Z"
   },
   {
    "duration": 41,
    "start_time": "2022-05-06T06:11:01.108Z"
   },
   {
    "duration": 54,
    "start_time": "2022-05-06T06:11:01.152Z"
   },
   {
    "duration": 9,
    "start_time": "2022-05-06T06:11:01.211Z"
   },
   {
    "duration": 38,
    "start_time": "2022-05-06T06:11:01.222Z"
   },
   {
    "duration": 44,
    "start_time": "2022-05-06T06:11:01.263Z"
   },
   {
    "duration": 61,
    "start_time": "2022-05-06T06:11:01.310Z"
   },
   {
    "duration": 36,
    "start_time": "2022-05-06T06:11:01.374Z"
   },
   {
    "duration": 29,
    "start_time": "2022-05-06T06:11:01.412Z"
   },
   {
    "duration": 8,
    "start_time": "2022-05-06T06:11:01.445Z"
   },
   {
    "duration": 27,
    "start_time": "2022-05-06T06:11:01.456Z"
   },
   {
    "duration": 36,
    "start_time": "2022-05-06T06:11:01.486Z"
   },
   {
    "duration": 26,
    "start_time": "2022-05-06T06:11:01.524Z"
   },
   {
    "duration": 3,
    "start_time": "2022-05-06T06:11:01.552Z"
   },
   {
    "duration": 34,
    "start_time": "2022-05-06T06:11:01.558Z"
   },
   {
    "duration": 61,
    "start_time": "2022-05-06T06:11:01.595Z"
   },
   {
    "duration": 77,
    "start_time": "2022-05-06T06:11:01.658Z"
   },
   {
    "duration": 23,
    "start_time": "2022-05-06T06:11:01.738Z"
   },
   {
    "duration": 21,
    "start_time": "2022-05-06T06:11:01.782Z"
   },
   {
    "duration": 24,
    "start_time": "2022-05-06T06:11:01.806Z"
   },
   {
    "duration": 28,
    "start_time": "2022-05-06T06:11:01.833Z"
   },
   {
    "duration": 31,
    "start_time": "2022-05-06T06:11:01.863Z"
   },
   {
    "duration": 17,
    "start_time": "2022-05-06T06:11:01.897Z"
   },
   {
    "duration": 39,
    "start_time": "2022-05-06T06:11:01.916Z"
   },
   {
    "duration": 43,
    "start_time": "2022-05-06T06:11:01.957Z"
   },
   {
    "duration": 4,
    "start_time": "2022-05-06T06:11:02.002Z"
   },
   {
    "duration": 20,
    "start_time": "2022-05-06T06:11:02.009Z"
   },
   {
    "duration": 55,
    "start_time": "2022-05-06T06:11:02.034Z"
   },
   {
    "duration": 13,
    "start_time": "2022-05-06T06:11:02.091Z"
   },
   {
    "duration": 7,
    "start_time": "2022-05-06T06:11:04.651Z"
   },
   {
    "duration": 13,
    "start_time": "2022-05-06T06:11:19.269Z"
   },
   {
    "duration": 12,
    "start_time": "2022-05-06T06:11:35.227Z"
   },
   {
    "duration": 69,
    "start_time": "2022-05-06T06:11:39.904Z"
   },
   {
    "duration": 35,
    "start_time": "2022-05-06T06:11:39.976Z"
   },
   {
    "duration": 20,
    "start_time": "2022-05-06T06:11:40.013Z"
   },
   {
    "duration": 10,
    "start_time": "2022-05-06T06:11:40.034Z"
   },
   {
    "duration": 37,
    "start_time": "2022-05-06T06:11:40.048Z"
   },
   {
    "duration": 8,
    "start_time": "2022-05-06T06:11:40.087Z"
   },
   {
    "duration": 53,
    "start_time": "2022-05-06T06:11:40.096Z"
   },
   {
    "duration": 62,
    "start_time": "2022-05-06T06:11:40.151Z"
   },
   {
    "duration": 20,
    "start_time": "2022-05-06T06:11:40.215Z"
   },
   {
    "duration": 9,
    "start_time": "2022-05-06T06:11:40.237Z"
   },
   {
    "duration": 35,
    "start_time": "2022-05-06T06:11:40.249Z"
   },
   {
    "duration": 22,
    "start_time": "2022-05-06T06:11:40.286Z"
   },
   {
    "duration": 25,
    "start_time": "2022-05-06T06:11:40.311Z"
   },
   {
    "duration": 3,
    "start_time": "2022-05-06T06:11:40.340Z"
   },
   {
    "duration": 36,
    "start_time": "2022-05-06T06:11:40.345Z"
   },
   {
    "duration": 41,
    "start_time": "2022-05-06T06:11:40.384Z"
   },
   {
    "duration": 96,
    "start_time": "2022-05-06T06:11:40.428Z"
   },
   {
    "duration": 24,
    "start_time": "2022-05-06T06:11:40.526Z"
   },
   {
    "duration": 35,
    "start_time": "2022-05-06T06:11:40.552Z"
   },
   {
    "duration": 5,
    "start_time": "2022-05-06T06:11:40.589Z"
   },
   {
    "duration": 13,
    "start_time": "2022-05-06T06:11:40.596Z"
   },
   {
    "duration": 28,
    "start_time": "2022-05-06T06:11:40.611Z"
   },
   {
    "duration": 4,
    "start_time": "2022-05-06T06:11:40.641Z"
   },
   {
    "duration": 55,
    "start_time": "2022-05-06T06:11:40.647Z"
   },
   {
    "duration": 33,
    "start_time": "2022-05-06T06:11:40.704Z"
   },
   {
    "duration": 4,
    "start_time": "2022-05-06T06:11:40.739Z"
   },
   {
    "duration": 44,
    "start_time": "2022-05-06T06:11:40.745Z"
   },
   {
    "duration": 42,
    "start_time": "2022-05-06T06:11:40.791Z"
   },
   {
    "duration": 11,
    "start_time": "2022-05-06T06:11:40.835Z"
   },
   {
    "duration": 34,
    "start_time": "2022-05-06T06:11:40.848Z"
   },
   {
    "duration": 12,
    "start_time": "2022-05-06T06:11:46.205Z"
   },
   {
    "duration": 73,
    "start_time": "2022-05-06T06:12:58.845Z"
   },
   {
    "duration": 35,
    "start_time": "2022-05-06T06:12:58.921Z"
   },
   {
    "duration": 22,
    "start_time": "2022-05-06T06:12:58.982Z"
   },
   {
    "duration": 6,
    "start_time": "2022-05-06T06:12:59.007Z"
   },
   {
    "duration": 7,
    "start_time": "2022-05-06T06:12:59.015Z"
   },
   {
    "duration": 7,
    "start_time": "2022-05-06T06:12:59.024Z"
   },
   {
    "duration": 104,
    "start_time": "2022-05-06T06:12:59.033Z"
   },
   {
    "duration": 53,
    "start_time": "2022-05-06T06:12:59.140Z"
   },
   {
    "duration": 23,
    "start_time": "2022-05-06T06:12:59.195Z"
   },
   {
    "duration": 7,
    "start_time": "2022-05-06T06:12:59.222Z"
   },
   {
    "duration": 4,
    "start_time": "2022-05-06T06:12:59.231Z"
   },
   {
    "duration": 61,
    "start_time": "2022-05-06T06:12:59.237Z"
   },
   {
    "duration": 26,
    "start_time": "2022-05-06T06:12:59.300Z"
   },
   {
    "duration": 3,
    "start_time": "2022-05-06T06:12:59.328Z"
   },
   {
    "duration": 9,
    "start_time": "2022-05-06T06:12:59.334Z"
   },
   {
    "duration": 74,
    "start_time": "2022-05-06T06:12:59.346Z"
   },
   {
    "duration": 98,
    "start_time": "2022-05-06T06:12:59.422Z"
   },
   {
    "duration": 26,
    "start_time": "2022-05-06T06:12:59.522Z"
   },
   {
    "duration": 37,
    "start_time": "2022-05-06T06:12:59.550Z"
   },
   {
    "duration": 6,
    "start_time": "2022-05-06T06:12:59.590Z"
   },
   {
    "duration": 11,
    "start_time": "2022-05-06T06:12:59.598Z"
   },
   {
    "duration": 30,
    "start_time": "2022-05-06T06:12:59.612Z"
   },
   {
    "duration": 4,
    "start_time": "2022-05-06T06:12:59.644Z"
   },
   {
    "duration": 58,
    "start_time": "2022-05-06T06:12:59.650Z"
   },
   {
    "duration": 31,
    "start_time": "2022-05-06T06:12:59.711Z"
   },
   {
    "duration": 4,
    "start_time": "2022-05-06T06:12:59.744Z"
   },
   {
    "duration": 38,
    "start_time": "2022-05-06T06:12:59.750Z"
   },
   {
    "duration": 37,
    "start_time": "2022-05-06T06:12:59.792Z"
   },
   {
    "duration": 8,
    "start_time": "2022-05-06T06:13:03.225Z"
   },
   {
    "duration": 482,
    "start_time": "2022-05-06T06:13:09.988Z"
   },
   {
    "duration": 520,
    "start_time": "2022-05-06T06:13:53.869Z"
   },
   {
    "duration": 68,
    "start_time": "2022-05-06T06:13:59.470Z"
   },
   {
    "duration": 83,
    "start_time": "2022-05-06T06:13:59.541Z"
   },
   {
    "duration": 66,
    "start_time": "2022-05-06T06:13:59.628Z"
   },
   {
    "duration": 7,
    "start_time": "2022-05-06T06:13:59.698Z"
   },
   {
    "duration": 9,
    "start_time": "2022-05-06T06:13:59.707Z"
   },
   {
    "duration": 6,
    "start_time": "2022-05-06T06:13:59.718Z"
   },
   {
    "duration": 84,
    "start_time": "2022-05-06T06:13:59.726Z"
   },
   {
    "duration": 34,
    "start_time": "2022-05-06T06:13:59.812Z"
   },
   {
    "duration": 47,
    "start_time": "2022-05-06T06:13:59.848Z"
   },
   {
    "duration": 8,
    "start_time": "2022-05-06T06:13:59.899Z"
   },
   {
    "duration": 5,
    "start_time": "2022-05-06T06:13:59.909Z"
   },
   {
    "duration": 22,
    "start_time": "2022-05-06T06:13:59.916Z"
   },
   {
    "duration": 58,
    "start_time": "2022-05-06T06:13:59.940Z"
   },
   {
    "duration": 3,
    "start_time": "2022-05-06T06:14:00.000Z"
   },
   {
    "duration": 9,
    "start_time": "2022-05-06T06:14:00.006Z"
   },
   {
    "duration": 67,
    "start_time": "2022-05-06T06:14:00.018Z"
   },
   {
    "duration": 80,
    "start_time": "2022-05-06T06:14:00.087Z"
   },
   {
    "duration": 23,
    "start_time": "2022-05-06T06:14:00.183Z"
   },
   {
    "duration": 20,
    "start_time": "2022-05-06T06:14:00.209Z"
   },
   {
    "duration": 16,
    "start_time": "2022-05-06T06:14:00.231Z"
   },
   {
    "duration": 32,
    "start_time": "2022-05-06T06:14:00.249Z"
   },
   {
    "duration": 46,
    "start_time": "2022-05-06T06:14:00.283Z"
   },
   {
    "duration": 11,
    "start_time": "2022-05-06T06:14:00.331Z"
   },
   {
    "duration": 32,
    "start_time": "2022-05-06T06:14:00.344Z"
   },
   {
    "duration": 33,
    "start_time": "2022-05-06T06:14:00.378Z"
   },
   {
    "duration": 4,
    "start_time": "2022-05-06T06:14:00.413Z"
   },
   {
    "duration": 16,
    "start_time": "2022-05-06T06:14:00.419Z"
   },
   {
    "duration": 63,
    "start_time": "2022-05-06T06:14:00.440Z"
   },
   {
    "duration": 10,
    "start_time": "2022-05-06T06:14:00.505Z"
   },
   {
    "duration": 562,
    "start_time": "2022-05-06T06:14:04.069Z"
   },
   {
    "duration": 13,
    "start_time": "2022-05-06T06:14:32.140Z"
   },
   {
    "duration": 11,
    "start_time": "2022-05-06T06:15:24.136Z"
   },
   {
    "duration": 12,
    "start_time": "2022-05-06T06:15:32.226Z"
   },
   {
    "duration": 12,
    "start_time": "2022-05-06T06:16:09.909Z"
   },
   {
    "duration": 35,
    "start_time": "2022-05-06T06:18:38.481Z"
   },
   {
    "duration": 38,
    "start_time": "2022-05-06T06:18:53.195Z"
   },
   {
    "duration": 34,
    "start_time": "2022-05-06T06:19:02.032Z"
   },
   {
    "duration": 7,
    "start_time": "2022-05-06T06:20:31.836Z"
   },
   {
    "duration": 7,
    "start_time": "2022-05-06T06:20:58.464Z"
   },
   {
    "duration": 11,
    "start_time": "2022-05-06T06:21:41.748Z"
   },
   {
    "duration": 4,
    "start_time": "2022-05-06T06:21:51.196Z"
   },
   {
    "duration": 4,
    "start_time": "2022-05-06T06:22:36.022Z"
   },
   {
    "duration": 74,
    "start_time": "2022-05-06T06:23:40.763Z"
   },
   {
    "duration": 60,
    "start_time": "2022-05-06T06:23:40.840Z"
   },
   {
    "duration": 21,
    "start_time": "2022-05-06T06:23:40.902Z"
   },
   {
    "duration": 12,
    "start_time": "2022-05-06T06:23:40.925Z"
   },
   {
    "duration": 9,
    "start_time": "2022-05-06T06:23:40.940Z"
   },
   {
    "duration": 34,
    "start_time": "2022-05-06T06:23:40.951Z"
   },
   {
    "duration": 53,
    "start_time": "2022-05-06T06:23:40.987Z"
   },
   {
    "duration": 57,
    "start_time": "2022-05-06T06:23:41.042Z"
   },
   {
    "duration": 20,
    "start_time": "2022-05-06T06:23:41.101Z"
   },
   {
    "duration": 8,
    "start_time": "2022-05-06T06:23:41.123Z"
   },
   {
    "duration": 5,
    "start_time": "2022-05-06T06:23:41.133Z"
   },
   {
    "duration": 62,
    "start_time": "2022-05-06T06:23:41.140Z"
   },
   {
    "duration": 27,
    "start_time": "2022-05-06T06:23:41.204Z"
   },
   {
    "duration": 3,
    "start_time": "2022-05-06T06:23:41.236Z"
   },
   {
    "duration": 41,
    "start_time": "2022-05-06T06:23:41.241Z"
   },
   {
    "duration": 43,
    "start_time": "2022-05-06T06:23:41.285Z"
   },
   {
    "duration": 103,
    "start_time": "2022-05-06T06:23:41.330Z"
   },
   {
    "duration": 45,
    "start_time": "2022-05-06T06:23:41.436Z"
   },
   {
    "duration": 20,
    "start_time": "2022-05-06T06:23:41.483Z"
   },
   {
    "duration": 7,
    "start_time": "2022-05-06T06:23:41.505Z"
   },
   {
    "duration": 9,
    "start_time": "2022-05-06T06:23:41.514Z"
   },
   {
    "duration": 56,
    "start_time": "2022-05-06T06:23:41.526Z"
   },
   {
    "duration": 6,
    "start_time": "2022-05-06T06:23:41.584Z"
   },
   {
    "duration": 34,
    "start_time": "2022-05-06T06:23:41.592Z"
   },
   {
    "duration": 54,
    "start_time": "2022-05-06T06:23:41.628Z"
   },
   {
    "duration": 4,
    "start_time": "2022-05-06T06:23:41.685Z"
   },
   {
    "duration": 16,
    "start_time": "2022-05-06T06:23:41.691Z"
   },
   {
    "duration": 40,
    "start_time": "2022-05-06T06:23:41.709Z"
   },
   {
    "duration": 38,
    "start_time": "2022-05-06T06:23:41.752Z"
   },
   {
    "duration": 9,
    "start_time": "2022-05-06T06:23:41.792Z"
   },
   {
    "duration": 14,
    "start_time": "2022-05-06T06:23:41.802Z"
   },
   {
    "duration": 63,
    "start_time": "2022-05-06T06:23:41.819Z"
   },
   {
    "duration": 5,
    "start_time": "2022-05-06T06:23:41.885Z"
   },
   {
    "duration": 13,
    "start_time": "2022-05-06T06:23:41.893Z"
   },
   {
    "duration": 40,
    "start_time": "2022-05-06T06:24:36.029Z"
   },
   {
    "duration": 42,
    "start_time": "2022-05-06T06:24:47.264Z"
   },
   {
    "duration": 78,
    "start_time": "2022-05-06T06:26:27.434Z"
   },
   {
    "duration": 37,
    "start_time": "2022-05-06T06:26:27.514Z"
   },
   {
    "duration": 45,
    "start_time": "2022-05-06T06:26:27.554Z"
   },
   {
    "duration": 7,
    "start_time": "2022-05-06T06:26:27.602Z"
   },
   {
    "duration": 7,
    "start_time": "2022-05-06T06:26:27.611Z"
   },
   {
    "duration": 13,
    "start_time": "2022-05-06T06:26:27.620Z"
   },
   {
    "duration": 94,
    "start_time": "2022-05-06T06:26:27.635Z"
   },
   {
    "duration": 54,
    "start_time": "2022-05-06T06:26:27.732Z"
   },
   {
    "duration": 20,
    "start_time": "2022-05-06T06:26:27.788Z"
   },
   {
    "duration": 7,
    "start_time": "2022-05-06T06:26:27.812Z"
   },
   {
    "duration": 8,
    "start_time": "2022-05-06T06:26:27.821Z"
   },
   {
    "duration": 55,
    "start_time": "2022-05-06T06:26:27.831Z"
   },
   {
    "duration": 25,
    "start_time": "2022-05-06T06:26:27.889Z"
   },
   {
    "duration": 3,
    "start_time": "2022-05-06T06:26:27.917Z"
   },
   {
    "duration": 9,
    "start_time": "2022-05-06T06:26:27.922Z"
   },
   {
    "duration": 83,
    "start_time": "2022-05-06T06:26:27.934Z"
   },
   {
    "duration": 100,
    "start_time": "2022-05-06T06:26:28.019Z"
   },
   {
    "duration": 24,
    "start_time": "2022-05-06T06:26:28.121Z"
   },
   {
    "duration": 37,
    "start_time": "2022-05-06T06:26:28.147Z"
   },
   {
    "duration": 6,
    "start_time": "2022-05-06T06:26:28.186Z"
   },
   {
    "duration": 10,
    "start_time": "2022-05-06T06:26:28.194Z"
   },
   {
    "duration": 27,
    "start_time": "2022-05-06T06:26:28.206Z"
   },
   {
    "duration": 4,
    "start_time": "2022-05-06T06:26:28.235Z"
   },
   {
    "duration": 61,
    "start_time": "2022-05-06T06:26:28.241Z"
   },
   {
    "duration": 30,
    "start_time": "2022-05-06T06:26:28.304Z"
   },
   {
    "duration": 4,
    "start_time": "2022-05-06T06:26:28.336Z"
   },
   {
    "duration": 41,
    "start_time": "2022-05-06T06:26:28.342Z"
   },
   {
    "duration": 38,
    "start_time": "2022-05-06T06:26:28.388Z"
   },
   {
    "duration": 9,
    "start_time": "2022-05-06T06:26:28.428Z"
   },
   {
    "duration": 7,
    "start_time": "2022-05-06T06:26:28.439Z"
   },
   {
    "duration": 41,
    "start_time": "2022-05-06T06:26:28.448Z"
   },
   {
    "duration": 41,
    "start_time": "2022-05-06T06:26:28.491Z"
   },
   {
    "duration": 4,
    "start_time": "2022-05-06T06:26:28.534Z"
   },
   {
    "duration": 44,
    "start_time": "2022-05-06T06:26:28.540Z"
   },
   {
    "duration": 38,
    "start_time": "2022-05-06T06:26:28.586Z"
   },
   {
    "duration": 8,
    "start_time": "2022-05-06T06:26:30.093Z"
   },
   {
    "duration": 10,
    "start_time": "2022-05-06T06:26:37.269Z"
   },
   {
    "duration": 5,
    "start_time": "2022-05-06T06:26:52.478Z"
   },
   {
    "duration": 4,
    "start_time": "2022-05-06T06:26:56.349Z"
   },
   {
    "duration": 12,
    "start_time": "2022-05-06T06:27:10.894Z"
   },
   {
    "duration": 70,
    "start_time": "2022-05-06T06:29:02.010Z"
   },
   {
    "duration": 37,
    "start_time": "2022-05-06T06:29:02.083Z"
   },
   {
    "duration": 24,
    "start_time": "2022-05-06T06:29:02.122Z"
   },
   {
    "duration": 29,
    "start_time": "2022-05-06T06:29:02.183Z"
   },
   {
    "duration": 38,
    "start_time": "2022-05-06T06:29:02.215Z"
   },
   {
    "duration": 22,
    "start_time": "2022-05-06T06:29:02.255Z"
   },
   {
    "duration": 66,
    "start_time": "2022-05-06T06:29:02.280Z"
   },
   {
    "duration": 33,
    "start_time": "2022-05-06T06:29:02.348Z"
   },
   {
    "duration": 22,
    "start_time": "2022-05-06T06:29:02.383Z"
   },
   {
    "duration": 64,
    "start_time": "2022-05-06T06:29:02.409Z"
   },
   {
    "duration": 13,
    "start_time": "2022-05-06T06:29:02.476Z"
   },
   {
    "duration": 28,
    "start_time": "2022-05-06T06:29:02.491Z"
   },
   {
    "duration": 34,
    "start_time": "2022-05-06T06:29:02.521Z"
   },
   {
    "duration": 3,
    "start_time": "2022-05-06T06:29:02.557Z"
   },
   {
    "duration": 10,
    "start_time": "2022-05-06T06:29:02.562Z"
   },
   {
    "duration": 45,
    "start_time": "2022-05-06T06:29:02.574Z"
   },
   {
    "duration": 106,
    "start_time": "2022-05-06T06:29:02.622Z"
   },
   {
    "duration": 26,
    "start_time": "2022-05-06T06:29:02.731Z"
   },
   {
    "duration": 38,
    "start_time": "2022-05-06T06:29:02.759Z"
   },
   {
    "duration": 5,
    "start_time": "2022-05-06T06:29:02.799Z"
   },
   {
    "duration": 14,
    "start_time": "2022-05-06T06:29:02.806Z"
   },
   {
    "duration": 28,
    "start_time": "2022-05-06T06:29:02.822Z"
   },
   {
    "duration": 4,
    "start_time": "2022-05-06T06:29:02.852Z"
   },
   {
    "duration": 29,
    "start_time": "2022-05-06T06:29:02.882Z"
   },
   {
    "duration": 33,
    "start_time": "2022-05-06T06:29:02.913Z"
   },
   {
    "duration": 4,
    "start_time": "2022-05-06T06:29:02.948Z"
   },
   {
    "duration": 36,
    "start_time": "2022-05-06T06:29:02.954Z"
   },
   {
    "duration": 28,
    "start_time": "2022-05-06T06:29:02.996Z"
   },
   {
    "duration": 10,
    "start_time": "2022-05-06T06:29:03.026Z"
   },
   {
    "duration": 6,
    "start_time": "2022-05-06T06:29:03.038Z"
   },
   {
    "duration": 45,
    "start_time": "2022-05-06T06:29:03.046Z"
   },
   {
    "duration": 45,
    "start_time": "2022-05-06T06:29:03.093Z"
   },
   {
    "duration": 4,
    "start_time": "2022-05-06T06:29:03.140Z"
   },
   {
    "duration": 37,
    "start_time": "2022-05-06T06:29:03.147Z"
   },
   {
    "duration": 46,
    "start_time": "2022-05-06T06:29:03.186Z"
   },
   {
    "duration": 5,
    "start_time": "2022-05-06T06:29:03.234Z"
   },
   {
    "duration": 14,
    "start_time": "2022-05-06T06:29:03.241Z"
   },
   {
    "duration": 72,
    "start_time": "2022-05-06T06:32:26.885Z"
   },
   {
    "duration": 51,
    "start_time": "2022-05-06T06:32:26.960Z"
   },
   {
    "duration": 20,
    "start_time": "2022-05-06T06:32:27.014Z"
   },
   {
    "duration": 7,
    "start_time": "2022-05-06T06:32:27.037Z"
   },
   {
    "duration": 6,
    "start_time": "2022-05-06T06:32:27.082Z"
   },
   {
    "duration": 6,
    "start_time": "2022-05-06T06:32:27.091Z"
   },
   {
    "duration": 51,
    "start_time": "2022-05-06T06:32:27.099Z"
   },
   {
    "duration": 34,
    "start_time": "2022-05-06T06:32:27.182Z"
   },
   {
    "duration": 10,
    "start_time": "2022-05-06T06:32:27.218Z"
   },
   {
    "duration": 7,
    "start_time": "2022-05-06T06:32:27.233Z"
   },
   {
    "duration": 42,
    "start_time": "2022-05-06T06:32:27.242Z"
   },
   {
    "duration": 24,
    "start_time": "2022-05-06T06:32:27.286Z"
   },
   {
    "duration": 25,
    "start_time": "2022-05-06T06:32:27.312Z"
   },
   {
    "duration": 3,
    "start_time": "2022-05-06T06:32:27.339Z"
   },
   {
    "duration": 7,
    "start_time": "2022-05-06T06:32:27.344Z"
   },
   {
    "duration": 40,
    "start_time": "2022-05-06T06:32:27.381Z"
   },
   {
    "duration": 112,
    "start_time": "2022-05-06T06:32:27.424Z"
   },
   {
    "duration": 42,
    "start_time": "2022-05-06T06:32:27.539Z"
   },
   {
    "duration": 19,
    "start_time": "2022-05-06T06:32:27.583Z"
   },
   {
    "duration": 9,
    "start_time": "2022-05-06T06:32:27.604Z"
   },
   {
    "duration": 13,
    "start_time": "2022-05-06T06:32:27.615Z"
   },
   {
    "duration": 27,
    "start_time": "2022-05-06T06:32:27.630Z"
   },
   {
    "duration": 24,
    "start_time": "2022-05-06T06:32:27.660Z"
   },
   {
    "duration": 29,
    "start_time": "2022-05-06T06:32:27.687Z"
   },
   {
    "duration": 30,
    "start_time": "2022-05-06T06:32:27.718Z"
   },
   {
    "duration": 31,
    "start_time": "2022-05-06T06:32:27.750Z"
   },
   {
    "duration": 11,
    "start_time": "2022-05-06T06:32:27.784Z"
   },
   {
    "duration": 27,
    "start_time": "2022-05-06T06:32:27.800Z"
   },
   {
    "duration": 9,
    "start_time": "2022-05-06T06:32:27.829Z"
   },
   {
    "duration": 41,
    "start_time": "2022-05-06T06:32:27.840Z"
   },
   {
    "duration": 16,
    "start_time": "2022-05-06T06:32:27.884Z"
   },
   {
    "duration": 38,
    "start_time": "2022-05-06T06:32:27.902Z"
   },
   {
    "duration": 4,
    "start_time": "2022-05-06T06:32:27.943Z"
   },
   {
    "duration": 34,
    "start_time": "2022-05-06T06:32:27.949Z"
   },
   {
    "duration": 38,
    "start_time": "2022-05-06T06:32:27.986Z"
   },
   {
    "duration": 4,
    "start_time": "2022-05-06T06:32:28.026Z"
   },
   {
    "duration": 16,
    "start_time": "2022-05-06T06:32:28.032Z"
   },
   {
    "duration": 73,
    "start_time": "2022-05-06T06:34:17.148Z"
   },
   {
    "duration": 68,
    "start_time": "2022-05-06T06:34:17.223Z"
   },
   {
    "duration": 24,
    "start_time": "2022-05-06T06:34:17.293Z"
   },
   {
    "duration": 8,
    "start_time": "2022-05-06T06:34:17.321Z"
   },
   {
    "duration": 9,
    "start_time": "2022-05-06T06:34:17.331Z"
   },
   {
    "duration": 41,
    "start_time": "2022-05-06T06:34:17.343Z"
   },
   {
    "duration": 54,
    "start_time": "2022-05-06T06:34:17.386Z"
   },
   {
    "duration": 64,
    "start_time": "2022-05-06T06:34:17.442Z"
   },
   {
    "duration": 11,
    "start_time": "2022-05-06T06:34:17.508Z"
   },
   {
    "duration": 7,
    "start_time": "2022-05-06T06:34:17.523Z"
   },
   {
    "duration": 5,
    "start_time": "2022-05-06T06:34:17.532Z"
   },
   {
    "duration": 62,
    "start_time": "2022-05-06T06:34:17.539Z"
   },
   {
    "duration": 25,
    "start_time": "2022-05-06T06:34:17.603Z"
   },
   {
    "duration": 62,
    "start_time": "2022-05-06T06:34:17.630Z"
   },
   {
    "duration": 89,
    "start_time": "2022-05-06T06:34:17.694Z"
   },
   {
    "duration": 26,
    "start_time": "2022-05-06T06:34:17.785Z"
   },
   {
    "duration": 19,
    "start_time": "2022-05-06T06:34:17.813Z"
   },
   {
    "duration": 5,
    "start_time": "2022-05-06T06:34:17.834Z"
   },
   {
    "duration": 42,
    "start_time": "2022-05-06T06:34:17.842Z"
   },
   {
    "duration": 28,
    "start_time": "2022-05-06T06:34:17.886Z"
   },
   {
    "duration": 5,
    "start_time": "2022-05-06T06:34:17.916Z"
   },
   {
    "duration": 32,
    "start_time": "2022-05-06T06:34:17.923Z"
   },
   {
    "duration": 32,
    "start_time": "2022-05-06T06:34:17.982Z"
   },
   {
    "duration": 4,
    "start_time": "2022-05-06T06:34:18.016Z"
   },
   {
    "duration": 22,
    "start_time": "2022-05-06T06:34:18.022Z"
   },
   {
    "duration": 54,
    "start_time": "2022-05-06T06:34:18.046Z"
   },
   {
    "duration": 9,
    "start_time": "2022-05-06T06:34:18.102Z"
   },
   {
    "duration": 5,
    "start_time": "2022-05-06T06:34:18.116Z"
   },
   {
    "duration": 18,
    "start_time": "2022-05-06T06:34:18.123Z"
   },
   {
    "duration": 70,
    "start_time": "2022-05-06T06:34:18.143Z"
   },
   {
    "duration": 4,
    "start_time": "2022-05-06T06:34:18.215Z"
   },
   {
    "duration": 19,
    "start_time": "2022-05-06T06:34:18.221Z"
   },
   {
    "duration": 53,
    "start_time": "2022-05-06T06:34:18.242Z"
   },
   {
    "duration": 4,
    "start_time": "2022-05-06T06:34:18.297Z"
   },
   {
    "duration": 14,
    "start_time": "2022-05-06T06:34:18.303Z"
   },
   {
    "duration": 6,
    "start_time": "2022-05-06T08:44:12.020Z"
   },
   {
    "duration": 12,
    "start_time": "2022-05-06T08:44:48.992Z"
   },
   {
    "duration": 20,
    "start_time": "2022-05-06T08:46:17.385Z"
   },
   {
    "duration": 19,
    "start_time": "2022-05-06T08:47:26.259Z"
   },
   {
    "duration": 13,
    "start_time": "2022-05-06T08:47:51.739Z"
   },
   {
    "duration": 27,
    "start_time": "2022-05-06T08:49:38.361Z"
   },
   {
    "duration": 19,
    "start_time": "2022-05-06T08:49:56.742Z"
   },
   {
    "duration": 17,
    "start_time": "2022-05-06T08:50:33.885Z"
   },
   {
    "duration": 20,
    "start_time": "2022-05-06T08:57:55.773Z"
   },
   {
    "duration": 23,
    "start_time": "2022-05-06T08:59:19.219Z"
   }
  ],
  "kernelspec": {
   "display_name": "Python 3 (ipykernel)",
   "language": "python",
   "name": "python3"
  },
  "language_info": {
   "codemirror_mode": {
    "name": "ipython",
    "version": 3
   },
   "file_extension": ".py",
   "mimetype": "text/x-python",
   "name": "python",
   "nbconvert_exporter": "python",
   "pygments_lexer": "ipython3",
   "version": "3.9.12"
  },
  "toc": {
   "base_numbering": 1,
   "nav_menu": {},
   "number_sections": true,
   "sideBar": true,
   "skip_h1_title": true,
   "title_cell": "Table of Contents",
   "title_sidebar": "Contents",
   "toc_cell": false,
   "toc_position": {},
   "toc_section_display": true,
   "toc_window_display": false
  }
 },
 "nbformat": 4,
 "nbformat_minor": 5
}
