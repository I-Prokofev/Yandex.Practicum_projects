{
 "cells": [
  {
   "cell_type": "markdown",
   "metadata": {},
   "source": [
    "# Увеличение выручки интернет-магазина\n",
    "Вместе с отделом маркетинга крупного интернет-магазина был подготовлен список гипотез для увеличения выручки. Необходимо приоритизировать гипотезы, запустить A/B-тест и проанализировать результаты.\n",
    "\n",
    "**Ход исследования:**\n",
    "\n",
    "Данные мы получим из файлов:\n",
    " -   hypothesis.csv - список гипотез (данные для первой части)\n",
    " -   orders.csv - информация о заказах по итогам A/B-теста (данные для второй части)\n",
    " -   visitors.csv - информация о пользователях\n",
    "\n",
    "О качестве данных ничего не известно. Поэтому перед проведением исследовательского анализа нам понадобится сделать их обзор. Мы проверим данные на ошибки и затем на этапе предобработки исправим критичные ошибки.\n",
    "\n",
    "Таким образом, исследование пройдет в несколько этапов:\n",
    "\n",
    "1. Изучение данных.\n",
    "2. Предобработка данных.\n",
    "3. Исследовательский анализ данных."
   ]
  },
  {
   "cell_type": "markdown",
   "metadata": {},
   "source": [
    "## Обзор данных"
   ]
  },
  {
   "cell_type": "markdown",
   "metadata": {},
   "source": [
    "### Получение общей информации о данных"
   ]
  },
  {
   "cell_type": "markdown",
   "metadata": {},
   "source": [
    "Загрузим данные о гипотезах, заказах и пользователях. Оптимизируем их для анализа. Убедимся, что тип данных в каждой колонке — правильный. Путь к файлам:\n",
    "\n",
    " *   hypothesis.csv\n",
    " *   orders.csv \n",
    " *   visitors.csv"
   ]
  },
  {
   "cell_type": "code",
   "execution_count": 1,
   "metadata": {},
   "outputs": [],
   "source": [
    "import pandas as pd\n",
    "import numpy as np\n",
    "import math as mth\n",
    "import scipy.stats as stats\n",
    "import datetime as dt\n",
    "from datetime import datetime, timedelta\n",
    "from matplotlib import pyplot as plt\n",
    "from pandas.plotting import register_matplotlib_converters\n",
    "import warnings\n",
    "\n",
    "register_matplotlib_converters()"
   ]
  },
  {
   "cell_type": "code",
   "execution_count": 2,
   "metadata": {},
   "outputs": [
    {
     "data": {
      "text/html": [
       "<div>\n",
       "<style scoped>\n",
       "    .dataframe tbody tr th:only-of-type {\n",
       "        vertical-align: middle;\n",
       "    }\n",
       "\n",
       "    .dataframe tbody tr th {\n",
       "        vertical-align: top;\n",
       "    }\n",
       "\n",
       "    .dataframe thead th {\n",
       "        text-align: right;\n",
       "    }\n",
       "</style>\n",
       "<table border=\"1\" class=\"dataframe\">\n",
       "  <thead>\n",
       "    <tr style=\"text-align: right;\">\n",
       "      <th></th>\n",
       "      <th>Hypothesis</th>\n",
       "      <th>Reach</th>\n",
       "      <th>Impact</th>\n",
       "      <th>Confidence</th>\n",
       "      <th>Efforts</th>\n",
       "    </tr>\n",
       "  </thead>\n",
       "  <tbody>\n",
       "    <tr>\n",
       "      <th>0</th>\n",
       "      <td>Добавить два новых канала привлечения трафика,...</td>\n",
       "      <td>3</td>\n",
       "      <td>10</td>\n",
       "      <td>8</td>\n",
       "      <td>6</td>\n",
       "    </tr>\n",
       "    <tr>\n",
       "      <th>1</th>\n",
       "      <td>Запустить собственную службу доставки, что сок...</td>\n",
       "      <td>2</td>\n",
       "      <td>5</td>\n",
       "      <td>4</td>\n",
       "      <td>10</td>\n",
       "    </tr>\n",
       "    <tr>\n",
       "      <th>2</th>\n",
       "      <td>Добавить блоки рекомендаций товаров на сайт ин...</td>\n",
       "      <td>8</td>\n",
       "      <td>3</td>\n",
       "      <td>7</td>\n",
       "      <td>3</td>\n",
       "    </tr>\n",
       "    <tr>\n",
       "      <th>3</th>\n",
       "      <td>Изменить структура категорий, что увеличит кон...</td>\n",
       "      <td>8</td>\n",
       "      <td>3</td>\n",
       "      <td>3</td>\n",
       "      <td>8</td>\n",
       "    </tr>\n",
       "    <tr>\n",
       "      <th>4</th>\n",
       "      <td>Изменить цвет фона главной страницы, чтобы уве...</td>\n",
       "      <td>3</td>\n",
       "      <td>1</td>\n",
       "      <td>1</td>\n",
       "      <td>1</td>\n",
       "    </tr>\n",
       "  </tbody>\n",
       "</table>\n",
       "</div>"
      ],
      "text/plain": [
       "                                          Hypothesis  Reach  Impact  \\\n",
       "0  Добавить два новых канала привлечения трафика,...      3      10   \n",
       "1  Запустить собственную службу доставки, что сок...      2       5   \n",
       "2  Добавить блоки рекомендаций товаров на сайт ин...      8       3   \n",
       "3  Изменить структура категорий, что увеличит кон...      8       3   \n",
       "4  Изменить цвет фона главной страницы, чтобы уве...      3       1   \n",
       "\n",
       "   Confidence  Efforts  \n",
       "0           8        6  \n",
       "1           4       10  \n",
       "2           7        3  \n",
       "3           3        8  \n",
       "4           1        1  "
      ]
     },
     "metadata": {},
     "output_type": "display_data"
    },
    {
     "name": "stdout",
     "output_type": "stream",
     "text": [
      "<class 'pandas.core.frame.DataFrame'>\n",
      "RangeIndex: 9 entries, 0 to 8\n",
      "Data columns (total 5 columns):\n",
      " #   Column      Non-Null Count  Dtype \n",
      "---  ------      --------------  ----- \n",
      " 0   Hypothesis  9 non-null      object\n",
      " 1   Reach       9 non-null      int64 \n",
      " 2   Impact      9 non-null      int64 \n",
      " 3   Confidence  9 non-null      int64 \n",
      " 4   Efforts     9 non-null      int64 \n",
      "dtypes: int64(4), object(1)\n",
      "memory usage: 488.0+ bytes\n"
     ]
    },
    {
     "data": {
      "text/plain": [
       "None"
      ]
     },
     "metadata": {},
     "output_type": "display_data"
    },
    {
     "name": "stdout",
     "output_type": "stream",
     "text": [
      "Количество явных дубликатов: 0\n"
     ]
    }
   ],
   "source": [
    "# функция для первичного анализа датасета и корректировки названия столбцов\n",
    "def primary_analysis (data):\n",
    "    display(data.head(5))\n",
    "    display(data.info())\n",
    "    data.columns = [x.lower().replace(' ', '_') for x in data.columns]\n",
    "    print(\"Количество явных дубликатов:\", data.duplicated().sum())\n",
    "\n",
    "hypothesis, orders, visitors = (\n",
    "    pd.read_csv('hypothesis.csv'),  # список гипотезы\n",
    "    pd.read_csv('orders.csv'),      # информация о заказах по итогу A/B теста\n",
    "    pd.read_csv('visitors.csv')     # информация о пользователях по итогу A/B теста\n",
    ")\n",
    "\n",
    "primary_analysis(hypothesis)"
   ]
  },
  {
   "cell_type": "markdown",
   "metadata": {},
   "source": [
    "Описание столбцов '/datasets/hypothesis.csv' согласно документации:\n",
    "* Hypothesis — краткое описание гипотезы;\n",
    "* Reach — охват пользователей по 10-балльной шкале;\n",
    "* Impact — влияние на пользователей по 10-балльной шкале;\n",
    "* Confidence — уверенность в гипотезе по 10-балльной шкале;\n",
    "* Efforts — затраты ресурсов на проверку гипотезы по 10-балльной шкале. Чем больше значение Efforts, тем дороже проверка гипотезы."
   ]
  },
  {
   "cell_type": "code",
   "execution_count": 3,
   "metadata": {},
   "outputs": [
    {
     "data": {
      "text/html": [
       "<div>\n",
       "<style scoped>\n",
       "    .dataframe tbody tr th:only-of-type {\n",
       "        vertical-align: middle;\n",
       "    }\n",
       "\n",
       "    .dataframe tbody tr th {\n",
       "        vertical-align: top;\n",
       "    }\n",
       "\n",
       "    .dataframe thead th {\n",
       "        text-align: right;\n",
       "    }\n",
       "</style>\n",
       "<table border=\"1\" class=\"dataframe\">\n",
       "  <thead>\n",
       "    <tr style=\"text-align: right;\">\n",
       "      <th></th>\n",
       "      <th>transactionId</th>\n",
       "      <th>visitorId</th>\n",
       "      <th>date</th>\n",
       "      <th>revenue</th>\n",
       "      <th>group</th>\n",
       "    </tr>\n",
       "  </thead>\n",
       "  <tbody>\n",
       "    <tr>\n",
       "      <th>0</th>\n",
       "      <td>3667963787</td>\n",
       "      <td>3312258926</td>\n",
       "      <td>2019-08-15</td>\n",
       "      <td>1650</td>\n",
       "      <td>B</td>\n",
       "    </tr>\n",
       "    <tr>\n",
       "      <th>1</th>\n",
       "      <td>2804400009</td>\n",
       "      <td>3642806036</td>\n",
       "      <td>2019-08-15</td>\n",
       "      <td>730</td>\n",
       "      <td>B</td>\n",
       "    </tr>\n",
       "    <tr>\n",
       "      <th>2</th>\n",
       "      <td>2961555356</td>\n",
       "      <td>4069496402</td>\n",
       "      <td>2019-08-15</td>\n",
       "      <td>400</td>\n",
       "      <td>A</td>\n",
       "    </tr>\n",
       "    <tr>\n",
       "      <th>3</th>\n",
       "      <td>3797467345</td>\n",
       "      <td>1196621759</td>\n",
       "      <td>2019-08-15</td>\n",
       "      <td>9759</td>\n",
       "      <td>B</td>\n",
       "    </tr>\n",
       "    <tr>\n",
       "      <th>4</th>\n",
       "      <td>2282983706</td>\n",
       "      <td>2322279887</td>\n",
       "      <td>2019-08-15</td>\n",
       "      <td>2308</td>\n",
       "      <td>B</td>\n",
       "    </tr>\n",
       "  </tbody>\n",
       "</table>\n",
       "</div>"
      ],
      "text/plain": [
       "   transactionId   visitorId        date  revenue group\n",
       "0     3667963787  3312258926  2019-08-15     1650     B\n",
       "1     2804400009  3642806036  2019-08-15      730     B\n",
       "2     2961555356  4069496402  2019-08-15      400     A\n",
       "3     3797467345  1196621759  2019-08-15     9759     B\n",
       "4     2282983706  2322279887  2019-08-15     2308     B"
      ]
     },
     "metadata": {},
     "output_type": "display_data"
    },
    {
     "name": "stdout",
     "output_type": "stream",
     "text": [
      "<class 'pandas.core.frame.DataFrame'>\n",
      "RangeIndex: 1197 entries, 0 to 1196\n",
      "Data columns (total 5 columns):\n",
      " #   Column         Non-Null Count  Dtype \n",
      "---  ------         --------------  ----- \n",
      " 0   transactionId  1197 non-null   int64 \n",
      " 1   visitorId      1197 non-null   int64 \n",
      " 2   date           1197 non-null   object\n",
      " 3   revenue        1197 non-null   int64 \n",
      " 4   group          1197 non-null   object\n",
      "dtypes: int64(3), object(2)\n",
      "memory usage: 46.9+ KB\n"
     ]
    },
    {
     "data": {
      "text/plain": [
       "None"
      ]
     },
     "metadata": {},
     "output_type": "display_data"
    },
    {
     "name": "stdout",
     "output_type": "stream",
     "text": [
      "Количество явных дубликатов: 0\n"
     ]
    }
   ],
   "source": [
    "primary_analysis(orders)"
   ]
  },
  {
   "cell_type": "markdown",
   "metadata": {},
   "source": [
    "Описание столбцов '/datasets/orders.csv' согласно документации:\n",
    "* transactionId — идентификатор заказа;\n",
    "* visitorId — идентификатор пользователя, совершившего заказ;\n",
    "* date — дата, когда был совершён заказ;\n",
    "* revenue — выручка заказа;\n",
    "* group — группа A/B-теста, в которую попал заказ."
   ]
  },
  {
   "cell_type": "code",
   "execution_count": 4,
   "metadata": {},
   "outputs": [
    {
     "data": {
      "text/html": [
       "<div>\n",
       "<style scoped>\n",
       "    .dataframe tbody tr th:only-of-type {\n",
       "        vertical-align: middle;\n",
       "    }\n",
       "\n",
       "    .dataframe tbody tr th {\n",
       "        vertical-align: top;\n",
       "    }\n",
       "\n",
       "    .dataframe thead th {\n",
       "        text-align: right;\n",
       "    }\n",
       "</style>\n",
       "<table border=\"1\" class=\"dataframe\">\n",
       "  <thead>\n",
       "    <tr style=\"text-align: right;\">\n",
       "      <th></th>\n",
       "      <th>date</th>\n",
       "      <th>group</th>\n",
       "      <th>visitors</th>\n",
       "    </tr>\n",
       "  </thead>\n",
       "  <tbody>\n",
       "    <tr>\n",
       "      <th>0</th>\n",
       "      <td>2019-08-01</td>\n",
       "      <td>A</td>\n",
       "      <td>719</td>\n",
       "    </tr>\n",
       "    <tr>\n",
       "      <th>1</th>\n",
       "      <td>2019-08-02</td>\n",
       "      <td>A</td>\n",
       "      <td>619</td>\n",
       "    </tr>\n",
       "    <tr>\n",
       "      <th>2</th>\n",
       "      <td>2019-08-03</td>\n",
       "      <td>A</td>\n",
       "      <td>507</td>\n",
       "    </tr>\n",
       "    <tr>\n",
       "      <th>3</th>\n",
       "      <td>2019-08-04</td>\n",
       "      <td>A</td>\n",
       "      <td>717</td>\n",
       "    </tr>\n",
       "    <tr>\n",
       "      <th>4</th>\n",
       "      <td>2019-08-05</td>\n",
       "      <td>A</td>\n",
       "      <td>756</td>\n",
       "    </tr>\n",
       "  </tbody>\n",
       "</table>\n",
       "</div>"
      ],
      "text/plain": [
       "         date group  visitors\n",
       "0  2019-08-01     A       719\n",
       "1  2019-08-02     A       619\n",
       "2  2019-08-03     A       507\n",
       "3  2019-08-04     A       717\n",
       "4  2019-08-05     A       756"
      ]
     },
     "metadata": {},
     "output_type": "display_data"
    },
    {
     "name": "stdout",
     "output_type": "stream",
     "text": [
      "<class 'pandas.core.frame.DataFrame'>\n",
      "RangeIndex: 62 entries, 0 to 61\n",
      "Data columns (total 3 columns):\n",
      " #   Column    Non-Null Count  Dtype \n",
      "---  ------    --------------  ----- \n",
      " 0   date      62 non-null     object\n",
      " 1   group     62 non-null     object\n",
      " 2   visitors  62 non-null     int64 \n",
      "dtypes: int64(1), object(2)\n",
      "memory usage: 1.6+ KB\n"
     ]
    },
    {
     "data": {
      "text/plain": [
       "None"
      ]
     },
     "metadata": {},
     "output_type": "display_data"
    },
    {
     "name": "stdout",
     "output_type": "stream",
     "text": [
      "Количество явных дубликатов: 0\n"
     ]
    }
   ],
   "source": [
    "primary_analysis(visitors)"
   ]
  },
  {
   "cell_type": "markdown",
   "metadata": {},
   "source": [
    "Описание столбцов '/datasets/visitors.csv' согласно документации:\n",
    "* date — дата;\n",
    "* group — группа A/B-теста;\n",
    "* visitors — количество пользователей в указанную дату в указанной группе A/B-теста"
   ]
  },
  {
   "cell_type": "markdown",
   "metadata": {},
   "source": [
    "В датасетах 'orders' и 'visitors' тип данных столбца 'date' не соответствует значению. Кроме того, не будет лишним откорректировать название столбцов."
   ]
  },
  {
   "cell_type": "markdown",
   "metadata": {},
   "source": [
    "### Предобработка данных"
   ]
  },
  {
   "cell_type": "code",
   "execution_count": 5,
   "metadata": {},
   "outputs": [
    {
     "name": "stdout",
     "output_type": "stream",
     "text": [
      "<class 'pandas.core.frame.DataFrame'>\n",
      "RangeIndex: 1197 entries, 0 to 1196\n",
      "Data columns (total 5 columns):\n",
      " #   Column          Non-Null Count  Dtype         \n",
      "---  ------          --------------  -----         \n",
      " 0   transaction_id  1197 non-null   int64         \n",
      " 1   visitor_id      1197 non-null   int64         \n",
      " 2   date            1197 non-null   datetime64[ns]\n",
      " 3   revenue         1197 non-null   int64         \n",
      " 4   group           1197 non-null   object        \n",
      "dtypes: datetime64[ns](1), int64(3), object(1)\n",
      "memory usage: 46.9+ KB\n",
      "<class 'pandas.core.frame.DataFrame'>\n",
      "RangeIndex: 62 entries, 0 to 61\n",
      "Data columns (total 3 columns):\n",
      " #   Column    Non-Null Count  Dtype         \n",
      "---  ------    --------------  -----         \n",
      " 0   date      62 non-null     datetime64[ns]\n",
      " 1   group     62 non-null     object        \n",
      " 2   visitors  62 non-null     int64         \n",
      "dtypes: datetime64[ns](1), int64(1), object(1)\n",
      "memory usage: 1.6+ KB\n"
     ]
    },
    {
     "data": {
      "text/plain": [
       "None"
      ]
     },
     "metadata": {},
     "output_type": "display_data"
    }
   ],
   "source": [
    "# преобразуем данные о времени\n",
    "orders['date'] = orders['date'].map(lambda x: dt.datetime.strptime(x, '%Y-%m-%d'))\n",
    "visitors['date'] = visitors['date'].map(lambda x: dt.datetime.strptime(x, '%Y-%m-%d'))\n",
    "\n",
    "# откорректируем название столбцов в orders\n",
    "orders.columns = orders.columns.str.replace(\"id\", \"_id\")\n",
    "\n",
    "orders.info()\n",
    "display(visitors.info())"
   ]
  },
  {
   "cell_type": "markdown",
   "metadata": {},
   "source": [
    "На следующем шаге изучим более подробно данные датасета:    "
   ]
  },
  {
   "cell_type": "code",
   "execution_count": 6,
   "metadata": {},
   "outputs": [
    {
     "name": "stdout",
     "output_type": "stream",
     "text": [
      "Количество групп в АВ-тесте: датасет 'orders' - 2 ; датасет 'visitors' - 2\n"
     ]
    }
   ],
   "source": [
    "#проверка количества групп в АВ-тесте\n",
    "print(\"Количество групп в АВ-тесте: датасет 'orders' -\", orders['group'].nunique(), \"; датасет 'visitors' -\", visitors['group'].nunique())"
   ]
  },
  {
   "cell_type": "code",
   "execution_count": 7,
   "metadata": {
    "scrolled": true
   },
   "outputs": [
    {
     "name": "stdout",
     "output_type": "stream",
     "text": [
      "Дата начала АВ-теста: датасет 'orders' - 08/01/2019 ; датасет 'visitors' - 08/01/2019\n",
      "Дата начала АВ-теста: датасет 'orders' - 08/31/2019 ; датасет 'visitors' - 08/31/2019\n"
     ]
    }
   ],
   "source": [
    "#проверка даты начала и окончания теста\n",
    "print(\"Дата начала АВ-теста: датасет 'orders' -\", orders['date'].dt.strftime('%m/%d/%Y').min(), \"; датасет 'visitors' -\", visitors['date'].dt.strftime('%m/%d/%Y').min())\n",
    "print(\"Дата начала АВ-теста: датасет 'orders' -\", orders['date'].dt.strftime('%m/%d/%Y').max(), \"; датасет 'visitors' -\", visitors['date'].dt.strftime('%m/%d/%Y').max())"
   ]
  },
  {
   "cell_type": "code",
   "execution_count": 8,
   "metadata": {},
   "outputs": [
    {
     "name": "stdout",
     "output_type": "stream",
     "text": [
      "Количество уникальных пользователей в группе А: 503\n",
      "Количество уникальных пользователей в группе B: 586\n"
     ]
    }
   ],
   "source": [
    "# количество пользователей для каждой группе в датасете orders\n",
    "print(\"Количество уникальных пользователей в группе А:\", orders[orders['group'] == 'A']['visitor_id'].nunique())\n",
    "print(\"Количество уникальных пользователей в группе B:\", orders[orders['group'] == 'B']['visitor_id'].nunique())"
   ]
  },
  {
   "cell_type": "code",
   "execution_count": 9,
   "metadata": {
    "scrolled": true
   },
   "outputs": [
    {
     "name": "stdout",
     "output_type": "stream",
     "text": [
      "Количество вхождений, попадающих в обе группы теста: 89\n"
     ]
    }
   ],
   "source": [
    "# Проверим, не попадают ли какие-то пользователи в обе группы - по таблице с заказами\n",
    "print(\"Количество вхождений, попадающих в обе группы теста:\", orders[orders['group'] == 'A']['visitor_id'].isin(orders[orders['group'] == 'B']['visitor_id']).sum(axis=0))"
   ]
  },
  {
   "cell_type": "markdown",
   "metadata": {},
   "source": [
    "Проверка показала, что 89 пользователей попадают в обе группы, в А и В, при этом количество пользователей в группе В на 83 больше, чем в группе А. "
   ]
  },
  {
   "cell_type": "markdown",
   "metadata": {},
   "source": [
    "**Вывод:** данные готовы для исследователького анализа."
   ]
  },
  {
   "cell_type": "markdown",
   "metadata": {},
   "source": [
    "## Исследовательский анализ данных\n",
    "### Приоритизация гипотез"
   ]
  },
  {
   "cell_type": "markdown",
   "metadata": {},
   "source": [
    "Проанализируем датасет с гипотезами:"
   ]
  },
  {
   "cell_type": "code",
   "execution_count": 10,
   "metadata": {},
   "outputs": [
    {
     "data": {
      "text/html": [
       "<div>\n",
       "<style scoped>\n",
       "    .dataframe tbody tr th:only-of-type {\n",
       "        vertical-align: middle;\n",
       "    }\n",
       "\n",
       "    .dataframe tbody tr th {\n",
       "        vertical-align: top;\n",
       "    }\n",
       "\n",
       "    .dataframe thead th {\n",
       "        text-align: right;\n",
       "    }\n",
       "</style>\n",
       "<table border=\"1\" class=\"dataframe\">\n",
       "  <thead>\n",
       "    <tr style=\"text-align: right;\">\n",
       "      <th></th>\n",
       "      <th>hypothesis</th>\n",
       "      <th>reach</th>\n",
       "      <th>impact</th>\n",
       "      <th>confidence</th>\n",
       "      <th>efforts</th>\n",
       "    </tr>\n",
       "  </thead>\n",
       "  <tbody>\n",
       "    <tr>\n",
       "      <th>0</th>\n",
       "      <td>Добавить два новых канала привлечения трафика, что позволит привлекать на 30% больше пользователей</td>\n",
       "      <td>3</td>\n",
       "      <td>10</td>\n",
       "      <td>8</td>\n",
       "      <td>6</td>\n",
       "    </tr>\n",
       "    <tr>\n",
       "      <th>1</th>\n",
       "      <td>Запустить собственную службу доставки, что сократит срок доставки заказов</td>\n",
       "      <td>2</td>\n",
       "      <td>5</td>\n",
       "      <td>4</td>\n",
       "      <td>10</td>\n",
       "    </tr>\n",
       "    <tr>\n",
       "      <th>2</th>\n",
       "      <td>Добавить блоки рекомендаций товаров на сайт интернет магазина, чтобы повысить конверсию и средний чек заказа</td>\n",
       "      <td>8</td>\n",
       "      <td>3</td>\n",
       "      <td>7</td>\n",
       "      <td>3</td>\n",
       "    </tr>\n",
       "    <tr>\n",
       "      <th>3</th>\n",
       "      <td>Изменить структура категорий, что увеличит конверсию, т.к. пользователи быстрее найдут нужный товар</td>\n",
       "      <td>8</td>\n",
       "      <td>3</td>\n",
       "      <td>3</td>\n",
       "      <td>8</td>\n",
       "    </tr>\n",
       "    <tr>\n",
       "      <th>4</th>\n",
       "      <td>Изменить цвет фона главной страницы, чтобы увеличить вовлеченность пользователей</td>\n",
       "      <td>3</td>\n",
       "      <td>1</td>\n",
       "      <td>1</td>\n",
       "      <td>1</td>\n",
       "    </tr>\n",
       "    <tr>\n",
       "      <th>5</th>\n",
       "      <td>Добавить страницу отзывов клиентов о магазине, что позволит увеличить количество заказов</td>\n",
       "      <td>3</td>\n",
       "      <td>2</td>\n",
       "      <td>2</td>\n",
       "      <td>3</td>\n",
       "    </tr>\n",
       "    <tr>\n",
       "      <th>6</th>\n",
       "      <td>Показать на главной странице баннеры с актуальными акциями и распродажами, чтобы увеличить конверсию</td>\n",
       "      <td>5</td>\n",
       "      <td>3</td>\n",
       "      <td>8</td>\n",
       "      <td>3</td>\n",
       "    </tr>\n",
       "    <tr>\n",
       "      <th>7</th>\n",
       "      <td>Добавить форму подписки на все основные страницы, чтобы собрать базу клиентов для email-рассылок</td>\n",
       "      <td>10</td>\n",
       "      <td>7</td>\n",
       "      <td>8</td>\n",
       "      <td>5</td>\n",
       "    </tr>\n",
       "    <tr>\n",
       "      <th>8</th>\n",
       "      <td>Запустить акцию, дающую скидку на товар в день рождения</td>\n",
       "      <td>1</td>\n",
       "      <td>9</td>\n",
       "      <td>9</td>\n",
       "      <td>5</td>\n",
       "    </tr>\n",
       "  </tbody>\n",
       "</table>\n",
       "</div>"
      ],
      "text/plain": [
       "                                                                                                     hypothesis  \\\n",
       "0            Добавить два новых канала привлечения трафика, что позволит привлекать на 30% больше пользователей   \n",
       "1                                     Запустить собственную службу доставки, что сократит срок доставки заказов   \n",
       "2  Добавить блоки рекомендаций товаров на сайт интернет магазина, чтобы повысить конверсию и средний чек заказа   \n",
       "3           Изменить структура категорий, что увеличит конверсию, т.к. пользователи быстрее найдут нужный товар   \n",
       "4                              Изменить цвет фона главной страницы, чтобы увеличить вовлеченность пользователей   \n",
       "5                      Добавить страницу отзывов клиентов о магазине, что позволит увеличить количество заказов   \n",
       "6          Показать на главной странице баннеры с актуальными акциями и распродажами, чтобы увеличить конверсию   \n",
       "7              Добавить форму подписки на все основные страницы, чтобы собрать базу клиентов для email-рассылок   \n",
       "8                                                       Запустить акцию, дающую скидку на товар в день рождения   \n",
       "\n",
       "   reach  impact  confidence  efforts  \n",
       "0      3      10           8        6  \n",
       "1      2       5           4       10  \n",
       "2      8       3           7        3  \n",
       "3      8       3           3        8  \n",
       "4      3       1           1        1  \n",
       "5      3       2           2        3  \n",
       "6      5       3           8        3  \n",
       "7     10       7           8        5  \n",
       "8      1       9           9        5  "
      ]
     },
     "metadata": {},
     "output_type": "display_data"
    }
   ],
   "source": [
    "pd.options.display.max_colwidth = 120\n",
    "display(hypothesis)"
   ]
  },
  {
   "cell_type": "markdown",
   "metadata": {},
   "source": [
    "Применим фреймворк ICE для приоритизации гипотез и отсортируем их по убыванию приоритета:"
   ]
  },
  {
   "cell_type": "code",
   "execution_count": 11,
   "metadata": {},
   "outputs": [
    {
     "data": {
      "text/html": [
       "<div>\n",
       "<style scoped>\n",
       "    .dataframe tbody tr th:only-of-type {\n",
       "        vertical-align: middle;\n",
       "    }\n",
       "\n",
       "    .dataframe tbody tr th {\n",
       "        vertical-align: top;\n",
       "    }\n",
       "\n",
       "    .dataframe thead th {\n",
       "        text-align: right;\n",
       "    }\n",
       "</style>\n",
       "<table border=\"1\" class=\"dataframe\">\n",
       "  <thead>\n",
       "    <tr style=\"text-align: right;\">\n",
       "      <th></th>\n",
       "      <th>hypothesis</th>\n",
       "      <th>ICE</th>\n",
       "    </tr>\n",
       "  </thead>\n",
       "  <tbody>\n",
       "    <tr>\n",
       "      <th>8</th>\n",
       "      <td>Запустить акцию, дающую скидку на товар в день рождения</td>\n",
       "      <td>16.200000</td>\n",
       "    </tr>\n",
       "    <tr>\n",
       "      <th>0</th>\n",
       "      <td>Добавить два новых канала привлечения трафика, что позволит привлекать на 30% больше пользователей</td>\n",
       "      <td>13.333333</td>\n",
       "    </tr>\n",
       "    <tr>\n",
       "      <th>7</th>\n",
       "      <td>Добавить форму подписки на все основные страницы, чтобы собрать базу клиентов для email-рассылок</td>\n",
       "      <td>11.200000</td>\n",
       "    </tr>\n",
       "    <tr>\n",
       "      <th>6</th>\n",
       "      <td>Показать на главной странице баннеры с актуальными акциями и распродажами, чтобы увеличить конверсию</td>\n",
       "      <td>8.000000</td>\n",
       "    </tr>\n",
       "    <tr>\n",
       "      <th>2</th>\n",
       "      <td>Добавить блоки рекомендаций товаров на сайт интернет магазина, чтобы повысить конверсию и средний чек заказа</td>\n",
       "      <td>7.000000</td>\n",
       "    </tr>\n",
       "    <tr>\n",
       "      <th>1</th>\n",
       "      <td>Запустить собственную службу доставки, что сократит срок доставки заказов</td>\n",
       "      <td>2.000000</td>\n",
       "    </tr>\n",
       "    <tr>\n",
       "      <th>5</th>\n",
       "      <td>Добавить страницу отзывов клиентов о магазине, что позволит увеличить количество заказов</td>\n",
       "      <td>1.333333</td>\n",
       "    </tr>\n",
       "    <tr>\n",
       "      <th>3</th>\n",
       "      <td>Изменить структура категорий, что увеличит конверсию, т.к. пользователи быстрее найдут нужный товар</td>\n",
       "      <td>1.125000</td>\n",
       "    </tr>\n",
       "    <tr>\n",
       "      <th>4</th>\n",
       "      <td>Изменить цвет фона главной страницы, чтобы увеличить вовлеченность пользователей</td>\n",
       "      <td>1.000000</td>\n",
       "    </tr>\n",
       "  </tbody>\n",
       "</table>\n",
       "</div>"
      ],
      "text/plain": [
       "                                                                                                     hypothesis  \\\n",
       "8                                                       Запустить акцию, дающую скидку на товар в день рождения   \n",
       "0            Добавить два новых канала привлечения трафика, что позволит привлекать на 30% больше пользователей   \n",
       "7              Добавить форму подписки на все основные страницы, чтобы собрать базу клиентов для email-рассылок   \n",
       "6          Показать на главной странице баннеры с актуальными акциями и распродажами, чтобы увеличить конверсию   \n",
       "2  Добавить блоки рекомендаций товаров на сайт интернет магазина, чтобы повысить конверсию и средний чек заказа   \n",
       "1                                     Запустить собственную службу доставки, что сократит срок доставки заказов   \n",
       "5                      Добавить страницу отзывов клиентов о магазине, что позволит увеличить количество заказов   \n",
       "3           Изменить структура категорий, что увеличит конверсию, т.к. пользователи быстрее найдут нужный товар   \n",
       "4                              Изменить цвет фона главной страницы, чтобы увеличить вовлеченность пользователей   \n",
       "\n",
       "         ICE  \n",
       "8  16.200000  \n",
       "0  13.333333  \n",
       "7  11.200000  \n",
       "6   8.000000  \n",
       "2   7.000000  \n",
       "1   2.000000  \n",
       "5   1.333333  \n",
       "3   1.125000  \n",
       "4   1.000000  "
      ]
     },
     "metadata": {},
     "output_type": "display_data"
    }
   ],
   "source": [
    "hypothesis['ICE'] = (hypothesis['impact'] * hypothesis['confidence']) / hypothesis['efforts']\n",
    "pd.options.display.max_colwidth = 120\n",
    "display(hypothesis[['hypothesis', 'ICE']].sort_values(by='ICE', ascending=False))"
   ]
  },
  {
   "cell_type": "markdown",
   "metadata": {},
   "source": [
    "На следующем шаге применим фреймворк RICE для приоритизации гипотез и также отсортируем их по убыванию приоритета:"
   ]
  },
  {
   "cell_type": "code",
   "execution_count": 12,
   "metadata": {},
   "outputs": [
    {
     "data": {
      "text/html": [
       "<div>\n",
       "<style scoped>\n",
       "    .dataframe tbody tr th:only-of-type {\n",
       "        vertical-align: middle;\n",
       "    }\n",
       "\n",
       "    .dataframe tbody tr th {\n",
       "        vertical-align: top;\n",
       "    }\n",
       "\n",
       "    .dataframe thead th {\n",
       "        text-align: right;\n",
       "    }\n",
       "</style>\n",
       "<table border=\"1\" class=\"dataframe\">\n",
       "  <thead>\n",
       "    <tr style=\"text-align: right;\">\n",
       "      <th></th>\n",
       "      <th>hypothesis</th>\n",
       "      <th>RICE</th>\n",
       "    </tr>\n",
       "  </thead>\n",
       "  <tbody>\n",
       "    <tr>\n",
       "      <th>7</th>\n",
       "      <td>Добавить форму подписки на все основные страницы, чтобы собрать базу клиентов для email-рассылок</td>\n",
       "      <td>112.0</td>\n",
       "    </tr>\n",
       "    <tr>\n",
       "      <th>2</th>\n",
       "      <td>Добавить блоки рекомендаций товаров на сайт интернет магазина, чтобы повысить конверсию и средний чек заказа</td>\n",
       "      <td>56.0</td>\n",
       "    </tr>\n",
       "    <tr>\n",
       "      <th>0</th>\n",
       "      <td>Добавить два новых канала привлечения трафика, что позволит привлекать на 30% больше пользователей</td>\n",
       "      <td>40.0</td>\n",
       "    </tr>\n",
       "    <tr>\n",
       "      <th>6</th>\n",
       "      <td>Показать на главной странице баннеры с актуальными акциями и распродажами, чтобы увеличить конверсию</td>\n",
       "      <td>40.0</td>\n",
       "    </tr>\n",
       "    <tr>\n",
       "      <th>8</th>\n",
       "      <td>Запустить акцию, дающую скидку на товар в день рождения</td>\n",
       "      <td>16.2</td>\n",
       "    </tr>\n",
       "    <tr>\n",
       "      <th>3</th>\n",
       "      <td>Изменить структура категорий, что увеличит конверсию, т.к. пользователи быстрее найдут нужный товар</td>\n",
       "      <td>9.0</td>\n",
       "    </tr>\n",
       "    <tr>\n",
       "      <th>1</th>\n",
       "      <td>Запустить собственную службу доставки, что сократит срок доставки заказов</td>\n",
       "      <td>4.0</td>\n",
       "    </tr>\n",
       "    <tr>\n",
       "      <th>5</th>\n",
       "      <td>Добавить страницу отзывов клиентов о магазине, что позволит увеличить количество заказов</td>\n",
       "      <td>4.0</td>\n",
       "    </tr>\n",
       "    <tr>\n",
       "      <th>4</th>\n",
       "      <td>Изменить цвет фона главной страницы, чтобы увеличить вовлеченность пользователей</td>\n",
       "      <td>3.0</td>\n",
       "    </tr>\n",
       "  </tbody>\n",
       "</table>\n",
       "</div>"
      ],
      "text/plain": [
       "                                                                                                     hypothesis  \\\n",
       "7              Добавить форму подписки на все основные страницы, чтобы собрать базу клиентов для email-рассылок   \n",
       "2  Добавить блоки рекомендаций товаров на сайт интернет магазина, чтобы повысить конверсию и средний чек заказа   \n",
       "0            Добавить два новых канала привлечения трафика, что позволит привлекать на 30% больше пользователей   \n",
       "6          Показать на главной странице баннеры с актуальными акциями и распродажами, чтобы увеличить конверсию   \n",
       "8                                                       Запустить акцию, дающую скидку на товар в день рождения   \n",
       "3           Изменить структура категорий, что увеличит конверсию, т.к. пользователи быстрее найдут нужный товар   \n",
       "1                                     Запустить собственную службу доставки, что сократит срок доставки заказов   \n",
       "5                      Добавить страницу отзывов клиентов о магазине, что позволит увеличить количество заказов   \n",
       "4                              Изменить цвет фона главной страницы, чтобы увеличить вовлеченность пользователей   \n",
       "\n",
       "    RICE  \n",
       "7  112.0  \n",
       "2   56.0  \n",
       "0   40.0  \n",
       "6   40.0  \n",
       "8   16.2  \n",
       "3    9.0  \n",
       "1    4.0  \n",
       "5    4.0  \n",
       "4    3.0  "
      ]
     },
     "metadata": {},
     "output_type": "display_data"
    }
   ],
   "source": [
    "hypothesis['RICE'] = (hypothesis['reach'] * hypothesis['impact'] * hypothesis['confidence']) / hypothesis['efforts']\n",
    "pd.options.display.max_colwidth = 120\n",
    "display(hypothesis[['hypothesis', 'RICE']].sort_values(by='RICE', ascending=False))"
   ]
  },
  {
   "cell_type": "markdown",
   "metadata": {},
   "source": [
    "**Вывод**\n",
    "\n",
    "При применении фреймворка RICE вместо ICE приоритизация гипотез изменилась: гипотезы 7, 2 и 0 стали наиболее приоритетными (по убыванию) из-за параметра Reach, который показывает, как много пользователей каждая гипотеза затронет. Гипотеза 7 охватывает максимальную аудиторию пользователей, поскольку для нее параметр Reach равен 10. \n",
    "Аудитория для гипотезы 2 - меньше, ее параметр Reach равен 8. \n",
    "По этой же причине гипотеза 0 со значением Reach, равным 3, переместилась с первого на третье место."
   ]
  },
  {
   "cell_type": "markdown",
   "metadata": {},
   "source": [
    "## Анализ A/B-теста"
   ]
  },
  {
   "cell_type": "markdown",
   "metadata": {},
   "source": [
    "### График кумулятивной выручки по группам "
   ]
  },
  {
   "cell_type": "code",
   "execution_count": 13,
   "metadata": {},
   "outputs": [
    {
     "data": {
      "text/html": [
       "<div>\n",
       "<style scoped>\n",
       "    .dataframe tbody tr th:only-of-type {\n",
       "        vertical-align: middle;\n",
       "    }\n",
       "\n",
       "    .dataframe tbody tr th {\n",
       "        vertical-align: top;\n",
       "    }\n",
       "\n",
       "    .dataframe thead th {\n",
       "        text-align: right;\n",
       "    }\n",
       "</style>\n",
       "<table border=\"1\" class=\"dataframe\">\n",
       "  <thead>\n",
       "    <tr style=\"text-align: right;\">\n",
       "      <th></th>\n",
       "      <th>date</th>\n",
       "      <th>group</th>\n",
       "      <th>orders</th>\n",
       "      <th>buyers</th>\n",
       "      <th>revenue</th>\n",
       "      <th>visitors</th>\n",
       "    </tr>\n",
       "  </thead>\n",
       "  <tbody>\n",
       "    <tr>\n",
       "      <th>0</th>\n",
       "      <td>2019-08-01</td>\n",
       "      <td>A</td>\n",
       "      <td>24</td>\n",
       "      <td>20</td>\n",
       "      <td>148579</td>\n",
       "      <td>719</td>\n",
       "    </tr>\n",
       "    <tr>\n",
       "      <th>1</th>\n",
       "      <td>2019-08-01</td>\n",
       "      <td>B</td>\n",
       "      <td>21</td>\n",
       "      <td>20</td>\n",
       "      <td>101217</td>\n",
       "      <td>713</td>\n",
       "    </tr>\n",
       "    <tr>\n",
       "      <th>2</th>\n",
       "      <td>2019-08-02</td>\n",
       "      <td>A</td>\n",
       "      <td>44</td>\n",
       "      <td>38</td>\n",
       "      <td>242401</td>\n",
       "      <td>1338</td>\n",
       "    </tr>\n",
       "    <tr>\n",
       "      <th>3</th>\n",
       "      <td>2019-08-02</td>\n",
       "      <td>B</td>\n",
       "      <td>45</td>\n",
       "      <td>43</td>\n",
       "      <td>266748</td>\n",
       "      <td>1294</td>\n",
       "    </tr>\n",
       "    <tr>\n",
       "      <th>4</th>\n",
       "      <td>2019-08-03</td>\n",
       "      <td>A</td>\n",
       "      <td>68</td>\n",
       "      <td>62</td>\n",
       "      <td>354874</td>\n",
       "      <td>1845</td>\n",
       "    </tr>\n",
       "  </tbody>\n",
       "</table>\n",
       "</div>"
      ],
      "text/plain": [
       "        date group  orders  buyers  revenue  visitors\n",
       "0 2019-08-01     A      24      20   148579       719\n",
       "1 2019-08-01     B      21      20   101217       713\n",
       "2 2019-08-02     A      44      38   242401      1338\n",
       "3 2019-08-02     B      45      43   266748      1294\n",
       "4 2019-08-03     A      68      62   354874      1845"
      ]
     },
     "metadata": {},
     "output_type": "display_data"
    },
    {
     "data": {
      "image/png": "[encoded data removed]",
      "text/plain": [
       "<Figure size 864x360 with 1 Axes>"
      ]
     },
     "metadata": {
      "needs_background": "light"
     },
     "output_type": "display_data"
    }
   ],
   "source": [
    "# массив уникальных пар значений дат и групп теста\n",
    "datesGroups = orders[['date','group']].drop_duplicates() \n",
    "\n",
    "# агрегированные кумулятивные по дням данные о заказах:\n",
    "ordersAggregated = ( \n",
    "    datesGroups.apply(lambda x: orders[np.logical_and(orders['date'] <= x['date'], orders['group'] == x['group'])]\\\n",
    "    .agg(\n",
    "        {'date' : 'max',\n",
    "         'group' : 'max', \n",
    "         'transaction_id' : 'nunique', \n",
    "         'visitor_id' : 'nunique', \n",
    "         'revenue' : 'sum'}), axis=1)\n",
    "    .sort_values(by=['date','group']))\n",
    "\n",
    "# агрегированные кумулятивные по дням данные о посетителях:\n",
    "visitorsAggregated = (\n",
    "    datesGroups.apply(lambda x: visitors[np.logical_and(visitors['date'] <= x['date'], visitors['group'] == x['group'])]\n",
    "                      .agg(\n",
    "                          {'date' : 'max', \n",
    "                           'group' : 'max', \n",
    "                           'visitors' : 'sum'}), axis=1)\n",
    "    .sort_values(by=['date','group'])\n",
    ")\n",
    "\n",
    "# объединяем кумулятивные данные в одной таблице и корректируем названия столбцов\n",
    "cumulativeData = ordersAggregated.merge(visitorsAggregated, left_on=['date', 'group'], right_on=['date', 'group'])\n",
    "cumulativeData.columns = ['date', 'group', 'orders', 'buyers', 'revenue', 'visitors']\n",
    "\n",
    "display(cumulativeData.head(5)) \n",
    "\n",
    "# Построим графики кумулятивной выручки по дням и группам A/B-тестирования:\n",
    "# датафрейм с кумулятивным количеством заказов и кумулятивной выручкой по дням в группе А\n",
    "cumulativeRevenueA = cumulativeData[cumulativeData['group']=='A'][['date','revenue', 'orders']] \n",
    "\n",
    "# датафрейм с кумулятивным количеством заказов и кумулятивной выручкой по дням в группе B\n",
    "cumulativeRevenueB = cumulativeData[cumulativeData['group']=='B'][['date','revenue', 'orders']]\n",
    "\n",
    "plt.figure(figsize=(12, 5))\n",
    "# Строим график выручки группы А\n",
    "plt.plot(cumulativeRevenueA['date'], cumulativeRevenueA['revenue'], label='A')\n",
    "\n",
    "# Строим график выручки группы B\n",
    "plt.plot(cumulativeRevenueB['date'], cumulativeRevenueB['revenue'], label='B')\n",
    "\n",
    "plt.xticks(rotation ='vertical')\n",
    "plt.legend()\n",
    "plt.ylabel('Кумулятивная выручка, млн руб.')\n",
    "plt.xlabel('Дата')\n",
    "plt.title('График кумулятивной выручки по группам');"
   ]
  },
  {
   "cell_type": "markdown",
   "metadata": {},
   "source": [
    "**Вывод:** \n",
    "\n",
    "Выручка почти равномерно увеличивается в течение всего теста. График выручки для группы В в одной точке графика резко растет. Это может сигнализировать о всплесках числа заказов, либо о появлении очень дорогих заказов в выборке."
   ]
  },
  {
   "cell_type": "markdown",
   "metadata": {},
   "source": [
    "### График кумулятивного среднего чека по группам"
   ]
  },
  {
   "cell_type": "code",
   "execution_count": 14,
   "metadata": {},
   "outputs": [
    {
     "data": {
      "image/png": "[encoded data removed]",
      "text/plain": [
       "<Figure size 864x360 with 1 Axes>"
      ]
     },
     "metadata": {
      "needs_background": "light"
     },
     "output_type": "display_data"
    }
   ],
   "source": [
    "# графики среднего чека по группам \n",
    "plt.figure(figsize=(12, 5))\n",
    "plt.plot(cumulativeRevenueA['date'], cumulativeRevenueA['revenue']/cumulativeRevenueA['orders'], label='A')\n",
    "plt.plot(cumulativeRevenueB['date'], cumulativeRevenueB['revenue']/cumulativeRevenueB['orders'], label='B')\n",
    "plt.xticks(rotation ='vertical')\n",
    "\n",
    "plt.legend()\n",
    "plt.ylabel('Кумулятивный средний чек, руб.')\n",
    "plt.xlabel('Дата')\n",
    "plt.title('График кумулятивного среднего чека по группам');"
   ]
  },
  {
   "cell_type": "markdown",
   "metadata": {},
   "source": [
    "**Вывод:**\n",
    "\n",
    "Средний чек для группы В 19 августа 2019 года скачкообразно возрастает, и это различие между чеками сохраняется до конца теста. Во второй половине теста в группу B попали аномально крупные заказы."
   ]
  },
  {
   "cell_type": "markdown",
   "metadata": {},
   "source": [
    "### График относительного изменения кумулятивного среднего чека группы B к группе A"
   ]
  },
  {
   "cell_type": "code",
   "execution_count": 15,
   "metadata": {},
   "outputs": [
    {
     "data": {
      "image/png": "[encoded data removed]",
      "text/plain": [
       "<Figure size 864x360 with 1 Axes>"
      ]
     },
     "metadata": {
      "needs_background": "light"
     },
     "output_type": "display_data"
    }
   ],
   "source": [
    "# собираем данные в одном датафрейме\n",
    "mergedCumulativeRevenue = cumulativeRevenueA.merge(cumulativeRevenueB, left_on='date', right_on='date', how='left', suffixes=['A', 'B'])\n",
    "\n",
    "# cтроим отношение средних чеков\n",
    "plt.figure(figsize=(12, 5))\n",
    "plt.plot(mergedCumulativeRevenue['date'], (mergedCumulativeRevenue['revenueB']/mergedCumulativeRevenue['ordersB'])/(mergedCumulativeRevenue['revenueA']/mergedCumulativeRevenue['ordersA'])-1)\n",
    "plt.xticks(rotation ='vertical')\n",
    "\n",
    "# добавляем ось X\n",
    "plt.axhline(y=0, color='black', linestyle='--')\n",
    "\n",
    "plt.ylabel('Относительное изменение кумулятивного среднего чека группы B к группе A')\n",
    "plt.xlabel('Дата')\n",
    "plt.title('График относительного изменения кумулятивного среднего чека группы B к группе A');"
   ]
  },
  {
   "cell_type": "markdown",
   "metadata": {},
   "source": [
    "**Вывод:**\n",
    "\n",
    "В нескольких точках график различия между сегментами резко «скачет». Причины, вероятно, связаны с крупными заказами и выбросами."
   ]
  },
  {
   "cell_type": "markdown",
   "metadata": {},
   "source": [
    "### График кумулятивной конверсии по группам"
   ]
  },
  {
   "cell_type": "code",
   "execution_count": 16,
   "metadata": {},
   "outputs": [
    {
     "data": {
      "image/png": "[encoded data removed]",
      "text/plain": [
       "<Figure size 864x360 with 1 Axes>"
      ]
     },
     "metadata": {
      "needs_background": "light"
     },
     "output_type": "display_data"
    }
   ],
   "source": [
    "# посчитаем кумулятивную конверсию\n",
    "cumulativeData['conversion'] = cumulativeData['orders']/cumulativeData['visitors'] * 100\n",
    "\n",
    "# отделяем данные по группе A\n",
    "cumulativeDataA = cumulativeData[cumulativeData['group']=='A']\n",
    "\n",
    "# отделяем данные по группе B\n",
    "cumulativeDataB = cumulativeData[cumulativeData['group']=='B']\n",
    "\n",
    "plt.figure(figsize=(12, 5))\n",
    "# строим графики\n",
    "plt.plot(cumulativeDataA['date'], cumulativeDataA['conversion'], label='A')\n",
    "plt.plot(cumulativeDataB['date'], cumulativeDataB['conversion'], label='B')\n",
    "plt.xticks(rotation ='vertical')\n",
    "plt.legend()\n",
    "\n",
    "plt.axis([\"2019-08-01\", '2019-08-31', 2.8, 3.7]);\n",
    "\n",
    "plt.ylabel('Кумулятивная конверсия')\n",
    "plt.xlabel('Дата')\n",
    "plt.title('График кумулятивной конверсии по группам');"
   ]
  },
  {
   "cell_type": "markdown",
   "metadata": {},
   "source": [
    "**Вывод:**\n",
    "\n",
    "В начале теста конверсии обеих групп подскачили вверх, а затем так же резко упали вниз. Потом конверсия группы В устремилась вверх, а конверсия группы А, наоборот, просела. Далее общая картина не менялась, до конца теста конверсии обеих групп зафиксировались и колебались около одних и тех же значений. "
   ]
  },
  {
   "cell_type": "markdown",
   "metadata": {},
   "source": [
    "### График относительного изменения кумулятивной конверсии группы B к группе A"
   ]
  },
  {
   "cell_type": "code",
   "execution_count": 17,
   "metadata": {},
   "outputs": [
    {
     "data": {
      "image/png": "[encoded data removed]",
      "text/plain": [
       "<Figure size 864x360 with 1 Axes>"
      ]
     },
     "metadata": {
      "needs_background": "light"
     },
     "output_type": "display_data"
    }
   ],
   "source": [
    "# построим график относительного различия кумулятивных конверсий:\n",
    "mergedCumulativeConversions = cumulativeDataA[['date','conversion']].merge(cumulativeDataB[['date','conversion']], left_on='date', right_on='date', how='left', suffixes=['A', 'B'])\n",
    "\n",
    "plt.figure(figsize=(12, 5))\n",
    "plt.plot(mergedCumulativeConversions['date'], mergedCumulativeConversions['conversionB']/mergedCumulativeConversions['conversionA']-1, label=\"Относительный прирост конверсии группы B относительно группы A\")\n",
    "plt.xticks(rotation ='vertical')\n",
    "\n",
    "plt.legend()\n",
    "plt.axhline(y=0.1, color='grey', linestyle='--')\n",
    "plt.axhline(y=0.0, color='black', linestyle='--')\n",
    "\n",
    "plt.ylabel('Относительное изменение кумулятивной конверсии группы B к группе A')\n",
    "plt.xlabel('Дата')\n",
    "plt.title(' График относительного изменения кумулятивной конверсии группы B к группе A');"
   ]
  },
  {
   "cell_type": "markdown",
   "metadata": {},
   "source": [
    "**Вывод:**\n",
    "\n",
    "В начале теста конверсии групп прыгали вверх-вниз. Затем конверсия группы В устремилась вверх и далее до конца теста значительно опережала конверсию группы А, даже несмотря на некоторое снижение во второй половине эксперимента. "
   ]
  },
  {
   "cell_type": "markdown",
   "metadata": {},
   "source": [
    "### Точечный график количества заказов по пользователям"
   ]
  },
  {
   "cell_type": "code",
   "execution_count": 18,
   "metadata": {},
   "outputs": [
    {
     "data": {
      "image/png": "[encoded data removed]",
      "text/plain": [
       "<Figure size 864x360 with 1 Axes>"
      ]
     },
     "metadata": {
      "needs_background": "light"
     },
     "output_type": "display_data"
    }
   ],
   "source": [
    "# посчитаем количество заказов по пользователям и запишем в ordersByUsers\n",
    "ordersByUsers = orders.groupby('visitor_id', as_index=False).agg({'transaction_id': 'nunique'})\n",
    "ordersByUsers.columns = ['visitor_id', 'orders']\n",
    "\n",
    "# построим точечную диаграмму количества заказов на одного пользователя\n",
    "plt.figure(figsize=(12, 5))\n",
    "x_values = pd.Series(range(0,len(ordersByUsers)))\n",
    "plt.scatter(x_values, ordersByUsers['orders'])\n",
    "\n",
    "plt.ylabel('Количество заказов, шт.')\n",
    "plt.xlabel('Пользователи')\n",
    "plt.title(' График распределения количества заказов по пользователям');"
   ]
  },
  {
   "cell_type": "markdown",
   "metadata": {},
   "source": [
    "**Вывод:**\n",
    "\n",
    "Имеется много пользователей с 2-3 заказами, однако их точная доля не ясна, потому непонятно, считать их аномалиями или нет."
   ]
  },
  {
   "cell_type": "markdown",
   "metadata": {},
   "source": [
    "### 95-й и 99-й перцентили количества заказов на пользователя"
   ]
  },
  {
   "cell_type": "code",
   "execution_count": 19,
   "metadata": {},
   "outputs": [
    {
     "name": "stdout",
     "output_type": "stream",
     "text": [
      "[2. 4.]\n"
     ]
    }
   ],
   "source": [
    "# определим 95 и 99 перцентили количества заказов на пользователя\n",
    "print(np.percentile(ordersByUsers['orders'], [95, 99])) "
   ]
  },
  {
   "cell_type": "markdown",
   "metadata": {},
   "source": [
    "**Вывод:**\n",
    "\n",
    "Не более 5% пользователей оформляли больше чем 2 заказа. И 1% пользователей заказывали более 4 раз.\n",
    "Разумно выбрать 2 заказа на одного пользователя за верхнюю границу числа заказов, и отсеять аномальных пользователей по ней."
   ]
  },
  {
   "cell_type": "markdown",
   "metadata": {},
   "source": [
    "### Точечный график стоимостей заказов"
   ]
  },
  {
   "cell_type": "code",
   "execution_count": 20,
   "metadata": {},
   "outputs": [
    {
     "data": {
      "image/png": "[encoded data removed]",
      "text/plain": [
       "<Figure size 864x360 with 1 Axes>"
      ]
     },
     "metadata": {
      "needs_background": "light"
     },
     "output_type": "display_data"
    }
   ],
   "source": [
    "# построим точечный график распределения стоимостей заказов\n",
    "x_values = pd.Series(range(0,len(orders['revenue'])))\n",
    "\n",
    "plt.figure(figsize=(12, 5))\n",
    "\n",
    "plt.scatter(x_values, orders['revenue'])\n",
    "plt.axis([0, 1200, 0, 1400000])\n",
    "\n",
    "plt.xlabel('Заказ')\n",
    "plt.ylabel(r'Стоимость заказа, руб.')\n",
    "plt.title(r'График распределения стоимостей заказов');"
   ]
  },
  {
   "cell_type": "markdown",
   "metadata": {},
   "source": [
    "Очевидно, что заказы на 1.2 млн руб и 200 тыс. руб. являются явными выбросами. \n",
    "Не будем обращать на них внимание и откорректируем лимиты по осям графика для его комфортного отображения:"
   ]
  },
  {
   "cell_type": "code",
   "execution_count": 21,
   "metadata": {},
   "outputs": [
    {
     "data": {
      "image/png": "[encoded data removed]",
      "text/plain": [
       "<Figure size 864x360 with 1 Axes>"
      ]
     },
     "metadata": {
      "needs_background": "light"
     },
     "output_type": "display_data"
    }
   ],
   "source": [
    "x_values = pd.Series(range(0,len(orders['revenue'])))\n",
    "plt.figure(figsize=(12, 5))\n",
    "\n",
    "plt.scatter(x_values, orders['revenue'])\n",
    "plt.axis([0, 1200, 0, 100000])\n",
    "\n",
    "plt.xlabel('Заказ')\n",
    "plt.ylabel(r'Стоимость заказа, руб.')\n",
    "plt.title(r'График распределения стоимостей заказов');"
   ]
  },
  {
   "cell_type": "markdown",
   "metadata": {},
   "source": [
    "**Вывод:**\n",
    "\n",
    "По графику можно выбрать границу аномальных заказов между 25000 и 60000 рублей. "
   ]
  },
  {
   "cell_type": "markdown",
   "metadata": {},
   "source": [
    "### 95-й и 99-й перцентили стоимости заказов"
   ]
  },
  {
   "cell_type": "code",
   "execution_count": 22,
   "metadata": {},
   "outputs": [
    {
     "name": "stdout",
     "output_type": "stream",
     "text": [
      "[28000.  58233.2]\n"
     ]
    }
   ],
   "source": [
    "# Определим 95 и 99 перцентили стоимости заказов\n",
    "print(np.percentile(orders['revenue'], [95, 99]))"
   ]
  },
  {
   "cell_type": "markdown",
   "metadata": {},
   "source": [
    "**Вывод:**\n",
    "\n",
    "Не более 5% пользователей оформляли заказы дороже 28000 руб. И 1% пользователей заказывали более чем на 58233 руб.\n",
    "Разумно выбрать 28000 руб. за верхнюю границу стоимости заказа, и отсеять аномальных пользователей по ней."
   ]
  },
  {
   "cell_type": "markdown",
   "metadata": {},
   "source": [
    "### Cтатистическая значимость различий в конверсии между группами по «сырым» данным"
   ]
  },
  {
   "cell_type": "markdown",
   "metadata": {},
   "source": [
    "Сформулируем гипотезы. \n",
    "\n",
    "* Нулевая: различий в конверсии между группами нет. \n",
    "* Альтернативная: различия в конверсии между группами есть.\n",
    "\n",
    "Критический уровень статистической значимости: alpha = 0.05\n",
    "\n",
    "Рассчитаем статистическую значимость различий в конверсии между группами:"
   ]
  },
  {
   "cell_type": "code",
   "execution_count": 23,
   "metadata": {},
   "outputs": [
    {
     "name": "stdout",
     "output_type": "stream",
     "text": [
      "p-value: 0.017\n",
      "Относительное различие в конверсии между группами: 0.138\n",
      "Отвергаем нулевую гипотезу: в конверсии между группами есть значимая разница\n"
     ]
    }
   ],
   "source": [
    "# Подготовим данные для расчета статистической значимости различий в конверсии между группами:\n",
    "# количество пользователей по датам в группе A\n",
    "visitorsADaily = visitors[visitors['group'] == 'A'][['date', 'visitors']]\n",
    "visitorsADaily.columns = ['date', 'visitorsPerDateA']\n",
    "\n",
    "# кумулятивное количество пользователей по датам в группе A\n",
    "visitorsACummulative = visitorsADaily.apply(\n",
    "    lambda x: visitorsADaily[visitorsADaily['date'] <= x['date']].agg(\n",
    "        {'date': 'max', 'visitorsPerDateA': 'sum'}\n",
    "    ),\n",
    "    axis=1,\n",
    ")\n",
    "visitorsACummulative.columns = ['date', 'visitorsCummulativeA']\n",
    "\n",
    "# количество пользователей по датам в группе В\n",
    "visitorsBDaily = visitors[visitors['group'] == 'B'][['date', 'visitors']]\n",
    "visitorsBDaily.columns = ['date', 'visitorsPerDateB']\n",
    "\n",
    "# кумулятивное количество пользователей по датам в группе В\n",
    "visitorsBCummulative = visitorsBDaily.apply(\n",
    "    lambda x: visitorsBDaily[visitorsBDaily['date'] <= x['date']].agg(\n",
    "        {'date': 'max', 'visitorsPerDateB': 'sum'}\n",
    "    ),\n",
    "    axis=1,\n",
    ")\n",
    "visitorsBCummulative.columns = ['date', 'visitorsCummulativeB']\n",
    "\n",
    "# количество заказов по датам в группе A\n",
    "ordersADaily = (\n",
    "    orders[orders['group'] == 'A'][['date', 'transaction_id', 'visitor_id', 'revenue']]\n",
    "    .groupby('date', as_index=False)\n",
    "    .agg({'visitor_id': pd.Series.nunique, 'revenue': 'sum'})\n",
    ")\n",
    "ordersADaily.columns = ['date', 'ordersPerDateA', 'revenuePerDateA']\n",
    "\n",
    "# кумулятивное количество заказов по датам в группе A\n",
    "ordersACummulative = ordersADaily.apply(\n",
    "    lambda x: ordersADaily[ordersADaily['date'] <= x['date']].agg(\n",
    "        {'date': 'max', 'ordersPerDateA': 'sum', 'revenuePerDateA': 'sum'}\n",
    "    ),\n",
    "    axis=1,\n",
    ").sort_values(by=['date'])\n",
    "ordersACummulative.columns = [\n",
    "    'date',\n",
    "    'ordersCummulativeA',\n",
    "    'revenueCummulativeA',\n",
    "]\n",
    "\n",
    "# количество заказов по датам в группе В\n",
    "ordersBDaily = (\n",
    "    orders[orders['group'] == 'B'][['date', 'transaction_id', 'visitor_id', 'revenue']]\n",
    "    .groupby('date', as_index=False)\n",
    "    .agg({'transaction_id': pd.Series.nunique, 'revenue': 'sum'})\n",
    ")\n",
    "ordersBDaily.columns = ['date', 'ordersPerDateB', 'revenuePerDateB']\n",
    "\n",
    "# кумулятивное количество заказов по датам в группе В\n",
    "ordersBCummulative = ordersBDaily.apply(\n",
    "    lambda x: ordersBDaily[ordersBDaily['date'] <= x['date']].agg(\n",
    "        {'date': 'max', 'ordersPerDateB': 'sum', 'revenuePerDateB': 'sum'}\n",
    "    ),\n",
    "    axis=1,\n",
    ").sort_values(by=['date'])\n",
    "ordersBCummulative.columns = [\n",
    "    'date',\n",
    "    'ordersCummulativeB',\n",
    "    'revenueCummulativeB',\n",
    "]\n",
    "\n",
    "# объединенный датасет с метриками\n",
    "data = (\n",
    "    ordersADaily.merge(\n",
    "        ordersBDaily, left_on='date', right_on='date', how='left'\n",
    "    )\n",
    "    .merge(ordersACummulative, left_on='date', right_on='date', how='left')\n",
    "    .merge(ordersBCummulative, left_on='date', right_on='date', how='left')\n",
    "    .merge(visitorsADaily, left_on='date', right_on='date', how='left')\n",
    "    .merge(visitorsBDaily, left_on='date', right_on='date', how='left')\n",
    "    .merge(visitorsACummulative, left_on='date', right_on='date', how='left')\n",
    "    .merge(visitorsBCummulative, left_on='date', right_on='date', how='left')\n",
    ")\n",
    "\n",
    "# таблица с пользователями, которые заказывали хотя бы 1 раз, и количетсвом совершённых ими заказов для группы А\n",
    "ordersByUsersA = (\n",
    "    orders[orders['group'] == 'A']\n",
    "    .groupby('visitor_id', as_index=False)\n",
    "    .agg({'transaction_id': pd.Series.nunique})\n",
    ")\n",
    "ordersByUsersA.columns = ['visitor_id', 'orders']\n",
    "\n",
    "# таблица с пользователями, которые заказывали хотя бы 1 раз, и количесnвом совершённых ими заказов для группы В\n",
    "ordersByUsersB = (\n",
    "    orders[orders['group'] == 'B']\n",
    "    .groupby('visitor_id', as_index=False)\n",
    "    .agg({'transaction_id': pd.Series.nunique})\n",
    ")\n",
    "ordersByUsersB.columns = ['visitor_id', 'orders']\n",
    "\n",
    "# таблица с пользователями и количеством совершенных ими заказом для группы А\n",
    "sampleA = pd.concat(\n",
    "    [\n",
    "        ordersByUsersA['orders'],\n",
    "        pd.Series(\n",
    "            0,\n",
    "            index=np.arange(\n",
    "                data['visitorsPerDateA'].sum() - len(ordersByUsersA['orders'])\n",
    "            ),\n",
    "            name='orders',\n",
    "        ),\n",
    "    ],\n",
    "    axis=0,\n",
    ")\n",
    "\n",
    "# таблица с пользователями и количеством совершенных ими заказом для группы В\n",
    "sampleB = pd.concat(\n",
    "    [\n",
    "        ordersByUsersB['orders'],\n",
    "        pd.Series(\n",
    "            0,\n",
    "            index=np.arange(\n",
    "                data['visitorsPerDateB'].sum() - len(ordersByUsersB['orders'])\n",
    "            ),\n",
    "            name='orders',\n",
    "        ),\n",
    "    ],\n",
    "    axis=0,\n",
    ")\n",
    "p_value = stats.mannwhitneyu(sampleA, sampleB)[1]\n",
    "\n",
    "alpha = 0.05 # критический уровень статистической значимости\n",
    "print(\"p-value: {0:.3f}\".format(p_value))\n",
    "print(\"Относительное различие в конверсии между группами: {0:.3f}\".format(sampleB.mean() / sampleA.mean() - 1))\n",
    "\n",
    "if p_value < alpha:\n",
    "    print('Отвергаем нулевую гипотезу: в конверсии между группами есть значимая разница')\n",
    "else:\n",
    "    print(\n",
    "        'Не получилось отвергнуть нулевую гипотезу: нет оснований считать конверсии между группами разными'\n",
    "    )"
   ]
  },
  {
   "cell_type": "markdown",
   "metadata": {},
   "source": [
    "**Вывод:**\n",
    "\n",
    "p-value = 0.017. Значит нулевую гипотезу о том, что статистически значимых различий в конверсии между группами нет, отвергаем."
   ]
  },
  {
   "cell_type": "markdown",
   "metadata": {},
   "source": [
    "### Статистическая значимость различий в среднем чеке заказа между группами по «сырым» данным"
   ]
  },
  {
   "cell_type": "markdown",
   "metadata": {},
   "source": [
    "Сформулируем гипотезы. \n",
    "\n",
    "* Нулевая: различий в среднем чеке заказа между группами нет. \n",
    "* Альтернативная: различия в среднем чеке заказа между группами есть.\n",
    "\n",
    "alpha = 0.05"
   ]
  },
  {
   "cell_type": "code",
   "execution_count": 24,
   "metadata": {},
   "outputs": [
    {
     "name": "stdout",
     "output_type": "stream",
     "text": [
      "p-value: 0.729\n",
      "Относительные различия в среднем чеке между группами: 0.259\n",
      "Не получилось отвергнуть нулевую гипотезу: нет оснований считать, что средние чеки заказа значительно различаются между группами\n"
     ]
    }
   ],
   "source": [
    "# рассчитаем статистическую значимость различий в среднем чеке заказа\n",
    "p_value = stats.mannwhitneyu(orders[orders['group']=='A']['revenue'], orders[orders['group']=='B']['revenue'])[1]\n",
    "print('p-value: {0:.3f}'.format(p_value))\n",
    "\n",
    "# относительные различия в среднем чеке между группами\n",
    "print('Относительные различия в среднем чеке между группами: {0:.3f}'.format(orders[orders['group']=='B']['revenue'].mean()/orders[orders['group']=='A']['revenue'].mean()-1))\n",
    "\n",
    "if p_value < alpha:\n",
    "    print('Отвергаем нулевую гипотезу: в среднем чеке заказа между группами есть значимая разница')\n",
    "else:\n",
    "    print(\n",
    "        'Не получилось отвергнуть нулевую гипотезу: нет оснований считать, что средние чеки заказа значительно различаются между группами'\n",
    "    )"
   ]
  },
  {
   "cell_type": "markdown",
   "metadata": {},
   "source": [
    "**Вывод:**\n",
    "\n",
    "p-value = 0.729. Значит причин отвергать нулевую гипотезу и считать, что в среднем чеке есть различия, нет.\n",
    "Однако средний чек группы B значительно выше среднего чека группы A. Существенная относительная разница при отсутствии статистической значимости указывает на влияние выбросов на значение среднего чека."
   ]
  },
  {
   "cell_type": "markdown",
   "metadata": {},
   "source": [
    "### Статистическая значимость различий в конверсии между группами по «очищенным» данным"
   ]
  },
  {
   "cell_type": "markdown",
   "metadata": {},
   "source": [
    "Ранее были найдены 95-й и 99-й перцентили средних чеков, которые равны 28 000 и 58 233 рубля, соответственно. \n",
    "\n",
    "А 95-й и 99-й перцентили количества заказов на одного пользователя равны 2 и 4 заказам на пользователя.\n",
    "\n",
    "Примем за аномальных пользователей тех, кто совершил от 2 заказов или совершил заказ дороже 28 000 рублей. Так мы уберём 5% пользователей с наибольшим числом заказов и 5% пользователей с дорогими заказами.\n",
    "\n",
    "Найдем статистическую значимость различий в конверсии между группами по «очищенным» данным:"
   ]
  },
  {
   "cell_type": "code",
   "execution_count": 25,
   "metadata": {},
   "outputs": [
    {
     "name": "stdout",
     "output_type": "stream",
     "text": [
      "p-value: 0.013\n",
      "Относительное различие в конверсии между группами: 0.173\n",
      "Не получилось отвергнуть нулевую гипотезу: нет оснований считать конверсии между группами разными\n"
     ]
    }
   ],
   "source": [
    "many_orders_limit = int(np.percentile(ordersByUsers['orders'], [95]))\n",
    "expensive_revenue_limit = int(np.percentile(orders['revenue'], [95]))\n",
    "\n",
    "# аномальные пользователи с большим количеством заказов\n",
    "usersWithManyOrders = pd.concat(\n",
    "    [\n",
    "        ordersByUsersA[ordersByUsersA['orders'] > many_orders_limit]['visitor_id'],\n",
    "        ordersByUsersB[ordersByUsersB['orders'] > many_orders_limit]['visitor_id'],\n",
    "    ],\n",
    "    axis=0,\n",
    ")\n",
    "\n",
    "# аномальные пользователи с дорогими заказами\n",
    "usersWithExpensiveOrders = orders[orders['revenue'] > expensive_revenue_limit]['visitor_id']\n",
    "abnormalUsers = (\n",
    "    pd.concat([usersWithManyOrders, usersWithExpensiveOrders], axis=0)\n",
    "    .drop_duplicates()\n",
    "    .sort_values()\n",
    ")\n",
    "\n",
    "# подготовим выборки конверсии по группам теста\n",
    "# таблица с пользователями и количеством совершенных ими заказом для группы А\n",
    "sampleAFiltered = pd.concat(\n",
    "    [\n",
    "        ordersByUsersA[\n",
    "            np.logical_not(ordersByUsersA['visitor_id'].isin(abnormalUsers))\n",
    "        ]['orders'],\n",
    "        pd.Series(\n",
    "            0,\n",
    "            index=np.arange(\n",
    "                data['visitorsPerDateA'].sum() - len(ordersByUsersA['orders'])\n",
    "            ),\n",
    "            name='orders',\n",
    "        ),\n",
    "    ],\n",
    "    axis=0,\n",
    ")\n",
    "\n",
    "# таблица с пользователями и количеством совершенных ими заказом для группы В\n",
    "sampleBFiltered = pd.concat(\n",
    "    [\n",
    "        ordersByUsersB[\n",
    "            np.logical_not(ordersByUsersB['visitor_id'].isin(abnormalUsers))\n",
    "        ]['orders'],\n",
    "        pd.Series(\n",
    "            0,\n",
    "            index=np.arange(\n",
    "                data['visitorsPerDateB'].sum() - len(ordersByUsersB['orders'])\n",
    "            ),\n",
    "            name='orders',\n",
    "        ),\n",
    "    ],\n",
    "    axis=0,\n",
    ")\n",
    "\n",
    "print(\"p-value: {0:.3f}\".format(stats.mannwhitneyu(sampleAFiltered, sampleBFiltered)[1]))\n",
    "print(\"Относительное различие в конверсии между группами: {0:.3f}\".format(sampleBFiltered.mean() / sampleAFiltered.mean() - 1))\n",
    "\n",
    "if p_value < alpha:\n",
    "    print('Отвергаем нулевую гипотезу: в конверсии между группами есть значимая разница')\n",
    "else:\n",
    "    print(\n",
    "        'Не получилось отвергнуть нулевую гипотезу: нет оснований считать конверсии между группами разными'\n",
    "    )"
   ]
  },
  {
   "cell_type": "markdown",
   "metadata": {},
   "source": [
    "**Вывод:**\n",
    "\n",
    "По очищенным данным p-value уменьшилось до 0.013. После очистки данных от выбросов относительная разница в конверсии между группами увеличилась. \n",
    "\n",
    "Общий результат не изменился: нулевую гипотезу о том, что статистически значимых различий в конверсии между группами нет, отвергаем. При имеющихся данных группа B показывает лучшие результаты по статистически значимым различием в конверсии между группами."
   ]
  },
  {
   "cell_type": "markdown",
   "metadata": {},
   "source": [
    "###  Статистическая значимость различий в среднем чеке заказа между группами по «очищенным» данным"
   ]
  },
  {
   "cell_type": "markdown",
   "metadata": {},
   "source": [
    "Определим, есть ли изменения с результатами по среднему чеку заказа между группами:"
   ]
  },
  {
   "cell_type": "code",
   "execution_count": 26,
   "metadata": {},
   "outputs": [
    {
     "name": "stdout",
     "output_type": "stream",
     "text": [
      "p-value: 0.738\n",
      "Относительный прирост среднего чекa группы В:-0.020\n",
      "Не получилось отвергнуть нулевую гипотезу: нет оснований считать, что средние чеки заказа значительно различаются между группами\n"
     ]
    }
   ],
   "source": [
    "p_value = (stats.mannwhitneyu(\n",
    "            orders[\n",
    "                np.logical_and(\n",
    "                    orders['group'] == 'A',\n",
    "                    np.logical_not(orders['visitor_id'].isin(abnormalUsers)),\n",
    "                )\n",
    "            ]['revenue'],\n",
    "            orders[\n",
    "                np.logical_and(\n",
    "                    orders['group'] == 'B',\n",
    "                    np.logical_not(orders['visitor_id'].isin(abnormalUsers)),\n",
    "                )\n",
    "            ]['revenue'],\n",
    "        )[1]\n",
    "          )\n",
    "\n",
    "print('p-value: {0:.3f}'.format(p_value))\n",
    "\n",
    "# относительный прирост среднего чекa\n",
    "print(\n",
    "    \"Относительный прирост среднего чекa группы В:{0:.3f}\".format(\n",
    "        orders[\n",
    "            np.logical_and(\n",
    "                orders['group'] == 'B',\n",
    "                np.logical_not(orders['visitor_id'].isin(abnormalUsers)),\n",
    "            )\n",
    "        ]['revenue'].mean()\n",
    "        / orders[\n",
    "            np.logical_and(\n",
    "                orders['group'] == 'A',\n",
    "                np.logical_not(orders['visitor_id'].isin(abnormalUsers)),\n",
    "            )\n",
    "        ]['revenue'].mean()\n",
    "                - 1\n",
    "    )\n",
    ")\n",
    "\n",
    "if p_value < alpha:\n",
    "    print('Отвергаем нулевую гипотезу: в среднем чеке заказа между группами есть значимая разница')\n",
    "else:\n",
    "    print(\n",
    "        'Не получилось отвергнуть нулевую гипотезу: нет оснований считать, что средние чеки заказа значительно различаются между группами'\n",
    "    )\n"
   ]
  },
  {
   "cell_type": "markdown",
   "metadata": {},
   "source": [
    "**Вывод:**\n",
    "\n",
    "Значение p-value незначительно увеличилось. После очистки данных от выбросов существенная относительная разница в среднем чеке между группами исчезла. \n",
    "\n",
    "Общий результат не изменился: причин отвергать нулевую гипотезу и считать, что в среднем чеке есть различия, нет."
   ]
  },
  {
   "cell_type": "markdown",
   "metadata": {},
   "source": [
    "### Решение по результатам теста "
   ]
  },
  {
   "cell_type": "markdown",
   "metadata": {},
   "source": [
    "По результатам исследования имеем следующие факты:\n",
    "* Нет статистически значимого различия по среднему чеку между группами ни по «сырым» данным, ни по данным после фильтрации аномалий. Существенная относительная разница при отсутствии статистической значимости указывает на влияние выбросов на значение среднего чека;\n",
    "* Есть статистически значимое различие в конверсии между группами как по по «сырым» данным, так и по отфмльтрованным от аномалий данным;\n",
    "* График различия конверсии между группами сообщает, что результаты группы B значительно лучше группы А: результаты группы В к концу теста зафиксировались около среднего значения и имеют тенденцию к росту;\n",
    "* График различия среднего чека говорит о том, что результаты группы B по «сырым» данным показывали лучшую картину за счет аномалий;\n",
    "* Исходя из обнаруженных фактов, тест следует остановить и признать его успешным. При имеющихся данных сегмент B лучше сегмента A."
   ]
  },
  {
   "cell_type": "markdown",
   "metadata": {},
   "source": [
    "**Вывод:**\n",
    "\n",
    "Тест показал наличие статистически значимого различия в конверсии между группами: при имеющихся данных результаты группы B лучше группы A. Поэтому принимаем решение, что тест нужно остановить."
   ]
  },
  {
   "cell_type": "markdown",
   "metadata": {},
   "source": [
    "## Общий вывод"
   ]
  },
  {
   "cell_type": "markdown",
   "metadata": {},
   "source": [
    "Для того, чтобы подготовить предложения для увеличения выручки интернет-магазина, мы использовали входные данные со списком гипотез, а также статистикой по заказам и пользоватям по итогу проведенного A/B-теста.\n",
    "\n",
    "Данные были предобработаны для проведения исследования. После этого были приоритизированы гипотезы, запущен A/B-тест и проанализированы его результаты.\n",
    "\n",
    "По итогу исследования были получены следующие результаты:\n",
    "* Нет статистически значимого различия по среднему чеку между группами ни по «сырым» данным, ни по данным после фильтрации аномалий;\n",
    "* Есть статистически значимое различие в конверсии между группами как по по «сырым» данным, так и по отфмльтрованным от аномалий данным;\n",
    "* График различия конверсии между группами сообщает, что результаты группы B значительно лучше группы А: результаты группы В к концу теста зафиксировались около среднего значения и имеют тенденцию к росту;\n",
    "* График различия среднего чека говорит о том, что результаты группы B по «сырым» данным показывали лучшую картину за счет аномалий;\n",
    "\n",
    "Исходя из обнаруженных фактов, тест следует остановить и признать его успешным. При имеющихся данных сегмент B показывает лучшие результаты, по сравнению с сегментом A."
   ]
  },
  {
   "cell_type": "markdown",
   "metadata": {},
   "source": [
    "**Рекомендации для увеличения выручки:**"
   ]
  },
  {
   "cell_type": "markdown",
   "metadata": {},
   "source": [
    "Исходя из обнаруженных фактов, тест следует остановить и признать успешным. \n",
    "\n",
    "При имеющихся данных сегмент B показывает лучшие результаты по статистически значимым различием в конверсии между группами.\n",
    "Для увеличения выручки бизнеса нашего интернет-магазина будет рационально реализовать гипотезу №8 для группы В."
   ]
  },
  {
   "cell_type": "code",
   "execution_count": null,
   "metadata": {},
   "outputs": [],
   "source": []
  }
 ],
 "metadata": {
  "ExecuteTimeLog": [
   {
    "duration": 786,
    "start_time": "2022-07-18T03:56:40.952Z"
   },
   {
    "duration": 235,
    "start_time": "2022-07-18T03:58:58.369Z"
   },
   {
    "duration": 121,
    "start_time": "2022-07-18T03:59:08.884Z"
   },
   {
    "duration": 103,
    "start_time": "2022-07-18T04:03:17.752Z"
   },
   {
    "duration": 92,
    "start_time": "2022-07-18T04:03:47.553Z"
   },
   {
    "duration": 110,
    "start_time": "2022-07-18T04:04:38.632Z"
   },
   {
    "duration": 136,
    "start_time": "2022-07-18T04:08:27.653Z"
   },
   {
    "duration": 163,
    "start_time": "2022-07-18T04:08:50.233Z"
   },
   {
    "duration": 104,
    "start_time": "2022-07-18T04:09:35.973Z"
   },
   {
    "duration": 101,
    "start_time": "2022-07-18T04:09:47.531Z"
   },
   {
    "duration": 101,
    "start_time": "2022-07-18T04:09:55.473Z"
   },
   {
    "duration": 78,
    "start_time": "2022-07-18T04:12:08.414Z"
   },
   {
    "duration": 3,
    "start_time": "2022-07-18T04:16:07.962Z"
   },
   {
    "duration": 85,
    "start_time": "2022-07-18T04:16:07.967Z"
   },
   {
    "duration": 15,
    "start_time": "2022-07-18T04:16:08.053Z"
   },
   {
    "duration": 13,
    "start_time": "2022-07-18T04:16:08.070Z"
   },
   {
    "duration": 6,
    "start_time": "2022-07-18T04:26:10.909Z"
   },
   {
    "duration": 24,
    "start_time": "2022-07-18T04:26:32.864Z"
   },
   {
    "duration": 25,
    "start_time": "2022-07-18T04:30:53.167Z"
   },
   {
    "duration": 30,
    "start_time": "2022-07-18T04:31:32.103Z"
   },
   {
    "duration": 21,
    "start_time": "2022-07-18T04:32:24.108Z"
   },
   {
    "duration": 22,
    "start_time": "2022-07-18T04:36:25.977Z"
   },
   {
    "duration": 30,
    "start_time": "2022-07-18T04:36:37.043Z"
   },
   {
    "duration": 22,
    "start_time": "2022-07-18T04:37:00.261Z"
   },
   {
    "duration": 24,
    "start_time": "2022-07-18T04:37:12.302Z"
   },
   {
    "duration": 19,
    "start_time": "2022-07-18T04:37:15.673Z"
   },
   {
    "duration": 2,
    "start_time": "2022-07-18T04:37:21.307Z"
   },
   {
    "duration": 86,
    "start_time": "2022-07-18T04:37:21.311Z"
   },
   {
    "duration": 15,
    "start_time": "2022-07-18T04:37:21.399Z"
   },
   {
    "duration": 14,
    "start_time": "2022-07-18T04:37:21.416Z"
   },
   {
    "duration": 20,
    "start_time": "2022-07-18T04:37:21.431Z"
   },
   {
    "duration": 26,
    "start_time": "2022-07-18T04:37:25.603Z"
   },
   {
    "duration": 12,
    "start_time": "2022-07-18T04:39:00.154Z"
   },
   {
    "duration": 7,
    "start_time": "2022-07-18T04:39:07.415Z"
   },
   {
    "duration": 15,
    "start_time": "2022-07-18T04:45:24.741Z"
   },
   {
    "duration": 27,
    "start_time": "2022-07-18T04:48:35.511Z"
   },
   {
    "duration": 33,
    "start_time": "2022-07-18T04:48:56.942Z"
   },
   {
    "duration": 30,
    "start_time": "2022-07-18T04:49:29.306Z"
   },
   {
    "duration": 3,
    "start_time": "2022-07-18T04:49:55.822Z"
   },
   {
    "duration": 85,
    "start_time": "2022-07-18T04:49:55.842Z"
   },
   {
    "duration": 18,
    "start_time": "2022-07-18T04:49:55.929Z"
   },
   {
    "duration": 19,
    "start_time": "2022-07-18T04:49:55.948Z"
   },
   {
    "duration": 24,
    "start_time": "2022-07-18T04:49:57.810Z"
   },
   {
    "duration": 24,
    "start_time": "2022-07-18T04:50:20.997Z"
   },
   {
    "duration": 3,
    "start_time": "2022-07-18T04:50:26.408Z"
   },
   {
    "duration": 94,
    "start_time": "2022-07-18T04:50:26.413Z"
   },
   {
    "duration": 16,
    "start_time": "2022-07-18T04:50:26.509Z"
   },
   {
    "duration": 15,
    "start_time": "2022-07-18T04:50:26.526Z"
   },
   {
    "duration": 26,
    "start_time": "2022-07-18T04:50:27.851Z"
   },
   {
    "duration": 10,
    "start_time": "2022-07-18T04:50:32.671Z"
   },
   {
    "duration": 14,
    "start_time": "2022-07-18T04:50:36.640Z"
   },
   {
    "duration": 12,
    "start_time": "2022-07-18T04:53:58.858Z"
   },
   {
    "duration": 8,
    "start_time": "2022-07-18T04:54:25.342Z"
   },
   {
    "duration": 13,
    "start_time": "2022-07-18T04:57:23.987Z"
   },
   {
    "duration": 4,
    "start_time": "2022-07-18T04:57:31.978Z"
   },
   {
    "duration": 92,
    "start_time": "2022-07-18T04:57:31.985Z"
   },
   {
    "duration": 18,
    "start_time": "2022-07-18T04:57:32.080Z"
   },
   {
    "duration": 46,
    "start_time": "2022-07-18T04:57:32.100Z"
   },
   {
    "duration": 25,
    "start_time": "2022-07-18T04:57:32.148Z"
   },
   {
    "duration": 7,
    "start_time": "2022-07-18T04:57:32.175Z"
   },
   {
    "duration": 9,
    "start_time": "2022-07-18T04:57:32.183Z"
   },
   {
    "duration": 57,
    "start_time": "2022-07-18T04:57:32.193Z"
   },
   {
    "duration": 29,
    "start_time": "2022-07-18T04:57:32.252Z"
   },
   {
    "duration": 9,
    "start_time": "2022-07-18T04:57:45.567Z"
   },
   {
    "duration": 8,
    "start_time": "2022-07-18T04:57:49.087Z"
   },
   {
    "duration": 10,
    "start_time": "2022-07-18T04:57:54.764Z"
   },
   {
    "duration": 12,
    "start_time": "2022-07-18T04:58:15.064Z"
   },
   {
    "duration": 9,
    "start_time": "2022-07-18T04:58:27.982Z"
   },
   {
    "duration": 6,
    "start_time": "2022-07-18T06:08:26.697Z"
   },
   {
    "duration": 25,
    "start_time": "2022-07-18T06:12:40.708Z"
   },
   {
    "duration": 22,
    "start_time": "2022-07-18T06:15:03.536Z"
   },
   {
    "duration": 3,
    "start_time": "2022-07-18T06:15:15.053Z"
   },
   {
    "duration": 87,
    "start_time": "2022-07-18T06:15:15.058Z"
   },
   {
    "duration": 17,
    "start_time": "2022-07-18T06:15:15.147Z"
   },
   {
    "duration": 14,
    "start_time": "2022-07-18T06:15:15.166Z"
   },
   {
    "duration": 17,
    "start_time": "2022-07-18T06:15:15.182Z"
   },
   {
    "duration": 49,
    "start_time": "2022-07-18T06:15:15.201Z"
   },
   {
    "duration": 10,
    "start_time": "2022-07-18T06:15:15.251Z"
   },
   {
    "duration": 10,
    "start_time": "2022-07-18T06:15:15.263Z"
   },
   {
    "duration": 16,
    "start_time": "2022-07-18T06:15:15.275Z"
   },
   {
    "duration": 23,
    "start_time": "2022-07-18T06:15:37.316Z"
   },
   {
    "duration": 27,
    "start_time": "2022-07-18T06:15:45.193Z"
   },
   {
    "duration": 161,
    "start_time": "2022-07-18T06:16:11.489Z"
   },
   {
    "duration": 148,
    "start_time": "2022-07-18T06:16:30.601Z"
   },
   {
    "duration": 260,
    "start_time": "2022-07-18T06:21:14.745Z"
   },
   {
    "duration": 268,
    "start_time": "2022-07-18T06:23:21.457Z"
   },
   {
    "duration": 315,
    "start_time": "2022-07-18T06:23:38.797Z"
   },
   {
    "duration": 244,
    "start_time": "2022-07-18T06:23:47.028Z"
   },
   {
    "duration": 259,
    "start_time": "2022-07-18T06:23:55.818Z"
   },
   {
    "duration": 575,
    "start_time": "2022-07-18T06:25:43.336Z"
   },
   {
    "duration": 151,
    "start_time": "2022-07-18T06:29:35.069Z"
   },
   {
    "duration": 160,
    "start_time": "2022-07-18T06:29:48.084Z"
   },
   {
    "duration": 412,
    "start_time": "2022-07-18T06:29:58.169Z"
   },
   {
    "duration": 160,
    "start_time": "2022-07-18T06:30:55.685Z"
   },
   {
    "duration": 338,
    "start_time": "2022-07-18T06:32:05.111Z"
   },
   {
    "duration": 186,
    "start_time": "2022-07-18T06:35:50.168Z"
   },
   {
    "duration": 181,
    "start_time": "2022-07-18T06:36:07.812Z"
   },
   {
    "duration": 185,
    "start_time": "2022-07-18T06:38:21.621Z"
   },
   {
    "duration": 187,
    "start_time": "2022-07-18T06:38:32.980Z"
   },
   {
    "duration": 175,
    "start_time": "2022-07-18T06:38:44.804Z"
   },
   {
    "duration": 275,
    "start_time": "2022-07-18T06:39:02.255Z"
   },
   {
    "duration": 3,
    "start_time": "2022-07-18T06:39:39.853Z"
   },
   {
    "duration": 84,
    "start_time": "2022-07-18T06:39:39.857Z"
   },
   {
    "duration": 15,
    "start_time": "2022-07-18T06:39:39.942Z"
   },
   {
    "duration": 14,
    "start_time": "2022-07-18T06:39:39.959Z"
   },
   {
    "duration": 17,
    "start_time": "2022-07-18T06:39:39.975Z"
   },
   {
    "duration": 11,
    "start_time": "2022-07-18T06:39:39.993Z"
   },
   {
    "duration": 42,
    "start_time": "2022-07-18T06:39:40.005Z"
   },
   {
    "duration": 10,
    "start_time": "2022-07-18T06:39:40.049Z"
   },
   {
    "duration": 14,
    "start_time": "2022-07-18T06:39:40.061Z"
   },
   {
    "duration": 516,
    "start_time": "2022-07-18T06:39:40.078Z"
   },
   {
    "duration": 250,
    "start_time": "2022-07-18T06:39:40.596Z"
   },
   {
    "duration": 338,
    "start_time": "2022-07-18T06:39:40.848Z"
   },
   {
    "duration": 263,
    "start_time": "2022-07-18T06:39:41.188Z"
   },
   {
    "duration": 22,
    "start_time": "2022-07-18T06:40:16.092Z"
   },
   {
    "duration": 246,
    "start_time": "2022-07-18T06:41:26.804Z"
   },
   {
    "duration": 9,
    "start_time": "2022-07-18T06:42:36.411Z"
   },
   {
    "duration": 85,
    "start_time": "2022-07-18T06:42:36.422Z"
   },
   {
    "duration": 20,
    "start_time": "2022-07-18T06:42:36.509Z"
   },
   {
    "duration": 14,
    "start_time": "2022-07-18T06:42:36.530Z"
   },
   {
    "duration": 195,
    "start_time": "2022-07-18T06:42:36.546Z"
   },
   {
    "duration": 0,
    "start_time": "2022-07-18T06:42:36.743Z"
   },
   {
    "duration": 0,
    "start_time": "2022-07-18T06:42:36.744Z"
   },
   {
    "duration": 0,
    "start_time": "2022-07-18T06:42:36.745Z"
   },
   {
    "duration": 0,
    "start_time": "2022-07-18T06:42:36.746Z"
   },
   {
    "duration": 0,
    "start_time": "2022-07-18T06:42:36.747Z"
   },
   {
    "duration": 0,
    "start_time": "2022-07-18T06:42:36.748Z"
   },
   {
    "duration": 0,
    "start_time": "2022-07-18T06:42:36.750Z"
   },
   {
    "duration": 0,
    "start_time": "2022-07-18T06:42:36.751Z"
   },
   {
    "duration": 263,
    "start_time": "2022-07-18T06:44:21.103Z"
   },
   {
    "duration": 206,
    "start_time": "2022-07-18T06:44:54.618Z"
   },
   {
    "duration": 249,
    "start_time": "2022-07-18T06:45:04.152Z"
   },
   {
    "duration": 189,
    "start_time": "2022-07-18T06:45:20.914Z"
   },
   {
    "duration": 29,
    "start_time": "2022-07-18T06:45:42.848Z"
   },
   {
    "duration": 4,
    "start_time": "2022-07-18T06:45:53.738Z"
   },
   {
    "duration": 87,
    "start_time": "2022-07-18T06:45:53.744Z"
   },
   {
    "duration": 15,
    "start_time": "2022-07-18T06:45:53.832Z"
   },
   {
    "duration": 13,
    "start_time": "2022-07-18T06:45:53.849Z"
   },
   {
    "duration": 28,
    "start_time": "2022-07-18T06:45:53.864Z"
   },
   {
    "duration": 7,
    "start_time": "2022-07-18T06:45:53.894Z"
   },
   {
    "duration": 45,
    "start_time": "2022-07-18T06:45:53.902Z"
   },
   {
    "duration": 8,
    "start_time": "2022-07-18T06:45:53.948Z"
   },
   {
    "duration": 17,
    "start_time": "2022-07-18T06:45:53.957Z"
   },
   {
    "duration": 448,
    "start_time": "2022-07-18T06:45:53.975Z"
   },
   {
    "duration": 167,
    "start_time": "2022-07-18T06:45:54.425Z"
   },
   {
    "duration": 255,
    "start_time": "2022-07-18T06:45:54.594Z"
   },
   {
    "duration": 169,
    "start_time": "2022-07-18T06:45:54.851Z"
   },
   {
    "duration": 228,
    "start_time": "2022-07-18T06:46:04.367Z"
   },
   {
    "duration": 4,
    "start_time": "2022-07-18T15:30:33.707Z"
   },
   {
    "duration": 104,
    "start_time": "2022-07-18T15:30:33.713Z"
   },
   {
    "duration": 15,
    "start_time": "2022-07-18T15:30:33.819Z"
   },
   {
    "duration": 21,
    "start_time": "2022-07-18T15:30:33.836Z"
   },
   {
    "duration": 46,
    "start_time": "2022-07-18T15:30:33.864Z"
   },
   {
    "duration": 10,
    "start_time": "2022-07-18T15:30:33.912Z"
   },
   {
    "duration": 8,
    "start_time": "2022-07-18T15:30:33.924Z"
   },
   {
    "duration": 20,
    "start_time": "2022-07-18T15:30:33.934Z"
   },
   {
    "duration": 18,
    "start_time": "2022-07-18T15:30:33.956Z"
   },
   {
    "duration": 458,
    "start_time": "2022-07-18T15:30:33.976Z"
   },
   {
    "duration": 174,
    "start_time": "2022-07-18T15:30:34.436Z"
   },
   {
    "duration": 305,
    "start_time": "2022-07-18T15:30:34.611Z"
   },
   {
    "duration": 181,
    "start_time": "2022-07-18T15:30:34.918Z"
   },
   {
    "duration": 269,
    "start_time": "2022-07-18T15:40:05.494Z"
   },
   {
    "duration": 310,
    "start_time": "2022-07-18T15:40:38.544Z"
   },
   {
    "duration": 288,
    "start_time": "2022-07-18T15:40:52.448Z"
   },
   {
    "duration": 274,
    "start_time": "2022-07-18T15:41:26.364Z"
   },
   {
    "duration": 364,
    "start_time": "2022-07-18T15:41:34.523Z"
   },
   {
    "duration": 286,
    "start_time": "2022-07-18T15:41:48.501Z"
   },
   {
    "duration": 412,
    "start_time": "2022-07-18T15:41:59.513Z"
   },
   {
    "duration": 310,
    "start_time": "2022-07-18T15:42:06.860Z"
   },
   {
    "duration": 345,
    "start_time": "2022-07-18T15:42:16.947Z"
   },
   {
    "duration": 291,
    "start_time": "2022-07-18T15:42:26.974Z"
   },
   {
    "duration": 184,
    "start_time": "2022-07-18T15:43:59.943Z"
   },
   {
    "duration": 445,
    "start_time": "2022-07-18T15:45:22.862Z"
   },
   {
    "duration": 180,
    "start_time": "2022-07-18T15:46:03.721Z"
   },
   {
    "duration": 185,
    "start_time": "2022-07-18T15:46:14.020Z"
   },
   {
    "duration": 209,
    "start_time": "2022-07-18T15:46:46.115Z"
   },
   {
    "duration": 201,
    "start_time": "2022-07-18T15:49:05.891Z"
   },
   {
    "duration": 226,
    "start_time": "2022-07-18T15:50:22.505Z"
   },
   {
    "duration": 315,
    "start_time": "2022-07-18T15:50:45.413Z"
   },
   {
    "duration": 213,
    "start_time": "2022-07-18T15:51:01.694Z"
   },
   {
    "duration": 205,
    "start_time": "2022-07-18T15:51:34.382Z"
   },
   {
    "duration": 208,
    "start_time": "2022-07-18T15:51:41.569Z"
   },
   {
    "duration": 212,
    "start_time": "2022-07-18T15:52:32.403Z"
   },
   {
    "duration": 185,
    "start_time": "2022-07-18T15:52:44.500Z"
   },
   {
    "duration": 241,
    "start_time": "2022-07-18T15:52:49.842Z"
   },
   {
    "duration": 190,
    "start_time": "2022-07-18T15:52:57.803Z"
   },
   {
    "duration": 313,
    "start_time": "2022-07-18T15:53:28.732Z"
   },
   {
    "duration": 214,
    "start_time": "2022-07-18T15:53:37.684Z"
   },
   {
    "duration": 234,
    "start_time": "2022-07-18T15:53:48.445Z"
   },
   {
    "duration": 264,
    "start_time": "2022-07-18T16:07:30.868Z"
   },
   {
    "duration": 204,
    "start_time": "2022-07-18T16:08:58.062Z"
   },
   {
    "duration": 305,
    "start_time": "2022-07-18T16:14:52.273Z"
   },
   {
    "duration": 305,
    "start_time": "2022-07-18T16:15:08.074Z"
   },
   {
    "duration": 378,
    "start_time": "2022-07-18T16:16:28.085Z"
   },
   {
    "duration": 325,
    "start_time": "2022-07-18T16:16:52.941Z"
   },
   {
    "duration": 305,
    "start_time": "2022-07-18T16:17:02.266Z"
   },
   {
    "duration": 329,
    "start_time": "2022-07-18T16:17:15.333Z"
   },
   {
    "duration": 290,
    "start_time": "2022-07-18T16:17:20.783Z"
   },
   {
    "duration": 310,
    "start_time": "2022-07-18T16:17:32.462Z"
   },
   {
    "duration": 319,
    "start_time": "2022-07-18T16:20:31.012Z"
   },
   {
    "duration": 302,
    "start_time": "2022-07-18T16:21:00.570Z"
   },
   {
    "duration": 10,
    "start_time": "2022-07-18T16:35:58.984Z"
   },
   {
    "duration": 14,
    "start_time": "2022-07-18T16:38:36.945Z"
   },
   {
    "duration": 14,
    "start_time": "2022-07-18T17:03:10.341Z"
   },
   {
    "duration": 227,
    "start_time": "2022-07-18T17:03:25.591Z"
   },
   {
    "duration": 201,
    "start_time": "2022-07-18T17:04:29.217Z"
   },
   {
    "duration": 1129,
    "start_time": "2022-07-18T17:04:59.774Z"
   },
   {
    "duration": 216,
    "start_time": "2022-07-18T17:07:58.326Z"
   },
   {
    "duration": 532,
    "start_time": "2022-07-18T17:25:13.977Z"
   },
   {
    "duration": 854,
    "start_time": "2022-07-18T17:25:42.974Z"
   },
   {
    "duration": 889,
    "start_time": "2022-07-18T17:31:12.429Z"
   },
   {
    "duration": 153,
    "start_time": "2022-07-18T17:32:10.622Z"
   },
   {
    "duration": 118,
    "start_time": "2022-07-18T17:33:43.560Z"
   },
   {
    "duration": 156,
    "start_time": "2022-07-18T17:34:03.537Z"
   },
   {
    "duration": 134,
    "start_time": "2022-07-18T17:34:20.211Z"
   },
   {
    "duration": 125,
    "start_time": "2022-07-18T17:34:36.873Z"
   },
   {
    "duration": 143,
    "start_time": "2022-07-18T17:34:53.721Z"
   },
   {
    "duration": 6,
    "start_time": "2022-07-18T17:41:01.460Z"
   },
   {
    "duration": 5,
    "start_time": "2022-07-18T17:43:20.295Z"
   },
   {
    "duration": 5,
    "start_time": "2022-07-18T17:43:32.303Z"
   },
   {
    "duration": 133,
    "start_time": "2022-07-18T17:45:13.201Z"
   },
   {
    "duration": 277,
    "start_time": "2022-07-18T17:46:18.787Z"
   },
   {
    "duration": 171,
    "start_time": "2022-07-18T17:46:50.819Z"
   },
   {
    "duration": 167,
    "start_time": "2022-07-18T17:47:03.016Z"
   },
   {
    "duration": 188,
    "start_time": "2022-07-18T17:59:57.437Z"
   },
   {
    "duration": 155,
    "start_time": "2022-07-18T18:00:11.196Z"
   },
   {
    "duration": 168,
    "start_time": "2022-07-18T18:00:28.148Z"
   },
   {
    "duration": 164,
    "start_time": "2022-07-18T18:00:41.652Z"
   },
   {
    "duration": 341,
    "start_time": "2022-07-18T18:02:27.925Z"
   },
   {
    "duration": 317,
    "start_time": "2022-07-18T18:02:43.282Z"
   },
   {
    "duration": 215,
    "start_time": "2022-07-18T18:03:05.401Z"
   },
   {
    "duration": 199,
    "start_time": "2022-07-18T18:03:10.147Z"
   },
   {
    "duration": 210,
    "start_time": "2022-07-18T18:03:32.960Z"
   },
   {
    "duration": 133,
    "start_time": "2022-07-18T18:04:29.903Z"
   },
   {
    "duration": 126,
    "start_time": "2022-07-18T18:04:39.183Z"
   },
   {
    "duration": 134,
    "start_time": "2022-07-18T18:04:44.672Z"
   },
   {
    "duration": 149,
    "start_time": "2022-07-18T18:04:49.419Z"
   },
   {
    "duration": 151,
    "start_time": "2022-07-18T18:05:01.752Z"
   },
   {
    "duration": 136,
    "start_time": "2022-07-18T18:05:20.589Z"
   },
   {
    "duration": 288,
    "start_time": "2022-07-18T18:05:32.074Z"
   },
   {
    "duration": 140,
    "start_time": "2022-07-18T18:05:42.905Z"
   },
   {
    "duration": 179,
    "start_time": "2022-07-18T18:05:51.401Z"
   },
   {
    "duration": 184,
    "start_time": "2022-07-18T18:06:01.939Z"
   },
   {
    "duration": 155,
    "start_time": "2022-07-18T18:06:11.135Z"
   },
   {
    "duration": 299,
    "start_time": "2022-07-18T18:12:05.898Z"
   },
   {
    "duration": 184,
    "start_time": "2022-07-18T18:12:11.089Z"
   },
   {
    "duration": 157,
    "start_time": "2022-07-18T18:13:04.994Z"
   },
   {
    "duration": 4,
    "start_time": "2022-07-18T18:22:29.638Z"
   },
   {
    "duration": 5,
    "start_time": "2022-07-18T18:22:58.406Z"
   },
   {
    "duration": 769,
    "start_time": "2022-07-19T03:24:28.970Z"
   },
   {
    "duration": 194,
    "start_time": "2022-07-19T03:24:29.742Z"
   },
   {
    "duration": 13,
    "start_time": "2022-07-19T03:24:29.938Z"
   },
   {
    "duration": 13,
    "start_time": "2022-07-19T03:24:29.954Z"
   },
   {
    "duration": 25,
    "start_time": "2022-07-19T03:24:29.968Z"
   },
   {
    "duration": 7,
    "start_time": "2022-07-19T03:24:29.995Z"
   },
   {
    "duration": 48,
    "start_time": "2022-07-19T03:24:30.003Z"
   },
   {
    "duration": 12,
    "start_time": "2022-07-19T03:24:30.053Z"
   },
   {
    "duration": 9,
    "start_time": "2022-07-19T03:24:30.067Z"
   },
   {
    "duration": 534,
    "start_time": "2022-07-19T03:24:30.078Z"
   },
   {
    "duration": 177,
    "start_time": "2022-07-19T03:24:30.613Z"
   },
   {
    "duration": 282,
    "start_time": "2022-07-19T03:24:30.791Z"
   },
   {
    "duration": 250,
    "start_time": "2022-07-19T03:24:31.075Z"
   },
   {
    "duration": 329,
    "start_time": "2022-07-19T03:24:31.327Z"
   },
   {
    "duration": 129,
    "start_time": "2022-07-19T03:24:31.658Z"
   },
   {
    "duration": 5,
    "start_time": "2022-07-19T03:24:31.788Z"
   },
   {
    "duration": 167,
    "start_time": "2022-07-19T03:24:31.795Z"
   },
   {
    "duration": 5,
    "start_time": "2022-07-19T03:24:31.964Z"
   },
   {
    "duration": 44,
    "start_time": "2022-07-19T03:27:39.462Z"
   },
   {
    "duration": 137,
    "start_time": "2022-07-19T03:27:51.012Z"
   },
   {
    "duration": 137,
    "start_time": "2022-07-19T03:28:18.247Z"
   },
   {
    "duration": 71,
    "start_time": "2022-07-19T03:50:58.383Z"
   },
   {
    "duration": 463,
    "start_time": "2022-07-19T03:51:54.638Z"
   },
   {
    "duration": 103,
    "start_time": "2022-07-19T03:51:55.103Z"
   },
   {
    "duration": 20,
    "start_time": "2022-07-19T03:51:55.208Z"
   },
   {
    "duration": 16,
    "start_time": "2022-07-19T03:51:55.230Z"
   },
   {
    "duration": 29,
    "start_time": "2022-07-19T03:51:55.247Z"
   },
   {
    "duration": 13,
    "start_time": "2022-07-19T03:51:55.277Z"
   },
   {
    "duration": 10,
    "start_time": "2022-07-19T03:51:55.292Z"
   },
   {
    "duration": 43,
    "start_time": "2022-07-19T03:51:55.304Z"
   },
   {
    "duration": 12,
    "start_time": "2022-07-19T03:51:55.349Z"
   },
   {
    "duration": 476,
    "start_time": "2022-07-19T03:51:55.364Z"
   },
   {
    "duration": 176,
    "start_time": "2022-07-19T03:51:55.846Z"
   },
   {
    "duration": 323,
    "start_time": "2022-07-19T03:51:56.024Z"
   },
   {
    "duration": 207,
    "start_time": "2022-07-19T03:51:56.349Z"
   },
   {
    "duration": 304,
    "start_time": "2022-07-19T03:51:56.558Z"
   },
   {
    "duration": 131,
    "start_time": "2022-07-19T03:51:56.864Z"
   },
   {
    "duration": 4,
    "start_time": "2022-07-19T03:51:56.997Z"
   },
   {
    "duration": 159,
    "start_time": "2022-07-19T03:51:57.003Z"
   },
   {
    "duration": 4,
    "start_time": "2022-07-19T03:51:57.164Z"
   },
   {
    "duration": 7,
    "start_time": "2022-07-19T03:51:57.170Z"
   },
   {
    "duration": 10,
    "start_time": "2022-07-19T03:52:25.422Z"
   },
   {
    "duration": 8,
    "start_time": "2022-07-19T03:52:42.070Z"
   },
   {
    "duration": 6,
    "start_time": "2022-07-19T03:52:47.475Z"
   },
   {
    "duration": 5,
    "start_time": "2022-07-19T03:54:17.558Z"
   },
   {
    "duration": 92,
    "start_time": "2022-07-19T03:54:17.565Z"
   },
   {
    "duration": 24,
    "start_time": "2022-07-19T03:54:17.659Z"
   },
   {
    "duration": 17,
    "start_time": "2022-07-19T03:54:17.685Z"
   },
   {
    "duration": 63,
    "start_time": "2022-07-19T03:54:17.704Z"
   },
   {
    "duration": 13,
    "start_time": "2022-07-19T03:54:17.769Z"
   },
   {
    "duration": 16,
    "start_time": "2022-07-19T03:54:17.784Z"
   },
   {
    "duration": 11,
    "start_time": "2022-07-19T03:54:17.803Z"
   },
   {
    "duration": 30,
    "start_time": "2022-07-19T03:54:17.817Z"
   },
   {
    "duration": 519,
    "start_time": "2022-07-19T03:54:17.850Z"
   },
   {
    "duration": 202,
    "start_time": "2022-07-19T03:54:18.371Z"
   },
   {
    "duration": 305,
    "start_time": "2022-07-19T03:54:18.576Z"
   },
   {
    "duration": 368,
    "start_time": "2022-07-19T03:54:18.883Z"
   },
   {
    "duration": 321,
    "start_time": "2022-07-19T03:54:19.253Z"
   },
   {
    "duration": 183,
    "start_time": "2022-07-19T03:54:19.577Z"
   },
   {
    "duration": 5,
    "start_time": "2022-07-19T03:54:19.762Z"
   },
   {
    "duration": 191,
    "start_time": "2022-07-19T03:54:19.769Z"
   },
   {
    "duration": 5,
    "start_time": "2022-07-19T03:54:19.963Z"
   },
   {
    "duration": 10,
    "start_time": "2022-07-19T03:54:19.971Z"
   },
   {
    "duration": 176,
    "start_time": "2022-07-19T03:54:59.310Z"
   },
   {
    "duration": 112,
    "start_time": "2022-07-19T04:02:03.371Z"
   },
   {
    "duration": 47,
    "start_time": "2022-07-19T04:02:23.842Z"
   },
   {
    "duration": 16,
    "start_time": "2022-07-19T04:02:37.320Z"
   },
   {
    "duration": 19,
    "start_time": "2022-07-19T04:03:39.828Z"
   },
   {
    "duration": 10,
    "start_time": "2022-07-19T04:03:56.065Z"
   },
   {
    "duration": 13,
    "start_time": "2022-07-19T04:04:24.220Z"
   },
   {
    "duration": 17,
    "start_time": "2022-07-19T04:04:43.400Z"
   },
   {
    "duration": 20,
    "start_time": "2022-07-19T04:04:50.273Z"
   },
   {
    "duration": 28,
    "start_time": "2022-07-19T04:05:09.444Z"
   },
   {
    "duration": 4,
    "start_time": "2022-07-19T04:05:27.648Z"
   },
   {
    "duration": 12,
    "start_time": "2022-07-19T04:05:30.475Z"
   },
   {
    "duration": 15,
    "start_time": "2022-07-19T04:06:41.192Z"
   },
   {
    "duration": 18,
    "start_time": "2022-07-19T04:06:52.331Z"
   },
   {
    "duration": 16,
    "start_time": "2022-07-19T04:07:21.385Z"
   },
   {
    "duration": 262,
    "start_time": "2022-07-19T04:09:31.562Z"
   },
   {
    "duration": 4,
    "start_time": "2022-07-19T04:09:45.976Z"
   },
   {
    "duration": 114,
    "start_time": "2022-07-19T04:09:45.983Z"
   },
   {
    "duration": 16,
    "start_time": "2022-07-19T04:09:46.099Z"
   },
   {
    "duration": 16,
    "start_time": "2022-07-19T04:09:46.117Z"
   },
   {
    "duration": 38,
    "start_time": "2022-07-19T04:09:46.135Z"
   },
   {
    "duration": 13,
    "start_time": "2022-07-19T04:09:46.176Z"
   },
   {
    "duration": 7,
    "start_time": "2022-07-19T04:09:46.191Z"
   },
   {
    "duration": 9,
    "start_time": "2022-07-19T04:09:46.200Z"
   },
   {
    "duration": 10,
    "start_time": "2022-07-19T04:09:46.210Z"
   },
   {
    "duration": 566,
    "start_time": "2022-07-19T04:09:46.221Z"
   },
   {
    "duration": 217,
    "start_time": "2022-07-19T04:09:46.789Z"
   },
   {
    "duration": 293,
    "start_time": "2022-07-19T04:09:47.008Z"
   },
   {
    "duration": 203,
    "start_time": "2022-07-19T04:09:47.302Z"
   },
   {
    "duration": 350,
    "start_time": "2022-07-19T04:09:47.508Z"
   },
   {
    "duration": 140,
    "start_time": "2022-07-19T04:09:47.860Z"
   },
   {
    "duration": 4,
    "start_time": "2022-07-19T04:09:48.001Z"
   },
   {
    "duration": 279,
    "start_time": "2022-07-19T04:09:48.007Z"
   },
   {
    "duration": 4,
    "start_time": "2022-07-19T04:09:48.287Z"
   },
   {
    "duration": 17,
    "start_time": "2022-07-19T04:09:48.293Z"
   },
   {
    "duration": 215,
    "start_time": "2022-07-19T04:09:57.390Z"
   },
   {
    "duration": 4,
    "start_time": "2022-07-19T04:10:00.517Z"
   },
   {
    "duration": 105,
    "start_time": "2022-07-19T04:10:00.523Z"
   },
   {
    "duration": 17,
    "start_time": "2022-07-19T04:10:00.630Z"
   },
   {
    "duration": 29,
    "start_time": "2022-07-19T04:10:00.654Z"
   },
   {
    "duration": 32,
    "start_time": "2022-07-19T04:10:00.685Z"
   },
   {
    "duration": 26,
    "start_time": "2022-07-19T04:10:00.719Z"
   },
   {
    "duration": 27,
    "start_time": "2022-07-19T04:10:00.747Z"
   },
   {
    "duration": 21,
    "start_time": "2022-07-19T04:10:00.776Z"
   },
   {
    "duration": 24,
    "start_time": "2022-07-19T04:10:00.799Z"
   },
   {
    "duration": 493,
    "start_time": "2022-07-19T04:10:00.826Z"
   },
   {
    "duration": 209,
    "start_time": "2022-07-19T04:10:01.321Z"
   },
   {
    "duration": 337,
    "start_time": "2022-07-19T04:10:01.532Z"
   },
   {
    "duration": 194,
    "start_time": "2022-07-19T04:10:01.870Z"
   },
   {
    "duration": 361,
    "start_time": "2022-07-19T04:10:02.066Z"
   },
   {
    "duration": 151,
    "start_time": "2022-07-19T04:10:02.429Z"
   },
   {
    "duration": 4,
    "start_time": "2022-07-19T04:10:02.582Z"
   },
   {
    "duration": 172,
    "start_time": "2022-07-19T04:10:02.588Z"
   },
   {
    "duration": 6,
    "start_time": "2022-07-19T04:10:02.761Z"
   },
   {
    "duration": 18,
    "start_time": "2022-07-19T04:10:02.768Z"
   },
   {
    "duration": 9,
    "start_time": "2022-07-19T04:16:09.066Z"
   },
   {
    "duration": 19,
    "start_time": "2022-07-19T04:17:25.328Z"
   },
   {
    "duration": 13,
    "start_time": "2022-07-19T04:19:24.058Z"
   },
   {
    "duration": 5,
    "start_time": "2022-07-19T04:19:33.117Z"
   },
   {
    "duration": 5,
    "start_time": "2022-07-19T04:24:44.468Z"
   },
   {
    "duration": 10,
    "start_time": "2022-07-19T04:31:18.939Z"
   },
   {
    "duration": 9,
    "start_time": "2022-07-19T04:49:12.408Z"
   },
   {
    "duration": 10,
    "start_time": "2022-07-19T04:49:50.995Z"
   },
   {
    "duration": 24,
    "start_time": "2022-07-19T05:36:24.219Z"
   },
   {
    "duration": 31,
    "start_time": "2022-07-19T05:37:02.638Z"
   },
   {
    "duration": 22,
    "start_time": "2022-07-19T05:43:25.025Z"
   },
   {
    "duration": 24,
    "start_time": "2022-07-19T05:43:43.741Z"
   },
   {
    "duration": 31,
    "start_time": "2022-07-19T05:43:54.649Z"
   },
   {
    "duration": 27,
    "start_time": "2022-07-19T05:44:34.443Z"
   },
   {
    "duration": 23,
    "start_time": "2022-07-19T05:45:08.764Z"
   },
   {
    "duration": 489,
    "start_time": "2022-07-19T05:48:42.540Z"
   },
   {
    "duration": 579,
    "start_time": "2022-07-19T05:48:55.440Z"
   },
   {
    "duration": 738,
    "start_time": "2022-07-19T05:49:39.620Z"
   },
   {
    "duration": 717,
    "start_time": "2022-07-19T05:50:03.825Z"
   },
   {
    "duration": 17,
    "start_time": "2022-07-19T05:52:35.385Z"
   },
   {
    "duration": 56,
    "start_time": "2022-07-19T05:53:40.675Z"
   },
   {
    "duration": 29,
    "start_time": "2022-07-19T05:54:39.779Z"
   },
   {
    "duration": 324,
    "start_time": "2022-07-19T06:05:20.322Z"
   },
   {
    "duration": 282,
    "start_time": "2022-07-19T06:05:55.548Z"
   },
   {
    "duration": 325,
    "start_time": "2022-07-19T06:06:22.158Z"
   },
   {
    "duration": 334,
    "start_time": "2022-07-19T06:06:28.859Z"
   },
   {
    "duration": 307,
    "start_time": "2022-07-19T06:06:34.372Z"
   },
   {
    "duration": 286,
    "start_time": "2022-07-19T06:09:49.804Z"
   },
   {
    "duration": 7,
    "start_time": "2022-07-19T06:10:21.181Z"
   },
   {
    "duration": 343,
    "start_time": "2022-07-19T06:12:11.041Z"
   },
   {
    "duration": 13,
    "start_time": "2022-07-19T06:13:50.804Z"
   },
   {
    "duration": 25,
    "start_time": "2022-07-19T06:14:09.145Z"
   },
   {
    "duration": 27,
    "start_time": "2022-07-19T06:15:35.776Z"
   },
   {
    "duration": 23,
    "start_time": "2022-07-19T06:16:30.738Z"
   },
   {
    "duration": 32,
    "start_time": "2022-07-19T06:16:44.930Z"
   },
   {
    "duration": 18,
    "start_time": "2022-07-19T06:17:01.971Z"
   },
   {
    "duration": 17,
    "start_time": "2022-07-19T06:17:12.908Z"
   },
   {
    "duration": 20,
    "start_time": "2022-07-19T06:17:21.725Z"
   },
   {
    "duration": 152,
    "start_time": "2022-07-19T06:17:32.168Z"
   },
   {
    "duration": 148,
    "start_time": "2022-07-19T06:18:51.368Z"
   },
   {
    "duration": 162,
    "start_time": "2022-07-19T06:20:28.705Z"
   },
   {
    "duration": 1209,
    "start_time": "2022-07-19T18:19:09.884Z"
   },
   {
    "duration": 215,
    "start_time": "2022-07-19T18:19:11.095Z"
   },
   {
    "duration": 26,
    "start_time": "2022-07-19T18:19:11.312Z"
   },
   {
    "duration": 16,
    "start_time": "2022-07-19T18:19:11.340Z"
   },
   {
    "duration": 33,
    "start_time": "2022-07-19T18:19:11.357Z"
   },
   {
    "duration": 9,
    "start_time": "2022-07-19T18:19:11.392Z"
   },
   {
    "duration": 30,
    "start_time": "2022-07-19T18:19:11.402Z"
   },
   {
    "duration": 15,
    "start_time": "2022-07-19T18:19:11.433Z"
   },
   {
    "duration": 8,
    "start_time": "2022-07-19T18:19:11.450Z"
   },
   {
    "duration": 610,
    "start_time": "2022-07-19T18:19:11.460Z"
   },
   {
    "duration": 198,
    "start_time": "2022-07-19T18:19:12.072Z"
   },
   {
    "duration": 333,
    "start_time": "2022-07-19T18:19:12.272Z"
   },
   {
    "duration": 203,
    "start_time": "2022-07-19T18:19:12.607Z"
   },
   {
    "duration": 331,
    "start_time": "2022-07-19T18:19:12.812Z"
   },
   {
    "duration": 147,
    "start_time": "2022-07-19T18:19:13.145Z"
   },
   {
    "duration": 5,
    "start_time": "2022-07-19T18:19:13.294Z"
   },
   {
    "duration": 170,
    "start_time": "2022-07-19T18:19:13.301Z"
   },
   {
    "duration": 4,
    "start_time": "2022-07-19T18:19:13.472Z"
   },
   {
    "duration": 11,
    "start_time": "2022-07-19T18:19:13.477Z"
   },
   {
    "duration": 10,
    "start_time": "2022-07-19T18:19:13.489Z"
   },
   {
    "duration": 324,
    "start_time": "2022-07-19T18:19:13.500Z"
   },
   {
    "duration": 145,
    "start_time": "2022-07-19T18:19:13.826Z"
   },
   {
    "duration": 1341,
    "start_time": "2022-07-20T04:17:44.161Z"
   },
   {
    "duration": 279,
    "start_time": "2022-07-20T04:17:45.504Z"
   },
   {
    "duration": 16,
    "start_time": "2022-07-20T04:17:45.785Z"
   },
   {
    "duration": 16,
    "start_time": "2022-07-20T04:17:45.803Z"
   },
   {
    "duration": 44,
    "start_time": "2022-07-20T04:17:45.820Z"
   },
   {
    "duration": 8,
    "start_time": "2022-07-20T04:17:45.865Z"
   },
   {
    "duration": 10,
    "start_time": "2022-07-20T04:17:45.875Z"
   },
   {
    "duration": 22,
    "start_time": "2022-07-20T04:17:45.887Z"
   },
   {
    "duration": 32,
    "start_time": "2022-07-20T04:17:45.910Z"
   },
   {
    "duration": 606,
    "start_time": "2022-07-20T04:17:45.948Z"
   },
   {
    "duration": 216,
    "start_time": "2022-07-20T04:17:46.555Z"
   },
   {
    "duration": 351,
    "start_time": "2022-07-20T04:17:46.773Z"
   },
   {
    "duration": 202,
    "start_time": "2022-07-20T04:17:47.126Z"
   },
   {
    "duration": 345,
    "start_time": "2022-07-20T04:17:47.330Z"
   },
   {
    "duration": 169,
    "start_time": "2022-07-20T04:17:47.677Z"
   },
   {
    "duration": 5,
    "start_time": "2022-07-20T04:17:47.848Z"
   },
   {
    "duration": 206,
    "start_time": "2022-07-20T04:17:47.854Z"
   },
   {
    "duration": 5,
    "start_time": "2022-07-20T04:17:48.063Z"
   },
   {
    "duration": 12,
    "start_time": "2022-07-20T04:17:48.070Z"
   },
   {
    "duration": 16,
    "start_time": "2022-07-20T04:17:48.084Z"
   },
   {
    "duration": 344,
    "start_time": "2022-07-20T04:17:48.102Z"
   },
   {
    "duration": 170,
    "start_time": "2022-07-20T04:17:48.451Z"
   },
   {
    "duration": 202,
    "start_time": "2022-07-20T04:32:42.992Z"
   },
   {
    "duration": 121,
    "start_time": "2022-07-20T04:33:47.384Z"
   },
   {
    "duration": 243,
    "start_time": "2022-07-20T04:35:42.477Z"
   },
   {
    "duration": 408,
    "start_time": "2022-07-20T04:47:18.068Z"
   },
   {
    "duration": 456,
    "start_time": "2022-07-20T05:04:44.497Z"
   },
   {
    "duration": 390,
    "start_time": "2022-07-20T05:05:14.356Z"
   },
   {
    "duration": 499,
    "start_time": "2022-07-20T05:05:24.799Z"
   },
   {
    "duration": 16,
    "start_time": "2022-07-20T05:09:05.451Z"
   },
   {
    "duration": 10,
    "start_time": "2022-07-20T05:09:48.475Z"
   },
   {
    "duration": 14,
    "start_time": "2022-07-20T05:47:55.050Z"
   },
   {
    "duration": 248,
    "start_time": "2022-07-20T05:48:03.715Z"
   },
   {
    "duration": 122,
    "start_time": "2022-07-20T07:22:22.404Z"
   },
   {
    "duration": 2055,
    "start_time": "2022-07-20T07:23:46.963Z"
   },
   {
    "duration": 2236,
    "start_time": "2022-07-20T07:31:47.225Z"
   },
   {
    "duration": 390,
    "start_time": "2022-07-20T07:32:38.296Z"
   },
   {
    "duration": 407,
    "start_time": "2022-07-20T07:34:03.888Z"
   },
   {
    "duration": 17,
    "start_time": "2022-07-20T07:37:27.255Z"
   },
   {
    "duration": 403,
    "start_time": "2022-07-20T07:38:29.158Z"
   },
   {
    "duration": 404,
    "start_time": "2022-07-20T07:39:20.248Z"
   },
   {
    "duration": 402,
    "start_time": "2022-07-20T07:40:05.530Z"
   },
   {
    "duration": 381,
    "start_time": "2022-07-20T07:40:32.483Z"
   },
   {
    "duration": 395,
    "start_time": "2022-07-20T07:44:38.488Z"
   },
   {
    "duration": 392,
    "start_time": "2022-07-20T09:39:36.563Z"
   },
   {
    "duration": 384,
    "start_time": "2022-07-20T09:40:00.731Z"
   },
   {
    "duration": 368,
    "start_time": "2022-07-20T09:40:21.672Z"
   },
   {
    "duration": 416,
    "start_time": "2022-07-20T09:55:33.582Z"
   },
   {
    "duration": 1262,
    "start_time": "2022-07-20T15:43:18.468Z"
   },
   {
    "duration": 225,
    "start_time": "2022-07-20T15:43:19.732Z"
   },
   {
    "duration": 24,
    "start_time": "2022-07-20T15:43:19.958Z"
   },
   {
    "duration": 35,
    "start_time": "2022-07-20T15:43:19.984Z"
   },
   {
    "duration": 38,
    "start_time": "2022-07-20T15:43:20.020Z"
   },
   {
    "duration": 31,
    "start_time": "2022-07-20T15:43:20.059Z"
   },
   {
    "duration": 15,
    "start_time": "2022-07-20T15:43:20.092Z"
   },
   {
    "duration": 27,
    "start_time": "2022-07-20T15:43:20.108Z"
   },
   {
    "duration": 20,
    "start_time": "2022-07-20T15:43:20.137Z"
   },
   {
    "duration": 596,
    "start_time": "2022-07-20T15:43:20.159Z"
   },
   {
    "duration": 189,
    "start_time": "2022-07-20T15:43:20.757Z"
   },
   {
    "duration": 341,
    "start_time": "2022-07-20T15:43:20.947Z"
   },
   {
    "duration": 189,
    "start_time": "2022-07-20T15:43:21.290Z"
   },
   {
    "duration": 312,
    "start_time": "2022-07-20T15:43:21.480Z"
   },
   {
    "duration": 130,
    "start_time": "2022-07-20T15:43:21.794Z"
   },
   {
    "duration": 5,
    "start_time": "2022-07-20T15:43:21.926Z"
   },
   {
    "duration": 171,
    "start_time": "2022-07-20T15:43:21.932Z"
   },
   {
    "duration": 3,
    "start_time": "2022-07-20T15:43:22.105Z"
   },
   {
    "duration": 355,
    "start_time": "2022-07-20T15:43:22.110Z"
   },
   {
    "duration": 11,
    "start_time": "2022-07-20T15:43:22.467Z"
   },
   {
    "duration": 365,
    "start_time": "2022-07-20T15:59:37.453Z"
   },
   {
    "duration": 471,
    "start_time": "2022-07-20T16:07:18.909Z"
   },
   {
    "duration": 467,
    "start_time": "2022-07-20T16:08:24.577Z"
   },
   {
    "duration": 95,
    "start_time": "2022-07-20T16:09:17.293Z"
   },
   {
    "duration": 409,
    "start_time": "2022-07-20T16:09:33.399Z"
   },
   {
    "duration": 216,
    "start_time": "2022-07-20T16:17:50.349Z"
   },
   {
    "duration": 255,
    "start_time": "2022-07-20T16:18:34.950Z"
   },
   {
    "duration": 200,
    "start_time": "2022-07-20T16:18:38.480Z"
   },
   {
    "duration": 5,
    "start_time": "2022-07-20T16:19:04.478Z"
   },
   {
    "duration": 137,
    "start_time": "2022-07-20T16:19:04.486Z"
   },
   {
    "duration": 20,
    "start_time": "2022-07-20T16:19:04.625Z"
   },
   {
    "duration": 43,
    "start_time": "2022-07-20T16:19:04.647Z"
   },
   {
    "duration": 62,
    "start_time": "2022-07-20T16:19:04.692Z"
   },
   {
    "duration": 62,
    "start_time": "2022-07-20T16:19:04.761Z"
   },
   {
    "duration": 22,
    "start_time": "2022-07-20T16:19:04.825Z"
   },
   {
    "duration": 44,
    "start_time": "2022-07-20T16:19:04.849Z"
   },
   {
    "duration": 34,
    "start_time": "2022-07-20T16:19:04.896Z"
   },
   {
    "duration": 692,
    "start_time": "2022-07-20T16:19:04.932Z"
   },
   {
    "duration": 314,
    "start_time": "2022-07-20T16:19:05.626Z"
   },
   {
    "duration": 372,
    "start_time": "2022-07-20T16:19:05.943Z"
   },
   {
    "duration": 260,
    "start_time": "2022-07-20T16:19:06.599Z"
   },
   {
    "duration": 267,
    "start_time": "2022-07-20T16:19:53.561Z"
   },
   {
    "duration": 262,
    "start_time": "2022-07-20T16:30:30.753Z"
   },
   {
    "duration": 646,
    "start_time": "2022-07-20T16:44:53.561Z"
   },
   {
    "duration": 862,
    "start_time": "2022-07-20T16:45:28.899Z"
   },
   {
    "duration": 242,
    "start_time": "2022-07-20T16:46:16.908Z"
   },
   {
    "duration": 391,
    "start_time": "2022-07-20T16:58:00.211Z"
   },
   {
    "duration": 458,
    "start_time": "2022-07-20T16:58:30.618Z"
   },
   {
    "duration": 198,
    "start_time": "2022-07-20T16:59:49.524Z"
   },
   {
    "duration": 191,
    "start_time": "2022-07-20T17:00:06.954Z"
   },
   {
    "duration": 192,
    "start_time": "2022-07-20T17:01:24.278Z"
   },
   {
    "duration": 217,
    "start_time": "2022-07-20T17:02:12.595Z"
   },
   {
    "duration": 219,
    "start_time": "2022-07-20T17:03:21.990Z"
   },
   {
    "duration": 149,
    "start_time": "2022-07-20T17:03:50.176Z"
   },
   {
    "duration": 150,
    "start_time": "2022-07-20T17:04:02.968Z"
   },
   {
    "duration": 158,
    "start_time": "2022-07-20T17:13:39.619Z"
   },
   {
    "duration": 183,
    "start_time": "2022-07-20T17:14:12.643Z"
   },
   {
    "duration": 141,
    "start_time": "2022-07-20T17:14:33.051Z"
   },
   {
    "duration": 136,
    "start_time": "2022-07-20T17:14:43.389Z"
   },
   {
    "duration": 1179,
    "start_time": "2022-07-20T17:16:34.177Z"
   },
   {
    "duration": 168,
    "start_time": "2022-07-20T17:17:05.428Z"
   },
   {
    "duration": 168,
    "start_time": "2022-07-20T17:20:15.878Z"
   },
   {
    "duration": 194,
    "start_time": "2022-07-20T17:28:29.753Z"
   },
   {
    "duration": 54,
    "start_time": "2022-07-20T17:29:59.501Z"
   },
   {
    "duration": 82,
    "start_time": "2022-07-20T17:30:19.359Z"
   },
   {
    "duration": 176,
    "start_time": "2022-07-20T17:30:33.248Z"
   },
   {
    "duration": 201,
    "start_time": "2022-07-20T17:35:06.856Z"
   },
   {
    "duration": 148,
    "start_time": "2022-07-20T17:37:33.375Z"
   },
   {
    "duration": 148,
    "start_time": "2022-07-20T17:37:44.926Z"
   },
   {
    "duration": 4,
    "start_time": "2022-07-20T17:38:20.711Z"
   },
   {
    "duration": 107,
    "start_time": "2022-07-20T17:38:20.718Z"
   },
   {
    "duration": 15,
    "start_time": "2022-07-20T17:38:20.827Z"
   },
   {
    "duration": 13,
    "start_time": "2022-07-20T17:38:20.844Z"
   },
   {
    "duration": 54,
    "start_time": "2022-07-20T17:38:20.859Z"
   },
   {
    "duration": 12,
    "start_time": "2022-07-20T17:38:20.915Z"
   },
   {
    "duration": 11,
    "start_time": "2022-07-20T17:38:20.929Z"
   },
   {
    "duration": 17,
    "start_time": "2022-07-20T17:38:20.941Z"
   },
   {
    "duration": 34,
    "start_time": "2022-07-20T17:38:20.959Z"
   },
   {
    "duration": 495,
    "start_time": "2022-07-20T17:38:20.995Z"
   },
   {
    "duration": 183,
    "start_time": "2022-07-20T17:38:21.492Z"
   },
   {
    "duration": 287,
    "start_time": "2022-07-20T17:38:21.677Z"
   },
   {
    "duration": 179,
    "start_time": "2022-07-20T17:38:21.966Z"
   },
   {
    "duration": 326,
    "start_time": "2022-07-20T17:38:22.147Z"
   },
   {
    "duration": 135,
    "start_time": "2022-07-20T17:38:22.475Z"
   },
   {
    "duration": 4,
    "start_time": "2022-07-20T17:38:22.611Z"
   },
   {
    "duration": 262,
    "start_time": "2022-07-20T17:38:22.617Z"
   },
   {
    "duration": 5,
    "start_time": "2022-07-20T17:38:22.882Z"
   },
   {
    "duration": 150,
    "start_time": "2022-07-20T17:38:22.889Z"
   },
   {
    "duration": 0,
    "start_time": "2022-07-20T17:38:23.040Z"
   },
   {
    "duration": 156,
    "start_time": "2022-07-20T17:39:57.426Z"
   },
   {
    "duration": 186,
    "start_time": "2022-07-20T17:40:51.766Z"
   },
   {
    "duration": 183,
    "start_time": "2022-07-20T17:42:01.325Z"
   },
   {
    "duration": 193,
    "start_time": "2022-07-20T17:45:22.885Z"
   },
   {
    "duration": 157,
    "start_time": "2022-07-20T17:48:32.852Z"
   },
   {
    "duration": 136,
    "start_time": "2022-07-20T17:52:10.092Z"
   },
   {
    "duration": 140,
    "start_time": "2022-07-20T17:54:54.175Z"
   },
   {
    "duration": 164,
    "start_time": "2022-07-20T18:10:40.219Z"
   },
   {
    "duration": 182,
    "start_time": "2022-07-20T18:11:08.738Z"
   },
   {
    "duration": 181,
    "start_time": "2022-07-20T18:15:30.435Z"
   },
   {
    "duration": 271,
    "start_time": "2022-07-20T18:17:37.452Z"
   },
   {
    "duration": 146,
    "start_time": "2022-07-20T18:24:32.485Z"
   },
   {
    "duration": 180,
    "start_time": "2022-07-20T18:27:23.445Z"
   },
   {
    "duration": 153,
    "start_time": "2022-07-20T18:29:44.934Z"
   },
   {
    "duration": 1211,
    "start_time": "2022-07-20T18:44:08.329Z"
   },
   {
    "duration": 9,
    "start_time": "2022-07-20T18:44:44.082Z"
   },
   {
    "duration": 14,
    "start_time": "2022-07-20T18:49:18.845Z"
   },
   {
    "duration": 16,
    "start_time": "2022-07-20T18:50:36.993Z"
   },
   {
    "duration": 10,
    "start_time": "2022-07-20T18:55:55.489Z"
   },
   {
    "duration": 10,
    "start_time": "2022-07-20T18:58:26.914Z"
   },
   {
    "duration": 12,
    "start_time": "2022-07-20T18:58:32.883Z"
   },
   {
    "duration": 94,
    "start_time": "2022-07-20T18:59:52.485Z"
   },
   {
    "duration": 99,
    "start_time": "2022-07-20T18:59:59.949Z"
   },
   {
    "duration": 14,
    "start_time": "2022-07-20T19:00:27.696Z"
   },
   {
    "duration": 1207,
    "start_time": "2022-07-21T03:31:34.476Z"
   },
   {
    "duration": 199,
    "start_time": "2022-07-21T03:31:35.685Z"
   },
   {
    "duration": 18,
    "start_time": "2022-07-21T03:31:35.886Z"
   },
   {
    "duration": 20,
    "start_time": "2022-07-21T03:31:35.907Z"
   },
   {
    "duration": 49,
    "start_time": "2022-07-21T03:31:35.929Z"
   },
   {
    "duration": 8,
    "start_time": "2022-07-21T03:31:35.979Z"
   },
   {
    "duration": 12,
    "start_time": "2022-07-21T03:31:35.988Z"
   },
   {
    "duration": 14,
    "start_time": "2022-07-21T03:31:36.001Z"
   },
   {
    "duration": 35,
    "start_time": "2022-07-21T03:31:36.017Z"
   },
   {
    "duration": 535,
    "start_time": "2022-07-21T03:31:36.054Z"
   },
   {
    "duration": 184,
    "start_time": "2022-07-21T03:31:36.591Z"
   },
   {
    "duration": 325,
    "start_time": "2022-07-21T03:31:36.777Z"
   },
   {
    "duration": 181,
    "start_time": "2022-07-21T03:31:37.104Z"
   },
   {
    "duration": 278,
    "start_time": "2022-07-21T03:31:37.287Z"
   },
   {
    "duration": 123,
    "start_time": "2022-07-21T03:31:37.566Z"
   },
   {
    "duration": 4,
    "start_time": "2022-07-21T03:31:37.691Z"
   },
   {
    "duration": 191,
    "start_time": "2022-07-21T03:31:37.697Z"
   },
   {
    "duration": 5,
    "start_time": "2022-07-21T03:31:37.890Z"
   },
   {
    "duration": 265,
    "start_time": "2022-07-21T03:31:37.897Z"
   },
   {
    "duration": 0,
    "start_time": "2022-07-21T03:31:38.164Z"
   },
   {
    "duration": 0,
    "start_time": "2022-07-21T03:31:38.167Z"
   },
   {
    "duration": 0,
    "start_time": "2022-07-21T03:31:38.168Z"
   },
   {
    "duration": 112,
    "start_time": "2022-07-21T03:48:32.510Z"
   },
   {
    "duration": 339,
    "start_time": "2022-07-21T03:49:49.896Z"
   },
   {
    "duration": 3,
    "start_time": "2022-07-21T03:50:23.323Z"
   },
   {
    "duration": 88,
    "start_time": "2022-07-21T03:50:23.328Z"
   },
   {
    "duration": 14,
    "start_time": "2022-07-21T03:50:23.418Z"
   },
   {
    "duration": 14,
    "start_time": "2022-07-21T03:50:23.433Z"
   },
   {
    "duration": 40,
    "start_time": "2022-07-21T03:50:23.450Z"
   },
   {
    "duration": 14,
    "start_time": "2022-07-21T03:50:23.492Z"
   },
   {
    "duration": 11,
    "start_time": "2022-07-21T03:50:23.508Z"
   },
   {
    "duration": 19,
    "start_time": "2022-07-21T03:50:23.520Z"
   },
   {
    "duration": 31,
    "start_time": "2022-07-21T03:50:23.540Z"
   },
   {
    "duration": 558,
    "start_time": "2022-07-21T03:50:23.572Z"
   },
   {
    "duration": 189,
    "start_time": "2022-07-21T03:50:24.133Z"
   },
   {
    "duration": 323,
    "start_time": "2022-07-21T03:50:24.323Z"
   },
   {
    "duration": 193,
    "start_time": "2022-07-21T03:50:24.648Z"
   },
   {
    "duration": 311,
    "start_time": "2022-07-21T03:50:24.847Z"
   },
   {
    "duration": 137,
    "start_time": "2022-07-21T03:50:25.160Z"
   },
   {
    "duration": 4,
    "start_time": "2022-07-21T03:50:25.299Z"
   },
   {
    "duration": 179,
    "start_time": "2022-07-21T03:50:25.305Z"
   },
   {
    "duration": 5,
    "start_time": "2022-07-21T03:50:25.486Z"
   },
   {
    "duration": 382,
    "start_time": "2022-07-21T03:50:25.493Z"
   },
   {
    "duration": 10,
    "start_time": "2022-07-21T03:50:25.877Z"
   },
   {
    "duration": 15,
    "start_time": "2022-07-21T03:50:25.888Z"
   },
   {
    "duration": 12,
    "start_time": "2022-07-21T03:50:25.905Z"
   },
   {
    "duration": 13,
    "start_time": "2022-07-21T03:53:16.141Z"
   },
   {
    "duration": 12,
    "start_time": "2022-07-21T03:55:38.377Z"
   },
   {
    "duration": 15,
    "start_time": "2022-07-21T03:56:09.351Z"
   },
   {
    "duration": 342,
    "start_time": "2022-07-21T03:56:57.122Z"
   },
   {
    "duration": 17,
    "start_time": "2022-07-21T03:57:17.624Z"
   },
   {
    "duration": 18,
    "start_time": "2022-07-21T03:58:43.861Z"
   },
   {
    "duration": 10,
    "start_time": "2022-07-21T03:59:46.881Z"
   },
   {
    "duration": 125,
    "start_time": "2022-07-21T04:03:34.059Z"
   },
   {
    "duration": 34,
    "start_time": "2022-07-21T04:05:41.079Z"
   },
   {
    "duration": 327,
    "start_time": "2022-07-21T04:06:16.490Z"
   },
   {
    "duration": 245,
    "start_time": "2022-07-21T04:06:45.976Z"
   },
   {
    "duration": 3,
    "start_time": "2022-07-21T04:07:18.443Z"
   },
   {
    "duration": 94,
    "start_time": "2022-07-21T04:07:18.449Z"
   },
   {
    "duration": 18,
    "start_time": "2022-07-21T04:07:18.545Z"
   },
   {
    "duration": 14,
    "start_time": "2022-07-21T04:07:18.564Z"
   },
   {
    "duration": 35,
    "start_time": "2022-07-21T04:07:19.793Z"
   },
   {
    "duration": 5,
    "start_time": "2022-07-21T04:07:31.315Z"
   },
   {
    "duration": 131,
    "start_time": "2022-07-21T04:07:31.321Z"
   },
   {
    "duration": 19,
    "start_time": "2022-07-21T04:07:31.454Z"
   },
   {
    "duration": 15,
    "start_time": "2022-07-21T04:07:31.837Z"
   },
   {
    "duration": 36,
    "start_time": "2022-07-21T04:07:32.330Z"
   },
   {
    "duration": 4,
    "start_time": "2022-07-21T04:07:45.938Z"
   },
   {
    "duration": 101,
    "start_time": "2022-07-21T04:07:45.943Z"
   },
   {
    "duration": 16,
    "start_time": "2022-07-21T04:07:46.045Z"
   },
   {
    "duration": 19,
    "start_time": "2022-07-21T04:07:46.063Z"
   },
   {
    "duration": 34,
    "start_time": "2022-07-21T04:07:46.911Z"
   },
   {
    "duration": 3,
    "start_time": "2022-07-21T04:08:30.004Z"
   },
   {
    "duration": 104,
    "start_time": "2022-07-21T04:08:30.009Z"
   },
   {
    "duration": 15,
    "start_time": "2022-07-21T04:08:30.115Z"
   },
   {
    "duration": 16,
    "start_time": "2022-07-21T04:08:30.132Z"
   },
   {
    "duration": 33,
    "start_time": "2022-07-21T04:08:31.129Z"
   },
   {
    "duration": 4,
    "start_time": "2022-07-21T04:08:40.757Z"
   },
   {
    "duration": 87,
    "start_time": "2022-07-21T04:08:40.762Z"
   },
   {
    "duration": 13,
    "start_time": "2022-07-21T04:08:40.850Z"
   },
   {
    "duration": 14,
    "start_time": "2022-07-21T04:08:40.865Z"
   },
   {
    "duration": 32,
    "start_time": "2022-07-21T04:08:41.989Z"
   },
   {
    "duration": 5,
    "start_time": "2022-07-21T04:08:59.743Z"
   },
   {
    "duration": 96,
    "start_time": "2022-07-21T04:08:59.750Z"
   },
   {
    "duration": 15,
    "start_time": "2022-07-21T04:08:59.847Z"
   },
   {
    "duration": 14,
    "start_time": "2022-07-21T04:08:59.864Z"
   },
   {
    "duration": 32,
    "start_time": "2022-07-21T04:09:01.178Z"
   },
   {
    "duration": 3,
    "start_time": "2022-07-21T04:09:23.707Z"
   },
   {
    "duration": 93,
    "start_time": "2022-07-21T04:09:23.713Z"
   },
   {
    "duration": 17,
    "start_time": "2022-07-21T04:09:23.808Z"
   },
   {
    "duration": 15,
    "start_time": "2022-07-21T04:09:23.826Z"
   },
   {
    "duration": 31,
    "start_time": "2022-07-21T04:09:24.895Z"
   },
   {
    "duration": 3,
    "start_time": "2022-07-21T04:09:42.581Z"
   },
   {
    "duration": 90,
    "start_time": "2022-07-21T04:09:42.586Z"
   },
   {
    "duration": 13,
    "start_time": "2022-07-21T04:09:42.678Z"
   },
   {
    "duration": 13,
    "start_time": "2022-07-21T04:09:42.693Z"
   },
   {
    "duration": 26,
    "start_time": "2022-07-21T04:09:43.560Z"
   },
   {
    "duration": 320,
    "start_time": "2022-07-21T04:27:11.765Z"
   },
   {
    "duration": 314,
    "start_time": "2022-07-21T04:29:28.581Z"
   },
   {
    "duration": 9,
    "start_time": "2022-07-21T04:31:24.615Z"
   },
   {
    "duration": 9,
    "start_time": "2022-07-21T04:33:55.457Z"
   },
   {
    "duration": 23,
    "start_time": "2022-07-21T04:35:10.895Z"
   },
   {
    "duration": 10,
    "start_time": "2022-07-21T04:37:01.681Z"
   },
   {
    "duration": 4,
    "start_time": "2022-07-21T04:37:59.007Z"
   },
   {
    "duration": 100,
    "start_time": "2022-07-21T04:37:59.013Z"
   },
   {
    "duration": 15,
    "start_time": "2022-07-21T04:37:59.114Z"
   },
   {
    "duration": 14,
    "start_time": "2022-07-21T04:37:59.130Z"
   },
   {
    "duration": 25,
    "start_time": "2022-07-21T04:37:59.146Z"
   },
   {
    "duration": 7,
    "start_time": "2022-07-21T04:37:59.173Z"
   },
   {
    "duration": 9,
    "start_time": "2022-07-21T04:37:59.181Z"
   },
   {
    "duration": 14,
    "start_time": "2022-07-21T04:37:59.191Z"
   },
   {
    "duration": 40,
    "start_time": "2022-07-21T04:37:59.207Z"
   },
   {
    "duration": 454,
    "start_time": "2022-07-21T04:37:59.249Z"
   },
   {
    "duration": 177,
    "start_time": "2022-07-21T04:37:59.705Z"
   },
   {
    "duration": 252,
    "start_time": "2022-07-21T04:37:59.884Z"
   },
   {
    "duration": 257,
    "start_time": "2022-07-21T04:38:00.139Z"
   },
   {
    "duration": 286,
    "start_time": "2022-07-21T04:38:00.398Z"
   },
   {
    "duration": 122,
    "start_time": "2022-07-21T04:38:00.686Z"
   },
   {
    "duration": 5,
    "start_time": "2022-07-21T04:38:00.809Z"
   },
   {
    "duration": 154,
    "start_time": "2022-07-21T04:38:00.815Z"
   },
   {
    "duration": 4,
    "start_time": "2022-07-21T04:38:00.971Z"
   },
   {
    "duration": 339,
    "start_time": "2022-07-21T04:38:00.977Z"
   },
   {
    "duration": 8,
    "start_time": "2022-07-21T04:38:01.318Z"
   },
   {
    "duration": 32,
    "start_time": "2022-07-21T04:38:01.327Z"
   },
   {
    "duration": 45,
    "start_time": "2022-07-21T04:38:01.361Z"
   },
   {
    "duration": 11,
    "start_time": "2022-07-21T04:50:30.146Z"
   },
   {
    "duration": 329,
    "start_time": "2022-07-21T05:04:13.769Z"
   },
   {
    "duration": 340,
    "start_time": "2022-07-21T05:07:37.476Z"
   },
   {
    "duration": 318,
    "start_time": "2022-07-21T05:08:08.461Z"
   },
   {
    "duration": 16,
    "start_time": "2022-07-21T05:09:25.375Z"
   },
   {
    "duration": 14,
    "start_time": "2022-07-21T05:14:58.255Z"
   },
   {
    "duration": 13,
    "start_time": "2022-07-21T05:15:46.421Z"
   },
   {
    "duration": 11,
    "start_time": "2022-07-21T05:15:56.288Z"
   },
   {
    "duration": 12,
    "start_time": "2022-07-21T05:16:38.348Z"
   },
   {
    "duration": 11,
    "start_time": "2022-07-21T05:17:14.953Z"
   },
   {
    "duration": 16,
    "start_time": "2022-07-21T05:21:03.413Z"
   },
   {
    "duration": 1307,
    "start_time": "2022-07-21T11:40:49.099Z"
   },
   {
    "duration": 244,
    "start_time": "2022-07-21T11:40:50.408Z"
   },
   {
    "duration": 18,
    "start_time": "2022-07-21T11:40:50.653Z"
   },
   {
    "duration": 20,
    "start_time": "2022-07-21T11:40:50.673Z"
   },
   {
    "duration": 42,
    "start_time": "2022-07-21T11:40:50.696Z"
   },
   {
    "duration": 8,
    "start_time": "2022-07-21T11:40:50.739Z"
   },
   {
    "duration": 11,
    "start_time": "2022-07-21T11:40:50.749Z"
   },
   {
    "duration": 16,
    "start_time": "2022-07-21T11:40:50.762Z"
   },
   {
    "duration": 15,
    "start_time": "2022-07-21T11:40:50.781Z"
   },
   {
    "duration": 566,
    "start_time": "2022-07-21T11:40:50.798Z"
   },
   {
    "duration": 184,
    "start_time": "2022-07-21T11:40:51.366Z"
   },
   {
    "duration": 375,
    "start_time": "2022-07-21T11:40:51.552Z"
   },
   {
    "duration": 185,
    "start_time": "2022-07-21T11:40:51.929Z"
   },
   {
    "duration": 312,
    "start_time": "2022-07-21T11:40:52.116Z"
   },
   {
    "duration": 124,
    "start_time": "2022-07-21T11:40:52.430Z"
   },
   {
    "duration": 5,
    "start_time": "2022-07-21T11:40:52.556Z"
   },
   {
    "duration": 184,
    "start_time": "2022-07-21T11:40:52.562Z"
   },
   {
    "duration": 5,
    "start_time": "2022-07-21T11:40:52.748Z"
   },
   {
    "duration": 364,
    "start_time": "2022-07-21T11:40:52.754Z"
   },
   {
    "duration": 11,
    "start_time": "2022-07-21T11:40:53.119Z"
   },
   {
    "duration": 18,
    "start_time": "2022-07-21T11:40:53.132Z"
   },
   {
    "duration": 13,
    "start_time": "2022-07-21T11:40:53.152Z"
   },
   {
    "duration": 1277,
    "start_time": "2022-07-21T14:34:45.820Z"
   },
   {
    "duration": 294,
    "start_time": "2022-07-21T14:34:47.100Z"
   },
   {
    "duration": 21,
    "start_time": "2022-07-21T14:34:47.396Z"
   },
   {
    "duration": 39,
    "start_time": "2022-07-21T14:34:47.419Z"
   },
   {
    "duration": 30,
    "start_time": "2022-07-21T14:34:47.461Z"
   },
   {
    "duration": 34,
    "start_time": "2022-07-21T14:34:47.493Z"
   },
   {
    "duration": 26,
    "start_time": "2022-07-21T14:34:47.531Z"
   },
   {
    "duration": 32,
    "start_time": "2022-07-21T14:34:47.558Z"
   },
   {
    "duration": 24,
    "start_time": "2022-07-21T14:34:47.592Z"
   },
   {
    "duration": 602,
    "start_time": "2022-07-21T14:34:47.618Z"
   },
   {
    "duration": 171,
    "start_time": "2022-07-21T14:34:48.222Z"
   },
   {
    "duration": 329,
    "start_time": "2022-07-21T14:34:48.406Z"
   },
   {
    "duration": 187,
    "start_time": "2022-07-21T14:34:48.737Z"
   },
   {
    "duration": 312,
    "start_time": "2022-07-21T14:34:48.933Z"
   },
   {
    "duration": 126,
    "start_time": "2022-07-21T14:34:49.247Z"
   },
   {
    "duration": 4,
    "start_time": "2022-07-21T14:34:49.374Z"
   },
   {
    "duration": 169,
    "start_time": "2022-07-21T14:34:49.379Z"
   },
   {
    "duration": 4,
    "start_time": "2022-07-21T14:34:49.549Z"
   },
   {
    "duration": 366,
    "start_time": "2022-07-21T14:34:49.554Z"
   },
   {
    "duration": 12,
    "start_time": "2022-07-21T14:34:49.924Z"
   },
   {
    "duration": 22,
    "start_time": "2022-07-21T14:34:49.939Z"
   },
   {
    "duration": 13,
    "start_time": "2022-07-21T14:34:49.963Z"
   },
   {
    "duration": 73,
    "start_time": "2022-07-21T16:16:51.621Z"
   },
   {
    "duration": 1178,
    "start_time": "2022-07-21T20:06:34.945Z"
   },
   {
    "duration": 291,
    "start_time": "2022-07-21T20:06:36.125Z"
   },
   {
    "duration": 15,
    "start_time": "2022-07-21T20:06:36.418Z"
   },
   {
    "duration": 20,
    "start_time": "2022-07-21T20:06:36.435Z"
   },
   {
    "duration": 29,
    "start_time": "2022-07-21T20:06:36.457Z"
   },
   {
    "duration": 23,
    "start_time": "2022-07-21T20:06:36.487Z"
   },
   {
    "duration": 14,
    "start_time": "2022-07-21T20:06:36.515Z"
   },
   {
    "duration": 11,
    "start_time": "2022-07-21T20:06:36.530Z"
   },
   {
    "duration": 7,
    "start_time": "2022-07-21T20:06:36.542Z"
   },
   {
    "duration": 577,
    "start_time": "2022-07-21T20:06:36.552Z"
   },
   {
    "duration": 206,
    "start_time": "2022-07-21T20:06:37.131Z"
   },
   {
    "duration": 339,
    "start_time": "2022-07-21T20:06:37.338Z"
   },
   {
    "duration": 192,
    "start_time": "2022-07-21T20:06:37.679Z"
   },
   {
    "duration": 338,
    "start_time": "2022-07-21T20:06:37.873Z"
   },
   {
    "duration": 122,
    "start_time": "2022-07-21T20:06:38.214Z"
   },
   {
    "duration": 4,
    "start_time": "2022-07-21T20:06:38.337Z"
   },
   {
    "duration": 151,
    "start_time": "2022-07-21T20:06:38.343Z"
   },
   {
    "duration": 10,
    "start_time": "2022-07-21T20:06:38.495Z"
   },
   {
    "duration": 365,
    "start_time": "2022-07-21T20:06:38.506Z"
   },
   {
    "duration": 13,
    "start_time": "2022-07-21T20:06:38.874Z"
   },
   {
    "duration": 32,
    "start_time": "2022-07-21T20:06:38.889Z"
   },
   {
    "duration": 21,
    "start_time": "2022-07-21T20:06:38.923Z"
   },
   {
    "duration": 7,
    "start_time": "2022-07-21T20:13:38.824Z"
   },
   {
    "duration": 10,
    "start_time": "2022-07-21T20:13:53.804Z"
   },
   {
    "duration": 14,
    "start_time": "2022-07-21T20:14:16.735Z"
   },
   {
    "duration": 7,
    "start_time": "2022-07-21T20:14:34.280Z"
   },
   {
    "duration": 1110,
    "start_time": "2022-07-22T09:19:22.881Z"
   },
   {
    "duration": 241,
    "start_time": "2022-07-22T09:19:23.992Z"
   },
   {
    "duration": 15,
    "start_time": "2022-07-22T09:19:24.235Z"
   },
   {
    "duration": 13,
    "start_time": "2022-07-22T09:19:24.253Z"
   },
   {
    "duration": 28,
    "start_time": "2022-07-22T09:19:24.267Z"
   },
   {
    "duration": 7,
    "start_time": "2022-07-22T09:19:24.296Z"
   },
   {
    "duration": 11,
    "start_time": "2022-07-22T09:19:24.304Z"
   },
   {
    "duration": 38,
    "start_time": "2022-07-22T09:19:24.316Z"
   },
   {
    "duration": 8,
    "start_time": "2022-07-22T09:19:24.355Z"
   },
   {
    "duration": 536,
    "start_time": "2022-07-22T09:19:24.365Z"
   },
   {
    "duration": 183,
    "start_time": "2022-07-22T09:19:24.902Z"
   },
   {
    "duration": 267,
    "start_time": "2022-07-22T09:19:25.087Z"
   },
   {
    "duration": 174,
    "start_time": "2022-07-22T09:19:25.356Z"
   },
   {
    "duration": 317,
    "start_time": "2022-07-22T09:19:25.532Z"
   },
   {
    "duration": 124,
    "start_time": "2022-07-22T09:19:25.851Z"
   },
   {
    "duration": 4,
    "start_time": "2022-07-22T09:19:25.977Z"
   },
   {
    "duration": 153,
    "start_time": "2022-07-22T09:19:25.983Z"
   },
   {
    "duration": 4,
    "start_time": "2022-07-22T09:19:26.138Z"
   },
   {
    "duration": 346,
    "start_time": "2022-07-22T09:19:26.146Z"
   },
   {
    "duration": 10,
    "start_time": "2022-07-22T09:19:26.494Z"
   },
   {
    "duration": 17,
    "start_time": "2022-07-22T09:19:26.506Z"
   },
   {
    "duration": 33,
    "start_time": "2022-07-22T09:19:26.525Z"
   },
   {
    "duration": 5,
    "start_time": "2022-07-22T09:22:47.293Z"
   },
   {
    "duration": 4,
    "start_time": "2022-07-22T09:23:10.543Z"
   },
   {
    "duration": 1256,
    "start_time": "2022-07-23T06:12:31.629Z"
   },
   {
    "duration": 199,
    "start_time": "2022-07-23T06:12:32.887Z"
   },
   {
    "duration": 26,
    "start_time": "2022-07-23T06:12:33.088Z"
   },
   {
    "duration": 22,
    "start_time": "2022-07-23T06:12:33.116Z"
   },
   {
    "duration": 46,
    "start_time": "2022-07-23T06:12:33.140Z"
   },
   {
    "duration": 9,
    "start_time": "2022-07-23T06:12:33.210Z"
   },
   {
    "duration": 13,
    "start_time": "2022-07-23T06:12:33.221Z"
   },
   {
    "duration": 17,
    "start_time": "2022-07-23T06:12:33.237Z"
   },
   {
    "duration": 12,
    "start_time": "2022-07-23T06:12:33.256Z"
   },
   {
    "duration": 626,
    "start_time": "2022-07-23T06:12:33.271Z"
   },
   {
    "duration": 216,
    "start_time": "2022-07-23T06:12:33.899Z"
   },
   {
    "duration": 375,
    "start_time": "2022-07-23T06:12:34.117Z"
   },
   {
    "duration": 192,
    "start_time": "2022-07-23T06:12:34.494Z"
   },
   {
    "duration": 372,
    "start_time": "2022-07-23T06:12:34.688Z"
   },
   {
    "duration": 154,
    "start_time": "2022-07-23T06:12:35.062Z"
   },
   {
    "duration": 4,
    "start_time": "2022-07-23T06:12:35.218Z"
   },
   {
    "duration": 186,
    "start_time": "2022-07-23T06:12:35.224Z"
   },
   {
    "duration": 5,
    "start_time": "2022-07-23T06:12:35.411Z"
   },
   {
    "duration": 369,
    "start_time": "2022-07-23T06:12:35.417Z"
   },
   {
    "duration": 26,
    "start_time": "2022-07-23T06:12:35.787Z"
   },
   {
    "duration": 38,
    "start_time": "2022-07-23T06:12:35.815Z"
   },
   {
    "duration": 38,
    "start_time": "2022-07-23T06:12:35.856Z"
   },
   {
    "duration": 90,
    "start_time": "2022-07-23T06:36:54.165Z"
   },
   {
    "duration": 53,
    "start_time": "2022-07-23T06:37:15.486Z"
   },
   {
    "duration": 101,
    "start_time": "2022-07-23T06:37:22.659Z"
   },
   {
    "duration": 20,
    "start_time": "2022-07-23T06:37:30.879Z"
   },
   {
    "duration": 22,
    "start_time": "2022-07-23T06:37:44.841Z"
   },
   {
    "duration": 5,
    "start_time": "2022-07-23T06:38:28.733Z"
   },
   {
    "duration": 101,
    "start_time": "2022-07-23T06:38:28.742Z"
   },
   {
    "duration": 20,
    "start_time": "2022-07-23T06:38:28.846Z"
   },
   {
    "duration": 51,
    "start_time": "2022-07-23T06:38:28.867Z"
   },
   {
    "duration": 35,
    "start_time": "2022-07-23T06:38:28.924Z"
   },
   {
    "duration": 9,
    "start_time": "2022-07-23T06:58:06.320Z"
   },
   {
    "duration": 11,
    "start_time": "2022-07-23T06:58:15.429Z"
   },
   {
    "duration": 11,
    "start_time": "2022-07-23T06:58:33.352Z"
   },
   {
    "duration": 10,
    "start_time": "2022-07-23T07:03:31.382Z"
   },
   {
    "duration": 11,
    "start_time": "2022-07-23T07:03:36.492Z"
   },
   {
    "duration": 11,
    "start_time": "2022-07-23T07:03:48.667Z"
   },
   {
    "duration": 8,
    "start_time": "2022-07-23T07:03:53.708Z"
   },
   {
    "duration": 97,
    "start_time": "2022-07-23T07:03:53.809Z"
   },
   {
    "duration": 28,
    "start_time": "2022-07-23T07:03:53.908Z"
   },
   {
    "duration": 20,
    "start_time": "2022-07-23T07:03:53.937Z"
   },
   {
    "duration": 27,
    "start_time": "2022-07-23T07:03:53.959Z"
   },
   {
    "duration": 30,
    "start_time": "2022-07-23T07:03:53.988Z"
   },
   {
    "duration": 8,
    "start_time": "2022-07-23T07:03:55.072Z"
   },
   {
    "duration": 4,
    "start_time": "2022-07-23T09:01:40.387Z"
   },
   {
    "duration": 7,
    "start_time": "2022-07-23T09:02:44.031Z"
   },
   {
    "duration": 73,
    "start_time": "2022-07-23T09:03:40.496Z"
   },
   {
    "duration": 6,
    "start_time": "2022-07-23T09:03:51.500Z"
   },
   {
    "duration": 6,
    "start_time": "2022-07-23T09:03:59.084Z"
   },
   {
    "duration": 5,
    "start_time": "2022-07-23T09:04:06.147Z"
   },
   {
    "duration": 5,
    "start_time": "2022-07-23T09:04:22.472Z"
   },
   {
    "duration": 6,
    "start_time": "2022-07-23T09:05:15.476Z"
   },
   {
    "duration": 6,
    "start_time": "2022-07-23T09:07:19.570Z"
   },
   {
    "duration": 5,
    "start_time": "2022-07-23T09:10:54.348Z"
   },
   {
    "duration": 106,
    "start_time": "2022-07-23T09:11:17.585Z"
   },
   {
    "duration": 11,
    "start_time": "2022-07-23T09:11:24.610Z"
   },
   {
    "duration": 3,
    "start_time": "2022-07-23T09:12:37.894Z"
   },
   {
    "duration": 113,
    "start_time": "2022-07-23T09:12:37.899Z"
   },
   {
    "duration": 17,
    "start_time": "2022-07-23T09:12:38.013Z"
   },
   {
    "duration": 27,
    "start_time": "2022-07-23T09:12:38.031Z"
   },
   {
    "duration": 43,
    "start_time": "2022-07-23T09:12:38.060Z"
   },
   {
    "duration": 5,
    "start_time": "2022-07-23T09:12:41.365Z"
   },
   {
    "duration": 5,
    "start_time": "2022-07-23T09:12:44.170Z"
   },
   {
    "duration": 6,
    "start_time": "2022-07-23T09:13:22.761Z"
   },
   {
    "duration": 11,
    "start_time": "2022-07-23T09:13:37.147Z"
   },
   {
    "duration": 4,
    "start_time": "2022-07-23T09:14:23.056Z"
   },
   {
    "duration": 112,
    "start_time": "2022-07-23T09:14:23.063Z"
   },
   {
    "duration": 19,
    "start_time": "2022-07-23T09:14:23.176Z"
   },
   {
    "duration": 16,
    "start_time": "2022-07-23T09:14:23.196Z"
   },
   {
    "duration": 39,
    "start_time": "2022-07-23T09:14:23.214Z"
   },
   {
    "duration": 14,
    "start_time": "2022-07-23T09:14:23.255Z"
   },
   {
    "duration": 9,
    "start_time": "2022-07-23T09:14:23.271Z"
   },
   {
    "duration": 12,
    "start_time": "2022-07-23T09:14:23.281Z"
   },
   {
    "duration": 16,
    "start_time": "2022-07-23T09:14:23.294Z"
   },
   {
    "duration": 11,
    "start_time": "2022-07-23T09:14:23.312Z"
   },
   {
    "duration": 473,
    "start_time": "2022-07-23T09:14:23.325Z"
   },
   {
    "duration": 271,
    "start_time": "2022-07-23T09:14:23.800Z"
   },
   {
    "duration": 329,
    "start_time": "2022-07-23T09:14:24.072Z"
   },
   {
    "duration": 170,
    "start_time": "2022-07-23T09:14:24.404Z"
   },
   {
    "duration": 365,
    "start_time": "2022-07-23T09:14:24.575Z"
   },
   {
    "duration": 129,
    "start_time": "2022-07-23T09:14:24.942Z"
   },
   {
    "duration": 4,
    "start_time": "2022-07-23T09:14:25.072Z"
   },
   {
    "duration": 166,
    "start_time": "2022-07-23T09:14:25.078Z"
   },
   {
    "duration": 5,
    "start_time": "2022-07-23T09:14:25.246Z"
   },
   {
    "duration": 375,
    "start_time": "2022-07-23T09:14:25.253Z"
   },
   {
    "duration": 12,
    "start_time": "2022-07-23T09:14:25.630Z"
   },
   {
    "duration": 32,
    "start_time": "2022-07-23T09:14:25.644Z"
   },
   {
    "duration": 33,
    "start_time": "2022-07-23T09:14:25.678Z"
   },
   {
    "duration": 13,
    "start_time": "2022-07-23T09:15:38.878Z"
   },
   {
    "duration": 7,
    "start_time": "2022-07-23T09:15:44.050Z"
   },
   {
    "duration": 6,
    "start_time": "2022-07-23T09:15:54.551Z"
   },
   {
    "duration": 11,
    "start_time": "2022-07-23T09:16:50.481Z"
   },
   {
    "duration": 22,
    "start_time": "2022-07-23T09:17:06.546Z"
   },
   {
    "duration": 25,
    "start_time": "2022-07-23T09:17:38.511Z"
   },
   {
    "duration": 814,
    "start_time": "2022-07-23T09:20:11.727Z"
   },
   {
    "duration": 1248,
    "start_time": "2022-07-23T09:20:26.345Z"
   },
   {
    "duration": 4,
    "start_time": "2022-07-23T09:20:43.065Z"
   },
   {
    "duration": 9,
    "start_time": "2022-07-23T09:21:46.815Z"
   },
   {
    "duration": 7,
    "start_time": "2022-07-23T09:21:57.474Z"
   },
   {
    "duration": 7,
    "start_time": "2022-07-23T09:22:20.269Z"
   },
   {
    "duration": 13,
    "start_time": "2022-07-23T09:23:09.835Z"
   },
   {
    "duration": 15,
    "start_time": "2022-07-23T09:23:56.775Z"
   },
   {
    "duration": 15,
    "start_time": "2022-07-23T09:24:16.766Z"
   },
   {
    "duration": 7,
    "start_time": "2022-07-23T09:24:59.571Z"
   },
   {
    "duration": 1189,
    "start_time": "2022-07-23T17:49:25.981Z"
   },
   {
    "duration": 219,
    "start_time": "2022-07-23T17:49:27.172Z"
   },
   {
    "duration": 19,
    "start_time": "2022-07-23T17:49:27.392Z"
   },
   {
    "duration": 17,
    "start_time": "2022-07-23T17:49:27.413Z"
   },
   {
    "duration": 48,
    "start_time": "2022-07-23T17:49:27.432Z"
   },
   {
    "duration": 6,
    "start_time": "2022-07-23T17:49:27.482Z"
   },
   {
    "duration": 20,
    "start_time": "2022-07-23T17:49:27.489Z"
   },
   {
    "duration": 6,
    "start_time": "2022-07-23T17:49:27.510Z"
   },
   {
    "duration": 5,
    "start_time": "2022-07-23T17:49:27.518Z"
   },
   {
    "duration": 8,
    "start_time": "2022-07-23T17:49:27.525Z"
   },
   {
    "duration": 12,
    "start_time": "2022-07-23T17:49:27.564Z"
   },
   {
    "duration": 10,
    "start_time": "2022-07-23T17:49:27.577Z"
   },
   {
    "duration": 526,
    "start_time": "2022-07-23T17:49:27.589Z"
   },
   {
    "duration": 179,
    "start_time": "2022-07-23T17:49:28.118Z"
   },
   {
    "duration": 298,
    "start_time": "2022-07-23T17:49:28.298Z"
   },
   {
    "duration": 159,
    "start_time": "2022-07-23T17:49:28.598Z"
   },
   {
    "duration": 304,
    "start_time": "2022-07-23T17:49:28.763Z"
   },
   {
    "duration": 118,
    "start_time": "2022-07-23T17:49:29.069Z"
   },
   {
    "duration": 4,
    "start_time": "2022-07-23T17:49:29.188Z"
   },
   {
    "duration": 155,
    "start_time": "2022-07-23T17:49:29.193Z"
   },
   {
    "duration": 4,
    "start_time": "2022-07-23T17:49:29.349Z"
   },
   {
    "duration": 331,
    "start_time": "2022-07-23T17:49:29.363Z"
   },
   {
    "duration": 10,
    "start_time": "2022-07-23T17:49:29.696Z"
   },
   {
    "duration": 15,
    "start_time": "2022-07-23T17:49:29.708Z"
   },
   {
    "duration": 14,
    "start_time": "2022-07-23T17:49:29.725Z"
   },
   {
    "duration": 6,
    "start_time": "2022-07-23T17:51:27.609Z"
   },
   {
    "duration": 107,
    "start_time": "2022-07-23T18:01:13.459Z"
   },
   {
    "duration": 17,
    "start_time": "2022-07-23T18:01:34.679Z"
   },
   {
    "duration": 6,
    "start_time": "2022-07-23T18:01:47.305Z"
   },
   {
    "duration": 47,
    "start_time": "2022-07-23T18:02:58.284Z"
   },
   {
    "duration": 11,
    "start_time": "2022-07-23T18:03:03.082Z"
   },
   {
    "duration": 7,
    "start_time": "2022-07-23T18:03:11.954Z"
   },
   {
    "duration": 7,
    "start_time": "2022-07-23T18:03:31.944Z"
   },
   {
    "duration": 16,
    "start_time": "2022-07-23T18:04:42.292Z"
   },
   {
    "duration": 17,
    "start_time": "2022-07-23T18:05:07.977Z"
   },
   {
    "duration": 13,
    "start_time": "2022-07-23T18:05:14.279Z"
   },
   {
    "duration": 13,
    "start_time": "2022-07-23T18:12:41.650Z"
   },
   {
    "duration": 7,
    "start_time": "2022-07-23T18:13:41.648Z"
   },
   {
    "duration": 6,
    "start_time": "2022-07-23T18:15:38.338Z"
   },
   {
    "duration": 39,
    "start_time": "2022-07-23T18:20:09.257Z"
   },
   {
    "duration": 8,
    "start_time": "2022-07-23T18:20:12.802Z"
   },
   {
    "duration": 10,
    "start_time": "2022-07-23T18:33:16.294Z"
   },
   {
    "duration": 10,
    "start_time": "2022-07-23T18:34:05.483Z"
   },
   {
    "duration": 7,
    "start_time": "2022-07-23T18:35:48.201Z"
   },
   {
    "duration": 4,
    "start_time": "2022-07-23T18:43:19.811Z"
   },
   {
    "duration": 95,
    "start_time": "2022-07-23T18:43:19.817Z"
   },
   {
    "duration": 19,
    "start_time": "2022-07-23T18:43:19.914Z"
   },
   {
    "duration": 17,
    "start_time": "2022-07-23T18:43:19.934Z"
   },
   {
    "duration": 27,
    "start_time": "2022-07-23T18:43:19.963Z"
   },
   {
    "duration": 5,
    "start_time": "2022-07-23T18:43:19.992Z"
   },
   {
    "duration": 20,
    "start_time": "2022-07-23T18:43:19.999Z"
   },
   {
    "duration": 7,
    "start_time": "2022-07-23T18:43:20.021Z"
   },
   {
    "duration": 36,
    "start_time": "2022-07-23T18:43:20.029Z"
   },
   {
    "duration": 8,
    "start_time": "2022-07-23T18:43:20.067Z"
   },
   {
    "duration": 10,
    "start_time": "2022-07-23T18:43:20.077Z"
   },
   {
    "duration": 13,
    "start_time": "2022-07-23T18:43:20.089Z"
   },
   {
    "duration": 12,
    "start_time": "2022-07-23T18:43:20.104Z"
   },
   {
    "duration": 47,
    "start_time": "2022-07-23T18:43:20.118Z"
   },
   {
    "duration": 0,
    "start_time": "2022-07-23T18:43:20.166Z"
   },
   {
    "duration": 0,
    "start_time": "2022-07-23T18:43:20.167Z"
   },
   {
    "duration": 0,
    "start_time": "2022-07-23T18:43:20.168Z"
   },
   {
    "duration": 0,
    "start_time": "2022-07-23T18:43:20.169Z"
   },
   {
    "duration": 0,
    "start_time": "2022-07-23T18:43:20.170Z"
   },
   {
    "duration": 0,
    "start_time": "2022-07-23T18:43:20.171Z"
   },
   {
    "duration": 0,
    "start_time": "2022-07-23T18:43:20.172Z"
   },
   {
    "duration": 0,
    "start_time": "2022-07-23T18:43:20.173Z"
   },
   {
    "duration": 0,
    "start_time": "2022-07-23T18:43:20.174Z"
   },
   {
    "duration": 0,
    "start_time": "2022-07-23T18:43:20.175Z"
   },
   {
    "duration": 0,
    "start_time": "2022-07-23T18:43:20.176Z"
   },
   {
    "duration": 0,
    "start_time": "2022-07-23T18:43:20.177Z"
   },
   {
    "duration": 18,
    "start_time": "2022-07-23T18:43:47.656Z"
   },
   {
    "duration": 4,
    "start_time": "2022-07-23T18:44:30.953Z"
   },
   {
    "duration": 104,
    "start_time": "2022-07-23T18:44:30.959Z"
   },
   {
    "duration": 18,
    "start_time": "2022-07-23T18:44:31.065Z"
   },
   {
    "duration": 15,
    "start_time": "2022-07-23T18:44:31.086Z"
   },
   {
    "duration": 25,
    "start_time": "2022-07-23T18:44:31.103Z"
   },
   {
    "duration": 38,
    "start_time": "2022-07-23T18:44:31.130Z"
   },
   {
    "duration": 27,
    "start_time": "2022-07-23T18:44:31.169Z"
   },
   {
    "duration": 20,
    "start_time": "2022-07-23T18:44:31.197Z"
   },
   {
    "duration": 12,
    "start_time": "2022-07-23T18:44:31.219Z"
   },
   {
    "duration": 4,
    "start_time": "2022-07-23T18:44:31.233Z"
   },
   {
    "duration": 11,
    "start_time": "2022-07-23T18:44:31.238Z"
   },
   {
    "duration": 27,
    "start_time": "2022-07-23T18:44:31.250Z"
   },
   {
    "duration": 16,
    "start_time": "2022-07-23T18:44:31.279Z"
   },
   {
    "duration": 453,
    "start_time": "2022-07-23T18:44:31.297Z"
   },
   {
    "duration": 244,
    "start_time": "2022-07-23T18:44:31.752Z"
   },
   {
    "duration": 276,
    "start_time": "2022-07-23T18:44:31.997Z"
   },
   {
    "duration": 162,
    "start_time": "2022-07-23T18:44:32.275Z"
   },
   {
    "duration": 369,
    "start_time": "2022-07-23T18:44:32.439Z"
   },
   {
    "duration": 131,
    "start_time": "2022-07-23T18:44:32.810Z"
   },
   {
    "duration": 4,
    "start_time": "2022-07-23T18:44:32.942Z"
   },
   {
    "duration": 155,
    "start_time": "2022-07-23T18:44:32.947Z"
   },
   {
    "duration": 4,
    "start_time": "2022-07-23T18:44:33.103Z"
   },
   {
    "duration": 332,
    "start_time": "2022-07-23T18:44:33.108Z"
   },
   {
    "duration": 10,
    "start_time": "2022-07-23T18:44:33.443Z"
   },
   {
    "duration": 20,
    "start_time": "2022-07-23T18:44:33.454Z"
   },
   {
    "duration": 12,
    "start_time": "2022-07-23T18:44:33.476Z"
   },
   {
    "duration": 491,
    "start_time": "2022-07-23T18:45:29.587Z"
   },
   {
    "duration": 463,
    "start_time": "2022-07-23T18:47:04.820Z"
   },
   {
    "duration": 493,
    "start_time": "2022-07-23T18:48:13.742Z"
   },
   {
    "duration": 236,
    "start_time": "2022-07-23T18:50:12.353Z"
   },
   {
    "duration": 195,
    "start_time": "2022-07-23T18:50:33.978Z"
   },
   {
    "duration": 297,
    "start_time": "2022-07-23T18:51:13.608Z"
   },
   {
    "duration": 185,
    "start_time": "2022-07-23T18:51:34.450Z"
   },
   {
    "duration": 203,
    "start_time": "2022-07-23T18:51:53.234Z"
   },
   {
    "duration": 185,
    "start_time": "2022-07-23T18:51:59.172Z"
   },
   {
    "duration": 189,
    "start_time": "2022-07-23T18:52:42.844Z"
   },
   {
    "duration": 327,
    "start_time": "2022-07-23T18:54:35.051Z"
   },
   {
    "duration": 308,
    "start_time": "2022-07-23T18:54:44.692Z"
   },
   {
    "duration": 190,
    "start_time": "2022-07-23T18:56:16.936Z"
   },
   {
    "duration": 184,
    "start_time": "2022-07-23T18:57:05.506Z"
   },
   {
    "duration": 308,
    "start_time": "2022-07-23T18:57:37.908Z"
   },
   {
    "duration": 179,
    "start_time": "2022-07-23T18:58:29.949Z"
   },
   {
    "duration": 148,
    "start_time": "2022-07-23T18:59:27.939Z"
   },
   {
    "duration": 228,
    "start_time": "2022-07-23T18:59:44.866Z"
   },
   {
    "duration": 139,
    "start_time": "2022-07-23T19:03:17.700Z"
   },
   {
    "duration": 144,
    "start_time": "2022-07-23T19:03:35.424Z"
   },
   {
    "duration": 133,
    "start_time": "2022-07-23T19:05:09.752Z"
   },
   {
    "duration": 127,
    "start_time": "2022-07-23T19:05:22.298Z"
   },
   {
    "duration": 139,
    "start_time": "2022-07-23T19:05:47.900Z"
   },
   {
    "duration": 129,
    "start_time": "2022-07-23T19:06:01.212Z"
   },
   {
    "duration": 117,
    "start_time": "2022-07-23T19:06:08.358Z"
   },
   {
    "duration": 59,
    "start_time": "2022-07-23T19:08:49.644Z"
   },
   {
    "duration": 128,
    "start_time": "2022-07-23T19:08:53.840Z"
   },
   {
    "duration": 121,
    "start_time": "2022-07-23T19:09:06.604Z"
   },
   {
    "duration": 144,
    "start_time": "2022-07-23T19:09:23.903Z"
   },
   {
    "duration": 136,
    "start_time": "2022-07-23T19:09:56.392Z"
   },
   {
    "duration": 163,
    "start_time": "2022-07-23T19:17:39.583Z"
   },
   {
    "duration": 304,
    "start_time": "2022-07-23T19:18:42.008Z"
   },
   {
    "duration": 308,
    "start_time": "2022-07-23T19:19:13.593Z"
   },
   {
    "duration": 184,
    "start_time": "2022-07-23T19:19:26.876Z"
   },
   {
    "duration": 344,
    "start_time": "2022-07-23T19:19:43.657Z"
   },
   {
    "duration": 459,
    "start_time": "2022-07-23T19:20:31.588Z"
   },
   {
    "duration": 146,
    "start_time": "2022-07-23T19:21:37.888Z"
   },
   {
    "duration": 1270,
    "start_time": "2022-07-24T03:40:52.985Z"
   },
   {
    "duration": 203,
    "start_time": "2022-07-24T03:40:54.257Z"
   },
   {
    "duration": 22,
    "start_time": "2022-07-24T03:40:54.462Z"
   },
   {
    "duration": 20,
    "start_time": "2022-07-24T03:40:54.487Z"
   },
   {
    "duration": 29,
    "start_time": "2022-07-24T03:40:54.509Z"
   },
   {
    "duration": 8,
    "start_time": "2022-07-24T03:40:54.539Z"
   },
   {
    "duration": 18,
    "start_time": "2022-07-24T03:40:54.548Z"
   },
   {
    "duration": 8,
    "start_time": "2022-07-24T03:40:54.567Z"
   },
   {
    "duration": 10,
    "start_time": "2022-07-24T03:40:54.577Z"
   },
   {
    "duration": 21,
    "start_time": "2022-07-24T03:40:54.589Z"
   },
   {
    "duration": 12,
    "start_time": "2022-07-24T03:40:54.612Z"
   },
   {
    "duration": 12,
    "start_time": "2022-07-24T03:40:54.626Z"
   },
   {
    "duration": 11,
    "start_time": "2022-07-24T03:40:54.639Z"
   },
   {
    "duration": 606,
    "start_time": "2022-07-24T03:40:54.652Z"
   },
   {
    "duration": 208,
    "start_time": "2022-07-24T03:40:55.260Z"
   },
   {
    "duration": 395,
    "start_time": "2022-07-24T03:40:55.470Z"
   },
   {
    "duration": 206,
    "start_time": "2022-07-24T03:40:55.867Z"
   },
   {
    "duration": 363,
    "start_time": "2022-07-24T03:40:56.075Z"
   },
   {
    "duration": 144,
    "start_time": "2022-07-24T03:40:56.440Z"
   },
   {
    "duration": 5,
    "start_time": "2022-07-24T03:40:56.585Z"
   },
   {
    "duration": 163,
    "start_time": "2022-07-24T03:40:56.591Z"
   },
   {
    "duration": 5,
    "start_time": "2022-07-24T03:40:56.755Z"
   },
   {
    "duration": 363,
    "start_time": "2022-07-24T03:40:56.761Z"
   },
   {
    "duration": 13,
    "start_time": "2022-07-24T03:40:57.126Z"
   },
   {
    "duration": 20,
    "start_time": "2022-07-24T03:40:57.141Z"
   },
   {
    "duration": 22,
    "start_time": "2022-07-24T03:40:57.163Z"
   },
   {
    "duration": 6,
    "start_time": "2022-07-24T03:54:45.364Z"
   },
   {
    "duration": 299,
    "start_time": "2022-07-24T04:08:31.751Z"
   },
   {
    "duration": 391,
    "start_time": "2022-07-24T04:09:35.045Z"
   },
   {
    "duration": 342,
    "start_time": "2022-07-24T04:10:47.562Z"
   },
   {
    "duration": 144,
    "start_time": "2022-07-24T04:11:45.905Z"
   },
   {
    "duration": 197,
    "start_time": "2022-07-24T04:13:26.473Z"
   },
   {
    "duration": 191,
    "start_time": "2022-07-24T04:13:47.178Z"
   },
   {
    "duration": 143,
    "start_time": "2022-07-24T04:14:06.343Z"
   },
   {
    "duration": 153,
    "start_time": "2022-07-24T04:14:23.899Z"
   },
   {
    "duration": 149,
    "start_time": "2022-07-24T04:14:36.363Z"
   },
   {
    "duration": 148,
    "start_time": "2022-07-24T04:14:45.538Z"
   },
   {
    "duration": 19,
    "start_time": "2022-07-24T04:34:54.510Z"
   },
   {
    "duration": 23,
    "start_time": "2022-07-24T04:39:32.635Z"
   },
   {
    "duration": 19,
    "start_time": "2022-07-24T04:40:34.283Z"
   },
   {
    "duration": 21,
    "start_time": "2022-07-24T04:41:18.220Z"
   },
   {
    "duration": 24,
    "start_time": "2022-07-24T04:41:52.186Z"
   },
   {
    "duration": 23,
    "start_time": "2022-07-24T04:42:12.447Z"
   },
   {
    "duration": 352,
    "start_time": "2022-07-24T05:03:17.127Z"
   },
   {
    "duration": 363,
    "start_time": "2022-07-24T05:04:36.593Z"
   },
   {
    "duration": 357,
    "start_time": "2022-07-24T05:04:51.029Z"
   },
   {
    "duration": 371,
    "start_time": "2022-07-24T05:06:37.079Z"
   },
   {
    "duration": 3,
    "start_time": "2022-07-24T05:06:44.397Z"
   },
   {
    "duration": 106,
    "start_time": "2022-07-24T05:06:44.402Z"
   },
   {
    "duration": 19,
    "start_time": "2022-07-24T05:06:44.510Z"
   },
   {
    "duration": 15,
    "start_time": "2022-07-24T05:06:44.531Z"
   },
   {
    "duration": 28,
    "start_time": "2022-07-24T05:06:44.548Z"
   },
   {
    "duration": 5,
    "start_time": "2022-07-24T05:06:44.610Z"
   },
   {
    "duration": 23,
    "start_time": "2022-07-24T05:06:44.617Z"
   },
   {
    "duration": 7,
    "start_time": "2022-07-24T05:06:44.642Z"
   },
   {
    "duration": 8,
    "start_time": "2022-07-24T05:06:44.651Z"
   },
   {
    "duration": 9,
    "start_time": "2022-07-24T05:06:44.661Z"
   },
   {
    "duration": 42,
    "start_time": "2022-07-24T05:06:44.674Z"
   },
   {
    "duration": 19,
    "start_time": "2022-07-24T05:06:44.718Z"
   },
   {
    "duration": 499,
    "start_time": "2022-07-24T05:06:44.739Z"
   },
   {
    "duration": 308,
    "start_time": "2022-07-24T05:06:45.240Z"
   },
   {
    "duration": 325,
    "start_time": "2022-07-24T05:06:45.550Z"
   },
   {
    "duration": 199,
    "start_time": "2022-07-24T05:06:45.877Z"
   },
   {
    "duration": 382,
    "start_time": "2022-07-24T05:06:46.078Z"
   },
   {
    "duration": 150,
    "start_time": "2022-07-24T05:06:46.461Z"
   },
   {
    "duration": 4,
    "start_time": "2022-07-24T05:06:46.613Z"
   },
   {
    "duration": 162,
    "start_time": "2022-07-24T05:06:46.619Z"
   },
   {
    "duration": 154,
    "start_time": "2022-07-24T05:06:46.784Z"
   },
   {
    "duration": 4,
    "start_time": "2022-07-24T05:06:46.940Z"
   },
   {
    "duration": 386,
    "start_time": "2022-07-24T05:06:46.946Z"
   },
   {
    "duration": 339,
    "start_time": "2022-07-24T05:06:50.399Z"
   },
   {
    "duration": 16,
    "start_time": "2022-07-24T05:17:01.935Z"
   },
   {
    "duration": 33,
    "start_time": "2022-07-24T05:18:28.294Z"
   },
   {
    "duration": 48,
    "start_time": "2022-07-24T05:20:00.589Z"
   },
   {
    "duration": 1380,
    "start_time": "2022-07-24T06:26:05.872Z"
   },
   {
    "duration": 238,
    "start_time": "2022-07-24T06:26:07.255Z"
   },
   {
    "duration": 17,
    "start_time": "2022-07-24T06:26:07.495Z"
   },
   {
    "duration": 16,
    "start_time": "2022-07-24T06:26:07.514Z"
   },
   {
    "duration": 59,
    "start_time": "2022-07-24T06:26:07.532Z"
   },
   {
    "duration": 5,
    "start_time": "2022-07-24T06:26:07.593Z"
   },
   {
    "duration": 21,
    "start_time": "2022-07-24T06:26:07.600Z"
   },
   {
    "duration": 12,
    "start_time": "2022-07-24T06:26:07.623Z"
   },
   {
    "duration": 27,
    "start_time": "2022-07-24T06:26:07.637Z"
   },
   {
    "duration": 16,
    "start_time": "2022-07-24T06:26:07.668Z"
   },
   {
    "duration": 16,
    "start_time": "2022-07-24T06:26:07.686Z"
   },
   {
    "duration": 14,
    "start_time": "2022-07-24T06:26:07.704Z"
   },
   {
    "duration": 621,
    "start_time": "2022-07-24T06:26:07.720Z"
   },
   {
    "duration": 225,
    "start_time": "2022-07-24T06:26:08.343Z"
   },
   {
    "duration": 381,
    "start_time": "2022-07-24T06:26:08.573Z"
   },
   {
    "duration": 241,
    "start_time": "2022-07-24T06:26:08.961Z"
   },
   {
    "duration": 361,
    "start_time": "2022-07-24T06:26:09.203Z"
   },
   {
    "duration": 155,
    "start_time": "2022-07-24T06:26:09.567Z"
   },
   {
    "duration": 4,
    "start_time": "2022-07-24T06:26:09.724Z"
   },
   {
    "duration": 185,
    "start_time": "2022-07-24T06:26:09.731Z"
   },
   {
    "duration": 173,
    "start_time": "2022-07-24T06:26:09.918Z"
   },
   {
    "duration": 6,
    "start_time": "2022-07-24T06:26:10.093Z"
   },
   {
    "duration": 518,
    "start_time": "2022-07-24T06:26:10.101Z"
   },
   {
    "duration": 0,
    "start_time": "2022-07-24T06:26:10.621Z"
   },
   {
    "duration": 0,
    "start_time": "2022-07-24T06:26:10.622Z"
   },
   {
    "duration": 0,
    "start_time": "2022-07-24T06:26:10.623Z"
   },
   {
    "duration": 12,
    "start_time": "2022-07-24T06:33:01.072Z"
   },
   {
    "duration": 81,
    "start_time": "2022-07-24T06:33:01.086Z"
   },
   {
    "duration": 35,
    "start_time": "2022-07-24T06:33:01.169Z"
   },
   {
    "duration": 55,
    "start_time": "2022-07-24T07:21:29.509Z"
   },
   {
    "duration": 1302,
    "start_time": "2022-07-24T07:21:37.048Z"
   },
   {
    "duration": 218,
    "start_time": "2022-07-24T07:21:38.352Z"
   },
   {
    "duration": 19,
    "start_time": "2022-07-24T07:21:38.573Z"
   },
   {
    "duration": 19,
    "start_time": "2022-07-24T07:21:38.594Z"
   },
   {
    "duration": 36,
    "start_time": "2022-07-24T07:21:38.623Z"
   },
   {
    "duration": 11,
    "start_time": "2022-07-24T07:21:38.661Z"
   },
   {
    "duration": 38,
    "start_time": "2022-07-24T07:21:38.674Z"
   },
   {
    "duration": 15,
    "start_time": "2022-07-24T07:21:38.714Z"
   },
   {
    "duration": 16,
    "start_time": "2022-07-24T07:21:38.976Z"
   },
   {
    "duration": 14,
    "start_time": "2022-07-24T07:23:08.212Z"
   },
   {
    "duration": 14,
    "start_time": "2022-07-24T07:23:47.015Z"
   },
   {
    "duration": 20,
    "start_time": "2022-07-24T07:25:05.041Z"
   },
   {
    "duration": 14,
    "start_time": "2022-07-24T07:25:36.371Z"
   },
   {
    "duration": 17,
    "start_time": "2022-07-24T07:25:59.111Z"
   },
   {
    "duration": 14,
    "start_time": "2022-07-24T07:26:33.401Z"
   },
   {
    "duration": 7,
    "start_time": "2022-07-24T07:26:51.934Z"
   },
   {
    "duration": 408,
    "start_time": "2022-07-24T07:30:30.195Z"
   },
   {
    "duration": 3,
    "start_time": "2022-07-24T07:31:27.847Z"
   },
   {
    "duration": 118,
    "start_time": "2022-07-24T07:31:27.852Z"
   },
   {
    "duration": 23,
    "start_time": "2022-07-24T07:31:27.973Z"
   },
   {
    "duration": 26,
    "start_time": "2022-07-24T07:31:27.998Z"
   },
   {
    "duration": 31,
    "start_time": "2022-07-24T07:31:28.026Z"
   },
   {
    "duration": 9,
    "start_time": "2022-07-24T07:31:28.059Z"
   },
   {
    "duration": 22,
    "start_time": "2022-07-24T07:31:28.070Z"
   },
   {
    "duration": 37,
    "start_time": "2022-07-24T07:31:28.094Z"
   },
   {
    "duration": 9,
    "start_time": "2022-07-24T07:31:28.133Z"
   },
   {
    "duration": 13,
    "start_time": "2022-07-24T07:31:28.143Z"
   },
   {
    "duration": 13,
    "start_time": "2022-07-24T07:31:28.159Z"
   },
   {
    "duration": 16,
    "start_time": "2022-07-24T07:31:28.174Z"
   },
   {
    "duration": 641,
    "start_time": "2022-07-24T07:31:28.192Z"
   },
   {
    "duration": 229,
    "start_time": "2022-07-24T07:31:28.836Z"
   },
   {
    "duration": 438,
    "start_time": "2022-07-24T07:31:29.067Z"
   },
   {
    "duration": 222,
    "start_time": "2022-07-24T07:31:29.507Z"
   },
   {
    "duration": 354,
    "start_time": "2022-07-24T07:31:29.731Z"
   },
   {
    "duration": 162,
    "start_time": "2022-07-24T07:31:30.087Z"
   },
   {
    "duration": 4,
    "start_time": "2022-07-24T07:31:30.251Z"
   },
   {
    "duration": 216,
    "start_time": "2022-07-24T07:31:30.257Z"
   },
   {
    "duration": 169,
    "start_time": "2022-07-24T07:31:30.474Z"
   },
   {
    "duration": 5,
    "start_time": "2022-07-24T07:31:30.644Z"
   },
   {
    "duration": 464,
    "start_time": "2022-07-24T07:31:30.651Z"
   },
   {
    "duration": 13,
    "start_time": "2022-07-24T07:31:31.117Z"
   },
   {
    "duration": 46,
    "start_time": "2022-07-24T07:31:31.131Z"
   },
   {
    "duration": 45,
    "start_time": "2022-07-24T07:31:31.179Z"
   }
  ],
  "kernelspec": {
   "display_name": "Python 3 (ipykernel)",
   "language": "python",
   "name": "python3"
  },
  "language_info": {
   "codemirror_mode": {
    "name": "ipython",
    "version": 3
   },
   "file_extension": ".py",
   "mimetype": "text/x-python",
   "name": "python",
   "nbconvert_exporter": "python",
   "pygments_lexer": "ipython3",
   "version": "3.9.12"
  },
  "toc": {
   "base_numbering": 1,
   "nav_menu": {},
   "number_sections": false,
   "sideBar": true,
   "skip_h1_title": false,
   "title_cell": "Table of Contents",
   "title_sidebar": "Contents",
   "toc_cell": false,
   "toc_position": {},
   "toc_section_display": true,
   "toc_window_display": false
  }
 },
 "nbformat": 4,
 "nbformat_minor": 2
}
