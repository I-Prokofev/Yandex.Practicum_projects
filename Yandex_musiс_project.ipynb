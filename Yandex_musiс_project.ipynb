{
 "cells": [
  {
   "cell_type": "markdown",
   "metadata": {
    "id": "E0vqbgi9ay0H"
   },
   "source": [
    "# Яндекс.Музыка"
   ]
  },
  {
   "cell_type": "markdown",
   "metadata": {
    "id": "VUC88oWjTJw2"
   },
   "source": [
    "Необходимо сравнить поведение пользователей сервиса Яндекс.Музыки из Москвы и Санкт-Петербурга.\n",
    "\n",
    "**Цель исследования** — нужно проверить три гипотезы:\n",
    "1. Активность пользователей зависит от дня недели, причем в Москве и Петербурге это проявляется, по-разному.\n",
    "2. В понедельник утром в Москве преобладают одни жанры, а в Петербурге — другие. Так же и вечером пятницы преобладают разные жанры — в зависимости от города. \n",
    "3. Москва и Петербург предпочитают разные жанры музыки. В Москве чаще слушают поп-музыку, в Петербурге — русский рэп.\n",
    "\n",
    "**Ход исследования**:\n",
    "\n",
    "Данные о поведении пользователей получаем из файла `yandex_music_project.csv`. О качестве данных ничего не известно. Поэтому перед проверкой гипотез понадобится обзор данных. \n",
    "\n",
    "Данные будут проверены на наличие ошибок и оценено их влияние на исследование. Затем, на этапе предобработки мы поищем возможность исправить самые критичные ошибки данных.\n",
    " \n",
    "Таким образом, исследование пройдёт в три этапа:\n",
    " 1. Обзор данных.\n",
    " 2. Предобработка данных.\n",
    " 3. Проверка гипотез."
   ]
  },
  {
   "cell_type": "markdown",
   "metadata": {
    "id": "Ml1hmfXC_Zcs"
   },
   "source": [
    "## Обзор данных"
   ]
  },
  {
   "cell_type": "code",
   "execution_count": 1,
   "metadata": {
    "id": "AXN7PHPN_Zcs"
   },
   "outputs": [],
   "source": [
    "import pandas as pd"
   ]
  },
  {
   "cell_type": "code",
   "execution_count": 2,
   "metadata": {
    "id": "fFVu7vqh_Zct"
   },
   "outputs": [
    {
     "name": "stdout",
     "output_type": "stream",
     "text": [
      "<class 'pandas.core.frame.DataFrame'>\n",
      "RangeIndex: 65079 entries, 0 to 65078\n",
      "Data columns (total 7 columns):\n",
      " #   Column    Non-Null Count  Dtype \n",
      "---  ------    --------------  ----- \n",
      " 0     userID  65079 non-null  object\n",
      " 1   Track     63848 non-null  object\n",
      " 2   artist    57876 non-null  object\n",
      " 3   genre     63881 non-null  object\n",
      " 4     City    65079 non-null  object\n",
      " 5   time      65079 non-null  object\n",
      " 6   Day       65079 non-null  object\n",
      "dtypes: object(7)\n",
      "memory usage: 3.5+ MB\n"
     ]
    }
   ],
   "source": [
    "df = pd.read_csv('yandex_music_project.csv')\n",
    "df.head(10)\n",
    "df.info()"
   ]
  },
  {
   "cell_type": "markdown",
   "metadata": {
    "id": "TaQ2Iwbr_Zct"
   },
   "source": [
    "Итак, в таблице семь столбцов. Тип данных во всех столбцах — `object`.\n",
    "\n",
    "Согласно документации к данным:\n",
    "* `userID` — идентификатор пользователя;\n",
    "* `Track` — название трека;  \n",
    "* `artist` — имя исполнителя;\n",
    "* `genre` — название жанра;\n",
    "* `City` — город пользователя;\n",
    "* `time` — время начала прослушивания;\n",
    "* `Day` — день недели.\n",
    "\n",
    "В названиях колонок видны нарушения стиля, количество значений в столбцах различается. Значит, в данных есть пропущенные значения."
   ]
  },
  {
   "cell_type": "markdown",
   "metadata": {
    "id": "MCB6-dXG_Zct"
   },
   "source": [
    "**Выводы:**\n",
    "\n",
    "В каждой строке таблицы — данные о прослушанном треке. Часть колонок описывает саму композицию: название, исполнителя и жанр. Остальные данные рассказывают о пользователе: из какого он города, когда он слушал музыку. \n",
    "\n",
    "Предварительно можно утверждать, что, данных достаточно для проверки гипотез. Но встречаются пропуски в данных, а в названиях колонок — расхождения с хорошим стилем.\n",
    "\n",
    "Чтобы двигаться дальше, нужно устранить проблемы в данных."
   ]
  },
  {
   "cell_type": "markdown",
   "metadata": {
    "id": "SjYF6Ub9_Zct"
   },
   "source": [
    "## Предобработка данных\n",
    "Исправим стиль в заголовках столбцов, обработаем пропуски, а затем проверим данные на дубликаты:"
   ]
  },
  {
   "cell_type": "markdown",
   "metadata": {},
   "source": [
    "### Название столбцов"
   ]
  },
  {
   "cell_type": "code",
   "execution_count": 3,
   "metadata": {
    "id": "oKOTdF_Q_Zct",
    "scrolled": true
   },
   "outputs": [
    {
     "name": "stdout",
     "output_type": "stream",
     "text": [
      "Index(['  userID', 'Track', 'artist', 'genre', '  City  ', 'time', 'Day'], dtype='object')\n"
     ]
    }
   ],
   "source": [
    "print(df.columns)"
   ]
  },
  {
   "cell_type": "markdown",
   "metadata": {},
   "source": [
    "Откорректируем название столбцов:"
   ]
  },
  {
   "cell_type": "code",
   "execution_count": 4,
   "metadata": {
    "id": "ISlFqs5y_Zct"
   },
   "outputs": [
    {
     "name": "stdout",
     "output_type": "stream",
     "text": [
      "Index(['user_id', 'track', 'artist', 'genre', 'city', 'time', 'day'], dtype='object')\n"
     ]
    }
   ],
   "source": [
    "df = df.rename(columns={'  userID': 'user_id', 'Track': 'track', '  City  ': 'city', 'Day': 'day'})\n",
    "print(df.columns) "
   ]
  },
  {
   "cell_type": "markdown",
   "metadata": {
    "id": "5ISfbcfY_Zct"
   },
   "source": [
    "### Пропуски значений\n",
    "Посчитаем, сколько в таблице пропущенных значений:"
   ]
  },
  {
   "cell_type": "code",
   "execution_count": 5,
   "metadata": {
    "id": "RskX29qr_Zct"
   },
   "outputs": [
    {
     "data": {
      "text/plain": [
       "user_id       0\n",
       "track      1231\n",
       "artist     7203\n",
       "genre      1198\n",
       "city          0\n",
       "time          0\n",
       "day           0\n",
       "dtype: int64"
      ]
     },
     "execution_count": 5,
     "metadata": {},
     "output_type": "execute_result"
    }
   ],
   "source": [
    "df.isna().sum()"
   ]
  },
  {
   "cell_type": "markdown",
   "metadata": {
    "id": "qubhgnlO_Zct"
   },
   "source": [
    "Не все пропущенные значения влияют на исследование. Так в `track` и `artist` пропуски не важны для дальнейшего анализа. Достаточно заменить их явными обозначениями.\n",
    "\n",
    "Пропуски в `genre` могут помешать сравнению музыкальных вкусов в Москве и Санкт-Петербурге. На практике было бы правильно установить причину пропусков и восстановить данные, однако такой возмоности у нас нет. Поэтому заполним эти пропуски явными обозначениями и оценим, насколько они повредят расчётам. "
   ]
  },
  {
   "cell_type": "markdown",
   "metadata": {
    "id": "fSv2laPA_Zct"
   },
   "source": [
    "Заменим пропущенные значения в столбцах `track`, `artist` и `genre` на строку `'unknown'`:"
   ]
  },
  {
   "cell_type": "code",
   "execution_count": 6,
   "metadata": {
    "id": "KplB5qWs_Zct"
   },
   "outputs": [],
   "source": [
    "columns_to_replace = ['track', 'artist', 'genre']\n",
    "for val in columns_to_replace:\n",
    "    df[val] = df[val].fillna('unknown')"
   ]
  },
  {
   "cell_type": "markdown",
   "metadata": {
    "id": "Ilsm-MZo_Zct"
   },
   "source": [
    "Убедимся, что в таблице не осталось пропусков:"
   ]
  },
  {
   "cell_type": "code",
   "execution_count": 7,
   "metadata": {
    "id": "Tq4nYRX4_Zct"
   },
   "outputs": [
    {
     "data": {
      "text/plain": [
       "user_id    0\n",
       "track      0\n",
       "artist     0\n",
       "genre      0\n",
       "city       0\n",
       "time       0\n",
       "day        0\n",
       "dtype: int64"
      ]
     },
     "execution_count": 7,
     "metadata": {},
     "output_type": "execute_result"
    }
   ],
   "source": [
    "df.isna().sum()"
   ]
  },
  {
   "cell_type": "markdown",
   "metadata": {
    "id": "BWKRtBJ3_Zct"
   },
   "source": [
    "### Дубликаты\n",
    "Посчитаем явные дубликаты:"
   ]
  },
  {
   "cell_type": "code",
   "execution_count": 8,
   "metadata": {
    "id": "36eES_S0_Zct"
   },
   "outputs": [
    {
     "data": {
      "text/plain": [
       "3826"
      ]
     },
     "execution_count": 8,
     "metadata": {},
     "output_type": "execute_result"
    }
   ],
   "source": [
    "df.duplicated().sum()"
   ]
  },
  {
   "cell_type": "markdown",
   "metadata": {
    "id": "Ot25h6XR_Zct"
   },
   "source": [
    "Удалим явные дубликаты:"
   ]
  },
  {
   "cell_type": "code",
   "execution_count": 9,
   "metadata": {
    "id": "exFHq6tt_Zct"
   },
   "outputs": [],
   "source": [
    "df = df.drop_duplicates().reset_index(drop=True) "
   ]
  },
  {
   "cell_type": "markdown",
   "metadata": {
    "id": "Im2YwBEG_Zct"
   },
   "source": [
    "Проверим полученный датасет:"
   ]
  },
  {
   "cell_type": "code",
   "execution_count": 10,
   "metadata": {
    "id": "-8PuNWQ0_Zct"
   },
   "outputs": [
    {
     "data": {
      "text/plain": [
       "0"
      ]
     },
     "execution_count": 10,
     "metadata": {},
     "output_type": "execute_result"
    }
   ],
   "source": [
    "df.duplicated().sum()"
   ]
  },
  {
   "cell_type": "markdown",
   "metadata": {
    "id": "QlFBsxAr_Zct"
   },
   "source": [
    "Теперь избавимся от неявных дубликатов в колонке `genre`."
   ]
  },
  {
   "cell_type": "markdown",
   "metadata": {
    "id": "eSjWwsOh_Zct"
   },
   "source": [
    "Исследуем список уникальных названий жанров:"
   ]
  },
  {
   "cell_type": "code",
   "execution_count": 11,
   "metadata": {
    "id": "JIUcqzZN_Zct"
   },
   "outputs": [
    {
     "name": "stdout",
     "output_type": "stream",
     "text": [
      "['acid' 'acoustic' 'action' 'adult' 'africa' 'afrikaans' 'alternative'\n",
      " 'alternativepunk' 'ambient' 'americana' 'animated' 'anime' 'arabesk'\n",
      " 'arabic' 'arena' 'argentinetango' 'art' 'audiobook' 'author' 'avantgarde'\n",
      " 'axé' 'baile' 'balkan' 'beats' 'bigroom' 'black' 'bluegrass' 'blues'\n",
      " 'bollywood' 'bossa' 'brazilian' 'breakbeat' 'breaks' 'broadway'\n",
      " 'cantautori' 'cantopop' 'canzone' 'caribbean' 'caucasian' 'celtic'\n",
      " 'chamber' 'chanson' 'children' 'chill' 'chinese' 'choral' 'christian'\n",
      " 'christmas' 'classical' 'classicmetal' 'club' 'colombian' 'comedy'\n",
      " 'conjazz' 'contemporary' 'country' 'cuban' 'dance' 'dancehall' 'dancepop'\n",
      " 'dark' 'death' 'deep' 'deutschrock' 'deutschspr' 'dirty' 'disco' 'dnb'\n",
      " 'documentary' 'downbeat' 'downtempo' 'drum' 'dub' 'dubstep' 'eastern'\n",
      " 'easy' 'electronic' 'electropop' 'emo' 'entehno' 'epicmetal' 'estrada'\n",
      " 'ethnic' 'eurofolk' 'european' 'experimental' 'extrememetal' 'fado'\n",
      " 'fairytail' 'film' 'fitness' 'flamenco' 'folk' 'folklore' 'folkmetal'\n",
      " 'folkrock' 'folktronica' 'forró' 'frankreich' 'französisch' 'french'\n",
      " 'funk' 'future' 'gangsta' 'garage' 'german' 'ghazal' 'gitarre' 'glitch'\n",
      " 'gospel' 'gothic' 'grime' 'grunge' 'gypsy' 'handsup' \"hard'n'heavy\"\n",
      " 'hardcore' 'hardstyle' 'hardtechno' 'hip' 'hip-hop' 'hiphop' 'historisch'\n",
      " 'holiday' 'hop' 'horror' 'house' 'hymn' 'idm' 'independent' 'indian'\n",
      " 'indie' 'indipop' 'industrial' 'inspirational' 'instrumental'\n",
      " 'international' 'irish' 'jam' 'japanese' 'jazz' 'jewish' 'jpop' 'jungle'\n",
      " 'k-pop' 'karadeniz' 'karaoke' 'kayokyoku' 'korean' 'laiko' 'latin'\n",
      " 'latino' 'leftfield' 'local' 'lounge' 'loungeelectronic' 'lovers'\n",
      " 'malaysian' 'mandopop' 'marschmusik' 'meditative' 'mediterranean'\n",
      " 'melodic' 'metal' 'metalcore' 'mexican' 'middle' 'minimal'\n",
      " 'miscellaneous' 'modern' 'mood' 'mpb' 'muslim' 'native' 'neoklassik'\n",
      " 'neue' 'new' 'newage' 'newwave' 'nu' 'nujazz' 'numetal' 'oceania' 'old'\n",
      " 'opera' 'orchestral' 'other' 'piano' 'podcasts' 'pop' 'popdance'\n",
      " 'popelectronic' 'popeurodance' 'poprussian' 'post' 'posthardcore'\n",
      " 'postrock' 'power' 'progmetal' 'progressive' 'psychedelic' 'punjabi'\n",
      " 'punk' 'quebecois' 'ragga' 'ram' 'rancheras' 'rap' 'rave' 'reggae'\n",
      " 'reggaeton' 'regional' 'relax' 'religious' 'retro' 'rhythm' 'rnb' 'rnr'\n",
      " 'rock' 'rockabilly' 'rockalternative' 'rockindie' 'rockother' 'romance'\n",
      " 'roots' 'ruspop' 'rusrap' 'rusrock' 'russian' 'salsa' 'samba' 'scenic'\n",
      " 'schlager' 'self' 'sertanejo' 'shanson' 'shoegazing' 'showtunes' 'singer'\n",
      " 'ska' 'skarock' 'slow' 'smooth' 'soft' 'soul' 'soulful' 'sound'\n",
      " 'soundtrack' 'southern' 'specialty' 'speech' 'spiritual' 'sport'\n",
      " 'stonerrock' 'surf' 'swing' 'synthpop' 'synthrock' 'sängerportrait'\n",
      " 'tango' 'tanzorchester' 'taraftar' 'tatar' 'tech' 'techno' 'teen'\n",
      " 'thrash' 'top' 'traditional' 'tradjazz' 'trance' 'tribal' 'trip'\n",
      " 'triphop' 'tropical' 'türk' 'türkçe' 'ukrrock' 'unknown' 'urban' 'uzbek'\n",
      " 'variété' 'vi' 'videogame' 'vocal' 'western' 'world' 'worldbeat' 'ïîï'\n",
      " 'электроника']\n"
     ]
    }
   ],
   "source": [
    "sorted_unique_genres = df['genre'].sort_values().unique() \n",
    "print(sorted_unique_genres)"
   ]
  },
  {
   "cell_type": "markdown",
   "metadata": {
    "id": "qej-Qmuo_Zct"
   },
   "source": [
    "Найдены неявные дубликаты названия `hiphop`:\n",
    "* *hip*,\n",
    "* *hop*,\n",
    "* *hip-hop*.\n",
    "\n",
    "Очистим от них датасет при помощи функции `replace_wrong_genres()`: \n",
    "* `wrong_genres` — список дубликатов,\n",
    "* `correct_genre` — строка с правильным значением."
   ]
  },
  {
   "cell_type": "code",
   "execution_count": 12,
   "metadata": {
    "id": "ErNDkmns_Zct"
   },
   "outputs": [],
   "source": [
    " # фуекция, устраняющая неявные дубликаты\n",
    "def replace_wrong_genres(wrong_genres, correct_genre):\n",
    "    for wrong_genre in wrong_genres:\n",
    "        df['genre'] = df['genre'].replace(wrong_genre, correct_genre)\n",
    "        \n",
    "wrong_genres_values = ['hip', 'hop', 'hip-hop']\n",
    "correct_genre_value = 'hiphop'\n",
    "replace_wrong_genres (wrong_genres_values, correct_genre_value)"
   ]
  },
  {
   "cell_type": "markdown",
   "metadata": {
    "id": "zQKF16_RG15m"
   },
   "source": [
    "Проверим список уникальных значений столбца `genre`:"
   ]
  },
  {
   "cell_type": "code",
   "execution_count": 13,
   "metadata": {
    "id": "wvixALnFG15m"
   },
   "outputs": [
    {
     "data": {
      "text/plain": [
       "array(['acid', 'acoustic', 'action', 'adult', 'africa', 'afrikaans',\n",
       "       'alternative', 'alternativepunk', 'ambient', 'americana',\n",
       "       'animated', 'anime', 'arabesk', 'arabic', 'arena',\n",
       "       'argentinetango', 'art', 'audiobook', 'author', 'avantgarde',\n",
       "       'axé', 'baile', 'balkan', 'beats', 'bigroom', 'black', 'bluegrass',\n",
       "       'blues', 'bollywood', 'bossa', 'brazilian', 'breakbeat', 'breaks',\n",
       "       'broadway', 'cantautori', 'cantopop', 'canzone', 'caribbean',\n",
       "       'caucasian', 'celtic', 'chamber', 'chanson', 'children', 'chill',\n",
       "       'chinese', 'choral', 'christian', 'christmas', 'classical',\n",
       "       'classicmetal', 'club', 'colombian', 'comedy', 'conjazz',\n",
       "       'contemporary', 'country', 'cuban', 'dance', 'dancehall',\n",
       "       'dancepop', 'dark', 'death', 'deep', 'deutschrock', 'deutschspr',\n",
       "       'dirty', 'disco', 'dnb', 'documentary', 'downbeat', 'downtempo',\n",
       "       'drum', 'dub', 'dubstep', 'eastern', 'easy', 'electronic',\n",
       "       'electropop', 'emo', 'entehno', 'epicmetal', 'estrada', 'ethnic',\n",
       "       'eurofolk', 'european', 'experimental', 'extrememetal', 'fado',\n",
       "       'fairytail', 'film', 'fitness', 'flamenco', 'folk', 'folklore',\n",
       "       'folkmetal', 'folkrock', 'folktronica', 'forró', 'frankreich',\n",
       "       'französisch', 'french', 'funk', 'future', 'gangsta', 'garage',\n",
       "       'german', 'ghazal', 'gitarre', 'glitch', 'gospel', 'gothic',\n",
       "       'grime', 'grunge', 'gypsy', 'handsup', \"hard'n'heavy\", 'hardcore',\n",
       "       'hardstyle', 'hardtechno', 'hiphop', 'historisch', 'holiday',\n",
       "       'horror', 'house', 'hymn', 'idm', 'independent', 'indian', 'indie',\n",
       "       'indipop', 'industrial', 'inspirational', 'instrumental',\n",
       "       'international', 'irish', 'jam', 'japanese', 'jazz', 'jewish',\n",
       "       'jpop', 'jungle', 'k-pop', 'karadeniz', 'karaoke', 'kayokyoku',\n",
       "       'korean', 'laiko', 'latin', 'latino', 'leftfield', 'local',\n",
       "       'lounge', 'loungeelectronic', 'lovers', 'malaysian', 'mandopop',\n",
       "       'marschmusik', 'meditative', 'mediterranean', 'melodic', 'metal',\n",
       "       'metalcore', 'mexican', 'middle', 'minimal', 'miscellaneous',\n",
       "       'modern', 'mood', 'mpb', 'muslim', 'native', 'neoklassik', 'neue',\n",
       "       'new', 'newage', 'newwave', 'nu', 'nujazz', 'numetal', 'oceania',\n",
       "       'old', 'opera', 'orchestral', 'other', 'piano', 'podcasts', 'pop',\n",
       "       'popdance', 'popelectronic', 'popeurodance', 'poprussian', 'post',\n",
       "       'posthardcore', 'postrock', 'power', 'progmetal', 'progressive',\n",
       "       'psychedelic', 'punjabi', 'punk', 'quebecois', 'ragga', 'ram',\n",
       "       'rancheras', 'rap', 'rave', 'reggae', 'reggaeton', 'regional',\n",
       "       'relax', 'religious', 'retro', 'rhythm', 'rnb', 'rnr', 'rock',\n",
       "       'rockabilly', 'rockalternative', 'rockindie', 'rockother',\n",
       "       'romance', 'roots', 'ruspop', 'rusrap', 'rusrock', 'russian',\n",
       "       'salsa', 'samba', 'scenic', 'schlager', 'self', 'sertanejo',\n",
       "       'shanson', 'shoegazing', 'showtunes', 'singer', 'ska', 'skarock',\n",
       "       'slow', 'smooth', 'soft', 'soul', 'soulful', 'sound', 'soundtrack',\n",
       "       'southern', 'specialty', 'speech', 'spiritual', 'sport',\n",
       "       'stonerrock', 'surf', 'swing', 'synthpop', 'synthrock',\n",
       "       'sängerportrait', 'tango', 'tanzorchester', 'taraftar', 'tatar',\n",
       "       'tech', 'techno', 'teen', 'thrash', 'top', 'traditional',\n",
       "       'tradjazz', 'trance', 'tribal', 'trip', 'triphop', 'tropical',\n",
       "       'türk', 'türkçe', 'ukrrock', 'unknown', 'urban', 'uzbek',\n",
       "       'variété', 'vi', 'videogame', 'vocal', 'western', 'world',\n",
       "       'worldbeat', 'ïîï', 'электроника'], dtype=object)"
      ]
     },
     "metadata": {},
     "output_type": "display_data"
    }
   ],
   "source": [
    "display(df['genre'].sort_values().unique())"
   ]
  },
  {
   "cell_type": "markdown",
   "metadata": {
    "id": "jz6a9-7HQUDd"
   },
   "source": [
    "**Выводы:**\n",
    "\n",
    "Предобработка обнаружила три проблемы в данных:\n",
    "\n",
    "- нарушения в стиле заголовков,\n",
    "- пропущенные значения,\n",
    "- дубликаты — явные и неявные.\n",
    "\n",
    "Мы исправили заголовки, чтобы упростить работу с таблицей и заменили пропущенные значения на `'unknown'`. \n",
    "\n",
    "Данные готовы для проверки гипотез. "
   ]
  },
  {
   "cell_type": "markdown",
   "metadata": {
    "id": "WttZHXH0SqKk"
   },
   "source": [
    "## Проверка гипотез"
   ]
  },
  {
   "cell_type": "markdown",
   "metadata": {
    "id": "Im936VVi_Zcu"
   },
   "source": [
    "### Сравнение поведения пользователей двух столиц"
   ]
  },
  {
   "cell_type": "markdown",
   "metadata": {
    "id": "nwt_MuaL_Zcu"
   },
   "source": [
    "Первая гипотеза утверждает, что пользователи по-разному слушают музыку в Москве и Санкт-Петербурге. Проверим это предположение по данным о трёх днях недели — понедельнике, среде и пятнице. Для этого разделим пользователей Москвы и Санкт-Петербурга и сравним, сколько треков послушала каждая группа пользователей в понедельник, среду и пятницу."
   ]
  },
  {
   "cell_type": "markdown",
   "metadata": {
    "id": "8Dw_YMmT_Zcu"
   },
   "source": [
    "Сначала оценим активность пользователей в каждом городе. Сгруппируем данные по городу и посчитааем прослушивания в каждой группе:"
   ]
  },
  {
   "cell_type": "code",
   "execution_count": 14,
   "metadata": {
    "id": "0_Qs96oh_Zcu"
   },
   "outputs": [],
   "source": [
    "city_number= df.groupby('city')['track'].count()"
   ]
  },
  {
   "cell_type": "markdown",
   "metadata": {
    "id": "dzli3w8o_Zcu"
   },
   "source": [
    "В Москве прослушиваний больше, чем в Петербурге. Из этого не следует, что московские пользователи чаще слушают музыку. Просто самих пользователей в Москве больше.\n",
    "\n",
    "Теперь сгруппируем данные по дню недели и подсчитаем прослушивания в понедельник, среду и пятницу:"
   ]
  },
  {
   "cell_type": "code",
   "execution_count": 15,
   "metadata": {
    "id": "uZMKjiJz_Zcu"
   },
   "outputs": [],
   "source": [
    "monday_number = df.groupby('day')['track'].count()"
   ]
  },
  {
   "cell_type": "markdown",
   "metadata": {
    "id": "cC2tNrlL_Zcu"
   },
   "source": [
    "В среднем пользователи из двух городов менее активны по средам. Но картина может измениться, если рассмотреть каждый город в отдельности."
   ]
  },
  {
   "cell_type": "markdown",
   "metadata": {
    "id": "POzs8bGa_Zcu"
   },
   "source": [
    "Создадим функцию `number_tracks()`, которая считает прослушивания для заданного дня и города:"
   ]
  },
  {
   "cell_type": "code",
   "execution_count": 16,
   "metadata": {
    "id": "Nz3GdQB1_Zcu"
   },
   "outputs": [],
   "source": [
    "def number_tracks(day, city):\n",
    "    track_list = df[df['day'] == day] \n",
    "    track_list = track_list[track_list['city'] == city] \n",
    "    track_list_count = track_list['user_id'].count()\n",
    "    return track_list_count"
   ]
  },
  {
   "cell_type": "markdown",
   "metadata": {
    "id": "ytf7xFrFJQ2r"
   },
   "source": [
    "При помощи `number_tracks()` получим данные для каждого города в каждый из трёх дней:"
   ]
  },
  {
   "cell_type": "code",
   "execution_count": 17,
   "metadata": {
    "id": "rJcRATNQ_Zcu"
   },
   "outputs": [],
   "source": [
    "moscow_mon_number = number_tracks('Monday', 'Moscow') # количество прослушиваний в Москве по понедельникам\n",
    "spb_mon_number = number_tracks('Monday', 'Saint-Petersburg') # количество прослушиваний в Санкт-Петербурге по понедельникам\n",
    "moscow_wed_number = number_tracks('Wednesday', 'Moscow') # количество прослушиваний в Москве по средам\n",
    "spb_wed_number = number_tracks('Wednesday', 'Saint-Petersburg') # количество прослушиваний в Санкт-Петербурге по средам\n",
    "moscow_fri_number = number_tracks('Friday', 'Moscow') # количество прослушиваний в Москве по пятницам\n",
    "spb_fri_number = number_tracks('Friday', 'Saint-Petersburg') # количество прослушиваний в Санкт-Петербурге по пятницам"
   ]
  },
  {
   "cell_type": "markdown",
   "metadata": {
    "id": "7QXffbO-_Zcu"
   },
   "source": [
    "Создадим таблицу, где:\n",
    "* названия колонок — `['city', 'monday', 'wednesday', 'friday']`;\n",
    "* данные — результаты, которые вы получили с помощью `number_tracks`."
   ]
  },
  {
   "cell_type": "code",
   "execution_count": 18,
   "metadata": {
    "id": "APAcLpOr_Zcu"
   },
   "outputs": [
    {
     "data": {
      "text/html": [
       "<div>\n",
       "<style scoped>\n",
       "    .dataframe tbody tr th:only-of-type {\n",
       "        vertical-align: middle;\n",
       "    }\n",
       "\n",
       "    .dataframe tbody tr th {\n",
       "        vertical-align: top;\n",
       "    }\n",
       "\n",
       "    .dataframe thead th {\n",
       "        text-align: right;\n",
       "    }\n",
       "</style>\n",
       "<table border=\"1\" class=\"dataframe\">\n",
       "  <thead>\n",
       "    <tr style=\"text-align: right;\">\n",
       "      <th></th>\n",
       "      <th>city</th>\n",
       "      <th>monday</th>\n",
       "      <th>wednesday</th>\n",
       "      <th>friday</th>\n",
       "    </tr>\n",
       "  </thead>\n",
       "  <tbody>\n",
       "    <tr>\n",
       "      <th>0</th>\n",
       "      <td>Moscow</td>\n",
       "      <td>15740</td>\n",
       "      <td>11056</td>\n",
       "      <td>15945</td>\n",
       "    </tr>\n",
       "    <tr>\n",
       "      <th>1</th>\n",
       "      <td>Saint-Petersburg</td>\n",
       "      <td>5614</td>\n",
       "      <td>7003</td>\n",
       "      <td>5895</td>\n",
       "    </tr>\n",
       "  </tbody>\n",
       "</table>\n",
       "</div>"
      ],
      "text/plain": [
       "               city  monday  wednesday  friday\n",
       "0            Moscow   15740      11056   15945\n",
       "1  Saint-Petersburg    5614       7003    5895"
      ]
     },
     "metadata": {},
     "output_type": "display_data"
    }
   ],
   "source": [
    "data = [['Moscow', moscow_mon_number, moscow_wed_number, moscow_fri_number],\n",
    "       ['Saint-Petersburg', spb_mon_number, spb_wed_number, spb_fri_number]]\n",
    "columns = ['city', 'monday', 'wednesday', 'friday']\n",
    "research_result = pd.DataFrame(data=data, columns=columns)\n",
    "display(research_result)"
   ]
  },
  {
   "cell_type": "markdown",
   "metadata": {
    "id": "-EgPIHYu_Zcu"
   },
   "source": [
    "**Выводы**\n",
    "\n",
    "Данные показывают разницу поведения пользователей:\n",
    "\n",
    "- В Москве пик прослушиваний приходится на понедельник и пятницу, а в среду заметен спад.\n",
    "- В Петербурге, наоборот, больше слушают музыку по средам. Активность в понедельник и пятницу здесь почти в равной мере уступает среде.\n",
    "\n",
    "Значит, данные говорят в пользу первой гипотезы."
   ]
  },
  {
   "cell_type": "markdown",
   "metadata": {
    "id": "atZAxtq4_Zcu"
   },
   "source": [
    "### Музыка в начале и в конце недели"
   ]
  },
  {
   "cell_type": "markdown",
   "metadata": {
    "id": "eXrQqXFH_Zcu"
   },
   "source": [
    "Согласно второй гипотезе, утром в понедельник в Москве преобладают одни жанры, а в Петербурге — другие. Так же и вечером пятницы преобладают разные жанры — в зависимости от города."
   ]
  },
  {
   "cell_type": "markdown",
   "metadata": {
    "id": "S8UcW6Hw_Zcu"
   },
   "source": [
    "Сохраниv таблицы с данными в две переменные:\n",
    "* по Москве — в `moscow_general`;\n",
    "* по Санкт-Петербургу — в `spb_general`."
   ]
  },
  {
   "cell_type": "code",
   "execution_count": 19,
   "metadata": {
    "id": "qeaFfM_P_Zcu"
   },
   "outputs": [],
   "source": [
    "moscow_general = df[df['city'] == 'Moscow']\n",
    "spb_general = df[df['city'] == 'Saint-Petersburg']"
   ]
  },
  {
   "cell_type": "markdown",
   "metadata": {
    "id": "MEJV-CX2_Zcu"
   },
   "source": [
    "Создадим функцию `genre_weekday()` с четырьмя параметрами:\n",
    "* таблица (датафрейм) с данными,\n",
    "* день недели,\n",
    "* начальная временная метка в формате 'hh:mm', \n",
    "* последняя временная метка в формате 'hh:mm'.\n",
    "\n",
    ", которая возвращает информацию о топ-10 жанров тех треков, которые прослушивали в указанный день, в промежутке между двумя отметками времени:"
   ]
  },
  {
   "cell_type": "code",
   "execution_count": 20,
   "metadata": {
    "id": "laJT9BYl_Zcu"
   },
   "outputs": [],
   "source": [
    "def genre_weekday(table, day, time1, time2):\n",
    "    genre_df = table[table['day'] == day]\n",
    "    genre_df = genre_df[genre_df['time'] > time1]\n",
    "    genre_df = genre_df[genre_df['time'] < time2]\n",
    "\n",
    "    genre_df_count = genre_df.groupby('genre')['track'].count()\n",
    "    genre_df_sorted = genre_df_count.sort_values(ascending=False)\n",
    "    return genre_df_sorted[:10]"
   ]
  },
  {
   "cell_type": "markdown",
   "metadata": {
    "id": "la2s2_PF_Zcu"
   },
   "source": [
    "Cравним результаты для Москвы и Санкт-Петербурга в понедельник утром (с 7:00 до 11:00) и в пятницу вечером (с 17:00 до 23:00):"
   ]
  },
  {
   "cell_type": "code",
   "execution_count": 21,
   "metadata": {
    "id": "yz7itPUQ_Zcu"
   },
   "outputs": [
    {
     "data": {
      "text/plain": [
       "genre\n",
       "pop            781\n",
       "dance          549\n",
       "electronic     480\n",
       "rock           474\n",
       "hiphop         286\n",
       "ruspop         186\n",
       "world          181\n",
       "rusrap         175\n",
       "alternative    164\n",
       "unknown        161\n",
       "Name: track, dtype: int64"
      ]
     },
     "metadata": {},
     "output_type": "display_data"
    }
   ],
   "source": [
    "display(genre_weekday(moscow_general, 'Monday', '07:00', '11:00')) # для утра понедельника в Москве"
   ]
  },
  {
   "cell_type": "code",
   "execution_count": 22,
   "metadata": {
    "id": "kwUcHPdy_Zcu"
   },
   "outputs": [
    {
     "data": {
      "text/plain": [
       "genre\n",
       "pop            218\n",
       "dance          182\n",
       "rock           162\n",
       "electronic     147\n",
       "hiphop          80\n",
       "ruspop          64\n",
       "alternative     58\n",
       "rusrap          55\n",
       "jazz            44\n",
       "classical       40\n",
       "Name: track, dtype: int64"
      ]
     },
     "metadata": {},
     "output_type": "display_data"
    }
   ],
   "source": [
    "display(genre_weekday(spb_general, 'Monday', '07:00', '11:00'))# для утра понедельника в Петербурге "
   ]
  },
  {
   "cell_type": "code",
   "execution_count": 23,
   "metadata": {
    "id": "EzXVRE1o_Zcu"
   },
   "outputs": [
    {
     "data": {
      "text/plain": [
       "genre\n",
       "pop            713\n",
       "rock           517\n",
       "dance          495\n",
       "electronic     482\n",
       "hiphop         273\n",
       "world          208\n",
       "ruspop         170\n",
       "alternative    163\n",
       "classical      163\n",
       "rusrap         142\n",
       "Name: track, dtype: int64"
      ]
     },
     "metadata": {},
     "output_type": "display_data"
    }
   ],
   "source": [
    "display(genre_weekday(moscow_general, 'Friday', '17:00', '23:00')) # для вечера пятницы в Москве"
   ]
  },
  {
   "cell_type": "code",
   "execution_count": 24,
   "metadata": {
    "id": "JZaEKu5v_Zcu"
   },
   "outputs": [
    {
     "data": {
      "text/plain": [
       "genre\n",
       "pop            256\n",
       "electronic     216\n",
       "rock           216\n",
       "dance          210\n",
       "hiphop          97\n",
       "alternative     63\n",
       "jazz            61\n",
       "classical       60\n",
       "rusrap          59\n",
       "world           54\n",
       "Name: track, dtype: int64"
      ]
     },
     "metadata": {},
     "output_type": "display_data"
    }
   ],
   "source": [
    "display(genre_weekday(spb_general, 'Friday', '17:00', '23:00')) # для вечера пятницы в Петербурге"
   ]
  },
  {
   "cell_type": "markdown",
   "metadata": {
    "id": "wrCe4MNX_Zcu"
   },
   "source": [
    "**Выводы**\n",
    "\n",
    "Если сравнить ТОП-10 жанров в понедельник утром, можно сделать такие выводы:\n",
    "\n",
    "1. В Москве и Петербурге слушают похожую музыку. Единственное отличие — в московский рейтинг вошёл жанр “world”, а в петербургский — джаз и классика.\n",
    "\n",
    "2. В Москве пропущенных значений оказалось так много, что значение `'unknown'` заняло десятое место среди самых популярных жанров. Значит, пропущенные значения занимают существенную долю в данных и угрожают достоверности исследования.\n",
    "\n",
    "Вечер пятницы не меняет эту картину. Некоторые жанры поднимаются немного выше, другие спускаются, но в целом топ-10 остаётся тем же самым.\n",
    "\n",
    "Таким образом, вторая гипотеза подтвердилась лишь частично:\n",
    "* Пользователи слушают похожую музыку в начале недели и в конце.\n",
    "* Разница между Москвой и Петербургом не слишком выражена. В Москве чаще слушают русскую популярную музыку, в Петербурге — джаз.\n",
    "\n",
    "Однако пропуски в данных ставят под сомнение этот результат. В Москве их так много, что рейтинг топ-10 мог бы выглядеть иначе, если бы не утерянные  данные о жанрах."
   ]
  },
  {
   "cell_type": "markdown",
   "metadata": {
    "id": "JolODAqr_Zcu"
   },
   "source": [
    "### Жанровые предпочтения в Москве и Петербурге\n",
    "\n",
    "Гипотеза: Петербург — столица рэпа, музыку этого жанра там слушают чаще, чем в Москве.  А Москва — город контрастов, в котором, тем не менее, преобладает поп-музыка."
   ]
  },
  {
   "cell_type": "markdown",
   "metadata": {
    "id": "DlegSvaT_Zcu"
   },
   "source": [
    "Определим ТОП-10 жанров в Москве. Для этого сгруппируем таблицу `moscow_general` по жанру, посчитайте прослушивания треков каждого жанра и сохраним результат в `moscow_genres`:"
   ]
  },
  {
   "cell_type": "code",
   "execution_count": 25,
   "metadata": {
    "id": "r19lIPke_Zcu"
   },
   "outputs": [
    {
     "data": {
      "text/plain": [
       "genre\n",
       "pop            5892\n",
       "dance          4435\n",
       "rock           3965\n",
       "electronic     3786\n",
       "hiphop         2096\n",
       "classical      1616\n",
       "world          1432\n",
       "alternative    1379\n",
       "ruspop         1372\n",
       "rusrap         1161\n",
       "Name: genre, dtype: int64"
      ]
     },
     "execution_count": 25,
     "metadata": {},
     "output_type": "execute_result"
    }
   ],
   "source": [
    "moscow_genres = moscow_general.groupby('genre')['genre'].count().sort_values(ascending=False)\n",
    "moscow_genres.head(10)"
   ]
  },
  {
   "cell_type": "markdown",
   "metadata": {
    "id": "cnPG2vnN_Zcv"
   },
   "source": [
    "Теперь найдем ТОП-10 жанров для Петербурга:"
   ]
  },
  {
   "cell_type": "code",
   "execution_count": 26,
   "metadata": {
    "id": "gluLIpE7_Zcv"
   },
   "outputs": [
    {
     "data": {
      "text/plain": [
       "genre\n",
       "pop            2431\n",
       "dance          1932\n",
       "rock           1879\n",
       "electronic     1736\n",
       "hiphop          960\n",
       "alternative     649\n",
       "classical       646\n",
       "rusrap          564\n",
       "ruspop          538\n",
       "world           515\n",
       "Name: genre, dtype: int64"
      ]
     },
     "execution_count": 26,
     "metadata": {},
     "output_type": "execute_result"
    }
   ],
   "source": [
    "spb_genres = spb_general.groupby('genre')['genre'].count().sort_values(ascending=False)\n",
    "spb_genres.head(10)"
   ]
  },
  {
   "cell_type": "markdown",
   "metadata": {
    "id": "RY51YJYu_Zcv"
   },
   "source": [
    "**Выводы**"
   ]
  },
  {
   "cell_type": "markdown",
   "metadata": {
    "id": "nVhnJEm__Zcv"
   },
   "source": [
    "Гипотеза частично подтвердилась:\n",
    "* Поп-музыка — самый популярный жанр в Москве, как и предполагала гипотеза. Более того, в топ-10 жанров встречается близкий жанр — русская популярная музыка.\n",
    "* Вопреки ожиданиям, рэп одинаково популярен в Москве и Петербурге. \n"
   ]
  },
  {
   "cell_type": "markdown",
   "metadata": {
    "id": "ykKQ0N65_Zcv"
   },
   "source": [
    "## Итоги исследования"
   ]
  },
  {
   "cell_type": "markdown",
   "metadata": {
    "id": "tjUwbHb3_Zcv"
   },
   "source": [
    "Мы проверили три гипотезы и установили:\n",
    "\n",
    "1. День недели по-разному влияет на активность пользователей в Москве и Петербурге. \n",
    "\n",
    "Первая гипотеза полностью подтвердилась.\n",
    "\n",
    "2. Музыкальные предпочтения не сильно меняются в течение недели — будь то Москва или Петербург. Небольшие различия заметны в начале недели, по понедельникам:\n",
    "* в Москве слушают музыку жанра “world”,\n",
    "* в Петербурге — джаз и классику.\n",
    "\n",
    "Таким образом, вторая гипотеза подтвердилась лишь отчасти. Этот результат мог оказаться иным, если бы не пропуски в данных.\n",
    "\n",
    "3. Во вкусах пользователей Москвы и Петербурга больше общего чем различий. Вопреки ожиданиям, предпочтения жанров в Петербурге напоминают московские.\n",
    "\n",
    "Третья гипотеза не подтвердилась. Если различия в предпочтениях и существуют, на основной массе пользователей они незаметны."
   ]
  },
  {
   "cell_type": "markdown",
   "metadata": {},
   "source": [
    "# "
   ]
  }
 ],
 "metadata": {
  "ExecuteTimeLog": [
   {
    "duration": 364,
    "start_time": "2022-04-08T12:02:56.156Z"
   },
   {
    "duration": 63,
    "start_time": "2022-04-08T12:03:41.919Z"
   },
   {
    "duration": 6,
    "start_time": "2022-04-08T12:07:42.521Z"
   },
   {
    "duration": 7,
    "start_time": "2022-04-08T12:07:44.815Z"
   },
   {
    "duration": 7,
    "start_time": "2022-04-08T12:08:00.605Z"
   },
   {
    "duration": 7,
    "start_time": "2022-04-08T12:08:02.057Z"
   },
   {
    "duration": 137,
    "start_time": "2022-04-08T12:08:19.239Z"
   },
   {
    "duration": 98,
    "start_time": "2022-04-08T12:11:39.615Z"
   },
   {
    "duration": 7,
    "start_time": "2022-04-08T12:11:59.518Z"
   },
   {
    "duration": 145,
    "start_time": "2022-04-08T12:12:57.198Z"
   },
   {
    "duration": 159,
    "start_time": "2022-04-08T12:13:03.077Z"
   },
   {
    "duration": 16,
    "start_time": "2022-04-08T12:13:06.458Z"
   },
   {
    "duration": 11,
    "start_time": "2022-04-08T12:25:33.734Z"
   },
   {
    "duration": 31,
    "start_time": "2022-04-08T12:28:24.187Z"
   },
   {
    "duration": 7,
    "start_time": "2022-04-08T12:39:33.993Z"
   },
   {
    "duration": 4,
    "start_time": "2022-04-08T12:40:52.988Z"
   },
   {
    "duration": 3,
    "start_time": "2022-04-08T12:41:06.653Z"
   },
   {
    "duration": 17,
    "start_time": "2022-04-08T12:46:41.388Z"
   },
   {
    "duration": 3,
    "start_time": "2022-04-08T12:46:59.342Z"
   },
   {
    "duration": 9,
    "start_time": "2022-04-08T12:47:27.494Z"
   },
   {
    "duration": 4,
    "start_time": "2022-04-08T12:47:31.475Z"
   },
   {
    "duration": 27,
    "start_time": "2022-04-08T12:49:27.242Z"
   },
   {
    "duration": 106,
    "start_time": "2022-04-08T12:56:31.175Z"
   },
   {
    "duration": 17,
    "start_time": "2022-04-08T13:14:45.075Z"
   },
   {
    "duration": 3,
    "start_time": "2022-04-08T13:16:40.154Z"
   },
   {
    "duration": 7,
    "start_time": "2022-04-08T13:17:06.845Z"
   },
   {
    "duration": 9,
    "start_time": "2022-04-08T13:17:55.368Z"
   },
   {
    "duration": 9,
    "start_time": "2022-04-08T13:18:35.740Z"
   },
   {
    "duration": 8,
    "start_time": "2022-04-08T13:18:55.004Z"
   },
   {
    "duration": 10,
    "start_time": "2022-04-08T13:21:12.036Z"
   },
   {
    "duration": 4,
    "start_time": "2022-04-08T13:22:12.453Z"
   },
   {
    "duration": 8,
    "start_time": "2022-04-08T13:22:31.032Z"
   },
   {
    "duration": 10,
    "start_time": "2022-04-08T13:23:49.511Z"
   },
   {
    "duration": 11,
    "start_time": "2022-04-08T13:24:29.278Z"
   },
   {
    "duration": 10,
    "start_time": "2022-04-08T13:24:35.537Z"
   },
   {
    "duration": 8,
    "start_time": "2022-04-08T13:24:53.320Z"
   },
   {
    "duration": 7,
    "start_time": "2022-04-08T13:25:11.391Z"
   },
   {
    "duration": 7,
    "start_time": "2022-04-08T13:25:25.465Z"
   },
   {
    "duration": 14,
    "start_time": "2022-04-08T13:26:08.400Z"
   },
   {
    "duration": 14,
    "start_time": "2022-04-08T13:27:48.714Z"
   },
   {
    "duration": 9,
    "start_time": "2022-04-08T13:28:50.142Z"
   },
   {
    "duration": 191,
    "start_time": "2022-04-08T13:30:43.391Z"
   },
   {
    "duration": 9,
    "start_time": "2022-04-08T13:31:41.747Z"
   },
   {
    "duration": 9,
    "start_time": "2022-04-08T13:32:53.571Z"
   },
   {
    "duration": 7,
    "start_time": "2022-04-08T13:33:19.230Z"
   },
   {
    "duration": 8,
    "start_time": "2022-04-08T13:34:11.312Z"
   },
   {
    "duration": 8,
    "start_time": "2022-04-08T13:34:28.082Z"
   },
   {
    "duration": 8,
    "start_time": "2022-04-08T13:34:40.344Z"
   },
   {
    "duration": 136,
    "start_time": "2022-04-08T13:34:59.237Z"
   },
   {
    "duration": 11,
    "start_time": "2022-04-08T13:35:02.250Z"
   },
   {
    "duration": 29,
    "start_time": "2022-04-08T13:35:06.738Z"
   },
   {
    "duration": 4,
    "start_time": "2022-04-08T13:35:11.657Z"
   },
   {
    "duration": 6,
    "start_time": "2022-04-08T13:35:19.319Z"
   },
   {
    "duration": 3,
    "start_time": "2022-04-08T13:35:24.147Z"
   },
   {
    "duration": 42,
    "start_time": "2022-04-08T13:35:28.544Z"
   },
   {
    "duration": 20,
    "start_time": "2022-04-08T13:35:59.389Z"
   },
   {
    "duration": 25,
    "start_time": "2022-04-08T13:36:06.225Z"
   },
   {
    "duration": 96,
    "start_time": "2022-04-08T13:37:49.319Z"
   },
   {
    "duration": 73,
    "start_time": "2022-04-08T13:39:33.274Z"
   },
   {
    "duration": 56,
    "start_time": "2022-04-08T13:39:46.519Z"
   },
   {
    "duration": 43,
    "start_time": "2022-04-08T13:52:34.819Z"
   },
   {
    "duration": 39,
    "start_time": "2022-04-08T13:53:34.491Z"
   },
   {
    "duration": 43,
    "start_time": "2022-04-08T13:53:59.670Z"
   },
   {
    "duration": 44,
    "start_time": "2022-04-08T13:54:07.429Z"
   },
   {
    "duration": 40,
    "start_time": "2022-04-08T13:54:16.785Z"
   },
   {
    "duration": 38,
    "start_time": "2022-04-08T13:54:45.074Z"
   },
   {
    "duration": 40,
    "start_time": "2022-04-08T13:55:02.023Z"
   },
   {
    "duration": 3,
    "start_time": "2022-04-08T14:06:50.850Z"
   },
   {
    "duration": 171,
    "start_time": "2022-04-08T14:10:00.787Z"
   },
   {
    "duration": 10,
    "start_time": "2022-04-08T14:10:43.436Z"
   },
   {
    "duration": 3,
    "start_time": "2022-04-08T14:11:33.558Z"
   },
   {
    "duration": 12,
    "start_time": "2022-04-08T14:11:36.506Z"
   },
   {
    "duration": 3,
    "start_time": "2022-04-08T14:13:02.103Z"
   },
   {
    "duration": 9,
    "start_time": "2022-04-08T14:13:09.295Z"
   },
   {
    "duration": 3,
    "start_time": "2022-04-08T14:18:57.162Z"
   },
   {
    "duration": 11,
    "start_time": "2022-04-08T14:19:43.648Z"
   },
   {
    "duration": 9,
    "start_time": "2022-04-08T14:20:35.336Z"
   },
   {
    "duration": 8,
    "start_time": "2022-04-08T14:20:48.329Z"
   },
   {
    "duration": 6,
    "start_time": "2022-04-08T14:22:29.659Z"
   },
   {
    "duration": 5,
    "start_time": "2022-04-08T14:22:45.220Z"
   },
   {
    "duration": 5,
    "start_time": "2022-04-08T14:22:51.340Z"
   },
   {
    "duration": 40,
    "start_time": "2022-04-08T14:23:04.279Z"
   },
   {
    "duration": 56,
    "start_time": "2022-04-09T19:25:07.888Z"
   },
   {
    "duration": 441,
    "start_time": "2022-04-09T19:26:38.829Z"
   },
   {
    "duration": 166,
    "start_time": "2022-04-09T19:26:39.272Z"
   },
   {
    "duration": 19,
    "start_time": "2022-04-09T19:26:39.440Z"
   },
   {
    "duration": 32,
    "start_time": "2022-04-09T19:26:39.461Z"
   },
   {
    "duration": 4,
    "start_time": "2022-04-09T19:26:39.494Z"
   },
   {
    "duration": 17,
    "start_time": "2022-04-09T19:26:39.499Z"
   },
   {
    "duration": 25,
    "start_time": "2022-04-09T19:26:39.517Z"
   },
   {
    "duration": 40,
    "start_time": "2022-04-09T19:26:39.544Z"
   },
   {
    "duration": 30,
    "start_time": "2022-04-09T19:26:39.586Z"
   },
   {
    "duration": 28,
    "start_time": "2022-04-09T19:26:39.619Z"
   },
   {
    "duration": 78,
    "start_time": "2022-04-09T19:26:39.649Z"
   },
   {
    "duration": 84,
    "start_time": "2022-04-09T19:26:39.738Z"
   },
   {
    "duration": 77,
    "start_time": "2022-04-09T19:26:39.824Z"
   },
   {
    "duration": 60,
    "start_time": "2022-04-09T19:26:39.903Z"
   },
   {
    "duration": 3,
    "start_time": "2022-04-09T19:26:39.966Z"
   },
   {
    "duration": 16,
    "start_time": "2022-04-09T19:26:39.971Z"
   },
   {
    "duration": 16,
    "start_time": "2022-04-09T19:26:52.430Z"
   },
   {
    "duration": 38,
    "start_time": "2022-04-09T19:37:17.129Z"
   },
   {
    "duration": 16,
    "start_time": "2022-04-09T19:38:08.675Z"
   },
   {
    "duration": 37,
    "start_time": "2022-04-09T19:41:34.002Z"
   },
   {
    "duration": 15,
    "start_time": "2022-04-09T19:43:29.240Z"
   },
   {
    "duration": 13,
    "start_time": "2022-04-09T19:44:12.410Z"
   },
   {
    "duration": 14,
    "start_time": "2022-04-09T19:44:19.305Z"
   },
   {
    "duration": 15,
    "start_time": "2022-04-09T19:45:03.985Z"
   },
   {
    "duration": 12,
    "start_time": "2022-04-09T19:46:42.770Z"
   },
   {
    "duration": 14,
    "start_time": "2022-04-09T19:47:04.023Z"
   },
   {
    "duration": 14,
    "start_time": "2022-04-09T19:48:02.115Z"
   },
   {
    "duration": 13,
    "start_time": "2022-04-09T19:50:22.003Z"
   },
   {
    "duration": 25,
    "start_time": "2022-04-09T19:51:00.428Z"
   },
   {
    "duration": 12,
    "start_time": "2022-04-09T19:51:52.366Z"
   },
   {
    "duration": 13,
    "start_time": "2022-04-09T19:52:08.958Z"
   },
   {
    "duration": 106,
    "start_time": "2022-04-09T20:03:47.343Z"
   },
   {
    "duration": 13,
    "start_time": "2022-04-09T20:07:32.532Z"
   },
   {
    "duration": 100,
    "start_time": "2022-04-09T20:10:24.280Z"
   },
   {
    "duration": 4,
    "start_time": "2022-04-09T20:10:40.022Z"
   },
   {
    "duration": 4,
    "start_time": "2022-04-09T20:13:18.831Z"
   },
   {
    "duration": 3,
    "start_time": "2022-04-09T20:13:38.900Z"
   },
   {
    "duration": 25,
    "start_time": "2022-04-09T20:17:39.885Z"
   },
   {
    "duration": 20,
    "start_time": "2022-04-09T20:26:12.862Z"
   },
   {
    "duration": 23,
    "start_time": "2022-04-09T20:26:15.514Z"
   },
   {
    "duration": 20,
    "start_time": "2022-04-09T20:26:18.210Z"
   },
   {
    "duration": 23,
    "start_time": "2022-04-09T20:26:20.618Z"
   },
   {
    "duration": 19,
    "start_time": "2022-04-09T20:26:23.172Z"
   },
   {
    "duration": 10,
    "start_time": "2022-04-09T20:43:48.379Z"
   },
   {
    "duration": 24,
    "start_time": "2022-04-09T20:43:57.304Z"
   },
   {
    "duration": 22,
    "start_time": "2022-04-09T20:43:59.095Z"
   },
   {
    "duration": 26,
    "start_time": "2022-04-09T20:44:11.148Z"
   },
   {
    "duration": 22,
    "start_time": "2022-04-09T20:44:13.228Z"
   },
   {
    "duration": 26,
    "start_time": "2022-04-09T20:44:15.140Z"
   },
   {
    "duration": 21,
    "start_time": "2022-04-09T20:44:16.933Z"
   },
   {
    "duration": 10,
    "start_time": "2022-04-09T20:44:21.439Z"
   },
   {
    "duration": 7,
    "start_time": "2022-04-09T20:44:32.844Z"
   },
   {
    "duration": 4,
    "start_time": "2022-04-09T20:44:50.960Z"
   },
   {
    "duration": 5,
    "start_time": "2022-04-09T20:44:54.943Z"
   },
   {
    "duration": 5,
    "start_time": "2022-04-09T20:44:58.121Z"
   },
   {
    "duration": 10,
    "start_time": "2022-04-09T20:45:29.430Z"
   },
   {
    "duration": 5,
    "start_time": "2022-04-09T20:45:59.865Z"
   },
   {
    "duration": 25,
    "start_time": "2022-04-09T20:46:03.696Z"
   },
   {
    "duration": 21,
    "start_time": "2022-04-09T20:46:05.715Z"
   },
   {
    "duration": 22,
    "start_time": "2022-04-09T20:46:08.631Z"
   },
   {
    "duration": 20,
    "start_time": "2022-04-09T20:46:11.343Z"
   },
   {
    "duration": 25,
    "start_time": "2022-04-09T20:46:14.407Z"
   },
   {
    "duration": 21,
    "start_time": "2022-04-09T20:46:16.967Z"
   },
   {
    "duration": 9,
    "start_time": "2022-04-09T20:46:29.115Z"
   },
   {
    "duration": 4,
    "start_time": "2022-04-09T20:49:09.101Z"
   },
   {
    "duration": 36,
    "start_time": "2022-04-09T20:49:13.071Z"
   },
   {
    "duration": 5,
    "start_time": "2022-04-09T20:50:06.706Z"
   },
   {
    "duration": 26,
    "start_time": "2022-04-09T20:50:10.276Z"
   },
   {
    "duration": 25,
    "start_time": "2022-04-09T20:50:12.706Z"
   },
   {
    "duration": 5,
    "start_time": "2022-04-09T20:50:33.549Z"
   },
   {
    "duration": 30,
    "start_time": "2022-04-09T20:50:35.901Z"
   },
   {
    "duration": 4,
    "start_time": "2022-04-09T20:50:58.920Z"
   },
   {
    "duration": 37,
    "start_time": "2022-04-09T20:51:06.052Z"
   },
   {
    "duration": 5,
    "start_time": "2022-04-09T20:52:22.016Z"
   },
   {
    "duration": 35,
    "start_time": "2022-04-09T20:52:25.260Z"
   },
   {
    "duration": 31,
    "start_time": "2022-04-09T20:52:39.416Z"
   },
   {
    "duration": 35,
    "start_time": "2022-04-09T20:53:15.347Z"
   },
   {
    "duration": 4,
    "start_time": "2022-04-09T20:53:44.452Z"
   },
   {
    "duration": 27,
    "start_time": "2022-04-09T20:53:49.516Z"
   },
   {
    "duration": 25,
    "start_time": "2022-04-09T20:53:55.613Z"
   },
   {
    "duration": 3,
    "start_time": "2022-04-09T20:54:10.427Z"
   },
   {
    "duration": 17,
    "start_time": "2022-04-09T20:54:13.851Z"
   },
   {
    "duration": 15,
    "start_time": "2022-04-09T20:54:15.969Z"
   },
   {
    "duration": 15,
    "start_time": "2022-04-09T20:54:18.475Z"
   },
   {
    "duration": 15,
    "start_time": "2022-04-09T20:54:20.782Z"
   },
   {
    "duration": 18,
    "start_time": "2022-04-09T20:54:23.203Z"
   },
   {
    "duration": 15,
    "start_time": "2022-04-09T20:54:25.259Z"
   },
   {
    "duration": 9,
    "start_time": "2022-04-09T20:54:28.453Z"
   },
   {
    "duration": 12,
    "start_time": "2022-04-09T20:54:57.964Z"
   },
   {
    "duration": 12,
    "start_time": "2022-04-09T21:07:33.082Z"
   },
   {
    "duration": 23,
    "start_time": "2022-04-09T21:07:47.443Z"
   },
   {
    "duration": 14,
    "start_time": "2022-04-09T21:07:52.010Z"
   },
   {
    "duration": 10,
    "start_time": "2022-04-09T21:08:14.234Z"
   },
   {
    "duration": 4,
    "start_time": "2022-04-09T21:12:40.889Z"
   },
   {
    "duration": 4,
    "start_time": "2022-04-09T21:13:30.656Z"
   },
   {
    "duration": 4,
    "start_time": "2022-04-09T21:13:45.432Z"
   },
   {
    "duration": 4,
    "start_time": "2022-04-09T21:20:21.839Z"
   },
   {
    "duration": 4,
    "start_time": "2022-04-09T21:20:40.912Z"
   },
   {
    "duration": 4,
    "start_time": "2022-04-09T21:29:19.319Z"
   },
   {
    "duration": 21,
    "start_time": "2022-04-09T21:31:31.900Z"
   },
   {
    "duration": 20,
    "start_time": "2022-04-09T21:33:29.812Z"
   },
   {
    "duration": 13,
    "start_time": "2022-04-09T21:34:23.192Z"
   },
   {
    "duration": 19,
    "start_time": "2022-04-09T21:35:45.047Z"
   },
   {
    "duration": 18,
    "start_time": "2022-04-09T21:36:17.204Z"
   },
   {
    "duration": 19,
    "start_time": "2022-04-09T21:36:32.913Z"
   },
   {
    "duration": 19,
    "start_time": "2022-04-09T21:36:41.970Z"
   },
   {
    "duration": 13,
    "start_time": "2022-04-09T21:37:08.957Z"
   },
   {
    "duration": 32,
    "start_time": "2022-04-09T21:47:54.978Z"
   },
   {
    "duration": 4,
    "start_time": "2022-04-09T21:48:23.451Z"
   },
   {
    "duration": 23,
    "start_time": "2022-04-09T21:48:26.095Z"
   },
   {
    "duration": 16,
    "start_time": "2022-04-09T21:48:31.351Z"
   },
   {
    "duration": 21,
    "start_time": "2022-04-09T21:48:34.400Z"
   },
   {
    "duration": 15,
    "start_time": "2022-04-09T21:48:38.577Z"
   },
   {
    "duration": 23,
    "start_time": "2022-04-09T21:49:42.007Z"
   },
   {
    "duration": 16,
    "start_time": "2022-04-09T21:50:15.624Z"
   },
   {
    "duration": 4,
    "start_time": "2022-04-09T21:50:25.199Z"
   },
   {
    "duration": 21,
    "start_time": "2022-04-09T21:50:28.343Z"
   },
   {
    "duration": 14,
    "start_time": "2022-04-09T21:50:30.851Z"
   },
   {
    "duration": 18,
    "start_time": "2022-04-09T21:50:37.970Z"
   },
   {
    "duration": 12,
    "start_time": "2022-04-09T21:50:46.375Z"
   },
   {
    "duration": 31,
    "start_time": "2022-04-09T21:51:09.323Z"
   },
   {
    "duration": 28,
    "start_time": "2022-04-09T21:54:07.705Z"
   },
   {
    "duration": 10,
    "start_time": "2022-04-09T21:55:16.623Z"
   },
   {
    "duration": 5,
    "start_time": "2022-04-09T21:55:43.739Z"
   },
   {
    "duration": 5,
    "start_time": "2022-04-09T21:55:49.562Z"
   },
   {
    "duration": 6,
    "start_time": "2022-04-09T21:56:41.323Z"
   },
   {
    "duration": 7,
    "start_time": "2022-04-09T21:56:54.131Z"
   },
   {
    "duration": 369,
    "start_time": "2022-04-18T13:55:18.764Z"
   },
   {
    "duration": 168,
    "start_time": "2022-04-18T13:55:19.135Z"
   },
   {
    "duration": 30,
    "start_time": "2022-04-18T13:55:19.304Z"
   },
   {
    "duration": 31,
    "start_time": "2022-04-18T13:55:19.336Z"
   },
   {
    "duration": 4,
    "start_time": "2022-04-18T13:55:19.369Z"
   },
   {
    "duration": 12,
    "start_time": "2022-04-18T13:55:19.375Z"
   },
   {
    "duration": 25,
    "start_time": "2022-04-18T13:55:19.389Z"
   },
   {
    "duration": 27,
    "start_time": "2022-04-18T13:55:19.417Z"
   },
   {
    "duration": 20,
    "start_time": "2022-04-18T13:55:19.446Z"
   },
   {
    "duration": 53,
    "start_time": "2022-04-18T13:55:19.468Z"
   },
   {
    "duration": 96,
    "start_time": "2022-04-18T13:55:19.524Z"
   },
   {
    "duration": 77,
    "start_time": "2022-04-18T13:55:19.622Z"
   },
   {
    "duration": 68,
    "start_time": "2022-04-18T13:55:19.708Z"
   },
   {
    "duration": 62,
    "start_time": "2022-04-18T13:55:19.778Z"
   },
   {
    "duration": 3,
    "start_time": "2022-04-18T13:55:19.842Z"
   },
   {
    "duration": 13,
    "start_time": "2022-04-18T13:55:19.847Z"
   },
   {
    "duration": 72,
    "start_time": "2022-04-18T13:55:19.862Z"
   },
   {
    "duration": 12,
    "start_time": "2022-04-18T13:55:19.935Z"
   },
   {
    "duration": 11,
    "start_time": "2022-04-18T13:55:19.948Z"
   },
   {
    "duration": 3,
    "start_time": "2022-04-18T13:55:19.961Z"
   },
   {
    "duration": 55,
    "start_time": "2022-04-18T13:55:19.966Z"
   },
   {
    "duration": 14,
    "start_time": "2022-04-18T13:55:20.024Z"
   },
   {
    "duration": 13,
    "start_time": "2022-04-18T13:55:20.039Z"
   },
   {
    "duration": 14,
    "start_time": "2022-04-18T13:55:20.054Z"
   },
   {
    "duration": 17,
    "start_time": "2022-04-18T13:55:20.070Z"
   },
   {
    "duration": 38,
    "start_time": "2022-04-18T13:55:20.089Z"
   },
   {
    "duration": 9,
    "start_time": "2022-04-18T13:55:20.129Z"
   },
   {
    "duration": 11,
    "start_time": "2022-04-18T13:55:20.143Z"
   },
   {
    "duration": 11,
    "start_time": "2022-04-18T13:55:20.155Z"
   },
   {
    "duration": 5,
    "start_time": "2022-04-18T13:55:20.167Z"
   },
   {
    "duration": 25,
    "start_time": "2022-04-18T13:55:20.208Z"
   },
   {
    "duration": 12,
    "start_time": "2022-04-18T13:55:20.235Z"
   },
   {
    "duration": 18,
    "start_time": "2022-04-18T13:55:20.249Z"
   },
   {
    "duration": 51,
    "start_time": "2022-04-18T13:55:20.269Z"
   },
   {
    "duration": 8,
    "start_time": "2022-04-18T13:55:20.322Z"
   },
   {
    "duration": 4,
    "start_time": "2022-04-18T13:55:20.332Z"
   },
   {
    "duration": 7,
    "start_time": "2022-04-18T13:55:20.338Z"
   },
   {
    "duration": 6,
    "start_time": "2022-04-18T13:55:20.346Z"
   },
   {
    "duration": 5,
    "start_time": "2022-04-18T13:57:59.183Z"
   },
   {
    "duration": 65,
    "start_time": "2022-04-18T13:58:09.565Z"
   }
  ],
  "colab": {
   "collapsed_sections": [
    "E0vqbgi9ay0H",
    "VUC88oWjTJw2"
   ],
   "name": "yandex_music_project.ipynb",
   "provenance": []
  },
  "kernelspec": {
   "display_name": "Python 3 (ipykernel)",
   "language": "python",
   "name": "python3"
  },
  "language_info": {
   "codemirror_mode": {
    "name": "ipython",
    "version": 3
   },
   "file_extension": ".py",
   "mimetype": "text/x-python",
   "name": "python",
   "nbconvert_exporter": "python",
   "pygments_lexer": "ipython3",
   "version": "3.9.12"
  },
  "toc": {
   "base_numbering": 1,
   "nav_menu": {},
   "number_sections": true,
   "sideBar": true,
   "skip_h1_title": true,
   "title_cell": "Table of Contents",
   "title_sidebar": "Contents",
   "toc_cell": false,
   "toc_position": {},
   "toc_section_display": true,
   "toc_window_display": false
  }
 },
 "nbformat": 4,
 "nbformat_minor": 1
}
